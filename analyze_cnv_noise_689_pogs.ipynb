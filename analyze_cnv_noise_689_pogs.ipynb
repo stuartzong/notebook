{
 "cells": [
  {
   "cell_type": "code",
   "execution_count": 2,
   "metadata": {
    "collapsed": true
   },
   "outputs": [],
   "source": [
    "import csv\n",
    "import matplotlib\n",
    "# import seaborn\n",
    "import seaborn as sns\n",
    "import numpy as np\n",
    "import matplotlib.pyplot as plt\n",
    "from scipy.stats import ttest_ind\n",
    "import scipy.stats as stats\n",
    "import scipy.stats as ss\n",
    "from matplotlib import style\n",
    "import matplotlib.gridspec as gridspec\n",
    "import matplotlib.patches as patches\n",
    "matplotlib.style.use('ggplot')\n",
    "%matplotlib inline\n",
    "matplotlib.rcParams['figure.figsize'] = (6, 4)\n",
    "import pandas as pd\n",
    "\n",
    "from sklearn.decomposition import RandomizedPCA, PCA, TruncatedSVD\n",
    "from sklearn.linear_model import LogisticRegression\n",
    "from sklearn.manifold import TSNE\n",
    "from sklearn.preprocessing import StandardScaler\n",
    "import seaborn\n",
    "\n",
    "with plt.style.context(\"seaborn-whitegrid\"):\n",
    "    plt.rcParams[\"axes.edgecolor\"] = \"0.15\"\n",
    "    plt.rcParams[\"axes.linewidth\"]  = 1.25\n"
   ]
  },
  {
   "cell_type": "markdown",
   "metadata": {},
   "source": [
    "clean up should consider:\n",
    "    1. seg length"
   ]
  },
  {
   "cell_type": "markdown",
   "metadata": {
    "collapsed": true
   },
   "source": [
    "# look for systematic cnv noise in 689 pog s"
   ]
  },
  {
   "cell_type": "code",
   "execution_count": 3,
   "metadata": {},
   "outputs": [
    {
     "data": {
      "text/html": [
       "<div>\n",
       "<style>\n",
       "    .dataframe thead tr:only-child th {\n",
       "        text-align: right;\n",
       "    }\n",
       "\n",
       "    .dataframe thead th {\n",
       "        text-align: left;\n",
       "    }\n",
       "\n",
       "    .dataframe tbody tr th {\n",
       "        vertical-align: top;\n",
       "    }\n",
       "</style>\n",
       "<table border=\"1\" class=\"dataframe\">\n",
       "  <thead>\n",
       "    <tr style=\"text-align: right;\">\n",
       "      <th></th>\n",
       "      <th>patient</th>\n",
       "      <th>seg_path</th>\n",
       "    </tr>\n",
       "  </thead>\n",
       "  <tbody>\n",
       "    <tr>\n",
       "      <th>0</th>\n",
       "      <td>POG001</td>\n",
       "      <td>/projects/POG/POG_data/POG001/wgs/biop1_t_A105...</td>\n",
       "    </tr>\n",
       "    <tr>\n",
       "      <th>1</th>\n",
       "      <td>POG002</td>\n",
       "      <td>/projects/POG/POG_data/POG002/wgs/biop1_t_A105...</td>\n",
       "    </tr>\n",
       "  </tbody>\n",
       "</table>\n",
       "</div>"
      ],
      "text/plain": [
       "  patient                                           seg_path\n",
       "0  POG001  /projects/POG/POG_data/POG001/wgs/biop1_t_A105...\n",
       "1  POG002  /projects/POG/POG_data/POG002/wgs/biop1_t_A105..."
      ]
     },
     "execution_count": 3,
     "metadata": {},
     "output_type": "execute_result"
    }
   ],
   "source": [
    "f1 = '//projects/trans_scratch/validations/workspace/szong/Cervical/cnv/pog_cnv/pog_ff_segs_files.txt'\n",
    "df1 = pd.read_csv(f1, sep='\\t', header=None, comment='#', encoding='utf-8')\n",
    "df1.columns = ['patient', 'seg_path']\n",
    "assert df1.shape[0] == 689\n",
    "df1.head(2)"
   ]
  },
  {
   "cell_type": "code",
   "execution_count": 6,
   "metadata": {},
   "outputs": [
    {
     "data": {
      "text/html": [
       "<div>\n",
       "<style>\n",
       "    .dataframe thead tr:only-child th {\n",
       "        text-align: right;\n",
       "    }\n",
       "\n",
       "    .dataframe thead th {\n",
       "        text-align: left;\n",
       "    }\n",
       "\n",
       "    .dataframe tbody tr th {\n",
       "        vertical-align: top;\n",
       "    }\n",
       "</style>\n",
       "<table border=\"1\" class=\"dataframe\">\n",
       "  <thead>\n",
       "    <tr style=\"text-align: right;\">\n",
       "      <th></th>\n",
       "      <th>POG ID</th>\n",
       "      <th>Type Code</th>\n",
       "      <th>Pt Type</th>\n",
       "      <th>Other study</th>\n",
       "    </tr>\n",
       "  </thead>\n",
       "  <tbody>\n",
       "    <tr>\n",
       "      <th>0</th>\n",
       "      <td>POG047</td>\n",
       "      <td>SAR</td>\n",
       "      <td>P001</td>\n",
       "      <td>NaN</td>\n",
       "    </tr>\n",
       "    <tr>\n",
       "      <th>1</th>\n",
       "      <td>POG062</td>\n",
       "      <td>NEU</td>\n",
       "      <td>P002</td>\n",
       "      <td>NaN</td>\n",
       "    </tr>\n",
       "    <tr>\n",
       "      <th>2</th>\n",
       "      <td>POG064</td>\n",
       "      <td>NEU</td>\n",
       "      <td>P003</td>\n",
       "      <td>NaN</td>\n",
       "    </tr>\n",
       "    <tr>\n",
       "      <th>3</th>\n",
       "      <td>POG066</td>\n",
       "      <td>NEU</td>\n",
       "      <td>P004</td>\n",
       "      <td>NaN</td>\n",
       "    </tr>\n",
       "    <tr>\n",
       "      <th>4</th>\n",
       "      <td>POG067</td>\n",
       "      <td>NEU</td>\n",
       "      <td>P005</td>\n",
       "      <td>NaN</td>\n",
       "    </tr>\n",
       "  </tbody>\n",
       "</table>\n",
       "</div>"
      ],
      "text/plain": [
       "   POG ID Type Code Pt Type Other study\n",
       "0  POG047       SAR    P001         NaN\n",
       "1  POG062       NEU    P002         NaN\n",
       "2  POG064       NEU    P003         NaN\n",
       "3  POG066       NEU    P004         NaN\n",
       "4  POG067       NEU    P005         NaN"
      ]
     },
     "execution_count": 6,
     "metadata": {},
     "output_type": "execute_result"
    }
   ],
   "source": [
    "f1_1 = '/projects/trans_scratch/validations/workspace/szong/Cervical/cnv/pog_cnv/20180430_Mungall_peds_list.xls'\n",
    "df1_1 = pd.read_excel(f1_1)\n",
    "df1_1.head()"
   ]
  },
  {
   "cell_type": "code",
   "execution_count": null,
   "metadata": {
    "collapsed": true
   },
   "outputs": [],
   "source": [
    "assert df1.shape[0] == 689"
   ]
  },
  {
   "cell_type": "code",
   "execution_count": 20,
   "metadata": {
    "collapsed": true
   },
   "outputs": [],
   "source": [
    "to_exlude = df1_1['POG ID'].tolist()"
   ]
  },
  {
   "cell_type": "code",
   "execution_count": 25,
   "metadata": {},
   "outputs": [],
   "source": [
    "patients= [i for i in df1.patient if i not in to_exlude]"
   ]
  },
  {
   "cell_type": "code",
   "execution_count": 37,
   "metadata": {},
   "outputs": [],
   "source": [
    "df1 = df1.set_index('patient').reindex(patients).reset_index()\n",
    "assert df1.shape[0] == 617"
   ]
  },
  {
   "cell_type": "code",
   "execution_count": 79,
   "metadata": {
    "collapsed": true
   },
   "outputs": [],
   "source": [
    "f1 = '/projects/trans_scratch/validations/workspace/szong/Cervical/cnv/pog_cnv/pog_ff_segs_files_ped_profyle_excluded.txt'\n",
    "\n",
    "df1.to_csv(f1, index=False, sep='\\t')"
   ]
  },
  {
   "cell_type": "code",
   "execution_count": 28,
   "metadata": {},
   "outputs": [],
   "source": []
  },
  {
   "cell_type": "code",
   "execution_count": 39,
   "metadata": {},
   "outputs": [],
   "source": [
    "df2 = pd.DataFrame()\n",
    "for idx, row in df1.iterrows():\n",
    "    pat = row['patient']\n",
    "    seg_file = row['seg_path']\n",
    "#     print(pat, seg_file)\n",
    "    # cnv_files, some rows have 10 columns instead of 9, problems from the APLcnv pipeline\n",
    "    cnv = pd.read_csv(seg_file, sep='\\t',  error_bad_lines=False, warn_bad_lines=True)\n",
    "    cnv.columns = ['chr', 'start', 'end', 'cn']\n",
    "    cnv = cnv[cnv.cn != 2]\n",
    "    cnv['patient'] = pat\n",
    "    if df2.empty:\n",
    "        df2 = cnv\n",
    "    else: df2 = pd.concat([df2,cnv])"
   ]
  },
  {
   "cell_type": "code",
   "execution_count": 40,
   "metadata": {},
   "outputs": [
    {
     "data": {
      "text/plain": [
       "(229246, 5)"
      ]
     },
     "execution_count": 40,
     "metadata": {},
     "output_type": "execute_result"
    }
   ],
   "source": [
    "df2.shape"
   ]
  },
  {
   "cell_type": "code",
   "execution_count": 45,
   "metadata": {},
   "outputs": [],
   "source": [
    "assert df2.patient.nunique() > 615 # some patient has no cnvs?"
   ]
  },
  {
   "cell_type": "code",
   "execution_count": 46,
   "metadata": {},
   "outputs": [
    {
     "data": {
      "text/html": [
       "<div>\n",
       "<style>\n",
       "    .dataframe thead tr:only-child th {\n",
       "        text-align: right;\n",
       "    }\n",
       "\n",
       "    .dataframe thead th {\n",
       "        text-align: left;\n",
       "    }\n",
       "\n",
       "    .dataframe tbody tr th {\n",
       "        vertical-align: top;\n",
       "    }\n",
       "</style>\n",
       "<table border=\"1\" class=\"dataframe\">\n",
       "  <thead>\n",
       "    <tr style=\"text-align: right;\">\n",
       "      <th></th>\n",
       "      <th>chr</th>\n",
       "      <th>start</th>\n",
       "      <th>end</th>\n",
       "      <th>cn</th>\n",
       "      <th>patient</th>\n",
       "    </tr>\n",
       "  </thead>\n",
       "  <tbody>\n",
       "    <tr>\n",
       "      <th>0</th>\n",
       "      <td>1</td>\n",
       "      <td>49952838</td>\n",
       "      <td>50394611</td>\n",
       "      <td>1</td>\n",
       "      <td>POG001</td>\n",
       "    </tr>\n",
       "    <tr>\n",
       "      <th>2</th>\n",
       "      <td>1</td>\n",
       "      <td>67376797</td>\n",
       "      <td>72476397</td>\n",
       "      <td>1</td>\n",
       "      <td>POG001</td>\n",
       "    </tr>\n",
       "  </tbody>\n",
       "</table>\n",
       "</div>"
      ],
      "text/plain": [
       "   chr     start       end  cn patient\n",
       "0    1  49952838  50394611   1  POG001\n",
       "2    1  67376797  72476397   1  POG001"
      ]
     },
     "execution_count": 46,
     "metadata": {},
     "output_type": "execute_result"
    }
   ],
   "source": [
    "df2.head(2)"
   ]
  },
  {
   "cell_type": "code",
   "execution_count": 48,
   "metadata": {
    "collapsed": true
   },
   "outputs": [],
   "source": [
    "df2['seg_length'] = (df2.end - df2.start)"
   ]
  },
  {
   "cell_type": "code",
   "execution_count": 49,
   "metadata": {},
   "outputs": [
    {
     "data": {
      "text/html": [
       "<div>\n",
       "<style>\n",
       "    .dataframe thead tr:only-child th {\n",
       "        text-align: right;\n",
       "    }\n",
       "\n",
       "    .dataframe thead th {\n",
       "        text-align: left;\n",
       "    }\n",
       "\n",
       "    .dataframe tbody tr th {\n",
       "        vertical-align: top;\n",
       "    }\n",
       "</style>\n",
       "<table border=\"1\" class=\"dataframe\">\n",
       "  <thead>\n",
       "    <tr style=\"text-align: right;\">\n",
       "      <th></th>\n",
       "      <th>chr</th>\n",
       "      <th>start</th>\n",
       "      <th>end</th>\n",
       "      <th>cn</th>\n",
       "      <th>patient</th>\n",
       "      <th>seg_length</th>\n",
       "    </tr>\n",
       "  </thead>\n",
       "  <tbody>\n",
       "    <tr>\n",
       "      <th>0</th>\n",
       "      <td>1</td>\n",
       "      <td>49952838</td>\n",
       "      <td>50394611</td>\n",
       "      <td>1</td>\n",
       "      <td>POG001</td>\n",
       "      <td>441773</td>\n",
       "    </tr>\n",
       "    <tr>\n",
       "      <th>2</th>\n",
       "      <td>1</td>\n",
       "      <td>67376797</td>\n",
       "      <td>72476397</td>\n",
       "      <td>1</td>\n",
       "      <td>POG001</td>\n",
       "      <td>5099600</td>\n",
       "    </tr>\n",
       "    <tr>\n",
       "      <th>4</th>\n",
       "      <td>1</td>\n",
       "      <td>72767677</td>\n",
       "      <td>72812036</td>\n",
       "      <td>1</td>\n",
       "      <td>POG001</td>\n",
       "      <td>44359</td>\n",
       "    </tr>\n",
       "    <tr>\n",
       "      <th>6</th>\n",
       "      <td>1</td>\n",
       "      <td>149049733</td>\n",
       "      <td>149221614</td>\n",
       "      <td>3</td>\n",
       "      <td>POG001</td>\n",
       "      <td>171881</td>\n",
       "    </tr>\n",
       "    <tr>\n",
       "      <th>8</th>\n",
       "      <td>2</td>\n",
       "      <td>10320</td>\n",
       "      <td>10684852</td>\n",
       "      <td>3</td>\n",
       "      <td>POG001</td>\n",
       "      <td>10674532</td>\n",
       "    </tr>\n",
       "  </tbody>\n",
       "</table>\n",
       "</div>"
      ],
      "text/plain": [
       "   chr      start        end  cn patient  seg_length\n",
       "0    1   49952838   50394611   1  POG001      441773\n",
       "2    1   67376797   72476397   1  POG001     5099600\n",
       "4    1   72767677   72812036   1  POG001       44359\n",
       "6    1  149049733  149221614   3  POG001      171881\n",
       "8    2      10320   10684852   3  POG001    10674532"
      ]
     },
     "execution_count": 49,
     "metadata": {},
     "output_type": "execute_result"
    }
   ],
   "source": [
    "df2.head()"
   ]
  },
  {
   "cell_type": "code",
   "execution_count": 80,
   "metadata": {
    "collapsed": true
   },
   "outputs": [],
   "source": [
    "f2 = '/projects/trans_scratch/validations/workspace/szong/Cervical/cnv/pog_cnv/segments_less_than_1mb.txt'\n",
    "\n",
    "df2.to_csv(f2, index=False, sep='\\t')"
   ]
  },
  {
   "cell_type": "code",
   "execution_count": 68,
   "metadata": {
    "collapsed": true
   },
   "outputs": [],
   "source": [
    "# focus on focal events here, ~75% cnv , 1Mb\n",
    "df2 = df2[df2.seg_length <1e6]"
   ]
  },
  {
   "cell_type": "code",
   "execution_count": 85,
   "metadata": {},
   "outputs": [
    {
     "data": {
      "text/html": [
       "<div>\n",
       "<style>\n",
       "    .dataframe thead tr:only-child th {\n",
       "        text-align: right;\n",
       "    }\n",
       "\n",
       "    .dataframe thead th {\n",
       "        text-align: left;\n",
       "    }\n",
       "\n",
       "    .dataframe tbody tr th {\n",
       "        vertical-align: top;\n",
       "    }\n",
       "</style>\n",
       "<table border=\"1\" class=\"dataframe\">\n",
       "  <thead>\n",
       "    <tr style=\"text-align: right;\">\n",
       "      <th></th>\n",
       "      <th>chr</th>\n",
       "      <th>start</th>\n",
       "      <th>end</th>\n",
       "      <th>cn</th>\n",
       "      <th>patient</th>\n",
       "      <th>seg_length</th>\n",
       "    </tr>\n",
       "  </thead>\n",
       "  <tbody>\n",
       "    <tr>\n",
       "      <th>123</th>\n",
       "      <td>6</td>\n",
       "      <td>58776509</td>\n",
       "      <td>58778301</td>\n",
       "      <td>3</td>\n",
       "      <td>POG001</td>\n",
       "      <td>1792</td>\n",
       "    </tr>\n",
       "    <tr>\n",
       "      <th>125</th>\n",
       "      <td>6</td>\n",
       "      <td>58778410</td>\n",
       "      <td>58779120</td>\n",
       "      <td>3</td>\n",
       "      <td>POG001</td>\n",
       "      <td>710</td>\n",
       "    </tr>\n",
       "    <tr>\n",
       "      <th>2</th>\n",
       "      <td>1</td>\n",
       "      <td>569090</td>\n",
       "      <td>569590</td>\n",
       "      <td>5</td>\n",
       "      <td>POG002</td>\n",
       "      <td>500</td>\n",
       "    </tr>\n",
       "    <tr>\n",
       "      <th>18</th>\n",
       "      <td>1</td>\n",
       "      <td>121483972</td>\n",
       "      <td>121484353</td>\n",
       "      <td>1</td>\n",
       "      <td>POG002</td>\n",
       "      <td>381</td>\n",
       "    </tr>\n",
       "    <tr>\n",
       "      <th>19</th>\n",
       "      <td>1</td>\n",
       "      <td>121484355</td>\n",
       "      <td>121485410</td>\n",
       "      <td>5</td>\n",
       "      <td>POG002</td>\n",
       "      <td>1055</td>\n",
       "    </tr>\n",
       "    <tr>\n",
       "      <th>155</th>\n",
       "      <td>2</td>\n",
       "      <td>92309809</td>\n",
       "      <td>92312730</td>\n",
       "      <td>0</td>\n",
       "      <td>POG002</td>\n",
       "      <td>2921</td>\n",
       "    </tr>\n",
       "    <tr>\n",
       "      <th>157</th>\n",
       "      <td>2</td>\n",
       "      <td>92313157</td>\n",
       "      <td>92315817</td>\n",
       "      <td>0</td>\n",
       "      <td>POG002</td>\n",
       "      <td>2660</td>\n",
       "    </tr>\n",
       "    <tr>\n",
       "      <th>158</th>\n",
       "      <td>2</td>\n",
       "      <td>92315818</td>\n",
       "      <td>92317772</td>\n",
       "      <td>1</td>\n",
       "      <td>POG002</td>\n",
       "      <td>1954</td>\n",
       "    </tr>\n",
       "    <tr>\n",
       "      <th>159</th>\n",
       "      <td>2</td>\n",
       "      <td>92317773</td>\n",
       "      <td>92317792</td>\n",
       "      <td>5</td>\n",
       "      <td>POG002</td>\n",
       "      <td>19</td>\n",
       "    </tr>\n",
       "    <tr>\n",
       "      <th>476</th>\n",
       "      <td>4</td>\n",
       "      <td>49108745</td>\n",
       "      <td>49111154</td>\n",
       "      <td>0</td>\n",
       "      <td>POG002</td>\n",
       "      <td>2409</td>\n",
       "    </tr>\n",
       "    <tr>\n",
       "      <th>478</th>\n",
       "      <td>4</td>\n",
       "      <td>49121183</td>\n",
       "      <td>49122600</td>\n",
       "      <td>0</td>\n",
       "      <td>POG002</td>\n",
       "      <td>1417</td>\n",
       "    </tr>\n",
       "    <tr>\n",
       "      <th>501</th>\n",
       "      <td>4</td>\n",
       "      <td>68264143</td>\n",
       "      <td>68267115</td>\n",
       "      <td>1</td>\n",
       "      <td>POG002</td>\n",
       "      <td>2972</td>\n",
       "    </tr>\n",
       "    <tr>\n",
       "      <th>515</th>\n",
       "      <td>5</td>\n",
       "      <td>9995</td>\n",
       "      <td>11778</td>\n",
       "      <td>0</td>\n",
       "      <td>POG002</td>\n",
       "      <td>1783</td>\n",
       "    </tr>\n",
       "    <tr>\n",
       "      <th>559</th>\n",
       "      <td>5</td>\n",
       "      <td>49439352</td>\n",
       "      <td>49440631</td>\n",
       "      <td>1</td>\n",
       "      <td>POG002</td>\n",
       "      <td>1279</td>\n",
       "    </tr>\n",
       "    <tr>\n",
       "      <th>897</th>\n",
       "      <td>6</td>\n",
       "      <td>58779456</td>\n",
       "      <td>58779675</td>\n",
       "      <td>0</td>\n",
       "      <td>POG002</td>\n",
       "      <td>219</td>\n",
       "    </tr>\n",
       "    <tr>\n",
       "      <th>982</th>\n",
       "      <td>7</td>\n",
       "      <td>61968386</td>\n",
       "      <td>61970147</td>\n",
       "      <td>0</td>\n",
       "      <td>POG002</td>\n",
       "      <td>1761</td>\n",
       "    </tr>\n",
       "    <tr>\n",
       "      <th>983</th>\n",
       "      <td>7</td>\n",
       "      <td>61970148</td>\n",
       "      <td>61970533</td>\n",
       "      <td>1</td>\n",
       "      <td>POG002</td>\n",
       "      <td>385</td>\n",
       "    </tr>\n",
       "    <tr>\n",
       "      <th>1047</th>\n",
       "      <td>8</td>\n",
       "      <td>43826674</td>\n",
       "      <td>43827829</td>\n",
       "      <td>1</td>\n",
       "      <td>POG002</td>\n",
       "      <td>1155</td>\n",
       "    </tr>\n",
       "    <tr>\n",
       "      <th>1274</th>\n",
       "      <td>10</td>\n",
       "      <td>42400458</td>\n",
       "      <td>42400502</td>\n",
       "      <td>5</td>\n",
       "      <td>POG002</td>\n",
       "      <td>44</td>\n",
       "    </tr>\n",
       "    <tr>\n",
       "      <th>1276</th>\n",
       "      <td>10</td>\n",
       "      <td>42527441</td>\n",
       "      <td>42529161</td>\n",
       "      <td>0</td>\n",
       "      <td>POG002</td>\n",
       "      <td>1720</td>\n",
       "    </tr>\n",
       "    <tr>\n",
       "      <th>1277</th>\n",
       "      <td>10</td>\n",
       "      <td>42529162</td>\n",
       "      <td>42529594</td>\n",
       "      <td>1</td>\n",
       "      <td>POG002</td>\n",
       "      <td>432</td>\n",
       "    </tr>\n",
       "    <tr>\n",
       "      <th>1278</th>\n",
       "      <td>10</td>\n",
       "      <td>42529595</td>\n",
       "      <td>42529958</td>\n",
       "      <td>0</td>\n",
       "      <td>POG002</td>\n",
       "      <td>363</td>\n",
       "    </tr>\n",
       "    <tr>\n",
       "      <th>1712</th>\n",
       "      <td>16</td>\n",
       "      <td>33970613</td>\n",
       "      <td>33973222</td>\n",
       "      <td>1</td>\n",
       "      <td>POG002</td>\n",
       "      <td>2609</td>\n",
       "    </tr>\n",
       "    <tr>\n",
       "      <th>1713</th>\n",
       "      <td>16</td>\n",
       "      <td>33973223</td>\n",
       "      <td>33975789</td>\n",
       "      <td>0</td>\n",
       "      <td>POG002</td>\n",
       "      <td>2566</td>\n",
       "    </tr>\n",
       "    <tr>\n",
       "      <th>1723</th>\n",
       "      <td>16</td>\n",
       "      <td>46387597</td>\n",
       "      <td>46388133</td>\n",
       "      <td>0</td>\n",
       "      <td>POG002</td>\n",
       "      <td>536</td>\n",
       "    </tr>\n",
       "    <tr>\n",
       "      <th>1724</th>\n",
       "      <td>16</td>\n",
       "      <td>46388134</td>\n",
       "      <td>46389628</td>\n",
       "      <td>1</td>\n",
       "      <td>POG002</td>\n",
       "      <td>1494</td>\n",
       "    </tr>\n",
       "    <tr>\n",
       "      <th>1725</th>\n",
       "      <td>16</td>\n",
       "      <td>46389629</td>\n",
       "      <td>46390498</td>\n",
       "      <td>0</td>\n",
       "      <td>POG002</td>\n",
       "      <td>869</td>\n",
       "    </tr>\n",
       "    <tr>\n",
       "      <th>1726</th>\n",
       "      <td>16</td>\n",
       "      <td>46390499</td>\n",
       "      <td>46392076</td>\n",
       "      <td>1</td>\n",
       "      <td>POG002</td>\n",
       "      <td>1577</td>\n",
       "    </tr>\n",
       "    <tr>\n",
       "      <th>1727</th>\n",
       "      <td>16</td>\n",
       "      <td>46392079</td>\n",
       "      <td>46392173</td>\n",
       "      <td>5</td>\n",
       "      <td>POG002</td>\n",
       "      <td>94</td>\n",
       "    </tr>\n",
       "    <tr>\n",
       "      <th>1728</th>\n",
       "      <td>16</td>\n",
       "      <td>46392192</td>\n",
       "      <td>46393953</td>\n",
       "      <td>0</td>\n",
       "      <td>POG002</td>\n",
       "      <td>1761</td>\n",
       "    </tr>\n",
       "    <tr>\n",
       "      <th>...</th>\n",
       "      <td>...</td>\n",
       "      <td>...</td>\n",
       "      <td>...</td>\n",
       "      <td>...</td>\n",
       "      <td>...</td>\n",
       "      <td>...</td>\n",
       "    </tr>\n",
       "    <tr>\n",
       "      <th>366</th>\n",
       "      <td>16</td>\n",
       "      <td>46425647</td>\n",
       "      <td>46428043</td>\n",
       "      <td>5</td>\n",
       "      <td>POG974</td>\n",
       "      <td>2396</td>\n",
       "    </tr>\n",
       "    <tr>\n",
       "      <th>240</th>\n",
       "      <td>4</td>\n",
       "      <td>68264213</td>\n",
       "      <td>68266710</td>\n",
       "      <td>3</td>\n",
       "      <td>POG975</td>\n",
       "      <td>2497</td>\n",
       "    </tr>\n",
       "    <tr>\n",
       "      <th>834</th>\n",
       "      <td>17</td>\n",
       "      <td>41399840</td>\n",
       "      <td>41401093</td>\n",
       "      <td>3</td>\n",
       "      <td>POG975</td>\n",
       "      <td>1253</td>\n",
       "    </tr>\n",
       "    <tr>\n",
       "      <th>882</th>\n",
       "      <td>19</td>\n",
       "      <td>27731894</td>\n",
       "      <td>27732061</td>\n",
       "      <td>1</td>\n",
       "      <td>POG975</td>\n",
       "      <td>167</td>\n",
       "    </tr>\n",
       "    <tr>\n",
       "      <th>22</th>\n",
       "      <td>1</td>\n",
       "      <td>121484371</td>\n",
       "      <td>121485036</td>\n",
       "      <td>5</td>\n",
       "      <td>POG977</td>\n",
       "      <td>665</td>\n",
       "    </tr>\n",
       "    <tr>\n",
       "      <th>130</th>\n",
       "      <td>6</td>\n",
       "      <td>58774919</td>\n",
       "      <td>58776734</td>\n",
       "      <td>4</td>\n",
       "      <td>POG977</td>\n",
       "      <td>1815</td>\n",
       "    </tr>\n",
       "    <tr>\n",
       "      <th>131</th>\n",
       "      <td>6</td>\n",
       "      <td>58776736</td>\n",
       "      <td>58779248</td>\n",
       "      <td>5</td>\n",
       "      <td>POG977</td>\n",
       "      <td>2512</td>\n",
       "    </tr>\n",
       "    <tr>\n",
       "      <th>142</th>\n",
       "      <td>7</td>\n",
       "      <td>61968792</td>\n",
       "      <td>61969478</td>\n",
       "      <td>5</td>\n",
       "      <td>POG977</td>\n",
       "      <td>686</td>\n",
       "    </tr>\n",
       "    <tr>\n",
       "      <th>250</th>\n",
       "      <td>7</td>\n",
       "      <td>61968803</td>\n",
       "      <td>61969378</td>\n",
       "      <td>4</td>\n",
       "      <td>POG980</td>\n",
       "      <td>575</td>\n",
       "    </tr>\n",
       "    <tr>\n",
       "      <th>251</th>\n",
       "      <td>7</td>\n",
       "      <td>61969380</td>\n",
       "      <td>61969502</td>\n",
       "      <td>5</td>\n",
       "      <td>POG980</td>\n",
       "      <td>122</td>\n",
       "    </tr>\n",
       "    <tr>\n",
       "      <th>395</th>\n",
       "      <td>6</td>\n",
       "      <td>58776463</td>\n",
       "      <td>58779242</td>\n",
       "      <td>3</td>\n",
       "      <td>POG981</td>\n",
       "      <td>2779</td>\n",
       "    </tr>\n",
       "    <tr>\n",
       "      <th>651</th>\n",
       "      <td>16</td>\n",
       "      <td>46391885</td>\n",
       "      <td>46391995</td>\n",
       "      <td>3</td>\n",
       "      <td>POG981</td>\n",
       "      <td>110</td>\n",
       "    </tr>\n",
       "    <tr>\n",
       "      <th>766</th>\n",
       "      <td>19</td>\n",
       "      <td>27738384</td>\n",
       "      <td>27738807</td>\n",
       "      <td>1</td>\n",
       "      <td>POG981</td>\n",
       "      <td>423</td>\n",
       "    </tr>\n",
       "    <tr>\n",
       "      <th>230</th>\n",
       "      <td>6</td>\n",
       "      <td>58776453</td>\n",
       "      <td>58779396</td>\n",
       "      <td>4</td>\n",
       "      <td>POG986</td>\n",
       "      <td>2943</td>\n",
       "    </tr>\n",
       "    <tr>\n",
       "      <th>68</th>\n",
       "      <td>1</td>\n",
       "      <td>121484356</td>\n",
       "      <td>121485303</td>\n",
       "      <td>4</td>\n",
       "      <td>POG991</td>\n",
       "      <td>947</td>\n",
       "    </tr>\n",
       "    <tr>\n",
       "      <th>27</th>\n",
       "      <td>6</td>\n",
       "      <td>58776686</td>\n",
       "      <td>58779166</td>\n",
       "      <td>3</td>\n",
       "      <td>POG992</td>\n",
       "      <td>2480</td>\n",
       "    </tr>\n",
       "    <tr>\n",
       "      <th>179</th>\n",
       "      <td>6</td>\n",
       "      <td>58776746</td>\n",
       "      <td>58779217</td>\n",
       "      <td>4</td>\n",
       "      <td>POG993</td>\n",
       "      <td>2471</td>\n",
       "    </tr>\n",
       "    <tr>\n",
       "      <th>208</th>\n",
       "      <td>7</td>\n",
       "      <td>61968597</td>\n",
       "      <td>61970364</td>\n",
       "      <td>1</td>\n",
       "      <td>POG993</td>\n",
       "      <td>1767</td>\n",
       "    </tr>\n",
       "    <tr>\n",
       "      <th>21</th>\n",
       "      <td>1</td>\n",
       "      <td>121482998</td>\n",
       "      <td>121484055</td>\n",
       "      <td>4</td>\n",
       "      <td>POG996</td>\n",
       "      <td>1057</td>\n",
       "    </tr>\n",
       "    <tr>\n",
       "      <th>247</th>\n",
       "      <td>6</td>\n",
       "      <td>58776822</td>\n",
       "      <td>58779232</td>\n",
       "      <td>4</td>\n",
       "      <td>POG996</td>\n",
       "      <td>2410</td>\n",
       "    </tr>\n",
       "    <tr>\n",
       "      <th>480</th>\n",
       "      <td>11</td>\n",
       "      <td>51578984</td>\n",
       "      <td>51580607</td>\n",
       "      <td>1</td>\n",
       "      <td>POG996</td>\n",
       "      <td>1623</td>\n",
       "    </tr>\n",
       "    <tr>\n",
       "      <th>599</th>\n",
       "      <td>16</td>\n",
       "      <td>33973504</td>\n",
       "      <td>33975790</td>\n",
       "      <td>1</td>\n",
       "      <td>POG996</td>\n",
       "      <td>2286</td>\n",
       "    </tr>\n",
       "    <tr>\n",
       "      <th>12</th>\n",
       "      <td>1</td>\n",
       "      <td>121484345</td>\n",
       "      <td>121484957</td>\n",
       "      <td>4</td>\n",
       "      <td>POG998</td>\n",
       "      <td>612</td>\n",
       "    </tr>\n",
       "    <tr>\n",
       "      <th>138</th>\n",
       "      <td>6</td>\n",
       "      <td>58776446</td>\n",
       "      <td>58776740</td>\n",
       "      <td>3</td>\n",
       "      <td>POG998</td>\n",
       "      <td>294</td>\n",
       "    </tr>\n",
       "    <tr>\n",
       "      <th>139</th>\n",
       "      <td>6</td>\n",
       "      <td>58776744</td>\n",
       "      <td>58779243</td>\n",
       "      <td>4</td>\n",
       "      <td>POG998</td>\n",
       "      <td>2499</td>\n",
       "    </tr>\n",
       "    <tr>\n",
       "      <th>184</th>\n",
       "      <td>7</td>\n",
       "      <td>61969521</td>\n",
       "      <td>61970315</td>\n",
       "      <td>1</td>\n",
       "      <td>POG998</td>\n",
       "      <td>794</td>\n",
       "    </tr>\n",
       "    <tr>\n",
       "      <th>11</th>\n",
       "      <td>2</td>\n",
       "      <td>92305325</td>\n",
       "      <td>92306777</td>\n",
       "      <td>1</td>\n",
       "      <td>POG999</td>\n",
       "      <td>1452</td>\n",
       "    </tr>\n",
       "    <tr>\n",
       "      <th>57</th>\n",
       "      <td>6</td>\n",
       "      <td>58776755</td>\n",
       "      <td>58779238</td>\n",
       "      <td>3</td>\n",
       "      <td>POG999</td>\n",
       "      <td>2483</td>\n",
       "    </tr>\n",
       "    <tr>\n",
       "      <th>232</th>\n",
       "      <td>17</td>\n",
       "      <td>41381440</td>\n",
       "      <td>41382386</td>\n",
       "      <td>0</td>\n",
       "      <td>POG999</td>\n",
       "      <td>946</td>\n",
       "    </tr>\n",
       "    <tr>\n",
       "      <th>234</th>\n",
       "      <td>17</td>\n",
       "      <td>41399173</td>\n",
       "      <td>41401104</td>\n",
       "      <td>0</td>\n",
       "      <td>POG999</td>\n",
       "      <td>1931</td>\n",
       "    </tr>\n",
       "  </tbody>\n",
       "</table>\n",
       "<p>5955 rows × 6 columns</p>\n",
       "</div>"
      ],
      "text/plain": [
       "      chr      start        end  cn patient  seg_length\n",
       "123     6   58776509   58778301   3  POG001        1792\n",
       "125     6   58778410   58779120   3  POG001         710\n",
       "2       1     569090     569590   5  POG002         500\n",
       "18      1  121483972  121484353   1  POG002         381\n",
       "19      1  121484355  121485410   5  POG002        1055\n",
       "155     2   92309809   92312730   0  POG002        2921\n",
       "157     2   92313157   92315817   0  POG002        2660\n",
       "158     2   92315818   92317772   1  POG002        1954\n",
       "159     2   92317773   92317792   5  POG002          19\n",
       "476     4   49108745   49111154   0  POG002        2409\n",
       "478     4   49121183   49122600   0  POG002        1417\n",
       "501     4   68264143   68267115   1  POG002        2972\n",
       "515     5       9995      11778   0  POG002        1783\n",
       "559     5   49439352   49440631   1  POG002        1279\n",
       "897     6   58779456   58779675   0  POG002         219\n",
       "982     7   61968386   61970147   0  POG002        1761\n",
       "983     7   61970148   61970533   1  POG002         385\n",
       "1047    8   43826674   43827829   1  POG002        1155\n",
       "1274   10   42400458   42400502   5  POG002          44\n",
       "1276   10   42527441   42529161   0  POG002        1720\n",
       "1277   10   42529162   42529594   1  POG002         432\n",
       "1278   10   42529595   42529958   0  POG002         363\n",
       "1712   16   33970613   33973222   1  POG002        2609\n",
       "1713   16   33973223   33975789   0  POG002        2566\n",
       "1723   16   46387597   46388133   0  POG002         536\n",
       "1724   16   46388134   46389628   1  POG002        1494\n",
       "1725   16   46389629   46390498   0  POG002         869\n",
       "1726   16   46390499   46392076   1  POG002        1577\n",
       "1727   16   46392079   46392173   5  POG002          94\n",
       "1728   16   46392192   46393953   0  POG002        1761\n",
       "...   ...        ...        ...  ..     ...         ...\n",
       "366    16   46425647   46428043   5  POG974        2396\n",
       "240     4   68264213   68266710   3  POG975        2497\n",
       "834    17   41399840   41401093   3  POG975        1253\n",
       "882    19   27731894   27732061   1  POG975         167\n",
       "22      1  121484371  121485036   5  POG977         665\n",
       "130     6   58774919   58776734   4  POG977        1815\n",
       "131     6   58776736   58779248   5  POG977        2512\n",
       "142     7   61968792   61969478   5  POG977         686\n",
       "250     7   61968803   61969378   4  POG980         575\n",
       "251     7   61969380   61969502   5  POG980         122\n",
       "395     6   58776463   58779242   3  POG981        2779\n",
       "651    16   46391885   46391995   3  POG981         110\n",
       "766    19   27738384   27738807   1  POG981         423\n",
       "230     6   58776453   58779396   4  POG986        2943\n",
       "68      1  121484356  121485303   4  POG991         947\n",
       "27      6   58776686   58779166   3  POG992        2480\n",
       "179     6   58776746   58779217   4  POG993        2471\n",
       "208     7   61968597   61970364   1  POG993        1767\n",
       "21      1  121482998  121484055   4  POG996        1057\n",
       "247     6   58776822   58779232   4  POG996        2410\n",
       "480    11   51578984   51580607   1  POG996        1623\n",
       "599    16   33973504   33975790   1  POG996        2286\n",
       "12      1  121484345  121484957   4  POG998         612\n",
       "138     6   58776446   58776740   3  POG998         294\n",
       "139     6   58776744   58779243   4  POG998        2499\n",
       "184     7   61969521   61970315   1  POG998         794\n",
       "11      2   92305325   92306777   1  POG999        1452\n",
       "57      6   58776755   58779238   3  POG999        2483\n",
       "232    17   41381440   41382386   0  POG999         946\n",
       "234    17   41399173   41401104   0  POG999        1931\n",
       "\n",
       "[5955 rows x 6 columns]"
      ]
     },
     "execution_count": 85,
     "metadata": {},
     "output_type": "execute_result"
    }
   ],
   "source": [
    "# df2[df2.seg_length<3000]"
   ]
  },
  {
   "cell_type": "code",
   "execution_count": 69,
   "metadata": {},
   "outputs": [
    {
     "name": "stderr",
     "output_type": "stream",
     "text": [
      "/home/szong/anaconda3/lib/python3.6/site-packages/matplotlib/font_manager.py:1297: UserWarning: findfont: Font family ['sans-serif'] not found. Falling back to DejaVu Sans\n",
      "  (prop.get_family(), self.defaultFamily[fontext]))\n"
     ]
    },
    {
     "data": {
      "image/png": "[encoded data removed]",
      "text/plain": [
       "<matplotlib.figure.Figure at 0x7f3484d32470>"
      ]
     },
     "metadata": {},
     "output_type": "display_data"
    }
   ],
   "source": [
    "# amps segment length distribution\n",
    "with plt.style.context(\"seaborn-whitegrid\"):\n",
    "    plt.rcParams[\"axes.edgecolor\"] = \"0.15\"\n",
    "    plt.rcParams[\"axes.linewidth\"]  = 1.25\n",
    "    fig = plt.figure(facecolor='w')\n",
    "    sns.distplot(df2.seg_length, kde=False)\n",
    "    plt.xlabel('seg length kb')\n",
    "    plt.ylabel('number of seg length')\n",
    "#     plt.xlim(0, 5000)\n",
    "# of = '/projects/trans_scratch/validations/workspace/szong/Cervical/cnv/pog_cnv/segs_distribution.png'\n",
    "# plt.savefig(of, dpi=500)"
   ]
  },
  {
   "cell_type": "code",
   "execution_count": 70,
   "metadata": {},
   "outputs": [
    {
     "name": "stderr",
     "output_type": "stream",
     "text": [
      "/home/szong/anaconda3/lib/python3.6/site-packages/matplotlib/font_manager.py:1297: UserWarning: findfont: Font family ['sans-serif'] not found. Falling back to DejaVu Sans\n",
      "  (prop.get_family(), self.defaultFamily[fontext]))\n"
     ]
    },
    {
     "data": {
      "image/png": "[encoded data removed]",
      "text/plain": [
       "<matplotlib.figure.Figure at 0x7f3484eb8be0>"
      ]
     },
     "metadata": {},
     "output_type": "display_data"
    }
   ],
   "source": [
    "# segments per patient\n",
    "segments = df2.groupby('patient').count().sort_values('cn', ascending=False)['cn']\n",
    "\n",
    "# distribution of number of segments\n",
    "with plt.style.context(\"seaborn-whitegrid\"):\n",
    "    plt.rcParams[\"axes.edgecolor\"] = \"0.15\"\n",
    "    plt.rcParams[\"axes.linewidth\"]  = 1.25\n",
    "    fig = plt.figure(facecolor='w')\n",
    "    sns.distplot(segments, kde=False)\n",
    "    plt.xlabel('number of non_diploid segments')\n",
    "    plt.ylabel('number of patients')\n",
    "of = '/projects/trans_scratch/validations/workspace/szong/Cervical/cnv/pog_cnv/segs_distribution.png'\n",
    "# plt.savefig(of, dpi=500)"
   ]
  },
  {
   "cell_type": "code",
   "execution_count": 71,
   "metadata": {
    "collapsed": true
   },
   "outputs": [],
   "source": [
    "of = '/projects/trans_scratch/validations/workspace/szong/Cervical/cnv/pog_cnv/amps.txt'\n",
    "of2 = '/projects/trans_scratch/validations/workspace/szong/Cervical/cnv/pog_cnv/dels.txt'\n",
    "df2[df2.cn >2].to_csv(of, index=False, header=None, sep='\\t')\n",
    "df2[df2.cn <2].to_csv(of2, index=False, header=None, sep='\\t')"
   ]
  },
  {
   "cell_type": "code",
   "execution_count": 72,
   "metadata": {
    "collapsed": true
   },
   "outputs": [],
   "source": [
    "patients = df2.patient.value_counts().index.tolist()"
   ]
  },
  {
   "cell_type": "code",
   "execution_count": 73,
   "metadata": {},
   "outputs": [
    {
     "data": {
      "text/plain": [
       "616"
      ]
     },
     "execution_count": 73,
     "metadata": {},
     "output_type": "execute_result"
    }
   ],
   "source": [
    "len(patients)"
   ]
  },
  {
   "cell_type": "markdown",
   "metadata": {},
   "source": [
    "find systematic cnv noise"
   ]
  },
  {
   "cell_type": "markdown",
   "metadata": {},
   "source": [
    "generate regions to review for all patients:\n",
    "\n",
    " while read a b;do /home/rcorbett/aligners/bedtools/BEDTools-Version-2.15.0/bin/bedtools intersect -a $b  -b amps_noise_to_review.txt -wa -wb|awk '$4>2'|awk '{print $1\"\\t\"$2\"\\t\"$3\"\\t\"$4\"\\t\"$5\"\\t\"$6\"\\t\"$7\"\\t\"$8\"\\t\"$9\"\\t\"($3-$2)/1000}'|sort -k10nr>$a.amp.to.review;done < segs_file.tmp \n",
    " \n",
    " while read a b;do /home/rcorbett/aligners/bedtools/BEDTools-Version-2.15.0/bin/bedtools intersect -a $b  -b dels_noise_to_review.txt -wa -wb|awk '$4<2'|awk '{print $1\"\\t\"$2\"\\t\"$3\"\\t\"$4\"\\t\"$5\"\\t\"$6\"\\t\"$7\"\\t\"$8\"\\t\"$9\"\\t\"($3-$2)/1000}'|sort -k10nr>$a.del.to.review;done < segs_file.tmp \n",
    " \n",
    " use this command to see window size of a region:\n",
    " \n",
    " grep -w -C 50 38306472 \n",
    "/projects/somatic/NCI_SAIC_HIV_Cervical/HTMCP-03-06-02213/hg19a/GSH/A54387_A54514/cnv/tc_60/18647/w200/w200_cna.txt\n"
   ]
  },
  {
   "cell_type": "markdown",
   "metadata": {},
   "source": [
    "bin cnv into 1kb bins\n",
    "\n",
    "sort -k1n -k2n -k3n amps.txt > amps.txt.sorted \n",
    "\n",
    "/home/rcorbett/aligners/bedtools/BEDTools-Version-2.15.0/bin/bedtools intersect -a ../bin_segs/chr_bins.txt -b amps.txt.sorted -wa -wb > amps_bins_1kb.txt\n",
    "\n",
    "sort -k1n -k2n -k3n dels.txt > dels.txt.sorted\n",
    "\n",
    "/home/rcorbett/aligners/bedtools/BEDTools-Version-2.15.0/bin/bedtools intersect -a ../bin_segs/chr_bins.txt -b dels.txt.sorted -wa -wb > dels_bins_1kb.txt\n"
   ]
  },
  {
   "cell_type": "markdown",
   "metadata": {},
   "source": [
    "figure out how many patients having deletions in each bin\n",
    "\n",
    "/home/rcorbett/aligners/bedtools/BEDTools-Version-2.15.0/bin/bedtools intersect -a chr_bins.txt -b dels.txt.sorted -wa -wb > dels_bins_1kb.txt"
   ]
  },
  {
   "cell_type": "code",
   "execution_count": 74,
   "metadata": {
    "collapsed": true
   },
   "outputs": [],
   "source": [
    "f = '/projects/trans_scratch/validations/workspace/szong/Cervical/cnv/pog_cnv/dels_bins_1kb.txt'\n",
    "df = pd.read_csv(f, sep='\\t', header=None)\n",
    "df.columns = ['bin_chr', 'bin_start', 'bin_end', 'chr', 'start', 'end', 'cn', 'patient', 'length']\n",
    "df = df[['bin_chr', 'bin_start', 'bin_end','patient']]\n",
    "occurrence = df.groupby(['bin_chr', 'bin_start', 'bin_end']).nunique()['patient']#.sort_values(ascending=False)\n",
    "recur_dels = occurrence.reset_index().sort_values(['bin_chr', 'bin_start', 'bin_end'])\n",
    "f = '/projects/trans_scratch/validations/workspace/szong/Cervical/cnv/pog_cnv/dels_bins_1kb_patients.txt'\n",
    "recur_dels.to_csv(f, index=False, sep='\\t')\n",
    "# recur_dels = pd.read_csv(f, sep='\\t')"
   ]
  },
  {
   "cell_type": "code",
   "execution_count": 76,
   "metadata": {},
   "outputs": [],
   "source": [
    "f = '/projects/trans_scratch/validations/workspace/szong/Cervical/cnv/pog_cnv/amps_bins_1kb.txt'\n",
    "df = pd.read_csv(f, sep='\\t', header=None)\n",
    "df.columns = ['bin_chr', 'bin_start', 'bin_end', 'chr', 'start', 'end', 'cn', 'patient', 'length']\n",
    "df.head(2)\n",
    "\n",
    "occurrence = df.groupby(['bin_chr', 'bin_start', 'bin_end']).nunique()['patient']#.sort_values(ascending=False)\n",
    "\n",
    "occurrence.head()\n",
    "\n",
    "type(occurrence.reset_index())\n",
    "\n",
    "recur_amps = occurrence.reset_index().sort_values(['bin_chr', 'bin_start', 'bin_end'])\n",
    "\n",
    "recur_amps.head()\n",
    "\n",
    "f = '/projects/trans_scratch/validations/workspace/szong/Cervical/cnv/pog_cnv/amps_bins_1kb_patients.txt'\n",
    "recur_amps.to_csv(f, index=False, sep='\\t')"
   ]
  },
  {
   "cell_type": "code",
   "execution_count": null,
   "metadata": {},
   "outputs": [],
   "source": [
    "df2.head(2)"
   ]
  },
  {
   "cell_type": "code",
   "execution_count": 77,
   "metadata": {},
   "outputs": [
    {
     "name": "stderr",
     "output_type": "stream",
     "text": [
      "/home/szong/anaconda3/lib/python3.6/site-packages/matplotlib/font_manager.py:1297: UserWarning: findfont: Font family ['sans-serif'] not found. Falling back to DejaVu Sans\n",
      "  (prop.get_family(), self.defaultFamily[fontext]))\n"
     ]
    },
    {
     "data": {
      "image/png": "[encoded data removed]",
      "text/plain": [
       "<matplotlib.figure.Figure at 0x7f34847354a8>"
      ]
     },
     "metadata": {},
     "output_type": "display_data"
    }
   ],
   "source": [
    "# distribution of number of patients for each bin\n",
    "with plt.style.context(\"seaborn-whitegrid\"):\n",
    "    plt.rcParams[\"axes.edgecolor\"] = \"0.15\"\n",
    "    plt.rcParams[\"axes.linewidth\"]  = 1.25\n",
    "    fig = plt.figure(facecolor='w', figsize=(12, 6))\n",
    "    ax1 = fig.add_subplot(121)\n",
    "    sns.distplot(recur_amps.patient, kde=False)\n",
    "    ax1.set_xlabel('number of patients')\n",
    "    ax1.set_ylabel('number of ikb bins')\n",
    "    ax1.set_title('amp distribution')\n",
    "    \n",
    "    ax2 = fig.add_subplot(122)\n",
    "    sns.distplot(recur_dels.patient, kde=False)\n",
    "    ax2.set_xlabel('number of patients')\n",
    "    ax2.set_ylabel('number of ikb bins')\n",
    "    ax2.set_title('del distribution')\n",
    "#     plt.ylim(0,350000)\n",
    "of = '/projects/trans_scratch/validations/workspace/szong/Cervical/cnv/pog_cnv/bin_distribution.png'\n",
    "plt.savefig(of, dpi=500)"
   ]
  },
  {
   "cell_type": "code",
   "execution_count": 195,
   "metadata": {},
   "outputs": [
    {
     "data": {
      "text/html": [
       "<div>\n",
       "<style>\n",
       "    .dataframe thead tr:only-child th {\n",
       "        text-align: right;\n",
       "    }\n",
       "\n",
       "    .dataframe thead th {\n",
       "        text-align: left;\n",
       "    }\n",
       "\n",
       "    .dataframe tbody tr th {\n",
       "        vertical-align: top;\n",
       "    }\n",
       "</style>\n",
       "<table border=\"1\" class=\"dataframe\">\n",
       "  <thead>\n",
       "    <tr style=\"text-align: right;\">\n",
       "      <th></th>\n",
       "      <th>chr</th>\n",
       "      <th>start</th>\n",
       "      <th>end</th>\n",
       "      <th>cytoband</th>\n",
       "      <th>comments</th>\n",
       "    </tr>\n",
       "  </thead>\n",
       "  <tbody>\n",
       "    <tr>\n",
       "      <th>0</th>\n",
       "      <td>chr1</td>\n",
       "      <td>0</td>\n",
       "      <td>2300000</td>\n",
       "      <td>p36.33</td>\n",
       "      <td>gneg</td>\n",
       "    </tr>\n",
       "    <tr>\n",
       "      <th>1</th>\n",
       "      <td>chr1</td>\n",
       "      <td>2300000</td>\n",
       "      <td>5400000</td>\n",
       "      <td>p36.32</td>\n",
       "      <td>gpos25</td>\n",
       "    </tr>\n",
       "  </tbody>\n",
       "</table>\n",
       "</div>"
      ],
      "text/plain": [
       "    chr    start      end cytoband comments\n",
       "0  chr1        0  2300000   p36.33     gneg\n",
       "1  chr1  2300000  5400000   p36.32   gpos25"
      ]
     },
     "execution_count": 195,
     "metadata": {},
     "output_type": "execute_result"
    }
   ],
   "source": [
    "df3.head(2)"
   ]
  },
  {
   "cell_type": "markdown",
   "metadata": {},
   "source": [
    "# review cna zoomed-in plots\n",
    "You can run Matlab from your command line with this command:\n",
    "/gsc/software/linux-x86_64-centos6/matlab-r2016a/bin/matlab\n",
    "\n",
    " From there if you just open a .fig file through the menu it will give \n",
    "you a window with the zoom tools at the top."
   ]
  },
  {
   "cell_type": "code",
   "execution_count": null,
   "metadata": {
    "collapsed": true
   },
   "outputs": [],
   "source": []
  },
  {
   "cell_type": "code",
   "execution_count": null,
   "metadata": {
    "collapsed": true
   },
   "outputs": [],
   "source": []
  },
  {
   "cell_type": "code",
   "execution_count": null,
   "metadata": {
    "collapsed": true
   },
   "outputs": [],
   "source": []
  },
  {
   "cell_type": "markdown",
   "metadata": {},
   "source": [
    "# below are outdated"
   ]
  },
  {
   "cell_type": "code",
   "execution_count": 197,
   "metadata": {
    "collapsed": true
   },
   "outputs": [],
   "source": [
    "# patients"
   ]
  },
  {
   "cell_type": "code",
   "execution_count": null,
   "metadata": {
    "collapsed": true
   },
   "outputs": [],
   "source": [
    "# plot cytoband hg19\n",
    "df_segs = df2.copy()\n",
    "df_cytoband = df3.copy()"
   ]
  },
  {
   "cell_type": "code",
   "execution_count": 255,
   "metadata": {
    "collapsed": true
   },
   "outputs": [],
   "source": [
    "patients = ['HTMCP-03-06-02071', 'HTMCP-03-06-02330', 'HTMCP-03-06-02441']"
   ]
  },
  {
   "cell_type": "code",
   "execution_count": 256,
   "metadata": {},
   "outputs": [
    {
     "name": "stdout",
     "output_type": "stream",
     "text": [
      "processing chr 1 and the chr_offset is 0\n",
      "plotting amp aggregation\n"
     ]
    },
    {
     "name": "stderr",
     "output_type": "stream",
     "text": [
      "/home/szong/anaconda3/lib/python3.6/site-packages/ipykernel_launcher.py:50: SettingWithCopyWarning: \n",
      "A value is trying to be set on a copy of a slice from a DataFrame.\n",
      "Try using .loc[row_indexer,col_indexer] = value instead\n",
      "\n",
      "See the caveats in the documentation: http://pandas.pydata.org/pandas-docs/stable/indexing.html#indexing-view-versus-copy\n"
     ]
    },
    {
     "name": "stdout",
     "output_type": "stream",
     "text": [
      "plotting del aggregation\n"
     ]
    },
    {
     "name": "stderr",
     "output_type": "stream",
     "text": [
      "/home/szong/anaconda3/lib/python3.6/site-packages/ipykernel_launcher.py:57: SettingWithCopyWarning: \n",
      "A value is trying to be set on a copy of a slice from a DataFrame.\n",
      "Try using .loc[row_indexer,col_indexer] = value instead\n",
      "\n",
      "See the caveats in the documentation: http://pandas.pydata.org/pandas-docs/stable/indexing.html#indexing-view-versus-copy\n"
     ]
    },
    {
     "name": "stdout",
     "output_type": "stream",
     "text": [
      "processing chr 2 and the chr_offset is 249250621\n",
      "plotting amp aggregation\n",
      "plotting del aggregation\n",
      "processing chr 3 and the chr_offset is 492449994\n",
      "plotting amp aggregation\n",
      "plotting del aggregation\n",
      "processing chr 4 and the chr_offset is 690472424\n",
      "plotting amp aggregation\n",
      "plotting del aggregation\n",
      "processing chr 5 and the chr_offset is 881626700\n",
      "plotting amp aggregation\n",
      "plotting del aggregation\n",
      "processing chr 6 and the chr_offset is 1062541960\n",
      "plotting amp aggregation\n",
      "plotting del aggregation\n",
      "processing chr 7 and the chr_offset is 1233657027\n",
      "plotting amp aggregation\n",
      "plotting del aggregation\n",
      "processing chr 8 and the chr_offset is 1392795690\n",
      "plotting amp aggregation\n",
      "plotting del aggregation\n",
      "processing chr 9 and the chr_offset is 1539159712\n",
      "plotting amp aggregation\n",
      "plotting del aggregation\n",
      "processing chr 10 and the chr_offset is 1680373143\n",
      "plotting amp aggregation\n",
      "plotting del aggregation\n",
      "processing chr 11 and the chr_offset is 1815907890\n",
      "plotting amp aggregation\n",
      "plotting del aggregation\n",
      "processing chr 12 and the chr_offset is 1950914406\n",
      "plotting amp aggregation\n",
      "plotting del aggregation\n",
      "processing chr 13 and the chr_offset is 2084766301\n",
      "plotting amp aggregation\n",
      "plotting del aggregation\n",
      "processing chr 14 and the chr_offset is 2199936179\n",
      "plotting amp aggregation\n",
      "plotting del aggregation\n",
      "processing chr 15 and the chr_offset is 2307285719\n",
      "plotting amp aggregation\n",
      "plotting del aggregation\n",
      "processing chr 16 and the chr_offset is 2409817111\n",
      "plotting amp aggregation\n",
      "plotting del aggregation\n",
      "processing chr 17 and the chr_offset is 2500171864\n",
      "plotting amp aggregation\n",
      "plotting del aggregation\n",
      "processing chr 18 and the chr_offset is 2581367074\n",
      "plotting amp aggregation\n",
      "plotting del aggregation\n",
      "processing chr 19 and the chr_offset is 2659444322\n",
      "plotting amp aggregation\n",
      "plotting del aggregation\n",
      "processing chr 20 and the chr_offset is 2718573305\n",
      "plotting amp aggregation\n",
      "plotting del aggregation\n",
      "processing chr 21 and the chr_offset is 2781598825\n",
      "plotting amp aggregation\n",
      "plotting del aggregation\n",
      "processing chr 22 and the chr_offset is 2829728720\n",
      "plotting amp aggregation\n",
      "plotting del aggregation\n"
     ]
    },
    {
     "data": {
      "image/png": "[encoded data removed]",
      "text/plain": [
       "<matplotlib.figure.Figure at 0x7fb3042bc198>"
      ]
     },
     "metadata": {},
     "output_type": "display_data"
    }
   ],
   "source": [
    "with plt.style.context(\"seaborn-white\"):\n",
    "    plt.rcParams[\"axes.edgecolor\"] = \"0.15\"\n",
    "    plt.rcParams[\"axes.linewidth\"]  = 1.25\n",
    "#     fig = plt.figure(facecolor='w', figsize=(15,9))\n",
    "    fig = plt.figure(figsize=(15, 9), facecolor='white')\n",
    "    gs = gridspec.GridSpec(3, 1, height_ratios=[1,1,8],\n",
    "                           wspace=0.05, # horizontal space\n",
    "                           hspace=0.0  # vertical space\n",
    "                          )\n",
    "    \n",
    "    ax0 = fig.add_subplot(gs[0], facecolor='white')\n",
    "    ax1 = fig.add_subplot(gs[1], facecolor='white')\n",
    "    ax2 = fig.add_subplot(gs[2], facecolor='white')\n",
    "    chr_offset = 0 # chromosome offset\n",
    "    num_patients = len(patients)\n",
    "#     ylim = 4\n",
    "    ylim = num_patients/10.0+0.1\n",
    "    for chr in np.arange(1,23):\n",
    "        print('processing chr {0} and the chr_offset is {1}'.format(chr, chr_offset))\n",
    "        dfchr = df_cytoband[df_cytoband.chr=='chr{}'.format(chr)]\n",
    "        clrs = ['-k', '-g']*100\n",
    "        \n",
    "        num_segs = dfchr.shape[0]\n",
    "        # plot centromere\n",
    "        acen = dfchr[dfchr.comments=='acen'].reset_index().loc[0, 'end'] + chr_offset\n",
    "        ax2.plot(acen, 0.1, color='black',marker='D', markersize=4)\n",
    "        ax2.axvline(x=acen, color='gray', linewidth=0.2)\n",
    "        ax2.text(acen, -.25, '{}'.format(chr), color='red', horizontalalignment='center')\n",
    "        \n",
    "        clrs = clrs[:num_segs]\n",
    "        i = 0 # color index\n",
    "        for idx, row in dfchr.iterrows():\n",
    "            start = row.start + chr_offset\n",
    "            end = row.end + chr_offset\n",
    "            cytoband = row.cytoband\n",
    "            comment = row.comments\n",
    "            center = (start + end)/2 + chr_offset\n",
    "            width = int(end - start)\n",
    "            ax2.plot((start, end), (0.05,0.05), clrs[i], linewidth=3, solid_capstyle='butt')        \n",
    "            i+=1\n",
    "\n",
    "        \n",
    "        # draw chromosome boundary\n",
    "        ax2.axvline(x=chr_offset, color='gray')\n",
    "        \n",
    "        \n",
    "        # plot amp aggregate results\n",
    "        amps = recur_amps.query('bin_chr == {0}'.format(chr))\n",
    "        print('plotting amp aggregation')\n",
    "        amps['x'] = amps.bin_start + chr_offset\n",
    "        ax0.plot(amps.x, amps.patient, color='red', linewidth=.5, solid_capstyle='butt')\n",
    "        ax0.axhline(y=0.75*num_patients, color='gray', linestyle='dashed')\n",
    "\n",
    "        # plot del aggregate results\n",
    "        dels = recur_dels.query('bin_chr == {0}'.format(chr))\n",
    "        print('plotting del aggregation')\n",
    "        dels['x'] = dels.bin_start + chr_offset\n",
    "        ax1.plot(dels.x, dels.patient, color='blue', linewidth=.5, solid_capstyle='butt')\n",
    "        ax1.axhline(y=0.75*num_patients, color='gray', linestyle='dashed')\n",
    " \n",
    "       \n",
    "        # plot cnvs\n",
    "        j = 0 # row offset\n",
    "        yticks = []\n",
    "        cnvy_coords = []\n",
    "        for patient in patients: \n",
    "#             print('plotting patient {0}, cnvy_coords is {1}'.format(patient, 0.2+j))\n",
    "            # plot amplification\n",
    "            amps = df_segs.query('chr == {0} & patient == \"{1}\" & cn > 2'.format(chr, patient))\n",
    "            m=0 #test label offset to be deleted\n",
    "            for idx, row in amps.iterrows():\n",
    "                start = row.start + chr_offset\n",
    "                end = row.end + chr_offset\n",
    "                length = end - start\n",
    "                cn = row.cn\n",
    "#                 if chr == 7 or chr ==14:\n",
    "#                     print('plotting amps line {0}:{1}-{2}, cn {3}, length {4}'.format(chr, row.start, row.end, cn, row.end-row.start))\n",
    "                    \n",
    "\n",
    "#                 it looks like can not see anything <150000 on a 3 billion scale, so magnfiy anything to 150000\n",
    "                if length < 150000:\n",
    "                    end = start + 150000\n",
    "                ax2.plot((start, end), (0.2+j, 0.2+j), color='red', marker='_', linewidth=cn*0.5, solid_capstyle='butt')\n",
    "#                 ax2.text(start, 0.2+m, str(row.start))\n",
    "#                 m+=0.2\n",
    "            # plot deletion\n",
    "            dels = df_segs.query('chr == {0} & patient == \"{1}\" & cn < 2'.format(chr, patient))\n",
    "            for idx, row in dels.iterrows():\n",
    "                start = row.start + chr_offset\n",
    "                end = row.end + chr_offset\n",
    "                length = end - start\n",
    "                cn = row.cn\n",
    "                if length < 150000:\n",
    "                    end = start + 150000\n",
    "                del_w = 2 - cn\n",
    "                ax2.plot((start, end), (0.3+j, 0.3+j), color='blue', marker='_', linewidth=del_w*0.75, solid_capstyle='butt')\n",
    "            yticks.append(0.25+j)\n",
    "            j+=0.2\n",
    "        chr_offset+=max(dfchr.end)\n",
    "    ax0.set_xlim(0, chr_offset)\n",
    "    ax0.set_ylim(0, num_patients)\n",
    "    ax1.set_xlim(0, chr_offset)\n",
    "    ax1.set_ylim(0, num_patients)\n",
    "    ax2.set_xlim(0, chr_offset)\n",
    "    ax2.set_ylim(0, ylim)\n",
    "    ax0.set_xticklabels('')\n",
    "    ax1.set_xticklabels('')\n",
    "    ax2.set_xticklabels('')\n",
    "    ax2.set_yticks(yticks)\n",
    "    ax2.set_yticklabels([i.split('-')[3] for i in patients], fontsize=3)\n",
    "#     plt.tight_layout()\n",
    "    of = '/projects/trans_scratch/validations/workspace/szong/Cervical/cnv/cnv_123_patients.png'\n",
    "    plt.savefig(of, dpi=800)\n",
    "    plt.show()"
   ]
  },
  {
   "cell_type": "code",
   "execution_count": null,
   "metadata": {
    "collapsed": true
   },
   "outputs": [],
   "source": []
  },
  {
   "cell_type": "code",
   "execution_count": null,
   "metadata": {
    "collapsed": true
   },
   "outputs": [],
   "source": []
  },
  {
   "cell_type": "code",
   "execution_count": null,
   "metadata": {
    "collapsed": true
   },
   "outputs": [],
   "source": []
  },
  {
   "cell_type": "markdown",
   "metadata": {},
   "source": [
    "sanity check: because of resolution, bands less than 100kb in length may not show on the plot.\n",
    "\n",
    "    while read a b;do echo -ne $a\"\\t\";/home/rcorbett/aligners/bedtools/BEDTools-Version-2.15.0/bin/bedtools intersect -a $b -b a.tmp ;done < Cervical_124_patients_adjusted/cnv_files_for_acen_removal.txt |awk '$5>2'"
   ]
  },
  {
   "cell_type": "markdown",
   "metadata": {},
   "source": [
    " these are 3 examples of peaks in 7q14.1, we should see them in the plot\n",
    " while read a b;do echo -ne $a\"\\t\";/home/rcorbett/aligners/bedtools/BEDTools-Version-2.15.0/bin/bedtools intersect -a $b -b 7q14.1_peak_coords.txt -wa -wb;done < cnv_files_for_acen_removal.txt|grep \"02441\\|02330\\|02071\"\n",
    " \n",
    "HTMCP-03-06-02071\t7\t38294085\t38374669\t4\t7\t38311127\t38338695\n",
    "\n",
    "HTMCP-03-06-02330\t7\t38309671\t38338696\t4\t7\t38311127\t38338695\n",
    "\n",
    "HTMCP-03-06-02441\t7\t38292804\t38368824\t4\t7\t38311127\t38338695\n"
   ]
  },
  {
   "cell_type": "code",
   "execution_count": null,
   "metadata": {
    "collapsed": true
   },
   "outputs": [],
   "source": []
  },
  {
   "cell_type": "markdown",
   "metadata": {},
   "source": [
    "clean up by removing GISTIC wide peaks after review"
   ]
  },
  {
   "cell_type": "code",
   "execution_count": null,
   "metadata": {
    "collapsed": true
   },
   "outputs": [],
   "source": [
    "# peak region to remove: my scipts identified\n",
    "# 6\t58776001\t58780001\t4000\n",
    "# 7\t38294001\t38371001\t77000\n",
    "# 14\t22406001\t22971001\t565000\n",
    "\n",
    "# GISTIC wide peaks\n",
    "# chr14:22779419-22934657\t\n",
    "# chr7:38311127-38338695\t\n",
    "# chr7:142421419-142476036\n",
    "# chr4:68264255-68264791\n",
    "\n"
   ]
  },
  {
   "cell_type": "code",
   "execution_count": 75,
   "metadata": {},
   "outputs": [
    {
     "data": {
      "text/html": [
       "<div>\n",
       "<style>\n",
       "    .dataframe thead tr:only-child th {\n",
       "        text-align: right;\n",
       "    }\n",
       "\n",
       "    .dataframe thead th {\n",
       "        text-align: left;\n",
       "    }\n",
       "\n",
       "    .dataframe tbody tr th {\n",
       "        vertical-align: top;\n",
       "    }\n",
       "</style>\n",
       "<table border=\"1\" class=\"dataframe\">\n",
       "  <thead>\n",
       "    <tr style=\"text-align: right;\">\n",
       "      <th></th>\n",
       "      <th>chr</th>\n",
       "      <th>start</th>\n",
       "      <th>end</th>\n",
       "      <th>length</th>\n",
       "    </tr>\n",
       "  </thead>\n",
       "  <tbody>\n",
       "    <tr>\n",
       "      <th>0</th>\n",
       "      <td>6</td>\n",
       "      <td>58776001</td>\n",
       "      <td>58780001</td>\n",
       "      <td>4000</td>\n",
       "    </tr>\n",
       "    <tr>\n",
       "      <th>1</th>\n",
       "      <td>14</td>\n",
       "      <td>22779419</td>\n",
       "      <td>22934657</td>\n",
       "      <td>155238</td>\n",
       "    </tr>\n",
       "    <tr>\n",
       "      <th>2</th>\n",
       "      <td>7</td>\n",
       "      <td>38311127</td>\n",
       "      <td>38338695</td>\n",
       "      <td>27568</td>\n",
       "    </tr>\n",
       "    <tr>\n",
       "      <th>3</th>\n",
       "      <td>7</td>\n",
       "      <td>142421419</td>\n",
       "      <td>142476036</td>\n",
       "      <td>54617</td>\n",
       "    </tr>\n",
       "    <tr>\n",
       "      <th>4</th>\n",
       "      <td>4</td>\n",
       "      <td>68264255</td>\n",
       "      <td>68264791</td>\n",
       "      <td>536</td>\n",
       "    </tr>\n",
       "  </tbody>\n",
       "</table>\n",
       "</div>"
      ],
      "text/plain": [
       "   chr      start        end  length\n",
       "0    6   58776001   58780001    4000\n",
       "1   14   22779419   22934657  155238\n",
       "2    7   38311127   38338695   27568\n",
       "3    7  142421419  142476036   54617\n",
       "4    4   68264255   68264791     536"
      ]
     },
     "execution_count": 75,
     "metadata": {},
     "output_type": "execute_result"
    }
   ],
   "source": [
    "f3 = '/projects/trans_scratch/validations/workspace/szong/Cervical/cnv/peaks_to_remove.txt'\n",
    "df3 = pd.read_csv(f3, comment=\"#\", sep='\\t', header=None)\n",
    "df3.columns= ['chr', 'start', 'end', 'length']\n",
    "df3"
   ]
  },
  {
   "cell_type": "code",
   "execution_count": null,
   "metadata": {
    "collapsed": true
   },
   "outputs": [],
   "source": [
    "# rules to clean up\n",
    "# overlap 10% of the interval to be removed\n",
    "# if cn>2 and orginal segment < 50mb, change the cn to 2"
   ]
  },
  {
   "cell_type": "code",
   "execution_count": 76,
   "metadata": {},
   "outputs": [
    {
     "data": {
      "text/html": [
       "<div>\n",
       "<style>\n",
       "    .dataframe thead tr:only-child th {\n",
       "        text-align: right;\n",
       "    }\n",
       "\n",
       "    .dataframe thead th {\n",
       "        text-align: left;\n",
       "    }\n",
       "\n",
       "    .dataframe tbody tr th {\n",
       "        vertical-align: top;\n",
       "    }\n",
       "</style>\n",
       "<table border=\"1\" class=\"dataframe\">\n",
       "  <thead>\n",
       "    <tr style=\"text-align: right;\">\n",
       "      <th></th>\n",
       "      <th>patient</th>\n",
       "      <th>seg_path</th>\n",
       "    </tr>\n",
       "  </thead>\n",
       "  <tbody>\n",
       "    <tr>\n",
       "      <th>0</th>\n",
       "      <td>HTMCP-03-06-02001</td>\n",
       "      <td>/projects/somatic/NCI_SAIC_HIV_Cervical/HTMCP-...</td>\n",
       "    </tr>\n",
       "    <tr>\n",
       "      <th>1</th>\n",
       "      <td>HTMCP-03-06-02002</td>\n",
       "      <td>/projects/somatic/NCI_SAIC_HIV_Cervical/HTMCP-...</td>\n",
       "    </tr>\n",
       "  </tbody>\n",
       "</table>\n",
       "</div>"
      ],
      "text/plain": [
       "             patient                                           seg_path\n",
       "0  HTMCP-03-06-02001  /projects/somatic/NCI_SAIC_HIV_Cervical/HTMCP-...\n",
       "1  HTMCP-03-06-02002  /projects/somatic/NCI_SAIC_HIV_Cervical/HTMCP-..."
      ]
     },
     "execution_count": 76,
     "metadata": {},
     "output_type": "execute_result"
    }
   ],
   "source": [
    "df1.head(2)"
   ]
  },
  {
   "cell_type": "code",
   "execution_count": 91,
   "metadata": {
    "collapsed": true
   },
   "outputs": [],
   "source": [
    "def overlap_intervals(a, b):\n",
    "    return max(0, min(a[1], b[1]) - max(a[0], b[0]))\n"
   ]
  },
  {
   "cell_type": "code",
   "execution_count": 176,
   "metadata": {
    "collapsed": true
   },
   "outputs": [],
   "source": [
    "# shorted chromosome 21 ~48Mb\n",
    "def mask_cnv(df_segs, df_masks, of):\n",
    "    with open(of, 'w') as writer:\n",
    "        for i, row in df_segs.iterrows():\n",
    "            chrm = row[0]\n",
    "            start = row[1]\n",
    "            end = row[2]\n",
    "            cn = row[3]\n",
    "            length = end - start\n",
    "            chrms = df_masks.chr.unique()\n",
    "            if chrm in chrms and cn >2 and length < 5000000:\n",
    "                for j, m_row in df_masks.iterrows():\n",
    "                    m_chrm = m_row[0]\n",
    "                    m_start = m_row[1]\n",
    "                    m_end = m_row[2]\n",
    "                    m_length = m_end - m_start\n",
    "                    if chrm == m_chrm:\n",
    "                        overlap = overlap_intervals([start, end], [m_start, m_end])\n",
    "                        if overlap/min(length, m_length)*1.0 > 0.1:\n",
    "                            print('ovelap', overlap, \"change cn to 2\")\n",
    "                            cn = 2\n",
    "            writer.write('\\t'.join([str(i) for i in [chrm, start, end, cn]]))\n",
    "            writer.write('\\n')\n"
   ]
  },
  {
   "cell_type": "code",
   "execution_count": 86,
   "metadata": {
    "scrolled": false
   },
   "outputs": [],
   "source": [
    "# for idx, row in df1.iterrows():\n",
    "#     patient = row.patient\n",
    "#     seg_file = row.seg_path\n",
    "#     dftmp = pd.read_csv(seg_file, sep='\\t', header=None)\n",
    "#     of = '/projects/trans_scratch/validations/workspace/szong/Cervical/cnv/Cervical_124_patients_adjusted/w200_clean/{}/w200_segs_cleaned.txt'.format(patient)\n",
    "#     mask_cnv(dftmp, df3, of)"
   ]
  },
  {
   "cell_type": "code",
   "execution_count": null,
   "metadata": {
    "collapsed": true
   },
   "outputs": [],
   "source": []
  },
  {
   "cell_type": "code",
   "execution_count": null,
   "metadata": {
    "collapsed": true
   },
   "outputs": [],
   "source": []
  }
 ],
 "metadata": {
  "kernelspec": {
   "display_name": "Python 3",
   "language": "python",
   "name": "python3"
  }
 },
 "nbformat": 4,
 "nbformat_minor": 2
}
