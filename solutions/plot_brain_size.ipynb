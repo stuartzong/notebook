{
  "nbformat_minor": 0,
  "cells": [
    {
      "cell_type": "code",
      "execution_count": null,
      "outputs": [],
      "source": [
        "%matplotlib inline"
      ],
      "metadata": {
        "collapsed": false
      }
    },
    {
      "cell_type": "markdown",
      "source": [
        "\nRelating Gender and IQ\n=======================\n\nGoing back to the brain size + IQ data, test if the VIQ of male and\nfemale are different after removing the effect of brain size, height and\nweight.\n\nNotice that here 'Gender' is a categorical value. As it is a non-float\ndata type, statsmodels is able to automatically infer this.\n\n\n"
      ],
      "metadata": {}
    },
    {
      "cell_type": "code",
      "execution_count": null,
      "outputs": [],
      "source": [
        "import pandas\nfrom statsmodels.formula.api import ols\n\ndata = pandas.read_csv('../brain_size.csv', sep=';', na_values='.')\n\nmodel = ols('VIQ ~ Gender + MRI_Count + Height', data).fit()\nprint(model.summary())\n\n# Here, we don't need to define a contrast, as we are testing a single\n# coefficient of our model, and not a combination of coefficients.\n# However, defining a contrast, which would then be a 'unit contrast',\n# will give us the same results\nprint(model.f_test([0, 1, 0, 0]))"
      ],
      "metadata": {
        "collapsed": false
      }
    },
    {
      "cell_type": "markdown",
      "source": [
        "Here we plot a scatter matrix to get intuitions on our results.\nThis goes beyond what was asked in the exercise\n\n"
      ],
      "metadata": {}
    },
    {
      "cell_type": "code",
      "execution_count": null,
      "outputs": [],
      "source": [
        "# This plotting is useful to get an intuitions on the relationships between\n# our different variables\n\nfrom pandas.tools import plotting\nimport matplotlib.pyplot as plt\n\n# Fill in the missing values for Height for plotting\ndata['Height'].fillna(method='pad', inplace=True)\n\n# The parameter 'c' is passed to plt.scatter and will control the color\n# The same holds for parameters 'marker', 'alpha' and 'cmap', that\n# control respectively the type of marker used, their transparency and\n# the colormap\nplotting.scatter_matrix(data[['VIQ', 'MRI_Count', 'Height']],\n                        c=(data['Gender'] == 'Female'), marker='o',\n                        alpha=1, cmap='winter')\n\nfig = plt.gcf()\nfig.suptitle(\"blue: male, green: female\", size=13)\n\nplt.show()"
      ],
      "metadata": {
        "collapsed": false
      }
    }
  ],
  "nbformat": 4,
  "metadata": {
    "kernelspec": {
      "display_name": "Python 3",
      "language": "python",
      "name": "python3"
    },
    "language_info": {
      "mimetype": "text/x-python",
      "name": "python",
      "file_extension": ".py",
      "nbconvert_exporter": "python",
      "pygments_lexer": "ipython3",
      "codemirror_mode": {
        "version": 3,
        "name": "ipython"
      },
      "version": "3.5.4"
    }
  }
}