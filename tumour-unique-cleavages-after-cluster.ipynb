{
 "cells": [
  {
   "cell_type": "code",
   "execution_count": 11,
   "metadata": {},
   "outputs": [
    {
     "name": "stdout",
     "output_type": "stream",
     "text": [
      "The autoreload extension is already loaded. To reload it, use:\n",
      "  %reload_ext autoreload\n"
     ]
    }
   ],
   "source": [
    "import os\n",
    "import re\n",
    "import datetime\n",
    "import tempfile\n",
    "import itertools\n",
    "\n",
    "import seaborn as sns\n",
    "\n",
    "import numpy as np\n",
    "import scipy.stats as stats\n",
    "from scipy.cluster.hierarchy import dendrogram, linkage, fcluster, fclusterdata\n",
    "import pandas as pd\n",
    "pd.set_option('display.max_columns', 250)\n",
    "# Don't cut off long string\n",
    "# http://stackoverflow.com/questions/26277757/pandas-to-html-truncates-string-contents\n",
    "pd.set_option('display.max_colwidth', -1)\n",
    "\n",
    "import matplotlib\n",
    "import matplotlib.pyplot as plt\n",
    "matplotlib.style.use('ggplot')\n",
    "%matplotlib inline\n",
    "matplotlib.rcParams['figure.figsize'] = (16, 9)\n",
    "\n",
    "# import utils as U\n",
    "\n",
    "# for auto-reloading external modules\n",
    "# see http://stackoverflow.com/questions/1907993/autoreload-of-modules-in-ipython\n",
    "%load_ext autoreload\n",
    "%autoreload 2"
   ]
  },
  {
   "cell_type": "markdown",
   "metadata": {},
   "source": [
    "This notebook combines all `cba.KLEAT` files and merge it with metadata into a master table: `all_cba.KLEAT.with_metadata.csv`"
   ]
  },
  {
   "cell_type": "markdown",
   "metadata": {
    "collapsed": true
   },
   "source": [
    "A few things i learned from this notebook:\n",
    "    1. find the unique items present in listA but absent in listB: setdiff1d\n",
    "    2. hierarchical clustering method: fclusterdata for NxM matrix.\n",
    "    3. isin: listA.isin(listB)"
   ]
  },
  {
   "cell_type": "code",
   "execution_count": 129,
   "metadata": {},
   "outputs": [
    {
     "name": "stdout",
     "output_type": "stream",
     "text": [
      "[4]\n",
      "[5 7]\n"
     ]
    }
   ],
   "source": [
    "# 1. find the unique items present in listA but absent in listB: setdiff1d\n",
    "# np.setdiff1d?\n",
    "a = [2,3,3,4]\n",
    "b = [3,5,7,2]\n",
    "print(np.setdiff1d(a, b))\n",
    "print(np.setdiff1d(b, a))"
   ]
  },
  {
   "cell_type": "code",
   "execution_count": 12,
   "metadata": {
    "scrolled": true
   },
   "outputs": [
    {
     "name": "stdout",
     "output_type": "stream",
     "text": [
      "<class 'numpy.ndarray'>\n",
      "(2, 200)\n"
     ]
    },
    {
     "ename": "NameError",
     "evalue": "name 'hcluster' is not defined",
     "output_type": "error",
     "traceback": [
      "\u001b[0;31m---------------------------------------------------------------------------\u001b[0m",
      "\u001b[0;31mNameError\u001b[0m                                 Traceback (most recent call last)",
      "\u001b[0;32m<ipython-input-12-b1c061c82be1>\u001b[0m in \u001b[0;36m<module>\u001b[0;34m()\u001b[0m\n\u001b[1;32m      8\u001b[0m \u001b[0;32mfor\u001b[0m \u001b[0mi\u001b[0m \u001b[0;32min\u001b[0m \u001b[0mrange\u001b[0m\u001b[0;34m(\u001b[0m\u001b[0;36m1\u001b[0m\u001b[0;34m,\u001b[0m\u001b[0;36m15\u001b[0m\u001b[0;34m)\u001b[0m\u001b[0;34m:\u001b[0m\u001b[0;34m\u001b[0m\u001b[0m\n\u001b[1;32m      9\u001b[0m     \u001b[0mthresh\u001b[0m \u001b[0;34m=\u001b[0m \u001b[0mi\u001b[0m\u001b[0;34m/\u001b[0m\u001b[0;36m10.\u001b[0m\u001b[0;34m\u001b[0m\u001b[0m\n\u001b[0;32m---> 10\u001b[0;31m     \u001b[0mclusters\u001b[0m \u001b[0;34m=\u001b[0m \u001b[0mhcluster\u001b[0m\u001b[0;34m.\u001b[0m\u001b[0mfclusterdata\u001b[0m\u001b[0;34m(\u001b[0m\u001b[0mnumpy\u001b[0m\u001b[0;34m.\u001b[0m\u001b[0mtranspose\u001b[0m\u001b[0;34m(\u001b[0m\u001b[0mdata\u001b[0m\u001b[0;34m)\u001b[0m\u001b[0;34m,\u001b[0m \u001b[0mthresh\u001b[0m\u001b[0;34m,\u001b[0m \u001b[0mcriterion\u001b[0m\u001b[0;34m=\u001b[0m\u001b[0;34m\"distance\"\u001b[0m\u001b[0;34m)\u001b[0m\u001b[0;34m\u001b[0m\u001b[0m\n\u001b[0m\u001b[1;32m     11\u001b[0m \u001b[0;31m#     clusters = hcluster.fclusterdata(numpy.transpose(data), 2, criterion='maxclust', metric='euclidean', depth=1, method='centroid')\u001b[0m\u001b[0;34m\u001b[0m\u001b[0;34m\u001b[0m\u001b[0m\n\u001b[1;32m     12\u001b[0m     \u001b[0mpylab\u001b[0m\u001b[0;34m.\u001b[0m\u001b[0mscatter\u001b[0m\u001b[0;34m(\u001b[0m\u001b[0;34m*\u001b[0m\u001b[0mdata\u001b[0m\u001b[0;34m[\u001b[0m\u001b[0;34m:\u001b[0m\u001b[0;34m,\u001b[0m\u001b[0;34m:\u001b[0m\u001b[0;34m]\u001b[0m\u001b[0;34m,\u001b[0m \u001b[0mc\u001b[0m\u001b[0;34m=\u001b[0m\u001b[0mclusters\u001b[0m\u001b[0;34m)\u001b[0m\u001b[0;34m\u001b[0m\u001b[0m\n",
      "\u001b[0;31mNameError\u001b[0m: name 'hcluster' is not defined"
     ]
    }
   ],
   "source": [
    "import pylab\n",
    "pylab.ion()\n",
    "\n",
    "data = np.random.randn(2,200)\n",
    "data[:100,:100] += 10\n",
    "print(type(data))\n",
    "print(data.shape)\n",
    "for i in range(1,15):\n",
    "    thresh = i/10.\n",
    "    clusters = hcluster.fclusterdata(numpy.transpose(data), thresh, criterion=\"distance\")\n",
    "#     clusters = hcluster.fclusterdata(numpy.transpose(data), 2, criterion='maxclust', metric='euclidean', depth=1, method='centroid')\n",
    "    pylab.scatter(*data[:,:], c=clusters)\n",
    "    pylab.axis(\"equal\")\n",
    "    title = \"threshold: %f, number of clusters: %d\" % (thresh, len(set(clusters)))\n",
    "    print(title)\n",
    "    pylab.title(title)\n",
    "    pylab.draw()\n",
    "    time.sleep(0.5)\n",
    "#     pylab.clf()\n"
   ]
  },
  {
   "cell_type": "code",
   "execution_count": 3,
   "metadata": {},
   "outputs": [
    {
     "data": {
      "text/plain": [
       "array([[2, 6, 5, 6, 7],\n",
       "       [2, 6, 5, 1, 3]])"
      ]
     },
     "execution_count": 3,
     "metadata": {},
     "output_type": "execute_result"
    }
   ],
   "source": [
    "# * unpack a list, scatter require x and y\n",
    "a = np.random.randint(1,8, size=(2,5))\n",
    "a"
   ]
  },
  {
   "cell_type": "code",
   "execution_count": 4,
   "metadata": {},
   "outputs": [
    {
     "data": {
      "text/plain": [
       "<matplotlib.collections.PathCollection at 0x7f0f13529828>"
      ]
     },
     "execution_count": 4,
     "metadata": {},
     "output_type": "execute_result"
    },
    {
     "name": "stderr",
     "output_type": "stream",
     "text": [
      "/projects/trans_scratch/validations/workspace/szong/deep_learning/deep_venv/lib/python3.6/site-packages/matplotlib/font_manager.py:1297: UserWarning: findfont: Font family ['sans-serif'] not found. Falling back to DejaVu Sans\n",
      "  (prop.get_family(), self.defaultFamily[fontext]))\n"
     ]
    },
    {
     "data": {
      "image/png": "[encoded data removed]",
      "text/plain": [
       "<matplotlib.figure.Figure at 0x7f0f44a2ca90>"
      ]
     },
     "metadata": {},
     "output_type": "display_data"
    }
   ],
   "source": [
    "plt.scatter(*a)"
   ]
  },
  {
   "cell_type": "code",
   "execution_count": 136,
   "metadata": {},
   "outputs": [
    {
     "name": "stdout",
     "output_type": "stream",
     "text": [
      "<class 'list'>\n"
     ]
    },
    {
     "data": {
      "text/plain": [
       "array([1, 1, 1, 1, 1, 1, 1], dtype=int32)"
      ]
     },
     "execution_count": 136,
     "metadata": {},
     "output_type": "execute_result"
    }
   ],
   "source": [
    "x=[[1],[2],[3],[44],[45],[46],[45]]\n",
    "print(type(x))\n",
    "\n",
    "# fclusterdata(x,2, criterion='maxclust', metric='euclidean', depth=1, method='centroid')\n",
    "fclusterdata(x,50, criterion='distance')\n"
   ]
  },
  {
   "cell_type": "code",
   "execution_count": 128,
   "metadata": {},
   "outputs": [
    {
     "name": "stdout",
     "output_type": "stream",
     "text": [
      "   A  B  C\n",
      "0  1  8  1\n",
      "1  4  1  0\n",
      "2  0  2  0\n",
      "3  9  8  6\n",
      "4  4  3  7\n"
     ]
    },
    {
     "data": {
      "text/html": [
       "<div>\n",
       "<table border=\"1\" class=\"dataframe\">\n",
       "  <thead>\n",
       "    <tr style=\"text-align: right;\">\n",
       "      <th></th>\n",
       "      <th>A</th>\n",
       "      <th>B</th>\n",
       "      <th>C</th>\n",
       "    </tr>\n",
       "  </thead>\n",
       "  <tbody>\n",
       "    <tr>\n",
       "      <th>0</th>\n",
       "      <td>False</td>\n",
       "      <td>False</td>\n",
       "      <td>False</td>\n",
       "    </tr>\n",
       "    <tr>\n",
       "      <th>1</th>\n",
       "      <td>True</td>\n",
       "      <td>False</td>\n",
       "      <td>False</td>\n",
       "    </tr>\n",
       "    <tr>\n",
       "      <th>2</th>\n",
       "      <td>False</td>\n",
       "      <td>False</td>\n",
       "      <td>False</td>\n",
       "    </tr>\n",
       "    <tr>\n",
       "      <th>3</th>\n",
       "      <td>False</td>\n",
       "      <td>False</td>\n",
       "      <td>False</td>\n",
       "    </tr>\n",
       "    <tr>\n",
       "      <th>4</th>\n",
       "      <td>True</td>\n",
       "      <td>True</td>\n",
       "      <td>False</td>\n",
       "    </tr>\n",
       "  </tbody>\n",
       "</table>\n",
       "</div>"
      ],
      "text/plain": [
       "       A      B      C\n",
       "0  False  False  False\n",
       "1  True   False  False\n",
       "2  False  False  False\n",
       "3  False  False  False\n",
       "4  True   True   False"
      ]
     },
     "execution_count": 128,
     "metadata": {},
     "output_type": "execute_result"
    }
   ],
   "source": [
    "#  3. isin: df.isin(listB) return boolean indicating if the dataframe values is in listB\n",
    "# df = pd.DataFrame(np.random.randint(0,100,size=(100, 4)), columns=list('ABCD'))\n",
    "# np.random.randint(0,100,size=(100, 4)) - creates an output array of size (100,4) with random integer elements between [0,100)\n",
    "df = pd.DataFrame(np.random.randint(0,10,size=(5, 3)), columns=list('ABC'))\n",
    "print(df)\n",
    "b = [3,4,5]\n",
    "df.isin(b)"
   ]
  },
  {
   "cell_type": "code",
   "execution_count": 7,
   "metadata": {
    "collapsed": true
   },
   "outputs": [],
   "source": [
    "def remove_common_elements(a, b):\n",
    "    return np.setdiff1d(a, b), np.setdiff1d(b, a)"
   ]
  },
  {
   "cell_type": "code",
   "execution_count": 8,
   "metadata": {},
   "outputs": [
    {
     "name": "stdout",
     "output_type": "stream",
     "text": [
      "[4]\n",
      "[5 7]\n"
     ]
    }
   ],
   "source": []
  },
  {
   "cell_type": "code",
   "execution_count": 9,
   "metadata": {
    "collapsed": true
   },
   "outputs": [],
   "source": [
    "def gen_cluster_index(x, window):\n",
    "    return fclusterdata(x.reshape(-1, 1), \n",
    "                        window,\n",
    "                        criterion='distance',\n",
    "                        metric='euclidean',\n",
    "                        method='centroid')\n",
    "\n",
    "def cluster(x, window=15):\n",
    "    cluster_idx = gen_cluster_index(x, window)\n",
    "    dd = {}\n",
    "    for i in np.unique(cluster_idx):\n",
    "        vals = x[cluster_idx == i]\n",
    "        mean = int(vals.mean())\n",
    "        dd.update(zip(vals, np.repeat(mean, vals.shape[0])))\n",
    "    return dd\n",
    "\n",
    "\n",
    "def add_kid(df):\n",
    "    df['kid'] = (df.chromosome \n",
    "          + '-' + df.gene\n",
    "          + '-' + '(' + df.transcript_strand + ')'\n",
    "          + '-' + df.transcript\n",
    "          + '-' + df.cleavage_site.astype(unicode) \n",
    "          + '-' + df.kul.astype(unicode))"
   ]
  },
  {
   "cell_type": "code",
   "execution_count": 11,
   "metadata": {
    "collapsed": true
   },
   "outputs": [],
   "source": [
    "WINDOW_SIZE = 15 # bp\n",
    "\n",
    "ONE_SAMPLE_TYPE_DISEASES = ['ACC', 'DLBC', 'LAML', 'MESO', 'UCS', 'UVM']\n",
    "\n",
    "OUTPUT_FIG_DIR = os.path.join('figs', '114-genes-cond3-15bp-window')\n",
    "\n",
    "OUTPUT_FIG_DIR"
   ]
  },
  {
   "cell_type": "code",
   "execution_count": 15,
   "metadata": {
    "collapsed": true
   },
   "outputs": [],
   "source": [
    "with open('target_genes-one-transcript.txt') as opf:\n",
    "    ONE_TRANSCRIPT_GENES = [_.strip() for _ in opf.readlines()]"
   ]
  },
  {
   "cell_type": "code",
   "execution_count": 17,
   "metadata": {
    "scrolled": true
   },
   "outputs": [
    {
     "name": "stderr",
     "output_type": "stream",
     "text": [
      "<string>:2: DtypeWarning: Columns (40,41) have mixed types. Specify dtype option on import or set low_memory=False.\n"
     ]
    },
    {
     "name": "stdout",
     "output_type": "stream",
     "text": [
      "CPU times: user 38.5 s, sys: 9.34 s, total: 47.8 s\n",
      "Wall time: 48.4 s\n"
     ]
    }
   ],
   "source": [
    "%time qdf = pd.read_csv('qdf-114-genes-cond3.csv')"
   ]
  },
  {
   "cell_type": "code",
   "execution_count": 18,
   "metadata": {},
   "outputs": [
    {
     "data": {
      "text/html": [
       "<div>\n",
       "<table border=\"1\" class=\"dataframe\">\n",
       "  <thead>\n",
       "    <tr style=\"text-align: right;\">\n",
       "      <th></th>\n",
       "      <th>gene</th>\n",
       "      <th>transcript</th>\n",
       "      <th>transcript_strand</th>\n",
       "      <th>coding</th>\n",
       "      <th>chromosome</th>\n",
       "      <th>cleavage_site</th>\n",
       "      <th>distance_from_annotated_site</th>\n",
       "      <th>length_of_tail_in_contig</th>\n",
       "      <th>number_of_tail_reads</th>\n",
       "      <th>number_of_bridge_reads</th>\n",
       "      <th>max_bridge_read_tail_length</th>\n",
       "      <th>tail+bridge_reads</th>\n",
       "      <th>hexamer_loc+id</th>\n",
       "      <th>3UTR_start_end</th>\n",
       "      <th>flag</th>\n",
       "      <th>kleat_fname</th>\n",
       "      <th>left_coord</th>\n",
       "      <th>right_coord</th>\n",
       "      <th>utr_len</th>\n",
       "      <th>kul</th>\n",
       "      <th>kul_norm</th>\n",
       "      <th>CGHubAnalysisID</th>\n",
       "      <th>AliquotBarcode</th>\n",
       "      <th>AliquotUUID</th>\n",
       "      <th>GCSobject</th>\n",
       "      <th>objectSizeBytes</th>\n",
       "      <th>study</th>\n",
       "      <th>barcode</th>\n",
       "      <th>disease</th>\n",
       "      <th>disease_name</th>\n",
       "      <th>sample_type</th>\n",
       "      <th>sample_type_name</th>\n",
       "      <th>analyte_type</th>\n",
       "      <th>center</th>\n",
       "      <th>files_size</th>\n",
       "      <th>checksum</th>\n",
       "      <th>analysis_id</th>\n",
       "      <th>aliquot_id</th>\n",
       "      <th>participant_id</th>\n",
       "      <th>sample_id</th>\n",
       "      <th>tss_id</th>\n",
       "      <th>sample_accession</th>\n",
       "      <th>published</th>\n",
       "      <th>uploaded</th>\n",
       "      <th>modified</th>\n",
       "      <th>sample_type_code</th>\n",
       "      <th>analyte_type_code</th>\n",
       "      <th>platform_full_name</th>\n",
       "      <th>sstype</th>\n",
       "      <th>dise</th>\n",
       "    </tr>\n",
       "  </thead>\n",
       "  <tbody>\n",
       "    <tr>\n",
       "      <th>0</th>\n",
       "      <td>RTCA</td>\n",
       "      <td>ENST00000370126</td>\n",
       "      <td>+</td>\n",
       "      <td>yes</td>\n",
       "      <td>chr1</td>\n",
       "      <td>100740463</td>\n",
       "      <td>7978</td>\n",
       "      <td>0</td>\n",
       "      <td>0</td>\n",
       "      <td>2</td>\n",
       "      <td>2</td>\n",
       "      <td>2</td>\n",
       "      <td>100740446:4</td>\n",
       "      <td>-</td>\n",
       "      <td>1</td>\n",
       "      <td>/projects/btl/zxue/tasrkleat-TCGA-results/tcga/CESC/RNA/RNA-Seq/UNC-LCCC/ILLUMINA/UNCID_2169014.97a13a19-7b9b-4e53-9dfe-6a5836a44510.130606_UNC9-SN296_0373_BD28T1ACXX_6_CTTGTA.tar.gz/tasrkleat-results/kleat/cba.KLEAT</td>\n",
       "      <td>100732184</td>\n",
       "      <td>100732485</td>\n",
       "      <td>302</td>\n",
       "      <td>8280.0</td>\n",
       "      <td>27.417219</td>\n",
       "      <td>b0f33684-061e-4253-8895-e7ee3ca8e9f9</td>\n",
       "      <td>TCGA-FU-A5XV-01A-11R-A28H-07</td>\n",
       "      <td>97a13a19-7b9b-4e53-9dfe-6a5836a44510</td>\n",
       "      <td>gs://5aa919de-0aa0-43ec-9ec3-288481102b6d/tcga/CESC/RNA/RNA-Seq/UNC-LCCC/ILLUMINA/UNCID_2169014.97a13a19-7b9b-4e53-9dfe-6a5836a44510.130606_UNC9-SN296_0373_BD28T1ACXX_6_CTTGTA.tar.gz</td>\n",
       "      <td>5971417904</td>\n",
       "      <td>TCGA</td>\n",
       "      <td>TCGA-FU-A5XV-01A-11R-A28H-07</td>\n",
       "      <td>CESC</td>\n",
       "      <td>CERVICAL SQUAMOUS CELL CARCINOMA AND ENDOCERVICAL ADENOCARCINOMA</td>\n",
       "      <td>TP</td>\n",
       "      <td>Primary solid Tumor</td>\n",
       "      <td>RNA</td>\n",
       "      <td>UNC-LCCC</td>\n",
       "      <td>5.971418e+09</td>\n",
       "      <td>e1c9ce14af2f2bcdba031d249250d1d6</td>\n",
       "      <td>b0f33684-061e-4253-8895-e7ee3ca8e9f9</td>\n",
       "      <td>97a13a19-7b9b-4e53-9dfe-6a5836a44510</td>\n",
       "      <td>9dba5a81-3587-4f5a-8d19-e0b0aed0a677</td>\n",
       "      <td>8d5976cf-7e2d-420d-ba18-477a43ccec54</td>\n",
       "      <td>FU</td>\n",
       "      <td>NaN</td>\n",
       "      <td>2013-09-19</td>\n",
       "      <td>2013-09-19</td>\n",
       "      <td>2013-09-19</td>\n",
       "      <td>1</td>\n",
       "      <td>R</td>\n",
       "      <td>Illumina HiSeq 2000</td>\n",
       "      <td>tumour</td>\n",
       "      <td>Cervical squamous cell carcinoma and endocervical adenocarcinoma (CESC)</td>\n",
       "    </tr>\n",
       "    <tr>\n",
       "      <th>1</th>\n",
       "      <td>RTCA</td>\n",
       "      <td>ENST00000260563</td>\n",
       "      <td>+</td>\n",
       "      <td>yes</td>\n",
       "      <td>chr1</td>\n",
       "      <td>100757328</td>\n",
       "      <td>1</td>\n",
       "      <td>0</td>\n",
       "      <td>0</td>\n",
       "      <td>1</td>\n",
       "      <td>6</td>\n",
       "      <td>1</td>\n",
       "      <td>100757305:1</td>\n",
       "      <td>-</td>\n",
       "      <td>1</td>\n",
       "      <td>/projects/btl/zxue/tasrkleat-TCGA-results/tcga/CESC/RNA/RNA-Seq/UNC-LCCC/ILLUMINA/UNCID_2169014.97a13a19-7b9b-4e53-9dfe-6a5836a44510.130606_UNC9-SN296_0373_BD28T1ACXX_6_CTTGTA.tar.gz/tasrkleat-results/kleat/cba.KLEAT</td>\n",
       "      <td>100757060</td>\n",
       "      <td>100757327</td>\n",
       "      <td>268</td>\n",
       "      <td>269.0</td>\n",
       "      <td>1.003731</td>\n",
       "      <td>b0f33684-061e-4253-8895-e7ee3ca8e9f9</td>\n",
       "      <td>TCGA-FU-A5XV-01A-11R-A28H-07</td>\n",
       "      <td>97a13a19-7b9b-4e53-9dfe-6a5836a44510</td>\n",
       "      <td>gs://5aa919de-0aa0-43ec-9ec3-288481102b6d/tcga/CESC/RNA/RNA-Seq/UNC-LCCC/ILLUMINA/UNCID_2169014.97a13a19-7b9b-4e53-9dfe-6a5836a44510.130606_UNC9-SN296_0373_BD28T1ACXX_6_CTTGTA.tar.gz</td>\n",
       "      <td>5971417904</td>\n",
       "      <td>TCGA</td>\n",
       "      <td>TCGA-FU-A5XV-01A-11R-A28H-07</td>\n",
       "      <td>CESC</td>\n",
       "      <td>CERVICAL SQUAMOUS CELL CARCINOMA AND ENDOCERVICAL ADENOCARCINOMA</td>\n",
       "      <td>TP</td>\n",
       "      <td>Primary solid Tumor</td>\n",
       "      <td>RNA</td>\n",
       "      <td>UNC-LCCC</td>\n",
       "      <td>5.971418e+09</td>\n",
       "      <td>e1c9ce14af2f2bcdba031d249250d1d6</td>\n",
       "      <td>b0f33684-061e-4253-8895-e7ee3ca8e9f9</td>\n",
       "      <td>97a13a19-7b9b-4e53-9dfe-6a5836a44510</td>\n",
       "      <td>9dba5a81-3587-4f5a-8d19-e0b0aed0a677</td>\n",
       "      <td>8d5976cf-7e2d-420d-ba18-477a43ccec54</td>\n",
       "      <td>FU</td>\n",
       "      <td>NaN</td>\n",
       "      <td>2013-09-19</td>\n",
       "      <td>2013-09-19</td>\n",
       "      <td>2013-09-19</td>\n",
       "      <td>1</td>\n",
       "      <td>R</td>\n",
       "      <td>Illumina HiSeq 2000</td>\n",
       "      <td>tumour</td>\n",
       "      <td>Cervical squamous cell carcinoma and endocervical adenocarcinoma (CESC)</td>\n",
       "    </tr>\n",
       "    <tr>\n",
       "      <th>2</th>\n",
       "      <td>RTCA</td>\n",
       "      <td>ENST00000260563</td>\n",
       "      <td>+</td>\n",
       "      <td>yes</td>\n",
       "      <td>chr1</td>\n",
       "      <td>100757333</td>\n",
       "      <td>6</td>\n",
       "      <td>9</td>\n",
       "      <td>1</td>\n",
       "      <td>0</td>\n",
       "      <td>0</td>\n",
       "      <td>1</td>\n",
       "      <td>100757305:1</td>\n",
       "      <td>-</td>\n",
       "      <td>1</td>\n",
       "      <td>/projects/btl/zxue/tasrkleat-TCGA-results/tcga/CESC/RNA/RNA-Seq/UNC-LCCC/ILLUMINA/UNCID_2169014.97a13a19-7b9b-4e53-9dfe-6a5836a44510.130606_UNC9-SN296_0373_BD28T1ACXX_6_CTTGTA.tar.gz/tasrkleat-results/kleat/cba.KLEAT</td>\n",
       "      <td>100757060</td>\n",
       "      <td>100757327</td>\n",
       "      <td>268</td>\n",
       "      <td>274.0</td>\n",
       "      <td>1.022388</td>\n",
       "      <td>b0f33684-061e-4253-8895-e7ee3ca8e9f9</td>\n",
       "      <td>TCGA-FU-A5XV-01A-11R-A28H-07</td>\n",
       "      <td>97a13a19-7b9b-4e53-9dfe-6a5836a44510</td>\n",
       "      <td>gs://5aa919de-0aa0-43ec-9ec3-288481102b6d/tcga/CESC/RNA/RNA-Seq/UNC-LCCC/ILLUMINA/UNCID_2169014.97a13a19-7b9b-4e53-9dfe-6a5836a44510.130606_UNC9-SN296_0373_BD28T1ACXX_6_CTTGTA.tar.gz</td>\n",
       "      <td>5971417904</td>\n",
       "      <td>TCGA</td>\n",
       "      <td>TCGA-FU-A5XV-01A-11R-A28H-07</td>\n",
       "      <td>CESC</td>\n",
       "      <td>CERVICAL SQUAMOUS CELL CARCINOMA AND ENDOCERVICAL ADENOCARCINOMA</td>\n",
       "      <td>TP</td>\n",
       "      <td>Primary solid Tumor</td>\n",
       "      <td>RNA</td>\n",
       "      <td>UNC-LCCC</td>\n",
       "      <td>5.971418e+09</td>\n",
       "      <td>e1c9ce14af2f2bcdba031d249250d1d6</td>\n",
       "      <td>b0f33684-061e-4253-8895-e7ee3ca8e9f9</td>\n",
       "      <td>97a13a19-7b9b-4e53-9dfe-6a5836a44510</td>\n",
       "      <td>9dba5a81-3587-4f5a-8d19-e0b0aed0a677</td>\n",
       "      <td>8d5976cf-7e2d-420d-ba18-477a43ccec54</td>\n",
       "      <td>FU</td>\n",
       "      <td>NaN</td>\n",
       "      <td>2013-09-19</td>\n",
       "      <td>2013-09-19</td>\n",
       "      <td>2013-09-19</td>\n",
       "      <td>1</td>\n",
       "      <td>R</td>\n",
       "      <td>Illumina HiSeq 2000</td>\n",
       "      <td>tumour</td>\n",
       "      <td>Cervical squamous cell carcinoma and endocervical adenocarcinoma (CESC)</td>\n",
       "    </tr>\n",
       "    <tr>\n",
       "      <th>3</th>\n",
       "      <td>NRAS</td>\n",
       "      <td>ENST00000369535</td>\n",
       "      <td>-</td>\n",
       "      <td>yes</td>\n",
       "      <td>chr1</td>\n",
       "      <td>115247084</td>\n",
       "      <td>5</td>\n",
       "      <td>6</td>\n",
       "      <td>1</td>\n",
       "      <td>0</td>\n",
       "      <td>0</td>\n",
       "      <td>1</td>\n",
       "      <td>115247122:1</td>\n",
       "      <td>-</td>\n",
       "      <td>1</td>\n",
       "      <td>/projects/btl/zxue/tasrkleat-TCGA-results/tcga/CESC/RNA/RNA-Seq/UNC-LCCC/ILLUMINA/UNCID_2169014.97a13a19-7b9b-4e53-9dfe-6a5836a44510.130606_UNC9-SN296_0373_BD28T1ACXX_6_CTTGTA.tar.gz/tasrkleat-results/kleat/cba.KLEAT</td>\n",
       "      <td>115247089</td>\n",
       "      <td>115251154</td>\n",
       "      <td>4066</td>\n",
       "      <td>4071.0</td>\n",
       "      <td>1.001230</td>\n",
       "      <td>b0f33684-061e-4253-8895-e7ee3ca8e9f9</td>\n",
       "      <td>TCGA-FU-A5XV-01A-11R-A28H-07</td>\n",
       "      <td>97a13a19-7b9b-4e53-9dfe-6a5836a44510</td>\n",
       "      <td>gs://5aa919de-0aa0-43ec-9ec3-288481102b6d/tcga/CESC/RNA/RNA-Seq/UNC-LCCC/ILLUMINA/UNCID_2169014.97a13a19-7b9b-4e53-9dfe-6a5836a44510.130606_UNC9-SN296_0373_BD28T1ACXX_6_CTTGTA.tar.gz</td>\n",
       "      <td>5971417904</td>\n",
       "      <td>TCGA</td>\n",
       "      <td>TCGA-FU-A5XV-01A-11R-A28H-07</td>\n",
       "      <td>CESC</td>\n",
       "      <td>CERVICAL SQUAMOUS CELL CARCINOMA AND ENDOCERVICAL ADENOCARCINOMA</td>\n",
       "      <td>TP</td>\n",
       "      <td>Primary solid Tumor</td>\n",
       "      <td>RNA</td>\n",
       "      <td>UNC-LCCC</td>\n",
       "      <td>5.971418e+09</td>\n",
       "      <td>e1c9ce14af2f2bcdba031d249250d1d6</td>\n",
       "      <td>b0f33684-061e-4253-8895-e7ee3ca8e9f9</td>\n",
       "      <td>97a13a19-7b9b-4e53-9dfe-6a5836a44510</td>\n",
       "      <td>9dba5a81-3587-4f5a-8d19-e0b0aed0a677</td>\n",
       "      <td>8d5976cf-7e2d-420d-ba18-477a43ccec54</td>\n",
       "      <td>FU</td>\n",
       "      <td>NaN</td>\n",
       "      <td>2013-09-19</td>\n",
       "      <td>2013-09-19</td>\n",
       "      <td>2013-09-19</td>\n",
       "      <td>1</td>\n",
       "      <td>R</td>\n",
       "      <td>Illumina HiSeq 2000</td>\n",
       "      <td>tumour</td>\n",
       "      <td>Cervical squamous cell carcinoma and endocervical adenocarcinoma (CESC)</td>\n",
       "    </tr>\n",
       "    <tr>\n",
       "      <th>4</th>\n",
       "      <td>NRAS</td>\n",
       "      <td>ENST00000369535</td>\n",
       "      <td>-</td>\n",
       "      <td>yes</td>\n",
       "      <td>chr1</td>\n",
       "      <td>115247090</td>\n",
       "      <td>1</td>\n",
       "      <td>6</td>\n",
       "      <td>3</td>\n",
       "      <td>0</td>\n",
       "      <td>0</td>\n",
       "      <td>3</td>\n",
       "      <td>115247122:1</td>\n",
       "      <td>-</td>\n",
       "      <td>1</td>\n",
       "      <td>/projects/btl/zxue/tasrkleat-TCGA-results/tcga/CESC/RNA/RNA-Seq/UNC-LCCC/ILLUMINA/UNCID_2169014.97a13a19-7b9b-4e53-9dfe-6a5836a44510.130606_UNC9-SN296_0373_BD28T1ACXX_6_CTTGTA.tar.gz/tasrkleat-results/kleat/cba.KLEAT</td>\n",
       "      <td>115247089</td>\n",
       "      <td>115251154</td>\n",
       "      <td>4066</td>\n",
       "      <td>4065.0</td>\n",
       "      <td>0.999754</td>\n",
       "      <td>b0f33684-061e-4253-8895-e7ee3ca8e9f9</td>\n",
       "      <td>TCGA-FU-A5XV-01A-11R-A28H-07</td>\n",
       "      <td>97a13a19-7b9b-4e53-9dfe-6a5836a44510</td>\n",
       "      <td>gs://5aa919de-0aa0-43ec-9ec3-288481102b6d/tcga/CESC/RNA/RNA-Seq/UNC-LCCC/ILLUMINA/UNCID_2169014.97a13a19-7b9b-4e53-9dfe-6a5836a44510.130606_UNC9-SN296_0373_BD28T1ACXX_6_CTTGTA.tar.gz</td>\n",
       "      <td>5971417904</td>\n",
       "      <td>TCGA</td>\n",
       "      <td>TCGA-FU-A5XV-01A-11R-A28H-07</td>\n",
       "      <td>CESC</td>\n",
       "      <td>CERVICAL SQUAMOUS CELL CARCINOMA AND ENDOCERVICAL ADENOCARCINOMA</td>\n",
       "      <td>TP</td>\n",
       "      <td>Primary solid Tumor</td>\n",
       "      <td>RNA</td>\n",
       "      <td>UNC-LCCC</td>\n",
       "      <td>5.971418e+09</td>\n",
       "      <td>e1c9ce14af2f2bcdba031d249250d1d6</td>\n",
       "      <td>b0f33684-061e-4253-8895-e7ee3ca8e9f9</td>\n",
       "      <td>97a13a19-7b9b-4e53-9dfe-6a5836a44510</td>\n",
       "      <td>9dba5a81-3587-4f5a-8d19-e0b0aed0a677</td>\n",
       "      <td>8d5976cf-7e2d-420d-ba18-477a43ccec54</td>\n",
       "      <td>FU</td>\n",
       "      <td>NaN</td>\n",
       "      <td>2013-09-19</td>\n",
       "      <td>2013-09-19</td>\n",
       "      <td>2013-09-19</td>\n",
       "      <td>1</td>\n",
       "      <td>R</td>\n",
       "      <td>Illumina HiSeq 2000</td>\n",
       "      <td>tumour</td>\n",
       "      <td>Cervical squamous cell carcinoma and endocervical adenocarcinoma (CESC)</td>\n",
       "    </tr>\n",
       "  </tbody>\n",
       "</table>\n",
       "</div>"
      ],
      "text/plain": [
       "   gene       transcript transcript_strand coding chromosome  cleavage_site  \\\n",
       "0  RTCA  ENST00000370126  +                 yes    chr1       100740463       \n",
       "1  RTCA  ENST00000260563  +                 yes    chr1       100757328       \n",
       "2  RTCA  ENST00000260563  +                 yes    chr1       100757333       \n",
       "3  NRAS  ENST00000369535  -                 yes    chr1       115247084       \n",
       "4  NRAS  ENST00000369535  -                 yes    chr1       115247090       \n",
       "\n",
       "   distance_from_annotated_site  length_of_tail_in_contig  \\\n",
       "0  7978                          0                          \n",
       "1  1                             0                          \n",
       "2  6                             9                          \n",
       "3  5                             6                          \n",
       "4  1                             6                          \n",
       "\n",
       "   number_of_tail_reads  number_of_bridge_reads  max_bridge_read_tail_length  \\\n",
       "0  0                     2                       2                             \n",
       "1  0                     1                       6                             \n",
       "2  1                     0                       0                             \n",
       "3  1                     0                       0                             \n",
       "4  3                     0                       0                             \n",
       "\n",
       "   tail+bridge_reads hexamer_loc+id 3UTR_start_end  flag  \\\n",
       "0  2                  100740446:4    -              1      \n",
       "1  1                  100757305:1    -              1      \n",
       "2  1                  100757305:1    -              1      \n",
       "3  1                  115247122:1    -              1      \n",
       "4  3                  115247122:1    -              1      \n",
       "\n",
       "                                                                                                                                                                                                                kleat_fname  \\\n",
       "0  /projects/btl/zxue/tasrkleat-TCGA-results/tcga/CESC/RNA/RNA-Seq/UNC-LCCC/ILLUMINA/UNCID_2169014.97a13a19-7b9b-4e53-9dfe-6a5836a44510.130606_UNC9-SN296_0373_BD28T1ACXX_6_CTTGTA.tar.gz/tasrkleat-results/kleat/cba.KLEAT   \n",
       "1  /projects/btl/zxue/tasrkleat-TCGA-results/tcga/CESC/RNA/RNA-Seq/UNC-LCCC/ILLUMINA/UNCID_2169014.97a13a19-7b9b-4e53-9dfe-6a5836a44510.130606_UNC9-SN296_0373_BD28T1ACXX_6_CTTGTA.tar.gz/tasrkleat-results/kleat/cba.KLEAT   \n",
       "2  /projects/btl/zxue/tasrkleat-TCGA-results/tcga/CESC/RNA/RNA-Seq/UNC-LCCC/ILLUMINA/UNCID_2169014.97a13a19-7b9b-4e53-9dfe-6a5836a44510.130606_UNC9-SN296_0373_BD28T1ACXX_6_CTTGTA.tar.gz/tasrkleat-results/kleat/cba.KLEAT   \n",
       "3  /projects/btl/zxue/tasrkleat-TCGA-results/tcga/CESC/RNA/RNA-Seq/UNC-LCCC/ILLUMINA/UNCID_2169014.97a13a19-7b9b-4e53-9dfe-6a5836a44510.130606_UNC9-SN296_0373_BD28T1ACXX_6_CTTGTA.tar.gz/tasrkleat-results/kleat/cba.KLEAT   \n",
       "4  /projects/btl/zxue/tasrkleat-TCGA-results/tcga/CESC/RNA/RNA-Seq/UNC-LCCC/ILLUMINA/UNCID_2169014.97a13a19-7b9b-4e53-9dfe-6a5836a44510.130606_UNC9-SN296_0373_BD28T1ACXX_6_CTTGTA.tar.gz/tasrkleat-results/kleat/cba.KLEAT   \n",
       "\n",
       "   left_coord  right_coord  utr_len     kul   kul_norm  \\\n",
       "0  100732184   100732485    302      8280.0  27.417219   \n",
       "1  100757060   100757327    268      269.0   1.003731    \n",
       "2  100757060   100757327    268      274.0   1.022388    \n",
       "3  115247089   115251154    4066     4071.0  1.001230    \n",
       "4  115247089   115251154    4066     4065.0  0.999754    \n",
       "\n",
       "                        CGHubAnalysisID                AliquotBarcode  \\\n",
       "0  b0f33684-061e-4253-8895-e7ee3ca8e9f9  TCGA-FU-A5XV-01A-11R-A28H-07   \n",
       "1  b0f33684-061e-4253-8895-e7ee3ca8e9f9  TCGA-FU-A5XV-01A-11R-A28H-07   \n",
       "2  b0f33684-061e-4253-8895-e7ee3ca8e9f9  TCGA-FU-A5XV-01A-11R-A28H-07   \n",
       "3  b0f33684-061e-4253-8895-e7ee3ca8e9f9  TCGA-FU-A5XV-01A-11R-A28H-07   \n",
       "4  b0f33684-061e-4253-8895-e7ee3ca8e9f9  TCGA-FU-A5XV-01A-11R-A28H-07   \n",
       "\n",
       "                            AliquotUUID  \\\n",
       "0  97a13a19-7b9b-4e53-9dfe-6a5836a44510   \n",
       "1  97a13a19-7b9b-4e53-9dfe-6a5836a44510   \n",
       "2  97a13a19-7b9b-4e53-9dfe-6a5836a44510   \n",
       "3  97a13a19-7b9b-4e53-9dfe-6a5836a44510   \n",
       "4  97a13a19-7b9b-4e53-9dfe-6a5836a44510   \n",
       "\n",
       "                                                                                                                                                                                GCSobject  \\\n",
       "0  gs://5aa919de-0aa0-43ec-9ec3-288481102b6d/tcga/CESC/RNA/RNA-Seq/UNC-LCCC/ILLUMINA/UNCID_2169014.97a13a19-7b9b-4e53-9dfe-6a5836a44510.130606_UNC9-SN296_0373_BD28T1ACXX_6_CTTGTA.tar.gz   \n",
       "1  gs://5aa919de-0aa0-43ec-9ec3-288481102b6d/tcga/CESC/RNA/RNA-Seq/UNC-LCCC/ILLUMINA/UNCID_2169014.97a13a19-7b9b-4e53-9dfe-6a5836a44510.130606_UNC9-SN296_0373_BD28T1ACXX_6_CTTGTA.tar.gz   \n",
       "2  gs://5aa919de-0aa0-43ec-9ec3-288481102b6d/tcga/CESC/RNA/RNA-Seq/UNC-LCCC/ILLUMINA/UNCID_2169014.97a13a19-7b9b-4e53-9dfe-6a5836a44510.130606_UNC9-SN296_0373_BD28T1ACXX_6_CTTGTA.tar.gz   \n",
       "3  gs://5aa919de-0aa0-43ec-9ec3-288481102b6d/tcga/CESC/RNA/RNA-Seq/UNC-LCCC/ILLUMINA/UNCID_2169014.97a13a19-7b9b-4e53-9dfe-6a5836a44510.130606_UNC9-SN296_0373_BD28T1ACXX_6_CTTGTA.tar.gz   \n",
       "4  gs://5aa919de-0aa0-43ec-9ec3-288481102b6d/tcga/CESC/RNA/RNA-Seq/UNC-LCCC/ILLUMINA/UNCID_2169014.97a13a19-7b9b-4e53-9dfe-6a5836a44510.130606_UNC9-SN296_0373_BD28T1ACXX_6_CTTGTA.tar.gz   \n",
       "\n",
       "   objectSizeBytes study                       barcode disease  \\\n",
       "0  5971417904       TCGA  TCGA-FU-A5XV-01A-11R-A28H-07  CESC     \n",
       "1  5971417904       TCGA  TCGA-FU-A5XV-01A-11R-A28H-07  CESC     \n",
       "2  5971417904       TCGA  TCGA-FU-A5XV-01A-11R-A28H-07  CESC     \n",
       "3  5971417904       TCGA  TCGA-FU-A5XV-01A-11R-A28H-07  CESC     \n",
       "4  5971417904       TCGA  TCGA-FU-A5XV-01A-11R-A28H-07  CESC     \n",
       "\n",
       "                                                       disease_name  \\\n",
       "0  CERVICAL SQUAMOUS CELL CARCINOMA AND ENDOCERVICAL ADENOCARCINOMA   \n",
       "1  CERVICAL SQUAMOUS CELL CARCINOMA AND ENDOCERVICAL ADENOCARCINOMA   \n",
       "2  CERVICAL SQUAMOUS CELL CARCINOMA AND ENDOCERVICAL ADENOCARCINOMA   \n",
       "3  CERVICAL SQUAMOUS CELL CARCINOMA AND ENDOCERVICAL ADENOCARCINOMA   \n",
       "4  CERVICAL SQUAMOUS CELL CARCINOMA AND ENDOCERVICAL ADENOCARCINOMA   \n",
       "\n",
       "  sample_type     sample_type_name analyte_type    center    files_size  \\\n",
       "0  TP          Primary solid Tumor  RNA          UNC-LCCC  5.971418e+09   \n",
       "1  TP          Primary solid Tumor  RNA          UNC-LCCC  5.971418e+09   \n",
       "2  TP          Primary solid Tumor  RNA          UNC-LCCC  5.971418e+09   \n",
       "3  TP          Primary solid Tumor  RNA          UNC-LCCC  5.971418e+09   \n",
       "4  TP          Primary solid Tumor  RNA          UNC-LCCC  5.971418e+09   \n",
       "\n",
       "                           checksum                           analysis_id  \\\n",
       "0  e1c9ce14af2f2bcdba031d249250d1d6  b0f33684-061e-4253-8895-e7ee3ca8e9f9   \n",
       "1  e1c9ce14af2f2bcdba031d249250d1d6  b0f33684-061e-4253-8895-e7ee3ca8e9f9   \n",
       "2  e1c9ce14af2f2bcdba031d249250d1d6  b0f33684-061e-4253-8895-e7ee3ca8e9f9   \n",
       "3  e1c9ce14af2f2bcdba031d249250d1d6  b0f33684-061e-4253-8895-e7ee3ca8e9f9   \n",
       "4  e1c9ce14af2f2bcdba031d249250d1d6  b0f33684-061e-4253-8895-e7ee3ca8e9f9   \n",
       "\n",
       "                             aliquot_id                        participant_id  \\\n",
       "0  97a13a19-7b9b-4e53-9dfe-6a5836a44510  9dba5a81-3587-4f5a-8d19-e0b0aed0a677   \n",
       "1  97a13a19-7b9b-4e53-9dfe-6a5836a44510  9dba5a81-3587-4f5a-8d19-e0b0aed0a677   \n",
       "2  97a13a19-7b9b-4e53-9dfe-6a5836a44510  9dba5a81-3587-4f5a-8d19-e0b0aed0a677   \n",
       "3  97a13a19-7b9b-4e53-9dfe-6a5836a44510  9dba5a81-3587-4f5a-8d19-e0b0aed0a677   \n",
       "4  97a13a19-7b9b-4e53-9dfe-6a5836a44510  9dba5a81-3587-4f5a-8d19-e0b0aed0a677   \n",
       "\n",
       "                              sample_id tss_id sample_accession   published  \\\n",
       "0  8d5976cf-7e2d-420d-ba18-477a43ccec54  FU     NaN              2013-09-19   \n",
       "1  8d5976cf-7e2d-420d-ba18-477a43ccec54  FU     NaN              2013-09-19   \n",
       "2  8d5976cf-7e2d-420d-ba18-477a43ccec54  FU     NaN              2013-09-19   \n",
       "3  8d5976cf-7e2d-420d-ba18-477a43ccec54  FU     NaN              2013-09-19   \n",
       "4  8d5976cf-7e2d-420d-ba18-477a43ccec54  FU     NaN              2013-09-19   \n",
       "\n",
       "     uploaded    modified  sample_type_code analyte_type_code  \\\n",
       "0  2013-09-19  2013-09-19  1                 R                  \n",
       "1  2013-09-19  2013-09-19  1                 R                  \n",
       "2  2013-09-19  2013-09-19  1                 R                  \n",
       "3  2013-09-19  2013-09-19  1                 R                  \n",
       "4  2013-09-19  2013-09-19  1                 R                  \n",
       "\n",
       "    platform_full_name  sstype  \\\n",
       "0  Illumina HiSeq 2000  tumour   \n",
       "1  Illumina HiSeq 2000  tumour   \n",
       "2  Illumina HiSeq 2000  tumour   \n",
       "3  Illumina HiSeq 2000  tumour   \n",
       "4  Illumina HiSeq 2000  tumour   \n",
       "\n",
       "                                                                      dise  \n",
       "0  Cervical squamous cell carcinoma and endocervical adenocarcinoma (CESC)  \n",
       "1  Cervical squamous cell carcinoma and endocervical adenocarcinoma (CESC)  \n",
       "2  Cervical squamous cell carcinoma and endocervical adenocarcinoma (CESC)  \n",
       "3  Cervical squamous cell carcinoma and endocervical adenocarcinoma (CESC)  \n",
       "4  Cervical squamous cell carcinoma and endocervical adenocarcinoma (CESC)  "
      ]
     },
     "execution_count": 18,
     "metadata": {},
     "output_type": "execute_result"
    }
   ],
   "source": [
    "qdf.head()"
   ]
  },
  {
   "cell_type": "markdown",
   "metadata": {},
   "source": [
    "Focus on one disease and one gene for now"
   ]
  },
  {
   "cell_type": "code",
   "execution_count": 19,
   "metadata": {},
   "outputs": [
    {
     "data": {
      "text/plain": [
       "True"
      ]
     },
     "execution_count": 19,
     "metadata": {},
     "output_type": "execute_result"
    }
   ],
   "source": [
    "# Verified distance_from_annotated_site calculation is correct\n",
    "minus = qdf[qdf.transcript_strand == '-']\n",
    "\n",
    "(abs(minus.left_coord - minus.cleavage_site) == minus.distance_from_annotated_site).all()\n",
    "\n",
    "plus = qdf[qdf.transcript_strand == '+']\n",
    "\n",
    "(abs(plus.right_coord - plus.cleavage_site) == plus.distance_from_annotated_site).all()"
   ]
  },
  {
   "cell_type": "code",
   "execution_count": 20,
   "metadata": {
    "collapsed": true
   },
   "outputs": [],
   "source": [
    "def calc_kul(df):\n",
    "    plus_idx = df[df.transcript_strand == '+'].index\n",
    "    minus_idx = df[df.transcript_strand == '-'].index\n",
    "\n",
    "    # init the column\n",
    "    if 'kul' not in df.columns:\n",
    "        df['kul'] = -1\n",
    "\n",
    "    df.loc[plus_idx, 'kul'] = df.loc[plus_idx].cleavage_site - df.loc[plus_idx].left_coord + 1\n",
    "    df.loc[minus_idx, 'kul'] = df.loc[minus_idx].right_coord - df.loc[minus_idx].cleavage_site + 1"
   ]
  },
  {
   "cell_type": "code",
   "execution_count": 21,
   "metadata": {
    "collapsed": true
   },
   "outputs": [],
   "source": [
    "qdf['kul'] = qdf.kul.astype(int)"
   ]
  },
  {
   "cell_type": "code",
   "execution_count": null,
   "metadata": {
    "collapsed": true
   },
   "outputs": [],
   "source": []
  },
  {
   "cell_type": "code",
   "execution_count": null,
   "metadata": {
    "collapsed": true
   },
   "outputs": [],
   "source": []
  },
  {
   "cell_type": "code",
   "execution_count": 25,
   "metadata": {
    "collapsed": true
   },
   "outputs": [],
   "source": [
    "# fig, axes = plt.subplots(1, 2, figsize=(26, 12), sharey=True)\n",
    "# ax = jdf[jdf.sstype == 'tumour'].boxplot('kul', by='disease', sym='rs', ax=axes[0], rot=90)\n",
    "# counts = jdf.groupby('disease').count()['kul'].to_dict()\n",
    "# texts = [_.get_text() for _ in ax.get_xticklabels()]\n",
    "# xticks = ['{0} ({1})'.format(k, counts[k]) for k in texts]\n",
    "# ax.set_xticklabels(xticks)\n",
    "# ax.set_title('{0} ({1}), tumour, (before removing common clvsites)'.format(\n",
    "#         gene, jdf.transcript_strand.unique()[0]))\n",
    "\n",
    "# ax = jdf_uniq[jdf_uniq.sstype == 'tumour'].boxplot('kul', by='disease', sym='rs', ax=axes[1], rot=90)\n",
    "# counts = jdf_uniq.groupby('disease').count()['kul'].to_dict()\n",
    "# texts = [_.get_text() for _ in ax.get_xticklabels()]\n",
    "# xticks = ['{0} ({1})'.format(k, counts[k]) for k in texts]\n",
    "# ax.set_xticklabels(xticks)\n",
    "# ax.set_title('{0} ({1}), tumour, (after removing common clvsites)'.format(\n",
    "#         gene, jdf.transcript_strand.unique()[0]))\n",
    "\n",
    "# for ax in axes:\n",
    "#     ax.plot([0, 100], [utr_len, utr_len], '--', label='annotated length')\n",
    "#     ax.legend(loc='best')\n",
    "# plt.show()"
   ]
  },
  {
   "cell_type": "markdown",
   "metadata": {},
   "source": [
    "Disease specific"
   ]
  },
  {
   "cell_type": "code",
   "execution_count": 52,
   "metadata": {},
   "outputs": [
    {
     "name": "stdout",
     "output_type": "stream",
     "text": [
      "ABL1 (65,)\n",
      "CPU times: user 3 ms, sys: 0 ns, total: 3 ms\n",
      "Wall time: 1.94 ms\n",
      "saving /projects/trans_scratch/validations/workspace/szong/python_study/ABL1-boxplot-per-disease.png\n"
     ]
    }
   ],
   "source": [
    "# ONE_TRANSCRIPT_GENES = ['ABL1']\n",
    "for gene in ONE_TRANSCRIPT_GENES:\n",
    "    jdf = qdf[\n",
    "        (qdf.sample_type.isin(['TP', 'NT'])) \n",
    "    #     & (qdf.disease.isin(['KIRP']))\n",
    "    #     & (qdf.distance_from_annotated_site > 15)\n",
    "        & (qdf.distance_from_annotated_site < qdf.utr_len)\n",
    "        & (qdf.gene == gene)\n",
    "    ].copy()\n",
    "    \n",
    "    print(gene, jdf.cleavage_site.unique().shape)\n",
    "    # unique() is crucial! Otherwise, super slow\n",
    "    %time clustered = cluster(jdf.cleavage_site.unique())\n",
    "\n",
    "    # reassigned cleavage_site\n",
    "    jdf['cleavage_site'] = jdf.cleavage_site.replace(clustered)\n",
    "\n",
    "    # removing the same cleavage sites\n",
    "    jdf = jdf.loc[jdf[['cleavage_site', 'kleat_fname']].drop_duplicates().index]\n",
    "\n",
    "    jdf.shape\n",
    "\n",
    "    # recalculated kul\n",
    "    calc_kul(jdf)\n",
    "\n",
    "    jdf_n = jdf[jdf.sstype == 'normal']\n",
    "    jdf_t = jdf[jdf.sstype == 'tumour']\n",
    "\n",
    "    # Clustering cleavage sites directly seems to return the same results\n",
    "    aa, bb = remove_common_elements(jdf_n.cleavage_site, jdf_t.cleavage_site)\n",
    "\n",
    "    jdf_uniq = jdf[jdf.cleavage_site.isin(aa) | jdf.cleavage_site.isin(bb)].copy()\n",
    "\n",
    "    utr_len = jdf.utr_len.unique()[0]\n",
    "\n",
    "    fig, axes = plt.subplots(1, 2, figsize=(26, 12), sharey=True)\n",
    "\n",
    "    # Before removing overlapped clvsites\n",
    "    ax = jdf[jdf.sstype == 'tumour'].boxplot('kul', by='disease', sym='rs', ax=axes[0], rot=90)\n",
    "    counts = jdf.groupby('disease').count()['kul'].to_dict()\n",
    "    texts = [_.get_text() for _ in ax.get_xticklabels()]\n",
    "    xticks = ['{0} ({1})'.format(k, counts[k]) for k in texts]\n",
    "    ax.set_xticklabels(xticks)\n",
    "    ax.set_title('{0} ({1}), tumour, (before removing common clvsites)'.format(\n",
    "            gene, jdf.transcript_strand.unique()[0]))\n",
    "\n",
    "    ax = jdf_uniq[jdf_uniq.sstype == 'tumour'].boxplot('kul', by='disease', sym='rs', ax=axes[1], rot=90)\n",
    "    counts = jdf_uniq.groupby('disease').count()['kul'].to_dict()\n",
    "    texts = [_.get_text() for _ in ax.get_xticklabels()]\n",
    "    xticks = ['{0} ({1})'.format(k, counts[k]) for k in texts]\n",
    "    ax.set_xticklabels(xticks)\n",
    "    ax.set_title('{0} ({1}), tumour, (after removing common clvsites)'.format(\n",
    "            gene, jdf.transcript_strand.unique()[0]))\n",
    "    \n",
    "    for ax in axes:\n",
    "        ax.plot([0, 100], [utr_len, utr_len], '--', label='annotated length')\n",
    "        ax.legend(loc='best')\n",
    "        \n",
    "    outdir = '/projects/trans_scratch/validations/workspace/szong/python_study'\n",
    "    output = os.path.join(outdir, '{0}-boxplot-per-disease.png'.format(gene))\n",
    "    print('saving {0}'.format(output))\n",
    "    plt.savefig(output)\n",
    "    plt.close()\n",
    "#     break"
   ]
  },
  {
   "cell_type": "markdown",
   "metadata": {},
   "source": [
    "Combine all diseases"
   ]
  },
  {
   "cell_type": "code",
   "execution_count": 18,
   "metadata": {},
   "outputs": [
    {
     "name": "stdout",
     "output_type": "stream",
     "text": [
      "ABL1 (65,)\n",
      "CPU times: user 2 ms, sys: 0 ns, total: 2 ms\n",
      "Wall time: 1.95 ms\n",
      "saving /projects/trans_scratch/validations/workspace/szong/python_study/ABL1-boxplot.png\n",
      "CARD11 (30,)\n",
      "CPU times: user 2 ms, sys: 0 ns, total: 2 ms\n",
      "Wall time: 1.26 ms\n",
      "saving /projects/trans_scratch/validations/workspace/szong/python_study/CARD11-boxplot.png\n",
      "CEBPA (80,)\n",
      "CPU times: user 2 ms, sys: 0 ns, total: 2 ms\n",
      "Wall time: 2.13 ms\n",
      "saving /projects/trans_scratch/validations/workspace/szong/python_study/CEBPA-boxplot.png\n",
      "EP300 (189,)\n",
      "CPU times: user 5 ms, sys: 0 ns, total: 5 ms\n",
      "Wall time: 4.53 ms\n",
      "saving /projects/trans_scratch/validations/workspace/szong/python_study/EP300-boxplot.png\n",
      "IGF2BP1 (144,)\n",
      "CPU times: user 6 ms, sys: 0 ns, total: 6 ms\n",
      "Wall time: 4.92 ms\n",
      "saving /projects/trans_scratch/validations/workspace/szong/python_study/IGF2BP1-boxplot.png\n",
      "JUN (381,)\n",
      "CPU times: user 10 ms, sys: 0 ns, total: 10 ms\n",
      "Wall time: 10.1 ms\n",
      "saving /projects/trans_scratch/validations/workspace/szong/python_study/JUN-boxplot.png\n",
      "KDR (114,)\n",
      "CPU times: user 3 ms, sys: 0 ns, total: 3 ms\n",
      "Wall time: 3.23 ms\n",
      "saving /projects/trans_scratch/validations/workspace/szong/python_study/KDR-boxplot.png\n",
      "MYCN (62,)\n",
      "CPU times: user 2 ms, sys: 0 ns, total: 2 ms\n",
      "Wall time: 2.1 ms\n",
      "saving /projects/trans_scratch/validations/workspace/szong/python_study/MYCN-boxplot.png\n",
      "NOTCH1 (163,)\n",
      "CPU times: user 4 ms, sys: 0 ns, total: 4 ms\n",
      "Wall time: 4.11 ms\n",
      "saving /projects/trans_scratch/validations/workspace/szong/python_study/NOTCH1-boxplot.png\n",
      "NRAS (382,)\n",
      "CPU times: user 12 ms, sys: 0 ns, total: 12 ms\n",
      "Wall time: 12 ms\n",
      "saving /projects/trans_scratch/validations/workspace/szong/python_study/NRAS-boxplot.png\n",
      "PIK3CA (504,)\n",
      "CPU times: user 19 ms, sys: 0 ns, total: 19 ms\n",
      "Wall time: 18.8 ms\n",
      "saving /projects/trans_scratch/validations/workspace/szong/python_study/PIK3CA-boxplot.png\n",
      "PTEN (726,)\n",
      "CPU times: user 30 ms, sys: 0 ns, total: 30 ms\n",
      "Wall time: 30.8 ms\n",
      "saving /projects/trans_scratch/validations/workspace/szong/python_study/PTEN-boxplot.png\n",
      "RAB10 (378,)\n",
      "CPU times: user 12 ms, sys: 0 ns, total: 12 ms\n",
      "Wall time: 10.2 ms\n",
      "saving /projects/trans_scratch/validations/workspace/szong/python_study/RAB10-boxplot.png\n",
      "SOCS1 (49,)\n",
      "CPU times: user 2 ms, sys: 0 ns, total: 2 ms\n",
      "Wall time: 1.46 ms\n",
      "saving /projects/trans_scratch/validations/workspace/szong/python_study/SOCS1-boxplot.png\n",
      "SOX2 (213,)\n",
      "CPU times: user 5 ms, sys: 0 ns, total: 5 ms\n",
      "Wall time: 4.85 ms\n",
      "saving /projects/trans_scratch/validations/workspace/szong/python_study/SOX2-boxplot.png\n",
      "STK17A (206,)\n",
      "CPU times: user 7 ms, sys: 0 ns, total: 7 ms\n",
      "Wall time: 5.72 ms\n",
      "saving /projects/trans_scratch/validations/workspace/szong/python_study/STK17A-boxplot.png\n",
      "TNFAIP3 (222,)\n",
      "CPU times: user 5 ms, sys: 0 ns, total: 5 ms\n",
      "Wall time: 5.49 ms\n",
      "saving /projects/trans_scratch/validations/workspace/szong/python_study/TNFAIP3-boxplot.png\n"
     ]
    }
   ],
   "source": [
    "for gene in ONE_TRANSCRIPT_GENES:\n",
    "    jdf = qdf[\n",
    "        (qdf.sample_type.isin(['TP', 'NT'])) \n",
    "    #     & (qdf.disease.isin(['KIRP']))\n",
    "    #     & (qdf.distance_from_annotated_site > 15)\n",
    "        & (qdf.distance_from_annotated_site < qdf.utr_len)\n",
    "        & (qdf.gene == gene)\n",
    "    ].copy()\n",
    "    \n",
    "    print(gene, jdf.cleavage_site.unique().shape)\n",
    "    # unique() is crucial! Otherwise, super slow\n",
    "    %time clustered = cluster(jdf.cleavage_site.unique())\n",
    "\n",
    "    # reassigned cleavage_site\n",
    "    jdf['cleavage_site'] = jdf.cleavage_site.replace(clustered)\n",
    "\n",
    "    # removing the same cleavage sites\n",
    "    jdf = jdf.loc[jdf[['cleavage_site', 'kleat_fname']].drop_duplicates().index]\n",
    "\n",
    "    jdf.shape\n",
    "\n",
    "    # recalculated kul\n",
    "    calc_kul(jdf)\n",
    "\n",
    "    jdf_n = jdf[jdf.sstype == 'normal']\n",
    "    jdf_t = jdf[jdf.sstype == 'tumour']\n",
    "\n",
    "    # Clustering cleavage sites directly seems to return the same results\n",
    "    aa, bb = remove_common_elements(jdf_n.cleavage_site, jdf_t.cleavage_site)\n",
    "\n",
    "    jdf_uniq = jdf[jdf.cleavage_site.isin(aa) | jdf.cleavage_site.isin(bb)].copy()\n",
    "\n",
    "    utr_len = jdf.utr_len.unique()[0]\n",
    "\n",
    "    fig, axes = plt.subplots(1, 2, figsize=(16, 7))\n",
    "\n",
    "    # Before removing overlapped clvsites\n",
    "    ax = jdf.boxplot('kul', by='sstype', sym='rs', ax=axes[0])\n",
    "    counts = jdf.groupby('sstype').count()['kul'].to_dict()\n",
    "    texts = [_.get_text() for _ in ax.get_xticklabels()]\n",
    "    xticks = ['{0} ({1})'.format(k, counts[k]) for k in texts]\n",
    "    ax.set_xticklabels(xticks)\n",
    "    ax.set_title('{0} ({1}) (before removing common clvsites)'.format(\n",
    "            gene, jdf.transcript_strand.unique()[0]))\n",
    "\n",
    "    ax = jdf_uniq.boxplot('kul', by='sstype', sym='rs', ax=axes[1])\n",
    "    counts = jdf_uniq.groupby('sstype').count()['kul'].to_dict()\n",
    "    texts = [_.get_text() for _ in ax.get_xticklabels()]\n",
    "    xticks = ['{0} ({1})'.format(k, counts[k]) for k in texts]\n",
    "    ax.set_xticklabels(xticks)\n",
    "    ax.set_title('{0} ({1}) (after removing common clvsites)'.format(\n",
    "            gene, jdf.transcript_strand.unique()[0]))\n",
    "    \n",
    "    for ax in axes:\n",
    "        ax.plot([0, 100], [utr_len, utr_len], '--', label='annotated length')\n",
    "        ax.legend(loc='best')\n",
    "        \n",
    "    outdir = '/projects/trans_scratch/validations/workspace/szong/python_study'\n",
    "    output = os.path.join(outdir, '{0}-boxplot.png'.format(gene))\n",
    "    print('saving {0}'.format(output))\n",
    "    plt.savefig(output)\n",
    "    plt.cla()\n",
    "    plt.close()"
   ]
  },
  {
   "cell_type": "code",
   "execution_count": 17,
   "metadata": {
    "collapsed": true
   },
   "outputs": [],
   "source": [
    "gene = 'EP300'\n",
    "\n",
    "jdf = qdf[\n",
    "    (qdf.sample_type.isin(['TP', 'NT'])) \n",
    "#     & (qdf.disease.isin(['KIRP']))\n",
    "#     & (qdf.distance_from_annotated_site > 15)\n",
    "    & (qdf.distance_from_annotated_site < qdf.utr_len)\n",
    "    & (qdf.gene == gene)\n",
    "].copy()"
   ]
  },
  {
   "cell_type": "code",
   "execution_count": 18,
   "metadata": {},
   "outputs": [
    {
     "data": {
      "text/plain": [
       "(189,)"
      ]
     },
     "execution_count": 18,
     "metadata": {},
     "output_type": "execute_result"
    }
   ],
   "source": [
    "jdf.cleavage_site.unique().shape"
   ]
  },
  {
   "cell_type": "code",
   "execution_count": 19,
   "metadata": {},
   "outputs": [
    {
     "data": {
      "text/plain": [
       "array([1122])"
      ]
     },
     "execution_count": 19,
     "metadata": {},
     "output_type": "execute_result"
    }
   ],
   "source": [
    "jdf.utr_len.unique()"
   ]
  },
  {
   "cell_type": "code",
   "execution_count": 20,
   "metadata": {},
   "outputs": [
    {
     "name": "stdout",
     "output_type": "stream",
     "text": [
      "CPU times: user 5.5 ms, sys: 17 µs, total: 5.51 ms\n",
      "Wall time: 4.77 ms\n"
     ]
    }
   ],
   "source": [
    "# unique() is crucial! Otherwise, super slow\n",
    "%time clustered = cluster(jdf.cleavage_site.unique())"
   ]
  },
  {
   "cell_type": "code",
   "execution_count": 21,
   "metadata": {
    "collapsed": true
   },
   "outputs": [],
   "source": [
    "# reassigned cleavage_site\n",
    "jdf['cleavage_site'] = jdf.cleavage_site.replace(clustered)"
   ]
  },
  {
   "cell_type": "code",
   "execution_count": 22,
   "metadata": {},
   "outputs": [
    {
     "data": {
      "text/plain": [
       "(15243, 50)"
      ]
     },
     "execution_count": 22,
     "metadata": {},
     "output_type": "execute_result"
    }
   ],
   "source": [
    "jdf.shape"
   ]
  },
  {
   "cell_type": "code",
   "execution_count": 25,
   "metadata": {
    "collapsed": true
   },
   "outputs": [],
   "source": [
    "jdf = jdf.loc[jdf[['cleavage_site', 'kleat_fname']].drop_duplicates().index]"
   ]
  },
  {
   "cell_type": "code",
   "execution_count": 26,
   "metadata": {},
   "outputs": [
    {
     "data": {
      "text/plain": [
       "(11979, 50)"
      ]
     },
     "execution_count": 26,
     "metadata": {},
     "output_type": "execute_result"
    }
   ],
   "source": [
    "jdf.shape"
   ]
  },
  {
   "cell_type": "code",
   "execution_count": 27,
   "metadata": {
    "collapsed": true
   },
   "outputs": [],
   "source": [
    "utr_len = jdf.utr_len.unique()[0]"
   ]
  },
  {
   "cell_type": "code",
   "execution_count": 28,
   "metadata": {
    "collapsed": true
   },
   "outputs": [],
   "source": [
    "# recalculated kul\n",
    "calc_kul(jdf)"
   ]
  },
  {
   "cell_type": "code",
   "execution_count": 29,
   "metadata": {
    "collapsed": true
   },
   "outputs": [],
   "source": [
    "jdf_n = jdf[jdf.sstype == 'normal']\n",
    "jdf_t = jdf[jdf.sstype == 'tumour']"
   ]
  },
  {
   "cell_type": "code",
   "execution_count": 30,
   "metadata": {
    "collapsed": true
   },
   "outputs": [],
   "source": [
    "# Clustering cleavage sites directly seems to return the same results\n",
    "aa, bb = remove_common_elements(jdf_n.cleavage_site, jdf_t.cleavage_site)"
   ]
  },
  {
   "cell_type": "code",
   "execution_count": 31,
   "metadata": {
    "collapsed": true
   },
   "outputs": [],
   "source": [
    "jdf_uniq = jdf[jdf.cleavage_site.isin(aa) | jdf.cleavage_site.isin(bb)].copy()"
   ]
  },
  {
   "cell_type": "code",
   "execution_count": 32,
   "metadata": {},
   "outputs": [
    {
     "data": {
      "text/plain": [
       "(78, 50)"
      ]
     },
     "execution_count": 32,
     "metadata": {},
     "output_type": "execute_result"
    }
   ],
   "source": [
    "jdf_uniq.shape"
   ]
  },
  {
   "cell_type": "code",
   "execution_count": 392,
   "metadata": {
    "scrolled": true
   },
   "outputs": [
    {
     "data": {
      "image/png": "[encoded data removed]",
      "text/plain": [
       "<matplotlib.figure.Figure at 0x7fbe81594e10>"
      ]
     },
     "metadata": {},
     "output_type": "display_data"
    }
   ],
   "source": [
    "fig, axes = plt.subplots(1, 2, figsize=(16, 7))\n",
    "\n",
    "# Before removing overlapped clvsites\n",
    "ax = jdf.boxplot('kul', by='sstype', sym='rs', ax=axes[0])\n",
    "counts = jdf.groupby('sstype').count()['kul'].to_dict()\n",
    "texts = [_.get_text() for _ in ax.get_xticklabels()]\n",
    "xticks = ['{0} ({1})'.format(k, counts[k]) for k in texts]\n",
    "ax.set_xticklabels(xticks)\n",
    "ax.set_title('{0} ({1}) (before removing common clvsites)'.format(\n",
    "        gene, jdf.transcript_strand.unique()[0]))\n",
    "\n",
    "ax = jdf_uniq.boxplot('kul', by='sstype', sym='rs', ax=axes[1])\n",
    "counts = jdf_uniq.groupby('sstype').count()['kul'].to_dict()\n",
    "texts = [_.get_text() for _ in ax.get_xticklabels()]\n",
    "xticks = ['{0} ({1})'.format(k, counts[k]) for k in texts]\n",
    "ax.set_xticklabels(xticks)\n",
    "ax.set_title('{0} ({1}) (after removing common clvsites)'.format(\n",
    "        gene, jdf.transcript_strand.unique()[0]))\n",
    "\n",
    "for ax in axes:\n",
    "    ax.plot([0, 100], [utr_len, utr_len], '--', label='annotated length')\n",
    "    ax.legend(loc='best')"
   ]
  },
  {
   "cell_type": "code",
   "execution_count": 393,
   "metadata": {},
   "outputs": [
    {
     "data": {
      "text/plain": [
       "ENST00000396946    4374\n",
       "Name: transcript, dtype: int64"
      ]
     },
     "execution_count": 393,
     "metadata": {},
     "output_type": "execute_result"
    }
   ],
   "source": [
    "jdf.transcript.value_counts()"
   ]
  },
  {
   "cell_type": "code",
   "execution_count": 395,
   "metadata": {},
   "outputs": [
    {
     "data": {
      "text/plain": [
       "552    /projects/btl/zxue/tasrkleat-TCGA-results/tcga/LUSC/RNA/RNA-Seq/UNC-LCCC/ILLUMINA/UNCID_2214797.76ad7c60-3911-478f-bb99-2161769fa380.110127_UNC9-SN296_0123_A81CV9ABXX_5.tar.gz/tasrkleat-results/kleat/cba.KLEAT\n",
       "Name: kleat_fname, dtype: object"
      ]
     },
     "execution_count": 395,
     "metadata": {},
     "output_type": "execute_result"
    }
   ],
   "source": [
    "jdf[jdf.gene == gene].kleat_fname.head(1)"
   ]
  },
  {
   "cell_type": "code",
   "execution_count": 396,
   "metadata": {},
   "outputs": [
    {
     "data": {
      "text/plain": [
       "2945776    4311\n",
       "2945514    49  \n",
       "2945820    8   \n",
       "2945756    5   \n",
       "2945852    1   \n",
       "Name: cleavage_site, dtype: int64"
      ]
     },
     "execution_count": 396,
     "metadata": {},
     "output_type": "execute_result"
    }
   ],
   "source": [
    "jdf.cleavage_site.value_counts().head(5)"
   ]
  },
  {
   "cell_type": "code",
   "execution_count": 398,
   "metadata": {},
   "outputs": [
    {
     "data": {
      "text/plain": [
       "2945514    49\n",
       "2945820    8 \n",
       "2945756    5 \n",
       "2945852    1 \n",
       "Name: cleavage_site, dtype: int64"
      ]
     },
     "execution_count": 398,
     "metadata": {},
     "output_type": "execute_result"
    }
   ],
   "source": [
    "jdf_uniq.cleavage_site.value_counts().head(5)"
   ]
  },
  {
   "cell_type": "code",
   "execution_count": 174,
   "metadata": {},
   "outputs": [
    {
     "data": {
      "text/plain": [
       "<matplotlib.legend.Legend at 0x7f94be296e50>"
      ]
     },
     "execution_count": 174,
     "metadata": {},
     "output_type": "execute_result"
    },
    {
     "data": {
      "image/png": "[encoded data removed]",
      "text/plain": [
       "<matplotlib.figure.Figure at 0x7f94bed45490>"
      ]
     },
     "metadata": {},
     "output_type": "display_data"
    }
   ],
   "source": [
    "bins = np.linspace(0, 2 * UTR_LEN, 100)\n",
    "ax = jdf_n.kul.hist(bins=bins, normed=True, alpha=0.5, label='normal')\n",
    "jdf_t.kul.hist(bins=bins, normed=True, alpha=0.5, label='tumour')\n",
    "y = ax.get_ylim()[-1]\n",
    "ax.plot([UTR_LEN, UTR_LEN], [0, y], '--')\n",
    "ax.legend()"
   ]
  },
  {
   "cell_type": "code",
   "execution_count": null,
   "metadata": {
    "collapsed": true
   },
   "outputs": [],
   "source": []
  },
  {
   "cell_type": "code",
   "execution_count": null,
   "metadata": {
    "collapsed": true
   },
   "outputs": [],
   "source": []
  },
  {
   "cell_type": "code",
   "execution_count": 22,
   "metadata": {
    "collapsed": true
   },
   "outputs": [],
   "source": [
    "# def get_normal_unique_kuls(rdf):\n",
    "#     sdf = rdf[['kid', 'transcript', 'transcript_strand', 'kul', 'utr_len',\n",
    "#            'participant_id', 'barcode', 'sample_type']].copy()\n",
    "#     sdf.drop_duplicates(inplace=True)\n",
    "#     sdf_normal = sdf[sdf.sample_type == 'NT']\n",
    "#     sdf_tumour = sdf[sdf.sample_type == 'TP']\n",
    "#     uniq_n, uniq_t = remove_common_elements(sdf_normal.kid.unique(), sdf_tumour.kid.unique())\n",
    "#     print(rdf.disease.unique()[0], uniq_n.shape[0], uniq_t.shape[0])\n",
    "#     count = sdf[sdf.kid.isin(uniq_n)].groupby('kid').count()\n",
    "#     return sdf[sdf.kid.isin(count[count >= 2].index)][['kid', 'kul']]"
   ]
  },
  {
   "cell_type": "code",
   "execution_count": 24,
   "metadata": {
    "collapsed": true
   },
   "outputs": [],
   "source": [
    "# tdf_n = grps.apply(get_normal_unique_kuls)"
   ]
  },
  {
   "cell_type": "code",
   "execution_count": 131,
   "metadata": {
    "collapsed": true
   },
   "outputs": [],
   "source": [
    "def get_tumour_unique_kuls(rdf):\n",
    "    sdf = rdf[['kid', 'transcript', 'transcript_strand', 'kul', 'utr_len',\n",
    "           'participant_id', 'barcode', 'sample_type']].copy()\n",
    "    sdf.drop_duplicates(inplace=True)\n",
    "    sdf_normal = sdf[sdf.sample_type == 'NT']\n",
    "    sdf_tumour = sdf[sdf.sample_type == 'TP']\n",
    "    uniq_n, uniq_t = remove_common_elements(sdf_normal.kid.unique(), sdf_tumour.kid.unique())\n",
    "    print(rdf.disease.unique()[0], uniq_n.shape[0], uniq_t.shape[0])\n",
    "    count = sdf[sdf.kid.isin(uniq_t)].groupby('kid').count()\n",
    "    return sdf[sdf.kid.isin(count[count >= 2].index)][['kid', 'cleavage_site']]"
   ]
  },
  {
   "cell_type": "code",
   "execution_count": 136,
   "metadata": {
    "collapsed": true
   },
   "outputs": [],
   "source": [
    "_qdf = qdf[\n",
    "    (qdf.sample_type.isin(['TP', 'NT'])) \n",
    "#     & (qdf.disease.isin(['KIRP']))\n",
    "    & (qdf.distance_from_annotated_site > 15)\n",
    "    & (qdf.distance_from_annotated_site < qdf.utr_len)\n",
    "    & (qdf.gene == 'PIK3CA')\n",
    "]"
   ]
  },
  {
   "cell_type": "code",
   "execution_count": 140,
   "metadata": {},
   "outputs": [
    {
     "data": {
      "text/html": [
       "<div>\n",
       "<table border=\"1\" class=\"dataframe\">\n",
       "  <thead>\n",
       "    <tr style=\"text-align: right;\">\n",
       "      <th></th>\n",
       "      <th>gene</th>\n",
       "      <th>transcript</th>\n",
       "      <th>transcript_strand</th>\n",
       "      <th>coding</th>\n",
       "      <th>chromosome</th>\n",
       "      <th>cleavage_site</th>\n",
       "      <th>distance_from_annotated_site</th>\n",
       "      <th>length_of_tail_in_contig</th>\n",
       "      <th>number_of_tail_reads</th>\n",
       "      <th>number_of_bridge_reads</th>\n",
       "      <th>max_bridge_read_tail_length</th>\n",
       "      <th>tail+bridge_reads</th>\n",
       "      <th>hexamer_loc+id</th>\n",
       "      <th>3UTR_start_end</th>\n",
       "      <th>flag</th>\n",
       "      <th>kleat_fname</th>\n",
       "      <th>left_coord</th>\n",
       "      <th>right_coord</th>\n",
       "      <th>utr_len</th>\n",
       "      <th>kul</th>\n",
       "      <th>kul_norm</th>\n",
       "      <th>CGHubAnalysisID</th>\n",
       "      <th>AliquotBarcode</th>\n",
       "      <th>AliquotUUID</th>\n",
       "      <th>GCSobject</th>\n",
       "      <th>objectSizeBytes</th>\n",
       "      <th>study</th>\n",
       "      <th>barcode</th>\n",
       "      <th>disease</th>\n",
       "      <th>disease_name</th>\n",
       "      <th>sample_type</th>\n",
       "      <th>sample_type_name</th>\n",
       "      <th>analyte_type</th>\n",
       "      <th>center</th>\n",
       "      <th>files_size</th>\n",
       "      <th>checksum</th>\n",
       "      <th>analysis_id</th>\n",
       "      <th>aliquot_id</th>\n",
       "      <th>participant_id</th>\n",
       "      <th>sample_id</th>\n",
       "      <th>tss_id</th>\n",
       "      <th>sample_accession</th>\n",
       "      <th>published</th>\n",
       "      <th>uploaded</th>\n",
       "      <th>modified</th>\n",
       "      <th>sample_type_code</th>\n",
       "      <th>analyte_type_code</th>\n",
       "      <th>platform_full_name</th>\n",
       "      <th>sstype</th>\n",
       "      <th>dise</th>\n",
       "      <th>kid</th>\n",
       "    </tr>\n",
       "  </thead>\n",
       "  <tbody>\n",
       "    <tr>\n",
       "      <th>47</th>\n",
       "      <td>PIK3CA</td>\n",
       "      <td>ENST00000263967</td>\n",
       "      <td>+</td>\n",
       "      <td>yes</td>\n",
       "      <td>chr3</td>\n",
       "      <td>178952774</td>\n",
       "      <td>5107</td>\n",
       "      <td>0</td>\n",
       "      <td>0</td>\n",
       "      <td>2</td>\n",
       "      <td>4</td>\n",
       "      <td>2</td>\n",
       "      <td>178952753:1</td>\n",
       "      <td>-</td>\n",
       "      <td>1</td>\n",
       "      <td>/projects/btl/zxue/tasrkleat-TCGA-results/tcga/CESC/RNA/RNA-Seq/UNC-LCCC/ILLUMINA/UNCID_2169014.97a13a19-7b9b-4e53-9dfe-6a5836a44510.130606_UNC9-SN296_0373_BD28T1ACXX_6_CTTGTA.tar.gz/tasrkleat-results/kleat/cba.KLEAT</td>\n",
       "      <td>178952152</td>\n",
       "      <td>178957881</td>\n",
       "      <td>5730</td>\n",
       "      <td>623</td>\n",
       "      <td>0.108726</td>\n",
       "      <td>b0f33684-061e-4253-8895-e7ee3ca8e9f9</td>\n",
       "      <td>TCGA-FU-A5XV-01A-11R-A28H-07</td>\n",
       "      <td>97a13a19-7b9b-4e53-9dfe-6a5836a44510</td>\n",
       "      <td>gs://5aa919de-0aa0-43ec-9ec3-288481102b6d/tcga/CESC/RNA/RNA-Seq/UNC-LCCC/ILLUMINA/UNCID_2169014.97a13a19-7b9b-4e53-9dfe-6a5836a44510.130606_UNC9-SN296_0373_BD28T1ACXX_6_CTTGTA.tar.gz</td>\n",
       "      <td>5971417904</td>\n",
       "      <td>TCGA</td>\n",
       "      <td>TCGA-FU-A5XV-01A-11R-A28H-07</td>\n",
       "      <td>CESC</td>\n",
       "      <td>CERVICAL SQUAMOUS CELL CARCINOMA AND ENDOCERVICAL ADENOCARCINOMA</td>\n",
       "      <td>TP</td>\n",
       "      <td>Primary solid Tumor</td>\n",
       "      <td>RNA</td>\n",
       "      <td>UNC-LCCC</td>\n",
       "      <td>5.971418e+09</td>\n",
       "      <td>e1c9ce14af2f2bcdba031d249250d1d6</td>\n",
       "      <td>b0f33684-061e-4253-8895-e7ee3ca8e9f9</td>\n",
       "      <td>97a13a19-7b9b-4e53-9dfe-6a5836a44510</td>\n",
       "      <td>9dba5a81-3587-4f5a-8d19-e0b0aed0a677</td>\n",
       "      <td>8d5976cf-7e2d-420d-ba18-477a43ccec54</td>\n",
       "      <td>FU</td>\n",
       "      <td>NaN</td>\n",
       "      <td>2013-09-19</td>\n",
       "      <td>2013-09-19</td>\n",
       "      <td>2013-09-19</td>\n",
       "      <td>1</td>\n",
       "      <td>R</td>\n",
       "      <td>Illumina HiSeq 2000</td>\n",
       "      <td>tumour</td>\n",
       "      <td>Cervical squamous cell carcinoma and endocervical adenocarcinoma (CESC)</td>\n",
       "      <td>chr3-PIK3CA-(+)-ENST00000263967-178952774-623</td>\n",
       "    </tr>\n",
       "    <tr>\n",
       "      <th>48</th>\n",
       "      <td>PIK3CA</td>\n",
       "      <td>ENST00000263967</td>\n",
       "      <td>+</td>\n",
       "      <td>yes</td>\n",
       "      <td>chr3</td>\n",
       "      <td>178955281</td>\n",
       "      <td>2600</td>\n",
       "      <td>0</td>\n",
       "      <td>0</td>\n",
       "      <td>4</td>\n",
       "      <td>7</td>\n",
       "      <td>4</td>\n",
       "      <td>178955273:6</td>\n",
       "      <td>-</td>\n",
       "      <td>1</td>\n",
       "      <td>/projects/btl/zxue/tasrkleat-TCGA-results/tcga/CESC/RNA/RNA-Seq/UNC-LCCC/ILLUMINA/UNCID_2169014.97a13a19-7b9b-4e53-9dfe-6a5836a44510.130606_UNC9-SN296_0373_BD28T1ACXX_6_CTTGTA.tar.gz/tasrkleat-results/kleat/cba.KLEAT</td>\n",
       "      <td>178952152</td>\n",
       "      <td>178957881</td>\n",
       "      <td>5730</td>\n",
       "      <td>3130</td>\n",
       "      <td>0.546248</td>\n",
       "      <td>b0f33684-061e-4253-8895-e7ee3ca8e9f9</td>\n",
       "      <td>TCGA-FU-A5XV-01A-11R-A28H-07</td>\n",
       "      <td>97a13a19-7b9b-4e53-9dfe-6a5836a44510</td>\n",
       "      <td>gs://5aa919de-0aa0-43ec-9ec3-288481102b6d/tcga/CESC/RNA/RNA-Seq/UNC-LCCC/ILLUMINA/UNCID_2169014.97a13a19-7b9b-4e53-9dfe-6a5836a44510.130606_UNC9-SN296_0373_BD28T1ACXX_6_CTTGTA.tar.gz</td>\n",
       "      <td>5971417904</td>\n",
       "      <td>TCGA</td>\n",
       "      <td>TCGA-FU-A5XV-01A-11R-A28H-07</td>\n",
       "      <td>CESC</td>\n",
       "      <td>CERVICAL SQUAMOUS CELL CARCINOMA AND ENDOCERVICAL ADENOCARCINOMA</td>\n",
       "      <td>TP</td>\n",
       "      <td>Primary solid Tumor</td>\n",
       "      <td>RNA</td>\n",
       "      <td>UNC-LCCC</td>\n",
       "      <td>5.971418e+09</td>\n",
       "      <td>e1c9ce14af2f2bcdba031d249250d1d6</td>\n",
       "      <td>b0f33684-061e-4253-8895-e7ee3ca8e9f9</td>\n",
       "      <td>97a13a19-7b9b-4e53-9dfe-6a5836a44510</td>\n",
       "      <td>9dba5a81-3587-4f5a-8d19-e0b0aed0a677</td>\n",
       "      <td>8d5976cf-7e2d-420d-ba18-477a43ccec54</td>\n",
       "      <td>FU</td>\n",
       "      <td>NaN</td>\n",
       "      <td>2013-09-19</td>\n",
       "      <td>2013-09-19</td>\n",
       "      <td>2013-09-19</td>\n",
       "      <td>1</td>\n",
       "      <td>R</td>\n",
       "      <td>Illumina HiSeq 2000</td>\n",
       "      <td>tumour</td>\n",
       "      <td>Cervical squamous cell carcinoma and endocervical adenocarcinoma (CESC)</td>\n",
       "      <td>chr3-PIK3CA-(+)-ENST00000263967-178955281-3130</td>\n",
       "    </tr>\n",
       "    <tr>\n",
       "      <th>49</th>\n",
       "      <td>PIK3CA</td>\n",
       "      <td>ENST00000263967</td>\n",
       "      <td>+</td>\n",
       "      <td>yes</td>\n",
       "      <td>chr3</td>\n",
       "      <td>178955387</td>\n",
       "      <td>2494</td>\n",
       "      <td>0</td>\n",
       "      <td>0</td>\n",
       "      <td>1</td>\n",
       "      <td>4</td>\n",
       "      <td>1</td>\n",
       "      <td>178955359:14</td>\n",
       "      <td>-</td>\n",
       "      <td>1</td>\n",
       "      <td>/projects/btl/zxue/tasrkleat-TCGA-results/tcga/CESC/RNA/RNA-Seq/UNC-LCCC/ILLUMINA/UNCID_2169014.97a13a19-7b9b-4e53-9dfe-6a5836a44510.130606_UNC9-SN296_0373_BD28T1ACXX_6_CTTGTA.tar.gz/tasrkleat-results/kleat/cba.KLEAT</td>\n",
       "      <td>178952152</td>\n",
       "      <td>178957881</td>\n",
       "      <td>5730</td>\n",
       "      <td>3236</td>\n",
       "      <td>0.564747</td>\n",
       "      <td>b0f33684-061e-4253-8895-e7ee3ca8e9f9</td>\n",
       "      <td>TCGA-FU-A5XV-01A-11R-A28H-07</td>\n",
       "      <td>97a13a19-7b9b-4e53-9dfe-6a5836a44510</td>\n",
       "      <td>gs://5aa919de-0aa0-43ec-9ec3-288481102b6d/tcga/CESC/RNA/RNA-Seq/UNC-LCCC/ILLUMINA/UNCID_2169014.97a13a19-7b9b-4e53-9dfe-6a5836a44510.130606_UNC9-SN296_0373_BD28T1ACXX_6_CTTGTA.tar.gz</td>\n",
       "      <td>5971417904</td>\n",
       "      <td>TCGA</td>\n",
       "      <td>TCGA-FU-A5XV-01A-11R-A28H-07</td>\n",
       "      <td>CESC</td>\n",
       "      <td>CERVICAL SQUAMOUS CELL CARCINOMA AND ENDOCERVICAL ADENOCARCINOMA</td>\n",
       "      <td>TP</td>\n",
       "      <td>Primary solid Tumor</td>\n",
       "      <td>RNA</td>\n",
       "      <td>UNC-LCCC</td>\n",
       "      <td>5.971418e+09</td>\n",
       "      <td>e1c9ce14af2f2bcdba031d249250d1d6</td>\n",
       "      <td>b0f33684-061e-4253-8895-e7ee3ca8e9f9</td>\n",
       "      <td>97a13a19-7b9b-4e53-9dfe-6a5836a44510</td>\n",
       "      <td>9dba5a81-3587-4f5a-8d19-e0b0aed0a677</td>\n",
       "      <td>8d5976cf-7e2d-420d-ba18-477a43ccec54</td>\n",
       "      <td>FU</td>\n",
       "      <td>NaN</td>\n",
       "      <td>2013-09-19</td>\n",
       "      <td>2013-09-19</td>\n",
       "      <td>2013-09-19</td>\n",
       "      <td>1</td>\n",
       "      <td>R</td>\n",
       "      <td>Illumina HiSeq 2000</td>\n",
       "      <td>tumour</td>\n",
       "      <td>Cervical squamous cell carcinoma and endocervical adenocarcinoma (CESC)</td>\n",
       "      <td>chr3-PIK3CA-(+)-ENST00000263967-178955387-3236</td>\n",
       "    </tr>\n",
       "    <tr>\n",
       "      <th>216</th>\n",
       "      <td>PIK3CA</td>\n",
       "      <td>ENST00000263967</td>\n",
       "      <td>+</td>\n",
       "      <td>yes</td>\n",
       "      <td>chr3</td>\n",
       "      <td>178952925</td>\n",
       "      <td>4956</td>\n",
       "      <td>4</td>\n",
       "      <td>0</td>\n",
       "      <td>0</td>\n",
       "      <td>0</td>\n",
       "      <td>0</td>\n",
       "      <td>178952908:3</td>\n",
       "      <td>-</td>\n",
       "      <td>1</td>\n",
       "      <td>/projects/btl/zxue/tasrkleat-TCGA-results/tcga/BRCA/RNA/RNA-Seq/UNC-LCCC/ILLUMINA/UNCID_2209362.b3ac6331-6c8f-4165-add7-482aadf7fa68.110506_UNC9-SN296_0179_AB0BEFABXX_5.tar.gz/tasrkleat-results/kleat/cba.KLEAT</td>\n",
       "      <td>178952152</td>\n",
       "      <td>178957881</td>\n",
       "      <td>5730</td>\n",
       "      <td>774</td>\n",
       "      <td>0.135079</td>\n",
       "      <td>590940d1-0cd0-4c4e-8100-784e0b3004ce</td>\n",
       "      <td>TCGA-A2-A0YF-01A-21R-A109-07</td>\n",
       "      <td>b3ac6331-6c8f-4165-add7-482aadf7fa68</td>\n",
       "      <td>gs://5aa919de-0aa0-43ec-9ec3-288481102b6d/tcga/BRCA/RNA/RNA-Seq/UNC-LCCC/ILLUMINA/UNCID_2209362.b3ac6331-6c8f-4165-add7-482aadf7fa68.110506_UNC9-SN296_0179_AB0BEFABXX_5.tar.gz</td>\n",
       "      <td>7378876544</td>\n",
       "      <td>TCGA</td>\n",
       "      <td>TCGA-A2-A0YF-01A-21R-A109-07</td>\n",
       "      <td>BRCA</td>\n",
       "      <td>BREAST INVASIVE CARCINOMA</td>\n",
       "      <td>TP</td>\n",
       "      <td>Primary solid Tumor</td>\n",
       "      <td>RNA</td>\n",
       "      <td>UNC-LCCC</td>\n",
       "      <td>7.378877e+09</td>\n",
       "      <td>735a2c29157f1dae9e6a4f502dca7c0b</td>\n",
       "      <td>590940d1-0cd0-4c4e-8100-784e0b3004ce</td>\n",
       "      <td>b3ac6331-6c8f-4165-add7-482aadf7fa68</td>\n",
       "      <td>ae8c77fe-e6c8-44d5-8265-4a38c637bbef</td>\n",
       "      <td>2b721ce6-b620-4216-9846-c82543880bb3</td>\n",
       "      <td>A2</td>\n",
       "      <td>NaN</td>\n",
       "      <td>2013-09-30</td>\n",
       "      <td>2013-09-30</td>\n",
       "      <td>2013-09-30</td>\n",
       "      <td>1</td>\n",
       "      <td>R</td>\n",
       "      <td>Illumina HiSeq 2000</td>\n",
       "      <td>tumour</td>\n",
       "      <td>Breast invasive carcinoma (BRCA)</td>\n",
       "      <td>chr3-PIK3CA-(+)-ENST00000263967-178952925-774</td>\n",
       "    </tr>\n",
       "    <tr>\n",
       "      <th>346</th>\n",
       "      <td>PIK3CA</td>\n",
       "      <td>ENST00000263967</td>\n",
       "      <td>+</td>\n",
       "      <td>yes</td>\n",
       "      <td>chr3</td>\n",
       "      <td>178952607</td>\n",
       "      <td>5274</td>\n",
       "      <td>0</td>\n",
       "      <td>0</td>\n",
       "      <td>1</td>\n",
       "      <td>6</td>\n",
       "      <td>1</td>\n",
       "      <td>178952580:3</td>\n",
       "      <td>-</td>\n",
       "      <td>1</td>\n",
       "      <td>/projects/btl/zxue/tasrkleat-TCGA-results/tcga/LUSC/RNA/RNA-Seq/UNC-LCCC/ILLUMINA/UNCID_2167530.621db48c-a6ba-4cd6-8c58-24a87d4b44b4.130627_UNC15-SN850_0315_AC25WHACXX_2_ATGTCA.tar.gz/tasrkleat-results/kleat/cba.KLEAT</td>\n",
       "      <td>178952152</td>\n",
       "      <td>178957881</td>\n",
       "      <td>5730</td>\n",
       "      <td>456</td>\n",
       "      <td>0.079581</td>\n",
       "      <td>d0fd65c7-19fc-409d-a6d4-e3574dcb7bbb</td>\n",
       "      <td>TCGA-63-A5MY-01A-11R-A26W-07</td>\n",
       "      <td>621db48c-a6ba-4cd6-8c58-24a87d4b44b4</td>\n",
       "      <td>gs://5aa919de-0aa0-43ec-9ec3-288481102b6d/tcga/LUSC/RNA/RNA-Seq/UNC-LCCC/ILLUMINA/UNCID_2167530.621db48c-a6ba-4cd6-8c58-24a87d4b44b4.130627_UNC15-SN850_0315_AC25WHACXX_2_ATGTCA.tar.gz</td>\n",
       "      <td>5983567165</td>\n",
       "      <td>TCGA</td>\n",
       "      <td>TCGA-63-A5MY-01A-11R-A26W-07</td>\n",
       "      <td>LUSC</td>\n",
       "      <td>LUNG SQUAMOUS CELL CARCINOMA</td>\n",
       "      <td>TP</td>\n",
       "      <td>Primary solid Tumor</td>\n",
       "      <td>RNA</td>\n",
       "      <td>UNC-LCCC</td>\n",
       "      <td>5.983567e+09</td>\n",
       "      <td>a8876cb64ebe22c6285a3163e2edc763</td>\n",
       "      <td>d0fd65c7-19fc-409d-a6d4-e3574dcb7bbb</td>\n",
       "      <td>621db48c-a6ba-4cd6-8c58-24a87d4b44b4</td>\n",
       "      <td>3b25aff2-9b5f-491a-8eff-d71a9cc8666b</td>\n",
       "      <td>b180fdf0-935d-406a-9ec3-0d839d74d322</td>\n",
       "      <td>63</td>\n",
       "      <td>NaN</td>\n",
       "      <td>2013-09-20</td>\n",
       "      <td>2013-09-20</td>\n",
       "      <td>2013-09-20</td>\n",
       "      <td>1</td>\n",
       "      <td>R</td>\n",
       "      <td>Illumina HiSeq 2000</td>\n",
       "      <td>tumour</td>\n",
       "      <td>Lung squamous cell carcinoma (LUSC)</td>\n",
       "      <td>chr3-PIK3CA-(+)-ENST00000263967-178952607-456</td>\n",
       "    </tr>\n",
       "  </tbody>\n",
       "</table>\n",
       "</div>"
      ],
      "text/plain": [
       "       gene       transcript transcript_strand coding chromosome  cleavage_site  distance_from_annotated_site  length_of_tail_in_contig  number_of_tail_reads  number_of_bridge_reads  max_bridge_read_tail_length  tail+bridge_reads hexamer_loc+id 3UTR_start_end  flag  \\\n",
       "47   PIK3CA  ENST00000263967  +                 yes    chr3       178952774      5107                          0                         0                     2                       4                            2                  178952753:1    -              1      \n",
       "48   PIK3CA  ENST00000263967  +                 yes    chr3       178955281      2600                          0                         0                     4                       7                            4                  178955273:6    -              1      \n",
       "49   PIK3CA  ENST00000263967  +                 yes    chr3       178955387      2494                          0                         0                     1                       4                            1                  178955359:14   -              1      \n",
       "216  PIK3CA  ENST00000263967  +                 yes    chr3       178952925      4956                          4                         0                     0                       0                            0                  178952908:3    -              1      \n",
       "346  PIK3CA  ENST00000263967  +                 yes    chr3       178952607      5274                          0                         0                     1                       6                            1                  178952580:3    -              1      \n",
       "\n",
       "                                                                                                                                                                                                                   kleat_fname  left_coord  right_coord  utr_len   kul  kul_norm  \\\n",
       "47   /projects/btl/zxue/tasrkleat-TCGA-results/tcga/CESC/RNA/RNA-Seq/UNC-LCCC/ILLUMINA/UNCID_2169014.97a13a19-7b9b-4e53-9dfe-6a5836a44510.130606_UNC9-SN296_0373_BD28T1ACXX_6_CTTGTA.tar.gz/tasrkleat-results/kleat/cba.KLEAT   178952152   178957881    5730     623   0.108726   \n",
       "48   /projects/btl/zxue/tasrkleat-TCGA-results/tcga/CESC/RNA/RNA-Seq/UNC-LCCC/ILLUMINA/UNCID_2169014.97a13a19-7b9b-4e53-9dfe-6a5836a44510.130606_UNC9-SN296_0373_BD28T1ACXX_6_CTTGTA.tar.gz/tasrkleat-results/kleat/cba.KLEAT   178952152   178957881    5730     3130  0.546248   \n",
       "49   /projects/btl/zxue/tasrkleat-TCGA-results/tcga/CESC/RNA/RNA-Seq/UNC-LCCC/ILLUMINA/UNCID_2169014.97a13a19-7b9b-4e53-9dfe-6a5836a44510.130606_UNC9-SN296_0373_BD28T1ACXX_6_CTTGTA.tar.gz/tasrkleat-results/kleat/cba.KLEAT   178952152   178957881    5730     3236  0.564747   \n",
       "216  /projects/btl/zxue/tasrkleat-TCGA-results/tcga/BRCA/RNA/RNA-Seq/UNC-LCCC/ILLUMINA/UNCID_2209362.b3ac6331-6c8f-4165-add7-482aadf7fa68.110506_UNC9-SN296_0179_AB0BEFABXX_5.tar.gz/tasrkleat-results/kleat/cba.KLEAT          178952152   178957881    5730     774   0.135079   \n",
       "346  /projects/btl/zxue/tasrkleat-TCGA-results/tcga/LUSC/RNA/RNA-Seq/UNC-LCCC/ILLUMINA/UNCID_2167530.621db48c-a6ba-4cd6-8c58-24a87d4b44b4.130627_UNC15-SN850_0315_AC25WHACXX_2_ATGTCA.tar.gz/tasrkleat-results/kleat/cba.KLEAT  178952152   178957881    5730     456   0.079581   \n",
       "\n",
       "                          CGHubAnalysisID                AliquotBarcode                           AliquotUUID                                                                                                                                                                                GCSobject  \\\n",
       "47   b0f33684-061e-4253-8895-e7ee3ca8e9f9  TCGA-FU-A5XV-01A-11R-A28H-07  97a13a19-7b9b-4e53-9dfe-6a5836a44510  gs://5aa919de-0aa0-43ec-9ec3-288481102b6d/tcga/CESC/RNA/RNA-Seq/UNC-LCCC/ILLUMINA/UNCID_2169014.97a13a19-7b9b-4e53-9dfe-6a5836a44510.130606_UNC9-SN296_0373_BD28T1ACXX_6_CTTGTA.tar.gz    \n",
       "48   b0f33684-061e-4253-8895-e7ee3ca8e9f9  TCGA-FU-A5XV-01A-11R-A28H-07  97a13a19-7b9b-4e53-9dfe-6a5836a44510  gs://5aa919de-0aa0-43ec-9ec3-288481102b6d/tcga/CESC/RNA/RNA-Seq/UNC-LCCC/ILLUMINA/UNCID_2169014.97a13a19-7b9b-4e53-9dfe-6a5836a44510.130606_UNC9-SN296_0373_BD28T1ACXX_6_CTTGTA.tar.gz    \n",
       "49   b0f33684-061e-4253-8895-e7ee3ca8e9f9  TCGA-FU-A5XV-01A-11R-A28H-07  97a13a19-7b9b-4e53-9dfe-6a5836a44510  gs://5aa919de-0aa0-43ec-9ec3-288481102b6d/tcga/CESC/RNA/RNA-Seq/UNC-LCCC/ILLUMINA/UNCID_2169014.97a13a19-7b9b-4e53-9dfe-6a5836a44510.130606_UNC9-SN296_0373_BD28T1ACXX_6_CTTGTA.tar.gz    \n",
       "216  590940d1-0cd0-4c4e-8100-784e0b3004ce  TCGA-A2-A0YF-01A-21R-A109-07  b3ac6331-6c8f-4165-add7-482aadf7fa68  gs://5aa919de-0aa0-43ec-9ec3-288481102b6d/tcga/BRCA/RNA/RNA-Seq/UNC-LCCC/ILLUMINA/UNCID_2209362.b3ac6331-6c8f-4165-add7-482aadf7fa68.110506_UNC9-SN296_0179_AB0BEFABXX_5.tar.gz           \n",
       "346  d0fd65c7-19fc-409d-a6d4-e3574dcb7bbb  TCGA-63-A5MY-01A-11R-A26W-07  621db48c-a6ba-4cd6-8c58-24a87d4b44b4  gs://5aa919de-0aa0-43ec-9ec3-288481102b6d/tcga/LUSC/RNA/RNA-Seq/UNC-LCCC/ILLUMINA/UNCID_2167530.621db48c-a6ba-4cd6-8c58-24a87d4b44b4.130627_UNC15-SN850_0315_AC25WHACXX_2_ATGTCA.tar.gz   \n",
       "\n",
       "     objectSizeBytes study                       barcode disease                                                      disease_name sample_type     sample_type_name analyte_type    center    files_size                          checksum                           analysis_id  \\\n",
       "47   5971417904       TCGA  TCGA-FU-A5XV-01A-11R-A28H-07  CESC    CERVICAL SQUAMOUS CELL CARCINOMA AND ENDOCERVICAL ADENOCARCINOMA  TP          Primary solid Tumor  RNA          UNC-LCCC  5.971418e+09  e1c9ce14af2f2bcdba031d249250d1d6  b0f33684-061e-4253-8895-e7ee3ca8e9f9   \n",
       "48   5971417904       TCGA  TCGA-FU-A5XV-01A-11R-A28H-07  CESC    CERVICAL SQUAMOUS CELL CARCINOMA AND ENDOCERVICAL ADENOCARCINOMA  TP          Primary solid Tumor  RNA          UNC-LCCC  5.971418e+09  e1c9ce14af2f2bcdba031d249250d1d6  b0f33684-061e-4253-8895-e7ee3ca8e9f9   \n",
       "49   5971417904       TCGA  TCGA-FU-A5XV-01A-11R-A28H-07  CESC    CERVICAL SQUAMOUS CELL CARCINOMA AND ENDOCERVICAL ADENOCARCINOMA  TP          Primary solid Tumor  RNA          UNC-LCCC  5.971418e+09  e1c9ce14af2f2bcdba031d249250d1d6  b0f33684-061e-4253-8895-e7ee3ca8e9f9   \n",
       "216  7378876544       TCGA  TCGA-A2-A0YF-01A-21R-A109-07  BRCA    BREAST INVASIVE CARCINOMA                                         TP          Primary solid Tumor  RNA          UNC-LCCC  7.378877e+09  735a2c29157f1dae9e6a4f502dca7c0b  590940d1-0cd0-4c4e-8100-784e0b3004ce   \n",
       "346  5983567165       TCGA  TCGA-63-A5MY-01A-11R-A26W-07  LUSC    LUNG SQUAMOUS CELL CARCINOMA                                      TP          Primary solid Tumor  RNA          UNC-LCCC  5.983567e+09  a8876cb64ebe22c6285a3163e2edc763  d0fd65c7-19fc-409d-a6d4-e3574dcb7bbb   \n",
       "\n",
       "                               aliquot_id                        participant_id                             sample_id tss_id sample_accession   published    uploaded    modified  sample_type_code analyte_type_code   platform_full_name  sstype  \\\n",
       "47   97a13a19-7b9b-4e53-9dfe-6a5836a44510  9dba5a81-3587-4f5a-8d19-e0b0aed0a677  8d5976cf-7e2d-420d-ba18-477a43ccec54  FU     NaN              2013-09-19  2013-09-19  2013-09-19  1                 R                 Illumina HiSeq 2000  tumour   \n",
       "48   97a13a19-7b9b-4e53-9dfe-6a5836a44510  9dba5a81-3587-4f5a-8d19-e0b0aed0a677  8d5976cf-7e2d-420d-ba18-477a43ccec54  FU     NaN              2013-09-19  2013-09-19  2013-09-19  1                 R                 Illumina HiSeq 2000  tumour   \n",
       "49   97a13a19-7b9b-4e53-9dfe-6a5836a44510  9dba5a81-3587-4f5a-8d19-e0b0aed0a677  8d5976cf-7e2d-420d-ba18-477a43ccec54  FU     NaN              2013-09-19  2013-09-19  2013-09-19  1                 R                 Illumina HiSeq 2000  tumour   \n",
       "216  b3ac6331-6c8f-4165-add7-482aadf7fa68  ae8c77fe-e6c8-44d5-8265-4a38c637bbef  2b721ce6-b620-4216-9846-c82543880bb3  A2     NaN              2013-09-30  2013-09-30  2013-09-30  1                 R                 Illumina HiSeq 2000  tumour   \n",
       "346  621db48c-a6ba-4cd6-8c58-24a87d4b44b4  3b25aff2-9b5f-491a-8eff-d71a9cc8666b  b180fdf0-935d-406a-9ec3-0d839d74d322  63     NaN              2013-09-20  2013-09-20  2013-09-20  1                 R                 Illumina HiSeq 2000  tumour   \n",
       "\n",
       "                                                                        dise                                             kid  \n",
       "47   Cervical squamous cell carcinoma and endocervical adenocarcinoma (CESC)  chr3-PIK3CA-(+)-ENST00000263967-178952774-623   \n",
       "48   Cervical squamous cell carcinoma and endocervical adenocarcinoma (CESC)  chr3-PIK3CA-(+)-ENST00000263967-178955281-3130  \n",
       "49   Cervical squamous cell carcinoma and endocervical adenocarcinoma (CESC)  chr3-PIK3CA-(+)-ENST00000263967-178955387-3236  \n",
       "216  Breast invasive carcinoma (BRCA)                                         chr3-PIK3CA-(+)-ENST00000263967-178952925-774   \n",
       "346  Lung squamous cell carcinoma (LUSC)                                      chr3-PIK3CA-(+)-ENST00000263967-178952607-456   "
      ]
     },
     "execution_count": 140,
     "metadata": {},
     "output_type": "execute_result"
    }
   ],
   "source": [
    "_qdf[_qdf.kul < 5000].head()"
   ]
  },
  {
   "cell_type": "code",
   "execution_count": 88,
   "metadata": {
    "collapsed": true
   },
   "outputs": [],
   "source": [
    "UTR_LEN = _qdf..unique()[0]"
   ]
  },
  {
   "cell_type": "code",
   "execution_count": 89,
   "metadata": {},
   "outputs": [
    {
     "data": {
      "text/plain": [
       "438"
      ]
     },
     "execution_count": 89,
     "metadata": {},
     "output_type": "execute_result"
    }
   ],
   "source": [
    "UTR_LEN"
   ]
  },
  {
   "cell_type": "code",
   "execution_count": 90,
   "metadata": {
    "collapsed": true
   },
   "outputs": [],
   "source": [
    "grps = _qdf.groupby('disease')"
   ]
  },
  {
   "cell_type": "code",
   "execution_count": 91,
   "metadata": {},
   "outputs": [
    {
     "data": {
      "text/plain": [
       "Primary solid Tumor    1991\n",
       "Solid Tissue Normal    134 \n",
       "Name: sample_type_name, dtype: int64"
      ]
     },
     "execution_count": 91,
     "metadata": {},
     "output_type": "execute_result"
    }
   ],
   "source": [
    "qdf[\n",
    "    (qdf.sample_type.isin(['TP', 'NT'])) \n",
    "#     & (qdf.disease.isin(['KIRP']))\n",
    "    & (qdf.distance_from_annotated_site > 15)\n",
    "    & (qdf.distance_from_annotated_site < qdf.utr_len)\n",
    "    & (qdf.gene == 'SOCS1')\n",
    "].sample_type_name.value_counts()"
   ]
  },
  {
   "cell_type": "code",
   "execution_count": 95,
   "metadata": {
    "collapsed": true
   },
   "outputs": [],
   "source": [
    "# grps.apply(lambda g: g.sample_type_name.value_counts())"
   ]
  },
  {
   "cell_type": "code",
   "execution_count": 96,
   "metadata": {},
   "outputs": [
    {
     "name": "stdout",
     "output_type": "stream",
     "text": [
      "('ACC', 0, 6)\n",
      "('ACC', 0, 6)\n",
      "('BLCA', 1, 7)\n",
      "('BRCA', 0, 6)\n",
      "('CESC', 0, 9)\n",
      "('CHOL', 0, 3)\n",
      "('COAD', 0, 4)\n",
      "('DLBC', 0, 4)\n",
      "('ESCA', 0, 12)\n",
      "('GBM', 0, 4)\n",
      "('HNSC', 0, 7)\n",
      "('KICH', 0, 2)\n",
      "('KIRC', 2, 6)\n",
      "('KIRP', 0, 4)\n",
      "('LGG', 0, 4)\n",
      "('LIHC', 1, 4)\n",
      "('LUAD', 1, 4)\n",
      "('LUSC', 1, 6)\n",
      "('MESO', 0, 2)\n",
      "('OV', 0, 14)\n",
      "('PAAD', 0, 5)\n",
      "('PCPG', 0, 3)\n",
      "('PRAD', 1, 3)\n",
      "('READ', 0, 2)\n",
      "('SARC', 0, 7)\n",
      "('SKCM', 0, 3)\n",
      "('STAD', 0, 16)\n",
      "('TGCT', 0, 5)\n",
      "('THCA', 2, 7)\n",
      "('THYM', 0, 10)\n",
      "('UCEC', 1, 2)\n",
      "('UCS', 0, 8)\n",
      "('UVM', 0, 1)\n"
     ]
    }
   ],
   "source": [
    "tdf = grps.apply(get_tumour_unique_kuls)"
   ]
  },
  {
   "cell_type": "code",
   "execution_count": 102,
   "metadata": {},
   "outputs": [
    {
     "data": {
      "text/html": [
       "<div>\n",
       "<table border=\"1\" class=\"dataframe\">\n",
       "  <thead>\n",
       "    <tr style=\"text-align: right;\">\n",
       "      <th></th>\n",
       "      <th>gene</th>\n",
       "      <th>transcript</th>\n",
       "      <th>transcript_strand</th>\n",
       "      <th>coding</th>\n",
       "      <th>chromosome</th>\n",
       "      <th>cleavage_site</th>\n",
       "      <th>distance_from_annotated_site</th>\n",
       "      <th>length_of_tail_in_contig</th>\n",
       "      <th>number_of_tail_reads</th>\n",
       "      <th>number_of_bridge_reads</th>\n",
       "      <th>max_bridge_read_tail_length</th>\n",
       "      <th>tail+bridge_reads</th>\n",
       "      <th>hexamer_loc+id</th>\n",
       "      <th>3UTR_start_end</th>\n",
       "      <th>flag</th>\n",
       "      <th>kleat_fname</th>\n",
       "      <th>left_coord</th>\n",
       "      <th>right_coord</th>\n",
       "      <th>utr_len</th>\n",
       "      <th>kul</th>\n",
       "      <th>kul_norm</th>\n",
       "      <th>CGHubAnalysisID</th>\n",
       "      <th>AliquotBarcode</th>\n",
       "      <th>AliquotUUID</th>\n",
       "      <th>GCSobject</th>\n",
       "      <th>objectSizeBytes</th>\n",
       "      <th>study</th>\n",
       "      <th>barcode</th>\n",
       "      <th>disease</th>\n",
       "      <th>disease_name</th>\n",
       "      <th>sample_type</th>\n",
       "      <th>sample_type_name</th>\n",
       "      <th>analyte_type</th>\n",
       "      <th>center</th>\n",
       "      <th>files_size</th>\n",
       "      <th>checksum</th>\n",
       "      <th>analysis_id</th>\n",
       "      <th>aliquot_id</th>\n",
       "      <th>participant_id</th>\n",
       "      <th>sample_id</th>\n",
       "      <th>tss_id</th>\n",
       "      <th>sample_accession</th>\n",
       "      <th>published</th>\n",
       "      <th>uploaded</th>\n",
       "      <th>modified</th>\n",
       "      <th>sample_type_code</th>\n",
       "      <th>analyte_type_code</th>\n",
       "      <th>platform_full_name</th>\n",
       "      <th>sstype</th>\n",
       "      <th>dise</th>\n",
       "      <th>kid</th>\n",
       "    </tr>\n",
       "  </thead>\n",
       "  <tbody>\n",
       "    <tr>\n",
       "      <th>7468</th>\n",
       "      <td>SOCS1</td>\n",
       "      <td>ENST00000332029</td>\n",
       "      <td>-</td>\n",
       "      <td>yes</td>\n",
       "      <td>chr16</td>\n",
       "      <td>11347968</td>\n",
       "      <td>293</td>\n",
       "      <td>0</td>\n",
       "      <td>0</td>\n",
       "      <td>1</td>\n",
       "      <td>8</td>\n",
       "      <td>1</td>\n",
       "      <td>11347989:4</td>\n",
       "      <td>-</td>\n",
       "      <td>1</td>\n",
       "      <td>/projects/btl/zxue/tasrkleat-TCGA-results/tcga/KICH/RNA/RNA-Seq/UNC-LCCC/ILLUMINA/UNCID_2186271.17238de6-eab7-47ed-948e-be06ee5de5b7.121106_UNC11-SN627_0259_BD16TJACXX_2_CCGTCC.tar.gz/tasrkleat-results/kleat/cba.KLEAT</td>\n",
       "      <td>11348261</td>\n",
       "      <td>11348698</td>\n",
       "      <td>438</td>\n",
       "      <td>731</td>\n",
       "      <td>1.66895</td>\n",
       "      <td>7c14fa65-4e1a-40e7-b865-28af3912136b</td>\n",
       "      <td>TCGA-KN-8434-01A-11R-2315-07</td>\n",
       "      <td>17238de6-eab7-47ed-948e-be06ee5de5b7</td>\n",
       "      <td>gs://5aa919de-0aa0-43ec-9ec3-288481102b6d/tcga/KICH/RNA/RNA-Seq/UNC-LCCC/ILLUMINA/UNCID_2186271.17238de6-eab7-47ed-948e-be06ee5de5b7.121106_UNC11-SN627_0259_BD16TJACXX_2_CCGTCC.tar.gz</td>\n",
       "      <td>6905337154</td>\n",
       "      <td>TCGA</td>\n",
       "      <td>TCGA-KN-8434-01A-11R-2315-07</td>\n",
       "      <td>KICH</td>\n",
       "      <td>KIDNEY CHROMOPHOBE</td>\n",
       "      <td>TP</td>\n",
       "      <td>Primary solid Tumor</td>\n",
       "      <td>RNA</td>\n",
       "      <td>UNC-LCCC</td>\n",
       "      <td>6.905337e+09</td>\n",
       "      <td>728e390c3ba4c8a02acd875b2b713fc2</td>\n",
       "      <td>7c14fa65-4e1a-40e7-b865-28af3912136b</td>\n",
       "      <td>17238de6-eab7-47ed-948e-be06ee5de5b7</td>\n",
       "      <td>e1e15226-9f8e-4035-8f08-eb1fed57080e</td>\n",
       "      <td>f75de9fc-5de8-4cae-b1e1-8c37d1915c17</td>\n",
       "      <td>KN</td>\n",
       "      <td>NaN</td>\n",
       "      <td>2013-09-15</td>\n",
       "      <td>2013-09-15</td>\n",
       "      <td>2013-09-15</td>\n",
       "      <td>1</td>\n",
       "      <td>R</td>\n",
       "      <td>Illumina HiSeq 2000</td>\n",
       "      <td>tumour</td>\n",
       "      <td>Kidney chromophobe (KICH)</td>\n",
       "      <td>chr16-SOCS1-(-)-ENST00000332029-11347968-731</td>\n",
       "    </tr>\n",
       "  </tbody>\n",
       "</table>\n",
       "</div>"
      ],
      "text/plain": [
       "       gene       transcript transcript_strand coding chromosome  cleavage_site  distance_from_annotated_site  length_of_tail_in_contig  number_of_tail_reads  number_of_bridge_reads  max_bridge_read_tail_length  tail+bridge_reads hexamer_loc+id 3UTR_start_end  flag  \\\n",
       "7468  SOCS1  ENST00000332029  -                 yes    chr16      11347968       293                           0                         0                     1                       8                            1                  11347989:4     -              1      \n",
       "\n",
       "                                                                                                                                                                                                                    kleat_fname  left_coord  right_coord  utr_len  kul  kul_norm  \\\n",
       "7468  /projects/btl/zxue/tasrkleat-TCGA-results/tcga/KICH/RNA/RNA-Seq/UNC-LCCC/ILLUMINA/UNCID_2186271.17238de6-eab7-47ed-948e-be06ee5de5b7.121106_UNC11-SN627_0259_BD16TJACXX_2_CCGTCC.tar.gz/tasrkleat-results/kleat/cba.KLEAT  11348261    11348698     438      731  1.66895    \n",
       "\n",
       "                           CGHubAnalysisID                AliquotBarcode                           AliquotUUID                                                                                                                                                                                GCSobject  \\\n",
       "7468  7c14fa65-4e1a-40e7-b865-28af3912136b  TCGA-KN-8434-01A-11R-2315-07  17238de6-eab7-47ed-948e-be06ee5de5b7  gs://5aa919de-0aa0-43ec-9ec3-288481102b6d/tcga/KICH/RNA/RNA-Seq/UNC-LCCC/ILLUMINA/UNCID_2186271.17238de6-eab7-47ed-948e-be06ee5de5b7.121106_UNC11-SN627_0259_BD16TJACXX_2_CCGTCC.tar.gz   \n",
       "\n",
       "      objectSizeBytes study                       barcode disease        disease_name sample_type     sample_type_name analyte_type    center    files_size                          checksum                           analysis_id                            aliquot_id  \\\n",
       "7468  6905337154       TCGA  TCGA-KN-8434-01A-11R-2315-07  KICH    KIDNEY CHROMOPHOBE  TP          Primary solid Tumor  RNA          UNC-LCCC  6.905337e+09  728e390c3ba4c8a02acd875b2b713fc2  7c14fa65-4e1a-40e7-b865-28af3912136b  17238de6-eab7-47ed-948e-be06ee5de5b7   \n",
       "\n",
       "                            participant_id                             sample_id tss_id sample_accession   published    uploaded    modified  sample_type_code analyte_type_code   platform_full_name  sstype                       dise                                           kid  \n",
       "7468  e1e15226-9f8e-4035-8f08-eb1fed57080e  f75de9fc-5de8-4cae-b1e1-8c37d1915c17  KN     NaN              2013-09-15  2013-09-15  2013-09-15  1                 R                 Illumina HiSeq 2000  tumour  Kidney chromophobe (KICH)  chr16-SOCS1-(-)-ENST00000332029-11347968-731  "
      ]
     },
     "execution_count": 102,
     "metadata": {},
     "output_type": "execute_result"
    }
   ],
   "source": [
    "qdf[(qdf.gene == 'SOCS1') & (qdf.kul == 731)].head(1)"
   ]
  },
  {
   "cell_type": "code",
   "execution_count": 101,
   "metadata": {},
   "outputs": [
    {
     "data": {
      "text/html": [
       "<div>\n",
       "<table border=\"1\" class=\"dataframe\">\n",
       "  <thead>\n",
       "    <tr style=\"text-align: right;\">\n",
       "      <th></th>\n",
       "      <th>disease</th>\n",
       "      <th>kid</th>\n",
       "      <th>kul</th>\n",
       "    </tr>\n",
       "  </thead>\n",
       "  <tbody>\n",
       "    <tr>\n",
       "      <th>306</th>\n",
       "      <td>KIRC</td>\n",
       "      <td>chr16-SOCS1-(-)-ENST00000332029-11348293-406</td>\n",
       "      <td>406</td>\n",
       "    </tr>\n",
       "    <tr>\n",
       "      <th>307</th>\n",
       "      <td>KIRC</td>\n",
       "      <td>chr16-SOCS1-(-)-ENST00000332029-11347968-731</td>\n",
       "      <td>731</td>\n",
       "    </tr>\n",
       "    <tr>\n",
       "      <th>308</th>\n",
       "      <td>KIRC</td>\n",
       "      <td>chr16-SOCS1-(-)-ENST00000332029-11347965-734</td>\n",
       "      <td>734</td>\n",
       "    </tr>\n",
       "    <tr>\n",
       "      <th>309</th>\n",
       "      <td>KIRC</td>\n",
       "      <td>chr16-SOCS1-(-)-ENST00000332029-11347965-734</td>\n",
       "      <td>734</td>\n",
       "    </tr>\n",
       "    <tr>\n",
       "      <th>310</th>\n",
       "      <td>KIRC</td>\n",
       "      <td>chr16-SOCS1-(-)-ENST00000332029-11348284-415</td>\n",
       "      <td>415</td>\n",
       "    </tr>\n",
       "    <tr>\n",
       "      <th>311</th>\n",
       "      <td>KIRC</td>\n",
       "      <td>chr16-SOCS1-(-)-ENST00000332029-11348239-460</td>\n",
       "      <td>460</td>\n",
       "    </tr>\n",
       "    <tr>\n",
       "      <th>312</th>\n",
       "      <td>KIRC</td>\n",
       "      <td>chr16-SOCS1-(-)-ENST00000332029-11348277-422</td>\n",
       "      <td>422</td>\n",
       "    </tr>\n",
       "  </tbody>\n",
       "</table>\n",
       "</div>"
      ],
      "text/plain": [
       "    disease                                           kid  kul\n",
       "306  KIRC    chr16-SOCS1-(-)-ENST00000332029-11348293-406  406\n",
       "307  KIRC    chr16-SOCS1-(-)-ENST00000332029-11347968-731  731\n",
       "308  KIRC    chr16-SOCS1-(-)-ENST00000332029-11347965-734  734\n",
       "309  KIRC    chr16-SOCS1-(-)-ENST00000332029-11347965-734  734\n",
       "310  KIRC    chr16-SOCS1-(-)-ENST00000332029-11348284-415  415\n",
       "311  KIRC    chr16-SOCS1-(-)-ENST00000332029-11348239-460  460\n",
       "312  KIRC    chr16-SOCS1-(-)-ENST00000332029-11348277-422  422"
      ]
     },
     "execution_count": 101,
     "metadata": {},
     "output_type": "execute_result"
    }
   ],
   "source": [
    "tdf[tdf.disease == 'KIRC']"
   ]
  },
  {
   "cell_type": "code",
   "execution_count": 98,
   "metadata": {
    "collapsed": true
   },
   "outputs": [],
   "source": [
    "tdf.index = tdf.index.droplevel(1)\n",
    "tdf.reset_index(inplace=True)"
   ]
  },
  {
   "cell_type": "code",
   "execution_count": 103,
   "metadata": {},
   "outputs": [
    {
     "data": {
      "text/html": [
       "<div>\n",
       "<table border=\"1\" class=\"dataframe\">\n",
       "  <thead>\n",
       "    <tr style=\"text-align: right;\">\n",
       "      <th></th>\n",
       "      <th>disease</th>\n",
       "      <th>kid</th>\n",
       "      <th>kul</th>\n",
       "    </tr>\n",
       "  </thead>\n",
       "  <tbody>\n",
       "    <tr>\n",
       "      <th>0</th>\n",
       "      <td>ACC</td>\n",
       "      <td>chr16-SOCS1-(-)-ENST00000332029-11348282-417</td>\n",
       "      <td>417</td>\n",
       "    </tr>\n",
       "    <tr>\n",
       "      <th>1</th>\n",
       "      <td>ACC</td>\n",
       "      <td>chr16-SOCS1-(-)-ENST00000332029-11348285-414</td>\n",
       "      <td>414</td>\n",
       "    </tr>\n",
       "  </tbody>\n",
       "</table>\n",
       "</div>"
      ],
      "text/plain": [
       "  disease                                           kid  kul\n",
       "0  ACC     chr16-SOCS1-(-)-ENST00000332029-11348282-417  417\n",
       "1  ACC     chr16-SOCS1-(-)-ENST00000332029-11348285-414  414"
      ]
     },
     "execution_count": 103,
     "metadata": {},
     "output_type": "execute_result"
    }
   ],
   "source": [
    "tdf.head(2)"
   ]
  },
  {
   "cell_type": "code",
   "execution_count": 119,
   "metadata": {
    "collapsed": true
   },
   "outputs": [],
   "source": [
    "texts = [_.get_text() for _ in ax.get_xticklabels()]\n",
    "\n",
    "xs = ax.get_xticks()\n",
    "\n",
    "counts = tdf.groupby('disease').count()['kid'].to_dict()"
   ]
  },
  {
   "cell_type": "code",
   "execution_count": null,
   "metadata": {
    "collapsed": true
   },
   "outputs": [],
   "source": []
  },
  {
   "cell_type": "code",
   "execution_count": 123,
   "metadata": {},
   "outputs": [
    {
     "data": {
      "text/plain": [
       "900.0"
      ]
     },
     "execution_count": 123,
     "metadata": {},
     "output_type": "execute_result"
    }
   ],
   "source": [
    "ax.get_ylim()[-1]"
   ]
  },
  {
   "cell_type": "code",
   "execution_count": null,
   "metadata": {
    "collapsed": true
   },
   "outputs": [],
   "source": [
    "ax.set_xticks"
   ]
  },
  {
   "cell_type": "code",
   "execution_count": 128,
   "metadata": {
    "collapsed": true
   },
   "outputs": [],
   "source": [
    "ax.set_xticks?"
   ]
  },
  {
   "cell_type": "code",
   "execution_count": 130,
   "metadata": {},
   "outputs": [
    {
     "data": {
      "text/plain": [
       "<matplotlib.legend.Legend at 0x7f94c220c690>"
      ]
     },
     "execution_count": 130,
     "metadata": {},
     "output_type": "execute_result"
    },
    {
     "data": {
      "image/png": "[encoded data removed]",
      "text/plain": [
       "<matplotlib.figure.Figure at 0x7f94c220c190>"
      ]
     },
     "metadata": {},
     "output_type": "display_data"
    }
   ],
   "source": [
    "ax = tdf.boxplot('kul', by='disease', sym='rs', rot=90)\n",
    "ax.set_title(\"kleat 3'UTR length distribution for CARD11\")\n",
    "ax.plot([0, 100], [UTR_LEN, UTR_LEN], '--', label='annotated length')\n",
    "texts = [_.get_text() for _ in ax.get_xticklabels()]\n",
    "y = ax.get_ylim()[-1] - 20\n",
    "xs = ax.get_xticks()\n",
    "counts = tdf.groupby('disease').count()['kid'].to_dict()\n",
    "# for x, k in zip(xs, texts):\n",
    "#     ax.(x, y, '{0}'.format(counts[k]))\n",
    "xticks = ['{0} ({1})'.format(k, counts[k]) for k in texts]\n",
    "ax.set_xticklabels(xticks)\n",
    "ax.legend(loc='best')"
   ]
  },
  {
   "cell_type": "code",
   "execution_count": 289,
   "metadata": {
    "collapsed": true
   },
   "outputs": [],
   "source": [
    "INTEREST = ['ACC', 'MESO', 'SARC', 'THYM']"
   ]
  },
  {
   "cell_type": "code",
   "execution_count": 302,
   "metadata": {
    "collapsed": true
   },
   "outputs": [],
   "source": [
    "plt.boxplot?"
   ]
  },
  {
   "cell_type": "code",
   "execution_count": 306,
   "metadata": {},
   "outputs": [
    {
     "data": {
      "text/plain": [
       "<matplotlib.axes._subplots.AxesSubplot at 0x7f5aa5ab3a50>"
      ]
     },
     "execution_count": 306,
     "metadata": {},
     "output_type": "execute_result"
    },
    {
     "data": {
      "image/png": "[encoded data removed]",
      "text/plain": [
       "<matplotlib.figure.Figure at 0x7f5aa59f3c10>"
      ]
     },
     "metadata": {},
     "output_type": "display_data"
    }
   ],
   "source": [
    "tdf[tdf.disease.isin(INTEREST)].boxplot('kul', by='disease', sym='rs', rot=90)"
   ]
  },
  {
   "cell_type": "code",
   "execution_count": null,
   "metadata": {
    "collapsed": true
   },
   "outputs": [],
   "source": []
  },
  {
   "cell_type": "code",
   "execution_count": null,
   "metadata": {
    "collapsed": true
   },
   "outputs": [],
   "source": []
  },
  {
   "cell_type": "code",
   "execution_count": null,
   "metadata": {
    "collapsed": true
   },
   "outputs": [],
   "source": []
  },
  {
   "cell_type": "code",
   "execution_count": 253,
   "metadata": {
    "collapsed": true
   },
   "outputs": [],
   "source": [
    "_df = qdf.groupby('disease').apply(lambda x: x.sample_type.unique().shape[0])"
   ]
  },
  {
   "cell_type": "code",
   "execution_count": 240,
   "metadata": {
    "collapsed": true
   },
   "outputs": [],
   "source": [
    "_df = qdf.groupby('disease').apply(lambda x: x[['sample_type', 'sample_type_name']].drop_duplicates())"
   ]
  },
  {
   "cell_type": "code",
   "execution_count": 256,
   "metadata": {},
   "outputs": [
    {
     "data": {
      "text/plain": [
       "array(['ACC', 'DLBC', 'LAML', 'MESO', 'UCS', 'UVM'], dtype=object)"
      ]
     },
     "execution_count": 256,
     "metadata": {},
     "output_type": "execute_result"
    }
   ],
   "source": [
    "_df[_df == 1].index.values"
   ]
  },
  {
   "cell_type": "code",
   "execution_count": null,
   "metadata": {
    "collapsed": true
   },
   "outputs": [],
   "source": []
  },
  {
   "cell_type": "code",
   "execution_count": 20,
   "metadata": {},
   "outputs": [
    {
     "data": {
      "text/plain": [
       "199"
      ]
     },
     "execution_count": 20,
     "metadata": {},
     "output_type": "execute_result"
    }
   ],
   "source": [
    "grp.index.unique()[0]"
   ]
  },
  {
   "cell_type": "code",
   "execution_count": 629,
   "metadata": {},
   "outputs": [
    {
     "data": {
      "text/plain": [
       "<matplotlib.axes._subplots.AxesSubplot at 0x7fc2e889ffd0>"
      ]
     },
     "execution_count": 629,
     "metadata": {},
     "output_type": "execute_result"
    },
    {
     "data": {
      "image/png": "[encoded data removed]",
      "text/plain": [
       "<matplotlib.figure.Figure at 0x7fc2e892ab50>"
      ]
     },
     "metadata": {},
     "output_type": "display_data"
    }
   ],
   "source": [
    "ax = bkul.hist(bins=np.arange(800, 4500, 50), alpha=0.5, normed=True)\n",
    "kkul.hist(bins=np.arange(800, 4500, 50), alpha=0.5, normed=True, ax=ax)"
   ]
  },
  {
   "cell_type": "code",
   "execution_count": 630,
   "metadata": {},
   "outputs": [
    {
     "data": {
      "text/plain": [
       "199       /projects/btl/zxue/tasrkleat-TCGA-results/tcga/BRCA/RNA/RNA-Seq/UNC-LCCC/ILLUMINA/UNCID_2209362.b3ac6331-6c8f-4165-add7-482aadf7fa68.110506_UNC9-SN296_0179_AB0BEFABXX_5.tar.gz/tasrkleat-results/kleat/cba.KLEAT        \n",
       "227714    /projects/btl/zxue/tasrkleat-TCGA-results/tcga/BRCA/RNA/RNA-Seq/UNC-LCCC/ILLUMINA/UNCID_2185669.176b2422-3599-41c5-be62-ae6e28d60b90.121205_UNC14-SN744_0276_AC19W1ACXX_6_CAGATC.tar.gz/tasrkleat-results/kleat/cba.KLEAT\n",
       "Name: kleat_fname, dtype: object"
      ]
     },
     "execution_count": 630,
     "metadata": {},
     "output_type": "execute_result"
    }
   ],
   "source": [
    "rdf.kleat_fname.head(2)"
   ]
  }
 ],
 "metadata": {
  "anaconda-cloud": {},
  "kernelspec": {
   "display_name": "Python 3",
   "language": "python",
   "name": "python3"
  },
  "language_info": {
   "codemirror_mode": {
    "name": "ipython",
    "version": 3
   },
   "file_extension": ".py",
   "mimetype": "text/x-python",
   "name": "python",
   "nbconvert_exporter": "python",
   "pygments_lexer": "ipython3",
   "version": "3.6.1"
  }
 },
 "nbformat": 4,
 "nbformat_minor": 1
}
