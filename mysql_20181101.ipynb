{
 "cells": [
  {
   "cell_type": "markdown",
   "metadata": {},
   "source": [
    "install cmake first: \n",
    "\n",
    "download from here:\n",
    "\n",
    "https://cmake.org/\n",
    "untar/unzip the tarball file\n",
    "then run this command to install:\n",
    "./bootstrap && make && make install\n",
    "\n",
    "above are unnecessary if not install from source. we could you conda install\n",
    "\n",
    "    "
   ]
  },
  {
   "cell_type": "markdown",
   "metadata": {},
   "source": [
    "install mysql\n",
    "\n",
    "conda install -c anaconda mysql \n",
    "\n",
    "\n"
   ]
  }
 ],
 "metadata": {
  "kernelspec": {
   "display_name": "Python 3",
   "language": "python",
   "name": "python3"
  },
  "language_info": {
   "codemirror_mode": {
    "name": "ipython",
    "version": 3
   },
   "file_extension": ".py",
   "mimetype": "text/x-python",
   "name": "python",
   "nbconvert_exporter": "python",
   "pygments_lexer": "ipython3",
   "version": "3.6.5"
  }
 },
 "nbformat": 4,
 "nbformat_minor": 2
}
