{
  "nbformat_minor": 0,
  "cells": [
    {
      "cell_type": "code",
      "execution_count": null,
      "outputs": [],
      "source": [
        "%matplotlib inline"
      ],
      "metadata": {
        "collapsed": false
      }
    },
    {
      "cell_type": "markdown",
      "source": [
        "\nSimple Regression\n====================\n\nFit a simple linear regression using 'statsmodels', compute corresponding\np-values.\n\n"
      ],
      "metadata": {}
    },
    {
      "cell_type": "code",
      "execution_count": null,
      "outputs": [],
      "source": [
        "# Original author: Thomas Haslwanter\n\nimport numpy as np\nimport matplotlib.pyplot as plt\nimport pandas\n\n# For statistics. Requires statsmodels 5.0 or more\nfrom statsmodels.formula.api import ols\n# Analysis of Variance (ANOVA) on linear models\nfrom statsmodels.stats.anova import anova_lm"
      ],
      "metadata": {
        "collapsed": false
      }
    },
    {
      "cell_type": "markdown",
      "source": [
        "Generate and show the data\n\n"
      ],
      "metadata": {}
    },
    {
      "cell_type": "code",
      "execution_count": null,
      "outputs": [],
      "source": [
        "x = np.linspace(-5, 5, 20)\n\n# To get reproducable values, provide a seed value\nnp.random.seed(1)\n\ny = -5 + 3*x + 4 * np.random.normal(size=x.shape)\n\n# Plot the data\nplt.figure(figsize=(5, 4))\nplt.plot(x, y, 'o')"
      ],
      "metadata": {
        "collapsed": false
      }
    },
    {
      "cell_type": "markdown",
      "source": [
        "Multilinear regression model, calculating fit, P-values, confidence\nintervals etc.\n\n"
      ],
      "metadata": {}
    },
    {
      "cell_type": "code",
      "execution_count": null,
      "outputs": [],
      "source": [
        "# Convert the data into a Pandas DataFrame to use the formulas framework\n# in statsmodels\ndata = pandas.DataFrame({'x': x, 'y': y})\n\n# Fit the model\nmodel = ols(\"y ~ x\", data).fit()\n\n# Print the summary\nprint(model.summary())\n\n# Peform analysis of variance on fitted linear model\nanova_results = anova_lm(model)\n\nprint('\\nANOVA results')\nprint(anova_results)"
      ],
      "metadata": {
        "collapsed": false
      }
    },
    {
      "cell_type": "markdown",
      "source": [
        "Plot the fitted model\n\n"
      ],
      "metadata": {}
    },
    {
      "cell_type": "code",
      "execution_count": null,
      "outputs": [],
      "source": [
        "# Retrieve the parameter estimates\noffset, coef = model._results.params\nplt.plot(x, x*coef + offset)\nplt.xlabel('x')\nplt.ylabel('y')\n\nplt.show()"
      ],
      "metadata": {
        "collapsed": false
      }
    }
  ],
  "nbformat": 4,
  "metadata": {
    "kernelspec": {
      "display_name": "Python 3",
      "language": "python",
      "name": "python3"
    },
    "language_info": {
      "mimetype": "text/x-python",
      "name": "python",
      "file_extension": ".py",
      "nbconvert_exporter": "python",
      "pygments_lexer": "ipython3",
      "codemirror_mode": {
        "version": 3,
        "name": "ipython"
      },
      "version": "3.5.4"
    }
  }
}