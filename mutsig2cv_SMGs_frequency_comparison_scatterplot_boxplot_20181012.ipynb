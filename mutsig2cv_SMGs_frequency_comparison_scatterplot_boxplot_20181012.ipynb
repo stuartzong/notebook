{
 "cells": [
  {
   "cell_type": "code",
   "execution_count": 2,
   "metadata": {},
   "outputs": [],
   "source": [
    "import re\n",
    "import matplotlib\n",
    "import numpy as np\n",
    "import pandas as pd\n",
    "import seaborn as sns\n",
    "import scipy.stats as ss\n",
    "import matplotlib.pyplot as plt\n",
    "from matplotlib import style, colors\n",
    "from matplotlib import gridspec\n",
    "import random\n",
    "import string\n",
    "import math\n",
    "\n",
    "\n",
    "from adjustText import adjust_text\n",
    "\n",
    "# matplotlib.style.use('ggplot')\n",
    "%matplotlib inline\n",
    "matplotlib.rcParams['figure.figsize'] = (12, 6)\n",
    "from IPython.core.interactiveshell import InteractiveShell\n",
    "InteractiveShell.ast_node_interactivity = \"all\""
   ]
  },
  {
   "cell_type": "markdown",
   "metadata": {
    "collapsed": true
   },
   "source": [
    "# 1. plot q value of mutsig2cv SMGs"
   ]
  },
  {
   "cell_type": "code",
   "execution_count": 5,
   "metadata": {},
   "outputs": [],
   "source": [
    "# constants\n",
    "wkdir = '/projects/trans_scratch/validations/workspace/szong/Cervical/mutsig2cv/'"
   ]
  },
  {
   "cell_type": "code",
   "execution_count": 63,
   "metadata": {
    "scrolled": true
   },
   "outputs": [
    {
     "data": {
      "text/html": [
       "<div>\n",
       "<style scoped>\n",
       "    .dataframe tbody tr th:only-of-type {\n",
       "        vertical-align: middle;\n",
       "    }\n",
       "\n",
       "    .dataframe tbody tr th {\n",
       "        vertical-align: top;\n",
       "    }\n",
       "\n",
       "    .dataframe thead th {\n",
       "        text-align: right;\n",
       "    }\n",
       "</style>\n",
       "<table border=\"1\" class=\"dataframe\">\n",
       "  <thead>\n",
       "    <tr style=\"text-align: right;\">\n",
       "      <th></th>\n",
       "      <th>rank</th>\n",
       "      <th>gene</th>\n",
       "      <th>longname</th>\n",
       "      <th>codelen</th>\n",
       "      <th>nnei</th>\n",
       "      <th>nncd</th>\n",
       "      <th>nsil</th>\n",
       "      <th>nmis</th>\n",
       "      <th>nstp</th>\n",
       "      <th>nspl</th>\n",
       "      <th>nind</th>\n",
       "      <th>nnon</th>\n",
       "      <th>npat</th>\n",
       "      <th>nsite</th>\n",
       "      <th>pCV</th>\n",
       "      <th>pCL</th>\n",
       "      <th>pFN</th>\n",
       "      <th>p</th>\n",
       "      <th>q</th>\n",
       "    </tr>\n",
       "  </thead>\n",
       "  <tbody>\n",
       "    <tr>\n",
       "      <th>0</th>\n",
       "      <td>1</td>\n",
       "      <td>PIK3CA</td>\n",
       "      <td>phosphoinositide-3-kinase, catalytic, alpha po...</td>\n",
       "      <td>3289</td>\n",
       "      <td>4</td>\n",
       "      <td>65</td>\n",
       "      <td>1</td>\n",
       "      <td>47</td>\n",
       "      <td>0</td>\n",
       "      <td>0</td>\n",
       "      <td>0</td>\n",
       "      <td>47</td>\n",
       "      <td>41</td>\n",
       "      <td>13</td>\n",
       "      <td>1.000000e-16</td>\n",
       "      <td>0.000010</td>\n",
       "      <td>0.00004</td>\n",
       "      <td>1.000000e-16</td>\n",
       "      <td>1.886200e-12</td>\n",
       "    </tr>\n",
       "    <tr>\n",
       "      <th>1</th>\n",
       "      <td>2</td>\n",
       "      <td>RBMXL1</td>\n",
       "      <td>RNA binding motif protein, X-linked-like 1</td>\n",
       "      <td>1275</td>\n",
       "      <td>1</td>\n",
       "      <td>0</td>\n",
       "      <td>2</td>\n",
       "      <td>5</td>\n",
       "      <td>1</td>\n",
       "      <td>0</td>\n",
       "      <td>0</td>\n",
       "      <td>6</td>\n",
       "      <td>5</td>\n",
       "      <td>3</td>\n",
       "      <td>5.158761e-06</td>\n",
       "      <td>0.000375</td>\n",
       "      <td>1.00000</td>\n",
       "      <td>5.613576e-08</td>\n",
       "      <td>5.294163e-04</td>\n",
       "    </tr>\n",
       "  </tbody>\n",
       "</table>\n",
       "</div>"
      ],
      "text/plain": [
       "   rank    gene                                           longname  codelen  \\\n",
       "0     1  PIK3CA  phosphoinositide-3-kinase, catalytic, alpha po...     3289   \n",
       "1     2  RBMXL1         RNA binding motif protein, X-linked-like 1     1275   \n",
       "\n",
       "   nnei  nncd  nsil  nmis  nstp  nspl  nind  nnon  npat  nsite           pCV  \\\n",
       "0     4    65     1    47     0     0     0    47    41     13  1.000000e-16   \n",
       "1     1     0     2     5     1     0     0     6     5      3  5.158761e-06   \n",
       "\n",
       "        pCL      pFN             p             q  \n",
       "0  0.000010  0.00004  1.000000e-16  1.886200e-12  \n",
       "1  0.000375  1.00000  5.613576e-08  5.294163e-04  "
      ]
     },
     "execution_count": 63,
     "metadata": {},
     "output_type": "execute_result"
    },
    {
     "data": {
      "text/plain": [
       "(18862, 19)"
      ]
     },
     "execution_count": 63,
     "metadata": {},
     "output_type": "execute_result"
    },
    {
     "data": {
      "text/html": [
       "<div>\n",
       "<style scoped>\n",
       "    .dataframe tbody tr th:only-of-type {\n",
       "        vertical-align: middle;\n",
       "    }\n",
       "\n",
       "    .dataframe tbody tr th {\n",
       "        vertical-align: top;\n",
       "    }\n",
       "\n",
       "    .dataframe thead th {\n",
       "        text-align: right;\n",
       "    }\n",
       "</style>\n",
       "<table border=\"1\" class=\"dataframe\">\n",
       "  <thead>\n",
       "    <tr style=\"text-align: right;\">\n",
       "      <th></th>\n",
       "      <th>rank</th>\n",
       "      <th>q</th>\n",
       "      <th>logq</th>\n",
       "    </tr>\n",
       "    <tr>\n",
       "      <th>gene</th>\n",
       "      <th></th>\n",
       "      <th></th>\n",
       "      <th></th>\n",
       "    </tr>\n",
       "  </thead>\n",
       "  <tbody>\n",
       "    <tr>\n",
       "      <th>PIK3CA</th>\n",
       "      <td>1</td>\n",
       "      <td>1.886200e-12</td>\n",
       "      <td>11.724412</td>\n",
       "    </tr>\n",
       "    <tr>\n",
       "      <th>RBMXL1</th>\n",
       "      <td>2</td>\n",
       "      <td>5.294163e-04</td>\n",
       "      <td>3.276203</td>\n",
       "    </tr>\n",
       "  </tbody>\n",
       "</table>\n",
       "</div>"
      ],
      "text/plain": [
       "        rank             q       logq\n",
       "gene                                 \n",
       "PIK3CA     1  1.886200e-12  11.724412\n",
       "RBMXL1     2  5.294163e-04   3.276203"
      ]
     },
     "execution_count": 63,
     "metadata": {},
     "output_type": "execute_result"
    }
   ],
   "source": [
    "f = f'{wkdir}118_patients/sig_genes.txt'\n",
    "df = pd.read_csv(f, sep='\\t')\n",
    "df.head(2)\n",
    "df.shape\n",
    "\n",
    "df = df[['gene', 'rank', 'q']].set_index('gene')\n",
    "df['logq'] = -np.log10(df['q'])\n",
    "df.head(2)"
   ]
  },
  {
   "cell_type": "markdown",
   "metadata": {},
   "source": [
    "plot the first 50 genes"
   ]
  },
  {
   "cell_type": "code",
   "execution_count": 11,
   "metadata": {},
   "outputs": [
    {
     "name": "stdout",
     "output_type": "stream",
     "text": [
      "Object `df.scatter` not found.\n"
     ]
    }
   ],
   "source": [
    "df.plot()"
   ]
  },
  {
   "cell_type": "code",
   "execution_count": 16,
   "metadata": {
    "scrolled": true
   },
   "outputs": [
    {
     "data": {
      "text/plain": [
       "<matplotlib.axes._subplots.AxesSubplot at 0x7f0de6220748>"
      ]
     },
     "execution_count": 16,
     "metadata": {},
     "output_type": "execute_result"
    },
    {
     "data": {
      "text/plain": [
       "<matplotlib.collections.LineCollection at 0x7f0de61d2fd0>"
      ]
     },
     "execution_count": 16,
     "metadata": {},
     "output_type": "execute_result"
    },
    {
     "data": {
      "text/plain": [
       "Text(0, 0.5, 'q value')"
      ]
     },
     "execution_count": 16,
     "metadata": {},
     "output_type": "execute_result"
    },
    {
     "data": {
      "text/plain": [
       "143"
      ]
     },
     "execution_count": 16,
     "metadata": {},
     "output_type": "execute_result"
    },
    {
     "name": "stdout",
     "output_type": "stream",
     "text": [
      "CPU times: user 1 s, sys: 44 ms, total: 1.05 s\n",
      "Wall time: 1.05 s\n"
     ]
    },
    {
     "data": {
      "image/png": "[encoded data removed]",
      "text/plain": [
       "<Figure size 864x720 with 1 Axes>"
      ]
     },
     "metadata": {},
     "output_type": "display_data"
    }
   ],
   "source": [
    "df = df.head(50)\n",
    "df.plot('rank', 'q', kind='scatter',figsize=(12,10))\n",
    "plt.hlines(0.1, 0, 50, colors='r', linestyles='dashed')\n",
    "plt.ylabel('q value')\n",
    "texts = [plt.text(a, b, c) for a, b, c in zip(df['rank'], df['q'], df.index)]\n",
    "adjust_text(texts)\n",
    "of = f'{wkdir}smgs_118_patients.png'\n",
    "%time plt.savefig(of, bbox_inches='tight',dpi=200)\n",
    "plt.show()\n"
   ]
  },
  {
   "cell_type": "markdown",
   "metadata": {},
   "source": [
    "# 2. HIV+ vs HIV- SMGs"
   ]
  },
  {
   "cell_type": "code",
   "execution_count": 8,
   "metadata": {},
   "outputs": [],
   "source": [
    "f1 = '/projects/trans_scratch/validations/workspace/szong/Cervical/mutsig2cv/HIV_neg/sig_genes.txt'\n",
    "f2 = '/projects/trans_scratch/validations/workspace/szong/Cervical/mutsig2cv/HIV_pos/sig_genes.txt'"
   ]
  },
  {
   "cell_type": "code",
   "execution_count": 9,
   "metadata": {},
   "outputs": [
    {
     "data": {
      "text/html": [
       "<div>\n",
       "<style scoped>\n",
       "    .dataframe tbody tr th:only-of-type {\n",
       "        vertical-align: middle;\n",
       "    }\n",
       "\n",
       "    .dataframe tbody tr th {\n",
       "        vertical-align: top;\n",
       "    }\n",
       "\n",
       "    .dataframe thead th {\n",
       "        text-align: right;\n",
       "    }\n",
       "</style>\n",
       "<table border=\"1\" class=\"dataframe\">\n",
       "  <thead>\n",
       "    <tr style=\"text-align: right;\">\n",
       "      <th></th>\n",
       "      <th>rank</th>\n",
       "      <th>gene</th>\n",
       "      <th>longname</th>\n",
       "      <th>codelen</th>\n",
       "      <th>nnei</th>\n",
       "      <th>nncd</th>\n",
       "      <th>nsil</th>\n",
       "      <th>nmis</th>\n",
       "      <th>nstp</th>\n",
       "      <th>nspl</th>\n",
       "      <th>nind</th>\n",
       "      <th>nnon</th>\n",
       "      <th>npat</th>\n",
       "      <th>nsite</th>\n",
       "      <th>pCV</th>\n",
       "      <th>pCL</th>\n",
       "      <th>pFN</th>\n",
       "      <th>p</th>\n",
       "      <th>q</th>\n",
       "    </tr>\n",
       "  </thead>\n",
       "  <tbody>\n",
       "    <tr>\n",
       "      <th>0</th>\n",
       "      <td>1</td>\n",
       "      <td>PIK3CA</td>\n",
       "      <td>phosphoinositide-3-kinase, catalytic, alpha po...</td>\n",
       "      <td>3289</td>\n",
       "      <td>1</td>\n",
       "      <td>42</td>\n",
       "      <td>0</td>\n",
       "      <td>24</td>\n",
       "      <td>0</td>\n",
       "      <td>0</td>\n",
       "      <td>0</td>\n",
       "      <td>24</td>\n",
       "      <td>20</td>\n",
       "      <td>8</td>\n",
       "      <td>2.486592e-13</td>\n",
       "      <td>0.00001</td>\n",
       "      <td>0.00105</td>\n",
       "      <td>1.110223e-16</td>\n",
       "      <td>2.094103e-12</td>\n",
       "    </tr>\n",
       "    <tr>\n",
       "      <th>1</th>\n",
       "      <td>2</td>\n",
       "      <td>FBXW7</td>\n",
       "      <td>F-box and WD repeat domain containing 7</td>\n",
       "      <td>2580</td>\n",
       "      <td>2</td>\n",
       "      <td>51</td>\n",
       "      <td>0</td>\n",
       "      <td>5</td>\n",
       "      <td>0</td>\n",
       "      <td>0</td>\n",
       "      <td>1</td>\n",
       "      <td>6</td>\n",
       "      <td>6</td>\n",
       "      <td>6</td>\n",
       "      <td>1.493536e-04</td>\n",
       "      <td>1.00000</td>\n",
       "      <td>0.03500</td>\n",
       "      <td>1.026523e-04</td>\n",
       "      <td>9.681136e-01</td>\n",
       "    </tr>\n",
       "  </tbody>\n",
       "</table>\n",
       "</div>"
      ],
      "text/plain": [
       "   rank    gene                                           longname  codelen  \\\n",
       "0     1  PIK3CA  phosphoinositide-3-kinase, catalytic, alpha po...     3289   \n",
       "1     2   FBXW7            F-box and WD repeat domain containing 7     2580   \n",
       "\n",
       "   nnei  nncd  nsil  nmis  nstp  nspl  nind  nnon  npat  nsite           pCV  \\\n",
       "0     1    42     0    24     0     0     0    24    20      8  2.486592e-13   \n",
       "1     2    51     0     5     0     0     1     6     6      6  1.493536e-04   \n",
       "\n",
       "       pCL      pFN             p             q  \n",
       "0  0.00001  0.00105  1.110223e-16  2.094103e-12  \n",
       "1  1.00000  0.03500  1.026523e-04  9.681136e-01  "
      ]
     },
     "execution_count": 9,
     "metadata": {},
     "output_type": "execute_result"
    },
    {
     "data": {
      "text/plain": [
       "(18862, 19)"
      ]
     },
     "execution_count": 9,
     "metadata": {},
     "output_type": "execute_result"
    },
    {
     "data": {
      "text/html": [
       "<div>\n",
       "<style scoped>\n",
       "    .dataframe tbody tr th:only-of-type {\n",
       "        vertical-align: middle;\n",
       "    }\n",
       "\n",
       "    .dataframe tbody tr th {\n",
       "        vertical-align: top;\n",
       "    }\n",
       "\n",
       "    .dataframe thead th {\n",
       "        text-align: right;\n",
       "    }\n",
       "</style>\n",
       "<table border=\"1\" class=\"dataframe\">\n",
       "  <thead>\n",
       "    <tr style=\"text-align: right;\">\n",
       "      <th></th>\n",
       "      <th>rank</th>\n",
       "      <th>q</th>\n",
       "    </tr>\n",
       "    <tr>\n",
       "      <th>gene</th>\n",
       "      <th></th>\n",
       "      <th></th>\n",
       "    </tr>\n",
       "  </thead>\n",
       "  <tbody>\n",
       "    <tr>\n",
       "      <th>PIK3CA</th>\n",
       "      <td>1</td>\n",
       "      <td>2.094103e-12</td>\n",
       "    </tr>\n",
       "    <tr>\n",
       "      <th>FBXW7</th>\n",
       "      <td>2</td>\n",
       "      <td>9.681136e-01</td>\n",
       "    </tr>\n",
       "  </tbody>\n",
       "</table>\n",
       "</div>"
      ],
      "text/plain": [
       "        rank             q\n",
       "gene                      \n",
       "PIK3CA     1  2.094103e-12\n",
       "FBXW7      2  9.681136e-01"
      ]
     },
     "execution_count": 9,
     "metadata": {},
     "output_type": "execute_result"
    }
   ],
   "source": [
    "df1 = pd.read_csv(f1, sep='\\t')\n",
    "df1.head(2)\n",
    "df1.shape\n",
    "\n",
    "df1 = df1[['gene', 'rank', 'q']].set_index('gene')\n",
    "df1.head(2)"
   ]
  },
  {
   "cell_type": "code",
   "execution_count": 10,
   "metadata": {},
   "outputs": [
    {
     "data": {
      "text/html": [
       "<div>\n",
       "<style scoped>\n",
       "    .dataframe tbody tr th:only-of-type {\n",
       "        vertical-align: middle;\n",
       "    }\n",
       "\n",
       "    .dataframe tbody tr th {\n",
       "        vertical-align: top;\n",
       "    }\n",
       "\n",
       "    .dataframe thead th {\n",
       "        text-align: right;\n",
       "    }\n",
       "</style>\n",
       "<table border=\"1\" class=\"dataframe\">\n",
       "  <thead>\n",
       "    <tr style=\"text-align: right;\">\n",
       "      <th></th>\n",
       "      <th>rank</th>\n",
       "      <th>gene</th>\n",
       "      <th>longname</th>\n",
       "      <th>codelen</th>\n",
       "      <th>nnei</th>\n",
       "      <th>nncd</th>\n",
       "      <th>nsil</th>\n",
       "      <th>nmis</th>\n",
       "      <th>nstp</th>\n",
       "      <th>nspl</th>\n",
       "      <th>nind</th>\n",
       "      <th>nnon</th>\n",
       "      <th>npat</th>\n",
       "      <th>nsite</th>\n",
       "      <th>pCV</th>\n",
       "      <th>pCL</th>\n",
       "      <th>pFN</th>\n",
       "      <th>p</th>\n",
       "      <th>q</th>\n",
       "    </tr>\n",
       "  </thead>\n",
       "  <tbody>\n",
       "    <tr>\n",
       "      <th>0</th>\n",
       "      <td>1</td>\n",
       "      <td>PIK3CA</td>\n",
       "      <td>phosphoinositide-3-kinase, catalytic, alpha po...</td>\n",
       "      <td>3289</td>\n",
       "      <td>1</td>\n",
       "      <td>23</td>\n",
       "      <td>1</td>\n",
       "      <td>23</td>\n",
       "      <td>0</td>\n",
       "      <td>0</td>\n",
       "      <td>0</td>\n",
       "      <td>23</td>\n",
       "      <td>21</td>\n",
       "      <td>11</td>\n",
       "      <td>1.033533e-15</td>\n",
       "      <td>0.00001</td>\n",
       "      <td>0.00526</td>\n",
       "      <td>1.000000e-16</td>\n",
       "      <td>1.886200e-12</td>\n",
       "    </tr>\n",
       "    <tr>\n",
       "      <th>1</th>\n",
       "      <td>2</td>\n",
       "      <td>FRG1</td>\n",
       "      <td>FSHD region gene 1</td>\n",
       "      <td>812</td>\n",
       "      <td>0</td>\n",
       "      <td>182</td>\n",
       "      <td>3</td>\n",
       "      <td>19</td>\n",
       "      <td>0</td>\n",
       "      <td>4</td>\n",
       "      <td>0</td>\n",
       "      <td>23</td>\n",
       "      <td>12</td>\n",
       "      <td>10</td>\n",
       "      <td>4.619031e-02</td>\n",
       "      <td>0.00025</td>\n",
       "      <td>0.01117</td>\n",
       "      <td>7.200104e-06</td>\n",
       "      <td>6.790418e-02</td>\n",
       "    </tr>\n",
       "  </tbody>\n",
       "</table>\n",
       "</div>"
      ],
      "text/plain": [
       "   rank    gene                                           longname  codelen  \\\n",
       "0     1  PIK3CA  phosphoinositide-3-kinase, catalytic, alpha po...     3289   \n",
       "1     2    FRG1                                 FSHD region gene 1      812   \n",
       "\n",
       "   nnei  nncd  nsil  nmis  nstp  nspl  nind  nnon  npat  nsite           pCV  \\\n",
       "0     1    23     1    23     0     0     0    23    21     11  1.033533e-15   \n",
       "1     0   182     3    19     0     4     0    23    12     10  4.619031e-02   \n",
       "\n",
       "       pCL      pFN             p             q  \n",
       "0  0.00001  0.00526  1.000000e-16  1.886200e-12  \n",
       "1  0.00025  0.01117  7.200104e-06  6.790418e-02  "
      ]
     },
     "execution_count": 10,
     "metadata": {},
     "output_type": "execute_result"
    },
    {
     "data": {
      "text/plain": [
       "(18862, 19)"
      ]
     },
     "execution_count": 10,
     "metadata": {},
     "output_type": "execute_result"
    },
    {
     "data": {
      "text/html": [
       "<div>\n",
       "<style scoped>\n",
       "    .dataframe tbody tr th:only-of-type {\n",
       "        vertical-align: middle;\n",
       "    }\n",
       "\n",
       "    .dataframe tbody tr th {\n",
       "        vertical-align: top;\n",
       "    }\n",
       "\n",
       "    .dataframe thead th {\n",
       "        text-align: right;\n",
       "    }\n",
       "</style>\n",
       "<table border=\"1\" class=\"dataframe\">\n",
       "  <thead>\n",
       "    <tr style=\"text-align: right;\">\n",
       "      <th></th>\n",
       "      <th>rank</th>\n",
       "      <th>q</th>\n",
       "    </tr>\n",
       "    <tr>\n",
       "      <th>gene</th>\n",
       "      <th></th>\n",
       "      <th></th>\n",
       "    </tr>\n",
       "  </thead>\n",
       "  <tbody>\n",
       "    <tr>\n",
       "      <th>PIK3CA</th>\n",
       "      <td>1</td>\n",
       "      <td>1.886200e-12</td>\n",
       "    </tr>\n",
       "    <tr>\n",
       "      <th>FRG1</th>\n",
       "      <td>2</td>\n",
       "      <td>6.790418e-02</td>\n",
       "    </tr>\n",
       "  </tbody>\n",
       "</table>\n",
       "</div>"
      ],
      "text/plain": [
       "        rank             q\n",
       "gene                      \n",
       "PIK3CA     1  1.886200e-12\n",
       "FRG1       2  6.790418e-02"
      ]
     },
     "execution_count": 10,
     "metadata": {},
     "output_type": "execute_result"
    }
   ],
   "source": [
    "df2 = pd.read_csv(f2, sep='\\t')\n",
    "df2.head(2)\n",
    "df2.shape\n",
    "\n",
    "df2 = df2[['gene', 'rank', 'q']].set_index('gene')\n",
    "df2.head(2)"
   ]
  },
  {
   "cell_type": "code",
   "execution_count": 11,
   "metadata": {},
   "outputs": [
    {
     "data": {
      "text/html": [
       "<div>\n",
       "<style scoped>\n",
       "    .dataframe tbody tr th:only-of-type {\n",
       "        vertical-align: middle;\n",
       "    }\n",
       "\n",
       "    .dataframe tbody tr th {\n",
       "        vertical-align: top;\n",
       "    }\n",
       "\n",
       "    .dataframe thead th {\n",
       "        text-align: right;\n",
       "    }\n",
       "</style>\n",
       "<table border=\"1\" class=\"dataframe\">\n",
       "  <thead>\n",
       "    <tr style=\"text-align: right;\">\n",
       "      <th></th>\n",
       "      <th>rank_x</th>\n",
       "      <th>q_x</th>\n",
       "      <th>rank_y</th>\n",
       "      <th>q_y</th>\n",
       "    </tr>\n",
       "    <tr>\n",
       "      <th>gene</th>\n",
       "      <th></th>\n",
       "      <th></th>\n",
       "      <th></th>\n",
       "      <th></th>\n",
       "    </tr>\n",
       "  </thead>\n",
       "  <tbody>\n",
       "    <tr>\n",
       "      <th>PIK3CA</th>\n",
       "      <td>1</td>\n",
       "      <td>2.094103e-12</td>\n",
       "      <td>1</td>\n",
       "      <td>1.886200e-12</td>\n",
       "    </tr>\n",
       "    <tr>\n",
       "      <th>FBXW7</th>\n",
       "      <td>2</td>\n",
       "      <td>9.681136e-01</td>\n",
       "      <td>39</td>\n",
       "      <td>1.000000e+00</td>\n",
       "    </tr>\n",
       "  </tbody>\n",
       "</table>\n",
       "</div>"
      ],
      "text/plain": [
       "        rank_x           q_x  rank_y           q_y\n",
       "gene                                              \n",
       "PIK3CA       1  2.094103e-12       1  1.886200e-12\n",
       "FBXW7        2  9.681136e-01      39  1.000000e+00"
      ]
     },
     "execution_count": 11,
     "metadata": {},
     "output_type": "execute_result"
    }
   ],
   "source": [
    "dfm = pd.merge(df1, df2, left_index=True, right_index=True)\n",
    "dfm.head(2)"
   ]
  },
  {
   "cell_type": "code",
   "execution_count": 12,
   "metadata": {},
   "outputs": [],
   "source": [
    "dfm = dfm[(dfm.q_x<.3)|(dfm.q_y <.3)]"
   ]
  },
  {
   "cell_type": "code",
   "execution_count": 13,
   "metadata": {},
   "outputs": [
    {
     "data": {
      "text/html": [
       "<div>\n",
       "<style scoped>\n",
       "    .dataframe tbody tr th:only-of-type {\n",
       "        vertical-align: middle;\n",
       "    }\n",
       "\n",
       "    .dataframe tbody tr th {\n",
       "        vertical-align: top;\n",
       "    }\n",
       "\n",
       "    .dataframe thead th {\n",
       "        text-align: right;\n",
       "    }\n",
       "</style>\n",
       "<table border=\"1\" class=\"dataframe\">\n",
       "  <thead>\n",
       "    <tr style=\"text-align: right;\">\n",
       "      <th></th>\n",
       "      <th>rank_x</th>\n",
       "      <th>q_x</th>\n",
       "      <th>rank_y</th>\n",
       "      <th>q_y</th>\n",
       "    </tr>\n",
       "    <tr>\n",
       "      <th>gene</th>\n",
       "      <th></th>\n",
       "      <th></th>\n",
       "      <th></th>\n",
       "      <th></th>\n",
       "    </tr>\n",
       "  </thead>\n",
       "  <tbody>\n",
       "    <tr>\n",
       "      <th>PIK3CA</th>\n",
       "      <td>1</td>\n",
       "      <td>2.094103e-12</td>\n",
       "      <td>1</td>\n",
       "      <td>1.886200e-12</td>\n",
       "    </tr>\n",
       "    <tr>\n",
       "      <th>ASMT</th>\n",
       "      <td>23</td>\n",
       "      <td>1.000000e+00</td>\n",
       "      <td>8</td>\n",
       "      <td>2.437496e-01</td>\n",
       "    </tr>\n",
       "    <tr>\n",
       "      <th>PCDHGA12</th>\n",
       "      <td>64</td>\n",
       "      <td>1.000000e+00</td>\n",
       "      <td>15</td>\n",
       "      <td>2.889585e-01</td>\n",
       "    </tr>\n",
       "    <tr>\n",
       "      <th>NHEDC1</th>\n",
       "      <td>99</td>\n",
       "      <td>1.000000e+00</td>\n",
       "      <td>6</td>\n",
       "      <td>1.090002e-01</td>\n",
       "    </tr>\n",
       "    <tr>\n",
       "      <th>ZC3H6</th>\n",
       "      <td>115</td>\n",
       "      <td>1.000000e+00</td>\n",
       "      <td>9</td>\n",
       "      <td>2.870623e-01</td>\n",
       "    </tr>\n",
       "    <tr>\n",
       "      <th>CASP8</th>\n",
       "      <td>119</td>\n",
       "      <td>1.000000e+00</td>\n",
       "      <td>3</td>\n",
       "      <td>8.167211e-02</td>\n",
       "    </tr>\n",
       "    <tr>\n",
       "      <th>MAPK1</th>\n",
       "      <td>180</td>\n",
       "      <td>1.000000e+00</td>\n",
       "      <td>5</td>\n",
       "      <td>1.090002e-01</td>\n",
       "    </tr>\n",
       "    <tr>\n",
       "      <th>MUC17</th>\n",
       "      <td>421</td>\n",
       "      <td>1.000000e+00</td>\n",
       "      <td>4</td>\n",
       "      <td>1.087731e-01</td>\n",
       "    </tr>\n",
       "    <tr>\n",
       "      <th>SIRT7</th>\n",
       "      <td>460</td>\n",
       "      <td>1.000000e+00</td>\n",
       "      <td>13</td>\n",
       "      <td>2.870623e-01</td>\n",
       "    </tr>\n",
       "    <tr>\n",
       "      <th>MUC4</th>\n",
       "      <td>535</td>\n",
       "      <td>1.000000e+00</td>\n",
       "      <td>11</td>\n",
       "      <td>2.870623e-01</td>\n",
       "    </tr>\n",
       "    <tr>\n",
       "      <th>PCDHGA11</th>\n",
       "      <td>614</td>\n",
       "      <td>1.000000e+00</td>\n",
       "      <td>14</td>\n",
       "      <td>2.870623e-01</td>\n",
       "    </tr>\n",
       "    <tr>\n",
       "      <th>TAS2R43</th>\n",
       "      <td>1445</td>\n",
       "      <td>1.000000e+00</td>\n",
       "      <td>12</td>\n",
       "      <td>2.870623e-01</td>\n",
       "    </tr>\n",
       "    <tr>\n",
       "      <th>MDC1</th>\n",
       "      <td>1583</td>\n",
       "      <td>1.000000e+00</td>\n",
       "      <td>7</td>\n",
       "      <td>1.706163e-01</td>\n",
       "    </tr>\n",
       "    <tr>\n",
       "      <th>AMAC1L2</th>\n",
       "      <td>2887</td>\n",
       "      <td>1.000000e+00</td>\n",
       "      <td>10</td>\n",
       "      <td>2.870623e-01</td>\n",
       "    </tr>\n",
       "    <tr>\n",
       "      <th>FRG1</th>\n",
       "      <td>5603</td>\n",
       "      <td>1.000000e+00</td>\n",
       "      <td>2</td>\n",
       "      <td>6.790418e-02</td>\n",
       "    </tr>\n",
       "  </tbody>\n",
       "</table>\n",
       "</div>"
      ],
      "text/plain": [
       "          rank_x           q_x  rank_y           q_y\n",
       "gene                                                \n",
       "PIK3CA         1  2.094103e-12       1  1.886200e-12\n",
       "ASMT          23  1.000000e+00       8  2.437496e-01\n",
       "PCDHGA12      64  1.000000e+00      15  2.889585e-01\n",
       "NHEDC1        99  1.000000e+00       6  1.090002e-01\n",
       "ZC3H6        115  1.000000e+00       9  2.870623e-01\n",
       "CASP8        119  1.000000e+00       3  8.167211e-02\n",
       "MAPK1        180  1.000000e+00       5  1.090002e-01\n",
       "MUC17        421  1.000000e+00       4  1.087731e-01\n",
       "SIRT7        460  1.000000e+00      13  2.870623e-01\n",
       "MUC4         535  1.000000e+00      11  2.870623e-01\n",
       "PCDHGA11     614  1.000000e+00      14  2.870623e-01\n",
       "TAS2R43     1445  1.000000e+00      12  2.870623e-01\n",
       "MDC1        1583  1.000000e+00       7  1.706163e-01\n",
       "AMAC1L2     2887  1.000000e+00      10  2.870623e-01\n",
       "FRG1        5603  1.000000e+00       2  6.790418e-02"
      ]
     },
     "execution_count": 13,
     "metadata": {},
     "output_type": "execute_result"
    }
   ],
   "source": [
    "dfm"
   ]
  },
  {
   "cell_type": "code",
   "execution_count": 17,
   "metadata": {
    "scrolled": true
   },
   "outputs": [
    {
     "data": {
      "text/plain": [
       "<matplotlib.axes._subplots.AxesSubplot at 0x7fb1aedeaba8>"
      ]
     },
     "execution_count": 17,
     "metadata": {},
     "output_type": "execute_result"
    },
    {
     "data": {
      "text/plain": [
       "96"
      ]
     },
     "execution_count": 17,
     "metadata": {},
     "output_type": "execute_result"
    },
    {
     "name": "stdout",
     "output_type": "stream",
     "text": [
      "CPU times: user 0 ns, sys: 0 ns, total: 0 ns\n",
      "Wall time: 320 ms\n"
     ]
    },
    {
     "data": {
      "image/png": "[encoded data removed]",
      "text/plain": [
       "<Figure size 432x432 with 1 Axes>"
      ]
     },
     "metadata": {},
     "output_type": "display_data"
    }
   ],
   "source": [
    "# plt.scatter(dfm.q_x, dfm.q_y)\n",
    "dfm.plot('q_x', 'q_y', kind='scatter',figsize=(6,6))\n",
    "texts = [plt.text(a, b, gene) for a, b, gene in zip(dfm.q_x, dfm.q_y, dfm.index)]\n",
    "adjust_text(texts)\n",
    "of = '/projects/trans_scratch/validations/workspace/szong/Cervical/mutsig2cv/smgs_hiv_pos_vs_neg.png'\n",
    "\n",
    "%time plt.savefig(of, bbox_inches='tight',dpi=200)\n",
    "plt.show()"
   ]
  },
  {
   "cell_type": "code",
   "execution_count": 29,
   "metadata": {
    "scrolled": true
   },
   "outputs": [
    {
     "data": {
      "text/plain": [
       "<matplotlib.axes._subplots.AxesSubplot at 0x7f19a325a470>"
      ]
     },
     "execution_count": 29,
     "metadata": {},
     "output_type": "execute_result"
    },
    {
     "data": {
      "image/png": "[encoded data removed]",
      "text/plain": [
       "<Figure size 864x432 with 1 Axes>"
      ]
     },
     "metadata": {},
     "output_type": "display_data"
    }
   ],
   "source": [
    "dfm.plot('q_x', 'q_y', kind='scatter')"
   ]
  },
  {
   "cell_type": "markdown",
   "metadata": {},
   "source": [
    "# 3. frequency of mutated genes"
   ]
  },
  {
   "cell_type": "code",
   "execution_count": 18,
   "metadata": {},
   "outputs": [],
   "source": [
    "mutdir = '/projects/trans_scratch/validations/workspace/szong/Cervical/variant_bwamem/124_patients_new/'"
   ]
  },
  {
   "cell_type": "code",
   "execution_count": 64,
   "metadata": {},
   "outputs": [
    {
     "data": {
      "text/plain": [
       "(44053, 40)"
      ]
     },
     "execution_count": 64,
     "metadata": {},
     "output_type": "execute_result"
    },
    {
     "data": {
      "text/html": [
       "<div>\n",
       "<style scoped>\n",
       "    .dataframe tbody tr th:only-of-type {\n",
       "        vertical-align: middle;\n",
       "    }\n",
       "\n",
       "    .dataframe tbody tr th {\n",
       "        vertical-align: top;\n",
       "    }\n",
       "\n",
       "    .dataframe thead th {\n",
       "        text-align: right;\n",
       "    }\n",
       "</style>\n",
       "<table border=\"1\" class=\"dataframe\">\n",
       "  <thead>\n",
       "    <tr style=\"text-align: right;\">\n",
       "      <th></th>\n",
       "      <th>gene</th>\n",
       "      <th>chromosome</th>\n",
       "      <th>position</th>\n",
       "      <th>ref_base</th>\n",
       "      <th>alt_base</th>\n",
       "      <th>patient_ID</th>\n",
       "      <th>snp_ID</th>\n",
       "      <th>gmaf</th>\n",
       "      <th>cosmic64_ID</th>\n",
       "      <th>snpeff_details</th>\n",
       "      <th>...</th>\n",
       "      <th>t_RNA_RefC</th>\n",
       "      <th>t_RNA_AltC</th>\n",
       "      <th>t_RNA_AF</th>\n",
       "      <th>RNA_tc</th>\n",
       "      <th>Quality_filter</th>\n",
       "      <th>adj_t_Quality_filter</th>\n",
       "      <th>Somatic_filter</th>\n",
       "      <th>filtered_somatic_num_patients_gene_level</th>\n",
       "      <th>filtered_somatic_num_SNVs_gene_level</th>\n",
       "      <th>filtered_somatic_num_patients_SNV_level</th>\n",
       "    </tr>\n",
       "  </thead>\n",
       "  <tbody>\n",
       "    <tr>\n",
       "      <th>0</th>\n",
       "      <td>SAMD11</td>\n",
       "      <td>1</td>\n",
       "      <td>865615</td>\n",
       "      <td>C</td>\n",
       "      <td>A</td>\n",
       "      <td>HTMCP-03-06-02007</td>\n",
       "      <td>novel_snp</td>\n",
       "      <td>gmaf_unknown</td>\n",
       "      <td>not_in_cosmic64</td>\n",
       "      <td>NON_SYNONYMOUS_CODING(MODERATE|MISSENSE|ttC/tt...</td>\n",
       "      <td>...</td>\n",
       "      <td>15</td>\n",
       "      <td>9</td>\n",
       "      <td>0.38</td>\n",
       "      <td>50.0</td>\n",
       "      <td>True</td>\n",
       "      <td>True</td>\n",
       "      <td>True</td>\n",
       "      <td>2</td>\n",
       "      <td>2</td>\n",
       "      <td>1</td>\n",
       "    </tr>\n",
       "    <tr>\n",
       "      <th>1</th>\n",
       "      <td>SAMD11</td>\n",
       "      <td>1</td>\n",
       "      <td>878183</td>\n",
       "      <td>C</td>\n",
       "      <td>T</td>\n",
       "      <td>HTMCP-03-06-02214</td>\n",
       "      <td>novel_snp</td>\n",
       "      <td>gmaf_unknown</td>\n",
       "      <td>not_in_cosmic64</td>\n",
       "      <td>NON_SYNONYMOUS_CODING(MODERATE|MISSENSE|Ccc/Tc...</td>\n",
       "      <td>...</td>\n",
       "      <td>0</td>\n",
       "      <td>1</td>\n",
       "      <td>1.00</td>\n",
       "      <td>90.0</td>\n",
       "      <td>True</td>\n",
       "      <td>True</td>\n",
       "      <td>True</td>\n",
       "      <td>2</td>\n",
       "      <td>2</td>\n",
       "      <td>1</td>\n",
       "    </tr>\n",
       "  </tbody>\n",
       "</table>\n",
       "<p>2 rows × 40 columns</p>\n",
       "</div>"
      ],
      "text/plain": [
       "     gene chromosome  position ref_base alt_base         patient_ID  \\\n",
       "0  SAMD11          1    865615        C        A  HTMCP-03-06-02007   \n",
       "1  SAMD11          1    878183        C        T  HTMCP-03-06-02214   \n",
       "\n",
       "      snp_ID          gmaf      cosmic64_ID  \\\n",
       "0  novel_snp  gmaf_unknown  not_in_cosmic64   \n",
       "1  novel_snp  gmaf_unknown  not_in_cosmic64   \n",
       "\n",
       "                                      snpeff_details  \\\n",
       "0  NON_SYNONYMOUS_CODING(MODERATE|MISSENSE|ttC/tt...   \n",
       "1  NON_SYNONYMOUS_CODING(MODERATE|MISSENSE|Ccc/Tc...   \n",
       "\n",
       "                    ...                    t_RNA_RefC t_RNA_AltC t_RNA_AF  \\\n",
       "0                   ...                            15          9     0.38   \n",
       "1                   ...                             0          1     1.00   \n",
       "\n",
       "  RNA_tc Quality_filter  adj_t_Quality_filter  Somatic_filter  \\\n",
       "0   50.0           True                  True            True   \n",
       "1   90.0           True                  True            True   \n",
       "\n",
       "   filtered_somatic_num_patients_gene_level  \\\n",
       "0                                         2   \n",
       "1                                         2   \n",
       "\n",
       "   filtered_somatic_num_SNVs_gene_level  \\\n",
       "0                                     2   \n",
       "1                                     2   \n",
       "\n",
       "   filtered_somatic_num_patients_SNV_level  \n",
       "0                                        1  \n",
       "1                                        1  \n",
       "\n",
       "[2 rows x 40 columns]"
      ]
     },
     "execution_count": 64,
     "metadata": {},
     "output_type": "execute_result"
    }
   ],
   "source": [
    "f3 = f'{mutdir}HIGH_MODERATE_SNV_summary_with_normal_with_AF_filtered_somatic.tsv'\n",
    "df3 = pd.read_csv(f3, sep='\\t', low_memory=False)\n",
    "df3.shape\n",
    "df3.head(2)"
   ]
  },
  {
   "cell_type": "code",
   "execution_count": 65,
   "metadata": {},
   "outputs": [
    {
     "data": {
      "text/html": [
       "<div>\n",
       "<style scoped>\n",
       "    .dataframe tbody tr th:only-of-type {\n",
       "        vertical-align: middle;\n",
       "    }\n",
       "\n",
       "    .dataframe tbody tr th {\n",
       "        vertical-align: top;\n",
       "    }\n",
       "\n",
       "    .dataframe thead th {\n",
       "        text-align: right;\n",
       "    }\n",
       "</style>\n",
       "<table border=\"1\" class=\"dataframe\">\n",
       "  <thead>\n",
       "    <tr style=\"text-align: right;\">\n",
       "      <th></th>\n",
       "      <th>patient</th>\n",
       "      <th>lib</th>\n",
       "      <th>status</th>\n",
       "      <th>bams</th>\n",
       "    </tr>\n",
       "  </thead>\n",
       "  <tbody>\n",
       "    <tr>\n",
       "      <th>0</th>\n",
       "      <td>HTMCP-03-06-02001</td>\n",
       "      <td>A37234</td>\n",
       "      <td>Malignant</td>\n",
       "      <td>/projects/analysis/analysis22/A37234/merge_bwa...</td>\n",
       "    </tr>\n",
       "    <tr>\n",
       "      <th>1</th>\n",
       "      <td>HTMCP-03-06-02001</td>\n",
       "      <td>A37159</td>\n",
       "      <td>normal</td>\n",
       "      <td>/projects/analysis/analysis22/A37159/merge_bwa...</td>\n",
       "    </tr>\n",
       "  </tbody>\n",
       "</table>\n",
       "</div>"
      ],
      "text/plain": [
       "             patient     lib     status  \\\n",
       "0  HTMCP-03-06-02001  A37234  Malignant   \n",
       "1  HTMCP-03-06-02001  A37159     normal   \n",
       "\n",
       "                                                bams  \n",
       "0  /projects/analysis/analysis22/A37234/merge_bwa...  \n",
       "1  /projects/analysis/analysis22/A37159/merge_bwa...  "
      ]
     },
     "execution_count": 65,
     "metadata": {},
     "output_type": "execute_result"
    }
   ],
   "source": [
    "f4 = f'{mutdir}118_tumor_normal_pairs.txt'\n",
    "df4 = pd.read_csv(f4, sep='\\t', header=None)\n",
    "df4.columns = ['patient', 'lib', 'status', 'bams']\n",
    "df4.head(2)"
   ]
  },
  {
   "cell_type": "code",
   "execution_count": 66,
   "metadata": {},
   "outputs": [
    {
     "data": {
      "text/plain": [
       "118"
      ]
     },
     "execution_count": 66,
     "metadata": {},
     "output_type": "execute_result"
    },
    {
     "data": {
      "text/plain": [
       "['HTMCP-03-06-02001', 'HTMCP-03-06-02002']"
      ]
     },
     "execution_count": 66,
     "metadata": {},
     "output_type": "execute_result"
    }
   ],
   "source": [
    "patients = df4.patient.unique().tolist()\n",
    "len(patients)\n",
    "patients[:2]"
   ]
  },
  {
   "cell_type": "code",
   "execution_count": 67,
   "metadata": {},
   "outputs": [
    {
     "data": {
      "text/plain": [
       "(22376, 40)"
      ]
     },
     "execution_count": 67,
     "metadata": {},
     "output_type": "execute_result"
    }
   ],
   "source": [
    "df118 = df3[df3.patient_ID.isin(patients)]\n",
    "assert df118.patient_ID.nunique() == 118\n",
    "df118.shape"
   ]
  },
  {
   "cell_type": "code",
   "execution_count": 68,
   "metadata": {},
   "outputs": [
    {
     "data": {
      "text/html": [
       "<div>\n",
       "<style scoped>\n",
       "    .dataframe tbody tr th:only-of-type {\n",
       "        vertical-align: middle;\n",
       "    }\n",
       "\n",
       "    .dataframe tbody tr th {\n",
       "        vertical-align: top;\n",
       "    }\n",
       "\n",
       "    .dataframe thead th {\n",
       "        text-align: right;\n",
       "    }\n",
       "</style>\n",
       "<table border=\"1\" class=\"dataframe\">\n",
       "  <thead>\n",
       "    <tr style=\"text-align: right;\">\n",
       "      <th></th>\n",
       "      <th>gene</th>\n",
       "      <th>chromosome</th>\n",
       "      <th>position</th>\n",
       "      <th>ref_base</th>\n",
       "      <th>alt_base</th>\n",
       "      <th>patient_ID</th>\n",
       "      <th>snp_ID</th>\n",
       "      <th>gmaf</th>\n",
       "      <th>cosmic64_ID</th>\n",
       "      <th>snpeff_details</th>\n",
       "      <th>...</th>\n",
       "      <th>t_RNA_RefC</th>\n",
       "      <th>t_RNA_AltC</th>\n",
       "      <th>t_RNA_AF</th>\n",
       "      <th>RNA_tc</th>\n",
       "      <th>Quality_filter</th>\n",
       "      <th>adj_t_Quality_filter</th>\n",
       "      <th>Somatic_filter</th>\n",
       "      <th>filtered_somatic_num_patients_gene_level</th>\n",
       "      <th>filtered_somatic_num_SNVs_gene_level</th>\n",
       "      <th>filtered_somatic_num_patients_SNV_level</th>\n",
       "    </tr>\n",
       "  </thead>\n",
       "  <tbody>\n",
       "    <tr>\n",
       "      <th>1</th>\n",
       "      <td>SAMD11</td>\n",
       "      <td>1</td>\n",
       "      <td>878183</td>\n",
       "      <td>C</td>\n",
       "      <td>T</td>\n",
       "      <td>HTMCP-03-06-02214</td>\n",
       "      <td>novel_snp</td>\n",
       "      <td>gmaf_unknown</td>\n",
       "      <td>not_in_cosmic64</td>\n",
       "      <td>NON_SYNONYMOUS_CODING(MODERATE|MISSENSE|Ccc/Tc...</td>\n",
       "      <td>...</td>\n",
       "      <td>0</td>\n",
       "      <td>1</td>\n",
       "      <td>1.00</td>\n",
       "      <td>90.0</td>\n",
       "      <td>True</td>\n",
       "      <td>True</td>\n",
       "      <td>True</td>\n",
       "      <td>2</td>\n",
       "      <td>2</td>\n",
       "      <td>1</td>\n",
       "    </tr>\n",
       "    <tr>\n",
       "      <th>2</th>\n",
       "      <td>KLHL17</td>\n",
       "      <td>1</td>\n",
       "      <td>899543</td>\n",
       "      <td>G</td>\n",
       "      <td>C</td>\n",
       "      <td>HTMCP-03-06-02120</td>\n",
       "      <td>novel_snp</td>\n",
       "      <td>gmaf_unknown</td>\n",
       "      <td>not_in_cosmic64</td>\n",
       "      <td>NON_SYNONYMOUS_CODING(MODERATE|MISSENSE|Gag/Ca...</td>\n",
       "      <td>...</td>\n",
       "      <td>2</td>\n",
       "      <td>1</td>\n",
       "      <td>0.33</td>\n",
       "      <td>70.0</td>\n",
       "      <td>True</td>\n",
       "      <td>True</td>\n",
       "      <td>True</td>\n",
       "      <td>1</td>\n",
       "      <td>1</td>\n",
       "      <td>1</td>\n",
       "    </tr>\n",
       "  </tbody>\n",
       "</table>\n",
       "<p>2 rows × 40 columns</p>\n",
       "</div>"
      ],
      "text/plain": [
       "     gene chromosome  position ref_base alt_base         patient_ID  \\\n",
       "1  SAMD11          1    878183        C        T  HTMCP-03-06-02214   \n",
       "2  KLHL17          1    899543        G        C  HTMCP-03-06-02120   \n",
       "\n",
       "      snp_ID          gmaf      cosmic64_ID  \\\n",
       "1  novel_snp  gmaf_unknown  not_in_cosmic64   \n",
       "2  novel_snp  gmaf_unknown  not_in_cosmic64   \n",
       "\n",
       "                                      snpeff_details  \\\n",
       "1  NON_SYNONYMOUS_CODING(MODERATE|MISSENSE|Ccc/Tc...   \n",
       "2  NON_SYNONYMOUS_CODING(MODERATE|MISSENSE|Gag/Ca...   \n",
       "\n",
       "                    ...                    t_RNA_RefC t_RNA_AltC t_RNA_AF  \\\n",
       "1                   ...                             0          1     1.00   \n",
       "2                   ...                             2          1     0.33   \n",
       "\n",
       "  RNA_tc Quality_filter  adj_t_Quality_filter  Somatic_filter  \\\n",
       "1   90.0           True                  True            True   \n",
       "2   70.0           True                  True            True   \n",
       "\n",
       "   filtered_somatic_num_patients_gene_level  \\\n",
       "1                                         2   \n",
       "2                                         1   \n",
       "\n",
       "   filtered_somatic_num_SNVs_gene_level  \\\n",
       "1                                     2   \n",
       "2                                     1   \n",
       "\n",
       "   filtered_somatic_num_patients_SNV_level  \n",
       "1                                        1  \n",
       "2                                        1  \n",
       "\n",
       "[2 rows x 40 columns]"
      ]
     },
     "execution_count": 68,
     "metadata": {},
     "output_type": "execute_result"
    },
    {
     "data": {
      "text/plain": [
       "(19368, 40)"
      ]
     },
     "execution_count": 68,
     "metadata": {},
     "output_type": "execute_result"
    }
   ],
   "source": [
    "df118.head(2)\n",
    "# only care about strelka calls for now\n",
    "df118_strelka = df118[df118.in_strelka == 'in_strelka']\n",
    "df118_strelka.shape"
   ]
  },
  {
   "cell_type": "code",
   "execution_count": 69,
   "metadata": {},
   "outputs": [],
   "source": [
    "df_freq = pd.DataFrame(df118_strelka[['gene', 'patient_ID']].groupby('gene')['patient_ID'].nunique())\n"
   ]
  },
  {
   "cell_type": "code",
   "execution_count": 70,
   "metadata": {},
   "outputs": [
    {
     "data": {
      "text/html": [
       "<div>\n",
       "<style scoped>\n",
       "    .dataframe tbody tr th:only-of-type {\n",
       "        vertical-align: middle;\n",
       "    }\n",
       "\n",
       "    .dataframe tbody tr th {\n",
       "        vertical-align: top;\n",
       "    }\n",
       "\n",
       "    .dataframe thead th {\n",
       "        text-align: right;\n",
       "    }\n",
       "</style>\n",
       "<table border=\"1\" class=\"dataframe\">\n",
       "  <thead>\n",
       "    <tr style=\"text-align: right;\">\n",
       "      <th></th>\n",
       "      <th>patient_ID</th>\n",
       "    </tr>\n",
       "    <tr>\n",
       "      <th>gene</th>\n",
       "      <th></th>\n",
       "    </tr>\n",
       "  </thead>\n",
       "  <tbody>\n",
       "    <tr>\n",
       "      <th>A1BG</th>\n",
       "      <td>1</td>\n",
       "    </tr>\n",
       "    <tr>\n",
       "      <th>A1CF</th>\n",
       "      <td>2</td>\n",
       "    </tr>\n",
       "  </tbody>\n",
       "</table>\n",
       "</div>"
      ],
      "text/plain": [
       "      patient_ID\n",
       "gene            \n",
       "A1BG           1\n",
       "A1CF           2"
      ]
     },
     "execution_count": 70,
     "metadata": {},
     "output_type": "execute_result"
    }
   ],
   "source": [
    "df_freq.head(2)"
   ]
  },
  {
   "cell_type": "code",
   "execution_count": 71,
   "metadata": {},
   "outputs": [],
   "source": [
    "df_freq['fraction_patients'] = df_freq.patient_ID/118.0*100"
   ]
  },
  {
   "cell_type": "code",
   "execution_count": 72,
   "metadata": {},
   "outputs": [],
   "source": [
    "of =f'{mutdir}strelka_mutation_frequency.txt'\n",
    "df_freq.to_csv(of, sep='\\t')"
   ]
  },
  {
   "cell_type": "code",
   "execution_count": 73,
   "metadata": {},
   "outputs": [
    {
     "data": {
      "text/html": [
       "<div>\n",
       "<style scoped>\n",
       "    .dataframe tbody tr th:only-of-type {\n",
       "        vertical-align: middle;\n",
       "    }\n",
       "\n",
       "    .dataframe tbody tr th {\n",
       "        vertical-align: top;\n",
       "    }\n",
       "\n",
       "    .dataframe thead th {\n",
       "        text-align: right;\n",
       "    }\n",
       "</style>\n",
       "<table border=\"1\" class=\"dataframe\">\n",
       "  <thead>\n",
       "    <tr style=\"text-align: right;\">\n",
       "      <th></th>\n",
       "      <th>rank</th>\n",
       "      <th>q</th>\n",
       "      <th>logq</th>\n",
       "    </tr>\n",
       "    <tr>\n",
       "      <th>gene</th>\n",
       "      <th></th>\n",
       "      <th></th>\n",
       "      <th></th>\n",
       "    </tr>\n",
       "  </thead>\n",
       "  <tbody>\n",
       "    <tr>\n",
       "      <th>PIK3CA</th>\n",
       "      <td>1</td>\n",
       "      <td>1.886200e-12</td>\n",
       "      <td>11.724412</td>\n",
       "    </tr>\n",
       "    <tr>\n",
       "      <th>RBMXL1</th>\n",
       "      <td>2</td>\n",
       "      <td>5.294163e-04</td>\n",
       "      <td>3.276203</td>\n",
       "    </tr>\n",
       "    <tr>\n",
       "      <th>MAPK1</th>\n",
       "      <td>3</td>\n",
       "      <td>1.443946e-03</td>\n",
       "      <td>2.840449</td>\n",
       "    </tr>\n",
       "    <tr>\n",
       "      <th>CASP8</th>\n",
       "      <td>4</td>\n",
       "      <td>1.592191e-02</td>\n",
       "      <td>1.798005</td>\n",
       "    </tr>\n",
       "    <tr>\n",
       "      <th>FBXW7</th>\n",
       "      <td>5</td>\n",
       "      <td>1.593530e-02</td>\n",
       "      <td>1.797640</td>\n",
       "    </tr>\n",
       "  </tbody>\n",
       "</table>\n",
       "</div>"
      ],
      "text/plain": [
       "        rank             q       logq\n",
       "gene                                 \n",
       "PIK3CA     1  1.886200e-12  11.724412\n",
       "RBMXL1     2  5.294163e-04   3.276203\n",
       "MAPK1      3  1.443946e-03   2.840449\n",
       "CASP8      4  1.592191e-02   1.798005\n",
       "FBXW7      5  1.593530e-02   1.797640"
      ]
     },
     "execution_count": 73,
     "metadata": {},
     "output_type": "execute_result"
    }
   ],
   "source": [
    "df.head()"
   ]
  },
  {
   "cell_type": "code",
   "execution_count": 78,
   "metadata": {},
   "outputs": [],
   "source": [
    "df.rename(index={'AMAC1L2':'SLC35G5'}, inplace=True)"
   ]
  },
  {
   "cell_type": "code",
   "execution_count": 80,
   "metadata": {},
   "outputs": [
    {
     "data": {
      "text/plain": [
       "rank    13.000000\n",
       "q        0.083744\n",
       "logq     1.077046\n",
       "Name: SLC35G5, dtype: float64"
      ]
     },
     "execution_count": 80,
     "metadata": {},
     "output_type": "execute_result"
    }
   ],
   "source": [
    "# df.loc['AMAC1L2',]\n",
    "df.loc['SLC35G5',]"
   ]
  },
  {
   "cell_type": "code",
   "execution_count": 82,
   "metadata": {},
   "outputs": [],
   "source": [
    "# df_freq = df_freq.reindex(df.index)"
   ]
  },
  {
   "cell_type": "code",
   "execution_count": 97,
   "metadata": {},
   "outputs": [
    {
     "data": {
      "text/html": [
       "<div>\n",
       "<style scoped>\n",
       "    .dataframe tbody tr th:only-of-type {\n",
       "        vertical-align: middle;\n",
       "    }\n",
       "\n",
       "    .dataframe tbody tr th {\n",
       "        vertical-align: top;\n",
       "    }\n",
       "\n",
       "    .dataframe thead th {\n",
       "        text-align: right;\n",
       "    }\n",
       "</style>\n",
       "<table border=\"1\" class=\"dataframe\">\n",
       "  <thead>\n",
       "    <tr style=\"text-align: right;\">\n",
       "      <th></th>\n",
       "      <th>rank</th>\n",
       "      <th>q</th>\n",
       "      <th>logq</th>\n",
       "      <th>patient_ID</th>\n",
       "      <th>fraction_patients</th>\n",
       "    </tr>\n",
       "    <tr>\n",
       "      <th>gene</th>\n",
       "      <th></th>\n",
       "      <th></th>\n",
       "      <th></th>\n",
       "      <th></th>\n",
       "      <th></th>\n",
       "    </tr>\n",
       "  </thead>\n",
       "  <tbody>\n",
       "    <tr>\n",
       "      <th>PIK3CA</th>\n",
       "      <td>1</td>\n",
       "      <td>1.886200e-12</td>\n",
       "      <td>11.724412</td>\n",
       "      <td>41.0</td>\n",
       "      <td>34.745763</td>\n",
       "    </tr>\n",
       "    <tr>\n",
       "      <th>RBMXL1</th>\n",
       "      <td>2</td>\n",
       "      <td>5.294163e-04</td>\n",
       "      <td>3.276203</td>\n",
       "      <td>2.0</td>\n",
       "      <td>1.694915</td>\n",
       "    </tr>\n",
       "    <tr>\n",
       "      <th>MAPK1</th>\n",
       "      <td>3</td>\n",
       "      <td>1.443946e-03</td>\n",
       "      <td>2.840449</td>\n",
       "      <td>6.0</td>\n",
       "      <td>5.084746</td>\n",
       "    </tr>\n",
       "  </tbody>\n",
       "</table>\n",
       "</div>"
      ],
      "text/plain": [
       "        rank             q       logq  patient_ID  fraction_patients\n",
       "gene                                                                \n",
       "PIK3CA     1  1.886200e-12  11.724412        41.0          34.745763\n",
       "RBMXL1     2  5.294163e-04   3.276203         2.0           1.694915\n",
       "MAPK1      3  1.443946e-03   2.840449         6.0           5.084746"
      ]
     },
     "execution_count": 97,
     "metadata": {},
     "output_type": "execute_result"
    },
    {
     "data": {
      "text/plain": [
       "(18862, 5)"
      ]
     },
     "execution_count": 97,
     "metadata": {},
     "output_type": "execute_result"
    }
   ],
   "source": [
    "dfm = pd.merge(df, df_freq, left_index=True, right_index=True)\n",
    "dfm.head(3)\n",
    "dfm.shape"
   ]
  },
  {
   "cell_type": "code",
   "execution_count": 115,
   "metadata": {},
   "outputs": [
    {
     "data": {
      "text/html": [
       "<div>\n",
       "<style scoped>\n",
       "    .dataframe tbody tr th:only-of-type {\n",
       "        vertical-align: middle;\n",
       "    }\n",
       "\n",
       "    .dataframe tbody tr th {\n",
       "        vertical-align: top;\n",
       "    }\n",
       "\n",
       "    .dataframe thead th {\n",
       "        text-align: right;\n",
       "    }\n",
       "</style>\n",
       "<table border=\"1\" class=\"dataframe\">\n",
       "  <thead>\n",
       "    <tr style=\"text-align: right;\">\n",
       "      <th></th>\n",
       "      <th>rank</th>\n",
       "      <th>q</th>\n",
       "      <th>logq</th>\n",
       "      <th>patient_ID</th>\n",
       "      <th>fraction_patients</th>\n",
       "    </tr>\n",
       "    <tr>\n",
       "      <th>gene</th>\n",
       "      <th></th>\n",
       "      <th></th>\n",
       "      <th></th>\n",
       "      <th></th>\n",
       "      <th></th>\n",
       "    </tr>\n",
       "  </thead>\n",
       "  <tbody>\n",
       "    <tr>\n",
       "      <th>PIK3CA</th>\n",
       "      <td>1</td>\n",
       "      <td>1.886200e-12</td>\n",
       "      <td>11.724412</td>\n",
       "      <td>41.0</td>\n",
       "      <td>34.745763</td>\n",
       "    </tr>\n",
       "    <tr>\n",
       "      <th>RBMXL1</th>\n",
       "      <td>2</td>\n",
       "      <td>5.294163e-04</td>\n",
       "      <td>3.276203</td>\n",
       "      <td>2.0</td>\n",
       "      <td>1.694915</td>\n",
       "    </tr>\n",
       "    <tr>\n",
       "      <th>MAPK1</th>\n",
       "      <td>3</td>\n",
       "      <td>1.443946e-03</td>\n",
       "      <td>2.840449</td>\n",
       "      <td>6.0</td>\n",
       "      <td>5.084746</td>\n",
       "    </tr>\n",
       "    <tr>\n",
       "      <th>CASP8</th>\n",
       "      <td>4</td>\n",
       "      <td>1.592191e-02</td>\n",
       "      <td>1.798005</td>\n",
       "      <td>5.0</td>\n",
       "      <td>4.237288</td>\n",
       "    </tr>\n",
       "    <tr>\n",
       "      <th>FBXW7</th>\n",
       "      <td>5</td>\n",
       "      <td>1.593530e-02</td>\n",
       "      <td>1.797640</td>\n",
       "      <td>10.0</td>\n",
       "      <td>8.474576</td>\n",
       "    </tr>\n",
       "    <tr>\n",
       "      <th>KMT2D</th>\n",
       "      <td>6</td>\n",
       "      <td>2.766036e-02</td>\n",
       "      <td>1.558142</td>\n",
       "      <td>11.0</td>\n",
       "      <td>9.322034</td>\n",
       "    </tr>\n",
       "    <tr>\n",
       "      <th>ZC3H6</th>\n",
       "      <td>7</td>\n",
       "      <td>3.467112e-02</td>\n",
       "      <td>1.460032</td>\n",
       "      <td>3.0</td>\n",
       "      <td>2.542373</td>\n",
       "    </tr>\n",
       "    <tr>\n",
       "      <th>TAS2R43</th>\n",
       "      <td>8</td>\n",
       "      <td>4.054229e-02</td>\n",
       "      <td>1.392092</td>\n",
       "      <td>5.0</td>\n",
       "      <td>4.237288</td>\n",
       "    </tr>\n",
       "    <tr>\n",
       "      <th>MUC17</th>\n",
       "      <td>9</td>\n",
       "      <td>4.054229e-02</td>\n",
       "      <td>1.392092</td>\n",
       "      <td>17.0</td>\n",
       "      <td>14.406780</td>\n",
       "    </tr>\n",
       "    <tr>\n",
       "      <th>PCDHGA12</th>\n",
       "      <td>10</td>\n",
       "      <td>5.666843e-02</td>\n",
       "      <td>1.246659</td>\n",
       "      <td>5.0</td>\n",
       "      <td>4.237288</td>\n",
       "    </tr>\n",
       "    <tr>\n",
       "      <th>FAT1</th>\n",
       "      <td>11</td>\n",
       "      <td>7.975206e-02</td>\n",
       "      <td>1.098258</td>\n",
       "      <td>16.0</td>\n",
       "      <td>13.559322</td>\n",
       "    </tr>\n",
       "    <tr>\n",
       "      <th>ZNF750</th>\n",
       "      <td>12</td>\n",
       "      <td>8.374401e-02</td>\n",
       "      <td>1.077046</td>\n",
       "      <td>2.0</td>\n",
       "      <td>1.694915</td>\n",
       "    </tr>\n",
       "    <tr>\n",
       "      <th>SLC35G5</th>\n",
       "      <td>13</td>\n",
       "      <td>8.374401e-02</td>\n",
       "      <td>1.077046</td>\n",
       "      <td>7.0</td>\n",
       "      <td>5.932203</td>\n",
       "    </tr>\n",
       "    <tr>\n",
       "      <th>PCDHA9</th>\n",
       "      <td>14</td>\n",
       "      <td>8.374401e-02</td>\n",
       "      <td>1.077046</td>\n",
       "      <td>3.0</td>\n",
       "      <td>2.542373</td>\n",
       "    </tr>\n",
       "    <tr>\n",
       "      <th>PSPC1</th>\n",
       "      <td>15</td>\n",
       "      <td>9.589878e-02</td>\n",
       "      <td>1.018187</td>\n",
       "      <td>3.0</td>\n",
       "      <td>2.542373</td>\n",
       "    </tr>\n",
       "    <tr>\n",
       "      <th>NFE2L2</th>\n",
       "      <td>16</td>\n",
       "      <td>1.123674e-01</td>\n",
       "      <td>0.949360</td>\n",
       "      <td>5.0</td>\n",
       "      <td>4.237288</td>\n",
       "    </tr>\n",
       "    <tr>\n",
       "      <th>ERBB2</th>\n",
       "      <td>17</td>\n",
       "      <td>1.257861e-01</td>\n",
       "      <td>0.900367</td>\n",
       "      <td>5.0</td>\n",
       "      <td>4.237288</td>\n",
       "    </tr>\n",
       "    <tr>\n",
       "      <th>FRG1</th>\n",
       "      <td>18</td>\n",
       "      <td>1.355686e-01</td>\n",
       "      <td>0.867841</td>\n",
       "      <td>6.0</td>\n",
       "      <td>5.084746</td>\n",
       "    </tr>\n",
       "    <tr>\n",
       "      <th>ZNF417</th>\n",
       "      <td>19</td>\n",
       "      <td>1.391483e-01</td>\n",
       "      <td>0.856522</td>\n",
       "      <td>4.0</td>\n",
       "      <td>3.389831</td>\n",
       "    </tr>\n",
       "    <tr>\n",
       "      <th>MDC1</th>\n",
       "      <td>20</td>\n",
       "      <td>1.541884e-01</td>\n",
       "      <td>0.811948</td>\n",
       "      <td>6.0</td>\n",
       "      <td>5.084746</td>\n",
       "    </tr>\n",
       "    <tr>\n",
       "      <th>MUC4</th>\n",
       "      <td>21</td>\n",
       "      <td>1.541884e-01</td>\n",
       "      <td>0.811948</td>\n",
       "      <td>53.0</td>\n",
       "      <td>44.915254</td>\n",
       "    </tr>\n",
       "    <tr>\n",
       "      <th>C20orf201</th>\n",
       "      <td>22</td>\n",
       "      <td>1.541884e-01</td>\n",
       "      <td>0.811948</td>\n",
       "      <td>2.0</td>\n",
       "      <td>1.694915</td>\n",
       "    </tr>\n",
       "    <tr>\n",
       "      <th>AHNAK2</th>\n",
       "      <td>23</td>\n",
       "      <td>1.616662e-01</td>\n",
       "      <td>0.791381</td>\n",
       "      <td>19.0</td>\n",
       "      <td>16.101695</td>\n",
       "    </tr>\n",
       "    <tr>\n",
       "      <th>FAM196B</th>\n",
       "      <td>24</td>\n",
       "      <td>2.216916e-01</td>\n",
       "      <td>0.654251</td>\n",
       "      <td>2.0</td>\n",
       "      <td>1.694915</td>\n",
       "    </tr>\n",
       "    <tr>\n",
       "      <th>ASMT</th>\n",
       "      <td>25</td>\n",
       "      <td>2.608723e-01</td>\n",
       "      <td>0.583572</td>\n",
       "      <td>3.0</td>\n",
       "      <td>2.542373</td>\n",
       "    </tr>\n",
       "    <tr>\n",
       "      <th>PCDHGB2</th>\n",
       "      <td>26</td>\n",
       "      <td>2.608723e-01</td>\n",
       "      <td>0.583572</td>\n",
       "      <td>6.0</td>\n",
       "      <td>5.084746</td>\n",
       "    </tr>\n",
       "    <tr>\n",
       "      <th>MUC21</th>\n",
       "      <td>27</td>\n",
       "      <td>2.799854e-01</td>\n",
       "      <td>0.552865</td>\n",
       "      <td>8.0</td>\n",
       "      <td>6.779661</td>\n",
       "    </tr>\n",
       "    <tr>\n",
       "      <th>PCDHGA11</th>\n",
       "      <td>28</td>\n",
       "      <td>3.251707e-01</td>\n",
       "      <td>0.487889</td>\n",
       "      <td>5.0</td>\n",
       "      <td>4.237288</td>\n",
       "    </tr>\n",
       "    <tr>\n",
       "      <th>ABCF1</th>\n",
       "      <td>29</td>\n",
       "      <td>4.177831e-01</td>\n",
       "      <td>0.379049</td>\n",
       "      <td>7.0</td>\n",
       "      <td>5.932203</td>\n",
       "    </tr>\n",
       "    <tr>\n",
       "      <th>RARG</th>\n",
       "      <td>30</td>\n",
       "      <td>4.732335e-01</td>\n",
       "      <td>0.324925</td>\n",
       "      <td>3.0</td>\n",
       "      <td>2.542373</td>\n",
       "    </tr>\n",
       "    <tr>\n",
       "      <th>EP300</th>\n",
       "      <td>31</td>\n",
       "      <td>4.831902e-01</td>\n",
       "      <td>0.315882</td>\n",
       "      <td>9.0</td>\n",
       "      <td>7.627119</td>\n",
       "    </tr>\n",
       "    <tr>\n",
       "      <th>PCDHGC4</th>\n",
       "      <td>32</td>\n",
       "      <td>5.676023e-01</td>\n",
       "      <td>0.245956</td>\n",
       "      <td>1.0</td>\n",
       "      <td>0.847458</td>\n",
       "    </tr>\n",
       "    <tr>\n",
       "      <th>ZDHHC11</th>\n",
       "      <td>33</td>\n",
       "      <td>5.676023e-01</td>\n",
       "      <td>0.245956</td>\n",
       "      <td>3.0</td>\n",
       "      <td>2.542373</td>\n",
       "    </tr>\n",
       "    <tr>\n",
       "      <th>CRIPAK</th>\n",
       "      <td>34</td>\n",
       "      <td>5.799481e-01</td>\n",
       "      <td>0.236611</td>\n",
       "      <td>5.0</td>\n",
       "      <td>4.237288</td>\n",
       "    </tr>\n",
       "    <tr>\n",
       "      <th>PPP3R2</th>\n",
       "      <td>35</td>\n",
       "      <td>7.012204e-01</td>\n",
       "      <td>0.154145</td>\n",
       "      <td>2.0</td>\n",
       "      <td>1.694915</td>\n",
       "    </tr>\n",
       "    <tr>\n",
       "      <th>SIRT7</th>\n",
       "      <td>36</td>\n",
       "      <td>7.781366e-01</td>\n",
       "      <td>0.108944</td>\n",
       "      <td>4.0</td>\n",
       "      <td>3.389831</td>\n",
       "    </tr>\n",
       "    <tr>\n",
       "      <th>PCMTD1</th>\n",
       "      <td>37</td>\n",
       "      <td>7.781366e-01</td>\n",
       "      <td>0.108944</td>\n",
       "      <td>1.0</td>\n",
       "      <td>1.000000</td>\n",
       "    </tr>\n",
       "    <tr>\n",
       "      <th>RUNX1</th>\n",
       "      <td>38</td>\n",
       "      <td>7.899893e-01</td>\n",
       "      <td>0.102379</td>\n",
       "      <td>4.0</td>\n",
       "      <td>3.389831</td>\n",
       "    </tr>\n",
       "    <tr>\n",
       "      <th>ASMTL</th>\n",
       "      <td>39</td>\n",
       "      <td>7.899893e-01</td>\n",
       "      <td>0.102379</td>\n",
       "      <td>2.0</td>\n",
       "      <td>1.694915</td>\n",
       "    </tr>\n",
       "    <tr>\n",
       "      <th>ZNF571</th>\n",
       "      <td>40</td>\n",
       "      <td>7.899893e-01</td>\n",
       "      <td>0.102379</td>\n",
       "      <td>3.0</td>\n",
       "      <td>2.542373</td>\n",
       "    </tr>\n",
       "    <tr>\n",
       "      <th>HLA-B</th>\n",
       "      <td>41</td>\n",
       "      <td>8.327296e-01</td>\n",
       "      <td>0.079496</td>\n",
       "      <td>4.0</td>\n",
       "      <td>3.389831</td>\n",
       "    </tr>\n",
       "    <tr>\n",
       "      <th>MAP4K4</th>\n",
       "      <td>42</td>\n",
       "      <td>9.720722e-01</td>\n",
       "      <td>0.012301</td>\n",
       "      <td>4.0</td>\n",
       "      <td>3.389831</td>\n",
       "    </tr>\n",
       "    <tr>\n",
       "      <th>TMEM87B</th>\n",
       "      <td>43</td>\n",
       "      <td>9.720722e-01</td>\n",
       "      <td>0.012301</td>\n",
       "      <td>2.0</td>\n",
       "      <td>1.694915</td>\n",
       "    </tr>\n",
       "    <tr>\n",
       "      <th>LILRA4</th>\n",
       "      <td>44</td>\n",
       "      <td>9.973147e-01</td>\n",
       "      <td>0.001168</td>\n",
       "      <td>7.0</td>\n",
       "      <td>5.932203</td>\n",
       "    </tr>\n",
       "    <tr>\n",
       "      <th>ZBED2</th>\n",
       "      <td>45</td>\n",
       "      <td>1.000000e+00</td>\n",
       "      <td>-0.000000</td>\n",
       "      <td>3.0</td>\n",
       "      <td>2.542373</td>\n",
       "    </tr>\n",
       "    <tr>\n",
       "      <th>PRSS3</th>\n",
       "      <td>46</td>\n",
       "      <td>1.000000e+00</td>\n",
       "      <td>-0.000000</td>\n",
       "      <td>12.0</td>\n",
       "      <td>10.169492</td>\n",
       "    </tr>\n",
       "    <tr>\n",
       "      <th>PCDHGA10</th>\n",
       "      <td>47</td>\n",
       "      <td>1.000000e+00</td>\n",
       "      <td>-0.000000</td>\n",
       "      <td>2.0</td>\n",
       "      <td>1.694915</td>\n",
       "    </tr>\n",
       "    <tr>\n",
       "      <th>HSPB6</th>\n",
       "      <td>48</td>\n",
       "      <td>1.000000e+00</td>\n",
       "      <td>-0.000000</td>\n",
       "      <td>1.0</td>\n",
       "      <td>1.000000</td>\n",
       "    </tr>\n",
       "    <tr>\n",
       "      <th>MUC2</th>\n",
       "      <td>49</td>\n",
       "      <td>1.000000e+00</td>\n",
       "      <td>-0.000000</td>\n",
       "      <td>6.0</td>\n",
       "      <td>5.084746</td>\n",
       "    </tr>\n",
       "    <tr>\n",
       "      <th>PRDM9</th>\n",
       "      <td>50</td>\n",
       "      <td>1.000000e+00</td>\n",
       "      <td>-0.000000</td>\n",
       "      <td>3.0</td>\n",
       "      <td>2.542373</td>\n",
       "    </tr>\n",
       "  </tbody>\n",
       "</table>\n",
       "</div>"
      ],
      "text/plain": [
       "           rank             q       logq  patient_ID  fraction_patients\n",
       "gene                                                                   \n",
       "PIK3CA        1  1.886200e-12  11.724412        41.0          34.745763\n",
       "RBMXL1        2  5.294163e-04   3.276203         2.0           1.694915\n",
       "MAPK1         3  1.443946e-03   2.840449         6.0           5.084746\n",
       "CASP8         4  1.592191e-02   1.798005         5.0           4.237288\n",
       "FBXW7         5  1.593530e-02   1.797640        10.0           8.474576\n",
       "KMT2D         6  2.766036e-02   1.558142        11.0           9.322034\n",
       "ZC3H6         7  3.467112e-02   1.460032         3.0           2.542373\n",
       "TAS2R43       8  4.054229e-02   1.392092         5.0           4.237288\n",
       "MUC17         9  4.054229e-02   1.392092        17.0          14.406780\n",
       "PCDHGA12     10  5.666843e-02   1.246659         5.0           4.237288\n",
       "FAT1         11  7.975206e-02   1.098258        16.0          13.559322\n",
       "ZNF750       12  8.374401e-02   1.077046         2.0           1.694915\n",
       "SLC35G5      13  8.374401e-02   1.077046         7.0           5.932203\n",
       "PCDHA9       14  8.374401e-02   1.077046         3.0           2.542373\n",
       "PSPC1        15  9.589878e-02   1.018187         3.0           2.542373\n",
       "NFE2L2       16  1.123674e-01   0.949360         5.0           4.237288\n",
       "ERBB2        17  1.257861e-01   0.900367         5.0           4.237288\n",
       "FRG1         18  1.355686e-01   0.867841         6.0           5.084746\n",
       "ZNF417       19  1.391483e-01   0.856522         4.0           3.389831\n",
       "MDC1         20  1.541884e-01   0.811948         6.0           5.084746\n",
       "MUC4         21  1.541884e-01   0.811948        53.0          44.915254\n",
       "C20orf201    22  1.541884e-01   0.811948         2.0           1.694915\n",
       "AHNAK2       23  1.616662e-01   0.791381        19.0          16.101695\n",
       "FAM196B      24  2.216916e-01   0.654251         2.0           1.694915\n",
       "ASMT         25  2.608723e-01   0.583572         3.0           2.542373\n",
       "PCDHGB2      26  2.608723e-01   0.583572         6.0           5.084746\n",
       "MUC21        27  2.799854e-01   0.552865         8.0           6.779661\n",
       "PCDHGA11     28  3.251707e-01   0.487889         5.0           4.237288\n",
       "ABCF1        29  4.177831e-01   0.379049         7.0           5.932203\n",
       "RARG         30  4.732335e-01   0.324925         3.0           2.542373\n",
       "EP300        31  4.831902e-01   0.315882         9.0           7.627119\n",
       "PCDHGC4      32  5.676023e-01   0.245956         1.0           0.847458\n",
       "ZDHHC11      33  5.676023e-01   0.245956         3.0           2.542373\n",
       "CRIPAK       34  5.799481e-01   0.236611         5.0           4.237288\n",
       "PPP3R2       35  7.012204e-01   0.154145         2.0           1.694915\n",
       "SIRT7        36  7.781366e-01   0.108944         4.0           3.389831\n",
       "PCMTD1       37  7.781366e-01   0.108944         1.0           1.000000\n",
       "RUNX1        38  7.899893e-01   0.102379         4.0           3.389831\n",
       "ASMTL        39  7.899893e-01   0.102379         2.0           1.694915\n",
       "ZNF571       40  7.899893e-01   0.102379         3.0           2.542373\n",
       "HLA-B        41  8.327296e-01   0.079496         4.0           3.389831\n",
       "MAP4K4       42  9.720722e-01   0.012301         4.0           3.389831\n",
       "TMEM87B      43  9.720722e-01   0.012301         2.0           1.694915\n",
       "LILRA4       44  9.973147e-01   0.001168         7.0           5.932203\n",
       "ZBED2        45  1.000000e+00  -0.000000         3.0           2.542373\n",
       "PRSS3        46  1.000000e+00  -0.000000        12.0          10.169492\n",
       "PCDHGA10     47  1.000000e+00  -0.000000         2.0           1.694915\n",
       "HSPB6        48  1.000000e+00  -0.000000         1.0           1.000000\n",
       "MUC2         49  1.000000e+00  -0.000000         6.0           5.084746\n",
       "PRDM9        50  1.000000e+00  -0.000000         3.0           2.542373"
      ]
     },
     "execution_count": 115,
     "metadata": {},
     "output_type": "execute_result"
    }
   ],
   "source": [
    "dfm.head(50)"
   ]
  },
  {
   "cell_type": "code",
   "execution_count": null,
   "metadata": {},
   "outputs": [],
   "source": [
    "dfm.plot.scatter()"
   ]
  },
  {
   "cell_type": "code",
   "execution_count": 103,
   "metadata": {},
   "outputs": [],
   "source": [
    "from plotnine import *\n"
   ]
  },
  {
   "cell_type": "code",
   "execution_count": 104,
   "metadata": {},
   "outputs": [
    {
     "data": {
      "image/png": "[encoded data removed]",
      "text/plain": [
       "<Figure size 640x480 with 1 Axes>"
      ]
     },
     "metadata": {},
     "output_type": "display_data"
    },
    {
     "data": {
      "text/plain": [
       "<ggplot: (8730740187803)>"
      ]
     },
     "execution_count": 104,
     "metadata": {},
     "output_type": "execute_result"
    }
   ],
   "source": [
    "(ggplot(dfm, aes('fraction_patients', 'logq'))\n",
    " + geom_point())"
   ]
  },
  {
   "cell_type": "code",
   "execution_count": 116,
   "metadata": {},
   "outputs": [
    {
     "data": {
      "text/plain": [
       "<matplotlib.axes._subplots.AxesSubplot at 0x7f0c8a3606d8>"
      ]
     },
     "execution_count": 116,
     "metadata": {},
     "output_type": "execute_result"
    },
    {
     "data": {
      "text/plain": [
       "<matplotlib.collections.LineCollection at 0x7f0c8a360710>"
      ]
     },
     "execution_count": 116,
     "metadata": {},
     "output_type": "execute_result"
    },
    {
     "data": {
      "text/plain": [
       "<matplotlib.collections.LineCollection at 0x7f0c8a326d68>"
      ]
     },
     "execution_count": 116,
     "metadata": {},
     "output_type": "execute_result"
    },
    {
     "data": {
      "text/plain": [
       "Text(0, 0.5, '-log10(q)')"
      ]
     },
     "execution_count": 116,
     "metadata": {},
     "output_type": "execute_result"
    },
    {
     "data": {
      "text/plain": [
       "83"
      ]
     },
     "execution_count": 116,
     "metadata": {},
     "output_type": "execute_result"
    },
    {
     "name": "stdout",
     "output_type": "stream",
     "text": [
      "CPU times: user 891 ms, sys: 10 ms, total: 901 ms\n",
      "Wall time: 909 ms\n"
     ]
    },
    {
     "data": {
      "image/png": "[encoded data removed]",
      "text/plain": [
       "<Figure size 864x720 with 1 Axes>"
      ]
     },
     "metadata": {},
     "output_type": "display_data"
    }
   ],
   "source": [
    "dfm=dfm.fillna(1)\n",
    "dfm.rename(index={'MLL2':'KMT2D'}, inplace=True)\n",
    "dfm.plot.scatter('fraction_patients', 'logq', figsize=(12,10))\n",
    "plt.hlines(1, 0, 50, colors='r', linestyles='dashed')\n",
    "plt.vlines(1, 0, 12, colors='r', linestyles='dashed')\n",
    "plt.ylabel('-log10(q)', fontsize=10)\n",
    "dfn = dfm[(dfm['logq'] >= 1)|(dfm.fraction_patients > 15)]\n",
    "texts = [plt.text(a, b, c) for a, b, c in zip(dfn['fraction_patients'], dfn['logq'], dfn.index)]\n",
    "adjust_text(texts)\n",
    "of = f'{wkdir}smgs_118_patients.png'\n",
    "%time plt.savefig(of, bbox_inches='tight',dpi=200)\n",
    "plt.show()\n"
   ]
  },
  {
   "cell_type": "code",
   "execution_count": null,
   "metadata": {},
   "outputs": [],
   "source": []
  },
  {
   "cell_type": "code",
   "execution_count": null,
   "metadata": {},
   "outputs": [],
   "source": []
  },
  {
   "cell_type": "code",
   "execution_count": null,
   "metadata": {},
   "outputs": [],
   "source": []
  },
  {
   "cell_type": "code",
   "execution_count": null,
   "metadata": {},
   "outputs": [],
   "source": []
  },
  {
   "cell_type": "code",
   "execution_count": null,
   "metadata": {},
   "outputs": [],
   "source": []
  },
  {
   "cell_type": "code",
   "execution_count": null,
   "metadata": {},
   "outputs": [],
   "source": []
  },
  {
   "cell_type": "code",
   "execution_count": null,
   "metadata": {},
   "outputs": [],
   "source": []
  },
  {
   "cell_type": "code",
   "execution_count": null,
   "metadata": {},
   "outputs": [],
   "source": []
  },
  {
   "cell_type": "code",
   "execution_count": null,
   "metadata": {},
   "outputs": [],
   "source": []
  },
  {
   "cell_type": "code",
   "execution_count": null,
   "metadata": {},
   "outputs": [],
   "source": []
  },
  {
   "cell_type": "code",
   "execution_count": null,
   "metadata": {},
   "outputs": [],
   "source": []
  },
  {
   "cell_type": "code",
   "execution_count": null,
   "metadata": {},
   "outputs": [],
   "source": []
  },
  {
   "cell_type": "code",
   "execution_count": null,
   "metadata": {},
   "outputs": [],
   "source": []
  },
  {
   "cell_type": "code",
   "execution_count": null,
   "metadata": {},
   "outputs": [],
   "source": []
  },
  {
   "cell_type": "code",
   "execution_count": null,
   "metadata": {},
   "outputs": [],
   "source": []
  },
  {
   "cell_type": "code",
   "execution_count": null,
   "metadata": {},
   "outputs": [],
   "source": []
  },
  {
   "cell_type": "code",
   "execution_count": null,
   "metadata": {},
   "outputs": [],
   "source": [
    "f = '/projects/trans_scratch/validations/workspace/szong/Cervical/variant_bwamem/124_patients_new/genes_highlighted_in_gcga_landscape_paper_xytext.txt'\n",
    "df22 = pd.read_csv(f, sep='\\t')\n",
    "# df22.columns = ['gene', 'bb','tcga_freq', 'cc','htmcp_freq', 'htmcp_minus_tcga', 'xtext', 'ytext']\n",
    "df22.head(2)\n",
    "\n",
    "df22 = df22.sort_values(['tcga_freq', 'htmcp_freq'], ascending=False)"
   ]
  },
  {
   "cell_type": "code",
   "execution_count": 3,
   "metadata": {},
   "outputs": [
    {
     "data": {
      "text/html": [
       "<div>\n",
       "<style scoped>\n",
       "    .dataframe tbody tr th:only-of-type {\n",
       "        vertical-align: middle;\n",
       "    }\n",
       "\n",
       "    .dataframe tbody tr th {\n",
       "        vertical-align: top;\n",
       "    }\n",
       "\n",
       "    .dataframe thead th {\n",
       "        text-align: right;\n",
       "    }\n",
       "</style>\n",
       "<table border=\"1\" class=\"dataframe\">\n",
       "  <thead>\n",
       "    <tr style=\"text-align: right;\">\n",
       "      <th></th>\n",
       "      <th>gene</th>\n",
       "      <th>bb</th>\n",
       "      <th>tcga_freq</th>\n",
       "      <th>cc</th>\n",
       "      <th>htmcp_freq</th>\n",
       "      <th>htmcp_minus_tcga</th>\n",
       "      <th>xtext</th>\n",
       "      <th>ytext</th>\n",
       "    </tr>\n",
       "  </thead>\n",
       "  <tbody>\n",
       "    <tr>\n",
       "      <th>0</th>\n",
       "      <td>EP300</td>\n",
       "      <td>21.0</td>\n",
       "      <td>0.108247</td>\n",
       "      <td>10.0</td>\n",
       "      <td>0.081301</td>\n",
       "      <td>-0.026947</td>\n",
       "      <td>0.34</td>\n",
       "      <td>0.28</td>\n",
       "    </tr>\n",
       "    <tr>\n",
       "      <th>1</th>\n",
       "      <td>PTEN</td>\n",
       "      <td>16.0</td>\n",
       "      <td>0.082474</td>\n",
       "      <td>7.0</td>\n",
       "      <td>0.056911</td>\n",
       "      <td>-0.025564</td>\n",
       "      <td>0.32</td>\n",
       "      <td>0.19</td>\n",
       "    </tr>\n",
       "  </tbody>\n",
       "</table>\n",
       "</div>"
      ],
      "text/plain": [
       "    gene    bb  tcga_freq    cc  htmcp_freq  htmcp_minus_tcga  xtext  ytext\n",
       "0  EP300  21.0   0.108247  10.0    0.081301         -0.026947   0.34   0.28\n",
       "1   PTEN  16.0   0.082474   7.0    0.056911         -0.025564   0.32   0.19"
      ]
     },
     "execution_count": 3,
     "metadata": {},
     "output_type": "execute_result"
    },
    {
     "data": {
      "text/plain": [
       "[<matplotlib.lines.Line2D at 0x7f19aa0ea080>]"
      ]
     },
     "execution_count": 3,
     "metadata": {},
     "output_type": "execute_result"
    },
    {
     "data": {
      "text/plain": [
       "(0, 0.4)"
      ]
     },
     "execution_count": 3,
     "metadata": {},
     "output_type": "execute_result"
    },
    {
     "data": {
      "text/plain": [
       "(0, 0.4)"
      ]
     },
     "execution_count": 3,
     "metadata": {},
     "output_type": "execute_result"
    },
    {
     "data": {
      "text/plain": [
       "Text(0.5,0,'Mutation frequency in TCGA')"
      ]
     },
     "execution_count": 3,
     "metadata": {},
     "output_type": "execute_result"
    },
    {
     "data": {
      "text/plain": [
       "Text(0,0.5,'Mutation frequency in HTMCP')"
      ]
     },
     "execution_count": 3,
     "metadata": {},
     "output_type": "execute_result"
    },
    {
     "name": "stdout",
     "output_type": "stream",
     "text": [
      "CPU times: user 519 ms, sys: 13.5 s, total: 14 s\n",
      "Wall time: 25.7 s\n"
     ]
    },
    {
     "data": {
      "image/png": "[encoded data removed]",
      "text/plain": [
       "<Figure size 864x432 with 1 Axes>"
      ]
     },
     "metadata": {},
     "output_type": "display_data"
    }
   ],
   "source": [
    "i = 0\n",
    "a = 0\n",
    "# genes = []\n",
    "for ix, row in df22.iterrows():\n",
    "    x = row.tcga_freq\n",
    "    y = row.htmcp_freq\n",
    "    t = row.gene\n",
    "    d = row.htmcp_minus_tcga\n",
    "    xtext = row.xtext\n",
    "    ytext = row.ytext\n",
    "    gene = row.gene\n",
    "#     print(x, y)\n",
    " \n",
    "    if x < y and d > 0.02:\n",
    "        _ = plt.scatter(x,y,c='red')\n",
    "        anno_color = 'red'\n",
    "        anno_ecolor='white'\n",
    "        fill_color = 'white'\n",
    "        _ = plt.annotate('{}'.format(t),\n",
    "                xy=(x,y), \n",
    "                xytext=(xtext, ytext), fontsize=10,\n",
    "                ha='center', va='bottom', color=anno_color,\n",
    "                textcoords='data', xycoords=\"data\", \n",
    "                bbox=dict(boxstyle='round', \n",
    "                          fc=fill_color, \n",
    "                          edgecolor=anno_ecolor,\n",
    "                          alpha=1, pad=.4),\n",
    "                arrowprops=dict(arrowstyle='-', ls='dashed',\n",
    "                                color=anno_color,\n",
    "                                shrinkB=0, \n",
    "                                connectionstyle='arc3,rad=0.0' \n",
    "                              ))\n",
    "#         i+=.01\n",
    "#         genes.append([gene, '{0:.3f}'.format(x), '{0:.3f}'.format(y+i)])\n",
    "        \n",
    "    elif x >= y and d < -0.02:\n",
    "        _ = plt.scatter(x,y,c='blue')\n",
    "        anno_color = 'blue'\n",
    "        anno_ecolor='white'\n",
    "        fill_color = 'white'\n",
    "        _ = plt.annotate('{}'.format(t),\n",
    "                xy=(x,y), \n",
    "                xytext=(xtext, ytext), fontsize=10,\n",
    "                ha='center', va='bottom', color=anno_color,\n",
    "                textcoords='data', xycoords=\"data\", \n",
    "                bbox=dict(boxstyle='round', \n",
    "                          fc=fill_color, \n",
    "                          edgecolor=anno_ecolor,\n",
    "                          alpha=1, pad=.4),\n",
    "                arrowprops=dict(arrowstyle='-', ls='dashed',\n",
    "                                color=anno_color,\n",
    "                                shrinkB=0, \n",
    "                                connectionstyle='arc3,rad=0.0' \n",
    "                              ))\n",
    "    elif d <= 0.02 and d >= -0.02:\n",
    "        _ = plt.scatter(x,y, facecolor='white', edgecolor='black')\n",
    "#         a+=.01\n",
    "#         genes.append([gene, '{0:.3f}'.format(x+3*a), '{0:.3f}'.format(y)])\n",
    "# plt.scatter(df22['tcga_freq'], df22['htmcp_freq'])\n",
    "plt.plot((0,.4), (0,.4))\n",
    "plt.xlim(0, .4)\n",
    "plt.ylim(0,.4)\n",
    "plt.xlabel('Mutation frequency in TCGA', fontsize=15)\n",
    "plt.ylabel('Mutation frequency in HTMCP', fontsize=15)\n",
    "of = '/projects/trans_scratch/validations/workspace/szong/Cervical/variant_bwamem/124_patients_new/mutation_frequency_comparison_htmcp_tcga_highlighted_genes_only.png'\n",
    "\n",
    "%time plt.savefig(of, bbox_inches='tight',dpi=200)\n",
    "plt.show()"
   ]
  }
 ],
 "metadata": {
  "kernelspec": {
   "display_name": "Python 3",
   "language": "python",
   "name": "python3"
  },
  "language_info": {
   "codemirror_mode": {
    "name": "ipython",
    "version": 3
   },
   "file_extension": ".py",
   "mimetype": "text/x-python",
   "name": "python",
   "nbconvert_exporter": "python",
   "pygments_lexer": "ipython3",
   "version": "3.6.5"
  }
 },
 "nbformat": 4,
 "nbformat_minor": 2
}
