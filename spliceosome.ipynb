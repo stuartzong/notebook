{
 "cells": [
  {
   "cell_type": "code",
   "execution_count": 1,
   "metadata": {
    "collapsed": true
   },
   "outputs": [],
   "source": [
    "import matplotlib\n",
    "import numpy as np\n",
    "import pandas as pd\n",
    "import seaborn as sns\n",
    "import matplotlib.pyplot as plt\n",
    "import matplotlib.patches as patches\n",
    "from matplotlib import style, colors\n",
    "from matplotlib import gridspec\n",
    "\n",
    "matplotlib.style.use('ggplot')\n",
    "%matplotlib inline\n",
    "matplotlib.rcParams['figure.figsize'] = (8, 6)"
   ]
  },
  {
   "cell_type": "code",
   "execution_count": 25,
   "metadata": {
    "collapsed": true
   },
   "outputs": [],
   "source": [
    "pd.read_csv?"
   ]
  },
  {
   "cell_type": "code",
   "execution_count": 151,
   "metadata": {},
   "outputs": [],
   "source": [
    "f1 = '/projects/trans_scratch/validations/workspace/szong/Cervical/spliceosome/spliceosome_snvs.txt'\n",
    "f2 = '/projects/trans_scratch/validations/workspace/szong/Cervical/spliceosome/spliceosome_cnvs.txt'\n",
    "f3 = '/projects/trans_scratch/validations/workspace/szong/Cervical/spliceosome/spliceosome_fusions.txt'\n",
    "f4 = '/projects/trans_scratch/validations/workspace/szong/Cervical/spliceosome/patient_name_lib_id.txt'\n",
    "df1 = pd.read_csv(f1, sep='\\t',usecols=['gene', 'patient_ID','n_DNA_AF'])#, index_col=['patient_ID', 'gene']) \n",
    "df2 = pd.read_csv(f2, sep='\\t', usecols=['patient', 'gene', 'cnv' ])#,  index_col=['patient', 'gene']) \n",
    "df3 = pd.read_csv(f3, sep='\\t', usecols=['rna_lib', 'fusion_partner'])\n",
    "df4 = pd.read_csv(f4, sep='\\t', usecols=['patient', 'rna_lib'])\n"
   ]
  },
  {
   "cell_type": "code",
   "execution_count": 152,
   "metadata": {},
   "outputs": [
    {
     "data": {
      "text/html": [
       "<div>\n",
       "<style>\n",
       "    .dataframe thead tr:only-child th {\n",
       "        text-align: right;\n",
       "    }\n",
       "\n",
       "    .dataframe thead th {\n",
       "        text-align: left;\n",
       "    }\n",
       "\n",
       "    .dataframe tbody tr th {\n",
       "        vertical-align: top;\n",
       "    }\n",
       "</style>\n",
       "<table border=\"1\" class=\"dataframe\">\n",
       "  <thead>\n",
       "    <tr style=\"text-align: right;\">\n",
       "      <th></th>\n",
       "      <th></th>\n",
       "      <th>n_DNA_AF</th>\n",
       "    </tr>\n",
       "    <tr>\n",
       "      <th>patient_ID</th>\n",
       "      <th>gene</th>\n",
       "      <th></th>\n",
       "    </tr>\n",
       "  </thead>\n",
       "  <tbody>\n",
       "    <tr>\n",
       "      <th>HTMCP-03-06-02007</th>\n",
       "      <th>SF3B1</th>\n",
       "      <td>0.0</td>\n",
       "    </tr>\n",
       "    <tr>\n",
       "      <th>HTMCP-03-06-02103</th>\n",
       "      <th>SF3B1</th>\n",
       "      <td>0.0</td>\n",
       "    </tr>\n",
       "    <tr>\n",
       "      <th>HTMCP-03-06-02026</th>\n",
       "      <th>SF3B1</th>\n",
       "      <td>0.0</td>\n",
       "    </tr>\n",
       "    <tr>\n",
       "      <th>HTMCP-03-06-02109</th>\n",
       "      <th>SF3B1</th>\n",
       "      <td>0.0</td>\n",
       "    </tr>\n",
       "    <tr>\n",
       "      <th>HTMCP-03-06-02447</th>\n",
       "      <th>SF3B1</th>\n",
       "      <td>0.0</td>\n",
       "    </tr>\n",
       "  </tbody>\n",
       "</table>\n",
       "</div>"
      ],
      "text/plain": [
       "                         n_DNA_AF\n",
       "patient_ID        gene           \n",
       "HTMCP-03-06-02007 SF3B1       0.0\n",
       "HTMCP-03-06-02103 SF3B1       0.0\n",
       "HTMCP-03-06-02026 SF3B1       0.0\n",
       "HTMCP-03-06-02109 SF3B1       0.0\n",
       "HTMCP-03-06-02447 SF3B1       0.0"
      ]
     },
     "execution_count": 152,
     "metadata": {},
     "output_type": "execute_result"
    }
   ],
   "source": [
    "df1 = df1.drop_duplicates().set_index(['patient_ID', 'gene'])\n",
    "df1.head()"
   ]
  },
  {
   "cell_type": "code",
   "execution_count": 153,
   "metadata": {},
   "outputs": [
    {
     "data": {
      "text/html": [
       "<div>\n",
       "<style>\n",
       "    .dataframe thead tr:only-child th {\n",
       "        text-align: right;\n",
       "    }\n",
       "\n",
       "    .dataframe thead th {\n",
       "        text-align: left;\n",
       "    }\n",
       "\n",
       "    .dataframe tbody tr th {\n",
       "        vertical-align: top;\n",
       "    }\n",
       "</style>\n",
       "<table border=\"1\" class=\"dataframe\">\n",
       "  <thead>\n",
       "    <tr style=\"text-align: right;\">\n",
       "      <th></th>\n",
       "      <th></th>\n",
       "      <th>cnv</th>\n",
       "    </tr>\n",
       "    <tr>\n",
       "      <th>patient</th>\n",
       "      <th>gene</th>\n",
       "      <th></th>\n",
       "    </tr>\n",
       "  </thead>\n",
       "  <tbody>\n",
       "    <tr>\n",
       "      <th>HTMCP-03-06-02003</th>\n",
       "      <th>SF1</th>\n",
       "      <td>3</td>\n",
       "    </tr>\n",
       "    <tr>\n",
       "      <th>HTMCP-03-06-02006</th>\n",
       "      <th>SF1</th>\n",
       "      <td>1</td>\n",
       "    </tr>\n",
       "    <tr>\n",
       "      <th>HTMCP-03-06-02020</th>\n",
       "      <th>SF1</th>\n",
       "      <td>3</td>\n",
       "    </tr>\n",
       "  </tbody>\n",
       "</table>\n",
       "</div>"
      ],
      "text/plain": [
       "                        cnv\n",
       "patient           gene     \n",
       "HTMCP-03-06-02003 SF1     3\n",
       "HTMCP-03-06-02006 SF1     1\n",
       "HTMCP-03-06-02020 SF1     3"
      ]
     },
     "execution_count": 153,
     "metadata": {},
     "output_type": "execute_result"
    }
   ],
   "source": [
    "df2 = df2.drop_duplicates().set_index(['patient', 'gene'])\n",
    "df2.head(3)"
   ]
  },
  {
   "cell_type": "code",
   "execution_count": 154,
   "metadata": {},
   "outputs": [
    {
     "data": {
      "text/html": [
       "<div>\n",
       "<style>\n",
       "    .dataframe thead tr:only-child th {\n",
       "        text-align: right;\n",
       "    }\n",
       "\n",
       "    .dataframe thead th {\n",
       "        text-align: left;\n",
       "    }\n",
       "\n",
       "    .dataframe tbody tr th {\n",
       "        vertical-align: top;\n",
       "    }\n",
       "</style>\n",
       "<table border=\"1\" class=\"dataframe\">\n",
       "  <thead>\n",
       "    <tr style=\"text-align: right;\">\n",
       "      <th></th>\n",
       "      <th></th>\n",
       "      <th>cnv</th>\n",
       "      <th>n_DNA_AF</th>\n",
       "    </tr>\n",
       "    <tr>\n",
       "      <th>patient_ID</th>\n",
       "      <th>gene</th>\n",
       "      <th></th>\n",
       "      <th></th>\n",
       "    </tr>\n",
       "  </thead>\n",
       "  <tbody>\n",
       "    <tr>\n",
       "      <th rowspan=\"2\" valign=\"top\">HTMCP-03-06-02003</th>\n",
       "      <th>SF1</th>\n",
       "      <td>3.0</td>\n",
       "      <td>NaN</td>\n",
       "    </tr>\n",
       "    <tr>\n",
       "      <th>U2AF1</th>\n",
       "      <td>1.0</td>\n",
       "      <td>NaN</td>\n",
       "    </tr>\n",
       "    <tr>\n",
       "      <th rowspan=\"3\" valign=\"top\">HTMCP-03-06-02006</th>\n",
       "      <th>SF1</th>\n",
       "      <td>1.0</td>\n",
       "      <td>NaN</td>\n",
       "    </tr>\n",
       "    <tr>\n",
       "      <th>U2AF1</th>\n",
       "      <td>1.0</td>\n",
       "      <td>NaN</td>\n",
       "    </tr>\n",
       "    <tr>\n",
       "      <th>U2AF2</th>\n",
       "      <td>3.0</td>\n",
       "      <td>NaN</td>\n",
       "    </tr>\n",
       "  </tbody>\n",
       "</table>\n",
       "</div>"
      ],
      "text/plain": [
       "                         cnv  n_DNA_AF\n",
       "patient_ID        gene                \n",
       "HTMCP-03-06-02003 SF1    3.0       NaN\n",
       "                  U2AF1  1.0       NaN\n",
       "HTMCP-03-06-02006 SF1    1.0       NaN\n",
       "                  U2AF1  1.0       NaN\n",
       "                  U2AF2  3.0       NaN"
      ]
     },
     "execution_count": 154,
     "metadata": {},
     "output_type": "execute_result"
    }
   ],
   "source": [
    "df5 = pd.concat([df1, df2]).sort_index()\n",
    "df5.head()"
   ]
  },
  {
   "cell_type": "code",
   "execution_count": 155,
   "metadata": {},
   "outputs": [
    {
     "data": {
      "text/html": [
       "<div>\n",
       "<style>\n",
       "    .dataframe thead tr:only-child th {\n",
       "        text-align: right;\n",
       "    }\n",
       "\n",
       "    .dataframe thead th {\n",
       "        text-align: left;\n",
       "    }\n",
       "\n",
       "    .dataframe tbody tr th {\n",
       "        vertical-align: top;\n",
       "    }\n",
       "</style>\n",
       "<table border=\"1\" class=\"dataframe\">\n",
       "  <thead>\n",
       "    <tr style=\"text-align: right;\">\n",
       "      <th></th>\n",
       "      <th>patient</th>\n",
       "      <th>rna_lib</th>\n",
       "    </tr>\n",
       "  </thead>\n",
       "  <tbody>\n",
       "    <tr>\n",
       "      <th>0</th>\n",
       "      <td>HTMCP-03-06-02001</td>\n",
       "      <td>A37700</td>\n",
       "    </tr>\n",
       "    <tr>\n",
       "      <th>1</th>\n",
       "      <td>HTMCP-03-06-02002</td>\n",
       "      <td>A37701</td>\n",
       "    </tr>\n",
       "    <tr>\n",
       "      <th>2</th>\n",
       "      <td>HTMCP-03-06-02003</td>\n",
       "      <td>A37702</td>\n",
       "    </tr>\n",
       "  </tbody>\n",
       "</table>\n",
       "</div>"
      ],
      "text/plain": [
       "             patient rna_lib\n",
       "0  HTMCP-03-06-02001  A37700\n",
       "1  HTMCP-03-06-02002  A37701\n",
       "2  HTMCP-03-06-02003  A37702"
      ]
     },
     "execution_count": 155,
     "metadata": {},
     "output_type": "execute_result"
    }
   ],
   "source": [
    "df4.head(3)"
   ]
  },
  {
   "cell_type": "code",
   "execution_count": 156,
   "metadata": {},
   "outputs": [
    {
     "data": {
      "text/html": [
       "<div>\n",
       "<style>\n",
       "    .dataframe thead tr:only-child th {\n",
       "        text-align: right;\n",
       "    }\n",
       "\n",
       "    .dataframe thead th {\n",
       "        text-align: left;\n",
       "    }\n",
       "\n",
       "    .dataframe tbody tr th {\n",
       "        vertical-align: top;\n",
       "    }\n",
       "</style>\n",
       "<table border=\"1\" class=\"dataframe\">\n",
       "  <thead>\n",
       "    <tr style=\"text-align: right;\">\n",
       "      <th></th>\n",
       "      <th>rna_lib</th>\n",
       "      <th>fusion_partner</th>\n",
       "    </tr>\n",
       "  </thead>\n",
       "  <tbody>\n",
       "    <tr>\n",
       "      <th>0</th>\n",
       "      <td>A57109</td>\n",
       "      <td>IL4I1,U2AF1,translocation</td>\n",
       "    </tr>\n",
       "    <tr>\n",
       "      <th>1</th>\n",
       "      <td>A57122</td>\n",
       "      <td>SF1,EPG5,translocation</td>\n",
       "    </tr>\n",
       "  </tbody>\n",
       "</table>\n",
       "</div>"
      ],
      "text/plain": [
       "  rna_lib             fusion_partner\n",
       "0  A57109  IL4I1,U2AF1,translocation\n",
       "1  A57122     SF1,EPG5,translocation"
      ]
     },
     "execution_count": 156,
     "metadata": {},
     "output_type": "execute_result"
    }
   ],
   "source": [
    "df3.head()"
   ]
  },
  {
   "cell_type": "code",
   "execution_count": null,
   "metadata": {
    "collapsed": true
   },
   "outputs": [],
   "source": []
  },
  {
   "cell_type": "code",
   "execution_count": 162,
   "metadata": {},
   "outputs": [
    {
     "data": {
      "text/html": [
       "<div>\n",
       "<style>\n",
       "    .dataframe thead tr:only-child th {\n",
       "        text-align: right;\n",
       "    }\n",
       "\n",
       "    .dataframe thead th {\n",
       "        text-align: left;\n",
       "    }\n",
       "\n",
       "    .dataframe tbody tr th {\n",
       "        vertical-align: top;\n",
       "    }\n",
       "</style>\n",
       "<table border=\"1\" class=\"dataframe\">\n",
       "  <thead>\n",
       "    <tr style=\"text-align: right;\">\n",
       "      <th></th>\n",
       "      <th></th>\n",
       "      <th>fusion_partner</th>\n",
       "    </tr>\n",
       "    <tr>\n",
       "      <th>patient</th>\n",
       "      <th>gene</th>\n",
       "      <th></th>\n",
       "    </tr>\n",
       "  </thead>\n",
       "  <tbody>\n",
       "    <tr>\n",
       "      <th>HTMCP-03-06-02157</th>\n",
       "      <th>U2AF1</th>\n",
       "      <td>IL4I1,U2AF1,translocation</td>\n",
       "    </tr>\n",
       "    <tr>\n",
       "      <th>HTMCP-03-06-02239</th>\n",
       "      <th>SF1</th>\n",
       "      <td>SF1,EPG5,translocation</td>\n",
       "    </tr>\n",
       "  </tbody>\n",
       "</table>\n",
       "</div>"
      ],
      "text/plain": [
       "                                    fusion_partner\n",
       "patient           gene                            \n",
       "HTMCP-03-06-02157 U2AF1  IL4I1,U2AF1,translocation\n",
       "HTMCP-03-06-02239 SF1       SF1,EPG5,translocation"
      ]
     },
     "execution_count": 162,
     "metadata": {},
     "output_type": "execute_result"
    }
   ],
   "source": [
    "df6 = pd.merge(df4, df3, left_on='rna_lib', right_on='rna_lib')\n",
    "df6['gene'] = ['U2AF1', 'SF1']\n",
    "df6 = df6.set_index(['patient', 'gene']).drop('rna_lib', axis=1)\n",
    "\n",
    "# df6 = df6.set_index(['patient', 'gene'])\n",
    "df6.head()\n"
   ]
  },
  {
   "cell_type": "code",
   "execution_count": 163,
   "metadata": {},
   "outputs": [
    {
     "data": {
      "text/html": [
       "<div>\n",
       "<style>\n",
       "    .dataframe thead tr:only-child th {\n",
       "        text-align: right;\n",
       "    }\n",
       "\n",
       "    .dataframe thead th {\n",
       "        text-align: left;\n",
       "    }\n",
       "\n",
       "    .dataframe tbody tr th {\n",
       "        vertical-align: top;\n",
       "    }\n",
       "</style>\n",
       "<table border=\"1\" class=\"dataframe\">\n",
       "  <thead>\n",
       "    <tr style=\"text-align: right;\">\n",
       "      <th></th>\n",
       "      <th></th>\n",
       "      <th>cnv</th>\n",
       "      <th>fusion_partner</th>\n",
       "      <th>n_DNA_AF</th>\n",
       "    </tr>\n",
       "    <tr>\n",
       "      <th>patient_ID</th>\n",
       "      <th>gene</th>\n",
       "      <th></th>\n",
       "      <th></th>\n",
       "      <th></th>\n",
       "    </tr>\n",
       "  </thead>\n",
       "  <tbody>\n",
       "    <tr>\n",
       "      <th rowspan=\"2\" valign=\"top\">HTMCP-03-06-02003</th>\n",
       "      <th>SF1</th>\n",
       "      <td>3.0</td>\n",
       "      <td>NaN</td>\n",
       "      <td>NaN</td>\n",
       "    </tr>\n",
       "    <tr>\n",
       "      <th>U2AF1</th>\n",
       "      <td>1.0</td>\n",
       "      <td>NaN</td>\n",
       "      <td>NaN</td>\n",
       "    </tr>\n",
       "    <tr>\n",
       "      <th rowspan=\"3\" valign=\"top\">HTMCP-03-06-02006</th>\n",
       "      <th>SF1</th>\n",
       "      <td>1.0</td>\n",
       "      <td>NaN</td>\n",
       "      <td>NaN</td>\n",
       "    </tr>\n",
       "    <tr>\n",
       "      <th>U2AF1</th>\n",
       "      <td>1.0</td>\n",
       "      <td>NaN</td>\n",
       "      <td>NaN</td>\n",
       "    </tr>\n",
       "    <tr>\n",
       "      <th>U2AF2</th>\n",
       "      <td>3.0</td>\n",
       "      <td>NaN</td>\n",
       "      <td>NaN</td>\n",
       "    </tr>\n",
       "  </tbody>\n",
       "</table>\n",
       "</div>"
      ],
      "text/plain": [
       "                         cnv fusion_partner  n_DNA_AF\n",
       "patient_ID        gene                               \n",
       "HTMCP-03-06-02003 SF1    3.0            NaN       NaN\n",
       "                  U2AF1  1.0            NaN       NaN\n",
       "HTMCP-03-06-02006 SF1    1.0            NaN       NaN\n",
       "                  U2AF1  1.0            NaN       NaN\n",
       "                  U2AF2  3.0            NaN       NaN"
      ]
     },
     "execution_count": 163,
     "metadata": {},
     "output_type": "execute_result"
    }
   ],
   "source": [
    "df7 = pd.concat([df5, df6]).sort_index()\n",
    "df7.head()"
   ]
  },
  {
   "cell_type": "code",
   "execution_count": 183,
   "metadata": {
    "scrolled": true
   },
   "outputs": [
    {
     "data": {
      "text/html": [
       "<div>\n",
       "<style>\n",
       "    .dataframe thead tr:only-child th {\n",
       "        text-align: right;\n",
       "    }\n",
       "\n",
       "    .dataframe thead th {\n",
       "        text-align: left;\n",
       "    }\n",
       "\n",
       "    .dataframe tbody tr th {\n",
       "        vertical-align: top;\n",
       "    }\n",
       "</style>\n",
       "<table border=\"1\" class=\"dataframe\">\n",
       "  <thead>\n",
       "    <tr style=\"text-align: right;\">\n",
       "      <th></th>\n",
       "      <th>cnv</th>\n",
       "      <th>fusion_partner</th>\n",
       "      <th>n_DNA_AF</th>\n",
       "    </tr>\n",
       "    <tr>\n",
       "      <th>gene</th>\n",
       "      <th></th>\n",
       "      <th></th>\n",
       "      <th></th>\n",
       "    </tr>\n",
       "  </thead>\n",
       "  <tbody>\n",
       "    <tr>\n",
       "      <th>SF1</th>\n",
       "      <td>3.0</td>\n",
       "      <td>NaN</td>\n",
       "      <td>NaN</td>\n",
       "    </tr>\n",
       "    <tr>\n",
       "      <th>U2AF1</th>\n",
       "      <td>1.0</td>\n",
       "      <td>NaN</td>\n",
       "      <td>NaN</td>\n",
       "    </tr>\n",
       "  </tbody>\n",
       "</table>\n",
       "</div>"
      ],
      "text/plain": [
       "       cnv fusion_partner  n_DNA_AF\n",
       "gene                               \n",
       "SF1    3.0            NaN       NaN\n",
       "U2AF1  1.0            NaN       NaN"
      ]
     },
     "execution_count": 183,
     "metadata": {},
     "output_type": "execute_result"
    }
   ],
   "source": [
    "df7.loc['HTMCP-03-06-02003']"
   ]
  },
  {
   "cell_type": "markdown",
   "metadata": {},
   "source": [
    "all patients which have either snv, fusion, or copy number change in at least one of the spliceosome genes, maybe i should exclude copy number gains since we consider changes that will disrupt the splicing"
   ]
  },
  {
   "cell_type": "code",
   "execution_count": 189,
   "metadata": {},
   "outputs": [
    {
     "data": {
      "text/plain": [
       "['HTMCP-03-06-02003',\n",
       " 'HTMCP-03-06-02006',\n",
       " 'HTMCP-03-06-02007',\n",
       " 'HTMCP-03-06-02012',\n",
       " 'HTMCP-03-06-02013',\n",
       " 'HTMCP-03-06-02020',\n",
       " 'HTMCP-03-06-02026',\n",
       " 'HTMCP-03-06-02037',\n",
       " 'HTMCP-03-06-02040',\n",
       " 'HTMCP-03-06-02046',\n",
       " 'HTMCP-03-06-02047',\n",
       " 'HTMCP-03-06-02061',\n",
       " 'HTMCP-03-06-02063',\n",
       " 'HTMCP-03-06-02068',\n",
       " 'HTMCP-03-06-02071',\n",
       " 'HTMCP-03-06-02074',\n",
       " 'HTMCP-03-06-02075',\n",
       " 'HTMCP-03-06-02076',\n",
       " 'HTMCP-03-06-02089',\n",
       " 'HTMCP-03-06-02092',\n",
       " 'HTMCP-03-06-02098',\n",
       " 'HTMCP-03-06-02099',\n",
       " 'HTMCP-03-06-02103',\n",
       " 'HTMCP-03-06-02108',\n",
       " 'HTMCP-03-06-02109',\n",
       " 'HTMCP-03-06-02110',\n",
       " 'HTMCP-03-06-02113',\n",
       " 'HTMCP-03-06-02120',\n",
       " 'HTMCP-03-06-02128',\n",
       " 'HTMCP-03-06-02145',\n",
       " 'HTMCP-03-06-02147',\n",
       " 'HTMCP-03-06-02148',\n",
       " 'HTMCP-03-06-02150',\n",
       " 'HTMCP-03-06-02151',\n",
       " 'HTMCP-03-06-02156',\n",
       " 'HTMCP-03-06-02157',\n",
       " 'HTMCP-03-06-02170',\n",
       " 'HTMCP-03-06-02174',\n",
       " 'HTMCP-03-06-02175',\n",
       " 'HTMCP-03-06-02176',\n",
       " 'HTMCP-03-06-02179',\n",
       " 'HTMCP-03-06-02182',\n",
       " 'HTMCP-03-06-02185',\n",
       " 'HTMCP-03-06-02194',\n",
       " 'HTMCP-03-06-02197',\n",
       " 'HTMCP-03-06-02202',\n",
       " 'HTMCP-03-06-02203',\n",
       " 'HTMCP-03-06-02204',\n",
       " 'HTMCP-03-06-02205',\n",
       " 'HTMCP-03-06-02209',\n",
       " 'HTMCP-03-06-02210',\n",
       " 'HTMCP-03-06-02213',\n",
       " 'HTMCP-03-06-02214',\n",
       " 'HTMCP-03-06-02215',\n",
       " 'HTMCP-03-06-02216',\n",
       " 'HTMCP-03-06-02217',\n",
       " 'HTMCP-03-06-02219',\n",
       " 'HTMCP-03-06-02222',\n",
       " 'HTMCP-03-06-02230',\n",
       " 'HTMCP-03-06-02238',\n",
       " 'HTMCP-03-06-02239',\n",
       " 'HTMCP-03-06-02259',\n",
       " 'HTMCP-03-06-02260',\n",
       " 'HTMCP-03-06-02266',\n",
       " 'HTMCP-03-06-02320',\n",
       " 'HTMCP-03-06-02322',\n",
       " 'HTMCP-03-06-02326',\n",
       " 'HTMCP-03-06-02335',\n",
       " 'HTMCP-03-06-02340',\n",
       " 'HTMCP-03-06-02341',\n",
       " 'HTMCP-03-06-02344',\n",
       " 'HTMCP-03-06-02346',\n",
       " 'HTMCP-03-06-02392',\n",
       " 'HTMCP-03-06-02393',\n",
       " 'HTMCP-03-06-02414',\n",
       " 'HTMCP-03-06-02424',\n",
       " 'HTMCP-03-06-02428',\n",
       " 'HTMCP-03-06-02435',\n",
       " 'HTMCP-03-06-02437',\n",
       " 'HTMCP-03-06-02441',\n",
       " 'HTMCP-03-06-02447',\n",
       " 'HTMCP-03-06-02448']"
      ]
     },
     "execution_count": 189,
     "metadata": {},
     "output_type": "execute_result"
    }
   ],
   "source": [
    "\n",
    "df7.index.get_level_values(0).drop_duplicates().tolist()"
   ]
  }
 ],
 "metadata": {
  "kernelspec": {
   "display_name": "Python 3",
   "language": "python",
   "name": "python3"
  },
  "language_info": {
   "codemirror_mode": {
    "name": "ipython",
    "version": 3
   },
   "file_extension": ".py",
   "mimetype": "text/x-python",
   "name": "python",
   "nbconvert_exporter": "python",
   "pygments_lexer": "ipython3",
   "version": "3.6.1"
  }
 },
 "nbformat": 4,
 "nbformat_minor": 2
}
