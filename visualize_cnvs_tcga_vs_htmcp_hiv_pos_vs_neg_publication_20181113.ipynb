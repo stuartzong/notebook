{
 "cells": [
  {
   "cell_type": "code",
   "execution_count": 3,
   "metadata": {},
   "outputs": [],
   "source": [
    "import csv\n",
    "import matplotlib\n",
    "# import seaborn\n",
    "import seaborn as sns\n",
    "import numpy as np\n",
    "import matplotlib.pyplot as plt\n",
    "from pylab import *\n",
    "from scipy.stats import ttest_ind\n",
    "import scipy.stats as stats\n",
    "import scipy.stats as ss\n",
    "from matplotlib import style\n",
    "import matplotlib.gridspec as gridspec\n",
    "import matplotlib.patches as patches\n",
    "matplotlib.style.use('ggplot')\n",
    "%matplotlib inline\n",
    "matplotlib.rcParams['figure.figsize'] = (6, 4)\n",
    "import pandas as pd\n",
    "\n",
    "from sklearn.decomposition import RandomizedPCA, PCA, TruncatedSVD\n",
    "from sklearn.linear_model import LogisticRegression\n",
    "from sklearn.manifold import TSNE\n",
    "from sklearn.preprocessing import StandardScaler\n",
    "import seaborn\n",
    "\n",
    "plt.style.context(\"seaborn-whitegrid\")\n",
    "plt.rcParams[\"axes.edgecolor\"] = \"0.15\"\n",
    "plt.rcParams[\"axes.linewidth\"]  = 1.25\n",
    "from IPython.core.interactiveshell import InteractiveShell\n",
    "InteractiveShell.ast_node_interactivity = \"all\"\n"
   ]
  },
  {
   "cell_type": "markdown",
   "metadata": {},
   "source": [
    "# 1. TCGA copy number"
   ]
  },
  {
   "cell_type": "markdown",
   "metadata": {},
   "source": [
    "i can load the gatk seg file into igv for visualization. the file extension needs to be .seg"
   ]
  },
  {
   "cell_type": "markdown",
   "metadata": {},
   "source": [
    "decided to use the TCGA file with germline CNVs for the comparison since our HTMCP gatk results  have not removed the germline CNVs either. \n",
    "\n",
    "what they did in TCGA is that they removed germline cnvs discovered in 1000 genomes. This is a bit weired to me. why note removed germline cnvs based on what is in the matching normals. \n",
    "\n",
    "i downloaded the population CNVS here:\n",
    "/projects/trans_scratch/validations/workspace/szong/Cervical/cnv/population_cnv.txt\n",
    "\n",
    "tcga core data freeze list: 178 samples with SNP6 array copy number data. extended data include additional 50 samples.\n",
    "\n",
    "snp6 copy number analysis was applied to the 178 core samples. in supplimentary, it states \"Somatic copy number alterations in 178 CESC tumors were determined with SNP 6.0 arrays. \"\n",
    "\n",
    "<font color='red'>\n",
    "TCGA excluded peaks with more than 30 genes. also TCGA removed germline CNVs\n",
    "</font>\n",
    "\n",
    "GISTIC2.0 amplification and deletion plots within copy number clusters. Chromosomal locations for peaks of significantly recurrent focal amplifications (red) and deletions (blue) are plotted by −log10 q value for the high (CN High) and low (CN Low) copy number clusters. Peaks are annotated with cytoband and candidate driver genes. The total number of genes in the peak region is indicated in parentheses. Peaks with more than 30 genes in the peak region are excluded. Any genes annotated have a significant positive correlation with mRNA expression"
   ]
  },
  {
   "cell_type": "markdown",
   "metadata": {},
   "source": [
    "data can be download here:\n",
    "\n",
    "http://firebrowse.org/\n",
    "\n",
    "http://gdac.broadinstitute.org/runs/stddata__2016_01_28/data/CESC/20160128/\n",
    "\n",
    "in firbrowse, there are 295 samples with snp6 copy number results including 586 tumour or normals. not sure why. but it makes sense to have normals in this file because copy number ratio is standardardized to a panel of normals. so normals can be compared to the panel as well.\n",
    "\n",
    "I will stick to the 178 samples for the purposes of comparison with HTMCP.\n",
    "\n",
    "decide which file to use. \n",
    "\"_scna_minus_germline_cnv_\" has much less rows, indicating germline cnvs were removed. maybe one normal against a panel of normal can detect germline cnvs, so the file excluded these events. When we run our HTMCP cohort, we did not remove germline cnvs, so i think i should use the other file which include germline cnvs. \n",
    "\n",
    "to determine if a segment is amplfied or deleted based on the segment_mean value, (logT/N ratio). I tend to use cutoffs; amp>=0.58= log2(3/2); del <=-1=log2(1/2)\n",
    "\n",
    "following paper used 0.25 for copy gain and -0.25 for copy loss.\n",
    "\n",
    "https://www.ncbi.nlm.nih.gov/pmc/articles/PMC4392457/\n",
    "There are no standardised log2 ratio cut-offs to define low-amplitude copy number gain/loss and high amplitude amplification/deletion. Based on the available published literature, we used a log2 ratio cut-off of +/− 0.25 to define copy number gain/loss and a log2 ratio cut-off of +/− 0.8 to define amplification and deletion [7,18,19].\n",
    "\n",
    "https://www.nature.com/articles/nature20805\n",
    "esophageal copy number comparison with ESCC and EAC\n",
    "\n",
    "this google post has some useful information as well:\n",
    "https://groups.google.com/a/broadinstitute.org/forum/#!topic/gdac-users/__zdXDE-Z5U\n",
    "\n",
    "this talks about the germline CNVs identified in 1000 genomes.\n",
    "https://www.biostars.org/p/174343/"
   ]
  },
  {
   "cell_type": "markdown",
   "metadata": {},
   "source": [
    "\n",
    "Copy number analysis\n",
    "DNA from each tumour or germline sample was hybridized to Affymetrix SNP 6.0 arrays using protocols at the Genome Analysis Platform of the Broad Institute as previously described51. Briefly, Birdseed was used to infer a preliminary copy number at each probe locus from raw .cel files52. For each tumour, genome-wide copy number estimates were refined using tangent normalization, in which tumour signal intensities are divided by signal intensities from the linear combination of all normal samples that are most similar to the tumour16. Individual copy number estimates then underwent segmentation using circular binary segmentation53, and segmented copy number profiles for tumour and matched control DNAs were analysed using Ziggurat Deconstruction54. Significance of copy number alterations were assessed from the segmented data using GISTIC2.0 (version 2.0.22)54. For the purpose of this analysis, an arm-level event was defined as any event spanning more than 50% of a chromosome arm. For copy number-based clustering, tumours were clustered based on copy number at regions using GISTIC analysis. Clustering was done in R on the basis of Euclidean distance using Ward’s method. Allelic and integer copy number, tumour purity and tumour ploidy were calculated using the ABSOLUTE algorithm55.\n",
    "\n"
   ]
  },
  {
   "cell_type": "markdown",
   "metadata": {},
   "source": [
    "# ARE THE THRESHOLDS  REASONABLE?"
   ]
  },
  {
   "cell_type": "code",
   "execution_count": 4,
   "metadata": {},
   "outputs": [],
   "source": [
    "wkdir = '/projects/trans_scratch/validations/workspace/szong/Cervical/cnv/'\n",
    "bindir = '/projects/trans_scratch/validations/workspace/szong/Cervical/cnv/bin_segs/'\n",
    "chr_accu_length_f = f'{wkdir}chromosome_accumulative_length.txt'\n",
    "amp_threshold = 0.25\n",
    "del_threshold = -0.25\n",
    "num_tcga_patients = 177\n",
    "num_htmcp_patients = 118\n",
    "num_htmcp_hiv_pos_patients = 73\n",
    "num_htmcp_hiv_neg_patients = 45\n",
    "# this removed germline cnvs\n",
    "tcga_cn_file = '/projects/trans_scratch/validations/workspace/szong/Cervical/tcga_cn/gdac.broadinstitute.org_CESC.Merge_snp__genome_wide_snp_6__broad_mit_edu__Level_3__segmented_scna_minus_germline_cnv_hg19__seg.Level_3.2016012800.0.0/CESC.snp__genome_wide_snp_6__broad_mit_edu__Level_3__segmented_scna_minus_germline_cnv_hg19__seg.seg.txt'\n",
    "# tcga_cn_file = '/projects/trans_scratch/validations/workspace/szong/Cervical/tcga_cn/gdac.broadinstitute.org_CESC.Merge_snp__genome_wide_snp_6__broad_mit_edu__Level_3__segmented_scna_hg19__seg.Level_3.2016012800.0.0/CESC.snp__genome_wide_snp_6__broad_mit_edu__Level_3__segmented_scna_hg19__seg.seg.txt'\n",
    "tcga_core_sample_file = '/projects/trans_scratch/validations/workspace/szong/Cervical/tcga_cn/TCGA_178_core_samples.txt'\n",
    "htmcp_hiv_neg_file = '/home/szong/bin/GISTIC_2_0_22/gatk_118_HIV_neg/segmentationfile.txt'\n",
    "htmcp_hiv_pos_file = '/home/szong/bin/GISTIC_2_0_22/gatk_118_HIV_pos/segmentationfile.txt'\n",
    "htmcp_file = '/home/szong/bin/GISTIC_2_0_22/gatk_118_patients/segmentationfile.txt'\n"
   ]
  },
  {
   "cell_type": "code",
   "execution_count": 5,
   "metadata": {},
   "outputs": [
    {
     "data": {
      "text/html": [
       "<div>\n",
       "<style scoped>\n",
       "    .dataframe tbody tr th:only-of-type {\n",
       "        vertical-align: middle;\n",
       "    }\n",
       "\n",
       "    .dataframe tbody tr th {\n",
       "        vertical-align: top;\n",
       "    }\n",
       "\n",
       "    .dataframe thead th {\n",
       "        text-align: right;\n",
       "    }\n",
       "</style>\n",
       "<table border=\"1\" class=\"dataframe\">\n",
       "  <thead>\n",
       "    <tr style=\"text-align: right;\">\n",
       "      <th></th>\n",
       "      <th>0</th>\n",
       "    </tr>\n",
       "  </thead>\n",
       "  <tbody>\n",
       "    <tr>\n",
       "      <th>0</th>\n",
       "      <td>TCGA-BI-A0VR-01A</td>\n",
       "    </tr>\n",
       "    <tr>\n",
       "      <th>1</th>\n",
       "      <td>TCGA-BI-A0VS-01A</td>\n",
       "    </tr>\n",
       "  </tbody>\n",
       "</table>\n",
       "</div>"
      ],
      "text/plain": [
       "                  0\n",
       "0  TCGA-BI-A0VR-01A\n",
       "1  TCGA-BI-A0VS-01A"
      ]
     },
     "execution_count": 5,
     "metadata": {},
     "output_type": "execute_result"
    },
    {
     "data": {
      "text/plain": [
       "(178, 1)"
      ]
     },
     "execution_count": 5,
     "metadata": {},
     "output_type": "execute_result"
    }
   ],
   "source": [
    "tcga_core_samples = pd.read_csv(tcga_core_sample_file, header=None)\n",
    "tcga_core_samples.head(2)\n",
    "tcga_core_samples.shape\n",
    "tcga_178_samples = tcga_core_samples[0].tolist()"
   ]
  },
  {
   "cell_type": "code",
   "execution_count": 6,
   "metadata": {},
   "outputs": [
    {
     "data": {
      "text/html": [
       "<div>\n",
       "<style scoped>\n",
       "    .dataframe tbody tr th:only-of-type {\n",
       "        vertical-align: middle;\n",
       "    }\n",
       "\n",
       "    .dataframe tbody tr th {\n",
       "        vertical-align: top;\n",
       "    }\n",
       "\n",
       "    .dataframe thead th {\n",
       "        text-align: right;\n",
       "    }\n",
       "</style>\n",
       "<table border=\"1\" class=\"dataframe\">\n",
       "  <thead>\n",
       "    <tr style=\"text-align: right;\">\n",
       "      <th></th>\n",
       "      <th>Sample</th>\n",
       "      <th>Chromosome</th>\n",
       "      <th>Start</th>\n",
       "      <th>End</th>\n",
       "      <th>Num_Probes</th>\n",
       "      <th>Segment_Mean</th>\n",
       "    </tr>\n",
       "  </thead>\n",
       "  <tbody>\n",
       "    <tr>\n",
       "      <th>0</th>\n",
       "      <td>TCGA-2W-A8YY-10A-01D-A37M-01</td>\n",
       "      <td>1</td>\n",
       "      <td>3218610</td>\n",
       "      <td>247813706</td>\n",
       "      <td>129020.0</td>\n",
       "      <td>0.0023</td>\n",
       "    </tr>\n",
       "    <tr>\n",
       "      <th>1</th>\n",
       "      <td>TCGA-2W-A8YY-10A-01D-A37M-01</td>\n",
       "      <td>2</td>\n",
       "      <td>484222</td>\n",
       "      <td>197697735</td>\n",
       "      <td>104518.0</td>\n",
       "      <td>0.0041</td>\n",
       "    </tr>\n",
       "  </tbody>\n",
       "</table>\n",
       "</div>"
      ],
      "text/plain": [
       "                         Sample  Chromosome    Start        End  Num_Probes  \\\n",
       "0  TCGA-2W-A8YY-10A-01D-A37M-01           1  3218610  247813706    129020.0   \n",
       "1  TCGA-2W-A8YY-10A-01D-A37M-01           2   484222  197697735    104518.0   \n",
       "\n",
       "   Segment_Mean  \n",
       "0        0.0023  \n",
       "1        0.0041  "
      ]
     },
     "execution_count": 6,
     "metadata": {},
     "output_type": "execute_result"
    },
    {
     "data": {
      "text/plain": [
       "(59450, 6)"
      ]
     },
     "execution_count": 6,
     "metadata": {},
     "output_type": "execute_result"
    },
    {
     "data": {
      "text/plain": [
       "586"
      ]
     },
     "execution_count": 6,
     "metadata": {},
     "output_type": "execute_result"
    }
   ],
   "source": [
    "tcga_cns = pd.read_csv(tcga_cn_file, sep='\\t')\n",
    "# tcga_cns.drop('Num_Probes', axis=1, inplace=True)\n",
    "tcga_cns.head(2)\n",
    "tcga_cns.shape\n",
    "tcga_cns.Sample.nunique()"
   ]
  },
  {
   "cell_type": "code",
   "execution_count": 7,
   "metadata": {},
   "outputs": [],
   "source": [
    "tcga_cns['Samples'] = tcga_cns.Sample.apply(lambda x: '-'.join(x.split('-')[:4]))"
   ]
  },
  {
   "cell_type": "code",
   "execution_count": 60,
   "metadata": {},
   "outputs": [
    {
     "data": {
      "text/plain": [
       "586"
      ]
     },
     "execution_count": 60,
     "metadata": {},
     "output_type": "execute_result"
    }
   ],
   "source": [
    "tcga_cns.Samples.nunique()"
   ]
  },
  {
   "cell_type": "code",
   "execution_count": 8,
   "metadata": {},
   "outputs": [],
   "source": [
    "tcga = tcga_cns[tcga_cns.Samples.isin(tcga_178_samples)].drop('Sample',axis=1)"
   ]
  },
  {
   "cell_type": "code",
   "execution_count": 13,
   "metadata": {},
   "outputs": [],
   "source": [
    "assert tcga.Samples.apply(lambda x:'-'.join(x.split('-')[:3])).nunique() == 177"
   ]
  },
  {
   "cell_type": "code",
   "execution_count": null,
   "metadata": {},
   "outputs": [],
   "source": []
  },
  {
   "cell_type": "code",
   "execution_count": null,
   "metadata": {},
   "outputs": [],
   "source": []
  },
  {
   "cell_type": "code",
   "execution_count": 62,
   "metadata": {},
   "outputs": [],
   "source": [
    "# num_patients = tcga.Samples.nunique()"
   ]
  },
  {
   "cell_type": "code",
   "execution_count": 64,
   "metadata": {},
   "outputs": [
    {
     "data": {
      "text/html": [
       "<div>\n",
       "<style scoped>\n",
       "    .dataframe tbody tr th:only-of-type {\n",
       "        vertical-align: middle;\n",
       "    }\n",
       "\n",
       "    .dataframe tbody tr th {\n",
       "        vertical-align: top;\n",
       "    }\n",
       "\n",
       "    .dataframe thead th {\n",
       "        text-align: right;\n",
       "    }\n",
       "</style>\n",
       "<table border=\"1\" class=\"dataframe\">\n",
       "  <thead>\n",
       "    <tr style=\"text-align: right;\">\n",
       "      <th></th>\n",
       "      <th>Chromosome</th>\n",
       "      <th>Start</th>\n",
       "      <th>End</th>\n",
       "      <th>Num_Probes</th>\n",
       "      <th>Segment_Mean</th>\n",
       "      <th>Samples</th>\n",
       "    </tr>\n",
       "  </thead>\n",
       "  <tbody>\n",
       "    <tr>\n",
       "      <th>406</th>\n",
       "      <td>1</td>\n",
       "      <td>3218610</td>\n",
       "      <td>247813706</td>\n",
       "      <td>129012.0</td>\n",
       "      <td>0.1305</td>\n",
       "      <td>TCGA-BI-A0VR-01A</td>\n",
       "    </tr>\n",
       "    <tr>\n",
       "      <th>407</th>\n",
       "      <td>2</td>\n",
       "      <td>484222</td>\n",
       "      <td>3604951</td>\n",
       "      <td>1231.0</td>\n",
       "      <td>-0.0074</td>\n",
       "      <td>TCGA-BI-A0VR-01A</td>\n",
       "    </tr>\n",
       "    <tr>\n",
       "      <th>408</th>\n",
       "      <td>2</td>\n",
       "      <td>3608623</td>\n",
       "      <td>3608756</td>\n",
       "      <td>2.0</td>\n",
       "      <td>-2.1939</td>\n",
       "      <td>TCGA-BI-A0VR-01A</td>\n",
       "    </tr>\n",
       "    <tr>\n",
       "      <th>409</th>\n",
       "      <td>2</td>\n",
       "      <td>3609770</td>\n",
       "      <td>242476062</td>\n",
       "      <td>129877.0</td>\n",
       "      <td>-0.0422</td>\n",
       "      <td>TCGA-BI-A0VR-01A</td>\n",
       "    </tr>\n",
       "    <tr>\n",
       "      <th>410</th>\n",
       "      <td>3</td>\n",
       "      <td>2212571</td>\n",
       "      <td>24750644</td>\n",
       "      <td>13039.0</td>\n",
       "      <td>-0.1891</td>\n",
       "      <td>TCGA-BI-A0VR-01A</td>\n",
       "    </tr>\n",
       "  </tbody>\n",
       "</table>\n",
       "</div>"
      ],
      "text/plain": [
       "     Chromosome    Start        End  Num_Probes  Segment_Mean  \\\n",
       "406           1  3218610  247813706    129012.0        0.1305   \n",
       "407           2   484222    3604951      1231.0       -0.0074   \n",
       "408           2  3608623    3608756         2.0       -2.1939   \n",
       "409           2  3609770  242476062    129877.0       -0.0422   \n",
       "410           3  2212571   24750644     13039.0       -0.1891   \n",
       "\n",
       "              Samples  \n",
       "406  TCGA-BI-A0VR-01A  \n",
       "407  TCGA-BI-A0VR-01A  \n",
       "408  TCGA-BI-A0VR-01A  \n",
       "409  TCGA-BI-A0VR-01A  \n",
       "410  TCGA-BI-A0VR-01A  "
      ]
     },
     "execution_count": 64,
     "metadata": {},
     "output_type": "execute_result"
    },
    {
     "data": {
      "text/plain": [
       "(21932, 6)"
      ]
     },
     "execution_count": 64,
     "metadata": {},
     "output_type": "execute_result"
    }
   ],
   "source": [
    "tcga.head()\n",
    "tcga.shape\n",
    "tcga.to_csv('/home/szong/bin/GISTIC_2_0_22/tcga/segmentationfile.txt', index=False, sep='\\t')"
   ]
  },
  {
   "cell_type": "code",
   "execution_count": 15,
   "metadata": {},
   "outputs": [],
   "source": [
    "tcga_amps = tcga[tcga.Segment_Mean >= amp_threshold]\n",
    "tcga_dels = tcga[tcga.Segment_Mean <= del_threshold]"
   ]
  },
  {
   "cell_type": "code",
   "execution_count": 207,
   "metadata": {},
   "outputs": [],
   "source": [
    "tcga_amps.to_csv(f'{wkdir}tcga_cnv_amps.txt', sep='\\t', header=None, index=False)\n",
    "tcga_dels.to_csv(f'{wkdir}tcga_cnv_dels.txt', sep='\\t', header=None, index=False)"
   ]
  },
  {
   "cell_type": "code",
   "execution_count": 16,
   "metadata": {},
   "outputs": [
    {
     "data": {
      "text/plain": [
       "count    4560.000000\n",
       "mean        0.751900\n",
       "std         0.564722\n",
       "min         0.250100\n",
       "25%         0.398975\n",
       "50%         0.545500\n",
       "75%         0.888750\n",
       "max         4.679400\n",
       "Name: Segment_Mean, dtype: float64"
      ]
     },
     "execution_count": 16,
     "metadata": {},
     "output_type": "execute_result"
    },
    {
     "data": {
      "image/png": "[encoded data removed]",
      "text/plain": [
       "<Figure size 432x288 with 1 Axes>"
      ]
     },
     "metadata": {},
     "output_type": "display_data"
    }
   ],
   "source": [
    "tcga_amps.Segment_Mean.describe()\n",
    "_ = plt.boxplot(tcga_amps.Segment_Mean)"
   ]
  },
  {
   "cell_type": "code",
   "execution_count": 17,
   "metadata": {},
   "outputs": [
    {
     "data": {
      "text/plain": [
       "count    7811.000000\n",
       "mean       -1.205149\n",
       "std         1.000346\n",
       "min        -7.427400\n",
       "25%        -1.595200\n",
       "50%        -0.851300\n",
       "75%        -0.528300\n",
       "max        -0.250200\n",
       "Name: Segment_Mean, dtype: float64"
      ]
     },
     "execution_count": 17,
     "metadata": {},
     "output_type": "execute_result"
    },
    {
     "data": {
      "image/png": "[encoded data removed]",
      "text/plain": [
       "<Figure size 432x288 with 1 Axes>"
      ]
     },
     "metadata": {},
     "output_type": "display_data"
    }
   ],
   "source": [
    "tcga_dels.Segment_Mean.describe()\n",
    "_ = plt.boxplot(tcga_dels.Segment_Mean)\n"
   ]
  },
  {
   "cell_type": "markdown",
   "metadata": {},
   "source": [
    "# 2. Process TCGA cns"
   ]
  },
  {
   "cell_type": "code",
   "execution_count": 210,
   "metadata": {},
   "outputs": [],
   "source": [
    "%%bash -s $wkdir $bindir\n",
    "wkdir=$1\n",
    "bindir=$2\n",
    "# run this in this dir: \n",
    "bedtools=/home/rcorbett/aligners/bedtools/BEDTools-Version-2.15.0/bin/bedtools\n",
    "cd $wkdir\n",
    "sort -k1n -k2n -k3n tcga_cnv_amps.txt > tcga_cnv_amps.txt.sorted\n",
    "$bedtools intersect -a $bindir/chr_bins.txt -b tcga_cnv_amps.txt.sorted -wa -wb > tcga_cnv_amps_bins_1kb.txt\n",
    "sort -k1n -k2n -k3n tcga_cnv_dels.txt > tcga_cnv_dels.txt.sorted\n",
    "$bedtools intersect -a $bindir/chr_bins.txt -b tcga_cnv_dels.txt.sorted -wa -wb > tcga_cnv_dels_bins_1kb.txt\n"
   ]
  },
  {
   "cell_type": "code",
   "execution_count": 212,
   "metadata": {},
   "outputs": [
    {
     "data": {
      "text/plain": [
       "'/projects/trans_scratch/validations/workspace/szong/Cervical/cnv/'"
      ]
     },
     "execution_count": 212,
     "metadata": {},
     "output_type": "execute_result"
    }
   ],
   "source": [
    "wkdir"
   ]
  },
  {
   "cell_type": "code",
   "execution_count": 213,
   "metadata": {},
   "outputs": [],
   "source": [
    "def calculate_occurence(f):\n",
    "    df = pd.read_csv(f, sep='\\t', header=None)#, nrows=200)\n",
    "    df.columns = ['bin_chr', 'bin_start', 'bin_end', 'chr', 'start', 'end', 'cn', 'patient']\n",
    "    occurrence = df.groupby(['bin_chr', 'bin_start', 'bin_end'])['patient'].nunique()#.sort_values(ascending=False)\n",
    "    recur_cnvs = occurrence.reset_index().sort_values(['bin_chr', 'bin_start', 'bin_end'])\n",
    "\n",
    "    recur_cnvs.head(2)\n",
    "    return recur_cnvs"
   ]
  },
  {
   "cell_type": "code",
   "execution_count": 6,
   "metadata": {},
   "outputs": [],
   "source": [
    "f = f'{wkdir}tcga_cnv_amps_bins_1kb.txt'\n",
    "# tcga_recur_amps = calculate_occurence(f)\n",
    "\n",
    "of = f'{f}.patients'\n",
    "# tcga_recur_amps.to_csv(of, index=False, sep='\\t')\n",
    "tcga_recur_amps = pd.read_csv(of, sep='\\t')"
   ]
  },
  {
   "cell_type": "code",
   "execution_count": 7,
   "metadata": {},
   "outputs": [
    {
     "data": {
      "text/html": [
       "<div>\n",
       "<style scoped>\n",
       "    .dataframe tbody tr th:only-of-type {\n",
       "        vertical-align: middle;\n",
       "    }\n",
       "\n",
       "    .dataframe tbody tr th {\n",
       "        vertical-align: top;\n",
       "    }\n",
       "\n",
       "    .dataframe thead th {\n",
       "        text-align: right;\n",
       "    }\n",
       "</style>\n",
       "<table border=\"1\" class=\"dataframe\">\n",
       "  <thead>\n",
       "    <tr style=\"text-align: right;\">\n",
       "      <th></th>\n",
       "      <th>bin_chr</th>\n",
       "      <th>bin_start</th>\n",
       "      <th>bin_end</th>\n",
       "      <th>patient</th>\n",
       "    </tr>\n",
       "  </thead>\n",
       "  <tbody>\n",
       "    <tr>\n",
       "      <th>0</th>\n",
       "      <td>1</td>\n",
       "      <td>61001</td>\n",
       "      <td>62000</td>\n",
       "      <td>48</td>\n",
       "    </tr>\n",
       "    <tr>\n",
       "      <th>1</th>\n",
       "      <td>1</td>\n",
       "      <td>62001</td>\n",
       "      <td>63000</td>\n",
       "      <td>48</td>\n",
       "    </tr>\n",
       "    <tr>\n",
       "      <th>2</th>\n",
       "      <td>1</td>\n",
       "      <td>63001</td>\n",
       "      <td>64000</td>\n",
       "      <td>47</td>\n",
       "    </tr>\n",
       "    <tr>\n",
       "      <th>3</th>\n",
       "      <td>1</td>\n",
       "      <td>64001</td>\n",
       "      <td>65000</td>\n",
       "      <td>47</td>\n",
       "    </tr>\n",
       "    <tr>\n",
       "      <th>4</th>\n",
       "      <td>1</td>\n",
       "      <td>65001</td>\n",
       "      <td>66000</td>\n",
       "      <td>47</td>\n",
       "    </tr>\n",
       "  </tbody>\n",
       "</table>\n",
       "</div>"
      ],
      "text/plain": [
       "   bin_chr  bin_start  bin_end  patient\n",
       "0        1      61001    62000       48\n",
       "1        1      62001    63000       48\n",
       "2        1      63001    64000       47\n",
       "3        1      64001    65000       47\n",
       "4        1      65001    66000       47"
      ]
     },
     "execution_count": 7,
     "metadata": {},
     "output_type": "execute_result"
    },
    {
     "data": {
      "text/plain": [
       "(2898044, 4)"
      ]
     },
     "execution_count": 7,
     "metadata": {},
     "output_type": "execute_result"
    }
   ],
   "source": [
    "tcga_recur_amps.head()\n",
    "tcga_recur_amps.shape"
   ]
  },
  {
   "cell_type": "code",
   "execution_count": 9,
   "metadata": {},
   "outputs": [
    {
     "data": {
      "text/html": [
       "<div>\n",
       "<style scoped>\n",
       "    .dataframe tbody tr th:only-of-type {\n",
       "        vertical-align: middle;\n",
       "    }\n",
       "\n",
       "    .dataframe tbody tr th {\n",
       "        vertical-align: top;\n",
       "    }\n",
       "\n",
       "    .dataframe thead th {\n",
       "        text-align: right;\n",
       "    }\n",
       "</style>\n",
       "<table border=\"1\" class=\"dataframe\">\n",
       "  <thead>\n",
       "    <tr style=\"text-align: right;\">\n",
       "      <th></th>\n",
       "      <th>bin_chr</th>\n",
       "      <th>bin_start</th>\n",
       "      <th>bin_end</th>\n",
       "      <th>patient</th>\n",
       "    </tr>\n",
       "  </thead>\n",
       "  <tbody>\n",
       "    <tr>\n",
       "      <th>0</th>\n",
       "      <td>1</td>\n",
       "      <td>61001</td>\n",
       "      <td>62000</td>\n",
       "      <td>26</td>\n",
       "    </tr>\n",
       "    <tr>\n",
       "      <th>1</th>\n",
       "      <td>1</td>\n",
       "      <td>62001</td>\n",
       "      <td>63000</td>\n",
       "      <td>27</td>\n",
       "    </tr>\n",
       "  </tbody>\n",
       "</table>\n",
       "</div>"
      ],
      "text/plain": [
       "   bin_chr  bin_start  bin_end  patient\n",
       "0        1      61001    62000       26\n",
       "1        1      62001    63000       27"
      ]
     },
     "execution_count": 9,
     "metadata": {},
     "output_type": "execute_result"
    },
    {
     "data": {
      "text/plain": [
       "(2875455, 4)"
      ]
     },
     "execution_count": 9,
     "metadata": {},
     "output_type": "execute_result"
    }
   ],
   "source": [
    "f = f'{wkdir}tcga_cnv_dels_bins_1kb.txt'\n",
    "# tcga_recur_dels = calculate_occurence(f)\n",
    "of = f'{f}.patients'\n",
    "# tcga_recur_dels.to_csv(of, index=False, sep='\\t')\n",
    "tcga_recur_dels = pd.read_csv(of, sep='\\t')\n",
    "tcga_recur_dels[:2]\n",
    "tcga_recur_dels.shape"
   ]
  },
  {
   "cell_type": "code",
   "execution_count": 219,
   "metadata": {},
   "outputs": [],
   "source": [
    "# tcga_recur_amps = pd.read_csv(of, sep='\\t')\n",
    "# tcga_recur_amps.head()"
   ]
  },
  {
   "cell_type": "code",
   "execution_count": 10,
   "metadata": {},
   "outputs": [
    {
     "data": {
      "text/html": [
       "<div>\n",
       "<style scoped>\n",
       "    .dataframe tbody tr th:only-of-type {\n",
       "        vertical-align: middle;\n",
       "    }\n",
       "\n",
       "    .dataframe tbody tr th {\n",
       "        vertical-align: top;\n",
       "    }\n",
       "\n",
       "    .dataframe thead th {\n",
       "        text-align: right;\n",
       "    }\n",
       "</style>\n",
       "<table border=\"1\" class=\"dataframe\">\n",
       "  <thead>\n",
       "    <tr style=\"text-align: right;\">\n",
       "      <th></th>\n",
       "      <th></th>\n",
       "      <th></th>\n",
       "    </tr>\n",
       "    <tr>\n",
       "      <th>bin_chr</th>\n",
       "      <th>bin_start</th>\n",
       "      <th>bin_end</th>\n",
       "    </tr>\n",
       "  </thead>\n",
       "  <tbody>\n",
       "    <tr>\n",
       "      <th rowspan=\"5\" valign=\"top\">1</th>\n",
       "      <th>1</th>\n",
       "      <th>1000</th>\n",
       "    </tr>\n",
       "    <tr>\n",
       "      <th>1001</th>\n",
       "      <th>2000</th>\n",
       "    </tr>\n",
       "    <tr>\n",
       "      <th>2001</th>\n",
       "      <th>3000</th>\n",
       "    </tr>\n",
       "    <tr>\n",
       "      <th>3001</th>\n",
       "      <th>4000</th>\n",
       "    </tr>\n",
       "    <tr>\n",
       "      <th>4001</th>\n",
       "      <th>5000</th>\n",
       "    </tr>\n",
       "  </tbody>\n",
       "</table>\n",
       "</div>"
      ],
      "text/plain": [
       "Empty DataFrame\n",
       "Columns: []\n",
       "Index: [(1, 1, 1000), (1, 1001, 2000), (1, 2001, 3000), (1, 3001, 4000), (1, 4001, 5000)]"
      ]
     },
     "execution_count": 10,
     "metadata": {},
     "output_type": "execute_result"
    }
   ],
   "source": [
    "f11 = '/projects/trans_scratch/validations/workspace/szong/Cervical/cnv/bin_segs/chr_bins.txt'\n",
    "df11 = pd.read_csv(f11, sep='\\t', header=None)\n",
    "df11.columns = ['bin_chr', 'bin_start', 'bin_end']\n",
    "df11.set_index(['bin_chr', 'bin_start', 'bin_end'], inplace=True)\n",
    "# df11['patient'] = 0\n",
    "df11.head()"
   ]
  },
  {
   "cell_type": "code",
   "execution_count": 11,
   "metadata": {},
   "outputs": [],
   "source": [
    "def reindex_df(indf, num_patients):\n",
    "    df = indf.set_index(['bin_chr', 'bin_start', 'bin_end']).reindex(df11.index)\n",
    "    df.fillna(0, inplace=True)\n",
    "    df['fraction_patients'] = df.patient/num_patients\n",
    "    df.drop('patient', inplace=True, axis=1)\n",
    "    return df"
   ]
  },
  {
   "cell_type": "code",
   "execution_count": 12,
   "metadata": {},
   "outputs": [],
   "source": [
    "# df_amps.reset_index()['bin_start'].cumsum() # not just accumulateive sum, depending on chr."
   ]
  },
  {
   "cell_type": "code",
   "execution_count": 13,
   "metadata": {},
   "outputs": [],
   "source": [
    "def calculate_fractions(df):\n",
    "    end = 0\n",
    "    all_positions = []\n",
    "    all_fractions = []\n",
    "    for ch, length in enumerate(chr_length):\n",
    "        ch+=1\n",
    "        positions = list(end + np.array(df.iloc[df.index.get_level_values('bin_chr') == ch].index.get_level_values('bin_start').tolist()))\n",
    "        all_positions = all_positions + positions\n",
    "        fractions = df.iloc[df.index.get_level_values('bin_chr') == ch]['fraction_patients'].tolist()\n",
    "        all_fractions = all_fractions + fractions\n",
    "        end+=length\n",
    "    return (all_positions, all_fractions)\n",
    "\n",
    "\n"
   ]
  },
  {
   "cell_type": "code",
   "execution_count": 14,
   "metadata": {},
   "outputs": [],
   "source": [
    "def get_coordinates_fractions(indf, num_patients):\n",
    "    df = reindex_df(indf, num_patients)\n",
    "    coordinates, fractions = calculate_fractions(df)\n",
    "    return (coordinates, fractions)"
   ]
  },
  {
   "cell_type": "code",
   "execution_count": 15,
   "metadata": {},
   "outputs": [],
   "source": [
    "def plot_fraction(coordinates, fractions, baseline, cnv_type, ax):\n",
    "    baseline_postions = [baseline] * len(coordinates)\n",
    "    if cnv_type.lower() == 'amps':\n",
    "        fractions = baseline + np.array(fractions)\n",
    "        color = 'red'\n",
    "    elif cnv_type.lower() == 'dels':\n",
    "        fractions = baseline - np.array(fractions)\n",
    "        color = 'blue'\n",
    "    ax.fill_between(coordinates, \n",
    "                    fractions, \n",
    "                    baseline_postions, \n",
    "                    color=color, \n",
    "                    alpha=1)"
   ]
  },
  {
   "cell_type": "code",
   "execution_count": 16,
   "metadata": {},
   "outputs": [
    {
     "data": {
      "text/html": [
       "<div>\n",
       "<style scoped>\n",
       "    .dataframe tbody tr th:only-of-type {\n",
       "        vertical-align: middle;\n",
       "    }\n",
       "\n",
       "    .dataframe tbody tr th {\n",
       "        vertical-align: top;\n",
       "    }\n",
       "\n",
       "    .dataframe thead th {\n",
       "        text-align: right;\n",
       "    }\n",
       "</style>\n",
       "<table border=\"1\" class=\"dataframe\">\n",
       "  <thead>\n",
       "    <tr style=\"text-align: right;\">\n",
       "      <th></th>\n",
       "      <th>size</th>\n",
       "    </tr>\n",
       "    <tr>\n",
       "      <th>chr</th>\n",
       "      <th></th>\n",
       "    </tr>\n",
       "  </thead>\n",
       "  <tbody>\n",
       "    <tr>\n",
       "      <th>1</th>\n",
       "      <td>249250621</td>\n",
       "    </tr>\n",
       "    <tr>\n",
       "      <th>2</th>\n",
       "      <td>243199373</td>\n",
       "    </tr>\n",
       "  </tbody>\n",
       "</table>\n",
       "</div>"
      ],
      "text/plain": [
       "          size\n",
       "chr           \n",
       "1    249250621\n",
       "2    243199373"
      ]
     },
     "execution_count": 16,
     "metadata": {},
     "output_type": "execute_result"
    }
   ],
   "source": [
    "f2_1 = '/home/szong/projects/resource/chrominfo.txt'\n",
    "df2_1 = pd.read_csv(f2_1, sep='\\t', usecols=['#chrom', 'size'])\n",
    "df2_1['chr'] = df2_1['#chrom'].apply(lambda x: x.replace('chr', ''))\n",
    "chr_sizes = df2_1.set_index('chr').drop('#chrom', axis=1)\n",
    "chr_sizes = chr_sizes.reset_index().replace('X', '23').replace('Y', '24').iloc[:24,].set_index('chr')\n",
    "chr_sizes.index = chr_sizes.index.astype(int)\n",
    "chr_sizes = chr_sizes.sort_index()\n",
    "chr_sizes.head(2)\n",
    "# initiate occupied label coordinates dict\n",
    "chr_length = chr_sizes['size']#.astype(str)\n",
    "y_coords = np.arange(7, .5, -0.5)"
   ]
  },
  {
   "cell_type": "markdown",
   "metadata": {},
   "source": [
    "# 2. Process HTMCP copy number"
   ]
  },
  {
   "cell_type": "markdown",
   "metadata": {},
   "source": [
    "## all 118 patients"
   ]
  },
  {
   "cell_type": "code",
   "execution_count": 244,
   "metadata": {
    "collapsed": true
   },
   "outputs": [
    {
     "data": {
      "text/html": [
       "<div>\n",
       "<style scoped>\n",
       "    .dataframe tbody tr th:only-of-type {\n",
       "        vertical-align: middle;\n",
       "    }\n",
       "\n",
       "    .dataframe tbody tr th {\n",
       "        vertical-align: top;\n",
       "    }\n",
       "\n",
       "    .dataframe thead th {\n",
       "        text-align: right;\n",
       "    }\n",
       "</style>\n",
       "<table border=\"1\" class=\"dataframe\">\n",
       "  <thead>\n",
       "    <tr style=\"text-align: right;\">\n",
       "      <th></th>\n",
       "      <th>chr</th>\n",
       "      <th>start</th>\n",
       "      <th>end</th>\n",
       "      <th>Segment_Mean</th>\n",
       "      <th>patient</th>\n",
       "    </tr>\n",
       "  </thead>\n",
       "  <tbody>\n",
       "    <tr>\n",
       "      <th>0</th>\n",
       "      <td>1</td>\n",
       "      <td>10001</td>\n",
       "      <td>4190000</td>\n",
       "      <td>0.516688</td>\n",
       "      <td>HTMCP-03-06-02001</td>\n",
       "    </tr>\n",
       "    <tr>\n",
       "      <th>1</th>\n",
       "      <td>1</td>\n",
       "      <td>4190001</td>\n",
       "      <td>4289000</td>\n",
       "      <td>0.481328</td>\n",
       "      <td>HTMCP-03-06-02001</td>\n",
       "    </tr>\n",
       "  </tbody>\n",
       "</table>\n",
       "</div>"
      ],
      "text/plain": [
       "   chr    start      end  Segment_Mean            patient\n",
       "0    1    10001  4190000      0.516688  HTMCP-03-06-02001\n",
       "1    1  4190001  4289000      0.481328  HTMCP-03-06-02001"
      ]
     },
     "execution_count": 244,
     "metadata": {},
     "output_type": "execute_result"
    },
    {
     "data": {
      "text/plain": [
       "count    36671.000000\n",
       "mean         0.601824\n",
       "std          0.432422\n",
       "min          0.250000\n",
       "25%          0.354646\n",
       "50%          0.472027\n",
       "75%          0.695836\n",
       "max          6.622359\n",
       "Name: Segment_Mean, dtype: float64"
      ]
     },
     "execution_count": 244,
     "metadata": {},
     "output_type": "execute_result"
    },
    {
     "data": {
      "text/plain": [
       "count    53769.000000\n",
       "mean        -0.959783\n",
       "std          2.694981\n",
       "min        -30.045690\n",
       "25%         -0.756816\n",
       "50%         -0.547920\n",
       "75%         -0.370154\n",
       "max         -0.250002\n",
       "Name: Segment_Mean, dtype: float64"
      ]
     },
     "execution_count": 244,
     "metadata": {},
     "output_type": "execute_result"
    },
    {
     "data": {
      "image/png": "[encoded data removed]",
      "text/plain": [
       "<Figure size 432x288 with 1 Axes>"
      ]
     },
     "metadata": {},
     "output_type": "display_data"
    }
   ],
   "source": [
    "# f3 = '/home/szong/bin/GISTIC_2_0_22/gatk_118_patients/segmentationfile.txt'\n",
    "df3 = pd.read_csv(htmcp_file, sep='\\t', header=None)\n",
    "df3.columns = ['patient', 'chr', 'start', 'end', 'Num_Probes', 'Segment_Mean']\n",
    "df3 = df3[['chr', 'start', 'end','Segment_Mean', 'patient']]\n",
    "df3.head(2)\n",
    "\n",
    "htmcp_amps = df3[df3.Segment_Mean >= amp_threshold]\n",
    "htmcp_dels = df3[df3.Segment_Mean <= del_threshold]\n",
    "\n",
    "htmcp_amps.to_csv(f'{wkdir}htmcp_cnv_amps.txt', sep='\\t', header=None, index=False)\n",
    "htmcp_dels.to_csv(f'{wkdir}htmcp_cnv_dels.txt', sep='\\t', header=None, index=False)\n",
    "\n",
    "# htmcp_amps.Segment_Mean.describe()\n",
    "# _ = plt.boxplot(htmcp_amps.Segment_Mean)\n",
    "\n",
    "# htmcp_dels.Segment_Mean.describe()\n",
    "# _ = plt.boxplot(htmcp_dels.Segment_Mean)"
   ]
  },
  {
   "cell_type": "code",
   "execution_count": 232,
   "metadata": {},
   "outputs": [],
   "source": [
    "%%bash -s $wkdir $bindir\n",
    "wkdir=$1\n",
    "bindir=$2\n",
    "# run this in this dir: \n",
    "bedtools=/home/rcorbett/aligners/bedtools/BEDTools-Version-2.15.0/bin/bedtools\n",
    "cd $wkdir\n",
    "sort -k1n -k2n -k3n htmcp_cnv_amps.txt > htmcp_cnv_amps.txt.sorted\n",
    "$bedtools intersect -a $bindir/chr_bins.txt -b htmcp_cnv_amps.txt.sorted -wa -wb > htmcp_cnv_amps_bins_1kb.txt\n",
    "sort -k1n -k2n -k3n htmcp_cnv_dels.txt > htmcp_cnv_dels.txt.sorted\n",
    "$bedtools intersect -a $bindir/chr_bins.txt -b htmcp_cnv_dels.txt.sorted -wa -wb > htmcp_cnv_dels_bins_1kb.txt\n"
   ]
  },
  {
   "cell_type": "code",
   "execution_count": 233,
   "metadata": {},
   "outputs": [],
   "source": [
    "f = f'{wkdir}htmcp_cnv_amps_bins_1kb.txt'\n",
    "htmcp_recur_amps = calculate_occurence(f)\n",
    "of = f'{f}.patients'\n",
    "htmcp_recur_amps.to_csv(of, index=False, sep='\\t')"
   ]
  },
  {
   "cell_type": "code",
   "execution_count": 234,
   "metadata": {},
   "outputs": [],
   "source": [
    "f = f'{wkdir}htmcp_cnv_dels_bins_1kb.txt'\n",
    "htmcp_recur_dels = calculate_occurence(f)\n",
    "of = f'{f}.patients'\n",
    "htmcp_recur_dels.to_csv(of, index=False, sep='\\t')"
   ]
  },
  {
   "cell_type": "code",
   "execution_count": null,
   "metadata": {},
   "outputs": [],
   "source": []
  },
  {
   "cell_type": "markdown",
   "metadata": {},
   "source": [
    "## HIV + patient 73"
   ]
  },
  {
   "cell_type": "code",
   "execution_count": 26,
   "metadata": {},
   "outputs": [
    {
     "data": {
      "text/html": [
       "<div>\n",
       "<style scoped>\n",
       "    .dataframe tbody tr th:only-of-type {\n",
       "        vertical-align: middle;\n",
       "    }\n",
       "\n",
       "    .dataframe tbody tr th {\n",
       "        vertical-align: top;\n",
       "    }\n",
       "\n",
       "    .dataframe thead th {\n",
       "        text-align: right;\n",
       "    }\n",
       "</style>\n",
       "<table border=\"1\" class=\"dataframe\">\n",
       "  <thead>\n",
       "    <tr style=\"text-align: right;\">\n",
       "      <th></th>\n",
       "      <th>chr</th>\n",
       "      <th>start</th>\n",
       "      <th>end</th>\n",
       "      <th>Segment_Mean</th>\n",
       "      <th>patient</th>\n",
       "    </tr>\n",
       "  </thead>\n",
       "  <tbody>\n",
       "    <tr>\n",
       "      <th>0</th>\n",
       "      <td>1</td>\n",
       "      <td>10001</td>\n",
       "      <td>4190000</td>\n",
       "      <td>0.516688</td>\n",
       "      <td>HTMCP-03-06-02001</td>\n",
       "    </tr>\n",
       "    <tr>\n",
       "      <th>1</th>\n",
       "      <td>1</td>\n",
       "      <td>4190001</td>\n",
       "      <td>4289000</td>\n",
       "      <td>0.481328</td>\n",
       "      <td>HTMCP-03-06-02001</td>\n",
       "    </tr>\n",
       "  </tbody>\n",
       "</table>\n",
       "</div>"
      ],
      "text/plain": [
       "   chr    start      end  Segment_Mean            patient\n",
       "0    1    10001  4190000      0.516688  HTMCP-03-06-02001\n",
       "1    1  4190001  4289000      0.481328  HTMCP-03-06-02001"
      ]
     },
     "execution_count": 26,
     "metadata": {},
     "output_type": "execute_result"
    },
    {
     "data": {
      "text/plain": [
       "73"
      ]
     },
     "execution_count": 26,
     "metadata": {},
     "output_type": "execute_result"
    },
    {
     "data": {
      "text/plain": [
       "count    19800.000000\n",
       "mean         0.619098\n",
       "std          0.478016\n",
       "min          0.250000\n",
       "25%          0.357308\n",
       "50%          0.481406\n",
       "75%          0.698178\n",
       "max          6.622359\n",
       "Name: Segment_Mean, dtype: float64"
      ]
     },
     "execution_count": 26,
     "metadata": {},
     "output_type": "execute_result"
    },
    {
     "data": {
      "image/png": "[encoded data removed]",
      "text/plain": [
       "<Figure size 432x288 with 1 Axes>"
      ]
     },
     "metadata": {},
     "output_type": "display_data"
    },
    {
     "data": {
      "text/plain": [
       "count    35953.000000\n",
       "mean        -0.920204\n",
       "std          2.611578\n",
       "min        -30.045690\n",
       "25%         -0.746297\n",
       "50%         -0.520869\n",
       "75%         -0.361164\n",
       "max         -0.250002\n",
       "Name: Segment_Mean, dtype: float64"
      ]
     },
     "execution_count": 26,
     "metadata": {},
     "output_type": "execute_result"
    },
    {
     "data": {
      "image/png": "[encoded data removed]",
      "text/plain": [
       "<Figure size 432x288 with 1 Axes>"
      ]
     },
     "metadata": {},
     "output_type": "display_data"
    }
   ],
   "source": [
    "# f3 = '/home/szong/bin/GISTIC_2_0_22/gatk_118_patients/segmentationfile.txt'\n",
    "df3 = pd.read_csv(htmcp_hiv_pos_file, sep='\\t', header=None)\n",
    "df3.columns = ['patient', 'chr', 'start', 'end', 'Num_Probes', 'Segment_Mean']\n",
    "df3 = df3[['chr', 'start', 'end','Segment_Mean', 'patient']]\n",
    "df3.head(2)\n",
    "df3.patient.nunique()\n",
    "\n",
    "htmcp_hiv_pos_amps = df3[df3.Segment_Mean >= amp_threshold]\n",
    "htmcp_hiv_pos_dels = df3[df3.Segment_Mean <= del_threshold]\n",
    "\n",
    "htmcp_hiv_pos_amps.to_csv(f'{wkdir}htmcp_hiv_pos_cnv_amps.txt', sep='\\t', header=None, index=False)\n",
    "htmcp_hiv_pos_dels.to_csv(f'{wkdir}htmcp_hiv_pos_cnv_dels.txt', sep='\\t', header=None, index=False)\n",
    "\n",
    "htmcp_hiv_pos_amps.Segment_Mean.describe()\n",
    "_ = plt.boxplot(htmcp_hiv_pos_amps.Segment_Mean)\n",
    "plt.show()\n",
    "\n",
    "htmcp_hiv_pos_dels.Segment_Mean.describe()\n",
    "_ = plt.boxplot(htmcp_hiv_pos_dels.Segment_Mean)"
   ]
  },
  {
   "cell_type": "code",
   "execution_count": 250,
   "metadata": {},
   "outputs": [],
   "source": [
    "%%bash -s $wkdir $bindir\n",
    "wkdir=$1\n",
    "bindir=$2\n",
    "# run this in this dir: \n",
    "bedtools=/home/rcorbett/aligners/bedtools/BEDTools-Version-2.15.0/bin/bedtools\n",
    "cd $wkdir\n",
    "sort -k1n -k2n -k3n htmcp_hiv_pos_cnv_amps.txt > htmcp_hiv_pos_cnv_amps.txt.sorted\n",
    "$bedtools intersect -a $bindir/chr_bins.txt -b htmcp_hiv_pos_cnv_amps.txt.sorted -wa -wb > htmcp_hiv_pos_cnv_amps_bins_1kb.txt\n",
    "sort -k1n -k2n -k3n htmcp_hiv_pos_cnv_dels.txt > htmcp_hiv_pos_cnv_dels.txt.sorted\n",
    "$bedtools intersect -a $bindir/chr_bins.txt -b htmcp_hiv_pos_cnv_dels.txt.sorted -wa -wb > htmcp_hiv_pos_cnv_dels_bins_1kb.txt\n"
   ]
  },
  {
   "cell_type": "code",
   "execution_count": 27,
   "metadata": {},
   "outputs": [],
   "source": [
    "f = f'{wkdir}htmcp_hiv_pos_cnv_amps_bins_1kb.txt'\n",
    "# htmcp_hiv_pos_recur_amps = calculate_occurence(f)\n",
    "of = f'{f}.patients'\n",
    "# htmcp_hiv_pos_recur_amps.to_csv(of, index=False, sep='\\t')\n",
    "htmcp_hiv_pos_recur_amps = pd.read_csv(of, sep='\\t')\n",
    "\n",
    "f = f'{wkdir}htmcp_hiv_pos_cnv_dels_bins_1kb.txt'\n",
    "# htmcp_hiv_pos_recur_dels = calculate_occurence(f)\n",
    "of = f'{f}.patients'\n",
    "# htmcp_hiv_pos_recur_dels.to_csv(of, index=False, sep='\\t')\n",
    "htmcp_hiv_pos_recur_dels = pd.read_csv(of, sep='\\t')"
   ]
  },
  {
   "cell_type": "markdown",
   "metadata": {},
   "source": [
    "# HIV - patients: 45"
   ]
  },
  {
   "cell_type": "code",
   "execution_count": null,
   "metadata": {},
   "outputs": [],
   "source": []
  },
  {
   "cell_type": "code",
   "execution_count": 252,
   "metadata": {},
   "outputs": [
    {
     "data": {
      "text/html": [
       "<div>\n",
       "<style scoped>\n",
       "    .dataframe tbody tr th:only-of-type {\n",
       "        vertical-align: middle;\n",
       "    }\n",
       "\n",
       "    .dataframe tbody tr th {\n",
       "        vertical-align: top;\n",
       "    }\n",
       "\n",
       "    .dataframe thead th {\n",
       "        text-align: right;\n",
       "    }\n",
       "</style>\n",
       "<table border=\"1\" class=\"dataframe\">\n",
       "  <thead>\n",
       "    <tr style=\"text-align: right;\">\n",
       "      <th></th>\n",
       "      <th>chr</th>\n",
       "      <th>start</th>\n",
       "      <th>end</th>\n",
       "      <th>Segment_Mean</th>\n",
       "      <th>patient</th>\n",
       "    </tr>\n",
       "  </thead>\n",
       "  <tbody>\n",
       "    <tr>\n",
       "      <th>0</th>\n",
       "      <td>1</td>\n",
       "      <td>10001</td>\n",
       "      <td>16901000</td>\n",
       "      <td>-0.027289</td>\n",
       "      <td>HTMCP-03-06-02002</td>\n",
       "    </tr>\n",
       "    <tr>\n",
       "      <th>1</th>\n",
       "      <td>1</td>\n",
       "      <td>16901001</td>\n",
       "      <td>17205000</td>\n",
       "      <td>-0.103116</td>\n",
       "      <td>HTMCP-03-06-02002</td>\n",
       "    </tr>\n",
       "  </tbody>\n",
       "</table>\n",
       "</div>"
      ],
      "text/plain": [
       "   chr     start       end  Segment_Mean            patient\n",
       "0    1     10001  16901000     -0.027289  HTMCP-03-06-02002\n",
       "1    1  16901001  17205000     -0.103116  HTMCP-03-06-02002"
      ]
     },
     "execution_count": 252,
     "metadata": {},
     "output_type": "execute_result"
    },
    {
     "data": {
      "text/plain": [
       "45"
      ]
     },
     "execution_count": 252,
     "metadata": {},
     "output_type": "execute_result"
    },
    {
     "data": {
      "text/plain": [
       "count    16871.000000\n",
       "mean         0.581550\n",
       "std          0.370838\n",
       "min          0.250150\n",
       "25%          0.351575\n",
       "50%          0.460560\n",
       "75%          0.694425\n",
       "max          5.250338\n",
       "Name: Segment_Mean, dtype: float64"
      ]
     },
     "execution_count": 252,
     "metadata": {},
     "output_type": "execute_result"
    },
    {
     "data": {
      "image/png": "[encoded data removed]",
      "text/plain": [
       "<Figure size 432x288 with 1 Axes>"
      ]
     },
     "metadata": {},
     "output_type": "display_data"
    },
    {
     "data": {
      "text/plain": [
       "count    17816.000000\n",
       "mean        -1.039655\n",
       "std          2.854288\n",
       "min        -29.981299\n",
       "25%         -0.775592\n",
       "50%         -0.585579\n",
       "75%         -0.393159\n",
       "max         -0.250023\n",
       "Name: Segment_Mean, dtype: float64"
      ]
     },
     "execution_count": 252,
     "metadata": {},
     "output_type": "execute_result"
    },
    {
     "data": {
      "image/png": "[encoded data removed]",
      "text/plain": [
       "<Figure size 432x288 with 1 Axes>"
      ]
     },
     "metadata": {},
     "output_type": "display_data"
    }
   ],
   "source": [
    "# f3 = '/home/szong/bin/GISTIC_2_0_22/gatk_118_patients/segmentationfile.txt'\n",
    "df3 = pd.read_csv(htmcp_hiv_neg_file, sep='\\t', header=None)\n",
    "df3.columns = ['patient', 'chr', 'start', 'end', 'Num_Probes', 'Segment_Mean']\n",
    "df3 = df3[['chr', 'start', 'end','Segment_Mean', 'patient']]\n",
    "df3.head(2)\n",
    "df3.patient.nunique()\n",
    "\n",
    "htmcp_hiv_neg_amps = df3[df3.Segment_Mean >= amp_threshold]\n",
    "htmcp_hiv_neg_dels = df3[df3.Segment_Mean <= del_threshold]\n",
    "\n",
    "htmcp_hiv_neg_amps.to_csv(f'{wkdir}htmcp_hiv_neg_cnv_amps.txt', sep='\\t', header=None, index=False)\n",
    "htmcp_hiv_neg_dels.to_csv(f'{wkdir}htmcp_hiv_neg_cnv_dels.txt', sep='\\t', header=None, index=False)\n",
    "\n",
    "htmcp_hiv_neg_amps.Segment_Mean.describe()\n",
    "_ = plt.boxplot(htmcp_hiv_neg_amps.Segment_Mean)\n",
    "plt.show()\n",
    "\n",
    "htmcp_hiv_neg_dels.Segment_Mean.describe()\n",
    "_ = plt.boxplot(htmcp_hiv_neg_dels.Segment_Mean)"
   ]
  },
  {
   "cell_type": "code",
   "execution_count": 253,
   "metadata": {},
   "outputs": [],
   "source": [
    "%%bash -s $wkdir $bindir\n",
    "wkdir=$1\n",
    "bindir=$2\n",
    "# run this in this dir: \n",
    "bedtools=/home/rcorbett/aligners/bedtools/BEDTools-Version-2.15.0/bin/bedtools\n",
    "cd $wkdir\n",
    "sort -k1n -k2n -k3n htmcp_hiv_neg_cnv_amps.txt > htmcp_hiv_neg_cnv_amps.txt.sorted\n",
    "$bedtools intersect -a $bindir/chr_bins.txt -b htmcp_hiv_neg_cnv_amps.txt.sorted -wa -wb > htmcp_hiv_neg_cnv_amps_bins_1kb.txt\n",
    "sort -k1n -k2n -k3n htmcp_hiv_neg_cnv_dels.txt > htmcp_hiv_neg_cnv_dels.txt.sorted\n",
    "$bedtools intersect -a $bindir/chr_bins.txt -b htmcp_hiv_neg_cnv_dels.txt.sorted -wa -wb > htmcp_hiv_neg_cnv_dels_bins_1kb.txt\n"
   ]
  },
  {
   "cell_type": "code",
   "execution_count": 255,
   "metadata": {},
   "outputs": [],
   "source": [
    "f = f'{wkdir}htmcp_hiv_neg_cnv_amps_bins_1kb.txt'\n",
    "htmcp_hiv_neg_recur_amps = calculate_occurence(f)\n",
    "of = f'{f}.patients'\n",
    "htmcp_hiv_neg_recur_amps.to_csv(of, index=False, sep='\\t')\n",
    "\n",
    "f = f'{wkdir}htmcp_hiv_neg_cnv_dels_bins_1kb.txt'\n",
    "htmcp_hiv_neg_recur_dels = calculate_occurence(f)\n",
    "of = f'{f}.patients'\n",
    "htmcp_hiv_neg_recur_dels.to_csv(of, index=False, sep='\\t')"
   ]
  },
  {
   "cell_type": "code",
   "execution_count": null,
   "metadata": {},
   "outputs": [],
   "source": []
  },
  {
   "cell_type": "code",
   "execution_count": null,
   "metadata": {},
   "outputs": [],
   "source": []
  },
  {
   "cell_type": "code",
   "execution_count": null,
   "metadata": {},
   "outputs": [],
   "source": []
  },
  {
   "cell_type": "code",
   "execution_count": null,
   "metadata": {},
   "outputs": [],
   "source": []
  },
  {
   "cell_type": "markdown",
   "metadata": {},
   "source": [
    "# 3. plot cnvs"
   ]
  },
  {
   "cell_type": "code",
   "execution_count": 17,
   "metadata": {},
   "outputs": [],
   "source": [
    "def plot_cnv(ax, baseline, amps, dels, num_patients, vlns):\n",
    "    ticks = [0, 0.4, 0.8, 1.2, 1.6]\n",
    "    ticklabels = [0.8, 0.4, 0, 0.4, 0.8]\n",
    "    ax.set_yticks(ticks, minor=False)\n",
    "    ax.set_yticklabels(ticklabels, minor=False)\n",
    "    # ax.set_frame_on(False) # this turn off frame\n",
    "    # Hide the right and top spines\n",
    "    ax.spines['right'].set_visible(False)\n",
    "    ax.spines['top'].set_visible(False)\n",
    "    ax.spines['bottom'].set_visible(False)\n",
    "    ax.axes.get_xaxis().set_visible(False)\n",
    "    _ = ax.hlines(baseline, 0, vlns[-2], color='black', linewidth=.7)\n",
    "    for vl in vlns:\n",
    "        _ = ax.vlines(vl, 0, 1.6, color='gray', linestyle='--', linewidth=.5)\n",
    "    \n",
    "#     _ = axhline(baseline + 1, color='gray', linestyle='--', linewidth=.5)\n",
    "#     _ = axhline(baseline - 1, color='gray', linestyle='--', linewidth=.5)\n",
    "    coordinates, fractions = get_coordinates_fractions(amps, num_patients)\n",
    "    plot_fraction(coordinates, fractions, baseline, 'amps', ax)\n",
    "    coordinates, fractions = get_coordinates_fractions(dels, num_patients)\n",
    "    plot_fraction(coordinates, fractions, baseline, 'dels', ax)"
   ]
  },
  {
   "cell_type": "code",
   "execution_count": 18,
   "metadata": {},
   "outputs": [],
   "source": [
    "# plot baseline\n",
    "start = 0\n",
    "end = 0\n",
    "# baseline = 1\n",
    "vlns = []\n",
    "mpnts = []\n",
    "for ch, length in enumerate(chr_length[:-1]):\n",
    "    ch+=1\n",
    "    end+=length\n",
    "    midpoint = (start + end)/2\n",
    "    mpnts.append(midpoint)\n",
    "#     _ = ax0.text(midpoint, 1, ch, ha='center')\n",
    "    if ch %2 == 1:\n",
    "        vlns.append(start)\n",
    "        vlns.append(end)\n",
    "#         _ = fill([start, end, end, start], [0, 0, 11, 11], 'b', alpha=0.1, edgecolor='b')\n",
    "#         _= ax0.vlines(start, 0, 10, color='gray', linestyle='--', linewidth=.5)\n",
    "#         _= ax0.vlines(end, 0, 10, color='gray', linestyle='--', linewidth=.5)\n",
    "    start+=length\n",
    "#     _ = ax0.text(midpoint, 1, ch, ha='center')\n"
   ]
  },
  {
   "cell_type": "code",
   "execution_count": 19,
   "metadata": {},
   "outputs": [],
   "source": [
    "def plot_cytobands(df, ax, clr, y_coord):\n",
    "    \"\"\"\n",
    "    keep in mind sometime notebook does render properly, some lines seem missing, \n",
    "    but it will show up when you open the png file. \n",
    "    \"\"\"\n",
    "    for ix, row in df.iterrows():\n",
    "        chrom = row.chr\n",
    "        start = row.start\n",
    "        end = row.end\n",
    "        cytoband = row.cytoband\n",
    "        print(start, end, (end-start), cytoband)\n",
    "        ax.hlines(y_coord, start, end, color=clr, linewidth=1.5) "
   ]
  },
  {
   "cell_type": "code",
   "execution_count": 20,
   "metadata": {},
   "outputs": [
    {
     "ename": "NameError",
     "evalue": "name 'df_bands' is not defined",
     "output_type": "error",
     "traceback": [
      "\u001b[0;31m---------------------------------------------------------------------------\u001b[0m",
      "\u001b[0;31mNameError\u001b[0m                                 Traceback (most recent call last)",
      "\u001b[0;32m<ipython-input-20-7d06150d97d4>\u001b[0m in \u001b[0;36m<module>\u001b[0;34m()\u001b[0m\n\u001b[0;32m----> 1\u001b[0;31m \u001b[0mdf_bands\u001b[0m\u001b[0;34m.\u001b[0m\u001b[0mshape\u001b[0m\u001b[0;34m\u001b[0m\u001b[0m\n\u001b[0m",
      "\u001b[0;31mNameError\u001b[0m: name 'df_bands' is not defined"
     ]
    }
   ],
   "source": [
    "df_bands.shape"
   ]
  },
  {
   "cell_type": "code",
   "execution_count": 471,
   "metadata": {},
   "outputs": [
    {
     "data": {
      "text/plain": [
       "chr          int64\n",
       "start        int64\n",
       "end          int64\n",
       "cytoband    object\n",
       "dtype: object"
      ]
     },
     "execution_count": 471,
     "metadata": {},
     "output_type": "execute_result"
    }
   ],
   "source": [
    "tcga_bands.dtypes"
   ]
  },
  {
   "cell_type": "markdown",
   "metadata": {},
   "source": [
    "# plot cytoband"
   ]
  },
  {
   "cell_type": "code",
   "execution_count": 502,
   "metadata": {},
   "outputs": [
    {
     "data": {
      "text/html": [
       "<div>\n",
       "<style scoped>\n",
       "    .dataframe tbody tr th:only-of-type {\n",
       "        vertical-align: middle;\n",
       "    }\n",
       "\n",
       "    .dataframe tbody tr th {\n",
       "        vertical-align: top;\n",
       "    }\n",
       "\n",
       "    .dataframe thead th {\n",
       "        text-align: right;\n",
       "    }\n",
       "</style>\n",
       "<table border=\"1\" class=\"dataframe\">\n",
       "  <thead>\n",
       "    <tr style=\"text-align: right;\">\n",
       "      <th></th>\n",
       "      <th>cytoband</th>\n",
       "      <th>11q22.1</th>\n",
       "      <th>3q26.31</th>\n",
       "      <th>20q11.21</th>\n",
       "      <th>8q24.21</th>\n",
       "      <th>3q28</th>\n",
       "      <th>11q13.3</th>\n",
       "      <th>17q25.1</th>\n",
       "      <th>19q13.13</th>\n",
       "      <th>9p24.1</th>\n",
       "      <th>...</th>\n",
       "      <th>6q12</th>\n",
       "      <th>14q11.2</th>\n",
       "      <th>13q34</th>\n",
       "      <th>1p31.3</th>\n",
       "      <th>8p11.21</th>\n",
       "      <th>22q13.31</th>\n",
       "      <th>Xp22.11</th>\n",
       "      <th>11q13.2</th>\n",
       "      <th>2q32.3</th>\n",
       "      <th>19q13.32</th>\n",
       "    </tr>\n",
       "  </thead>\n",
       "  <tbody>\n",
       "    <tr>\n",
       "      <th>0</th>\n",
       "      <td>q value</td>\n",
       "      <td>8.2231e-24</td>\n",
       "      <td>2.0738e-15</td>\n",
       "      <td>6.7744e-10</td>\n",
       "      <td>1.4874e-08</td>\n",
       "      <td>1.3329e-14</td>\n",
       "      <td>1.799e-07</td>\n",
       "      <td>9.4255e-05</td>\n",
       "      <td>2.6629e-05</td>\n",
       "      <td>0.00020757</td>\n",
       "      <td>...</td>\n",
       "      <td>0.10033</td>\n",
       "      <td>0.12486</td>\n",
       "      <td>0.10443</td>\n",
       "      <td>0.17237</td>\n",
       "      <td>0.22602</td>\n",
       "      <td>0.2308</td>\n",
       "      <td>0.23765</td>\n",
       "      <td>0.0005581</td>\n",
       "      <td>0.24581</td>\n",
       "      <td>1.1211e-05</td>\n",
       "    </tr>\n",
       "    <tr>\n",
       "      <th>1</th>\n",
       "      <td>residual q value</td>\n",
       "      <td>9.9276e-20</td>\n",
       "      <td>2.4074e-10</td>\n",
       "      <td>6.7744e-10</td>\n",
       "      <td>1.4874e-08</td>\n",
       "      <td>1.3817e-05</td>\n",
       "      <td>4.7655e-05</td>\n",
       "      <td>9.4255e-05</td>\n",
       "      <td>9.475e-05</td>\n",
       "      <td>0.00020757</td>\n",
       "      <td>...</td>\n",
       "      <td>0.10033</td>\n",
       "      <td>0.12486</td>\n",
       "      <td>0.14977</td>\n",
       "      <td>0.17237</td>\n",
       "      <td>0.22602</td>\n",
       "      <td>0.2308</td>\n",
       "      <td>0.23765</td>\n",
       "      <td>0.24448</td>\n",
       "      <td>0.24581</td>\n",
       "      <td>0.41875</td>\n",
       "    </tr>\n",
       "  </tbody>\n",
       "</table>\n",
       "<p>2 rows × 30 columns</p>\n",
       "</div>"
      ],
      "text/plain": [
       "           cytoband     11q22.1     3q26.31    20q11.21     8q24.21  \\\n",
       "0           q value  8.2231e-24  2.0738e-15  6.7744e-10  1.4874e-08   \n",
       "1  residual q value  9.9276e-20  2.4074e-10  6.7744e-10  1.4874e-08   \n",
       "\n",
       "         3q28     11q13.3     17q25.1    19q13.13      9p24.1     ...      \\\n",
       "0  1.3329e-14   1.799e-07  9.4255e-05  2.6629e-05  0.00020757     ...       \n",
       "1  1.3817e-05  4.7655e-05  9.4255e-05   9.475e-05  0.00020757     ...       \n",
       "\n",
       "      6q12  14q11.2    13q34   1p31.3  8p11.21 22q13.31  Xp22.11    11q13.2  \\\n",
       "0  0.10033  0.12486  0.10443  0.17237  0.22602   0.2308  0.23765  0.0005581   \n",
       "1  0.10033  0.12486  0.14977  0.17237  0.22602   0.2308  0.23765    0.24448   \n",
       "\n",
       "    2q32.3    19q13.32  \n",
       "0  0.24581  1.1211e-05  \n",
       "1  0.24581     0.41875  \n",
       "\n",
       "[2 rows x 30 columns]"
      ]
     },
     "execution_count": 502,
     "metadata": {},
     "output_type": "execute_result"
    },
    {
     "data": {
      "text/plain": [
       "29"
      ]
     },
     "execution_count": 502,
     "metadata": {},
     "output_type": "execute_result"
    }
   ],
   "source": [
    "tcga_bandf = '/projects/trans_scratch/validations/workspace/szong/Cervical/tcga_cn/supplemental_Table_7-Amp_Del_Peaks.xlsx'\n",
    "tcga_band_amps = pd.read_excel(tcga_bandf, sheet_name='All_amps')\n",
    "tcga_band_amps[:2]\n",
    "tcga_amps_bands = tcga_band_amps.columns.tolist()\n",
    "tcga_amps_bands.remove('cytoband')\n",
    "len(tcga_amps_bands)"
   ]
  },
  {
   "cell_type": "code",
   "execution_count": 503,
   "metadata": {},
   "outputs": [
    {
     "data": {
      "text/html": [
       "<div>\n",
       "<style scoped>\n",
       "    .dataframe tbody tr th:only-of-type {\n",
       "        vertical-align: middle;\n",
       "    }\n",
       "\n",
       "    .dataframe tbody tr th {\n",
       "        vertical-align: top;\n",
       "    }\n",
       "\n",
       "    .dataframe thead th {\n",
       "        text-align: right;\n",
       "    }\n",
       "</style>\n",
       "<table border=\"1\" class=\"dataframe\">\n",
       "  <thead>\n",
       "    <tr style=\"text-align: right;\">\n",
       "      <th></th>\n",
       "      <th>cytoband</th>\n",
       "      <th>2q37.1</th>\n",
       "      <th>2q22.1</th>\n",
       "      <th>11q25</th>\n",
       "      <th>4q35.2</th>\n",
       "      <th>19p13.3</th>\n",
       "      <th>10q23.31</th>\n",
       "      <th>13q14.2</th>\n",
       "      <th>1p36.23</th>\n",
       "      <th>17q25.3</th>\n",
       "      <th>...</th>\n",
       "      <th>8p23.3</th>\n",
       "      <th>16q23.1</th>\n",
       "      <th>11p15.1</th>\n",
       "      <th>19p13.12</th>\n",
       "      <th>1p13.2</th>\n",
       "      <th>16p13.3</th>\n",
       "      <th>3p22.1</th>\n",
       "      <th>21q21.1</th>\n",
       "      <th>5q35.3</th>\n",
       "      <th>16q24.3</th>\n",
       "    </tr>\n",
       "  </thead>\n",
       "  <tbody>\n",
       "    <tr>\n",
       "      <th>0</th>\n",
       "      <td>q value</td>\n",
       "      <td>2.1181e-25</td>\n",
       "      <td>6.4977e-17</td>\n",
       "      <td>2.8223e-14</td>\n",
       "      <td>6.1861e-12</td>\n",
       "      <td>5.1501e-12</td>\n",
       "      <td>7.5863e-10</td>\n",
       "      <td>3.9893e-10</td>\n",
       "      <td>4.5785e-05</td>\n",
       "      <td>0.00040073</td>\n",
       "      <td>...</td>\n",
       "      <td>0.16465</td>\n",
       "      <td>0.046327</td>\n",
       "      <td>0.20387</td>\n",
       "      <td>0.01539</td>\n",
       "      <td>0.17674</td>\n",
       "      <td>0.21081</td>\n",
       "      <td>0.23848</td>\n",
       "      <td>0.23482</td>\n",
       "      <td>0.24783</td>\n",
       "      <td>0.0506</td>\n",
       "    </tr>\n",
       "    <tr>\n",
       "      <th>1</th>\n",
       "      <td>residual q value</td>\n",
       "      <td>1.2059e-22</td>\n",
       "      <td>7.9934e-15</td>\n",
       "      <td>2.7755e-14</td>\n",
       "      <td>1.2885e-11</td>\n",
       "      <td>2.4884e-11</td>\n",
       "      <td>7.5863e-10</td>\n",
       "      <td>3.3152e-07</td>\n",
       "      <td>5.5176e-05</td>\n",
       "      <td>0.00040073</td>\n",
       "      <td>...</td>\n",
       "      <td>0.15897</td>\n",
       "      <td>0.17674</td>\n",
       "      <td>0.21041</td>\n",
       "      <td>0.21041</td>\n",
       "      <td>0.21194</td>\n",
       "      <td>0.21194</td>\n",
       "      <td>0.23848</td>\n",
       "      <td>0.23848</td>\n",
       "      <td>0.25985</td>\n",
       "      <td>0.27771</td>\n",
       "    </tr>\n",
       "  </tbody>\n",
       "</table>\n",
       "<p>2 rows × 39 columns</p>\n",
       "</div>"
      ],
      "text/plain": [
       "           cytoband      2q37.1      2q22.1       11q25      4q35.2  \\\n",
       "0           q value  2.1181e-25  6.4977e-17  2.8223e-14  6.1861e-12   \n",
       "1  residual q value  1.2059e-22  7.9934e-15  2.7755e-14  1.2885e-11   \n",
       "\n",
       "      19p13.3    10q23.31     13q14.2     1p36.23     17q25.3   ...     \\\n",
       "0  5.1501e-12  7.5863e-10  3.9893e-10  4.5785e-05  0.00040073   ...      \n",
       "1  2.4884e-11  7.5863e-10  3.3152e-07  5.5176e-05  0.00040073   ...      \n",
       "\n",
       "    8p23.3   16q23.1  11p15.1 19p13.12   1p13.2  16p13.3   3p22.1  21q21.1  \\\n",
       "0  0.16465  0.046327  0.20387  0.01539  0.17674  0.21081  0.23848  0.23482   \n",
       "1  0.15897   0.17674  0.21041  0.21041  0.21194  0.21194  0.23848  0.23848   \n",
       "\n",
       "    5q35.3  16q24.3  \n",
       "0  0.24783   0.0506  \n",
       "1  0.25985  0.27771  \n",
       "\n",
       "[2 rows x 39 columns]"
      ]
     },
     "execution_count": 503,
     "metadata": {},
     "output_type": "execute_result"
    },
    {
     "data": {
      "text/plain": [
       "38"
      ]
     },
     "execution_count": 503,
     "metadata": {},
     "output_type": "execute_result"
    }
   ],
   "source": [
    "tcga_bandf = '/projects/trans_scratch/validations/workspace/szong/Cervical/tcga_cn/supplemental_Table_7-Amp_Del_Peaks.xlsx'\n",
    "tcga_band_dels = pd.read_excel(tcga_bandf, sheet_name='All_dels')\n",
    "tcga_band_dels[:2]\n",
    "tcga_dels_bands = tcga_band_dels.columns.tolist()\n",
    "tcga_dels_bands.remove('cytoband')\n",
    "len(tcga_dels_bands)"
   ]
  },
  {
   "cell_type": "code",
   "execution_count": 21,
   "metadata": {},
   "outputs": [
    {
     "data": {
      "text/html": [
       "<div>\n",
       "<style scoped>\n",
       "    .dataframe tbody tr th:only-of-type {\n",
       "        vertical-align: middle;\n",
       "    }\n",
       "\n",
       "    .dataframe tbody tr th {\n",
       "        vertical-align: top;\n",
       "    }\n",
       "\n",
       "    .dataframe thead th {\n",
       "        text-align: right;\n",
       "    }\n",
       "</style>\n",
       "<table border=\"1\" class=\"dataframe\">\n",
       "  <thead>\n",
       "    <tr style=\"text-align: right;\">\n",
       "      <th></th>\n",
       "      <th>chr</th>\n",
       "      <th>start</th>\n",
       "      <th>end</th>\n",
       "      <th>cytoband</th>\n",
       "      <th>comments</th>\n",
       "    </tr>\n",
       "  </thead>\n",
       "  <tbody>\n",
       "    <tr>\n",
       "      <th>0</th>\n",
       "      <td>1</td>\n",
       "      <td>0</td>\n",
       "      <td>2300000</td>\n",
       "      <td>1p36.33</td>\n",
       "      <td>gneg</td>\n",
       "    </tr>\n",
       "    <tr>\n",
       "      <th>1</th>\n",
       "      <td>1</td>\n",
       "      <td>2300000</td>\n",
       "      <td>5400000</td>\n",
       "      <td>1p36.32</td>\n",
       "      <td>gpos25</td>\n",
       "    </tr>\n",
       "  </tbody>\n",
       "</table>\n",
       "</div>"
      ],
      "text/plain": [
       "   chr    start      end cytoband comments\n",
       "0    1        0  2300000  1p36.33     gneg\n",
       "1    1  2300000  5400000  1p36.32   gpos25"
      ]
     },
     "execution_count": 21,
     "metadata": {},
     "output_type": "execute_result"
    },
    {
     "data": {
      "text/html": [
       "<div>\n",
       "<style scoped>\n",
       "    .dataframe tbody tr th:only-of-type {\n",
       "        vertical-align: middle;\n",
       "    }\n",
       "\n",
       "    .dataframe tbody tr th {\n",
       "        vertical-align: top;\n",
       "    }\n",
       "\n",
       "    .dataframe thead th {\n",
       "        text-align: right;\n",
       "    }\n",
       "</style>\n",
       "<table border=\"1\" class=\"dataframe\">\n",
       "  <thead>\n",
       "    <tr style=\"text-align: right;\">\n",
       "      <th></th>\n",
       "      <th>chr</th>\n",
       "      <th>start</th>\n",
       "      <th>end</th>\n",
       "      <th>cytoband</th>\n",
       "      <th>comments</th>\n",
       "    </tr>\n",
       "  </thead>\n",
       "  <tbody>\n",
       "    <tr>\n",
       "      <th>857</th>\n",
       "      <td>24</td>\n",
       "      <td>15100000</td>\n",
       "      <td>19800000</td>\n",
       "      <td>Yq11.221</td>\n",
       "      <td>gpos50</td>\n",
       "    </tr>\n",
       "    <tr>\n",
       "      <th>858</th>\n",
       "      <td>24</td>\n",
       "      <td>19800000</td>\n",
       "      <td>22100000</td>\n",
       "      <td>Yq11.222</td>\n",
       "      <td>gneg</td>\n",
       "    </tr>\n",
       "    <tr>\n",
       "      <th>859</th>\n",
       "      <td>24</td>\n",
       "      <td>22100000</td>\n",
       "      <td>26200000</td>\n",
       "      <td>Yq11.223</td>\n",
       "      <td>gpos50</td>\n",
       "    </tr>\n",
       "    <tr>\n",
       "      <th>860</th>\n",
       "      <td>24</td>\n",
       "      <td>26200000</td>\n",
       "      <td>28800000</td>\n",
       "      <td>Yq11.23</td>\n",
       "      <td>gneg</td>\n",
       "    </tr>\n",
       "    <tr>\n",
       "      <th>861</th>\n",
       "      <td>24</td>\n",
       "      <td>28800000</td>\n",
       "      <td>59373566</td>\n",
       "      <td>Yq12</td>\n",
       "      <td>gvar</td>\n",
       "    </tr>\n",
       "  </tbody>\n",
       "</table>\n",
       "</div>"
      ],
      "text/plain": [
       "     chr     start       end  cytoband comments\n",
       "857   24  15100000  19800000  Yq11.221   gpos50\n",
       "858   24  19800000  22100000  Yq11.222     gneg\n",
       "859   24  22100000  26200000  Yq11.223   gpos50\n",
       "860   24  26200000  28800000   Yq11.23     gneg\n",
       "861   24  28800000  59373566      Yq12     gvar"
      ]
     },
     "execution_count": 21,
     "metadata": {},
     "output_type": "execute_result"
    },
    {
     "data": {
      "text/plain": [
       "(862, 5)"
      ]
     },
     "execution_count": 21,
     "metadata": {},
     "output_type": "execute_result"
    },
    {
     "data": {
      "text/plain": [
       "chr          int64\n",
       "start        int64\n",
       "end          int64\n",
       "cytoband    object\n",
       "comments    object\n",
       "dtype: object"
      ]
     },
     "execution_count": 21,
     "metadata": {},
     "output_type": "execute_result"
    }
   ],
   "source": [
    "# plot chromosomes\n",
    "f3 = '/home/szong/projects/resource/hg19_cytoband_ucsc.txt'\n",
    "df_cytoband = pd.read_csv(f3, header=None, sep='\\t')\n",
    "df_cytoband.columns = ['chr', 'start', 'end', 'cytoband', 'comments']\n",
    "df_cytoband['cytoband'] = df_cytoband.chr + df_cytoband['cytoband']\n",
    "df_cytoband['chr'] = df_cytoband['chr'].replace({'X':'23', 'Y':'24'}).astype(int64)\n",
    "\n",
    "df_cytoband.head(2)\n",
    "df_cytoband.tail()\n",
    "df_cytoband.shape\n",
    "df_cytoband.dtypes"
   ]
  },
  {
   "cell_type": "code",
   "execution_count": 22,
   "metadata": {},
   "outputs": [
    {
     "data": {
      "text/html": [
       "<div>\n",
       "<style scoped>\n",
       "    .dataframe tbody tr th:only-of-type {\n",
       "        vertical-align: middle;\n",
       "    }\n",
       "\n",
       "    .dataframe tbody tr th {\n",
       "        vertical-align: top;\n",
       "    }\n",
       "\n",
       "    .dataframe thead th {\n",
       "        text-align: right;\n",
       "    }\n",
       "</style>\n",
       "<table border=\"1\" class=\"dataframe\">\n",
       "  <thead>\n",
       "    <tr style=\"text-align: right;\">\n",
       "      <th></th>\n",
       "      <th>chrom</th>\n",
       "      <th>length</th>\n",
       "      <th>cumulative_length</th>\n",
       "    </tr>\n",
       "  </thead>\n",
       "  <tbody>\n",
       "    <tr>\n",
       "      <th>0</th>\n",
       "      <td>0</td>\n",
       "      <td>0</td>\n",
       "      <td>0</td>\n",
       "    </tr>\n",
       "    <tr>\n",
       "      <th>1</th>\n",
       "      <td>1</td>\n",
       "      <td>249250621</td>\n",
       "      <td>249250621</td>\n",
       "    </tr>\n",
       "  </tbody>\n",
       "</table>\n",
       "</div>"
      ],
      "text/plain": [
       "   chrom     length  cumulative_length\n",
       "0      0          0                  0\n",
       "1      1  249250621          249250621"
      ]
     },
     "execution_count": 22,
     "metadata": {},
     "output_type": "execute_result"
    },
    {
     "data": {
      "text/plain": [
       "chrom                int64\n",
       "length               int64\n",
       "cumulative_length    int64\n",
       "dtype: object"
      ]
     },
     "execution_count": 22,
     "metadata": {},
     "output_type": "execute_result"
    }
   ],
   "source": [
    "chromosomes = pd.read_csv(chr_accu_length_f, sep='\\t')\n",
    "chromosomes[:2]\n",
    "chromosomes.dtypes"
   ]
  },
  {
   "cell_type": "code",
   "execution_count": 674,
   "metadata": {},
   "outputs": [],
   "source": [
    "def arm_coordinates(df_cytoband, chromosomes):\n",
    "    out = []\n",
    "    for chrom in df_cytoband.chr.astype(int64).unique():\n",
    "#         print(\"xxx\", chrom, chromosomes.query('chrom == \"{}\"'.format(chrom-1)))\n",
    "        offset =  chromosomes.query('chrom == \"{}\"'.format(chrom-1))['cumulative_length'].values[0]\n",
    "#         print('zzz', offset)\n",
    "        for arm in ['p', 'q']:\n",
    "            p = df_cytoband[(df_cytoband.chr==chrom)&(df_cytoband.cytoband.str.contains(arm))][['start', 'end']].values.ravel()\n",
    "            start = p.min()+offset+1\n",
    "            end = p.max()+offset\n",
    "            out.append([chrom, arm, start, end])\n",
    "    return pd.DataFrame(out)"
   ]
  },
  {
   "cell_type": "code",
   "execution_count": 675,
   "metadata": {},
   "outputs": [],
   "source": [
    "out = arm_coordinates(df_cytoband, chromosomes)"
   ]
  },
  {
   "cell_type": "code",
   "execution_count": 685,
   "metadata": {},
   "outputs": [],
   "source": [
    "out[4]  = out[[0,1]].apply(lambda x: ''.join(x.astype(str)), axis=1)"
   ]
  },
  {
   "cell_type": "code",
   "execution_count": 687,
   "metadata": {},
   "outputs": [],
   "source": [
    "out.to_csv(f'{wkdir}chromosome_arm_coordinates.txt', sep='\\t', index=False, header=False)"
   ]
  },
  {
   "cell_type": "code",
   "execution_count": 23,
   "metadata": {},
   "outputs": [],
   "source": [
    "def get_cytoband_coords(df_cytoband):\n",
    "    # both chromosome size file and cytoband file has consistent chromosome size, checked\n",
    "    chr_offset = 0 # chromosome offset\n",
    "    cbands = []\n",
    "    chromsomes = []\n",
    "    for chr in np.arange(1,25):\n",
    "    #     print(chr)\n",
    "        dfchr = df_cytoband[df_cytoband.chr=='{}'.format(chr)]\n",
    "        for idx, row in dfchr.iterrows():\n",
    "            start = row.start + chr_offset\n",
    "            end = row.end + chr_offset\n",
    "            cytoband = row.cytoband\n",
    "            comment = row.comments\n",
    "            center = (start + end)/2 + chr_offset\n",
    "            width = int(end - start)\n",
    "    #         print(chr, start, end, cytoband)\n",
    "            cbands.append([chr, start, end, cytoband])\n",
    "        chr_offset+=max(dfchr.end)\n",
    "        print(chr, max(dfchr.end), chr_offset)\n",
    "        chromsomes.append([chr, max(dfchr.end), chr_offset])\n",
    "\n",
    "\n",
    "        cytobands = pd.DataFrame(cbands)\n",
    "        cytobands.columns = ['chr', 'start', 'end', 'cytoband']\n",
    "        cytobands[:4]\n",
    "#     pd.DataFrame(chromsomes).to_csv(chr_accu_length_f, index=False, header=False, sep='\\t')\n",
    "    return cytobands"
   ]
  },
  {
   "cell_type": "code",
   "execution_count": 24,
   "metadata": {},
   "outputs": [
    {
     "name": "stderr",
     "output_type": "stream",
     "text": [
      "/projects/da_workspace/software/miniconda/envs/dlpy3/lib/python3.6/site-packages/pandas/core/ops.py:1167: FutureWarning: elementwise comparison failed; returning scalar instead, but in the future will perform elementwise comparison\n",
      "  result = method(y)\n"
     ]
    },
    {
     "ename": "TypeError",
     "evalue": "invalid type comparison",
     "output_type": "error",
     "traceback": [
      "\u001b[0;31m---------------------------------------------------------------------------\u001b[0m",
      "\u001b[0;31mTypeError\u001b[0m                                 Traceback (most recent call last)",
      "\u001b[0;32m<ipython-input-24-0a419af69530>\u001b[0m in \u001b[0;36m<module>\u001b[0;34m()\u001b[0m\n\u001b[0;32m----> 1\u001b[0;31m \u001b[0mcytobands\u001b[0m \u001b[0;34m=\u001b[0m \u001b[0mget_cytoband_coords\u001b[0m\u001b[0;34m(\u001b[0m\u001b[0mdf_cytoband\u001b[0m\u001b[0;34m)\u001b[0m\u001b[0;34m\u001b[0m\u001b[0m\n\u001b[0m\u001b[1;32m      2\u001b[0m \u001b[0;31m# tcga_amp_bands_toplot = cytobands[cytobands.cytoband.isin(tcga_amps_bands)]\u001b[0m\u001b[0;34m\u001b[0m\u001b[0;34m\u001b[0m\u001b[0m\n\u001b[1;32m      3\u001b[0m \u001b[0;31m# tcga_del_bands_toplot = cytobands[cytobands.cytoband.isin(tcga_dels_bands)]\u001b[0m\u001b[0;34m\u001b[0m\u001b[0;34m\u001b[0m\u001b[0m\n",
      "\u001b[0;32m<ipython-input-23-b31a3d5b6bd3>\u001b[0m in \u001b[0;36mget_cytoband_coords\u001b[0;34m(df_cytoband)\u001b[0m\n\u001b[1;32m      6\u001b[0m     \u001b[0;32mfor\u001b[0m \u001b[0mchr\u001b[0m \u001b[0;32min\u001b[0m \u001b[0mnp\u001b[0m\u001b[0;34m.\u001b[0m\u001b[0marange\u001b[0m\u001b[0;34m(\u001b[0m\u001b[0;36m1\u001b[0m\u001b[0;34m,\u001b[0m\u001b[0;36m25\u001b[0m\u001b[0;34m)\u001b[0m\u001b[0;34m:\u001b[0m\u001b[0;34m\u001b[0m\u001b[0m\n\u001b[1;32m      7\u001b[0m     \u001b[0;31m#     print(chr)\u001b[0m\u001b[0;34m\u001b[0m\u001b[0;34m\u001b[0m\u001b[0m\n\u001b[0;32m----> 8\u001b[0;31m         \u001b[0mdfchr\u001b[0m \u001b[0;34m=\u001b[0m \u001b[0mdf_cytoband\u001b[0m\u001b[0;34m[\u001b[0m\u001b[0mdf_cytoband\u001b[0m\u001b[0;34m.\u001b[0m\u001b[0mchr\u001b[0m\u001b[0;34m==\u001b[0m\u001b[0;34m'{}'\u001b[0m\u001b[0;34m.\u001b[0m\u001b[0mformat\u001b[0m\u001b[0;34m(\u001b[0m\u001b[0mchr\u001b[0m\u001b[0;34m)\u001b[0m\u001b[0;34m]\u001b[0m\u001b[0;34m\u001b[0m\u001b[0m\n\u001b[0m\u001b[1;32m      9\u001b[0m         \u001b[0;32mfor\u001b[0m \u001b[0midx\u001b[0m\u001b[0;34m,\u001b[0m \u001b[0mrow\u001b[0m \u001b[0;32min\u001b[0m \u001b[0mdfchr\u001b[0m\u001b[0;34m.\u001b[0m\u001b[0miterrows\u001b[0m\u001b[0;34m(\u001b[0m\u001b[0;34m)\u001b[0m\u001b[0;34m:\u001b[0m\u001b[0;34m\u001b[0m\u001b[0m\n\u001b[1;32m     10\u001b[0m             \u001b[0mstart\u001b[0m \u001b[0;34m=\u001b[0m \u001b[0mrow\u001b[0m\u001b[0;34m.\u001b[0m\u001b[0mstart\u001b[0m \u001b[0;34m+\u001b[0m \u001b[0mchr_offset\u001b[0m\u001b[0;34m\u001b[0m\u001b[0m\n",
      "\u001b[0;32m/projects/da_workspace/software/miniconda/envs/dlpy3/lib/python3.6/site-packages/pandas/core/ops.py\u001b[0m in \u001b[0;36mwrapper\u001b[0;34m(self, other, axis)\u001b[0m\n\u001b[1;32m   1281\u001b[0m \u001b[0;34m\u001b[0m\u001b[0m\n\u001b[1;32m   1282\u001b[0m             \u001b[0;32mwith\u001b[0m \u001b[0mnp\u001b[0m\u001b[0;34m.\u001b[0m\u001b[0merrstate\u001b[0m\u001b[0;34m(\u001b[0m\u001b[0mall\u001b[0m\u001b[0;34m=\u001b[0m\u001b[0;34m'ignore'\u001b[0m\u001b[0;34m)\u001b[0m\u001b[0;34m:\u001b[0m\u001b[0;34m\u001b[0m\u001b[0m\n\u001b[0;32m-> 1283\u001b[0;31m                 \u001b[0mres\u001b[0m \u001b[0;34m=\u001b[0m \u001b[0mna_op\u001b[0m\u001b[0;34m(\u001b[0m\u001b[0mvalues\u001b[0m\u001b[0;34m,\u001b[0m \u001b[0mother\u001b[0m\u001b[0;34m)\u001b[0m\u001b[0;34m\u001b[0m\u001b[0m\n\u001b[0m\u001b[1;32m   1284\u001b[0m             \u001b[0;32mif\u001b[0m \u001b[0mis_scalar\u001b[0m\u001b[0;34m(\u001b[0m\u001b[0mres\u001b[0m\u001b[0;34m)\u001b[0m\u001b[0;34m:\u001b[0m\u001b[0;34m\u001b[0m\u001b[0m\n\u001b[1;32m   1285\u001b[0m                 raise TypeError('Could not compare {typ} type with Series'\n",
      "\u001b[0;32m/projects/da_workspace/software/miniconda/envs/dlpy3/lib/python3.6/site-packages/pandas/core/ops.py\u001b[0m in \u001b[0;36mna_op\u001b[0;34m(x, y)\u001b[0m\n\u001b[1;32m   1167\u001b[0m                     \u001b[0mresult\u001b[0m \u001b[0;34m=\u001b[0m \u001b[0mmethod\u001b[0m\u001b[0;34m(\u001b[0m\u001b[0my\u001b[0m\u001b[0;34m)\u001b[0m\u001b[0;34m\u001b[0m\u001b[0m\n\u001b[1;32m   1168\u001b[0m                 \u001b[0;32mif\u001b[0m \u001b[0mresult\u001b[0m \u001b[0;32mis\u001b[0m \u001b[0mNotImplemented\u001b[0m\u001b[0;34m:\u001b[0m\u001b[0;34m\u001b[0m\u001b[0m\n\u001b[0;32m-> 1169\u001b[0;31m                     \u001b[0;32mraise\u001b[0m \u001b[0mTypeError\u001b[0m\u001b[0;34m(\u001b[0m\u001b[0;34m\"invalid type comparison\"\u001b[0m\u001b[0;34m)\u001b[0m\u001b[0;34m\u001b[0m\u001b[0m\n\u001b[0m\u001b[1;32m   1170\u001b[0m             \u001b[0;32melse\u001b[0m\u001b[0;34m:\u001b[0m\u001b[0;34m\u001b[0m\u001b[0m\n\u001b[1;32m   1171\u001b[0m                 \u001b[0mresult\u001b[0m \u001b[0;34m=\u001b[0m \u001b[0mop\u001b[0m\u001b[0;34m(\u001b[0m\u001b[0mx\u001b[0m\u001b[0;34m,\u001b[0m \u001b[0my\u001b[0m\u001b[0;34m)\u001b[0m\u001b[0;34m\u001b[0m\u001b[0m\n",
      "\u001b[0;31mTypeError\u001b[0m: invalid type comparison"
     ]
    }
   ],
   "source": [
    "cytobands = get_cytoband_coords(df_cytoband)\n",
    "# tcga_amp_bands_toplot = cytobands[cytobands.cytoband.isin(tcga_amps_bands)]\n",
    "# tcga_del_bands_toplot = cytobands[cytobands.cytoband.isin(tcga_dels_bands)]"
   ]
  },
  {
   "cell_type": "code",
   "execution_count": 509,
   "metadata": {},
   "outputs": [
    {
     "data": {
      "text/plain": [
       "(29, 4)"
      ]
     },
     "execution_count": 509,
     "metadata": {},
     "output_type": "execute_result"
    },
    {
     "data": {
      "text/plain": [
       "(38, 4)"
      ]
     },
     "execution_count": 509,
     "metadata": {},
     "output_type": "execute_result"
    }
   ],
   "source": [
    "tcga_amp_bands_toplot.shape\n",
    "tcga_del_bands_toplot.shape"
   ]
  },
  {
   "cell_type": "markdown",
   "metadata": {},
   "source": [
    "## HIV + cytobands"
   ]
  },
  {
   "cell_type": "code",
   "execution_count": 519,
   "metadata": {},
   "outputs": [],
   "source": [
    "hivpos_ampf = '/home/szong/bin/GISTIC_2_0_22/gatk_118_HIV_pos/amp_genes.conf_99.txt'\n",
    "hivpos_delf = '/home/szong/bin/GISTIC_2_0_22/gatk_118_HIV_pos/del_genes.conf_99.txt'\n",
    "hivneg_ampf = '/home/szong/bin/GISTIC_2_0_22/gatk_118_HIV_neg/amp_genes.conf_99.txt'\n",
    "hivneg_delf = '/home/szong/bin/GISTIC_2_0_22/gatk_118_HIV_neg/del_genes.conf_99.txt'"
   ]
  },
  {
   "cell_type": "code",
   "execution_count": 529,
   "metadata": {},
   "outputs": [
    {
     "data": {
      "text/html": [
       "<div>\n",
       "<style scoped>\n",
       "    .dataframe tbody tr th:only-of-type {\n",
       "        vertical-align: middle;\n",
       "    }\n",
       "\n",
       "    .dataframe tbody tr th {\n",
       "        vertical-align: top;\n",
       "    }\n",
       "\n",
       "    .dataframe thead th {\n",
       "        text-align: right;\n",
       "    }\n",
       "</style>\n",
       "<table border=\"1\" class=\"dataframe\">\n",
       "  <thead>\n",
       "    <tr style=\"text-align: right;\">\n",
       "      <th></th>\n",
       "      <th>cytoband</th>\n",
       "      <th>5p15.33</th>\n",
       "      <th>11q22.1</th>\n",
       "      <th>15q11.2</th>\n",
       "      <th>3q29</th>\n",
       "      <th>19q13.42</th>\n",
       "      <th>8q24.21</th>\n",
       "      <th>22q13.2</th>\n",
       "      <th>19q11</th>\n",
       "      <th>4p11</th>\n",
       "      <th>...</th>\n",
       "      <th>2p11.2</th>\n",
       "      <th>10q11.22</th>\n",
       "      <th>17q12.1</th>\n",
       "      <th>12q14.2</th>\n",
       "      <th>8p23.1.1</th>\n",
       "      <th>22q11.23</th>\n",
       "      <th>2q21.2</th>\n",
       "      <th>9q34.3</th>\n",
       "      <th>1p32.1</th>\n",
       "      <th>Unnamed: 39</th>\n",
       "    </tr>\n",
       "  </thead>\n",
       "  <tbody>\n",
       "    <tr>\n",
       "      <th>0</th>\n",
       "      <td>q value</td>\n",
       "      <td>7.049e-16</td>\n",
       "      <td>6.0211e-10</td>\n",
       "      <td>9.0942e-10</td>\n",
       "      <td>5.4121e-07</td>\n",
       "      <td>3.3654e-10</td>\n",
       "      <td>9.3637e-06</td>\n",
       "      <td>1.2218e-05</td>\n",
       "      <td>2.5486e-06</td>\n",
       "      <td>5.5824e-06</td>\n",
       "      <td>...</td>\n",
       "      <td>0.1303</td>\n",
       "      <td>0.1303</td>\n",
       "      <td>0.1275</td>\n",
       "      <td>0.16224</td>\n",
       "      <td>0.10042</td>\n",
       "      <td>0.13986</td>\n",
       "      <td>0.21838</td>\n",
       "      <td>0.24714</td>\n",
       "      <td>0.0046579</td>\n",
       "      <td>NaN</td>\n",
       "    </tr>\n",
       "    <tr>\n",
       "      <th>1</th>\n",
       "      <td>residual q value</td>\n",
       "      <td>1.1599e-14</td>\n",
       "      <td>6.0211e-10</td>\n",
       "      <td>9.0942e-10</td>\n",
       "      <td>5.4121e-07</td>\n",
       "      <td>7.6393e-07</td>\n",
       "      <td>9.3637e-06</td>\n",
       "      <td>1.2682e-05</td>\n",
       "      <td>1.7323e-05</td>\n",
       "      <td>2.4122e-05</td>\n",
       "      <td>...</td>\n",
       "      <td>0.1303</td>\n",
       "      <td>0.1303</td>\n",
       "      <td>0.1303</td>\n",
       "      <td>0.16224</td>\n",
       "      <td>0.17346</td>\n",
       "      <td>0.17346</td>\n",
       "      <td>0.2452</td>\n",
       "      <td>0.24714</td>\n",
       "      <td>0.40904</td>\n",
       "      <td>NaN</td>\n",
       "    </tr>\n",
       "  </tbody>\n",
       "</table>\n",
       "<p>2 rows × 40 columns</p>\n",
       "</div>"
      ],
      "text/plain": [
       "           cytoband     5p15.33     11q22.1     15q11.2        3q29  \\\n",
       "0           q value   7.049e-16  6.0211e-10  9.0942e-10  5.4121e-07   \n",
       "1  residual q value  1.1599e-14  6.0211e-10  9.0942e-10  5.4121e-07   \n",
       "\n",
       "     19q13.42     8q24.21     22q13.2       19q11        4p11     ...      \\\n",
       "0  3.3654e-10  9.3637e-06  1.2218e-05  2.5486e-06  5.5824e-06     ...       \n",
       "1  7.6393e-07  9.3637e-06  1.2682e-05  1.7323e-05  2.4122e-05     ...       \n",
       "\n",
       "   2p11.2 10q11.22 17q12.1  12q14.2 8p23.1.1 22q11.23   2q21.2   9q34.3  \\\n",
       "0  0.1303   0.1303  0.1275  0.16224  0.10042  0.13986  0.21838  0.24714   \n",
       "1  0.1303   0.1303  0.1303  0.16224  0.17346  0.17346   0.2452  0.24714   \n",
       "\n",
       "      1p32.1 Unnamed: 39  \n",
       "0  0.0046579         NaN  \n",
       "1    0.40904         NaN  \n",
       "\n",
       "[2 rows x 40 columns]"
      ]
     },
     "execution_count": 529,
     "metadata": {},
     "output_type": "execute_result"
    },
    {
     "data": {
      "text/plain": [
       "39"
      ]
     },
     "execution_count": 529,
     "metadata": {},
     "output_type": "execute_result"
    },
    {
     "data": {
      "text/html": [
       "<div>\n",
       "<style scoped>\n",
       "    .dataframe tbody tr th:only-of-type {\n",
       "        vertical-align: middle;\n",
       "    }\n",
       "\n",
       "    .dataframe tbody tr th {\n",
       "        vertical-align: top;\n",
       "    }\n",
       "\n",
       "    .dataframe thead th {\n",
       "        text-align: right;\n",
       "    }\n",
       "</style>\n",
       "<table border=\"1\" class=\"dataframe\">\n",
       "  <thead>\n",
       "    <tr style=\"text-align: right;\">\n",
       "      <th></th>\n",
       "      <th>cytoband</th>\n",
       "      <th>3p14.2</th>\n",
       "      <th>8p23.1</th>\n",
       "      <th>14q11.2</th>\n",
       "      <th>5q35.3</th>\n",
       "      <th>19q13.31</th>\n",
       "      <th>15q11.2</th>\n",
       "      <th>1q21.1</th>\n",
       "      <th>1q44</th>\n",
       "      <th>1p36.21</th>\n",
       "      <th>...</th>\n",
       "      <th>17q25.3</th>\n",
       "      <th>5q14.2</th>\n",
       "      <th>1p36.13.1</th>\n",
       "      <th>3q29</th>\n",
       "      <th>4q13.2</th>\n",
       "      <th>12p13.2</th>\n",
       "      <th>13q21.32</th>\n",
       "      <th>11q11</th>\n",
       "      <th>20p12.1.1</th>\n",
       "      <th>Unnamed: 53</th>\n",
       "    </tr>\n",
       "  </thead>\n",
       "  <tbody>\n",
       "    <tr>\n",
       "      <th>0</th>\n",
       "      <td>q value</td>\n",
       "      <td>5.0305e-17</td>\n",
       "      <td>4.8388e-18</td>\n",
       "      <td>8.4541e-17</td>\n",
       "      <td>7.8692e-15</td>\n",
       "      <td>3.0018e-16</td>\n",
       "      <td>2.2995e-12</td>\n",
       "      <td>1.9606e-14</td>\n",
       "      <td>8.8408e-17</td>\n",
       "      <td>8.733e-14</td>\n",
       "      <td>...</td>\n",
       "      <td>0.022708</td>\n",
       "      <td>0.097085</td>\n",
       "      <td>1.3168e-07</td>\n",
       "      <td>0.02853</td>\n",
       "      <td>0.16691</td>\n",
       "      <td>0.17806</td>\n",
       "      <td>0.079098</td>\n",
       "      <td>0.070448</td>\n",
       "      <td>0.0010378</td>\n",
       "      <td>NaN</td>\n",
       "    </tr>\n",
       "    <tr>\n",
       "      <th>1</th>\n",
       "      <td>residual q value</td>\n",
       "      <td>5.0305e-17</td>\n",
       "      <td>5.3914e-15</td>\n",
       "      <td>5.3914e-15</td>\n",
       "      <td>7.8692e-15</td>\n",
       "      <td>1.1302e-14</td>\n",
       "      <td>2.2995e-12</td>\n",
       "      <td>2.764e-11</td>\n",
       "      <td>3.3029e-10</td>\n",
       "      <td>3.0489e-09</td>\n",
       "      <td>...</td>\n",
       "      <td>0.090599</td>\n",
       "      <td>0.097085</td>\n",
       "      <td>0.13188</td>\n",
       "      <td>0.14221</td>\n",
       "      <td>0.16701</td>\n",
       "      <td>0.17806</td>\n",
       "      <td>0.20409</td>\n",
       "      <td>0.21543</td>\n",
       "      <td>1</td>\n",
       "      <td>NaN</td>\n",
       "    </tr>\n",
       "  </tbody>\n",
       "</table>\n",
       "<p>2 rows × 54 columns</p>\n",
       "</div>"
      ],
      "text/plain": [
       "           cytoband      3p14.2      8p23.1     14q11.2      5q35.3  \\\n",
       "0           q value  5.0305e-17  4.8388e-18  8.4541e-17  7.8692e-15   \n",
       "1  residual q value  5.0305e-17  5.3914e-15  5.3914e-15  7.8692e-15   \n",
       "\n",
       "     19q13.31     15q11.2      1q21.1        1q44     1p36.21     ...      \\\n",
       "0  3.0018e-16  2.2995e-12  1.9606e-14  8.8408e-17   8.733e-14     ...       \n",
       "1  1.1302e-14  2.2995e-12   2.764e-11  3.3029e-10  3.0489e-09     ...       \n",
       "\n",
       "    17q25.3    5q14.2   1p36.13.1     3q29   4q13.2  12p13.2  13q21.32  \\\n",
       "0  0.022708  0.097085  1.3168e-07  0.02853  0.16691  0.17806  0.079098   \n",
       "1  0.090599  0.097085     0.13188  0.14221  0.16701  0.17806   0.20409   \n",
       "\n",
       "      11q11  20p12.1.1 Unnamed: 53  \n",
       "0  0.070448  0.0010378         NaN  \n",
       "1   0.21543          1         NaN  \n",
       "\n",
       "[2 rows x 54 columns]"
      ]
     },
     "execution_count": 529,
     "metadata": {},
     "output_type": "execute_result"
    },
    {
     "data": {
      "text/plain": [
       "53"
      ]
     },
     "execution_count": 529,
     "metadata": {},
     "output_type": "execute_result"
    }
   ],
   "source": [
    "hivpos_band_amps = pd.read_csv(hivpos_ampf, sep='\\t')\n",
    "hivpos_band_amps[:2]\n",
    "hivpos_amps_bands = hivpos_band_amps.columns.tolist()\n",
    "hivpos_amps_bands.remove('cytoband')\n",
    "len(hivpos_amps_bands)\n",
    "\n",
    "hivpos_band_dels = pd.read_csv(hivpos_delf, sep='\\t')\n",
    "hivpos_band_dels[:2]\n",
    "hivpos_dels_bands = hivpos_band_dels.columns.tolist()\n",
    "hivpos_dels_bands.remove('cytoband')\n",
    "len(set(hivpos_dels_bands))\n",
    "\n"
   ]
  },
  {
   "cell_type": "code",
   "execution_count": 525,
   "metadata": {},
   "outputs": [
    {
     "data": {
      "text/html": [
       "<div>\n",
       "<style scoped>\n",
       "    .dataframe tbody tr th:only-of-type {\n",
       "        vertical-align: middle;\n",
       "    }\n",
       "\n",
       "    .dataframe tbody tr th {\n",
       "        vertical-align: top;\n",
       "    }\n",
       "\n",
       "    .dataframe thead th {\n",
       "        text-align: right;\n",
       "    }\n",
       "</style>\n",
       "<table border=\"1\" class=\"dataframe\">\n",
       "  <thead>\n",
       "    <tr style=\"text-align: right;\">\n",
       "      <th></th>\n",
       "      <th>cytoband</th>\n",
       "      <th>5p15.33</th>\n",
       "      <th>14q11.2</th>\n",
       "      <th>19q13.42</th>\n",
       "      <th>3q29</th>\n",
       "      <th>15q11.2</th>\n",
       "      <th>13q11</th>\n",
       "      <th>11q22.2</th>\n",
       "      <th>19q11</th>\n",
       "      <th>1q44</th>\n",
       "      <th>...</th>\n",
       "      <th>15q26.1</th>\n",
       "      <th>10p11.1</th>\n",
       "      <th>2p24.3</th>\n",
       "      <th>8p23.1.1</th>\n",
       "      <th>1q21.3</th>\n",
       "      <th>12q21.1</th>\n",
       "      <th>1p11.2</th>\n",
       "      <th>10q26.3</th>\n",
       "      <th>12q14.2</th>\n",
       "      <th>Unnamed: 28</th>\n",
       "    </tr>\n",
       "  </thead>\n",
       "  <tbody>\n",
       "    <tr>\n",
       "      <th>0</th>\n",
       "      <td>q value</td>\n",
       "      <td>1.3354e-06</td>\n",
       "      <td>6.0142e-05</td>\n",
       "      <td>3.417e-05</td>\n",
       "      <td>2.3008e-05</td>\n",
       "      <td>0.00046882</td>\n",
       "      <td>0.0010876</td>\n",
       "      <td>0.0012687</td>\n",
       "      <td>0.00099777</td>\n",
       "      <td>0.0046513</td>\n",
       "      <td>...</td>\n",
       "      <td>0.050903</td>\n",
       "      <td>0.067496</td>\n",
       "      <td>0.070447</td>\n",
       "      <td>0.011103</td>\n",
       "      <td>0.047194</td>\n",
       "      <td>0.067496</td>\n",
       "      <td>0.14289</td>\n",
       "      <td>0.19065</td>\n",
       "      <td>0.068611</td>\n",
       "      <td>NaN</td>\n",
       "    </tr>\n",
       "    <tr>\n",
       "      <th>1</th>\n",
       "      <td>residual q value</td>\n",
       "      <td>1.7524e-06</td>\n",
       "      <td>6.0142e-05</td>\n",
       "      <td>8.6763e-05</td>\n",
       "      <td>0.00034908</td>\n",
       "      <td>0.00069626</td>\n",
       "      <td>0.0010876</td>\n",
       "      <td>0.0012687</td>\n",
       "      <td>0.0013604</td>\n",
       "      <td>0.0058579</td>\n",
       "      <td>...</td>\n",
       "      <td>0.057816</td>\n",
       "      <td>0.067496</td>\n",
       "      <td>0.070447</td>\n",
       "      <td>0.07128</td>\n",
       "      <td>0.077684</td>\n",
       "      <td>0.086665</td>\n",
       "      <td>0.15357</td>\n",
       "      <td>0.19065</td>\n",
       "      <td>0.20017</td>\n",
       "      <td>NaN</td>\n",
       "    </tr>\n",
       "  </tbody>\n",
       "</table>\n",
       "<p>2 rows × 29 columns</p>\n",
       "</div>"
      ],
      "text/plain": [
       "           cytoband     5p15.33     14q11.2    19q13.42        3q29  \\\n",
       "0           q value  1.3354e-06  6.0142e-05   3.417e-05  2.3008e-05   \n",
       "1  residual q value  1.7524e-06  6.0142e-05  8.6763e-05  0.00034908   \n",
       "\n",
       "      15q11.2      13q11    11q22.2       19q11       1q44     ...      \\\n",
       "0  0.00046882  0.0010876  0.0012687  0.00099777  0.0046513     ...       \n",
       "1  0.00069626  0.0010876  0.0012687   0.0013604  0.0058579     ...       \n",
       "\n",
       "    15q26.1   10p11.1    2p24.3  8p23.1.1    1q21.3   12q21.1   1p11.2  \\\n",
       "0  0.050903  0.067496  0.070447  0.011103  0.047194  0.067496  0.14289   \n",
       "1  0.057816  0.067496  0.070447   0.07128  0.077684  0.086665  0.15357   \n",
       "\n",
       "   10q26.3   12q14.2 Unnamed: 28  \n",
       "0  0.19065  0.068611         NaN  \n",
       "1  0.19065   0.20017         NaN  \n",
       "\n",
       "[2 rows x 29 columns]"
      ]
     },
     "execution_count": 525,
     "metadata": {},
     "output_type": "execute_result"
    },
    {
     "data": {
      "text/plain": [
       "28"
      ]
     },
     "execution_count": 525,
     "metadata": {},
     "output_type": "execute_result"
    },
    {
     "data": {
      "text/html": [
       "<div>\n",
       "<style scoped>\n",
       "    .dataframe tbody tr th:only-of-type {\n",
       "        vertical-align: middle;\n",
       "    }\n",
       "\n",
       "    .dataframe tbody tr th {\n",
       "        vertical-align: top;\n",
       "    }\n",
       "\n",
       "    .dataframe thead th {\n",
       "        text-align: right;\n",
       "    }\n",
       "</style>\n",
       "<table border=\"1\" class=\"dataframe\">\n",
       "  <thead>\n",
       "    <tr style=\"text-align: right;\">\n",
       "      <th></th>\n",
       "      <th>cytoband</th>\n",
       "      <th>8p23.1</th>\n",
       "      <th>1q21.1</th>\n",
       "      <th>5q35.3</th>\n",
       "      <th>19q13.31</th>\n",
       "      <th>9p11.2</th>\n",
       "      <th>14q11.2</th>\n",
       "      <th>15q11.1</th>\n",
       "      <th>6p22.1</th>\n",
       "      <th>19p12</th>\n",
       "      <th>...</th>\n",
       "      <th>11q21</th>\n",
       "      <th>13q13.2</th>\n",
       "      <th>17q21.2</th>\n",
       "      <th>4q35.2</th>\n",
       "      <th>13q13.1</th>\n",
       "      <th>4p16.1</th>\n",
       "      <th>7q33</th>\n",
       "      <th>15q11.2</th>\n",
       "      <th>15q14</th>\n",
       "      <th>Unnamed: 45</th>\n",
       "    </tr>\n",
       "  </thead>\n",
       "  <tbody>\n",
       "    <tr>\n",
       "      <th>0</th>\n",
       "      <td>q value</td>\n",
       "      <td>4.2144e-11</td>\n",
       "      <td>4.2144e-11</td>\n",
       "      <td>2.019e-09</td>\n",
       "      <td>1.4513e-09</td>\n",
       "      <td>3.809e-09</td>\n",
       "      <td>1.4513e-09</td>\n",
       "      <td>1.7752e-10</td>\n",
       "      <td>1.8776e-06</td>\n",
       "      <td>1.9475e-05</td>\n",
       "      <td>...</td>\n",
       "      <td>0.090825</td>\n",
       "      <td>0.027355</td>\n",
       "      <td>0.0948</td>\n",
       "      <td>0.10307</td>\n",
       "      <td>0.0067496</td>\n",
       "      <td>0.044067</td>\n",
       "      <td>0.21196</td>\n",
       "      <td>4.2144e-11</td>\n",
       "      <td>0.002349</td>\n",
       "      <td>NaN</td>\n",
       "    </tr>\n",
       "    <tr>\n",
       "      <th>1</th>\n",
       "      <td>residual q value</td>\n",
       "      <td>5.7312e-10</td>\n",
       "      <td>1.309e-09</td>\n",
       "      <td>2.019e-09</td>\n",
       "      <td>2.9114e-09</td>\n",
       "      <td>3.809e-09</td>\n",
       "      <td>1.3537e-08</td>\n",
       "      <td>7.6998e-08</td>\n",
       "      <td>1.8776e-06</td>\n",
       "      <td>1.9475e-05</td>\n",
       "      <td>...</td>\n",
       "      <td>0.095384</td>\n",
       "      <td>0.095384</td>\n",
       "      <td>0.095384</td>\n",
       "      <td>0.098725</td>\n",
       "      <td>0.098725</td>\n",
       "      <td>0.12442</td>\n",
       "      <td>0.21205</td>\n",
       "      <td>0.3104</td>\n",
       "      <td>0.63404</td>\n",
       "      <td>NaN</td>\n",
       "    </tr>\n",
       "  </tbody>\n",
       "</table>\n",
       "<p>2 rows × 46 columns</p>\n",
       "</div>"
      ],
      "text/plain": [
       "           cytoband      8p23.1      1q21.1     5q35.3    19q13.31     9p11.2  \\\n",
       "0           q value  4.2144e-11  4.2144e-11  2.019e-09  1.4513e-09  3.809e-09   \n",
       "1  residual q value  5.7312e-10   1.309e-09  2.019e-09  2.9114e-09  3.809e-09   \n",
       "\n",
       "      14q11.2     15q11.1      6p22.1       19p12     ...         11q21  \\\n",
       "0  1.4513e-09  1.7752e-10  1.8776e-06  1.9475e-05     ...      0.090825   \n",
       "1  1.3537e-08  7.6998e-08  1.8776e-06  1.9475e-05     ...      0.095384   \n",
       "\n",
       "    13q13.2   17q21.2    4q35.2    13q13.1    4p16.1     7q33     15q11.2  \\\n",
       "0  0.027355    0.0948   0.10307  0.0067496  0.044067  0.21196  4.2144e-11   \n",
       "1  0.095384  0.095384  0.098725   0.098725   0.12442  0.21205      0.3104   \n",
       "\n",
       "      15q14 Unnamed: 45  \n",
       "0  0.002349         NaN  \n",
       "1   0.63404         NaN  \n",
       "\n",
       "[2 rows x 46 columns]"
      ]
     },
     "execution_count": 525,
     "metadata": {},
     "output_type": "execute_result"
    },
    {
     "data": {
      "text/plain": [
       "45"
      ]
     },
     "execution_count": 525,
     "metadata": {},
     "output_type": "execute_result"
    }
   ],
   "source": [
    "hivneg_band_amps = pd.read_csv(hivneg_ampf, sep='\\t')\n",
    "hivneg_band_amps[:2]\n",
    "hivneg_amps_bands = hivneg_band_amps.columns.tolist()\n",
    "hivneg_amps_bands.remove('cytoband')\n",
    "len(hivneg_amps_bands)\n",
    "\n",
    "hivneg_band_dels = pd.read_csv(hivneg_delf, sep='\\t')\n",
    "hivneg_band_dels[:2]\n",
    "hivneg_dels_bands = hivneg_band_dels.columns.tolist()\n",
    "hivneg_dels_bands.remove('cytoband')\n",
    "len(hivneg_dels_bands)\n",
    "\n"
   ]
  },
  {
   "cell_type": "code",
   "execution_count": 532,
   "metadata": {},
   "outputs": [
    {
     "data": {
      "text/plain": [
       "(34, 4)"
      ]
     },
     "execution_count": 532,
     "metadata": {},
     "output_type": "execute_result"
    },
    {
     "data": {
      "text/plain": [
       "(45, 4)"
      ]
     },
     "execution_count": 532,
     "metadata": {},
     "output_type": "execute_result"
    }
   ],
   "source": [
    "hivpos_amp_bands_toplot = cytobands[cytobands.cytoband.isin(hivpos_amps_bands)]\n",
    "hivpos_del_bands_toplot = cytobands[cytobands.cytoband.isin(hivpos_dels_bands)]\n",
    "hivpos_amp_bands_toplot.shape\n",
    "hivpos_del_bands_toplot.shape"
   ]
  },
  {
   "cell_type": "code",
   "execution_count": 533,
   "metadata": {},
   "outputs": [
    {
     "data": {
      "text/plain": [
       "(26, 4)"
      ]
     },
     "execution_count": 533,
     "metadata": {},
     "output_type": "execute_result"
    },
    {
     "data": {
      "text/plain": [
       "(42, 4)"
      ]
     },
     "execution_count": 533,
     "metadata": {},
     "output_type": "execute_result"
    }
   ],
   "source": [
    "hivneg_amp_bands_toplot = cytobands[cytobands.cytoband.isin(hivneg_amps_bands)]\n",
    "hivneg_del_bands_toplot = cytobands[cytobands.cytoband.isin(hivneg_dels_bands)]\n",
    "hivneg_amp_bands_toplot.shape\n",
    "hivneg_del_bands_toplot.shape"
   ]
  },
  {
   "cell_type": "markdown",
   "metadata": {},
   "source": [
    "# final plot"
   ]
  },
  {
   "cell_type": "markdown",
   "metadata": {},
   "source": [
    "## get all files"
   ]
  },
  {
   "cell_type": "markdown",
   "metadata": {},
   "source": []
  },
  {
   "cell_type": "code",
   "execution_count": null,
   "metadata": {},
   "outputs": [],
   "source": [
    "# tcga\n",
    "f = f'{wkdir}tcga_cnv_amps_bins_1kb.txt.patients'\n",
    "tcga_recur_amps = pd.read_csv(f, sep='\\t')\n",
    "f = f'{wkdir}tcga_cnv_dels_bins_1kb.txt.patients'\n",
    "tcga_recur_dels = pd.read_csv(f, sep='\\t')\n",
    "\n",
    "# hiv pos \n",
    "f = f'{wkdir}htmcp_hiv_pos_cnv_amps_bins_1kb.txt.patients'\n",
    "htmcp_hiv_pos_recur_amps = pd.read_csv(f, sep='\\t')\n",
    "f = f'{wkdir}htmcp_hiv_pos_cnv_dels_bins_1kb.txt.patients'\n",
    "htmcp_hiv_pos_recur_dels = pd.read_csv(f, sep='\\t')\n",
    "\n",
    "# hiv neg\n",
    "f = f'{wkdir}htmcp_hiv_neg_cnv_amps_bins_1kb.txt.patients'\n",
    "htmcp_hiv_neg_recur_amps = pd.read_csv(f, sep='\\t')\n",
    "f = f'{wkdir}htmcp_hiv_neg_cnv_dels_bins_1kb.txt.patients'\n",
    "htmcp_hiv_neg_recur_dels = pd.read_csv(f, sep='\\t')\n",
    "\n"
   ]
  },
  {
   "cell_type": "code",
   "execution_count": 34,
   "metadata": {},
   "outputs": [
    {
     "data": {
      "text/html": [
       "<div>\n",
       "<style scoped>\n",
       "    .dataframe tbody tr th:only-of-type {\n",
       "        vertical-align: middle;\n",
       "    }\n",
       "\n",
       "    .dataframe tbody tr th {\n",
       "        vertical-align: top;\n",
       "    }\n",
       "\n",
       "    .dataframe thead th {\n",
       "        text-align: right;\n",
       "    }\n",
       "</style>\n",
       "<table border=\"1\" class=\"dataframe\">\n",
       "  <thead>\n",
       "    <tr style=\"text-align: right;\">\n",
       "      <th></th>\n",
       "      <th>chrom</th>\n",
       "      <th>arm</th>\n",
       "      <th>start</th>\n",
       "      <th>end</th>\n",
       "      <th>chr_arm</th>\n",
       "    </tr>\n",
       "  </thead>\n",
       "  <tbody>\n",
       "    <tr>\n",
       "      <th>0</th>\n",
       "      <td>1</td>\n",
       "      <td>p</td>\n",
       "      <td>1</td>\n",
       "      <td>125000000</td>\n",
       "      <td>1p</td>\n",
       "    </tr>\n",
       "    <tr>\n",
       "      <th>1</th>\n",
       "      <td>1</td>\n",
       "      <td>q</td>\n",
       "      <td>125000001</td>\n",
       "      <td>249250621</td>\n",
       "      <td>1q</td>\n",
       "    </tr>\n",
       "  </tbody>\n",
       "</table>\n",
       "</div>"
      ],
      "text/plain": [
       "   chrom arm      start        end chr_arm\n",
       "0      1   p          1  125000000      1p\n",
       "1      1   q  125000001  249250621      1q"
      ]
     },
     "execution_count": 34,
     "metadata": {},
     "output_type": "execute_result"
    }
   ],
   "source": [
    "# chromosome arm coordinates\n",
    "f = f'{wkdir}chromosome_arm_coordinates.txt'\n",
    "chr_arms = pd.read_csv(f, sep='\\t')\n",
    "chr_arms[:2]\n",
    "\n",
    "# unique arm level alterations\n",
    "of = f'{wkdir}hivpos_uniqamp_arms.txt'\n",
    "of = f'{wkdir}hivneg_uniqamp_arms.txt'\n",
    "of = f'{wkdir}hivpos_uniqdel_arms.txt'\n",
    "of = f'{wkdir}hivneg_uniqdel_arms.txt'\n"
   ]
  },
  {
   "cell_type": "code",
   "execution_count": null,
   "metadata": {},
   "outputs": [],
   "source": []
  },
  {
   "cell_type": "code",
   "execution_count": null,
   "metadata": {},
   "outputs": [],
   "source": []
  },
  {
   "cell_type": "code",
   "execution_count": 29,
   "metadata": {
    "scrolled": true
   },
   "outputs": [
    {
     "data": {
      "text/plain": [
       "(0.0, 1.0, 0.0, 1.0)"
      ]
     },
     "execution_count": 29,
     "metadata": {},
     "output_type": "execute_result"
    },
    {
     "data": {
      "image/png": "[encoded data removed]",
      "text/plain": [
       "<Figure size 1152x720 with 4 Axes>"
      ]
     },
     "metadata": {},
     "output_type": "display_data"
    }
   ],
   "source": [
    "baseline = 0.8\n",
    "fig = plt.figure(figsize=(16, 10), facecolor='white')\n",
    "gs = gridspec.GridSpec(5, 1, height_ratios=[1, 6, 6, 6, 6], \n",
    "                       hspace=0.02)  # vertical space\n",
    "\n",
    "# plot chromosome names\n",
    "ax0 = plt.subplot(gs[0], facecolor='white')\n",
    "ax0.axis('off')\n",
    "for vl in vlns:\n",
    "    _ = ax0.vlines(vl, 0, 1.6, color='white', linestyle='--', linewidth=.5)\n",
    "\n",
    "# print(vlns, mpnts)\n",
    "for (ch, mpnt) in enumerate(mpnts):\n",
    "#     print(int(m), int(ch))\n",
    "    _ = ax0.text(int(mpnt), 0.5, int(ch)+1, ha='center') \n",
    "\n",
    "# plot tcga cnvs\n",
    "ax1 = plt.subplot(gs[1], facecolor='white')\n",
    "plot_cnv(ax1, baseline, tcga_recur_amps, tcga_recur_dels, num_tcga_patients, vlns)\n",
    "\n",
    "\n",
    "\n",
    "# # plot htmcp cnvs 118 patients\n",
    "# ax2 = plt.subplot(gs[2], facecolor='white')\n",
    "# plot_cnv(ax2, baseline, htmcp_recur_amps, htmcp_recur_dels, num_htmcp_patients, vlns)\n",
    "\n",
    "\n",
    "# plot htmcp cnvs hiv+ 73 patients\n",
    "ax2 = plt.subplot(gs[2], facecolor='white')\n",
    "plot_cnv(ax2, baseline, htmcp_hiv_pos_recur_amps, htmcp_hiv_pos_recur_dels, num_htmcp_hiv_pos_patients, vlns)\n",
    "\n",
    "\n",
    "# plot htmcp cnvs hiv+ 45 patients\n",
    "ax3 = plt.subplot(gs[3], facecolor='white')\n",
    "plot_cnv(ax3, baseline, htmcp_hiv_neg_recur_amps, htmcp_hiv_neg_recur_dels, num_htmcp_hiv_neg_patients, vlns)\n",
    "\n",
    "# # plot cn significantly altered cytobands\n",
    "# ax4 = plt.subplot(gs[4], facecolor='white')\n",
    "# ax4.axis('off')\n",
    "# for vl in vlns:\n",
    "#     _ = ax4.vlines(vl, 0, 1.6, color='gray', linestyle='--', linewidth=.5)\n",
    "# plot_cytobands(tcga_amp_bands_toplot, ax4, 'red', 1.0)\n",
    "# plot_cytobands(hivpos_amp_bands_toplot, ax4, 'red', 0.9)\n",
    "# plot_cytobands(hivpos_amp_bands_toplot, ax4, 'red', 0.8)\n",
    "\n",
    "# plot_cytobands(tcga_del_bands_toplot, ax4, 'blue', 0.6)\n",
    "# plot_cytobands(hivpos_del_bands_toplot, ax4, 'blue', 0.5)\n",
    "# plot_cytobands(hivpos_amp_bands_toplot, ax4, 'blue', 0.4)\n",
    "\n",
    "\n",
    "# plt.savefig(f'{wkdir}cnvs_publication.png', dpi=300, bbox_inches='tight')"
   ]
  },
  {
   "cell_type": "code",
   "execution_count": 36,
   "metadata": {},
   "outputs": [
    {
     "data": {
      "text/html": [
       "<div>\n",
       "<style scoped>\n",
       "    .dataframe tbody tr th:only-of-type {\n",
       "        vertical-align: middle;\n",
       "    }\n",
       "\n",
       "    .dataframe tbody tr th {\n",
       "        vertical-align: top;\n",
       "    }\n",
       "\n",
       "    .dataframe thead th {\n",
       "        text-align: right;\n",
       "    }\n",
       "</style>\n",
       "<table border=\"1\" class=\"dataframe\">\n",
       "  <thead>\n",
       "    <tr style=\"text-align: right;\">\n",
       "      <th></th>\n",
       "      <th>Arm</th>\n",
       "      <th># Genes</th>\n",
       "      <th>Amp frequency</th>\n",
       "      <th>Amp z-score</th>\n",
       "      <th>Amp q-value</th>\n",
       "      <th>Del Frequency</th>\n",
       "      <th>Del z-score</th>\n",
       "      <th>Del q-value</th>\n",
       "    </tr>\n",
       "  </thead>\n",
       "  <tbody>\n",
       "    <tr>\n",
       "      <th>0</th>\n",
       "      <td>1p</td>\n",
       "      <td>2121</td>\n",
       "      <td>0.48</td>\n",
       "      <td>3.16</td>\n",
       "      <td>0.003890</td>\n",
       "      <td>0.17</td>\n",
       "      <td>-1.78</td>\n",
       "      <td>0.998</td>\n",
       "    </tr>\n",
       "    <tr>\n",
       "      <th>1</th>\n",
       "      <td>1q</td>\n",
       "      <td>1955</td>\n",
       "      <td>0.59</td>\n",
       "      <td>5.08</td>\n",
       "      <td>0.000004</td>\n",
       "      <td>0.06</td>\n",
       "      <td>-2.92</td>\n",
       "      <td>0.998</td>\n",
       "    </tr>\n",
       "  </tbody>\n",
       "</table>\n",
       "</div>"
      ],
      "text/plain": [
       "  Arm  # Genes  Amp frequency  Amp z-score  Amp q-value  Del Frequency  \\\n",
       "0  1p     2121           0.48         3.16     0.003890           0.17   \n",
       "1  1q     1955           0.59         5.08     0.000004           0.06   \n",
       "\n",
       "   Del z-score  Del q-value  \n",
       "0        -1.78        0.998  \n",
       "1        -2.92        0.998  "
      ]
     },
     "execution_count": 36,
     "metadata": {},
     "output_type": "execute_result"
    },
    {
     "data": {
      "text/html": [
       "<div>\n",
       "<style scoped>\n",
       "    .dataframe tbody tr th:only-of-type {\n",
       "        vertical-align: middle;\n",
       "    }\n",
       "\n",
       "    .dataframe tbody tr th {\n",
       "        vertical-align: top;\n",
       "    }\n",
       "\n",
       "    .dataframe thead th {\n",
       "        text-align: right;\n",
       "    }\n",
       "</style>\n",
       "<table border=\"1\" class=\"dataframe\">\n",
       "  <thead>\n",
       "    <tr style=\"text-align: right;\">\n",
       "      <th></th>\n",
       "      <th>Arm</th>\n",
       "      <th># Genes</th>\n",
       "      <th>Amp frequency</th>\n",
       "      <th>Amp z-score</th>\n",
       "      <th>Amp q-value</th>\n",
       "      <th>Del Frequency</th>\n",
       "      <th>Del z-score</th>\n",
       "      <th>Del q-value</th>\n",
       "    </tr>\n",
       "  </thead>\n",
       "  <tbody>\n",
       "    <tr>\n",
       "      <th>0</th>\n",
       "      <td>1p</td>\n",
       "      <td>2121</td>\n",
       "      <td>0.48</td>\n",
       "      <td>3.16</td>\n",
       "      <td>0.003890</td>\n",
       "      <td>0.17</td>\n",
       "      <td>-1.78</td>\n",
       "      <td>0.998</td>\n",
       "    </tr>\n",
       "    <tr>\n",
       "      <th>1</th>\n",
       "      <td>1q</td>\n",
       "      <td>1955</td>\n",
       "      <td>0.59</td>\n",
       "      <td>5.08</td>\n",
       "      <td>0.000004</td>\n",
       "      <td>0.06</td>\n",
       "      <td>-2.92</td>\n",
       "      <td>0.998</td>\n",
       "    </tr>\n",
       "  </tbody>\n",
       "</table>\n",
       "</div>"
      ],
      "text/plain": [
       "  Arm  # Genes  Amp frequency  Amp z-score  Amp q-value  Del Frequency  \\\n",
       "0  1p     2121           0.48         3.16     0.003890           0.17   \n",
       "1  1q     1955           0.59         5.08     0.000004           0.06   \n",
       "\n",
       "   Del z-score  Del q-value  \n",
       "0        -1.78        0.998  \n",
       "1        -2.92        0.998  "
      ]
     },
     "execution_count": 36,
     "metadata": {},
     "output_type": "execute_result"
    }
   ],
   "source": [
    "htmcp_hivpos_arm_ampf = '/home/szong/bin/GISTIC_2_0_22/gatk_118_HIV_pos/broad_significance_results.txt'\n",
    "htmcp_hivpos_arm_ampdf = pd.read_csv(htmcp_hivpos_arm_ampf, sep='\\t')\n",
    "htmcp_hivpos_arm_ampdf[:2]\n",
    "\n",
    "htmcp_hivpos_arm_ampdf = htmcp_hivpos_arm_ampdf[(htmcp_hivpos_arm_ampdf['Amp q-value'] <=0.25)]\n",
    "#                                                 |(htmcp_hivpos_arm_ampdf['Del q-value'] <=0.25)]\n",
    "\n",
    "\n",
    "htmcp_hivpos_arm_ampdf[:2]"
   ]
  },
  {
   "cell_type": "code",
   "execution_count": 37,
   "metadata": {},
   "outputs": [
    {
     "data": {
      "text/html": [
       "<div>\n",
       "<style scoped>\n",
       "    .dataframe tbody tr th:only-of-type {\n",
       "        vertical-align: middle;\n",
       "    }\n",
       "\n",
       "    .dataframe tbody tr th {\n",
       "        vertical-align: top;\n",
       "    }\n",
       "\n",
       "    .dataframe thead th {\n",
       "        text-align: right;\n",
       "    }\n",
       "</style>\n",
       "<table border=\"1\" class=\"dataframe\">\n",
       "  <thead>\n",
       "    <tr style=\"text-align: right;\">\n",
       "      <th></th>\n",
       "      <th>Arm</th>\n",
       "      <th># Genes</th>\n",
       "      <th>Amp frequency</th>\n",
       "      <th>Amp z-score</th>\n",
       "      <th>Amp q-value</th>\n",
       "      <th>Del Frequency</th>\n",
       "      <th>Del z-score</th>\n",
       "      <th>Del q-value</th>\n",
       "    </tr>\n",
       "  </thead>\n",
       "  <tbody>\n",
       "    <tr>\n",
       "      <th>0</th>\n",
       "      <td>1p</td>\n",
       "      <td>2121</td>\n",
       "      <td>0.51</td>\n",
       "      <td>2.90</td>\n",
       "      <td>9.360000e-03</td>\n",
       "      <td>0.31</td>\n",
       "      <td>0.131</td>\n",
       "      <td>0.993</td>\n",
       "    </tr>\n",
       "    <tr>\n",
       "      <th>1</th>\n",
       "      <td>1q</td>\n",
       "      <td>1955</td>\n",
       "      <td>0.75</td>\n",
       "      <td>6.58</td>\n",
       "      <td>4.760000e-10</td>\n",
       "      <td>0.08</td>\n",
       "      <td>-1.620</td>\n",
       "      <td>0.993</td>\n",
       "    </tr>\n",
       "  </tbody>\n",
       "</table>\n",
       "</div>"
      ],
      "text/plain": [
       "  Arm  # Genes  Amp frequency  Amp z-score   Amp q-value  Del Frequency  \\\n",
       "0  1p     2121           0.51         2.90  9.360000e-03           0.31   \n",
       "1  1q     1955           0.75         6.58  4.760000e-10           0.08   \n",
       "\n",
       "   Del z-score  Del q-value  \n",
       "0        0.131        0.993  \n",
       "1       -1.620        0.993  "
      ]
     },
     "execution_count": 37,
     "metadata": {},
     "output_type": "execute_result"
    },
    {
     "data": {
      "text/html": [
       "<div>\n",
       "<style scoped>\n",
       "    .dataframe tbody tr th:only-of-type {\n",
       "        vertical-align: middle;\n",
       "    }\n",
       "\n",
       "    .dataframe tbody tr th {\n",
       "        vertical-align: top;\n",
       "    }\n",
       "\n",
       "    .dataframe thead th {\n",
       "        text-align: right;\n",
       "    }\n",
       "</style>\n",
       "<table border=\"1\" class=\"dataframe\">\n",
       "  <thead>\n",
       "    <tr style=\"text-align: right;\">\n",
       "      <th></th>\n",
       "      <th>Arm</th>\n",
       "      <th># Genes</th>\n",
       "      <th>Amp frequency</th>\n",
       "      <th>Amp z-score</th>\n",
       "      <th>Amp q-value</th>\n",
       "      <th>Del Frequency</th>\n",
       "      <th>Del z-score</th>\n",
       "      <th>Del q-value</th>\n",
       "    </tr>\n",
       "  </thead>\n",
       "  <tbody>\n",
       "    <tr>\n",
       "      <th>0</th>\n",
       "      <td>1p</td>\n",
       "      <td>2121</td>\n",
       "      <td>0.51</td>\n",
       "      <td>2.90</td>\n",
       "      <td>9.360000e-03</td>\n",
       "      <td>0.31</td>\n",
       "      <td>0.131</td>\n",
       "      <td>0.993</td>\n",
       "    </tr>\n",
       "    <tr>\n",
       "      <th>1</th>\n",
       "      <td>1q</td>\n",
       "      <td>1955</td>\n",
       "      <td>0.75</td>\n",
       "      <td>6.58</td>\n",
       "      <td>4.760000e-10</td>\n",
       "      <td>0.08</td>\n",
       "      <td>-1.620</td>\n",
       "      <td>0.993</td>\n",
       "    </tr>\n",
       "  </tbody>\n",
       "</table>\n",
       "</div>"
      ],
      "text/plain": [
       "  Arm  # Genes  Amp frequency  Amp z-score   Amp q-value  Del Frequency  \\\n",
       "0  1p     2121           0.51         2.90  9.360000e-03           0.31   \n",
       "1  1q     1955           0.75         6.58  4.760000e-10           0.08   \n",
       "\n",
       "   Del z-score  Del q-value  \n",
       "0        0.131        0.993  \n",
       "1       -1.620        0.993  "
      ]
     },
     "execution_count": 37,
     "metadata": {},
     "output_type": "execute_result"
    }
   ],
   "source": [
    "htmcp_hivneg_arm_ampf = '/home/szong/bin/GISTIC_2_0_22/gatk_118_HIV_neg/broad_significance_results.txt'\n",
    "htmcp_hivneg_arm_ampdf = pd.read_csv(htmcp_hivneg_arm_ampf, sep='\\t')\n",
    "htmcp_hivneg_arm_ampdf[:2]\n",
    "\n",
    "htmcp_hivneg_arm_ampdf = htmcp_hivneg_arm_ampdf[(htmcp_hivneg_arm_ampdf['Amp q-value'] <=0.25)]\n",
    "# |(htmcp_hivneg_arm_ampdf['Del q-value'] <=0.25)]\n",
    "\n",
    "\n",
    "htmcp_hivneg_arm_ampdf[:2]"
   ]
  },
  {
   "cell_type": "code",
   "execution_count": 365,
   "metadata": {},
   "outputs": [],
   "source": [
    "# _ = axhline(baseline, color='black', linewidth=.7)\n",
    "# _ = axhline(baseline + 1, color='gray', linestyle='--', linewidth=.5)\n",
    "# _ = axhline(baseline - 1, color='gray', linestyle='--', linewidth=.5)\n",
    "# coordinates, fractions = get_coordinates_fractions(tcga_recur_amps, num_tcga_patients)\n",
    "# plot_fraction(coordinates, fractions, baseline, 'amps', ax)\n",
    "# coordinates, fractions = get_coordinates_fractions(tcga_recur_dels, num_tcga_patients)\n",
    "# plot_fraction(coordinates, fractions, baseline, 'dels', ax)\n",
    "\n",
    "# #plot htmcp\n",
    "# baseline = 7\n",
    "# _ = axhline(baseline, color='black', linewidth=.7)\n",
    "# _ = axhline(baseline + 1, color='gray', linestyle='--', linewidth=.5)\n",
    "# _ = axhline(baseline - 1, color='gray', linestyle='--', linewidth=.5)\n",
    "# coordinates, fractions = get_coordinates_fractions(htmcp_recur_amps, num_htmcp_patients)\n",
    "# plot_fraction(coordinates, fractions, baseline, 'amps', ax)\n",
    "# coordinates, fractions = get_coordinates_fractions(htmcp_recur_dels, num_htmcp_patients)\n",
    "# plot_fraction(coordinates, fractions, baseline, 'dels', ax)\n",
    "\n",
    "# #plot hiv +\n",
    "# baseline = 5\n",
    "# _ = axhline(baseline, color='black', linewidth=.7)\n",
    "# _ = axhline(baseline + 1, color='gray', linestyle='--', linewidth=.5)\n",
    "# _ = axhline(baseline - 1, color='gray', linestyle='--', linewidth=.5)\n",
    "# coordinates, fractions = get_coordinates_fractions(htmcp_hiv_pos_recur_amps, num_htmcp_hiv_pos_patients)\n",
    "# plot_fraction(coordinates, fractions, baseline, 'amps', ax)\n",
    "# coordinates, fractions = get_coordinates_fractions(htmcp_hiv_pos_recur_dels, num_htmcp_hiv_pos_patients)\n",
    "# plot_fraction(coordinates, fractions, baseline, 'dels', ax)\n",
    "\n",
    "# #plot hiv -\n",
    "# baseline = 3\n",
    "# _ = axhline(baseline, color='black', linewidth=.7)\n",
    "# _ = axhline(baseline + 1, color='gray', linestyle='--', linewidth=.5)\n",
    "# _ = axhline(baseline - 1, color='gray', linestyle='--', linewidth=.5)\n",
    "# coordinates, fractions = get_coordinates_fractions(htmcp_hiv_neg_recur_amps, num_htmcp_hiv_neg_patients)\n",
    "# plot_fraction(coordinates, fractions, baseline, 'amps', ax)\n",
    "# coordinates, fractions = get_coordinates_fractions(htmcp_hiv_neg_recur_dels, num_htmcp_hiv_neg_patients)\n",
    "# plot_fraction(coordinates, fractions, baseline, 'dels', ax)\n",
    "plt.show()"
   ]
  },
  {
   "cell_type": "code",
   "execution_count": 167,
   "metadata": {
    "scrolled": true
   },
   "outputs": [
    {
     "data": {
      "image/png": "[encoded data removed]",
      "text/plain": [
       "<Figure size 1008x576 with 1 Axes>"
      ]
     },
     "metadata": {},
     "output_type": "display_data"
    }
   ],
   "source": [
    "# plot all annoatations\n",
    "plot_genes(ax, df)\n",
    "ax.set_xlim(0,sum(chr_length))\n",
    "ax.set_ylim(0,11)\n",
    "ax.set_xticklabels('')\n",
    "ax.set_yticklabels('')\n",
    "# plt.savefig('{}cnvs_publication.png'.format(wkdir), dpi=300, bbox_inches='tight')\n",
    "plt.show()"
   ]
  },
  {
   "cell_type": "markdown",
   "metadata": {},
   "source": [
    "# remove germline cnv based on TCGA filter list"
   ]
  },
  {
   "cell_type": "code",
   "execution_count": 49,
   "metadata": {},
   "outputs": [
    {
     "data": {
      "text/plain": [
       "0.15905689369599488"
      ]
     },
     "execution_count": 49,
     "metadata": {},
     "output_type": "execute_result"
    },
    {
     "data": {
      "text/plain": [
       "0.20810800023946838"
      ]
     },
     "execution_count": 49,
     "metadata": {},
     "output_type": "execute_result"
    },
    {
     "data": {
      "text/plain": [
       "0.30534214044820496"
      ]
     },
     "execution_count": 49,
     "metadata": {},
     "output_type": "execute_result"
    },
    {
     "data": {
      "text/plain": [
       "0.1354193690008182"
      ]
     },
     "execution_count": 49,
     "metadata": {},
     "output_type": "execute_result"
    },
    {
     "data": {
      "text/plain": [
       "0.4626533012264098"
      ]
     },
     "execution_count": 49,
     "metadata": {},
     "output_type": "execute_result"
    },
    {
     "data": {
      "text/plain": [
       "0.5008829403968565"
      ]
     },
     "execution_count": 49,
     "metadata": {},
     "output_type": "execute_result"
    },
    {
     "data": {
      "text/plain": [
       "0.5775662205297643"
      ]
     },
     "execution_count": 49,
     "metadata": {},
     "output_type": "execute_result"
    },
    {
     "data": {
      "text/plain": [
       "0.8993709283007597"
      ]
     },
     "execution_count": 49,
     "metadata": {},
     "output_type": "execute_result"
    },
    {
     "data": {
      "text/plain": [
       "0.008107653490328007"
      ]
     },
     "execution_count": 49,
     "metadata": {},
     "output_type": "execute_result"
    },
    {
     "data": {
      "text/plain": [
       "0.032413793103448274"
      ]
     },
     "execution_count": 49,
     "metadata": {},
     "output_type": "execute_result"
    },
    {
     "data": {
      "text/plain": [
       "0.12139613120269134"
      ]
     },
     "execution_count": 49,
     "metadata": {},
     "output_type": "execute_result"
    },
    {
     "data": {
      "text/plain": [
       "0.667838519764508"
      ]
     },
     "execution_count": 49,
     "metadata": {},
     "output_type": "execute_result"
    },
    {
     "data": {
      "text/plain": [
       "0.0025063078216989066"
      ]
     },
     "execution_count": 49,
     "metadata": {},
     "output_type": "execute_result"
    }
   ],
   "source": [
    "# [szong@szong01 gatk_118_HIV_pos]$ bedtools intersect -a segmentationfile.seg.sorted -b /projects/trans_scratch/validations/workspace/szong/Cervical/tcga_cn/CNV.hg19.bypos.111213.from.Andrew.Cherniack.txt.sorted -f 0.5 -wa|cut -f 1-3,6|sort -u|wc -l\n",
    "15941/100222\n",
    "# [szong@szong01 gatk_118_HIV_pos]$ bedtools intersect -a segmentationfile.seg.sorted -b /projects/trans_scratch/validations/workspace/szong/Cervical/tcga_cn/CNV.hg19.bypos.111213.from.Andrew.Cherniack.txt.sorted -f 0.25 -wa|cut -f 1-3,6|sort -u|wc -l\n",
    "20857/100222\n",
    "# [szong@szong01 gatk_118_HIV_pos]$ bedtools intersect -a segmentationfile.seg.sorted -b /projects/trans_scratch/validations/workspace/szong/Cervical/tcga_cn/CNV.hg19.bypos.111213.from.Andrew.Cherniack.txt.sorted -f 0.1 -wa|cut -f 1-3,6|sort -u|wc -l\n",
    "30602/100222\n",
    "# [szong@szong01 gatk_118_HIV_pos]$ wc -l segmentationfile.seg.sorted\n",
    "# 0.75 overlap\n",
    "13572/100222 \n",
    "\n",
    "# tcga 50% overlap\n",
    "123924/267855\n",
    "\n",
    "# tcga 25% overlap\n",
    "134164/267855\n",
    "\n",
    "# tcga 10% overlap\n",
    "154704/267855\n",
    "\n",
    "# tcga any overlap\n",
    "240901/267855\n",
    "\n",
    "# overlap with tcga w/o germline cnv seg file\n",
    "#overlap 50%\n",
    "482/59450 \n",
    "# overlap 25%\n",
    "1927/59450 \n",
    "\n",
    "# overlap 10%\n",
    "7217/59450 \n",
    "\n",
    "# any overlap\n",
    "39703/59450\n",
    "\n",
    "# 75% overlap\n",
    "149/59450\n"
   ]
  },
  {
   "cell_type": "code",
   "execution_count": null,
   "metadata": {},
   "outputs": [],
   "source": []
  },
  {
   "cell_type": "code",
   "execution_count": null,
   "metadata": {},
   "outputs": [],
   "source": []
  },
  {
   "cell_type": "code",
   "execution_count": null,
   "metadata": {},
   "outputs": [],
   "source": []
  },
  {
   "cell_type": "code",
   "execution_count": null,
   "metadata": {},
   "outputs": [],
   "source": []
  },
  {
   "cell_type": "markdown",
   "metadata": {},
   "source": [
    "# below are outdated"
   ]
  },
  {
   "cell_type": "markdown",
   "metadata": {},
   "source": [
    "hiv status, need to run for hiv pos and neg seprately and then plot together"
   ]
  },
  {
   "cell_type": "code",
   "execution_count": 4,
   "metadata": {},
   "outputs": [
    {
     "data": {
      "text/html": [
       "<div>\n",
       "<style scoped>\n",
       "    .dataframe tbody tr th:only-of-type {\n",
       "        vertical-align: middle;\n",
       "    }\n",
       "\n",
       "    .dataframe tbody tr th {\n",
       "        vertical-align: top;\n",
       "    }\n",
       "\n",
       "    .dataframe thead th {\n",
       "        text-align: right;\n",
       "    }\n",
       "</style>\n",
       "<table border=\"1\" class=\"dataframe\">\n",
       "  <thead>\n",
       "    <tr style=\"text-align: right;\">\n",
       "      <th></th>\n",
       "      <th>Sample</th>\n",
       "      <th>Chromosome</th>\n",
       "      <th>Start</th>\n",
       "      <th>End</th>\n",
       "      <th>Num_Probes</th>\n",
       "      <th>Segment_Mean</th>\n",
       "    </tr>\n",
       "  </thead>\n",
       "  <tbody>\n",
       "    <tr>\n",
       "      <th>0</th>\n",
       "      <td>TCGA-2W-A8YY-10A-01D-A37M-01</td>\n",
       "      <td>1</td>\n",
       "      <td>3218610</td>\n",
       "      <td>247813706</td>\n",
       "      <td>129020.0</td>\n",
       "      <td>0.0023</td>\n",
       "    </tr>\n",
       "    <tr>\n",
       "      <th>1</th>\n",
       "      <td>TCGA-2W-A8YY-10A-01D-A37M-01</td>\n",
       "      <td>2</td>\n",
       "      <td>484222</td>\n",
       "      <td>197697735</td>\n",
       "      <td>104518.0</td>\n",
       "      <td>0.0041</td>\n",
       "    </tr>\n",
       "  </tbody>\n",
       "</table>\n",
       "</div>"
      ],
      "text/plain": [
       "                         Sample  Chromosome    Start        End  Num_Probes  \\\n",
       "0  TCGA-2W-A8YY-10A-01D-A37M-01           1  3218610  247813706    129020.0   \n",
       "1  TCGA-2W-A8YY-10A-01D-A37M-01           2   484222  197697735    104518.0   \n",
       "\n",
       "   Segment_Mean  \n",
       "0        0.0023  \n",
       "1        0.0041  "
      ]
     },
     "execution_count": 4,
     "metadata": {},
     "output_type": "execute_result"
    }
   ],
   "source": [
    "# tcga cesc snp6 array  copy number segment data\n",
    "# this is the snp6 copy number pipeline description\n",
    "tf = '/projects/trans_scratch/validations/workspace/szong/Cervical/tcga_cn/gdac.broadinstitute.org_CESC.Merge_snp__genome_wide_snp_6__broad_mit_edu__Level_3__segmented_scna_minus_germline_cnv_hg19__seg.Level_3.2016012800.0.0/CESC.snp__genome_wide_snp_6__broad_mit_edu__Level_3__segmented_scna_minus_germline_cnv_hg19__seg.seg.txt'\n",
    "tdf = pd.read_csv(tf, sep='\\t')\n",
    "tdf.head(2)"
   ]
  },
  {
   "cell_type": "code",
   "execution_count": 5,
   "metadata": {
    "scrolled": true
   },
   "outputs": [
    {
     "data": {
      "text/plain": [
       "count    59450.000000\n",
       "mean        -0.277859\n",
       "std          0.909053\n",
       "min         -7.880800\n",
       "25%         -0.578700\n",
       "50%         -0.001300\n",
       "75%          0.059200\n",
       "max          6.388700\n",
       "Name: Segment_Mean, dtype: float64"
      ]
     },
     "execution_count": 5,
     "metadata": {},
     "output_type": "execute_result"
    }
   ],
   "source": [
    "tdf.Segment_Mean.describe()\n"
   ]
  },
  {
   "cell_type": "code",
   "execution_count": 7,
   "metadata": {},
   "outputs": [],
   "source": [
    "# tdf[tdf.Segment_Mean == 0.0000]"
   ]
  },
  {
   "cell_type": "code",
   "execution_count": 8,
   "metadata": {},
   "outputs": [
    {
     "data": {
      "text/plain": [
       "<matplotlib.axes._subplots.AxesSubplot at 0x7ffb70007b70>"
      ]
     },
     "execution_count": 8,
     "metadata": {},
     "output_type": "execute_result"
    },
    {
     "data": {
      "image/png": "[encoded data removed]",
      "text/plain": [
       "<Figure size 432x288 with 1 Axes>"
      ]
     },
     "metadata": {},
     "output_type": "display_data"
    }
   ],
   "source": [
    "tdf.Segment_Mean.hist()"
   ]
  },
  {
   "cell_type": "markdown",
   "metadata": {},
   "source": [
    "what is gain and what is loss? it can not be just >0 and <0, there should be a threshold?, Segment_Mean is log2CN-1"
   ]
  },
  {
   "cell_type": "code",
   "execution_count": 9,
   "metadata": {},
   "outputs": [
    {
     "data": {
      "text/plain": [
       "array(['10A', '01A', '10B', '01B', '01C', '11A', '06A', '11C'],\n",
       "      dtype=object)"
      ]
     },
     "execution_count": 9,
     "metadata": {},
     "output_type": "execute_result"
    }
   ],
   "source": [
    "tdf.Sample.apply(lambda x: x.split('-')[3]).unique()"
   ]
  },
  {
   "cell_type": "code",
   "execution_count": 10,
   "metadata": {},
   "outputs": [],
   "source": [
    "tdf['tumour_or_normal'] = tdf.Sample.apply(lambda x: x.split('-')[3])"
   ]
  },
  {
   "cell_type": "code",
   "execution_count": 11,
   "metadata": {},
   "outputs": [],
   "source": [
    "tdf = tdf[~tdf.tumour_or_normal.isin(['10A', '10B', '11A', '11C'])]"
   ]
  },
  {
   "cell_type": "code",
   "execution_count": 12,
   "metadata": {},
   "outputs": [
    {
     "data": {
      "text/html": [
       "<div>\n",
       "<style scoped>\n",
       "    .dataframe tbody tr th:only-of-type {\n",
       "        vertical-align: middle;\n",
       "    }\n",
       "\n",
       "    .dataframe tbody tr th {\n",
       "        vertical-align: top;\n",
       "    }\n",
       "\n",
       "    .dataframe thead th {\n",
       "        text-align: right;\n",
       "    }\n",
       "</style>\n",
       "<table border=\"1\" class=\"dataframe\">\n",
       "  <thead>\n",
       "    <tr style=\"text-align: right;\">\n",
       "      <th></th>\n",
       "      <th>Sample</th>\n",
       "      <th>Chromosome</th>\n",
       "      <th>Start</th>\n",
       "      <th>End</th>\n",
       "      <th>Num_Probes</th>\n",
       "      <th>Segment_Mean</th>\n",
       "      <th>tumour_or_normal</th>\n",
       "    </tr>\n",
       "  </thead>\n",
       "  <tbody>\n",
       "    <tr>\n",
       "      <th>41</th>\n",
       "      <td>TCGA-2W-A8YY-01A-11D-A37M-01</td>\n",
       "      <td>1</td>\n",
       "      <td>3218610</td>\n",
       "      <td>247813706</td>\n",
       "      <td>128923.0</td>\n",
       "      <td>0.0158</td>\n",
       "      <td>01A</td>\n",
       "    </tr>\n",
       "    <tr>\n",
       "      <th>42</th>\n",
       "      <td>TCGA-2W-A8YY-01A-11D-A37M-01</td>\n",
       "      <td>2</td>\n",
       "      <td>484222</td>\n",
       "      <td>150727175</td>\n",
       "      <td>78233.0</td>\n",
       "      <td>0.0076</td>\n",
       "      <td>01A</td>\n",
       "    </tr>\n",
       "  </tbody>\n",
       "</table>\n",
       "</div>"
      ],
      "text/plain": [
       "                          Sample  Chromosome    Start        End  Num_Probes  \\\n",
       "41  TCGA-2W-A8YY-01A-11D-A37M-01           1  3218610  247813706    128923.0   \n",
       "42  TCGA-2W-A8YY-01A-11D-A37M-01           2   484222  150727175     78233.0   \n",
       "\n",
       "    Segment_Mean tumour_or_normal  \n",
       "41        0.0158              01A  \n",
       "42        0.0076              01A  "
      ]
     },
     "execution_count": 12,
     "metadata": {},
     "output_type": "execute_result"
    },
    {
     "data": {
      "text/plain": [
       "(41253, 7)"
      ]
     },
     "execution_count": 12,
     "metadata": {},
     "output_type": "execute_result"
    }
   ],
   "source": [
    "tdf.head(2)\n",
    "tdf.shape"
   ]
  },
  {
   "cell_type": "code",
   "execution_count": 37,
   "metadata": {},
   "outputs": [
    {
     "data": {
      "text/plain": [
       "295"
      ]
     },
     "execution_count": 37,
     "metadata": {},
     "output_type": "execute_result"
    },
    {
     "data": {
      "text/plain": [
       "297"
      ]
     },
     "execution_count": 37,
     "metadata": {},
     "output_type": "execute_result"
    }
   ],
   "source": [
    "tdf.Sample.apply(lambda x: '-'.join(x.split('-')[:3])).nunique() # only two samples with duplicated biopsies\n",
    "\n",
    "tdf.Sample.nunique()\n",
    "# all 178 sample in TCGA core set are in this file except 1: TCGA-EA-A3HU-01A"
   ]
  },
  {
   "cell_type": "code",
   "execution_count": 36,
   "metadata": {},
   "outputs": [],
   "source": [
    "pd.Series(tdf.Sample.apply(lambda x: '-'.join(x.split('-')[:4])).unique()).to_csv('/projects/trans_scratch/validations/workspace/szong/Cervical/tcga_variants/cn_patients_297.txt', index=False)"
   ]
  },
  {
   "cell_type": "code",
   "execution_count": 16,
   "metadata": {},
   "outputs": [],
   "source": [
    "tdf['CN'] = np.power(2, (tdf.Segment_Mean + 1))"
   ]
  },
  {
   "cell_type": "code",
   "execution_count": 29,
   "metadata": {},
   "outputs": [
    {
     "data": {
      "text/plain": [
       "count    41253.000000\n",
       "mean         2.029823\n",
       "std          1.719877\n",
       "min          0.008485\n",
       "25%          1.342573\n",
       "50%          1.977394\n",
       "75%          2.254176\n",
       "max        167.579283\n",
       "Name: CN, dtype: float64"
      ]
     },
     "execution_count": 29,
     "metadata": {},
     "output_type": "execute_result"
    }
   ],
   "source": [
    "tdf.CN.describe()"
   ]
  },
  {
   "cell_type": "code",
   "execution_count": 28,
   "metadata": {},
   "outputs": [
    {
     "data": {
      "text/plain": [
       "<matplotlib.axes._subplots.AxesSubplot at 0x7ffb6ec64ba8>"
      ]
     },
     "execution_count": 28,
     "metadata": {},
     "output_type": "execute_result"
    },
    {
     "data": {
      "text/plain": [
       "(0, 10)"
      ]
     },
     "execution_count": 28,
     "metadata": {},
     "output_type": "execute_result"
    },
    {
     "data": {
      "image/png": "[encoded data removed]",
      "text/plain": [
       "<Figure size 432x288 with 1 Axes>"
      ]
     },
     "metadata": {},
     "output_type": "display_data"
    }
   ],
   "source": [
    "tdf.CN.hist(bins=170)\n",
    "plt.xlim(0,10)"
   ]
  },
  {
   "cell_type": "code",
   "execution_count": null,
   "metadata": {},
   "outputs": [],
   "source": []
  },
  {
   "cell_type": "code",
   "execution_count": null,
   "metadata": {},
   "outputs": [],
   "source": []
  },
  {
   "cell_type": "code",
   "execution_count": 173,
   "metadata": {},
   "outputs": [
    {
     "data": {
      "text/html": [
       "<div>\n",
       "<style scoped>\n",
       "    .dataframe tbody tr th:only-of-type {\n",
       "        vertical-align: middle;\n",
       "    }\n",
       "\n",
       "    .dataframe tbody tr th {\n",
       "        vertical-align: top;\n",
       "    }\n",
       "\n",
       "    .dataframe thead th {\n",
       "        text-align: right;\n",
       "    }\n",
       "</style>\n",
       "<table border=\"1\" class=\"dataframe\">\n",
       "  <thead>\n",
       "    <tr style=\"text-align: right;\">\n",
       "      <th></th>\n",
       "      <th>snv_counts</th>\n",
       "      <th>indel_counts</th>\n",
       "      <th>snv_sns_counts</th>\n",
       "      <th>indel_sns_counts</th>\n",
       "      <th>snv_syno_counts</th>\n",
       "      <th>indel_syno_counts</th>\n",
       "      <th>strelka_mutations</th>\n",
       "      <th>strelka_coding_mutations</th>\n",
       "      <th>strelka_syno_mutations</th>\n",
       "      <th>strelka_nsyno_mutations</th>\n",
       "      <th>...</th>\n",
       "      <th>live_birth_pregnancy_count</th>\n",
       "      <th>menopause_status</th>\n",
       "      <th>nadir_cd4_counts</th>\n",
       "      <th>patient_id</th>\n",
       "      <th>pregnancies_count_induced_abortion</th>\n",
       "      <th>pregnancies_count_miscarriage</th>\n",
       "      <th>tobacco_smoking_history_indicator</th>\n",
       "      <th>total_pregnancy_count</th>\n",
       "      <th>tumor_grade</th>\n",
       "      <th>weight_kg_at_diagnosis</th>\n",
       "    </tr>\n",
       "    <tr>\n",
       "      <th>patient</th>\n",
       "      <th></th>\n",
       "      <th></th>\n",
       "      <th></th>\n",
       "      <th></th>\n",
       "      <th></th>\n",
       "      <th></th>\n",
       "      <th></th>\n",
       "      <th></th>\n",
       "      <th></th>\n",
       "      <th></th>\n",
       "      <th></th>\n",
       "      <th></th>\n",
       "      <th></th>\n",
       "      <th></th>\n",
       "      <th></th>\n",
       "      <th></th>\n",
       "      <th></th>\n",
       "      <th></th>\n",
       "      <th></th>\n",
       "      <th></th>\n",
       "      <th></th>\n",
       "    </tr>\n",
       "  </thead>\n",
       "  <tbody>\n",
       "    <tr>\n",
       "      <th>HTMCP-03-06-02001</th>\n",
       "      <td>25732</td>\n",
       "      <td>1242</td>\n",
       "      <td>329</td>\n",
       "      <td>11</td>\n",
       "      <td>102</td>\n",
       "      <td>0</td>\n",
       "      <td>26974</td>\n",
       "      <td>340</td>\n",
       "      <td>102</td>\n",
       "      <td>238</td>\n",
       "      <td>...</td>\n",
       "      <td>5.0</td>\n",
       "      <td>Post (prior bilateral ovariectomy OR &gt;12 mo si...</td>\n",
       "      <td>NaN</td>\n",
       "      <td>2001.0</td>\n",
       "      <td>NaN</td>\n",
       "      <td>1.0</td>\n",
       "      <td>1.0</td>\n",
       "      <td>6.0</td>\n",
       "      <td>G2</td>\n",
       "      <td>44.5</td>\n",
       "    </tr>\n",
       "    <tr>\n",
       "      <th>HTMCP-03-06-02002</th>\n",
       "      <td>15964</td>\n",
       "      <td>697</td>\n",
       "      <td>225</td>\n",
       "      <td>2</td>\n",
       "      <td>72</td>\n",
       "      <td>0</td>\n",
       "      <td>16661</td>\n",
       "      <td>227</td>\n",
       "      <td>72</td>\n",
       "      <td>155</td>\n",
       "      <td>...</td>\n",
       "      <td>8.0</td>\n",
       "      <td>Post (prior bilateral ovariectomy OR &gt;12 mo si...</td>\n",
       "      <td>NaN</td>\n",
       "      <td>2002.0</td>\n",
       "      <td>3.0</td>\n",
       "      <td>NaN</td>\n",
       "      <td>1.0</td>\n",
       "      <td>11.0</td>\n",
       "      <td>G3</td>\n",
       "      <td>70.2</td>\n",
       "    </tr>\n",
       "    <tr>\n",
       "      <th>HTMCP-03-06-02003</th>\n",
       "      <td>7914</td>\n",
       "      <td>483</td>\n",
       "      <td>89</td>\n",
       "      <td>3</td>\n",
       "      <td>29</td>\n",
       "      <td>0</td>\n",
       "      <td>8397</td>\n",
       "      <td>92</td>\n",
       "      <td>29</td>\n",
       "      <td>63</td>\n",
       "      <td>...</td>\n",
       "      <td>4.0</td>\n",
       "      <td>Pre (&lt;6 months since LMP AND no prior bilatera...</td>\n",
       "      <td>NaN</td>\n",
       "      <td>2003.0</td>\n",
       "      <td>NaN</td>\n",
       "      <td>NaN</td>\n",
       "      <td>1.0</td>\n",
       "      <td>5.0</td>\n",
       "      <td>G2</td>\n",
       "      <td>56.2</td>\n",
       "    </tr>\n",
       "    <tr>\n",
       "      <th>HTMCP-03-06-02006</th>\n",
       "      <td>19931</td>\n",
       "      <td>1766</td>\n",
       "      <td>258</td>\n",
       "      <td>16</td>\n",
       "      <td>84</td>\n",
       "      <td>0</td>\n",
       "      <td>21697</td>\n",
       "      <td>274</td>\n",
       "      <td>84</td>\n",
       "      <td>190</td>\n",
       "      <td>...</td>\n",
       "      <td>2.0</td>\n",
       "      <td>Pre (&lt;6 months since LMP AND no prior bilatera...</td>\n",
       "      <td>NaN</td>\n",
       "      <td>2006.0</td>\n",
       "      <td>1.0</td>\n",
       "      <td>NaN</td>\n",
       "      <td>1.0</td>\n",
       "      <td>3.0</td>\n",
       "      <td>G3</td>\n",
       "      <td>61.3</td>\n",
       "    </tr>\n",
       "    <tr>\n",
       "      <th>HTMCP-03-06-02007</th>\n",
       "      <td>2928432</td>\n",
       "      <td>29850</td>\n",
       "      <td>20685</td>\n",
       "      <td>50</td>\n",
       "      <td>4469</td>\n",
       "      <td>0</td>\n",
       "      <td>2958282</td>\n",
       "      <td>20735</td>\n",
       "      <td>4469</td>\n",
       "      <td>16266</td>\n",
       "      <td>...</td>\n",
       "      <td>6.0</td>\n",
       "      <td>Post (prior bilateral ovariectomy OR &gt;12 mo si...</td>\n",
       "      <td>NaN</td>\n",
       "      <td>2007.0</td>\n",
       "      <td>NaN</td>\n",
       "      <td>NaN</td>\n",
       "      <td>1.0</td>\n",
       "      <td>6.0</td>\n",
       "      <td>G3</td>\n",
       "      <td>47.1</td>\n",
       "    </tr>\n",
       "  </tbody>\n",
       "</table>\n",
       "<p>5 rows × 44 columns</p>\n",
       "</div>"
      ],
      "text/plain": [
       "                   snv_counts  indel_counts  snv_sns_counts  indel_sns_counts  \\\n",
       "patient                                                                         \n",
       "HTMCP-03-06-02001       25732          1242             329                11   \n",
       "HTMCP-03-06-02002       15964           697             225                 2   \n",
       "HTMCP-03-06-02003        7914           483              89                 3   \n",
       "HTMCP-03-06-02006       19931          1766             258                16   \n",
       "HTMCP-03-06-02007     2928432         29850           20685                50   \n",
       "\n",
       "                   snv_syno_counts  indel_syno_counts  strelka_mutations  \\\n",
       "patient                                                                    \n",
       "HTMCP-03-06-02001              102                  0              26974   \n",
       "HTMCP-03-06-02002               72                  0              16661   \n",
       "HTMCP-03-06-02003               29                  0               8397   \n",
       "HTMCP-03-06-02006               84                  0              21697   \n",
       "HTMCP-03-06-02007             4469                  0            2958282   \n",
       "\n",
       "                   strelka_coding_mutations  strelka_syno_mutations  \\\n",
       "patient                                                               \n",
       "HTMCP-03-06-02001                       340                     102   \n",
       "HTMCP-03-06-02002                       227                      72   \n",
       "HTMCP-03-06-02003                        92                      29   \n",
       "HTMCP-03-06-02006                       274                      84   \n",
       "HTMCP-03-06-02007                     20735                    4469   \n",
       "\n",
       "                   strelka_nsyno_mutations           ...            \\\n",
       "patient                                              ...             \n",
       "HTMCP-03-06-02001                      238           ...             \n",
       "HTMCP-03-06-02002                      155           ...             \n",
       "HTMCP-03-06-02003                       63           ...             \n",
       "HTMCP-03-06-02006                      190           ...             \n",
       "HTMCP-03-06-02007                    16266           ...             \n",
       "\n",
       "                   live_birth_pregnancy_count  \\\n",
       "patient                                         \n",
       "HTMCP-03-06-02001                         5.0   \n",
       "HTMCP-03-06-02002                         8.0   \n",
       "HTMCP-03-06-02003                         4.0   \n",
       "HTMCP-03-06-02006                         2.0   \n",
       "HTMCP-03-06-02007                         6.0   \n",
       "\n",
       "                                                    menopause_status  \\\n",
       "patient                                                                \n",
       "HTMCP-03-06-02001  Post (prior bilateral ovariectomy OR >12 mo si...   \n",
       "HTMCP-03-06-02002  Post (prior bilateral ovariectomy OR >12 mo si...   \n",
       "HTMCP-03-06-02003  Pre (<6 months since LMP AND no prior bilatera...   \n",
       "HTMCP-03-06-02006  Pre (<6 months since LMP AND no prior bilatera...   \n",
       "HTMCP-03-06-02007  Post (prior bilateral ovariectomy OR >12 mo si...   \n",
       "\n",
       "                  nadir_cd4_counts patient_id  \\\n",
       "patient                                         \n",
       "HTMCP-03-06-02001              NaN     2001.0   \n",
       "HTMCP-03-06-02002              NaN     2002.0   \n",
       "HTMCP-03-06-02003              NaN     2003.0   \n",
       "HTMCP-03-06-02006              NaN     2006.0   \n",
       "HTMCP-03-06-02007              NaN     2007.0   \n",
       "\n",
       "                  pregnancies_count_induced_abortion  \\\n",
       "patient                                                \n",
       "HTMCP-03-06-02001                                NaN   \n",
       "HTMCP-03-06-02002                                3.0   \n",
       "HTMCP-03-06-02003                                NaN   \n",
       "HTMCP-03-06-02006                                1.0   \n",
       "HTMCP-03-06-02007                                NaN   \n",
       "\n",
       "                  pregnancies_count_miscarriage  \\\n",
       "patient                                           \n",
       "HTMCP-03-06-02001                           1.0   \n",
       "HTMCP-03-06-02002                           NaN   \n",
       "HTMCP-03-06-02003                           NaN   \n",
       "HTMCP-03-06-02006                           NaN   \n",
       "HTMCP-03-06-02007                           NaN   \n",
       "\n",
       "                  tobacco_smoking_history_indicator  total_pregnancy_count  \\\n",
       "patient                                                                      \n",
       "HTMCP-03-06-02001                               1.0                    6.0   \n",
       "HTMCP-03-06-02002                               1.0                   11.0   \n",
       "HTMCP-03-06-02003                               1.0                    5.0   \n",
       "HTMCP-03-06-02006                               1.0                    3.0   \n",
       "HTMCP-03-06-02007                               1.0                    6.0   \n",
       "\n",
       "                  tumor_grade  weight_kg_at_diagnosis  \n",
       "patient                                                \n",
       "HTMCP-03-06-02001          G2                    44.5  \n",
       "HTMCP-03-06-02002          G3                    70.2  \n",
       "HTMCP-03-06-02003          G2                    56.2  \n",
       "HTMCP-03-06-02006          G3                    61.3  \n",
       "HTMCP-03-06-02007          G3                    47.1  \n",
       "\n",
       "[5 rows x 44 columns]"
      ]
     },
     "execution_count": 173,
     "metadata": {},
     "output_type": "execute_result"
    }
   ],
   "source": [
    "inf = '/projects/trans_scratch/validations/workspace/szong/Cervical/variant_bwamem/124_patients/mutation_load_clinic.txt'\n",
    "clinic = pd.read_csv(inf, sep='\\t', index_col='patient')\n",
    "clinic.head()"
   ]
  },
  {
   "cell_type": "code",
   "execution_count": 174,
   "metadata": {},
   "outputs": [],
   "source": [
    "assert ('HTMCP-03-06-02061' in clinic.index) == False\n",
    "HIV_pos = clinic.query('HIV_status == \"{}\"'.format('Positive')).index.tolist()\n",
    "HIV_neg = clinic.query('HIV_status == \"{}\"'.format('Negative')).index.tolist()"
   ]
  },
  {
   "cell_type": "code",
   "execution_count": null,
   "metadata": {},
   "outputs": [],
   "source": []
  },
  {
   "cell_type": "markdown",
   "metadata": {
    "collapsed": true
   },
   "source": [
    "visualize all cnvs in one plot"
   ]
  },
  {
   "cell_type": "code",
   "execution_count": 175,
   "metadata": {},
   "outputs": [
    {
     "data": {
      "text/html": [
       "<div>\n",
       "<style scoped>\n",
       "    .dataframe tbody tr th:only-of-type {\n",
       "        vertical-align: middle;\n",
       "    }\n",
       "\n",
       "    .dataframe tbody tr th {\n",
       "        vertical-align: top;\n",
       "    }\n",
       "\n",
       "    .dataframe thead th {\n",
       "        text-align: right;\n",
       "    }\n",
       "</style>\n",
       "<table border=\"1\" class=\"dataframe\">\n",
       "  <thead>\n",
       "    <tr style=\"text-align: right;\">\n",
       "      <th></th>\n",
       "      <th>patient</th>\n",
       "      <th>seg_path</th>\n",
       "    </tr>\n",
       "  </thead>\n",
       "  <tbody>\n",
       "    <tr>\n",
       "      <th>0</th>\n",
       "      <td>HTMCP-03-06-02001</td>\n",
       "      <td>/projects/trans_scratch/validations/workspace/...</td>\n",
       "    </tr>\n",
       "    <tr>\n",
       "      <th>1</th>\n",
       "      <td>HTMCP-03-06-02002</td>\n",
       "      <td>/projects/trans_scratch/validations/workspace/...</td>\n",
       "    </tr>\n",
       "  </tbody>\n",
       "</table>\n",
       "</div>"
      ],
      "text/plain": [
       "             patient                                           seg_path\n",
       "0  HTMCP-03-06-02001  /projects/trans_scratch/validations/workspace/...\n",
       "1  HTMCP-03-06-02002  /projects/trans_scratch/validations/workspace/..."
      ]
     },
     "execution_count": 175,
     "metadata": {},
     "output_type": "execute_result"
    }
   ],
   "source": [
    "# f1 = '/projects/trans_scratch/validations/workspace/szong/Cervical/cnv/Cervical_124_patients_adjusted/cnv_files_for_acen_removal.txt'\n",
    "f1 = '/projects/trans_scratch/validations/workspace/szong/Cervical/cnv/cleaned_cnv_files.txt'\n",
    "df1 = pd.read_csv(f1, sep='\\t', header=None, comment='#')\n",
    "df1.columns = ['patient', 'seg_path']\n",
    "assert df1.shape[0] == 124\n",
    "df1.head(2)"
   ]
  },
  {
   "cell_type": "code",
   "execution_count": 176,
   "metadata": {},
   "outputs": [
    {
     "data": {
      "text/plain": [
       "(124, 2)"
      ]
     },
     "execution_count": 176,
     "metadata": {},
     "output_type": "execute_result"
    }
   ],
   "source": [
    "df1.shape"
   ]
  },
  {
   "cell_type": "code",
   "execution_count": 177,
   "metadata": {},
   "outputs": [],
   "source": [
    "df1 = df1.loc[df1.patient.isin(HIV_pos)]\n",
    "# df1 = df1.loc[df1.patient.isin(HIV_neg)]"
   ]
  },
  {
   "cell_type": "code",
   "execution_count": 178,
   "metadata": {},
   "outputs": [],
   "source": [
    "df2 = pd.DataFrame()\n",
    "for idx, row in df1.iterrows():\n",
    "    pat = row['patient']\n",
    "    seg_file = row['seg_path']\n",
    "#     print(pat, seg_file)\n",
    "    # cnv_files, some rows have 10 columns instead of 9, problems from the APLcnv pipeline\n",
    "    cnv = pd.read_csv(seg_file, sep='\\t',  error_bad_lines=False, warn_bad_lines=True)\n",
    "    cnv.columns = ['chr', 'start', 'end', 'cn']\n",
    "    cnv = cnv[cnv.cn != 2]\n",
    "    cnv['patient'] = pat\n",
    "    if df2.empty:\n",
    "        df2 = cnv\n",
    "    else: df2 = pd.concat([df2,cnv])"
   ]
  },
  {
   "cell_type": "code",
   "execution_count": 179,
   "metadata": {},
   "outputs": [
    {
     "data": {
      "text/html": [
       "<div>\n",
       "<style scoped>\n",
       "    .dataframe tbody tr th:only-of-type {\n",
       "        vertical-align: middle;\n",
       "    }\n",
       "\n",
       "    .dataframe tbody tr th {\n",
       "        vertical-align: top;\n",
       "    }\n",
       "\n",
       "    .dataframe thead th {\n",
       "        text-align: right;\n",
       "    }\n",
       "</style>\n",
       "<table border=\"1\" class=\"dataframe\">\n",
       "  <thead>\n",
       "    <tr style=\"text-align: right;\">\n",
       "      <th></th>\n",
       "      <th>chr</th>\n",
       "      <th>start</th>\n",
       "      <th>end</th>\n",
       "      <th>cn</th>\n",
       "      <th>patient</th>\n",
       "    </tr>\n",
       "  </thead>\n",
       "  <tbody>\n",
       "    <tr>\n",
       "      <th>892</th>\n",
       "      <td>23</td>\n",
       "      <td>80846333</td>\n",
       "      <td>155112387</td>\n",
       "      <td>3</td>\n",
       "      <td>HTMCP-03-06-02447</td>\n",
       "    </tr>\n",
       "    <tr>\n",
       "      <th>28</th>\n",
       "      <td>20</td>\n",
       "      <td>14917359</td>\n",
       "      <td>15022654</td>\n",
       "      <td>1</td>\n",
       "      <td>HTMCP-03-06-02448</td>\n",
       "    </tr>\n",
       "  </tbody>\n",
       "</table>\n",
       "</div>"
      ],
      "text/plain": [
       "     chr     start        end  cn            patient\n",
       "892   23  80846333  155112387   3  HTMCP-03-06-02447\n",
       "28    20  14917359   15022654   1  HTMCP-03-06-02448"
      ]
     },
     "execution_count": 179,
     "metadata": {},
     "output_type": "execute_result"
    }
   ],
   "source": [
    "df2.tail(2)"
   ]
  },
  {
   "cell_type": "code",
   "execution_count": 180,
   "metadata": {},
   "outputs": [
    {
     "data": {
      "text/plain": [
       "(26573, 5)"
      ]
     },
     "execution_count": 180,
     "metadata": {},
     "output_type": "execute_result"
    }
   ],
   "source": [
    "df2.shape"
   ]
  },
  {
   "cell_type": "code",
   "execution_count": 181,
   "metadata": {},
   "outputs": [],
   "source": [
    "of = '/projects/trans_scratch/validations/workspace/szong/Cervical/cnv/bin_segs/amps_cleaned.txt'\n",
    "df2[df2.cn >2].to_csv(of, index=False, header=None, sep='\\t')"
   ]
  },
  {
   "cell_type": "code",
   "execution_count": 182,
   "metadata": {},
   "outputs": [],
   "source": [
    "of = '/projects/trans_scratch/validations/workspace/szong/Cervical/cnv/bin_segs/dels_cleaned.txt'\n",
    "df2[df2.cn <2].to_csv(of, index=False, header=None, sep='\\t')"
   ]
  },
  {
   "cell_type": "code",
   "execution_count": 183,
   "metadata": {},
   "outputs": [],
   "source": [
    "%%bash\n",
    "# run this in this dir: \n",
    "bedtools=/home/rcorbett/aligners/bedtools/BEDTools-Version-2.15.0/bin/bedtools\n",
    "cd /projects/trans_scratch/validations/workspace/szong/Cervical/cnv/bin_segs/\n",
    "sort -k1n -k2n -k3n amps_cleaned.txt > amps_cleaned.txt.sorted\n",
    "sort -k1n -k2n -k3n dels_cleaned.txt > dels_cleaned.txt.sorted\n",
    "$bedtools intersect -a chr_bins.txt -b dels_cleaned.txt.sorted -wa -wb > dels_cleaned_bins_1kb.txt\n",
    "$bedtools intersect -a chr_bins.txt -b amps_cleaned.txt.sorted -wa -wb > amps_cleaned_bins_1kb.txt"
   ]
  },
  {
   "cell_type": "code",
   "execution_count": 61,
   "metadata": {},
   "outputs": [],
   "source": [
    "patients = df2.patient.value_counts().index.tolist()"
   ]
  },
  {
   "cell_type": "code",
   "execution_count": 184,
   "metadata": {},
   "outputs": [],
   "source": [
    "f = '/projects/trans_scratch/validations/workspace/szong/Cervical/cnv/bin_segs/amps_cleaned_bins_1kb.txt'\n",
    "df = pd.read_csv(f, sep='\\t', header=None)\n",
    "df.columns = ['bin_chr', 'bin_start', 'bin_end', 'chr', 'start', 'end', 'cn', 'patient']\n",
    "occurrence = df.groupby(['bin_chr', 'bin_start', 'bin_end']).nunique()['patient']#.sort_values(ascending=False)\n",
    "recur_amps = occurrence.reset_index().sort_values(['bin_chr', 'bin_start', 'bin_end'])\n",
    "f = '/projects/trans_scratch/validations/workspace/szong/Cervical/cnv/bin_segs/amps_cleaned_bins_1kb_patients.txt'\n",
    "recur_amps.to_csv(f, index=False, sep='\\t')\n",
    "# recur_amps = pd.read_csv(f, sep='\\t')"
   ]
  },
  {
   "cell_type": "code",
   "execution_count": 63,
   "metadata": {},
   "outputs": [
    {
     "data": {
      "text/html": [
       "<div>\n",
       "<style scoped>\n",
       "    .dataframe tbody tr th:only-of-type {\n",
       "        vertical-align: middle;\n",
       "    }\n",
       "\n",
       "    .dataframe tbody tr th {\n",
       "        vertical-align: top;\n",
       "    }\n",
       "\n",
       "    .dataframe thead th {\n",
       "        text-align: right;\n",
       "    }\n",
       "</style>\n",
       "<table border=\"1\" class=\"dataframe\">\n",
       "  <thead>\n",
       "    <tr style=\"text-align: right;\">\n",
       "      <th></th>\n",
       "      <th>bin_chr</th>\n",
       "      <th>bin_start</th>\n",
       "      <th>bin_end</th>\n",
       "      <th>patient</th>\n",
       "    </tr>\n",
       "  </thead>\n",
       "  <tbody>\n",
       "    <tr>\n",
       "      <th>0</th>\n",
       "      <td>1</td>\n",
       "      <td>38001</td>\n",
       "      <td>39000</td>\n",
       "      <td>1</td>\n",
       "    </tr>\n",
       "    <tr>\n",
       "      <th>1</th>\n",
       "      <td>1</td>\n",
       "      <td>39001</td>\n",
       "      <td>40000</td>\n",
       "      <td>2</td>\n",
       "    </tr>\n",
       "  </tbody>\n",
       "</table>\n",
       "</div>"
      ],
      "text/plain": [
       "   bin_chr  bin_start  bin_end  patient\n",
       "0        1      38001    39000        1\n",
       "1        1      39001    40000        2"
      ]
     },
     "execution_count": 63,
     "metadata": {},
     "output_type": "execute_result"
    }
   ],
   "source": [
    "recur_amps.head(2)"
   ]
  },
  {
   "cell_type": "code",
   "execution_count": 110,
   "metadata": {},
   "outputs": [
    {
     "data": {
      "text/html": [
       "<div>\n",
       "<style scoped>\n",
       "    .dataframe tbody tr th:only-of-type {\n",
       "        vertical-align: middle;\n",
       "    }\n",
       "\n",
       "    .dataframe tbody tr th {\n",
       "        vertical-align: top;\n",
       "    }\n",
       "\n",
       "    .dataframe thead th {\n",
       "        text-align: right;\n",
       "    }\n",
       "</style>\n",
       "<table border=\"1\" class=\"dataframe\">\n",
       "  <thead>\n",
       "    <tr style=\"text-align: right;\">\n",
       "      <th></th>\n",
       "      <th></th>\n",
       "      <th></th>\n",
       "    </tr>\n",
       "    <tr>\n",
       "      <th>bin_chr</th>\n",
       "      <th>bin_start</th>\n",
       "      <th>bin_end</th>\n",
       "    </tr>\n",
       "  </thead>\n",
       "  <tbody>\n",
       "    <tr>\n",
       "      <th rowspan=\"5\" valign=\"top\">1</th>\n",
       "      <th>1</th>\n",
       "      <th>1000</th>\n",
       "    </tr>\n",
       "    <tr>\n",
       "      <th>1001</th>\n",
       "      <th>2000</th>\n",
       "    </tr>\n",
       "    <tr>\n",
       "      <th>2001</th>\n",
       "      <th>3000</th>\n",
       "    </tr>\n",
       "    <tr>\n",
       "      <th>3001</th>\n",
       "      <th>4000</th>\n",
       "    </tr>\n",
       "    <tr>\n",
       "      <th>4001</th>\n",
       "      <th>5000</th>\n",
       "    </tr>\n",
       "  </tbody>\n",
       "</table>\n",
       "</div>"
      ],
      "text/plain": [
       "Empty DataFrame\n",
       "Columns: []\n",
       "Index: [(1, 1, 1000), (1, 1001, 2000), (1, 2001, 3000), (1, 3001, 4000), (1, 4001, 5000)]"
      ]
     },
     "execution_count": 110,
     "metadata": {},
     "output_type": "execute_result"
    }
   ],
   "source": [
    "f11 = '/projects/trans_scratch/validations/workspace/szong/Cervical/cnv/bin_segs/chr_bins.txt'\n",
    "df11 = pd.read_csv(f11, sep='\\t', header=None)\n",
    "df11.columns = ['bin_chr', 'bin_start', 'bin_end']\n",
    "df11.set_index(['bin_chr', 'bin_start', 'bin_end'], inplace=True)\n",
    "# df11['patient'] = 0\n",
    "df11.head()"
   ]
  },
  {
   "cell_type": "code",
   "execution_count": 106,
   "metadata": {},
   "outputs": [],
   "source": [
    "def reindex_df(indf):\n",
    "    df = indf.set_index(['bin_chr', 'bin_start', 'bin_end']).reindex(df11.index)\n",
    "    df.fillna(0, inplace=True)\n",
    "    df['fraction_patients'] = df.patient/ len(HIV_pos)\n",
    "    df.drop('patient', inplace=True, axis=1)\n",
    "    return df"
   ]
  },
  {
   "cell_type": "code",
   "execution_count": 66,
   "metadata": {},
   "outputs": [],
   "source": [
    "# df_amps.reset_index()['bin_start'].cumsum() # not just accumulateive sum, depending on chr."
   ]
  },
  {
   "cell_type": "code",
   "execution_count": 67,
   "metadata": {},
   "outputs": [],
   "source": [
    "def calculate_fractions(df):\n",
    "    end = 0\n",
    "    all_positions = []\n",
    "    all_fractions = []\n",
    "    for ch, length in enumerate(chr_length):\n",
    "        ch+=1\n",
    "        positions = list(end + np.array(df.iloc[df.index.get_level_values('bin_chr') == ch].index.get_level_values('bin_start').tolist()))\n",
    "        all_positions = all_positions + positions\n",
    "        fractions = df.iloc[df.index.get_level_values('bin_chr') == ch]['fraction_patients'].tolist()\n",
    "        all_fractions = all_fractions + fractions\n",
    "        end+=length\n",
    "    return (all_positions, all_fractions)\n",
    "\n",
    "\n"
   ]
  },
  {
   "cell_type": "code",
   "execution_count": null,
   "metadata": {},
   "outputs": [],
   "source": []
  },
  {
   "cell_type": "code",
   "execution_count": 185,
   "metadata": {},
   "outputs": [],
   "source": [
    "f = '/projects/trans_scratch/validations/workspace/szong/Cervical/cnv/bin_segs/dels_cleaned_bins_1kb.txt'\n",
    "df = pd.read_csv(f, sep='\\t', header=None)\n",
    "df.columns = ['bin_chr', 'bin_start', 'bin_end', 'chr', 'start', 'end', 'cn', 'patient']\n",
    "occurrence = df.groupby(['bin_chr', 'bin_start', 'bin_end']).nunique()['patient']#.sort_values(ascending=False)\n",
    "recur_dels = occurrence.reset_index().sort_values(['bin_chr', 'bin_start', 'bin_end'])\n",
    "f = '/projects/trans_scratch/validations/workspace/szong/Cervical/cnv/bin_segs/dels_cleaned_bins_1kb_patients.txt'\n",
    "recur_dels.to_csv(f, index=False, sep='\\t')\n",
    "# recur_dels = pd.read_csv(f, sep='\\t')"
   ]
  },
  {
   "cell_type": "code",
   "execution_count": 186,
   "metadata": {},
   "outputs": [
    {
     "data": {
      "text/html": [
       "<div>\n",
       "<style scoped>\n",
       "    .dataframe tbody tr th:only-of-type {\n",
       "        vertical-align: middle;\n",
       "    }\n",
       "\n",
       "    .dataframe tbody tr th {\n",
       "        vertical-align: top;\n",
       "    }\n",
       "\n",
       "    .dataframe thead th {\n",
       "        text-align: right;\n",
       "    }\n",
       "</style>\n",
       "<table border=\"1\" class=\"dataframe\">\n",
       "  <thead>\n",
       "    <tr style=\"text-align: right;\">\n",
       "      <th></th>\n",
       "      <th>bin_chr</th>\n",
       "      <th>bin_start</th>\n",
       "      <th>bin_end</th>\n",
       "      <th>patient</th>\n",
       "    </tr>\n",
       "  </thead>\n",
       "  <tbody>\n",
       "    <tr>\n",
       "      <th>0</th>\n",
       "      <td>1</td>\n",
       "      <td>46001</td>\n",
       "      <td>47000</td>\n",
       "      <td>1</td>\n",
       "    </tr>\n",
       "    <tr>\n",
       "      <th>1</th>\n",
       "      <td>1</td>\n",
       "      <td>47001</td>\n",
       "      <td>48000</td>\n",
       "      <td>2</td>\n",
       "    </tr>\n",
       "  </tbody>\n",
       "</table>\n",
       "</div>"
      ],
      "text/plain": [
       "   bin_chr  bin_start  bin_end  patient\n",
       "0        1      46001    47000        1\n",
       "1        1      47001    48000        2"
      ]
     },
     "execution_count": 186,
     "metadata": {},
     "output_type": "execute_result"
    }
   ],
   "source": [
    "recur_dels.head(2)"
   ]
  },
  {
   "cell_type": "code",
   "execution_count": 70,
   "metadata": {},
   "outputs": [],
   "source": [
    "hiv_pos_recur_dels = recur_dels\n",
    "hiv_pos_recur_amps = recur_amps\n",
    "# hiv_neg_recur_dels = recur_dels\n",
    "# hiv_neg_recur_amps = recur_amps"
   ]
  },
  {
   "cell_type": "code",
   "execution_count": 24,
   "metadata": {},
   "outputs": [
    {
     "data": {
      "text/plain": [
       "set()"
      ]
     },
     "execution_count": 24,
     "metadata": {},
     "output_type": "execute_result"
    }
   ],
   "source": [
    "# 2 patient has no cnv? 2261 and 2262 have no cnvs\n",
    "len(patients)\n",
    "set(HIV_neg) - set(patients)"
   ]
  },
  {
   "cell_type": "code",
   "execution_count": 95,
   "metadata": {},
   "outputs": [
    {
     "data": {
      "text/html": [
       "<div>\n",
       "<style scoped>\n",
       "    .dataframe tbody tr th:only-of-type {\n",
       "        vertical-align: middle;\n",
       "    }\n",
       "\n",
       "    .dataframe tbody tr th {\n",
       "        vertical-align: top;\n",
       "    }\n",
       "\n",
       "    .dataframe thead th {\n",
       "        text-align: right;\n",
       "    }\n",
       "</style>\n",
       "<table border=\"1\" class=\"dataframe\">\n",
       "  <thead>\n",
       "    <tr style=\"text-align: right;\">\n",
       "      <th></th>\n",
       "      <th>size</th>\n",
       "    </tr>\n",
       "    <tr>\n",
       "      <th>chr</th>\n",
       "      <th></th>\n",
       "    </tr>\n",
       "  </thead>\n",
       "  <tbody>\n",
       "    <tr>\n",
       "      <th>1</th>\n",
       "      <td>249250621</td>\n",
       "    </tr>\n",
       "    <tr>\n",
       "      <th>2</th>\n",
       "      <td>243199373</td>\n",
       "    </tr>\n",
       "  </tbody>\n",
       "</table>\n",
       "</div>"
      ],
      "text/plain": [
       "          size\n",
       "chr           \n",
       "1    249250621\n",
       "2    243199373"
      ]
     },
     "execution_count": 95,
     "metadata": {},
     "output_type": "execute_result"
    }
   ],
   "source": [
    "f2_1 = '/home/szong/projects/resource/chrominfo.txt'\n",
    "df2_1 = pd.read_csv(f2_1, sep='\\t', usecols=['#chrom', 'size'])\n",
    "df2_1['chr'] = df2_1['#chrom'].apply(lambda x: x.replace('chr', ''))\n",
    "chr_sizes = df2_1.set_index('chr').drop('#chrom', axis=1)\n",
    "chr_sizes = chr_sizes.reset_index().replace('X', '23').replace('Y', '24').iloc[:24,].set_index('chr')\n",
    "chr_sizes.index = chr_sizes.index.astype(int)\n",
    "chr_sizes = chr_sizes.sort_index()\n",
    "chr_sizes.head(2)"
   ]
  },
  {
   "cell_type": "code",
   "execution_count": 26,
   "metadata": {},
   "outputs": [
    {
     "data": {
      "text/html": [
       "<div>\n",
       "<style scoped>\n",
       "    .dataframe tbody tr th:only-of-type {\n",
       "        vertical-align: middle;\n",
       "    }\n",
       "\n",
       "    .dataframe tbody tr th {\n",
       "        vertical-align: top;\n",
       "    }\n",
       "\n",
       "    .dataframe thead th {\n",
       "        text-align: right;\n",
       "    }\n",
       "</style>\n",
       "<table border=\"1\" class=\"dataframe\">\n",
       "  <thead>\n",
       "    <tr style=\"text-align: right;\">\n",
       "      <th></th>\n",
       "      <th>size</th>\n",
       "    </tr>\n",
       "    <tr>\n",
       "      <th>chr</th>\n",
       "      <th></th>\n",
       "    </tr>\n",
       "  </thead>\n",
       "  <tbody>\n",
       "    <tr>\n",
       "      <th>20</th>\n",
       "      <td>63025520</td>\n",
       "    </tr>\n",
       "    <tr>\n",
       "      <th>21</th>\n",
       "      <td>48129895</td>\n",
       "    </tr>\n",
       "    <tr>\n",
       "      <th>22</th>\n",
       "      <td>51304566</td>\n",
       "    </tr>\n",
       "    <tr>\n",
       "      <th>23</th>\n",
       "      <td>155270560</td>\n",
       "    </tr>\n",
       "    <tr>\n",
       "      <th>24</th>\n",
       "      <td>59373566</td>\n",
       "    </tr>\n",
       "  </tbody>\n",
       "</table>\n",
       "</div>"
      ],
      "text/plain": [
       "          size\n",
       "chr           \n",
       "20    63025520\n",
       "21    48129895\n",
       "22    51304566\n",
       "23   155270560\n",
       "24    59373566"
      ]
     },
     "execution_count": 26,
     "metadata": {},
     "output_type": "execute_result"
    }
   ],
   "source": [
    "chr_sizes.tail()"
   ]
  },
  {
   "cell_type": "code",
   "execution_count": 27,
   "metadata": {},
   "outputs": [
    {
     "data": {
      "text/plain": [
       "Int64Index([ 1,  2,  3,  4,  5,  6,  7,  8,  9, 10, 11, 12, 13, 14, 15, 16, 17,\n",
       "            18, 19, 20, 21, 22, 23, 24],\n",
       "           dtype='int64', name='chr')"
      ]
     },
     "execution_count": 27,
     "metadata": {},
     "output_type": "execute_result"
    }
   ],
   "source": [
    "chr_sizes.index.unique()"
   ]
  },
  {
   "cell_type": "code",
   "execution_count": 43,
   "metadata": {},
   "outputs": [],
   "source": [
    "hiv_neg_recur_amps = recur_amps\n",
    "hiv_neg_recur_dels = recur_dels"
   ]
  },
  {
   "cell_type": "code",
   "execution_count": 28,
   "metadata": {},
   "outputs": [
    {
     "ename": "NameError",
     "evalue": "name 'hiv_pos_recur_amps' is not defined",
     "output_type": "error",
     "traceback": [
      "\u001b[0;31m---------------------------------------------------------------------------\u001b[0m",
      "\u001b[0;31mNameError\u001b[0m                                 Traceback (most recent call last)",
      "\u001b[0;32m<ipython-input-28-6b5032ff11af>\u001b[0m in \u001b[0;36m<module>\u001b[0;34m()\u001b[0m\n\u001b[1;32m      1\u001b[0m \u001b[0;31m# hiv_pos\u001b[0m\u001b[0;34m\u001b[0m\u001b[0;34m\u001b[0m\u001b[0m\n\u001b[1;32m      2\u001b[0m \u001b[0;31m# for amps\u001b[0m\u001b[0;34m\u001b[0m\u001b[0;34m\u001b[0m\u001b[0m\n\u001b[0;32m----> 3\u001b[0;31m \u001b[0mdf_amps\u001b[0m \u001b[0;34m=\u001b[0m \u001b[0mreindex_df\u001b[0m\u001b[0;34m(\u001b[0m\u001b[0mhiv_pos_recur_amps\u001b[0m\u001b[0;34m)\u001b[0m\u001b[0;34m\u001b[0m\u001b[0m\n\u001b[0m\u001b[1;32m      4\u001b[0m \u001b[0mamp_positions\u001b[0m\u001b[0;34m,\u001b[0m \u001b[0mamp_fractions\u001b[0m \u001b[0;34m=\u001b[0m \u001b[0mcalculate_fractions\u001b[0m\u001b[0;34m(\u001b[0m\u001b[0mdf_amps\u001b[0m\u001b[0;34m)\u001b[0m\u001b[0;34m\u001b[0m\u001b[0m\n",
      "\u001b[0;31mNameError\u001b[0m: name 'hiv_pos_recur_amps' is not defined"
     ]
    }
   ],
   "source": [
    "# hiv_pos\n",
    "# for amps\n",
    "# df_amps = reindex_df(hiv_pos_recur_amps)\n",
    "# df_amps = reindex_df(hiv_neg_recur_amps)\n",
    "# amp_positions, amp_fractions = calculate_fractions(df_amps)"
   ]
  },
  {
   "cell_type": "code",
   "execution_count": 96,
   "metadata": {},
   "outputs": [],
   "source": [
    "def plot_fraction(coordinates, fractions, baseline, cnv_type, ax):\n",
    "    baseline_postions = [baseline] * len(coordinates)\n",
    "    if cnv_type.lower() == 'amps':\n",
    "        fractions = baseline + np.array(fractions)\n",
    "        color = 'red'\n",
    "    elif cnv_type.lower() == 'dels':\n",
    "        fractions = baseline - np.array(fractions)\n",
    "        color = 'blue'\n",
    "    ax.fill_between(coordinates, \n",
    "                    fractions, \n",
    "                    baseline_postions, \n",
    "                    color=color, \n",
    "                    alpha=1)"
   ]
  },
  {
   "cell_type": "code",
   "execution_count": 97,
   "metadata": {},
   "outputs": [],
   "source": [
    "def get_coordinates_fractions(indf):\n",
    "    df = reindex_df(indf)\n",
    "    coordinates, fractions = calculate_fractions(df)\n",
    "    return (coordinates, fractions)"
   ]
  },
  {
   "cell_type": "code",
   "execution_count": 32,
   "metadata": {},
   "outputs": [],
   "source": [
    "\n",
    "def get_cnv_oncogenes(gistic_f):\n",
    "    gistic_df = pd.read_csv(gistic_f, sep='\\t')\n",
    "    gistic_df['oncogene'] = gistic_df.oncogenes.apply(lambda x: x.split(')')[1])\n",
    "    gistic_df['peak_center'] = gistic_df['wide peak boundaries'].apply(lambda x: int(np.array(x.split('-')).astype(int).mean()))\n",
    "    gistic_df.drop('oncogenes', axis=1, inplace=True)\n",
    "    gistic_df = gistic_df[gistic_df.oncogene != '']\n",
    "    return gistic_df"
   ]
  },
  {
   "cell_type": "code",
   "execution_count": 34,
   "metadata": {},
   "outputs": [],
   "source": [
    "def gene_coordinate(df):\n",
    "    end = 0\n",
    "    all_coordinates = []\n",
    "    all_genes = []\n",
    "    for ch, length in enumerate(chr_length):\n",
    "        ch+=1\n",
    "        coordinates = list(end + np.array(df.loc[df.chr == ch]['peak_center'].tolist()))\n",
    "        all_coordinates = all_coordinates + coordinates\n",
    "        genes = df.loc[df.chr == ch]['oncogene'].tolist()\n",
    "        all_genes = all_genes + genes\n",
    "        end+=length\n",
    "    return (all_coordinates, all_genes)"
   ]
  },
  {
   "cell_type": "code",
   "execution_count": 35,
   "metadata": {},
   "outputs": [],
   "source": [
    "def get_gene_coords(gistic_f):\n",
    "#     gistic_f = '/projects/trans_scratch/validations/workspace/szong/Cervical/cnv/124_patient_adj_hiv_pos/amp_genes.conf_99.txt.summary.sorted'\n",
    "    gistic_df = get_cnv_oncogenes(gistic_f)\n",
    "    coordinates, genes = gene_coordinate(gistic_df)\n",
    "    return coordinates, genes"
   ]
  },
  {
   "cell_type": "code",
   "execution_count": 146,
   "metadata": {},
   "outputs": [],
   "source": [
    "def arrange_genes(genes, coordinates, anno_baseline, \n",
    "               anno_color, anno_ecolor, arrow_color, \n",
    "               ycoords_dict, df):\n",
    "#     previous_coordinate = 0\n",
    "#     y_coords = np.arange(6, .5, -0.5)\n",
    "#     shorter_genes = []\n",
    "#     for gene in genes:\n",
    "#         # only displace 2 genes in a label\n",
    "#         splits = gene.split(',')\n",
    "#         if len(splits) >2:\n",
    "#                gene = ','.join(splits[:2])                \n",
    "#         shorter_genes.append(gene)\n",
    "#     genes = shorter_genes\n",
    "    gene_coords = []\n",
    "    for gene, x_coord in zip(genes, coordinates):\n",
    "        short_gene = gene\n",
    "        splits = gene.split(',')\n",
    "        if len(splits) >2:\n",
    "            short_gene = ','.join(splits[:2])  \n",
    "          \n",
    "        for y_coord in y_coords:\n",
    "            if all([abs(j-x_coord) >4e8 for j in ycoords_dict[y_coord]]):\n",
    "                gene_coords.append((short_gene, x_coord, y_coord, gene))\n",
    "                coords_list = ycoords_dict[y_coord]\n",
    "                coords_list.append(x_coord)\n",
    "                ycoords_dict[y_coord] = coords_list\n",
    "                break #found location to place the label\n",
    "    dftmp = pd.DataFrame(gene_coords, columns=['gene', 'x', 'y', 'all_oncogenes'])\n",
    "    dftmp['anno_color'] = anno_color\n",
    "    dftmp['anno_ecolor'] = anno_ecolor\n",
    "    dftmp['arrow_color'] = arrow_color\n",
    "    df = pd.concat([df, dftmp])\n",
    "    return (ycoords_dict, df) #coordinates for gene lable"
   ]
  },
  {
   "cell_type": "code",
   "execution_count": 162,
   "metadata": {},
   "outputs": [],
   "source": [
    "def plot_genes(ax, df):\n",
    "    df = df.sort_values(['y', 'x'], ascending=True)\n",
    "    for ix, row in df.iterrows():  \n",
    "        gene = row.gene\n",
    "        x = row.x\n",
    "        y = row.y\n",
    "        anno_color = row.anno_color\n",
    "        anno_ecolor = row.anno_ecolor\n",
    "        arrow_color = row.arrow_color\n",
    "        fill_color = row.fill_color\n",
    "        ax.annotate('{}'.format(gene),\n",
    "                    xy=(x,10), \n",
    "                    xytext=(x, y), fontsize=10,\n",
    "                    ha='center', va='bottom', color=anno_color,\n",
    "                    textcoords='data', xycoords=\"data\", \n",
    "                    bbox=dict(boxstyle='round', \n",
    "                              fc=fill_color, \n",
    "                              edgecolor=anno_ecolor,\n",
    "                              alpha=1, pad=.4),\n",
    "                    arrowprops=dict(arrowstyle='-', \n",
    "                                    color=anno_color,\n",
    "                                    shrinkB=0, \n",
    "                                    connectionstyle='arc3,rad=0.0' \n",
    "                                  ))\n"
   ]
  },
  {
   "cell_type": "code",
   "execution_count": 147,
   "metadata": {},
   "outputs": [],
   "source": [
    "# initiate occupied label coordinates dict\n",
    "chr_length = chr_sizes['size']#.astype(str)\n",
    "y_coords = np.arange(7, .5, -0.5)\n",
    "ycoords_dict = {}\n",
    "for i in y_coords:\n",
    "    ycoords_dict[i] = []\n",
    "    \n",
    "# initiate label coordinates df\n",
    "df = pd.DataFrame(columns=['gene', 'x', 'y', 'all_oncogenes', 'anno_color', 'anno_ecolor', 'arrow_color'])\n",
    "fdir = '/projects/trans_scratch/validations/workspace/szong/Cervical/cnv/'\n",
    "\n",
    "gistic_f = '{}124_patient_adj_hiv_pos/amp_genes.conf_99.txt.summary.sorted'.format(fdir)\n",
    "coordinates, genes = get_gene_coords(gistic_f)\n",
    "# hiv_pos amps\n",
    "anno_baseline = 6\n",
    "anno_color = 'red'\n",
    "anno_ecolor = 'red'\n",
    "arrow_color = 'red'\n",
    "ycoords_dict, df = arrange_genes(genes, coordinates, anno_baseline, \n",
    "                                 anno_color, anno_ecolor, arrow_color, \n",
    "                                 ycoords_dict, df)\n",
    "# print(df)\n",
    "gistic_f = '{}124_patient_adj_hiv_pos/del_genes.conf_99.txt.summary.sorted'.format(fdir)\n",
    "coordinates, genes = get_gene_coords(gistic_f)\n",
    "# hiv_pos dels\n",
    "\n",
    "anno_color = 'blue'\n",
    "anno_ecolor = 'red'\n",
    "arrow_color = 'blue'\n",
    "ycoords_dict, df = arrange_genes(genes, coordinates, anno_baseline, \n",
    "                                 anno_color, anno_ecolor, arrow_color, \n",
    "                                 ycoords_dict, df)\n",
    "# print(df)\n",
    "\n",
    "# plot hiv_neg genes\n",
    "gistic_f = '{}124_patient_adj_hiv_neg/amp_genes.conf_99.txt.summary.sorted'.format(fdir)\n",
    "coordinates, genes = get_gene_coords(gistic_f)\n",
    "# amps\n",
    "\n",
    "anno_color = 'red'\n",
    "anno_ecolor = 'blue'\n",
    "arrow_color = 'red'\n",
    "ycoords_dict, df = arrange_genes(genes, coordinates, anno_baseline, \n",
    "                                 anno_color, anno_ecolor, arrow_color, \n",
    "                                 ycoords_dict, df)\n",
    "\n",
    "gistic_f = '{}124_patient_adj_hiv_neg/del_genes.conf_99.txt.summary.sorted'.format(fdir)\n",
    "coordinates, genes = get_gene_coords(gistic_f)\n",
    "# del\n",
    "\n",
    "anno_color = 'blue'\n",
    "anno_ecolor = 'blue'\n",
    "arrow_color = 'blue'\n",
    "ycoords_dict, df = arrange_genes(genes, coordinates, anno_baseline, \n",
    "                                 anno_color, anno_ecolor, arrow_color, \n",
    "                                 ycoords_dict, df)"
   ]
  },
  {
   "cell_type": "code",
   "execution_count": 148,
   "metadata": {},
   "outputs": [],
   "source": [
    "df['fill_color'] = 'lightgray'"
   ]
  },
  {
   "cell_type": "code",
   "execution_count": 170,
   "metadata": {},
   "outputs": [],
   "source": [
    "# df"
   ]
  },
  {
   "cell_type": "code",
   "execution_count": 168,
   "metadata": {},
   "outputs": [
    {
     "data": {
      "text/html": [
       "<div>\n",
       "<style scoped>\n",
       "    .dataframe tbody tr th:only-of-type {\n",
       "        vertical-align: middle;\n",
       "    }\n",
       "\n",
       "    .dataframe tbody tr th {\n",
       "        vertical-align: top;\n",
       "    }\n",
       "\n",
       "    .dataframe thead th {\n",
       "        text-align: right;\n",
       "    }\n",
       "</style>\n",
       "<table border=\"1\" class=\"dataframe\">\n",
       "  <thead>\n",
       "    <tr style=\"text-align: right;\">\n",
       "      <th></th>\n",
       "      <th>gene</th>\n",
       "      <th>x</th>\n",
       "      <th>y</th>\n",
       "      <th>all_oncogenes</th>\n",
       "      <th>anno_color</th>\n",
       "      <th>anno_ecolor</th>\n",
       "      <th>arrow_color</th>\n",
       "      <th>fill_color</th>\n",
       "    </tr>\n",
       "  </thead>\n",
       "  <tbody>\n",
       "    <tr>\n",
       "      <th>0</th>\n",
       "      <td>(79)AKT1</td>\n",
       "      <td>2304079939</td>\n",
       "      <td>1.5</td>\n",
       "      <td>AKT1,BRF1,MIR203</td>\n",
       "      <td>blue</td>\n",
       "      <td>blue</td>\n",
       "      <td>blue</td>\n",
       "      <td>lightgray</td>\n",
       "    </tr>\n",
       "    <tr>\n",
       "      <th>1</th>\n",
       "      <td>(115)RB1,TLL</td>\n",
       "      <td>2127705678</td>\n",
       "      <td>2.0</td>\n",
       "      <td>ARL11,DLEU1,MIR15A,RB1,TTL,DLEU2,KCNRG,LHFP,MI...</td>\n",
       "      <td>blue</td>\n",
       "      <td>blue</td>\n",
       "      <td>blue</td>\n",
       "      <td>lightgray</td>\n",
       "    </tr>\n",
       "  </tbody>\n",
       "</table>\n",
       "</div>"
      ],
      "text/plain": [
       "           gene           x    y  \\\n",
       "0      (79)AKT1  2304079939  1.5   \n",
       "1  (115)RB1,TLL  2127705678  2.0   \n",
       "\n",
       "                                       all_oncogenes anno_color anno_ecolor  \\\n",
       "0                                   AKT1,BRF1,MIR203       blue        blue   \n",
       "1  ARL11,DLEU1,MIR15A,RB1,TTL,DLEU2,KCNRG,LHFP,MI...       blue        blue   \n",
       "\n",
       "  arrow_color fill_color  \n",
       "0        blue  lightgray  \n",
       "1        blue  lightgray  "
      ]
     },
     "execution_count": 168,
     "metadata": {},
     "output_type": "execute_result"
    }
   ],
   "source": [
    "f = '{}genes_to_highlight.txt'.format(wkdir)\n",
    "# df.to_csv(f, sep='\\t', index=False)\n",
    "df = pd.read_csv(f, sep='\\t')\n",
    "df.head(2)"
   ]
  },
  {
   "cell_type": "code",
   "execution_count": 171,
   "metadata": {
    "scrolled": true
   },
   "outputs": [
    {
     "data": {
      "image/png": "[encoded data removed]",
      "text/plain": [
       "<Figure size 1008x576 with 1 Axes>"
      ]
     },
     "metadata": {},
     "output_type": "display_data"
    }
   ],
   "source": [
    "\n",
    "fig = plt.figure(figsize=(14,8))\n",
    "ax = fig.add_subplot(111, facecolor='white')\n",
    "\n",
    "# plot baseline\n",
    "start = 0\n",
    "end = 0\n",
    "baseline = 9\n",
    "for ch, length in enumerate(chr_length):\n",
    "    ch+=1\n",
    "    end+=length\n",
    "    midpoint = (start + end)/2\n",
    "    ax.text(midpoint, 10.5, ch, ha='center')\n",
    "    if ch %2 == 1:\n",
    "        fill([start, end, end, start], [0, 0, 11, 11], 'b', alpha=0.1, edgecolor='b')\n",
    "    start+=length\n",
    "axhline(baseline)\n",
    "\n",
    "# area plot example fill between 2 lines\n",
    "# hiv_pos\n",
    "baseline = 9\n",
    "coordinates, fractions = get_coordinates_fractions(hiv_pos_recur_amps)\n",
    "plot_fraction(coordinates, fractions, baseline, 'amps', ax)\n",
    "coordinates, fractions = get_coordinates_fractions(hiv_pos_recur_dels)\n",
    "plot_fraction(coordinates, fractions, baseline, 'dels', ax)\n",
    "\n",
    "#plot hiv_neg\n",
    "baseline = 8\n",
    "coordinates, fractions = get_coordinates_fractions(hiv_neg_recur_amps)\n",
    "plot_fraction(coordinates, fractions, baseline, 'amps', ax)\n",
    "coordinates, fractions = get_coordinates_fractions(hiv_neg_recur_dels)\n",
    "plot_fraction(coordinates, fractions, baseline, 'dels', ax)\n",
    "\n",
    "\n",
    "\n",
    "\n",
    "\n",
    "\n",
    "# plot all annoatations\n",
    "plot_genes(ax, df)\n",
    "ax.set_xlim(0,sum(chr_length))\n",
    "ax.set_ylim(0,11)\n",
    "ax.set_xticklabels('')\n",
    "ax.set_yticklabels('')\n",
    "# plt.savefig('{}cnvs_publication.png'.format(wkdir), dpi=300, bbox_inches='tight')\n",
    "plt.show()"
   ]
  },
  {
   "cell_type": "markdown",
   "metadata": {},
   "source": [
    "# look at expression at chromosome 20"
   ]
  },
  {
   "cell_type": "code",
   "execution_count": 192,
   "metadata": {},
   "outputs": [],
   "source": [
    "f = '/projects/trans_scratch/validations/workspace/szong/Cervical/hotspots/123_patients/12_hiv_pos_patient_with_CELF2_intronic_mutaions.txt'\n",
    "df44 = pd.read_csv(f, sep=' ', header=None, usecols=[6])\n",
    "CELF2_patients = df44[6].tolist()"
   ]
  },
  {
   "cell_type": "code",
   "execution_count": 241,
   "metadata": {},
   "outputs": [
    {
     "data": {
      "text/html": [
       "<div>\n",
       "<style scoped>\n",
       "    .dataframe tbody tr th:only-of-type {\n",
       "        vertical-align: middle;\n",
       "    }\n",
       "\n",
       "    .dataframe tbody tr th {\n",
       "        vertical-align: top;\n",
       "    }\n",
       "\n",
       "    .dataframe thead th {\n",
       "        text-align: right;\n",
       "    }\n",
       "</style>\n",
       "<table border=\"1\" class=\"dataframe\">\n",
       "  <thead>\n",
       "    <tr style=\"text-align: right;\">\n",
       "      <th></th>\n",
       "      <th>HTMCP-03-06-02001</th>\n",
       "      <th>HTMCP-03-06-02002</th>\n",
       "      <th>HTMCP-03-06-02003</th>\n",
       "      <th>HTMCP-03-06-02006</th>\n",
       "      <th>HTMCP-03-06-02007</th>\n",
       "      <th>HTMCP-03-06-02008</th>\n",
       "      <th>HTMCP-03-06-02012</th>\n",
       "      <th>HTMCP-03-06-02013</th>\n",
       "      <th>HTMCP-03-06-02020</th>\n",
       "      <th>HTMCP-03-06-02026</th>\n",
       "      <th>...</th>\n",
       "      <th>HTMCP-03-06-02424</th>\n",
       "      <th>HTMCP-03-06-02427</th>\n",
       "      <th>HTMCP-03-06-02428</th>\n",
       "      <th>HTMCP-03-06-02434</th>\n",
       "      <th>HTMCP-03-06-02435</th>\n",
       "      <th>HTMCP-03-06-02437</th>\n",
       "      <th>HTMCP-03-06-02441</th>\n",
       "      <th>HTMCP-03-06-02442</th>\n",
       "      <th>HTMCP-03-06-02447</th>\n",
       "      <th>HTMCP-03-06-02448</th>\n",
       "    </tr>\n",
       "    <tr>\n",
       "      <th>genes</th>\n",
       "      <th></th>\n",
       "      <th></th>\n",
       "      <th></th>\n",
       "      <th></th>\n",
       "      <th></th>\n",
       "      <th></th>\n",
       "      <th></th>\n",
       "      <th></th>\n",
       "      <th></th>\n",
       "      <th></th>\n",
       "      <th></th>\n",
       "      <th></th>\n",
       "      <th></th>\n",
       "      <th></th>\n",
       "      <th></th>\n",
       "      <th></th>\n",
       "      <th></th>\n",
       "      <th></th>\n",
       "      <th></th>\n",
       "      <th></th>\n",
       "      <th></th>\n",
       "    </tr>\n",
       "  </thead>\n",
       "  <tbody>\n",
       "    <tr>\n",
       "      <th>BMP2</th>\n",
       "      <td>24.2485</td>\n",
       "      <td>0.5206</td>\n",
       "      <td>22.7987</td>\n",
       "      <td>16.7144</td>\n",
       "      <td>3.3167</td>\n",
       "      <td>0.9090</td>\n",
       "      <td>5.6723</td>\n",
       "      <td>0.2779</td>\n",
       "      <td>11.9332</td>\n",
       "      <td>11.7344</td>\n",
       "      <td>...</td>\n",
       "      <td>2.4231</td>\n",
       "      <td>15.9290</td>\n",
       "      <td>7.3584</td>\n",
       "      <td>7.5151</td>\n",
       "      <td>22.5350</td>\n",
       "      <td>7.6255</td>\n",
       "      <td>1.6486</td>\n",
       "      <td>15.3510</td>\n",
       "      <td>6.6484</td>\n",
       "      <td>23.3014</td>\n",
       "    </tr>\n",
       "    <tr>\n",
       "      <th>NRSN2</th>\n",
       "      <td>8.7759</td>\n",
       "      <td>12.1225</td>\n",
       "      <td>13.0852</td>\n",
       "      <td>15.2838</td>\n",
       "      <td>26.1307</td>\n",
       "      <td>10.5814</td>\n",
       "      <td>13.6064</td>\n",
       "      <td>18.5685</td>\n",
       "      <td>15.1423</td>\n",
       "      <td>17.0035</td>\n",
       "      <td>...</td>\n",
       "      <td>10.6567</td>\n",
       "      <td>11.1115</td>\n",
       "      <td>19.5867</td>\n",
       "      <td>15.0157</td>\n",
       "      <td>11.1103</td>\n",
       "      <td>4.5144</td>\n",
       "      <td>37.4468</td>\n",
       "      <td>38.9413</td>\n",
       "      <td>15.7422</td>\n",
       "      <td>18.2746</td>\n",
       "    </tr>\n",
       "    <tr>\n",
       "      <th>RASSF2</th>\n",
       "      <td>0.9829</td>\n",
       "      <td>1.6913</td>\n",
       "      <td>2.6299</td>\n",
       "      <td>2.2896</td>\n",
       "      <td>3.8333</td>\n",
       "      <td>5.3300</td>\n",
       "      <td>1.7596</td>\n",
       "      <td>2.4763</td>\n",
       "      <td>2.8904</td>\n",
       "      <td>3.5951</td>\n",
       "      <td>...</td>\n",
       "      <td>0.6380</td>\n",
       "      <td>0.2974</td>\n",
       "      <td>1.8222</td>\n",
       "      <td>1.7395</td>\n",
       "      <td>0.6566</td>\n",
       "      <td>1.7666</td>\n",
       "      <td>4.7340</td>\n",
       "      <td>2.5992</td>\n",
       "      <td>3.4487</td>\n",
       "      <td>4.7909</td>\n",
       "    </tr>\n",
       "    <tr>\n",
       "      <th>CELF2</th>\n",
       "      <td>1.0604</td>\n",
       "      <td>2.0148</td>\n",
       "      <td>1.7215</td>\n",
       "      <td>1.1998</td>\n",
       "      <td>4.8031</td>\n",
       "      <td>3.5291</td>\n",
       "      <td>1.4222</td>\n",
       "      <td>1.5524</td>\n",
       "      <td>2.1163</td>\n",
       "      <td>1.6890</td>\n",
       "      <td>...</td>\n",
       "      <td>0.7011</td>\n",
       "      <td>0.1661</td>\n",
       "      <td>2.6070</td>\n",
       "      <td>0.7677</td>\n",
       "      <td>0.3114</td>\n",
       "      <td>1.4427</td>\n",
       "      <td>17.3580</td>\n",
       "      <td>1.2862</td>\n",
       "      <td>1.3097</td>\n",
       "      <td>2.2684</td>\n",
       "    </tr>\n",
       "    <tr>\n",
       "      <th>LEF1</th>\n",
       "      <td>2.3424</td>\n",
       "      <td>3.3140</td>\n",
       "      <td>1.1988</td>\n",
       "      <td>2.3581</td>\n",
       "      <td>24.0241</td>\n",
       "      <td>4.7774</td>\n",
       "      <td>1.8252</td>\n",
       "      <td>1.3020</td>\n",
       "      <td>2.9927</td>\n",
       "      <td>0.6506</td>\n",
       "      <td>...</td>\n",
       "      <td>0.4918</td>\n",
       "      <td>0.2495</td>\n",
       "      <td>3.0928</td>\n",
       "      <td>1.2006</td>\n",
       "      <td>0.3725</td>\n",
       "      <td>1.0076</td>\n",
       "      <td>4.0649</td>\n",
       "      <td>1.1239</td>\n",
       "      <td>1.6038</td>\n",
       "      <td>1.9845</td>\n",
       "    </tr>\n",
       "    <tr>\n",
       "      <th>POTEG</th>\n",
       "      <td>0.0000</td>\n",
       "      <td>0.0000</td>\n",
       "      <td>0.0000</td>\n",
       "      <td>0.0000</td>\n",
       "      <td>0.0000</td>\n",
       "      <td>0.0000</td>\n",
       "      <td>0.0000</td>\n",
       "      <td>0.0007</td>\n",
       "      <td>0.0000</td>\n",
       "      <td>0.0000</td>\n",
       "      <td>...</td>\n",
       "      <td>0.0000</td>\n",
       "      <td>0.0012</td>\n",
       "      <td>0.0000</td>\n",
       "      <td>0.0000</td>\n",
       "      <td>0.0000</td>\n",
       "      <td>0.0000</td>\n",
       "      <td>0.0000</td>\n",
       "      <td>0.0000</td>\n",
       "      <td>0.0000</td>\n",
       "      <td>0.0000</td>\n",
       "    </tr>\n",
       "    <tr>\n",
       "      <th>AQP7</th>\n",
       "      <td>0.0089</td>\n",
       "      <td>0.0068</td>\n",
       "      <td>0.0684</td>\n",
       "      <td>0.0527</td>\n",
       "      <td>0.0166</td>\n",
       "      <td>0.1316</td>\n",
       "      <td>0.0066</td>\n",
       "      <td>0.0133</td>\n",
       "      <td>0.0141</td>\n",
       "      <td>0.6473</td>\n",
       "      <td>...</td>\n",
       "      <td>0.0663</td>\n",
       "      <td>2.7351</td>\n",
       "      <td>0.5844</td>\n",
       "      <td>0.0248</td>\n",
       "      <td>0.0862</td>\n",
       "      <td>0.7812</td>\n",
       "      <td>1.4339</td>\n",
       "      <td>0.0810</td>\n",
       "      <td>0.0551</td>\n",
       "      <td>0.5056</td>\n",
       "    </tr>\n",
       "  </tbody>\n",
       "</table>\n",
       "<p>7 rows × 124 columns</p>\n",
       "</div>"
      ],
      "text/plain": [
       "        HTMCP-03-06-02001  HTMCP-03-06-02002  HTMCP-03-06-02003  \\\n",
       "genes                                                             \n",
       "BMP2              24.2485             0.5206            22.7987   \n",
       "NRSN2              8.7759            12.1225            13.0852   \n",
       "RASSF2             0.9829             1.6913             2.6299   \n",
       "CELF2              1.0604             2.0148             1.7215   \n",
       "LEF1               2.3424             3.3140             1.1988   \n",
       "POTEG              0.0000             0.0000             0.0000   \n",
       "AQP7               0.0089             0.0068             0.0684   \n",
       "\n",
       "        HTMCP-03-06-02006  HTMCP-03-06-02007  HTMCP-03-06-02008  \\\n",
       "genes                                                             \n",
       "BMP2              16.7144             3.3167             0.9090   \n",
       "NRSN2             15.2838            26.1307            10.5814   \n",
       "RASSF2             2.2896             3.8333             5.3300   \n",
       "CELF2              1.1998             4.8031             3.5291   \n",
       "LEF1               2.3581            24.0241             4.7774   \n",
       "POTEG              0.0000             0.0000             0.0000   \n",
       "AQP7               0.0527             0.0166             0.1316   \n",
       "\n",
       "        HTMCP-03-06-02012  HTMCP-03-06-02013  HTMCP-03-06-02020  \\\n",
       "genes                                                             \n",
       "BMP2               5.6723             0.2779            11.9332   \n",
       "NRSN2             13.6064            18.5685            15.1423   \n",
       "RASSF2             1.7596             2.4763             2.8904   \n",
       "CELF2              1.4222             1.5524             2.1163   \n",
       "LEF1               1.8252             1.3020             2.9927   \n",
       "POTEG              0.0000             0.0007             0.0000   \n",
       "AQP7               0.0066             0.0133             0.0141   \n",
       "\n",
       "        HTMCP-03-06-02026        ...          HTMCP-03-06-02424  \\\n",
       "genes                            ...                              \n",
       "BMP2              11.7344        ...                     2.4231   \n",
       "NRSN2             17.0035        ...                    10.6567   \n",
       "RASSF2             3.5951        ...                     0.6380   \n",
       "CELF2              1.6890        ...                     0.7011   \n",
       "LEF1               0.6506        ...                     0.4918   \n",
       "POTEG              0.0000        ...                     0.0000   \n",
       "AQP7               0.6473        ...                     0.0663   \n",
       "\n",
       "        HTMCP-03-06-02427  HTMCP-03-06-02428  HTMCP-03-06-02434  \\\n",
       "genes                                                             \n",
       "BMP2              15.9290             7.3584             7.5151   \n",
       "NRSN2             11.1115            19.5867            15.0157   \n",
       "RASSF2             0.2974             1.8222             1.7395   \n",
       "CELF2              0.1661             2.6070             0.7677   \n",
       "LEF1               0.2495             3.0928             1.2006   \n",
       "POTEG              0.0012             0.0000             0.0000   \n",
       "AQP7               2.7351             0.5844             0.0248   \n",
       "\n",
       "        HTMCP-03-06-02435  HTMCP-03-06-02437  HTMCP-03-06-02441  \\\n",
       "genes                                                             \n",
       "BMP2              22.5350             7.6255             1.6486   \n",
       "NRSN2             11.1103             4.5144            37.4468   \n",
       "RASSF2             0.6566             1.7666             4.7340   \n",
       "CELF2              0.3114             1.4427            17.3580   \n",
       "LEF1               0.3725             1.0076             4.0649   \n",
       "POTEG              0.0000             0.0000             0.0000   \n",
       "AQP7               0.0862             0.7812             1.4339   \n",
       "\n",
       "        HTMCP-03-06-02442  HTMCP-03-06-02447  HTMCP-03-06-02448  \n",
       "genes                                                            \n",
       "BMP2              15.3510             6.6484            23.3014  \n",
       "NRSN2             38.9413            15.7422            18.2746  \n",
       "RASSF2             2.5992             3.4487             4.7909  \n",
       "CELF2              1.2862             1.3097             2.2684  \n",
       "LEF1               1.1239             1.6038             1.9845  \n",
       "POTEG              0.0000             0.0000             0.0000  \n",
       "AQP7               0.0810             0.0551             0.5056  \n",
       "\n",
       "[7 rows x 124 columns]"
      ]
     },
     "execution_count": 241,
     "metadata": {},
     "output_type": "execute_result"
    }
   ],
   "source": [
    "f2 = '/projects/trans_scratch/validations/workspace/szong/Cervical/expression/expression.txt'\n",
    "df45 = pd.read_csv(f2, sep='\\t')\n",
    "df45['genes'] = df45.genes.apply(lambda x: x.split('_')[1])\n",
    "df45.set_index('genes',inplace=True)\n",
    "df45"
   ]
  },
  {
   "cell_type": "code",
   "execution_count": 245,
   "metadata": {},
   "outputs": [
    {
     "data": {
      "text/html": [
       "<div>\n",
       "<style scoped>\n",
       "    .dataframe tbody tr th:only-of-type {\n",
       "        vertical-align: middle;\n",
       "    }\n",
       "\n",
       "    .dataframe tbody tr th {\n",
       "        vertical-align: top;\n",
       "    }\n",
       "\n",
       "    .dataframe thead th {\n",
       "        text-align: right;\n",
       "    }\n",
       "</style>\n",
       "<table border=\"1\" class=\"dataframe\">\n",
       "  <thead>\n",
       "    <tr style=\"text-align: right;\">\n",
       "      <th></th>\n",
       "      <th>pat</th>\n",
       "      <th>cnv</th>\n",
       "    </tr>\n",
       "  </thead>\n",
       "  <tbody>\n",
       "    <tr>\n",
       "      <th>0</th>\n",
       "      <td>HTMCP-03-06-02001</td>\n",
       "      <td>2</td>\n",
       "    </tr>\n",
       "    <tr>\n",
       "      <th>1</th>\n",
       "      <td>HTMCP-03-06-02002</td>\n",
       "      <td>2</td>\n",
       "    </tr>\n",
       "  </tbody>\n",
       "</table>\n",
       "</div>"
      ],
      "text/plain": [
       "                 pat  cnv\n",
       "0  HTMCP-03-06-02001    2\n",
       "1  HTMCP-03-06-02002    2"
      ]
     },
     "execution_count": 245,
     "metadata": {},
     "output_type": "execute_result"
    }
   ],
   "source": [
    "f3 = '/projects/trans_scratch/validations/workspace/szong/Cervical/cnv/BMP2.txt'\n",
    "bmp2_cnv = pd.read_csv(f3, sep='\\t', header=None, usecols=[0,6])\n",
    "bmp2_cnv.columns = ['pat', 'cnv']\n",
    "bmp2_cnv.head(2)"
   ]
  },
  {
   "cell_type": "code",
   "execution_count": 247,
   "metadata": {},
   "outputs": [],
   "source": [
    "df_bmps = pd.DataFrame(df45.loc[\"BMP2\",]).reset_index()"
   ]
  },
  {
   "cell_type": "code",
   "execution_count": 251,
   "metadata": {},
   "outputs": [],
   "source": [
    "df47 = pd.merge(bmp2_cnv, df_bmps, left_on='pat', right_on='index')[['pat', 'cnv', 'BMP2']]"
   ]
  },
  {
   "cell_type": "code",
   "execution_count": 232,
   "metadata": {},
   "outputs": [],
   "source": [
    "df46 = pd.DataFrame(df45.loc[\"LEF1\",]).reset_index()"
   ]
  },
  {
   "cell_type": "code",
   "execution_count": 233,
   "metadata": {},
   "outputs": [
    {
     "data": {
      "text/html": [
       "<div>\n",
       "<style scoped>\n",
       "    .dataframe tbody tr th:only-of-type {\n",
       "        vertical-align: middle;\n",
       "    }\n",
       "\n",
       "    .dataframe tbody tr th {\n",
       "        vertical-align: top;\n",
       "    }\n",
       "\n",
       "    .dataframe thead th {\n",
       "        text-align: right;\n",
       "    }\n",
       "</style>\n",
       "<table border=\"1\" class=\"dataframe\">\n",
       "  <thead>\n",
       "    <tr style=\"text-align: right;\">\n",
       "      <th></th>\n",
       "      <th>index</th>\n",
       "      <th>LEF1</th>\n",
       "    </tr>\n",
       "  </thead>\n",
       "  <tbody>\n",
       "    <tr>\n",
       "      <th>0</th>\n",
       "      <td>HTMCP-03-06-02001</td>\n",
       "      <td>2.3424</td>\n",
       "    </tr>\n",
       "    <tr>\n",
       "      <th>1</th>\n",
       "      <td>HTMCP-03-06-02002</td>\n",
       "      <td>3.3140</td>\n",
       "    </tr>\n",
       "  </tbody>\n",
       "</table>\n",
       "</div>"
      ],
      "text/plain": [
       "               index    LEF1\n",
       "0  HTMCP-03-06-02001  2.3424\n",
       "1  HTMCP-03-06-02002  3.3140"
      ]
     },
     "execution_count": 233,
     "metadata": {},
     "output_type": "execute_result"
    }
   ],
   "source": [
    "df46.head(2)"
   ]
  },
  {
   "cell_type": "code",
   "execution_count": 234,
   "metadata": {},
   "outputs": [],
   "source": [
    "df46['celf2'] = df46['index'].apply(lambda x: 'mut' if x in CELF2_patients else 'wt')"
   ]
  },
  {
   "cell_type": "code",
   "execution_count": 235,
   "metadata": {},
   "outputs": [
    {
     "data": {
      "text/html": [
       "<div>\n",
       "<style scoped>\n",
       "    .dataframe tbody tr th:only-of-type {\n",
       "        vertical-align: middle;\n",
       "    }\n",
       "\n",
       "    .dataframe tbody tr th {\n",
       "        vertical-align: top;\n",
       "    }\n",
       "\n",
       "    .dataframe thead th {\n",
       "        text-align: right;\n",
       "    }\n",
       "</style>\n",
       "<table border=\"1\" class=\"dataframe\">\n",
       "  <thead>\n",
       "    <tr style=\"text-align: right;\">\n",
       "      <th></th>\n",
       "      <th>index</th>\n",
       "      <th>LEF1</th>\n",
       "      <th>celf2</th>\n",
       "    </tr>\n",
       "  </thead>\n",
       "  <tbody>\n",
       "    <tr>\n",
       "      <th>0</th>\n",
       "      <td>HTMCP-03-06-02001</td>\n",
       "      <td>2.3424</td>\n",
       "      <td>wt</td>\n",
       "    </tr>\n",
       "    <tr>\n",
       "      <th>1</th>\n",
       "      <td>HTMCP-03-06-02002</td>\n",
       "      <td>3.3140</td>\n",
       "      <td>wt</td>\n",
       "    </tr>\n",
       "  </tbody>\n",
       "</table>\n",
       "</div>"
      ],
      "text/plain": [
       "               index    LEF1 celf2\n",
       "0  HTMCP-03-06-02001  2.3424    wt\n",
       "1  HTMCP-03-06-02002  3.3140    wt"
      ]
     },
     "execution_count": 235,
     "metadata": {},
     "output_type": "execute_result"
    }
   ],
   "source": [
    "df46.head(2)"
   ]
  },
  {
   "cell_type": "code",
   "execution_count": 198,
   "metadata": {},
   "outputs": [
    {
     "data": {
      "text/html": [
       "<div>\n",
       "<style scoped>\n",
       "    .dataframe tbody tr th:only-of-type {\n",
       "        vertical-align: middle;\n",
       "    }\n",
       "\n",
       "    .dataframe tbody tr th {\n",
       "        vertical-align: top;\n",
       "    }\n",
       "\n",
       "    .dataframe thead th {\n",
       "        text-align: right;\n",
       "    }\n",
       "</style>\n",
       "<table border=\"1\" class=\"dataframe\">\n",
       "  <thead>\n",
       "    <tr style=\"text-align: right;\">\n",
       "      <th></th>\n",
       "      <th>HTMCP-03-06-02239</th>\n",
       "      <th>HTMCP-03-06-02216</th>\n",
       "      <th>HTMCP-03-06-02437</th>\n",
       "      <th>HTMCP-03-06-02144</th>\n",
       "      <th>HTMCP-03-06-02202</th>\n",
       "      <th>HTMCP-03-06-02414</th>\n",
       "      <th>HTMCP-03-06-02441</th>\n",
       "      <th>HTMCP-03-06-02442</th>\n",
       "      <th>HTMCP-03-06-02103</th>\n",
       "      <th>HTMCP-03-06-02103</th>\n",
       "      <th>HTMCP-03-06-02447</th>\n",
       "      <th>HTMCP-03-06-02238</th>\n",
       "      <th>HTMCP-03-06-02071</th>\n",
       "      <th>HTMCP-03-06-02071</th>\n",
       "      <th>HTMCP-03-06-02071</th>\n",
       "      <th>HTMCP-03-06-02071</th>\n",
       "    </tr>\n",
       "    <tr>\n",
       "      <th>genes</th>\n",
       "      <th></th>\n",
       "      <th></th>\n",
       "      <th></th>\n",
       "      <th></th>\n",
       "      <th></th>\n",
       "      <th></th>\n",
       "      <th></th>\n",
       "      <th></th>\n",
       "      <th></th>\n",
       "      <th></th>\n",
       "      <th></th>\n",
       "      <th></th>\n",
       "      <th></th>\n",
       "      <th></th>\n",
       "      <th></th>\n",
       "      <th></th>\n",
       "    </tr>\n",
       "  </thead>\n",
       "  <tbody>\n",
       "    <tr>\n",
       "      <th>BMP2</th>\n",
       "      <td>9.8771</td>\n",
       "      <td>10.7918</td>\n",
       "      <td>7.6255</td>\n",
       "      <td>0.3128</td>\n",
       "      <td>12.6240</td>\n",
       "      <td>15.9600</td>\n",
       "      <td>1.6486</td>\n",
       "      <td>15.3510</td>\n",
       "      <td>21.4400</td>\n",
       "      <td>21.4400</td>\n",
       "      <td>6.6484</td>\n",
       "      <td>7.7629</td>\n",
       "      <td>13.6245</td>\n",
       "      <td>13.6245</td>\n",
       "      <td>13.6245</td>\n",
       "      <td>13.6245</td>\n",
       "    </tr>\n",
       "    <tr>\n",
       "      <th>NRSN2</th>\n",
       "      <td>9.0386</td>\n",
       "      <td>14.5508</td>\n",
       "      <td>4.5144</td>\n",
       "      <td>17.5379</td>\n",
       "      <td>19.2714</td>\n",
       "      <td>30.5230</td>\n",
       "      <td>37.4468</td>\n",
       "      <td>38.9413</td>\n",
       "      <td>25.6907</td>\n",
       "      <td>25.6907</td>\n",
       "      <td>15.7422</td>\n",
       "      <td>8.6737</td>\n",
       "      <td>11.6981</td>\n",
       "      <td>11.6981</td>\n",
       "      <td>11.6981</td>\n",
       "      <td>11.6981</td>\n",
       "    </tr>\n",
       "    <tr>\n",
       "      <th>RASSF2</th>\n",
       "      <td>0.8492</td>\n",
       "      <td>0.5651</td>\n",
       "      <td>1.7666</td>\n",
       "      <td>4.0812</td>\n",
       "      <td>7.3412</td>\n",
       "      <td>1.6530</td>\n",
       "      <td>4.7340</td>\n",
       "      <td>2.5992</td>\n",
       "      <td>2.8545</td>\n",
       "      <td>2.8545</td>\n",
       "      <td>3.4487</td>\n",
       "      <td>3.4134</td>\n",
       "      <td>2.8528</td>\n",
       "      <td>2.8528</td>\n",
       "      <td>2.8528</td>\n",
       "      <td>2.8528</td>\n",
       "    </tr>\n",
       "    <tr>\n",
       "      <th>CELF2</th>\n",
       "      <td>1.3896</td>\n",
       "      <td>0.2450</td>\n",
       "      <td>1.4427</td>\n",
       "      <td>1.6190</td>\n",
       "      <td>3.1406</td>\n",
       "      <td>3.1747</td>\n",
       "      <td>17.3580</td>\n",
       "      <td>1.2862</td>\n",
       "      <td>1.0741</td>\n",
       "      <td>1.0741</td>\n",
       "      <td>1.3097</td>\n",
       "      <td>2.2163</td>\n",
       "      <td>1.0169</td>\n",
       "      <td>1.0169</td>\n",
       "      <td>1.0169</td>\n",
       "      <td>1.0169</td>\n",
       "    </tr>\n",
       "    <tr>\n",
       "      <th>LEF1</th>\n",
       "      <td>0.9201</td>\n",
       "      <td>0.7904</td>\n",
       "      <td>1.0076</td>\n",
       "      <td>2.6970</td>\n",
       "      <td>1.6692</td>\n",
       "      <td>12.9375</td>\n",
       "      <td>4.0649</td>\n",
       "      <td>1.1239</td>\n",
       "      <td>1.2212</td>\n",
       "      <td>1.2212</td>\n",
       "      <td>1.6038</td>\n",
       "      <td>1.6132</td>\n",
       "      <td>1.3526</td>\n",
       "      <td>1.3526</td>\n",
       "      <td>1.3526</td>\n",
       "      <td>1.3526</td>\n",
       "    </tr>\n",
       "    <tr>\n",
       "      <th>POTEG</th>\n",
       "      <td>0.0000</td>\n",
       "      <td>0.0000</td>\n",
       "      <td>0.0000</td>\n",
       "      <td>0.0000</td>\n",
       "      <td>0.0000</td>\n",
       "      <td>0.0000</td>\n",
       "      <td>0.0000</td>\n",
       "      <td>0.0000</td>\n",
       "      <td>0.0000</td>\n",
       "      <td>0.0000</td>\n",
       "      <td>0.0000</td>\n",
       "      <td>0.0000</td>\n",
       "      <td>0.0000</td>\n",
       "      <td>0.0000</td>\n",
       "      <td>0.0000</td>\n",
       "      <td>0.0000</td>\n",
       "    </tr>\n",
       "    <tr>\n",
       "      <th>AQP7</th>\n",
       "      <td>0.0038</td>\n",
       "      <td>0.0450</td>\n",
       "      <td>0.7812</td>\n",
       "      <td>0.0041</td>\n",
       "      <td>0.0576</td>\n",
       "      <td>0.2743</td>\n",
       "      <td>1.4339</td>\n",
       "      <td>0.0810</td>\n",
       "      <td>0.0196</td>\n",
       "      <td>0.0196</td>\n",
       "      <td>0.0551</td>\n",
       "      <td>0.6525</td>\n",
       "      <td>0.0000</td>\n",
       "      <td>0.0000</td>\n",
       "      <td>0.0000</td>\n",
       "      <td>0.0000</td>\n",
       "    </tr>\n",
       "  </tbody>\n",
       "</table>\n",
       "</div>"
      ],
      "text/plain": [
       "        HTMCP-03-06-02239  HTMCP-03-06-02216  HTMCP-03-06-02437  \\\n",
       "genes                                                             \n",
       "BMP2               9.8771            10.7918             7.6255   \n",
       "NRSN2              9.0386            14.5508             4.5144   \n",
       "RASSF2             0.8492             0.5651             1.7666   \n",
       "CELF2              1.3896             0.2450             1.4427   \n",
       "LEF1               0.9201             0.7904             1.0076   \n",
       "POTEG              0.0000             0.0000             0.0000   \n",
       "AQP7               0.0038             0.0450             0.7812   \n",
       "\n",
       "        HTMCP-03-06-02144  HTMCP-03-06-02202  HTMCP-03-06-02414  \\\n",
       "genes                                                             \n",
       "BMP2               0.3128            12.6240            15.9600   \n",
       "NRSN2             17.5379            19.2714            30.5230   \n",
       "RASSF2             4.0812             7.3412             1.6530   \n",
       "CELF2              1.6190             3.1406             3.1747   \n",
       "LEF1               2.6970             1.6692            12.9375   \n",
       "POTEG              0.0000             0.0000             0.0000   \n",
       "AQP7               0.0041             0.0576             0.2743   \n",
       "\n",
       "        HTMCP-03-06-02441  HTMCP-03-06-02442  HTMCP-03-06-02103  \\\n",
       "genes                                                             \n",
       "BMP2               1.6486            15.3510            21.4400   \n",
       "NRSN2             37.4468            38.9413            25.6907   \n",
       "RASSF2             4.7340             2.5992             2.8545   \n",
       "CELF2             17.3580             1.2862             1.0741   \n",
       "LEF1               4.0649             1.1239             1.2212   \n",
       "POTEG              0.0000             0.0000             0.0000   \n",
       "AQP7               1.4339             0.0810             0.0196   \n",
       "\n",
       "        HTMCP-03-06-02103  HTMCP-03-06-02447  HTMCP-03-06-02238  \\\n",
       "genes                                                             \n",
       "BMP2              21.4400             6.6484             7.7629   \n",
       "NRSN2             25.6907            15.7422             8.6737   \n",
       "RASSF2             2.8545             3.4487             3.4134   \n",
       "CELF2              1.0741             1.3097             2.2163   \n",
       "LEF1               1.2212             1.6038             1.6132   \n",
       "POTEG              0.0000             0.0000             0.0000   \n",
       "AQP7               0.0196             0.0551             0.6525   \n",
       "\n",
       "        HTMCP-03-06-02071  HTMCP-03-06-02071  HTMCP-03-06-02071  \\\n",
       "genes                                                             \n",
       "BMP2              13.6245            13.6245            13.6245   \n",
       "NRSN2             11.6981            11.6981            11.6981   \n",
       "RASSF2             2.8528             2.8528             2.8528   \n",
       "CELF2              1.0169             1.0169             1.0169   \n",
       "LEF1               1.3526             1.3526             1.3526   \n",
       "POTEG              0.0000             0.0000             0.0000   \n",
       "AQP7               0.0000             0.0000             0.0000   \n",
       "\n",
       "        HTMCP-03-06-02071  \n",
       "genes                      \n",
       "BMP2              13.6245  \n",
       "NRSN2             11.6981  \n",
       "RASSF2             2.8528  \n",
       "CELF2              1.0169  \n",
       "LEF1               1.3526  \n",
       "POTEG              0.0000  \n",
       "AQP7               0.0000  "
      ]
     },
     "execution_count": 198,
     "metadata": {},
     "output_type": "execute_result"
    }
   ],
   "source": [
    "CELF2_muts = df45[CELF2_patients]\n",
    "CELF2_muts"
   ]
  },
  {
   "cell_type": "code",
   "execution_count": 203,
   "metadata": {},
   "outputs": [],
   "source": [
    "CELF2_wt = df45[[i for i in df45.columns.tolist() if i not in  CELF2_patients]]"
   ]
  },
  {
   "cell_type": "code",
   "execution_count": 204,
   "metadata": {},
   "outputs": [
    {
     "data": {
      "text/plain": [
       "[<matplotlib.lines.Line2D at 0x7fc0c7523828>]"
      ]
     },
     "execution_count": 204,
     "metadata": {},
     "output_type": "execute_result"
    },
    {
     "data": {
      "image/png": "[encoded data removed]",
      "text/plain": [
       "<Figure size 432x288 with 1 Axes>"
      ]
     },
     "metadata": {},
     "output_type": "display_data"
    }
   ],
   "source": [
    "plt.plot(CELF2_muts.loc[\"CELF2\",])"
   ]
  },
  {
   "cell_type": "code",
   "execution_count": 215,
   "metadata": {},
   "outputs": [],
   "source": [
    "muts = CELF2_muts.loc[\"CELF2\",].values\n",
    "wts = CELF2_wt.loc[\"CELF2\",].values"
   ]
  },
  {
   "cell_type": "code",
   "execution_count": 211,
   "metadata": {},
   "outputs": [
    {
     "data": {
      "text/plain": [
       "array([ 1.3896,  0.245 ,  1.4427,  1.619 ,  3.1406,  3.1747, 17.358 ,\n",
       "        1.2862,  1.0741,  1.0741,  1.3097,  2.2163,  1.0169,  1.0169,\n",
       "        1.0169,  1.0169])"
      ]
     },
     "execution_count": 211,
     "metadata": {},
     "output_type": "execute_result"
    }
   ],
   "source": [
    "muts"
   ]
  },
  {
   "cell_type": "code",
   "execution_count": 230,
   "metadata": {},
   "outputs": [
    {
     "data": {
      "text/html": [
       "<div>\n",
       "<style scoped>\n",
       "    .dataframe tbody tr th:only-of-type {\n",
       "        vertical-align: middle;\n",
       "    }\n",
       "\n",
       "    .dataframe tbody tr th {\n",
       "        vertical-align: top;\n",
       "    }\n",
       "\n",
       "    .dataframe thead th {\n",
       "        text-align: right;\n",
       "    }\n",
       "</style>\n",
       "<table border=\"1\" class=\"dataframe\">\n",
       "  <thead>\n",
       "    <tr style=\"text-align: right;\">\n",
       "      <th></th>\n",
       "      <th>index</th>\n",
       "      <th>CELF2</th>\n",
       "      <th>celf2</th>\n",
       "    </tr>\n",
       "  </thead>\n",
       "  <tbody>\n",
       "    <tr>\n",
       "      <th>0</th>\n",
       "      <td>HTMCP-03-06-02001</td>\n",
       "      <td>1.0604</td>\n",
       "      <td>wt</td>\n",
       "    </tr>\n",
       "    <tr>\n",
       "      <th>1</th>\n",
       "      <td>HTMCP-03-06-02002</td>\n",
       "      <td>2.0148</td>\n",
       "      <td>wt</td>\n",
       "    </tr>\n",
       "    <tr>\n",
       "      <th>2</th>\n",
       "      <td>HTMCP-03-06-02003</td>\n",
       "      <td>1.7215</td>\n",
       "      <td>wt</td>\n",
       "    </tr>\n",
       "    <tr>\n",
       "      <th>3</th>\n",
       "      <td>HTMCP-03-06-02006</td>\n",
       "      <td>1.1998</td>\n",
       "      <td>wt</td>\n",
       "    </tr>\n",
       "    <tr>\n",
       "      <th>4</th>\n",
       "      <td>HTMCP-03-06-02007</td>\n",
       "      <td>4.8031</td>\n",
       "      <td>wt</td>\n",
       "    </tr>\n",
       "  </tbody>\n",
       "</table>\n",
       "</div>"
      ],
      "text/plain": [
       "               index   CELF2 celf2\n",
       "0  HTMCP-03-06-02001  1.0604    wt\n",
       "1  HTMCP-03-06-02002  2.0148    wt\n",
       "2  HTMCP-03-06-02003  1.7215    wt\n",
       "3  HTMCP-03-06-02006  1.1998    wt\n",
       "4  HTMCP-03-06-02007  4.8031    wt"
      ]
     },
     "execution_count": 230,
     "metadata": {},
     "output_type": "execute_result"
    }
   ],
   "source": [
    "df46.head()"
   ]
  },
  {
   "cell_type": "code",
   "execution_count": 252,
   "metadata": {},
   "outputs": [
    {
     "data": {
      "text/html": [
       "<div>\n",
       "<style scoped>\n",
       "    .dataframe tbody tr th:only-of-type {\n",
       "        vertical-align: middle;\n",
       "    }\n",
       "\n",
       "    .dataframe tbody tr th {\n",
       "        vertical-align: top;\n",
       "    }\n",
       "\n",
       "    .dataframe thead th {\n",
       "        text-align: right;\n",
       "    }\n",
       "</style>\n",
       "<table border=\"1\" class=\"dataframe\">\n",
       "  <thead>\n",
       "    <tr style=\"text-align: right;\">\n",
       "      <th></th>\n",
       "      <th>pat</th>\n",
       "      <th>cnv</th>\n",
       "      <th>BMP2</th>\n",
       "    </tr>\n",
       "  </thead>\n",
       "  <tbody>\n",
       "    <tr>\n",
       "      <th>0</th>\n",
       "      <td>HTMCP-03-06-02001</td>\n",
       "      <td>2</td>\n",
       "      <td>24.2485</td>\n",
       "    </tr>\n",
       "    <tr>\n",
       "      <th>1</th>\n",
       "      <td>HTMCP-03-06-02002</td>\n",
       "      <td>2</td>\n",
       "      <td>0.5206</td>\n",
       "    </tr>\n",
       "    <tr>\n",
       "      <th>2</th>\n",
       "      <td>HTMCP-03-06-02003</td>\n",
       "      <td>3</td>\n",
       "      <td>22.7987</td>\n",
       "    </tr>\n",
       "    <tr>\n",
       "      <th>3</th>\n",
       "      <td>HTMCP-03-06-02006</td>\n",
       "      <td>2</td>\n",
       "      <td>16.7144</td>\n",
       "    </tr>\n",
       "    <tr>\n",
       "      <th>4</th>\n",
       "      <td>HTMCP-03-06-02007</td>\n",
       "      <td>2</td>\n",
       "      <td>3.3167</td>\n",
       "    </tr>\n",
       "  </tbody>\n",
       "</table>\n",
       "</div>"
      ],
      "text/plain": [
       "                 pat  cnv     BMP2\n",
       "0  HTMCP-03-06-02001    2  24.2485\n",
       "1  HTMCP-03-06-02002    2   0.5206\n",
       "2  HTMCP-03-06-02003    3  22.7987\n",
       "3  HTMCP-03-06-02006    2  16.7144\n",
       "4  HTMCP-03-06-02007    2   3.3167"
      ]
     },
     "execution_count": 252,
     "metadata": {},
     "output_type": "execute_result"
    }
   ],
   "source": [
    "df47.head()"
   ]
  },
  {
   "cell_type": "code",
   "execution_count": 263,
   "metadata": {},
   "outputs": [
    {
     "name": "stdout",
     "output_type": "stream",
     "text": [
      "0.08874342839133187\n"
     ]
    },
    {
     "data": {
      "image/png": "[encoded data removed]",
      "text/plain": [
       "<Figure size 432x288 with 1 Axes>"
      ]
     },
     "metadata": {},
     "output_type": "display_data"
    }
   ],
   "source": [
    "fig = plt.figure()\n",
    "ax = fig.add_subplot(111)\n",
    "group_col = 'cnv'\n",
    "value_col = 'BMP2'\n",
    "sns.swarmplot(x=group_col, y=value_col, data=df47, edgecolor=\"black\", linewidth=.9, facecolor='blue')\n",
    "sns.boxplot(x=group_col, y=value_col, data=df47, saturation=1, ax=ax)\n",
    "g1 = df47.query('{0}==\"{1}\"'.format(group_col, 1))[value_col]\n",
    "g2 = df47.query('{0}==\"{1}\"'.format(group_col, 2))[value_col]\n",
    "sts, p = ss.mannwhitneyu(g1, g2, use_continuity=True, alternative=None)\n",
    "print(p)\n",
    "# sns.swarmplot([2]*len(wts), wts, edgecolor=\"black\", linewidth=.9, facecolor=\"red\")"
   ]
  },
  {
   "cell_type": "code",
   "execution_count": 262,
   "metadata": {},
   "outputs": [
    {
     "data": {
      "text/html": [
       "<div>\n",
       "<style scoped>\n",
       "    .dataframe tbody tr th:only-of-type {\n",
       "        vertical-align: middle;\n",
       "    }\n",
       "\n",
       "    .dataframe tbody tr th {\n",
       "        vertical-align: top;\n",
       "    }\n",
       "\n",
       "    .dataframe thead th {\n",
       "        text-align: right;\n",
       "    }\n",
       "</style>\n",
       "<table border=\"1\" class=\"dataframe\">\n",
       "  <thead>\n",
       "    <tr style=\"text-align: right;\">\n",
       "      <th></th>\n",
       "      <th>pat</th>\n",
       "      <th>cnv</th>\n",
       "      <th>BMP2</th>\n",
       "    </tr>\n",
       "  </thead>\n",
       "  <tbody>\n",
       "    <tr>\n",
       "      <th>5</th>\n",
       "      <td>HTMCP-03-06-02008</td>\n",
       "      <td>1</td>\n",
       "      <td>0.9090</td>\n",
       "    </tr>\n",
       "    <tr>\n",
       "      <th>16</th>\n",
       "      <td>HTMCP-03-06-02054</td>\n",
       "      <td>1</td>\n",
       "      <td>4.1518</td>\n",
       "    </tr>\n",
       "    <tr>\n",
       "      <th>26</th>\n",
       "      <td>HTMCP-03-06-02076</td>\n",
       "      <td>1</td>\n",
       "      <td>2.9091</td>\n",
       "    </tr>\n",
       "    <tr>\n",
       "      <th>35</th>\n",
       "      <td>HTMCP-03-06-02139</td>\n",
       "      <td>1</td>\n",
       "      <td>1.0261</td>\n",
       "    </tr>\n",
       "    <tr>\n",
       "      <th>43</th>\n",
       "      <td>HTMCP-03-06-02147</td>\n",
       "      <td>1</td>\n",
       "      <td>4.0946</td>\n",
       "    </tr>\n",
       "    <tr>\n",
       "      <th>61</th>\n",
       "      <td>HTMCP-03-06-02151</td>\n",
       "      <td>1</td>\n",
       "      <td>2.4556</td>\n",
       "    </tr>\n",
       "    <tr>\n",
       "      <th>66</th>\n",
       "      <td>HTMCP-03-06-02213</td>\n",
       "      <td>1</td>\n",
       "      <td>2.7366</td>\n",
       "    </tr>\n",
       "    <tr>\n",
       "      <th>71</th>\n",
       "      <td>HTMCP-03-06-02204</td>\n",
       "      <td>1</td>\n",
       "      <td>7.5640</td>\n",
       "    </tr>\n",
       "    <tr>\n",
       "      <th>76</th>\n",
       "      <td>HTMCP-03-06-02235</td>\n",
       "      <td>1</td>\n",
       "      <td>1.2797</td>\n",
       "    </tr>\n",
       "    <tr>\n",
       "      <th>78</th>\n",
       "      <td>HTMCP-03-06-02239</td>\n",
       "      <td>1</td>\n",
       "      <td>9.8771</td>\n",
       "    </tr>\n",
       "    <tr>\n",
       "      <th>106</th>\n",
       "      <td>HTMCP-03-06-02377</td>\n",
       "      <td>1</td>\n",
       "      <td>8.3917</td>\n",
       "    </tr>\n",
       "    <tr>\n",
       "      <th>107</th>\n",
       "      <td>HTMCP-03-06-02392</td>\n",
       "      <td>1</td>\n",
       "      <td>4.9372</td>\n",
       "    </tr>\n",
       "    <tr>\n",
       "      <th>110</th>\n",
       "      <td>HTMCP-03-06-02411</td>\n",
       "      <td>1</td>\n",
       "      <td>7.1955</td>\n",
       "    </tr>\n",
       "    <tr>\n",
       "      <th>121</th>\n",
       "      <td>HTMCP-03-06-02447</td>\n",
       "      <td>1</td>\n",
       "      <td>6.6484</td>\n",
       "    </tr>\n",
       "  </tbody>\n",
       "</table>\n",
       "</div>"
      ],
      "text/plain": [
       "                   pat  cnv    BMP2\n",
       "5    HTMCP-03-06-02008    1  0.9090\n",
       "16   HTMCP-03-06-02054    1  4.1518\n",
       "26   HTMCP-03-06-02076    1  2.9091\n",
       "35   HTMCP-03-06-02139    1  1.0261\n",
       "43   HTMCP-03-06-02147    1  4.0946\n",
       "61   HTMCP-03-06-02151    1  2.4556\n",
       "66   HTMCP-03-06-02213    1  2.7366\n",
       "71   HTMCP-03-06-02204    1  7.5640\n",
       "76   HTMCP-03-06-02235    1  1.2797\n",
       "78   HTMCP-03-06-02239    1  9.8771\n",
       "106  HTMCP-03-06-02377    1  8.3917\n",
       "107  HTMCP-03-06-02392    1  4.9372\n",
       "110  HTMCP-03-06-02411    1  7.1955\n",
       "121  HTMCP-03-06-02447    1  6.6484"
      ]
     },
     "execution_count": 262,
     "metadata": {},
     "output_type": "execute_result"
    }
   ],
   "source": [
    "df47.query('{0}==\"{1}\"'.format(group_col, 1))"
   ]
  },
  {
   "cell_type": "code",
   "execution_count": 574,
   "metadata": {},
   "outputs": [
    {
     "name": "stdout",
     "output_type": "stream",
     "text": [
      "appending [[2 3 4]] <class 'numpy.ndarray'>\n",
      "[[1 1 1]\n",
      " [2 3 4]]\n",
      "appending [[3 4 5]] <class 'numpy.ndarray'>\n",
      "[[1 1 1]\n",
      " [2 3 4]\n",
      " [3 4 5]]\n"
     ]
    },
    {
     "data": {
      "text/plain": [
       "array([[1, 1, 1],\n",
       "       [2, 3, 4],\n",
       "       [3, 4, 5]])"
      ]
     },
     "execution_count": 574,
     "metadata": {},
     "output_type": "execute_result"
    }
   ],
   "source": [
    "\n",
    "tms = 2\n",
    "def fun(tms):\n",
    "    w_chgs = np.array([[1,1,1]])\n",
    "    w = np.array([[1,2,3]])\n",
    "#     print(w_chgs, w)\n",
    "\n",
    "    for e in range(tms):\n",
    "        w += 1\n",
    "        print('appending', w, type(w))\n",
    "        w_chgs = np.concatenate((w_chgs, w))\n",
    "        print(w_chgs)\n",
    "    return (w, w_chgs)\n",
    "    \n",
    "w, w_chgs = fun(tms)\n",
    "w_chgs"
   ]
  },
  {
   "cell_type": "code",
   "execution_count": 558,
   "metadata": {},
   "outputs": [
    {
     "data": {
      "text/plain": [
       "array([[1, 2, 3],\n",
       "       [9, 8, 7]])"
      ]
     },
     "execution_count": 558,
     "metadata": {},
     "output_type": "execute_result"
    }
   ],
   "source": [
    "a = np.array([[1, 2, 3]])\n",
    "\n",
    "b = np.array([[9, 8, 7]])\n",
    "\n",
    "np.concatenate((a, b))"
   ]
  },
  {
   "cell_type": "code",
   "execution_count": 13,
   "metadata": {},
   "outputs": [],
   "source": [
    "np.argmax?"
   ]
  }
 ],
 "metadata": {
  "kernelspec": {
   "display_name": "Python 3",
   "language": "python",
   "name": "python3"
  },
  "language_info": {
   "codemirror_mode": {
    "name": "ipython",
    "version": 3
   },
   "file_extension": ".py",
   "mimetype": "text/x-python",
   "name": "python",
   "nbconvert_exporter": "python",
   "pygments_lexer": "ipython3",
   "version": "3.6.5"
  }
 },
 "nbformat": 4,
 "nbformat_minor": 2
}
