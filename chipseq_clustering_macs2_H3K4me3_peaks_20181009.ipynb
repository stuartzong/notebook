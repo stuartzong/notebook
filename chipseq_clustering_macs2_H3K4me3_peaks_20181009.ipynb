{
 "cells": [
  {
   "cell_type": "markdown",
   "metadata": {},
   "source": [
    "this use heatmap instead of imshow to generate oncoprint should be adopted from now on."
   ]
  },
  {
   "cell_type": "code",
   "execution_count": 1,
   "metadata": {},
   "outputs": [],
   "source": [
    "import pandas as pd\n",
    "import numpy as np\n",
    "import string as s\n",
    "import seaborn as sns\n",
    "import math\n",
    "# import tables\n",
    "import matplotlib\n",
    "import matplotlib.pyplot as plt\n",
    "from matplotlib import style, colors\n",
    "from itertools import groupby\n",
    "import matplotlib.patches as patches\n",
    "from matplotlib import gridspec\n",
    "import scipy.stats as stats\n",
    "from scipy.cluster.hierarchy import dendrogram, linkage, fcluster, fclusterdata, leaves_list\n",
    "from scipy.spatial.distance import pdist\n",
    "from scipy.ndimage.interpolation import shift\n",
    "# matplotlib.style.use('ggplot')\n",
    "# %matplotlib inline\n",
    "matplotlib.rcParams['figure.figsize'] = (8, 6)\n",
    "# matplotlib.rcParams['figure.facecolor'] = 'white'\n",
    "import mpl_toolkits.mplot3d.axes3d as p3\n",
    "from sklearn.cluster import AgglomerativeClustering\n",
    "from sklearn.datasets.samples_generator import make_swiss_roll\n",
    "matplotlib.style.use('ggplot')\n",
    "%matplotlib inline\n",
    "from IPython.core.interactiveshell import InteractiveShell\n",
    "InteractiveShell.ast_node_interactivity = \"all\""
   ]
  },
  {
   "cell_type": "code",
   "execution_count": 56,
   "metadata": {},
   "outputs": [],
   "source": [
    "# choose color from here\n",
    "# http://colorbrewer2.org/#type=diverging&scheme=RdYlBu&n=4"
   ]
  },
  {
   "cell_type": "markdown",
   "metadata": {},
   "source": [
    "# 1. Overview"
   ]
  },
  {
   "cell_type": "markdown",
   "metadata": {},
   "source": [
    " 53 samples in total, 20 hiv+, 18 hiv-, 7 hiv+ controls, 7 hiv- controls"
   ]
  },
  {
   "cell_type": "markdown",
   "metadata": {},
   "source": [
    "https://www.bcgsc.ca/jira/browse/DA-167\n",
    "\n",
    "https://www.bcgsc.ca/jira/browse/PIPE-1102\n",
    "\n",
    "118 patients are here:\n",
    "\n",
    "/projects/trans_scratch/validations/workspace/szong/Cervical/mutsig2cv/118_patients.txt \n",
    "\n",
    "we lost two hypermutated cases when using 118 patients as discovery cohort."
   ]
  },
  {
   "cell_type": "markdown",
   "metadata": {},
   "source": [
    "constants for notebook"
   ]
  },
  {
   "cell_type": "code",
   "execution_count": 199,
   "metadata": {},
   "outputs": [],
   "source": [
    "wkdir = '/projects/da_workspace/DA-167_Cervical_epi_clustering/'\n",
    "mark = 'H3K4me3'\n",
    "# mark = 'H3K27ac'\n",
    "overlap = 0.1\n",
    "distance = 'correlation'\n",
    "linkage = 'ward'"
   ]
  },
  {
   "cell_type": "markdown",
   "metadata": {},
   "source": [
    "# 2. get all narrow peak and broad peak files"
   ]
  },
  {
   "cell_type": "code",
   "execution_count": 196,
   "metadata": {},
   "outputs": [
    {
     "name": "stdout",
     "output_type": "stream",
     "text": [
      "/projects/da_workspace/DA-167_Cervical_epi_clustering/, H3K4me3\n",
      "HTMCP-03-06-02001\tA84611\tH3K4me3\t/projects/chipseq/macs/A84611/75nt/hg19a/bwa-mem-0.7.6a-sb/MACS_2.1.1.20160309/A84611_H3K4me3_peaks.narrowPeak\n",
      "HTMCP-03-06-02002\tA94512\tH3K4me3\t/projects/chipseq/macs/A94512/75nt/hg19a/bwa-mem-0.7.6a-sb/MACS_2.1.1.20160309/A94512_H3K4me3_peaks.narrowPeak\n",
      "53 H3K4me3_peak_file_path.txt\n"
     ]
    }
   ],
   "source": [
    "%%bash -s $wkdir $mark\n",
    "cd $1\n",
    "wkdir=$1\n",
    "mark=$2\n",
    "echo $wkdir, $mark\n",
    "ls -1 /projects/chipseq/macs/A*/75nt/hg19a/bwa-mem-0.7.6a-sb/MACS_2.1.1.20160309/*$mark*Peak > a.tmp\n",
    "cat a.tmp |awk -F \"/\" '{print $5\"\\t\"$0}'|awk -F \"_\" '{print $3\"\\t\"$0}'>d.tmp\n",
    "while read a b c;do grep $b 57_chipseq_samples_library_ids.csv|cut -f 1|\\\n",
    "awk -v lib=$b -v path=$c -v mark=$a -F \"-01\" '{print $1\"\\t\"lib\"\\t\"mark\"\\t\"path}' ;done \\\n",
    "< d.tmp |sort -k1 -k2 > $mark\"_peak_file_path.txt\"\n",
    "rm a.tmp  d.tmp \n",
    "head -2 $mark\"_peak_file_path.txt\"\n",
    "wc -l $mark\"_peak_file_path.txt\""
   ]
  },
  {
   "cell_type": "code",
   "execution_count": 197,
   "metadata": {},
   "outputs": [],
   "source": [
    "# missing files for H3K4me3:\n",
    "#     HTMCP-03-06-02195-01B\tpositive\tnon mutated A94364\n",
    "#     HTMCP-03-06-02256-01A\tnegative\tmutated\tA84814\n",
    "\n"
   ]
  },
  {
   "cell_type": "markdown",
   "metadata": {},
   "source": [
    "# 3. intersect with promoters"
   ]
  },
  {
   "cell_type": "code",
   "execution_count": 198,
   "metadata": {},
   "outputs": [
    {
     "name": "stderr",
     "output_type": "stream",
     "text": [
      "mkdir: cannot create directory `H3K4me3_promoter': File exists\n"
     ]
    }
   ],
   "source": [
    "%%bash -s $wkdir $mark\n",
    "#sort peak files and intersect with merged/split peak regions, required 50% overlap\n",
    "promoters='/projects/trans_scratch/validations/workspace/szong/Cervical/chipseq/hg19v69_genes.TSS_2000.pc.bed.cleaned'\n",
    "bedtools=/home/rcorbett/aligners/bedtools/BEDTools-Version-2.15.0/bin/bedtools\n",
    "wkdir=$1\n",
    "mark=$2\n",
    "markfile=$mark\"_peak_file_path.txt\"\n",
    "\n",
    "cd $wkdir\n",
    "mkdir $mark\"_promoter\"\n",
    "\n",
    "while read a b c d;do cat $d|grep -v \"^GL\"|grep -v \"^MT\"|grep -v \"^chr\"|sed 's/^X/23/g'|\\\n",
    "sed 's/^Y/24/g'|sort -k1n -k2n -k3n >$a.$c.sorted;done < $markfile\n",
    "\n",
    "# do we need to filter based on q value?\n",
    "# awk '$3-$2>100' $mark\"_coor_with_peaks_merged_1kb_split.txt\">  $mark\"_coor_with_peaks_merged_1kb_split.rm.txt\"\n",
    "\n",
    "# intersect with putative promoters. there are times that one gene has multiple peaks, should keep the tallest peak?\n",
    "for f in HTMCP*.$mark.sorted; \\\n",
    "# do $bedtools intersect -a $promoters -b $f -f 0.1 -wa -wb>$mark\"_promoter\"/$f.intersected;\\\n",
    "do $bedtools intersect -a $promoters -b $f -wa -wb>$mark\"_promoter\"/$f.intersected;\\\n",
    "done\n",
    "\n",
    "rm HTMCP*.$mark.sorted\n",
    "ls -1 $wkdir$mark\"_promoter\"/*.intersected > $mark\"_promoter_intersected_files.txt\"\n",
    "# remove intermediate files\n"
   ]
  },
  {
   "cell_type": "code",
   "execution_count": null,
   "metadata": {},
   "outputs": [],
   "source": []
  },
  {
   "cell_type": "markdown",
   "metadata": {},
   "source": [
    "# 4. merge all peak fold changes into a dataframe"
   ]
  },
  {
   "cell_type": "code",
   "execution_count": 56,
   "metadata": {
    "scrolled": true
   },
   "outputs": [
    {
     "data": {
      "text/html": [
       "<div>\n",
       "<style scoped>\n",
       "    .dataframe tbody tr th:only-of-type {\n",
       "        vertical-align: middle;\n",
       "    }\n",
       "\n",
       "    .dataframe tbody tr th {\n",
       "        vertical-align: top;\n",
       "    }\n",
       "\n",
       "    .dataframe thead th {\n",
       "        text-align: right;\n",
       "    }\n",
       "</style>\n",
       "<table border=\"1\" class=\"dataframe\">\n",
       "  <thead>\n",
       "    <tr style=\"text-align: right;\">\n",
       "      <th></th>\n",
       "      <th>files</th>\n",
       "    </tr>\n",
       "  </thead>\n",
       "  <tbody>\n",
       "    <tr>\n",
       "      <th>0</th>\n",
       "      <td>/projects/da_workspace/DA-167_Cervical_epi_clu...</td>\n",
       "    </tr>\n",
       "    <tr>\n",
       "      <th>1</th>\n",
       "      <td>/projects/da_workspace/DA-167_Cervical_epi_clu...</td>\n",
       "    </tr>\n",
       "  </tbody>\n",
       "</table>\n",
       "</div>"
      ],
      "text/plain": [
       "                                               files\n",
       "0  /projects/da_workspace/DA-167_Cervical_epi_clu...\n",
       "1  /projects/da_workspace/DA-167_Cervical_epi_clu..."
      ]
     },
     "execution_count": 56,
     "metadata": {},
     "output_type": "execute_result"
    },
    {
     "data": {
      "text/plain": [
       "(54, 1)"
      ]
     },
     "execution_count": 56,
     "metadata": {},
     "output_type": "execute_result"
    }
   ],
   "source": [
    "f3 = f'{wkdir}{mark}_promoter_intersected_files.txt'\n",
    "df3 = pd.read_csv(f3, header=None)\n",
    "df3.columns = ['files']\n",
    "df3.head(2)\n",
    "df3.shape"
   ]
  },
  {
   "cell_type": "code",
   "execution_count": 57,
   "metadata": {
    "scrolled": true
   },
   "outputs": [],
   "source": [
    "subdir = f'{wkdir}{mark}_promoter'\n",
    "dfmg = pd.DataFrame()\n",
    "for ix, row in df3.iterrows():\n",
    "    patient = row.files.split('/')[-1].split('.')[0]\n",
    "    f = row.files\n",
    "    dftmp = pd.read_csv(f, sep='\\t', header=None)\n",
    "    dftmp.columns = ['chr_pro', 'chr_pro_start', 'chr_pro_end', 'gene', \n",
    "                     'chr', 'start', 'end', 'peak_id', 'qvalue_int_score', \n",
    "                     'unknown', 'fold_change', '-log10pvalue', '-log10qvalue', \n",
    "                     'summit_position' ]\n",
    "    dftmp = dftmp[['chr_pro', 'chr_pro_start', 'chr_pro_end', 'fold_change']]\n",
    "    dftmp = dftmp.sort_values(['chr_pro', 'chr_pro_start', 'chr_pro_end','fold_change'])\n",
    "    dftmp.set_index(['chr_pro', 'chr_pro_start', 'chr_pro_end'], inplace=True)\n",
    "#     deal with one gene has multiple peaks in promoter region\n",
    "    dftmp = dftmp[~dftmp.index.duplicated(keep='last')]\n",
    "    dftmp.columns = [patient]\n",
    "    if dfmg.empty:\n",
    "        dfmg = dftmp\n",
    "    else:\n",
    "        dfmg = pd.merge(dfmg, dftmp, left_index=True, right_index=True, how='outer')\n"
   ]
  },
  {
   "cell_type": "code",
   "execution_count": 58,
   "metadata": {},
   "outputs": [],
   "source": [
    "dfmg.reset_index(inplace=True)"
   ]
  },
  {
   "cell_type": "code",
   "execution_count": 59,
   "metadata": {},
   "outputs": [
    {
     "data": {
      "text/html": [
       "<div>\n",
       "<style scoped>\n",
       "    .dataframe tbody tr th:only-of-type {\n",
       "        vertical-align: middle;\n",
       "    }\n",
       "\n",
       "    .dataframe tbody tr th {\n",
       "        vertical-align: top;\n",
       "    }\n",
       "\n",
       "    .dataframe thead th {\n",
       "        text-align: right;\n",
       "    }\n",
       "</style>\n",
       "<table border=\"1\" class=\"dataframe\">\n",
       "  <thead>\n",
       "    <tr style=\"text-align: right;\">\n",
       "      <th></th>\n",
       "      <th>chr_pro</th>\n",
       "      <th>chr_pro_start</th>\n",
       "      <th>chr_pro_end</th>\n",
       "      <th>HTMCP-03-06-02001</th>\n",
       "      <th>HTMCP-03-06-02002</th>\n",
       "      <th>HTMCP-03-06-02006</th>\n",
       "      <th>HTMCP-03-06-02007</th>\n",
       "      <th>HTMCP-03-06-02012</th>\n",
       "      <th>HTMCP-03-06-02020</th>\n",
       "      <th>HTMCP-03-06-02026</th>\n",
       "      <th>...</th>\n",
       "      <th>HTMCP-03-06-02235</th>\n",
       "      <th>HTMCP-03-06-02256</th>\n",
       "      <th>HTMCP-03-06-02260</th>\n",
       "      <th>HTMCP-03-06-02261</th>\n",
       "      <th>HTMCP-03-06-02266</th>\n",
       "      <th>HTMCP-03-06-02267</th>\n",
       "      <th>HTMCP-03-06-02268</th>\n",
       "      <th>HTMCP-03-06-02320</th>\n",
       "      <th>HTMCP-03-06-02330</th>\n",
       "      <th>HTMCP-03-06-02332</th>\n",
       "    </tr>\n",
       "  </thead>\n",
       "  <tbody>\n",
       "    <tr>\n",
       "      <th>0</th>\n",
       "      <td>1</td>\n",
       "      <td>34081</td>\n",
       "      <td>38080</td>\n",
       "      <td>NaN</td>\n",
       "      <td>NaN</td>\n",
       "      <td>NaN</td>\n",
       "      <td>NaN</td>\n",
       "      <td>NaN</td>\n",
       "      <td>NaN</td>\n",
       "      <td>NaN</td>\n",
       "      <td>...</td>\n",
       "      <td>NaN</td>\n",
       "      <td>NaN</td>\n",
       "      <td>NaN</td>\n",
       "      <td>NaN</td>\n",
       "      <td>3.15314</td>\n",
       "      <td>NaN</td>\n",
       "      <td>NaN</td>\n",
       "      <td>NaN</td>\n",
       "      <td>NaN</td>\n",
       "      <td>NaN</td>\n",
       "    </tr>\n",
       "    <tr>\n",
       "      <th>1</th>\n",
       "      <td>1</td>\n",
       "      <td>858261</td>\n",
       "      <td>862260</td>\n",
       "      <td>NaN</td>\n",
       "      <td>NaN</td>\n",
       "      <td>NaN</td>\n",
       "      <td>NaN</td>\n",
       "      <td>NaN</td>\n",
       "      <td>NaN</td>\n",
       "      <td>NaN</td>\n",
       "      <td>...</td>\n",
       "      <td>NaN</td>\n",
       "      <td>NaN</td>\n",
       "      <td>NaN</td>\n",
       "      <td>NaN</td>\n",
       "      <td>NaN</td>\n",
       "      <td>NaN</td>\n",
       "      <td>NaN</td>\n",
       "      <td>NaN</td>\n",
       "      <td>NaN</td>\n",
       "      <td>NaN</td>\n",
       "    </tr>\n",
       "  </tbody>\n",
       "</table>\n",
       "<p>2 rows × 57 columns</p>\n",
       "</div>"
      ],
      "text/plain": [
       "   chr_pro  chr_pro_start  chr_pro_end  HTMCP-03-06-02001  HTMCP-03-06-02002  \\\n",
       "0        1          34081        38080                NaN                NaN   \n",
       "1        1         858261       862260                NaN                NaN   \n",
       "\n",
       "   HTMCP-03-06-02006  HTMCP-03-06-02007  HTMCP-03-06-02012  HTMCP-03-06-02020  \\\n",
       "0                NaN                NaN                NaN                NaN   \n",
       "1                NaN                NaN                NaN                NaN   \n",
       "\n",
       "   HTMCP-03-06-02026        ...          HTMCP-03-06-02235  HTMCP-03-06-02256  \\\n",
       "0                NaN        ...                        NaN                NaN   \n",
       "1                NaN        ...                        NaN                NaN   \n",
       "\n",
       "   HTMCP-03-06-02260  HTMCP-03-06-02261  HTMCP-03-06-02266  HTMCP-03-06-02267  \\\n",
       "0                NaN                NaN            3.15314                NaN   \n",
       "1                NaN                NaN                NaN                NaN   \n",
       "\n",
       "   HTMCP-03-06-02268  HTMCP-03-06-02320  HTMCP-03-06-02330  HTMCP-03-06-02332  \n",
       "0                NaN                NaN                NaN                NaN  \n",
       "1                NaN                NaN                NaN                NaN  \n",
       "\n",
       "[2 rows x 57 columns]"
      ]
     },
     "execution_count": 59,
     "metadata": {},
     "output_type": "execute_result"
    }
   ],
   "source": [
    "dfmg.head(2)"
   ]
  },
  {
   "cell_type": "code",
   "execution_count": 60,
   "metadata": {},
   "outputs": [
    {
     "data": {
      "text/plain": [
       "(16792, 57)"
      ]
     },
     "execution_count": 60,
     "metadata": {},
     "output_type": "execute_result"
    }
   ],
   "source": [
    "dfmg.shape"
   ]
  },
  {
   "cell_type": "code",
   "execution_count": 182,
   "metadata": {},
   "outputs": [],
   "source": [
    "feather_file = f'{wkdir}{mark}_promoter/fold_change_matrix.feather'\n",
    "# dfmg.to_feather(feather_file)"
   ]
  },
  {
   "cell_type": "code",
   "execution_count": 183,
   "metadata": {},
   "outputs": [
    {
     "data": {
      "text/plain": [
       "'/projects/da_workspace/DA-167_Cervical_epi_clustering/H3K4me3_promoter/fold_change_matrix.feather'"
      ]
     },
     "execution_count": 183,
     "metadata": {},
     "output_type": "execute_result"
    }
   ],
   "source": [
    "feather_file"
   ]
  },
  {
   "cell_type": "markdown",
   "metadata": {},
   "source": [
    "# 5. hierarchical clustering and plot starts here"
   ]
  },
  {
   "cell_type": "code",
   "execution_count": 3,
   "metadata": {},
   "outputs": [],
   "source": [
    "# my_colors = [ \"purple\", \"lightgray\", \"#E69F00\",\"#009E73\",\"#56B4E9\",\"#377EB8\",\"#E41A1C\",\"#F0E442\",'black',\"#D55E00\",\"#CC79A7\"]"
   ]
  },
  {
   "cell_type": "code",
   "execution_count": 30,
   "metadata": {},
   "outputs": [],
   "source": [
    "def get_legend_categories(df_covariates):\n",
    "    a = []\n",
    "    covariate_dict = {}\n",
    "    for ix, row in pd.DataFrame(df_covariates.apply(lambda x: sorted(x.unique().tolist()), axis=1)).iterrows():\n",
    "    #     print(ix, row[0])\n",
    "        item = row[0]\n",
    "        if item not in a:\n",
    "            a.append(item)\n",
    "            covariate_dict[ix] = item\n",
    "    return covariate_dict"
   ]
  },
  {
   "cell_type": "code",
   "execution_count": 31,
   "metadata": {
    "scrolled": true
   },
   "outputs": [],
   "source": [
    "def add_numeric_covariate(df_covariates):\n",
    "    df_covariates = df_covariates[col_den_labels].fillna(0.0)\n",
    "    nrows = df_covariates.shape[0]\n",
    "    fig = plt.figure(figsize=(32,.5*nrows), facecolor='white')\n",
    "    gs = gridspec.GridSpec(nrows, 2,                            \n",
    "                           width_ratios=[1,18], \n",
    "                           height_ratios=[1]*nrows,\n",
    "                           wspace=0.0, # horizontal space\n",
    "                           hspace=0.0  # vertical space\n",
    "                          )\n",
    "    grid_num = 0\n",
    "    for ix, row in df_covariates.iterrows():\n",
    "        dfa = pd.DataFrame(index=[ix], columns=df_covariates.columns)\n",
    "        dfa.loc[ix,:] = df_covariates.loc[ix,].astype(float)\n",
    "        dfa = dfa.astype(float)\n",
    "        # add cbar ax\n",
    "        gs0 = gs[grid_num]\n",
    "        ax0 =  plt.subplot(gs0, frameon=False)   \n",
    "        _ = ax0.get_xaxis().set_ticks([])\n",
    "        _ = ax0.get_yaxis().set_ticks([])\n",
    "        _ = ax0.set_title('')\n",
    "\n",
    "\n",
    "        # add covariate track legend\n",
    "        gs1 = gs[grid_num+1]\n",
    "        _ = ax1 = plt.subplot(gs1, facecolor='white')\n",
    "        _ = ax1.set_title(\"\")  \n",
    "        _ = sns.heatmap(dfa, \n",
    "                        ax=ax1, \n",
    "                        cmap = sns.light_palette('red', as_cmap=True),\n",
    "                        linewidths=.05,                    \n",
    "                        xticklabels=False,\n",
    "                        yticklabels=False,\n",
    "                        cbar=True,\n",
    "                        cbar_ax=ax0)\n",
    "        _ = ax1.tick_params(axis='y', which='major', labelsize=5)\n",
    "        _ = ax1.set_yticklabels(ax1.yaxis.get_majorticklabels(), rotation=0)\n",
    "        _ = ax1.yaxis.tick_right()\n",
    "\n",
    "        grid_num+=2\n",
    "    plt.show()\n",
    "    return dfa\n"
   ]
  },
  {
   "cell_type": "code",
   "execution_count": 32,
   "metadata": {},
   "outputs": [],
   "source": [
    "def order_df(df, row_labels, col_labels):\n",
    "    df = df[col_labels].reindex(row_labels)\n",
    "    return df"
   ]
  },
  {
   "cell_type": "code",
   "execution_count": 33,
   "metadata": {},
   "outputs": [],
   "source": [
    "def get_category_cmap(color_dict, categories):\n",
    "    \"\"\"\n",
    "    figure out color for categorical variables\n",
    "    color length must match category's, otherwise it will sample all available colors or reuse colors\n",
    "    \"\"\"\n",
    "    map_dict = {k:v for v, k in  enumerate(categories)} \n",
    "    clrs = [color_dict[k] for k in categories]\n",
    "    cmap = colors.ListedColormap(clrs)\n",
    "    return (map_dict, cmap)"
   ]
  },
  {
   "cell_type": "code",
   "execution_count": 34,
   "metadata": {},
   "outputs": [],
   "source": [
    "def plot_categorical_covariate(df, gs): \n",
    "    # df ordered by row and cols, col order matches dendrogram\n",
    "    nrows = df.shape[0]\n",
    "    gssubs = gridspec.GridSpecFromSubplotSpec(nrows, 1,  \n",
    "                                    height_ratios=[1]*nrows,\n",
    "                                    subplot_spec=gs)\n",
    "    grid_num = 0\n",
    "    for ix, row in df.iterrows():\n",
    "        categories = sorted(row.unique())\n",
    "        map_dict, cmap = get_category_cmap(color_dict, categories)\n",
    "        df_mapped = pd.DataFrame(index=[ix], columns=df.columns)\n",
    "        df_mapped.loc[ix,:] = df.loc[ix,].map(map_dict)#.astype(float)\n",
    "\n",
    "        # add covariate track legend\n",
    "        gs11 = gssubs[grid_num]\n",
    "        ax11 = plt.subplot(gs11, facecolor='white')\n",
    "        _ = ax11.set_title(\"\")  \n",
    "        _ = sns.heatmap(df_mapped, \n",
    "                        ax=ax11, \n",
    "                        cmap=cmap,\n",
    "                        linewidths=.05,                    \n",
    "                        xticklabels=False,\n",
    "                        yticklabels=False,\n",
    "                        cbar=False)#,\n",
    "#                         cbar_ax=ax00)\n",
    "        _ = ax11.tick_params(axis='y', which='major', labelsize=5)\n",
    "        _ = ax11.set_yticklabels(ax11.yaxis.get_majorticklabels(), rotation=0)\n",
    "        _ = ax11.yaxis.tick_right()\n",
    "        _ = ax11.set_title(\"\")\n",
    "        _ = ax11.set_xlabel('')\n",
    "        _ = ax11.set_ylabel(ix, rotation=0, fontsize=10)\n",
    "        ax11.get_yaxis().set_label_coords(-0.15,0.5)\n",
    "#         ax11.yaxis.set_label_position(\"right\")\n",
    "        grid_num+=1"
   ]
  },
  {
   "cell_type": "code",
   "execution_count": 35,
   "metadata": {},
   "outputs": [],
   "source": [
    "def plot_categorical_legend(gs):\n",
    "    ax =  plt.subplot(gs, frameon=True,facecolor='white')\n",
    "    num_legends = len(covariate_dict)\n",
    "    column = 0\n",
    "    for covariate in covariate_dict:\n",
    "        groups = covariate_dict[covariate]\n",
    "        add_patches(covariate, ax, groups, column, color_dict, num_legends)\n",
    "        column+=1"
   ]
  },
  {
   "cell_type": "code",
   "execution_count": 36,
   "metadata": {},
   "outputs": [],
   "source": [
    "#use this to make clustered heatmap and use add_covariate to make separate tracksS\n",
    "def plot_cluster_heatmap(dfm, df_covariates):  \n",
    "    fig = plt.figure(figsize=(16, 20), facecolor='white')\n",
    "    gs = gridspec.GridSpec(3, 2, width_ratios=[1,15], height_ratios=[10, 2, 3], \n",
    "                           wspace=0.0, # horizontal space\n",
    "                           hspace=0.3)  # vertical space\n",
    "      \n",
    "    # plot sample (patient) dendrogram\n",
    "    ax3 = plt.subplot(gs[3], facecolor='white')\n",
    "    ax3.set_title(\"\")\n",
    "    col_den_labels = plot_dengrogram(dfm, ax3)\n",
    "    \n",
    "    \n",
    "    # plot categorical covariate heatmap\n",
    "    plot_categorical_covariate(df_covariates, gs[1])\n",
    "\n",
    "\n",
    "    # plot categorical lenged\n",
    "    plot_categorical_legend(gs[5])\n",
    "    \n",
    "#     assert row_den_labels == df_hm.index.tolist()\n",
    "#     assert col_den_labels == df_hm.columns.tolist()\n",
    "\n",
    "    of = '{0}/{1}_heatmap.png'.format(wkdir, mark)\n",
    "    %time plt.savefig(of, bbox_inches='tight',dpi=300)\n",
    "    plt.show()\n",
    "    plt.close()\n",
    "    return col_den_labels"
   ]
  },
  {
   "cell_type": "code",
   "execution_count": 37,
   "metadata": {},
   "outputs": [],
   "source": [
    "def add_patches(covariate, ax, features, column, color_dict, num_legends):\n",
    "    k = 0\n",
    "    _ = ax.text(0.0+column*(1/(num_legends + .2)), .9, \n",
    "                 covariate, \n",
    "                 ha='left', \n",
    "                 va='center', \n",
    "                 fontsize=12)\n",
    "#     print(sorted(features))\n",
    "    for feature in sorted(features):\n",
    "#         print(feature)\n",
    "        types = len(features)\n",
    "        clr = color_dict[feature]\n",
    "#         clr = clrmap_dict[feature]\n",
    "        rect = patches.Rectangle((0+column*(1/(num_legends + .2)), .8-k*0.15), .02, .05, \n",
    "                             linewidth=0.001,\n",
    "                             edgecolor=clr,\n",
    "                             facecolor=clr)\n",
    "\n",
    "        _ = ax.text(0.05+column*(1/(num_legends + .2)), .8-k*0.15+.03, \n",
    "                     feature, \n",
    "                     ha='left', \n",
    "                     va='center', \n",
    "                     fontsize=9)\n",
    "        _ = ax.add_patch(rect)\n",
    "        k+=1\n",
    "    _ = ax.get_xaxis().set_ticks([])\n",
    "    _ = ax.get_yaxis().set_ticks([])\n",
    "    _ = ax.set_title('')"
   ]
  },
  {
   "cell_type": "code",
   "execution_count": null,
   "metadata": {},
   "outputs": [],
   "source": []
  },
  {
   "cell_type": "code",
   "execution_count": 192,
   "metadata": {},
   "outputs": [],
   "source": [
    "def plot_dengrogram(df, ax):\n",
    "    \"\"\"\n",
    "    df: rows are features, intervals marked or not, columns are samples, eg. patient\n",
    "    add column dendrogram\n",
    "    pdist(Y,'jaccard') returns jaccard distance, which is 1-jaccard similarity value, pairwise distance, so order in each vector matters, \n",
    "    but paired u[i], v[i] change order does not matter. important to note, it ignores pairs with both values are 0.\n",
    "    pdist([[1, 2, 2], [2,2,1]],'jaccard') = 0.666 not 0\n",
    "    pdist([0,1,1], [0,0,1]) = 0.5\n",
    "    \"\"\"\n",
    "    matrix = df.T.values\n",
    "    dist='jaccard' # this is jaccard distance 1-jaccard value\n",
    "    link='complete'    \n",
    "#     dist = 'correlation'\n",
    "#     link = 'ward'\n",
    "    Z = linkage(pdist(matrix, dist), link)\n",
    "    col_den = dendrogram(Z, leaf_rotation=90.,\n",
    "                         labels = df.columns,\n",
    "                         leaf_font_size=12,\n",
    "                         show_contracted=True, \n",
    "                         ax=ax)\n",
    "#                          no_labels=True)\n",
    "    col_den_labels = col_den['ivl']\n",
    "    return col_den_labels"
   ]
  },
  {
   "cell_type": "code",
   "execution_count": 62,
   "metadata": {},
   "outputs": [
    {
     "data": {
      "text/html": [
       "<div>\n",
       "<style scoped>\n",
       "    .dataframe tbody tr th:only-of-type {\n",
       "        vertical-align: middle;\n",
       "    }\n",
       "\n",
       "    .dataframe tbody tr th {\n",
       "        vertical-align: top;\n",
       "    }\n",
       "\n",
       "    .dataframe thead th {\n",
       "        text-align: right;\n",
       "    }\n",
       "</style>\n",
       "<table border=\"1\" class=\"dataframe\">\n",
       "  <thead>\n",
       "    <tr style=\"text-align: right;\">\n",
       "      <th></th>\n",
       "      <th>0</th>\n",
       "      <th>1</th>\n",
       "    </tr>\n",
       "  </thead>\n",
       "  <tbody>\n",
       "    <tr>\n",
       "      <th>0</th>\n",
       "      <td>HPV16</td>\n",
       "      <td>#7F3B08</td>\n",
       "    </tr>\n",
       "    <tr>\n",
       "      <th>1</th>\n",
       "      <td>HPV31</td>\n",
       "      <td>#B35806</td>\n",
       "    </tr>\n",
       "  </tbody>\n",
       "</table>\n",
       "</div>"
      ],
      "text/plain": [
       "       0        1\n",
       "0  HPV16  #7F3B08\n",
       "1  HPV31  #B35806"
      ]
     },
     "execution_count": 62,
     "metadata": {},
     "output_type": "execute_result"
    },
    {
     "data": {
      "text/plain": [
       "('HPV16', '#7F3B08')"
      ]
     },
     "execution_count": 62,
     "metadata": {},
     "output_type": "execute_result"
    }
   ],
   "source": [
    "f = '/projects/trans_scratch/validations/workspace/szong/Cervical/color_maps.txt'\n",
    "df_clrs = pd.read_csv(f, sep='\\t', header=None)\n",
    "color_dict = pd.Series(df_clrs[1].values,index=df_clrs[0]).to_dict()\n",
    "df_clrs.head(2)\n",
    "list(color_dict.items())[0]"
   ]
  },
  {
   "cell_type": "code",
   "execution_count": null,
   "metadata": {},
   "outputs": [],
   "source": []
  },
  {
   "cell_type": "code",
   "execution_count": 184,
   "metadata": {},
   "outputs": [
    {
     "data": {
      "text/html": [
       "<div>\n",
       "<style scoped>\n",
       "    .dataframe tbody tr th:only-of-type {\n",
       "        vertical-align: middle;\n",
       "    }\n",
       "\n",
       "    .dataframe tbody tr th {\n",
       "        vertical-align: top;\n",
       "    }\n",
       "\n",
       "    .dataframe thead th {\n",
       "        text-align: right;\n",
       "    }\n",
       "</style>\n",
       "<table border=\"1\" class=\"dataframe\">\n",
       "  <thead>\n",
       "    <tr style=\"text-align: right;\">\n",
       "      <th></th>\n",
       "      <th></th>\n",
       "      <th></th>\n",
       "      <th>HTMCP-03-06-02001</th>\n",
       "      <th>HTMCP-03-06-02002</th>\n",
       "      <th>HTMCP-03-06-02006</th>\n",
       "      <th>HTMCP-03-06-02007</th>\n",
       "      <th>HTMCP-03-06-02012</th>\n",
       "      <th>HTMCP-03-06-02020</th>\n",
       "      <th>HTMCP-03-06-02026</th>\n",
       "      <th>HTMCP-03-06-02036</th>\n",
       "      <th>HTMCP-03-06-02037</th>\n",
       "      <th>HTMCP-03-06-02040</th>\n",
       "      <th>...</th>\n",
       "      <th>HTMCP-03-06-02230</th>\n",
       "      <th>HTMCP-03-06-02235</th>\n",
       "      <th>HTMCP-03-06-02260</th>\n",
       "      <th>HTMCP-03-06-02261</th>\n",
       "      <th>HTMCP-03-06-02266</th>\n",
       "      <th>HTMCP-03-06-02267</th>\n",
       "      <th>HTMCP-03-06-02268</th>\n",
       "      <th>HTMCP-03-06-02320</th>\n",
       "      <th>HTMCP-03-06-02330</th>\n",
       "      <th>HTMCP-03-06-02332</th>\n",
       "    </tr>\n",
       "    <tr>\n",
       "      <th>chr_pro</th>\n",
       "      <th>chr_pro_start</th>\n",
       "      <th>chr_pro_end</th>\n",
       "      <th></th>\n",
       "      <th></th>\n",
       "      <th></th>\n",
       "      <th></th>\n",
       "      <th></th>\n",
       "      <th></th>\n",
       "      <th></th>\n",
       "      <th></th>\n",
       "      <th></th>\n",
       "      <th></th>\n",
       "      <th></th>\n",
       "      <th></th>\n",
       "      <th></th>\n",
       "      <th></th>\n",
       "      <th></th>\n",
       "      <th></th>\n",
       "      <th></th>\n",
       "      <th></th>\n",
       "      <th></th>\n",
       "      <th></th>\n",
       "      <th></th>\n",
       "    </tr>\n",
       "  </thead>\n",
       "  <tbody>\n",
       "    <tr>\n",
       "      <th rowspan=\"5\" valign=\"top\">1</th>\n",
       "      <th>34081</th>\n",
       "      <th>38080</th>\n",
       "      <td>0.00000</td>\n",
       "      <td>0.00000</td>\n",
       "      <td>0.00000</td>\n",
       "      <td>0.00000</td>\n",
       "      <td>0.00000</td>\n",
       "      <td>0.00000</td>\n",
       "      <td>0.00000</td>\n",
       "      <td>2.90228</td>\n",
       "      <td>8.37466</td>\n",
       "      <td>0.00000</td>\n",
       "      <td>...</td>\n",
       "      <td>3.64580</td>\n",
       "      <td>0.00000</td>\n",
       "      <td>0.00000</td>\n",
       "      <td>0.00000</td>\n",
       "      <td>4.45901</td>\n",
       "      <td>0.00000</td>\n",
       "      <td>0.00000</td>\n",
       "      <td>0.00000</td>\n",
       "      <td>0.00000</td>\n",
       "      <td>0.00000</td>\n",
       "    </tr>\n",
       "    <tr>\n",
       "      <th>858261</th>\n",
       "      <th>862260</th>\n",
       "      <td>4.73582</td>\n",
       "      <td>5.10685</td>\n",
       "      <td>8.52459</td>\n",
       "      <td>17.15151</td>\n",
       "      <td>9.51227</td>\n",
       "      <td>12.24350</td>\n",
       "      <td>10.53425</td>\n",
       "      <td>11.25621</td>\n",
       "      <td>7.53719</td>\n",
       "      <td>10.10188</td>\n",
       "      <td>...</td>\n",
       "      <td>11.10221</td>\n",
       "      <td>16.66255</td>\n",
       "      <td>10.36509</td>\n",
       "      <td>11.24310</td>\n",
       "      <td>11.70068</td>\n",
       "      <td>10.25241</td>\n",
       "      <td>9.24530</td>\n",
       "      <td>10.30638</td>\n",
       "      <td>9.69320</td>\n",
       "      <td>13.49828</td>\n",
       "    </tr>\n",
       "    <tr>\n",
       "      <th>892689</th>\n",
       "      <th>896688</th>\n",
       "      <td>7.80314</td>\n",
       "      <td>9.67613</td>\n",
       "      <td>16.17969</td>\n",
       "      <td>35.44883</td>\n",
       "      <td>20.46108</td>\n",
       "      <td>19.08545</td>\n",
       "      <td>15.28026</td>\n",
       "      <td>18.89524</td>\n",
       "      <td>13.88429</td>\n",
       "      <td>16.31843</td>\n",
       "      <td>...</td>\n",
       "      <td>18.98120</td>\n",
       "      <td>25.82695</td>\n",
       "      <td>22.21091</td>\n",
       "      <td>15.50773</td>\n",
       "      <td>15.60090</td>\n",
       "      <td>17.46141</td>\n",
       "      <td>19.71683</td>\n",
       "      <td>18.47703</td>\n",
       "      <td>12.95747</td>\n",
       "      <td>21.10818</td>\n",
       "    </tr>\n",
       "    <tr>\n",
       "      <th>893968</th>\n",
       "      <th>897967</th>\n",
       "      <td>7.80314</td>\n",
       "      <td>9.67613</td>\n",
       "      <td>16.17969</td>\n",
       "      <td>35.44883</td>\n",
       "      <td>20.46108</td>\n",
       "      <td>19.08545</td>\n",
       "      <td>15.28026</td>\n",
       "      <td>18.89524</td>\n",
       "      <td>13.88429</td>\n",
       "      <td>16.31843</td>\n",
       "      <td>...</td>\n",
       "      <td>18.98120</td>\n",
       "      <td>25.82695</td>\n",
       "      <td>22.21091</td>\n",
       "      <td>15.50773</td>\n",
       "      <td>15.60090</td>\n",
       "      <td>17.46141</td>\n",
       "      <td>19.71683</td>\n",
       "      <td>18.47703</td>\n",
       "      <td>12.95747</td>\n",
       "      <td>21.10818</td>\n",
       "    </tr>\n",
       "    <tr>\n",
       "      <th>899878</th>\n",
       "      <th>903877</th>\n",
       "      <td>5.81236</td>\n",
       "      <td>7.25710</td>\n",
       "      <td>15.03308</td>\n",
       "      <td>22.74547</td>\n",
       "      <td>19.70703</td>\n",
       "      <td>17.64504</td>\n",
       "      <td>15.13348</td>\n",
       "      <td>18.89435</td>\n",
       "      <td>13.88429</td>\n",
       "      <td>16.31843</td>\n",
       "      <td>...</td>\n",
       "      <td>17.19052</td>\n",
       "      <td>27.90977</td>\n",
       "      <td>17.76873</td>\n",
       "      <td>14.73234</td>\n",
       "      <td>18.43743</td>\n",
       "      <td>14.15810</td>\n",
       "      <td>16.49776</td>\n",
       "      <td>20.92970</td>\n",
       "      <td>14.03842</td>\n",
       "      <td>19.45329</td>\n",
       "    </tr>\n",
       "  </tbody>\n",
       "</table>\n",
       "<p>5 rows × 53 columns</p>\n",
       "</div>"
      ],
      "text/plain": [
       "                                   HTMCP-03-06-02001  HTMCP-03-06-02002  \\\n",
       "chr_pro chr_pro_start chr_pro_end                                         \n",
       "1       34081         38080                  0.00000            0.00000   \n",
       "        858261        862260                 4.73582            5.10685   \n",
       "        892689        896688                 7.80314            9.67613   \n",
       "        893968        897967                 7.80314            9.67613   \n",
       "        899878        903877                 5.81236            7.25710   \n",
       "\n",
       "                                   HTMCP-03-06-02006  HTMCP-03-06-02007  \\\n",
       "chr_pro chr_pro_start chr_pro_end                                         \n",
       "1       34081         38080                  0.00000            0.00000   \n",
       "        858261        862260                 8.52459           17.15151   \n",
       "        892689        896688                16.17969           35.44883   \n",
       "        893968        897967                16.17969           35.44883   \n",
       "        899878        903877                15.03308           22.74547   \n",
       "\n",
       "                                   HTMCP-03-06-02012  HTMCP-03-06-02020  \\\n",
       "chr_pro chr_pro_start chr_pro_end                                         \n",
       "1       34081         38080                  0.00000            0.00000   \n",
       "        858261        862260                 9.51227           12.24350   \n",
       "        892689        896688                20.46108           19.08545   \n",
       "        893968        897967                20.46108           19.08545   \n",
       "        899878        903877                19.70703           17.64504   \n",
       "\n",
       "                                   HTMCP-03-06-02026  HTMCP-03-06-02036  \\\n",
       "chr_pro chr_pro_start chr_pro_end                                         \n",
       "1       34081         38080                  0.00000            2.90228   \n",
       "        858261        862260                10.53425           11.25621   \n",
       "        892689        896688                15.28026           18.89524   \n",
       "        893968        897967                15.28026           18.89524   \n",
       "        899878        903877                15.13348           18.89435   \n",
       "\n",
       "                                   HTMCP-03-06-02037  HTMCP-03-06-02040  \\\n",
       "chr_pro chr_pro_start chr_pro_end                                         \n",
       "1       34081         38080                  8.37466            0.00000   \n",
       "        858261        862260                 7.53719           10.10188   \n",
       "        892689        896688                13.88429           16.31843   \n",
       "        893968        897967                13.88429           16.31843   \n",
       "        899878        903877                13.88429           16.31843   \n",
       "\n",
       "                                         ...          HTMCP-03-06-02230  \\\n",
       "chr_pro chr_pro_start chr_pro_end        ...                              \n",
       "1       34081         38080              ...                    3.64580   \n",
       "        858261        862260             ...                   11.10221   \n",
       "        892689        896688             ...                   18.98120   \n",
       "        893968        897967             ...                   18.98120   \n",
       "        899878        903877             ...                   17.19052   \n",
       "\n",
       "                                   HTMCP-03-06-02235  HTMCP-03-06-02260  \\\n",
       "chr_pro chr_pro_start chr_pro_end                                         \n",
       "1       34081         38080                  0.00000            0.00000   \n",
       "        858261        862260                16.66255           10.36509   \n",
       "        892689        896688                25.82695           22.21091   \n",
       "        893968        897967                25.82695           22.21091   \n",
       "        899878        903877                27.90977           17.76873   \n",
       "\n",
       "                                   HTMCP-03-06-02261  HTMCP-03-06-02266  \\\n",
       "chr_pro chr_pro_start chr_pro_end                                         \n",
       "1       34081         38080                  0.00000            4.45901   \n",
       "        858261        862260                11.24310           11.70068   \n",
       "        892689        896688                15.50773           15.60090   \n",
       "        893968        897967                15.50773           15.60090   \n",
       "        899878        903877                14.73234           18.43743   \n",
       "\n",
       "                                   HTMCP-03-06-02267  HTMCP-03-06-02268  \\\n",
       "chr_pro chr_pro_start chr_pro_end                                         \n",
       "1       34081         38080                  0.00000            0.00000   \n",
       "        858261        862260                10.25241            9.24530   \n",
       "        892689        896688                17.46141           19.71683   \n",
       "        893968        897967                17.46141           19.71683   \n",
       "        899878        903877                14.15810           16.49776   \n",
       "\n",
       "                                   HTMCP-03-06-02320  HTMCP-03-06-02330  \\\n",
       "chr_pro chr_pro_start chr_pro_end                                         \n",
       "1       34081         38080                  0.00000            0.00000   \n",
       "        858261        862260                10.30638            9.69320   \n",
       "        892689        896688                18.47703           12.95747   \n",
       "        893968        897967                18.47703           12.95747   \n",
       "        899878        903877                20.92970           14.03842   \n",
       "\n",
       "                                   HTMCP-03-06-02332  \n",
       "chr_pro chr_pro_start chr_pro_end                     \n",
       "1       34081         38080                  0.00000  \n",
       "        858261        862260                13.49828  \n",
       "        892689        896688                21.10818  \n",
       "        893968        897967                21.10818  \n",
       "        899878        903877                19.45329  \n",
       "\n",
       "[5 rows x 53 columns]"
      ]
     },
     "execution_count": 184,
     "metadata": {},
     "output_type": "execute_result"
    }
   ],
   "source": [
    "dfmg = pd.read_feather(feather_file)\n",
    "dfmg.set_index(['chr_pro', 'chr_pro_start', 'chr_pro_end'], inplace=True)\n",
    "dfmg.fillna(0, inplace=True) # 0 means no signal change relative to controls\n",
    "# dfmg['std'] = dfmg.apply(lambda x: np.std(x), axis=1)\n",
    "# dfmg = dfmg[dfmg['std']>dfmg['std'].describe()['75%']].drop('std', axis=1)\n",
    "dfmg.head()"
   ]
  },
  {
   "cell_type": "code",
   "execution_count": 185,
   "metadata": {},
   "outputs": [
    {
     "data": {
      "text/plain": [
       "(17286, 53)"
      ]
     },
     "execution_count": 185,
     "metadata": {},
     "output_type": "execute_result"
    }
   ],
   "source": [
    "dfmg.shape"
   ]
  },
  {
   "cell_type": "code",
   "execution_count": 160,
   "metadata": {},
   "outputs": [
    {
     "data": {
      "text/plain": [
       "29967"
      ]
     },
     "execution_count": 160,
     "metadata": {},
     "output_type": "execute_result"
    }
   ],
   "source": [
    "s = pd.Series(dfmg.values.ravel())\n",
    "s[(s<5)&(s>0)].count()"
   ]
  },
  {
   "cell_type": "code",
   "execution_count": 189,
   "metadata": {},
   "outputs": [
    {
     "data": {
      "text/plain": [
       "count    916158.000000\n",
       "mean         16.666037\n",
       "std          11.258733\n",
       "min           0.000000\n",
       "25%           8.185860\n",
       "50%          17.492475\n",
       "75%          24.323600\n",
       "max          67.126320\n",
       "dtype: float64"
      ]
     },
     "execution_count": 189,
     "metadata": {},
     "output_type": "execute_result"
    }
   ],
   "source": [
    "pd.Series(dfmg.values.ravel()).describe()"
   ]
  },
  {
   "cell_type": "code",
   "execution_count": 187,
   "metadata": {},
   "outputs": [
    {
     "data": {
      "text/plain": [
       "<matplotlib.axes._subplots.AxesSubplot at 0x7f2620fee4e0>"
      ]
     },
     "execution_count": 187,
     "metadata": {},
     "output_type": "execute_result"
    },
    {
     "data": {
      "image/png": "[encoded data removed]",
      "text/plain": [
       "<Figure size 432x288 with 1 Axes>"
      ]
     },
     "metadata": {},
     "output_type": "display_data"
    }
   ],
   "source": [
    "(pd.Series(dfmg.values.ravel())).hist()"
   ]
  },
  {
   "cell_type": "code",
   "execution_count": 163,
   "metadata": {},
   "outputs": [
    {
     "data": {
      "text/plain": [
       "(16792, 54)"
      ]
     },
     "execution_count": 163,
     "metadata": {},
     "output_type": "execute_result"
    }
   ],
   "source": [
    "dfmg.shape"
   ]
  },
  {
   "cell_type": "code",
   "execution_count": 164,
   "metadata": {},
   "outputs": [],
   "source": [
    "# confident enrichment threshold set to 5 fold "
   ]
  },
  {
   "cell_type": "code",
   "execution_count": 193,
   "metadata": {},
   "outputs": [
    {
     "data": {
      "text/html": [
       "<div>\n",
       "<style scoped>\n",
       "    .dataframe tbody tr th:only-of-type {\n",
       "        vertical-align: middle;\n",
       "    }\n",
       "\n",
       "    .dataframe tbody tr th {\n",
       "        vertical-align: top;\n",
       "    }\n",
       "\n",
       "    .dataframe thead th {\n",
       "        text-align: right;\n",
       "    }\n",
       "</style>\n",
       "<table border=\"1\" class=\"dataframe\">\n",
       "  <thead>\n",
       "    <tr style=\"text-align: right;\">\n",
       "      <th></th>\n",
       "      <th></th>\n",
       "      <th></th>\n",
       "      <th>HTMCP-03-06-02001</th>\n",
       "      <th>HTMCP-03-06-02002</th>\n",
       "      <th>HTMCP-03-06-02006</th>\n",
       "      <th>HTMCP-03-06-02007</th>\n",
       "      <th>HTMCP-03-06-02012</th>\n",
       "      <th>HTMCP-03-06-02020</th>\n",
       "      <th>HTMCP-03-06-02026</th>\n",
       "      <th>HTMCP-03-06-02036</th>\n",
       "      <th>HTMCP-03-06-02037</th>\n",
       "      <th>HTMCP-03-06-02040</th>\n",
       "      <th>...</th>\n",
       "      <th>HTMCP-03-06-02230</th>\n",
       "      <th>HTMCP-03-06-02235</th>\n",
       "      <th>HTMCP-03-06-02260</th>\n",
       "      <th>HTMCP-03-06-02261</th>\n",
       "      <th>HTMCP-03-06-02266</th>\n",
       "      <th>HTMCP-03-06-02267</th>\n",
       "      <th>HTMCP-03-06-02268</th>\n",
       "      <th>HTMCP-03-06-02320</th>\n",
       "      <th>HTMCP-03-06-02330</th>\n",
       "      <th>HTMCP-03-06-02332</th>\n",
       "    </tr>\n",
       "    <tr>\n",
       "      <th>chr_pro</th>\n",
       "      <th>chr_pro_start</th>\n",
       "      <th>chr_pro_end</th>\n",
       "      <th></th>\n",
       "      <th></th>\n",
       "      <th></th>\n",
       "      <th></th>\n",
       "      <th></th>\n",
       "      <th></th>\n",
       "      <th></th>\n",
       "      <th></th>\n",
       "      <th></th>\n",
       "      <th></th>\n",
       "      <th></th>\n",
       "      <th></th>\n",
       "      <th></th>\n",
       "      <th></th>\n",
       "      <th></th>\n",
       "      <th></th>\n",
       "      <th></th>\n",
       "      <th></th>\n",
       "      <th></th>\n",
       "      <th></th>\n",
       "      <th></th>\n",
       "    </tr>\n",
       "  </thead>\n",
       "  <tbody>\n",
       "    <tr>\n",
       "      <th rowspan=\"2\" valign=\"top\">1</th>\n",
       "      <th>34081</th>\n",
       "      <th>38080</th>\n",
       "      <td>False</td>\n",
       "      <td>False</td>\n",
       "      <td>False</td>\n",
       "      <td>False</td>\n",
       "      <td>False</td>\n",
       "      <td>False</td>\n",
       "      <td>False</td>\n",
       "      <td>True</td>\n",
       "      <td>True</td>\n",
       "      <td>False</td>\n",
       "      <td>...</td>\n",
       "      <td>True</td>\n",
       "      <td>False</td>\n",
       "      <td>False</td>\n",
       "      <td>False</td>\n",
       "      <td>True</td>\n",
       "      <td>False</td>\n",
       "      <td>False</td>\n",
       "      <td>False</td>\n",
       "      <td>False</td>\n",
       "      <td>False</td>\n",
       "    </tr>\n",
       "    <tr>\n",
       "      <th>858261</th>\n",
       "      <th>862260</th>\n",
       "      <td>True</td>\n",
       "      <td>True</td>\n",
       "      <td>True</td>\n",
       "      <td>True</td>\n",
       "      <td>True</td>\n",
       "      <td>True</td>\n",
       "      <td>True</td>\n",
       "      <td>True</td>\n",
       "      <td>True</td>\n",
       "      <td>True</td>\n",
       "      <td>...</td>\n",
       "      <td>True</td>\n",
       "      <td>True</td>\n",
       "      <td>True</td>\n",
       "      <td>True</td>\n",
       "      <td>True</td>\n",
       "      <td>True</td>\n",
       "      <td>True</td>\n",
       "      <td>True</td>\n",
       "      <td>True</td>\n",
       "      <td>True</td>\n",
       "    </tr>\n",
       "  </tbody>\n",
       "</table>\n",
       "<p>2 rows × 53 columns</p>\n",
       "</div>"
      ],
      "text/plain": [
       "                                   HTMCP-03-06-02001  HTMCP-03-06-02002  \\\n",
       "chr_pro chr_pro_start chr_pro_end                                         \n",
       "1       34081         38080                    False              False   \n",
       "        858261        862260                    True               True   \n",
       "\n",
       "                                   HTMCP-03-06-02006  HTMCP-03-06-02007  \\\n",
       "chr_pro chr_pro_start chr_pro_end                                         \n",
       "1       34081         38080                    False              False   \n",
       "        858261        862260                    True               True   \n",
       "\n",
       "                                   HTMCP-03-06-02012  HTMCP-03-06-02020  \\\n",
       "chr_pro chr_pro_start chr_pro_end                                         \n",
       "1       34081         38080                    False              False   \n",
       "        858261        862260                    True               True   \n",
       "\n",
       "                                   HTMCP-03-06-02026  HTMCP-03-06-02036  \\\n",
       "chr_pro chr_pro_start chr_pro_end                                         \n",
       "1       34081         38080                    False               True   \n",
       "        858261        862260                    True               True   \n",
       "\n",
       "                                   HTMCP-03-06-02037  HTMCP-03-06-02040  \\\n",
       "chr_pro chr_pro_start chr_pro_end                                         \n",
       "1       34081         38080                     True              False   \n",
       "        858261        862260                    True               True   \n",
       "\n",
       "                                         ...          HTMCP-03-06-02230  \\\n",
       "chr_pro chr_pro_start chr_pro_end        ...                              \n",
       "1       34081         38080              ...                       True   \n",
       "        858261        862260             ...                       True   \n",
       "\n",
       "                                   HTMCP-03-06-02235  HTMCP-03-06-02260  \\\n",
       "chr_pro chr_pro_start chr_pro_end                                         \n",
       "1       34081         38080                    False              False   \n",
       "        858261        862260                    True               True   \n",
       "\n",
       "                                   HTMCP-03-06-02261  HTMCP-03-06-02266  \\\n",
       "chr_pro chr_pro_start chr_pro_end                                         \n",
       "1       34081         38080                    False               True   \n",
       "        858261        862260                    True               True   \n",
       "\n",
       "                                   HTMCP-03-06-02267  HTMCP-03-06-02268  \\\n",
       "chr_pro chr_pro_start chr_pro_end                                         \n",
       "1       34081         38080                    False              False   \n",
       "        858261        862260                    True               True   \n",
       "\n",
       "                                   HTMCP-03-06-02320  HTMCP-03-06-02330  \\\n",
       "chr_pro chr_pro_start chr_pro_end                                         \n",
       "1       34081         38080                    False              False   \n",
       "        858261        862260                    True               True   \n",
       "\n",
       "                                   HTMCP-03-06-02332  \n",
       "chr_pro chr_pro_start chr_pro_end                     \n",
       "1       34081         38080                    False  \n",
       "        858261        862260                    True  \n",
       "\n",
       "[2 rows x 53 columns]"
      ]
     },
     "execution_count": 193,
     "metadata": {},
     "output_type": "execute_result"
    }
   ],
   "source": [
    "dfmg = dfmg > 0\n",
    "dfmg.head(2)"
   ]
  },
  {
   "cell_type": "code",
   "execution_count": 154,
   "metadata": {},
   "outputs": [
    {
     "data": {
      "text/plain": [
       "9476"
      ]
     },
     "execution_count": 154,
     "metadata": {},
     "output_type": "execute_result"
    },
    {
     "data": {
      "text/plain": [
       "2547"
      ]
     },
     "execution_count": 154,
     "metadata": {},
     "output_type": "execute_result"
    },
    {
     "data": {
      "text/plain": [
       "48.6"
      ]
     },
     "execution_count": 154,
     "metadata": {},
     "output_type": "execute_result"
    },
    {
     "data": {
      "text/plain": [
       "5.4"
      ]
     },
     "execution_count": 154,
     "metadata": {},
     "output_type": "execute_result"
    }
   ],
   "source": [
    "(dfmg.sum(axis=1) > 0.9*54).sum()\n",
    "(dfmg.sum(axis=1) < 0.1*54).sum()\n",
    "0.9*54\n",
    "0.1*54"
   ]
  },
  {
   "cell_type": "code",
   "execution_count": 188,
   "metadata": {},
   "outputs": [
    {
     "data": {
      "text/html": [
       "<div>\n",
       "<style scoped>\n",
       "    .dataframe tbody tr th:only-of-type {\n",
       "        vertical-align: middle;\n",
       "    }\n",
       "\n",
       "    .dataframe tbody tr th {\n",
       "        vertical-align: top;\n",
       "    }\n",
       "\n",
       "    .dataframe thead th {\n",
       "        text-align: right;\n",
       "    }\n",
       "</style>\n",
       "<table border=\"1\" class=\"dataframe\">\n",
       "  <thead>\n",
       "    <tr style=\"text-align: right;\">\n",
       "      <th></th>\n",
       "      <th></th>\n",
       "      <th></th>\n",
       "      <th>HTMCP-03-06-02001</th>\n",
       "      <th>HTMCP-03-06-02002</th>\n",
       "      <th>HTMCP-03-06-02006</th>\n",
       "      <th>HTMCP-03-06-02007</th>\n",
       "      <th>HTMCP-03-06-02012</th>\n",
       "      <th>HTMCP-03-06-02020</th>\n",
       "      <th>HTMCP-03-06-02026</th>\n",
       "      <th>HTMCP-03-06-02036</th>\n",
       "      <th>HTMCP-03-06-02037</th>\n",
       "      <th>HTMCP-03-06-02040</th>\n",
       "      <th>...</th>\n",
       "      <th>HTMCP-03-06-02230</th>\n",
       "      <th>HTMCP-03-06-02235</th>\n",
       "      <th>HTMCP-03-06-02260</th>\n",
       "      <th>HTMCP-03-06-02261</th>\n",
       "      <th>HTMCP-03-06-02266</th>\n",
       "      <th>HTMCP-03-06-02267</th>\n",
       "      <th>HTMCP-03-06-02268</th>\n",
       "      <th>HTMCP-03-06-02320</th>\n",
       "      <th>HTMCP-03-06-02330</th>\n",
       "      <th>HTMCP-03-06-02332</th>\n",
       "    </tr>\n",
       "    <tr>\n",
       "      <th>chr_pro</th>\n",
       "      <th>chr_pro_start</th>\n",
       "      <th>chr_pro_end</th>\n",
       "      <th></th>\n",
       "      <th></th>\n",
       "      <th></th>\n",
       "      <th></th>\n",
       "      <th></th>\n",
       "      <th></th>\n",
       "      <th></th>\n",
       "      <th></th>\n",
       "      <th></th>\n",
       "      <th></th>\n",
       "      <th></th>\n",
       "      <th></th>\n",
       "      <th></th>\n",
       "      <th></th>\n",
       "      <th></th>\n",
       "      <th></th>\n",
       "      <th></th>\n",
       "      <th></th>\n",
       "      <th></th>\n",
       "      <th></th>\n",
       "      <th></th>\n",
       "    </tr>\n",
       "  </thead>\n",
       "  <tbody>\n",
       "    <tr>\n",
       "      <th rowspan=\"2\" valign=\"top\">1</th>\n",
       "      <th>34081</th>\n",
       "      <th>38080</th>\n",
       "      <td>0.00000</td>\n",
       "      <td>0.00000</td>\n",
       "      <td>0.00000</td>\n",
       "      <td>0.00000</td>\n",
       "      <td>0.00000</td>\n",
       "      <td>0.0000</td>\n",
       "      <td>0.00000</td>\n",
       "      <td>2.90228</td>\n",
       "      <td>8.37466</td>\n",
       "      <td>0.00000</td>\n",
       "      <td>...</td>\n",
       "      <td>3.64580</td>\n",
       "      <td>0.00000</td>\n",
       "      <td>0.00000</td>\n",
       "      <td>0.0000</td>\n",
       "      <td>4.45901</td>\n",
       "      <td>0.00000</td>\n",
       "      <td>0.0000</td>\n",
       "      <td>0.00000</td>\n",
       "      <td>0.0000</td>\n",
       "      <td>0.00000</td>\n",
       "    </tr>\n",
       "    <tr>\n",
       "      <th>858261</th>\n",
       "      <th>862260</th>\n",
       "      <td>4.73582</td>\n",
       "      <td>5.10685</td>\n",
       "      <td>8.52459</td>\n",
       "      <td>17.15151</td>\n",
       "      <td>9.51227</td>\n",
       "      <td>12.2435</td>\n",
       "      <td>10.53425</td>\n",
       "      <td>11.25621</td>\n",
       "      <td>7.53719</td>\n",
       "      <td>10.10188</td>\n",
       "      <td>...</td>\n",
       "      <td>11.10221</td>\n",
       "      <td>16.66255</td>\n",
       "      <td>10.36509</td>\n",
       "      <td>11.2431</td>\n",
       "      <td>11.70068</td>\n",
       "      <td>10.25241</td>\n",
       "      <td>9.2453</td>\n",
       "      <td>10.30638</td>\n",
       "      <td>9.6932</td>\n",
       "      <td>13.49828</td>\n",
       "    </tr>\n",
       "  </tbody>\n",
       "</table>\n",
       "<p>2 rows × 53 columns</p>\n",
       "</div>"
      ],
      "text/plain": [
       "                                   HTMCP-03-06-02001  HTMCP-03-06-02002  \\\n",
       "chr_pro chr_pro_start chr_pro_end                                         \n",
       "1       34081         38080                  0.00000            0.00000   \n",
       "        858261        862260                 4.73582            5.10685   \n",
       "\n",
       "                                   HTMCP-03-06-02006  HTMCP-03-06-02007  \\\n",
       "chr_pro chr_pro_start chr_pro_end                                         \n",
       "1       34081         38080                  0.00000            0.00000   \n",
       "        858261        862260                 8.52459           17.15151   \n",
       "\n",
       "                                   HTMCP-03-06-02012  HTMCP-03-06-02020  \\\n",
       "chr_pro chr_pro_start chr_pro_end                                         \n",
       "1       34081         38080                  0.00000             0.0000   \n",
       "        858261        862260                 9.51227            12.2435   \n",
       "\n",
       "                                   HTMCP-03-06-02026  HTMCP-03-06-02036  \\\n",
       "chr_pro chr_pro_start chr_pro_end                                         \n",
       "1       34081         38080                  0.00000            2.90228   \n",
       "        858261        862260                10.53425           11.25621   \n",
       "\n",
       "                                   HTMCP-03-06-02037  HTMCP-03-06-02040  \\\n",
       "chr_pro chr_pro_start chr_pro_end                                         \n",
       "1       34081         38080                  8.37466            0.00000   \n",
       "        858261        862260                 7.53719           10.10188   \n",
       "\n",
       "                                         ...          HTMCP-03-06-02230  \\\n",
       "chr_pro chr_pro_start chr_pro_end        ...                              \n",
       "1       34081         38080              ...                    3.64580   \n",
       "        858261        862260             ...                   11.10221   \n",
       "\n",
       "                                   HTMCP-03-06-02235  HTMCP-03-06-02260  \\\n",
       "chr_pro chr_pro_start chr_pro_end                                         \n",
       "1       34081         38080                  0.00000            0.00000   \n",
       "        858261        862260                16.66255           10.36509   \n",
       "\n",
       "                                   HTMCP-03-06-02261  HTMCP-03-06-02266  \\\n",
       "chr_pro chr_pro_start chr_pro_end                                         \n",
       "1       34081         38080                   0.0000            4.45901   \n",
       "        858261        862260                 11.2431           11.70068   \n",
       "\n",
       "                                   HTMCP-03-06-02267  HTMCP-03-06-02268  \\\n",
       "chr_pro chr_pro_start chr_pro_end                                         \n",
       "1       34081         38080                  0.00000             0.0000   \n",
       "        858261        862260                10.25241             9.2453   \n",
       "\n",
       "                                   HTMCP-03-06-02320  HTMCP-03-06-02330  \\\n",
       "chr_pro chr_pro_start chr_pro_end                                         \n",
       "1       34081         38080                  0.00000             0.0000   \n",
       "        858261        862260                10.30638             9.6932   \n",
       "\n",
       "                                   HTMCP-03-06-02332  \n",
       "chr_pro chr_pro_start chr_pro_end                     \n",
       "1       34081         38080                  0.00000  \n",
       "        858261        862260                13.49828  \n",
       "\n",
       "[2 rows x 53 columns]"
      ]
     },
     "execution_count": 188,
     "metadata": {},
     "output_type": "execute_result"
    }
   ],
   "source": [
    "dfmg.head(2)"
   ]
  },
  {
   "cell_type": "code",
   "execution_count": 155,
   "metadata": {},
   "outputs": [],
   "source": [
    "# dfmg = dfmg[(dfmg.sum(axis=1) < 0.9*54)&(dfmg.sum(axis=1) > 0.1*54)]"
   ]
  },
  {
   "cell_type": "code",
   "execution_count": 190,
   "metadata": {},
   "outputs": [
    {
     "data": {
      "image/png": "[encoded data removed]",
      "text/plain": [
       "<Figure size 864x288 with 1 Axes>"
      ]
     },
     "metadata": {},
     "output_type": "display_data"
    }
   ],
   "source": [
    "fig = plt.figure(figsize=(12,4))\n",
    "ax = fig.add_subplot(111)\n",
    "sample_labels = plot_dengrogram(dfmg, ax)"
   ]
  },
  {
   "cell_type": "code",
   "execution_count": 121,
   "metadata": {},
   "outputs": [
    {
     "data": {
      "text/html": [
       "<div>\n",
       "<style scoped>\n",
       "    .dataframe tbody tr th:only-of-type {\n",
       "        vertical-align: middle;\n",
       "    }\n",
       "\n",
       "    .dataframe tbody tr th {\n",
       "        vertical-align: top;\n",
       "    }\n",
       "\n",
       "    .dataframe thead th {\n",
       "        text-align: right;\n",
       "    }\n",
       "</style>\n",
       "<table border=\"1\" class=\"dataframe\">\n",
       "  <thead>\n",
       "    <tr style=\"text-align: right;\">\n",
       "      <th>patient</th>\n",
       "      <th>HTMCP-03-06-02001</th>\n",
       "      <th>HTMCP-03-06-02002</th>\n",
       "      <th>HTMCP-03-06-02006</th>\n",
       "      <th>HTMCP-03-06-02007</th>\n",
       "      <th>HTMCP-03-06-02012</th>\n",
       "      <th>HTMCP-03-06-02020</th>\n",
       "      <th>HTMCP-03-06-02026</th>\n",
       "      <th>HTMCP-03-06-02036</th>\n",
       "      <th>HTMCP-03-06-02037</th>\n",
       "      <th>HTMCP-03-06-02040</th>\n",
       "      <th>...</th>\n",
       "      <th>HTMCP-03-06-02235</th>\n",
       "      <th>HTMCP-03-06-02256</th>\n",
       "      <th>HTMCP-03-06-02260</th>\n",
       "      <th>HTMCP-03-06-02261</th>\n",
       "      <th>HTMCP-03-06-02266</th>\n",
       "      <th>HTMCP-03-06-02267</th>\n",
       "      <th>HTMCP-03-06-02268</th>\n",
       "      <th>HTMCP-03-06-02320</th>\n",
       "      <th>HTMCP-03-06-02330</th>\n",
       "      <th>HTMCP-03-06-02332</th>\n",
       "    </tr>\n",
       "  </thead>\n",
       "  <tbody>\n",
       "    <tr>\n",
       "      <th>epi_mutated</th>\n",
       "      <td>Mutated</td>\n",
       "      <td>Mutated</td>\n",
       "      <td>Mutated</td>\n",
       "      <td>Mutated</td>\n",
       "      <td>Mutated</td>\n",
       "      <td>Mutated</td>\n",
       "      <td>Mutated</td>\n",
       "      <td>Wild Type</td>\n",
       "      <td>Wild Type</td>\n",
       "      <td>Mutated</td>\n",
       "      <td>...</td>\n",
       "      <td>Wild Type</td>\n",
       "      <td>Mutated</td>\n",
       "      <td>Mutated</td>\n",
       "      <td>Wild Type</td>\n",
       "      <td>Mutated</td>\n",
       "      <td>Wild Type</td>\n",
       "      <td>Mutated</td>\n",
       "      <td>Mutated</td>\n",
       "      <td>Mutated</td>\n",
       "      <td>Mutated</td>\n",
       "    </tr>\n",
       "    <tr>\n",
       "      <th>Remodeller</th>\n",
       "      <td>Wild Type</td>\n",
       "      <td>Wild Type</td>\n",
       "      <td>Mutated</td>\n",
       "      <td>Mutated</td>\n",
       "      <td>Mutated</td>\n",
       "      <td>Mutated</td>\n",
       "      <td>Mutated</td>\n",
       "      <td>Wild Type</td>\n",
       "      <td>Wild Type</td>\n",
       "      <td>Mutated</td>\n",
       "      <td>...</td>\n",
       "      <td>Wild Type</td>\n",
       "      <td>Wild Type</td>\n",
       "      <td>Mutated</td>\n",
       "      <td>Wild Type</td>\n",
       "      <td>Mutated</td>\n",
       "      <td>Wild Type</td>\n",
       "      <td>Wild Type</td>\n",
       "      <td>Wild Type</td>\n",
       "      <td>Wild Type</td>\n",
       "      <td>Mutated</td>\n",
       "    </tr>\n",
       "  </tbody>\n",
       "</table>\n",
       "<p>2 rows × 54 columns</p>\n",
       "</div>"
      ],
      "text/plain": [
       "patient     HTMCP-03-06-02001 HTMCP-03-06-02002 HTMCP-03-06-02006  \\\n",
       "epi_mutated           Mutated           Mutated           Mutated   \n",
       "Remodeller          Wild Type         Wild Type           Mutated   \n",
       "\n",
       "patient     HTMCP-03-06-02007 HTMCP-03-06-02012 HTMCP-03-06-02020  \\\n",
       "epi_mutated           Mutated           Mutated           Mutated   \n",
       "Remodeller            Mutated           Mutated           Mutated   \n",
       "\n",
       "patient     HTMCP-03-06-02026 HTMCP-03-06-02036 HTMCP-03-06-02037  \\\n",
       "epi_mutated           Mutated         Wild Type         Wild Type   \n",
       "Remodeller            Mutated         Wild Type         Wild Type   \n",
       "\n",
       "patient     HTMCP-03-06-02040        ...        HTMCP-03-06-02235  \\\n",
       "epi_mutated           Mutated        ...                Wild Type   \n",
       "Remodeller            Mutated        ...                Wild Type   \n",
       "\n",
       "patient     HTMCP-03-06-02256 HTMCP-03-06-02260 HTMCP-03-06-02261  \\\n",
       "epi_mutated           Mutated           Mutated         Wild Type   \n",
       "Remodeller          Wild Type           Mutated         Wild Type   \n",
       "\n",
       "patient     HTMCP-03-06-02266 HTMCP-03-06-02267 HTMCP-03-06-02268  \\\n",
       "epi_mutated           Mutated         Wild Type           Mutated   \n",
       "Remodeller            Mutated         Wild Type         Wild Type   \n",
       "\n",
       "patient     HTMCP-03-06-02320 HTMCP-03-06-02330 HTMCP-03-06-02332  \n",
       "epi_mutated           Mutated           Mutated           Mutated  \n",
       "Remodeller          Wild Type         Wild Type           Mutated  \n",
       "\n",
       "[2 rows x 54 columns]"
      ]
     },
     "execution_count": 121,
     "metadata": {},
     "output_type": "execute_result"
    }
   ],
   "source": [
    "f = f'{wkdir}clinic_covariate_20181009.csv.added'\n",
    "df_covariates = pd.read_csv(f, index_col='patient', sep='\\t')\n",
    "# df_covariates.strelka_mutations = df_covariates.strelka_mutations.astype('int64')\n",
    "df_covariates = df_covariates.T.fillna('unknown')\n",
    "df_covariates.head(2)"
   ]
  },
  {
   "cell_type": "code",
   "execution_count": 122,
   "metadata": {
    "scrolled": true
   },
   "outputs": [
    {
     "data": {
      "text/plain": [
       "patient\n",
       "HTMCP-03-06-02001    bool\n",
       "HTMCP-03-06-02002    bool\n",
       "dtype: object"
      ]
     },
     "execution_count": 122,
     "metadata": {},
     "output_type": "execute_result"
    },
    {
     "data": {
      "text/html": [
       "<div>\n",
       "<style scoped>\n",
       "    .dataframe tbody tr th:only-of-type {\n",
       "        vertical-align: middle;\n",
       "    }\n",
       "\n",
       "    .dataframe tbody tr th {\n",
       "        vertical-align: top;\n",
       "    }\n",
       "\n",
       "    .dataframe thead th {\n",
       "        text-align: right;\n",
       "    }\n",
       "</style>\n",
       "<table border=\"1\" class=\"dataframe\">\n",
       "  <thead>\n",
       "    <tr style=\"text-align: right;\">\n",
       "      <th></th>\n",
       "      <th>Remodeller</th>\n",
       "      <th>Reader</th>\n",
       "      <th>Writer</th>\n",
       "      <th>Eraser</th>\n",
       "      <th>SWI/SNF remodeling complex</th>\n",
       "      <th>SWI/SNF family</th>\n",
       "      <th>ISWI remdelling complexes</th>\n",
       "      <th>SEC (Super Elongation) Complex</th>\n",
       "      <th>INO80/SWR remodelling complexes</th>\n",
       "      <th>chromatin remodelling</th>\n",
       "      <th>EP300/CBP HAT complexes</th>\n",
       "      <th>Polycomb complex</th>\n",
       "      <th>HAT complexes</th>\n",
       "      <th>NuRD complex</th>\n",
       "      <th>compass complex</th>\n",
       "      <th>HDAC complex</th>\n",
       "      <th>GNAT family HAT complexes</th>\n",
       "      <th>MYST family HAT complexes</th>\n",
       "      <th>TFIID basal transcription factor complex or PCAF histone acetylase complex</th>\n",
       "    </tr>\n",
       "    <tr>\n",
       "      <th>patient</th>\n",
       "      <th></th>\n",
       "      <th></th>\n",
       "      <th></th>\n",
       "      <th></th>\n",
       "      <th></th>\n",
       "      <th></th>\n",
       "      <th></th>\n",
       "      <th></th>\n",
       "      <th></th>\n",
       "      <th></th>\n",
       "      <th></th>\n",
       "      <th></th>\n",
       "      <th></th>\n",
       "      <th></th>\n",
       "      <th></th>\n",
       "      <th></th>\n",
       "      <th></th>\n",
       "      <th></th>\n",
       "      <th></th>\n",
       "    </tr>\n",
       "  </thead>\n",
       "  <tbody>\n",
       "    <tr>\n",
       "      <th>HTMCP-03-06-02001</th>\n",
       "      <td>False</td>\n",
       "      <td>True</td>\n",
       "      <td>True</td>\n",
       "      <td>False</td>\n",
       "      <td>False</td>\n",
       "      <td>False</td>\n",
       "      <td>False</td>\n",
       "      <td>False</td>\n",
       "      <td>True</td>\n",
       "      <td>False</td>\n",
       "      <td>True</td>\n",
       "      <td>True</td>\n",
       "      <td>False</td>\n",
       "      <td>False</td>\n",
       "      <td>True</td>\n",
       "      <td>False</td>\n",
       "      <td>True</td>\n",
       "      <td>False</td>\n",
       "      <td>True</td>\n",
       "    </tr>\n",
       "    <tr>\n",
       "      <th>HTMCP-03-06-02002</th>\n",
       "      <td>False</td>\n",
       "      <td>False</td>\n",
       "      <td>True</td>\n",
       "      <td>False</td>\n",
       "      <td>False</td>\n",
       "      <td>False</td>\n",
       "      <td>False</td>\n",
       "      <td>False</td>\n",
       "      <td>False</td>\n",
       "      <td>False</td>\n",
       "      <td>False</td>\n",
       "      <td>False</td>\n",
       "      <td>False</td>\n",
       "      <td>False</td>\n",
       "      <td>True</td>\n",
       "      <td>False</td>\n",
       "      <td>False</td>\n",
       "      <td>False</td>\n",
       "      <td>False</td>\n",
       "    </tr>\n",
       "  </tbody>\n",
       "</table>\n",
       "</div>"
      ],
      "text/plain": [
       "                   Remodeller  Reader  Writer  Eraser  \\\n",
       "patient                                                 \n",
       "HTMCP-03-06-02001       False    True    True   False   \n",
       "HTMCP-03-06-02002       False   False    True   False   \n",
       "\n",
       "                   SWI/SNF remodeling complex  SWI/SNF family  \\\n",
       "patient                                                         \n",
       "HTMCP-03-06-02001                       False           False   \n",
       "HTMCP-03-06-02002                       False           False   \n",
       "\n",
       "                   ISWI remdelling complexes  SEC (Super Elongation) Complex  \\\n",
       "patient                                                                        \n",
       "HTMCP-03-06-02001                      False                           False   \n",
       "HTMCP-03-06-02002                      False                           False   \n",
       "\n",
       "                   INO80/SWR remodelling complexes  chromatin remodelling  \\\n",
       "patient                                                                     \n",
       "HTMCP-03-06-02001                             True                  False   \n",
       "HTMCP-03-06-02002                            False                  False   \n",
       "\n",
       "                   EP300/CBP HAT complexes  Polycomb complex  HAT complexes  \\\n",
       "patient                                                                       \n",
       "HTMCP-03-06-02001                     True              True          False   \n",
       "HTMCP-03-06-02002                    False             False          False   \n",
       "\n",
       "                   NuRD complex   compass complex  HDAC complex  \\\n",
       "patient                                                           \n",
       "HTMCP-03-06-02001          False             True         False   \n",
       "HTMCP-03-06-02002          False             True         False   \n",
       "\n",
       "                   GNAT family HAT complexes  MYST family HAT complexes  \\\n",
       "patient                                                                   \n",
       "HTMCP-03-06-02001                       True                      False   \n",
       "HTMCP-03-06-02002                      False                      False   \n",
       "\n",
       "                   TFIID basal transcription factor complex or PCAF histone acetylase complex  \n",
       "patient                                                                                        \n",
       "HTMCP-03-06-02001                                               True                           \n",
       "HTMCP-03-06-02002                                              False                           "
      ]
     },
     "execution_count": 122,
     "metadata": {},
     "output_type": "execute_result"
    },
    {
     "data": {
      "text/plain": [
       "Remodeller    False\n",
       "Reader        False\n",
       "dtype: bool"
      ]
     },
     "execution_count": 122,
     "metadata": {},
     "output_type": "execute_result"
    },
    {
     "data": {
      "text/plain": [
       "array([False,  True])"
      ]
     },
     "execution_count": 122,
     "metadata": {},
     "output_type": "execute_result"
    },
    {
     "data": {
      "text/html": [
       "<div>\n",
       "<style scoped>\n",
       "    .dataframe tbody tr th:only-of-type {\n",
       "        vertical-align: middle;\n",
       "    }\n",
       "\n",
       "    .dataframe tbody tr th {\n",
       "        vertical-align: top;\n",
       "    }\n",
       "\n",
       "    .dataframe thead th {\n",
       "        text-align: right;\n",
       "    }\n",
       "</style>\n",
       "<table border=\"1\" class=\"dataframe\">\n",
       "  <thead>\n",
       "    <tr style=\"text-align: right;\">\n",
       "      <th>patient</th>\n",
       "      <th>HTMCP-03-06-02150</th>\n",
       "      <th>HTMCP-03-06-02230</th>\n",
       "      <th>HTMCP-03-06-02007</th>\n",
       "      <th>HTMCP-03-06-02235</th>\n",
       "      <th>HTMCP-03-06-02026</th>\n",
       "      <th>HTMCP-03-06-02058</th>\n",
       "      <th>HTMCP-03-06-02267</th>\n",
       "      <th>HTMCP-03-06-02330</th>\n",
       "      <th>HTMCP-03-06-02185</th>\n",
       "      <th>HTMCP-03-06-02202</th>\n",
       "      <th>...</th>\n",
       "      <th>HTMCP-03-06-02006</th>\n",
       "      <th>HTMCP-03-06-02012</th>\n",
       "      <th>HTMCP-03-06-02076</th>\n",
       "      <th>HTMCP-03-06-02020</th>\n",
       "      <th>HTMCP-03-06-02170</th>\n",
       "      <th>HTMCP-03-06-02097</th>\n",
       "      <th>HTMCP-03-06-02179</th>\n",
       "      <th>HTMCP-03-06-02001</th>\n",
       "      <th>HTMCP-03-06-02047</th>\n",
       "      <th>HTMCP-03-06-02182</th>\n",
       "    </tr>\n",
       "  </thead>\n",
       "  <tbody>\n",
       "    <tr>\n",
       "      <th>HIV_status</th>\n",
       "      <td>Negative</td>\n",
       "      <td>Positive</td>\n",
       "      <td>Negative</td>\n",
       "      <td>Positive</td>\n",
       "      <td>Negative</td>\n",
       "      <td>Positive</td>\n",
       "      <td>Positive</td>\n",
       "      <td>Positive</td>\n",
       "      <td>Negative</td>\n",
       "      <td>Positive</td>\n",
       "      <td>...</td>\n",
       "      <td>Negative</td>\n",
       "      <td>Negative</td>\n",
       "      <td>Positive</td>\n",
       "      <td>Positive</td>\n",
       "      <td>Positive</td>\n",
       "      <td>Positive</td>\n",
       "      <td>Positive</td>\n",
       "      <td>Positive</td>\n",
       "      <td>Negative</td>\n",
       "      <td>Negative</td>\n",
       "    </tr>\n",
       "    <tr>\n",
       "      <th>clinic_histology</th>\n",
       "      <td>Adeno</td>\n",
       "      <td>Squamous</td>\n",
       "      <td>Adenosquamous</td>\n",
       "      <td>Neuroendocrine</td>\n",
       "      <td>Adeno</td>\n",
       "      <td>Adeno</td>\n",
       "      <td>Adeno</td>\n",
       "      <td>Squamous</td>\n",
       "      <td>Squamous</td>\n",
       "      <td>Squamous</td>\n",
       "      <td>...</td>\n",
       "      <td>Squamous</td>\n",
       "      <td>Squamous</td>\n",
       "      <td>Squamous</td>\n",
       "      <td>Squamous</td>\n",
       "      <td>Squamous</td>\n",
       "      <td>Squamous</td>\n",
       "      <td>Adeno</td>\n",
       "      <td>Squamous</td>\n",
       "      <td>Neuroendocrine</td>\n",
       "      <td>Adeno</td>\n",
       "    </tr>\n",
       "    <tr>\n",
       "      <th>tumor_grade</th>\n",
       "      <td>G1</td>\n",
       "      <td>G3</td>\n",
       "      <td>G3</td>\n",
       "      <td>G3</td>\n",
       "      <td>G3</td>\n",
       "      <td>G2</td>\n",
       "      <td>unknown</td>\n",
       "      <td>unknown</td>\n",
       "      <td>G3</td>\n",
       "      <td>G2</td>\n",
       "      <td>...</td>\n",
       "      <td>G3</td>\n",
       "      <td>G2</td>\n",
       "      <td>G3</td>\n",
       "      <td>G2</td>\n",
       "      <td>G3</td>\n",
       "      <td>G3</td>\n",
       "      <td>G3</td>\n",
       "      <td>G2</td>\n",
       "      <td>G3</td>\n",
       "      <td>G3</td>\n",
       "    </tr>\n",
       "  </tbody>\n",
       "</table>\n",
       "<p>3 rows × 54 columns</p>\n",
       "</div>"
      ],
      "text/plain": [
       "patient          HTMCP-03-06-02150 HTMCP-03-06-02230 HTMCP-03-06-02007  \\\n",
       "HIV_status                Negative          Positive          Negative   \n",
       "clinic_histology             Adeno          Squamous     Adenosquamous   \n",
       "tumor_grade                     G1                G3                G3   \n",
       "\n",
       "patient          HTMCP-03-06-02235 HTMCP-03-06-02026 HTMCP-03-06-02058  \\\n",
       "HIV_status                Positive          Negative          Positive   \n",
       "clinic_histology    Neuroendocrine             Adeno             Adeno   \n",
       "tumor_grade                     G3                G3                G2   \n",
       "\n",
       "patient          HTMCP-03-06-02267 HTMCP-03-06-02330 HTMCP-03-06-02185  \\\n",
       "HIV_status                Positive          Positive          Negative   \n",
       "clinic_histology             Adeno          Squamous          Squamous   \n",
       "tumor_grade                unknown           unknown                G3   \n",
       "\n",
       "patient          HTMCP-03-06-02202        ...        HTMCP-03-06-02006  \\\n",
       "HIV_status                Positive        ...                 Negative   \n",
       "clinic_histology          Squamous        ...                 Squamous   \n",
       "tumor_grade                     G2        ...                       G3   \n",
       "\n",
       "patient          HTMCP-03-06-02012 HTMCP-03-06-02076 HTMCP-03-06-02020  \\\n",
       "HIV_status                Negative          Positive          Positive   \n",
       "clinic_histology          Squamous          Squamous          Squamous   \n",
       "tumor_grade                     G2                G3                G2   \n",
       "\n",
       "patient          HTMCP-03-06-02170 HTMCP-03-06-02097 HTMCP-03-06-02179  \\\n",
       "HIV_status                Positive          Positive          Positive   \n",
       "clinic_histology          Squamous          Squamous             Adeno   \n",
       "tumor_grade                     G3                G3                G3   \n",
       "\n",
       "patient          HTMCP-03-06-02001 HTMCP-03-06-02047 HTMCP-03-06-02182  \n",
       "HIV_status                Positive          Negative          Negative  \n",
       "clinic_histology          Squamous    Neuroendocrine             Adeno  \n",
       "tumor_grade                     G2                G3                G3  \n",
       "\n",
       "[3 rows x 54 columns]"
      ]
     },
     "execution_count": 122,
     "metadata": {},
     "output_type": "execute_result"
    },
    {
     "data": {
      "image/png": "[encoded data removed]",
      "text/plain": [
       "<Figure size 864x288 with 1 Axes>"
      ]
     },
     "metadata": {},
     "output_type": "display_data"
    }
   ],
   "source": [
    "df_covariates = df_covariates.drop(['Testis-specific chromatin protein', 'REST corepressor',\n",
    "       'ISWI chromatin remdelling','RNF20/40 complex','strelka_mutations', 'HPV_status'])\n",
    "\n",
    "dftmp = df_covariates.drop(['HIV_status', 'clinic_histology', 'tumor_grade', 'age_at_diagnosis', 'epi_mutated']).apply(lambda x: x.map({'Mutated':True, 'Wild Type':False}))\n",
    "\n",
    "dftmp.dtypes.head(2)\n",
    "\n",
    "dftmp = dftmp.T\n",
    "\n",
    "dftmp.head(2)\n",
    "\n",
    "dftmp.apply(lambda x: x.all()).head(2)\n",
    "\n",
    "pd.Series(dftmp.values.ravel()).unique()\n",
    "\n",
    "fig = plt.figure(figsize=(12,4))\n",
    "ax = fig.add_subplot(111)\n",
    "feature_labels = plot_dengrogram(dftmp, ax)\n",
    "\n",
    "df_covariates  = df_covariates.reindex(['HIV_status', 'clinic_histology', 'tumor_grade', 'epi_mutated'] + feature_labels)\n",
    "\n",
    "feature_labels = df_covariates.index.tolist()\n",
    "df_covariates = order_df(df_covariates, feature_labels, sample_labels)\n",
    "\n",
    "df_covariates.head(3)"
   ]
  },
  {
   "cell_type": "code",
   "execution_count": 123,
   "metadata": {},
   "outputs": [],
   "source": [
    "covariate_dict = get_legend_categories(df_covariates)"
   ]
  },
  {
   "cell_type": "code",
   "execution_count": 124,
   "metadata": {},
   "outputs": [
    {
     "data": {
      "text/plain": [
       "{'HIV_status': ['Negative', 'Positive'],\n",
       " 'clinic_histology': ['Adeno', 'Adenosquamous', 'Neuroendocrine', 'Squamous'],\n",
       " 'tumor_grade': ['G1', 'G2', 'G3', 'unknown'],\n",
       " 'epi_mutated': ['Mutated', 'Wild Type']}"
      ]
     },
     "execution_count": 124,
     "metadata": {},
     "output_type": "execute_result"
    }
   ],
   "source": [
    "covariate_dict"
   ]
  },
  {
   "cell_type": "code",
   "execution_count": 125,
   "metadata": {},
   "outputs": [
    {
     "data": {
      "text/plain": [
       "(23, 54)"
      ]
     },
     "execution_count": 125,
     "metadata": {},
     "output_type": "execute_result"
    }
   ],
   "source": [
    "df_covariates.shape"
   ]
  },
  {
   "cell_type": "code",
   "execution_count": 126,
   "metadata": {},
   "outputs": [
    {
     "data": {
      "text/plain": [
       "(16792, 54)"
      ]
     },
     "execution_count": 126,
     "metadata": {},
     "output_type": "execute_result"
    }
   ],
   "source": [
    "dfmg.shape"
   ]
  },
  {
   "cell_type": "code",
   "execution_count": 194,
   "metadata": {
    "scrolled": true
   },
   "outputs": [
    {
     "name": "stdout",
     "output_type": "stream",
     "text": [
      "CPU times: user 4.07 s, sys: 403 ms, total: 4.47 s\n",
      "Wall time: 4.47 s\n"
     ]
    },
    {
     "data": {
      "image/png": "[encoded data removed]",
      "text/plain": [
       "<Figure size 1152x1440 with 25 Axes>"
      ]
     },
     "metadata": {},
     "output_type": "display_data"
    },
    {
     "data": {
      "text/plain": [
       "['HTMCP-03-06-02230',\n",
       " 'HTMCP-03-06-02047',\n",
       " 'HTMCP-03-06-02182',\n",
       " 'HTMCP-03-06-02113',\n",
       " 'HTMCP-03-06-02266',\n",
       " 'HTMCP-03-06-02179',\n",
       " 'HTMCP-03-06-02235',\n",
       " 'HTMCP-03-06-02007',\n",
       " 'HTMCP-03-06-02180',\n",
       " 'HTMCP-03-06-02203',\n",
       " 'HTMCP-03-06-02150',\n",
       " 'HTMCP-03-06-02152',\n",
       " 'HTMCP-03-06-02109',\n",
       " 'HTMCP-03-06-02006',\n",
       " 'HTMCP-03-06-02012',\n",
       " 'HTMCP-03-06-02261',\n",
       " 'HTMCP-03-06-02063',\n",
       " 'HTMCP-03-06-02214',\n",
       " 'HTMCP-03-06-02174',\n",
       " 'HTMCP-03-06-02209',\n",
       " 'HTMCP-03-06-02036',\n",
       " 'HTMCP-03-06-02046',\n",
       " 'HTMCP-03-06-02332',\n",
       " 'HTMCP-03-06-02147',\n",
       " 'HTMCP-03-06-02196',\n",
       " 'HTMCP-03-06-02195',\n",
       " 'HTMCP-03-06-02097',\n",
       " 'HTMCP-03-06-02205',\n",
       " 'HTMCP-03-06-02089',\n",
       " 'HTMCP-03-06-02170',\n",
       " 'HTMCP-03-06-02202',\n",
       " 'HTMCP-03-06-02260',\n",
       " 'HTMCP-03-06-02042',\n",
       " 'HTMCP-03-06-02148',\n",
       " 'HTMCP-03-06-02267',\n",
       " 'HTMCP-03-06-02330',\n",
       " 'HTMCP-03-06-02076',\n",
       " 'HTMCP-03-06-02185',\n",
       " 'HTMCP-03-06-02320',\n",
       " 'HTMCP-03-06-02020',\n",
       " 'HTMCP-03-06-02268',\n",
       " 'HTMCP-03-06-02099',\n",
       " 'HTMCP-03-06-02103',\n",
       " 'HTMCP-03-06-02026',\n",
       " 'HTMCP-03-06-02040',\n",
       " 'HTMCP-03-06-02128',\n",
       " 'HTMCP-03-06-02037',\n",
       " 'HTMCP-03-06-02210',\n",
       " 'HTMCP-03-06-02001',\n",
       " 'HTMCP-03-06-02002',\n",
       " 'HTMCP-03-06-02054',\n",
       " 'HTMCP-03-06-02058',\n",
       " 'HTMCP-03-06-02075']"
      ]
     },
     "execution_count": 194,
     "metadata": {},
     "output_type": "execute_result"
    }
   ],
   "source": [
    "plot_cluster_heatmap(dfmg, df_covariates)"
   ]
  },
  {
   "cell_type": "code",
   "execution_count": null,
   "metadata": {},
   "outputs": [],
   "source": []
  },
  {
   "cell_type": "code",
   "execution_count": null,
   "metadata": {},
   "outputs": [],
   "source": []
  },
  {
   "cell_type": "code",
   "execution_count": null,
   "metadata": {},
   "outputs": [],
   "source": []
  },
  {
   "cell_type": "code",
   "execution_count": null,
   "metadata": {},
   "outputs": [],
   "source": []
  },
  {
   "cell_type": "code",
   "execution_count": null,
   "metadata": {},
   "outputs": [],
   "source": []
  }
 ],
 "metadata": {
  "kernelspec": {
   "display_name": "Python 3",
   "language": "python",
   "name": "python3"
  },
  "language_info": {
   "codemirror_mode": {
    "name": "ipython",
    "version": 3
   },
   "file_extension": ".py",
   "mimetype": "text/x-python",
   "name": "python",
   "nbconvert_exporter": "python",
   "pygments_lexer": "ipython3",
   "version": "3.6.5"
  }
 },
 "nbformat": 4,
 "nbformat_minor": 2
}
