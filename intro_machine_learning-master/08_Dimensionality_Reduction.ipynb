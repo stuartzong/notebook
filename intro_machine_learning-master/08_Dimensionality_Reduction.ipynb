{
 "metadata": {
  "name": "",
  "signature": "sha256:55da80124d4fb776789c8deec8f1a94af945058ee2ed7d6eb47aed6679e8e09f"
 },
 "nbformat": 3,
 "nbformat_minor": 0,
 "worksheets": [
  {
   "cells": [
    {
     "cell_type": "markdown",
     "metadata": {},
     "source": [
      "# Introduction to data analysis using machine learning #\n",
      "\n",
      "## 08. Dimensionality reduction with Principal Component Analysis (PCA) ##\n",
      "\n",
      "by David Taylor, [www.prooffreader.com](http://www.prooffreader.com) (blog) [www.dtdata.io](http://dtdata.io) (hire me!)\n",
      "\n",
      "For links to more material including a slideshow explaining all this stuff in further detail, please see the front page of [this GitHub repo.](https://github.com/Prooffreader/intro_machine_learning)\n",
      "\n",
      "This is notebook 8 of 8. \n",
      "\n",
      "[[01]](http://nbviewer.ipython.org/github/Prooffreader/intro_machine_learning/blob/master/01_The_Dataset.ipynb) [[02]](http://nbviewer.ipython.org/github/Prooffreader/intro_machine_learning/blob/master/02_Clustering_KMeans.ipynb) [[03]](http://nbviewer.ipython.org/github/Prooffreader/intro_machine_learning/blob/master/03_Clustering_OtherAlgos.ipynb) [[04]](http://nbviewer.ipython.org/github/Prooffreader/intro_machine_learning/blob/master/04_Classification_kNN.ipynb) [[05]](http://nbviewer.ipython.org/github/Prooffreader/intro_machine_learning/blob/master/05_Classification_OtherAlgos.ipynb) [[06]](http://nbviewer.ipython.org/github/Prooffreader/intro_machine_learning/blob/master/06_Classification_Decision_Trees.ipynb) [[07]](http://nbviewer.ipython.org/github/Prooffreader/intro_machine_learning/blob/master/07_Classification_Random_Forest.ipynb) **[08]**\n",
      "***\n",
      "\n",
      "In the [previous notebook](http://nbviewer.ipython.org/github/Prooffreader/intro_machine_learning/blob/master/07_Classification_Random_Forest.ipynb), we finished our look at Supervised Learning. Now we see a way to address the Curse of Dimensionality by reducing our features using PCA."
     ]
    },
    {
     "cell_type": "markdown",
     "metadata": {},
     "source": [
      "#### 1. Import libraries and load data #"
     ]
    },
    {
     "cell_type": "code",
     "collapsed": false,
     "input": [
      "import pandas as pd\n",
      "import matplotlib.pyplot as plt\n",
      "%matplotlib inline\n",
      "import numpy as np\n",
      "from statsmodels.sandbox.tools.tools_pca import pcasvd\n",
      "from sklearn.ensemble import RandomForestClassifier\n",
      "\n",
      "df = pd.read_csv('fruit.csv')\n",
      "\n",
      "fruitnames = {1: 'Orange', 2: 'Pear', 3: 'Apple'}\n",
      "colors = {1: '#e09028', 2: '#55aa33', 3: '#cc3333'}\n",
      "fruitlist = ['Orange', 'Pear', 'Apple']\n",
      "\n",
      "numerical_columns = ['elongatedness', 'weight', 'sweetness', 'acidity', 'color_id']"
     ],
     "language": "python",
     "metadata": {},
     "outputs": [],
     "prompt_number": 1
    },
    {
     "cell_type": "markdown",
     "metadata": {},
     "source": [
      "#### 2. Run PCA #\n",
      "\n",
      "Scikit-learn has a PCA module, but instead I'm using statsmodels's ``pcasvd`` function in order to make a biplot."
     ]
    },
    {
     "cell_type": "code",
     "collapsed": false,
     "input": [
      "# code taken from http://okomestudio.net/biboroku/?p=2292\n",
      "\n",
      "import matplotlib.pyplot as plt\n",
      "import numpy as np\n",
      "import pandas as pd\n",
      "\n",
      "\n",
      "def biplot(plt, pca, labels=None, colors=None,\n",
      "           xpc=1, ypc=2, scale=1):\n",
      "    \"\"\"Generate biplot from the result of pcasvd of statsmodels.\n",
      "\n",
      "    Parameters\n",
      "    ----------\n",
      "    plt : object\n",
      "        An existing pyplot module reference.\n",
      "\n",
      "    pca : tuple\n",
      "        The result from statsmodels.sandbox.tools.tools_pca.pcasvd.\n",
      "\n",
      "    labels : array_like, optional\n",
      "        Labels for each observation.\n",
      "\n",
      "    colors : array_like, optional\n",
      "        Colors for each observation.\n",
      "\n",
      "    xpc, ypc : int, optional\n",
      "        The principal component number for x- and y-axis. Defaults to\n",
      "        (xpc, ypc) = (1, 2).\n",
      "\n",
      "    scale : float\n",
      "        The variables are scaled by lambda ** scale, where lambda =\n",
      "        singular value = sqrt(eigenvalue), and the observations are\n",
      "        scaled by lambda ** (1 - scale). Must be in [0, 1].\n",
      "\n",
      "    Returns\n",
      "    -------\n",
      "    None.\n",
      "\n",
      "    \"\"\"\n",
      "    xpc, ypc = (xpc - 1, ypc - 1)\n",
      "    xreduced, factors, evals, evecs = pca\n",
      "    singvals = np.sqrt(evals)\n",
      " \n",
      "    # data\n",
      "    xs = factors[:, xpc] * singvals[xpc]**(1. - scale)\n",
      "    ys = factors[:, ypc] * singvals[ypc]**(1. - scale)\n",
      " \n",
      "    colors = 'k' if colors is None else colors\n",
      "    plt.scatter(xs, ys, c=colors, marker='o', alpha=0.4)\n",
      " \n",
      "    # variables\n",
      "    tvars = np.dot(np.eye(factors.shape[0], factors.shape[1]),\n",
      "                   evecs) * singvals**scale\n",
      " \n",
      "    for i, col in enumerate(xreduced.columns.values):\n",
      "        x, y = tvars[i][xpc], tvars[i][ypc]\n",
      "        plt.arrow(0, 0, x, y, color='r',\n",
      "                  width=0.002, head_width=0.05)\n",
      "        plt.text(x* 1.4, y * 1.4, col, color='r', ha='center', va='center')\n",
      "    \n",
      "    plt.title('Principal Component Analysis with biplot')\n",
      "    plt.xlabel('PC{}'.format(xpc + 1))\n",
      "    plt.ylabel('PC{}'.format(ypc + 1))\n",
      " \n",
      "    return xs, ys "
     ],
     "language": "python",
     "metadata": {},
     "outputs": [],
     "prompt_number": 2
    },
    {
     "cell_type": "code",
     "collapsed": false,
     "input": [
      "columns = ['elongatedness', 'weight', 'sweetness', 'acidity', 'color_id']\n",
      "\n",
      "data = df[columns]\n",
      "classes = df['fruit_id']\n",
      "data = (data - data.mean()) / data.std() # pca data must be normalized\n",
      "pca = pcasvd(data, keepdim=0, demean=False)\n",
      "\n",
      "colors = [['#e09028', '#55aa33', '#cc3333'][i-1] for i in classes]\n",
      "\n",
      "plt.figure(1)\n",
      "xs, ys = biplot(plt, pca, labels=classes, colors=colors,\n",
      "       xpc=1, ypc=2)\n",
      "plt.show()"
     ],
     "language": "python",
     "metadata": {},
     "outputs": [
      {
       "metadata": {},
       "output_type": "display_data",
       "png": "[encoded data removed]",
       "text": [
        "<matplotlib.figure.Figure at 0x87a9ef0>"
       ]
      }
     ],
     "prompt_number": 3
    },
    {
     "cell_type": "markdown",
     "metadata": {},
     "source": [
      "#### 3. Do 100 runs of Random Forest Classifier using two principal components and show confusion matrix #"
     ]
    },
    {
     "cell_type": "code",
     "collapsed": false,
     "input": [
      "df_pca = pd.DataFrame({'PC1': xs,\n",
      "                       'PC2': ys,\n",
      "                       'fruit_id': classes})\n",
      "df_pca.sort('fruit_id', inplace=True)\n",
      "\n",
      "# parameters\n",
      "# I did not make a function because I wanted to preserve the \n",
      "# IPython output of the confusion matrix in the same cell.\n",
      "reps=100\n",
      "features = ['PC1', 'PC2']\n",
      "title_suffix='with two principal components'\n",
      "\n",
      "import time\n",
      "start = time.time()\n",
      "for i in range(reps):\n",
      "    df_pca['is_train'] = np.random.uniform(0, 1, len(df_pca)) <= .75 # randomly assign training and testing set\n",
      "    train, test = df_pca[df_pca['is_train']==True], df_pca[df_pca['is_train']==False]\n",
      "    y, _ = pd.factorize(train['fruit_id'])\n",
      "    clf = RandomForestClassifier(n_jobs=2)\n",
      "    clf = clf.fit(train[features], y)\n",
      "    preds = clf.predict(test[features])\n",
      "    test_result = pd.crosstab(np.array([fruitnames[x] for x in test['fruit_id']]), \n",
      "                          np.array([fruitnames[x+1] for x in preds]), rownames=['actual'], colnames=['predicted'])\n",
      "    if i == 0:\n",
      "        final_result = test_result[:]\n",
      "    else:\n",
      "        final_result += test_result\n",
      "confmatrix = np.array(final_result)\n",
      "correct = 0\n",
      "for i in range(confmatrix.shape[0]):\n",
      "    correct += confmatrix[i,i]\n",
      "accuracy = correct/confmatrix.sum()\n",
      "print('{} runs {}\\nFeatures: {}\\nAccuracy: {}\\ntime: {} sec'.format(reps, title_suffix, features, accuracy, int(time.time()-start)))\n",
      "final_result"
     ],
     "language": "python",
     "metadata": {},
     "outputs": [
      {
       "output_type": "stream",
       "stream": "stdout",
       "text": [
        "100 runs with two principal components\n",
        "Features: ['PC1', 'PC2']\n",
        "Accuracy: 0.9665188470066519\n",
        "time: 23 sec\n"
       ]
      },
      {
       "html": [
        "<div style=\"max-height:1000px;max-width:1500px;overflow:auto;\">\n",
        "<table border=\"1\" class=\"dataframe\">\n",
        "  <thead>\n",
        "    <tr style=\"text-align: right;\">\n",
        "      <th>predicted</th>\n",
        "      <th>Apple</th>\n",
        "      <th>Orange</th>\n",
        "      <th>Pear</th>\n",
        "    </tr>\n",
        "    <tr>\n",
        "      <th>actual</th>\n",
        "      <th></th>\n",
        "      <th></th>\n",
        "      <th></th>\n",
        "    </tr>\n",
        "  </thead>\n",
        "  <tbody>\n",
        "    <tr>\n",
        "      <th>Apple</th>\n",
        "      <td> 1146</td>\n",
        "      <td>    8</td>\n",
        "      <td>   92</td>\n",
        "    </tr>\n",
        "    <tr>\n",
        "      <th>Orange</th>\n",
        "      <td>    8</td>\n",
        "      <td> 1481</td>\n",
        "      <td>    1</td>\n",
        "    </tr>\n",
        "    <tr>\n",
        "      <th>Pear</th>\n",
        "      <td>   42</td>\n",
        "      <td>    0</td>\n",
        "      <td> 1732</td>\n",
        "    </tr>\n",
        "  </tbody>\n",
        "</table>\n",
        "</div>"
       ],
       "metadata": {},
       "output_type": "pyout",
       "prompt_number": 4,
       "text": [
        "predicted  Apple  Orange  Pear\n",
        "actual                        \n",
        "Apple       1146       8    92\n",
        "Orange         8    1481     1\n",
        "Pear          42       0  1732"
       ]
      }
     ],
     "prompt_number": 4
    }
   ],
   "metadata": {}
  }
 ]
}