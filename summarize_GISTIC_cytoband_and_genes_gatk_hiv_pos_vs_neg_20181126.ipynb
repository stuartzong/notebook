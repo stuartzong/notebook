{
 "cells": [
  {
   "cell_type": "markdown",
   "metadata": {
    "collapsed": true
   },
   "source": [
    "analyze NCI cervical cnv results"
   ]
  },
  {
   "cell_type": "code",
   "execution_count": 66,
   "metadata": {},
   "outputs": [],
   "source": [
    "# import csv\n",
    "import matplotlib\n",
    "# import seaborn\n",
    "import seaborn as sns\n",
    "import numpy as np\n",
    "import pandas as pd\n",
    "import matplotlib.pyplot as plt\n",
    "# from scipy.stats import ttest_ind\n",
    "# import scipy.stats as stats\n",
    "# import scipy.stats as ss\n",
    "# from matplotlib import style\n",
    "# import matplotlib.gridspec as gridspec\n",
    "# import matplotlib.patches as patches\n",
    "matplotlib.style.use('ggplot')\n",
    "%matplotlib inline\n",
    "matplotlib.rcParams['figure.figsize'] = (6, 4)\n",
    "from adjustText import adjust_text\n",
    "\n",
    "\n",
    "# from sklearn.decomposition import RandomizedPCA, PCA, TruncatedSVD\n",
    "# from sklearn.linear_model import LogisticRegression\n",
    "# from sklearn.manifold import TSNE\n",
    "# from sklearn.preprocessing import StandardScaler\n",
    "\n",
    "from IPython.core.interactiveshell import InteractiveShell\n",
    "InteractiveShell.ast_node_interactivity = \"all\""
   ]
  },
  {
   "cell_type": "markdown",
   "metadata": {
    "collapsed": true
   },
   "source": [
    "# 1. produce list of amplied and deleted regions with oncogenes"
   ]
  },
  {
   "cell_type": "code",
   "execution_count": 43,
   "metadata": {},
   "outputs": [],
   "source": [
    "root = '/projects/trans_scratch/validations/workspace/szong/Cervical/cnv/gatk_cnv/'"
   ]
  },
  {
   "cell_type": "code",
   "execution_count": 3,
   "metadata": {},
   "outputs": [
    {
     "data": {
      "text/html": [
       "<div>\n",
       "<style scoped>\n",
       "    .dataframe tbody tr th:only-of-type {\n",
       "        vertical-align: middle;\n",
       "    }\n",
       "\n",
       "    .dataframe tbody tr th {\n",
       "        vertical-align: top;\n",
       "    }\n",
       "\n",
       "    .dataframe thead th {\n",
       "        text-align: right;\n",
       "    }\n",
       "</style>\n",
       "<table border=\"1\" class=\"dataframe\">\n",
       "  <thead>\n",
       "    <tr style=\"text-align: right;\">\n",
       "      <th></th>\n",
       "      <th>0</th>\n",
       "    </tr>\n",
       "  </thead>\n",
       "  <tbody>\n",
       "    <tr>\n",
       "      <th>0</th>\n",
       "      <td>ABI1</td>\n",
       "    </tr>\n",
       "    <tr>\n",
       "      <th>1</th>\n",
       "      <td>ABI2</td>\n",
       "    </tr>\n",
       "    <tr>\n",
       "      <th>2</th>\n",
       "      <td>ABL1</td>\n",
       "    </tr>\n",
       "    <tr>\n",
       "      <th>3</th>\n",
       "      <td>ABL2</td>\n",
       "    </tr>\n",
       "    <tr>\n",
       "      <th>4</th>\n",
       "      <td>ACSL3</td>\n",
       "    </tr>\n",
       "  </tbody>\n",
       "</table>\n",
       "</div>"
      ],
      "text/plain": [
       "       0\n",
       "0   ABI1\n",
       "1   ABI2\n",
       "2   ABL1\n",
       "3   ABL2\n",
       "4  ACSL3"
      ]
     },
     "execution_count": 3,
     "metadata": {},
     "output_type": "execute_result"
    }
   ],
   "source": [
    "f1 = '/home/szong/projects/resource/oncogenes.and.tumor.suppressor.genes.txt'\n",
    "df_tg = pd.read_csv(f1, header=None)\n",
    "df_tg.head()\n",
    "\n",
    "tgs = df_tg[0].tolist()"
   ]
  },
  {
   "cell_type": "code",
   "execution_count": 35,
   "metadata": {
    "scrolled": true
   },
   "outputs": [],
   "source": [
    "def summarize_genes(inf, tgs, wkdir):\n",
    "    df = pd.read_csv(inf, sep='\\t', header=None)#.replace('', 'None')\n",
    "    inf = inf.split('/')[-1]\n",
    "#     print(df)\n",
    "    df.loc['genes',:] = df.apply(lambda x:  ','.join([i.strip() for i in set(x[~x.isnull()][4:]) if ('[' not in i)]))\n",
    "    df.loc['tg_genes',:] = df.apply(lambda x:  ','.join([m.strip() for m in set(x[~x.isnull()][4:]) if m in tgs]))\n",
    "\n",
    "\n",
    "    df1 = df.loc[[0,1,2,3,'genes', 'tg_genes'],:].T\n",
    "    df1['xxx'] = df1.genes.apply(lambda x: x.split(','))\n",
    "#     '' in the list when there is a blank in the original files, must have a better way to deal with this\n",
    "    df1['num_genes'] = df1['xxx'].apply(lambda x: len(x) if '' not in x else len(x)-1)\n",
    "    df1 = df1.drop('xxx', axis=1)\n",
    "    df1 = df1.drop(0)\n",
    "    df1 = df1[:-1]\n",
    "    df1.columns = ['cytoband', 'q_value', 'residual_q_value', 'wide_peak_boundary', 'genes_in_wide_peak','oncogenes','num_genes']\n",
    "#     df1['cancer_genes'] = df1.apply(lambda x: '({0}){1}'.format(x[4], x[5]), axis=1)\n",
    "    of = f'{wkdir}{inf}.summary'\n",
    "    print('write summary to: ', of)\n",
    "    df1.to_csv(of, index=False, sep='\\t')\n",
    "    return df1"
   ]
  },
  {
   "cell_type": "code",
   "execution_count": 76,
   "metadata": {},
   "outputs": [
    {
     "name": "stdout",
     "output_type": "stream",
     "text": [
      "write summary to:  /projects/trans_scratch/validations/workspace/szong/Cervical/cnv/gatk_118_HIV_pos/amp_genes.conf_99.txt.summary\n",
      "write summary to:  /projects/trans_scratch/validations/workspace/szong/Cervical/cnv/gatk_118_HIV_pos/del_genes.conf_99.txt.summary\n"
     ]
    }
   ],
   "source": [
    "# summarize gistic focal results for hiv pos\n",
    "\n",
    "wkdir = '/projects/trans_scratch/validations/workspace/szong/Cervical/cnv/gatk_118_HIV_pos/'\n",
    "files = ['/home/szong/bin/GISTIC_2_0_22/gatk_118_HIV_neg/amp_genes.conf_99.txt', '/home/szong/bin/GISTIC_2_0_22/gatk_118_HIV_neg/del_genes.conf_99.txt']\n",
    "for inf in files:\n",
    "    df1 = summarize_genes(inf, tgs, wkdir)"
   ]
  },
  {
   "cell_type": "code",
   "execution_count": 77,
   "metadata": {},
   "outputs": [],
   "source": [
    "%%bash -s $wkdir\n",
    "cd $1\n",
    "cat del_genes.conf_99.txt.summary |awk -F \":\" '{print $1\"\\t\"$2}'|sed 's/chr//g'|sort -k4n> del_genes.conf_99.txt.summary.sorted\n",
    "cat amp_genes.conf_99.txt.summary |awk -F \":\" '{print $1\"\\t\"$2}'|sed 's/chr//g'|sort -k4n> amp_genes.conf_99.txt.summary.sorted"
   ]
  },
  {
   "cell_type": "code",
   "execution_count": 78,
   "metadata": {},
   "outputs": [
    {
     "name": "stdout",
     "output_type": "stream",
     "text": [
      "/projects/trans_scratch/validations/workspace/szong/Cervical/cnv/gatk_118_HIV_pos//amp_genes.conf_99.txt.summary.sorted\n"
     ]
    },
    {
     "data": {
      "text/html": [
       "<div>\n",
       "<style scoped>\n",
       "    .dataframe tbody tr th:only-of-type {\n",
       "        vertical-align: middle;\n",
       "    }\n",
       "\n",
       "    .dataframe tbody tr th {\n",
       "        vertical-align: top;\n",
       "    }\n",
       "\n",
       "    .dataframe thead th {\n",
       "        text-align: right;\n",
       "    }\n",
       "</style>\n",
       "<table border=\"1\" class=\"dataframe\">\n",
       "  <thead>\n",
       "    <tr style=\"text-align: right;\">\n",
       "      <th></th>\n",
       "      <th>q_value</th>\n",
       "      <th>cytoband</th>\n",
       "      <th>gene</th>\n",
       "    </tr>\n",
       "  </thead>\n",
       "  <tbody>\n",
       "    <tr>\n",
       "      <th>0</th>\n",
       "      <td>0.008915</td>\n",
       "      <td>1q21.3</td>\n",
       "      <td>NOTCH2</td>\n",
       "    </tr>\n",
       "    <tr>\n",
       "      <th>0</th>\n",
       "      <td>0.008915</td>\n",
       "      <td>1q21.3</td>\n",
       "      <td>CLK2</td>\n",
       "    </tr>\n",
       "  </tbody>\n",
       "</table>\n",
       "</div>"
      ],
      "text/plain": [
       "    q_value cytoband    gene\n",
       "0  0.008915   1q21.3  NOTCH2\n",
       "0  0.008915   1q21.3    CLK2"
      ]
     },
     "execution_count": 78,
     "metadata": {},
     "output_type": "execute_result"
    }
   ],
   "source": [
    "# for amps\n",
    "pos_amp_file = f'{wkdir}/amp_genes.conf_99.txt.summary.sorted'\n",
    "print(pos_amp_file)\n",
    "pos_amps = get_qvalue_cytoband(pos_amp_file)\n",
    "pos_amps.head(2)"
   ]
  },
  {
   "cell_type": "code",
   "execution_count": 79,
   "metadata": {},
   "outputs": [
    {
     "name": "stdout",
     "output_type": "stream",
     "text": [
      "/projects/trans_scratch/validations/workspace/szong/Cervical/cnv/gatk_118_HIV_pos//del_genes.conf_99.txt.summary.sorted\n"
     ]
    },
    {
     "data": {
      "text/html": [
       "<div>\n",
       "<style scoped>\n",
       "    .dataframe tbody tr th:only-of-type {\n",
       "        vertical-align: middle;\n",
       "    }\n",
       "\n",
       "    .dataframe tbody tr th {\n",
       "        vertical-align: top;\n",
       "    }\n",
       "\n",
       "    .dataframe thead th {\n",
       "        text-align: right;\n",
       "    }\n",
       "</style>\n",
       "<table border=\"1\" class=\"dataframe\">\n",
       "  <thead>\n",
       "    <tr style=\"text-align: right;\">\n",
       "      <th></th>\n",
       "      <th>q_value</th>\n",
       "      <th>cytoband</th>\n",
       "      <th>gene</th>\n",
       "    </tr>\n",
       "  </thead>\n",
       "  <tbody>\n",
       "    <tr>\n",
       "      <th>0</th>\n",
       "      <td>0.036117</td>\n",
       "      <td>1p13.2</td>\n",
       "      <td>NOTCH2</td>\n",
       "    </tr>\n",
       "    <tr>\n",
       "      <th>0</th>\n",
       "      <td>0.036117</td>\n",
       "      <td>1p13.2</td>\n",
       "      <td>LOC729987</td>\n",
       "    </tr>\n",
       "  </tbody>\n",
       "</table>\n",
       "</div>"
      ],
      "text/plain": [
       "    q_value cytoband       gene\n",
       "0  0.036117   1p13.2     NOTCH2\n",
       "0  0.036117   1p13.2  LOC729987"
      ]
     },
     "execution_count": 79,
     "metadata": {},
     "output_type": "execute_result"
    }
   ],
   "source": [
    "# for dels\n",
    "pos_del_file = f'{wkdir}/del_genes.conf_99.txt.summary.sorted'\n",
    "print(pos_del_file)\n",
    "pos_dels = get_qvalue_cytoband(pos_del_file)\n",
    "pos_dels.head(2)"
   ]
  },
  {
   "cell_type": "code",
   "execution_count": 80,
   "metadata": {},
   "outputs": [
    {
     "name": "stdout",
     "output_type": "stream",
     "text": [
      "write summary to:  /projects/trans_scratch/validations/workspace/szong/Cervical/cnv/gatk_118_HIV_neg/amp_genes.conf_99.txt.summary\n",
      "write summary to:  /projects/trans_scratch/validations/workspace/szong/Cervical/cnv/gatk_118_HIV_neg/del_genes.conf_99.txt.summary\n"
     ]
    }
   ],
   "source": [
    "# hiv neg\n",
    "wkdir = '/projects/trans_scratch/validations/workspace/szong/Cervical/cnv/gatk_118_HIV_neg/'\n",
    "files = ['/home/szong/bin/GISTIC_2_0_22/gatk_118_HIV_pos/amp_genes.conf_99.txt', '/home/szong/bin/GISTIC_2_0_22/gatk_118_HIV_pos/del_genes.conf_99.txt']\n",
    "for inf in files:\n",
    "    df1 = summarize_genes(inf, tgs, wkdir)"
   ]
  },
  {
   "cell_type": "code",
   "execution_count": 81,
   "metadata": {},
   "outputs": [],
   "source": [
    "%%bash -s $wkdir\n",
    "cd $1\n",
    "cat del_genes.conf_99.txt.summary |awk -F \":\" '{print $1\"\\t\"$2}'|sed 's/chr//g'|sort -k4n> del_genes.conf_99.txt.summary.sorted\n",
    "cat amp_genes.conf_99.txt.summary |awk -F \":\" '{print $1\"\\t\"$2}'|sed 's/chr//g'|sort -k4n> amp_genes.conf_99.txt.summary.sorted"
   ]
  },
  {
   "cell_type": "code",
   "execution_count": 82,
   "metadata": {},
   "outputs": [
    {
     "name": "stdout",
     "output_type": "stream",
     "text": [
      "/projects/trans_scratch/validations/workspace/szong/Cervical/cnv/gatk_118_HIV_neg//amp_genes.conf_99.txt.summary.sorted\n"
     ]
    },
    {
     "data": {
      "text/html": [
       "<div>\n",
       "<style scoped>\n",
       "    .dataframe tbody tr th:only-of-type {\n",
       "        vertical-align: middle;\n",
       "    }\n",
       "\n",
       "    .dataframe tbody tr th {\n",
       "        vertical-align: top;\n",
       "    }\n",
       "\n",
       "    .dataframe thead th {\n",
       "        text-align: right;\n",
       "    }\n",
       "</style>\n",
       "<table border=\"1\" class=\"dataframe\">\n",
       "  <thead>\n",
       "    <tr style=\"text-align: right;\">\n",
       "      <th></th>\n",
       "      <th>q_value</th>\n",
       "      <th>cytoband</th>\n",
       "      <th>gene</th>\n",
       "    </tr>\n",
       "  </thead>\n",
       "  <tbody>\n",
       "    <tr>\n",
       "      <th>0</th>\n",
       "      <td>0.015552</td>\n",
       "      <td>1p32.1</td>\n",
       "      <td>TM2D1</td>\n",
       "    </tr>\n",
       "    <tr>\n",
       "      <th>0</th>\n",
       "      <td>0.015552</td>\n",
       "      <td>1p32.1</td>\n",
       "      <td>USP1</td>\n",
       "    </tr>\n",
       "  </tbody>\n",
       "</table>\n",
       "</div>"
      ],
      "text/plain": [
       "    q_value cytoband   gene\n",
       "0  0.015552   1p32.1  TM2D1\n",
       "0  0.015552   1p32.1   USP1"
      ]
     },
     "execution_count": 82,
     "metadata": {},
     "output_type": "execute_result"
    }
   ],
   "source": [
    "neg_amp_file = f'{wkdir}/amp_genes.conf_99.txt.summary.sorted'\n",
    "print(neg_amp_file)\n",
    "neg_amps = get_qvalue_cytoband(neg_amp_file)\n",
    "neg_amps.head(2)"
   ]
  },
  {
   "cell_type": "code",
   "execution_count": 83,
   "metadata": {},
   "outputs": [
    {
     "name": "stdout",
     "output_type": "stream",
     "text": [
      "/projects/trans_scratch/validations/workspace/szong/Cervical/cnv/gatk_118_HIV_neg//del_genes.conf_99.txt.summary.sorted\n"
     ]
    },
    {
     "data": {
      "text/html": [
       "<div>\n",
       "<style scoped>\n",
       "    .dataframe tbody tr th:only-of-type {\n",
       "        vertical-align: middle;\n",
       "    }\n",
       "\n",
       "    .dataframe tbody tr th {\n",
       "        vertical-align: top;\n",
       "    }\n",
       "\n",
       "    .dataframe thead th {\n",
       "        text-align: right;\n",
       "    }\n",
       "</style>\n",
       "<table border=\"1\" class=\"dataframe\">\n",
       "  <thead>\n",
       "    <tr style=\"text-align: right;\">\n",
       "      <th></th>\n",
       "      <th>q_value</th>\n",
       "      <th>cytoband</th>\n",
       "      <th>gene</th>\n",
       "    </tr>\n",
       "  </thead>\n",
       "  <tbody>\n",
       "    <tr>\n",
       "      <th>0</th>\n",
       "      <td>1.043200e-15</td>\n",
       "      <td>2q22.1</td>\n",
       "      <td>LRP1B</td>\n",
       "    </tr>\n",
       "    <tr>\n",
       "      <th>0</th>\n",
       "      <td>1.043200e-15</td>\n",
       "      <td>2q22.1</td>\n",
       "      <td>LOC647012</td>\n",
       "    </tr>\n",
       "  </tbody>\n",
       "</table>\n",
       "</div>"
      ],
      "text/plain": [
       "        q_value cytoband       gene\n",
       "0  1.043200e-15   2q22.1      LRP1B\n",
       "0  1.043200e-15   2q22.1  LOC647012"
      ]
     },
     "execution_count": 83,
     "metadata": {},
     "output_type": "execute_result"
    }
   ],
   "source": [
    "neg_del_file = f'{wkdir}/del_genes.conf_99.txt.summary.sorted'\n",
    "print(neg_del_file)\n",
    "neg_dels = get_qvalue_cytoband(neg_del_file)\n",
    "neg_dels.head(2)"
   ]
  },
  {
   "cell_type": "code",
   "execution_count": 84,
   "metadata": {},
   "outputs": [],
   "source": [
    "def get_qvalue_cytoband(f):\n",
    "    df = pd.read_csv(f, sep='\\t')\n",
    "    df['gene'] = df['oncogenes']#.apply(lambda x: x.split(',')[0])\n",
    "    df = df[['q_value','cytoband', 'gene']]\n",
    "    df = df[df.gene != '']\n",
    "    s = df[\"gene\"].str.split(',', expand=True).stack()\n",
    "    i = s.index.get_level_values(0)\n",
    "    df2 = df.loc[i].copy()\n",
    "    df2[\"gene\"] = s.values\n",
    "    return df2"
   ]
  },
  {
   "cell_type": "code",
   "execution_count": 85,
   "metadata": {},
   "outputs": [],
   "source": [
    "def map_two_columns(x1, x2):\n",
    "    if 'q' in x1 or 'p' in x1:\n",
    "        return x1\n",
    "    elif 'q' in x2 or 'p' in x2:\n",
    "        return x2\n",
    "    else:\n",
    "        return 'error'\n",
    "    "
   ]
  },
  {
   "cell_type": "markdown",
   "metadata": {},
   "source": [
    "# summarize cytobands"
   ]
  },
  {
   "cell_type": "code",
   "execution_count": 86,
   "metadata": {},
   "outputs": [
    {
     "data": {
      "text/html": [
       "<div>\n",
       "<style scoped>\n",
       "    .dataframe tbody tr th:only-of-type {\n",
       "        vertical-align: middle;\n",
       "    }\n",
       "\n",
       "    .dataframe tbody tr th {\n",
       "        vertical-align: top;\n",
       "    }\n",
       "\n",
       "    .dataframe thead th {\n",
       "        text-align: right;\n",
       "    }\n",
       "</style>\n",
       "<table border=\"1\" class=\"dataframe\">\n",
       "  <thead>\n",
       "    <tr style=\"text-align: right;\">\n",
       "      <th></th>\n",
       "      <th>q_value_x</th>\n",
       "      <th>cytoband</th>\n",
       "      <th>gene_x</th>\n",
       "      <th>q_value_y</th>\n",
       "      <th>gene_y</th>\n",
       "    </tr>\n",
       "  </thead>\n",
       "  <tbody>\n",
       "    <tr>\n",
       "      <th>0</th>\n",
       "      <td>0.008915</td>\n",
       "      <td>1q21.3</td>\n",
       "      <td>NOTCH2</td>\n",
       "      <td>NaN</td>\n",
       "      <td>NaN</td>\n",
       "    </tr>\n",
       "    <tr>\n",
       "      <th>1</th>\n",
       "      <td>0.008915</td>\n",
       "      <td>1q21.3</td>\n",
       "      <td>CLK2</td>\n",
       "      <td>NaN</td>\n",
       "      <td>NaN</td>\n",
       "    </tr>\n",
       "  </tbody>\n",
       "</table>\n",
       "</div>"
      ],
      "text/plain": [
       "   q_value_x cytoband  gene_x  q_value_y gene_y\n",
       "0   0.008915   1q21.3  NOTCH2        NaN    NaN\n",
       "1   0.008915   1q21.3    CLK2        NaN    NaN"
      ]
     },
     "execution_count": 86,
     "metadata": {},
     "output_type": "execute_result"
    },
    {
     "data": {
      "text/html": [
       "<div>\n",
       "<style scoped>\n",
       "    .dataframe tbody tr th:only-of-type {\n",
       "        vertical-align: middle;\n",
       "    }\n",
       "\n",
       "    .dataframe tbody tr th {\n",
       "        vertical-align: top;\n",
       "    }\n",
       "\n",
       "    .dataframe thead th {\n",
       "        text-align: right;\n",
       "    }\n",
       "</style>\n",
       "<table border=\"1\" class=\"dataframe\">\n",
       "  <thead>\n",
       "    <tr style=\"text-align: right;\">\n",
       "      <th></th>\n",
       "      <th>q_value_hiv+</th>\n",
       "      <th>cytoband</th>\n",
       "      <th>gene_hiv+</th>\n",
       "      <th>q_value_hiv-</th>\n",
       "      <th>gene_hiv-</th>\n",
       "    </tr>\n",
       "  </thead>\n",
       "  <tbody>\n",
       "    <tr>\n",
       "      <th>395</th>\n",
       "      <td>0.008915</td>\n",
       "      <td>1q21.3</td>\n",
       "      <td>SCAMP3</td>\n",
       "      <td>NaN</td>\n",
       "      <td>NaN</td>\n",
       "    </tr>\n",
       "    <tr>\n",
       "      <th>601</th>\n",
       "      <td>0.117580</td>\n",
       "      <td>2p24.3</td>\n",
       "      <td>DNMT3A</td>\n",
       "      <td>NaN</td>\n",
       "      <td>NaN</td>\n",
       "    </tr>\n",
       "  </tbody>\n",
       "</table>\n",
       "</div>"
      ],
      "text/plain": [
       "     q_value_hiv+ cytoband gene_hiv+  q_value_hiv- gene_hiv-\n",
       "395      0.008915   1q21.3    SCAMP3           NaN       NaN\n",
       "601      0.117580   2p24.3    DNMT3A           NaN       NaN"
      ]
     },
     "execution_count": 86,
     "metadata": {},
     "output_type": "execute_result"
    },
    {
     "data": {
      "text/plain": [
       "(15, 5)"
      ]
     },
     "execution_count": 86,
     "metadata": {},
     "output_type": "execute_result"
    },
    {
     "data": {
      "text/plain": [
       "15"
      ]
     },
     "execution_count": 86,
     "metadata": {},
     "output_type": "execute_result"
    },
    {
     "data": {
      "text/html": [
       "<div>\n",
       "<style scoped>\n",
       "    .dataframe tbody tr th:only-of-type {\n",
       "        vertical-align: middle;\n",
       "    }\n",
       "\n",
       "    .dataframe tbody tr th {\n",
       "        vertical-align: top;\n",
       "    }\n",
       "\n",
       "    .dataframe thead th {\n",
       "        text-align: right;\n",
       "    }\n",
       "</style>\n",
       "<table border=\"1\" class=\"dataframe\">\n",
       "  <thead>\n",
       "    <tr style=\"text-align: right;\">\n",
       "      <th></th>\n",
       "      <th>q_value_hiv+</th>\n",
       "      <th>cytoband</th>\n",
       "      <th>gene_hiv+</th>\n",
       "      <th>q_value_hiv-</th>\n",
       "      <th>gene_hiv-</th>\n",
       "      <th>hiv+q(-log10)</th>\n",
       "      <th>hiv-q(-log10)</th>\n",
       "    </tr>\n",
       "  </thead>\n",
       "  <tbody>\n",
       "    <tr>\n",
       "      <th>395</th>\n",
       "      <td>0.008915</td>\n",
       "      <td>1q21.3</td>\n",
       "      <td>SCAMP3</td>\n",
       "      <td>1.0</td>\n",
       "      <td>NaN</td>\n",
       "      <td>2.049879</td>\n",
       "      <td>-0.0</td>\n",
       "    </tr>\n",
       "    <tr>\n",
       "      <th>601</th>\n",
       "      <td>0.117580</td>\n",
       "      <td>2p24.3</td>\n",
       "      <td>DNMT3A</td>\n",
       "      <td>1.0</td>\n",
       "      <td>NaN</td>\n",
       "      <td>0.929667</td>\n",
       "      <td>-0.0</td>\n",
       "    </tr>\n",
       "  </tbody>\n",
       "</table>\n",
       "</div>"
      ],
      "text/plain": [
       "     q_value_hiv+ cytoband gene_hiv+  q_value_hiv- gene_hiv-  hiv+q(-log10)  \\\n",
       "395      0.008915   1q21.3    SCAMP3           1.0       NaN       2.049879   \n",
       "601      0.117580   2p24.3    DNMT3A           1.0       NaN       0.929667   \n",
       "\n",
       "     hiv-q(-log10)  \n",
       "395           -0.0  \n",
       "601           -0.0  "
      ]
     },
     "execution_count": 86,
     "metadata": {},
     "output_type": "execute_result"
    }
   ],
   "source": [
    "ndf = pd.merge(pos_amps, neg_amps, left_on='cytoband', right_on='cytoband', how='outer')#.fillna(1)\n",
    "ndf.head(2)\n",
    "\n",
    "new_cols = pd.Series(ndf.columns.tolist()).str.replace('_x', '_hiv+').str.replace('_y', '_hiv-')\n",
    "\n",
    "ndf.columns = new_cols\n",
    "ndf = ndf.drop_duplicates(subset='cytoband', keep='last')\n",
    "\n",
    "ndf.head(2)\n",
    "ndf.shape\n",
    "ndf['cytoband'].nunique()\n",
    "ndf['q_value_hiv+'] = ndf['q_value_hiv+'].fillna(1)\n",
    "ndf['q_value_hiv-'] = ndf['q_value_hiv-'].fillna(1)\n",
    "ndf['hiv+q(-log10)'] = -np.log10(ndf['q_value_hiv+'])\n",
    "ndf['hiv-q(-log10)'] = -np.log10(ndf['q_value_hiv-'])\n",
    "# ndf['num_genes_hiv+'] = ndf['num_genes_hiv+'].fillna(0).astype(int)\n",
    "# ndf['num_genes_hiv-'] = ndf['num_genes_hiv-'].fillna(0).astype(int)\n",
    "# ndf['oncogenes_hiv+'] = ndf['oncogenes_hiv+'].fillna('None')\n",
    "# ndf['oncogenes_hiv-'] = ndf['oncogenes_hiv-'].fillna('None')\n",
    "ndf.head(2)"
   ]
  },
  {
   "cell_type": "code",
   "execution_count": 87,
   "metadata": {},
   "outputs": [
    {
     "data": {
      "text/plain": [
       "<matplotlib.axes._subplots.AxesSubplot at 0x7f86dd0c0a90>"
      ]
     },
     "execution_count": 87,
     "metadata": {},
     "output_type": "execute_result"
    },
    {
     "data": {
      "text/plain": [
       "Text(0.5, 1.0, 'GISTIC amps cytobands')"
      ]
     },
     "execution_count": 87,
     "metadata": {},
     "output_type": "execute_result"
    },
    {
     "data": {
      "text/plain": [
       "(-1, 10)"
      ]
     },
     "execution_count": 87,
     "metadata": {},
     "output_type": "execute_result"
    },
    {
     "data": {
      "text/plain": [
       "(-1, 10)"
      ]
     },
     "execution_count": 87,
     "metadata": {},
     "output_type": "execute_result"
    },
    {
     "data": {
      "text/plain": [
       "25"
      ]
     },
     "execution_count": 87,
     "metadata": {},
     "output_type": "execute_result"
    },
    {
     "data": {
      "image/png": "[encoded data removed]",
      "text/plain": [
       "<Figure size 504x504 with 1 Axes>"
      ]
     },
     "metadata": {},
     "output_type": "display_data"
    }
   ],
   "source": [
    "# Set theme\n",
    "sns.set_style('whitegrid')\n",
    "f, ax = plt.subplots(figsize=(7, 7))\n",
    "sns.regplot(y='hiv+q(-log10)', x='hiv-q(-log10)', data=ndf, ax=ax, fit_reg=False,  scatter_kws={\"s\": 10})#x_jitter=1e-12, y_jitter=1e-10,\n",
    "\n",
    "ax.set_title('GISTIC amps cytobands')\n",
    "ax.set_xlim(-1, 10)\n",
    "ax.set_ylim(-1, 10)\n",
    "\n",
    "texts = [plt.text(a, b, c) for a, b, c in zip(ndf['hiv-q(-log10)'], ndf['hiv+q(-log10)'], ndf.cytoband)]\n",
    "adjust_text(texts)\n",
    "\n",
    "of = f'{root}amp_cytoband_qvalue_comparison_hiv_pos_vs_neg.png'\n",
    "plt.savefig(of, bbox_inches='tight', dpi=200)"
   ]
  },
  {
   "cell_type": "code",
   "execution_count": 88,
   "metadata": {},
   "outputs": [
    {
     "data": {
      "text/html": [
       "<div>\n",
       "<style scoped>\n",
       "    .dataframe tbody tr th:only-of-type {\n",
       "        vertical-align: middle;\n",
       "    }\n",
       "\n",
       "    .dataframe tbody tr th {\n",
       "        vertical-align: top;\n",
       "    }\n",
       "\n",
       "    .dataframe thead th {\n",
       "        text-align: right;\n",
       "    }\n",
       "</style>\n",
       "<table border=\"1\" class=\"dataframe\">\n",
       "  <thead>\n",
       "    <tr style=\"text-align: right;\">\n",
       "      <th></th>\n",
       "      <th>q_value_x</th>\n",
       "      <th>cytoband</th>\n",
       "      <th>gene_x</th>\n",
       "      <th>q_value_y</th>\n",
       "      <th>gene_y</th>\n",
       "    </tr>\n",
       "  </thead>\n",
       "  <tbody>\n",
       "    <tr>\n",
       "      <th>0</th>\n",
       "      <td>0.036117</td>\n",
       "      <td>1p13.2</td>\n",
       "      <td>NOTCH2</td>\n",
       "      <td>NaN</td>\n",
       "      <td>NaN</td>\n",
       "    </tr>\n",
       "    <tr>\n",
       "      <th>1</th>\n",
       "      <td>0.036117</td>\n",
       "      <td>1p13.2</td>\n",
       "      <td>LOC729987</td>\n",
       "      <td>NaN</td>\n",
       "      <td>NaN</td>\n",
       "    </tr>\n",
       "  </tbody>\n",
       "</table>\n",
       "</div>"
      ],
      "text/plain": [
       "   q_value_x cytoband     gene_x  q_value_y gene_y\n",
       "0   0.036117   1p13.2     NOTCH2        NaN    NaN\n",
       "1   0.036117   1p13.2  LOC729987        NaN    NaN"
      ]
     },
     "execution_count": 88,
     "metadata": {},
     "output_type": "execute_result"
    },
    {
     "data": {
      "text/html": [
       "<div>\n",
       "<style scoped>\n",
       "    .dataframe tbody tr th:only-of-type {\n",
       "        vertical-align: middle;\n",
       "    }\n",
       "\n",
       "    .dataframe tbody tr th {\n",
       "        vertical-align: top;\n",
       "    }\n",
       "\n",
       "    .dataframe thead th {\n",
       "        text-align: right;\n",
       "    }\n",
       "</style>\n",
       "<table border=\"1\" class=\"dataframe\">\n",
       "  <thead>\n",
       "    <tr style=\"text-align: right;\">\n",
       "      <th></th>\n",
       "      <th>q_value_hiv+</th>\n",
       "      <th>cytoband</th>\n",
       "      <th>gene_hiv+</th>\n",
       "      <th>q_value_hiv-</th>\n",
       "      <th>gene_hiv-</th>\n",
       "    </tr>\n",
       "  </thead>\n",
       "  <tbody>\n",
       "    <tr>\n",
       "      <th>360</th>\n",
       "      <td>0.036117</td>\n",
       "      <td>1p13.2</td>\n",
       "      <td>AKNAD1</td>\n",
       "      <td>NaN</td>\n",
       "      <td>NaN</td>\n",
       "    </tr>\n",
       "    <tr>\n",
       "      <th>848</th>\n",
       "      <td>0.141170</td>\n",
       "      <td>1p36.22</td>\n",
       "      <td>OR4F16</td>\n",
       "      <td>NaN</td>\n",
       "      <td>NaN</td>\n",
       "    </tr>\n",
       "  </tbody>\n",
       "</table>\n",
       "</div>"
      ],
      "text/plain": [
       "     q_value_hiv+ cytoband gene_hiv+  q_value_hiv- gene_hiv-\n",
       "360      0.036117   1p13.2    AKNAD1           NaN       NaN\n",
       "848      0.141170  1p36.22    OR4F16           NaN       NaN"
      ]
     },
     "execution_count": 88,
     "metadata": {},
     "output_type": "execute_result"
    },
    {
     "data": {
      "text/plain": [
       "(36, 5)"
      ]
     },
     "execution_count": 88,
     "metadata": {},
     "output_type": "execute_result"
    },
    {
     "data": {
      "text/plain": [
       "36"
      ]
     },
     "execution_count": 88,
     "metadata": {},
     "output_type": "execute_result"
    },
    {
     "data": {
      "text/html": [
       "<div>\n",
       "<style scoped>\n",
       "    .dataframe tbody tr th:only-of-type {\n",
       "        vertical-align: middle;\n",
       "    }\n",
       "\n",
       "    .dataframe tbody tr th {\n",
       "        vertical-align: top;\n",
       "    }\n",
       "\n",
       "    .dataframe thead th {\n",
       "        text-align: right;\n",
       "    }\n",
       "</style>\n",
       "<table border=\"1\" class=\"dataframe\">\n",
       "  <thead>\n",
       "    <tr style=\"text-align: right;\">\n",
       "      <th></th>\n",
       "      <th>q_value_hiv+</th>\n",
       "      <th>cytoband</th>\n",
       "      <th>gene_hiv+</th>\n",
       "      <th>q_value_hiv-</th>\n",
       "      <th>gene_hiv-</th>\n",
       "      <th>hiv+q(-log10)</th>\n",
       "      <th>hiv-q(-log10)</th>\n",
       "    </tr>\n",
       "  </thead>\n",
       "  <tbody>\n",
       "    <tr>\n",
       "      <th>360</th>\n",
       "      <td>0.036117</td>\n",
       "      <td>1p13.2</td>\n",
       "      <td>AKNAD1</td>\n",
       "      <td>1.0</td>\n",
       "      <td>NaN</td>\n",
       "      <td>1.442288</td>\n",
       "      <td>-0.0</td>\n",
       "    </tr>\n",
       "    <tr>\n",
       "      <th>848</th>\n",
       "      <td>0.141170</td>\n",
       "      <td>1p36.22</td>\n",
       "      <td>OR4F16</td>\n",
       "      <td>1.0</td>\n",
       "      <td>NaN</td>\n",
       "      <td>0.850258</td>\n",
       "      <td>-0.0</td>\n",
       "    </tr>\n",
       "  </tbody>\n",
       "</table>\n",
       "</div>"
      ],
      "text/plain": [
       "     q_value_hiv+ cytoband gene_hiv+  q_value_hiv- gene_hiv-  hiv+q(-log10)  \\\n",
       "360      0.036117   1p13.2    AKNAD1           1.0       NaN       1.442288   \n",
       "848      0.141170  1p36.22    OR4F16           1.0       NaN       0.850258   \n",
       "\n",
       "     hiv-q(-log10)  \n",
       "360           -0.0  \n",
       "848           -0.0  "
      ]
     },
     "execution_count": 88,
     "metadata": {},
     "output_type": "execute_result"
    }
   ],
   "source": [
    "ndf = pd.merge(pos_dels, neg_dels, left_on='cytoband', right_on='cytoband', how='outer')#.fillna(1)\n",
    "ndf.head(2)\n",
    "\n",
    "new_cols = pd.Series(ndf.columns.tolist()).str.replace('_x', '_hiv+').str.replace('_y', '_hiv-')\n",
    "\n",
    "ndf.columns = new_cols\n",
    "ndf = ndf.drop_duplicates(subset='cytoband', keep='last')\n",
    "\n",
    "ndf.head(2)\n",
    "ndf.shape\n",
    "ndf['cytoband'].nunique()\n",
    "ndf['q_value_hiv+'] = ndf['q_value_hiv+'].fillna(1)\n",
    "ndf['q_value_hiv-'] = ndf['q_value_hiv-'].fillna(1)\n",
    "ndf['hiv+q(-log10)'] = -np.log10(ndf['q_value_hiv+'])\n",
    "ndf['hiv-q(-log10)'] = -np.log10(ndf['q_value_hiv-'])\n",
    "# ndf['num_genes_hiv+'] = ndf['num_genes_hiv+'].fillna(0).astype(int)\n",
    "# ndf['num_genes_hiv-'] = ndf['num_genes_hiv-'].fillna(0).astype(int)\n",
    "# ndf['oncogenes_hiv+'] = ndf['oncogenes_hiv+'].fillna('None')\n",
    "# ndf['oncogenes_hiv-'] = ndf['oncogenes_hiv-'].fillna('None')\n",
    "ndf.head(2)"
   ]
  },
  {
   "cell_type": "code",
   "execution_count": 90,
   "metadata": {},
   "outputs": [
    {
     "data": {
      "text/plain": [
       "<matplotlib.axes._subplots.AxesSubplot at 0x7f86dd080e80>"
      ]
     },
     "execution_count": 90,
     "metadata": {},
     "output_type": "execute_result"
    },
    {
     "data": {
      "text/plain": [
       "Text(0.5, 1.0, 'GISTIC dels cytobands')"
      ]
     },
     "execution_count": 90,
     "metadata": {},
     "output_type": "execute_result"
    },
    {
     "data": {
      "text/plain": [
       "(-1, 16)"
      ]
     },
     "execution_count": 90,
     "metadata": {},
     "output_type": "execute_result"
    },
    {
     "data": {
      "text/plain": [
       "(-1, 16)"
      ]
     },
     "execution_count": 90,
     "metadata": {},
     "output_type": "execute_result"
    },
    {
     "data": {
      "text/plain": [
       "271"
      ]
     },
     "execution_count": 90,
     "metadata": {},
     "output_type": "execute_result"
    },
    {
     "data": {
      "image/png": "[encoded data removed]",
      "text/plain": [
       "<Figure size 504x504 with 1 Axes>"
      ]
     },
     "metadata": {},
     "output_type": "display_data"
    }
   ],
   "source": [
    "# Set theme\n",
    "sns.set_style('whitegrid')\n",
    "f, ax = plt.subplots(figsize=(7, 7))\n",
    "sns.regplot(y='hiv+q(-log10)', x='hiv-q(-log10)', data=ndf, ax=ax, fit_reg=False,  scatter_kws={\"s\": 10})#x_jitter=1e-12, y_jitter=1e-10,\n",
    "\n",
    "ax.set_title('GISTIC dels cytobands')\n",
    "ax.set_xlim(-1, 16)\n",
    "ax.set_ylim(-1, 16)\n",
    "\n",
    "texts = [plt.text(a, b, c) for a, b, c in zip(ndf['hiv-q(-log10)'], ndf['hiv+q(-log10)'], ndf.cytoband)]\n",
    "adjust_text(texts)\n",
    "\n",
    "of = f'{root}del_cytoband_qvalue_comparison_hiv_pos_vs_neg.png'\n",
    "plt.savefig(of, bbox_inches='tight', dpi=200)"
   ]
  },
  {
   "cell_type": "code",
   "execution_count": null,
   "metadata": {},
   "outputs": [],
   "source": []
  },
  {
   "cell_type": "code",
   "execution_count": null,
   "metadata": {},
   "outputs": [],
   "source": []
  },
  {
   "cell_type": "code",
   "execution_count": null,
   "metadata": {},
   "outputs": [],
   "source": []
  },
  {
   "cell_type": "markdown",
   "metadata": {},
   "source": [
    "# below are for genes"
   ]
  },
  {
   "cell_type": "code",
   "execution_count": 44,
   "metadata": {},
   "outputs": [
    {
     "data": {
      "text/html": [
       "<div>\n",
       "<style scoped>\n",
       "    .dataframe tbody tr th:only-of-type {\n",
       "        vertical-align: middle;\n",
       "    }\n",
       "\n",
       "    .dataframe tbody tr th {\n",
       "        vertical-align: top;\n",
       "    }\n",
       "\n",
       "    .dataframe thead th {\n",
       "        text-align: right;\n",
       "    }\n",
       "</style>\n",
       "<table border=\"1\" class=\"dataframe\">\n",
       "  <thead>\n",
       "    <tr style=\"text-align: right;\">\n",
       "      <th></th>\n",
       "      <th>hiv+q</th>\n",
       "      <th>gene</th>\n",
       "      <th>hiv-q</th>\n",
       "      <th>cytoband</th>\n",
       "    </tr>\n",
       "  </thead>\n",
       "  <tbody>\n",
       "    <tr>\n",
       "      <th>0</th>\n",
       "      <td>0.008915</td>\n",
       "      <td>NOTCH2</td>\n",
       "      <td>NaN</td>\n",
       "      <td>1q21.3</td>\n",
       "    </tr>\n",
       "    <tr>\n",
       "      <th>1</th>\n",
       "      <td>0.008915</td>\n",
       "      <td>CLK2</td>\n",
       "      <td>NaN</td>\n",
       "      <td>1q21.3</td>\n",
       "    </tr>\n",
       "  </tbody>\n",
       "</table>\n",
       "</div>"
      ],
      "text/plain": [
       "      hiv+q    gene  hiv-q cytoband\n",
       "0  0.008915  NOTCH2    NaN   1q21.3\n",
       "1  0.008915    CLK2    NaN   1q21.3"
      ]
     },
     "execution_count": 44,
     "metadata": {},
     "output_type": "execute_result"
    }
   ],
   "source": [
    "ndf = pd.merge(pos_amps, neg_amps, left_on='gene', right_on='gene', how='outer')#.fillna(1)\n",
    "ndf.columns = ['hiv+q', 'cytoband_pos','gene', 'hiv-q', 'cytoband_neg']\n",
    "ndf['cytoband'] = ndf.astype(str).apply(lambda x: map_two_columns(x1=x['cytoband_pos'], x2=x['cytoband_neg']), axis=1)\n",
    "\n",
    "ndf = ndf.drop(['cytoband_pos', 'cytoband_neg'], axis=1)\n",
    "ndf.head(2)\n",
    "\n",
    "of = f'{root}amp_gene_qvalue_comparison_hiv_pos_vs_neg.txt'\n",
    "ndf.to_csv(of, sep='\\t', index=False)"
   ]
  },
  {
   "cell_type": "code",
   "execution_count": 314,
   "metadata": {},
   "outputs": [
    {
     "data": {
      "text/html": [
       "<div>\n",
       "<style scoped>\n",
       "    .dataframe tbody tr th:only-of-type {\n",
       "        vertical-align: middle;\n",
       "    }\n",
       "\n",
       "    .dataframe tbody tr th {\n",
       "        vertical-align: top;\n",
       "    }\n",
       "\n",
       "    .dataframe thead th {\n",
       "        text-align: right;\n",
       "    }\n",
       "</style>\n",
       "<table border=\"1\" class=\"dataframe\">\n",
       "  <thead>\n",
       "    <tr style=\"text-align: right;\">\n",
       "      <th></th>\n",
       "      <th>q value</th>\n",
       "      <th>cytoband</th>\n",
       "      <th>gene</th>\n",
       "    </tr>\n",
       "  </thead>\n",
       "  <tbody>\n",
       "    <tr>\n",
       "      <th>0</th>\n",
       "      <td>0.055942</td>\n",
       "      <td>1p36.21</td>\n",
       "      <td>MDS2</td>\n",
       "    </tr>\n",
       "    <tr>\n",
       "      <th>0</th>\n",
       "      <td>0.055942</td>\n",
       "      <td>1p36.21</td>\n",
       "      <td>PARK7</td>\n",
       "    </tr>\n",
       "  </tbody>\n",
       "</table>\n",
       "</div>"
      ],
      "text/plain": [
       "    q value cytoband   gene\n",
       "0  0.055942  1p36.21   MDS2\n",
       "0  0.055942  1p36.21  PARK7"
      ]
     },
     "execution_count": 314,
     "metadata": {},
     "output_type": "execute_result"
    },
    {
     "data": {
      "text/html": [
       "<div>\n",
       "<style scoped>\n",
       "    .dataframe tbody tr th:only-of-type {\n",
       "        vertical-align: middle;\n",
       "    }\n",
       "\n",
       "    .dataframe tbody tr th {\n",
       "        vertical-align: top;\n",
       "    }\n",
       "\n",
       "    .dataframe thead th {\n",
       "        text-align: right;\n",
       "    }\n",
       "</style>\n",
       "<table border=\"1\" class=\"dataframe\">\n",
       "  <thead>\n",
       "    <tr style=\"text-align: right;\">\n",
       "      <th></th>\n",
       "      <th>q value</th>\n",
       "      <th>cytoband</th>\n",
       "      <th>gene</th>\n",
       "    </tr>\n",
       "  </thead>\n",
       "  <tbody>\n",
       "    <tr>\n",
       "      <th>0</th>\n",
       "      <td>0.039246</td>\n",
       "      <td>1p13.2</td>\n",
       "      <td>GSTM1</td>\n",
       "    </tr>\n",
       "    <tr>\n",
       "      <th>0</th>\n",
       "      <td>0.039246</td>\n",
       "      <td>1p13.2</td>\n",
       "      <td>RAP1A</td>\n",
       "    </tr>\n",
       "  </tbody>\n",
       "</table>\n",
       "</div>"
      ],
      "text/plain": [
       "    q value cytoband   gene\n",
       "0  0.039246   1p13.2  GSTM1\n",
       "0  0.039246   1p13.2  RAP1A"
      ]
     },
     "execution_count": 314,
     "metadata": {},
     "output_type": "execute_result"
    },
    {
     "data": {
      "text/html": [
       "<div>\n",
       "<style scoped>\n",
       "    .dataframe tbody tr th:only-of-type {\n",
       "        vertical-align: middle;\n",
       "    }\n",
       "\n",
       "    .dataframe tbody tr th {\n",
       "        vertical-align: top;\n",
       "    }\n",
       "\n",
       "    .dataframe thead th {\n",
       "        text-align: right;\n",
       "    }\n",
       "</style>\n",
       "<table border=\"1\" class=\"dataframe\">\n",
       "  <thead>\n",
       "    <tr style=\"text-align: right;\">\n",
       "      <th></th>\n",
       "      <th>hiv+q</th>\n",
       "      <th>gene</th>\n",
       "      <th>hiv-q</th>\n",
       "      <th>cytoband</th>\n",
       "    </tr>\n",
       "  </thead>\n",
       "  <tbody>\n",
       "    <tr>\n",
       "      <th>0</th>\n",
       "      <td>0.055942</td>\n",
       "      <td>MDS2</td>\n",
       "      <td>NaN</td>\n",
       "      <td>1p36.21</td>\n",
       "    </tr>\n",
       "    <tr>\n",
       "      <th>1</th>\n",
       "      <td>0.055942</td>\n",
       "      <td>PARK7</td>\n",
       "      <td>NaN</td>\n",
       "      <td>1p36.21</td>\n",
       "    </tr>\n",
       "  </tbody>\n",
       "</table>\n",
       "</div>"
      ],
      "text/plain": [
       "      hiv+q   gene  hiv-q cytoband\n",
       "0  0.055942   MDS2    NaN  1p36.21\n",
       "1  0.055942  PARK7    NaN  1p36.21"
      ]
     },
     "execution_count": 314,
     "metadata": {},
     "output_type": "execute_result"
    }
   ],
   "source": [
    "# for dels\n",
    "pos_del_file = '/projects/trans_scratch/validations/workspace/szong/Cervical/cnv/124_patient_adj_hiv_pos/del_genes.conf_99.txt.summary.sorted'\n",
    "pos_dels = get_qvalue_cytoband(pos_del_file)\n",
    "pos_dels.head(2)\n",
    "\n",
    "neg_del_file = '//projects/trans_scratch/validations/workspace/szong/Cervical/cnv/124_patient_adj_hiv_neg/del_genes.conf_99.txt.summary.sorted'\n",
    "neg_dels = get_qvalue_cytoband(neg_del_file)\n",
    "neg_dels.head(2)\n",
    "\n",
    "ndf = pd.merge(pos_dels, neg_dels, left_on='gene', right_on='gene', how='outer')#.fillna(1)\n",
    "ndf.columns = ['hiv+q', 'cytoband_pos','gene', 'hiv-q', 'cytoband_neg']\n",
    "ndf['cytoband'] = ndf.astype(str).apply(lambda x: map_two_columns(x1=x['cytoband_pos'], x2=x['cytoband_neg']), axis=1)\n",
    "\n",
    "ndf = ndf.drop(['cytoband_pos', 'cytoband_neg'], axis=1)\n",
    "ndf.head(2)"
   ]
  },
  {
   "cell_type": "code",
   "execution_count": 92,
   "metadata": {},
   "outputs": [
    {
     "data": {
      "text/plain": [
       "(431, 3)"
      ]
     },
     "execution_count": 92,
     "metadata": {},
     "output_type": "execute_result"
    },
    {
     "data": {
      "text/plain": [
       "414"
      ]
     },
     "execution_count": 92,
     "metadata": {},
     "output_type": "execute_result"
    }
   ],
   "source": [
    "ndf.shape\n",
    "ndf['gene'].nunique()"
   ]
  },
  {
   "cell_type": "code",
   "execution_count": 93,
   "metadata": {},
   "outputs": [
    {
     "data": {
      "text/html": [
       "<div>\n",
       "<style scoped>\n",
       "    .dataframe tbody tr th:only-of-type {\n",
       "        vertical-align: middle;\n",
       "    }\n",
       "\n",
       "    .dataframe tbody tr th {\n",
       "        vertical-align: top;\n",
       "    }\n",
       "\n",
       "    .dataframe thead th {\n",
       "        text-align: right;\n",
       "    }\n",
       "</style>\n",
       "<table border=\"1\" class=\"dataframe\">\n",
       "  <thead>\n",
       "    <tr style=\"text-align: right;\">\n",
       "      <th></th>\n",
       "      <th>hiv+q</th>\n",
       "      <th>gene</th>\n",
       "      <th>hiv-q</th>\n",
       "    </tr>\n",
       "  </thead>\n",
       "  <tbody>\n",
       "    <tr>\n",
       "      <th>20</th>\n",
       "      <td>1.795800e-19</td>\n",
       "      <td>ACSL3</td>\n",
       "      <td>1.0</td>\n",
       "    </tr>\n",
       "    <tr>\n",
       "      <th>21</th>\n",
       "      <td>1.855100e-18</td>\n",
       "      <td>ACSL3</td>\n",
       "      <td>1.0</td>\n",
       "    </tr>\n",
       "  </tbody>\n",
       "</table>\n",
       "</div>"
      ],
      "text/plain": [
       "           hiv+q   gene  hiv-q\n",
       "20  1.795800e-19  ACSL3    1.0\n",
       "21  1.855100e-18  ACSL3    1.0"
      ]
     },
     "execution_count": 93,
     "metadata": {},
     "output_type": "execute_result"
    }
   ],
   "source": [
    "# look at duplicated on column gene\n",
    "pd.concat(g for _, g in ndf.groupby(\"gene\") if len(g) > 1).head(2)"
   ]
  },
  {
   "cell_type": "code",
   "execution_count": 315,
   "metadata": {},
   "outputs": [],
   "source": [
    "ndf = ndf.drop_duplicates(subset='gene', keep='last')"
   ]
  },
  {
   "cell_type": "code",
   "execution_count": 283,
   "metadata": {},
   "outputs": [],
   "source": [
    "def label_point(x, y, val, ax):\n",
    "    a = pd.concat({'x': x, 'y': y, 'val': val}, axis=1)\n",
    "    k = 0\n",
    "    j = 0 \n",
    "    for i, point in a.iterrows():\n",
    "        _ = ax.text(point['x']+j, point['y']+k, str(point['val']))\n",
    "        k+=1\n",
    "#         j+=.5\n",
    "    return a"
   ]
  },
  {
   "cell_type": "code",
   "execution_count": 36,
   "metadata": {},
   "outputs": [],
   "source": [
    "def plot_genes(ax, df):\n",
    "    df = df.sort_values(['y', 'x'], ascending=True)\n",
    "    for ix, row in df.iterrows():  \n",
    "        gene = row.gene\n",
    "        x = row['hiv+q']\n",
    "        y = row['hiv-q']\n",
    "        textx = row.x\n",
    "        texty = row.y\n",
    "#         anno_color = row.anno_color\n",
    "#         anno_ecolor = row.anno_ecolor\n",
    "#         arrow_color = row.arrow_color\n",
    "#         fill_color = row.fill_color\n",
    "        anno_color = 'blue'\n",
    "        arrow_color = 'blue'\n",
    "        ax.annotate('{}'.format(gene),\n",
    "                    xy=(x,y), \n",
    "                    xytext=(textx, texty), fontsize=10,\n",
    "                    ha='center', va='bottom', color=anno_color,\n",
    "                    textcoords='data', xycoords=\"data\", \n",
    "                    bbox=dict(boxstyle='round', \n",
    "#                               fc=fill_color, \n",
    "#                               edgecolor=anno_ecolor,\n",
    "                              alpha=1, pad=.4),\n",
    "                    arrowprops=dict(arrowstyle='-', \n",
    "                                    color=anno_color,\n",
    "                                    shrinkB=0, \n",
    "                                    connectionstyle='arc3,rad=0.0' \n",
    "                                  ))"
   ]
  },
  {
   "cell_type": "code",
   "execution_count": 10,
   "metadata": {},
   "outputs": [],
   "source": [
    "ndf = ndf.sort_values('hiv-q')"
   ]
  },
  {
   "cell_type": "code",
   "execution_count": 318,
   "metadata": {},
   "outputs": [
    {
     "data": {
      "text/html": [
       "<div>\n",
       "<style scoped>\n",
       "    .dataframe tbody tr th:only-of-type {\n",
       "        vertical-align: middle;\n",
       "    }\n",
       "\n",
       "    .dataframe tbody tr th {\n",
       "        vertical-align: top;\n",
       "    }\n",
       "\n",
       "    .dataframe thead th {\n",
       "        text-align: right;\n",
       "    }\n",
       "</style>\n",
       "<table border=\"1\" class=\"dataframe\">\n",
       "  <thead>\n",
       "    <tr style=\"text-align: right;\">\n",
       "      <th></th>\n",
       "      <th>hiv+q</th>\n",
       "      <th>gene</th>\n",
       "      <th>hiv-q</th>\n",
       "      <th>cytoband</th>\n",
       "    </tr>\n",
       "  </thead>\n",
       "  <tbody>\n",
       "    <tr>\n",
       "      <th>0</th>\n",
       "      <td>0.055942</td>\n",
       "      <td>MDS2</td>\n",
       "      <td>1.0</td>\n",
       "      <td>1p36.21</td>\n",
       "    </tr>\n",
       "    <tr>\n",
       "      <th>1</th>\n",
       "      <td>0.055942</td>\n",
       "      <td>PARK7</td>\n",
       "      <td>1.0</td>\n",
       "      <td>1p36.21</td>\n",
       "    </tr>\n",
       "  </tbody>\n",
       "</table>\n",
       "</div>"
      ],
      "text/plain": [
       "      hiv+q   gene  hiv-q cytoband\n",
       "0  0.055942   MDS2    1.0  1p36.21\n",
       "1  0.055942  PARK7    1.0  1p36.21"
      ]
     },
     "execution_count": 318,
     "metadata": {},
     "output_type": "execute_result"
    }
   ],
   "source": [
    "of = '/projects/trans_scratch/validations/workspace/szong/Cervical/cnv/del_gene_qvalue_comparison_hiv_pos_vs_neg.txt'\n",
    "ndf = pd.read_csv(of, sep='\\t').fillna(1)\n",
    "ndf.head(2)"
   ]
  },
  {
   "cell_type": "code",
   "execution_count": 319,
   "metadata": {},
   "outputs": [],
   "source": [
    "ndf['hiv+q(-log10)'] = -np.log10(ndf['hiv+q'])\n",
    "ndf['hiv-q(-log10)'] = -np.log10(ndf['hiv-q'])"
   ]
  },
  {
   "cell_type": "code",
   "execution_count": 320,
   "metadata": {},
   "outputs": [
    {
     "data": {
      "text/html": [
       "<div>\n",
       "<style scoped>\n",
       "    .dataframe tbody tr th:only-of-type {\n",
       "        vertical-align: middle;\n",
       "    }\n",
       "\n",
       "    .dataframe tbody tr th {\n",
       "        vertical-align: top;\n",
       "    }\n",
       "\n",
       "    .dataframe thead th {\n",
       "        text-align: right;\n",
       "    }\n",
       "</style>\n",
       "<table border=\"1\" class=\"dataframe\">\n",
       "  <thead>\n",
       "    <tr style=\"text-align: right;\">\n",
       "      <th></th>\n",
       "      <th>hiv+q</th>\n",
       "      <th>gene</th>\n",
       "      <th>hiv-q</th>\n",
       "      <th>cytoband</th>\n",
       "      <th>hiv+q(-log10)</th>\n",
       "      <th>hiv-q(-log10)</th>\n",
       "    </tr>\n",
       "  </thead>\n",
       "  <tbody>\n",
       "    <tr>\n",
       "      <th>0</th>\n",
       "      <td>0.055942</td>\n",
       "      <td>MDS2</td>\n",
       "      <td>1.0</td>\n",
       "      <td>1p36.21</td>\n",
       "      <td>1.252262</td>\n",
       "      <td>-0.0</td>\n",
       "    </tr>\n",
       "    <tr>\n",
       "      <th>1</th>\n",
       "      <td>0.055942</td>\n",
       "      <td>PARK7</td>\n",
       "      <td>1.0</td>\n",
       "      <td>1p36.21</td>\n",
       "      <td>1.252262</td>\n",
       "      <td>-0.0</td>\n",
       "    </tr>\n",
       "    <tr>\n",
       "      <th>2</th>\n",
       "      <td>0.055942</td>\n",
       "      <td>RAP1GAP</td>\n",
       "      <td>1.0</td>\n",
       "      <td>1p36.21</td>\n",
       "      <td>1.252262</td>\n",
       "      <td>-0.0</td>\n",
       "    </tr>\n",
       "    <tr>\n",
       "      <th>3</th>\n",
       "      <td>0.055942</td>\n",
       "      <td>KIF1B</td>\n",
       "      <td>1.0</td>\n",
       "      <td>1p36.21</td>\n",
       "      <td>1.252262</td>\n",
       "      <td>-0.0</td>\n",
       "    </tr>\n",
       "    <tr>\n",
       "      <th>4</th>\n",
       "      <td>0.055942</td>\n",
       "      <td>SDHB</td>\n",
       "      <td>1.0</td>\n",
       "      <td>1p36.21</td>\n",
       "      <td>1.252262</td>\n",
       "      <td>-0.0</td>\n",
       "    </tr>\n",
       "  </tbody>\n",
       "</table>\n",
       "</div>"
      ],
      "text/plain": [
       "      hiv+q     gene  hiv-q cytoband  hiv+q(-log10)  hiv-q(-log10)\n",
       "0  0.055942     MDS2    1.0  1p36.21       1.252262           -0.0\n",
       "1  0.055942    PARK7    1.0  1p36.21       1.252262           -0.0\n",
       "2  0.055942  RAP1GAP    1.0  1p36.21       1.252262           -0.0\n",
       "3  0.055942    KIF1B    1.0  1p36.21       1.252262           -0.0\n",
       "4  0.055942     SDHB    1.0  1p36.21       1.252262           -0.0"
      ]
     },
     "execution_count": 320,
     "metadata": {},
     "output_type": "execute_result"
    },
    {
     "data": {
      "text/plain": [
       "(414, 6)"
      ]
     },
     "execution_count": 320,
     "metadata": {},
     "output_type": "execute_result"
    }
   ],
   "source": [
    "ndf.head()\n",
    "ndf.shape"
   ]
  },
  {
   "cell_type": "code",
   "execution_count": 321,
   "metadata": {},
   "outputs": [
    {
     "data": {
      "text/plain": [
       "<matplotlib.axes._subplots.AxesSubplot at 0x7fac07598630>"
      ]
     },
     "execution_count": 321,
     "metadata": {},
     "output_type": "execute_result"
    },
    {
     "data": {
      "text/plain": [
       "Text(0.5,1,'GISTIC dels oncogenes')"
      ]
     },
     "execution_count": 321,
     "metadata": {},
     "output_type": "execute_result"
    },
    {
     "data": {
      "text/plain": [
       "(-1, 23)"
      ]
     },
     "execution_count": 321,
     "metadata": {},
     "output_type": "execute_result"
    },
    {
     "data": {
      "text/plain": [
       "(-1, 23)"
      ]
     },
     "execution_count": 321,
     "metadata": {},
     "output_type": "execute_result"
    },
    {
     "data": {
      "image/png": "[encoded data removed]",
      "text/plain": [
       "<Figure size 504x504 with 1 Axes>"
      ]
     },
     "metadata": {},
     "output_type": "display_data"
    }
   ],
   "source": [
    "# Set theme\n",
    "sns.set_style('whitegrid')\n",
    "\n",
    "\n",
    "# Scatterplot arguments\n",
    "# grid = sns.lmplot(x='hiv+q', y='hiv-q', data=ndf.fillna(.1),\n",
    "#            fit_reg=False) # No regression line\n",
    "#            #hue='Stage')   # Color by evolution stage\n",
    "# # Tweak using Matplotlib\n",
    "# # plt.ylim(0, .2)\n",
    "# # plt.xlim(0, .2)\n",
    "# grid.set(xscale=\"log\", yscale=\"log\")\n",
    "\n",
    "f, ax = plt.subplots(figsize=(7, 7))\n",
    "\n",
    "\n",
    "# ax.set(xscale=\"log\", yscale=\"log\")\n",
    "sns.regplot(x='hiv+q(-log10)', y='hiv-q(-log10)', data=ndf, ax=ax, fit_reg=False, x_jitter=1e-12, y_jitter=1e-10, scatter_kws={\"s\": 10})\n",
    "\n",
    "\n",
    "\n",
    "\n",
    "ax.set_title('GISTIC dels oncogenes')\n",
    "ax.set_xlim(-1, 23)\n",
    "ax.set_ylim(-1, 23)\n",
    "\n",
    "\n",
    "\n",
    "    \n",
    "ndf = ndf[(ndf['hiv+q(-log10)']>15)]#|(ndf['hiv-q(-log10)']>5)]\n",
    "_ = label_point(ndf['hiv+q(-log10)'], ndf['hiv-q(-log10)'], ndf['gene']+'_'+ndf['cytoband'], plt.gca())  \n",
    "of = '/projects/trans_scratch/validations/workspace/szong/Cervical/cnv/del_gene_qvalue_comparison_hiv_pos_vs_neg.png'\n",
    "plt.savefig(of, bbox_inches='tight', dpi=200)"
   ]
  },
  {
   "cell_type": "code",
   "execution_count": 126,
   "metadata": {},
   "outputs": [],
   "source": [
    "plt.close()"
   ]
  },
  {
   "cell_type": "code",
   "execution_count": 18,
   "metadata": {},
   "outputs": [
    {
     "data": {
      "text/html": [
       "<div>\n",
       "<style scoped>\n",
       "    .dataframe tbody tr th:only-of-type {\n",
       "        vertical-align: middle;\n",
       "    }\n",
       "\n",
       "    .dataframe tbody tr th {\n",
       "        vertical-align: top;\n",
       "    }\n",
       "\n",
       "    .dataframe thead th {\n",
       "        text-align: right;\n",
       "    }\n",
       "</style>\n",
       "<table border=\"1\" class=\"dataframe\">\n",
       "  <thead>\n",
       "    <tr style=\"text-align: right;\">\n",
       "      <th></th>\n",
       "      <th>hiv+q</th>\n",
       "      <th>gene</th>\n",
       "      <th>hiv-q</th>\n",
       "    </tr>\n",
       "  </thead>\n",
       "  <tbody>\n",
       "    <tr>\n",
       "      <th>23</th>\n",
       "      <td>1.0</td>\n",
       "      <td>TP63</td>\n",
       "      <td>1.264200e-10</td>\n",
       "    </tr>\n",
       "    <tr>\n",
       "      <th>25</th>\n",
       "      <td>1.0</td>\n",
       "      <td>MYC</td>\n",
       "      <td>5.258800e-03</td>\n",
       "    </tr>\n",
       "  </tbody>\n",
       "</table>\n",
       "</div>"
      ],
      "text/plain": [
       "    hiv+q  gene         hiv-q\n",
       "23    1.0  TP63  1.264200e-10\n",
       "25    1.0   MYC  5.258800e-03"
      ]
     },
     "execution_count": 18,
     "metadata": {},
     "output_type": "execute_result"
    }
   ],
   "source": [
    "ndf.head(2)"
   ]
  },
  {
   "cell_type": "code",
   "execution_count": 316,
   "metadata": {},
   "outputs": [],
   "source": [
    "of = '/projects/trans_scratch/validations/workspace/szong/Cervical/cnv/del_gene_qvalue_comparison_hiv_pos_vs_neg.txt'\n",
    "ndf.to_csv(of, sep='\\t', index=False)"
   ]
  },
  {
   "cell_type": "code",
   "execution_count": 9,
   "metadata": {},
   "outputs": [],
   "source": [
    "%%bash\n",
    "cd /home/szong/bin/GISTIC_2_0_22/124_patient_adj_hiv_neg\n",
    "cat del_genes.conf_99.txt.summary |awk -F \":\" '{print $1\"\\t\"$2}'|sed 's/chr//g'|sort -k4n> del_genes.conf_99.txt.summary.sorted\n",
    "cat amp_genes.conf_99.txt.summary |awk -F \":\" '{print $1\"\\t\"$2}'|sed 's/chr//g'|sort -k4n> amp_genes.conf_99.txt.summary.sorted"
   ]
  },
  {
   "cell_type": "markdown",
   "metadata": {},
   "source": [
    "# look at correlation between copy number and expression"
   ]
  },
  {
   "cell_type": "code",
   "execution_count": 49,
   "metadata": {
    "scrolled": true
   },
   "outputs": [
    {
     "data": {
      "text/html": [
       "<div>\n",
       "<style scoped>\n",
       "    .dataframe tbody tr th:only-of-type {\n",
       "        vertical-align: middle;\n",
       "    }\n",
       "\n",
       "    .dataframe tbody tr th {\n",
       "        vertical-align: top;\n",
       "    }\n",
       "\n",
       "    .dataframe thead th {\n",
       "        text-align: right;\n",
       "    }\n",
       "</style>\n",
       "<table border=\"1\" class=\"dataframe\">\n",
       "  <thead>\n",
       "    <tr style=\"text-align: right;\">\n",
       "      <th></th>\n",
       "      <th>q value</th>\n",
       "      <th>gene</th>\n",
       "      <th>new_gene</th>\n",
       "    </tr>\n",
       "  </thead>\n",
       "  <tbody>\n",
       "    <tr>\n",
       "      <th>7</th>\n",
       "      <td>3.377000e-03</td>\n",
       "      <td>NFE2L2,HOXD11,HOXD13</td>\n",
       "      <td>NFE2L2</td>\n",
       "    </tr>\n",
       "    <tr>\n",
       "      <th>7</th>\n",
       "      <td>3.377000e-03</td>\n",
       "      <td>NFE2L2,HOXD11,HOXD13</td>\n",
       "      <td>HOXD11</td>\n",
       "    </tr>\n",
       "    <tr>\n",
       "      <th>7</th>\n",
       "      <td>3.377000e-03</td>\n",
       "      <td>NFE2L2,HOXD11,HOXD13</td>\n",
       "      <td>HOXD13</td>\n",
       "    </tr>\n",
       "    <tr>\n",
       "      <th>9</th>\n",
       "      <td>8.332900e-13</td>\n",
       "      <td>DLG1</td>\n",
       "      <td>DLG1</td>\n",
       "    </tr>\n",
       "    <tr>\n",
       "      <th>16</th>\n",
       "      <td>5.524600e-02</td>\n",
       "      <td>RAC1</td>\n",
       "      <td>RAC1</td>\n",
       "    </tr>\n",
       "    <tr>\n",
       "      <th>20</th>\n",
       "      <td>6.399600e-05</td>\n",
       "      <td>ESRP1</td>\n",
       "      <td>ESRP1</td>\n",
       "    </tr>\n",
       "    <tr>\n",
       "      <th>22</th>\n",
       "      <td>8.899700e-02</td>\n",
       "      <td>UHRF2</td>\n",
       "      <td>UHRF2</td>\n",
       "    </tr>\n",
       "    <tr>\n",
       "      <th>26</th>\n",
       "      <td>1.518200e-01</td>\n",
       "      <td>LMO2,EHF</td>\n",
       "      <td>LMO2</td>\n",
       "    </tr>\n",
       "    <tr>\n",
       "      <th>26</th>\n",
       "      <td>1.518200e-01</td>\n",
       "      <td>LMO2,EHF</td>\n",
       "      <td>EHF</td>\n",
       "    </tr>\n",
       "    <tr>\n",
       "      <th>28</th>\n",
       "      <td>5.902500e-07</td>\n",
       "      <td>YAP1,BIRC3</td>\n",
       "      <td>YAP1</td>\n",
       "    </tr>\n",
       "    <tr>\n",
       "      <th>28</th>\n",
       "      <td>5.902500e-07</td>\n",
       "      <td>YAP1,BIRC3</td>\n",
       "      <td>BIRC3</td>\n",
       "    </tr>\n",
       "    <tr>\n",
       "      <th>30</th>\n",
       "      <td>1.518200e-01</td>\n",
       "      <td>GPRC5A</td>\n",
       "      <td>GPRC5A</td>\n",
       "    </tr>\n",
       "    <tr>\n",
       "      <th>41</th>\n",
       "      <td>8.899700e-02</td>\n",
       "      <td>CDH1</td>\n",
       "      <td>CDH1</td>\n",
       "    </tr>\n",
       "    <tr>\n",
       "      <th>42</th>\n",
       "      <td>5.013900e-02</td>\n",
       "      <td>RAD51C</td>\n",
       "      <td>RAD51C</td>\n",
       "    </tr>\n",
       "    <tr>\n",
       "      <th>48</th>\n",
       "      <td>1.634100e-03</td>\n",
       "      <td>BCL3,CBLC</td>\n",
       "      <td>BCL3</td>\n",
       "    </tr>\n",
       "    <tr>\n",
       "      <th>48</th>\n",
       "      <td>1.634100e-03</td>\n",
       "      <td>BCL3,CBLC</td>\n",
       "      <td>CBLC</td>\n",
       "    </tr>\n",
       "  </tbody>\n",
       "</table>\n",
       "</div>"
      ],
      "text/plain": [
       "         q value                  gene new_gene\n",
       "7   3.377000e-03  NFE2L2,HOXD11,HOXD13   NFE2L2\n",
       "7   3.377000e-03  NFE2L2,HOXD11,HOXD13   HOXD11\n",
       "7   3.377000e-03  NFE2L2,HOXD11,HOXD13   HOXD13\n",
       "9   8.332900e-13                  DLG1     DLG1\n",
       "16  5.524600e-02                  RAC1     RAC1\n",
       "20  6.399600e-05                 ESRP1    ESRP1\n",
       "22  8.899700e-02                 UHRF2    UHRF2\n",
       "26  1.518200e-01              LMO2,EHF     LMO2\n",
       "26  1.518200e-01              LMO2,EHF      EHF\n",
       "28  5.902500e-07            YAP1,BIRC3     YAP1\n",
       "28  5.902500e-07            YAP1,BIRC3    BIRC3\n",
       "30  1.518200e-01                GPRC5A   GPRC5A\n",
       "41  8.899700e-02                  CDH1     CDH1\n",
       "42  5.013900e-02                RAD51C   RAD51C\n",
       "48  1.634100e-03             BCL3,CBLC     BCL3\n",
       "48  1.634100e-03             BCL3,CBLC     CBLC"
      ]
     },
     "execution_count": 49,
     "metadata": {},
     "output_type": "execute_result"
    }
   ],
   "source": [
    "df2"
   ]
  },
  {
   "cell_type": "code",
   "execution_count": null,
   "metadata": {},
   "outputs": [],
   "source": [
    "f = '/home/szong/bin/GISTIC_2_0_22/124_patient_adj_3k_0.1_1Mb/all_thresholded.by_genes.txt'\n",
    "df = pd.read_csv(f, sep='\\t')\n",
    "df.head(2)"
   ]
  },
  {
   "cell_type": "code",
   "execution_count": null,
   "metadata": {},
   "outputs": [],
   "source": [
    "f1 = '/projects/trans_scratch/validations/workspace/szong/Cervical/expression/NCI_ensembl69_stranded_RPKM_matrix.txt'\n",
    "df1 = pd.read_csv(f1, sep='\\t')\n",
    "df1.head(2)"
   ]
  },
  {
   "cell_type": "code",
   "execution_count": null,
   "metadata": {},
   "outputs": [],
   "source": [
    "genes = ['ECT2', 'YAP1', 'DLG1',  'DNAH5',  'SP100', 'STK11']"
   ]
  },
  {
   "cell_type": "code",
   "execution_count": null,
   "metadata": {},
   "outputs": [],
   "source": [
    "def categorize_cnv(i):\n",
    "#     for i in s:\n",
    "    if i < 0:\n",
    "        cat = 'cnv_loss'\n",
    "    elif i > 0:\n",
    "        cat = 'cnv_gain'\n",
    "    else: cat = 'cnv_neutral'\n",
    "#         ns.append(cat)\n",
    "    return cat"
   ]
  },
  {
   "cell_type": "code",
   "execution_count": null,
   "metadata": {},
   "outputs": [],
   "source": [
    "with plt.style.context(\"seaborn-whitegrid\"):\n",
    "    plt.rcParams[\"axes.edgecolor\"] = \"0.15\"\n",
    "    plt.rcParams[\"axes.linewidth\"]  = 1.25\n",
    "    fig = plt.figure(facecolor='w', figsize=(12,12))\n",
    "    axes = (fig.subplots(int(len(genes)/3), 3)).ravel()\n",
    "#     print(axes[1])\n",
    "    for i, gene in enumerate(genes):\n",
    "        dfgene = df[df['Gene Symbol'] == gene]\n",
    "        df1gene = df1[df1.genes.str.contains('_{}$'.format(gene))]\n",
    "        dff = pd.concat([dfgene, df1gene]).drop(['Cytoband', 'Gene Symbol', 'Locus ID', 'genes'], axis=1).T\n",
    "        dff.columns = ['cnv', 'rpkm']\n",
    "#         dff['groups'] = ['cnv_loss' if i< 0 'cnv_gain' elif i>0 else 'cnv_neutral' for i in dff.cnv ]\n",
    "        dff['groups'] = dff.cnv.apply(categorize_cnv)\n",
    "#         print(dff['groups'].unique())\n",
    "        # boxplot overlaps individual data point\n",
    "\n",
    "        ax = axes[i]\n",
    "        _ = sns.boxplot('groups', 'rpkm', data=dff, ax=ax, order=['cnv_loss', 'cnv_neutral', 'cnv_gain'])\n",
    "        _ = sns.swarmplot('groups', 'rpkm', data=dff, ax=ax, order=['cnv_loss', 'cnv_neutral', 'cnv_gain'])\n",
    "        _ = ax.set_title(gene)\n",
    "        _ = ax.set_xlabel('')\n",
    "        grps = {}\n",
    "        # overlay actuall data point\n",
    "        categories = ['cnv_loss','cnv_neutral', 'cnv_gain']\n",
    "        group_col = 'groups'\n",
    "        value_col = 'rpkm'\n",
    "        for i, cat in enumerate(categories):\n",
    "#             print(i, cat)\n",
    "            grps[i] = dff.query('{0} == \"{1}\"'.format(group_col, cat))[value_col]\n",
    "\n",
    "        if len(categories) == 2:\n",
    "            # statistical test for 1st grp\n",
    "#             sts, p = ss.mannwhitneyu(grps[0], grps[1], use_continuity=True, alternative=None)\n",
    "            sts, p1 = ttest_ind(grps[0], grps[1])\n",
    "#             print(p)\n",
    "            p = round(p, 8)\n",
    "            _ = ax.text(0.4 , 0.90,'p={}'.format(p), ha='center', va='center', transform=ax.transAxes, size=14)\n",
    "        elif len(categories) == 3:\n",
    "            # statistical test for 1st grp\n",
    "#             sts, p1 = ss.mannwhitneyu(grps[0], grps[1], use_continuity=True, alternative=None)\n",
    "            sts, p1 = ttest_ind(grps[0], grps[1])\n",
    "#             print(p1)\n",
    "            p1 = round(p1, 5)\n",
    "            _ = ax.text(0.2 , 0.90,'p={}'.format(p1), ha='center', va='center', transform=ax.transAxes, size=14)\n",
    "#             sts, p2 = ss.mannwhitneyu(grps[2], grps[1], use_continuity=True, alternative=None)\n",
    "            sts, p2 = ttest_ind(grps[2], grps[1])\n",
    "#             print(p2)\n",
    "            p2 = round(p2, 5)\n",
    "            _ = ax.text(0.7 , 0.90,'p={}'.format(p2), ha='center', va='center', transform=ax.transAxes, size=14)\n",
    "    of = '/projects/trans_scratch/validations/workspace/szong/Cervical/cnv/cnv_expression.png'\n",
    "    plt.savefig(of, dpi=200)"
   ]
  }
 ],
 "metadata": {
  "kernelspec": {
   "display_name": "Python 3",
   "language": "python",
   "name": "python3"
  },
  "language_info": {
   "codemirror_mode": {
    "name": "ipython",
    "version": 3
   },
   "file_extension": ".py",
   "mimetype": "text/x-python",
   "name": "python",
   "nbconvert_exporter": "python",
   "pygments_lexer": "ipython3",
   "version": "3.6.5"
  }
 },
 "nbformat": 4,
 "nbformat_minor": 2
}
