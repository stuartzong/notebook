{
 "cells": [
  {
   "cell_type": "code",
   "execution_count": 1,
   "metadata": {},
   "outputs": [],
   "source": [
    "import pandas as pd\n",
    "import numpy as np\n",
    "# import string as s\n",
    "import seaborn as sns\n",
    "import sz_toolbox as sz\n",
    "# import math\n",
    "# import tables\n",
    "# import matplotlib\n",
    "import matplotlib.pyplot as plt\n",
    "from matplotlib import style, colors\n",
    "# from itertools import groupby\n",
    "import matplotlib.patches as patches\n",
    "from matplotlib import gridspec\n",
    "import scipy.stats as stats\n",
    "from scipy.cluster.hierarchy import dendrogram, linkage, fcluster, fclusterdata, leaves_list\n",
    "from scipy.spatial.distance import pdist\n",
    "# from scipy.ndimage.interpolation import shift\n",
    "# matplotlib.style.use('ggplot')\n",
    "# %matplotlib inline\n",
    "# matplotlib.rcParams['figure.figsize'] = (8, 6)\n",
    "# matplotlib.rcParams['figure.facecolor'] = 'white'\n",
    "# import mpl_toolkits.mplot3d.axes3d as p3\n",
    "# from sklearn.cluster import AgglomerativeClustering\n",
    "# from sklearn.datasets.samples_generator import make_swiss_roll\n",
    "# matplotlib.style.use('ggplot')\n",
    "%matplotlib inline\n",
    "from IPython.core.interactiveshell import InteractiveShell\n",
    "InteractiveShell.ast_node_interactivity = \"all\""
   ]
  },
  {
   "cell_type": "code",
   "execution_count": null,
   "metadata": {},
   "outputs": [],
   "source": []
  },
  {
   "cell_type": "markdown",
   "metadata": {},
   "source": [
    "# 1. Overview"
   ]
  },
  {
   "cell_type": "markdown",
   "metadata": {},
   "source": [
    " 53 samples, need to remove 2 samples: 'HTMCP-03-06-02007', and 'HTMCP-03-06-02026'\n",
    " \n",
    " "
   ]
  },
  {
   "cell_type": "code",
   "execution_count": 56,
   "metadata": {},
   "outputs": [
    {
     "data": {
      "text/plain": [
       "['HTMCP-03-06-02001', 'HTMCP-03-06-02002', 'HTMCP-03-06-02003']"
      ]
     },
     "execution_count": 56,
     "metadata": {},
     "output_type": "execute_result"
    },
    {
     "data": {
      "text/plain": [
       "False"
      ]
     },
     "execution_count": 56,
     "metadata": {},
     "output_type": "execute_result"
    },
    {
     "data": {
      "text/plain": [
       "False"
      ]
     },
     "execution_count": 56,
     "metadata": {},
     "output_type": "execute_result"
    }
   ],
   "source": [
    "f1 = '/projects/trans_scratch/validations/workspace/szong/Cervical/mutsig2cv/118_patients.txt'\n",
    "patients = pd.read_csv(f1, header=None)[0].values.tolist()\n",
    "assert len(patients) == 118\n",
    "patients[:3]\n",
    "'HTMCP-03-06-02007' in patients\n",
    "'HTMCP-03-06-02026' in patients"
   ]
  },
  {
   "cell_type": "markdown",
   "metadata": {},
   "source": [
    "# 2. constants for notebook"
   ]
  },
  {
   "cell_type": "code",
   "execution_count": 59,
   "metadata": {},
   "outputs": [],
   "source": [
    "wkdir = '/projects/da_workspace/DA-167_Cervical_epi_clustering/'\n",
    "colormap_file = '/projects/trans_scratch/validations/workspace/szong/Cervical/color_maps.txt'\n",
    "mark = 'H3K4me3'\n",
    "# mark = 'H3K27ac'\n",
    "# mark = 'H3K4me1'\n",
    "# need to defined based on what make sense\n",
    "overlap = 1"
   ]
  },
  {
   "cell_type": "markdown",
   "metadata": {},
   "source": [
    "# 3. peak files "
   ]
  },
  {
   "cell_type": "code",
   "execution_count": 64,
   "metadata": {},
   "outputs": [
    {
     "name": "stdout",
     "output_type": "stream",
     "text": [
      "working on H3K4me3\n",
      "HTMCP-03-06-02001\tA84611\tH3K4me3\t/projects/chipseq/macs/A84611/75nt/hg19a/bwa-mem-0.7.6a-sb/MACS_2.1.1.20160309/369/A84611_H3K4me3_peaks.narrowPeak\n",
      "HTMCP-03-06-02002\tA94512\tH3K4me3\t/projects/chipseq/macs/A94512/75nt/hg19a/bwa-mem-0.7.6a-sb/MACS_2.1.1.20160309/687/A94512_H3K4me3_peaks.narrowPeak\n",
      "51 H3K4me3_peak_file_path.txt\n",
      "working on H3K27ac\n",
      "HTMCP-03-06-02001\tA84615\tH3K27ac\t/projects/chipseq/macs/A84615/75nt/hg19a/bwa-mem-0.7.6a-sb/MACS_2.1.1.20160309/370/A84615_H3K27ac_peaks.narrowPeak\n",
      "HTMCP-03-06-02002\tA94516\tH3K27ac\t/projects/chipseq/macs/A94516/75nt/hg19a/bwa-mem-0.7.6a-sb/MACS_2.1.1.20160309/691/A94516_H3K27ac_peaks.narrowPeak\n",
      "52 H3K27ac_peak_file_path.txt\n",
      "working on H3K4me1\n",
      "HTMCP-03-06-02001\tA84610\tH3K4me1\t/projects/chipseq/macs/A84610/75nt/hg19a/bwa-mem-0.7.6a-sb/MACS_2.1.1.20160309/372/A84610_H3K4me1_peaks.broadPeak\n",
      "HTMCP-03-06-02002\tA94511\tH3K4me1\t/projects/chipseq/macs/A94511/75nt/hg19a/bwa-mem-0.7.6a-sb/MACS_2.1.1.20160309/686/A94511_H3K4me1_peaks.broadPeak\n",
      "51 H3K4me1_peak_file_path.txt\n"
     ]
    }
   ],
   "source": [
    "%%bash -s $wkdir\n",
    "wkdir=$1\n",
    "cd $wkdir\n",
    "for mark in 'H3K4me3' 'H3K27ac' 'H3K4me1';\n",
    "do \n",
    "    echo \"working on $mark\"\n",
    "    ls -1 /projects/chipseq/macs/A*/75nt/hg19a/bwa-mem-0.7.6a-sb/MACS_2.1.1.20160309/*/*$mark*Peak|grep -v gapped > a.tmp\n",
    "    cat a.tmp |awk -F \"/\" '{print $5\"\\t\"$0}'|awk -F \"_\" '{print $3\"\\t\"$0}'>d.tmp\n",
    "    while read a b c;do grep $b 57_chipseq_samples_library_ids.csv|cut -f 1|\\\n",
    "    awk -v lib=$b -v path=$c -v mark=$a -F \"-01\" '{print $1\"\\t\"lib\"\\t\"mark\"\\t\"path}' ;done \\\n",
    "    < d.tmp |sort -k1 -k2|grep -v 'HTMCP-03-06-02007'|grep -v 'HTMCP-03-06-02026' > $mark\"_peak_file_path.txt\"\n",
    "    rm a.tmp  d.tmp\n",
    "    head -2 $mark\"_peak_file_path.txt\"\n",
    "    wc -l $mark\"_peak_file_path.txt\"\n",
    "done\n"
   ]
  },
  {
   "cell_type": "markdown",
   "metadata": {},
   "source": [
    "# 4. merge peaks from all patients"
   ]
  },
  {
   "cell_type": "code",
   "execution_count": 71,
   "metadata": {},
   "outputs": [],
   "source": [
    "%%bash -s $wkdir $overlap\n",
    "wkdir=$1\n",
    "overlap=$2\n",
    "cd $wkdir\n",
    "promoters=/projects/trans_scratch/validations/workspace/szong/Cervical/chipseq/hg19v69_genes.TSS_2000.pc.bed.cleaned\n",
    "bedtools=/home/rcorbett/aligners/bedtools/BEDTools-Version-2.15.0/bin/bedtools\n",
    "hotspots=/projects/trans_scratch/validations/workspace/szong/Cervical/hotspots/rainstorm/rainstorm_hotspots_with_qvalue.txt\n",
    "# for mark in 'H3K4me3' 'H3K27ac' 'H3K4me1';\n",
    "# do \n",
    "#     echo \"working on $mark\"\n",
    "#     # merge all broad peak regions from all patients\n",
    "#     while read a b c d; do cut -f 1-3 $d|grep -v \"^GL\"|grep -v \"^MT\"|sed 's/^X/23/g'|sed 's/^Y/24/g';done <$mark\"_peak_file_path.txt\"|sort -k1n -k2n -k3n >$mark.peaks.txt\n",
    "#     $bedtools merge -i $mark.peaks.txt >$mark.peaks.merge.txt\n",
    "#     rm $mark.peaks.txt\n",
    "# done\n",
    "\n",
    "# # intersect H3K4me1 and H3K27ac, H3K4me3 and H3K27ac\n",
    "# $bedtools intersect -a H3K27ac.peaks.merge.txt -b H3K4me1.peaks.merge.txt -f 1 > H3K27ac_H3K4me1_intersection.txt\n",
    "# $bedtools intersect -a H3K27ac.peaks.merge.txt -b H3K4me3.peaks.merge.txt -f 0.5 > H3K27ac_H3K4me3_intersection.txt\n",
    "\n",
    "# $bedtools intersect -a $hotspots.tmp -b H3K27ac_H3K4me1_intersection.txt -f 0.3 -wa|cut -f 4- > $hotspots.H3K27ac_H3K4me1.intersected.txt\n",
    "$bedtools intersect -a $hotspots.tmp -b H3K27ac_H3K4me3_intersection.txt -f 0.3 -wa|cut -f 4- > $hotspots.H3K27ac_H3K4me3.intersected.txt"
   ]
  },
  {
   "cell_type": "code",
   "execution_count": 40,
   "metadata": {},
   "outputs": [
    {
     "data": {
      "text/plain": [
       "array([ 1,  2,  3,  4,  5,  6,  7,  8,  9, 10, 11, 12, 13, 14, 15, 16, 17,\n",
       "       18, 19, 20, 21, 22, 23])"
      ]
     },
     "execution_count": 40,
     "metadata": {},
     "output_type": "execute_result"
    }
   ],
   "source": [
    "adf[0].unique()"
   ]
  },
  {
   "cell_type": "code",
   "execution_count": 67,
   "metadata": {},
   "outputs": [
    {
     "data": {
      "text/html": [
       "<div>\n",
       "<style scoped>\n",
       "    .dataframe tbody tr th:only-of-type {\n",
       "        vertical-align: middle;\n",
       "    }\n",
       "\n",
       "    .dataframe tbody tr th {\n",
       "        vertical-align: top;\n",
       "    }\n",
       "\n",
       "    .dataframe thead th {\n",
       "        text-align: right;\n",
       "    }\n",
       "</style>\n",
       "<table border=\"1\" class=\"dataframe\">\n",
       "  <thead>\n",
       "    <tr style=\"text-align: right;\">\n",
       "      <th></th>\n",
       "      <th>0</th>\n",
       "      <th>1</th>\n",
       "      <th>2</th>\n",
       "    </tr>\n",
       "  </thead>\n",
       "  <tbody>\n",
       "    <tr>\n",
       "      <th>0</th>\n",
       "      <td>1</td>\n",
       "      <td>11607</td>\n",
       "      <td>11933</td>\n",
       "    </tr>\n",
       "    <tr>\n",
       "      <th>1</th>\n",
       "      <td>1</td>\n",
       "      <td>12894</td>\n",
       "      <td>14501</td>\n",
       "    </tr>\n",
       "    <tr>\n",
       "      <th>2</th>\n",
       "      <td>1</td>\n",
       "      <td>20507</td>\n",
       "      <td>20785</td>\n",
       "    </tr>\n",
       "    <tr>\n",
       "      <th>3</th>\n",
       "      <td>1</td>\n",
       "      <td>21131</td>\n",
       "      <td>21532</td>\n",
       "    </tr>\n",
       "    <tr>\n",
       "      <th>4</th>\n",
       "      <td>1</td>\n",
       "      <td>21600</td>\n",
       "      <td>22656</td>\n",
       "    </tr>\n",
       "  </tbody>\n",
       "</table>\n",
       "</div>"
      ],
      "text/plain": [
       "   0      1      2\n",
       "0  1  11607  11933\n",
       "1  1  12894  14501\n",
       "2  1  20507  20785\n",
       "3  1  21131  21532\n",
       "4  1  21600  22656"
      ]
     },
     "execution_count": 67,
     "metadata": {},
     "output_type": "execute_result"
    },
    {
     "data": {
      "text/plain": [
       "505723890"
      ]
     },
     "execution_count": 67,
     "metadata": {},
     "output_type": "execute_result"
    }
   ],
   "source": [
    "adf = pd.read_csv(f'{wkdir}H3K27ac_H3K4me1_intersection.txt', sep='\\t', header=None)\n",
    "adf = adf[adf[0].isin([i for i in range(1,24)]+['X', 'Y'])]\n",
    "adf.head()\n",
    "(adf[2] - adf[1]).sum()"
   ]
  },
  {
   "cell_type": "code",
   "execution_count": 68,
   "metadata": {},
   "outputs": [
    {
     "data": {
      "text/html": [
       "<div>\n",
       "<style scoped>\n",
       "    .dataframe tbody tr th:only-of-type {\n",
       "        vertical-align: middle;\n",
       "    }\n",
       "\n",
       "    .dataframe tbody tr th {\n",
       "        vertical-align: top;\n",
       "    }\n",
       "\n",
       "    .dataframe thead th {\n",
       "        text-align: right;\n",
       "    }\n",
       "</style>\n",
       "<table border=\"1\" class=\"dataframe\">\n",
       "  <thead>\n",
       "    <tr style=\"text-align: right;\">\n",
       "      <th></th>\n",
       "      <th>0</th>\n",
       "      <th>1</th>\n",
       "      <th>2</th>\n",
       "    </tr>\n",
       "  </thead>\n",
       "  <tbody>\n",
       "    <tr>\n",
       "      <th>0</th>\n",
       "      <td>1</td>\n",
       "      <td>9973</td>\n",
       "      <td>10451</td>\n",
       "    </tr>\n",
       "    <tr>\n",
       "      <th>1</th>\n",
       "      <td>1</td>\n",
       "      <td>13397</td>\n",
       "      <td>14492</td>\n",
       "    </tr>\n",
       "    <tr>\n",
       "      <th>2</th>\n",
       "      <td>1</td>\n",
       "      <td>26448</td>\n",
       "      <td>26594</td>\n",
       "    </tr>\n",
       "    <tr>\n",
       "      <th>3</th>\n",
       "      <td>1</td>\n",
       "      <td>27858</td>\n",
       "      <td>31435</td>\n",
       "    </tr>\n",
       "    <tr>\n",
       "      <th>4</th>\n",
       "      <td>1</td>\n",
       "      <td>32758</td>\n",
       "      <td>33410</td>\n",
       "    </tr>\n",
       "  </tbody>\n",
       "</table>\n",
       "</div>"
      ],
      "text/plain": [
       "   0      1      2\n",
       "0  1   9973  10451\n",
       "1  1  13397  14492\n",
       "2  1  26448  26594\n",
       "3  1  27858  31435\n",
       "4  1  32758  33410"
      ]
     },
     "execution_count": 68,
     "metadata": {},
     "output_type": "execute_result"
    },
    {
     "data": {
      "text/plain": [
       "230330804"
      ]
     },
     "execution_count": 68,
     "metadata": {},
     "output_type": "execute_result"
    }
   ],
   "source": [
    "adf = pd.read_csv(f'{wkdir}H3K27ac_H3K4me3_intersection.txt', sep='\\t', header=None)\n",
    "adf = adf[adf[0].isin([i for i in range(1,24)]+['X', 'Y'])]\n",
    "adf.head()\n",
    "(adf[2] - adf[1]).sum()"
   ]
  },
  {
   "cell_type": "code",
   "execution_count": 69,
   "metadata": {},
   "outputs": [
    {
     "name": "stderr",
     "output_type": "stream",
     "text": [
      "Error: The requested bed file (H3K27ac_H3K4me1_intersection.txt) could not be opened. Exiting!\n"
     ]
    }
   ],
   "source": [
    "%%bash -s $wkdir $mark $overlap\n",
    "wkdir=$1\n",
    "mark=$2\n",
    "overlap=$3\n",
    "# intersect hotspots with H3K4me1 peaks\n",
    "bedtools=/home/rcorbett/aligners/bedtools/BEDTools-Version-2.15.0/bin/bedtools\n",
    "hotspots='/projects/trans_scratch/validations/workspace/szong/Cervical/hotspots/rainstorm/rainstorm_hotspots_with_qvalue.txt'\n",
    "# awk '{print $2\"\\t\"$3\"\\t\"$4\"\\t\"$0}' $hotspots|grep -v 'mostFreqVClassification' >$hotspots.tmp\n",
    "$bedtools intersect -a $hotspots.tmp -b H3K27ac_H3K4me1_intersection.txt -f 0.3 -wa|cut -f 4- > $hotspots.H3K27ac_H3K4me1.intersected.txt"
   ]
  },
  {
   "cell_type": "code",
   "execution_count": null,
   "metadata": {},
   "outputs": [],
   "source": []
  },
  {
   "cell_type": "code",
   "execution_count": null,
   "metadata": {},
   "outputs": [],
   "source": []
  },
  {
   "cell_type": "code",
   "execution_count": null,
   "metadata": {},
   "outputs": [],
   "source": []
  },
  {
   "cell_type": "code",
   "execution_count": null,
   "metadata": {},
   "outputs": [],
   "source": []
  },
  {
   "cell_type": "code",
   "execution_count": null,
   "metadata": {},
   "outputs": [],
   "source": []
  },
  {
   "cell_type": "code",
   "execution_count": null,
   "metadata": {},
   "outputs": [],
   "source": []
  },
  {
   "cell_type": "code",
   "execution_count": null,
   "metadata": {},
   "outputs": [],
   "source": []
  }
 ],
 "metadata": {
  "kernelspec": {
   "display_name": "Python 3",
   "language": "python",
   "name": "python3"
  },
  "language_info": {
   "codemirror_mode": {
    "name": "ipython",
    "version": 3
   },
   "file_extension": ".py",
   "mimetype": "text/x-python",
   "name": "python",
   "nbconvert_exporter": "python",
   "pygments_lexer": "ipython3",
   "version": "3.6.7"
  }
 },
 "nbformat": 4,
 "nbformat_minor": 2
}
