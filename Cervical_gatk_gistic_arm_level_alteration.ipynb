{
 "cells": [
  {
   "cell_type": "code",
   "execution_count": 13,
   "metadata": {},
   "outputs": [],
   "source": [
    "import sys\n",
    "import pandas as pd\n",
    "import numpy as np\n",
    "import matplotlib.pyplot as plt\n",
    "%matplotlib inline\n",
    "sys.path.append('/projects/trans_scratch/validations/workspace/szong/Cervical/notebook')\n",
    "import sz_toolbox as szt\n",
    "from IPython.core.interactiveshell import InteractiveShell\n",
    "InteractiveShell.ast_node_interactivity = \"all\""
   ]
  },
  {
   "cell_type": "code",
   "execution_count": 97,
   "metadata": {},
   "outputs": [
    {
     "data": {
      "text/html": [
       "<div>\n",
       "<style scoped>\n",
       "    .dataframe tbody tr th:only-of-type {\n",
       "        vertical-align: middle;\n",
       "    }\n",
       "\n",
       "    .dataframe tbody tr th {\n",
       "        vertical-align: top;\n",
       "    }\n",
       "\n",
       "    .dataframe thead th {\n",
       "        text-align: right;\n",
       "    }\n",
       "</style>\n",
       "<table border=\"1\" class=\"dataframe\">\n",
       "  <thead>\n",
       "    <tr style=\"text-align: right;\">\n",
       "      <th></th>\n",
       "      <th>Arm</th>\n",
       "      <th># Genes</th>\n",
       "      <th>Amp frequency</th>\n",
       "      <th>Amp z-score</th>\n",
       "      <th>Amp q-value</th>\n",
       "      <th>Del Frequency</th>\n",
       "      <th>Del z-score</th>\n",
       "      <th>Del q-value</th>\n",
       "    </tr>\n",
       "  </thead>\n",
       "  <tbody>\n",
       "    <tr>\n",
       "      <th>0</th>\n",
       "      <td>1p</td>\n",
       "      <td>2121</td>\n",
       "      <td>0.55</td>\n",
       "      <td>4.20</td>\n",
       "      <td>0.000117</td>\n",
       "      <td>0.19</td>\n",
       "      <td>-1.55</td>\n",
       "      <td>0.998</td>\n",
       "    </tr>\n",
       "    <tr>\n",
       "      <th>1</th>\n",
       "      <td>1q</td>\n",
       "      <td>1955</td>\n",
       "      <td>0.61</td>\n",
       "      <td>5.25</td>\n",
       "      <td>0.000001</td>\n",
       "      <td>0.07</td>\n",
       "      <td>-2.94</td>\n",
       "      <td>0.998</td>\n",
       "    </tr>\n",
       "  </tbody>\n",
       "</table>\n",
       "</div>"
      ],
      "text/plain": [
       "  Arm  # Genes  Amp frequency  Amp z-score  Amp q-value  Del Frequency  \\\n",
       "0  1p     2121           0.55         4.20     0.000117           0.19   \n",
       "1  1q     1955           0.61         5.25     0.000001           0.07   \n",
       "\n",
       "   Del z-score  Del q-value  \n",
       "0        -1.55        0.998  \n",
       "1        -2.94        0.998  "
      ]
     },
     "execution_count": 97,
     "metadata": {},
     "output_type": "execute_result"
    },
    {
     "data": {
      "text/html": [
       "<div>\n",
       "<style scoped>\n",
       "    .dataframe tbody tr th:only-of-type {\n",
       "        vertical-align: middle;\n",
       "    }\n",
       "\n",
       "    .dataframe tbody tr th {\n",
       "        vertical-align: top;\n",
       "    }\n",
       "\n",
       "    .dataframe thead th {\n",
       "        text-align: right;\n",
       "    }\n",
       "</style>\n",
       "<table border=\"1\" class=\"dataframe\">\n",
       "  <thead>\n",
       "    <tr style=\"text-align: right;\">\n",
       "      <th></th>\n",
       "      <th>Arm</th>\n",
       "      <th># Genes</th>\n",
       "      <th>Amp frequency</th>\n",
       "      <th>Amp z-score</th>\n",
       "      <th>Amp q-value</th>\n",
       "      <th>Del Frequency</th>\n",
       "      <th>Del z-score</th>\n",
       "      <th>Del q-value</th>\n",
       "    </tr>\n",
       "  </thead>\n",
       "  <tbody>\n",
       "    <tr>\n",
       "      <th>0</th>\n",
       "      <td>1p</td>\n",
       "      <td>2121</td>\n",
       "      <td>0.58</td>\n",
       "      <td>3.36</td>\n",
       "      <td>2.270000e-03</td>\n",
       "      <td>0.30</td>\n",
       "      <td>-0.203</td>\n",
       "      <td>0.997</td>\n",
       "    </tr>\n",
       "    <tr>\n",
       "      <th>1</th>\n",
       "      <td>1q</td>\n",
       "      <td>1955</td>\n",
       "      <td>0.77</td>\n",
       "      <td>6.27</td>\n",
       "      <td>3.530000e-09</td>\n",
       "      <td>0.17</td>\n",
       "      <td>-1.140</td>\n",
       "      <td>0.997</td>\n",
       "    </tr>\n",
       "  </tbody>\n",
       "</table>\n",
       "</div>"
      ],
      "text/plain": [
       "  Arm  # Genes  Amp frequency  Amp z-score   Amp q-value  Del Frequency  \\\n",
       "0  1p     2121           0.58         3.36  2.270000e-03           0.30   \n",
       "1  1q     1955           0.77         6.27  3.530000e-09           0.17   \n",
       "\n",
       "   Del z-score  Del q-value  \n",
       "0       -0.203        0.997  \n",
       "1       -1.140        0.997  "
      ]
     },
     "execution_count": 97,
     "metadata": {},
     "output_type": "execute_result"
    },
    {
     "data": {
      "text/html": [
       "<div>\n",
       "<style scoped>\n",
       "    .dataframe tbody tr th:only-of-type {\n",
       "        vertical-align: middle;\n",
       "    }\n",
       "\n",
       "    .dataframe tbody tr th {\n",
       "        vertical-align: top;\n",
       "    }\n",
       "\n",
       "    .dataframe thead th {\n",
       "        text-align: right;\n",
       "    }\n",
       "</style>\n",
       "<table border=\"1\" class=\"dataframe\">\n",
       "  <thead>\n",
       "    <tr style=\"text-align: right;\">\n",
       "      <th></th>\n",
       "      <th>Arm</th>\n",
       "      <th># Genes</th>\n",
       "      <th>Amp frequency</th>\n",
       "      <th>Amp z-score</th>\n",
       "      <th>Amp q-value</th>\n",
       "      <th>Del Frequency</th>\n",
       "      <th>Del z-score</th>\n",
       "      <th>Del q-value</th>\n",
       "    </tr>\n",
       "  </thead>\n",
       "  <tbody>\n",
       "    <tr>\n",
       "      <th>0</th>\n",
       "      <td>1p</td>\n",
       "      <td>2121</td>\n",
       "      <td>0.36</td>\n",
       "      <td>6.03</td>\n",
       "      <td>1.050000e-08</td>\n",
       "      <td>0.06</td>\n",
       "      <td>-3.43</td>\n",
       "      <td>1.0</td>\n",
       "    </tr>\n",
       "    <tr>\n",
       "      <th>1</th>\n",
       "      <td>1q</td>\n",
       "      <td>1955</td>\n",
       "      <td>0.51</td>\n",
       "      <td>10.90</td>\n",
       "      <td>0.000000e+00</td>\n",
       "      <td>0.06</td>\n",
       "      <td>-3.17</td>\n",
       "      <td>1.0</td>\n",
       "    </tr>\n",
       "  </tbody>\n",
       "</table>\n",
       "</div>"
      ],
      "text/plain": [
       "  Arm  # Genes  Amp frequency  Amp z-score   Amp q-value  Del Frequency  \\\n",
       "0  1p     2121           0.36         6.03  1.050000e-08           0.06   \n",
       "1  1q     1955           0.51        10.90  0.000000e+00           0.06   \n",
       "\n",
       "   Del z-score  Del q-value  \n",
       "0        -3.43          1.0  \n",
       "1        -3.17          1.0  "
      ]
     },
     "execution_count": 97,
     "metadata": {},
     "output_type": "execute_result"
    },
    {
     "data": {
      "text/html": [
       "<div>\n",
       "<style scoped>\n",
       "    .dataframe tbody tr th:only-of-type {\n",
       "        vertical-align: middle;\n",
       "    }\n",
       "\n",
       "    .dataframe tbody tr th {\n",
       "        vertical-align: top;\n",
       "    }\n",
       "\n",
       "    .dataframe thead th {\n",
       "        text-align: right;\n",
       "    }\n",
       "</style>\n",
       "<table border=\"1\" class=\"dataframe\">\n",
       "  <thead>\n",
       "    <tr style=\"text-align: right;\">\n",
       "      <th></th>\n",
       "      <th>Arm</th>\n",
       "      <th># Genes</th>\n",
       "      <th>Amp frequency</th>\n",
       "      <th>Amp z-score</th>\n",
       "      <th>Amp q-value</th>\n",
       "      <th>Del Frequency</th>\n",
       "      <th>Del z-score</th>\n",
       "      <th>Del q-value</th>\n",
       "    </tr>\n",
       "  </thead>\n",
       "  <tbody>\n",
       "    <tr>\n",
       "      <th>0</th>\n",
       "      <td>1p</td>\n",
       "      <td>2121</td>\n",
       "      <td>0.53</td>\n",
       "      <td>5.05</td>\n",
       "      <td>1.490000e-06</td>\n",
       "      <td>0.21</td>\n",
       "      <td>-1.56</td>\n",
       "      <td>0.999</td>\n",
       "    </tr>\n",
       "    <tr>\n",
       "      <th>1</th>\n",
       "      <td>1q</td>\n",
       "      <td>1955</td>\n",
       "      <td>0.66</td>\n",
       "      <td>7.93</td>\n",
       "      <td>2.220000e-14</td>\n",
       "      <td>0.12</td>\n",
       "      <td>-2.74</td>\n",
       "      <td>0.999</td>\n",
       "    </tr>\n",
       "  </tbody>\n",
       "</table>\n",
       "</div>"
      ],
      "text/plain": [
       "  Arm  # Genes  Amp frequency  Amp z-score   Amp q-value  Del Frequency  \\\n",
       "0  1p     2121           0.53         5.05  1.490000e-06           0.21   \n",
       "1  1q     1955           0.66         7.93  2.220000e-14           0.12   \n",
       "\n",
       "   Del z-score  Del q-value  \n",
       "0        -1.56        0.999  \n",
       "1        -2.74        0.999  "
      ]
     },
     "execution_count": 97,
     "metadata": {},
     "output_type": "execute_result"
    }
   ],
   "source": [
    "wkdir = '/projects/trans_scratch/validations/workspace/szong/Cervical/cnv/'\n",
    "hivposf = '/home/szong/bin/GISTIC_2_0_22/gatk_118_HIV_pos/broad_significance_results.txt'\n",
    "hivnegf = '/home/szong/bin/GISTIC_2_0_22/gatk_118_HIV_neg/broad_significance_results.txt'\n",
    "tcgaf = '/home/szong/bin/GISTIC_2_0_22/tcga/broad_significance_results.txt'\n",
    "htmcpf = '/home/szong/bin/GISTIC_2_0_22/gatk_118_patients/broad_significance_results.txt'\n",
    "arm_threshold = 0.25\n",
    "hivpos = pd.read_csv(hivposf, sep='\\t')\n",
    "hivpos.head(2)\n",
    "hivneg = pd.read_csv(hivnegf, sep='\\t')\n",
    "hivneg[:2]\n",
    "tcga = pd.read_csv(tcgaf, sep='\\t')\n",
    "tcga[:2]\n",
    "htmcp = pd.read_csv(htmcpf, sep='\\t')\n",
    "htmcp[:2]"
   ]
  },
  {
   "cell_type": "code",
   "execution_count": 87,
   "metadata": {},
   "outputs": [],
   "source": [
    "def uniq_bands(df1, df2, alteration_type):\n",
    "    d = {'amp': 'Amp q-value', 'del': 'Del q-value'}\n",
    "    alt_type = d[alteration_type.lower()]\n",
    "    alter1 = df1[df1[alt_type] <=arm_threshold].Arm.tolist()\n",
    "    alter2 = df2[df2[alt_type] <=arm_threshold].Arm.tolist()\n",
    "#     szt.intersect(df1_amp, df2_amp)\n",
    "    uniq1 = szt.unique2a(alter1, alter2)\n",
    "    uniq2 = szt.unique2a(alter2, alter1)\n",
    "    return (uniq1, uniq2)"
   ]
  },
  {
   "cell_type": "code",
   "execution_count": 88,
   "metadata": {},
   "outputs": [],
   "source": [
    "def shared_bands(df1, df2, alteration_type):\n",
    "    d = {'amp': 'Amp q-value', 'del': 'Del q-value'}\n",
    "    alt_type = d[alteration_type.lower()]\n",
    "    alter1 = df1[df1[alt_type] <=arm_threshold].Arm.tolist()\n",
    "    alter2 = df2[df2[alt_type] <=arm_threshold].Arm.tolist()\n",
    "#     szt.intersect(df1_amp, df2_amp)\n",
    "    shared = szt.intersect(alter1, alter2)\n",
    "    return (shared)"
   ]
  },
  {
   "cell_type": "code",
   "execution_count": null,
   "metadata": {},
   "outputs": [],
   "source": [
    "szt.dd"
   ]
  },
  {
   "cell_type": "code",
   "execution_count": 89,
   "metadata": {},
   "outputs": [],
   "source": [
    "hivpos_uniqamp, hivneg_uniqamp = uniq_bands(hivpos, hivneg, 'amp')\n",
    "hivpos_uniqdel, hivneg_uniqdel = uniq_bands(hivpos, hivneg, 'Del')\n",
    "hivshared_amp = shared_bands(hivpos, hivneg, 'amp')\n",
    "hivshared_del = shared_bands(hivpos, hivneg, 'Del')\n"
   ]
  },
  {
   "cell_type": "code",
   "execution_count": 81,
   "metadata": {},
   "outputs": [
    {
     "data": {
      "text/plain": [
       "['5p', '1p', '1q', '20p', '3q', '20q']"
      ]
     },
     "execution_count": 81,
     "metadata": {},
     "output_type": "execute_result"
    },
    {
     "data": {
      "text/plain": [
       "['4p', '21p']"
      ]
     },
     "execution_count": 81,
     "metadata": {},
     "output_type": "execute_result"
    }
   ],
   "source": [
    "hivshared_amp\n",
    "hivshared_del"
   ]
  },
  {
   "cell_type": "code",
   "execution_count": 8,
   "metadata": {},
   "outputs": [],
   "source": [
    "szt.list2csv?"
   ]
  },
  {
   "cell_type": "code",
   "execution_count": 51,
   "metadata": {},
   "outputs": [
    {
     "data": {
      "text/plain": [
       "([], ['6p', '8p', '9q', '2p', '3p', '16p'])"
      ]
     },
     "execution_count": 51,
     "metadata": {},
     "output_type": "execute_result"
    },
    {
     "data": {
      "text/plain": [
       "(['8p', '18q', '10q', '5q', '17p', '22q', '6q', '3q', '9p'], ['21p', '21q'])"
      ]
     },
     "execution_count": 51,
     "metadata": {},
     "output_type": "execute_result"
    }
   ],
   "source": [
    "uniq_bands(tcga, htmcp, 'amp')\n",
    "uniq_bands(tcga, htmcp, 'del')"
   ]
  },
  {
   "cell_type": "code",
   "execution_count": 93,
   "metadata": {},
   "outputs": [],
   "source": [
    "def sig_bands(df1, alteration_type):\n",
    "    d = {'amp': 'Amp q-value', 'del': 'Del q-value'}\n",
    "    alt_type = d[alteration_type.lower()]\n",
    "    alter1 = df1[df1[alt_type] <=arm_threshold].Arm.tolist()\n",
    "    return (alter1)"
   ]
  },
  {
   "cell_type": "code",
   "execution_count": 36,
   "metadata": {},
   "outputs": [
    {
     "data": {
      "text/plain": [
       "17"
      ]
     },
     "execution_count": 36,
     "metadata": {},
     "output_type": "execute_result"
    },
    {
     "data": {
      "text/plain": [
       "10"
      ]
     },
     "execution_count": 36,
     "metadata": {},
     "output_type": "execute_result"
    }
   ],
   "source": [
    "# htmcp_amp = set(hivshared_amp + hivpos_uniqamp + hivneg_uniqamp)\n",
    "# len(htmcp_amp)\n",
    "\n",
    "# htmcp_del = set(hivshared_del + hivpos_uniqdel + hivneg_uniqdel)\n",
    "# len(htmcp_del)"
   ]
  },
  {
   "cell_type": "code",
   "execution_count": 95,
   "metadata": {},
   "outputs": [
    {
     "data": {
      "text/plain": [
       "['1p', '1q', '3q', '5p', '8q', '19q', '20p', '20q']"
      ]
     },
     "execution_count": 95,
     "metadata": {},
     "output_type": "execute_result"
    },
    {
     "data": {
      "text/plain": [
       "['3p',\n",
       " '3q',\n",
       " '4p',\n",
       " '4q',\n",
       " '5q',\n",
       " '6q',\n",
       " '8p',\n",
       " '9p',\n",
       " '10q',\n",
       " '11p',\n",
       " '11q',\n",
       " '13q',\n",
       " '17p',\n",
       " '18q',\n",
       " '19p',\n",
       " '22q']"
      ]
     },
     "execution_count": 95,
     "metadata": {},
     "output_type": "execute_result"
    },
    {
     "data": {
      "text/plain": [
       "['1p',\n",
       " '1q',\n",
       " '2p',\n",
       " '3p',\n",
       " '3q',\n",
       " '5p',\n",
       " '6p',\n",
       " '8p',\n",
       " '8q',\n",
       " '9q',\n",
       " '16p',\n",
       " '19q',\n",
       " '20p',\n",
       " '20q']"
      ]
     },
     "execution_count": 95,
     "metadata": {},
     "output_type": "execute_result"
    },
    {
     "data": {
      "text/plain": [
       "['3p', '4p', '4q', '11p', '11q', '13q', '19p', '21p', '21q']"
      ]
     },
     "execution_count": 95,
     "metadata": {},
     "output_type": "execute_result"
    }
   ],
   "source": [
    "tcga_amps = sig_bands(tcga, 'amp')\n",
    "tcga_dels = sig_bands(tcga, 'del')\n",
    "tcga_amps\n",
    "tcga_dels\n",
    "htmcp_amps = sig_bands(htmcp, 'amp')\n",
    "htmcp_dels = sig_bands(htmcp, 'del')\n",
    "htmcp_amps\n",
    "htmcp_dels"
   ]
  },
  {
   "cell_type": "code",
   "execution_count": 33,
   "metadata": {},
   "outputs": [
    {
     "data": {
      "text/plain": [
       "10"
      ]
     },
     "execution_count": 33,
     "metadata": {},
     "output_type": "execute_result"
    }
   ],
   "source": [
    "hiv_union_del = set(hivshared_del + hivpos_uniqdel + hivneg_uniqdel)\n",
    "len(hiv_union_del)"
   ]
  },
  {
   "cell_type": "code",
   "execution_count": 70,
   "metadata": {},
   "outputs": [
    {
     "data": {
      "text/plain": [
       "[]"
      ]
     },
     "execution_count": 70,
     "metadata": {},
     "output_type": "execute_result"
    },
    {
     "data": {
      "text/plain": [
       "['9q', '8p', '6p', '16p', '19q', '16q', '15q', '3p', '14q', '9p']"
      ]
     },
     "execution_count": 70,
     "metadata": {},
     "output_type": "execute_result"
    }
   ],
   "source": [
    "# tcga_uniqamp = szt.unique2a(tcga_amps, htmcp_amp)\n",
    "# htmcp_uniqamp = szt.unique2a( htmcp_amp, tcga_amps)\n",
    "# tcga_uniqamp\n",
    "# htmcp_uniqamp"
   ]
  },
  {
   "cell_type": "code",
   "execution_count": 71,
   "metadata": {},
   "outputs": [
    {
     "data": {
      "text/plain": [
       "['17p', '8p', '10q', '6q']"
      ]
     },
     "execution_count": 71,
     "metadata": {},
     "output_type": "execute_result"
    },
    {
     "data": {
      "text/plain": [
       "['19p', '5q', '21p', '21q']"
      ]
     },
     "execution_count": 71,
     "metadata": {},
     "output_type": "execute_result"
    }
   ],
   "source": [
    "# tcga_uniqdel = szt.unique2a(tcga_dels, htmcp_del)\n",
    "# htmcp_uniqdel = szt.unique2a(htmcp_del, tcga_dels)\n",
    "# tcga_uniqdel\n",
    "# htmcp_uniqdel"
   ]
  },
  {
   "cell_type": "code",
   "execution_count": 96,
   "metadata": {},
   "outputs": [
    {
     "data": {
      "text/plain": [
       "[]"
      ]
     },
     "execution_count": 96,
     "metadata": {},
     "output_type": "execute_result"
    },
    {
     "data": {
      "text/plain": [
       "['6p', '8p', '9q', '2p', '3p', '16p']"
      ]
     },
     "execution_count": 96,
     "metadata": {},
     "output_type": "execute_result"
    },
    {
     "data": {
      "text/plain": [
       "['8p', '18q', '10q', '5q', '17p', '22q', '6q', '3q', '9p']"
      ]
     },
     "execution_count": 96,
     "metadata": {},
     "output_type": "execute_result"
    },
    {
     "data": {
      "text/plain": [
       "['21p', '21q']"
      ]
     },
     "execution_count": 96,
     "metadata": {},
     "output_type": "execute_result"
    },
    {
     "data": {
      "text/plain": [
       "['8q', '5p', '1p', '1q', '19q', '20p', '3q', '20q']"
      ]
     },
     "execution_count": 96,
     "metadata": {},
     "output_type": "execute_result"
    },
    {
     "data": {
      "text/plain": [
       "['13q', '19p', '11q', '4q', '4p', '11p', '3p']"
      ]
     },
     "execution_count": 96,
     "metadata": {},
     "output_type": "execute_result"
    }
   ],
   "source": [
    "tcga_uniqamp, htmcp_uniqamp = uniq_bands(tcga, htmcp, 'amp')\n",
    "tcga_uniqamp \n",
    "htmcp_uniqamp\n",
    "tcga_uniqdel, htmcp_uniqdel = uniq_bands(tcga, htmcp, 'del')\n",
    "tcga_uniqdel\n",
    "htmcp_uniqdel\n",
    "\n",
    "shared_bands(tcga, htmcp, 'amp')\n",
    "shared_bands(tcga, htmcp, 'del')"
   ]
  },
  {
   "cell_type": "code",
   "execution_count": 91,
   "metadata": {},
   "outputs": [],
   "source": [
    "of = f'{wkdir}hivpos_uniqamp_arms_{arm_threshold}.txt'\n",
    "szt.list2csv(hivpos_uniqamp, of)\n",
    "of = f'{wkdir}hivneg_uniqamp_arms_{arm_threshold}.txt'\n",
    "szt.list2csv(hivneg_uniqamp, of)\n",
    "of = f'{wkdir}hivpos_uniqdel_arms_{arm_threshold}.txt'\n",
    "szt.list2csv(hivpos_uniqdel, of)\n",
    "of = f'{wkdir}hivneg_uniqdel_arms_{arm_threshold}.txt'\n",
    "szt.list2csv(hivneg_uniqdel, of)\n",
    "\n",
    "of = f'{wkdir}hiv_sharedamp_arms_{arm_threshold}.txt'\n",
    "szt.list2csv(hivshared_amp, of)\n",
    "of = f'{wkdir}hiv_shareddel_arms_{arm_threshold}.txt'\n",
    "szt.list2csv(hivshared_del, of)\n",
    "\n",
    "of = f'{wkdir}tcga_uniqdel_arms_{arm_threshold}.txt'\n",
    "szt.list2csv(tcga_uniqdel, of)\n",
    "\n",
    "\n",
    "of = f'{wkdir}htmcp_uniqdel_arms_{arm_threshold}.txt'\n",
    "szt.list2csv(htmcp_uniqdel, of)\n",
    "\n",
    "of = f'{wkdir}htmcp_uniqamp_arms_{arm_threshold}.txt'\n",
    "szt.list2csv(htmcp_uniqamp, of)\n"
   ]
  },
  {
   "cell_type": "code",
   "execution_count": null,
   "metadata": {},
   "outputs": [],
   "source": []
  }
 ],
 "metadata": {
  "kernelspec": {
   "display_name": "Python 3",
   "language": "python",
   "name": "python3"
  },
  "language_info": {
   "codemirror_mode": {
    "name": "ipython",
    "version": 3
   },
   "file_extension": ".py",
   "mimetype": "text/x-python",
   "name": "python",
   "nbconvert_exporter": "python",
   "pygments_lexer": "ipython3",
   "version": "3.6.5"
  }
 },
 "nbformat": 4,
 "nbformat_minor": 2
}
