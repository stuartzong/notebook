{
 "cells": [
  {
   "cell_type": "markdown",
   "metadata": {},
   "source": [
    "# Extract Clusters from Python Dendrogram"
   ]
  },
  {
   "cell_type": "markdown",
   "metadata": {},
   "source": [
    "One aspect of using Python for data analysis is that hierarchical clustering dendrograms are rather cumbersome to work with. Both in terms of plotting next to a heatmap, and how to relate the input data to the resulting plot. Ideally the `dendrogram` function would return a proper instances of some Dendrogram class.\n",
    "\n",
    "There are plenty ([1](http://nbviewer.ipython.org/github/OxanaSachenkova/hclust-python/blob/master/hclust.ipynb), [2](http://nbviewer.ipython.org/github/herrfz/dataanalysis/blob/master/week3/hierarchical_clustering.ipynb)) of guides around on how to make R inspired heatmaps with dendrograms. Here I will describe how to parse out the cluster members as seen in a dendrogram, which can be handy if one notices interesting patterns in the corresponding heatmap.\n",
    "\n",
    "Let's start with importing some modules."
   ]
  },
  {
   "cell_type": "code",
   "execution_count": 1,
   "metadata": {},
   "outputs": [
    {
     "name": "stdout",
     "output_type": "stream",
     "text": [
      "Populating the interactive namespace from numpy and matplotlib\n"
     ]
    }
   ],
   "source": [
    "%pylab inline"
   ]
  },
  {
   "cell_type": "code",
   "execution_count": 27,
   "metadata": {},
   "outputs": [],
   "source": [
    "from collections import defaultdict\n",
    "\n",
    "\n",
    "# from scipy.cluster.hierarchy import dendrogram, set_link_color_palette\n",
    "# from scipy.cluster.hierarchy import dendrogram, linkage, fcluster, fclusterdata, leaves_list\n",
    "# # from fastcluster import linkage\n",
    "import pandas as pd\n",
    "import numpy as np\n",
    "import string as s\n",
    "import seaborn as sns\n",
    "import math\n",
    "# import tables\n",
    "import matplotlib\n",
    "import matplotlib.pyplot as plt\n",
    "from matplotlib import style, colors\n",
    "from itertools import groupby\n",
    "import matplotlib.patches as patches\n",
    "from matplotlib import gridspec\n",
    "import scipy.stats as stats\n",
    "from scipy.cluster.hierarchy import dendrogram, linkage, fcluster, fclusterdata, leaves_list\n",
    "from scipy.spatial.distance import pdist\n",
    "from scipy.ndimage.interpolation import shift\n",
    "# matplotlib.style.use('ggplot')\n",
    "# %matplotlib inline\n",
    "matplotlib.rcParams['figure.figsize'] = (12, 6)\n",
    "# matplotlib.rcParams['figure.facecolor'] = 'white'\n",
    "import mpl_toolkits.mplot3d.axes3d as p3\n",
    "from sklearn.cluster import AgglomerativeClustering\n",
    "from sklearn.datasets.samples_generator import make_swiss_roll\n",
    "matplotlib.style.use('ggplot')\n",
    "%matplotlib inline\n",
    "\n",
    "from matplotlib.colors import rgb2hex, colorConverter"
   ]
  },
  {
   "cell_type": "markdown",
   "metadata": {},
   "source": [
    "We also set some prettier non-default colors."
   ]
  },
  {
   "cell_type": "code",
   "execution_count": 6,
   "metadata": {},
   "outputs": [
    {
     "ename": "TypeError",
     "evalue": "palette must be a list or tuple",
     "output_type": "error",
     "traceback": [
      "\u001b[0;31m---------------------------------------------------------------------------\u001b[0m",
      "\u001b[0;31mTypeError\u001b[0m                                 Traceback (most recent call last)",
      "\u001b[0;32m<ipython-input-6-804c02c1446f>\u001b[0m in \u001b[0;36m<module>\u001b[0;34m()\u001b[0m\n\u001b[1;32m      1\u001b[0m \u001b[0msns\u001b[0m\u001b[0;34m.\u001b[0m\u001b[0mset_palette\u001b[0m\u001b[0;34m(\u001b[0m\u001b[0;34m'Set1'\u001b[0m\u001b[0;34m,\u001b[0m \u001b[0;36m10\u001b[0m\u001b[0;34m,\u001b[0m \u001b[0;36m0.65\u001b[0m\u001b[0;34m)\u001b[0m\u001b[0;34m\u001b[0m\u001b[0m\n\u001b[1;32m      2\u001b[0m \u001b[0mpalette\u001b[0m \u001b[0;34m=\u001b[0m \u001b[0msns\u001b[0m\u001b[0;34m.\u001b[0m\u001b[0mcolor_palette\u001b[0m\u001b[0;34m(\u001b[0m\u001b[0;34m)\u001b[0m\u001b[0;34m\u001b[0m\u001b[0m\n\u001b[0;32m----> 3\u001b[0;31m \u001b[0mset_link_color_palette\u001b[0m\u001b[0;34m(\u001b[0m\u001b[0mmap\u001b[0m\u001b[0;34m(\u001b[0m\u001b[0mrgb2hex\u001b[0m\u001b[0;34m,\u001b[0m \u001b[0mpalette\u001b[0m\u001b[0;34m)\u001b[0m\u001b[0;34m)\u001b[0m\u001b[0;34m\u001b[0m\u001b[0m\n\u001b[0m\u001b[1;32m      4\u001b[0m \u001b[0msns\u001b[0m\u001b[0;34m.\u001b[0m\u001b[0mset_style\u001b[0m\u001b[0;34m(\u001b[0m\u001b[0;34m'white'\u001b[0m\u001b[0;34m)\u001b[0m\u001b[0;34m\u001b[0m\u001b[0m\n",
      "\u001b[0;32m/projects/da_workspace/software/miniconda/envs/dlpy3/lib/python3.6/site-packages/scipy/cluster/hierarchy.py\u001b[0m in \u001b[0;36mset_link_color_palette\u001b[0;34m(palette)\u001b[0m\n\u001b[1;32m   2151\u001b[0m         \u001b[0mpalette\u001b[0m \u001b[0;34m=\u001b[0m \u001b[0;34m[\u001b[0m\u001b[0;34m'g'\u001b[0m\u001b[0;34m,\u001b[0m \u001b[0;34m'r'\u001b[0m\u001b[0;34m,\u001b[0m \u001b[0;34m'c'\u001b[0m\u001b[0;34m,\u001b[0m \u001b[0;34m'm'\u001b[0m\u001b[0;34m,\u001b[0m \u001b[0;34m'y'\u001b[0m\u001b[0;34m,\u001b[0m \u001b[0;34m'k'\u001b[0m\u001b[0;34m]\u001b[0m\u001b[0;34m\u001b[0m\u001b[0m\n\u001b[1;32m   2152\u001b[0m     \u001b[0;32melif\u001b[0m \u001b[0mtype\u001b[0m\u001b[0;34m(\u001b[0m\u001b[0mpalette\u001b[0m\u001b[0;34m)\u001b[0m \u001b[0;32mnot\u001b[0m \u001b[0;32min\u001b[0m \u001b[0;34m(\u001b[0m\u001b[0mlist\u001b[0m\u001b[0;34m,\u001b[0m \u001b[0mtuple\u001b[0m\u001b[0;34m)\u001b[0m\u001b[0;34m:\u001b[0m\u001b[0;34m\u001b[0m\u001b[0m\n\u001b[0;32m-> 2153\u001b[0;31m         \u001b[0;32mraise\u001b[0m \u001b[0mTypeError\u001b[0m\u001b[0;34m(\u001b[0m\u001b[0;34m\"palette must be a list or tuple\"\u001b[0m\u001b[0;34m)\u001b[0m\u001b[0;34m\u001b[0m\u001b[0m\n\u001b[0m\u001b[1;32m   2154\u001b[0m     \u001b[0m_ptypes\u001b[0m \u001b[0;34m=\u001b[0m \u001b[0;34m[\u001b[0m\u001b[0misinstance\u001b[0m\u001b[0;34m(\u001b[0m\u001b[0mp\u001b[0m\u001b[0;34m,\u001b[0m \u001b[0mstring_types\u001b[0m\u001b[0;34m)\u001b[0m \u001b[0;32mfor\u001b[0m \u001b[0mp\u001b[0m \u001b[0;32min\u001b[0m \u001b[0mpalette\u001b[0m\u001b[0;34m]\u001b[0m\u001b[0;34m\u001b[0m\u001b[0m\n\u001b[1;32m   2155\u001b[0m \u001b[0;34m\u001b[0m\u001b[0m\n",
      "\u001b[0;31mTypeError\u001b[0m: palette must be a list or tuple"
     ]
    }
   ],
   "source": [
    "sns.set_palette('Set1', 10, 0.65)\n",
    "palette = sns.color_palette()\n",
    "set_link_color_palette(map(rgb2hex, palette))\n",
    "sns.set_style('white')"
   ]
  },
  {
   "cell_type": "code",
   "execution_count": 34,
   "metadata": {},
   "outputs": [],
   "source": [
    "numpy.random.seed(25)"
   ]
  },
  {
   "cell_type": "markdown",
   "metadata": {},
   "source": [
    "We should create some simple example data for the purpose of illustration."
   ]
  },
  {
   "cell_type": "code",
   "execution_count": 35,
   "metadata": {},
   "outputs": [],
   "source": [
    "x, y = 3, 10\n",
    "df = pd.DataFrame(np.random.randn(x, y),\n",
    "                  index=['sample_{}'.format(i) for i in range(1, x + 1)],\n",
    "                  columns=['gene_{}'.format(i) for i in range(1, y + 1)])"
   ]
  },
  {
   "cell_type": "code",
   "execution_count": 36,
   "metadata": {},
   "outputs": [],
   "source": [
    "link = linkage(df, metric='correlation', method='complete')"
   ]
  },
  {
   "cell_type": "code",
   "execution_count": 37,
   "metadata": {},
   "outputs": [
    {
     "data": {
      "image/png": "[encoded data removed]",
      "text/plain": [
       "<Figure size 576x216 with 1 Axes>"
      ]
     },
     "metadata": {},
     "output_type": "display_data"
    }
   ],
   "source": [
    "figsize(8, 3)\n",
    "den = dendrogram(link, labels=df.index)#, abv_threshold_color='#AAAAAA')\n",
    "plt.xticks(rotation=90)\n",
    "no_spine = {'left': True, 'bottom': True, 'right': True, 'top': True}\n",
    "sns.despine(**no_spine);\n",
    "\n",
    "plt.tight_layout()\n",
    "plt.savefig('tree1.png');"
   ]
  },
  {
   "cell_type": "markdown",
   "metadata": {},
   "source": [
    "The dendrogram function will return a dictonary containing a representation of the tree as plotted."
   ]
  },
  {
   "cell_type": "code",
   "execution_count": 13,
   "metadata": {},
   "outputs": [
    {
     "data": {
      "text/plain": [
       "{'icoord': [[15.0, 15.0, 25.0, 25.0], [5.0, 5.0, 20.0, 20.0]],\n",
       " 'dcoord': [[0.0, 0.44024696746449143, 0.44024696746449143, 0.0],\n",
       "  [0.0, 1.2865846638190943, 1.2865846638190943, 0.44024696746449143]],\n",
       " 'ivl': ['sample_3', 'sample_1', 'sample_2'],\n",
       " 'leaves': [2, 0, 1],\n",
       " 'color_list': ['g', 'b']}"
      ]
     },
     "execution_count": 13,
     "metadata": {},
     "output_type": "execute_result"
    }
   ],
   "source": [
    "den"
   ]
  },
  {
   "cell_type": "markdown",
   "metadata": {},
   "source": [
    "The tree is represented as a collection of ∏ shaped components.\n",
    "\n",
    "The three items named 'color_list', 'dcoord', 'icoord' indexes these ∏'s\n",
    "\n",
    "Obviosly 'color\\_list' contains the colors. The lists in 'dcoord' contain the y coordinates of the ∏'s (the _distances_) while 'icoord' has the x coordinates. These would be the _index coordinates_.\n",
    "\n",
    "In the minimal example above we have two ∏'s, and one can see that the x-coordinates are repeated once.\n",
    "\n",
    "The coordinates go from left to right. So for the red ∏, the 'legs' are located at 15 and 25, while the grey one has legs at 5 and 20.\n",
    "\n",
    "The apperant pattern is that legs positioned at leaves will end with 5. The reason is to nicely place the leg at the middle of the corresponding leaf index value. This also implies the actual list indices of the leaf are multiplied by 10.\n",
    "\n",
    "Thus we first subtract 5 from each colors icoord, then divide by 10. If the resulting number is close to the closest integer, we consider this to be an index for a leaf. If the resulting number is not close to an integer index, it means the colored tree we got it from is from non-leaf parts of the trees.\n",
    "\n",
    "For each leaf, we add it to a list per color in a dictionary."
   ]
  },
  {
   "cell_type": "code",
   "execution_count": 38,
   "metadata": {},
   "outputs": [],
   "source": [
    "cluster_idxs = defaultdict(list)\n",
    "for c, pi in zip(den['color_list'], den['icoord']):\n",
    "    for leg in pi[1:3]:\n",
    "        i = (leg - 5.0) / 10.0\n",
    "        if abs(i - int(i)) < 1e-5:\n",
    "            cluster_idxs[c].append(int(i))"
   ]
  },
  {
   "cell_type": "code",
   "execution_count": 39,
   "metadata": {},
   "outputs": [
    {
     "data": {
      "text/plain": [
       "defaultdict(list, {'g': [1, 2], 'b': [0]})"
      ]
     },
     "execution_count": 39,
     "metadata": {},
     "output_type": "execute_result"
    }
   ],
   "source": [
    "cluster_idxs"
   ]
  },
  {
   "cell_type": "markdown",
   "metadata": {},
   "source": [
    "Next we need to grab the labels of the leaves given the indexes. But before we do that, since it's difficult to keep track of what color e.g. '#c13d3f' is, we make make an [IPython notebook compatible HTML representation](http://ipython.org/ipython-doc/dev/config/integrating.html) of the dictionary holding the information. Objects of this class will behave just like dictionaries, except for representing them as a HTML table."
   ]
  },
  {
   "cell_type": "code",
   "execution_count": 40,
   "metadata": {},
   "outputs": [],
   "source": [
    "class Clusters(dict):\n",
    "    def _repr_html_(self):\n",
    "        html = '<table style=\"border: 0;\">'\n",
    "        for c in self:\n",
    "            hx = rgb2hex(colorConverter.to_rgb(c))\n",
    "            html += '<tr style=\"border: 0;\">' \\\n",
    "            '<td style=\"background-color: {0}; ' \\\n",
    "                       'border: 0;\">' \\\n",
    "            '<code style=\"background-color: {0};\">'.format(hx)\n",
    "            html += c + '</code></td>'\n",
    "            html += '<td style=\"border: 0\"><code>' \n",
    "            html += repr(self[c]) + '</code>'\n",
    "            html += '</td></tr>'\n",
    "        \n",
    "        html += '</table>'\n",
    "        \n",
    "        return html"
   ]
  },
  {
   "cell_type": "markdown",
   "metadata": {},
   "source": [
    "(Note that the representation uses colerConverter from matplotlib, so it supports any matplotlib supported color representation, not only hex color strings.)\n",
    "\n",
    "Now just go through the list of indices and fetch labels."
   ]
  },
  {
   "cell_type": "code",
   "execution_count": 41,
   "metadata": {},
   "outputs": [],
   "source": [
    "cluster_classes = Clusters()\n",
    "for c, l in cluster_idxs.items():\n",
    "    i_l = [den['ivl'][i] for i in l]\n",
    "    cluster_classes[c] = i_l"
   ]
  },
  {
   "cell_type": "code",
   "execution_count": 42,
   "metadata": {},
   "outputs": [
    {
     "data": {
      "text/html": [
       "<table style=\"border: 0;\"><tr style=\"border: 0;\"><td style=\"background-color: #008000; border: 0;\"><code style=\"background-color: #008000;\">g</code></td><td style=\"border: 0\"><code>['sample_2', 'sample_3']</code></td></tr><tr style=\"border: 0;\"><td style=\"background-color: #0000ff; border: 0;\"><code style=\"background-color: #0000ff;\">b</code></td><td style=\"border: 0\"><code>['sample_1']</code></td></tr></table>"
      ],
      "text/plain": [
       "{'g': ['sample_2', 'sample_3'], 'b': ['sample_1']}"
      ]
     },
     "execution_count": 42,
     "metadata": {},
     "output_type": "execute_result"
    }
   ],
   "source": [
    "cluster_classes"
   ]
  },
  {
   "cell_type": "code",
   "execution_count": 43,
   "metadata": {},
   "outputs": [
    {
     "name": "stdout",
     "output_type": "stream",
     "text": [
      "<table style=\"border: 0;\"><tr style=\"border: 0;\"><td style=\"background-color: #008000; border: 0;\"><code style=\"background-color: #008000;\">g</code></td><td style=\"border: 0\"><code>['sample_2', 'sample_3']</code></td></tr><tr style=\"border: 0;\"><td style=\"background-color: #0000ff; border: 0;\"><code style=\"background-color: #0000ff;\">b</code></td><td style=\"border: 0\"><code>['sample_1']</code></td></tr></table>\n"
     ]
    }
   ],
   "source": [
    "print(cluster_classes._repr_html_())"
   ]
  },
  {
   "cell_type": "markdown",
   "metadata": {},
   "source": [
    "Let's combine this to a nice reusable function, and try it out on a larger example."
   ]
  },
  {
   "cell_type": "code",
   "execution_count": 44,
   "metadata": {},
   "outputs": [],
   "source": [
    "def get_cluster_classes(den, label='ivl'):\n",
    "    cluster_idxs = defaultdict(list)\n",
    "    for c, pi in zip(den['color_list'], den['icoord']):\n",
    "        for leg in pi[1:3]:\n",
    "            i = (leg - 5.0) / 10.0\n",
    "            if abs(i - int(i)) < 1e-5:\n",
    "                cluster_idxs[c].append(int(i))\n",
    "    \n",
    "    cluster_classes = Clusters()\n",
    "    for c, l in cluster_idxs.items():\n",
    "        i_l = [den[label][i] for i in l]\n",
    "        cluster_classes[c] = i_l\n",
    "    \n",
    "    return cluster_classes"
   ]
  },
  {
   "cell_type": "code",
   "execution_count": 45,
   "metadata": {},
   "outputs": [],
   "source": [
    "x, y = 96, 10\n",
    "df = pd.DataFrame(np.random.randn(x, y),\n",
    "                  index=['sample_{}'.format(i) for i in range(1, x + 1)],\n",
    "                  columns=['gene_{}'.format(i) for i in range(1, y + 1)])"
   ]
  },
  {
   "cell_type": "code",
   "execution_count": 46,
   "metadata": {},
   "outputs": [],
   "source": [
    "# link = linkage(df, metric='correlation', method='ward')\n",
    "dist='correlation'\n",
    "link='ward'\n",
    "Z = linkage(pdist(df, dist), link)\n",
    "# aa = dendrogram(Z, leaf_rotation=90.,labels = dfm.columns,leaf_font_size=12.,show_contracted=True)#\n"
   ]
  },
  {
   "cell_type": "code",
   "execution_count": 47,
   "metadata": {},
   "outputs": [
    {
     "data": {
      "image/png": "[encoded data removed]",
      "text/plain": [
       "<Figure size 864x288 with 1 Axes>"
      ]
     },
     "metadata": {},
     "output_type": "display_data"
    }
   ],
   "source": [
    "figsize(12, 4)\n",
    "den = dendrogram(Z, labels=df.index)#, abv_threshold_color='#AAAAAA')\n",
    "plt.xticks(rotation=90)\n",
    "sns.despine(**no_spine);\n",
    "\n",
    "plt.tight_layout()\n",
    "plt.savefig('tree2.png');"
   ]
  },
  {
   "cell_type": "code",
   "execution_count": 48,
   "metadata": {},
   "outputs": [
    {
     "data": {
      "text/html": [
       "<table style=\"border: 0;\"><tr style=\"border: 0;\"><td style=\"background-color: #008000; border: 0;\"><code style=\"background-color: #008000;\">g</code></td><td style=\"border: 0\"><code>['sample_33', 'sample_87', 'sample_10', 'sample_35', 'sample_40', 'sample_54', 'sample_72', 'sample_39', 'sample_77', 'sample_55', 'sample_1', 'sample_17', 'sample_71', 'sample_47', 'sample_67', 'sample_31', 'sample_61', 'sample_5', 'sample_30', 'sample_89', 'sample_38', 'sample_52', 'sample_34', 'sample_2', 'sample_15', 'sample_41', 'sample_28', 'sample_51', 'sample_74', 'sample_82', 'sample_92', 'sample_12', 'sample_96']</code></td></tr><tr style=\"border: 0;\"><td style=\"background-color: #ff0000; border: 0;\"><code style=\"background-color: #ff0000;\">r</code></td><td style=\"border: 0\"><code>['sample_43', 'sample_49', 'sample_23', 'sample_29', 'sample_84', 'sample_93', 'sample_14', 'sample_37', 'sample_25', 'sample_81', 'sample_37', 'sample_8', 'sample_83', 'sample_27', 'sample_44', 'sample_90', 'sample_9', 'sample_56', 'sample_16', 'sample_53', 'sample_68', 'sample_69', 'sample_58']</code></td></tr><tr style=\"border: 0;\"><td style=\"background-color: #00bfbf; border: 0;\"><code style=\"background-color: #00bfbf;\">c</code></td><td style=\"border: 0\"><code>['sample_22', 'sample_48', 'sample_7', 'sample_62', 'sample_50', 'sample_76', 'sample_70', 'sample_19', 'sample_88', 'sample_95', 'sample_3', 'sample_32', 'sample_21', 'sample_13', 'sample_24', 'sample_46', 'sample_66']</code></td></tr><tr style=\"border: 0;\"><td style=\"background-color: #bf00bf; border: 0;\"><code style=\"background-color: #bf00bf;\">m</code></td><td style=\"border: 0\"><code>['sample_65', 'sample_85', 'sample_36', 'sample_57', 'sample_45', 'sample_94', 'sample_20', 'sample_60', 'sample_80', 'sample_86', 'sample_91', 'sample_59', 'sample_64', 'sample_18', 'sample_79', 'sample_59', 'sample_60', 'sample_4', 'sample_26', 'sample_42', 'sample_63', 'sample_11', 'sample_78', 'sample_6', 'sample_73', 'sample_75']</code></td></tr></table>"
      ],
      "text/plain": [
       "{'g': ['sample_33',\n",
       "  'sample_87',\n",
       "  'sample_10',\n",
       "  'sample_35',\n",
       "  'sample_40',\n",
       "  'sample_54',\n",
       "  'sample_72',\n",
       "  'sample_39',\n",
       "  'sample_77',\n",
       "  'sample_55',\n",
       "  'sample_1',\n",
       "  'sample_17',\n",
       "  'sample_71',\n",
       "  'sample_47',\n",
       "  'sample_67',\n",
       "  'sample_31',\n",
       "  'sample_61',\n",
       "  'sample_5',\n",
       "  'sample_30',\n",
       "  'sample_89',\n",
       "  'sample_38',\n",
       "  'sample_52',\n",
       "  'sample_34',\n",
       "  'sample_2',\n",
       "  'sample_15',\n",
       "  'sample_41',\n",
       "  'sample_28',\n",
       "  'sample_51',\n",
       "  'sample_74',\n",
       "  'sample_82',\n",
       "  'sample_92',\n",
       "  'sample_12',\n",
       "  'sample_96'],\n",
       " 'r': ['sample_43',\n",
       "  'sample_49',\n",
       "  'sample_23',\n",
       "  'sample_29',\n",
       "  'sample_84',\n",
       "  'sample_93',\n",
       "  'sample_14',\n",
       "  'sample_37',\n",
       "  'sample_25',\n",
       "  'sample_81',\n",
       "  'sample_37',\n",
       "  'sample_8',\n",
       "  'sample_83',\n",
       "  'sample_27',\n",
       "  'sample_44',\n",
       "  'sample_90',\n",
       "  'sample_9',\n",
       "  'sample_56',\n",
       "  'sample_16',\n",
       "  'sample_53',\n",
       "  'sample_68',\n",
       "  'sample_69',\n",
       "  'sample_58'],\n",
       " 'c': ['sample_22',\n",
       "  'sample_48',\n",
       "  'sample_7',\n",
       "  'sample_62',\n",
       "  'sample_50',\n",
       "  'sample_76',\n",
       "  'sample_70',\n",
       "  'sample_19',\n",
       "  'sample_88',\n",
       "  'sample_95',\n",
       "  'sample_3',\n",
       "  'sample_32',\n",
       "  'sample_21',\n",
       "  'sample_13',\n",
       "  'sample_24',\n",
       "  'sample_46',\n",
       "  'sample_66'],\n",
       " 'm': ['sample_65',\n",
       "  'sample_85',\n",
       "  'sample_36',\n",
       "  'sample_57',\n",
       "  'sample_45',\n",
       "  'sample_94',\n",
       "  'sample_20',\n",
       "  'sample_60',\n",
       "  'sample_80',\n",
       "  'sample_86',\n",
       "  'sample_91',\n",
       "  'sample_59',\n",
       "  'sample_64',\n",
       "  'sample_18',\n",
       "  'sample_79',\n",
       "  'sample_59',\n",
       "  'sample_60',\n",
       "  'sample_4',\n",
       "  'sample_26',\n",
       "  'sample_42',\n",
       "  'sample_63',\n",
       "  'sample_11',\n",
       "  'sample_78',\n",
       "  'sample_6',\n",
       "  'sample_73',\n",
       "  'sample_75']}"
      ]
     },
     "execution_count": 48,
     "metadata": {},
     "output_type": "execute_result"
    }
   ],
   "source": [
    "get_cluster_classes(den)"
   ]
  },
  {
   "cell_type": "code",
   "execution_count": 20,
   "metadata": {},
   "outputs": [
    {
     "name": "stdout",
     "output_type": "stream",
     "text": [
      "<table style=\"border: 0;\"><tr style=\"border: 0;\"><td style=\"background-color: #c13d3f; border: 0;\"><code style=\"background-color: #c13d3f;\">#c13d3f</code></td><td style=\"border: 0\"><code>['sample_20', 'sample_87', 'sample_35', 'sample_2', 'sample_24', 'sample_13', 'sample_6', 'sample_82', 'sample_11', 'sample_12', 'sample_44', 'sample_94', 'sample_73', 'sample_77', 'sample_76']</code></td></tr><tr style=\"border: 0;\"><td style=\"background-color: #4e7ca1; border: 0;\"><code style=\"background-color: #4e7ca1;\">#4e7ca1</code></td><td style=\"border: 0\"><code>['sample_56', 'sample_81', 'sample_69', 'sample_9', 'sample_27', 'sample_21', 'sample_45', 'sample_52', 'sample_59', 'sample_46', 'sample_93', 'sample_10', 'sample_48', 'sample_78', 'sample_14', 'sample_50', 'sample_31', 'sample_91', 'sample_75', 'sample_86', 'sample_84', 'sample_55', 'sample_88', 'sample_43', 'sample_58', 'sample_33', 'sample_96', 'sample_34', 'sample_19', 'sample_68', 'sample_21']</code></td></tr><tr style=\"border: 0;\"><td style=\"background-color: #8e5d93; border: 0;\"><code style=\"background-color: #8e5d93;\">#8e5d93</code></td><td style=\"border: 0\"><code>['sample_4', 'sample_92', 'sample_15', 'sample_54', 'sample_1', 'sample_17', 'sample_42', 'sample_79', 'sample_41', 'sample_57', 'sample_63', 'sample_67', 'sample_22', 'sample_64', 'sample_83', 'sample_30', 'sample_53', 'sample_26', 'sample_3', 'sample_29', 'sample_28', 'sample_36', 'sample_7', 'sample_80', 'sample_8', 'sample_5', 'sample_71', 'sample_65', 'sample_39', 'sample_62', 'sample_85']</code></td></tr><tr style=\"border: 0;\"><td style=\"background-color: #5e9d5c; border: 0;\"><code style=\"background-color: #5e9d5c;\">#5e9d5c</code></td><td style=\"border: 0\"><code>['sample_23', 'sample_38', 'sample_90', 'sample_51', 'sample_25', 'sample_60', 'sample_74', 'sample_18', 'sample_61', 'sample_32', 'sample_49', 'sample_37', 'sample_70', 'sample_66', 'sample_16', 'sample_95', 'sample_40', 'sample_72', 'sample_47', 'sample_89', 'sample_40']</code></td></tr></table>\n"
     ]
    }
   ],
   "source": [
    "print(_._repr_html_())"
   ]
  },
  {
   "cell_type": "code",
   "execution_count": 20,
   "metadata": {},
   "outputs": [],
   "source": []
  }
 ],
 "metadata": {
  "kernelspec": {
   "display_name": "Python 3",
   "language": "python",
   "name": "python3"
  },
  "language_info": {
   "codemirror_mode": {
    "name": "ipython",
    "version": 3
   },
   "file_extension": ".py",
   "mimetype": "text/x-python",
   "name": "python",
   "nbconvert_exporter": "python",
   "pygments_lexer": "ipython3",
   "version": "3.6.5"
  }
 },
 "nbformat": 4,
 "nbformat_minor": 1
}
