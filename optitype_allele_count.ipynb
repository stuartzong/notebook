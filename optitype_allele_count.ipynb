{
 "cells": [
  {
   "cell_type": "code",
   "execution_count": 109,
   "metadata": {},
   "outputs": [],
   "source": [
    "import pandas as pd\n",
    "import numpy as np\n",
    "import matplotlib.pyplot as plt\n",
    "import seaborn as sns\n",
    "%matplotlib inline\n",
    "from IPython.core.interactiveshell import InteractiveShell\n",
    "InteractiveShell.ast_node_interactivity = \"all\""
   ]
  },
  {
   "cell_type": "code",
   "execution_count": 55,
   "metadata": {},
   "outputs": [],
   "source": [
    "wkdir = '/projects/trans_scratch/validations/optitype/optitype_validation_wkdir/optitype/allele_count_test/'"
   ]
  },
  {
   "cell_type": "code",
   "execution_count": 4,
   "metadata": {},
   "outputs": [
    {
     "data": {
      "text/html": [
       "<div>\n",
       "<style scoped>\n",
       "    .dataframe tbody tr th:only-of-type {\n",
       "        vertical-align: middle;\n",
       "    }\n",
       "\n",
       "    .dataframe tbody tr th {\n",
       "        vertical-align: top;\n",
       "    }\n",
       "\n",
       "    .dataframe thead th {\n",
       "        text-align: right;\n",
       "    }\n",
       "</style>\n",
       "<table border=\"1\" class=\"dataframe\">\n",
       "  <thead>\n",
       "    <tr style=\"text-align: right;\">\n",
       "      <th></th>\n",
       "      <th>cov_files</th>\n",
       "    </tr>\n",
       "  </thead>\n",
       "  <tbody>\n",
       "    <tr>\n",
       "      <th>0</th>\n",
       "      <td>/projects/trans_scratch/validations/optitype/o...</td>\n",
       "    </tr>\n",
       "    <tr>\n",
       "      <th>1</th>\n",
       "      <td>/projects/trans_scratch/validations/optitype/o...</td>\n",
       "    </tr>\n",
       "  </tbody>\n",
       "</table>\n",
       "</div>"
      ],
      "text/plain": [
       "                                           cov_files\n",
       "0  /projects/trans_scratch/validations/optitype/o...\n",
       "1  /projects/trans_scratch/validations/optitype/o..."
      ]
     },
     "execution_count": 4,
     "metadata": {},
     "output_type": "execute_result"
    }
   ],
   "source": [
    "f = '{}coverage_files.txt'.format(wkdir)\n",
    "df = pd.read_csv(f, header=None)\n",
    "df.columns = ['cov_files']\n",
    "df.head(2)"
   ]
  },
  {
   "cell_type": "code",
   "execution_count": 89,
   "metadata": {},
   "outputs": [
    {
     "data": {
      "text/html": [
       "<div>\n",
       "<style scoped>\n",
       "    .dataframe tbody tr th:only-of-type {\n",
       "        vertical-align: middle;\n",
       "    }\n",
       "\n",
       "    .dataframe tbody tr th {\n",
       "        vertical-align: top;\n",
       "    }\n",
       "\n",
       "    .dataframe thead th {\n",
       "        text-align: right;\n",
       "    }\n",
       "</style>\n",
       "<table border=\"1\" class=\"dataframe\">\n",
       "  <thead>\n",
       "    <tr style=\"text-align: right;\">\n",
       "      <th></th>\n",
       "      <th>mismatch_mispaired_shared</th>\n",
       "      <th>mismatch_mispaired_unique</th>\n",
       "      <th>mismatch_paired_shared</th>\n",
       "      <th>mismatch_paired_unique</th>\n",
       "      <th>mismatch_unpaired_shared</th>\n",
       "      <th>mismatch_unpaired_unique</th>\n",
       "      <th>perfect_mispaired_shared</th>\n",
       "      <th>perfect_mispaired_unique</th>\n",
       "      <th>perfect_paired_shared</th>\n",
       "      <th>perfect_paired_unique</th>\n",
       "      <th>perfect_unpaired_shared</th>\n",
       "      <th>perfect_unpaired_unique</th>\n",
       "    </tr>\n",
       "  </thead>\n",
       "  <tbody>\n",
       "    <tr>\n",
       "      <th>0</th>\n",
       "      <td>0.0</td>\n",
       "      <td>0</td>\n",
       "      <td>0.0</td>\n",
       "      <td>0</td>\n",
       "      <td>0.0</td>\n",
       "      <td>0</td>\n",
       "      <td>0.0</td>\n",
       "      <td>0</td>\n",
       "      <td>0.0</td>\n",
       "      <td>0</td>\n",
       "      <td>0.0</td>\n",
       "      <td>0</td>\n",
       "    </tr>\n",
       "    <tr>\n",
       "      <th>1</th>\n",
       "      <td>0.0</td>\n",
       "      <td>0</td>\n",
       "      <td>0.0</td>\n",
       "      <td>1</td>\n",
       "      <td>0.0</td>\n",
       "      <td>0</td>\n",
       "      <td>0.0</td>\n",
       "      <td>0</td>\n",
       "      <td>0.0</td>\n",
       "      <td>0</td>\n",
       "      <td>0.0</td>\n",
       "      <td>0</td>\n",
       "    </tr>\n",
       "  </tbody>\n",
       "</table>\n",
       "</div>"
      ],
      "text/plain": [
       "   mismatch_mispaired_shared  mismatch_mispaired_unique  \\\n",
       "0                        0.0                          0   \n",
       "1                        0.0                          0   \n",
       "\n",
       "   mismatch_paired_shared  mismatch_paired_unique  mismatch_unpaired_shared  \\\n",
       "0                     0.0                       0                       0.0   \n",
       "1                     0.0                       1                       0.0   \n",
       "\n",
       "   mismatch_unpaired_unique  perfect_mispaired_shared  \\\n",
       "0                         0                       0.0   \n",
       "1                         0                       0.0   \n",
       "\n",
       "   perfect_mispaired_unique  perfect_paired_shared  perfect_paired_unique  \\\n",
       "0                         0                    0.0                      0   \n",
       "1                         0                    0.0                      0   \n",
       "\n",
       "   perfect_unpaired_shared  perfect_unpaired_unique  \n",
       "0                      0.0                        0  \n",
       "1                      0.0                        0  "
      ]
     },
     "execution_count": 89,
     "metadata": {},
     "output_type": "execute_result"
    },
    {
     "data": {
      "text/plain": [
       "[<matplotlib.collections.PolyCollection at 0x7fe9ee78d160>,\n",
       " <matplotlib.collections.PolyCollection at 0x7fe9ee78d3c8>,\n",
       " <matplotlib.collections.PolyCollection at 0x7fe9ee78d630>,\n",
       " <matplotlib.collections.PolyCollection at 0x7fe9ee78d898>,\n",
       " <matplotlib.collections.PolyCollection at 0x7fe9ee78db00>,\n",
       " <matplotlib.collections.PolyCollection at 0x7fe9ee78dd68>,\n",
       " <matplotlib.collections.PolyCollection at 0x7fe9ee78dfd0>,\n",
       " <matplotlib.collections.PolyCollection at 0x7fe9ee7a3278>,\n",
       " <matplotlib.collections.PolyCollection at 0x7fe9ee7a34e0>,\n",
       " <matplotlib.collections.PolyCollection at 0x7fe9ee7a3748>,\n",
       " <matplotlib.collections.PolyCollection at 0x7fe9ee7f4588>,\n",
       " <matplotlib.collections.PolyCollection at 0x7fe9ee7a3be0>]"
      ]
     },
     "execution_count": 89,
     "metadata": {},
     "output_type": "execute_result"
    },
    {
     "data": {
      "text/plain": [
       "<matplotlib.legend.Legend at 0x7fe9ee78d0b8>"
      ]
     },
     "execution_count": 89,
     "metadata": {},
     "output_type": "execute_result"
    },
    {
     "data": {
      "image/png": "[encoded data removed]",
      "text/plain": [
       "<Figure size 1080x576 with 1 Axes>"
      ]
     },
     "metadata": {},
     "output_type": "display_data"
    }
   ],
   "source": [
    "from operator import itemgetter \n",
    "\n",
    "stats = []\n",
    "for ix, row in df.iterrows():\n",
    "    \n",
    "    f2 = row['cov_files']\n",
    "    pog, lib, allele = itemgetter(*[8,11,12])( f2.split('/'))\n",
    "    df2 = pd.read_csv(f2, sep='\\t', index_col=0)\n",
    "#     allele_len = df2.shape[0]\n",
    "#     total = df2.sum(axis=1).sum()\n",
    "#     average_cov = total/allele_len\n",
    "#     peak_cov = df2.sum(axis=1).max()\n",
    "#     perfect_unique_total_ratio = df2.perfect_paired_unique.sum()/total\n",
    "#     stats.append([pog, lib, allele, average_cov, peak_cov, perfect_unique_total_ratio])\n",
    "#     stats\n",
    "#     df\n",
    "#     plt.plot(df2.sum(axis=1))\n",
    "    df2.head(2)\n",
    "    fig = plt.figure(figsize=(15, 8))\n",
    "    ax = fig.add_subplot(111)\n",
    "#     ax.plot(df2)#.perfect_paired_unique)\n",
    "    ax.stackplot(df2.index + 1, df2.values.T)\n",
    "    _ = ax.set_yscale(\"log\")\n",
    "    ax.legend(df2.columns.values)\n",
    "    break\n"
   ]
  },
  {
   "cell_type": "code",
   "execution_count": 75,
   "metadata": {},
   "outputs": [
    {
     "data": {
      "text/html": [
       "<div>\n",
       "<style scoped>\n",
       "    .dataframe tbody tr th:only-of-type {\n",
       "        vertical-align: middle;\n",
       "    }\n",
       "\n",
       "    .dataframe tbody tr th {\n",
       "        vertical-align: top;\n",
       "    }\n",
       "\n",
       "    .dataframe thead th {\n",
       "        text-align: right;\n",
       "    }\n",
       "</style>\n",
       "<table border=\"1\" class=\"dataframe\">\n",
       "  <thead>\n",
       "    <tr style=\"text-align: right;\">\n",
       "      <th></th>\n",
       "      <th>mismatch_mispaired_shared</th>\n",
       "      <th>mismatch_mispaired_unique</th>\n",
       "      <th>mismatch_paired_shared</th>\n",
       "      <th>mismatch_paired_unique</th>\n",
       "      <th>mismatch_unpaired_shared</th>\n",
       "      <th>mismatch_unpaired_unique</th>\n",
       "      <th>perfect_mispaired_shared</th>\n",
       "      <th>perfect_mispaired_unique</th>\n",
       "      <th>perfect_paired_shared</th>\n",
       "      <th>perfect_paired_unique</th>\n",
       "      <th>perfect_unpaired_shared</th>\n",
       "      <th>perfect_unpaired_unique</th>\n",
       "    </tr>\n",
       "  </thead>\n",
       "  <tbody>\n",
       "    <tr>\n",
       "      <th>0</th>\n",
       "      <td>0.0</td>\n",
       "      <td>0</td>\n",
       "      <td>0.0</td>\n",
       "      <td>0</td>\n",
       "      <td>0.0</td>\n",
       "      <td>0</td>\n",
       "      <td>0.0</td>\n",
       "      <td>0</td>\n",
       "      <td>0.0</td>\n",
       "      <td>0</td>\n",
       "      <td>0.0</td>\n",
       "      <td>0</td>\n",
       "    </tr>\n",
       "    <tr>\n",
       "      <th>1</th>\n",
       "      <td>0.0</td>\n",
       "      <td>0</td>\n",
       "      <td>0.0</td>\n",
       "      <td>1</td>\n",
       "      <td>0.0</td>\n",
       "      <td>0</td>\n",
       "      <td>0.0</td>\n",
       "      <td>0</td>\n",
       "      <td>0.0</td>\n",
       "      <td>0</td>\n",
       "      <td>0.0</td>\n",
       "      <td>0</td>\n",
       "    </tr>\n",
       "    <tr>\n",
       "      <th>2</th>\n",
       "      <td>0.0</td>\n",
       "      <td>0</td>\n",
       "      <td>0.0</td>\n",
       "      <td>1</td>\n",
       "      <td>0.0</td>\n",
       "      <td>0</td>\n",
       "      <td>0.0</td>\n",
       "      <td>0</td>\n",
       "      <td>0.0</td>\n",
       "      <td>0</td>\n",
       "      <td>0.0</td>\n",
       "      <td>0</td>\n",
       "    </tr>\n",
       "    <tr>\n",
       "      <th>3</th>\n",
       "      <td>0.0</td>\n",
       "      <td>0</td>\n",
       "      <td>0.0</td>\n",
       "      <td>1</td>\n",
       "      <td>0.0</td>\n",
       "      <td>0</td>\n",
       "      <td>0.0</td>\n",
       "      <td>0</td>\n",
       "      <td>0.0</td>\n",
       "      <td>0</td>\n",
       "      <td>0.0</td>\n",
       "      <td>0</td>\n",
       "    </tr>\n",
       "    <tr>\n",
       "      <th>4</th>\n",
       "      <td>0.0</td>\n",
       "      <td>0</td>\n",
       "      <td>0.0</td>\n",
       "      <td>1</td>\n",
       "      <td>0.0</td>\n",
       "      <td>1</td>\n",
       "      <td>0.0</td>\n",
       "      <td>0</td>\n",
       "      <td>0.0</td>\n",
       "      <td>0</td>\n",
       "      <td>0.0</td>\n",
       "      <td>0</td>\n",
       "    </tr>\n",
       "  </tbody>\n",
       "</table>\n",
       "</div>"
      ],
      "text/plain": [
       "   mismatch_mispaired_shared  mismatch_mispaired_unique  \\\n",
       "0                        0.0                          0   \n",
       "1                        0.0                          0   \n",
       "2                        0.0                          0   \n",
       "3                        0.0                          0   \n",
       "4                        0.0                          0   \n",
       "\n",
       "   mismatch_paired_shared  mismatch_paired_unique  mismatch_unpaired_shared  \\\n",
       "0                     0.0                       0                       0.0   \n",
       "1                     0.0                       1                       0.0   \n",
       "2                     0.0                       1                       0.0   \n",
       "3                     0.0                       1                       0.0   \n",
       "4                     0.0                       1                       0.0   \n",
       "\n",
       "   mismatch_unpaired_unique  perfect_mispaired_shared  \\\n",
       "0                         0                       0.0   \n",
       "1                         0                       0.0   \n",
       "2                         0                       0.0   \n",
       "3                         0                       0.0   \n",
       "4                         1                       0.0   \n",
       "\n",
       "   perfect_mispaired_unique  perfect_paired_shared  perfect_paired_unique  \\\n",
       "0                         0                    0.0                      0   \n",
       "1                         0                    0.0                      0   \n",
       "2                         0                    0.0                      0   \n",
       "3                         0                    0.0                      0   \n",
       "4                         0                    0.0                      0   \n",
       "\n",
       "   perfect_unpaired_shared  perfect_unpaired_unique  \n",
       "0                      0.0                        0  \n",
       "1                      0.0                        0  \n",
       "2                      0.0                        0  \n",
       "3                      0.0                        0  \n",
       "4                      0.0                        0  "
      ]
     },
     "execution_count": 75,
     "metadata": {},
     "output_type": "execute_result"
    }
   ],
   "source": [
    "df2.head()"
   ]
  },
  {
   "cell_type": "code",
   "execution_count": 76,
   "metadata": {},
   "outputs": [
    {
     "data": {
      "text/plain": [
       "Int64Index([   1,    2,    3,    4,    5,    6,    7,    8,    9,   10,\n",
       "            ...\n",
       "            1489, 1490, 1491, 1492, 1493, 1494, 1495, 1496, 1497, 1498],\n",
       "           dtype='int64', length=1498)"
      ]
     },
     "execution_count": 76,
     "metadata": {},
     "output_type": "execute_result"
    }
   ],
   "source": [
    "df2.index + 1"
   ]
  },
  {
   "cell_type": "code",
   "execution_count": 87,
   "metadata": {},
   "outputs": [
    {
     "data": {
      "text/plain": [
       "(12, 1498)"
      ]
     },
     "execution_count": 87,
     "metadata": {},
     "output_type": "execute_result"
    }
   ],
   "source": [
    "df2.values.T.shape"
   ]
  },
  {
   "cell_type": "code",
   "execution_count": 50,
   "metadata": {},
   "outputs": [],
   "source": [
    "\n",
    "df3 = pd.DataFrame(stats, columns=['pog', 'lib', 'allele', 'average_cov', 'peak_cov', 'perfect_paired_unique_total_cov_ratio'])"
   ]
  },
  {
   "cell_type": "code",
   "execution_count": 52,
   "metadata": {},
   "outputs": [
    {
     "data": {
      "text/html": [
       "<div>\n",
       "<style scoped>\n",
       "    .dataframe tbody tr th:only-of-type {\n",
       "        vertical-align: middle;\n",
       "    }\n",
       "\n",
       "    .dataframe tbody tr th {\n",
       "        vertical-align: top;\n",
       "    }\n",
       "\n",
       "    .dataframe thead th {\n",
       "        text-align: right;\n",
       "    }\n",
       "</style>\n",
       "<table border=\"1\" class=\"dataframe\">\n",
       "  <thead>\n",
       "    <tr style=\"text-align: right;\">\n",
       "      <th></th>\n",
       "      <th>pog</th>\n",
       "      <th>lib</th>\n",
       "      <th>allele</th>\n",
       "      <th>average_cov</th>\n",
       "      <th>peak_cov</th>\n",
       "      <th>perfect_paired_unique_total_cov_ratio</th>\n",
       "    </tr>\n",
       "  </thead>\n",
       "  <tbody>\n",
       "    <tr>\n",
       "      <th>0</th>\n",
       "      <td>POG011</td>\n",
       "      <td>A10945</td>\n",
       "      <td>HLA00050_coverage.txt</td>\n",
       "      <td>63.174232</td>\n",
       "      <td>102.0</td>\n",
       "      <td>0.612606</td>\n",
       "    </tr>\n",
       "    <tr>\n",
       "      <th>1</th>\n",
       "      <td>POG011</td>\n",
       "      <td>A10945</td>\n",
       "      <td>HLA00132_coverage.txt</td>\n",
       "      <td>31.076923</td>\n",
       "      <td>51.5</td>\n",
       "      <td>0.502174</td>\n",
       "    </tr>\n",
       "  </tbody>\n",
       "</table>\n",
       "</div>"
      ],
      "text/plain": [
       "      pog     lib                 allele  average_cov  peak_cov  \\\n",
       "0  POG011  A10945  HLA00050_coverage.txt    63.174232     102.0   \n",
       "1  POG011  A10945  HLA00132_coverage.txt    31.076923      51.5   \n",
       "\n",
       "   perfect_paired_unique_total_cov_ratio  \n",
       "0                               0.612606  \n",
       "1                               0.502174  "
      ]
     },
     "execution_count": 52,
     "metadata": {},
     "output_type": "execute_result"
    }
   ],
   "source": [
    "df3.head(2)"
   ]
  },
  {
   "cell_type": "code",
   "execution_count": 60,
   "metadata": {},
   "outputs": [],
   "source": [
    "df3['allele'] = df3.allele.apply(lambda x: x.split('_')[0])"
   ]
  },
  {
   "cell_type": "code",
   "execution_count": 61,
   "metadata": {},
   "outputs": [
    {
     "data": {
      "text/html": [
       "<div>\n",
       "<style scoped>\n",
       "    .dataframe tbody tr th:only-of-type {\n",
       "        vertical-align: middle;\n",
       "    }\n",
       "\n",
       "    .dataframe tbody tr th {\n",
       "        vertical-align: top;\n",
       "    }\n",
       "\n",
       "    .dataframe thead th {\n",
       "        text-align: right;\n",
       "    }\n",
       "</style>\n",
       "<table border=\"1\" class=\"dataframe\">\n",
       "  <thead>\n",
       "    <tr style=\"text-align: right;\">\n",
       "      <th></th>\n",
       "      <th>pog</th>\n",
       "      <th>lib</th>\n",
       "      <th>allele</th>\n",
       "      <th>average_cov</th>\n",
       "      <th>peak_cov</th>\n",
       "      <th>perfect_paired_unique_total_cov_ratio</th>\n",
       "    </tr>\n",
       "  </thead>\n",
       "  <tbody>\n",
       "    <tr>\n",
       "      <th>0</th>\n",
       "      <td>POG011</td>\n",
       "      <td>A10945</td>\n",
       "      <td>HLA00050</td>\n",
       "      <td>63.174232</td>\n",
       "      <td>102.0</td>\n",
       "      <td>0.612606</td>\n",
       "    </tr>\n",
       "    <tr>\n",
       "      <th>1</th>\n",
       "      <td>POG011</td>\n",
       "      <td>A10945</td>\n",
       "      <td>HLA00132</td>\n",
       "      <td>31.076923</td>\n",
       "      <td>51.5</td>\n",
       "      <td>0.502174</td>\n",
       "    </tr>\n",
       "  </tbody>\n",
       "</table>\n",
       "</div>"
      ],
      "text/plain": [
       "      pog     lib    allele  average_cov  peak_cov  \\\n",
       "0  POG011  A10945  HLA00050    63.174232     102.0   \n",
       "1  POG011  A10945  HLA00132    31.076923      51.5   \n",
       "\n",
       "   perfect_paired_unique_total_cov_ratio  \n",
       "0                               0.612606  \n",
       "1                               0.502174  "
      ]
     },
     "execution_count": 61,
     "metadata": {},
     "output_type": "execute_result"
    }
   ],
   "source": [
    "df3.head(2)"
   ]
  },
  {
   "cell_type": "code",
   "execution_count": null,
   "metadata": {},
   "outputs": [],
   "source": []
  },
  {
   "cell_type": "code",
   "execution_count": 57,
   "metadata": {},
   "outputs": [
    {
     "data": {
      "text/html": [
       "<div>\n",
       "<style scoped>\n",
       "    .dataframe tbody tr th:only-of-type {\n",
       "        vertical-align: middle;\n",
       "    }\n",
       "\n",
       "    .dataframe tbody tr th {\n",
       "        vertical-align: top;\n",
       "    }\n",
       "\n",
       "    .dataframe thead th {\n",
       "        text-align: right;\n",
       "    }\n",
       "</style>\n",
       "<table border=\"1\" class=\"dataframe\">\n",
       "  <thead>\n",
       "    <tr style=\"text-align: right;\">\n",
       "      <th></th>\n",
       "      <th>ids</th>\n",
       "      <th>hla_names</th>\n",
       "    </tr>\n",
       "  </thead>\n",
       "  <tbody>\n",
       "    <tr>\n",
       "      <th>0</th>\n",
       "      <td>HLA00001</td>\n",
       "      <td>HLA-A*01:01:01:01</td>\n",
       "    </tr>\n",
       "    <tr>\n",
       "      <th>1</th>\n",
       "      <td>HLA00002</td>\n",
       "      <td>HLA-A*01:02</td>\n",
       "    </tr>\n",
       "  </tbody>\n",
       "</table>\n",
       "</div>"
      ],
      "text/plain": [
       "        ids          hla_names\n",
       "0  HLA00001  HLA-A*01:01:01:01\n",
       "1  HLA00002        HLA-A*01:02"
      ]
     },
     "execution_count": 57,
     "metadata": {},
     "output_type": "execute_result"
    }
   ],
   "source": [
    "f4 = '{}hla_ids_allele_map_no_intron.txt'.format(wkdir)\n",
    "df4 = pd.read_csv(f4, sep='\\t', header=None)\n",
    "df4.columns = ['ids', 'hla_names']\n",
    "df4.head(2)"
   ]
  },
  {
   "cell_type": "code",
   "execution_count": 51,
   "metadata": {},
   "outputs": [],
   "source": []
  },
  {
   "cell_type": "code",
   "execution_count": 62,
   "metadata": {},
   "outputs": [],
   "source": [
    "df5 = pd.merge(df3, df4, left_on='allele', right_on='ids', how='left')"
   ]
  },
  {
   "cell_type": "code",
   "execution_count": 69,
   "metadata": {},
   "outputs": [
    {
     "data": {
      "text/html": [
       "<div>\n",
       "<style scoped>\n",
       "    .dataframe tbody tr th:only-of-type {\n",
       "        vertical-align: middle;\n",
       "    }\n",
       "\n",
       "    .dataframe tbody tr th {\n",
       "        vertical-align: top;\n",
       "    }\n",
       "\n",
       "    .dataframe thead th {\n",
       "        text-align: right;\n",
       "    }\n",
       "</style>\n",
       "<table border=\"1\" class=\"dataframe\">\n",
       "  <thead>\n",
       "    <tr style=\"text-align: right;\">\n",
       "      <th></th>\n",
       "      <th>pog</th>\n",
       "      <th>lib</th>\n",
       "      <th>allele</th>\n",
       "      <th>average_cov</th>\n",
       "      <th>peak_cov</th>\n",
       "      <th>perfect_paired_unique_total_cov_ratio</th>\n",
       "      <th>ids</th>\n",
       "      <th>hla_names</th>\n",
       "    </tr>\n",
       "  </thead>\n",
       "  <tbody>\n",
       "    <tr>\n",
       "      <th>0</th>\n",
       "      <td>POG011</td>\n",
       "      <td>A10945</td>\n",
       "      <td>HLA00050</td>\n",
       "      <td>63.174232</td>\n",
       "      <td>102.0</td>\n",
       "      <td>0.612606</td>\n",
       "      <td>HLA00050</td>\n",
       "      <td>HLA-A*24:02:01:01</td>\n",
       "    </tr>\n",
       "    <tr>\n",
       "      <th>1</th>\n",
       "      <td>POG011</td>\n",
       "      <td>A10945</td>\n",
       "      <td>HLA00132</td>\n",
       "      <td>31.076923</td>\n",
       "      <td>51.5</td>\n",
       "      <td>0.502174</td>\n",
       "      <td>HLA00132</td>\n",
       "      <td>HLA-B*07:02:01</td>\n",
       "    </tr>\n",
       "    <tr>\n",
       "      <th>2</th>\n",
       "      <td>POG011</td>\n",
       "      <td>A10945</td>\n",
       "      <td>HLA00170</td>\n",
       "      <td>28.201737</td>\n",
       "      <td>50.0</td>\n",
       "      <td>0.502392</td>\n",
       "      <td>HLA00170</td>\n",
       "      <td>HLA-B*15:07:01</td>\n",
       "    </tr>\n",
       "  </tbody>\n",
       "</table>\n",
       "</div>"
      ],
      "text/plain": [
       "      pog     lib    allele  average_cov  peak_cov  \\\n",
       "0  POG011  A10945  HLA00050    63.174232     102.0   \n",
       "1  POG011  A10945  HLA00132    31.076923      51.5   \n",
       "2  POG011  A10945  HLA00170    28.201737      50.0   \n",
       "\n",
       "   perfect_paired_unique_total_cov_ratio       ids          hla_names  \n",
       "0                               0.612606  HLA00050  HLA-A*24:02:01:01  \n",
       "1                               0.502174  HLA00132     HLA-B*07:02:01  \n",
       "2                               0.502392  HLA00170     HLA-B*15:07:01  "
      ]
     },
     "execution_count": 69,
     "metadata": {},
     "output_type": "execute_result"
    }
   ],
   "source": [
    "df5.head(3)"
   ]
  },
  {
   "cell_type": "code",
   "execution_count": 67,
   "metadata": {},
   "outputs": [
    {
     "data": {
      "text/plain": [
       "False"
      ]
     },
     "execution_count": 67,
     "metadata": {},
     "output_type": "execute_result"
    }
   ],
   "source": [
    "df5.hla_names.isnull().any()"
   ]
  },
  {
   "cell_type": "code",
   "execution_count": 68,
   "metadata": {
    "scrolled": true
   },
   "outputs": [
    {
     "data": {
      "text/html": [
       "<div>\n",
       "<style scoped>\n",
       "    .dataframe tbody tr th:only-of-type {\n",
       "        vertical-align: middle;\n",
       "    }\n",
       "\n",
       "    .dataframe tbody tr th {\n",
       "        vertical-align: top;\n",
       "    }\n",
       "\n",
       "    .dataframe thead th {\n",
       "        text-align: right;\n",
       "    }\n",
       "</style>\n",
       "<table border=\"1\" class=\"dataframe\">\n",
       "  <thead>\n",
       "    <tr style=\"text-align: right;\">\n",
       "      <th></th>\n",
       "      <th>POG_ID</th>\n",
       "      <th>HLA-A</th>\n",
       "      <th>HLA-B</th>\n",
       "      <th>HLA-C</th>\n",
       "      <th>Discrepant</th>\n",
       "      <th>est_TC</th>\n",
       "      <th>Biopsy_fix</th>\n",
       "    </tr>\n",
       "  </thead>\n",
       "  <tbody>\n",
       "    <tr>\n",
       "      <th>0</th>\n",
       "      <td>POG517</td>\n",
       "      <td>NLOH</td>\n",
       "      <td>HET</td>\n",
       "      <td>HET</td>\n",
       "      <td>No</td>\n",
       "      <td>27</td>\n",
       "      <td>OCT</td>\n",
       "    </tr>\n",
       "    <tr>\n",
       "      <th>1</th>\n",
       "      <td>POG890</td>\n",
       "      <td>BCNA</td>\n",
       "      <td>HET</td>\n",
       "      <td>HET</td>\n",
       "      <td>No</td>\n",
       "      <td>29</td>\n",
       "      <td>FF</td>\n",
       "    </tr>\n",
       "  </tbody>\n",
       "</table>\n",
       "</div>"
      ],
      "text/plain": [
       "   POG_ID HLA-A HLA-B HLA-C Discrepant  est_TC Biopsy_fix\n",
       "0  POG517  NLOH   HET   HET         No      27        OCT\n",
       "1  POG890  BCNA   HET   HET         No      29         FF"
      ]
     },
     "execution_count": 68,
     "metadata": {},
     "output_type": "execute_result"
    }
   ],
   "source": [
    "f6 = '{}optitype_test_cases.csv'.format(wkdir)\n",
    "df6 = pd.read_csv(f6, sep='\\t')\n",
    "df6.head(2)"
   ]
  },
  {
   "cell_type": "code",
   "execution_count": 70,
   "metadata": {},
   "outputs": [],
   "source": [
    "df7 = pd.merge(df5, df6, left_on='pog', right_on='POG_ID', how='left')"
   ]
  },
  {
   "cell_type": "code",
   "execution_count": 90,
   "metadata": {},
   "outputs": [
    {
     "data": {
      "text/html": [
       "<div>\n",
       "<style scoped>\n",
       "    .dataframe tbody tr th:only-of-type {\n",
       "        vertical-align: middle;\n",
       "    }\n",
       "\n",
       "    .dataframe tbody tr th {\n",
       "        vertical-align: top;\n",
       "    }\n",
       "\n",
       "    .dataframe thead th {\n",
       "        text-align: right;\n",
       "    }\n",
       "</style>\n",
       "<table border=\"1\" class=\"dataframe\">\n",
       "  <thead>\n",
       "    <tr style=\"text-align: right;\">\n",
       "      <th></th>\n",
       "      <th>pog</th>\n",
       "      <th>lib</th>\n",
       "      <th>allele</th>\n",
       "      <th>average_cov</th>\n",
       "      <th>peak_cov</th>\n",
       "      <th>perfect_paired_unique_total_cov_ratio</th>\n",
       "      <th>ids</th>\n",
       "      <th>hla_names</th>\n",
       "      <th>POG_ID</th>\n",
       "      <th>HLA-A</th>\n",
       "      <th>HLA-B</th>\n",
       "      <th>HLA-C</th>\n",
       "      <th>Discrepant</th>\n",
       "      <th>est_TC</th>\n",
       "      <th>Biopsy_fix</th>\n",
       "    </tr>\n",
       "  </thead>\n",
       "  <tbody>\n",
       "    <tr>\n",
       "      <th>0</th>\n",
       "      <td>POG011</td>\n",
       "      <td>A10945</td>\n",
       "      <td>HLA00050</td>\n",
       "      <td>63.174232</td>\n",
       "      <td>102.0</td>\n",
       "      <td>0.612606</td>\n",
       "      <td>HLA00050</td>\n",
       "      <td>HLA-A*24:02:01:01</td>\n",
       "      <td>POG011</td>\n",
       "      <td>HET</td>\n",
       "      <td>HET</td>\n",
       "      <td>HET</td>\n",
       "      <td>No</td>\n",
       "      <td>30</td>\n",
       "      <td>OCT?</td>\n",
       "    </tr>\n",
       "    <tr>\n",
       "      <th>1</th>\n",
       "      <td>POG011</td>\n",
       "      <td>A10945</td>\n",
       "      <td>HLA00132</td>\n",
       "      <td>31.076923</td>\n",
       "      <td>51.5</td>\n",
       "      <td>0.502174</td>\n",
       "      <td>HLA00132</td>\n",
       "      <td>HLA-B*07:02:01</td>\n",
       "      <td>POG011</td>\n",
       "      <td>HET</td>\n",
       "      <td>HET</td>\n",
       "      <td>HET</td>\n",
       "      <td>No</td>\n",
       "      <td>30</td>\n",
       "      <td>OCT?</td>\n",
       "    </tr>\n",
       "    <tr>\n",
       "      <th>2</th>\n",
       "      <td>POG011</td>\n",
       "      <td>A10945</td>\n",
       "      <td>HLA00170</td>\n",
       "      <td>28.201737</td>\n",
       "      <td>50.0</td>\n",
       "      <td>0.502392</td>\n",
       "      <td>HLA00170</td>\n",
       "      <td>HLA-B*15:07:01</td>\n",
       "      <td>POG011</td>\n",
       "      <td>HET</td>\n",
       "      <td>HET</td>\n",
       "      <td>HET</td>\n",
       "      <td>No</td>\n",
       "      <td>30</td>\n",
       "      <td>OCT?</td>\n",
       "    </tr>\n",
       "    <tr>\n",
       "      <th>3</th>\n",
       "      <td>POG011</td>\n",
       "      <td>A10945</td>\n",
       "      <td>HLA00411</td>\n",
       "      <td>31.904636</td>\n",
       "      <td>47.0</td>\n",
       "      <td>0.563953</td>\n",
       "      <td>HLA00411</td>\n",
       "      <td>HLA-C*03:03:01</td>\n",
       "      <td>POG011</td>\n",
       "      <td>HET</td>\n",
       "      <td>HET</td>\n",
       "      <td>HET</td>\n",
       "      <td>No</td>\n",
       "      <td>30</td>\n",
       "      <td>OCT?</td>\n",
       "    </tr>\n",
       "    <tr>\n",
       "      <th>4</th>\n",
       "      <td>POG011</td>\n",
       "      <td>A10945</td>\n",
       "      <td>HLA01902</td>\n",
       "      <td>33.800000</td>\n",
       "      <td>64.0</td>\n",
       "      <td>0.595661</td>\n",
       "      <td>HLA01902</td>\n",
       "      <td>HLA-C*07:02:01:03</td>\n",
       "      <td>POG011</td>\n",
       "      <td>HET</td>\n",
       "      <td>HET</td>\n",
       "      <td>HET</td>\n",
       "      <td>No</td>\n",
       "      <td>30</td>\n",
       "      <td>OCT?</td>\n",
       "    </tr>\n",
       "  </tbody>\n",
       "</table>\n",
       "</div>"
      ],
      "text/plain": [
       "      pog     lib    allele  average_cov  peak_cov  \\\n",
       "0  POG011  A10945  HLA00050    63.174232     102.0   \n",
       "1  POG011  A10945  HLA00132    31.076923      51.5   \n",
       "2  POG011  A10945  HLA00170    28.201737      50.0   \n",
       "3  POG011  A10945  HLA00411    31.904636      47.0   \n",
       "4  POG011  A10945  HLA01902    33.800000      64.0   \n",
       "\n",
       "   perfect_paired_unique_total_cov_ratio       ids          hla_names  POG_ID  \\\n",
       "0                               0.612606  HLA00050  HLA-A*24:02:01:01  POG011   \n",
       "1                               0.502174  HLA00132     HLA-B*07:02:01  POG011   \n",
       "2                               0.502392  HLA00170     HLA-B*15:07:01  POG011   \n",
       "3                               0.563953  HLA00411     HLA-C*03:03:01  POG011   \n",
       "4                               0.595661  HLA01902  HLA-C*07:02:01:03  POG011   \n",
       "\n",
       "  HLA-A HLA-B HLA-C Discrepant  est_TC Biopsy_fix  \n",
       "0   HET   HET   HET         No      30       OCT?  \n",
       "1   HET   HET   HET         No      30       OCT?  \n",
       "2   HET   HET   HET         No      30       OCT?  \n",
       "3   HET   HET   HET         No      30       OCT?  \n",
       "4   HET   HET   HET         No      30       OCT?  "
      ]
     },
     "execution_count": 90,
     "metadata": {},
     "output_type": "execute_result"
    }
   ],
   "source": [
    "df7.head()"
   ]
  },
  {
   "cell_type": "code",
   "execution_count": 72,
   "metadata": {},
   "outputs": [],
   "source": [
    "of = '{}pog_allele_coverage_counts_stats.txt'.format(wkdir)\n",
    "df7.to_csv(of, sep='\\t', index=False)"
   ]
  },
  {
   "cell_type": "code",
   "execution_count": null,
   "metadata": {},
   "outputs": [],
   "source": []
  },
  {
   "cell_type": "code",
   "execution_count": 304,
   "metadata": {},
   "outputs": [],
   "source": [
    "# df7.query('\"HLA-A\" == \"{}\"'.format('HET'))\n",
    "allele = 'HLA-A'\n",
    "loh = \"HET\"\n",
    "stat = 'perfect_paired_unique_total_cov_ratio'\n",
    "dftmp = df7[(df7[allele] == loh)&(df7['hla_names'].str.contains(allele))][['pog', 'lib', stat]]\n",
    "dftmp['pog_lib'] = dftmp.pog + \"_\" + dftmp.lib\n",
    "hues = []"
   ]
  },
  {
   "cell_type": "code",
   "execution_count": 305,
   "metadata": {},
   "outputs": [],
   "source": [
    "pogs = dftmp.sort_values('pog_lib')['pog_lib'].unique()\n",
    "\n",
    "num_alleles = [[i, dftmp.pog_lib.value_counts().loc[i]] for i in pogs]"
   ]
  },
  {
   "cell_type": "code",
   "execution_count": 307,
   "metadata": {},
   "outputs": [],
   "source": [
    "def assign_groups(num_alleles):\n",
    "    hues = []\n",
    "    for v in num_alleles:\n",
    "        for x in range(v[1]):\n",
    "            hues.append([v[0], x+1])\n",
    "\n",
    "\n",
    "    hues = pd.DataFrame(hues, columns=['pog_lib', 'allele'])\n",
    "    return hues"
   ]
  },
  {
   "cell_type": "code",
   "execution_count": 308,
   "metadata": {},
   "outputs": [],
   "source": [
    "hues = assign_groups(num_alleles)\n",
    "\n",
    "assert (dftmp.reset_index().pog_lib == hues.reset_index().pog_lib).all()\n",
    "\n",
    "dftmp['allele'] = hues.allele.tolist()"
   ]
  },
  {
   "cell_type": "code",
   "execution_count": 311,
   "metadata": {
    "scrolled": true
   },
   "outputs": [
    {
     "data": {
      "text/plain": [
       "<matplotlib.axes._subplots.AxesSubplot at 0x7fe9e2cce2e8>"
      ]
     },
     "execution_count": 311,
     "metadata": {},
     "output_type": "execute_result"
    },
    {
     "data": {
      "text/plain": [
       "Text(0.5,1,'HLA-A_HET_perfect_paired_unique_total_cov_ratio')"
      ]
     },
     "execution_count": 311,
     "metadata": {},
     "output_type": "execute_result"
    },
    {
     "data": {
      "image/png": "[encoded data removed]",
      "text/plain": [
       "<Figure size 1152x576 with 1 Axes>"
      ]
     },
     "metadata": {},
     "output_type": "display_data"
    }
   ],
   "source": [
    "# .plot(kind='bar')\n",
    "fig = plt.figure(figsize=(16, 8))\n",
    "ax = fig.add_subplot(111)\n",
    "sns.barplot(x='pog_lib', y=stat,  data=dftmp, hue='allele', ax=ax)\n",
    "xticklabels = ax.get_xticklabels()\n",
    "_ = ax.set_xticklabels(xticklabels, rotation=-60, horizontalalignment='left')\n",
    "ax.set_title('{0}_{1}_{2}'.format(allele, loh, stat))\n",
    "of = '{0}{1}_{2}_{3}.png'.format(wkdir, allele, loh, stat)\n",
    "\n",
    "plt.savefig(of, dpi=200, bbox_inches='tight')"
   ]
  },
  {
   "cell_type": "code",
   "execution_count": 329,
   "metadata": {},
   "outputs": [],
   "source": [
    "# df7.query('\"HLA-A\" == \"{}\"'.format('HET'))\n",
    "allele = 'HLA-A'\n",
    "loh = \"DLOH\"\n",
    "stat = ['average_cov', 'perfect_paired_unique_total_cov_ratio']\n",
    "dftmp = df7[(df7[allele] == loh)&(df7['hla_names'].str.contains(allele))][['pog', 'lib'] + stat]\n",
    "dftmp['pog_lib'] = dftmp.pog + \"_\" + dftmp.lib\n",
    "pogs = dftmp.sort_values('pog_lib')['pog_lib'].unique()\n",
    "\n",
    "num_alleles = [[i, dftmp.pog_lib.value_counts().loc[i]] for i in pogs]\n",
    "hues = assign_groups(num_alleles)\n",
    "\n",
    "assert (dftmp.reset_index().pog_lib == hues.reset_index().pog_lib).all()\n",
    "\n",
    "dftmp['allele'] = hues.allele.tolist()"
   ]
  },
  {
   "cell_type": "code",
   "execution_count": 331,
   "metadata": {},
   "outputs": [
    {
     "data": {
      "text/html": [
       "<div>\n",
       "<style scoped>\n",
       "    .dataframe tbody tr th:only-of-type {\n",
       "        vertical-align: middle;\n",
       "    }\n",
       "\n",
       "    .dataframe tbody tr th {\n",
       "        vertical-align: top;\n",
       "    }\n",
       "\n",
       "    .dataframe thead th {\n",
       "        text-align: right;\n",
       "    }\n",
       "</style>\n",
       "<table border=\"1\" class=\"dataframe\">\n",
       "  <thead>\n",
       "    <tr style=\"text-align: right;\">\n",
       "      <th></th>\n",
       "      <th>pog</th>\n",
       "      <th>lib</th>\n",
       "      <th>average_cov</th>\n",
       "      <th>perfect_paired_unique_total_cov_ratio</th>\n",
       "      <th>pog_lib</th>\n",
       "      <th>allele</th>\n",
       "    </tr>\n",
       "  </thead>\n",
       "  <tbody>\n",
       "    <tr>\n",
       "      <th>20</th>\n",
       "      <td>POG1022</td>\n",
       "      <td>P02827</td>\n",
       "      <td>16.993088</td>\n",
       "      <td>0.566586</td>\n",
       "      <td>POG1022_P02827</td>\n",
       "      <td>1</td>\n",
       "    </tr>\n",
       "    <tr>\n",
       "      <th>21</th>\n",
       "      <td>POG1022</td>\n",
       "      <td>P02827</td>\n",
       "      <td>51.390718</td>\n",
       "      <td>0.637310</td>\n",
       "      <td>POG1022_P02827</td>\n",
       "      <td>2</td>\n",
       "    </tr>\n",
       "  </tbody>\n",
       "</table>\n",
       "</div>"
      ],
      "text/plain": [
       "        pog     lib  average_cov  perfect_paired_unique_total_cov_ratio  \\\n",
       "20  POG1022  P02827    16.993088                               0.566586   \n",
       "21  POG1022  P02827    51.390718                               0.637310   \n",
       "\n",
       "           pog_lib  allele  \n",
       "20  POG1022_P02827       1  \n",
       "21  POG1022_P02827       2  "
      ]
     },
     "execution_count": 331,
     "metadata": {},
     "output_type": "execute_result"
    }
   ],
   "source": [
    "dftmp.head(2)"
   ]
  },
  {
   "cell_type": "code",
   "execution_count": 332,
   "metadata": {},
   "outputs": [
    {
     "data": {
      "text/plain": [
       "<matplotlib.collections.PathCollection at 0x7fe9e1f7d748>"
      ]
     },
     "execution_count": 332,
     "metadata": {},
     "output_type": "execute_result"
    },
    {
     "data": {
      "image/png": "[encoded data removed]",
      "text/plain": [
       "<Figure size 432x288 with 1 Axes>"
      ]
     },
     "metadata": {},
     "output_type": "display_data"
    }
   ],
   "source": [
    "colors = {1:'red', 2:'blue'}\n",
    "x = (dftmp['average_cov']- dftmp['average_cov'].mean())/dftmp['average_cov'].std()\n",
    "y = (dftmp['perfect_paired_unique_total_cov_ratio'] - dftmp['perfect_paired_unique_total_cov_ratio'].mean())/dftmp['perfect_paired_unique_total_cov_ratio'].std()\n",
    "plt.scatter(x, y, alpha=0.5, c=[colors[i] for i in dftmp.allele])"
   ]
  },
  {
   "cell_type": "code",
   "execution_count": 324,
   "metadata": {
    "scrolled": true
   },
   "outputs": [
    {
     "data": {
      "text/plain": [
       "20    -0.539485\n",
       "21    -0.370430\n",
       "26    -0.513399\n",
       "27    -0.515017\n",
       "32     0.779046\n",
       "33     1.194955\n",
       "68    -0.562666\n",
       "69    -0.570380\n",
       "74    -0.609752\n",
       "75    -0.487361\n",
       "79    -0.609325\n",
       "80    -0.445874\n",
       "85    -0.522648\n",
       "88     2.802664\n",
       "118   -0.587450\n",
       "119   -0.586217\n",
       "124   -0.529576\n",
       "125   -0.566781\n",
       "130    2.651132\n",
       "135    0.354276\n",
       "292   -0.511386\n",
       "293   -0.508828\n",
       "298   -0.342493\n",
       "299   -0.493582\n",
       "304    2.184861\n",
       "305    0.200274\n",
       "484   -0.368007\n",
       "485   -0.511173\n",
       "490    1.723141\n",
       "491   -0.095345\n",
       "496   -0.518663\n",
       "497   -0.524510\n",
       "Name: average_cov, dtype: float64"
      ]
     },
     "execution_count": 324,
     "metadata": {},
     "output_type": "execute_result"
    }
   ],
   "source": [
    "x"
   ]
  },
  {
   "cell_type": "code",
   "execution_count": null,
   "metadata": {},
   "outputs": [],
   "source": []
  },
  {
   "cell_type": "markdown",
   "metadata": {},
   "source": [
    "# HLA typing for RNAseq data, outdated now, use the optitype_setup.py instead"
   ]
  },
  {
   "cell_type": "code",
   "execution_count": null,
   "metadata": {},
   "outputs": [],
   "source": [
    "import os\n",
    "import pandas as pd\n",
    "from jinja2 import Environment, FileSystemLoader"
   ]
  },
  {
   "cell_type": "code",
   "execution_count": 1,
   "metadata": {
    "collapsed": true
   },
   "outputs": [],
   "source": [
    "def populate_sh_template(template_dir, patient, library, sh_script, fq1, fq2):\n",
    "    jinja2_env = Environment(loader=FileSystemLoader([template_dir]),\n",
    "                             trim_blocks=True)\n",
    "    template = jinja2_env.get_template('optitype_template.sh')\n",
    "    with open(sh_script, 'w') as opf:\n",
    "        content = template.render(sh_script=sh_script,\n",
    "                                  patient=patient,\n",
    "                                  library=library,\n",
    "                                  fq1=fq1,\n",
    "                                  fq2=fq2)\n",
    "        opf.write(content)\n",
    "        print('templated {}'.format(sh_script))\n",
    "    return sh_script"
   ]
  },
  {
   "cell_type": "code",
   "execution_count": 3,
   "metadata": {},
   "outputs": [
    {
     "data": {
      "text/html": [
       "<div>\n",
       "<style>\n",
       "    .dataframe thead tr:only-child th {\n",
       "        text-align: right;\n",
       "    }\n",
       "\n",
       "    .dataframe thead th {\n",
       "        text-align: left;\n",
       "    }\n",
       "\n",
       "    .dataframe tbody tr th {\n",
       "        vertical-align: top;\n",
       "    }\n",
       "</style>\n",
       "<table border=\"1\" class=\"dataframe\">\n",
       "  <thead>\n",
       "    <tr style=\"text-align: right;\">\n",
       "      <th></th>\n",
       "      <th>patient</th>\n",
       "      <th>library</th>\n",
       "      <th>data_type</th>\n",
       "      <th>fastq1</th>\n",
       "      <th>fastq2</th>\n",
       "    </tr>\n",
       "  </thead>\n",
       "  <tbody>\n",
       "    <tr>\n",
       "      <th>0</th>\n",
       "      <td>POG894</td>\n",
       "      <td>P02366</td>\n",
       "      <td>DNA</td>\n",
       "      <td>/projects/trans_scratch/validations/BBT/hla_te...</td>\n",
       "      <td>/projects/trans_scratch/validations/BBT/hla_te...</td>\n",
       "    </tr>\n",
       "    <tr>\n",
       "      <th>1</th>\n",
       "      <td>POG894</td>\n",
       "      <td>P02370</td>\n",
       "      <td>DNA</td>\n",
       "      <td>/projects/trans_scratch/validations/BBT/hla_te...</td>\n",
       "      <td>/projects/trans_scratch/validations/BBT/hla_te...</td>\n",
       "    </tr>\n",
       "  </tbody>\n",
       "</table>\n",
       "</div>"
      ],
      "text/plain": [
       "  patient library data_type  \\\n",
       "0  POG894  P02366       DNA   \n",
       "1  POG894  P02370       DNA   \n",
       "\n",
       "                                              fastq1  \\\n",
       "0  /projects/trans_scratch/validations/BBT/hla_te...   \n",
       "1  /projects/trans_scratch/validations/BBT/hla_te...   \n",
       "\n",
       "                                              fastq2  \n",
       "0  /projects/trans_scratch/validations/BBT/hla_te...  \n",
       "1  /projects/trans_scratch/validations/BBT/hla_te...  "
      ]
     },
     "execution_count": 3,
     "metadata": {},
     "output_type": "execute_result"
    }
   ],
   "source": [
    "# f = '/projects/trans_scratch/validations/optitype/POGs/19_pog_rna_fastqs.csv'\n",
    "f = '/projects/trans_scratch/validations/optitype/rna_slurm/5_POGs_DNA_BBT.txt.csv'\n",
    "df_patient = pd.read_csv(f, sep='\\t')\n",
    "df_patient.head(2)"
   ]
  },
  {
   "cell_type": "code",
   "execution_count": 11,
   "metadata": {},
   "outputs": [
    {
     "name": "stdout",
     "output_type": "stream",
     "text": [
      "templated /projects/trans_scratch/validations/optitype/POGs/POG083.P00134.optipye.sh\n",
      "templated /projects/trans_scratch/validations/optitype/POGs/POG108.P00207.optipye.sh\n",
      "templated /projects/trans_scratch/validations/optitype/POGs/POG116.P00255.optipye.sh\n",
      "templated /projects/trans_scratch/validations/optitype/POGs/POG114.P00257.optipye.sh\n",
      "templated /projects/trans_scratch/validations/optitype/POGs/POG165.P00447.optipye.sh\n",
      "templated /projects/trans_scratch/validations/optitype/POGs/POG217.P00676.optipye.sh\n",
      "templated /projects/trans_scratch/validations/optitype/POGs/POG237.P00688.optipye.sh\n",
      "templated /projects/trans_scratch/validations/optitype/POGs/POG264.P00777.optipye.sh\n",
      "templated /projects/trans_scratch/validations/optitype/POGs/POG280.P00865.optipye.sh\n",
      "templated /projects/trans_scratch/validations/optitype/POGs/POG279.P00868.optipye.sh\n",
      "templated /projects/trans_scratch/validations/optitype/POGs/POG318.P00881.optipye.sh\n",
      "templated /projects/trans_scratch/validations/optitype/POGs/POG326.P00911.optipye.sh\n",
      "templated /projects/trans_scratch/validations/optitype/POGs/POG343.P00949.optipye.sh\n",
      "templated /projects/trans_scratch/validations/optitype/POGs/POG419.P01164.optipye.sh\n",
      "templated /projects/trans_scratch/validations/optitype/POGs/POG475.P01252.optipye.sh\n",
      "templated /projects/trans_scratch/validations/optitype/POGs/POG475.P01267.optipye.sh\n",
      "templated /projects/trans_scratch/validations/optitype/POGs/POG574.P01561.optipye.sh\n",
      "templated /projects/trans_scratch/validations/optitype/POGs/POG616.P01608.optipye.sh\n",
      "templated /projects/trans_scratch/validations/optitype/POGs/POG237.P01645.optipye.sh\n",
      "templated /projects/trans_scratch/validations/optitype/POGs/POG116.P01685.optipye.sh\n",
      "templated /projects/trans_scratch/validations/optitype/POGs/POG507.P01818.optipye.sh\n",
      "templated /projects/trans_scratch/validations/optitype/POGs/POG581.P01894.optipye.sh\n",
      "templated /projects/trans_scratch/validations/optitype/POGs/POG217.P01901.optipye.sh\n"
     ]
    }
   ],
   "source": [
    "template_dir = '/home/szong/projects/development/optitype'\n",
    "# fq_dir = '/projects/trans_scratch/validations/MiXCR/fastqs/'\n",
    "# wkdir = os.getcwd()\n",
    "# wkdir = '/projects/trans_scratch/validations/optitype/POGs/'\n",
    "wkdir = '/projects/trans_scratch/validations/optitype/rna_slurm/POG_BBT/DNA'\n",
    "for index, row in df_patient.iterrows():\n",
    "    patient = row.patient\n",
    "    library = row.rna_library\n",
    "    fq1 = row.fastq1\n",
    "    fq2 = row.fastq2\n",
    "    sh_script = '.'.join([patient, library, 'optipye', 'sh'])\n",
    "    sh_script = ''.join([wkdir, sh_script])\n",
    "    populate_sh_template(template_dir, patient, library, sh_script, fq1, fq2);"
   ]
  }
 ],
 "metadata": {
  "kernelspec": {
   "display_name": "Python 3",
   "language": "python",
   "name": "python3"
  },
  "language_info": {
   "codemirror_mode": {
    "name": "ipython",
    "version": 3
   },
   "file_extension": ".py",
   "mimetype": "text/x-python",
   "name": "python",
   "nbconvert_exporter": "python",
   "pygments_lexer": "ipython3",
   "version": "3.6.5"
  }
 },
 "nbformat": 4,
 "nbformat_minor": 2
}
