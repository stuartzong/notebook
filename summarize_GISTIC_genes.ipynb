{
 "cells": [
  {
   "cell_type": "markdown",
   "metadata": {
    "collapsed": true
   },
   "source": [
    "analyze NCI cervical cnv results"
   ]
  },
  {
   "cell_type": "code",
   "execution_count": 2,
   "metadata": {},
   "outputs": [],
   "source": [
    "# import csv\n",
    "import matplotlib\n",
    "# import seaborn\n",
    "import seaborn as sns\n",
    "import numpy as np\n",
    "import pandas as pd\n",
    "import matplotlib.pyplot as plt\n",
    "# from scipy.stats import ttest_ind\n",
    "# import scipy.stats as stats\n",
    "# import scipy.stats as ss\n",
    "# from matplotlib import style\n",
    "# import matplotlib.gridspec as gridspec\n",
    "# import matplotlib.patches as patches\n",
    "matplotlib.style.use('ggplot')\n",
    "%matplotlib inline\n",
    "matplotlib.rcParams['figure.figsize'] = (6, 4)\n",
    "\n",
    "\n",
    "# from sklearn.decomposition import RandomizedPCA, PCA, TruncatedSVD\n",
    "# from sklearn.linear_model import LogisticRegression\n",
    "# from sklearn.manifold import TSNE\n",
    "# from sklearn.preprocessing import StandardScaler\n",
    "\n"
   ]
  },
  {
   "cell_type": "markdown",
   "metadata": {
    "collapsed": true
   },
   "source": [
    "# produce list of amplied and deleted regions with oncogenes"
   ]
  },
  {
   "cell_type": "code",
   "execution_count": 3,
   "metadata": {},
   "outputs": [],
   "source": [
    "f1 = '/home/szong/projects/resource/oncogenes.and.tumor.suppressor.genes.txt'\n",
    "df_tg = pd.read_csv(f1, header=None)\n",
    "df_tg.head()\n",
    "\n",
    "tgs = df_tg[0].tolist()"
   ]
  },
  {
   "cell_type": "code",
   "execution_count": 4,
   "metadata": {
    "scrolled": true
   },
   "outputs": [],
   "source": [
    "def summarize_genes(inf, tgs):\n",
    "#     inf = '/home/szong/bin/GISTIC_2_0_22/124_patient_adj/del_genes.conf_99.txt'\n",
    "    df = pd.read_csv(inf, sep='\\t', header=None)\n",
    "    df.head(5)\n",
    "\n",
    "    df.loc['genes',:] = df.apply(lambda x:  ','.join(set(x[~x.isnull()][4:])))\n",
    "    df.loc['tg_genes',:] = df.apply(lambda x:  ','.join(m for m in set(x[~x.isnull()][4:]) if m in tgs))\n",
    "\n",
    "    df.loc['num_genes',:] = df.count()-6\n",
    "\n",
    "    df.shape\n",
    "\n",
    "    df1 = df.loc[[0,1,2,3,'num_genes', 'tg_genes'],:].T\n",
    "    df1['cancer_genes'] = df1.apply(lambda x: '({0}){1}'.format(x[4], x[5]), axis=1)\n",
    "\n",
    "    df1.head()\n",
    "\n",
    "#     of = '/home/szong/bin/GISTIC_2_0_22/124_patient_adj/deletion_genes.txt'\n",
    "    of = '{}.summary'.format(inf)\n",
    "    df1.drop(['num_genes', 'tg_genes'], axis=1).to_csv(of, index=False, sep='\\t')"
   ]
  },
  {
   "cell_type": "code",
   "execution_count": 5,
   "metadata": {},
   "outputs": [
    {
     "name": "stdout",
     "output_type": "stream",
     "text": [
      "/projects/trans_scratch/validations/workspace/szong/Cervical/notebook\r\n"
     ]
    }
   ],
   "source": [
    "!pwd"
   ]
  },
  {
   "cell_type": "code",
   "execution_count": 6,
   "metadata": {},
   "outputs": [],
   "source": [
    "files = ['/home/szong/bin/GISTIC_2_0_22/124_patient_adj_hiv_pos/del_genes.conf_99.txt', '/home/szong/bin/GISTIC_2_0_22/124_patient_adj_hiv_pos/amp_genes.conf_99.txt'] \n",
    "# files = ['/home/szong/bin/GISTIC_2_0_22/124_patient_adj_3k_0.1_1Mb/del_genes.conf_99.txt', '/home/szong/bin/GISTIC_2_0_22/124_patient_adj_3k_0.1_1Mb/amp_genes.conf_99.txt']\n",
    "for inf in files:\n",
    "    summarize_genes(inf, tgs)\n",
    "# to sort output\n",
    "# cat deletion_genes.txt |awk -F \":\" '{print $1\"\\t\"$2}'|sed 's/chr//g'|sort -k4n> deletion_genes_sorted.txt"
   ]
  },
  {
   "cell_type": "code",
   "execution_count": 8,
   "metadata": {},
   "outputs": [],
   "source": [
    "files = ['/home/szong/bin/GISTIC_2_0_22/124_patient_adj_hiv_neg/del_genes.conf_99.txt', '/home/szong/bin/GISTIC_2_0_22/124_patient_adj_hiv_neg/amp_genes.conf_99.txt'] \n",
    "# files = ['/home/szong/bin/GISTIC_2_0_22/124_patient_adj_3k_0.1_1Mb/del_genes.conf_99.txt', '/home/szong/bin/GISTIC_2_0_22/124_patient_adj_3k_0.1_1Mb/amp_genes.conf_99.txt']\n",
    "for inf in files:\n",
    "    summarize_genes(inf, tgs)"
   ]
  },
  {
   "cell_type": "code",
   "execution_count": 7,
   "metadata": {},
   "outputs": [],
   "source": [
    "%%bash\n",
    "cd /home/szong/bin/GISTIC_2_0_22/124_patient_adj_hiv_pos\n",
    "cat del_genes.conf_99.txt.summary |awk -F \":\" '{print $1\"\\t\"$2}'|sed 's/chr//g'|sort -k4n> del_genes.conf_99.txt.summary.sorted\n",
    "cat amp_genes.conf_99.txt.summary |awk -F \":\" '{print $1\"\\t\"$2}'|sed 's/chr//g'|sort -k4n> amp_genes.conf_99.txt.summary.sorted"
   ]
  },
  {
   "cell_type": "code",
   "execution_count": 53,
   "metadata": {},
   "outputs": [],
   "source": [
    "def get_qvalue(f):\n",
    "    df = pd.read_csv(f, sep='\\t')\n",
    "    df['gene'] = df['oncogenes'].apply(lambda x: x.split(')')[1])\n",
    "\n",
    "    df = df[['q value', 'gene']]\n",
    "    df = df[df.gene != '']\n",
    "\n",
    "    s = df[\"gene\"].str.split(',', expand=True).stack()\n",
    "    i = s.index.get_level_values(0)\n",
    "    df2 = df.loc[i].copy()\n",
    "    df2[\"gene\"] = s.values\n",
    "    return df2"
   ]
  },
  {
   "cell_type": "code",
   "execution_count": null,
   "metadata": {},
   "outputs": [],
   "source": []
  },
  {
   "cell_type": "code",
   "execution_count": 155,
   "metadata": {},
   "outputs": [
    {
     "data": {
      "text/html": [
       "<div>\n",
       "<style scoped>\n",
       "    .dataframe tbody tr th:only-of-type {\n",
       "        vertical-align: middle;\n",
       "    }\n",
       "\n",
       "    .dataframe tbody tr th {\n",
       "        vertical-align: top;\n",
       "    }\n",
       "\n",
       "    .dataframe thead th {\n",
       "        text-align: right;\n",
       "    }\n",
       "</style>\n",
       "<table border=\"1\" class=\"dataframe\">\n",
       "  <thead>\n",
       "    <tr style=\"text-align: right;\">\n",
       "      <th></th>\n",
       "      <th>hiv+q</th>\n",
       "      <th>gene</th>\n",
       "      <th>hiv-q</th>\n",
       "    </tr>\n",
       "  </thead>\n",
       "  <tbody>\n",
       "    <tr>\n",
       "      <th>0</th>\n",
       "      <td>0.003377</td>\n",
       "      <td>NFE2L2</td>\n",
       "      <td>1.0</td>\n",
       "    </tr>\n",
       "    <tr>\n",
       "      <th>1</th>\n",
       "      <td>0.003377</td>\n",
       "      <td>HOXD11</td>\n",
       "      <td>1.0</td>\n",
       "    </tr>\n",
       "  </tbody>\n",
       "</table>\n",
       "</div>"
      ],
      "text/plain": [
       "      hiv+q    gene  hiv-q\n",
       "0  0.003377  NFE2L2    1.0\n",
       "1  0.003377  HOXD11    1.0"
      ]
     },
     "execution_count": 155,
     "metadata": {},
     "output_type": "execute_result"
    }
   ],
   "source": [
    "# for amps\n",
    "pos_amp_file = '/home/szong/bin/GISTIC_2_0_22/124_patient_adj_hiv_pos/amp_genes.conf_99.txt.summary.sorted'\n",
    "pos_amps = get_qvalue(pos_amp_file)\n",
    "pos_amps.head(2)\n",
    "\n",
    "neg_amp_file = '/home/szong/bin/GISTIC_2_0_22/124_patient_adj_hiv_neg/amp_genes.conf_99.txt.summary.sorted'\n",
    "neg_amps = get_qvalue(neg_amp_file)\n",
    "neg_amps.head(2)\n",
    "\n",
    "ndf = pd.merge(pos_amps, neg_amps, left_on='gene', right_on='gene', how='outer').fillna(1)\n",
    "ndf.columns = ['hiv+q', 'gene', 'hiv-q']\n",
    "ndf.head(2)"
   ]
  },
  {
   "cell_type": "code",
   "execution_count": 148,
   "metadata": {},
   "outputs": [
    {
     "data": {
      "text/html": [
       "<div>\n",
       "<style scoped>\n",
       "    .dataframe tbody tr th:only-of-type {\n",
       "        vertical-align: middle;\n",
       "    }\n",
       "\n",
       "    .dataframe tbody tr th {\n",
       "        vertical-align: top;\n",
       "    }\n",
       "\n",
       "    .dataframe thead th {\n",
       "        text-align: right;\n",
       "    }\n",
       "</style>\n",
       "<table border=\"1\" class=\"dataframe\">\n",
       "  <thead>\n",
       "    <tr style=\"text-align: right;\">\n",
       "      <th></th>\n",
       "      <th>hiv+q</th>\n",
       "      <th>gene</th>\n",
       "      <th>hiv-q</th>\n",
       "    </tr>\n",
       "  </thead>\n",
       "  <tbody>\n",
       "    <tr>\n",
       "      <th>0</th>\n",
       "      <td>0.055942</td>\n",
       "      <td>MDS2</td>\n",
       "      <td>NaN</td>\n",
       "    </tr>\n",
       "    <tr>\n",
       "      <th>1</th>\n",
       "      <td>0.055942</td>\n",
       "      <td>PARK7</td>\n",
       "      <td>NaN</td>\n",
       "    </tr>\n",
       "  </tbody>\n",
       "</table>\n",
       "</div>"
      ],
      "text/plain": [
       "      hiv+q   gene  hiv-q\n",
       "0  0.055942   MDS2    NaN\n",
       "1  0.055942  PARK7    NaN"
      ]
     },
     "execution_count": 148,
     "metadata": {},
     "output_type": "execute_result"
    }
   ],
   "source": [
    "# for dels\n",
    "pos_del_file = '/home/szong/bin/GISTIC_2_0_22/124_patient_adj_hiv_pos/del_genes.conf_99.txt.summary.sorted'\n",
    "pos_dels = get_qvalue(pos_del_file)\n",
    "pos_dels.head(2)\n",
    "\n",
    "neg_del_file = '/home/szong/bin/GISTIC_2_0_22/124_patient_adj_hiv_neg/del_genes.conf_99.txt.summary.sorted'\n",
    "neg_dels = get_qvalue(neg_del_file)\n",
    "neg_dels.head(2)\n",
    "\n",
    "ndf = pd.merge(pos_dels, neg_dels, left_on='gene', right_on='gene', how='outer')#.fillna(1)\n",
    "ndf.columns = ['hiv+q', 'gene', 'hiv-q']\n",
    "ndf.head(2)"
   ]
  },
  {
   "cell_type": "code",
   "execution_count": 140,
   "metadata": {},
   "outputs": [
    {
     "data": {
      "text/plain": [
       "<matplotlib.axes._subplots.AxesSubplot at 0x7f13f9af4f60>"
      ]
     },
     "execution_count": 140,
     "metadata": {},
     "output_type": "execute_result"
    },
    {
     "data": {
      "image/png": "[encoded data removed]",
      "text/plain": [
       "<Figure size 432x288 with 1 Axes>"
      ]
     },
     "metadata": {},
     "output_type": "display_data"
    }
   ],
   "source": [
    "ndf['hiv+q'].hist()"
   ]
  },
  {
   "cell_type": "code",
   "execution_count": 147,
   "metadata": {},
   "outputs": [],
   "source": [
    "# ndf"
   ]
  },
  {
   "cell_type": "code",
   "execution_count": 156,
   "metadata": {},
   "outputs": [],
   "source": [
    "ndf = ndf.sort_values('hiv-q')"
   ]
  },
  {
   "cell_type": "code",
   "execution_count": 158,
   "metadata": {},
   "outputs": [
    {
     "data": {
      "image/png": "[encoded data removed]",
      "text/plain": [
       "<Figure size 504x504 with 1 Axes>"
      ]
     },
     "metadata": {},
     "output_type": "display_data"
    }
   ],
   "source": [
    "# Set theme\n",
    "sns.set_style('whitegrid')\n",
    "\n",
    "\n",
    "# Scatterplot arguments\n",
    "# grid = sns.lmplot(x='hiv+q', y='hiv-q', data=ndf.fillna(.1),\n",
    "#            fit_reg=False) # No regression line\n",
    "#            #hue='Stage')   # Color by evolution stage\n",
    "# # Tweak using Matplotlib\n",
    "# # plt.ylim(0, .2)\n",
    "# # plt.xlim(0, .2)\n",
    "# grid.set(xscale=\"log\", yscale=\"log\")\n",
    "\n",
    "f, ax = plt.subplots(figsize=(7, 7))\n",
    "ax.set(xscale=\"log\", yscale=\"log\")\n",
    "sns.regplot(x='hiv+q', y='hiv-q', data=ndf.fillna(1), ax=ax, fit_reg=False, x_jitter=1e-12, y_jitter=1e-10, scatter_kws={\"s\": 50})\n",
    "ax.set_title('GISTIC amps')\n",
    "\n",
    "def label_point(x, y, val, ax):\n",
    "    a = pd.concat({'x': x, 'y': y, 'val': val}, axis=1)\n",
    "    k = 0\n",
    "    j = 0 \n",
    "    for i, point in a.iterrows():\n",
    "        _ = ax.text(point['x']+j, point['y']+k, str(point['val']))\n",
    "#         k+=1e-3\n",
    "#         j+=1e-8\n",
    "    return a\n",
    "\n",
    "_ = label_point(ndf['hiv+q'], ndf['hiv-q'], ndf['gene'], plt.gca())  \n",
    "of = '/projects/trans_scratch/validations/workspace/szong/Cervical/cnv/amp_gene_qvalue_comparison_hiv_pos_vs_neg.png'\n",
    "plt.savefig(of, bbox_inches='tight', dpi=200)"
   ]
  },
  {
   "cell_type": "code",
   "execution_count": 102,
   "metadata": {},
   "outputs": [
    {
     "data": {
      "text/html": [
       "<div>\n",
       "<style scoped>\n",
       "    .dataframe tbody tr th:only-of-type {\n",
       "        vertical-align: middle;\n",
       "    }\n",
       "\n",
       "    .dataframe tbody tr th {\n",
       "        vertical-align: top;\n",
       "    }\n",
       "\n",
       "    .dataframe thead th {\n",
       "        text-align: right;\n",
       "    }\n",
       "</style>\n",
       "<table border=\"1\" class=\"dataframe\">\n",
       "  <thead>\n",
       "    <tr style=\"text-align: right;\">\n",
       "      <th></th>\n",
       "      <th>hiv+q</th>\n",
       "      <th>gene</th>\n",
       "      <th>hiv-q</th>\n",
       "    </tr>\n",
       "  </thead>\n",
       "  <tbody>\n",
       "    <tr>\n",
       "      <th>0</th>\n",
       "      <td>0.003377</td>\n",
       "      <td>NFE2L2</td>\n",
       "      <td>NaN</td>\n",
       "    </tr>\n",
       "    <tr>\n",
       "      <th>1</th>\n",
       "      <td>0.003377</td>\n",
       "      <td>HOXD11</td>\n",
       "      <td>NaN</td>\n",
       "    </tr>\n",
       "  </tbody>\n",
       "</table>\n",
       "</div>"
      ],
      "text/plain": [
       "      hiv+q    gene  hiv-q\n",
       "0  0.003377  NFE2L2    NaN\n",
       "1  0.003377  HOXD11    NaN"
      ]
     },
     "execution_count": 102,
     "metadata": {},
     "output_type": "execute_result"
    }
   ],
   "source": [
    "ndf.head(2)"
   ]
  },
  {
   "cell_type": "code",
   "execution_count": 153,
   "metadata": {},
   "outputs": [],
   "source": [
    "of = '/projects/trans_scratch/validations/workspace/szong/Cervical/cnv/amp_gene_qvalue_comparison_hiv_pos_vs_neg.txt'\n",
    "ndf.to_csv(of, sep='\\t', index=False)"
   ]
  },
  {
   "cell_type": "code",
   "execution_count": 9,
   "metadata": {},
   "outputs": [],
   "source": [
    "%%bash\n",
    "cd /home/szong/bin/GISTIC_2_0_22/124_patient_adj_hiv_neg\n",
    "cat del_genes.conf_99.txt.summary |awk -F \":\" '{print $1\"\\t\"$2}'|sed 's/chr//g'|sort -k4n> del_genes.conf_99.txt.summary.sorted\n",
    "cat amp_genes.conf_99.txt.summary |awk -F \":\" '{print $1\"\\t\"$2}'|sed 's/chr//g'|sort -k4n> amp_genes.conf_99.txt.summary.sorted"
   ]
  },
  {
   "cell_type": "markdown",
   "metadata": {},
   "source": [
    "# look at correlation between copy number and expression"
   ]
  },
  {
   "cell_type": "code",
   "execution_count": 49,
   "metadata": {
    "scrolled": true
   },
   "outputs": [
    {
     "data": {
      "text/html": [
       "<div>\n",
       "<style scoped>\n",
       "    .dataframe tbody tr th:only-of-type {\n",
       "        vertical-align: middle;\n",
       "    }\n",
       "\n",
       "    .dataframe tbody tr th {\n",
       "        vertical-align: top;\n",
       "    }\n",
       "\n",
       "    .dataframe thead th {\n",
       "        text-align: right;\n",
       "    }\n",
       "</style>\n",
       "<table border=\"1\" class=\"dataframe\">\n",
       "  <thead>\n",
       "    <tr style=\"text-align: right;\">\n",
       "      <th></th>\n",
       "      <th>q value</th>\n",
       "      <th>gene</th>\n",
       "      <th>new_gene</th>\n",
       "    </tr>\n",
       "  </thead>\n",
       "  <tbody>\n",
       "    <tr>\n",
       "      <th>7</th>\n",
       "      <td>3.377000e-03</td>\n",
       "      <td>NFE2L2,HOXD11,HOXD13</td>\n",
       "      <td>NFE2L2</td>\n",
       "    </tr>\n",
       "    <tr>\n",
       "      <th>7</th>\n",
       "      <td>3.377000e-03</td>\n",
       "      <td>NFE2L2,HOXD11,HOXD13</td>\n",
       "      <td>HOXD11</td>\n",
       "    </tr>\n",
       "    <tr>\n",
       "      <th>7</th>\n",
       "      <td>3.377000e-03</td>\n",
       "      <td>NFE2L2,HOXD11,HOXD13</td>\n",
       "      <td>HOXD13</td>\n",
       "    </tr>\n",
       "    <tr>\n",
       "      <th>9</th>\n",
       "      <td>8.332900e-13</td>\n",
       "      <td>DLG1</td>\n",
       "      <td>DLG1</td>\n",
       "    </tr>\n",
       "    <tr>\n",
       "      <th>16</th>\n",
       "      <td>5.524600e-02</td>\n",
       "      <td>RAC1</td>\n",
       "      <td>RAC1</td>\n",
       "    </tr>\n",
       "    <tr>\n",
       "      <th>20</th>\n",
       "      <td>6.399600e-05</td>\n",
       "      <td>ESRP1</td>\n",
       "      <td>ESRP1</td>\n",
       "    </tr>\n",
       "    <tr>\n",
       "      <th>22</th>\n",
       "      <td>8.899700e-02</td>\n",
       "      <td>UHRF2</td>\n",
       "      <td>UHRF2</td>\n",
       "    </tr>\n",
       "    <tr>\n",
       "      <th>26</th>\n",
       "      <td>1.518200e-01</td>\n",
       "      <td>LMO2,EHF</td>\n",
       "      <td>LMO2</td>\n",
       "    </tr>\n",
       "    <tr>\n",
       "      <th>26</th>\n",
       "      <td>1.518200e-01</td>\n",
       "      <td>LMO2,EHF</td>\n",
       "      <td>EHF</td>\n",
       "    </tr>\n",
       "    <tr>\n",
       "      <th>28</th>\n",
       "      <td>5.902500e-07</td>\n",
       "      <td>YAP1,BIRC3</td>\n",
       "      <td>YAP1</td>\n",
       "    </tr>\n",
       "    <tr>\n",
       "      <th>28</th>\n",
       "      <td>5.902500e-07</td>\n",
       "      <td>YAP1,BIRC3</td>\n",
       "      <td>BIRC3</td>\n",
       "    </tr>\n",
       "    <tr>\n",
       "      <th>30</th>\n",
       "      <td>1.518200e-01</td>\n",
       "      <td>GPRC5A</td>\n",
       "      <td>GPRC5A</td>\n",
       "    </tr>\n",
       "    <tr>\n",
       "      <th>41</th>\n",
       "      <td>8.899700e-02</td>\n",
       "      <td>CDH1</td>\n",
       "      <td>CDH1</td>\n",
       "    </tr>\n",
       "    <tr>\n",
       "      <th>42</th>\n",
       "      <td>5.013900e-02</td>\n",
       "      <td>RAD51C</td>\n",
       "      <td>RAD51C</td>\n",
       "    </tr>\n",
       "    <tr>\n",
       "      <th>48</th>\n",
       "      <td>1.634100e-03</td>\n",
       "      <td>BCL3,CBLC</td>\n",
       "      <td>BCL3</td>\n",
       "    </tr>\n",
       "    <tr>\n",
       "      <th>48</th>\n",
       "      <td>1.634100e-03</td>\n",
       "      <td>BCL3,CBLC</td>\n",
       "      <td>CBLC</td>\n",
       "    </tr>\n",
       "  </tbody>\n",
       "</table>\n",
       "</div>"
      ],
      "text/plain": [
       "         q value                  gene new_gene\n",
       "7   3.377000e-03  NFE2L2,HOXD11,HOXD13   NFE2L2\n",
       "7   3.377000e-03  NFE2L2,HOXD11,HOXD13   HOXD11\n",
       "7   3.377000e-03  NFE2L2,HOXD11,HOXD13   HOXD13\n",
       "9   8.332900e-13                  DLG1     DLG1\n",
       "16  5.524600e-02                  RAC1     RAC1\n",
       "20  6.399600e-05                 ESRP1    ESRP1\n",
       "22  8.899700e-02                 UHRF2    UHRF2\n",
       "26  1.518200e-01              LMO2,EHF     LMO2\n",
       "26  1.518200e-01              LMO2,EHF      EHF\n",
       "28  5.902500e-07            YAP1,BIRC3     YAP1\n",
       "28  5.902500e-07            YAP1,BIRC3    BIRC3\n",
       "30  1.518200e-01                GPRC5A   GPRC5A\n",
       "41  8.899700e-02                  CDH1     CDH1\n",
       "42  5.013900e-02                RAD51C   RAD51C\n",
       "48  1.634100e-03             BCL3,CBLC     BCL3\n",
       "48  1.634100e-03             BCL3,CBLC     CBLC"
      ]
     },
     "execution_count": 49,
     "metadata": {},
     "output_type": "execute_result"
    }
   ],
   "source": [
    "df2"
   ]
  },
  {
   "cell_type": "code",
   "execution_count": null,
   "metadata": {},
   "outputs": [],
   "source": [
    "f = '/home/szong/bin/GISTIC_2_0_22/124_patient_adj_3k_0.1_1Mb/all_thresholded.by_genes.txt'\n",
    "df = pd.read_csv(f, sep='\\t')\n",
    "df.head(2)"
   ]
  },
  {
   "cell_type": "code",
   "execution_count": null,
   "metadata": {},
   "outputs": [],
   "source": [
    "f1 = '/projects/trans_scratch/validations/workspace/szong/Cervical/expression/NCI_ensembl69_stranded_RPKM_matrix.txt'\n",
    "df1 = pd.read_csv(f1, sep='\\t')\n",
    "df1.head(2)"
   ]
  },
  {
   "cell_type": "code",
   "execution_count": null,
   "metadata": {},
   "outputs": [],
   "source": [
    "genes = ['ECT2', 'YAP1', 'DLG1',  'DNAH5',  'SP100', 'STK11']"
   ]
  },
  {
   "cell_type": "code",
   "execution_count": null,
   "metadata": {},
   "outputs": [],
   "source": [
    "def categorize_cnv(i):\n",
    "#     for i in s:\n",
    "    if i < 0:\n",
    "        cat = 'cnv_loss'\n",
    "    elif i > 0:\n",
    "        cat = 'cnv_gain'\n",
    "    else: cat = 'cnv_neutral'\n",
    "#         ns.append(cat)\n",
    "    return cat"
   ]
  },
  {
   "cell_type": "code",
   "execution_count": null,
   "metadata": {},
   "outputs": [],
   "source": [
    "with plt.style.context(\"seaborn-whitegrid\"):\n",
    "    plt.rcParams[\"axes.edgecolor\"] = \"0.15\"\n",
    "    plt.rcParams[\"axes.linewidth\"]  = 1.25\n",
    "    fig = plt.figure(facecolor='w', figsize=(12,12))\n",
    "    axes = (fig.subplots(int(len(genes)/3), 3)).ravel()\n",
    "#     print(axes[1])\n",
    "    for i, gene in enumerate(genes):\n",
    "        dfgene = df[df['Gene Symbol'] == gene]\n",
    "        df1gene = df1[df1.genes.str.contains('_{}$'.format(gene))]\n",
    "        dff = pd.concat([dfgene, df1gene]).drop(['Cytoband', 'Gene Symbol', 'Locus ID', 'genes'], axis=1).T\n",
    "        dff.columns = ['cnv', 'rpkm']\n",
    "#         dff['groups'] = ['cnv_loss' if i< 0 'cnv_gain' elif i>0 else 'cnv_neutral' for i in dff.cnv ]\n",
    "        dff['groups'] = dff.cnv.apply(categorize_cnv)\n",
    "#         print(dff['groups'].unique())\n",
    "        # boxplot overlaps individual data point\n",
    "\n",
    "        ax = axes[i]\n",
    "        _ = sns.boxplot('groups', 'rpkm', data=dff, ax=ax, order=['cnv_loss', 'cnv_neutral', 'cnv_gain'])\n",
    "        _ = sns.swarmplot('groups', 'rpkm', data=dff, ax=ax, order=['cnv_loss', 'cnv_neutral', 'cnv_gain'])\n",
    "        _ = ax.set_title(gene)\n",
    "        _ = ax.set_xlabel('')\n",
    "        grps = {}\n",
    "        # overlay actuall data point\n",
    "        categories = ['cnv_loss','cnv_neutral', 'cnv_gain']\n",
    "        group_col = 'groups'\n",
    "        value_col = 'rpkm'\n",
    "        for i, cat in enumerate(categories):\n",
    "#             print(i, cat)\n",
    "            grps[i] = dff.query('{0} == \"{1}\"'.format(group_col, cat))[value_col]\n",
    "\n",
    "        if len(categories) == 2:\n",
    "            # statistical test for 1st grp\n",
    "#             sts, p = ss.mannwhitneyu(grps[0], grps[1], use_continuity=True, alternative=None)\n",
    "            sts, p1 = ttest_ind(grps[0], grps[1])\n",
    "#             print(p)\n",
    "            p = round(p, 8)\n",
    "            _ = ax.text(0.4 , 0.90,'p={}'.format(p), ha='center', va='center', transform=ax.transAxes, size=14)\n",
    "        elif len(categories) == 3:\n",
    "            # statistical test for 1st grp\n",
    "#             sts, p1 = ss.mannwhitneyu(grps[0], grps[1], use_continuity=True, alternative=None)\n",
    "            sts, p1 = ttest_ind(grps[0], grps[1])\n",
    "#             print(p1)\n",
    "            p1 = round(p1, 5)\n",
    "            _ = ax.text(0.2 , 0.90,'p={}'.format(p1), ha='center', va='center', transform=ax.transAxes, size=14)\n",
    "#             sts, p2 = ss.mannwhitneyu(grps[2], grps[1], use_continuity=True, alternative=None)\n",
    "            sts, p2 = ttest_ind(grps[2], grps[1])\n",
    "#             print(p2)\n",
    "            p2 = round(p2, 5)\n",
    "            _ = ax.text(0.7 , 0.90,'p={}'.format(p2), ha='center', va='center', transform=ax.transAxes, size=14)\n",
    "    of = '/projects/trans_scratch/validations/workspace/szong/Cervical/cnv/cnv_expression.png'\n",
    "    plt.savefig(of, dpi=200)"
   ]
  }
 ],
 "metadata": {
  "kernelspec": {
   "display_name": "Python 3",
   "language": "python",
   "name": "python3"
  },
  "language_info": {
   "codemirror_mode": {
    "name": "ipython",
    "version": 3
   },
   "file_extension": ".py",
   "mimetype": "text/x-python",
   "name": "python",
   "nbconvert_exporter": "python",
   "pygments_lexer": "ipython3",
   "version": "3.6.5"
  }
 },
 "nbformat": 4,
 "nbformat_minor": 2
}
