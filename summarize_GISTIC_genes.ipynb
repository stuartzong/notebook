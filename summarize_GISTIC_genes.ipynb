{
 "cells": [
  {
   "cell_type": "markdown",
   "metadata": {
    "collapsed": true
   },
   "source": [
    "analyze NCI cervical cnv results"
   ]
  },
  {
   "cell_type": "code",
   "execution_count": 140,
   "metadata": {},
   "outputs": [],
   "source": [
    "# import csv\n",
    "import matplotlib\n",
    "# import seaborn\n",
    "import seaborn as sns\n",
    "import numpy as np\n",
    "import pandas as pd\n",
    "import matplotlib.pyplot as plt\n",
    "# from scipy.stats import ttest_ind\n",
    "# import scipy.stats as stats\n",
    "# import scipy.stats as ss\n",
    "# from matplotlib import style\n",
    "# import matplotlib.gridspec as gridspec\n",
    "# import matplotlib.patches as patches\n",
    "matplotlib.style.use('ggplot')\n",
    "%matplotlib inline\n",
    "matplotlib.rcParams['figure.figsize'] = (6, 4)\n",
    "from adjustText import adjust_text\n",
    "\n",
    "# from sklearn.decomposition import RandomizedPCA, PCA, TruncatedSVD\n",
    "# from sklearn.linear_model import LogisticRegression\n",
    "# from sklearn.manifold import TSNE\n",
    "# from sklearn.preprocessing import StandardScaler\n",
    "\n",
    "from IPython.core.interactiveshell import InteractiveShell\n",
    "InteractiveShell.ast_node_interactivity = \"all\""
   ]
  },
  {
   "cell_type": "markdown",
   "metadata": {
    "collapsed": true
   },
   "source": [
    "# produce list of amplied and deleted regions with oncogenes"
   ]
  },
  {
   "cell_type": "code",
   "execution_count": 264,
   "metadata": {},
   "outputs": [],
   "source": [
    "var = 'genes_in_wide_peak'\n",
    "var1 = '-log10tcga'\n",
    "var2 = '-log10htmcp'\n",
    "wkdir = '/projects/trans_scratch/validations/workspace/szong/Cervical/cnv/gatk_cnv/'"
   ]
  },
  {
   "cell_type": "code",
   "execution_count": 265,
   "metadata": {},
   "outputs": [
    {
     "data": {
      "text/html": [
       "<div>\n",
       "<style scoped>\n",
       "    .dataframe tbody tr th:only-of-type {\n",
       "        vertical-align: middle;\n",
       "    }\n",
       "\n",
       "    .dataframe tbody tr th {\n",
       "        vertical-align: top;\n",
       "    }\n",
       "\n",
       "    .dataframe thead th {\n",
       "        text-align: right;\n",
       "    }\n",
       "</style>\n",
       "<table border=\"1\" class=\"dataframe\">\n",
       "  <thead>\n",
       "    <tr style=\"text-align: right;\">\n",
       "      <th></th>\n",
       "      <th>0</th>\n",
       "    </tr>\n",
       "  </thead>\n",
       "  <tbody>\n",
       "    <tr>\n",
       "      <th>0</th>\n",
       "      <td>ABI1</td>\n",
       "    </tr>\n",
       "    <tr>\n",
       "      <th>1</th>\n",
       "      <td>ABI2</td>\n",
       "    </tr>\n",
       "    <tr>\n",
       "      <th>2</th>\n",
       "      <td>ABL1</td>\n",
       "    </tr>\n",
       "    <tr>\n",
       "      <th>3</th>\n",
       "      <td>ABL2</td>\n",
       "    </tr>\n",
       "    <tr>\n",
       "      <th>4</th>\n",
       "      <td>ACSL3</td>\n",
       "    </tr>\n",
       "  </tbody>\n",
       "</table>\n",
       "</div>"
      ],
      "text/plain": [
       "       0\n",
       "0   ABI1\n",
       "1   ABI2\n",
       "2   ABL1\n",
       "3   ABL2\n",
       "4  ACSL3"
      ]
     },
     "execution_count": 265,
     "metadata": {},
     "output_type": "execute_result"
    }
   ],
   "source": [
    "f1 = '/home/szong/projects/resource/oncogenes.and.tumor.suppressor.genes.txt'\n",
    "df_tg = pd.read_csv(f1, header=None)\n",
    "df_tg.head()\n",
    "\n",
    "tgs = df_tg[0].tolist()"
   ]
  },
  {
   "cell_type": "code",
   "execution_count": 266,
   "metadata": {
    "scrolled": true
   },
   "outputs": [],
   "source": [
    "def summarize_genes(inf, tgs):\n",
    "    df = pd.read_csv(inf, sep='\\t', header=None)#.replace('', 'None')\n",
    "#     print(df)\n",
    "    df.loc['genes',:] = df.apply(lambda x:  ','.join([i.strip() for i in set(x[~x.isnull()][4:]) if ('[' not in i)]))\n",
    "    df.loc['tg_genes',:] = df.apply(lambda x:  ','.join([m.strip() for m in set(x[~x.isnull()][4:]) if m in tgs]))\n",
    "\n",
    "\n",
    "    df1 = df.loc[[0,1,2,3,'genes', 'tg_genes'],:].T\n",
    "    df1['xxx'] = df1.genes.apply(lambda x: x.split(','))\n",
    "#     '' in the list when there is a blank in the original files, must have a better way to deal with this\n",
    "    df1['num_genes'] = df1['xxx'].apply(lambda x: len(x) if '' not in x else len(x)-1)\n",
    "    df1 = df1.drop('xxx', axis=1)\n",
    "    df1 = df1.drop(0)\n",
    "    df1 = df1[:-1]\n",
    "    df1.columns = ['cytoband', 'q_value', 'residual_q_value', 'wide_peak_boundary', 'genes_in_wide_peak','oncogenes','num_genes']\n",
    "#     df1['cancer_genes'] = df1.apply(lambda x: '({0}){1}'.format(x[4], x[5]), axis=1)\n",
    "    of = '{}.summary'.format(inf)\n",
    "    print('write summary for {}'.format(inf))\n",
    "    df1.to_csv(of, index=False, sep='\\t')\n",
    "    return df1"
   ]
  },
  {
   "cell_type": "markdown",
   "metadata": {},
   "source": [
    "# 1. TCGA cnv "
   ]
  },
  {
   "cell_type": "code",
   "execution_count": 280,
   "metadata": {},
   "outputs": [
    {
     "data": {
      "text/html": [
       "<div>\n",
       "<style scoped>\n",
       "    .dataframe tbody tr th:only-of-type {\n",
       "        vertical-align: middle;\n",
       "    }\n",
       "\n",
       "    .dataframe tbody tr th {\n",
       "        vertical-align: top;\n",
       "    }\n",
       "\n",
       "    .dataframe thead th {\n",
       "        text-align: right;\n",
       "    }\n",
       "</style>\n",
       "<table border=\"1\" class=\"dataframe\">\n",
       "  <thead>\n",
       "    <tr style=\"text-align: right;\">\n",
       "      <th></th>\n",
       "      <th>0</th>\n",
       "      <th>1</th>\n",
       "      <th>2</th>\n",
       "      <th>3</th>\n",
       "      <th>4</th>\n",
       "      <th>5</th>\n",
       "      <th>6</th>\n",
       "      <th>7</th>\n",
       "      <th>8</th>\n",
       "      <th>9</th>\n",
       "      <th>...</th>\n",
       "      <th>20</th>\n",
       "      <th>21</th>\n",
       "      <th>22</th>\n",
       "      <th>23</th>\n",
       "      <th>24</th>\n",
       "      <th>25</th>\n",
       "      <th>26</th>\n",
       "      <th>27</th>\n",
       "      <th>28</th>\n",
       "      <th>29</th>\n",
       "    </tr>\n",
       "  </thead>\n",
       "  <tbody>\n",
       "    <tr>\n",
       "      <th>0</th>\n",
       "      <td>cytoband</td>\n",
       "      <td>11q22.1</td>\n",
       "      <td>3q26.31</td>\n",
       "      <td>20q11.21</td>\n",
       "      <td>8q24.21</td>\n",
       "      <td>3q28</td>\n",
       "      <td>11q13.3</td>\n",
       "      <td>17q25.1</td>\n",
       "      <td>19q13.13</td>\n",
       "      <td>9p24.1</td>\n",
       "      <td>...</td>\n",
       "      <td>6q12</td>\n",
       "      <td>14q11.2</td>\n",
       "      <td>13q34</td>\n",
       "      <td>1p31.3</td>\n",
       "      <td>8p11.21</td>\n",
       "      <td>22q13.31</td>\n",
       "      <td>Xp22.11</td>\n",
       "      <td>11q13.2</td>\n",
       "      <td>2q32.3</td>\n",
       "      <td>19q13.32</td>\n",
       "    </tr>\n",
       "    <tr>\n",
       "      <th>1</th>\n",
       "      <td>q value</td>\n",
       "      <td>8.2231e-24</td>\n",
       "      <td>2.0738e-15</td>\n",
       "      <td>6.7744e-10</td>\n",
       "      <td>1.4874e-08</td>\n",
       "      <td>1.3329e-14</td>\n",
       "      <td>1.799e-07</td>\n",
       "      <td>9.4255e-05</td>\n",
       "      <td>2.6629e-05</td>\n",
       "      <td>0.00020757</td>\n",
       "      <td>...</td>\n",
       "      <td>0.10033</td>\n",
       "      <td>0.12486</td>\n",
       "      <td>0.10443</td>\n",
       "      <td>0.17237</td>\n",
       "      <td>0.22602</td>\n",
       "      <td>0.2308</td>\n",
       "      <td>0.23765</td>\n",
       "      <td>0.0005581</td>\n",
       "      <td>0.24581</td>\n",
       "      <td>1.1211e-05</td>\n",
       "    </tr>\n",
       "    <tr>\n",
       "      <th>2</th>\n",
       "      <td>residual q value</td>\n",
       "      <td>9.9276e-20</td>\n",
       "      <td>2.4074e-10</td>\n",
       "      <td>6.7744e-10</td>\n",
       "      <td>1.4874e-08</td>\n",
       "      <td>1.3817e-05</td>\n",
       "      <td>4.7655e-05</td>\n",
       "      <td>9.4255e-05</td>\n",
       "      <td>9.475e-05</td>\n",
       "      <td>0.00020757</td>\n",
       "      <td>...</td>\n",
       "      <td>0.10033</td>\n",
       "      <td>0.12486</td>\n",
       "      <td>0.14977</td>\n",
       "      <td>0.17237</td>\n",
       "      <td>0.22602</td>\n",
       "      <td>0.2308</td>\n",
       "      <td>0.23765</td>\n",
       "      <td>0.24448</td>\n",
       "      <td>0.24581</td>\n",
       "      <td>0.41875</td>\n",
       "    </tr>\n",
       "    <tr>\n",
       "      <th>3</th>\n",
       "      <td>wide peak boundaries</td>\n",
       "      <td>chr11:101586586-102266642</td>\n",
       "      <td>chr3:172084522-172254680</td>\n",
       "      <td>chr20:30204825-30356590</td>\n",
       "      <td>chr8:128754838-128766079</td>\n",
       "      <td>chr3:189630382-189664399</td>\n",
       "      <td>chr11:69512115-70747182</td>\n",
       "      <td>chr17:72723443-74083947</td>\n",
       "      <td>chr19:38370469-39622696</td>\n",
       "      <td>chr9:5302096-5565600</td>\n",
       "      <td>...</td>\n",
       "      <td>chr6:64272997-65262859</td>\n",
       "      <td>chr14:1-24231912</td>\n",
       "      <td>chr13:76561484-115169878</td>\n",
       "      <td>chr1:61416174-61987969</td>\n",
       "      <td>chr8:33665681-95556587</td>\n",
       "      <td>chr22:34873664-51304566</td>\n",
       "      <td>chrX:1-26768293</td>\n",
       "      <td>chr11:66739730-67775100</td>\n",
       "      <td>chr2:166293014-204085634</td>\n",
       "      <td>chr19:1-59128983</td>\n",
       "    </tr>\n",
       "    <tr>\n",
       "      <th>4</th>\n",
       "      <td>genes in wide peak</td>\n",
       "      <td>snoU13|ENSG00000239154.1</td>\n",
       "      <td>GHSR</td>\n",
       "      <td>BCL2L1</td>\n",
       "      <td>MYC</td>\n",
       "      <td>TP63</td>\n",
       "      <td>MIR3664</td>\n",
       "      <td>MYO15B</td>\n",
       "      <td>snoU13|ENSG00000251709.1</td>\n",
       "      <td>RLN1</td>\n",
       "      <td>...</td>\n",
       "      <td>PTP4A1</td>\n",
       "      <td>MIR208B</td>\n",
       "      <td>MIR548AR</td>\n",
       "      <td>NFIA</td>\n",
       "      <td>FSBP</td>\n",
       "      <td>ARSA</td>\n",
       "      <td>VENTXP1</td>\n",
       "      <td>FAM86C2P</td>\n",
       "      <td>SNORA1|ENSG00000202059.1</td>\n",
       "      <td>RN7SL525P</td>\n",
       "    </tr>\n",
       "  </tbody>\n",
       "</table>\n",
       "<p>5 rows × 30 columns</p>\n",
       "</div>"
      ],
      "text/plain": [
       "                     0                          1                         2   \\\n",
       "0              cytoband                    11q22.1                   3q26.31   \n",
       "1               q value                 8.2231e-24                2.0738e-15   \n",
       "2      residual q value                 9.9276e-20                2.4074e-10   \n",
       "3  wide peak boundaries  chr11:101586586-102266642  chr3:172084522-172254680   \n",
       "4    genes in wide peak   snoU13|ENSG00000239154.1                      GHSR   \n",
       "\n",
       "                        3                         4   \\\n",
       "0                 20q11.21                   8q24.21   \n",
       "1               6.7744e-10                1.4874e-08   \n",
       "2               6.7744e-10                1.4874e-08   \n",
       "3  chr20:30204825-30356590  chr8:128754838-128766079   \n",
       "4                   BCL2L1                       MYC   \n",
       "\n",
       "                         5                        6                        7   \\\n",
       "0                      3q28                  11q13.3                  17q25.1   \n",
       "1                1.3329e-14                1.799e-07               9.4255e-05   \n",
       "2                1.3817e-05               4.7655e-05               9.4255e-05   \n",
       "3  chr3:189630382-189664399  chr11:69512115-70747182  chr17:72723443-74083947   \n",
       "4                      TP63                  MIR3664                   MYO15B   \n",
       "\n",
       "                         8                     9         ...         \\\n",
       "0                  19q13.13                9p24.1        ...          \n",
       "1                2.6629e-05            0.00020757        ...          \n",
       "2                 9.475e-05            0.00020757        ...          \n",
       "3   chr19:38370469-39622696  chr9:5302096-5565600        ...          \n",
       "4  snoU13|ENSG00000251709.1                  RLN1        ...          \n",
       "\n",
       "                       20                21                        22  \\\n",
       "0                    6q12           14q11.2                     13q34   \n",
       "1                 0.10033           0.12486                   0.10443   \n",
       "2                 0.10033           0.12486                   0.14977   \n",
       "3  chr6:64272997-65262859  chr14:1-24231912  chr13:76561484-115169878   \n",
       "4                  PTP4A1           MIR208B                  MIR548AR   \n",
       "\n",
       "                       23                      24                       25  \\\n",
       "0                  1p31.3                 8p11.21                 22q13.31   \n",
       "1                 0.17237                 0.22602                   0.2308   \n",
       "2                 0.17237                 0.22602                   0.2308   \n",
       "3  chr1:61416174-61987969  chr8:33665681-95556587  chr22:34873664-51304566   \n",
       "4                    NFIA                    FSBP                     ARSA   \n",
       "\n",
       "                26                       27                        28  \\\n",
       "0          Xp22.11                  11q13.2                    2q32.3   \n",
       "1          0.23765                0.0005581                   0.24581   \n",
       "2          0.23765                  0.24448                   0.24581   \n",
       "3  chrX:1-26768293  chr11:66739730-67775100  chr2:166293014-204085634   \n",
       "4          VENTXP1                 FAM86C2P  SNORA1|ENSG00000202059.1   \n",
       "\n",
       "                 29  \n",
       "0          19q13.32  \n",
       "1        1.1211e-05  \n",
       "2           0.41875  \n",
       "3  chr19:1-59128983  \n",
       "4         RN7SL525P  \n",
       "\n",
       "[5 rows x 30 columns]"
      ]
     },
     "execution_count": 280,
     "metadata": {},
     "output_type": "execute_result"
    }
   ],
   "source": [
    "f = '/projects/trans_scratch/validations/workspace/szong/Cervical/tcga_cn/Table_Files_Revised_Manuscript2/Supplemental_Table_7-Amp_Del_Peaks.xlsx'\n",
    "df = pd.read_excel(f, sheet_name='All_amps', header=None)\n",
    "df = df.astype(str)\n",
    "df.head()"
   ]
  },
  {
   "cell_type": "code",
   "execution_count": 281,
   "metadata": {},
   "outputs": [
    {
     "data": {
      "text/html": [
       "<div>\n",
       "<style scoped>\n",
       "    .dataframe tbody tr th:only-of-type {\n",
       "        vertical-align: middle;\n",
       "    }\n",
       "\n",
       "    .dataframe tbody tr th {\n",
       "        vertical-align: top;\n",
       "    }\n",
       "\n",
       "    .dataframe thead th {\n",
       "        text-align: right;\n",
       "    }\n",
       "</style>\n",
       "<table border=\"1\" class=\"dataframe\">\n",
       "  <thead>\n",
       "    <tr style=\"text-align: right;\">\n",
       "      <th></th>\n",
       "      <th>cytoband</th>\n",
       "      <th>q_value</th>\n",
       "      <th>wide_peak_boundary</th>\n",
       "      <th>genes_in_wide_peak</th>\n",
       "    </tr>\n",
       "  </thead>\n",
       "  <tbody>\n",
       "    <tr>\n",
       "      <th>1</th>\n",
       "      <td>11q22.1</td>\n",
       "      <td>8.2231e-24</td>\n",
       "      <td>chr11:101586586-102266642</td>\n",
       "      <td>BIRC2,ANGPTL5,nan,BIRC3,snoU13|ENSG00000252679...</td>\n",
       "    </tr>\n",
       "    <tr>\n",
       "      <th>2</th>\n",
       "      <td>3q26.31</td>\n",
       "      <td>2.0738e-15</td>\n",
       "      <td>chr3:172084522-172254680</td>\n",
       "      <td>MECOM,TERC,nan,TNFSF10,GHSR,FNDC3B</td>\n",
       "    </tr>\n",
       "    <tr>\n",
       "      <th>3</th>\n",
       "      <td>20q11.21</td>\n",
       "      <td>6.7744e-10</td>\n",
       "      <td>chr20:30204825-30356590</td>\n",
       "      <td>COX4I2,TPX2,nan,BCL2L1</td>\n",
       "    </tr>\n",
       "    <tr>\n",
       "      <th>4</th>\n",
       "      <td>8q24.21</td>\n",
       "      <td>1.4874e-08</td>\n",
       "      <td>chr8:128754838-128766079</td>\n",
       "      <td>PVT1,MYC,nan</td>\n",
       "    </tr>\n",
       "    <tr>\n",
       "      <th>5</th>\n",
       "      <td>3q28</td>\n",
       "      <td>1.3329e-14</td>\n",
       "      <td>chr3:189630382-189664399</td>\n",
       "      <td>TP63,nan</td>\n",
       "    </tr>\n",
       "  </tbody>\n",
       "</table>\n",
       "</div>"
      ],
      "text/plain": [
       "   cytoband     q_value         wide_peak_boundary  \\\n",
       "1   11q22.1  8.2231e-24  chr11:101586586-102266642   \n",
       "2   3q26.31  2.0738e-15   chr3:172084522-172254680   \n",
       "3  20q11.21  6.7744e-10    chr20:30204825-30356590   \n",
       "4   8q24.21  1.4874e-08   chr8:128754838-128766079   \n",
       "5      3q28  1.3329e-14   chr3:189630382-189664399   \n",
       "\n",
       "                                  genes_in_wide_peak  \n",
       "1  BIRC2,ANGPTL5,nan,BIRC3,snoU13|ENSG00000252679...  \n",
       "2                 MECOM,TERC,nan,TNFSF10,GHSR,FNDC3B  \n",
       "3                             COX4I2,TPX2,nan,BCL2L1  \n",
       "4                                       PVT1,MYC,nan  \n",
       "5                                           TP63,nan  "
      ]
     },
     "execution_count": 281,
     "metadata": {},
     "output_type": "execute_result"
    }
   ],
   "source": [
    "df.loc['genes',:] = df.apply(lambda x:  ','.join([str(i).strip() for i in set(x[~x.isnull()][4:]) if ('[' not in i)]))\n",
    "df.loc['tg_genes',:] = df.apply(lambda x:  ','.join([m.strip() for m in set(x[~x.isnull()][4:]) if m in tgs]))\n",
    "\n",
    "\n",
    "df1 = df.loc[[0,1,2,3,'genes', 'tg_genes'],:].T\n",
    "df1['xxx'] = df1.genes.apply(lambda x: x.split(','))\n",
    "#     '' in the list when there is a blank in the original files, must have a better way to deal with this\n",
    "df1['num_genes'] = df1['xxx'].apply(lambda x: len(x) if '' not in x else len(x)-1)\n",
    "df1 = df1.drop('xxx', axis=1)\n",
    "df1 = df1.drop(0)\n",
    "df1 = df1[:-1]\n",
    "df1.columns = ['cytoband', 'q_value', 'residual_q_value', 'wide_peak_boundary', 'genes_in_wide_peak','oncogenes','num_genes']\n",
    "\n",
    "df1 = df1[['cytoband', 'q_value', 'wide_peak_boundary', 'genes_in_wide_peak']]\n",
    "df1.head()"
   ]
  },
  {
   "cell_type": "code",
   "execution_count": 282,
   "metadata": {},
   "outputs": [],
   "source": [
    "def split_string_into_rows(df1, var):\n",
    "\n",
    "    df2 = df1.set_index(df1.columns.drop(var,1).tolist())[var].str.split(',', expand=True).stack().reset_index().rename(columns={0:var}).loc[:, df1.columns]\n",
    "    return df2"
   ]
  },
  {
   "cell_type": "code",
   "execution_count": 283,
   "metadata": {},
   "outputs": [],
   "source": [
    "df2 = split_string_into_rows(df1, var)\n",
    "\n",
    "df_tcga_amp = df2[df2[var] != 'nan']"
   ]
  },
  {
   "cell_type": "code",
   "execution_count": 284,
   "metadata": {},
   "outputs": [
    {
     "data": {
      "text/html": [
       "<div>\n",
       "<style scoped>\n",
       "    .dataframe tbody tr th:only-of-type {\n",
       "        vertical-align: middle;\n",
       "    }\n",
       "\n",
       "    .dataframe tbody tr th {\n",
       "        vertical-align: top;\n",
       "    }\n",
       "\n",
       "    .dataframe thead th {\n",
       "        text-align: right;\n",
       "    }\n",
       "</style>\n",
       "<table border=\"1\" class=\"dataframe\">\n",
       "  <thead>\n",
       "    <tr style=\"text-align: right;\">\n",
       "      <th></th>\n",
       "      <th>cytoband</th>\n",
       "      <th>q_value</th>\n",
       "      <th>wide_peak_boundary</th>\n",
       "      <th>genes_in_wide_peak</th>\n",
       "    </tr>\n",
       "  </thead>\n",
       "  <tbody>\n",
       "    <tr>\n",
       "      <th>0</th>\n",
       "      <td>11q22.1</td>\n",
       "      <td>8.2231e-24</td>\n",
       "      <td>chr11:101586586-102266642</td>\n",
       "      <td>BIRC2</td>\n",
       "    </tr>\n",
       "    <tr>\n",
       "      <th>1</th>\n",
       "      <td>11q22.1</td>\n",
       "      <td>8.2231e-24</td>\n",
       "      <td>chr11:101586586-102266642</td>\n",
       "      <td>ANGPTL5</td>\n",
       "    </tr>\n",
       "    <tr>\n",
       "      <th>3</th>\n",
       "      <td>11q22.1</td>\n",
       "      <td>8.2231e-24</td>\n",
       "      <td>chr11:101586586-102266642</td>\n",
       "      <td>BIRC3</td>\n",
       "    </tr>\n",
       "    <tr>\n",
       "      <th>4</th>\n",
       "      <td>11q22.1</td>\n",
       "      <td>8.2231e-24</td>\n",
       "      <td>chr11:101586586-102266642</td>\n",
       "      <td>snoU13|ENSG00000252679.1</td>\n",
       "    </tr>\n",
       "    <tr>\n",
       "      <th>5</th>\n",
       "      <td>11q22.1</td>\n",
       "      <td>8.2231e-24</td>\n",
       "      <td>chr11:101586586-102266642</td>\n",
       "      <td>TRPC6</td>\n",
       "    </tr>\n",
       "  </tbody>\n",
       "</table>\n",
       "</div>"
      ],
      "text/plain": [
       "  cytoband     q_value         wide_peak_boundary        genes_in_wide_peak\n",
       "0  11q22.1  8.2231e-24  chr11:101586586-102266642                     BIRC2\n",
       "1  11q22.1  8.2231e-24  chr11:101586586-102266642                   ANGPTL5\n",
       "3  11q22.1  8.2231e-24  chr11:101586586-102266642                     BIRC3\n",
       "4  11q22.1  8.2231e-24  chr11:101586586-102266642  snoU13|ENSG00000252679.1\n",
       "5  11q22.1  8.2231e-24  chr11:101586586-102266642                     TRPC6"
      ]
     },
     "execution_count": 284,
     "metadata": {},
     "output_type": "execute_result"
    },
    {
     "data": {
      "text/plain": [
       "(2350, 4)"
      ]
     },
     "execution_count": 284,
     "metadata": {},
     "output_type": "execute_result"
    }
   ],
   "source": [
    "df_tcga_amp.head()\n",
    "df_tcga_amp.shape"
   ]
  },
  {
   "cell_type": "code",
   "execution_count": 285,
   "metadata": {},
   "outputs": [],
   "source": [
    "df_tcga_amp = df_tcga_amp.drop_duplicates(subset=[var])"
   ]
  },
  {
   "cell_type": "code",
   "execution_count": 286,
   "metadata": {},
   "outputs": [
    {
     "data": {
      "text/plain": [
       "(2350, 4)"
      ]
     },
     "execution_count": 286,
     "metadata": {},
     "output_type": "execute_result"
    }
   ],
   "source": [
    "df_tcga_amp.shape"
   ]
  },
  {
   "cell_type": "markdown",
   "metadata": {},
   "source": [
    "# 2. HTMCP results"
   ]
  },
  {
   "cell_type": "code",
   "execution_count": 287,
   "metadata": {},
   "outputs": [
    {
     "name": "stdout",
     "output_type": "stream",
     "text": [
      "write summary for /home/szong/bin/GISTIC_2_0_22/gatk_118_patients/amp_genes.conf_99.txt\n"
     ]
    }
   ],
   "source": [
    "# f = '/home/szong/bin/GISTIC_2_0_22/gatk_118_patients/del_genes.conf_99.txt'\n",
    "f = '/home/szong/bin/GISTIC_2_0_22/gatk_118_patients/amp_genes.conf_99.txt'\n",
    "df_htmcp1 = summarize_genes(f, tgs)"
   ]
  },
  {
   "cell_type": "code",
   "execution_count": 288,
   "metadata": {
    "scrolled": true
   },
   "outputs": [
    {
     "data": {
      "text/html": [
       "<div>\n",
       "<style scoped>\n",
       "    .dataframe tbody tr th:only-of-type {\n",
       "        vertical-align: middle;\n",
       "    }\n",
       "\n",
       "    .dataframe tbody tr th {\n",
       "        vertical-align: top;\n",
       "    }\n",
       "\n",
       "    .dataframe thead th {\n",
       "        text-align: right;\n",
       "    }\n",
       "</style>\n",
       "<table border=\"1\" class=\"dataframe\">\n",
       "  <thead>\n",
       "    <tr style=\"text-align: right;\">\n",
       "      <th></th>\n",
       "      <th>cytoband</th>\n",
       "      <th>q_value</th>\n",
       "      <th>residual_q_value</th>\n",
       "      <th>wide_peak_boundary</th>\n",
       "      <th>genes_in_wide_peak</th>\n",
       "      <th>oncogenes</th>\n",
       "      <th>num_genes</th>\n",
       "    </tr>\n",
       "  </thead>\n",
       "  <tbody>\n",
       "    <tr>\n",
       "      <th>1</th>\n",
       "      <td>1q22</td>\n",
       "      <td>4.1908e-32</td>\n",
       "      <td>8.4844e-28</td>\n",
       "      <td>chr1:155181002-155213123</td>\n",
       "      <td>GBA,GBAP1,MTX1</td>\n",
       "      <td></td>\n",
       "      <td>3</td>\n",
       "    </tr>\n",
       "    <tr>\n",
       "      <th>2</th>\n",
       "      <td>5p15.33</td>\n",
       "      <td>1.4318e-21</td>\n",
       "      <td>3.8102e-19</td>\n",
       "      <td>chr5:765002-776999</td>\n",
       "      <td></td>\n",
       "      <td></td>\n",
       "      <td>0</td>\n",
       "    </tr>\n",
       "    <tr>\n",
       "      <th>3</th>\n",
       "      <td>11q22.1</td>\n",
       "      <td>2.0542e-14</td>\n",
       "      <td>2.0542e-14</td>\n",
       "      <td>chr11:101742607-102370999</td>\n",
       "      <td>BIRC2,ANGPTL5,BIRC3,TMEM123,YAP1,KIAA1377,C11o...</td>\n",
       "      <td>BIRC3,YAP1</td>\n",
       "      <td>7</td>\n",
       "    </tr>\n",
       "    <tr>\n",
       "      <th>4</th>\n",
       "      <td>15q11.2</td>\n",
       "      <td>2.6307e-14</td>\n",
       "      <td>7.7724e-14</td>\n",
       "      <td>chr15:20445002-22297999</td>\n",
       "      <td>NF1P2,LOC727924,HERC2P3,GOLGA6L6,GOLGA8C,hsa-m...</td>\n",
       "      <td></td>\n",
       "      <td>13</td>\n",
       "    </tr>\n",
       "    <tr>\n",
       "      <th>5</th>\n",
       "      <td>3q29</td>\n",
       "      <td>6.4129e-14</td>\n",
       "      <td>2.4179e-11</td>\n",
       "      <td>chr3:195431002-195454999</td>\n",
       "      <td>MUC20</td>\n",
       "      <td></td>\n",
       "      <td>1</td>\n",
       "    </tr>\n",
       "  </tbody>\n",
       "</table>\n",
       "</div>"
      ],
      "text/plain": [
       "  cytoband     q_value residual_q_value         wide_peak_boundary  \\\n",
       "1     1q22  4.1908e-32       8.4844e-28   chr1:155181002-155213123   \n",
       "2  5p15.33  1.4318e-21       3.8102e-19         chr5:765002-776999   \n",
       "3  11q22.1  2.0542e-14       2.0542e-14  chr11:101742607-102370999   \n",
       "4  15q11.2  2.6307e-14       7.7724e-14    chr15:20445002-22297999   \n",
       "5     3q29  6.4129e-14       2.4179e-11   chr3:195431002-195454999   \n",
       "\n",
       "                                  genes_in_wide_peak   oncogenes  num_genes  \n",
       "1                                     GBA,GBAP1,MTX1                      3  \n",
       "2                                                                         0  \n",
       "3  BIRC2,ANGPTL5,BIRC3,TMEM123,YAP1,KIAA1377,C11o...  BIRC3,YAP1          7  \n",
       "4  NF1P2,LOC727924,HERC2P3,GOLGA6L6,GOLGA8C,hsa-m...                     13  \n",
       "5                                              MUC20                      1  "
      ]
     },
     "execution_count": 288,
     "metadata": {},
     "output_type": "execute_result"
    },
    {
     "data": {
      "text/plain": [
       "(53, 7)"
      ]
     },
     "execution_count": 288,
     "metadata": {},
     "output_type": "execute_result"
    }
   ],
   "source": [
    "df_htmcp1.head()\n",
    "df_htmcp1.shape"
   ]
  },
  {
   "cell_type": "code",
   "execution_count": 289,
   "metadata": {},
   "outputs": [],
   "source": [
    "df_htmcp2 = split_string_into_rows(df_htmcp1, var)\n",
    "\n",
    "df_htmcp_amp = df_htmcp2[df_htmcp2[var] != 'nan']"
   ]
  },
  {
   "cell_type": "code",
   "execution_count": 290,
   "metadata": {
    "scrolled": false
   },
   "outputs": [
    {
     "data": {
      "text/html": [
       "<div>\n",
       "<style scoped>\n",
       "    .dataframe tbody tr th:only-of-type {\n",
       "        vertical-align: middle;\n",
       "    }\n",
       "\n",
       "    .dataframe tbody tr th {\n",
       "        vertical-align: top;\n",
       "    }\n",
       "\n",
       "    .dataframe thead th {\n",
       "        text-align: right;\n",
       "    }\n",
       "</style>\n",
       "<table border=\"1\" class=\"dataframe\">\n",
       "  <thead>\n",
       "    <tr style=\"text-align: right;\">\n",
       "      <th></th>\n",
       "      <th>cytoband</th>\n",
       "      <th>q_value</th>\n",
       "      <th>residual_q_value</th>\n",
       "      <th>wide_peak_boundary</th>\n",
       "      <th>genes_in_wide_peak</th>\n",
       "      <th>oncogenes</th>\n",
       "      <th>num_genes</th>\n",
       "    </tr>\n",
       "  </thead>\n",
       "  <tbody>\n",
       "    <tr>\n",
       "      <th>0</th>\n",
       "      <td>1q22</td>\n",
       "      <td>4.1908e-32</td>\n",
       "      <td>8.4844e-28</td>\n",
       "      <td>chr1:155181002-155213123</td>\n",
       "      <td>GBA</td>\n",
       "      <td></td>\n",
       "      <td>3</td>\n",
       "    </tr>\n",
       "    <tr>\n",
       "      <th>1</th>\n",
       "      <td>1q22</td>\n",
       "      <td>4.1908e-32</td>\n",
       "      <td>8.4844e-28</td>\n",
       "      <td>chr1:155181002-155213123</td>\n",
       "      <td>GBAP1</td>\n",
       "      <td></td>\n",
       "      <td>3</td>\n",
       "    </tr>\n",
       "    <tr>\n",
       "      <th>2</th>\n",
       "      <td>1q22</td>\n",
       "      <td>4.1908e-32</td>\n",
       "      <td>8.4844e-28</td>\n",
       "      <td>chr1:155181002-155213123</td>\n",
       "      <td>MTX1</td>\n",
       "      <td></td>\n",
       "      <td>3</td>\n",
       "    </tr>\n",
       "    <tr>\n",
       "      <th>3</th>\n",
       "      <td>5p15.33</td>\n",
       "      <td>1.4318e-21</td>\n",
       "      <td>3.8102e-19</td>\n",
       "      <td>chr5:765002-776999</td>\n",
       "      <td></td>\n",
       "      <td></td>\n",
       "      <td>0</td>\n",
       "    </tr>\n",
       "    <tr>\n",
       "      <th>4</th>\n",
       "      <td>11q22.1</td>\n",
       "      <td>2.0542e-14</td>\n",
       "      <td>2.0542e-14</td>\n",
       "      <td>chr11:101742607-102370999</td>\n",
       "      <td>BIRC2</td>\n",
       "      <td>BIRC3,YAP1</td>\n",
       "      <td>7</td>\n",
       "    </tr>\n",
       "  </tbody>\n",
       "</table>\n",
       "</div>"
      ],
      "text/plain": [
       "  cytoband     q_value residual_q_value         wide_peak_boundary  \\\n",
       "0     1q22  4.1908e-32       8.4844e-28   chr1:155181002-155213123   \n",
       "1     1q22  4.1908e-32       8.4844e-28   chr1:155181002-155213123   \n",
       "2     1q22  4.1908e-32       8.4844e-28   chr1:155181002-155213123   \n",
       "3  5p15.33  1.4318e-21       3.8102e-19         chr5:765002-776999   \n",
       "4  11q22.1  2.0542e-14       2.0542e-14  chr11:101742607-102370999   \n",
       "\n",
       "  genes_in_wide_peak   oncogenes  num_genes  \n",
       "0                GBA                      3  \n",
       "1              GBAP1                      3  \n",
       "2               MTX1                      3  \n",
       "3                                         0  \n",
       "4              BIRC2  BIRC3,YAP1          7  "
      ]
     },
     "execution_count": 290,
     "metadata": {},
     "output_type": "execute_result"
    },
    {
     "data": {
      "text/plain": [
       "(769, 7)"
      ]
     },
     "execution_count": 290,
     "metadata": {},
     "output_type": "execute_result"
    }
   ],
   "source": [
    "df_htmcp_amp.head()\n",
    "df_htmcp_amp.shape"
   ]
  },
  {
   "cell_type": "code",
   "execution_count": 291,
   "metadata": {},
   "outputs": [],
   "source": [
    "df_htmcp_amp = df_htmcp_amp.drop_duplicates(subset=[var])"
   ]
  },
  {
   "cell_type": "code",
   "execution_count": 292,
   "metadata": {},
   "outputs": [],
   "source": [
    "cols = ['q_value', var]\n",
    "dft = df_tcga_amp[cols]\n",
    "dfh = df_htmcp_amp[cols]\n",
    "dfm = pd.merge(dft, dfh, left_on=var, right_on=var, how='outer').fillna(1)"
   ]
  },
  {
   "cell_type": "code",
   "execution_count": 293,
   "metadata": {},
   "outputs": [
    {
     "data": {
      "text/html": [
       "<div>\n",
       "<style scoped>\n",
       "    .dataframe tbody tr th:only-of-type {\n",
       "        vertical-align: middle;\n",
       "    }\n",
       "\n",
       "    .dataframe tbody tr th {\n",
       "        vertical-align: top;\n",
       "    }\n",
       "\n",
       "    .dataframe thead th {\n",
       "        text-align: right;\n",
       "    }\n",
       "</style>\n",
       "<table border=\"1\" class=\"dataframe\">\n",
       "  <thead>\n",
       "    <tr style=\"text-align: right;\">\n",
       "      <th></th>\n",
       "      <th>q_value_x</th>\n",
       "      <th>genes_in_wide_peak</th>\n",
       "      <th>q_value_y</th>\n",
       "    </tr>\n",
       "  </thead>\n",
       "  <tbody>\n",
       "    <tr>\n",
       "      <th>0</th>\n",
       "      <td>8.2231e-24</td>\n",
       "      <td>BIRC2</td>\n",
       "      <td>2.0542e-14</td>\n",
       "    </tr>\n",
       "    <tr>\n",
       "      <th>1</th>\n",
       "      <td>8.2231e-24</td>\n",
       "      <td>ANGPTL5</td>\n",
       "      <td>2.0542e-14</td>\n",
       "    </tr>\n",
       "    <tr>\n",
       "      <th>2</th>\n",
       "      <td>8.2231e-24</td>\n",
       "      <td>BIRC3</td>\n",
       "      <td>2.0542e-14</td>\n",
       "    </tr>\n",
       "    <tr>\n",
       "      <th>3</th>\n",
       "      <td>8.2231e-24</td>\n",
       "      <td>snoU13|ENSG00000252679.1</td>\n",
       "      <td>1</td>\n",
       "    </tr>\n",
       "    <tr>\n",
       "      <th>4</th>\n",
       "      <td>8.2231e-24</td>\n",
       "      <td>TRPC6</td>\n",
       "      <td>1</td>\n",
       "    </tr>\n",
       "  </tbody>\n",
       "</table>\n",
       "</div>"
      ],
      "text/plain": [
       "    q_value_x        genes_in_wide_peak   q_value_y\n",
       "0  8.2231e-24                     BIRC2  2.0542e-14\n",
       "1  8.2231e-24                   ANGPTL5  2.0542e-14\n",
       "2  8.2231e-24                     BIRC3  2.0542e-14\n",
       "3  8.2231e-24  snoU13|ENSG00000252679.1           1\n",
       "4  8.2231e-24                     TRPC6           1"
      ]
     },
     "execution_count": 293,
     "metadata": {},
     "output_type": "execute_result"
    },
    {
     "data": {
      "text/plain": [
       "(2911, 3)"
      ]
     },
     "execution_count": 293,
     "metadata": {},
     "output_type": "execute_result"
    }
   ],
   "source": [
    "dfm.head()\n",
    "dfm.shape"
   ]
  },
  {
   "cell_type": "code",
   "execution_count": 294,
   "metadata": {},
   "outputs": [],
   "source": [
    "# dfm[var].value_counts()"
   ]
  },
  {
   "cell_type": "code",
   "execution_count": 295,
   "metadata": {},
   "outputs": [],
   "source": [
    "dfm = dfm[dfm[var] != '']"
   ]
  },
  {
   "cell_type": "code",
   "execution_count": 296,
   "metadata": {},
   "outputs": [],
   "source": [
    "dfm = dfm[~dfm[var].str.contains('ENSG')]"
   ]
  },
  {
   "cell_type": "code",
   "execution_count": null,
   "metadata": {},
   "outputs": [],
   "source": []
  },
  {
   "cell_type": "code",
   "execution_count": null,
   "metadata": {},
   "outputs": [],
   "source": []
  },
  {
   "cell_type": "code",
   "execution_count": 297,
   "metadata": {},
   "outputs": [],
   "source": [
    "dfm = (dfm.set_index(var)).astype(float)"
   ]
  },
  {
   "cell_type": "code",
   "execution_count": 298,
   "metadata": {},
   "outputs": [],
   "source": [
    "dfm['-log10tcga'] = - np.log10(dfm['q_value_x'])\n",
    "dfm['-log10htmcp'] = - np.log10(dfm['q_value_y'])"
   ]
  },
  {
   "cell_type": "code",
   "execution_count": 299,
   "metadata": {},
   "outputs": [
    {
     "data": {
      "text/plain": [
       "count    2.775000e+03\n",
       "mean     3.037206e-01\n",
       "std      3.598614e-01\n",
       "min      8.223100e-24\n",
       "25%      7.572400e-02\n",
       "50%      2.260200e-01\n",
       "75%      2.458100e-01\n",
       "max      1.000000e+00\n",
       "Name: q_value_x, dtype: float64"
      ]
     },
     "execution_count": 299,
     "metadata": {},
     "output_type": "execute_result"
    }
   ],
   "source": [
    "dfm.q_value_x.describe()"
   ]
  },
  {
   "cell_type": "code",
   "execution_count": 300,
   "metadata": {},
   "outputs": [
    {
     "data": {
      "text/plain": [
       "2775"
      ]
     },
     "execution_count": 300,
     "metadata": {},
     "output_type": "execute_result"
    }
   ],
   "source": [
    "len(set(dfm.index.tolist()))"
   ]
  },
  {
   "cell_type": "code",
   "execution_count": 301,
   "metadata": {},
   "outputs": [],
   "source": [
    "# dfk = dfm.sort_values(var2, ascending=False)\n",
    "# dfk.drop_duplicates(keep='first')"
   ]
  },
  {
   "cell_type": "code",
   "execution_count": 302,
   "metadata": {},
   "outputs": [
    {
     "data": {
      "text/html": [
       "<div>\n",
       "<style scoped>\n",
       "    .dataframe tbody tr th:only-of-type {\n",
       "        vertical-align: middle;\n",
       "    }\n",
       "\n",
       "    .dataframe tbody tr th {\n",
       "        vertical-align: top;\n",
       "    }\n",
       "\n",
       "    .dataframe thead th {\n",
       "        text-align: right;\n",
       "    }\n",
       "</style>\n",
       "<table border=\"1\" class=\"dataframe\">\n",
       "  <thead>\n",
       "    <tr style=\"text-align: right;\">\n",
       "      <th></th>\n",
       "      <th>q_value_x</th>\n",
       "      <th>q_value_y</th>\n",
       "      <th>-log10tcga</th>\n",
       "      <th>-log10htmcp</th>\n",
       "    </tr>\n",
       "    <tr>\n",
       "      <th>genes_in_wide_peak</th>\n",
       "      <th></th>\n",
       "      <th></th>\n",
       "      <th></th>\n",
       "      <th></th>\n",
       "    </tr>\n",
       "  </thead>\n",
       "  <tbody>\n",
       "    <tr>\n",
       "      <th>BIRC2</th>\n",
       "      <td>8.223100e-24</td>\n",
       "      <td>2.054200e-14</td>\n",
       "      <td>23.084964</td>\n",
       "      <td>13.687357</td>\n",
       "    </tr>\n",
       "    <tr>\n",
       "      <th>ANGPTL5</th>\n",
       "      <td>8.223100e-24</td>\n",
       "      <td>2.054200e-14</td>\n",
       "      <td>23.084964</td>\n",
       "      <td>13.687357</td>\n",
       "    </tr>\n",
       "    <tr>\n",
       "      <th>BIRC3</th>\n",
       "      <td>8.223100e-24</td>\n",
       "      <td>2.054200e-14</td>\n",
       "      <td>23.084964</td>\n",
       "      <td>13.687357</td>\n",
       "    </tr>\n",
       "  </tbody>\n",
       "</table>\n",
       "</div>"
      ],
      "text/plain": [
       "                       q_value_x     q_value_y  -log10tcga  -log10htmcp\n",
       "genes_in_wide_peak                                                     \n",
       "BIRC2               8.223100e-24  2.054200e-14   23.084964    13.687357\n",
       "ANGPTL5             8.223100e-24  2.054200e-14   23.084964    13.687357\n",
       "BIRC3               8.223100e-24  2.054200e-14   23.084964    13.687357"
      ]
     },
     "execution_count": 302,
     "metadata": {},
     "output_type": "execute_result"
    },
    {
     "data": {
      "text/plain": [
       "(2775, 4)"
      ]
     },
     "execution_count": 302,
     "metadata": {},
     "output_type": "execute_result"
    }
   ],
   "source": [
    "dfm.head(3)\n",
    "dfm.shape"
   ]
  },
  {
   "cell_type": "code",
   "execution_count": 303,
   "metadata": {},
   "outputs": [
    {
     "data": {
      "text/plain": [
       "(2775, 4)"
      ]
     },
     "execution_count": 303,
     "metadata": {},
     "output_type": "execute_result"
    }
   ],
   "source": [
    "dfm.shape"
   ]
  },
  {
   "cell_type": "code",
   "execution_count": 304,
   "metadata": {},
   "outputs": [
    {
     "data": {
      "text/plain": [
       "143"
      ]
     },
     "execution_count": 304,
     "metadata": {},
     "output_type": "execute_result"
    }
   ],
   "source": [
    "len(text1)"
   ]
  },
  {
   "cell_type": "code",
   "execution_count": 323,
   "metadata": {},
   "outputs": [
    {
     "name": "stdout",
     "output_type": "stream",
     "text": [
      "GBAP1\n",
      "GBA\n",
      "MTX1\n",
      "GUSBP1\n",
      "ANGPTL5\n",
      "TMEM123\n",
      "BIRC2\n",
      "YAP1\n",
      "BIRC3\n",
      "C11orf70\n",
      "KIAA1377\n",
      "GOLGA6L6\n",
      "HERC2P3\n",
      "NF1P2\n",
      "GOLGA8C\n",
      "hsa-mir-3118-4\n",
      "LOC348120\n",
      "NBEAP1\n",
      "hsa-mir-3118-6\n",
      "CHEK2P2\n",
      "CXADRP2\n",
      "LOC646214\n",
      "POTEB\n",
      "LOC727924\n",
      "MUC20\n",
      "FAM66D\n",
      "OR4K2\n",
      "OR4K1\n",
      "OR4Q3\n",
      "OR4K5\n"
     ]
    }
   ],
   "source": [
    "for i in dfm.sort_values(var2, ascending=False).index.tolist()[:30]:\n",
    "    print(i)"
   ]
  },
  {
   "cell_type": "code",
   "execution_count": 308,
   "metadata": {},
   "outputs": [
    {
     "data": {
      "text/plain": [
       "189"
      ]
     },
     "execution_count": 308,
     "metadata": {},
     "output_type": "execute_result"
    },
    {
     "name": "stdout",
     "output_type": "stream",
     "text": [
      "BIRC2\n",
      "ANGPTL5\n",
      "BIRC3\n",
      "YAP1\n",
      "KIAA1377\n",
      "C11orf70\n",
      "COX4I2\n",
      "TPX2\n",
      "BCL2L1\n",
      "TP63\n",
      "APIP\n",
      "EHF\n",
      "MIR1343\n",
      "PDHX\n",
      "GBA\n",
      "GBAP1\n",
      "MTX1\n",
      "MIR4515\n",
      "AP3B2\n",
      "CRTC3\n",
      "HDGFRP3\n",
      "FAM174B\n",
      "BLM\n",
      "UBE2Q2P3\n",
      "ANPEP\n",
      "MEF2A\n",
      "SV2B\n",
      "SEMA4B\n",
      "CHSY1\n",
      "MIR3175\n",
      "HAPLN3\n",
      "MCTP2\n",
      "LRRC28\n",
      "AEN\n",
      "TTLL13\n",
      "RHCG\n",
      "HDDC3\n",
      "PRC1\n",
      "SNRPA1\n",
      "PGPEP1L\n",
      "MIR1276\n",
      "UBE2Q2P2\n",
      "ZNF710\n",
      "WDR93\n",
      "HOMER2\n",
      "MESP2\n",
      "FAM169B\n",
      "ABHD2\n",
      "LINS\n",
      "NGRN\n",
      "PCSK6\n",
      "DDX11L9\n",
      "MAN2A2\n",
      "SLC28A1\n",
      "RPS17\n",
      "BNC1\n",
      "ARRDC4\n",
      "TM6SF1\n",
      "FSD2\n",
      "ALDH1A3\n",
      "LRRK1\n",
      "C15orf32\n",
      "PLIN1\n",
      "LINC00052\n",
      "GOLGA6L5\n",
      "TM2D3\n",
      "SEC11A\n",
      "IGF1R\n",
      "DNM1P46\n",
      "RGMA\n",
      "ADAMTSL3\n",
      "KIF7\n",
      "AP3S2\n",
      "UBE2Q2P1\n",
      "NR2F2\n",
      "FAM138E\n",
      "KLHL25\n",
      "FAM103A1\n",
      "CIB1\n",
      "MESP1\n",
      "GABARAPL3\n",
      "ASB7\n",
      "OR4F4\n",
      "OR4F15\n",
      "RLBP1\n",
      "FES\n",
      "IDH2\n",
      "C15orf38\n",
      "VPS33B\n",
      "CPEB1\n",
      "WDR73\n",
      "TARSL2\n",
      "CERS3\n",
      "MIR1469\n",
      "FURIN\n",
      "SPATA8\n",
      "PDE8A\n",
      "RCCD1\n",
      "SLCO3A1\n",
      "AGBL1\n",
      "MRPS11\n",
      "FANCI\n",
      "WASH3P\n",
      "SYNM\n",
      "ZNF592\n",
      "NMB\n",
      "ISG20\n",
      "FAM154B\n",
      "DET1\n",
      "IQGAP1\n",
      "C15orf40\n",
      "WHAMM\n",
      "MFGE8\n",
      "EFTUD1\n",
      "BTBD1\n",
      "UNC45A\n",
      "ADAMTS17\n",
      "LYSMD4\n",
      "RPS17L\n",
      "NTRK3\n",
      "CHD2\n",
      "ALPK3\n",
      "MRPL46\n",
      "ZNF774\n",
      "SH3GL3\n",
      "MIR4714\n",
      "AKAP13\n",
      "MIR1179\n",
      "OR4F6\n",
      "ACAN\n",
      "ZSCAN2\n",
      "ST8SIA2\n",
      "PEX11A\n",
      "POLG\n",
      "TTC23\n",
      "OR4K5\n",
      "OR4M1\n",
      "OR4Q3\n",
      "OR4K1\n",
      "OR4K2\n",
      "OR4N2\n",
      "NFIA\n",
      "RRP7A\n",
      "SERHL\n",
      "SERHL2\n",
      "HOXD11\n",
      "TTC30B\n",
      "NFE2L2\n",
      "SESTD1\n",
      "HOXD12\n",
      "MIR3128\n",
      "MIR10B\n",
      "PRKRA\n",
      "EVX2\n",
      "OSBPL6\n",
      "HOXD10\n",
      "SP3\n",
      "WIPF1\n",
      "CHRNA1\n",
      "ZNF385B\n",
      "CIR1\n",
      "FKBP7\n",
      "MIR933\n",
      "MTX2\n",
      "RBM45\n",
      "HOXD1\n",
      "HOXD13\n",
      "HOXD4\n",
      "DFNB59\n",
      "MIR1258\n",
      "PDE11A\n",
      "HNRNPA3\n",
      "CHN1\n",
      "PLEKHA3\n",
      "HOXD9\n",
      "KIAA1715\n",
      "SCRN3\n",
      "TTC30A\n",
      "CCDC141\n",
      "AGPS\n",
      "TTN\n",
      "GPR155\n",
      "SP9\n",
      "OLA1\n",
      "ATF2\n",
      "ATP5G3\n",
      "HOXD3\n",
      "HOXD8\n",
      "CWC22\n"
     ]
    }
   ],
   "source": [
    "\n",
    "len(set(dfm[(dfm[var1]>0.1)&(dfm[var2]>0.1)].index.tolist()))\n",
    "for i in dfm[(dfm[var1]>0.1)&(dfm[var2]>0.1)].index.tolist():\n",
    "    print(i)"
   ]
  },
  {
   "cell_type": "code",
   "execution_count": 345,
   "metadata": {},
   "outputs": [
    {
     "data": {
      "text/html": [
       "<div>\n",
       "<style scoped>\n",
       "    .dataframe tbody tr th:only-of-type {\n",
       "        vertical-align: middle;\n",
       "    }\n",
       "\n",
       "    .dataframe tbody tr th {\n",
       "        vertical-align: top;\n",
       "    }\n",
       "\n",
       "    .dataframe thead th {\n",
       "        text-align: right;\n",
       "    }\n",
       "</style>\n",
       "<table border=\"1\" class=\"dataframe\">\n",
       "  <thead>\n",
       "    <tr style=\"text-align: right;\">\n",
       "      <th></th>\n",
       "      <th>q_value_x</th>\n",
       "      <th>q_value_y</th>\n",
       "      <th>-log10tcga</th>\n",
       "      <th>-log10htmcp</th>\n",
       "    </tr>\n",
       "    <tr>\n",
       "      <th>genes_in_wide_peak</th>\n",
       "      <th></th>\n",
       "      <th></th>\n",
       "      <th></th>\n",
       "      <th></th>\n",
       "    </tr>\n",
       "  </thead>\n",
       "  <tbody>\n",
       "    <tr>\n",
       "      <th>BIRC2</th>\n",
       "      <td>8.223100e-24</td>\n",
       "      <td>2.054200e-14</td>\n",
       "      <td>23.084964</td>\n",
       "      <td>13.687357</td>\n",
       "    </tr>\n",
       "    <tr>\n",
       "      <th>ANGPTL5</th>\n",
       "      <td>8.223100e-24</td>\n",
       "      <td>2.054200e-14</td>\n",
       "      <td>23.084964</td>\n",
       "      <td>13.687357</td>\n",
       "    </tr>\n",
       "  </tbody>\n",
       "</table>\n",
       "</div>"
      ],
      "text/plain": [
       "                       q_value_x     q_value_y  -log10tcga  -log10htmcp\n",
       "genes_in_wide_peak                                                     \n",
       "BIRC2               8.223100e-24  2.054200e-14   23.084964    13.687357\n",
       "ANGPTL5             8.223100e-24  2.054200e-14   23.084964    13.687357"
      ]
     },
     "execution_count": 345,
     "metadata": {},
     "output_type": "execute_result"
    },
    {
     "data": {
      "text/plain": [
       "(32, 4)"
      ]
     },
     "execution_count": 345,
     "metadata": {},
     "output_type": "execute_result"
    },
    {
     "data": {
      "text/plain": [
       "['BIRC2',\n",
       " 'ANGPTL5',\n",
       " 'BIRC3',\n",
       " 'YAP1',\n",
       " 'KIAA1377',\n",
       " 'C11orf70',\n",
       " 'TP63',\n",
       " 'GBA',\n",
       " 'GBAP1',\n",
       " 'MTX1']"
      ]
     },
     "execution_count": 345,
     "metadata": {},
     "output_type": "execute_result"
    },
    {
     "data": {
      "text/html": [
       "<div>\n",
       "<style scoped>\n",
       "    .dataframe tbody tr th:only-of-type {\n",
       "        vertical-align: middle;\n",
       "    }\n",
       "\n",
       "    .dataframe tbody tr th {\n",
       "        vertical-align: top;\n",
       "    }\n",
       "\n",
       "    .dataframe thead th {\n",
       "        text-align: right;\n",
       "    }\n",
       "</style>\n",
       "<table border=\"1\" class=\"dataframe\">\n",
       "  <thead>\n",
       "    <tr style=\"text-align: right;\">\n",
       "      <th></th>\n",
       "      <th>q_value_x</th>\n",
       "      <th>q_value_y</th>\n",
       "      <th>-log10tcga</th>\n",
       "      <th>-log10htmcp</th>\n",
       "    </tr>\n",
       "    <tr>\n",
       "      <th>genes_in_wide_peak</th>\n",
       "      <th></th>\n",
       "      <th></th>\n",
       "      <th></th>\n",
       "      <th></th>\n",
       "    </tr>\n",
       "  </thead>\n",
       "  <tbody>\n",
       "    <tr>\n",
       "      <th>TRPC6</th>\n",
       "      <td>8.223100e-24</td>\n",
       "      <td>1.000000e+00</td>\n",
       "      <td>23.084964</td>\n",
       "      <td>-0.000000</td>\n",
       "    </tr>\n",
       "    <tr>\n",
       "      <th>MECOM</th>\n",
       "      <td>2.073800e-15</td>\n",
       "      <td>1.000000e+00</td>\n",
       "      <td>14.683233</td>\n",
       "      <td>-0.000000</td>\n",
       "    </tr>\n",
       "    <tr>\n",
       "      <th>TERC</th>\n",
       "      <td>2.073800e-15</td>\n",
       "      <td>1.000000e+00</td>\n",
       "      <td>14.683233</td>\n",
       "      <td>-0.000000</td>\n",
       "    </tr>\n",
       "    <tr>\n",
       "      <th>TNFSF10</th>\n",
       "      <td>2.073800e-15</td>\n",
       "      <td>1.000000e+00</td>\n",
       "      <td>14.683233</td>\n",
       "      <td>-0.000000</td>\n",
       "    </tr>\n",
       "    <tr>\n",
       "      <th>GHSR</th>\n",
       "      <td>2.073800e-15</td>\n",
       "      <td>1.000000e+00</td>\n",
       "      <td>14.683233</td>\n",
       "      <td>-0.000000</td>\n",
       "    </tr>\n",
       "    <tr>\n",
       "      <th>FNDC3B</th>\n",
       "      <td>2.073800e-15</td>\n",
       "      <td>1.000000e+00</td>\n",
       "      <td>14.683233</td>\n",
       "      <td>-0.000000</td>\n",
       "    </tr>\n",
       "    <tr>\n",
       "      <th>TMEM123</th>\n",
       "      <td>1.000000e+00</td>\n",
       "      <td>2.054200e-14</td>\n",
       "      <td>-0.000000</td>\n",
       "      <td>13.687357</td>\n",
       "    </tr>\n",
       "    <tr>\n",
       "      <th>NF1P2</th>\n",
       "      <td>1.000000e+00</td>\n",
       "      <td>2.630700e-14</td>\n",
       "      <td>-0.000000</td>\n",
       "      <td>13.579929</td>\n",
       "    </tr>\n",
       "    <tr>\n",
       "      <th>LOC727924</th>\n",
       "      <td>1.000000e+00</td>\n",
       "      <td>2.630700e-14</td>\n",
       "      <td>-0.000000</td>\n",
       "      <td>13.579929</td>\n",
       "    </tr>\n",
       "    <tr>\n",
       "      <th>HERC2P3</th>\n",
       "      <td>1.000000e+00</td>\n",
       "      <td>2.630700e-14</td>\n",
       "      <td>-0.000000</td>\n",
       "      <td>13.579929</td>\n",
       "    </tr>\n",
       "    <tr>\n",
       "      <th>GOLGA6L6</th>\n",
       "      <td>1.000000e+00</td>\n",
       "      <td>2.630700e-14</td>\n",
       "      <td>-0.000000</td>\n",
       "      <td>13.579929</td>\n",
       "    </tr>\n",
       "    <tr>\n",
       "      <th>GOLGA8C</th>\n",
       "      <td>1.000000e+00</td>\n",
       "      <td>2.630700e-14</td>\n",
       "      <td>-0.000000</td>\n",
       "      <td>13.579929</td>\n",
       "    </tr>\n",
       "    <tr>\n",
       "      <th>hsa-mir-3118-4</th>\n",
       "      <td>1.000000e+00</td>\n",
       "      <td>2.630700e-14</td>\n",
       "      <td>-0.000000</td>\n",
       "      <td>13.579929</td>\n",
       "    </tr>\n",
       "    <tr>\n",
       "      <th>LOC348120</th>\n",
       "      <td>1.000000e+00</td>\n",
       "      <td>2.630700e-14</td>\n",
       "      <td>-0.000000</td>\n",
       "      <td>13.579929</td>\n",
       "    </tr>\n",
       "    <tr>\n",
       "      <th>NBEAP1</th>\n",
       "      <td>1.000000e+00</td>\n",
       "      <td>2.630700e-14</td>\n",
       "      <td>-0.000000</td>\n",
       "      <td>13.579929</td>\n",
       "    </tr>\n",
       "    <tr>\n",
       "      <th>hsa-mir-3118-6</th>\n",
       "      <td>1.000000e+00</td>\n",
       "      <td>2.630700e-14</td>\n",
       "      <td>-0.000000</td>\n",
       "      <td>13.579929</td>\n",
       "    </tr>\n",
       "    <tr>\n",
       "      <th>CHEK2P2</th>\n",
       "      <td>1.000000e+00</td>\n",
       "      <td>2.630700e-14</td>\n",
       "      <td>-0.000000</td>\n",
       "      <td>13.579929</td>\n",
       "    </tr>\n",
       "    <tr>\n",
       "      <th>CXADRP2</th>\n",
       "      <td>1.000000e+00</td>\n",
       "      <td>2.630700e-14</td>\n",
       "      <td>-0.000000</td>\n",
       "      <td>13.579929</td>\n",
       "    </tr>\n",
       "    <tr>\n",
       "      <th>LOC646214</th>\n",
       "      <td>1.000000e+00</td>\n",
       "      <td>2.630700e-14</td>\n",
       "      <td>-0.000000</td>\n",
       "      <td>13.579929</td>\n",
       "    </tr>\n",
       "    <tr>\n",
       "      <th>POTEB</th>\n",
       "      <td>1.000000e+00</td>\n",
       "      <td>2.630700e-14</td>\n",
       "      <td>-0.000000</td>\n",
       "      <td>13.579929</td>\n",
       "    </tr>\n",
       "    <tr>\n",
       "      <th>MUC20</th>\n",
       "      <td>1.000000e+00</td>\n",
       "      <td>6.412900e-14</td>\n",
       "      <td>-0.000000</td>\n",
       "      <td>13.192946</td>\n",
       "    </tr>\n",
       "    <tr>\n",
       "      <th>GUSBP1</th>\n",
       "      <td>1.000000e+00</td>\n",
       "      <td>3.965300e-16</td>\n",
       "      <td>-0.000000</td>\n",
       "      <td>15.401724</td>\n",
       "    </tr>\n",
       "  </tbody>\n",
       "</table>\n",
       "</div>"
      ],
      "text/plain": [
       "                       q_value_x     q_value_y  -log10tcga  -log10htmcp\n",
       "genes_in_wide_peak                                                     \n",
       "TRPC6               8.223100e-24  1.000000e+00   23.084964    -0.000000\n",
       "MECOM               2.073800e-15  1.000000e+00   14.683233    -0.000000\n",
       "TERC                2.073800e-15  1.000000e+00   14.683233    -0.000000\n",
       "TNFSF10             2.073800e-15  1.000000e+00   14.683233    -0.000000\n",
       "GHSR                2.073800e-15  1.000000e+00   14.683233    -0.000000\n",
       "FNDC3B              2.073800e-15  1.000000e+00   14.683233    -0.000000\n",
       "TMEM123             1.000000e+00  2.054200e-14   -0.000000    13.687357\n",
       "NF1P2               1.000000e+00  2.630700e-14   -0.000000    13.579929\n",
       "LOC727924           1.000000e+00  2.630700e-14   -0.000000    13.579929\n",
       "HERC2P3             1.000000e+00  2.630700e-14   -0.000000    13.579929\n",
       "GOLGA6L6            1.000000e+00  2.630700e-14   -0.000000    13.579929\n",
       "GOLGA8C             1.000000e+00  2.630700e-14   -0.000000    13.579929\n",
       "hsa-mir-3118-4      1.000000e+00  2.630700e-14   -0.000000    13.579929\n",
       "LOC348120           1.000000e+00  2.630700e-14   -0.000000    13.579929\n",
       "NBEAP1              1.000000e+00  2.630700e-14   -0.000000    13.579929\n",
       "hsa-mir-3118-6      1.000000e+00  2.630700e-14   -0.000000    13.579929\n",
       "CHEK2P2             1.000000e+00  2.630700e-14   -0.000000    13.579929\n",
       "CXADRP2             1.000000e+00  2.630700e-14   -0.000000    13.579929\n",
       "LOC646214           1.000000e+00  2.630700e-14   -0.000000    13.579929\n",
       "POTEB               1.000000e+00  2.630700e-14   -0.000000    13.579929\n",
       "MUC20               1.000000e+00  6.412900e-14   -0.000000    13.192946\n",
       "GUSBP1              1.000000e+00  3.965300e-16   -0.000000    15.401724"
      ]
     },
     "execution_count": 345,
     "metadata": {},
     "output_type": "execute_result"
    }
   ],
   "source": [
    "dfm.head(2)\n",
    "dfn = dfm[(dfm[var1] > 1)&(dfm[var2] > 1)]\n",
    "ix= dfn.index\n",
    "dfn2 = dfm[(dfm[var1] > 10)|(dfm[var2] > 10)]\n",
    "dfn2.shape\n",
    "ix2 = dfn2.index\n",
    "to_drop = [i for i in ix2 if i in ix]\n",
    "to_drop\n",
    "ix3 = dfn2.index.drop(to_drop)\n",
    "dfn2.loc[ix3,]\n",
    "# dfn2.drop()"
   ]
  },
  {
   "cell_type": "code",
   "execution_count": 348,
   "metadata": {},
   "outputs": [
    {
     "data": {
      "text/plain": [
       "<matplotlib.axes._subplots.AxesSubplot at 0x7f4ab5637940>"
      ]
     },
     "execution_count": 348,
     "metadata": {},
     "output_type": "execute_result"
    },
    {
     "data": {
      "text/plain": [
       "39"
      ]
     },
     "execution_count": 348,
     "metadata": {},
     "output_type": "execute_result"
    },
    {
     "data": {
      "text/plain": [
       "['BIRC2',\n",
       " 'ANGPTL5',\n",
       " 'BIRC3',\n",
       " 'YAP1',\n",
       " 'KIAA1377',\n",
       " 'C11orf70',\n",
       " 'TP63',\n",
       " 'GBA',\n",
       " 'GBAP1',\n",
       " 'MTX1']"
      ]
     },
     "execution_count": 348,
     "metadata": {},
     "output_type": "execute_result"
    },
    {
     "data": {
      "text/plain": [
       "133"
      ]
     },
     "execution_count": 348,
     "metadata": {},
     "output_type": "execute_result"
    },
    {
     "name": "stdout",
     "output_type": "stream",
     "text": [
      "CPU times: user 1.24 s, sys: 92 ms, total: 1.33 s\n",
      "Wall time: 1.37 s\n"
     ]
    },
    {
     "data": {
      "image/png": "[encoded data removed]",
      "text/plain": [
       "<Figure size 864x864 with 1 Axes>"
      ]
     },
     "metadata": {},
     "output_type": "display_data"
    }
   ],
   "source": [
    "\n",
    "dfm=dfm.fillna(1)\n",
    "dfm.rename(index={'MLL2':'KMT2D'}, inplace=True)\n",
    "dfm.plot.scatter(var1, var2, figsize=(12,12)) #, xlim=(-2, 40), ylim=(-2, 40))\n",
    "# plt.hlines(1, 0, 50, colors='r', linestyles='dashed')\n",
    "# plt.vlines(1, 0, 12, colors='r', linestyles='dashed')\n",
    "# plt.ylabel('-log10(q)', fontsize=10)\n",
    "dfn = dfm[(dfm[var1] > 1)&(dfm[var2] > 1)]\n",
    "# dfn = dfm[(dfm[var1] > .6)&(dfm[var2] > .6)|(dfm[var1] > 10)|(dfm[var2] > 20)]\n",
    "text1 = [plt.text(a, b, c, color='red') for a, b, c in zip(dfn[var1], dfn[var2], dfn.index)]\n",
    "adjust_text(text1)\n",
    "\n",
    "\n",
    "ix= dfn.index\n",
    "\n",
    "\n",
    "\n",
    "\n",
    "\n",
    "dfn2 = dfm[(dfm[var1] > 10)|(dfm[var2] > 10)]\n",
    "\n",
    "# texts = text1+text2\n",
    "ix2 = dfn2.index\n",
    "to_drop = [i for i in ix2 if i in ix]\n",
    "to_drop\n",
    "ix3 = dfn2.index.drop(to_drop)\n",
    "dfn3 = dfn2.loc[ix3,]\n",
    "# text3 = [i for i in text2 if i not in text1]\n",
    "text3 = [plt.text(a, b, c, color='blue') for a, b, c in zip(dfn3[var1], dfn3[var2], dfn3.index)]\n",
    "adjust_text(text3)\n",
    "\n",
    "of = f'{wkdir}htmcp_tcga_shared_uniq_amp_genes.png'\n",
    "%time plt.savefig(of, bbox_inches='tight',dpi=200)\n",
    "plt.show()"
   ]
  },
  {
   "cell_type": "code",
   "execution_count": 310,
   "metadata": {},
   "outputs": [],
   "source": [
    "dfamp = dfm.copy()"
   ]
  },
  {
   "cell_type": "code",
   "execution_count": null,
   "metadata": {},
   "outputs": [],
   "source": []
  },
  {
   "cell_type": "code",
   "execution_count": null,
   "metadata": {},
   "outputs": [],
   "source": []
  },
  {
   "cell_type": "code",
   "execution_count": null,
   "metadata": {},
   "outputs": [],
   "source": []
  },
  {
   "cell_type": "code",
   "execution_count": null,
   "metadata": {},
   "outputs": [],
   "source": []
  },
  {
   "cell_type": "code",
   "execution_count": null,
   "metadata": {},
   "outputs": [],
   "source": []
  },
  {
   "cell_type": "code",
   "execution_count": 487,
   "metadata": {},
   "outputs": [
    {
     "name": "stdout",
     "output_type": "stream",
     "text": [
      "write summary for /projects/trans_scratch/validations/workspace/szong/Cervical/cnv/124_patient_adj_hiv_pos/del_genes.conf_99.txt\n",
      "write summary for /projects/trans_scratch/validations/workspace/szong/Cervical/cnv/124_patient_adj_hiv_pos/amp_genes.conf_99.txt\n"
     ]
    }
   ],
   "source": [
    "# files = ['/home/szong/bin/GISTIC_2_0_22/124_patient_adj_hiv_pos/del_genes.conf_99.txt', \n",
    "#          '/home/szong/bin/GISTIC_2_0_22/124_patient_adj_hiv_pos/amp_genes.conf_99.txt'] \n",
    "# files = ['/home/szong/bin/GISTIC_2_0_22/124_patient_adj_3k_0.1_1Mb/del_genes.conf_99.txt',\n",
    "#          '/home/szong/bin/GISTIC_2_0_22/124_patient_adj_3k_0.1_1Mb/amp_genes.conf_99.txt']\n",
    "files = ['/projects/trans_scratch/validations/workspace/szong/Cervical/cnv/124_patient_adj_hiv_pos/del_genes.conf_99.txt',\n",
    "#         '/projects/trans_scratch/validations/workspace/szong/Cervical/cnv/124_patient_adj_hiv_pos/amp_genes.conf_99.txt']\n",
    "for inf in files:\n",
    "    df1 = summarize_genes(inf, tgs)"
   ]
  },
  {
   "cell_type": "code",
   "execution_count": 488,
   "metadata": {},
   "outputs": [
    {
     "name": "stdout",
     "output_type": "stream",
     "text": [
      "write summary for /projects/trans_scratch/validations/workspace/szong/Cervical/cnv/124_patient_adj_hiv_neg/del_genes.conf_99.txt\n",
      "write summary for /projects/trans_scratch/validations/workspace/szong/Cervical/cnv/124_patient_adj_hiv_neg/amp_genes.conf_99.txt\n"
     ]
    }
   ],
   "source": [
    "# files = ['/home/szong/bin/GISTIC_2_0_22/124_patient_adj_hiv_neg/del_genes.conf_99.txt', \n",
    "#          '/home/szong/bin/GISTIC_2_0_22/124_patient_adj_hiv_neg/amp_genes.conf_99.txt'] \n",
    "# files = ['/home/szong/bin/GISTIC_2_0_22/124_patient_adj_3k_0.1_1Mb/del_genes.conf_99.txt', \n",
    "# '/home/szong/bin/GISTIC_2_0_22/124_patient_adj_3k_0.1_1Mb/amp_genes.conf_99.txt']\n",
    "files = ['/projects/trans_scratch/validations/workspace/szong/Cervical/cnv/124_patient_adj_hiv_neg/del_genes.conf_99.txt',\n",
    "        '/projects/trans_scratch/validations/workspace/szong/Cervical/cnv/124_patient_adj_hiv_neg/amp_genes.conf_99.txt']\n",
    "\n",
    "for inf in files:\n",
    "    df1 = summarize_genes(inf, tgs)"
   ]
  },
  {
   "cell_type": "code",
   "execution_count": 489,
   "metadata": {},
   "outputs": [],
   "source": [
    "%%bash\n",
    "cd /projects/trans_scratch/validations/workspace/szong/Cervical/cnv/124_patient_adj_hiv_pos\n",
    "cat del_genes.conf_99.txt.summary |awk -F \":\" '{print $1\"\\t\"$2}'|sed 's/chr//g'|sort -k4n> del_genes.conf_99.txt.summary.sorted\n",
    "cat amp_genes.conf_99.txt.summary |awk -F \":\" '{print $1\"\\t\"$2}'|sed 's/chr//g'|sort -k4n> amp_genes.conf_99.txt.summary.sorted\n",
    "\n",
    "cd /projects/trans_scratch/validations/workspace/szong/Cervical/cnv/124_patient_adj_hiv_neg\n",
    "cat del_genes.conf_99.txt.summary |awk -F \":\" '{print $1\"\\t\"$2}'|sed 's/chr//g'|sort -k4n> del_genes.conf_99.txt.summary.sorted\n",
    "cat amp_genes.conf_99.txt.summary |awk -F \":\" '{print $1\"\\t\"$2}'|sed 's/chr//g'|sort -k4n> amp_genes.conf_99.txt.summary.sorted"
   ]
  },
  {
   "cell_type": "code",
   "execution_count": 192,
   "metadata": {},
   "outputs": [],
   "source": [
    "def get_qvalue_cytoband(f):\n",
    "    df = pd.read_csv(f, sep='\\t')\n",
    "    df['gene'] = df['oncogenes'].apply(lambda x: x.split(')')[1])\n",
    "    df = df[['q value','cytoband', 'gene']]\n",
    "    df = df[df.gene != '']\n",
    "    s = df[\"gene\"].str.split(',', expand=True).stack()\n",
    "    i = s.index.get_level_values(0)\n",
    "    df2 = df.loc[i].copy()\n",
    "    df2[\"gene\"] = s.values\n",
    "    return df2"
   ]
  },
  {
   "cell_type": "code",
   "execution_count": 272,
   "metadata": {},
   "outputs": [],
   "source": [
    "def map_two_columns(x1, x2):\n",
    "    if 'q' in x1 or 'p' in x1:\n",
    "        return x1\n",
    "    elif 'q' in x2 or 'p' in x2:\n",
    "        return x2\n",
    "    else:\n",
    "        return 'error'\n",
    "    "
   ]
  },
  {
   "cell_type": "code",
   "execution_count": 280,
   "metadata": {},
   "outputs": [
    {
     "data": {
      "text/html": [
       "<div>\n",
       "<style scoped>\n",
       "    .dataframe tbody tr th:only-of-type {\n",
       "        vertical-align: middle;\n",
       "    }\n",
       "\n",
       "    .dataframe tbody tr th {\n",
       "        vertical-align: top;\n",
       "    }\n",
       "\n",
       "    .dataframe thead th {\n",
       "        text-align: right;\n",
       "    }\n",
       "</style>\n",
       "<table border=\"1\" class=\"dataframe\">\n",
       "  <thead>\n",
       "    <tr style=\"text-align: right;\">\n",
       "      <th></th>\n",
       "      <th>q value</th>\n",
       "      <th>cytoband</th>\n",
       "      <th>gene</th>\n",
       "    </tr>\n",
       "  </thead>\n",
       "  <tbody>\n",
       "    <tr>\n",
       "      <th>7</th>\n",
       "      <td>0.003377</td>\n",
       "      <td>2q31.1</td>\n",
       "      <td>NFE2L2</td>\n",
       "    </tr>\n",
       "    <tr>\n",
       "      <th>7</th>\n",
       "      <td>0.003377</td>\n",
       "      <td>2q31.1</td>\n",
       "      <td>HOXD11</td>\n",
       "    </tr>\n",
       "  </tbody>\n",
       "</table>\n",
       "</div>"
      ],
      "text/plain": [
       "    q value cytoband    gene\n",
       "7  0.003377   2q31.1  NFE2L2\n",
       "7  0.003377   2q31.1  HOXD11"
      ]
     },
     "execution_count": 280,
     "metadata": {},
     "output_type": "execute_result"
    },
    {
     "data": {
      "text/html": [
       "<div>\n",
       "<style scoped>\n",
       "    .dataframe tbody tr th:only-of-type {\n",
       "        vertical-align: middle;\n",
       "    }\n",
       "\n",
       "    .dataframe tbody tr th {\n",
       "        vertical-align: top;\n",
       "    }\n",
       "\n",
       "    .dataframe thead th {\n",
       "        text-align: right;\n",
       "    }\n",
       "</style>\n",
       "<table border=\"1\" class=\"dataframe\">\n",
       "  <thead>\n",
       "    <tr style=\"text-align: right;\">\n",
       "      <th></th>\n",
       "      <th>q value</th>\n",
       "      <th>cytoband</th>\n",
       "      <th>gene</th>\n",
       "    </tr>\n",
       "  </thead>\n",
       "  <tbody>\n",
       "    <tr>\n",
       "      <th>2</th>\n",
       "      <td>0.19405</td>\n",
       "      <td>2p25.3</td>\n",
       "      <td>C2orf44</td>\n",
       "    </tr>\n",
       "    <tr>\n",
       "      <th>2</th>\n",
       "      <td>0.19405</td>\n",
       "      <td>2p25.3</td>\n",
       "      <td>NCOA1</td>\n",
       "    </tr>\n",
       "  </tbody>\n",
       "</table>\n",
       "</div>"
      ],
      "text/plain": [
       "   q value cytoband     gene\n",
       "2  0.19405   2p25.3  C2orf44\n",
       "2  0.19405   2p25.3    NCOA1"
      ]
     },
     "execution_count": 280,
     "metadata": {},
     "output_type": "execute_result"
    },
    {
     "data": {
      "text/html": [
       "<div>\n",
       "<style scoped>\n",
       "    .dataframe tbody tr th:only-of-type {\n",
       "        vertical-align: middle;\n",
       "    }\n",
       "\n",
       "    .dataframe tbody tr th {\n",
       "        vertical-align: top;\n",
       "    }\n",
       "\n",
       "    .dataframe thead th {\n",
       "        text-align: right;\n",
       "    }\n",
       "</style>\n",
       "<table border=\"1\" class=\"dataframe\">\n",
       "  <thead>\n",
       "    <tr style=\"text-align: right;\">\n",
       "      <th></th>\n",
       "      <th>hiv+q</th>\n",
       "      <th>gene</th>\n",
       "      <th>hiv-q</th>\n",
       "      <th>cytoband</th>\n",
       "    </tr>\n",
       "  </thead>\n",
       "  <tbody>\n",
       "    <tr>\n",
       "      <th>0</th>\n",
       "      <td>0.003377</td>\n",
       "      <td>NFE2L2</td>\n",
       "      <td>NaN</td>\n",
       "      <td>2q31.1</td>\n",
       "    </tr>\n",
       "    <tr>\n",
       "      <th>1</th>\n",
       "      <td>0.003377</td>\n",
       "      <td>HOXD11</td>\n",
       "      <td>NaN</td>\n",
       "      <td>2q31.1</td>\n",
       "    </tr>\n",
       "  </tbody>\n",
       "</table>\n",
       "</div>"
      ],
      "text/plain": [
       "      hiv+q    gene  hiv-q cytoband\n",
       "0  0.003377  NFE2L2    NaN   2q31.1\n",
       "1  0.003377  HOXD11    NaN   2q31.1"
      ]
     },
     "execution_count": 280,
     "metadata": {},
     "output_type": "execute_result"
    }
   ],
   "source": [
    "# for amps\n",
    "# pos_amp_file = '/home/szong/bin/GISTIC_2_0_22/124_patient_adj_hiv_pos/amp_genes.conf_99.txt.summary.sorted'\n",
    "pos_amp_file = '/projects/trans_scratch/validations/workspace/szong/Cervical/cnv/124_patient_adj_hiv_pos/amp_genes.conf_99.txt.summary.sorted'\n",
    "pos_amps = get_qvalue_cytoband(pos_amp_file)\n",
    "pos_amps.head(2)\n",
    "\n",
    "# neg_amp_file = '/home/szong/bin/GISTIC_2_0_22/124_patient_adj_hiv_neg/amp_genes.conf_99.txt.summary.sorted'\n",
    "neg_amp_file = '/projects/trans_scratch/validations/workspace/szong/Cervical/cnv/124_patient_adj_hiv_neg/amp_genes.conf_99.txt.summary.sorted'\n",
    "neg_amps = get_qvalue_cytoband(neg_amp_file)\n",
    "neg_amps.head(2)\n",
    "\n",
    "ndf = pd.merge(pos_amps, neg_amps, left_on='gene', right_on='gene', how='outer')#.fillna(1)\n",
    "ndf.columns = ['hiv+q', 'cytoband_pos','gene', 'hiv-q', 'cytoband_neg']\n",
    "ndf['cytoband'] = ndf.astype(str).apply(lambda x: map_two_columns(x1=x['cytoband_pos'], x2=x['cytoband_neg']), axis=1)\n",
    "\n",
    "ndf = ndf.drop(['cytoband_pos', 'cytoband_neg'], axis=1)\n",
    "ndf.head(2)"
   ]
  },
  {
   "cell_type": "code",
   "execution_count": 281,
   "metadata": {},
   "outputs": [],
   "source": [
    "of = '/projects/trans_scratch/validations/workspace/szong/Cervical/cnv/amp_gene_qvalue_comparison_hiv_pos_vs_neg.txt'\n",
    "ndf.to_csv(of, sep='\\t', index=False)"
   ]
  },
  {
   "cell_type": "code",
   "execution_count": 314,
   "metadata": {},
   "outputs": [
    {
     "data": {
      "text/html": [
       "<div>\n",
       "<style scoped>\n",
       "    .dataframe tbody tr th:only-of-type {\n",
       "        vertical-align: middle;\n",
       "    }\n",
       "\n",
       "    .dataframe tbody tr th {\n",
       "        vertical-align: top;\n",
       "    }\n",
       "\n",
       "    .dataframe thead th {\n",
       "        text-align: right;\n",
       "    }\n",
       "</style>\n",
       "<table border=\"1\" class=\"dataframe\">\n",
       "  <thead>\n",
       "    <tr style=\"text-align: right;\">\n",
       "      <th></th>\n",
       "      <th>q value</th>\n",
       "      <th>cytoband</th>\n",
       "      <th>gene</th>\n",
       "    </tr>\n",
       "  </thead>\n",
       "  <tbody>\n",
       "    <tr>\n",
       "      <th>0</th>\n",
       "      <td>0.055942</td>\n",
       "      <td>1p36.21</td>\n",
       "      <td>MDS2</td>\n",
       "    </tr>\n",
       "    <tr>\n",
       "      <th>0</th>\n",
       "      <td>0.055942</td>\n",
       "      <td>1p36.21</td>\n",
       "      <td>PARK7</td>\n",
       "    </tr>\n",
       "  </tbody>\n",
       "</table>\n",
       "</div>"
      ],
      "text/plain": [
       "    q value cytoband   gene\n",
       "0  0.055942  1p36.21   MDS2\n",
       "0  0.055942  1p36.21  PARK7"
      ]
     },
     "execution_count": 314,
     "metadata": {},
     "output_type": "execute_result"
    },
    {
     "data": {
      "text/html": [
       "<div>\n",
       "<style scoped>\n",
       "    .dataframe tbody tr th:only-of-type {\n",
       "        vertical-align: middle;\n",
       "    }\n",
       "\n",
       "    .dataframe tbody tr th {\n",
       "        vertical-align: top;\n",
       "    }\n",
       "\n",
       "    .dataframe thead th {\n",
       "        text-align: right;\n",
       "    }\n",
       "</style>\n",
       "<table border=\"1\" class=\"dataframe\">\n",
       "  <thead>\n",
       "    <tr style=\"text-align: right;\">\n",
       "      <th></th>\n",
       "      <th>q value</th>\n",
       "      <th>cytoband</th>\n",
       "      <th>gene</th>\n",
       "    </tr>\n",
       "  </thead>\n",
       "  <tbody>\n",
       "    <tr>\n",
       "      <th>0</th>\n",
       "      <td>0.039246</td>\n",
       "      <td>1p13.2</td>\n",
       "      <td>GSTM1</td>\n",
       "    </tr>\n",
       "    <tr>\n",
       "      <th>0</th>\n",
       "      <td>0.039246</td>\n",
       "      <td>1p13.2</td>\n",
       "      <td>RAP1A</td>\n",
       "    </tr>\n",
       "  </tbody>\n",
       "</table>\n",
       "</div>"
      ],
      "text/plain": [
       "    q value cytoband   gene\n",
       "0  0.039246   1p13.2  GSTM1\n",
       "0  0.039246   1p13.2  RAP1A"
      ]
     },
     "execution_count": 314,
     "metadata": {},
     "output_type": "execute_result"
    },
    {
     "data": {
      "text/html": [
       "<div>\n",
       "<style scoped>\n",
       "    .dataframe tbody tr th:only-of-type {\n",
       "        vertical-align: middle;\n",
       "    }\n",
       "\n",
       "    .dataframe tbody tr th {\n",
       "        vertical-align: top;\n",
       "    }\n",
       "\n",
       "    .dataframe thead th {\n",
       "        text-align: right;\n",
       "    }\n",
       "</style>\n",
       "<table border=\"1\" class=\"dataframe\">\n",
       "  <thead>\n",
       "    <tr style=\"text-align: right;\">\n",
       "      <th></th>\n",
       "      <th>hiv+q</th>\n",
       "      <th>gene</th>\n",
       "      <th>hiv-q</th>\n",
       "      <th>cytoband</th>\n",
       "    </tr>\n",
       "  </thead>\n",
       "  <tbody>\n",
       "    <tr>\n",
       "      <th>0</th>\n",
       "      <td>0.055942</td>\n",
       "      <td>MDS2</td>\n",
       "      <td>NaN</td>\n",
       "      <td>1p36.21</td>\n",
       "    </tr>\n",
       "    <tr>\n",
       "      <th>1</th>\n",
       "      <td>0.055942</td>\n",
       "      <td>PARK7</td>\n",
       "      <td>NaN</td>\n",
       "      <td>1p36.21</td>\n",
       "    </tr>\n",
       "  </tbody>\n",
       "</table>\n",
       "</div>"
      ],
      "text/plain": [
       "      hiv+q   gene  hiv-q cytoband\n",
       "0  0.055942   MDS2    NaN  1p36.21\n",
       "1  0.055942  PARK7    NaN  1p36.21"
      ]
     },
     "execution_count": 314,
     "metadata": {},
     "output_type": "execute_result"
    }
   ],
   "source": [
    "# for dels\n",
    "pos_del_file = '/projects/trans_scratch/validations/workspace/szong/Cervical/cnv/124_patient_adj_hiv_pos/del_genes.conf_99.txt.summary.sorted'\n",
    "pos_dels = get_qvalue_cytoband(pos_del_file)\n",
    "pos_dels.head(2)\n",
    "\n",
    "neg_del_file = '//projects/trans_scratch/validations/workspace/szong/Cervical/cnv/124_patient_adj_hiv_neg/del_genes.conf_99.txt.summary.sorted'\n",
    "neg_dels = get_qvalue_cytoband(neg_del_file)\n",
    "neg_dels.head(2)\n",
    "\n",
    "ndf = pd.merge(pos_dels, neg_dels, left_on='gene', right_on='gene', how='outer')#.fillna(1)\n",
    "ndf.columns = ['hiv+q', 'cytoband_pos','gene', 'hiv-q', 'cytoband_neg']\n",
    "ndf['cytoband'] = ndf.astype(str).apply(lambda x: map_two_columns(x1=x['cytoband_pos'], x2=x['cytoband_neg']), axis=1)\n",
    "\n",
    "ndf = ndf.drop(['cytoband_pos', 'cytoband_neg'], axis=1)\n",
    "ndf.head(2)"
   ]
  },
  {
   "cell_type": "code",
   "execution_count": 92,
   "metadata": {},
   "outputs": [
    {
     "data": {
      "text/plain": [
       "(431, 3)"
      ]
     },
     "execution_count": 92,
     "metadata": {},
     "output_type": "execute_result"
    },
    {
     "data": {
      "text/plain": [
       "414"
      ]
     },
     "execution_count": 92,
     "metadata": {},
     "output_type": "execute_result"
    }
   ],
   "source": [
    "ndf.shape\n",
    "ndf['gene'].nunique()"
   ]
  },
  {
   "cell_type": "code",
   "execution_count": 93,
   "metadata": {},
   "outputs": [
    {
     "data": {
      "text/html": [
       "<div>\n",
       "<style scoped>\n",
       "    .dataframe tbody tr th:only-of-type {\n",
       "        vertical-align: middle;\n",
       "    }\n",
       "\n",
       "    .dataframe tbody tr th {\n",
       "        vertical-align: top;\n",
       "    }\n",
       "\n",
       "    .dataframe thead th {\n",
       "        text-align: right;\n",
       "    }\n",
       "</style>\n",
       "<table border=\"1\" class=\"dataframe\">\n",
       "  <thead>\n",
       "    <tr style=\"text-align: right;\">\n",
       "      <th></th>\n",
       "      <th>hiv+q</th>\n",
       "      <th>gene</th>\n",
       "      <th>hiv-q</th>\n",
       "    </tr>\n",
       "  </thead>\n",
       "  <tbody>\n",
       "    <tr>\n",
       "      <th>20</th>\n",
       "      <td>1.795800e-19</td>\n",
       "      <td>ACSL3</td>\n",
       "      <td>1.0</td>\n",
       "    </tr>\n",
       "    <tr>\n",
       "      <th>21</th>\n",
       "      <td>1.855100e-18</td>\n",
       "      <td>ACSL3</td>\n",
       "      <td>1.0</td>\n",
       "    </tr>\n",
       "  </tbody>\n",
       "</table>\n",
       "</div>"
      ],
      "text/plain": [
       "           hiv+q   gene  hiv-q\n",
       "20  1.795800e-19  ACSL3    1.0\n",
       "21  1.855100e-18  ACSL3    1.0"
      ]
     },
     "execution_count": 93,
     "metadata": {},
     "output_type": "execute_result"
    }
   ],
   "source": [
    "# look at duplicated on column gene\n",
    "pd.concat(g for _, g in ndf.groupby(\"gene\") if len(g) > 1).head(2)"
   ]
  },
  {
   "cell_type": "code",
   "execution_count": 315,
   "metadata": {},
   "outputs": [],
   "source": [
    "ndf = ndf.drop_duplicates(subset='gene', keep='last')"
   ]
  },
  {
   "cell_type": "code",
   "execution_count": 283,
   "metadata": {},
   "outputs": [],
   "source": [
    "def label_point(x, y, val, ax):\n",
    "    a = pd.concat({'x': x, 'y': y, 'val': val}, axis=1)\n",
    "    k = 0\n",
    "    j = 0 \n",
    "    for i, point in a.iterrows():\n",
    "        _ = ax.text(point['x']+j, point['y']+k, str(point['val']))\n",
    "        k+=1\n",
    "#         j+=.5\n",
    "    return a"
   ]
  },
  {
   "cell_type": "code",
   "execution_count": 36,
   "metadata": {},
   "outputs": [],
   "source": [
    "def plot_genes(ax, df):\n",
    "    df = df.sort_values(['y', 'x'], ascending=True)\n",
    "    for ix, row in df.iterrows():  \n",
    "        gene = row.gene\n",
    "        x = row['hiv+q']\n",
    "        y = row['hiv-q']\n",
    "        textx = row.x\n",
    "        texty = row.y\n",
    "#         anno_color = row.anno_color\n",
    "#         anno_ecolor = row.anno_ecolor\n",
    "#         arrow_color = row.arrow_color\n",
    "#         fill_color = row.fill_color\n",
    "        anno_color = 'blue'\n",
    "        arrow_color = 'blue'\n",
    "        ax.annotate('{}'.format(gene),\n",
    "                    xy=(x,y), \n",
    "                    xytext=(textx, texty), fontsize=10,\n",
    "                    ha='center', va='bottom', color=anno_color,\n",
    "                    textcoords='data', xycoords=\"data\", \n",
    "                    bbox=dict(boxstyle='round', \n",
    "#                               fc=fill_color, \n",
    "#                               edgecolor=anno_ecolor,\n",
    "                              alpha=1, pad=.4),\n",
    "                    arrowprops=dict(arrowstyle='-', \n",
    "                                    color=anno_color,\n",
    "                                    shrinkB=0, \n",
    "                                    connectionstyle='arc3,rad=0.0' \n",
    "                                  ))"
   ]
  },
  {
   "cell_type": "code",
   "execution_count": 10,
   "metadata": {},
   "outputs": [],
   "source": [
    "ndf = ndf.sort_values('hiv-q')"
   ]
  },
  {
   "cell_type": "code",
   "execution_count": 318,
   "metadata": {},
   "outputs": [
    {
     "data": {
      "text/html": [
       "<div>\n",
       "<style scoped>\n",
       "    .dataframe tbody tr th:only-of-type {\n",
       "        vertical-align: middle;\n",
       "    }\n",
       "\n",
       "    .dataframe tbody tr th {\n",
       "        vertical-align: top;\n",
       "    }\n",
       "\n",
       "    .dataframe thead th {\n",
       "        text-align: right;\n",
       "    }\n",
       "</style>\n",
       "<table border=\"1\" class=\"dataframe\">\n",
       "  <thead>\n",
       "    <tr style=\"text-align: right;\">\n",
       "      <th></th>\n",
       "      <th>hiv+q</th>\n",
       "      <th>gene</th>\n",
       "      <th>hiv-q</th>\n",
       "      <th>cytoband</th>\n",
       "    </tr>\n",
       "  </thead>\n",
       "  <tbody>\n",
       "    <tr>\n",
       "      <th>0</th>\n",
       "      <td>0.055942</td>\n",
       "      <td>MDS2</td>\n",
       "      <td>1.0</td>\n",
       "      <td>1p36.21</td>\n",
       "    </tr>\n",
       "    <tr>\n",
       "      <th>1</th>\n",
       "      <td>0.055942</td>\n",
       "      <td>PARK7</td>\n",
       "      <td>1.0</td>\n",
       "      <td>1p36.21</td>\n",
       "    </tr>\n",
       "  </tbody>\n",
       "</table>\n",
       "</div>"
      ],
      "text/plain": [
       "      hiv+q   gene  hiv-q cytoband\n",
       "0  0.055942   MDS2    1.0  1p36.21\n",
       "1  0.055942  PARK7    1.0  1p36.21"
      ]
     },
     "execution_count": 318,
     "metadata": {},
     "output_type": "execute_result"
    }
   ],
   "source": [
    "of = '/projects/trans_scratch/validations/workspace/szong/Cervical/cnv/del_gene_qvalue_comparison_hiv_pos_vs_neg.txt'\n",
    "ndf = pd.read_csv(of, sep='\\t').fillna(1)\n",
    "ndf.head(2)"
   ]
  },
  {
   "cell_type": "code",
   "execution_count": 319,
   "metadata": {},
   "outputs": [],
   "source": [
    "ndf['hiv+q(-log10)'] = -np.log10(ndf['hiv+q'])\n",
    "ndf['hiv-q(-log10)'] = -np.log10(ndf['hiv-q'])"
   ]
  },
  {
   "cell_type": "code",
   "execution_count": 320,
   "metadata": {},
   "outputs": [
    {
     "data": {
      "text/html": [
       "<div>\n",
       "<style scoped>\n",
       "    .dataframe tbody tr th:only-of-type {\n",
       "        vertical-align: middle;\n",
       "    }\n",
       "\n",
       "    .dataframe tbody tr th {\n",
       "        vertical-align: top;\n",
       "    }\n",
       "\n",
       "    .dataframe thead th {\n",
       "        text-align: right;\n",
       "    }\n",
       "</style>\n",
       "<table border=\"1\" class=\"dataframe\">\n",
       "  <thead>\n",
       "    <tr style=\"text-align: right;\">\n",
       "      <th></th>\n",
       "      <th>hiv+q</th>\n",
       "      <th>gene</th>\n",
       "      <th>hiv-q</th>\n",
       "      <th>cytoband</th>\n",
       "      <th>hiv+q(-log10)</th>\n",
       "      <th>hiv-q(-log10)</th>\n",
       "    </tr>\n",
       "  </thead>\n",
       "  <tbody>\n",
       "    <tr>\n",
       "      <th>0</th>\n",
       "      <td>0.055942</td>\n",
       "      <td>MDS2</td>\n",
       "      <td>1.0</td>\n",
       "      <td>1p36.21</td>\n",
       "      <td>1.252262</td>\n",
       "      <td>-0.0</td>\n",
       "    </tr>\n",
       "    <tr>\n",
       "      <th>1</th>\n",
       "      <td>0.055942</td>\n",
       "      <td>PARK7</td>\n",
       "      <td>1.0</td>\n",
       "      <td>1p36.21</td>\n",
       "      <td>1.252262</td>\n",
       "      <td>-0.0</td>\n",
       "    </tr>\n",
       "    <tr>\n",
       "      <th>2</th>\n",
       "      <td>0.055942</td>\n",
       "      <td>RAP1GAP</td>\n",
       "      <td>1.0</td>\n",
       "      <td>1p36.21</td>\n",
       "      <td>1.252262</td>\n",
       "      <td>-0.0</td>\n",
       "    </tr>\n",
       "    <tr>\n",
       "      <th>3</th>\n",
       "      <td>0.055942</td>\n",
       "      <td>KIF1B</td>\n",
       "      <td>1.0</td>\n",
       "      <td>1p36.21</td>\n",
       "      <td>1.252262</td>\n",
       "      <td>-0.0</td>\n",
       "    </tr>\n",
       "    <tr>\n",
       "      <th>4</th>\n",
       "      <td>0.055942</td>\n",
       "      <td>SDHB</td>\n",
       "      <td>1.0</td>\n",
       "      <td>1p36.21</td>\n",
       "      <td>1.252262</td>\n",
       "      <td>-0.0</td>\n",
       "    </tr>\n",
       "  </tbody>\n",
       "</table>\n",
       "</div>"
      ],
      "text/plain": [
       "      hiv+q     gene  hiv-q cytoband  hiv+q(-log10)  hiv-q(-log10)\n",
       "0  0.055942     MDS2    1.0  1p36.21       1.252262           -0.0\n",
       "1  0.055942    PARK7    1.0  1p36.21       1.252262           -0.0\n",
       "2  0.055942  RAP1GAP    1.0  1p36.21       1.252262           -0.0\n",
       "3  0.055942    KIF1B    1.0  1p36.21       1.252262           -0.0\n",
       "4  0.055942     SDHB    1.0  1p36.21       1.252262           -0.0"
      ]
     },
     "execution_count": 320,
     "metadata": {},
     "output_type": "execute_result"
    },
    {
     "data": {
      "text/plain": [
       "(414, 6)"
      ]
     },
     "execution_count": 320,
     "metadata": {},
     "output_type": "execute_result"
    }
   ],
   "source": [
    "ndf.head()\n",
    "ndf.shape"
   ]
  },
  {
   "cell_type": "code",
   "execution_count": 321,
   "metadata": {},
   "outputs": [
    {
     "data": {
      "text/plain": [
       "<matplotlib.axes._subplots.AxesSubplot at 0x7fac07598630>"
      ]
     },
     "execution_count": 321,
     "metadata": {},
     "output_type": "execute_result"
    },
    {
     "data": {
      "text/plain": [
       "Text(0.5,1,'GISTIC dels oncogenes')"
      ]
     },
     "execution_count": 321,
     "metadata": {},
     "output_type": "execute_result"
    },
    {
     "data": {
      "text/plain": [
       "(-1, 23)"
      ]
     },
     "execution_count": 321,
     "metadata": {},
     "output_type": "execute_result"
    },
    {
     "data": {
      "text/plain": [
       "(-1, 23)"
      ]
     },
     "execution_count": 321,
     "metadata": {},
     "output_type": "execute_result"
    },
    {
     "data": {
      "image/png": "[encoded data removed]",
      "text/plain": [
       "<Figure size 504x504 with 1 Axes>"
      ]
     },
     "metadata": {},
     "output_type": "display_data"
    }
   ],
   "source": [
    "# Set theme\n",
    "sns.set_style('whitegrid')\n",
    "\n",
    "\n",
    "# Scatterplot arguments\n",
    "# grid = sns.lmplot(x='hiv+q', y='hiv-q', data=ndf.fillna(.1),\n",
    "#            fit_reg=False) # No regression line\n",
    "#            #hue='Stage')   # Color by evolution stage\n",
    "# # Tweak using Matplotlib\n",
    "# # plt.ylim(0, .2)\n",
    "# # plt.xlim(0, .2)\n",
    "# grid.set(xscale=\"log\", yscale=\"log\")\n",
    "\n",
    "f, ax = plt.subplots(figsize=(7, 7))\n",
    "\n",
    "\n",
    "# ax.set(xscale=\"log\", yscale=\"log\")\n",
    "sns.regplot(x='hiv+q(-log10)', y='hiv-q(-log10)', data=ndf, ax=ax, fit_reg=False, x_jitter=1e-12, y_jitter=1e-10, scatter_kws={\"s\": 10})\n",
    "\n",
    "\n",
    "\n",
    "\n",
    "ax.set_title('GISTIC dels oncogenes')\n",
    "ax.set_xlim(-1, 23)\n",
    "ax.set_ylim(-1, 23)\n",
    "\n",
    "\n",
    "\n",
    "    \n",
    "ndf = ndf[(ndf['hiv+q(-log10)']>15)]#|(ndf['hiv-q(-log10)']>5)]\n",
    "_ = label_point(ndf['hiv+q(-log10)'], ndf['hiv-q(-log10)'], ndf['gene']+'_'+ndf['cytoband'], plt.gca())  \n",
    "of = '/projects/trans_scratch/validations/workspace/szong/Cervical/cnv/del_gene_qvalue_comparison_hiv_pos_vs_neg.png'\n",
    "plt.savefig(of, bbox_inches='tight', dpi=200)"
   ]
  },
  {
   "cell_type": "code",
   "execution_count": 126,
   "metadata": {},
   "outputs": [],
   "source": [
    "plt.close()"
   ]
  },
  {
   "cell_type": "code",
   "execution_count": 18,
   "metadata": {},
   "outputs": [
    {
     "data": {
      "text/html": [
       "<div>\n",
       "<style scoped>\n",
       "    .dataframe tbody tr th:only-of-type {\n",
       "        vertical-align: middle;\n",
       "    }\n",
       "\n",
       "    .dataframe tbody tr th {\n",
       "        vertical-align: top;\n",
       "    }\n",
       "\n",
       "    .dataframe thead th {\n",
       "        text-align: right;\n",
       "    }\n",
       "</style>\n",
       "<table border=\"1\" class=\"dataframe\">\n",
       "  <thead>\n",
       "    <tr style=\"text-align: right;\">\n",
       "      <th></th>\n",
       "      <th>hiv+q</th>\n",
       "      <th>gene</th>\n",
       "      <th>hiv-q</th>\n",
       "    </tr>\n",
       "  </thead>\n",
       "  <tbody>\n",
       "    <tr>\n",
       "      <th>23</th>\n",
       "      <td>1.0</td>\n",
       "      <td>TP63</td>\n",
       "      <td>1.264200e-10</td>\n",
       "    </tr>\n",
       "    <tr>\n",
       "      <th>25</th>\n",
       "      <td>1.0</td>\n",
       "      <td>MYC</td>\n",
       "      <td>5.258800e-03</td>\n",
       "    </tr>\n",
       "  </tbody>\n",
       "</table>\n",
       "</div>"
      ],
      "text/plain": [
       "    hiv+q  gene         hiv-q\n",
       "23    1.0  TP63  1.264200e-10\n",
       "25    1.0   MYC  5.258800e-03"
      ]
     },
     "execution_count": 18,
     "metadata": {},
     "output_type": "execute_result"
    }
   ],
   "source": [
    "ndf.head(2)"
   ]
  },
  {
   "cell_type": "code",
   "execution_count": 316,
   "metadata": {},
   "outputs": [],
   "source": [
    "of = '/projects/trans_scratch/validations/workspace/szong/Cervical/cnv/del_gene_qvalue_comparison_hiv_pos_vs_neg.txt'\n",
    "ndf.to_csv(of, sep='\\t', index=False)"
   ]
  },
  {
   "cell_type": "code",
   "execution_count": 9,
   "metadata": {},
   "outputs": [],
   "source": [
    "%%bash\n",
    "cd /home/szong/bin/GISTIC_2_0_22/124_patient_adj_hiv_neg\n",
    "cat del_genes.conf_99.txt.summary |awk -F \":\" '{print $1\"\\t\"$2}'|sed 's/chr//g'|sort -k4n> del_genes.conf_99.txt.summary.sorted\n",
    "cat amp_genes.conf_99.txt.summary |awk -F \":\" '{print $1\"\\t\"$2}'|sed 's/chr//g'|sort -k4n> amp_genes.conf_99.txt.summary.sorted"
   ]
  },
  {
   "cell_type": "markdown",
   "metadata": {},
   "source": [
    "# look at correlation between copy number and expression"
   ]
  },
  {
   "cell_type": "code",
   "execution_count": 49,
   "metadata": {
    "scrolled": true
   },
   "outputs": [
    {
     "data": {
      "text/html": [
       "<div>\n",
       "<style scoped>\n",
       "    .dataframe tbody tr th:only-of-type {\n",
       "        vertical-align: middle;\n",
       "    }\n",
       "\n",
       "    .dataframe tbody tr th {\n",
       "        vertical-align: top;\n",
       "    }\n",
       "\n",
       "    .dataframe thead th {\n",
       "        text-align: right;\n",
       "    }\n",
       "</style>\n",
       "<table border=\"1\" class=\"dataframe\">\n",
       "  <thead>\n",
       "    <tr style=\"text-align: right;\">\n",
       "      <th></th>\n",
       "      <th>q value</th>\n",
       "      <th>gene</th>\n",
       "      <th>new_gene</th>\n",
       "    </tr>\n",
       "  </thead>\n",
       "  <tbody>\n",
       "    <tr>\n",
       "      <th>7</th>\n",
       "      <td>3.377000e-03</td>\n",
       "      <td>NFE2L2,HOXD11,HOXD13</td>\n",
       "      <td>NFE2L2</td>\n",
       "    </tr>\n",
       "    <tr>\n",
       "      <th>7</th>\n",
       "      <td>3.377000e-03</td>\n",
       "      <td>NFE2L2,HOXD11,HOXD13</td>\n",
       "      <td>HOXD11</td>\n",
       "    </tr>\n",
       "    <tr>\n",
       "      <th>7</th>\n",
       "      <td>3.377000e-03</td>\n",
       "      <td>NFE2L2,HOXD11,HOXD13</td>\n",
       "      <td>HOXD13</td>\n",
       "    </tr>\n",
       "    <tr>\n",
       "      <th>9</th>\n",
       "      <td>8.332900e-13</td>\n",
       "      <td>DLG1</td>\n",
       "      <td>DLG1</td>\n",
       "    </tr>\n",
       "    <tr>\n",
       "      <th>16</th>\n",
       "      <td>5.524600e-02</td>\n",
       "      <td>RAC1</td>\n",
       "      <td>RAC1</td>\n",
       "    </tr>\n",
       "    <tr>\n",
       "      <th>20</th>\n",
       "      <td>6.399600e-05</td>\n",
       "      <td>ESRP1</td>\n",
       "      <td>ESRP1</td>\n",
       "    </tr>\n",
       "    <tr>\n",
       "      <th>22</th>\n",
       "      <td>8.899700e-02</td>\n",
       "      <td>UHRF2</td>\n",
       "      <td>UHRF2</td>\n",
       "    </tr>\n",
       "    <tr>\n",
       "      <th>26</th>\n",
       "      <td>1.518200e-01</td>\n",
       "      <td>LMO2,EHF</td>\n",
       "      <td>LMO2</td>\n",
       "    </tr>\n",
       "    <tr>\n",
       "      <th>26</th>\n",
       "      <td>1.518200e-01</td>\n",
       "      <td>LMO2,EHF</td>\n",
       "      <td>EHF</td>\n",
       "    </tr>\n",
       "    <tr>\n",
       "      <th>28</th>\n",
       "      <td>5.902500e-07</td>\n",
       "      <td>YAP1,BIRC3</td>\n",
       "      <td>YAP1</td>\n",
       "    </tr>\n",
       "    <tr>\n",
       "      <th>28</th>\n",
       "      <td>5.902500e-07</td>\n",
       "      <td>YAP1,BIRC3</td>\n",
       "      <td>BIRC3</td>\n",
       "    </tr>\n",
       "    <tr>\n",
       "      <th>30</th>\n",
       "      <td>1.518200e-01</td>\n",
       "      <td>GPRC5A</td>\n",
       "      <td>GPRC5A</td>\n",
       "    </tr>\n",
       "    <tr>\n",
       "      <th>41</th>\n",
       "      <td>8.899700e-02</td>\n",
       "      <td>CDH1</td>\n",
       "      <td>CDH1</td>\n",
       "    </tr>\n",
       "    <tr>\n",
       "      <th>42</th>\n",
       "      <td>5.013900e-02</td>\n",
       "      <td>RAD51C</td>\n",
       "      <td>RAD51C</td>\n",
       "    </tr>\n",
       "    <tr>\n",
       "      <th>48</th>\n",
       "      <td>1.634100e-03</td>\n",
       "      <td>BCL3,CBLC</td>\n",
       "      <td>BCL3</td>\n",
       "    </tr>\n",
       "    <tr>\n",
       "      <th>48</th>\n",
       "      <td>1.634100e-03</td>\n",
       "      <td>BCL3,CBLC</td>\n",
       "      <td>CBLC</td>\n",
       "    </tr>\n",
       "  </tbody>\n",
       "</table>\n",
       "</div>"
      ],
      "text/plain": [
       "         q value                  gene new_gene\n",
       "7   3.377000e-03  NFE2L2,HOXD11,HOXD13   NFE2L2\n",
       "7   3.377000e-03  NFE2L2,HOXD11,HOXD13   HOXD11\n",
       "7   3.377000e-03  NFE2L2,HOXD11,HOXD13   HOXD13\n",
       "9   8.332900e-13                  DLG1     DLG1\n",
       "16  5.524600e-02                  RAC1     RAC1\n",
       "20  6.399600e-05                 ESRP1    ESRP1\n",
       "22  8.899700e-02                 UHRF2    UHRF2\n",
       "26  1.518200e-01              LMO2,EHF     LMO2\n",
       "26  1.518200e-01              LMO2,EHF      EHF\n",
       "28  5.902500e-07            YAP1,BIRC3     YAP1\n",
       "28  5.902500e-07            YAP1,BIRC3    BIRC3\n",
       "30  1.518200e-01                GPRC5A   GPRC5A\n",
       "41  8.899700e-02                  CDH1     CDH1\n",
       "42  5.013900e-02                RAD51C   RAD51C\n",
       "48  1.634100e-03             BCL3,CBLC     BCL3\n",
       "48  1.634100e-03             BCL3,CBLC     CBLC"
      ]
     },
     "execution_count": 49,
     "metadata": {},
     "output_type": "execute_result"
    }
   ],
   "source": [
    "df2"
   ]
  },
  {
   "cell_type": "code",
   "execution_count": null,
   "metadata": {},
   "outputs": [],
   "source": [
    "f = '/home/szong/bin/GISTIC_2_0_22/124_patient_adj_3k_0.1_1Mb/all_thresholded.by_genes.txt'\n",
    "df = pd.read_csv(f, sep='\\t')\n",
    "df.head(2)"
   ]
  },
  {
   "cell_type": "code",
   "execution_count": null,
   "metadata": {},
   "outputs": [],
   "source": [
    "f1 = '/projects/trans_scratch/validations/workspace/szong/Cervical/expression/NCI_ensembl69_stranded_RPKM_matrix.txt'\n",
    "df1 = pd.read_csv(f1, sep='\\t')\n",
    "df1.head(2)"
   ]
  },
  {
   "cell_type": "code",
   "execution_count": null,
   "metadata": {},
   "outputs": [],
   "source": [
    "genes = ['ECT2', 'YAP1', 'DLG1',  'DNAH5',  'SP100', 'STK11']"
   ]
  },
  {
   "cell_type": "code",
   "execution_count": null,
   "metadata": {},
   "outputs": [],
   "source": [
    "def categorize_cnv(i):\n",
    "#     for i in s:\n",
    "    if i < 0:\n",
    "        cat = 'cnv_loss'\n",
    "    elif i > 0:\n",
    "        cat = 'cnv_gain'\n",
    "    else: cat = 'cnv_neutral'\n",
    "#         ns.append(cat)\n",
    "    return cat"
   ]
  },
  {
   "cell_type": "code",
   "execution_count": null,
   "metadata": {},
   "outputs": [],
   "source": [
    "with plt.style.context(\"seaborn-whitegrid\"):\n",
    "    plt.rcParams[\"axes.edgecolor\"] = \"0.15\"\n",
    "    plt.rcParams[\"axes.linewidth\"]  = 1.25\n",
    "    fig = plt.figure(facecolor='w', figsize=(12,12))\n",
    "    axes = (fig.subplots(int(len(genes)/3), 3)).ravel()\n",
    "#     print(axes[1])\n",
    "    for i, gene in enumerate(genes):\n",
    "        dfgene = df[df['Gene Symbol'] == gene]\n",
    "        df1gene = df1[df1.genes.str.contains('_{}$'.format(gene))]\n",
    "        dff = pd.concat([dfgene, df1gene]).drop(['Cytoband', 'Gene Symbol', 'Locus ID', 'genes'], axis=1).T\n",
    "        dff.columns = ['cnv', 'rpkm']\n",
    "#         dff['groups'] = ['cnv_loss' if i< 0 'cnv_gain' elif i>0 else 'cnv_neutral' for i in dff.cnv ]\n",
    "        dff['groups'] = dff.cnv.apply(categorize_cnv)\n",
    "#         print(dff['groups'].unique())\n",
    "        # boxplot overlaps individual data point\n",
    "\n",
    "        ax = axes[i]\n",
    "        _ = sns.boxplot('groups', 'rpkm', data=dff, ax=ax, order=['cnv_loss', 'cnv_neutral', 'cnv_gain'])\n",
    "        _ = sns.swarmplot('groups', 'rpkm', data=dff, ax=ax, order=['cnv_loss', 'cnv_neutral', 'cnv_gain'])\n",
    "        _ = ax.set_title(gene)\n",
    "        _ = ax.set_xlabel('')\n",
    "        grps = {}\n",
    "        # overlay actuall data point\n",
    "        categories = ['cnv_loss','cnv_neutral', 'cnv_gain']\n",
    "        group_col = 'groups'\n",
    "        value_col = 'rpkm'\n",
    "        for i, cat in enumerate(categories):\n",
    "#             print(i, cat)\n",
    "            grps[i] = dff.query('{0} == \"{1}\"'.format(group_col, cat))[value_col]\n",
    "\n",
    "        if len(categories) == 2:\n",
    "            # statistical test for 1st grp\n",
    "#             sts, p = ss.mannwhitneyu(grps[0], grps[1], use_continuity=True, alternative=None)\n",
    "            sts, p1 = ttest_ind(grps[0], grps[1])\n",
    "#             print(p)\n",
    "            p = round(p, 8)\n",
    "            _ = ax.text(0.4 , 0.90,'p={}'.format(p), ha='center', va='center', transform=ax.transAxes, size=14)\n",
    "        elif len(categories) == 3:\n",
    "            # statistical test for 1st grp\n",
    "#             sts, p1 = ss.mannwhitneyu(grps[0], grps[1], use_continuity=True, alternative=None)\n",
    "            sts, p1 = ttest_ind(grps[0], grps[1])\n",
    "#             print(p1)\n",
    "            p1 = round(p1, 5)\n",
    "            _ = ax.text(0.2 , 0.90,'p={}'.format(p1), ha='center', va='center', transform=ax.transAxes, size=14)\n",
    "#             sts, p2 = ss.mannwhitneyu(grps[2], grps[1], use_continuity=True, alternative=None)\n",
    "            sts, p2 = ttest_ind(grps[2], grps[1])\n",
    "#             print(p2)\n",
    "            p2 = round(p2, 5)\n",
    "            _ = ax.text(0.7 , 0.90,'p={}'.format(p2), ha='center', va='center', transform=ax.transAxes, size=14)\n",
    "    of = '/projects/trans_scratch/validations/workspace/szong/Cervical/cnv/cnv_expression.png'\n",
    "    plt.savefig(of, dpi=200)"
   ]
  }
 ],
 "metadata": {
  "kernelspec": {
   "display_name": "Python 3",
   "language": "python",
   "name": "python3"
  },
  "language_info": {
   "codemirror_mode": {
    "name": "ipython",
    "version": 3
   },
   "file_extension": ".py",
   "mimetype": "text/x-python",
   "name": "python",
   "nbconvert_exporter": "python",
   "pygments_lexer": "ipython3",
   "version": "3.6.5"
  }
 },
 "nbformat": 4,
 "nbformat_minor": 2
}
