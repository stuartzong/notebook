{
 "cells": [
  {
   "cell_type": "code",
   "execution_count": 16,
   "metadata": {},
   "outputs": [],
   "source": [
    "import pandas as pd\n",
    "# import matplotlib\n",
    "import matplotlib.pyplot as plt\n",
    "%matplotlib inline\n",
    "from IPython.core.interactiveshell import InteractiveShell\n",
    "InteractiveShell.ast_node_interactivity = \"all\""
   ]
  },
  {
   "cell_type": "markdown",
   "metadata": {},
   "source": [
    " # 1. My understanding of copy number analysis:\n",
    " 1. use GATK cnv tool to call copy ratio of tumor vs a panel of normals. This reports copy ratio in .cr.seg file. the results is log2-scaled, which is log2(tumor cn/normal panel cn)\n",
    " 2. GISTICS looks for copy number significantly altered regions. It is designed for SNP array copy number analysis. However it can be adapted to whole genome, exome as well. need to really keep in mind that the copy number results need to be properly standardized. it must be log2(tumour copy number) -1, which is equivalent to log2(tumor/normal copy ratio) as reported by GATK. The idea is that assuming diploid human genome, copy neutral the value is 0; negative value mean copy loss and positive means copy gain.\n",
    " \n",
    "3. GATK log2 value in .cr.seg file is good for gistic. I don't have to minus 1 before input them to gisitic because the log2 copy ratio is already the value required by GISITC, which is log2(abosolute tumour copy number) -1. this is equivalent to log2(tumour copy/normal copy)\n",
    "4. GISTIC markersfile is simply all the positions in the segmentation file. all the start and end positions of the segment breakpoints.\n",
    "5. Andrew cherniack suggested using cr.igv.seg file. i believe this is a  mistake. By looking at the distribution of Mean_segment values, they are all positive and thus can not be the input we need for the GISTIC.\n",
    "\n",
    "6. we also need to remove germline CNVs, TCGA manually curated a list of germline CNVs. Andrew cherniack emailed the list to me. it is saved here: /projects/trans_scratch/validations/workspace/szong/Cervical/tcga_cn/CNV.hg19.bypos.111213.from.Andrew.Cherniack.txt.\n",
    "\n",
    "7. the seg files can be concatenated into one file and then load into igv for visualization. after selecting the region of interest, we could sort by amplification or deletion. to select region, just click the region of interest icon and then the cursor turns into a cross, click at the begin and end of the region to select. selected region will show a red horizontal bar at the cnv summary track (the top track).\n"
   ]
  },
  {
   "cell_type": "markdown",
   "metadata": {},
   "source": [
    "# 2. references:\n",
    "https://gatkforums.broadinstitute.org/gatk/discussion/11682/how-to-part-i-sensitively-detect-copy-ratio-alterations-and-allelic-segments\n",
    "\n",
    "https://www.biostars.org/p/174382/#175590\n",
    "I am currently formatting my data for use with the GISTIC 2.0.  In the documentation, it states that the Seg.CN column should be:\n",
    "\n",
    "(log2() -1 of copy number)\n",
    "\n",
    " \n",
    "I want to verify with someone who has used the software before that I should take the log of my copy numbers, and subtract one (1) to get this value.\n",
    "\n",
    "Also, can anyone explain the significance of subtracting 1?\n",
    "Yes, that's right. The values of this column are log2-scaled copy number relative to the normal copy number, which GISTIC assumes is 2 (diploid), so in this format the neutral regions will have a value 0.0, losses are negative numbers, and gains are positive.\n",
    "\n",
    "Subtracting 1 after taking the log is the same as dividing by 2 before taking the log -- you're dividing the observed absolute copy number (e.g. 3) by the expected copy number (2): log2(3/2) = log2(3) - log2(2) = log2(3) - 1 = +0.58\n",
    "\n",
    "(Why do they do this transformation? This format, SEG, was originally designed for array CGH and SNP arrays, where the measured values are log-scaled ratios like this, not absolute copy numbers.)\n",
    "\n",
    "Try a number fairly close to zero, appropriate for the accuracy/precision of the measurement -- e.g. 0.001 in absolute scale is roughly -10 in log2 scale. GISTIC should handle these values OK.\n",
    "\n"
   ]
  },
  {
   "cell_type": "markdown",
   "metadata": {},
   "source": [
    "## how to make the markersfile\n",
    "\n",
    "https://gist.github.com/sbamin/8c2c836992552d68a17e99feddf8fac1\n",
    "http://crazyhottommy.blogspot.com/2017/11/run-gistic2-with-sequenza-segmentation.html\n",
    "marker file:\n",
    "\n",
    "sed '1d' gistic2_segments.tsv | cut -f2,3 > markers.txt\n",
    "\n",
    "sed '1d' gistic2_segments.tsv | cut -f2,4 >> markers.txt\n",
    "\n",
    "sort the files by chromosome, take the unique ones and number the markers.\n",
    "\n",
    "cat markers.txt | sort -V -k1,1 -k2,2nr | uniq | nl > markers_gistic.txt\n",
    "\n",
    "rm markers.txt"
   ]
  },
  {
   "cell_type": "markdown",
   "metadata": {},
   "source": [
    "# 3. constants"
   ]
  },
  {
   "cell_type": "code",
   "execution_count": 34,
   "metadata": {},
   "outputs": [],
   "source": [
    "wkdir = '/projects/trans_scratch/validations/workspace/szong/Cervical/gistic/'\n",
    "gatkdir = '/projects/rcorbettprj2/CNV_2016/GATK4/results/'\n",
    "gisticdir = '/home/szong/bin/GISTIC_2_0_22/gatk_118_patients'\n",
    "meta = '/projects/trans_scratch/validations/workspace/szong/Cervical/variant_bwamem/118_patients/118_patients_bam_vcf.txt'\n",
    "germline_cnvf = '/projects/trans_scratch/validations/workspace/szong/Cervical/tcga_cn/CNV.hg19.bypos.111213.from.Andrew.Cherniack.txt.sorted'\n"
   ]
  },
  {
   "cell_type": "markdown",
   "metadata": {},
   "source": [
    "# 4. make segment file"
   ]
  },
  {
   "cell_type": "code",
   "execution_count": 31,
   "metadata": {},
   "outputs": [],
   "source": [
    "%%bash -s $wkdir $gatkdir $gisticdir\n",
    "# segmentationfile: segment mean = log2(CN) -1\n",
    "cd $1\n",
    "grep -v \"@\" /projects/rcorbettprj2/CNV_2016/GATK4/results/*.cr.seg|\\\n",
    "awk -F \"/\" '{print $7}'|sed 's/.cr.seg:/\\t/g'|\\\n",
    "grep -v MEAN_LOG2_COPY_RATIO|\\\n",
    "grep -v \"GL\\|MT\"|sed 's/X/23/g'|sed 's/Y/24/g' > segmentationfile.txt\n",
    "# filter out germline CNVs to finish\n",
    "# bedtools intersect -a -b -f 0.5 -v\n",
    "# see cells at the end of this notebook\n"
   ]
  },
  {
   "cell_type": "code",
   "execution_count": 69,
   "metadata": {},
   "outputs": [
    {
     "data": {
      "text/html": [
       "<div>\n",
       "<style scoped>\n",
       "    .dataframe tbody tr th:only-of-type {\n",
       "        vertical-align: middle;\n",
       "    }\n",
       "\n",
       "    .dataframe tbody tr th {\n",
       "        vertical-align: top;\n",
       "    }\n",
       "\n",
       "    .dataframe thead th {\n",
       "        text-align: right;\n",
       "    }\n",
       "</style>\n",
       "<table border=\"1\" class=\"dataframe\">\n",
       "  <thead>\n",
       "    <tr style=\"text-align: right;\">\n",
       "      <th></th>\n",
       "      <th>patient</th>\n",
       "      <th>HIV_status</th>\n",
       "      <th>DNA_lib</th>\n",
       "      <th>status</th>\n",
       "    </tr>\n",
       "  </thead>\n",
       "  <tbody>\n",
       "    <tr>\n",
       "      <th>0</th>\n",
       "      <td>HTMCP-03-06-02002</td>\n",
       "      <td>Negative</td>\n",
       "      <td>A37235</td>\n",
       "      <td>Malignant</td>\n",
       "    </tr>\n",
       "    <tr>\n",
       "      <th>2</th>\n",
       "      <td>HTMCP-03-06-02006</td>\n",
       "      <td>Negative</td>\n",
       "      <td>A37239</td>\n",
       "      <td>Malignant</td>\n",
       "    </tr>\n",
       "  </tbody>\n",
       "</table>\n",
       "</div>"
      ],
      "text/plain": [
       "             patient HIV_status DNA_lib     status\n",
       "0  HTMCP-03-06-02002   Negative  A37235  Malignant\n",
       "2  HTMCP-03-06-02006   Negative  A37239  Malignant"
      ]
     },
     "execution_count": 69,
     "metadata": {},
     "output_type": "execute_result"
    },
    {
     "data": {
      "text/plain": [
       "(118, 4)"
      ]
     },
     "execution_count": 69,
     "metadata": {},
     "output_type": "execute_result"
    }
   ],
   "source": [
    "# figure out HIV+ and - group\n",
    "df2 = pd.read_csv(meta,sep='\\t', usecols=['patient', 'HIV_status', 'DNA_lib', 'status'])\n",
    "df2 = df2[df2.status == 'Malignant']\n",
    "df2.head(2)\n",
    "df2.shape"
   ]
  },
  {
   "cell_type": "code",
   "execution_count": 70,
   "metadata": {},
   "outputs": [
    {
     "data": {
      "text/html": [
       "<div>\n",
       "<style scoped>\n",
       "    .dataframe tbody tr th:only-of-type {\n",
       "        vertical-align: middle;\n",
       "    }\n",
       "\n",
       "    .dataframe tbody tr th {\n",
       "        vertical-align: top;\n",
       "    }\n",
       "\n",
       "    .dataframe thead th {\n",
       "        text-align: right;\n",
       "    }\n",
       "</style>\n",
       "<table border=\"1\" class=\"dataframe\">\n",
       "  <thead>\n",
       "    <tr style=\"text-align: right;\">\n",
       "      <th></th>\n",
       "      <th>0</th>\n",
       "      <th>1</th>\n",
       "      <th>2</th>\n",
       "      <th>3</th>\n",
       "      <th>4</th>\n",
       "      <th>5</th>\n",
       "    </tr>\n",
       "  </thead>\n",
       "  <tbody>\n",
       "    <tr>\n",
       "      <th>0</th>\n",
       "      <td>A37234_A37159</td>\n",
       "      <td>1</td>\n",
       "      <td>10001</td>\n",
       "      <td>4190000</td>\n",
       "      <td>2661</td>\n",
       "      <td>0.516688</td>\n",
       "    </tr>\n",
       "    <tr>\n",
       "      <th>1</th>\n",
       "      <td>A37234_A37159</td>\n",
       "      <td>1</td>\n",
       "      <td>4190001</td>\n",
       "      <td>4289000</td>\n",
       "      <td>94</td>\n",
       "      <td>0.481328</td>\n",
       "    </tr>\n",
       "  </tbody>\n",
       "</table>\n",
       "</div>"
      ],
      "text/plain": [
       "               0  1        2        3     4         5\n",
       "0  A37234_A37159  1    10001  4190000  2661  0.516688\n",
       "1  A37234_A37159  1  4190001  4289000    94  0.481328"
      ]
     },
     "execution_count": 70,
     "metadata": {},
     "output_type": "execute_result"
    },
    {
     "data": {
      "text/plain": [
       "(170689, 6)"
      ]
     },
     "execution_count": 70,
     "metadata": {},
     "output_type": "execute_result"
    },
    {
     "data": {
      "text/plain": [
       "count    170689.000000\n",
       "mean         -0.178046\n",
       "std           1.634436\n",
       "min         -30.045690\n",
       "25%          -0.342874\n",
       "50%          -0.046016\n",
       "75%           0.187352\n",
       "max           6.622359\n",
       "Name: 5, dtype: float64"
      ]
     },
     "execution_count": 70,
     "metadata": {},
     "output_type": "execute_result"
    },
    {
     "data": {
      "text/plain": [
       "<matplotlib.collections.PathCollection at 0x7f3a4e424cc0>"
      ]
     },
     "execution_count": 70,
     "metadata": {},
     "output_type": "execute_result"
    },
    {
     "data": {
      "image/png": "[encoded data removed]",
      "text/plain": [
       "<Figure size 432x288 with 1 Axes>"
      ]
     },
     "metadata": {},
     "output_type": "display_data"
    },
    {
     "data": {
      "text/plain": [
       "{'whiskers': [<matplotlib.lines.Line2D at 0x7f3a4e3cd828>,\n",
       "  <matplotlib.lines.Line2D at 0x7f3a4e3cdb70>],\n",
       " 'caps': [<matplotlib.lines.Line2D at 0x7f3a4e3cdeb8>,\n",
       "  <matplotlib.lines.Line2D at 0x7f3a4e3d7240>],\n",
       " 'boxes': [<matplotlib.lines.Line2D at 0x7f3a4e3cd6d8>],\n",
       " 'medians': [<matplotlib.lines.Line2D at 0x7f3a4e3d7588>],\n",
       " 'fliers': [<matplotlib.lines.Line2D at 0x7f3a4e3d78d0>],\n",
       " 'means': []}"
      ]
     },
     "execution_count": 70,
     "metadata": {},
     "output_type": "execute_result"
    },
    {
     "data": {
      "image/png": "[encoded data removed]",
      "text/plain": [
       "<Figure size 432x288 with 1 Axes>"
      ]
     },
     "metadata": {},
     "output_type": "display_data"
    }
   ],
   "source": [
    "# look at copy ratio distribution:\n",
    "df = pd.read_csv(f'{wkdir}segmentationfile.txt', sep='\\t', header=None)\n",
    "\n",
    "df.head(2)\n",
    "df.shape\n",
    "df[5].describe()\n",
    "plt.scatter(range(0, df.shape[0]), df[5])\n",
    "plt.show()\n",
    "plt.boxplot(df[5])"
   ]
  },
  {
   "cell_type": "code",
   "execution_count": 71,
   "metadata": {},
   "outputs": [
    {
     "data": {
      "text/html": [
       "<div>\n",
       "<style scoped>\n",
       "    .dataframe tbody tr th:only-of-type {\n",
       "        vertical-align: middle;\n",
       "    }\n",
       "\n",
       "    .dataframe tbody tr th {\n",
       "        vertical-align: top;\n",
       "    }\n",
       "\n",
       "    .dataframe thead th {\n",
       "        text-align: right;\n",
       "    }\n",
       "</style>\n",
       "<table border=\"1\" class=\"dataframe\">\n",
       "  <thead>\n",
       "    <tr style=\"text-align: right;\">\n",
       "      <th></th>\n",
       "      <th>0</th>\n",
       "      <th>1</th>\n",
       "      <th>2</th>\n",
       "      <th>3</th>\n",
       "      <th>4</th>\n",
       "      <th>5</th>\n",
       "    </tr>\n",
       "  </thead>\n",
       "  <tbody>\n",
       "    <tr>\n",
       "      <th>0</th>\n",
       "      <td>A37234_A37159</td>\n",
       "      <td>1</td>\n",
       "      <td>10001</td>\n",
       "      <td>4190000</td>\n",
       "      <td>2661</td>\n",
       "      <td>0.516688</td>\n",
       "    </tr>\n",
       "    <tr>\n",
       "      <th>1</th>\n",
       "      <td>A37234_A37159</td>\n",
       "      <td>1</td>\n",
       "      <td>4190001</td>\n",
       "      <td>4289000</td>\n",
       "      <td>94</td>\n",
       "      <td>0.481328</td>\n",
       "    </tr>\n",
       "  </tbody>\n",
       "</table>\n",
       "</div>"
      ],
      "text/plain": [
       "               0  1        2        3     4         5\n",
       "0  A37234_A37159  1    10001  4190000  2661  0.516688\n",
       "1  A37234_A37159  1  4190001  4289000    94  0.481328"
      ]
     },
     "execution_count": 71,
     "metadata": {},
     "output_type": "execute_result"
    },
    {
     "data": {
      "text/html": [
       "<div>\n",
       "<style scoped>\n",
       "    .dataframe tbody tr th:only-of-type {\n",
       "        vertical-align: middle;\n",
       "    }\n",
       "\n",
       "    .dataframe tbody tr th {\n",
       "        vertical-align: top;\n",
       "    }\n",
       "\n",
       "    .dataframe thead th {\n",
       "        text-align: right;\n",
       "    }\n",
       "</style>\n",
       "<table border=\"1\" class=\"dataframe\">\n",
       "  <thead>\n",
       "    <tr style=\"text-align: right;\">\n",
       "      <th></th>\n",
       "      <th>1</th>\n",
       "      <th>2</th>\n",
       "      <th>3</th>\n",
       "      <th>4</th>\n",
       "      <th>5</th>\n",
       "      <th>DNA_lib</th>\n",
       "    </tr>\n",
       "  </thead>\n",
       "  <tbody>\n",
       "    <tr>\n",
       "      <th>0</th>\n",
       "      <td>1</td>\n",
       "      <td>10001</td>\n",
       "      <td>4190000</td>\n",
       "      <td>2661</td>\n",
       "      <td>0.516688</td>\n",
       "      <td>A37234</td>\n",
       "    </tr>\n",
       "    <tr>\n",
       "      <th>1</th>\n",
       "      <td>1</td>\n",
       "      <td>4190001</td>\n",
       "      <td>4289000</td>\n",
       "      <td>94</td>\n",
       "      <td>0.481328</td>\n",
       "      <td>A37234</td>\n",
       "    </tr>\n",
       "  </tbody>\n",
       "</table>\n",
       "</div>"
      ],
      "text/plain": [
       "   1        2        3     4         5 DNA_lib\n",
       "0  1    10001  4190000  2661  0.516688  A37234\n",
       "1  1  4190001  4289000    94  0.481328  A37234"
      ]
     },
     "execution_count": 71,
     "metadata": {},
     "output_type": "execute_result"
    },
    {
     "data": {
      "text/plain": [
       "(170689, 6)"
      ]
     },
     "execution_count": 71,
     "metadata": {},
     "output_type": "execute_result"
    }
   ],
   "source": [
    "df.head(2)\n",
    "df['DNA_lib'] = df[0].apply(lambda x: x.split('_')[0])\n",
    "df.drop(0, inplace=True, axis=1)\n",
    "df.head(2)\n",
    "df.shape\n",
    "# df['DNA_lib'] = df[0]."
   ]
  },
  {
   "cell_type": "code",
   "execution_count": 85,
   "metadata": {},
   "outputs": [
    {
     "data": {
      "text/plain": [
       "(170689, 9)"
      ]
     },
     "execution_count": 85,
     "metadata": {},
     "output_type": "execute_result"
    }
   ],
   "source": [
    "df3 = pd.merge(df, df2, left_on='DNA_lib', right_on='DNA_lib')\n",
    "df3.shape"
   ]
  },
  {
   "cell_type": "markdown",
   "metadata": {},
   "source": []
  },
  {
   "cell_type": "code",
   "execution_count": 86,
   "metadata": {},
   "outputs": [],
   "source": [
    "df3 = df3[df3.HIV_status == 'Negative']"
   ]
  },
  {
   "cell_type": "code",
   "execution_count": 87,
   "metadata": {},
   "outputs": [
    {
     "data": {
      "text/html": [
       "<div>\n",
       "<style scoped>\n",
       "    .dataframe tbody tr th:only-of-type {\n",
       "        vertical-align: middle;\n",
       "    }\n",
       "\n",
       "    .dataframe tbody tr th {\n",
       "        vertical-align: top;\n",
       "    }\n",
       "\n",
       "    .dataframe thead th {\n",
       "        text-align: right;\n",
       "    }\n",
       "</style>\n",
       "<table border=\"1\" class=\"dataframe\">\n",
       "  <thead>\n",
       "    <tr style=\"text-align: right;\">\n",
       "      <th></th>\n",
       "      <th>1</th>\n",
       "      <th>2</th>\n",
       "      <th>3</th>\n",
       "      <th>4</th>\n",
       "      <th>5</th>\n",
       "      <th>DNA_lib</th>\n",
       "      <th>patient</th>\n",
       "      <th>HIV_status</th>\n",
       "      <th>status</th>\n",
       "    </tr>\n",
       "  </thead>\n",
       "  <tbody>\n",
       "    <tr>\n",
       "      <th>1147</th>\n",
       "      <td>1</td>\n",
       "      <td>10001</td>\n",
       "      <td>16901000</td>\n",
       "      <td>13226</td>\n",
       "      <td>-0.027289</td>\n",
       "      <td>A37235</td>\n",
       "      <td>HTMCP-03-06-02002</td>\n",
       "      <td>Negative</td>\n",
       "      <td>Malignant</td>\n",
       "    </tr>\n",
       "    <tr>\n",
       "      <th>1148</th>\n",
       "      <td>1</td>\n",
       "      <td>16901001</td>\n",
       "      <td>17205000</td>\n",
       "      <td>171</td>\n",
       "      <td>-0.103116</td>\n",
       "      <td>A37235</td>\n",
       "      <td>HTMCP-03-06-02002</td>\n",
       "      <td>Negative</td>\n",
       "      <td>Malignant</td>\n",
       "    </tr>\n",
       "  </tbody>\n",
       "</table>\n",
       "</div>"
      ],
      "text/plain": [
       "      1         2         3      4         5 DNA_lib            patient  \\\n",
       "1147  1     10001  16901000  13226 -0.027289  A37235  HTMCP-03-06-02002   \n",
       "1148  1  16901001  17205000    171 -0.103116  A37235  HTMCP-03-06-02002   \n",
       "\n",
       "     HIV_status     status  \n",
       "1147   Negative  Malignant  \n",
       "1148   Negative  Malignant  "
      ]
     },
     "execution_count": 87,
     "metadata": {},
     "output_type": "execute_result"
    },
    {
     "data": {
      "text/plain": [
       "(70467, 9)"
      ]
     },
     "execution_count": 87,
     "metadata": {},
     "output_type": "execute_result"
    }
   ],
   "source": [
    "df3.head(2)\n",
    "df3.shape"
   ]
  },
  {
   "cell_type": "code",
   "execution_count": 88,
   "metadata": {},
   "outputs": [],
   "source": [
    "df3 = df3[['patient', 1,2,3,4,5]]\n",
    "df3.to_csv(f'{wkdir}segmentationfile.txt', sep='\\t', index=False, header=None)"
   ]
  },
  {
   "cell_type": "markdown",
   "metadata": {},
   "source": [
    "# 5. make markersfile"
   ]
  },
  {
   "cell_type": "code",
   "execution_count": 89,
   "metadata": {},
   "outputs": [],
   "source": [
    "%%bash -s $wkdir $gatkdir $gisticdir\n",
    "cd $1\n",
    "cut -f 2,3 segmentationfile.txt > start.tmp\n",
    "cut -f 2,4 segmentationfile.txt > end.tmp\n",
    "cat start.tmp end.tmp|sort -k1n -k2n|uniq>start_end.tmp\n",
    "cat -n start_end.tmp |sed 's/ //g'|awk '{print \"seg_starts_ends_\"$0}'> markersfile.txt\n",
    "rm *.tmp\n"
   ]
  },
  {
   "cell_type": "code",
   "execution_count": 14,
   "metadata": {},
   "outputs": [],
   "source": [
    "# these are outdated\n",
    "# %%bash -s $wkdir $gatkdir $gisticdir\n",
    "# cd $1\n",
    "# cut -f 2,3 segmentationfile.txt > start.tmp\n",
    "# cut -f 2,4 segmentationfile.txt > end.tmp\n",
    "# cat start.tmp end.tmp|sort -k1n -k2n|uniq>additional_start_end.tmp\n",
    "# cut -f 2- /home/szong/bin/GISTIC_2_0_22/markersfile.txt > snp.tmp\n",
    "# cat snp.tmp additional_start_end.tmp |sort -k1n -k2n|uniq>combine.tmp\n",
    "\n",
    "\n",
    "# cat -n combine.tmp |sed 's/ //g'|awk '{print \"SNP6_probe_\"$0}'> markersfile.txt "
   ]
  },
  {
   "cell_type": "code",
   "execution_count": 77,
   "metadata": {},
   "outputs": [],
   "source": [
    "%%bash  -s $wkdir $gatkdir $gisticdir\n",
    "cd $1\n",
    "cp segmentationfile.txt $3\n",
    "cp markersfile.txt $3"
   ]
  },
  {
   "cell_type": "markdown",
   "metadata": {},
   "source": [
    "# run gistic at gistic directory: modify the run script, run locally, not working on gphosts\n",
    "bash run_gistic_script_gatk_118.sh gatk_118_patients"
   ]
  },
  {
   "cell_type": "markdown",
   "metadata": {},
   "source": [
    "now we could just run with csh command like this: \n",
    "\n",
    "csh -f run_gistic_script_tcga.sh tcga"
   ]
  },
  {
   "cell_type": "markdown",
   "metadata": {},
   "source": [
    "# minus germline events based on the list Andew Cherniack sent"
   ]
  },
  {
   "cell_type": "code",
   "execution_count": 15,
   "metadata": {},
   "outputs": [],
   "source": [
    "%%bash\n",
    "# cd /home/szong/bin/GISTIC_2_0_22/gatk_118_patients\n",
    "# cd /home/szong/bin/GISTIC_2_0_22/gatk_118_HIV_pos\n",
    "# cd /home/szong/bin/GISTIC_2_0_22/gatk_118_HIV_neg\n",
    "cd /home/szong/bin/GISTIC_2_0_22/tcga\n",
    "inseg=segmentationfile.txt\n",
    "# germline=/projects/trans_scratch/validations/workspace/szong/Cervical/tcga_cn/CNV.hg19.bypos.111213.from.Andrew.Cherniack.txt.sorted\n",
    "# bedtools=/home/rcorbett/aligners/bedtools/BEDTools-Version-2.15.0/bin/bedtools\n",
    "# awk '{print $2\"\\t\"$3\"\\t\"$4\"\\t\"$5\"\\t\"$6\"\\t\"$1}' $inseg|sort -k1n -k2n -k3n > $inseg.sorted\n",
    "# $bedtools intersect -a $inseg.sorted -b $germline -f 0.75 -wa -v |awk '{print $6\"\\t\"$1\"\\t\"$2\"\\t\"$3\"\\t\"$4\"\\t\"$5}'> $inseg.sorted.no.germline\n",
    "# mv $inseg.sorted.no.germline segmentationfile.txt\n",
    "# rm $inseg.sorted\n",
    "# # make marker file\n",
    "# cut -f 2,3 $inseg.sorted.no.germline > start.tmp\n",
    "# cut -f 2,4 $inseg.sorted.no.germline > end.tmp\n",
    "\n",
    "cut -f 2,3 $inseg > start.tmp\n",
    "cut -f 2,4 $inseg > end.tmp\n",
    "\n",
    "cat start.tmp end.tmp|sort -k1n -k2n|uniq>start_end.tmp\n",
    "cat -n start_end.tmp |sed 's/ //g'|awk '{print \"seg_starts_ends_\"$0}'> markersfile.txt\n",
    "rm *.tmp\n"
   ]
  },
  {
   "cell_type": "code",
   "execution_count": null,
   "metadata": {},
   "outputs": [],
   "source": []
  }
 ],
 "metadata": {
  "kernelspec": {
   "display_name": "Python 3",
   "language": "python",
   "name": "python3"
  },
  "language_info": {
   "codemirror_mode": {
    "name": "ipython",
    "version": 3
   },
   "file_extension": ".py",
   "mimetype": "text/x-python",
   "name": "python",
   "nbconvert_exporter": "python",
   "pygments_lexer": "ipython3",
   "version": "3.6.5"
  }
 },
 "nbformat": 4,
 "nbformat_minor": 2
}
