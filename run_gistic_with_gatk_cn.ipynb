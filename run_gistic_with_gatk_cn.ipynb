{
 "cells": [
  {
   "cell_type": "markdown",
   "metadata": {},
   "source": [
    "# 1. make segment file"
   ]
  },
  {
   "cell_type": "code",
   "execution_count": 15,
   "metadata": {},
   "outputs": [],
   "source": [
    "wkdir = '/projects/trans_scratch/validations/workspace/szong/Cervical/gistic/'\n",
    "gatkdir = '/projects/rcorbettprj2/CNV_2016/GATK4/results/'\n",
    "gisticdir = '/home/szong/bin/GISTIC_2_0_22/gatk_118_patients'"
   ]
  },
  {
   "cell_type": "code",
   "execution_count": 13,
   "metadata": {},
   "outputs": [],
   "source": [
    "%%bash -s $wkdir $gatkdir $gisticdir\n",
    "# segmentationfile: segment mean = log2(CN) -1\n",
    "cd $1\n",
    "grep -v \"@\" /projects/rcorbettprj2/CNV_2016/GATK4/results/*.cr.seg|\\\n",
    "awk -F \"/\" '{print $7}'|sed 's/.cr.seg:/\\t/g'|\\\n",
    "grep -v MEAN_LOG2_COPY_RATIO|awk '{print $0\"\\t\"$6-1}'|cut -f 1-5,7|\\\n",
    "grep -v \"GL\\|MT\"|sed 's/X/23/g'|sed 's/Y/24/g' > segmentationfile.txt\n"
   ]
  },
  {
   "cell_type": "code",
   "execution_count": 14,
   "metadata": {},
   "outputs": [],
   "source": [
    "%%bash -s $wkdir $gatkdir $gisticdir\n",
    "cd $1\n",
    "cut -f 2,3 segmentationfile.txt > start.tmp\n",
    "cut -f 2,4 segmentationfile.txt > end.tmp\n",
    "cat start.tmp end.tmp|sort -k1n -k2n|uniq>additional_start_end.tmp\n",
    "cut -f 2- /home/szong/bin/GISTIC_2_0_22/markersfile.txt > snp.tmp\n",
    "cat snp.tmp additional_start_end.tmp |sort -k1n -k2n|uniq>combine.tmp\n",
    "\n",
    "\n",
    "cat -n combine.tmp |sed 's/ //g'|awk '{print \"SNP6_probe_\"$0}'> markersfile.txt "
   ]
  },
  {
   "cell_type": "code",
   "execution_count": 17,
   "metadata": {},
   "outputs": [],
   "source": [
    "%%bash  -s $wkdir $gatkdir $gisticdir\n",
    "cd $1\n",
    "cp segmentationfile.txt $3\n",
    "cp markersfile.txt $3"
   ]
  },
  {
   "cell_type": "markdown",
   "metadata": {},
   "source": [
    "# run gistic at gistic directory: modify the run script\n",
    "bash run_gistic_script_gatk_118.sh gatk_118_patients"
   ]
  }
 ],
 "metadata": {
  "kernelspec": {
   "display_name": "Python 3",
   "language": "python",
   "name": "python3"
  },
  "language_info": {
   "codemirror_mode": {
    "name": "ipython",
    "version": 3
   },
   "file_extension": ".py",
   "mimetype": "text/x-python",
   "name": "python",
   "nbconvert_exporter": "python",
   "pygments_lexer": "ipython3",
   "version": "3.6.5"
  }
 },
 "nbformat": 4,
 "nbformat_minor": 2
}
