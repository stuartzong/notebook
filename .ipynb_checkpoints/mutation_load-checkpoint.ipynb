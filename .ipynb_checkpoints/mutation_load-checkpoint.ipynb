{
 "cells": [
  {
   "cell_type": "code",
   "execution_count": 25,
   "metadata": {
    "collapsed": true
   },
   "outputs": [],
   "source": [
    "import re\n",
    "import matplotlib\n",
    "import numpy as np\n",
    "import pandas as pd\n",
    "import seaborn as sns\n",
    "import scipy.stats as ss\n",
    "import matplotlib.pyplot as plt\n",
    "from matplotlib import style, colors\n",
    "from matplotlib import gridspec\n",
    "\n",
    "matplotlib.style.use('ggplot')\n",
    "%matplotlib inline\n",
    "matplotlib.rcParams['figure.figsize'] = (12, 6)"
   ]
  },
  {
   "cell_type": "markdown",
   "metadata": {},
   "source": [
    "use all calls from strelka: this is prefered since this takes into consideration of all soamtic calls:snvs and indels, high/moderate/low/modifier impacts."
   ]
  },
  {
   "cell_type": "code",
   "execution_count": 3,
   "metadata": {
    "collapsed": true
   },
   "outputs": [],
   "source": [
    "def file_len(fname):\n",
    "    i = 0\n",
    "    with open(fname) as f:\n",
    "        for line in f:\n",
    "            if not re.match(\"^##\", line):\n",
    "                i+=1\n",
    "    return i - 1"
   ]
  },
  {
   "cell_type": "code",
   "execution_count": 4,
   "metadata": {},
   "outputs": [
    {
     "data": {
      "text/html": [
       "<div>\n",
       "<style>\n",
       "    .dataframe thead tr:only-child th {\n",
       "        text-align: right;\n",
       "    }\n",
       "\n",
       "    .dataframe thead th {\n",
       "        text-align: left;\n",
       "    }\n",
       "\n",
       "    .dataframe tbody tr th {\n",
       "        vertical-align: top;\n",
       "    }\n",
       "</style>\n",
       "<table border=\"1\" class=\"dataframe\">\n",
       "  <thead>\n",
       "    <tr style=\"text-align: right;\">\n",
       "      <th></th>\n",
       "      <th>HIV_status</th>\n",
       "      <th>DNA_lib</th>\n",
       "      <th>source</th>\n",
       "      <th>status</th>\n",
       "      <th>RNA_lib</th>\n",
       "      <th>ribodepleted_lib</th>\n",
       "      <th>DNA_bam</th>\n",
       "      <th>RNA_bam</th>\n",
       "      <th>DNA_single_vcf</th>\n",
       "      <th>paired_mpileup_vcf</th>\n",
       "      <th>...</th>\n",
       "      <th>other_vcf</th>\n",
       "      <th>DNA_tc</th>\n",
       "      <th>RNA_tc</th>\n",
       "      <th>cnv</th>\n",
       "      <th>bbt_transcriptome</th>\n",
       "      <th>bbt_genome</th>\n",
       "      <th>bbt_transcriptome_other_bacterial</th>\n",
       "      <th>bbt_genome_other_bacterial</th>\n",
       "      <th>bbt_transcriptome_other_viral</th>\n",
       "      <th>bbt_genome_other_viral</th>\n",
       "    </tr>\n",
       "    <tr>\n",
       "      <th>patient</th>\n",
       "      <th></th>\n",
       "      <th></th>\n",
       "      <th></th>\n",
       "      <th></th>\n",
       "      <th></th>\n",
       "      <th></th>\n",
       "      <th></th>\n",
       "      <th></th>\n",
       "      <th></th>\n",
       "      <th></th>\n",
       "      <th></th>\n",
       "      <th></th>\n",
       "      <th></th>\n",
       "      <th></th>\n",
       "      <th></th>\n",
       "      <th></th>\n",
       "      <th></th>\n",
       "      <th></th>\n",
       "      <th></th>\n",
       "      <th></th>\n",
       "      <th></th>\n",
       "    </tr>\n",
       "  </thead>\n",
       "  <tbody>\n",
       "    <tr>\n",
       "      <th>HTMCP-03-06-02001</th>\n",
       "      <td>Positive</td>\n",
       "      <td>A37234</td>\n",
       "      <td>HTMCP_124</td>\n",
       "      <td>Malignant</td>\n",
       "      <td>A37700</td>\n",
       "      <td>A56295</td>\n",
       "      <td>/projects/analysis/analysis22/A37234/merge_bwa...</td>\n",
       "      <td>/projects/analysis/analysis22/IX3433/C67GDANXX...</td>\n",
       "      <td>/projects/analysis/analysis22/A37234/merge_bwa...</td>\n",
       "      <td>NaN</td>\n",
       "      <td>...</td>\n",
       "      <td>NaN</td>\n",
       "      <td>55.0</td>\n",
       "      <td>55.0</td>\n",
       "      <td>/projects/somatic/NCI_SAIC_HIV_Cervical/HTMCP-...</td>\n",
       "      <td>/projects/NCI_validation2_assembly/NCI_SAIC_HI...</td>\n",
       "      <td>/projects/NCI_validation2_assembly/NCI_SAIC_HI...</td>\n",
       "      <td>/projects/NCI_validation2_assembly/NCI_SAIC_HI...</td>\n",
       "      <td>/projects/NCI_validation2_assembly/NCI_SAIC_HI...</td>\n",
       "      <td>/projects/NCI_validation2_assembly/NCI_SAIC_HI...</td>\n",
       "      <td>/projects/NCI_validation2_assembly/NCI_SAIC_HI...</td>\n",
       "    </tr>\n",
       "    <tr>\n",
       "      <th>HTMCP-03-06-02002</th>\n",
       "      <td>Negative</td>\n",
       "      <td>A37235</td>\n",
       "      <td>HTMCP_125</td>\n",
       "      <td>Malignant</td>\n",
       "      <td>A37701</td>\n",
       "      <td>A56296</td>\n",
       "      <td>/projects/analysis/analysis22/A37235/merge_bwa...</td>\n",
       "      <td>/projects/analysis/analysis22/IX3432/C67GDANXX...</td>\n",
       "      <td>/projects/analysis/analysis22/A37235/merge_bwa...</td>\n",
       "      <td>NaN</td>\n",
       "      <td>...</td>\n",
       "      <td>NaN</td>\n",
       "      <td>70.0</td>\n",
       "      <td>70.0</td>\n",
       "      <td>/projects/somatic/NCI_SAIC_HIV_Cervical/HTMCP-...</td>\n",
       "      <td>/projects/NCI_validation2_assembly/NCI_SAIC_HI...</td>\n",
       "      <td>/projects/NCI_validation2_assembly/NCI_SAIC_HI...</td>\n",
       "      <td>/projects/NCI_validation2_assembly/NCI_SAIC_HI...</td>\n",
       "      <td>/projects/NCI_validation2_assembly/NCI_SAIC_HI...</td>\n",
       "      <td>/projects/NCI_validation2_assembly/NCI_SAIC_HI...</td>\n",
       "      <td>/projects/NCI_validation2_assembly/NCI_SAIC_HI...</td>\n",
       "    </tr>\n",
       "  </tbody>\n",
       "</table>\n",
       "<p>2 rows × 24 columns</p>\n",
       "</div>"
      ],
      "text/plain": [
       "                  HIV_status DNA_lib     source     status RNA_lib  \\\n",
       "patient                                                              \n",
       "HTMCP-03-06-02001   Positive  A37234  HTMCP_124  Malignant  A37700   \n",
       "HTMCP-03-06-02002   Negative  A37235  HTMCP_125  Malignant  A37701   \n",
       "\n",
       "                  ribodepleted_lib  \\\n",
       "patient                              \n",
       "HTMCP-03-06-02001           A56295   \n",
       "HTMCP-03-06-02002           A56296   \n",
       "\n",
       "                                                             DNA_bam  \\\n",
       "patient                                                                \n",
       "HTMCP-03-06-02001  /projects/analysis/analysis22/A37234/merge_bwa...   \n",
       "HTMCP-03-06-02002  /projects/analysis/analysis22/A37235/merge_bwa...   \n",
       "\n",
       "                                                             RNA_bam  \\\n",
       "patient                                                                \n",
       "HTMCP-03-06-02001  /projects/analysis/analysis22/IX3433/C67GDANXX...   \n",
       "HTMCP-03-06-02002  /projects/analysis/analysis22/IX3432/C67GDANXX...   \n",
       "\n",
       "                                                      DNA_single_vcf  \\\n",
       "patient                                                                \n",
       "HTMCP-03-06-02001  /projects/analysis/analysis22/A37234/merge_bwa...   \n",
       "HTMCP-03-06-02002  /projects/analysis/analysis22/A37235/merge_bwa...   \n",
       "\n",
       "                   paired_mpileup_vcf  \\\n",
       "patient                                 \n",
       "HTMCP-03-06-02001                 NaN   \n",
       "HTMCP-03-06-02002                 NaN   \n",
       "\n",
       "                                         ...                          \\\n",
       "patient                                  ...                           \n",
       "HTMCP-03-06-02001                        ...                           \n",
       "HTMCP-03-06-02002                        ...                           \n",
       "\n",
       "                  other_vcf DNA_tc RNA_tc  \\\n",
       "patient                                     \n",
       "HTMCP-03-06-02001       NaN   55.0   55.0   \n",
       "HTMCP-03-06-02002       NaN   70.0   70.0   \n",
       "\n",
       "                                                                 cnv  \\\n",
       "patient                                                                \n",
       "HTMCP-03-06-02001  /projects/somatic/NCI_SAIC_HIV_Cervical/HTMCP-...   \n",
       "HTMCP-03-06-02002  /projects/somatic/NCI_SAIC_HIV_Cervical/HTMCP-...   \n",
       "\n",
       "                                                   bbt_transcriptome  \\\n",
       "patient                                                                \n",
       "HTMCP-03-06-02001  /projects/NCI_validation2_assembly/NCI_SAIC_HI...   \n",
       "HTMCP-03-06-02002  /projects/NCI_validation2_assembly/NCI_SAIC_HI...   \n",
       "\n",
       "                                                          bbt_genome  \\\n",
       "patient                                                                \n",
       "HTMCP-03-06-02001  /projects/NCI_validation2_assembly/NCI_SAIC_HI...   \n",
       "HTMCP-03-06-02002  /projects/NCI_validation2_assembly/NCI_SAIC_HI...   \n",
       "\n",
       "                                   bbt_transcriptome_other_bacterial  \\\n",
       "patient                                                                \n",
       "HTMCP-03-06-02001  /projects/NCI_validation2_assembly/NCI_SAIC_HI...   \n",
       "HTMCP-03-06-02002  /projects/NCI_validation2_assembly/NCI_SAIC_HI...   \n",
       "\n",
       "                                          bbt_genome_other_bacterial  \\\n",
       "patient                                                                \n",
       "HTMCP-03-06-02001  /projects/NCI_validation2_assembly/NCI_SAIC_HI...   \n",
       "HTMCP-03-06-02002  /projects/NCI_validation2_assembly/NCI_SAIC_HI...   \n",
       "\n",
       "                                       bbt_transcriptome_other_viral  \\\n",
       "patient                                                                \n",
       "HTMCP-03-06-02001  /projects/NCI_validation2_assembly/NCI_SAIC_HI...   \n",
       "HTMCP-03-06-02002  /projects/NCI_validation2_assembly/NCI_SAIC_HI...   \n",
       "\n",
       "                                              bbt_genome_other_viral  \n",
       "patient                                                               \n",
       "HTMCP-03-06-02001  /projects/NCI_validation2_assembly/NCI_SAIC_HI...  \n",
       "HTMCP-03-06-02002  /projects/NCI_validation2_assembly/NCI_SAIC_HI...  \n",
       "\n",
       "[2 rows x 24 columns]"
      ]
     },
     "execution_count": 4,
     "metadata": {},
     "output_type": "execute_result"
    }
   ],
   "source": [
    "f1 = '/projects/trans_scratch/validations/workspace/szong/Cervical/variant_bwamem/124_patients/124_patients_bam_vcf.txt'\n",
    "df = pd.read_csv(f1, sep='\\t', index_col='patient')\n",
    "df.head(2)"
   ]
  },
  {
   "cell_type": "code",
   "execution_count": 5,
   "metadata": {},
   "outputs": [
    {
     "data": {
      "text/html": [
       "<div>\n",
       "<style>\n",
       "    .dataframe thead tr:only-child th {\n",
       "        text-align: right;\n",
       "    }\n",
       "\n",
       "    .dataframe thead th {\n",
       "        text-align: left;\n",
       "    }\n",
       "\n",
       "    .dataframe tbody tr th {\n",
       "        vertical-align: top;\n",
       "    }\n",
       "</style>\n",
       "<table border=\"1\" class=\"dataframe\">\n",
       "  <thead>\n",
       "    <tr style=\"text-align: right;\">\n",
       "      <th></th>\n",
       "      <th>strelka_snv_vcf</th>\n",
       "      <th>strelka_indel_vcf</th>\n",
       "    </tr>\n",
       "    <tr>\n",
       "      <th>patient</th>\n",
       "      <th></th>\n",
       "      <th></th>\n",
       "    </tr>\n",
       "  </thead>\n",
       "  <tbody>\n",
       "    <tr>\n",
       "      <th>HTMCP-03-06-02001</th>\n",
       "      <td>/projects/somatic/NCI_SAIC_HIV_Cervical/HTMCP-...</td>\n",
       "      <td>/projects/somatic/NCI_SAIC_HIV_Cervical/HTMCP-...</td>\n",
       "    </tr>\n",
       "    <tr>\n",
       "      <th>HTMCP-03-06-02002</th>\n",
       "      <td>/projects/somatic/NCI_SAIC_HIV_Cervical/HTMCP-...</td>\n",
       "      <td>/projects/somatic/NCI_SAIC_HIV_Cervical/HTMCP-...</td>\n",
       "    </tr>\n",
       "  </tbody>\n",
       "</table>\n",
       "</div>"
      ],
      "text/plain": [
       "                                                     strelka_snv_vcf  \\\n",
       "patient                                                                \n",
       "HTMCP-03-06-02001  /projects/somatic/NCI_SAIC_HIV_Cervical/HTMCP-...   \n",
       "HTMCP-03-06-02002  /projects/somatic/NCI_SAIC_HIV_Cervical/HTMCP-...   \n",
       "\n",
       "                                                   strelka_indel_vcf  \n",
       "patient                                                               \n",
       "HTMCP-03-06-02001  /projects/somatic/NCI_SAIC_HIV_Cervical/HTMCP-...  \n",
       "HTMCP-03-06-02002  /projects/somatic/NCI_SAIC_HIV_Cervical/HTMCP-...  "
      ]
     },
     "execution_count": 5,
     "metadata": {},
     "output_type": "execute_result"
    }
   ],
   "source": [
    "ndf = df[['strelka_snv_vcf', 'strelka_indel_vcf']].dropna()\n",
    "ndf.head(2)"
   ]
  },
  {
   "cell_type": "code",
   "execution_count": 6,
   "metadata": {},
   "outputs": [
    {
     "data": {
      "text/plain": [
       "(124, 2)"
      ]
     },
     "execution_count": 6,
     "metadata": {},
     "output_type": "execute_result"
    }
   ],
   "source": [
    "ndf.shape"
   ]
  },
  {
   "cell_type": "code",
   "execution_count": 7,
   "metadata": {},
   "outputs": [
    {
     "name": "stderr",
     "output_type": "stream",
     "text": [
      "ERROR:root:Internal Python error in the inspect module.\n",
      "Below is the traceback from this internal error.\n",
      "\n"
     ]
    },
    {
     "name": "stdout",
     "output_type": "stream",
     "text": [
      "Traceback (most recent call last):\n",
      "  File \"/home/szong/anaconda3/lib/python3.6/site-packages/IPython/core/interactiveshell.py\", line 2881, in run_code\n",
      "    exec(code_obj, self.user_global_ns, self.user_ns)\n",
      "  File \"<ipython-input-7-f737e4989691>\", line 1, in <module>\n",
      "    ndf['snv_counts'] = ndf['strelka_snv_vcf'].apply(lambda x: file_len(x))\n",
      "  File \"/home/szong/anaconda3/lib/python3.6/site-packages/pandas/core/series.py\", line 2355, in apply\n",
      "    mapped = lib.map_infer(values, f, convert=convert_dtype)\n",
      "  File \"pandas/_libs/src/inference.pyx\", line 1569, in pandas._libs.lib.map_infer (pandas/_libs/lib.c:66440)\n",
      "  File \"<ipython-input-7-f737e4989691>\", line 1, in <lambda>\n",
      "    ndf['snv_counts'] = ndf['strelka_snv_vcf'].apply(lambda x: file_len(x))\n",
      "  File \"<ipython-input-3-f5fbc6ef0654>\", line 4, in file_len\n",
      "    for line in f:\n",
      "  File \"/home/szong/anaconda3/lib/python3.6/codecs.py\", line 318, in decode\n",
      "    def decode(self, input, final=False):\n",
      "KeyboardInterrupt\n",
      "\n",
      "During handling of the above exception, another exception occurred:\n",
      "\n",
      "Traceback (most recent call last):\n",
      "  File \"/home/szong/anaconda3/lib/python3.6/site-packages/IPython/core/interactiveshell.py\", line 1821, in showtraceback\n",
      "    stb = value._render_traceback_()\n",
      "AttributeError: 'KeyboardInterrupt' object has no attribute '_render_traceback_'\n",
      "\n",
      "During handling of the above exception, another exception occurred:\n",
      "\n",
      "Traceback (most recent call last):\n",
      "  File \"/home/szong/anaconda3/lib/python3.6/site-packages/IPython/core/ultratb.py\", line 1132, in get_records\n",
      "    return _fixed_getinnerframes(etb, number_of_lines_of_context, tb_offset)\n",
      "  File \"/home/szong/anaconda3/lib/python3.6/site-packages/IPython/core/ultratb.py\", line 313, in wrapped\n",
      "    return f(*args, **kwargs)\n",
      "  File \"/home/szong/anaconda3/lib/python3.6/site-packages/IPython/core/ultratb.py\", line 358, in _fixed_getinnerframes\n",
      "    records = fix_frame_records_filenames(inspect.getinnerframes(etb, context))\n",
      "  File \"/home/szong/anaconda3/lib/python3.6/inspect.py\", line 1453, in getinnerframes\n",
      "    frameinfo = (tb.tb_frame,) + getframeinfo(tb, context)\n",
      "  File \"/home/szong/anaconda3/lib/python3.6/inspect.py\", line 1411, in getframeinfo\n",
      "    filename = getsourcefile(frame) or getfile(frame)\n",
      "  File \"/home/szong/anaconda3/lib/python3.6/inspect.py\", line 666, in getsourcefile\n",
      "    if getattr(getmodule(object, filename), '__loader__', None) is not None:\n",
      "  File \"/home/szong/anaconda3/lib/python3.6/inspect.py\", line 709, in getmodule\n",
      "    f = getabsfile(module)\n",
      "  File \"/home/szong/anaconda3/lib/python3.6/inspect.py\", line 678, in getabsfile\n",
      "    _filename = getsourcefile(object) or getfile(object)\n",
      "  File \"/home/szong/anaconda3/lib/python3.6/inspect.py\", line 664, in getsourcefile\n",
      "    return filename\n",
      "KeyboardInterrupt\n"
     ]
    },
    {
     "ename": "KeyboardInterrupt",
     "evalue": "",
     "output_type": "error",
     "traceback": [
      "\u001b[0;31m---------------------------------------------------------------------------\u001b[0m"
     ]
    }
   ],
   "source": [
    "ndf['snv_counts'] = ndf['strelka_snv_vcf'].apply(lambda x: file_len(x))\n",
    "ndf['indel_counts'] = ndf['strelka_indel_vcf'].apply(lambda x: file_len(x))"
   ]
  },
  {
   "cell_type": "code",
   "execution_count": null,
   "metadata": {
    "collapsed": true
   },
   "outputs": [],
   "source": [
    "ndf['strelka_mutations'] = ndf.snv_counts + ndf.indel_counts\n",
    "ndf.drop(['strelka_snv_vcf', 'strelka_indel_vcf'], axis=1, inplace=True)\n",
    "ndf.head(2)"
   ]
  },
  {
   "cell_type": "code",
   "execution_count": null,
   "metadata": {
    "collapsed": true
   },
   "outputs": [],
   "source": [
    "of = '/projects/trans_scratch/validations/workspace/szong/Cervical/variant_bwamem/124_patients/124_patients_strelka_snvs_indels_counts.txt'\n",
    "# ndf.to_csv(of)"
   ]
  },
  {
   "cell_type": "code",
   "execution_count": null,
   "metadata": {
    "collapsed": true
   },
   "outputs": [],
   "source": []
  },
  {
   "cell_type": "code",
   "execution_count": null,
   "metadata": {
    "collapsed": true
   },
   "outputs": [],
   "source": []
  },
  {
   "cell_type": "code",
   "execution_count": null,
   "metadata": {
    "collapsed": true
   },
   "outputs": [],
   "source": [
    "of = '/projects/trans_scratch/validations/workspace/szong/Cervical/variant_bwamem/124_patients/124_patients_strelka_snvs_indels_counts.txt'\n",
    "df_strelka = pd.read_csv(of, index_col='patient')\n",
    "df_strelka.head(2)"
   ]
  },
  {
   "cell_type": "code",
   "execution_count": null,
   "metadata": {
    "collapsed": true
   },
   "outputs": [],
   "source": [
    "# df_strelka['log10_snv'] = np.log10(df_strelka.snv +1)\n",
    "df_strelka['log10_sum'] = np.log10(df_strelka['strelka_mutations'])"
   ]
  },
  {
   "cell_type": "code",
   "execution_count": null,
   "metadata": {
    "collapsed": true
   },
   "outputs": [],
   "source": [
    "df_strelka = df_strelka.query('patient != \"HTMCP-03-06-02061\"')\n",
    "assert ('HTMCP-03-06-02061' in df_strelka.index) == False"
   ]
  },
  {
   "cell_type": "code",
   "execution_count": null,
   "metadata": {
    "collapsed": true
   },
   "outputs": [],
   "source": [
    "df_strelka.head(2)"
   ]
  },
  {
   "cell_type": "code",
   "execution_count": 13,
   "metadata": {},
   "outputs": [
    {
     "data": {
      "text/html": [
       "<div>\n",
       "<style>\n",
       "    .dataframe thead tr:only-child th {\n",
       "        text-align: right;\n",
       "    }\n",
       "\n",
       "    .dataframe thead th {\n",
       "        text-align: left;\n",
       "    }\n",
       "\n",
       "    .dataframe tbody tr th {\n",
       "        vertical-align: top;\n",
       "    }\n",
       "</style>\n",
       "<table border=\"1\" class=\"dataframe\">\n",
       "  <thead>\n",
       "    <tr style=\"text-align: right;\">\n",
       "      <th></th>\n",
       "      <th>reanne_HIV_status</th>\n",
       "      <th>HPV_status</th>\n",
       "      <th>Clinical_histology</th>\n",
       "      <th>reanne_Putative_histology</th>\n",
       "      <th>comments</th>\n",
       "    </tr>\n",
       "    <tr>\n",
       "      <th>patient</th>\n",
       "      <th></th>\n",
       "      <th></th>\n",
       "      <th></th>\n",
       "      <th></th>\n",
       "      <th></th>\n",
       "    </tr>\n",
       "  </thead>\n",
       "  <tbody>\n",
       "    <tr>\n",
       "      <th>HTMCP-03-06-02001</th>\n",
       "      <td>Positive</td>\n",
       "      <td>Positive</td>\n",
       "      <td>Squamous Non-Keratinizing</td>\n",
       "      <td>Squamous</td>\n",
       "      <td>NaN</td>\n",
       "    </tr>\n",
       "    <tr>\n",
       "      <th>HTMCP-03-06-02002</th>\n",
       "      <td>Negative</td>\n",
       "      <td>Positive</td>\n",
       "      <td>Squamous Non-Keratinizing</td>\n",
       "      <td>Squamous</td>\n",
       "      <td>NaN</td>\n",
       "    </tr>\n",
       "  </tbody>\n",
       "</table>\n",
       "</div>"
      ],
      "text/plain": [
       "                  reanne_HIV_status HPV_status         Clinical_histology  \\\n",
       "patient                                                                     \n",
       "HTMCP-03-06-02001          Positive   Positive  Squamous Non-Keratinizing   \n",
       "HTMCP-03-06-02002          Negative   Positive  Squamous Non-Keratinizing   \n",
       "\n",
       "                  reanne_Putative_histology comments  \n",
       "patient                                               \n",
       "HTMCP-03-06-02001                  Squamous      NaN  \n",
       "HTMCP-03-06-02002                  Squamous      NaN  "
      ]
     },
     "execution_count": 13,
     "metadata": {},
     "output_type": "execute_result"
    }
   ],
   "source": [
    "# fixed histology\n",
    "f2 = '/projects/trans_scratch/validations/workspace/szong/Cervical/HIV_cervical_analysis_master_tables_20171206.xls'\n",
    "df2 = pd.read_excel(f2, sheetname='meta', index_col='patient')\n",
    "df2.head(2)"
   ]
  },
  {
   "cell_type": "code",
   "execution_count": 14,
   "metadata": {},
   "outputs": [
    {
     "data": {
      "text/html": [
       "<div>\n",
       "<style>\n",
       "    .dataframe thead tr:only-child th {\n",
       "        text-align: right;\n",
       "    }\n",
       "\n",
       "    .dataframe thead th {\n",
       "        text-align: left;\n",
       "    }\n",
       "\n",
       "    .dataframe tbody tr th {\n",
       "        vertical-align: top;\n",
       "    }\n",
       "</style>\n",
       "<table border=\"1\" class=\"dataframe\">\n",
       "  <thead>\n",
       "    <tr style=\"text-align: right;\">\n",
       "      <th></th>\n",
       "      <th>age_at_diagnosis</th>\n",
       "      <th>tumor_grade</th>\n",
       "      <th>ajcc_tumor_clinical_ct</th>\n",
       "      <th>clinical_stage</th>\n",
       "      <th>cd4_counts_at_diagnosis</th>\n",
       "      <th>hiv_rna_load_at_diagnosis</th>\n",
       "      <th>birth_days_to</th>\n",
       "      <th>menopause_status</th>\n",
       "      <th>height_cm_at_diagnosis</th>\n",
       "      <th>weight_kg_at_diagnosis</th>\n",
       "      <th>...</th>\n",
       "      <th>ecog_score</th>\n",
       "      <th>nadir_cd4_counts</th>\n",
       "      <th>cd4_counts_at_diagnosis.1</th>\n",
       "      <th>hiv_rna_load_at_diagnosis.1</th>\n",
       "      <th>histologic_diagnosis</th>\n",
       "      <th>haart_therapy_prior_to_dx</th>\n",
       "      <th>haart_therapy_at_dx</th>\n",
       "      <th>keratinization_squamous_cell</th>\n",
       "      <th>days_to_hiv_diagnosis</th>\n",
       "      <th>patient_id</th>\n",
       "    </tr>\n",
       "    <tr>\n",
       "      <th>bcr_patient_barcode</th>\n",
       "      <th></th>\n",
       "      <th></th>\n",
       "      <th></th>\n",
       "      <th></th>\n",
       "      <th></th>\n",
       "      <th></th>\n",
       "      <th></th>\n",
       "      <th></th>\n",
       "      <th></th>\n",
       "      <th></th>\n",
       "      <th></th>\n",
       "      <th></th>\n",
       "      <th></th>\n",
       "      <th></th>\n",
       "      <th></th>\n",
       "      <th></th>\n",
       "      <th></th>\n",
       "      <th></th>\n",
       "      <th></th>\n",
       "      <th></th>\n",
       "      <th></th>\n",
       "    </tr>\n",
       "  </thead>\n",
       "  <tbody>\n",
       "    <tr>\n",
       "      <th>HTMCP-03-06-02001</th>\n",
       "      <td>56.0</td>\n",
       "      <td>G2</td>\n",
       "      <td>T2b</td>\n",
       "      <td>Stage IIB</td>\n",
       "      <td>337.0</td>\n",
       "      <td>34.0</td>\n",
       "      <td>NaN</td>\n",
       "      <td>Post (prior bilateral ovariectomy OR &gt;12 mo si...</td>\n",
       "      <td>158.0</td>\n",
       "      <td>44.5</td>\n",
       "      <td>...</td>\n",
       "      <td>1</td>\n",
       "      <td>NaN</td>\n",
       "      <td>337.0</td>\n",
       "      <td>34.0</td>\n",
       "      <td>Squamous Cell Carcinoma; Non-Keratinizing</td>\n",
       "      <td>YES</td>\n",
       "      <td>YES</td>\n",
       "      <td>Non-keratinizing squamous cell carcinoma</td>\n",
       "      <td>NaN</td>\n",
       "      <td>2001</td>\n",
       "    </tr>\n",
       "    <tr>\n",
       "      <th>HTMCP-03-06-02002</th>\n",
       "      <td>62.0</td>\n",
       "      <td>G3</td>\n",
       "      <td>T1b1</td>\n",
       "      <td>Stage IB1</td>\n",
       "      <td>NaN</td>\n",
       "      <td>NaN</td>\n",
       "      <td>-22934.0</td>\n",
       "      <td>Post (prior bilateral ovariectomy OR &gt;12 mo si...</td>\n",
       "      <td>159.0</td>\n",
       "      <td>70.2</td>\n",
       "      <td>...</td>\n",
       "      <td>0</td>\n",
       "      <td>NaN</td>\n",
       "      <td>NaN</td>\n",
       "      <td>NaN</td>\n",
       "      <td>Squamous Cell Carcinoma; Non-Keratinizing</td>\n",
       "      <td>NaN</td>\n",
       "      <td>NaN</td>\n",
       "      <td>Non-keratinizing squamous cell carcinoma</td>\n",
       "      <td>NaN</td>\n",
       "      <td>2002</td>\n",
       "    </tr>\n",
       "  </tbody>\n",
       "</table>\n",
       "<p>2 rows × 27 columns</p>\n",
       "</div>"
      ],
      "text/plain": [
       "                     age_at_diagnosis tumor_grade ajcc_tumor_clinical_ct  \\\n",
       "bcr_patient_barcode                                                        \n",
       "HTMCP-03-06-02001                56.0          G2                    T2b   \n",
       "HTMCP-03-06-02002                62.0          G3                   T1b1   \n",
       "\n",
       "                    clinical_stage  cd4_counts_at_diagnosis  \\\n",
       "bcr_patient_barcode                                           \n",
       "HTMCP-03-06-02001        Stage IIB                    337.0   \n",
       "HTMCP-03-06-02002        Stage IB1                      NaN   \n",
       "\n",
       "                     hiv_rna_load_at_diagnosis  birth_days_to  \\\n",
       "bcr_patient_barcode                                             \n",
       "HTMCP-03-06-02001                         34.0            NaN   \n",
       "HTMCP-03-06-02002                          NaN       -22934.0   \n",
       "\n",
       "                                                      menopause_status  \\\n",
       "bcr_patient_barcode                                                      \n",
       "HTMCP-03-06-02001    Post (prior bilateral ovariectomy OR >12 mo si...   \n",
       "HTMCP-03-06-02002    Post (prior bilateral ovariectomy OR >12 mo si...   \n",
       "\n",
       "                     height_cm_at_diagnosis  weight_kg_at_diagnosis  \\\n",
       "bcr_patient_barcode                                                   \n",
       "HTMCP-03-06-02001                     158.0                    44.5   \n",
       "HTMCP-03-06-02002                     159.0                    70.2   \n",
       "\n",
       "                        ...     ecog_score  nadir_cd4_counts  \\\n",
       "bcr_patient_barcode     ...                                    \n",
       "HTMCP-03-06-02001       ...              1               NaN   \n",
       "HTMCP-03-06-02002       ...              0               NaN   \n",
       "\n",
       "                     cd4_counts_at_diagnosis.1  hiv_rna_load_at_diagnosis.1  \\\n",
       "bcr_patient_barcode                                                           \n",
       "HTMCP-03-06-02001                        337.0                         34.0   \n",
       "HTMCP-03-06-02002                          NaN                          NaN   \n",
       "\n",
       "                                          histologic_diagnosis  \\\n",
       "bcr_patient_barcode                                              \n",
       "HTMCP-03-06-02001    Squamous Cell Carcinoma; Non-Keratinizing   \n",
       "HTMCP-03-06-02002    Squamous Cell Carcinoma; Non-Keratinizing   \n",
       "\n",
       "                     haart_therapy_prior_to_dx  haart_therapy_at_dx  \\\n",
       "bcr_patient_barcode                                                   \n",
       "HTMCP-03-06-02001                          YES                  YES   \n",
       "HTMCP-03-06-02002                          NaN                  NaN   \n",
       "\n",
       "                                 keratinization_squamous_cell  \\\n",
       "bcr_patient_barcode                                             \n",
       "HTMCP-03-06-02001    Non-keratinizing squamous cell carcinoma   \n",
       "HTMCP-03-06-02002    Non-keratinizing squamous cell carcinoma   \n",
       "\n",
       "                     days_to_hiv_diagnosis  patient_id  \n",
       "bcr_patient_barcode                                     \n",
       "HTMCP-03-06-02001                      NaN        2001  \n",
       "HTMCP-03-06-02002                      NaN        2002  \n",
       "\n",
       "[2 rows x 27 columns]"
      ]
     },
     "execution_count": 14,
     "metadata": {},
     "output_type": "execute_result"
    }
   ],
   "source": [
    "f3 = '/projects/trans_scratch/validations/workspace/szong/Cervical/variant_bwamem/124_patients/clinic_data_extracted.txt'\n",
    "df3 = pd.read_csv(f3, sep='\\t', index_col='bcr_patient_barcode')\n",
    "df3.head(2)"
   ]
  },
  {
   "cell_type": "markdown",
   "metadata": {},
   "source": [
    "merge mutation and clinical data"
   ]
  },
  {
   "cell_type": "code",
   "execution_count": 15,
   "metadata": {},
   "outputs": [
    {
     "data": {
      "text/html": [
       "<div>\n",
       "<style>\n",
       "    .dataframe thead tr:only-child th {\n",
       "        text-align: right;\n",
       "    }\n",
       "\n",
       "    .dataframe thead th {\n",
       "        text-align: left;\n",
       "    }\n",
       "\n",
       "    .dataframe tbody tr th {\n",
       "        vertical-align: top;\n",
       "    }\n",
       "</style>\n",
       "<table border=\"1\" class=\"dataframe\">\n",
       "  <thead>\n",
       "    <tr style=\"text-align: right;\">\n",
       "      <th></th>\n",
       "      <th>snv_counts</th>\n",
       "      <th>indel_counts</th>\n",
       "      <th>strelka_mutations</th>\n",
       "      <th>log10_sum</th>\n",
       "      <th>reanne_HIV_status</th>\n",
       "      <th>HPV_status</th>\n",
       "      <th>Clinical_histology</th>\n",
       "      <th>reanne_Putative_histology</th>\n",
       "      <th>comments</th>\n",
       "    </tr>\n",
       "    <tr>\n",
       "      <th>patient</th>\n",
       "      <th></th>\n",
       "      <th></th>\n",
       "      <th></th>\n",
       "      <th></th>\n",
       "      <th></th>\n",
       "      <th></th>\n",
       "      <th></th>\n",
       "      <th></th>\n",
       "      <th></th>\n",
       "    </tr>\n",
       "  </thead>\n",
       "  <tbody>\n",
       "    <tr>\n",
       "      <th>HTMCP-03-06-02001</th>\n",
       "      <td>25732</td>\n",
       "      <td>1242</td>\n",
       "      <td>26974</td>\n",
       "      <td>4.430945</td>\n",
       "      <td>Positive</td>\n",
       "      <td>Positive</td>\n",
       "      <td>Squamous Non-Keratinizing</td>\n",
       "      <td>Squamous</td>\n",
       "      <td>NaN</td>\n",
       "    </tr>\n",
       "    <tr>\n",
       "      <th>HTMCP-03-06-02002</th>\n",
       "      <td>15964</td>\n",
       "      <td>697</td>\n",
       "      <td>16661</td>\n",
       "      <td>4.221701</td>\n",
       "      <td>Negative</td>\n",
       "      <td>Positive</td>\n",
       "      <td>Squamous Non-Keratinizing</td>\n",
       "      <td>Squamous</td>\n",
       "      <td>NaN</td>\n",
       "    </tr>\n",
       "  </tbody>\n",
       "</table>\n",
       "</div>"
      ],
      "text/plain": [
       "                   snv_counts  indel_counts  strelka_mutations  log10_sum  \\\n",
       "patient                                                                     \n",
       "HTMCP-03-06-02001       25732          1242              26974   4.430945   \n",
       "HTMCP-03-06-02002       15964           697              16661   4.221701   \n",
       "\n",
       "                  reanne_HIV_status HPV_status         Clinical_histology  \\\n",
       "patient                                                                     \n",
       "HTMCP-03-06-02001          Positive   Positive  Squamous Non-Keratinizing   \n",
       "HTMCP-03-06-02002          Negative   Positive  Squamous Non-Keratinizing   \n",
       "\n",
       "                  reanne_Putative_histology comments  \n",
       "patient                                               \n",
       "HTMCP-03-06-02001                  Squamous      NaN  \n",
       "HTMCP-03-06-02002                  Squamous      NaN  "
      ]
     },
     "execution_count": 15,
     "metadata": {},
     "output_type": "execute_result"
    }
   ],
   "source": [
    "dfm = pd.merge(df_strelka, df2, left_index=True, right_index=True)\n",
    "dfm.head(2)"
   ]
  },
  {
   "cell_type": "code",
   "execution_count": 16,
   "metadata": {
    "collapsed": true
   },
   "outputs": [],
   "source": [
    "non_dup_cols = df3.columns.difference(dfm.columns)"
   ]
  },
  {
   "cell_type": "code",
   "execution_count": 17,
   "metadata": {},
   "outputs": [
    {
     "data": {
      "text/plain": [
       "Index(['age_at_diagnosis', 'ajcc_tumor_clinical_ct', 'birth_days_to',\n",
       "       'cd4_counts_at_diagnosis', 'cd4_counts_at_diagnosis.1',\n",
       "       'clinical_stage', 'days_to_hiv_diagnosis', 'ecog_score',\n",
       "       'haart_therapy_at_dx', 'haart_therapy_prior_to_dx',\n",
       "       'height_cm_at_diagnosis', 'histologic_diagnosis',\n",
       "       'history_hormonal_contraceptives_use', 'hiv_rna_load_at_diagnosis',\n",
       "       'hiv_rna_load_at_diagnosis.1', 'karnofsky_score',\n",
       "       'keratinization_squamous_cell', 'live_birth_pregnancy_count',\n",
       "       'menopause_status', 'nadir_cd4_counts', 'patient_id',\n",
       "       'pregnancies_count_induced_abortion', 'pregnancies_count_miscarriage',\n",
       "       'tobacco_smoking_history_indicator', 'total_pregnancy_count',\n",
       "       'tumor_grade', 'weight_kg_at_diagnosis'],\n",
       "      dtype='object')"
      ]
     },
     "execution_count": 17,
     "metadata": {},
     "output_type": "execute_result"
    }
   ],
   "source": [
    "non_dup_cols"
   ]
  },
  {
   "cell_type": "code",
   "execution_count": 18,
   "metadata": {
    "collapsed": true
   },
   "outputs": [],
   "source": [
    "dfm = pd.merge(dfm, df3[non_dup_cols], left_index=True, right_index=True, how='left')"
   ]
  },
  {
   "cell_type": "code",
   "execution_count": 19,
   "metadata": {},
   "outputs": [
    {
     "data": {
      "text/plain": [
       "(123, 36)"
      ]
     },
     "execution_count": 19,
     "metadata": {},
     "output_type": "execute_result"
    }
   ],
   "source": [
    "dfm.shape"
   ]
  },
  {
   "cell_type": "code",
   "execution_count": 20,
   "metadata": {},
   "outputs": [
    {
     "data": {
      "text/html": [
       "<div>\n",
       "<style>\n",
       "    .dataframe thead tr:only-child th {\n",
       "        text-align: right;\n",
       "    }\n",
       "\n",
       "    .dataframe thead th {\n",
       "        text-align: left;\n",
       "    }\n",
       "\n",
       "    .dataframe tbody tr th {\n",
       "        vertical-align: top;\n",
       "    }\n",
       "</style>\n",
       "<table border=\"1\" class=\"dataframe\">\n",
       "  <thead>\n",
       "    <tr style=\"text-align: right;\">\n",
       "      <th></th>\n",
       "      <th>snv_counts</th>\n",
       "      <th>indel_counts</th>\n",
       "      <th>strelka_mutations</th>\n",
       "      <th>log10_sum</th>\n",
       "      <th>reanne_HIV_status</th>\n",
       "      <th>HPV_status</th>\n",
       "      <th>Clinical_histology</th>\n",
       "      <th>reanne_Putative_histology</th>\n",
       "      <th>comments</th>\n",
       "      <th>age_at_diagnosis</th>\n",
       "      <th>...</th>\n",
       "      <th>live_birth_pregnancy_count</th>\n",
       "      <th>menopause_status</th>\n",
       "      <th>nadir_cd4_counts</th>\n",
       "      <th>patient_id</th>\n",
       "      <th>pregnancies_count_induced_abortion</th>\n",
       "      <th>pregnancies_count_miscarriage</th>\n",
       "      <th>tobacco_smoking_history_indicator</th>\n",
       "      <th>total_pregnancy_count</th>\n",
       "      <th>tumor_grade</th>\n",
       "      <th>weight_kg_at_diagnosis</th>\n",
       "    </tr>\n",
       "    <tr>\n",
       "      <th>patient</th>\n",
       "      <th></th>\n",
       "      <th></th>\n",
       "      <th></th>\n",
       "      <th></th>\n",
       "      <th></th>\n",
       "      <th></th>\n",
       "      <th></th>\n",
       "      <th></th>\n",
       "      <th></th>\n",
       "      <th></th>\n",
       "      <th></th>\n",
       "      <th></th>\n",
       "      <th></th>\n",
       "      <th></th>\n",
       "      <th></th>\n",
       "      <th></th>\n",
       "      <th></th>\n",
       "      <th></th>\n",
       "      <th></th>\n",
       "      <th></th>\n",
       "      <th></th>\n",
       "    </tr>\n",
       "  </thead>\n",
       "  <tbody>\n",
       "    <tr>\n",
       "      <th>HTMCP-03-06-02001</th>\n",
       "      <td>25732</td>\n",
       "      <td>1242</td>\n",
       "      <td>26974</td>\n",
       "      <td>4.430945</td>\n",
       "      <td>Positive</td>\n",
       "      <td>Positive</td>\n",
       "      <td>Squamous Non-Keratinizing</td>\n",
       "      <td>Squamous</td>\n",
       "      <td>NaN</td>\n",
       "      <td>56.0</td>\n",
       "      <td>...</td>\n",
       "      <td>5.0</td>\n",
       "      <td>Post (prior bilateral ovariectomy OR &gt;12 mo si...</td>\n",
       "      <td>NaN</td>\n",
       "      <td>2001.0</td>\n",
       "      <td>NaN</td>\n",
       "      <td>1.0</td>\n",
       "      <td>1.0</td>\n",
       "      <td>6.0</td>\n",
       "      <td>G2</td>\n",
       "      <td>44.5</td>\n",
       "    </tr>\n",
       "    <tr>\n",
       "      <th>HTMCP-03-06-02002</th>\n",
       "      <td>15964</td>\n",
       "      <td>697</td>\n",
       "      <td>16661</td>\n",
       "      <td>4.221701</td>\n",
       "      <td>Negative</td>\n",
       "      <td>Positive</td>\n",
       "      <td>Squamous Non-Keratinizing</td>\n",
       "      <td>Squamous</td>\n",
       "      <td>NaN</td>\n",
       "      <td>62.0</td>\n",
       "      <td>...</td>\n",
       "      <td>8.0</td>\n",
       "      <td>Post (prior bilateral ovariectomy OR &gt;12 mo si...</td>\n",
       "      <td>NaN</td>\n",
       "      <td>2002.0</td>\n",
       "      <td>3.0</td>\n",
       "      <td>NaN</td>\n",
       "      <td>1.0</td>\n",
       "      <td>11.0</td>\n",
       "      <td>G3</td>\n",
       "      <td>70.2</td>\n",
       "    </tr>\n",
       "    <tr>\n",
       "      <th>HTMCP-03-06-02003</th>\n",
       "      <td>7914</td>\n",
       "      <td>483</td>\n",
       "      <td>8397</td>\n",
       "      <td>3.924124</td>\n",
       "      <td>Positive</td>\n",
       "      <td>Positive</td>\n",
       "      <td>Squamous Non-Keratinizing</td>\n",
       "      <td>Squamous</td>\n",
       "      <td>NaN</td>\n",
       "      <td>39.0</td>\n",
       "      <td>...</td>\n",
       "      <td>4.0</td>\n",
       "      <td>Pre (&lt;6 months since LMP AND no prior bilatera...</td>\n",
       "      <td>NaN</td>\n",
       "      <td>2003.0</td>\n",
       "      <td>NaN</td>\n",
       "      <td>NaN</td>\n",
       "      <td>1.0</td>\n",
       "      <td>5.0</td>\n",
       "      <td>G2</td>\n",
       "      <td>56.2</td>\n",
       "    </tr>\n",
       "  </tbody>\n",
       "</table>\n",
       "<p>3 rows × 36 columns</p>\n",
       "</div>"
      ],
      "text/plain": [
       "                   snv_counts  indel_counts  strelka_mutations  log10_sum  \\\n",
       "patient                                                                     \n",
       "HTMCP-03-06-02001       25732          1242              26974   4.430945   \n",
       "HTMCP-03-06-02002       15964           697              16661   4.221701   \n",
       "HTMCP-03-06-02003        7914           483               8397   3.924124   \n",
       "\n",
       "                  reanne_HIV_status HPV_status         Clinical_histology  \\\n",
       "patient                                                                     \n",
       "HTMCP-03-06-02001          Positive   Positive  Squamous Non-Keratinizing   \n",
       "HTMCP-03-06-02002          Negative   Positive  Squamous Non-Keratinizing   \n",
       "HTMCP-03-06-02003          Positive   Positive  Squamous Non-Keratinizing   \n",
       "\n",
       "                  reanne_Putative_histology comments  age_at_diagnosis  \\\n",
       "patient                                                                  \n",
       "HTMCP-03-06-02001                  Squamous      NaN              56.0   \n",
       "HTMCP-03-06-02002                  Squamous      NaN              62.0   \n",
       "HTMCP-03-06-02003                  Squamous      NaN              39.0   \n",
       "\n",
       "                            ...           live_birth_pregnancy_count  \\\n",
       "patient                     ...                                        \n",
       "HTMCP-03-06-02001           ...                                  5.0   \n",
       "HTMCP-03-06-02002           ...                                  8.0   \n",
       "HTMCP-03-06-02003           ...                                  4.0   \n",
       "\n",
       "                                                    menopause_status  \\\n",
       "patient                                                                \n",
       "HTMCP-03-06-02001  Post (prior bilateral ovariectomy OR >12 mo si...   \n",
       "HTMCP-03-06-02002  Post (prior bilateral ovariectomy OR >12 mo si...   \n",
       "HTMCP-03-06-02003  Pre (<6 months since LMP AND no prior bilatera...   \n",
       "\n",
       "                   nadir_cd4_counts  patient_id  \\\n",
       "patient                                           \n",
       "HTMCP-03-06-02001               NaN      2001.0   \n",
       "HTMCP-03-06-02002               NaN      2002.0   \n",
       "HTMCP-03-06-02003               NaN      2003.0   \n",
       "\n",
       "                  pregnancies_count_induced_abortion  \\\n",
       "patient                                                \n",
       "HTMCP-03-06-02001                                NaN   \n",
       "HTMCP-03-06-02002                                3.0   \n",
       "HTMCP-03-06-02003                                NaN   \n",
       "\n",
       "                   pregnancies_count_miscarriage  \\\n",
       "patient                                            \n",
       "HTMCP-03-06-02001                            1.0   \n",
       "HTMCP-03-06-02002                            NaN   \n",
       "HTMCP-03-06-02003                            NaN   \n",
       "\n",
       "                  tobacco_smoking_history_indicator total_pregnancy_count  \\\n",
       "patient                                                                     \n",
       "HTMCP-03-06-02001                               1.0                   6.0   \n",
       "HTMCP-03-06-02002                               1.0                  11.0   \n",
       "HTMCP-03-06-02003                               1.0                   5.0   \n",
       "\n",
       "                  tumor_grade  weight_kg_at_diagnosis  \n",
       "patient                                                \n",
       "HTMCP-03-06-02001          G2                    44.5  \n",
       "HTMCP-03-06-02002          G3                    70.2  \n",
       "HTMCP-03-06-02003          G2                    56.2  \n",
       "\n",
       "[3 rows x 36 columns]"
      ]
     },
     "execution_count": 20,
     "metadata": {},
     "output_type": "execute_result"
    }
   ],
   "source": [
    "dfm.head(3)"
   ]
  },
  {
   "cell_type": "code",
   "execution_count": 21,
   "metadata": {},
   "outputs": [
    {
     "data": {
      "text/plain": [
       "(30, 36)"
      ]
     },
     "execution_count": 21,
     "metadata": {},
     "output_type": "execute_result"
    }
   ],
   "source": [
    "dfm[dfm.age_at_diagnosis.isnull()].shape"
   ]
  },
  {
   "cell_type": "code",
   "execution_count": 22,
   "metadata": {
    "scrolled": true
   },
   "outputs": [
    {
     "data": {
      "text/plain": [
       "Positive    74\n",
       "Negative    49\n",
       "Name: reanne_HIV_status, dtype: int64"
      ]
     },
     "execution_count": 22,
     "metadata": {},
     "output_type": "execute_result"
    }
   ],
   "source": [
    "dfm['reanne_HIV_status'].value_counts()"
   ]
  },
  {
   "cell_type": "code",
   "execution_count": null,
   "metadata": {
    "collapsed": true
   },
   "outputs": [],
   "source": []
  },
  {
   "cell_type": "code",
   "execution_count": 23,
   "metadata": {},
   "outputs": [
    {
     "data": {
      "text/plain": [
       "Squamous    102\n",
       "Adeno        21\n",
       "Name: reanne_Putative_histology, dtype: int64"
      ]
     },
     "execution_count": 23,
     "metadata": {},
     "output_type": "execute_result"
    }
   ],
   "source": [
    "dfm['reanne_Putative_histology'].value_counts()"
   ]
  },
  {
   "cell_type": "code",
   "execution_count": 24,
   "metadata": {
    "collapsed": true
   },
   "outputs": [],
   "source": [
    "# colors = ['red' if i==\"Positive\" else 'blue' for i in dfm['HIV_status']]\n",
    "# dfm.plot('log10_snv', 'log10_indel', kind='scatter', c=colors)"
   ]
  },
  {
   "cell_type": "code",
   "execution_count": 25,
   "metadata": {},
   "outputs": [
    {
     "data": {
      "text/html": [
       "<div>\n",
       "<style>\n",
       "    .dataframe thead tr:only-child th {\n",
       "        text-align: right;\n",
       "    }\n",
       "\n",
       "    .dataframe thead th {\n",
       "        text-align: left;\n",
       "    }\n",
       "\n",
       "    .dataframe tbody tr th {\n",
       "        vertical-align: top;\n",
       "    }\n",
       "</style>\n",
       "<table border=\"1\" class=\"dataframe\">\n",
       "  <thead>\n",
       "    <tr style=\"text-align: right;\">\n",
       "      <th></th>\n",
       "      <th>snv_counts</th>\n",
       "      <th>indel_counts</th>\n",
       "      <th>strelka_mutations</th>\n",
       "      <th>log10_sum</th>\n",
       "      <th>reanne_HIV_status</th>\n",
       "      <th>HPV_status</th>\n",
       "      <th>Clinical_histology</th>\n",
       "      <th>reanne_Putative_histology</th>\n",
       "      <th>comments</th>\n",
       "      <th>age_at_diagnosis</th>\n",
       "      <th>...</th>\n",
       "      <th>live_birth_pregnancy_count</th>\n",
       "      <th>menopause_status</th>\n",
       "      <th>nadir_cd4_counts</th>\n",
       "      <th>patient_id</th>\n",
       "      <th>pregnancies_count_induced_abortion</th>\n",
       "      <th>pregnancies_count_miscarriage</th>\n",
       "      <th>tobacco_smoking_history_indicator</th>\n",
       "      <th>total_pregnancy_count</th>\n",
       "      <th>tumor_grade</th>\n",
       "      <th>weight_kg_at_diagnosis</th>\n",
       "    </tr>\n",
       "    <tr>\n",
       "      <th>patient</th>\n",
       "      <th></th>\n",
       "      <th></th>\n",
       "      <th></th>\n",
       "      <th></th>\n",
       "      <th></th>\n",
       "      <th></th>\n",
       "      <th></th>\n",
       "      <th></th>\n",
       "      <th></th>\n",
       "      <th></th>\n",
       "      <th></th>\n",
       "      <th></th>\n",
       "      <th></th>\n",
       "      <th></th>\n",
       "      <th></th>\n",
       "      <th></th>\n",
       "      <th></th>\n",
       "      <th></th>\n",
       "      <th></th>\n",
       "      <th></th>\n",
       "      <th></th>\n",
       "    </tr>\n",
       "  </thead>\n",
       "  <tbody>\n",
       "    <tr>\n",
       "      <th>HTMCP-03-06-02001</th>\n",
       "      <td>25732</td>\n",
       "      <td>1242</td>\n",
       "      <td>26974</td>\n",
       "      <td>4.430945</td>\n",
       "      <td>Positive</td>\n",
       "      <td>Positive</td>\n",
       "      <td>Squamous Non-Keratinizing</td>\n",
       "      <td>Squamous</td>\n",
       "      <td>NaN</td>\n",
       "      <td>56.0</td>\n",
       "      <td>...</td>\n",
       "      <td>5.0</td>\n",
       "      <td>Post (prior bilateral ovariectomy OR &gt;12 mo si...</td>\n",
       "      <td>NaN</td>\n",
       "      <td>2001.0</td>\n",
       "      <td>NaN</td>\n",
       "      <td>1.0</td>\n",
       "      <td>1.0</td>\n",
       "      <td>6.0</td>\n",
       "      <td>G2</td>\n",
       "      <td>44.5</td>\n",
       "    </tr>\n",
       "    <tr>\n",
       "      <th>HTMCP-03-06-02002</th>\n",
       "      <td>15964</td>\n",
       "      <td>697</td>\n",
       "      <td>16661</td>\n",
       "      <td>4.221701</td>\n",
       "      <td>Negative</td>\n",
       "      <td>Positive</td>\n",
       "      <td>Squamous Non-Keratinizing</td>\n",
       "      <td>Squamous</td>\n",
       "      <td>NaN</td>\n",
       "      <td>62.0</td>\n",
       "      <td>...</td>\n",
       "      <td>8.0</td>\n",
       "      <td>Post (prior bilateral ovariectomy OR &gt;12 mo si...</td>\n",
       "      <td>NaN</td>\n",
       "      <td>2002.0</td>\n",
       "      <td>3.0</td>\n",
       "      <td>NaN</td>\n",
       "      <td>1.0</td>\n",
       "      <td>11.0</td>\n",
       "      <td>G3</td>\n",
       "      <td>70.2</td>\n",
       "    </tr>\n",
       "  </tbody>\n",
       "</table>\n",
       "<p>2 rows × 36 columns</p>\n",
       "</div>"
      ],
      "text/plain": [
       "                   snv_counts  indel_counts  strelka_mutations  log10_sum  \\\n",
       "patient                                                                     \n",
       "HTMCP-03-06-02001       25732          1242              26974   4.430945   \n",
       "HTMCP-03-06-02002       15964           697              16661   4.221701   \n",
       "\n",
       "                  reanne_HIV_status HPV_status         Clinical_histology  \\\n",
       "patient                                                                     \n",
       "HTMCP-03-06-02001          Positive   Positive  Squamous Non-Keratinizing   \n",
       "HTMCP-03-06-02002          Negative   Positive  Squamous Non-Keratinizing   \n",
       "\n",
       "                  reanne_Putative_histology comments  age_at_diagnosis  \\\n",
       "patient                                                                  \n",
       "HTMCP-03-06-02001                  Squamous      NaN              56.0   \n",
       "HTMCP-03-06-02002                  Squamous      NaN              62.0   \n",
       "\n",
       "                            ...           live_birth_pregnancy_count  \\\n",
       "patient                     ...                                        \n",
       "HTMCP-03-06-02001           ...                                  5.0   \n",
       "HTMCP-03-06-02002           ...                                  8.0   \n",
       "\n",
       "                                                    menopause_status  \\\n",
       "patient                                                                \n",
       "HTMCP-03-06-02001  Post (prior bilateral ovariectomy OR >12 mo si...   \n",
       "HTMCP-03-06-02002  Post (prior bilateral ovariectomy OR >12 mo si...   \n",
       "\n",
       "                   nadir_cd4_counts  patient_id  \\\n",
       "patient                                           \n",
       "HTMCP-03-06-02001               NaN      2001.0   \n",
       "HTMCP-03-06-02002               NaN      2002.0   \n",
       "\n",
       "                  pregnancies_count_induced_abortion  \\\n",
       "patient                                                \n",
       "HTMCP-03-06-02001                                NaN   \n",
       "HTMCP-03-06-02002                                3.0   \n",
       "\n",
       "                   pregnancies_count_miscarriage  \\\n",
       "patient                                            \n",
       "HTMCP-03-06-02001                            1.0   \n",
       "HTMCP-03-06-02002                            NaN   \n",
       "\n",
       "                  tobacco_smoking_history_indicator total_pregnancy_count  \\\n",
       "patient                                                                     \n",
       "HTMCP-03-06-02001                               1.0                   6.0   \n",
       "HTMCP-03-06-02002                               1.0                  11.0   \n",
       "\n",
       "                  tumor_grade  weight_kg_at_diagnosis  \n",
       "patient                                                \n",
       "HTMCP-03-06-02001          G2                    44.5  \n",
       "HTMCP-03-06-02002          G3                    70.2  \n",
       "\n",
       "[2 rows x 36 columns]"
      ]
     },
     "execution_count": 25,
     "metadata": {},
     "output_type": "execute_result"
    }
   ],
   "source": [
    "dfm.head(2)"
   ]
  },
  {
   "cell_type": "code",
   "execution_count": 26,
   "metadata": {
    "collapsed": true
   },
   "outputs": [],
   "source": [
    "of2 = '/projects/trans_scratch/validations/workspace/szong/Cervical/variant_bwamem/124_patients/mutation_load_clinic.txt'\n",
    "# dfm.to_csv(of2, sep='\\t')"
   ]
  },
  {
   "cell_type": "code",
   "execution_count": 27,
   "metadata": {
    "collapsed": true
   },
   "outputs": [],
   "source": [
    "\n",
    "dfm = dfm[dfm.age_at_diagnosis.notnull()]"
   ]
  },
  {
   "cell_type": "code",
   "execution_count": 28,
   "metadata": {},
   "outputs": [
    {
     "data": {
      "text/html": [
       "<div>\n",
       "<style>\n",
       "    .dataframe thead tr:only-child th {\n",
       "        text-align: right;\n",
       "    }\n",
       "\n",
       "    .dataframe thead th {\n",
       "        text-align: left;\n",
       "    }\n",
       "\n",
       "    .dataframe tbody tr th {\n",
       "        vertical-align: top;\n",
       "    }\n",
       "</style>\n",
       "<table border=\"1\" class=\"dataframe\">\n",
       "  <thead>\n",
       "    <tr style=\"text-align: right;\">\n",
       "      <th></th>\n",
       "      <th>snv_counts</th>\n",
       "      <th>indel_counts</th>\n",
       "      <th>strelka_mutations</th>\n",
       "      <th>log10_sum</th>\n",
       "      <th>reanne_HIV_status</th>\n",
       "      <th>HPV_status</th>\n",
       "      <th>Clinical_histology</th>\n",
       "      <th>reanne_Putative_histology</th>\n",
       "      <th>comments</th>\n",
       "      <th>age_at_diagnosis</th>\n",
       "      <th>...</th>\n",
       "      <th>live_birth_pregnancy_count</th>\n",
       "      <th>menopause_status</th>\n",
       "      <th>nadir_cd4_counts</th>\n",
       "      <th>patient_id</th>\n",
       "      <th>pregnancies_count_induced_abortion</th>\n",
       "      <th>pregnancies_count_miscarriage</th>\n",
       "      <th>tobacco_smoking_history_indicator</th>\n",
       "      <th>total_pregnancy_count</th>\n",
       "      <th>tumor_grade</th>\n",
       "      <th>weight_kg_at_diagnosis</th>\n",
       "    </tr>\n",
       "    <tr>\n",
       "      <th>patient</th>\n",
       "      <th></th>\n",
       "      <th></th>\n",
       "      <th></th>\n",
       "      <th></th>\n",
       "      <th></th>\n",
       "      <th></th>\n",
       "      <th></th>\n",
       "      <th></th>\n",
       "      <th></th>\n",
       "      <th></th>\n",
       "      <th></th>\n",
       "      <th></th>\n",
       "      <th></th>\n",
       "      <th></th>\n",
       "      <th></th>\n",
       "      <th></th>\n",
       "      <th></th>\n",
       "      <th></th>\n",
       "      <th></th>\n",
       "      <th></th>\n",
       "      <th></th>\n",
       "    </tr>\n",
       "  </thead>\n",
       "  <tbody>\n",
       "  </tbody>\n",
       "</table>\n",
       "<p>0 rows × 36 columns</p>\n",
       "</div>"
      ],
      "text/plain": [
       "Empty DataFrame\n",
       "Columns: [snv_counts, indel_counts, strelka_mutations, log10_sum, reanne_HIV_status, HPV_status, Clinical_histology, reanne_Putative_histology, comments, age_at_diagnosis, ajcc_tumor_clinical_ct, birth_days_to, cd4_counts_at_diagnosis, cd4_counts_at_diagnosis.1, clinical_stage, days_to_hiv_diagnosis, ecog_score, haart_therapy_at_dx, haart_therapy_prior_to_dx, height_cm_at_diagnosis, histologic_diagnosis, history_hormonal_contraceptives_use, hiv_rna_load_at_diagnosis, hiv_rna_load_at_diagnosis.1, karnofsky_score, keratinization_squamous_cell, live_birth_pregnancy_count, menopause_status, nadir_cd4_counts, patient_id, pregnancies_count_induced_abortion, pregnancies_count_miscarriage, tobacco_smoking_history_indicator, total_pregnancy_count, tumor_grade, weight_kg_at_diagnosis]\n",
       "Index: []\n",
       "\n",
       "[0 rows x 36 columns]"
      ]
     },
     "execution_count": 28,
     "metadata": {},
     "output_type": "execute_result"
    }
   ],
   "source": [
    "dfm[dfm.age_at_diagnosis.isnull()]"
   ]
  },
  {
   "cell_type": "code",
   "execution_count": 29,
   "metadata": {
    "collapsed": true
   },
   "outputs": [],
   "source": [
    "# drop outliers to see if this results in better box plot and /or mann whiteney u test results (nonparametric test, should not matter)\n",
    "# result still significant p=0.030, intead of p= 0.007\n",
    "# dfm.drop(['HTMCP-03-06-02026', 'HTMCP-03-06-02007', 'HTMCP-03-06-02261', 'HTMCP-03-06-02262'], inplace=True)"
   ]
  },
  {
   "cell_type": "markdown",
   "metadata": {},
   "source": [
    "different mutation burden in HIV + and - patients"
   ]
  },
  {
   "cell_type": "code",
   "execution_count": 9,
   "metadata": {},
   "outputs": [
    {
     "data": {
      "text/plain": [
       "False"
      ]
     },
     "execution_count": 9,
     "metadata": {},
     "output_type": "execute_result"
    }
   ],
   "source": [
    "f =  '/projects/trans_scratch/validations/workspace/szong/Cervical/variant_bwamem/124_patients/mutation_load_clinic.txt'\n",
    "df = pd.read_csv(f, index_col='patient', sep='\\t')\n",
    "df.head(2)\n",
    "\n",
    "df.tmp = df.reanne_HIV_status.apply(lambda x: '+' if x == 'Positive' else '-')\n",
    "\n",
    "assert (df.tmp.value_counts() == pd.Series({'+':74, '-':49})).all()\n",
    "\n",
    "df['combo'] = df.reanne_Putative_histology + df.tmp\n",
    "\n",
    "'tmp' in df.columns"
   ]
  },
  {
   "cell_type": "code",
   "execution_count": 11,
   "metadata": {},
   "outputs": [
    {
     "data": {
      "text/html": [
       "<div>\n",
       "<style>\n",
       "    .dataframe thead tr:only-child th {\n",
       "        text-align: right;\n",
       "    }\n",
       "\n",
       "    .dataframe thead th {\n",
       "        text-align: left;\n",
       "    }\n",
       "\n",
       "    .dataframe tbody tr th {\n",
       "        vertical-align: top;\n",
       "    }\n",
       "</style>\n",
       "<table border=\"1\" class=\"dataframe\">\n",
       "  <thead>\n",
       "    <tr style=\"text-align: right;\">\n",
       "      <th></th>\n",
       "      <th>snv_counts</th>\n",
       "      <th>indel_counts</th>\n",
       "      <th>strelka_mutations</th>\n",
       "      <th>log10_sum</th>\n",
       "      <th>reanne_HIV_status</th>\n",
       "      <th>HPV_status</th>\n",
       "      <th>Clinical_histology</th>\n",
       "      <th>reanne_Putative_histology</th>\n",
       "      <th>comments</th>\n",
       "      <th>age_at_diagnosis</th>\n",
       "      <th>...</th>\n",
       "      <th>menopause_status</th>\n",
       "      <th>nadir_cd4_counts</th>\n",
       "      <th>patient_id</th>\n",
       "      <th>pregnancies_count_induced_abortion</th>\n",
       "      <th>pregnancies_count_miscarriage</th>\n",
       "      <th>tobacco_smoking_history_indicator</th>\n",
       "      <th>total_pregnancy_count</th>\n",
       "      <th>tumor_grade</th>\n",
       "      <th>weight_kg_at_diagnosis</th>\n",
       "      <th>combo</th>\n",
       "    </tr>\n",
       "    <tr>\n",
       "      <th>patient</th>\n",
       "      <th></th>\n",
       "      <th></th>\n",
       "      <th></th>\n",
       "      <th></th>\n",
       "      <th></th>\n",
       "      <th></th>\n",
       "      <th></th>\n",
       "      <th></th>\n",
       "      <th></th>\n",
       "      <th></th>\n",
       "      <th></th>\n",
       "      <th></th>\n",
       "      <th></th>\n",
       "      <th></th>\n",
       "      <th></th>\n",
       "      <th></th>\n",
       "      <th></th>\n",
       "      <th></th>\n",
       "      <th></th>\n",
       "      <th></th>\n",
       "      <th></th>\n",
       "    </tr>\n",
       "  </thead>\n",
       "  <tbody>\n",
       "    <tr>\n",
       "      <th>HTMCP-03-06-02001</th>\n",
       "      <td>25732</td>\n",
       "      <td>1242</td>\n",
       "      <td>26974</td>\n",
       "      <td>4.430945</td>\n",
       "      <td>Positive</td>\n",
       "      <td>Positive</td>\n",
       "      <td>Squamous Non-Keratinizing</td>\n",
       "      <td>Squamous</td>\n",
       "      <td>NaN</td>\n",
       "      <td>56</td>\n",
       "      <td>...</td>\n",
       "      <td>Post (prior bilateral ovariectomy OR &gt;12 mo si...</td>\n",
       "      <td>[Not Available]</td>\n",
       "      <td>2001.0</td>\n",
       "      <td>[Not Available]</td>\n",
       "      <td>1</td>\n",
       "      <td>1</td>\n",
       "      <td>6.0</td>\n",
       "      <td>G2</td>\n",
       "      <td>44.5</td>\n",
       "      <td>Squamous+</td>\n",
       "    </tr>\n",
       "    <tr>\n",
       "      <th>HTMCP-03-06-02002</th>\n",
       "      <td>15964</td>\n",
       "      <td>697</td>\n",
       "      <td>16661</td>\n",
       "      <td>4.221701</td>\n",
       "      <td>Negative</td>\n",
       "      <td>Positive</td>\n",
       "      <td>Squamous Non-Keratinizing</td>\n",
       "      <td>Squamous</td>\n",
       "      <td>NaN</td>\n",
       "      <td>62</td>\n",
       "      <td>...</td>\n",
       "      <td>Post (prior bilateral ovariectomy OR &gt;12 mo si...</td>\n",
       "      <td>[Not Available]</td>\n",
       "      <td>2002.0</td>\n",
       "      <td>3</td>\n",
       "      <td>[Not Available]</td>\n",
       "      <td>1</td>\n",
       "      <td>11.0</td>\n",
       "      <td>G3</td>\n",
       "      <td>70.2</td>\n",
       "      <td>Squamous-</td>\n",
       "    </tr>\n",
       "  </tbody>\n",
       "</table>\n",
       "<p>2 rows × 37 columns</p>\n",
       "</div>"
      ],
      "text/plain": [
       "                   snv_counts  indel_counts  strelka_mutations  log10_sum  \\\n",
       "patient                                                                     \n",
       "HTMCP-03-06-02001       25732          1242              26974   4.430945   \n",
       "HTMCP-03-06-02002       15964           697              16661   4.221701   \n",
       "\n",
       "                  reanne_HIV_status HPV_status         Clinical_histology  \\\n",
       "patient                                                                     \n",
       "HTMCP-03-06-02001          Positive   Positive  Squamous Non-Keratinizing   \n",
       "HTMCP-03-06-02002          Negative   Positive  Squamous Non-Keratinizing   \n",
       "\n",
       "                  reanne_Putative_histology comments age_at_diagnosis  \\\n",
       "patient                                                                 \n",
       "HTMCP-03-06-02001                  Squamous      NaN               56   \n",
       "HTMCP-03-06-02002                  Squamous      NaN               62   \n",
       "\n",
       "                     ...      \\\n",
       "patient              ...       \n",
       "HTMCP-03-06-02001    ...       \n",
       "HTMCP-03-06-02002    ...       \n",
       "\n",
       "                                                    menopause_status  \\\n",
       "patient                                                                \n",
       "HTMCP-03-06-02001  Post (prior bilateral ovariectomy OR >12 mo si...   \n",
       "HTMCP-03-06-02002  Post (prior bilateral ovariectomy OR >12 mo si...   \n",
       "\n",
       "                  nadir_cd4_counts patient_id  \\\n",
       "patient                                         \n",
       "HTMCP-03-06-02001  [Not Available]     2001.0   \n",
       "HTMCP-03-06-02002  [Not Available]     2002.0   \n",
       "\n",
       "                  pregnancies_count_induced_abortion  \\\n",
       "patient                                                \n",
       "HTMCP-03-06-02001                    [Not Available]   \n",
       "HTMCP-03-06-02002                                  3   \n",
       "\n",
       "                  pregnancies_count_miscarriage  \\\n",
       "patient                                           \n",
       "HTMCP-03-06-02001                             1   \n",
       "HTMCP-03-06-02002               [Not Available]   \n",
       "\n",
       "                  tobacco_smoking_history_indicator total_pregnancy_count  \\\n",
       "patient                                                                     \n",
       "HTMCP-03-06-02001                                 1                   6.0   \n",
       "HTMCP-03-06-02002                                 1                  11.0   \n",
       "\n",
       "                  tumor_grade weight_kg_at_diagnosis      combo  \n",
       "patient                                                          \n",
       "HTMCP-03-06-02001          G2                   44.5  Squamous+  \n",
       "HTMCP-03-06-02002          G3                   70.2  Squamous-  \n",
       "\n",
       "[2 rows x 37 columns]"
      ]
     },
     "execution_count": 11,
     "metadata": {},
     "output_type": "execute_result"
    }
   ],
   "source": [
    "df.head(2)"
   ]
  },
  {
   "cell_type": "code",
   "execution_count": 10,
   "metadata": {},
   "outputs": [
    {
     "data": {
      "text/plain": [
       "Index(['snv_counts', 'indel_counts', 'strelka_mutations', 'log10_sum',\n",
       "       'reanne_HIV_status', 'HPV_status', 'Clinical_histology',\n",
       "       'reanne_Putative_histology', 'comments', 'age_at_diagnosis',\n",
       "       'ajcc_tumor_clinical_ct', 'birth_days_to', 'cd4_counts_at_diagnosis',\n",
       "       'cd4_counts_at_diagnosis.1', 'clinical_stage', 'days_to_hiv_diagnosis',\n",
       "       'ecog_score', 'haart_therapy_at_dx', 'haart_therapy_prior_to_dx',\n",
       "       'height_cm_at_diagnosis', 'histologic_diagnosis',\n",
       "       'history_hormonal_contraceptives_use', 'hiv_rna_load_at_diagnosis',\n",
       "       'hiv_rna_load_at_diagnosis.1', 'karnofsky_score',\n",
       "       'keratinization_squamous_cell', 'live_birth_pregnancy_count',\n",
       "       'menopause_status', 'nadir_cd4_counts', 'patient_id',\n",
       "       'pregnancies_count_induced_abortion', 'pregnancies_count_miscarriage',\n",
       "       'tobacco_smoking_history_indicator', 'total_pregnancy_count',\n",
       "       'tumor_grade', 'weight_kg_at_diagnosis', 'combo'],\n",
       "      dtype='object')"
      ]
     },
     "execution_count": 10,
     "metadata": {},
     "output_type": "execute_result"
    }
   ],
   "source": [
    "df.columns"
   ]
  },
  {
   "cell_type": "code",
   "execution_count": 34,
   "metadata": {
    "collapsed": true
   },
   "outputs": [],
   "source": [
    "group_cols = ['reanne_HIV_status', 'reanne_Putative_histology', 'combo']\n",
    "value_col = 'strelka_mutations'\n",
    "titles = ['HIV status', 'putative histology', 'histology + HIV status']"
   ]
  },
  {
   "cell_type": "code",
   "execution_count": 49,
   "metadata": {},
   "outputs": [
    {
     "name": "stderr",
     "output_type": "stream",
     "text": [
      "/home/szong/anaconda3/lib/python3.6/site-packages/matplotlib/font_manager.py:1297: UserWarning: findfont: Font family ['sans-serif'] not found. Falling back to DejaVu Sans\n",
      "  (prop.get_family(), self.defaultFamily[fontext]))\n"
     ]
    },
    {
     "data": {
      "image/png": "[encoded data removed]",
      "text/plain": [
       "<matplotlib.figure.Figure at 0x7f37f1393898>"
      ]
     },
     "metadata": {},
     "output_type": "display_data"
    }
   ],
   "source": [
    "\n",
    "# gene = 'SF3B1'\n",
    "# boxplot overlaps individual data point\n",
    "with plt.style.context(\"seaborn-whitegrid\"):\n",
    "    plt.rcParams[\"axes.edgecolor\"] = \"0.15\"\n",
    "    plt.rcParams[\"axes.linewidth\"]  = 1.25\n",
    "    fig = plt.figure(facecolor='w', figsize=(15,9))\n",
    "\n",
    "    gs = gridspec.GridSpec(int(len(group_cols)/3.0)+1, 3)\n",
    "    p_values = {}\n",
    "    for k, col in enumerate(group_cols):\n",
    "#         titles = group_cols[k]\n",
    "        group_col = col\n",
    "        categories = sorted(df[group_col].unique().tolist(), reverse=True) \n",
    "#         print(k, col)\n",
    "        ax = fig.add_subplot(gs[k])\n",
    "        _ = ax.set_yscale(\"log\")\n",
    "       \n",
    "        _ = sns.swarmplot(x=group_col, y=value_col, data=df, edgecolor=\"black\", linewidth=.9)\n",
    "        _ = sns.boxplot(x=group_col, y=value_col, data=df, saturation=1, ax=ax)\n",
    "\n",
    "        grps = {}\n",
    "        # overlay actuall data point\n",
    "        for i, cat in enumerate(categories):\n",
    "            grps[i] = df.query('{0} == \"{1}\"'.format(group_col, cat))[value_col]\n",
    "\n",
    "        if len(categories) == 2:\n",
    "            # statistical test for 1st grp\n",
    "            sts, p = ss.mannwhitneyu(grps[0], grps[1], use_continuity=True, alternative=None)\n",
    "            p = round(p, 4)\n",
    "            _ = ax.text(0.4 , 0.90,'p={}'.format(p), ha='center', va='center', transform=ax.transAxes, size=14)\n",
    "        elif len(categories) == 4:\n",
    "            # statistical test for 1st grp\n",
    "            for i in [0, 2]:\n",
    "                sts, p = ss.mannwhitneyu(grps[i], grps[i+1], use_continuity=True, alternative=None)\n",
    "                p = round(p, 4)\n",
    "                _ = ax.text(0.3 + i*.2 , 0.90,'p={}'.format(p), ha='center', va='center', transform=ax.transAxes, size=14)\n",
    "            \n",
    "#         ax.tick_params(axis='x', labelsize=18) #specify x tick label size\n",
    "#         _ = ax.set_xticks(range(position+1))\n",
    "#         _ = ax.set_xticklabels(categories, rotation=0)\n",
    "        _ = ax.set_title('{}'.format(titles[k]), fontsize=12)\n",
    "#         _ = ax.set_xlim(xmin=-0.5)\n",
    "#         _= ax.set_ylabel('spicing events', fontsize=12)\n",
    "        ax.set_xlabel('')\n",
    "        ax.set_ylabel('log(strelka mutations)')\n",
    "        ax.grid(True)\n",
    "\n",
    "#     plt.suptitle('', fontsize=14)       \n",
    "    of = '/projects/trans_scratch/validations/workspace/szong/Cervical/variant_bwamem/124_patients/mutation_load.png'\n",
    "    plt.savefig(of, dpi=200, box_inches='tight')\n",
    "plt.show()\n",
    "plt.close()"
   ]
  },
  {
   "cell_type": "code",
   "execution_count": 44,
   "metadata": {},
   "outputs": [
    {
     "data": {
      "text/plain": [
       "range(2, 1)"
      ]
     },
     "execution_count": 44,
     "metadata": {},
     "output_type": "execute_result"
    }
   ],
   "source": []
  },
  {
   "cell_type": "code",
   "execution_count": 12,
   "metadata": {
    "scrolled": true
   },
   "outputs": [
    {
     "data": {
      "image/png": "[encoded data removed]",
      "text/plain": [
       "<matplotlib.figure.Figure at 0x7f37f7c16780>"
      ]
     },
     "metadata": {},
     "output_type": "display_data"
    }
   ],
   "source": [
    "# boxplot\n",
    "with plt.style.context(\"seaborn-whitegrid\"):\n",
    "    plt.rcParams[\"axes.edgecolor\"] = \"0.15\"\n",
    "    plt.rcParams[\"axes.linewidth\"]  = 1.25\n",
    "    fig = plt.figure(facecolor='w', figsize=(16,6))\n",
    "    \n",
    "    x1 = 'reanne_HIV_status'\n",
    "    x2 = 'combo'\n",
    "    x3 = 'reanne_Putative_histology'\n",
    "    y = 'log10_sum'\n",
    "    ax1 = plt.subplot(131)\n",
    "    ax1.set_yscale(\"log\")\n",
    "    sns.swarmplot(x1, y, data=df)\n",
    "    sns.boxplot(x1, y, data=df)\n",
    "    ax1.set_title(\"somatic mutations (Strelka calls)\")\n",
    "    ax1.set(xlabel='HIV_status')\n",
    "    \n",
    "    ax2 = plt.subplot(132)\n",
    "    ax2.set_yscale(\"log\")\n",
    "    sns.swarmplot(x2, y, data=df)\n",
    "    sns.boxplot(x2, y, data=df)\n",
    "    plt.xticks(rotation=60)\n",
    "    ax2.set(xlabel='HIV_status')\n",
    "    ax2.set_title(\"somatic mutations (Strelka calls)\")\n",
    "    \n",
    "    ax3 = plt.subplot(133)\n",
    "    ax3.set_yscale(\"log\")\n",
    "    sns.swarmplot(x3, y, data=df)\n",
    "    sns.boxplot(x3, y, data=df)\n",
    "    ax3.set(xlabel='HIV_status')\n",
    "    ax3.set_title(\"somatic mutations (Strelka calls)\")\n",
    "    ax3.grid(True)\n",
    "    of = '/projects/trans_scratch/validations/workspace/szong/Cervical/variant_bwamem/124_patients/mutations_load_HIV_plots.png'    \n",
    "    plt.savefig(of)\n",
    "    plt.show()\n",
    "    plt.close()"
   ]
  },
  {
   "cell_type": "code",
   "execution_count": null,
   "metadata": {
    "collapsed": true
   },
   "outputs": [],
   "source": []
  },
  {
   "cell_type": "code",
   "execution_count": null,
   "metadata": {
    "collapsed": true
   },
   "outputs": [],
   "source": []
  },
  {
   "cell_type": "code",
   "execution_count": null,
   "metadata": {
    "collapsed": true
   },
   "outputs": [],
   "source": []
  },
  {
   "cell_type": "code",
   "execution_count": null,
   "metadata": {
    "collapsed": true
   },
   "outputs": [],
   "source": []
  },
  {
   "cell_type": "markdown",
   "metadata": {},
   "source": [
    "# below are outdated"
   ]
  },
  {
   "cell_type": "code",
   "execution_count": 37,
   "metadata": {},
   "outputs": [
    {
     "name": "stdout",
     "output_type": "stream",
     "text": [
      "0 0 is 0.1039964486558819\n",
      "0 1 is 0.248274809376615\n"
     ]
    },
    {
     "name": "stderr",
     "output_type": "stream",
     "text": [
      "/home/szong/anaconda3/lib/python3.6/site-packages/matplotlib/font_manager.py:1297: UserWarning: findfont: Font family ['sans-serif'] not found. Falling back to DejaVu Sans\n",
      "  (prop.get_family(), self.defaultFamily[fontext]))\n"
     ]
    },
    {
     "data": {
      "image/png": "[encoded data removed]",
      "text/plain": [
       "<matplotlib.figure.Figure at 0x7f22a9e6bdd8>"
      ]
     },
     "metadata": {},
     "output_type": "display_data"
    },
    {
     "data": {
      "image/png": "[encoded data removed]",
      "text/plain": [
       "<matplotlib.figure.Figure at 0x7f22a9e75588>"
      ]
     },
     "metadata": {},
     "output_type": "display_data"
    }
   ],
   "source": [
    "with plt.style.context(\"seaborn-whitegrid\"):\n",
    "    plt.rcParams[\"axes.edgecolor\"] = \"0.15\"\n",
    "    plt.rcParams[\"axes.linewidth\"]  = 1.25\n",
    "    fig = plt.figure(facecolor='w')\n",
    "    sns.boxplot('reanne_HIV_status', 'log10_sum', data=df)\n",
    "\n",
    "    value_cols = ['log10_sum']\n",
    "    titles = ['somatic mutations (Strelka calls)']\n",
    "    # boxplot overlaps individual data point\n",
    "    fig, axes = plt.subplots(1, 1, figsize=(8, 8))\n",
    "\n",
    "    # axes = axes.ravel()\n",
    "    # group_col = 'combo'\n",
    "    group_col = 'reanne_HIV_status'\n",
    "    tissue_col = 'reanne_Putative_histology'\n",
    "    categories = sorted(df[group_col].unique().tolist(), reverse=True) \n",
    "    tissues = sorted(df[tissue_col].unique().tolist(), reverse=True)\n",
    "    p_values = {}\n",
    "    for k, col in enumerate(value_cols):\n",
    "    #     ax = axes[k]\n",
    "        ax=axes\n",
    "        value_col = col\n",
    "        for position, cat in enumerate(categories):\n",
    "            _ = ax.boxplot(df.query('{0} == \"{1}\"'.format(group_col, cat))[col], \n",
    "                       positions=[position], widths=(0.6), showfliers=False\n",
    "                      )\n",
    "\n",
    "        np.random.seed(0)\n",
    "        grps = {}\n",
    "        # overlay actuall data point based on tissue types\n",
    "        for i, cat in enumerate(categories):\n",
    "            # add jitter and specify maker facecolor and edgecolor               \n",
    "            for j, tissue in enumerate(tissues):\n",
    "                y = (df.query('{0}==\"{1}\" & {2}==\"{3}\"'.format(group_col, cat, tissue_col, tissue))[value_col])\n",
    "                x = np.random.normal(i, 0.1, size=len(y))\n",
    "        #         ax.scatter(x, y, s=30)\n",
    "                lb = '' if i == 0 else tissue\n",
    "                _ = ax.plot(x, y, mfc = [\"orange\",\"blue\",\"yellow\", \"black\"][j], \n",
    "                               mec='k', ms=7, marker=\"o\", linestyle=\"None\", label=lb)\n",
    "                grps[i] = df.query('{0} == \"{1}\"'.format(group_col, cat))[col]\n",
    "    #         show the unequal variance of each group, not equal\n",
    "            print('{0} {1} is {2}'.format(k, i, np.var(grps[i])))\n",
    "        # statistical test for 1st grp\n",
    "        stats, p_U = ss.mannwhitneyu(grps[0], grps[1], use_continuity=True, alternative=None)\n",
    "    #     statsT, p_T = ss.ttest_ind(grps[0], grps[1])\n",
    "        p_U = round(p_U, 4)\n",
    "    #     p_T = round(p_T, 4)\n",
    "        _ = ax.text(0.5, 0.95,'p={}'.format(p_U), ha='center', va='center', transform=ax.transAxes, size=14) \n",
    "    #     _ = ax.text(0.3, 0.90,'p_Ttest={}'.format(p_T), ha='center', va='center', transform=ax.transAxes, size=14)     \n",
    "\n",
    "        _ = ax.set_facecolor('whitesmoke') #specify plot backgroup color\n",
    "        _ = ax.tick_params(axis='x', labelsize=14) #specify x tick label size\n",
    "        _ = ax.set_xticks(range(position+1))\n",
    "        _ = ax.set_xticklabels(categories, rotation=0, fontsize=14)\n",
    "    #     ax.set_title(col)\n",
    "        _ = ax.set_title('{}'.format(titles[k]), fontsize=18)\n",
    "        _ = ax.set_xlim(xmin=-0.5)\n",
    "        _= ax.set_ylabel('number of mutations(log10)', fontsize=14)\n",
    "        ax.grid(True)\n",
    "        _ = ax.legend(scatterpoints=1,\n",
    "                  loc='upper left',\n",
    "                  ncol=1,\n",
    "                  fontsize=12)\n",
    "    plt.suptitle('', fontsize=14)  \n",
    "    of1 = '/projects/trans_scratch/validations/workspace/szong/Cervical/variant_bwamem/107_patients/mutations_load_HIV_plots_1.png'\n",
    "    # plt.savefig(of1, dpi=200)"
   ]
  },
  {
   "cell_type": "code",
   "execution_count": 38,
   "metadata": {},
   "outputs": [
    {
     "name": "stderr",
     "output_type": "stream",
     "text": [
      "/home/szong/anaconda3/lib/python3.6/site-packages/matplotlib/font_manager.py:1297: UserWarning: findfont: Font family ['sans-serif'] not found. Falling back to DejaVu Sans\n",
      "  (prop.get_family(), self.defaultFamily[fontext]))\n"
     ]
    },
    {
     "data": {
      "image/png": "[encoded data removed]",
      "text/plain": [
       "<matplotlib.figure.Figure at 0x7f22a9c9dc18>"
      ]
     },
     "metadata": {},
     "output_type": "display_data"
    }
   ],
   "source": [
    "\n",
    "# separate into squamous and adeno, test HIV status difference.\n",
    "value_cols = ['log10_sum']\n",
    "titles = ['All somatic mutations (Strelka calls)']\n",
    "# boxplot overlaps individual data point\n",
    "fig, axes = plt.subplots(1,1, figsize=(8, 8))\n",
    "# axes = axes.ravel()\n",
    "group_col = 'combo'\n",
    "# group_col = 'HIV_status'\n",
    "categories = sorted(df[group_col].unique().tolist(), reverse=True) \n",
    "p_values = {}\n",
    "for k, col in enumerate(value_cols):\n",
    "    ax = axes\n",
    "    value_col = col\n",
    "    for position, cat in enumerate(categories):\n",
    "        _ = ax.boxplot(df.query('{0} == \"{1}\"'.format(group_col, cat))[col], \n",
    "                   positions=[position], widths=(0.6), showfliers=False\n",
    "                  );\n",
    "\n",
    "    np.random.seed(0)\n",
    "    \n",
    "    grps = {}\n",
    "    # overlay actuall data point\n",
    "    for i, cat in enumerate(categories):\n",
    "        # add jitter and specify maker facecolor and edgecolor\n",
    "        y = df[value_col][df[group_col]==cat]\n",
    "        x = np.random.normal(i, 0.1, size=len(y))\n",
    "#         ax.scatter(x, y, s=30)\n",
    "        _ = ax.plot(x, y, mfc = [\"orange\",\"blue\",\"yellow\", \"black\"][i], mec='k', ms=7, marker=\"o\", linestyle=\"None\")\n",
    "        grps[i] = df.query('{0} == \"{1}\"'.format(group_col, cat))[col]\n",
    "\n",
    "    # statistical test for 1st grp\n",
    "    stats, p = ss.mannwhitneyu(grps[0], grps[1], use_continuity=True, alternative=None)\n",
    "    p = round(p, 4)\n",
    "    _ = ax.text(0.3, 0.9,'p={}'.format(p), ha='center', va='center', transform=ax.transAxes, size=14) \n",
    "    \n",
    "    # statistical test fro 2nd grp\n",
    "    stats, p = ss.mannwhitneyu(grps[2], grps[3], use_continuity=True, alternative=None)\n",
    "    p = round(p, 4)\n",
    "    _ = ax.text(0.8, 0.9,'p={}'.format(p), ha='center', va='center', transform=ax.transAxes, size=14)    \n",
    "    \n",
    "    ax.set_facecolor('whitesmoke') #specify plot backgroup color\n",
    "    ax.tick_params(axis='x', labelsize=18) #specify x tick label size\n",
    "    _ = ax.set_xticks(range(position+1))\n",
    "    _ = ax.set_xticklabels(categories, rotation=22, fontsize=14)\n",
    "#     ax.set_title(col)\n",
    "    _ = ax.set_title('{}'.format(titles[k]), fontsize=18)\n",
    "    _ = ax.set_xlim(xmin=-0.5)\n",
    "    _= ax.set_ylabel('number of mutations(log10)', fontsize=14)\n",
    "    ax.grid(True)\n",
    "\n",
    "plt.suptitle('', fontsize=14)       \n",
    "\n",
    "of1 = '/projects/trans_scratch/validations/workspace/szong/Cervical/variant_bwamem/107_patients/mutations_load_HIV_plots_2.png'\n",
    "# plt.savefig(of1, dpi=200)"
   ]
  },
  {
   "cell_type": "code",
   "execution_count": null,
   "metadata": {
    "collapsed": true
   },
   "outputs": [],
   "source": []
  },
  {
   "cell_type": "code",
   "execution_count": null,
   "metadata": {
    "collapsed": true
   },
   "outputs": [],
   "source": []
  }
 ],
 "metadata": {
  "kernelspec": {
   "display_name": "Python 3",
   "language": "python",
   "name": "python3"
  },
  "language_info": {
   "codemirror_mode": {
    "name": "ipython",
    "version": 3
   },
   "file_extension": ".py",
   "mimetype": "text/x-python",
   "name": "python",
   "nbconvert_exporter": "python",
   "pygments_lexer": "ipython3",
   "version": "3.6.2"
  }
 },
 "nbformat": 4,
 "nbformat_minor": 2
}
