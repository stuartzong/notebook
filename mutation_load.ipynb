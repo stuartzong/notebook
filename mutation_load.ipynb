{
 "cells": [
  {
   "cell_type": "code",
   "execution_count": 1,
   "metadata": {
    "collapsed": true
   },
   "outputs": [],
   "source": [
    "import re\n",
    "import matplotlib\n",
    "import numpy as np\n",
    "import pandas as pd\n",
    "import seaborn as sns\n",
    "import scipy.stats as ss\n",
    "import matplotlib.pyplot as plt\n",
    "from matplotlib import style, colors\n",
    "from matplotlib import gridspec\n",
    "import random\n",
    "import string\n",
    "import math\n",
    "\n",
    "matplotlib.style.use('ggplot')\n",
    "%matplotlib inline\n",
    "matplotlib.rcParams['figure.figsize'] = (12, 6)"
   ]
  },
  {
   "cell_type": "markdown",
   "metadata": {},
   "source": [
    "use all calls from strelka: this is prefered since this takes into consideration of all soamtic calls:snvs and indels, high/moderate/low/modifier impacts."
   ]
  },
  {
   "cell_type": "code",
   "execution_count": 3,
   "metadata": {
    "collapsed": true
   },
   "outputs": [],
   "source": [
    "def file_len(fname):\n",
    "    i = 0\n",
    "    with open(fname) as f:\n",
    "        for line in f:\n",
    "            if not re.match(\"^##\", line):\n",
    "                i+=1\n",
    "    return i - 1"
   ]
  },
  {
   "cell_type": "code",
   "execution_count": 4,
   "metadata": {},
   "outputs": [
    {
     "data": {
      "text/html": [
       "<div>\n",
       "<style>\n",
       "    .dataframe thead tr:only-child th {\n",
       "        text-align: right;\n",
       "    }\n",
       "\n",
       "    .dataframe thead th {\n",
       "        text-align: left;\n",
       "    }\n",
       "\n",
       "    .dataframe tbody tr th {\n",
       "        vertical-align: top;\n",
       "    }\n",
       "</style>\n",
       "<table border=\"1\" class=\"dataframe\">\n",
       "  <thead>\n",
       "    <tr style=\"text-align: right;\">\n",
       "      <th></th>\n",
       "      <th>HIV_status</th>\n",
       "      <th>DNA_lib</th>\n",
       "      <th>source</th>\n",
       "      <th>status</th>\n",
       "      <th>RNA_lib</th>\n",
       "      <th>ribodepleted_lib</th>\n",
       "      <th>DNA_bam</th>\n",
       "      <th>RNA_bam</th>\n",
       "      <th>DNA_single_vcf</th>\n",
       "      <th>paired_mpileup_vcf</th>\n",
       "      <th>...</th>\n",
       "      <th>other_vcf</th>\n",
       "      <th>DNA_tc</th>\n",
       "      <th>RNA_tc</th>\n",
       "      <th>cnv</th>\n",
       "      <th>bbt_transcriptome</th>\n",
       "      <th>bbt_genome</th>\n",
       "      <th>bbt_transcriptome_other_bacterial</th>\n",
       "      <th>bbt_genome_other_bacterial</th>\n",
       "      <th>bbt_transcriptome_other_viral</th>\n",
       "      <th>bbt_genome_other_viral</th>\n",
       "    </tr>\n",
       "    <tr>\n",
       "      <th>patient</th>\n",
       "      <th></th>\n",
       "      <th></th>\n",
       "      <th></th>\n",
       "      <th></th>\n",
       "      <th></th>\n",
       "      <th></th>\n",
       "      <th></th>\n",
       "      <th></th>\n",
       "      <th></th>\n",
       "      <th></th>\n",
       "      <th></th>\n",
       "      <th></th>\n",
       "      <th></th>\n",
       "      <th></th>\n",
       "      <th></th>\n",
       "      <th></th>\n",
       "      <th></th>\n",
       "      <th></th>\n",
       "      <th></th>\n",
       "      <th></th>\n",
       "      <th></th>\n",
       "    </tr>\n",
       "  </thead>\n",
       "  <tbody>\n",
       "    <tr>\n",
       "      <th>HTMCP-03-06-02001</th>\n",
       "      <td>Positive</td>\n",
       "      <td>A37234</td>\n",
       "      <td>HTMCP_124</td>\n",
       "      <td>Malignant</td>\n",
       "      <td>A37700</td>\n",
       "      <td>A56295</td>\n",
       "      <td>/projects/analysis/analysis22/A37234/merge_bwa...</td>\n",
       "      <td>/projects/analysis/analysis22/IX3433/C67GDANXX...</td>\n",
       "      <td>/projects/analysis/analysis22/A37234/merge_bwa...</td>\n",
       "      <td>NaN</td>\n",
       "      <td>...</td>\n",
       "      <td>NaN</td>\n",
       "      <td>55.0</td>\n",
       "      <td>55.0</td>\n",
       "      <td>/projects/somatic/NCI_SAIC_HIV_Cervical/HTMCP-...</td>\n",
       "      <td>/projects/NCI_validation2_assembly/NCI_SAIC_HI...</td>\n",
       "      <td>/projects/NCI_validation2_assembly/NCI_SAIC_HI...</td>\n",
       "      <td>/projects/NCI_validation2_assembly/NCI_SAIC_HI...</td>\n",
       "      <td>/projects/NCI_validation2_assembly/NCI_SAIC_HI...</td>\n",
       "      <td>/projects/NCI_validation2_assembly/NCI_SAIC_HI...</td>\n",
       "      <td>/projects/NCI_validation2_assembly/NCI_SAIC_HI...</td>\n",
       "    </tr>\n",
       "    <tr>\n",
       "      <th>HTMCP-03-06-02002</th>\n",
       "      <td>Negative</td>\n",
       "      <td>A37235</td>\n",
       "      <td>HTMCP_125</td>\n",
       "      <td>Malignant</td>\n",
       "      <td>A37701</td>\n",
       "      <td>A56296</td>\n",
       "      <td>/projects/analysis/analysis22/A37235/merge_bwa...</td>\n",
       "      <td>/projects/analysis/analysis22/IX3432/C67GDANXX...</td>\n",
       "      <td>/projects/analysis/analysis22/A37235/merge_bwa...</td>\n",
       "      <td>NaN</td>\n",
       "      <td>...</td>\n",
       "      <td>NaN</td>\n",
       "      <td>70.0</td>\n",
       "      <td>70.0</td>\n",
       "      <td>/projects/somatic/NCI_SAIC_HIV_Cervical/HTMCP-...</td>\n",
       "      <td>/projects/NCI_validation2_assembly/NCI_SAIC_HI...</td>\n",
       "      <td>/projects/NCI_validation2_assembly/NCI_SAIC_HI...</td>\n",
       "      <td>/projects/NCI_validation2_assembly/NCI_SAIC_HI...</td>\n",
       "      <td>/projects/NCI_validation2_assembly/NCI_SAIC_HI...</td>\n",
       "      <td>/projects/NCI_validation2_assembly/NCI_SAIC_HI...</td>\n",
       "      <td>/projects/NCI_validation2_assembly/NCI_SAIC_HI...</td>\n",
       "    </tr>\n",
       "  </tbody>\n",
       "</table>\n",
       "<p>2 rows × 24 columns</p>\n",
       "</div>"
      ],
      "text/plain": [
       "                  HIV_status DNA_lib     source     status RNA_lib  \\\n",
       "patient                                                              \n",
       "HTMCP-03-06-02001   Positive  A37234  HTMCP_124  Malignant  A37700   \n",
       "HTMCP-03-06-02002   Negative  A37235  HTMCP_125  Malignant  A37701   \n",
       "\n",
       "                  ribodepleted_lib  \\\n",
       "patient                              \n",
       "HTMCP-03-06-02001           A56295   \n",
       "HTMCP-03-06-02002           A56296   \n",
       "\n",
       "                                                             DNA_bam  \\\n",
       "patient                                                                \n",
       "HTMCP-03-06-02001  /projects/analysis/analysis22/A37234/merge_bwa...   \n",
       "HTMCP-03-06-02002  /projects/analysis/analysis22/A37235/merge_bwa...   \n",
       "\n",
       "                                                             RNA_bam  \\\n",
       "patient                                                                \n",
       "HTMCP-03-06-02001  /projects/analysis/analysis22/IX3433/C67GDANXX...   \n",
       "HTMCP-03-06-02002  /projects/analysis/analysis22/IX3432/C67GDANXX...   \n",
       "\n",
       "                                                      DNA_single_vcf  \\\n",
       "patient                                                                \n",
       "HTMCP-03-06-02001  /projects/analysis/analysis22/A37234/merge_bwa...   \n",
       "HTMCP-03-06-02002  /projects/analysis/analysis22/A37235/merge_bwa...   \n",
       "\n",
       "                   paired_mpileup_vcf  \\\n",
       "patient                                 \n",
       "HTMCP-03-06-02001                 NaN   \n",
       "HTMCP-03-06-02002                 NaN   \n",
       "\n",
       "                                         ...                          \\\n",
       "patient                                  ...                           \n",
       "HTMCP-03-06-02001                        ...                           \n",
       "HTMCP-03-06-02002                        ...                           \n",
       "\n",
       "                  other_vcf DNA_tc RNA_tc  \\\n",
       "patient                                     \n",
       "HTMCP-03-06-02001       NaN   55.0   55.0   \n",
       "HTMCP-03-06-02002       NaN   70.0   70.0   \n",
       "\n",
       "                                                                 cnv  \\\n",
       "patient                                                                \n",
       "HTMCP-03-06-02001  /projects/somatic/NCI_SAIC_HIV_Cervical/HTMCP-...   \n",
       "HTMCP-03-06-02002  /projects/somatic/NCI_SAIC_HIV_Cervical/HTMCP-...   \n",
       "\n",
       "                                                   bbt_transcriptome  \\\n",
       "patient                                                                \n",
       "HTMCP-03-06-02001  /projects/NCI_validation2_assembly/NCI_SAIC_HI...   \n",
       "HTMCP-03-06-02002  /projects/NCI_validation2_assembly/NCI_SAIC_HI...   \n",
       "\n",
       "                                                          bbt_genome  \\\n",
       "patient                                                                \n",
       "HTMCP-03-06-02001  /projects/NCI_validation2_assembly/NCI_SAIC_HI...   \n",
       "HTMCP-03-06-02002  /projects/NCI_validation2_assembly/NCI_SAIC_HI...   \n",
       "\n",
       "                                   bbt_transcriptome_other_bacterial  \\\n",
       "patient                                                                \n",
       "HTMCP-03-06-02001  /projects/NCI_validation2_assembly/NCI_SAIC_HI...   \n",
       "HTMCP-03-06-02002  /projects/NCI_validation2_assembly/NCI_SAIC_HI...   \n",
       "\n",
       "                                          bbt_genome_other_bacterial  \\\n",
       "patient                                                                \n",
       "HTMCP-03-06-02001  /projects/NCI_validation2_assembly/NCI_SAIC_HI...   \n",
       "HTMCP-03-06-02002  /projects/NCI_validation2_assembly/NCI_SAIC_HI...   \n",
       "\n",
       "                                       bbt_transcriptome_other_viral  \\\n",
       "patient                                                                \n",
       "HTMCP-03-06-02001  /projects/NCI_validation2_assembly/NCI_SAIC_HI...   \n",
       "HTMCP-03-06-02002  /projects/NCI_validation2_assembly/NCI_SAIC_HI...   \n",
       "\n",
       "                                              bbt_genome_other_viral  \n",
       "patient                                                               \n",
       "HTMCP-03-06-02001  /projects/NCI_validation2_assembly/NCI_SAIC_HI...  \n",
       "HTMCP-03-06-02002  /projects/NCI_validation2_assembly/NCI_SAIC_HI...  \n",
       "\n",
       "[2 rows x 24 columns]"
      ]
     },
     "execution_count": 4,
     "metadata": {},
     "output_type": "execute_result"
    }
   ],
   "source": [
    "f1 = '/projects/trans_scratch/validations/workspace/szong/Cervical/variant_bwamem/124_patients/124_patients_bam_vcf.txt'\n",
    "df = pd.read_csv(f1, sep='\\t', index_col='patient')\n",
    "df.head(2)"
   ]
  },
  {
   "cell_type": "code",
   "execution_count": 5,
   "metadata": {},
   "outputs": [
    {
     "data": {
      "text/html": [
       "<div>\n",
       "<style>\n",
       "    .dataframe thead tr:only-child th {\n",
       "        text-align: right;\n",
       "    }\n",
       "\n",
       "    .dataframe thead th {\n",
       "        text-align: left;\n",
       "    }\n",
       "\n",
       "    .dataframe tbody tr th {\n",
       "        vertical-align: top;\n",
       "    }\n",
       "</style>\n",
       "<table border=\"1\" class=\"dataframe\">\n",
       "  <thead>\n",
       "    <tr style=\"text-align: right;\">\n",
       "      <th></th>\n",
       "      <th>strelka_snv_vcf</th>\n",
       "      <th>strelka_indel_vcf</th>\n",
       "    </tr>\n",
       "    <tr>\n",
       "      <th>patient</th>\n",
       "      <th></th>\n",
       "      <th></th>\n",
       "    </tr>\n",
       "  </thead>\n",
       "  <tbody>\n",
       "    <tr>\n",
       "      <th>HTMCP-03-06-02001</th>\n",
       "      <td>/projects/somatic/NCI_SAIC_HIV_Cervical/HTMCP-...</td>\n",
       "      <td>/projects/somatic/NCI_SAIC_HIV_Cervical/HTMCP-...</td>\n",
       "    </tr>\n",
       "    <tr>\n",
       "      <th>HTMCP-03-06-02002</th>\n",
       "      <td>/projects/somatic/NCI_SAIC_HIV_Cervical/HTMCP-...</td>\n",
       "      <td>/projects/somatic/NCI_SAIC_HIV_Cervical/HTMCP-...</td>\n",
       "    </tr>\n",
       "  </tbody>\n",
       "</table>\n",
       "</div>"
      ],
      "text/plain": [
       "                                                     strelka_snv_vcf  \\\n",
       "patient                                                                \n",
       "HTMCP-03-06-02001  /projects/somatic/NCI_SAIC_HIV_Cervical/HTMCP-...   \n",
       "HTMCP-03-06-02002  /projects/somatic/NCI_SAIC_HIV_Cervical/HTMCP-...   \n",
       "\n",
       "                                                   strelka_indel_vcf  \n",
       "patient                                                               \n",
       "HTMCP-03-06-02001  /projects/somatic/NCI_SAIC_HIV_Cervical/HTMCP-...  \n",
       "HTMCP-03-06-02002  /projects/somatic/NCI_SAIC_HIV_Cervical/HTMCP-...  "
      ]
     },
     "execution_count": 5,
     "metadata": {},
     "output_type": "execute_result"
    }
   ],
   "source": [
    "ndf = df[['strelka_snv_vcf', 'strelka_indel_vcf']].dropna()\n",
    "ndf.head(2)"
   ]
  },
  {
   "cell_type": "code",
   "execution_count": 6,
   "metadata": {},
   "outputs": [
    {
     "data": {
      "text/plain": [
       "(124, 2)"
      ]
     },
     "execution_count": 6,
     "metadata": {},
     "output_type": "execute_result"
    }
   ],
   "source": [
    "ndf.shape"
   ]
  },
  {
   "cell_type": "code",
   "execution_count": 7,
   "metadata": {},
   "outputs": [
    {
     "name": "stderr",
     "output_type": "stream",
     "text": [
      "ERROR:root:Internal Python error in the inspect module.\n",
      "Below is the traceback from this internal error.\n",
      "\n"
     ]
    },
    {
     "name": "stdout",
     "output_type": "stream",
     "text": [
      "Traceback (most recent call last):\n",
      "  File \"/home/szong/anaconda3/lib/python3.6/site-packages/IPython/core/interactiveshell.py\", line 2881, in run_code\n",
      "    exec(code_obj, self.user_global_ns, self.user_ns)\n",
      "  File \"<ipython-input-7-f737e4989691>\", line 1, in <module>\n",
      "    ndf['snv_counts'] = ndf['strelka_snv_vcf'].apply(lambda x: file_len(x))\n",
      "  File \"/home/szong/anaconda3/lib/python3.6/site-packages/pandas/core/series.py\", line 2355, in apply\n",
      "    mapped = lib.map_infer(values, f, convert=convert_dtype)\n",
      "  File \"pandas/_libs/src/inference.pyx\", line 1569, in pandas._libs.lib.map_infer (pandas/_libs/lib.c:66440)\n",
      "  File \"<ipython-input-7-f737e4989691>\", line 1, in <lambda>\n",
      "    ndf['snv_counts'] = ndf['strelka_snv_vcf'].apply(lambda x: file_len(x))\n",
      "  File \"<ipython-input-3-f5fbc6ef0654>\", line 4, in file_len\n",
      "    for line in f:\n",
      "  File \"/home/szong/anaconda3/lib/python3.6/codecs.py\", line 318, in decode\n",
      "    def decode(self, input, final=False):\n",
      "KeyboardInterrupt\n",
      "\n",
      "During handling of the above exception, another exception occurred:\n",
      "\n",
      "Traceback (most recent call last):\n",
      "  File \"/home/szong/anaconda3/lib/python3.6/site-packages/IPython/core/interactiveshell.py\", line 1821, in showtraceback\n",
      "    stb = value._render_traceback_()\n",
      "AttributeError: 'KeyboardInterrupt' object has no attribute '_render_traceback_'\n",
      "\n",
      "During handling of the above exception, another exception occurred:\n",
      "\n",
      "Traceback (most recent call last):\n",
      "  File \"/home/szong/anaconda3/lib/python3.6/site-packages/IPython/core/ultratb.py\", line 1132, in get_records\n",
      "    return _fixed_getinnerframes(etb, number_of_lines_of_context, tb_offset)\n",
      "  File \"/home/szong/anaconda3/lib/python3.6/site-packages/IPython/core/ultratb.py\", line 313, in wrapped\n",
      "    return f(*args, **kwargs)\n",
      "  File \"/home/szong/anaconda3/lib/python3.6/site-packages/IPython/core/ultratb.py\", line 358, in _fixed_getinnerframes\n",
      "    records = fix_frame_records_filenames(inspect.getinnerframes(etb, context))\n",
      "  File \"/home/szong/anaconda3/lib/python3.6/inspect.py\", line 1453, in getinnerframes\n",
      "    frameinfo = (tb.tb_frame,) + getframeinfo(tb, context)\n",
      "  File \"/home/szong/anaconda3/lib/python3.6/inspect.py\", line 1411, in getframeinfo\n",
      "    filename = getsourcefile(frame) or getfile(frame)\n",
      "  File \"/home/szong/anaconda3/lib/python3.6/inspect.py\", line 666, in getsourcefile\n",
      "    if getattr(getmodule(object, filename), '__loader__', None) is not None:\n",
      "  File \"/home/szong/anaconda3/lib/python3.6/inspect.py\", line 709, in getmodule\n",
      "    f = getabsfile(module)\n",
      "  File \"/home/szong/anaconda3/lib/python3.6/inspect.py\", line 678, in getabsfile\n",
      "    _filename = getsourcefile(object) or getfile(object)\n",
      "  File \"/home/szong/anaconda3/lib/python3.6/inspect.py\", line 664, in getsourcefile\n",
      "    return filename\n",
      "KeyboardInterrupt\n"
     ]
    },
    {
     "ename": "KeyboardInterrupt",
     "evalue": "",
     "output_type": "error",
     "traceback": [
      "\u001b[0;31m---------------------------------------------------------------------------\u001b[0m"
     ]
    }
   ],
   "source": [
    "ndf['snv_counts'] = ndf['strelka_snv_vcf'].apply(lambda x: file_len(x))\n",
    "ndf['indel_counts'] = ndf['strelka_indel_vcf'].apply(lambda x: file_len(x))"
   ]
  },
  {
   "cell_type": "code",
   "execution_count": null,
   "metadata": {
    "collapsed": true
   },
   "outputs": [],
   "source": [
    "ndf['strelka_mutations'] = ndf.snv_counts + ndf.indel_counts\n",
    "ndf.drop(['strelka_snv_vcf', 'strelka_indel_vcf'], axis=1, inplace=True)\n",
    "ndf.head(2)"
   ]
  },
  {
   "cell_type": "code",
   "execution_count": null,
   "metadata": {
    "collapsed": true
   },
   "outputs": [],
   "source": [
    "of = '/projects/trans_scratch/validations/workspace/szong/Cervical/variant_bwamem/124_patients/124_patients_strelka_snvs_indels_counts.txt'\n",
    "# ndf.to_csv(of)"
   ]
  },
  {
   "cell_type": "code",
   "execution_count": null,
   "metadata": {
    "collapsed": true
   },
   "outputs": [],
   "source": []
  },
  {
   "cell_type": "code",
   "execution_count": null,
   "metadata": {
    "collapsed": true
   },
   "outputs": [],
   "source": []
  },
  {
   "cell_type": "code",
   "execution_count": null,
   "metadata": {
    "collapsed": true
   },
   "outputs": [],
   "source": [
    "of = '/projects/trans_scratch/validations/workspace/szong/Cervical/variant_bwamem/124_patients/124_patients_strelka_snvs_indels_counts.txt'\n",
    "df_strelka = pd.read_csv(of, index_col='patient')\n",
    "df_strelka.head(2)"
   ]
  },
  {
   "cell_type": "code",
   "execution_count": null,
   "metadata": {
    "collapsed": true
   },
   "outputs": [],
   "source": [
    "# df_strelka['log10_snv'] = np.log10(df_strelka.snv +1)\n",
    "df_strelka['log10_sum'] = np.log10(df_strelka['strelka_mutations'])"
   ]
  },
  {
   "cell_type": "code",
   "execution_count": null,
   "metadata": {
    "collapsed": true
   },
   "outputs": [],
   "source": [
    "df_strelka = df_strelka.query('patient != \"HTMCP-03-06-02061\"')\n",
    "assert ('HTMCP-03-06-02061' in df_strelka.index) == False"
   ]
  },
  {
   "cell_type": "code",
   "execution_count": null,
   "metadata": {
    "collapsed": true
   },
   "outputs": [],
   "source": [
    "df_strelka.head(2)"
   ]
  },
  {
   "cell_type": "code",
   "execution_count": 13,
   "metadata": {},
   "outputs": [
    {
     "data": {
      "text/html": [
       "<div>\n",
       "<style>\n",
       "    .dataframe thead tr:only-child th {\n",
       "        text-align: right;\n",
       "    }\n",
       "\n",
       "    .dataframe thead th {\n",
       "        text-align: left;\n",
       "    }\n",
       "\n",
       "    .dataframe tbody tr th {\n",
       "        vertical-align: top;\n",
       "    }\n",
       "</style>\n",
       "<table border=\"1\" class=\"dataframe\">\n",
       "  <thead>\n",
       "    <tr style=\"text-align: right;\">\n",
       "      <th></th>\n",
       "      <th>reanne_HIV_status</th>\n",
       "      <th>HPV_status</th>\n",
       "      <th>Clinical_histology</th>\n",
       "      <th>reanne_Putative_histology</th>\n",
       "      <th>comments</th>\n",
       "    </tr>\n",
       "    <tr>\n",
       "      <th>patient</th>\n",
       "      <th></th>\n",
       "      <th></th>\n",
       "      <th></th>\n",
       "      <th></th>\n",
       "      <th></th>\n",
       "    </tr>\n",
       "  </thead>\n",
       "  <tbody>\n",
       "    <tr>\n",
       "      <th>HTMCP-03-06-02001</th>\n",
       "      <td>Positive</td>\n",
       "      <td>Positive</td>\n",
       "      <td>Squamous Non-Keratinizing</td>\n",
       "      <td>Squamous</td>\n",
       "      <td>NaN</td>\n",
       "    </tr>\n",
       "    <tr>\n",
       "      <th>HTMCP-03-06-02002</th>\n",
       "      <td>Negative</td>\n",
       "      <td>Positive</td>\n",
       "      <td>Squamous Non-Keratinizing</td>\n",
       "      <td>Squamous</td>\n",
       "      <td>NaN</td>\n",
       "    </tr>\n",
       "  </tbody>\n",
       "</table>\n",
       "</div>"
      ],
      "text/plain": [
       "                  reanne_HIV_status HPV_status         Clinical_histology  \\\n",
       "patient                                                                     \n",
       "HTMCP-03-06-02001          Positive   Positive  Squamous Non-Keratinizing   \n",
       "HTMCP-03-06-02002          Negative   Positive  Squamous Non-Keratinizing   \n",
       "\n",
       "                  reanne_Putative_histology comments  \n",
       "patient                                               \n",
       "HTMCP-03-06-02001                  Squamous      NaN  \n",
       "HTMCP-03-06-02002                  Squamous      NaN  "
      ]
     },
     "execution_count": 13,
     "metadata": {},
     "output_type": "execute_result"
    }
   ],
   "source": [
    "# fixed histology\n",
    "f2 = '/projects/trans_scratch/validations/workspace/szong/Cervical/HIV_cervical_analysis_master_tables_20171206.xls'\n",
    "df2 = pd.read_excel(f2, sheetname='meta', index_col='patient')\n",
    "df2.head(2)"
   ]
  },
  {
   "cell_type": "code",
   "execution_count": 14,
   "metadata": {},
   "outputs": [
    {
     "data": {
      "text/html": [
       "<div>\n",
       "<style>\n",
       "    .dataframe thead tr:only-child th {\n",
       "        text-align: right;\n",
       "    }\n",
       "\n",
       "    .dataframe thead th {\n",
       "        text-align: left;\n",
       "    }\n",
       "\n",
       "    .dataframe tbody tr th {\n",
       "        vertical-align: top;\n",
       "    }\n",
       "</style>\n",
       "<table border=\"1\" class=\"dataframe\">\n",
       "  <thead>\n",
       "    <tr style=\"text-align: right;\">\n",
       "      <th></th>\n",
       "      <th>age_at_diagnosis</th>\n",
       "      <th>tumor_grade</th>\n",
       "      <th>ajcc_tumor_clinical_ct</th>\n",
       "      <th>clinical_stage</th>\n",
       "      <th>cd4_counts_at_diagnosis</th>\n",
       "      <th>hiv_rna_load_at_diagnosis</th>\n",
       "      <th>birth_days_to</th>\n",
       "      <th>menopause_status</th>\n",
       "      <th>height_cm_at_diagnosis</th>\n",
       "      <th>weight_kg_at_diagnosis</th>\n",
       "      <th>...</th>\n",
       "      <th>ecog_score</th>\n",
       "      <th>nadir_cd4_counts</th>\n",
       "      <th>cd4_counts_at_diagnosis.1</th>\n",
       "      <th>hiv_rna_load_at_diagnosis.1</th>\n",
       "      <th>histologic_diagnosis</th>\n",
       "      <th>haart_therapy_prior_to_dx</th>\n",
       "      <th>haart_therapy_at_dx</th>\n",
       "      <th>keratinization_squamous_cell</th>\n",
       "      <th>days_to_hiv_diagnosis</th>\n",
       "      <th>patient_id</th>\n",
       "    </tr>\n",
       "    <tr>\n",
       "      <th>bcr_patient_barcode</th>\n",
       "      <th></th>\n",
       "      <th></th>\n",
       "      <th></th>\n",
       "      <th></th>\n",
       "      <th></th>\n",
       "      <th></th>\n",
       "      <th></th>\n",
       "      <th></th>\n",
       "      <th></th>\n",
       "      <th></th>\n",
       "      <th></th>\n",
       "      <th></th>\n",
       "      <th></th>\n",
       "      <th></th>\n",
       "      <th></th>\n",
       "      <th></th>\n",
       "      <th></th>\n",
       "      <th></th>\n",
       "      <th></th>\n",
       "      <th></th>\n",
       "      <th></th>\n",
       "    </tr>\n",
       "  </thead>\n",
       "  <tbody>\n",
       "    <tr>\n",
       "      <th>HTMCP-03-06-02001</th>\n",
       "      <td>56.0</td>\n",
       "      <td>G2</td>\n",
       "      <td>T2b</td>\n",
       "      <td>Stage IIB</td>\n",
       "      <td>337.0</td>\n",
       "      <td>34.0</td>\n",
       "      <td>NaN</td>\n",
       "      <td>Post (prior bilateral ovariectomy OR &gt;12 mo si...</td>\n",
       "      <td>158.0</td>\n",
       "      <td>44.5</td>\n",
       "      <td>...</td>\n",
       "      <td>1</td>\n",
       "      <td>NaN</td>\n",
       "      <td>337.0</td>\n",
       "      <td>34.0</td>\n",
       "      <td>Squamous Cell Carcinoma; Non-Keratinizing</td>\n",
       "      <td>YES</td>\n",
       "      <td>YES</td>\n",
       "      <td>Non-keratinizing squamous cell carcinoma</td>\n",
       "      <td>NaN</td>\n",
       "      <td>2001</td>\n",
       "    </tr>\n",
       "    <tr>\n",
       "      <th>HTMCP-03-06-02002</th>\n",
       "      <td>62.0</td>\n",
       "      <td>G3</td>\n",
       "      <td>T1b1</td>\n",
       "      <td>Stage IB1</td>\n",
       "      <td>NaN</td>\n",
       "      <td>NaN</td>\n",
       "      <td>-22934.0</td>\n",
       "      <td>Post (prior bilateral ovariectomy OR &gt;12 mo si...</td>\n",
       "      <td>159.0</td>\n",
       "      <td>70.2</td>\n",
       "      <td>...</td>\n",
       "      <td>0</td>\n",
       "      <td>NaN</td>\n",
       "      <td>NaN</td>\n",
       "      <td>NaN</td>\n",
       "      <td>Squamous Cell Carcinoma; Non-Keratinizing</td>\n",
       "      <td>NaN</td>\n",
       "      <td>NaN</td>\n",
       "      <td>Non-keratinizing squamous cell carcinoma</td>\n",
       "      <td>NaN</td>\n",
       "      <td>2002</td>\n",
       "    </tr>\n",
       "  </tbody>\n",
       "</table>\n",
       "<p>2 rows × 27 columns</p>\n",
       "</div>"
      ],
      "text/plain": [
       "                     age_at_diagnosis tumor_grade ajcc_tumor_clinical_ct  \\\n",
       "bcr_patient_barcode                                                        \n",
       "HTMCP-03-06-02001                56.0          G2                    T2b   \n",
       "HTMCP-03-06-02002                62.0          G3                   T1b1   \n",
       "\n",
       "                    clinical_stage  cd4_counts_at_diagnosis  \\\n",
       "bcr_patient_barcode                                           \n",
       "HTMCP-03-06-02001        Stage IIB                    337.0   \n",
       "HTMCP-03-06-02002        Stage IB1                      NaN   \n",
       "\n",
       "                     hiv_rna_load_at_diagnosis  birth_days_to  \\\n",
       "bcr_patient_barcode                                             \n",
       "HTMCP-03-06-02001                         34.0            NaN   \n",
       "HTMCP-03-06-02002                          NaN       -22934.0   \n",
       "\n",
       "                                                      menopause_status  \\\n",
       "bcr_patient_barcode                                                      \n",
       "HTMCP-03-06-02001    Post (prior bilateral ovariectomy OR >12 mo si...   \n",
       "HTMCP-03-06-02002    Post (prior bilateral ovariectomy OR >12 mo si...   \n",
       "\n",
       "                     height_cm_at_diagnosis  weight_kg_at_diagnosis  \\\n",
       "bcr_patient_barcode                                                   \n",
       "HTMCP-03-06-02001                     158.0                    44.5   \n",
       "HTMCP-03-06-02002                     159.0                    70.2   \n",
       "\n",
       "                        ...     ecog_score  nadir_cd4_counts  \\\n",
       "bcr_patient_barcode     ...                                    \n",
       "HTMCP-03-06-02001       ...              1               NaN   \n",
       "HTMCP-03-06-02002       ...              0               NaN   \n",
       "\n",
       "                     cd4_counts_at_diagnosis.1  hiv_rna_load_at_diagnosis.1  \\\n",
       "bcr_patient_barcode                                                           \n",
       "HTMCP-03-06-02001                        337.0                         34.0   \n",
       "HTMCP-03-06-02002                          NaN                          NaN   \n",
       "\n",
       "                                          histologic_diagnosis  \\\n",
       "bcr_patient_barcode                                              \n",
       "HTMCP-03-06-02001    Squamous Cell Carcinoma; Non-Keratinizing   \n",
       "HTMCP-03-06-02002    Squamous Cell Carcinoma; Non-Keratinizing   \n",
       "\n",
       "                     haart_therapy_prior_to_dx  haart_therapy_at_dx  \\\n",
       "bcr_patient_barcode                                                   \n",
       "HTMCP-03-06-02001                          YES                  YES   \n",
       "HTMCP-03-06-02002                          NaN                  NaN   \n",
       "\n",
       "                                 keratinization_squamous_cell  \\\n",
       "bcr_patient_barcode                                             \n",
       "HTMCP-03-06-02001    Non-keratinizing squamous cell carcinoma   \n",
       "HTMCP-03-06-02002    Non-keratinizing squamous cell carcinoma   \n",
       "\n",
       "                     days_to_hiv_diagnosis  patient_id  \n",
       "bcr_patient_barcode                                     \n",
       "HTMCP-03-06-02001                      NaN        2001  \n",
       "HTMCP-03-06-02002                      NaN        2002  \n",
       "\n",
       "[2 rows x 27 columns]"
      ]
     },
     "execution_count": 14,
     "metadata": {},
     "output_type": "execute_result"
    }
   ],
   "source": [
    "f3 = '/projects/trans_scratch/validations/workspace/szong/Cervical/variant_bwamem/124_patients/clinic_data_extracted.txt'\n",
    "df3 = pd.read_csv(f3, sep='\\t', index_col='bcr_patient_barcode')\n",
    "df3.head(2)"
   ]
  },
  {
   "cell_type": "markdown",
   "metadata": {},
   "source": [
    "merge mutation and clinical data"
   ]
  },
  {
   "cell_type": "code",
   "execution_count": 15,
   "metadata": {},
   "outputs": [
    {
     "data": {
      "text/html": [
       "<div>\n",
       "<style>\n",
       "    .dataframe thead tr:only-child th {\n",
       "        text-align: right;\n",
       "    }\n",
       "\n",
       "    .dataframe thead th {\n",
       "        text-align: left;\n",
       "    }\n",
       "\n",
       "    .dataframe tbody tr th {\n",
       "        vertical-align: top;\n",
       "    }\n",
       "</style>\n",
       "<table border=\"1\" class=\"dataframe\">\n",
       "  <thead>\n",
       "    <tr style=\"text-align: right;\">\n",
       "      <th></th>\n",
       "      <th>snv_counts</th>\n",
       "      <th>indel_counts</th>\n",
       "      <th>strelka_mutations</th>\n",
       "      <th>log10_sum</th>\n",
       "      <th>reanne_HIV_status</th>\n",
       "      <th>HPV_status</th>\n",
       "      <th>Clinical_histology</th>\n",
       "      <th>reanne_Putative_histology</th>\n",
       "      <th>comments</th>\n",
       "    </tr>\n",
       "    <tr>\n",
       "      <th>patient</th>\n",
       "      <th></th>\n",
       "      <th></th>\n",
       "      <th></th>\n",
       "      <th></th>\n",
       "      <th></th>\n",
       "      <th></th>\n",
       "      <th></th>\n",
       "      <th></th>\n",
       "      <th></th>\n",
       "    </tr>\n",
       "  </thead>\n",
       "  <tbody>\n",
       "    <tr>\n",
       "      <th>HTMCP-03-06-02001</th>\n",
       "      <td>25732</td>\n",
       "      <td>1242</td>\n",
       "      <td>26974</td>\n",
       "      <td>4.430945</td>\n",
       "      <td>Positive</td>\n",
       "      <td>Positive</td>\n",
       "      <td>Squamous Non-Keratinizing</td>\n",
       "      <td>Squamous</td>\n",
       "      <td>NaN</td>\n",
       "    </tr>\n",
       "    <tr>\n",
       "      <th>HTMCP-03-06-02002</th>\n",
       "      <td>15964</td>\n",
       "      <td>697</td>\n",
       "      <td>16661</td>\n",
       "      <td>4.221701</td>\n",
       "      <td>Negative</td>\n",
       "      <td>Positive</td>\n",
       "      <td>Squamous Non-Keratinizing</td>\n",
       "      <td>Squamous</td>\n",
       "      <td>NaN</td>\n",
       "    </tr>\n",
       "  </tbody>\n",
       "</table>\n",
       "</div>"
      ],
      "text/plain": [
       "                   snv_counts  indel_counts  strelka_mutations  log10_sum  \\\n",
       "patient                                                                     \n",
       "HTMCP-03-06-02001       25732          1242              26974   4.430945   \n",
       "HTMCP-03-06-02002       15964           697              16661   4.221701   \n",
       "\n",
       "                  reanne_HIV_status HPV_status         Clinical_histology  \\\n",
       "patient                                                                     \n",
       "HTMCP-03-06-02001          Positive   Positive  Squamous Non-Keratinizing   \n",
       "HTMCP-03-06-02002          Negative   Positive  Squamous Non-Keratinizing   \n",
       "\n",
       "                  reanne_Putative_histology comments  \n",
       "patient                                               \n",
       "HTMCP-03-06-02001                  Squamous      NaN  \n",
       "HTMCP-03-06-02002                  Squamous      NaN  "
      ]
     },
     "execution_count": 15,
     "metadata": {},
     "output_type": "execute_result"
    }
   ],
   "source": [
    "dfm = pd.merge(df_strelka, df2, left_index=True, right_index=True)\n",
    "dfm.head(2)"
   ]
  },
  {
   "cell_type": "code",
   "execution_count": 16,
   "metadata": {
    "collapsed": true
   },
   "outputs": [],
   "source": [
    "non_dup_cols = df3.columns.difference(dfm.columns)"
   ]
  },
  {
   "cell_type": "code",
   "execution_count": 17,
   "metadata": {},
   "outputs": [
    {
     "data": {
      "text/plain": [
       "Index(['age_at_diagnosis', 'ajcc_tumor_clinical_ct', 'birth_days_to',\n",
       "       'cd4_counts_at_diagnosis', 'cd4_counts_at_diagnosis.1',\n",
       "       'clinical_stage', 'days_to_hiv_diagnosis', 'ecog_score',\n",
       "       'haart_therapy_at_dx', 'haart_therapy_prior_to_dx',\n",
       "       'height_cm_at_diagnosis', 'histologic_diagnosis',\n",
       "       'history_hormonal_contraceptives_use', 'hiv_rna_load_at_diagnosis',\n",
       "       'hiv_rna_load_at_diagnosis.1', 'karnofsky_score',\n",
       "       'keratinization_squamous_cell', 'live_birth_pregnancy_count',\n",
       "       'menopause_status', 'nadir_cd4_counts', 'patient_id',\n",
       "       'pregnancies_count_induced_abortion', 'pregnancies_count_miscarriage',\n",
       "       'tobacco_smoking_history_indicator', 'total_pregnancy_count',\n",
       "       'tumor_grade', 'weight_kg_at_diagnosis'],\n",
       "      dtype='object')"
      ]
     },
     "execution_count": 17,
     "metadata": {},
     "output_type": "execute_result"
    }
   ],
   "source": [
    "non_dup_cols"
   ]
  },
  {
   "cell_type": "code",
   "execution_count": 18,
   "metadata": {
    "collapsed": true
   },
   "outputs": [],
   "source": [
    "dfm = pd.merge(dfm, df3[non_dup_cols], left_index=True, right_index=True, how='left')"
   ]
  },
  {
   "cell_type": "code",
   "execution_count": 19,
   "metadata": {},
   "outputs": [
    {
     "data": {
      "text/plain": [
       "(123, 36)"
      ]
     },
     "execution_count": 19,
     "metadata": {},
     "output_type": "execute_result"
    }
   ],
   "source": [
    "dfm.shape"
   ]
  },
  {
   "cell_type": "code",
   "execution_count": 20,
   "metadata": {},
   "outputs": [
    {
     "data": {
      "text/html": [
       "<div>\n",
       "<style>\n",
       "    .dataframe thead tr:only-child th {\n",
       "        text-align: right;\n",
       "    }\n",
       "\n",
       "    .dataframe thead th {\n",
       "        text-align: left;\n",
       "    }\n",
       "\n",
       "    .dataframe tbody tr th {\n",
       "        vertical-align: top;\n",
       "    }\n",
       "</style>\n",
       "<table border=\"1\" class=\"dataframe\">\n",
       "  <thead>\n",
       "    <tr style=\"text-align: right;\">\n",
       "      <th></th>\n",
       "      <th>snv_counts</th>\n",
       "      <th>indel_counts</th>\n",
       "      <th>strelka_mutations</th>\n",
       "      <th>log10_sum</th>\n",
       "      <th>reanne_HIV_status</th>\n",
       "      <th>HPV_status</th>\n",
       "      <th>Clinical_histology</th>\n",
       "      <th>reanne_Putative_histology</th>\n",
       "      <th>comments</th>\n",
       "      <th>age_at_diagnosis</th>\n",
       "      <th>...</th>\n",
       "      <th>live_birth_pregnancy_count</th>\n",
       "      <th>menopause_status</th>\n",
       "      <th>nadir_cd4_counts</th>\n",
       "      <th>patient_id</th>\n",
       "      <th>pregnancies_count_induced_abortion</th>\n",
       "      <th>pregnancies_count_miscarriage</th>\n",
       "      <th>tobacco_smoking_history_indicator</th>\n",
       "      <th>total_pregnancy_count</th>\n",
       "      <th>tumor_grade</th>\n",
       "      <th>weight_kg_at_diagnosis</th>\n",
       "    </tr>\n",
       "    <tr>\n",
       "      <th>patient</th>\n",
       "      <th></th>\n",
       "      <th></th>\n",
       "      <th></th>\n",
       "      <th></th>\n",
       "      <th></th>\n",
       "      <th></th>\n",
       "      <th></th>\n",
       "      <th></th>\n",
       "      <th></th>\n",
       "      <th></th>\n",
       "      <th></th>\n",
       "      <th></th>\n",
       "      <th></th>\n",
       "      <th></th>\n",
       "      <th></th>\n",
       "      <th></th>\n",
       "      <th></th>\n",
       "      <th></th>\n",
       "      <th></th>\n",
       "      <th></th>\n",
       "      <th></th>\n",
       "    </tr>\n",
       "  </thead>\n",
       "  <tbody>\n",
       "    <tr>\n",
       "      <th>HTMCP-03-06-02001</th>\n",
       "      <td>25732</td>\n",
       "      <td>1242</td>\n",
       "      <td>26974</td>\n",
       "      <td>4.430945</td>\n",
       "      <td>Positive</td>\n",
       "      <td>Positive</td>\n",
       "      <td>Squamous Non-Keratinizing</td>\n",
       "      <td>Squamous</td>\n",
       "      <td>NaN</td>\n",
       "      <td>56.0</td>\n",
       "      <td>...</td>\n",
       "      <td>5.0</td>\n",
       "      <td>Post (prior bilateral ovariectomy OR &gt;12 mo si...</td>\n",
       "      <td>NaN</td>\n",
       "      <td>2001.0</td>\n",
       "      <td>NaN</td>\n",
       "      <td>1.0</td>\n",
       "      <td>1.0</td>\n",
       "      <td>6.0</td>\n",
       "      <td>G2</td>\n",
       "      <td>44.5</td>\n",
       "    </tr>\n",
       "    <tr>\n",
       "      <th>HTMCP-03-06-02002</th>\n",
       "      <td>15964</td>\n",
       "      <td>697</td>\n",
       "      <td>16661</td>\n",
       "      <td>4.221701</td>\n",
       "      <td>Negative</td>\n",
       "      <td>Positive</td>\n",
       "      <td>Squamous Non-Keratinizing</td>\n",
       "      <td>Squamous</td>\n",
       "      <td>NaN</td>\n",
       "      <td>62.0</td>\n",
       "      <td>...</td>\n",
       "      <td>8.0</td>\n",
       "      <td>Post (prior bilateral ovariectomy OR &gt;12 mo si...</td>\n",
       "      <td>NaN</td>\n",
       "      <td>2002.0</td>\n",
       "      <td>3.0</td>\n",
       "      <td>NaN</td>\n",
       "      <td>1.0</td>\n",
       "      <td>11.0</td>\n",
       "      <td>G3</td>\n",
       "      <td>70.2</td>\n",
       "    </tr>\n",
       "    <tr>\n",
       "      <th>HTMCP-03-06-02003</th>\n",
       "      <td>7914</td>\n",
       "      <td>483</td>\n",
       "      <td>8397</td>\n",
       "      <td>3.924124</td>\n",
       "      <td>Positive</td>\n",
       "      <td>Positive</td>\n",
       "      <td>Squamous Non-Keratinizing</td>\n",
       "      <td>Squamous</td>\n",
       "      <td>NaN</td>\n",
       "      <td>39.0</td>\n",
       "      <td>...</td>\n",
       "      <td>4.0</td>\n",
       "      <td>Pre (&lt;6 months since LMP AND no prior bilatera...</td>\n",
       "      <td>NaN</td>\n",
       "      <td>2003.0</td>\n",
       "      <td>NaN</td>\n",
       "      <td>NaN</td>\n",
       "      <td>1.0</td>\n",
       "      <td>5.0</td>\n",
       "      <td>G2</td>\n",
       "      <td>56.2</td>\n",
       "    </tr>\n",
       "  </tbody>\n",
       "</table>\n",
       "<p>3 rows × 36 columns</p>\n",
       "</div>"
      ],
      "text/plain": [
       "                   snv_counts  indel_counts  strelka_mutations  log10_sum  \\\n",
       "patient                                                                     \n",
       "HTMCP-03-06-02001       25732          1242              26974   4.430945   \n",
       "HTMCP-03-06-02002       15964           697              16661   4.221701   \n",
       "HTMCP-03-06-02003        7914           483               8397   3.924124   \n",
       "\n",
       "                  reanne_HIV_status HPV_status         Clinical_histology  \\\n",
       "patient                                                                     \n",
       "HTMCP-03-06-02001          Positive   Positive  Squamous Non-Keratinizing   \n",
       "HTMCP-03-06-02002          Negative   Positive  Squamous Non-Keratinizing   \n",
       "HTMCP-03-06-02003          Positive   Positive  Squamous Non-Keratinizing   \n",
       "\n",
       "                  reanne_Putative_histology comments  age_at_diagnosis  \\\n",
       "patient                                                                  \n",
       "HTMCP-03-06-02001                  Squamous      NaN              56.0   \n",
       "HTMCP-03-06-02002                  Squamous      NaN              62.0   \n",
       "HTMCP-03-06-02003                  Squamous      NaN              39.0   \n",
       "\n",
       "                            ...           live_birth_pregnancy_count  \\\n",
       "patient                     ...                                        \n",
       "HTMCP-03-06-02001           ...                                  5.0   \n",
       "HTMCP-03-06-02002           ...                                  8.0   \n",
       "HTMCP-03-06-02003           ...                                  4.0   \n",
       "\n",
       "                                                    menopause_status  \\\n",
       "patient                                                                \n",
       "HTMCP-03-06-02001  Post (prior bilateral ovariectomy OR >12 mo si...   \n",
       "HTMCP-03-06-02002  Post (prior bilateral ovariectomy OR >12 mo si...   \n",
       "HTMCP-03-06-02003  Pre (<6 months since LMP AND no prior bilatera...   \n",
       "\n",
       "                   nadir_cd4_counts  patient_id  \\\n",
       "patient                                           \n",
       "HTMCP-03-06-02001               NaN      2001.0   \n",
       "HTMCP-03-06-02002               NaN      2002.0   \n",
       "HTMCP-03-06-02003               NaN      2003.0   \n",
       "\n",
       "                  pregnancies_count_induced_abortion  \\\n",
       "patient                                                \n",
       "HTMCP-03-06-02001                                NaN   \n",
       "HTMCP-03-06-02002                                3.0   \n",
       "HTMCP-03-06-02003                                NaN   \n",
       "\n",
       "                   pregnancies_count_miscarriage  \\\n",
       "patient                                            \n",
       "HTMCP-03-06-02001                            1.0   \n",
       "HTMCP-03-06-02002                            NaN   \n",
       "HTMCP-03-06-02003                            NaN   \n",
       "\n",
       "                  tobacco_smoking_history_indicator total_pregnancy_count  \\\n",
       "patient                                                                     \n",
       "HTMCP-03-06-02001                               1.0                   6.0   \n",
       "HTMCP-03-06-02002                               1.0                  11.0   \n",
       "HTMCP-03-06-02003                               1.0                   5.0   \n",
       "\n",
       "                  tumor_grade  weight_kg_at_diagnosis  \n",
       "patient                                                \n",
       "HTMCP-03-06-02001          G2                    44.5  \n",
       "HTMCP-03-06-02002          G3                    70.2  \n",
       "HTMCP-03-06-02003          G2                    56.2  \n",
       "\n",
       "[3 rows x 36 columns]"
      ]
     },
     "execution_count": 20,
     "metadata": {},
     "output_type": "execute_result"
    }
   ],
   "source": [
    "dfm.head(3)"
   ]
  },
  {
   "cell_type": "code",
   "execution_count": 21,
   "metadata": {},
   "outputs": [
    {
     "data": {
      "text/plain": [
       "(30, 36)"
      ]
     },
     "execution_count": 21,
     "metadata": {},
     "output_type": "execute_result"
    }
   ],
   "source": [
    "dfm[dfm.age_at_diagnosis.isnull()].shape"
   ]
  },
  {
   "cell_type": "code",
   "execution_count": 22,
   "metadata": {
    "scrolled": true
   },
   "outputs": [
    {
     "data": {
      "text/plain": [
       "Positive    74\n",
       "Negative    49\n",
       "Name: reanne_HIV_status, dtype: int64"
      ]
     },
     "execution_count": 22,
     "metadata": {},
     "output_type": "execute_result"
    }
   ],
   "source": [
    "dfm['reanne_HIV_status'].value_counts()"
   ]
  },
  {
   "cell_type": "code",
   "execution_count": null,
   "metadata": {
    "collapsed": true
   },
   "outputs": [],
   "source": []
  },
  {
   "cell_type": "code",
   "execution_count": 23,
   "metadata": {},
   "outputs": [
    {
     "data": {
      "text/plain": [
       "Squamous    102\n",
       "Adeno        21\n",
       "Name: reanne_Putative_histology, dtype: int64"
      ]
     },
     "execution_count": 23,
     "metadata": {},
     "output_type": "execute_result"
    }
   ],
   "source": [
    "dfm['reanne_Putative_histology'].value_counts()"
   ]
  },
  {
   "cell_type": "code",
   "execution_count": 24,
   "metadata": {
    "collapsed": true
   },
   "outputs": [],
   "source": [
    "# colors = ['red' if i==\"Positive\" else 'blue' for i in dfm['HIV_status']]\n",
    "# dfm.plot('log10_snv', 'log10_indel', kind='scatter', c=colors)"
   ]
  },
  {
   "cell_type": "code",
   "execution_count": 25,
   "metadata": {},
   "outputs": [
    {
     "data": {
      "text/html": [
       "<div>\n",
       "<style>\n",
       "    .dataframe thead tr:only-child th {\n",
       "        text-align: right;\n",
       "    }\n",
       "\n",
       "    .dataframe thead th {\n",
       "        text-align: left;\n",
       "    }\n",
       "\n",
       "    .dataframe tbody tr th {\n",
       "        vertical-align: top;\n",
       "    }\n",
       "</style>\n",
       "<table border=\"1\" class=\"dataframe\">\n",
       "  <thead>\n",
       "    <tr style=\"text-align: right;\">\n",
       "      <th></th>\n",
       "      <th>snv_counts</th>\n",
       "      <th>indel_counts</th>\n",
       "      <th>strelka_mutations</th>\n",
       "      <th>log10_sum</th>\n",
       "      <th>reanne_HIV_status</th>\n",
       "      <th>HPV_status</th>\n",
       "      <th>Clinical_histology</th>\n",
       "      <th>reanne_Putative_histology</th>\n",
       "      <th>comments</th>\n",
       "      <th>age_at_diagnosis</th>\n",
       "      <th>...</th>\n",
       "      <th>live_birth_pregnancy_count</th>\n",
       "      <th>menopause_status</th>\n",
       "      <th>nadir_cd4_counts</th>\n",
       "      <th>patient_id</th>\n",
       "      <th>pregnancies_count_induced_abortion</th>\n",
       "      <th>pregnancies_count_miscarriage</th>\n",
       "      <th>tobacco_smoking_history_indicator</th>\n",
       "      <th>total_pregnancy_count</th>\n",
       "      <th>tumor_grade</th>\n",
       "      <th>weight_kg_at_diagnosis</th>\n",
       "    </tr>\n",
       "    <tr>\n",
       "      <th>patient</th>\n",
       "      <th></th>\n",
       "      <th></th>\n",
       "      <th></th>\n",
       "      <th></th>\n",
       "      <th></th>\n",
       "      <th></th>\n",
       "      <th></th>\n",
       "      <th></th>\n",
       "      <th></th>\n",
       "      <th></th>\n",
       "      <th></th>\n",
       "      <th></th>\n",
       "      <th></th>\n",
       "      <th></th>\n",
       "      <th></th>\n",
       "      <th></th>\n",
       "      <th></th>\n",
       "      <th></th>\n",
       "      <th></th>\n",
       "      <th></th>\n",
       "      <th></th>\n",
       "    </tr>\n",
       "  </thead>\n",
       "  <tbody>\n",
       "    <tr>\n",
       "      <th>HTMCP-03-06-02001</th>\n",
       "      <td>25732</td>\n",
       "      <td>1242</td>\n",
       "      <td>26974</td>\n",
       "      <td>4.430945</td>\n",
       "      <td>Positive</td>\n",
       "      <td>Positive</td>\n",
       "      <td>Squamous Non-Keratinizing</td>\n",
       "      <td>Squamous</td>\n",
       "      <td>NaN</td>\n",
       "      <td>56.0</td>\n",
       "      <td>...</td>\n",
       "      <td>5.0</td>\n",
       "      <td>Post (prior bilateral ovariectomy OR &gt;12 mo si...</td>\n",
       "      <td>NaN</td>\n",
       "      <td>2001.0</td>\n",
       "      <td>NaN</td>\n",
       "      <td>1.0</td>\n",
       "      <td>1.0</td>\n",
       "      <td>6.0</td>\n",
       "      <td>G2</td>\n",
       "      <td>44.5</td>\n",
       "    </tr>\n",
       "    <tr>\n",
       "      <th>HTMCP-03-06-02002</th>\n",
       "      <td>15964</td>\n",
       "      <td>697</td>\n",
       "      <td>16661</td>\n",
       "      <td>4.221701</td>\n",
       "      <td>Negative</td>\n",
       "      <td>Positive</td>\n",
       "      <td>Squamous Non-Keratinizing</td>\n",
       "      <td>Squamous</td>\n",
       "      <td>NaN</td>\n",
       "      <td>62.0</td>\n",
       "      <td>...</td>\n",
       "      <td>8.0</td>\n",
       "      <td>Post (prior bilateral ovariectomy OR &gt;12 mo si...</td>\n",
       "      <td>NaN</td>\n",
       "      <td>2002.0</td>\n",
       "      <td>3.0</td>\n",
       "      <td>NaN</td>\n",
       "      <td>1.0</td>\n",
       "      <td>11.0</td>\n",
       "      <td>G3</td>\n",
       "      <td>70.2</td>\n",
       "    </tr>\n",
       "  </tbody>\n",
       "</table>\n",
       "<p>2 rows × 36 columns</p>\n",
       "</div>"
      ],
      "text/plain": [
       "                   snv_counts  indel_counts  strelka_mutations  log10_sum  \\\n",
       "patient                                                                     \n",
       "HTMCP-03-06-02001       25732          1242              26974   4.430945   \n",
       "HTMCP-03-06-02002       15964           697              16661   4.221701   \n",
       "\n",
       "                  reanne_HIV_status HPV_status         Clinical_histology  \\\n",
       "patient                                                                     \n",
       "HTMCP-03-06-02001          Positive   Positive  Squamous Non-Keratinizing   \n",
       "HTMCP-03-06-02002          Negative   Positive  Squamous Non-Keratinizing   \n",
       "\n",
       "                  reanne_Putative_histology comments  age_at_diagnosis  \\\n",
       "patient                                                                  \n",
       "HTMCP-03-06-02001                  Squamous      NaN              56.0   \n",
       "HTMCP-03-06-02002                  Squamous      NaN              62.0   \n",
       "\n",
       "                            ...           live_birth_pregnancy_count  \\\n",
       "patient                     ...                                        \n",
       "HTMCP-03-06-02001           ...                                  5.0   \n",
       "HTMCP-03-06-02002           ...                                  8.0   \n",
       "\n",
       "                                                    menopause_status  \\\n",
       "patient                                                                \n",
       "HTMCP-03-06-02001  Post (prior bilateral ovariectomy OR >12 mo si...   \n",
       "HTMCP-03-06-02002  Post (prior bilateral ovariectomy OR >12 mo si...   \n",
       "\n",
       "                   nadir_cd4_counts  patient_id  \\\n",
       "patient                                           \n",
       "HTMCP-03-06-02001               NaN      2001.0   \n",
       "HTMCP-03-06-02002               NaN      2002.0   \n",
       "\n",
       "                  pregnancies_count_induced_abortion  \\\n",
       "patient                                                \n",
       "HTMCP-03-06-02001                                NaN   \n",
       "HTMCP-03-06-02002                                3.0   \n",
       "\n",
       "                   pregnancies_count_miscarriage  \\\n",
       "patient                                            \n",
       "HTMCP-03-06-02001                            1.0   \n",
       "HTMCP-03-06-02002                            NaN   \n",
       "\n",
       "                  tobacco_smoking_history_indicator total_pregnancy_count  \\\n",
       "patient                                                                     \n",
       "HTMCP-03-06-02001                               1.0                   6.0   \n",
       "HTMCP-03-06-02002                               1.0                  11.0   \n",
       "\n",
       "                  tumor_grade  weight_kg_at_diagnosis  \n",
       "patient                                                \n",
       "HTMCP-03-06-02001          G2                    44.5  \n",
       "HTMCP-03-06-02002          G3                    70.2  \n",
       "\n",
       "[2 rows x 36 columns]"
      ]
     },
     "execution_count": 25,
     "metadata": {},
     "output_type": "execute_result"
    }
   ],
   "source": [
    "dfm.head(2)"
   ]
  },
  {
   "cell_type": "code",
   "execution_count": 26,
   "metadata": {
    "collapsed": true
   },
   "outputs": [],
   "source": [
    "of2 = '/projects/trans_scratch/validations/workspace/szong/Cervical/variant_bwamem/124_patients/mutation_load_clinic.txt'\n",
    "# dfm.to_csv(of2, sep='\\t')"
   ]
  },
  {
   "cell_type": "code",
   "execution_count": 27,
   "metadata": {
    "collapsed": true
   },
   "outputs": [],
   "source": [
    "\n",
    "dfm = dfm[dfm.age_at_diagnosis.notnull()]"
   ]
  },
  {
   "cell_type": "code",
   "execution_count": 28,
   "metadata": {},
   "outputs": [
    {
     "data": {
      "text/html": [
       "<div>\n",
       "<style>\n",
       "    .dataframe thead tr:only-child th {\n",
       "        text-align: right;\n",
       "    }\n",
       "\n",
       "    .dataframe thead th {\n",
       "        text-align: left;\n",
       "    }\n",
       "\n",
       "    .dataframe tbody tr th {\n",
       "        vertical-align: top;\n",
       "    }\n",
       "</style>\n",
       "<table border=\"1\" class=\"dataframe\">\n",
       "  <thead>\n",
       "    <tr style=\"text-align: right;\">\n",
       "      <th></th>\n",
       "      <th>snv_counts</th>\n",
       "      <th>indel_counts</th>\n",
       "      <th>strelka_mutations</th>\n",
       "      <th>log10_sum</th>\n",
       "      <th>reanne_HIV_status</th>\n",
       "      <th>HPV_status</th>\n",
       "      <th>Clinical_histology</th>\n",
       "      <th>reanne_Putative_histology</th>\n",
       "      <th>comments</th>\n",
       "      <th>age_at_diagnosis</th>\n",
       "      <th>...</th>\n",
       "      <th>live_birth_pregnancy_count</th>\n",
       "      <th>menopause_status</th>\n",
       "      <th>nadir_cd4_counts</th>\n",
       "      <th>patient_id</th>\n",
       "      <th>pregnancies_count_induced_abortion</th>\n",
       "      <th>pregnancies_count_miscarriage</th>\n",
       "      <th>tobacco_smoking_history_indicator</th>\n",
       "      <th>total_pregnancy_count</th>\n",
       "      <th>tumor_grade</th>\n",
       "      <th>weight_kg_at_diagnosis</th>\n",
       "    </tr>\n",
       "    <tr>\n",
       "      <th>patient</th>\n",
       "      <th></th>\n",
       "      <th></th>\n",
       "      <th></th>\n",
       "      <th></th>\n",
       "      <th></th>\n",
       "      <th></th>\n",
       "      <th></th>\n",
       "      <th></th>\n",
       "      <th></th>\n",
       "      <th></th>\n",
       "      <th></th>\n",
       "      <th></th>\n",
       "      <th></th>\n",
       "      <th></th>\n",
       "      <th></th>\n",
       "      <th></th>\n",
       "      <th></th>\n",
       "      <th></th>\n",
       "      <th></th>\n",
       "      <th></th>\n",
       "      <th></th>\n",
       "    </tr>\n",
       "  </thead>\n",
       "  <tbody>\n",
       "  </tbody>\n",
       "</table>\n",
       "<p>0 rows × 36 columns</p>\n",
       "</div>"
      ],
      "text/plain": [
       "Empty DataFrame\n",
       "Columns: [snv_counts, indel_counts, strelka_mutations, log10_sum, reanne_HIV_status, HPV_status, Clinical_histology, reanne_Putative_histology, comments, age_at_diagnosis, ajcc_tumor_clinical_ct, birth_days_to, cd4_counts_at_diagnosis, cd4_counts_at_diagnosis.1, clinical_stage, days_to_hiv_diagnosis, ecog_score, haart_therapy_at_dx, haart_therapy_prior_to_dx, height_cm_at_diagnosis, histologic_diagnosis, history_hormonal_contraceptives_use, hiv_rna_load_at_diagnosis, hiv_rna_load_at_diagnosis.1, karnofsky_score, keratinization_squamous_cell, live_birth_pregnancy_count, menopause_status, nadir_cd4_counts, patient_id, pregnancies_count_induced_abortion, pregnancies_count_miscarriage, tobacco_smoking_history_indicator, total_pregnancy_count, tumor_grade, weight_kg_at_diagnosis]\n",
       "Index: []\n",
       "\n",
       "[0 rows x 36 columns]"
      ]
     },
     "execution_count": 28,
     "metadata": {},
     "output_type": "execute_result"
    }
   ],
   "source": [
    "dfm[dfm.age_at_diagnosis.isnull()]"
   ]
  },
  {
   "cell_type": "code",
   "execution_count": 29,
   "metadata": {
    "collapsed": true
   },
   "outputs": [],
   "source": [
    "# drop outliers to see if this results in better box plot and /or mann whiteney u test results (nonparametric test, should not matter)\n",
    "# result still significant p=0.030, intead of p= 0.007\n",
    "# dfm.drop(['HTMCP-03-06-02026', 'HTMCP-03-06-02007', 'HTMCP-03-06-02261', 'HTMCP-03-06-02262'], inplace=True)"
   ]
  },
  {
   "cell_type": "markdown",
   "metadata": {},
   "source": [
    "different mutation burden in HIV + and - patients"
   ]
  },
  {
   "cell_type": "code",
   "execution_count": 9,
   "metadata": {},
   "outputs": [
    {
     "data": {
      "text/plain": [
       "False"
      ]
     },
     "execution_count": 9,
     "metadata": {},
     "output_type": "execute_result"
    }
   ],
   "source": [
    "f =  '/projects/trans_scratch/validations/workspace/szong/Cervical/variant_bwamem/124_patients/mutation_load_clinic.txt'\n",
    "df = pd.read_csv(f, index_col='patient', sep='\\t')\n",
    "df.head(2)\n",
    "\n",
    "df.tmp = df.reanne_HIV_status.apply(lambda x: '+' if x == 'Positive' else '-')\n",
    "\n",
    "assert (df.tmp.value_counts() == pd.Series({'+':74, '-':49})).all()\n",
    "\n",
    "df['combo'] = df.reanne_Putative_histology + df.tmp\n",
    "\n",
    "'tmp' in df.columns"
   ]
  },
  {
   "cell_type": "code",
   "execution_count": 11,
   "metadata": {},
   "outputs": [
    {
     "data": {
      "text/html": [
       "<div>\n",
       "<style>\n",
       "    .dataframe thead tr:only-child th {\n",
       "        text-align: right;\n",
       "    }\n",
       "\n",
       "    .dataframe thead th {\n",
       "        text-align: left;\n",
       "    }\n",
       "\n",
       "    .dataframe tbody tr th {\n",
       "        vertical-align: top;\n",
       "    }\n",
       "</style>\n",
       "<table border=\"1\" class=\"dataframe\">\n",
       "  <thead>\n",
       "    <tr style=\"text-align: right;\">\n",
       "      <th></th>\n",
       "      <th>snv_counts</th>\n",
       "      <th>indel_counts</th>\n",
       "      <th>strelka_mutations</th>\n",
       "      <th>log10_sum</th>\n",
       "      <th>reanne_HIV_status</th>\n",
       "      <th>HPV_status</th>\n",
       "      <th>Clinical_histology</th>\n",
       "      <th>reanne_Putative_histology</th>\n",
       "      <th>comments</th>\n",
       "      <th>age_at_diagnosis</th>\n",
       "      <th>...</th>\n",
       "      <th>menopause_status</th>\n",
       "      <th>nadir_cd4_counts</th>\n",
       "      <th>patient_id</th>\n",
       "      <th>pregnancies_count_induced_abortion</th>\n",
       "      <th>pregnancies_count_miscarriage</th>\n",
       "      <th>tobacco_smoking_history_indicator</th>\n",
       "      <th>total_pregnancy_count</th>\n",
       "      <th>tumor_grade</th>\n",
       "      <th>weight_kg_at_diagnosis</th>\n",
       "      <th>combo</th>\n",
       "    </tr>\n",
       "    <tr>\n",
       "      <th>patient</th>\n",
       "      <th></th>\n",
       "      <th></th>\n",
       "      <th></th>\n",
       "      <th></th>\n",
       "      <th></th>\n",
       "      <th></th>\n",
       "      <th></th>\n",
       "      <th></th>\n",
       "      <th></th>\n",
       "      <th></th>\n",
       "      <th></th>\n",
       "      <th></th>\n",
       "      <th></th>\n",
       "      <th></th>\n",
       "      <th></th>\n",
       "      <th></th>\n",
       "      <th></th>\n",
       "      <th></th>\n",
       "      <th></th>\n",
       "      <th></th>\n",
       "      <th></th>\n",
       "    </tr>\n",
       "  </thead>\n",
       "  <tbody>\n",
       "    <tr>\n",
       "      <th>HTMCP-03-06-02001</th>\n",
       "      <td>25732</td>\n",
       "      <td>1242</td>\n",
       "      <td>26974</td>\n",
       "      <td>4.430945</td>\n",
       "      <td>Positive</td>\n",
       "      <td>Positive</td>\n",
       "      <td>Squamous Non-Keratinizing</td>\n",
       "      <td>Squamous</td>\n",
       "      <td>NaN</td>\n",
       "      <td>56</td>\n",
       "      <td>...</td>\n",
       "      <td>Post (prior bilateral ovariectomy OR &gt;12 mo si...</td>\n",
       "      <td>[Not Available]</td>\n",
       "      <td>2001.0</td>\n",
       "      <td>[Not Available]</td>\n",
       "      <td>1</td>\n",
       "      <td>1</td>\n",
       "      <td>6.0</td>\n",
       "      <td>G2</td>\n",
       "      <td>44.5</td>\n",
       "      <td>Squamous+</td>\n",
       "    </tr>\n",
       "    <tr>\n",
       "      <th>HTMCP-03-06-02002</th>\n",
       "      <td>15964</td>\n",
       "      <td>697</td>\n",
       "      <td>16661</td>\n",
       "      <td>4.221701</td>\n",
       "      <td>Negative</td>\n",
       "      <td>Positive</td>\n",
       "      <td>Squamous Non-Keratinizing</td>\n",
       "      <td>Squamous</td>\n",
       "      <td>NaN</td>\n",
       "      <td>62</td>\n",
       "      <td>...</td>\n",
       "      <td>Post (prior bilateral ovariectomy OR &gt;12 mo si...</td>\n",
       "      <td>[Not Available]</td>\n",
       "      <td>2002.0</td>\n",
       "      <td>3</td>\n",
       "      <td>[Not Available]</td>\n",
       "      <td>1</td>\n",
       "      <td>11.0</td>\n",
       "      <td>G3</td>\n",
       "      <td>70.2</td>\n",
       "      <td>Squamous-</td>\n",
       "    </tr>\n",
       "  </tbody>\n",
       "</table>\n",
       "<p>2 rows × 37 columns</p>\n",
       "</div>"
      ],
      "text/plain": [
       "                   snv_counts  indel_counts  strelka_mutations  log10_sum  \\\n",
       "patient                                                                     \n",
       "HTMCP-03-06-02001       25732          1242              26974   4.430945   \n",
       "HTMCP-03-06-02002       15964           697              16661   4.221701   \n",
       "\n",
       "                  reanne_HIV_status HPV_status         Clinical_histology  \\\n",
       "patient                                                                     \n",
       "HTMCP-03-06-02001          Positive   Positive  Squamous Non-Keratinizing   \n",
       "HTMCP-03-06-02002          Negative   Positive  Squamous Non-Keratinizing   \n",
       "\n",
       "                  reanne_Putative_histology comments age_at_diagnosis  \\\n",
       "patient                                                                 \n",
       "HTMCP-03-06-02001                  Squamous      NaN               56   \n",
       "HTMCP-03-06-02002                  Squamous      NaN               62   \n",
       "\n",
       "                     ...      \\\n",
       "patient              ...       \n",
       "HTMCP-03-06-02001    ...       \n",
       "HTMCP-03-06-02002    ...       \n",
       "\n",
       "                                                    menopause_status  \\\n",
       "patient                                                                \n",
       "HTMCP-03-06-02001  Post (prior bilateral ovariectomy OR >12 mo si...   \n",
       "HTMCP-03-06-02002  Post (prior bilateral ovariectomy OR >12 mo si...   \n",
       "\n",
       "                  nadir_cd4_counts patient_id  \\\n",
       "patient                                         \n",
       "HTMCP-03-06-02001  [Not Available]     2001.0   \n",
       "HTMCP-03-06-02002  [Not Available]     2002.0   \n",
       "\n",
       "                  pregnancies_count_induced_abortion  \\\n",
       "patient                                                \n",
       "HTMCP-03-06-02001                    [Not Available]   \n",
       "HTMCP-03-06-02002                                  3   \n",
       "\n",
       "                  pregnancies_count_miscarriage  \\\n",
       "patient                                           \n",
       "HTMCP-03-06-02001                             1   \n",
       "HTMCP-03-06-02002               [Not Available]   \n",
       "\n",
       "                  tobacco_smoking_history_indicator total_pregnancy_count  \\\n",
       "patient                                                                     \n",
       "HTMCP-03-06-02001                                 1                   6.0   \n",
       "HTMCP-03-06-02002                                 1                  11.0   \n",
       "\n",
       "                  tumor_grade weight_kg_at_diagnosis      combo  \n",
       "patient                                                          \n",
       "HTMCP-03-06-02001          G2                   44.5  Squamous+  \n",
       "HTMCP-03-06-02002          G3                   70.2  Squamous-  \n",
       "\n",
       "[2 rows x 37 columns]"
      ]
     },
     "execution_count": 11,
     "metadata": {},
     "output_type": "execute_result"
    }
   ],
   "source": [
    "df.head(2)"
   ]
  },
  {
   "cell_type": "code",
   "execution_count": 10,
   "metadata": {},
   "outputs": [
    {
     "data": {
      "text/plain": [
       "Index(['snv_counts', 'indel_counts', 'strelka_mutations', 'log10_sum',\n",
       "       'reanne_HIV_status', 'HPV_status', 'Clinical_histology',\n",
       "       'reanne_Putative_histology', 'comments', 'age_at_diagnosis',\n",
       "       'ajcc_tumor_clinical_ct', 'birth_days_to', 'cd4_counts_at_diagnosis',\n",
       "       'cd4_counts_at_diagnosis.1', 'clinical_stage', 'days_to_hiv_diagnosis',\n",
       "       'ecog_score', 'haart_therapy_at_dx', 'haart_therapy_prior_to_dx',\n",
       "       'height_cm_at_diagnosis', 'histologic_diagnosis',\n",
       "       'history_hormonal_contraceptives_use', 'hiv_rna_load_at_diagnosis',\n",
       "       'hiv_rna_load_at_diagnosis.1', 'karnofsky_score',\n",
       "       'keratinization_squamous_cell', 'live_birth_pregnancy_count',\n",
       "       'menopause_status', 'nadir_cd4_counts', 'patient_id',\n",
       "       'pregnancies_count_induced_abortion', 'pregnancies_count_miscarriage',\n",
       "       'tobacco_smoking_history_indicator', 'total_pregnancy_count',\n",
       "       'tumor_grade', 'weight_kg_at_diagnosis', 'combo'],\n",
       "      dtype='object')"
      ]
     },
     "execution_count": 10,
     "metadata": {},
     "output_type": "execute_result"
    }
   ],
   "source": [
    "df.columns"
   ]
  },
  {
   "cell_type": "code",
   "execution_count": 34,
   "metadata": {
    "collapsed": true
   },
   "outputs": [],
   "source": [
    "group_cols = ['reanne_HIV_status', 'reanne_Putative_histology', 'combo']\n",
    "value_col = 'strelka_mutations'\n",
    "titles = ['HIV status', 'putative histology', 'histology + HIV status']"
   ]
  },
  {
   "cell_type": "code",
   "execution_count": 49,
   "metadata": {},
   "outputs": [
    {
     "name": "stderr",
     "output_type": "stream",
     "text": [
      "/home/szong/anaconda3/lib/python3.6/site-packages/matplotlib/font_manager.py:1297: UserWarning: findfont: Font family ['sans-serif'] not found. Falling back to DejaVu Sans\n",
      "  (prop.get_family(), self.defaultFamily[fontext]))\n"
     ]
    },
    {
     "data": {
      "image/png": "[encoded data removed]",
      "text/plain": [
       "<matplotlib.figure.Figure at 0x7f37f1393898>"
      ]
     },
     "metadata": {},
     "output_type": "display_data"
    }
   ],
   "source": [
    "\n",
    "# gene = 'SF3B1'\n",
    "# boxplot overlaps individual data point\n",
    "with plt.style.context(\"seaborn-whitegrid\"):\n",
    "    plt.rcParams[\"axes.edgecolor\"] = \"0.15\"\n",
    "    plt.rcParams[\"axes.linewidth\"]  = 1.25\n",
    "    fig = plt.figure(facecolor='w', figsize=(15,9))\n",
    "\n",
    "    gs = gridspec.GridSpec(int(len(group_cols)/3.0)+1, 3)\n",
    "    p_values = {}\n",
    "    for k, col in enumerate(group_cols):\n",
    "#         titles = group_cols[k]\n",
    "        group_col = col\n",
    "        categories = sorted(df[group_col].unique().tolist(), reverse=True) \n",
    "#         print(k, col)\n",
    "        ax = fig.add_subplot(gs[k])\n",
    "        _ = ax.set_yscale(\"log\")\n",
    "       \n",
    "        _ = sns.swarmplot(x=group_col, y=value_col, data=df, edgecolor=\"black\", linewidth=.9)\n",
    "        _ = sns.boxplot(x=group_col, y=value_col, data=df, saturation=1, ax=ax)\n",
    "\n",
    "        grps = {}\n",
    "        # overlay actuall data point\n",
    "        for i, cat in enumerate(categories):\n",
    "            grps[i] = df.query('{0} == \"{1}\"'.format(group_col, cat))[value_col]\n",
    "\n",
    "        if len(categories) == 2:\n",
    "            # statistical test for 1st grp\n",
    "            sts, p = ss.mannwhitneyu(grps[0], grps[1], use_continuity=True, alternative=None)\n",
    "            p = round(p, 4)\n",
    "            _ = ax.text(0.4 , 0.90,'p={}'.format(p), ha='center', va='center', transform=ax.transAxes, size=14)\n",
    "        elif len(categories) == 4:\n",
    "            # statistical test for 1st grp\n",
    "            for i in [0, 2]:\n",
    "                sts, p = ss.mannwhitneyu(grps[i], grps[i+1], use_continuity=True, alternative=None)\n",
    "                p = round(p, 4)\n",
    "                _ = ax.text(0.3 + i*.2 , 0.90,'p={}'.format(p), ha='center', va='center', transform=ax.transAxes, size=14)\n",
    "            \n",
    "#         ax.tick_params(axis='x', labelsize=18) #specify x tick label size\n",
    "#         _ = ax.set_xticks(range(position+1))\n",
    "#         _ = ax.set_xticklabels(categories, rotation=0)\n",
    "        _ = ax.set_title('{}'.format(titles[k]), fontsize=12)\n",
    "#         _ = ax.set_xlim(xmin=-0.5)\n",
    "#         _= ax.set_ylabel('spicing events', fontsize=12)\n",
    "        ax.set_xlabel('')\n",
    "        ax.set_ylabel('log(strelka mutations)')\n",
    "        ax.grid(True)\n",
    "\n",
    "#     plt.suptitle('', fontsize=14)       \n",
    "    of = '/projects/trans_scratch/validations/workspace/szong/Cervical/variant_bwamem/124_patients/mutation_load.png'\n",
    "    plt.savefig(of, dpi=200, box_inches='tight')\n",
    "plt.show()\n",
    "plt.close()"
   ]
  },
  {
   "cell_type": "code",
   "execution_count": 44,
   "metadata": {},
   "outputs": [
    {
     "data": {
      "text/plain": [
       "range(2, 1)"
      ]
     },
     "execution_count": 44,
     "metadata": {},
     "output_type": "execute_result"
    }
   ],
   "source": []
  },
  {
   "cell_type": "code",
   "execution_count": 12,
   "metadata": {
    "scrolled": true
   },
   "outputs": [
    {
     "data": {
      "image/png": "[encoded data removed]",
      "text/plain": [
       "<matplotlib.figure.Figure at 0x7f37f7c16780>"
      ]
     },
     "metadata": {},
     "output_type": "display_data"
    }
   ],
   "source": [
    "# boxplot\n",
    "with plt.style.context(\"seaborn-whitegrid\"):\n",
    "    plt.rcParams[\"axes.edgecolor\"] = \"0.15\"\n",
    "    plt.rcParams[\"axes.linewidth\"]  = 1.25\n",
    "    fig = plt.figure(facecolor='w', figsize=(16,6))\n",
    "    \n",
    "    x1 = 'reanne_HIV_status'\n",
    "    x2 = 'combo'\n",
    "    x3 = 'reanne_Putative_histology'\n",
    "    y = 'log10_sum'\n",
    "    ax1 = plt.subplot(131)\n",
    "    ax1.set_yscale(\"log\")\n",
    "    sns.swarmplot(x1, y, data=df)\n",
    "    sns.boxplot(x1, y, data=df)\n",
    "    ax1.set_title(\"somatic mutations (Strelka calls)\")\n",
    "    ax1.set(xlabel='HIV_status')\n",
    "    \n",
    "    ax2 = plt.subplot(132)\n",
    "    ax2.set_yscale(\"log\")\n",
    "    sns.swarmplot(x2, y, data=df)\n",
    "    sns.boxplot(x2, y, data=df)\n",
    "    plt.xticks(rotation=60)\n",
    "    ax2.set(xlabel='HIV_status')\n",
    "    ax2.set_title(\"somatic mutations (Strelka calls)\")\n",
    "    \n",
    "    ax3 = plt.subplot(133)\n",
    "    ax3.set_yscale(\"log\")\n",
    "    sns.swarmplot(x3, y, data=df)\n",
    "    sns.boxplot(x3, y, data=df)\n",
    "    ax3.set(xlabel='HIV_status')\n",
    "    ax3.set_title(\"somatic mutations (Strelka calls)\")\n",
    "    ax3.grid(True)\n",
    "    of = '/projects/trans_scratch/validations/workspace/szong/Cervical/variant_bwamem/124_patients/mutations_load_HIV_plots.png'    \n",
    "    plt.savefig(of)\n",
    "    plt.show()\n",
    "    plt.close()"
   ]
  },
  {
   "cell_type": "code",
   "execution_count": null,
   "metadata": {
    "collapsed": true
   },
   "outputs": [],
   "source": []
  },
  {
   "cell_type": "code",
   "execution_count": null,
   "metadata": {
    "collapsed": true
   },
   "outputs": [],
   "source": []
  },
  {
   "cell_type": "code",
   "execution_count": null,
   "metadata": {
    "collapsed": true
   },
   "outputs": [],
   "source": []
  },
  {
   "cell_type": "code",
   "execution_count": null,
   "metadata": {
    "collapsed": true
   },
   "outputs": [],
   "source": []
  },
  {
   "cell_type": "markdown",
   "metadata": {},
   "source": [
    "# below are outdated"
   ]
  },
  {
   "cell_type": "code",
   "execution_count": 37,
   "metadata": {},
   "outputs": [
    {
     "name": "stdout",
     "output_type": "stream",
     "text": [
      "0 0 is 0.1039964486558819\n",
      "0 1 is 0.248274809376615\n"
     ]
    },
    {
     "name": "stderr",
     "output_type": "stream",
     "text": [
      "/home/szong/anaconda3/lib/python3.6/site-packages/matplotlib/font_manager.py:1297: UserWarning: findfont: Font family ['sans-serif'] not found. Falling back to DejaVu Sans\n",
      "  (prop.get_family(), self.defaultFamily[fontext]))\n"
     ]
    },
    {
     "data": {
      "image/png": "[encoded data removed]",
      "text/plain": [
       "<matplotlib.figure.Figure at 0x7f22a9e6bdd8>"
      ]
     },
     "metadata": {},
     "output_type": "display_data"
    },
    {
     "data": {
      "image/png": "[encoded data removed]",
      "text/plain": [
       "<matplotlib.figure.Figure at 0x7f22a9e75588>"
      ]
     },
     "metadata": {},
     "output_type": "display_data"
    }
   ],
   "source": [
    "with plt.style.context(\"seaborn-whitegrid\"):\n",
    "    plt.rcParams[\"axes.edgecolor\"] = \"0.15\"\n",
    "    plt.rcParams[\"axes.linewidth\"]  = 1.25\n",
    "    fig = plt.figure(facecolor='w')\n",
    "    sns.boxplot('reanne_HIV_status', 'log10_sum', data=df)\n",
    "\n",
    "    value_cols = ['log10_sum']\n",
    "    titles = ['somatic mutations (Strelka calls)']\n",
    "    # boxplot overlaps individual data point\n",
    "    fig, axes = plt.subplots(1, 1, figsize=(8, 8))\n",
    "\n",
    "    # axes = axes.ravel()\n",
    "    # group_col = 'combo'\n",
    "    group_col = 'reanne_HIV_status'\n",
    "    tissue_col = 'reanne_Putative_histology'\n",
    "    categories = sorted(df[group_col].unique().tolist(), reverse=True) \n",
    "    tissues = sorted(df[tissue_col].unique().tolist(), reverse=True)\n",
    "    p_values = {}\n",
    "    for k, col in enumerate(value_cols):\n",
    "    #     ax = axes[k]\n",
    "        ax=axes\n",
    "        value_col = col\n",
    "        for position, cat in enumerate(categories):\n",
    "            _ = ax.boxplot(df.query('{0} == \"{1}\"'.format(group_col, cat))[col], \n",
    "                       positions=[position], widths=(0.6), showfliers=False\n",
    "                      )\n",
    "\n",
    "        np.random.seed(0)\n",
    "        grps = {}\n",
    "        # overlay actuall data point based on tissue types\n",
    "        for i, cat in enumerate(categories):\n",
    "            # add jitter and specify maker facecolor and edgecolor               \n",
    "            for j, tissue in enumerate(tissues):\n",
    "                y = (df.query('{0}==\"{1}\" & {2}==\"{3}\"'.format(group_col, cat, tissue_col, tissue))[value_col])\n",
    "                x = np.random.normal(i, 0.1, size=len(y))\n",
    "        #         ax.scatter(x, y, s=30)\n",
    "                lb = '' if i == 0 else tissue\n",
    "                _ = ax.plot(x, y, mfc = [\"orange\",\"blue\",\"yellow\", \"black\"][j], \n",
    "                               mec='k', ms=7, marker=\"o\", linestyle=\"None\", label=lb)\n",
    "                grps[i] = df.query('{0} == \"{1}\"'.format(group_col, cat))[col]\n",
    "    #         show the unequal variance of each group, not equal\n",
    "            print('{0} {1} is {2}'.format(k, i, np.var(grps[i])))\n",
    "        # statistical test for 1st grp\n",
    "        stats, p_U = ss.mannwhitneyu(grps[0], grps[1], use_continuity=True, alternative=None)\n",
    "    #     statsT, p_T = ss.ttest_ind(grps[0], grps[1])\n",
    "        p_U = round(p_U, 4)\n",
    "    #     p_T = round(p_T, 4)\n",
    "        _ = ax.text(0.5, 0.95,'p={}'.format(p_U), ha='center', va='center', transform=ax.transAxes, size=14) \n",
    "    #     _ = ax.text(0.3, 0.90,'p_Ttest={}'.format(p_T), ha='center', va='center', transform=ax.transAxes, size=14)     \n",
    "\n",
    "        _ = ax.set_facecolor('whitesmoke') #specify plot backgroup color\n",
    "        _ = ax.tick_params(axis='x', labelsize=14) #specify x tick label size\n",
    "        _ = ax.set_xticks(range(position+1))\n",
    "        _ = ax.set_xticklabels(categories, rotation=0, fontsize=14)\n",
    "    #     ax.set_title(col)\n",
    "        _ = ax.set_title('{}'.format(titles[k]), fontsize=18)\n",
    "        _ = ax.set_xlim(xmin=-0.5)\n",
    "        _= ax.set_ylabel('number of mutations(log10)', fontsize=14)\n",
    "        ax.grid(True)\n",
    "        _ = ax.legend(scatterpoints=1,\n",
    "                  loc='upper left',\n",
    "                  ncol=1,\n",
    "                  fontsize=12)\n",
    "    plt.suptitle('', fontsize=14)  \n",
    "    of1 = '/projects/trans_scratch/validations/workspace/szong/Cervical/variant_bwamem/107_patients/mutations_load_HIV_plots_1.png'\n",
    "    # plt.savefig(of1, dpi=200)"
   ]
  },
  {
   "cell_type": "code",
   "execution_count": 38,
   "metadata": {},
   "outputs": [
    {
     "name": "stderr",
     "output_type": "stream",
     "text": [
      "/home/szong/anaconda3/lib/python3.6/site-packages/matplotlib/font_manager.py:1297: UserWarning: findfont: Font family ['sans-serif'] not found. Falling back to DejaVu Sans\n",
      "  (prop.get_family(), self.defaultFamily[fontext]))\n"
     ]
    },
    {
     "data": {
      "image/png": "[encoded data removed]",
      "text/plain": [
       "<matplotlib.figure.Figure at 0x7f22a9c9dc18>"
      ]
     },
     "metadata": {},
     "output_type": "display_data"
    }
   ],
   "source": [
    "\n",
    "# separate into squamous and adeno, test HIV status difference.\n",
    "value_cols = ['log10_sum']\n",
    "titles = ['All somatic mutations (Strelka calls)']\n",
    "# boxplot overlaps individual data point\n",
    "fig, axes = plt.subplots(1,1, figsize=(8, 8))\n",
    "# axes = axes.ravel()\n",
    "group_col = 'combo'\n",
    "# group_col = 'HIV_status'\n",
    "categories = sorted(df[group_col].unique().tolist(), reverse=True) \n",
    "p_values = {}\n",
    "for k, col in enumerate(value_cols):\n",
    "    ax = axes\n",
    "    value_col = col\n",
    "    for position, cat in enumerate(categories):\n",
    "        _ = ax.boxplot(df.query('{0} == \"{1}\"'.format(group_col, cat))[col], \n",
    "                   positions=[position], widths=(0.6), showfliers=False\n",
    "                  );\n",
    "\n",
    "    np.random.seed(0)\n",
    "    \n",
    "    grps = {}\n",
    "    # overlay actuall data point\n",
    "    for i, cat in enumerate(categories):\n",
    "        # add jitter and specify maker facecolor and edgecolor\n",
    "        y = df[value_col][df[group_col]==cat]\n",
    "        x = np.random.normal(i, 0.1, size=len(y))\n",
    "#         ax.scatter(x, y, s=30)\n",
    "        _ = ax.plot(x, y, mfc = [\"orange\",\"blue\",\"yellow\", \"black\"][i], mec='k', ms=7, marker=\"o\", linestyle=\"None\")\n",
    "        grps[i] = df.query('{0} == \"{1}\"'.format(group_col, cat))[col]\n",
    "\n",
    "    # statistical test for 1st grp\n",
    "    stats, p = ss.mannwhitneyu(grps[0], grps[1], use_continuity=True, alternative=None)\n",
    "    p = round(p, 4)\n",
    "    _ = ax.text(0.3, 0.9,'p={}'.format(p), ha='center', va='center', transform=ax.transAxes, size=14) \n",
    "    \n",
    "    # statistical test fro 2nd grp\n",
    "    stats, p = ss.mannwhitneyu(grps[2], grps[3], use_continuity=True, alternative=None)\n",
    "    p = round(p, 4)\n",
    "    _ = ax.text(0.8, 0.9,'p={}'.format(p), ha='center', va='center', transform=ax.transAxes, size=14)    \n",
    "    \n",
    "    ax.set_facecolor('whitesmoke') #specify plot backgroup color\n",
    "    ax.tick_params(axis='x', labelsize=18) #specify x tick label size\n",
    "    _ = ax.set_xticks(range(position+1))\n",
    "    _ = ax.set_xticklabels(categories, rotation=22, fontsize=14)\n",
    "#     ax.set_title(col)\n",
    "    _ = ax.set_title('{}'.format(titles[k]), fontsize=18)\n",
    "    _ = ax.set_xlim(xmin=-0.5)\n",
    "    _= ax.set_ylabel('number of mutations(log10)', fontsize=14)\n",
    "    ax.grid(True)\n",
    "\n",
    "plt.suptitle('', fontsize=14)       \n",
    "\n",
    "of1 = '/projects/trans_scratch/validations/workspace/szong/Cervical/variant_bwamem/107_patients/mutations_load_HIV_plots_2.png'\n",
    "# plt.savefig(of1, dpi=200)"
   ]
  },
  {
   "cell_type": "code",
   "execution_count": null,
   "metadata": {
    "collapsed": true
   },
   "outputs": [],
   "source": []
  },
  {
   "cell_type": "markdown",
   "metadata": {
    "collapsed": true
   },
   "source": [
    "look at immune related mutations"
   ]
  },
  {
   "cell_type": "code",
   "execution_count": 29,
   "metadata": {},
   "outputs": [
    {
     "data": {
      "text/html": [
       "<div>\n",
       "<style>\n",
       "    .dataframe thead tr:only-child th {\n",
       "        text-align: right;\n",
       "    }\n",
       "\n",
       "    .dataframe thead th {\n",
       "        text-align: left;\n",
       "    }\n",
       "\n",
       "    .dataframe tbody tr th {\n",
       "        vertical-align: top;\n",
       "    }\n",
       "</style>\n",
       "<table border=\"1\" class=\"dataframe\">\n",
       "  <thead>\n",
       "    <tr style=\"text-align: right;\">\n",
       "      <th></th>\n",
       "      <th>gene</th>\n",
       "      <th>patient</th>\n",
       "    </tr>\n",
       "  </thead>\n",
       "  <tbody>\n",
       "    <tr>\n",
       "      <th>0</th>\n",
       "      <td>A2M</td>\n",
       "      <td>HTMCP-03-06-02396</td>\n",
       "    </tr>\n",
       "    <tr>\n",
       "      <th>1</th>\n",
       "      <td>A2M</td>\n",
       "      <td>HTMCP-03-06-02042</td>\n",
       "    </tr>\n",
       "  </tbody>\n",
       "</table>\n",
       "</div>"
      ],
      "text/plain": [
       "  gene            patient\n",
       "0  A2M  HTMCP-03-06-02396\n",
       "1  A2M  HTMCP-03-06-02042"
      ]
     },
     "execution_count": 29,
     "metadata": {},
     "output_type": "execute_result"
    }
   ],
   "source": [
    "f = '/projects/trans_scratch/validations/workspace/szong/Cervical/variant_bwamem/124_patients_new/immune_related_mutations.txt'\n",
    "df = pd.read_csv(f, header=None, sep='\\t')\n",
    "df = df[[0,5]]\n",
    "df['patient'] = df[5].apply(lambda x: x.replace('_malignant', ''))\n",
    "df = df.drop(5, axis=1)\n",
    "df.columns = ['gene', 'patient']\n",
    "df.head(2)"
   ]
  },
  {
   "cell_type": "code",
   "execution_count": 30,
   "metadata": {
    "collapsed": true
   },
   "outputs": [],
   "source": [
    "df = pd.DataFrame(df.groupby('patient').count()).drop(['HTMCP-03-06-02007', 'HTMCP-03-06-02026']).reset_index()"
   ]
  },
  {
   "cell_type": "code",
   "execution_count": null,
   "metadata": {
    "collapsed": true
   },
   "outputs": [],
   "source": []
  },
  {
   "cell_type": "code",
   "execution_count": null,
   "metadata": {
    "collapsed": true
   },
   "outputs": [],
   "source": []
  },
  {
   "cell_type": "code",
   "execution_count": 31,
   "metadata": {},
   "outputs": [
    {
     "data": {
      "text/html": [
       "<div>\n",
       "<style>\n",
       "    .dataframe thead tr:only-child th {\n",
       "        text-align: right;\n",
       "    }\n",
       "\n",
       "    .dataframe thead th {\n",
       "        text-align: left;\n",
       "    }\n",
       "\n",
       "    .dataframe tbody tr th {\n",
       "        vertical-align: top;\n",
       "    }\n",
       "</style>\n",
       "<table border=\"1\" class=\"dataframe\">\n",
       "  <thead>\n",
       "    <tr style=\"text-align: right;\">\n",
       "      <th></th>\n",
       "      <th>HIV status</th>\n",
       "      <th>patient</th>\n",
       "    </tr>\n",
       "  </thead>\n",
       "  <tbody>\n",
       "    <tr>\n",
       "      <th>0</th>\n",
       "      <td>negative</td>\n",
       "      <td>HTMCP-03-06-02007</td>\n",
       "    </tr>\n",
       "    <tr>\n",
       "      <th>1</th>\n",
       "      <td>negative</td>\n",
       "      <td>HTMCP-03-06-02026</td>\n",
       "    </tr>\n",
       "  </tbody>\n",
       "</table>\n",
       "</div>"
      ],
      "text/plain": [
       "  HIV status            patient\n",
       "0   negative  HTMCP-03-06-02007\n",
       "1   negative  HTMCP-03-06-02026"
      ]
     },
     "execution_count": 31,
     "metadata": {},
     "output_type": "execute_result"
    }
   ],
   "source": [
    "f = '/home/szong/projects/META_2018/Master_Sample_table_14X292_Feb27_2018_sz.xls'\n",
    "meta = pd.read_excel(f, sheetname='HTMCP CaCx epi')\n",
    "meta = meta[['Biospecimen ID', 'HIV status']]\n",
    "meta['patient'] = meta['Biospecimen ID'].apply(lambda x: '-'.join(['HTMCP-03-06', x.split('-')[3]]))\n",
    "meta = meta.drop('Biospecimen ID', axis=1)\n",
    "meta.head(2)"
   ]
  },
  {
   "cell_type": "code",
   "execution_count": 32,
   "metadata": {},
   "outputs": [
    {
     "data": {
      "text/html": [
       "<div>\n",
       "<style>\n",
       "    .dataframe thead tr:only-child th {\n",
       "        text-align: right;\n",
       "    }\n",
       "\n",
       "    .dataframe thead th {\n",
       "        text-align: left;\n",
       "    }\n",
       "\n",
       "    .dataframe tbody tr th {\n",
       "        vertical-align: top;\n",
       "    }\n",
       "</style>\n",
       "<table border=\"1\" class=\"dataframe\">\n",
       "  <thead>\n",
       "    <tr style=\"text-align: right;\">\n",
       "      <th></th>\n",
       "      <th>patient</th>\n",
       "      <th>gene</th>\n",
       "      <th>HIV status</th>\n",
       "    </tr>\n",
       "  </thead>\n",
       "  <tbody>\n",
       "    <tr>\n",
       "      <th>0</th>\n",
       "      <td>HTMCP-03-06-02001</td>\n",
       "      <td>9</td>\n",
       "      <td>positive</td>\n",
       "    </tr>\n",
       "    <tr>\n",
       "      <th>1</th>\n",
       "      <td>HTMCP-03-06-02002</td>\n",
       "      <td>6</td>\n",
       "      <td>negative</td>\n",
       "    </tr>\n",
       "    <tr>\n",
       "      <th>2</th>\n",
       "      <td>HTMCP-03-06-02006</td>\n",
       "      <td>6</td>\n",
       "      <td>negative</td>\n",
       "    </tr>\n",
       "    <tr>\n",
       "      <th>3</th>\n",
       "      <td>HTMCP-03-06-02012</td>\n",
       "      <td>18</td>\n",
       "      <td>negative</td>\n",
       "    </tr>\n",
       "    <tr>\n",
       "      <th>4</th>\n",
       "      <td>HTMCP-03-06-02020</td>\n",
       "      <td>1</td>\n",
       "      <td>positive</td>\n",
       "    </tr>\n",
       "  </tbody>\n",
       "</table>\n",
       "</div>"
      ],
      "text/plain": [
       "             patient  gene HIV status\n",
       "0  HTMCP-03-06-02001     9   positive\n",
       "1  HTMCP-03-06-02002     6   negative\n",
       "2  HTMCP-03-06-02006     6   negative\n",
       "3  HTMCP-03-06-02012    18   negative\n",
       "4  HTMCP-03-06-02020     1   positive"
      ]
     },
     "execution_count": 32,
     "metadata": {},
     "output_type": "execute_result"
    }
   ],
   "source": [
    "dfm = pd.merge(df, meta, left_on='patient', right_on='patient')\n",
    "dfm.head()"
   ]
  },
  {
   "cell_type": "code",
   "execution_count": 38,
   "metadata": {},
   "outputs": [
    {
     "name": "stderr",
     "output_type": "stream",
     "text": [
      "/home/szong/anaconda3/lib/python3.6/site-packages/matplotlib/font_manager.py:1297: UserWarning: findfont: Font family ['sans-serif'] not found. Falling back to DejaVu Sans\n",
      "  (prop.get_family(), self.defaultFamily[fontext]))\n"
     ]
    },
    {
     "data": {
      "image/png": "[encoded data removed]",
      "text/plain": [
       "<matplotlib.figure.Figure at 0x7f1d1fbc8b00>"
      ]
     },
     "metadata": {},
     "output_type": "display_data"
    }
   ],
   "source": [
    "group_col = 'HIV status'\n",
    "value_col = 'gene'\n",
    "fig = plt.figure(facecolor='w', figsize=(15,9))\n",
    "ax = fig.add_subplot(111)\n",
    "_ = sns.swarmplot(x=group_col, y=value_col, data=dfm, edgecolor=\"black\", linewidth=.9)\n",
    "_ = sns.boxplot(x=group_col, y=value_col, data=dfm, saturation=1, ax=ax)\n"
   ]
  },
  {
   "cell_type": "code",
   "execution_count": 33,
   "metadata": {},
   "outputs": [
    {
     "data": {
      "text/html": [
       "<div>\n",
       "<style>\n",
       "    .dataframe thead tr:only-child th {\n",
       "        text-align: right;\n",
       "    }\n",
       "\n",
       "    .dataframe thead th {\n",
       "        text-align: left;\n",
       "    }\n",
       "\n",
       "    .dataframe tbody tr th {\n",
       "        vertical-align: top;\n",
       "    }\n",
       "</style>\n",
       "<table border=\"1\" class=\"dataframe\">\n",
       "  <thead>\n",
       "    <tr style=\"text-align: right;\">\n",
       "      <th></th>\n",
       "      <th>gene</th>\n",
       "    </tr>\n",
       "    <tr>\n",
       "      <th>HIV status</th>\n",
       "      <th></th>\n",
       "    </tr>\n",
       "  </thead>\n",
       "  <tbody>\n",
       "    <tr>\n",
       "      <th>negative</th>\n",
       "      <td>237</td>\n",
       "    </tr>\n",
       "    <tr>\n",
       "      <th>positive</th>\n",
       "      <td>209</td>\n",
       "    </tr>\n",
       "  </tbody>\n",
       "</table>\n",
       "</div>"
      ],
      "text/plain": [
       "            gene\n",
       "HIV status      \n",
       "negative     237\n",
       "positive     209"
      ]
     },
     "execution_count": 33,
     "metadata": {},
     "output_type": "execute_result"
    }
   ],
   "source": [
    "dfm.groupby('HIV status')[['gene']].sum()"
   ]
  },
  {
   "cell_type": "code",
   "execution_count": null,
   "metadata": {
    "collapsed": true
   },
   "outputs": [],
   "source": []
  },
  {
   "cell_type": "code",
   "execution_count": null,
   "metadata": {
    "collapsed": true
   },
   "outputs": [],
   "source": []
  },
  {
   "cell_type": "markdown",
   "metadata": {},
   "source": [
    "make a plot comparing gene mutation frequency between TCGA and NCI, percentage of patients carry mutations for each gene"
   ]
  },
  {
   "cell_type": "code",
   "execution_count": 2,
   "metadata": {},
   "outputs": [
    {
     "data": {
      "text/html": [
       "<div>\n",
       "<style>\n",
       "    .dataframe thead tr:only-child th {\n",
       "        text-align: right;\n",
       "    }\n",
       "\n",
       "    .dataframe thead th {\n",
       "        text-align: left;\n",
       "    }\n",
       "\n",
       "    .dataframe tbody tr th {\n",
       "        vertical-align: top;\n",
       "    }\n",
       "</style>\n",
       "<table border=\"1\" class=\"dataframe\">\n",
       "  <thead>\n",
       "    <tr style=\"text-align: right;\">\n",
       "      <th></th>\n",
       "      <th>gene</th>\n",
       "      <th>number_HTMCP_patients_with_mutation</th>\n",
       "      <th>reason_picked_for_capture</th>\n",
       "      <th>suggest_exclude</th>\n",
       "      <th>average_RPKM</th>\n",
       "    </tr>\n",
       "  </thead>\n",
       "  <tbody>\n",
       "    <tr>\n",
       "      <th>0</th>\n",
       "      <td>MUC4</td>\n",
       "      <td>87</td>\n",
       "      <td>mutated_in_3_or_more_HTMCP_patient</td>\n",
       "      <td>YES</td>\n",
       "      <td>19.873095</td>\n",
       "    </tr>\n",
       "    <tr>\n",
       "      <th>1</th>\n",
       "      <td>TTN</td>\n",
       "      <td>49</td>\n",
       "      <td>mutated_in_3_or_more_HTMCP_patient</td>\n",
       "      <td>YES</td>\n",
       "      <td>0.010591</td>\n",
       "    </tr>\n",
       "    <tr>\n",
       "      <th>2</th>\n",
       "      <td>AHNAK2</td>\n",
       "      <td>43</td>\n",
       "      <td>mutated_in_3_or_more_HTMCP_patient</td>\n",
       "      <td>YES</td>\n",
       "      <td>20.152050</td>\n",
       "    </tr>\n",
       "    <tr>\n",
       "      <th>3</th>\n",
       "      <td>PIK3CA</td>\n",
       "      <td>41</td>\n",
       "      <td>tcga_and_landscape_significantly_mutated</td>\n",
       "      <td>NaN</td>\n",
       "      <td>4.438437</td>\n",
       "    </tr>\n",
       "    <tr>\n",
       "      <th>4</th>\n",
       "      <td>AC007731.1</td>\n",
       "      <td>33</td>\n",
       "      <td>mutated_in_3_or_more_HTMCP_patient</td>\n",
       "      <td>YES</td>\n",
       "      <td>0.000377</td>\n",
       "    </tr>\n",
       "  </tbody>\n",
       "</table>\n",
       "</div>"
      ],
      "text/plain": [
       "         gene  number_HTMCP_patients_with_mutation  \\\n",
       "0        MUC4                                   87   \n",
       "1         TTN                                   49   \n",
       "2      AHNAK2                                   43   \n",
       "3      PIK3CA                                   41   \n",
       "4  AC007731.1                                   33   \n",
       "\n",
       "                  reason_picked_for_capture suggest_exclude  average_RPKM  \n",
       "0        mutated_in_3_or_more_HTMCP_patient             YES     19.873095  \n",
       "1        mutated_in_3_or_more_HTMCP_patient             YES      0.010591  \n",
       "2        mutated_in_3_or_more_HTMCP_patient             YES     20.152050  \n",
       "3  tcga_and_landscape_significantly_mutated             NaN      4.438437  \n",
       "4        mutated_in_3_or_more_HTMCP_patient             YES      0.000377  "
      ]
     },
     "execution_count": 2,
     "metadata": {},
     "output_type": "execute_result"
    }
   ],
   "source": [
    "f0 = '/projects/trans_scratch/validations/workspace/szong/Cervical/HIV_cervical_validation_target_candidates_20190309_added.xls'\n",
    "df0 = pd.read_excel(f0, sheetname='proposed_genes')\n",
    "df0.head()"
   ]
  },
  {
   "cell_type": "code",
   "execution_count": 4,
   "metadata": {},
   "outputs": [
    {
     "data": {
      "text/html": [
       "<div>\n",
       "<style>\n",
       "    .dataframe thead tr:only-child th {\n",
       "        text-align: right;\n",
       "    }\n",
       "\n",
       "    .dataframe thead th {\n",
       "        text-align: left;\n",
       "    }\n",
       "\n",
       "    .dataframe tbody tr th {\n",
       "        vertical-align: top;\n",
       "    }\n",
       "</style>\n",
       "<table border=\"1\" class=\"dataframe\">\n",
       "  <thead>\n",
       "    <tr style=\"text-align: right;\">\n",
       "      <th></th>\n",
       "      <th>gene</th>\n",
       "      <th>number_HTMCP_patients_with_mutation</th>\n",
       "      <th>reason_picked_for_capture</th>\n",
       "      <th>suggest_exclude</th>\n",
       "      <th>average_RPKM</th>\n",
       "    </tr>\n",
       "  </thead>\n",
       "  <tbody>\n",
       "    <tr>\n",
       "      <th>3</th>\n",
       "      <td>PIK3CA</td>\n",
       "      <td>41</td>\n",
       "      <td>tcga_and_landscape_significantly_mutated</td>\n",
       "      <td>NaN</td>\n",
       "      <td>4.438437</td>\n",
       "    </tr>\n",
       "    <tr>\n",
       "      <th>12</th>\n",
       "      <td>TPRXL</td>\n",
       "      <td>22</td>\n",
       "      <td>mutated_in_3_or_more_HTMCP_patient</td>\n",
       "      <td>NaN</td>\n",
       "      <td>2.755383</td>\n",
       "    </tr>\n",
       "    <tr>\n",
       "      <th>13</th>\n",
       "      <td>HRNR</td>\n",
       "      <td>21</td>\n",
       "      <td>mutated_in_3_or_more_HTMCP_patient</td>\n",
       "      <td>NaN</td>\n",
       "      <td>0.135752</td>\n",
       "    </tr>\n",
       "    <tr>\n",
       "      <th>14</th>\n",
       "      <td>CRIPAK</td>\n",
       "      <td>20</td>\n",
       "      <td>mutated_in_3_or_more_HTMCP_patient</td>\n",
       "      <td>NaN</td>\n",
       "      <td>2.946960</td>\n",
       "    </tr>\n",
       "    <tr>\n",
       "      <th>15</th>\n",
       "      <td>MLL3</td>\n",
       "      <td>20</td>\n",
       "      <td>mutated_in_3_or_more_HTMCP_patient</td>\n",
       "      <td>NaN</td>\n",
       "      <td>3.677492</td>\n",
       "    </tr>\n",
       "  </tbody>\n",
       "</table>\n",
       "</div>"
      ],
      "text/plain": [
       "      gene  number_HTMCP_patients_with_mutation  \\\n",
       "3   PIK3CA                                   41   \n",
       "12   TPRXL                                   22   \n",
       "13    HRNR                                   21   \n",
       "14  CRIPAK                                   20   \n",
       "15    MLL3                                   20   \n",
       "\n",
       "                   reason_picked_for_capture suggest_exclude  average_RPKM  \n",
       "3   tcga_and_landscape_significantly_mutated             NaN      4.438437  \n",
       "12        mutated_in_3_or_more_HTMCP_patient             NaN      2.755383  \n",
       "13        mutated_in_3_or_more_HTMCP_patient             NaN      0.135752  \n",
       "14        mutated_in_3_or_more_HTMCP_patient             NaN      2.946960  \n",
       "15        mutated_in_3_or_more_HTMCP_patient             NaN      3.677492  "
      ]
     },
     "execution_count": 4,
     "metadata": {},
     "output_type": "execute_result"
    }
   ],
   "source": [
    "df0 = df0.query('suggest_exclude != \"YES\"')\n",
    "df0.head()"
   ]
  },
  {
   "cell_type": "code",
   "execution_count": 6,
   "metadata": {},
   "outputs": [],
   "source": [
    "validation_genes = df0.gene\n",
    "# validation_genes"
   ]
  },
  {
   "cell_type": "code",
   "execution_count": 7,
   "metadata": {},
   "outputs": [
    {
     "data": {
      "text/html": [
       "<div>\n",
       "<style>\n",
       "    .dataframe thead tr:only-child th {\n",
       "        text-align: right;\n",
       "    }\n",
       "\n",
       "    .dataframe thead th {\n",
       "        text-align: left;\n",
       "    }\n",
       "\n",
       "    .dataframe tbody tr th {\n",
       "        vertical-align: top;\n",
       "    }\n",
       "</style>\n",
       "<table border=\"1\" class=\"dataframe\">\n",
       "  <thead>\n",
       "    <tr style=\"text-align: right;\">\n",
       "      <th></th>\n",
       "      <th>Hugo_Symbol</th>\n",
       "      <th>Entrez_Gene_Id</th>\n",
       "      <th>Center</th>\n",
       "      <th>NCBI_Build</th>\n",
       "      <th>Chromosome</th>\n",
       "      <th>Start_Position</th>\n",
       "      <th>End_Position</th>\n",
       "      <th>Strand</th>\n",
       "      <th>Variant_Classification</th>\n",
       "      <th>Variant_Type</th>\n",
       "      <th>...</th>\n",
       "      <th>gene_name_source</th>\n",
       "      <th>gene_name_source.1</th>\n",
       "      <th>tumor_ref_reads</th>\n",
       "      <th>tumor_var_reads</th>\n",
       "      <th>tumor_vaf</th>\n",
       "      <th>normal_ref_reads</th>\n",
       "      <th>normal_var_reads</th>\n",
       "      <th>normal_vaf</th>\n",
       "      <th>dbSNP_rsID</th>\n",
       "      <th>GMAF</th>\n",
       "    </tr>\n",
       "  </thead>\n",
       "  <tbody>\n",
       "    <tr>\n",
       "      <th>0</th>\n",
       "      <td>A1BG</td>\n",
       "      <td>1</td>\n",
       "      <td>genome.wustl.edu</td>\n",
       "      <td>37</td>\n",
       "      <td>19</td>\n",
       "      <td>58864353</td>\n",
       "      <td>58864353</td>\n",
       "      <td>+</td>\n",
       "      <td>Missense_Mutation</td>\n",
       "      <td>SNP</td>\n",
       "      <td>...</td>\n",
       "      <td>HGNC</td>\n",
       "      <td>ENSG00000121410</td>\n",
       "      <td>93</td>\n",
       "      <td>80</td>\n",
       "      <td>46.24</td>\n",
       "      <td>170</td>\n",
       "      <td>0</td>\n",
       "      <td>0.0</td>\n",
       "      <td>NaN</td>\n",
       "      <td>NaN</td>\n",
       "    </tr>\n",
       "    <tr>\n",
       "      <th>1</th>\n",
       "      <td>A1BG-AS1</td>\n",
       "      <td>503538</td>\n",
       "      <td>genome.wustl.edu</td>\n",
       "      <td>37</td>\n",
       "      <td>19</td>\n",
       "      <td>58864179</td>\n",
       "      <td>58864179</td>\n",
       "      <td>+</td>\n",
       "      <td>RNA</td>\n",
       "      <td>SNP</td>\n",
       "      <td>...</td>\n",
       "      <td>HGNC</td>\n",
       "      <td>ENSG00000268895</td>\n",
       "      <td>81</td>\n",
       "      <td>12</td>\n",
       "      <td>12.90</td>\n",
       "      <td>30</td>\n",
       "      <td>0</td>\n",
       "      <td>0.0</td>\n",
       "      <td>NaN</td>\n",
       "      <td>NaN</td>\n",
       "    </tr>\n",
       "    <tr>\n",
       "      <th>2</th>\n",
       "      <td>A1CF</td>\n",
       "      <td>29974</td>\n",
       "      <td>genome.wustl.edu</td>\n",
       "      <td>37</td>\n",
       "      <td>10</td>\n",
       "      <td>52587925</td>\n",
       "      <td>52587925</td>\n",
       "      <td>+</td>\n",
       "      <td>Missense_Mutation</td>\n",
       "      <td>SNP</td>\n",
       "      <td>...</td>\n",
       "      <td>HGNC</td>\n",
       "      <td>ENSG00000148584</td>\n",
       "      <td>19</td>\n",
       "      <td>10</td>\n",
       "      <td>34.48</td>\n",
       "      <td>34</td>\n",
       "      <td>0</td>\n",
       "      <td>0.0</td>\n",
       "      <td>NaN</td>\n",
       "      <td>NaN</td>\n",
       "    </tr>\n",
       "    <tr>\n",
       "      <th>3</th>\n",
       "      <td>A1CF</td>\n",
       "      <td>29974</td>\n",
       "      <td>genome.wustl.edu</td>\n",
       "      <td>37</td>\n",
       "      <td>10</td>\n",
       "      <td>52601652</td>\n",
       "      <td>52601652</td>\n",
       "      <td>+</td>\n",
       "      <td>Missense_Mutation</td>\n",
       "      <td>SNP</td>\n",
       "      <td>...</td>\n",
       "      <td>HGNC</td>\n",
       "      <td>ENSG00000148584</td>\n",
       "      <td>29</td>\n",
       "      <td>29</td>\n",
       "      <td>50.00</td>\n",
       "      <td>36</td>\n",
       "      <td>0</td>\n",
       "      <td>0.0</td>\n",
       "      <td>NaN</td>\n",
       "      <td>NaN</td>\n",
       "    </tr>\n",
       "    <tr>\n",
       "      <th>4</th>\n",
       "      <td>A2M</td>\n",
       "      <td>2</td>\n",
       "      <td>genome.wustl.edu</td>\n",
       "      <td>37</td>\n",
       "      <td>12</td>\n",
       "      <td>9262517</td>\n",
       "      <td>9262517</td>\n",
       "      <td>+</td>\n",
       "      <td>Missense_Mutation</td>\n",
       "      <td>SNP</td>\n",
       "      <td>...</td>\n",
       "      <td>HGNC</td>\n",
       "      <td>ENSG00000175899</td>\n",
       "      <td>113</td>\n",
       "      <td>55</td>\n",
       "      <td>32.74</td>\n",
       "      <td>95</td>\n",
       "      <td>0</td>\n",
       "      <td>0.0</td>\n",
       "      <td>NaN</td>\n",
       "      <td>NaN</td>\n",
       "    </tr>\n",
       "  </tbody>\n",
       "</table>\n",
       "<p>5 rows × 66 columns</p>\n",
       "</div>"
      ],
      "text/plain": [
       "  Hugo_Symbol  Entrez_Gene_Id            Center  NCBI_Build Chromosome  \\\n",
       "0        A1BG               1  genome.wustl.edu          37         19   \n",
       "1    A1BG-AS1          503538  genome.wustl.edu          37         19   \n",
       "2        A1CF           29974  genome.wustl.edu          37         10   \n",
       "3        A1CF           29974  genome.wustl.edu          37         10   \n",
       "4         A2M               2  genome.wustl.edu          37         12   \n",
       "\n",
       "   Start_Position  End_Position Strand Variant_Classification Variant_Type  \\\n",
       "0        58864353      58864353      +      Missense_Mutation          SNP   \n",
       "1        58864179      58864179      +                    RNA          SNP   \n",
       "2        52587925      52587925      +      Missense_Mutation          SNP   \n",
       "3        52601652      52601652      +      Missense_Mutation          SNP   \n",
       "4         9262517       9262517      +      Missense_Mutation          SNP   \n",
       "\n",
       "   ...  gene_name_source gene_name_source.1 tumor_ref_reads  tumor_var_reads  \\\n",
       "0  ...              HGNC    ENSG00000121410              93               80   \n",
       "1  ...              HGNC    ENSG00000268895              81               12   \n",
       "2  ...              HGNC    ENSG00000148584              19               10   \n",
       "3  ...              HGNC    ENSG00000148584              29               29   \n",
       "4  ...              HGNC    ENSG00000175899             113               55   \n",
       "\n",
       "   tumor_vaf normal_ref_reads normal_var_reads normal_vaf dbSNP_rsID  GMAF  \n",
       "0      46.24              170                0        0.0        NaN   NaN  \n",
       "1      12.90               30                0        0.0        NaN   NaN  \n",
       "2      34.48               34                0        0.0        NaN   NaN  \n",
       "3      50.00               36                0        0.0        NaN   NaN  \n",
       "4      32.74               95                0        0.0        NaN   NaN  \n",
       "\n",
       "[5 rows x 66 columns]"
      ]
     },
     "execution_count": 7,
     "metadata": {},
     "output_type": "execute_result"
    }
   ],
   "source": [
    "f1 = '/projects/trans_scratch/validations/workspace/szong/Cervical/tcga_variants/tcga.genome.wustl.edu_CESC.IlluminaGA_DNASeq_curated.Level_2.1.0.0.somatic.maf'\n",
    "df1 = pd.read_csv(f1, sep='\\t')\n",
    "df1.head()"
   ]
  },
  {
   "cell_type": "code",
   "execution_count": 8,
   "metadata": {},
   "outputs": [
    {
     "data": {
      "text/plain": [
       "16453"
      ]
     },
     "execution_count": 8,
     "metadata": {},
     "output_type": "execute_result"
    }
   ],
   "source": [
    "df1.gene_name.nunique()"
   ]
  },
  {
   "cell_type": "code",
   "execution_count": 9,
   "metadata": {},
   "outputs": [
    {
     "data": {
      "text/plain": [
       "array(['Missense_Mutation', 'RNA', 'Silent', 'Nonsense_Mutation',\n",
       "       'Splice_Site', 'In_Frame_Del', 'Frame_Shift_Del', 'Frame_Shift_Ins',\n",
       "       'Nonstop_Mutation', 'In_Frame_Ins'], dtype=object)"
      ]
     },
     "execution_count": 9,
     "metadata": {},
     "output_type": "execute_result"
    }
   ],
   "source": [
    "df1.Variant_Classification.unique()"
   ]
  },
  {
   "cell_type": "code",
   "execution_count": 10,
   "metadata": {},
   "outputs": [
    {
     "data": {
      "text/plain": [
       "(46547, 66)"
      ]
     },
     "execution_count": 10,
     "metadata": {},
     "output_type": "execute_result"
    }
   ],
   "source": [
    "df1.shape"
   ]
  },
  {
   "cell_type": "code",
   "execution_count": 11,
   "metadata": {
    "collapsed": true
   },
   "outputs": [],
   "source": [
    "df1 = df1.query('Variant_Classification!=\"Silent\"')"
   ]
  },
  {
   "cell_type": "code",
   "execution_count": 12,
   "metadata": {},
   "outputs": [
    {
     "data": {
      "text/plain": [
       "(36782, 66)"
      ]
     },
     "execution_count": 12,
     "metadata": {},
     "output_type": "execute_result"
    }
   ],
   "source": [
    "df1.shape"
   ]
  },
  {
   "cell_type": "code",
   "execution_count": 13,
   "metadata": {},
   "outputs": [
    {
     "data": {
      "text/plain": [
       "15006"
      ]
     },
     "execution_count": 13,
     "metadata": {},
     "output_type": "execute_result"
    }
   ],
   "source": [
    "df1.gene_name.nunique()"
   ]
  },
  {
   "cell_type": "code",
   "execution_count": 14,
   "metadata": {
    "collapsed": true
   },
   "outputs": [],
   "source": [
    "df2 = pd.DataFrame(df1[['gene_name', 'Tumor_Sample_Barcode']].groupby('gene_name').count())"
   ]
  },
  {
   "cell_type": "code",
   "execution_count": 15,
   "metadata": {},
   "outputs": [
    {
     "data": {
      "text/plain": [
       "(15006, 1)"
      ]
     },
     "execution_count": 15,
     "metadata": {},
     "output_type": "execute_result"
    }
   ],
   "source": [
    "df2.shape"
   ]
  },
  {
   "cell_type": "code",
   "execution_count": 16,
   "metadata": {
    "collapsed": true
   },
   "outputs": [],
   "source": [
    "df2['freq'] = df2/df1.Tumor_Sample_Barcode.nunique()"
   ]
  },
  {
   "cell_type": "code",
   "execution_count": 17,
   "metadata": {},
   "outputs": [
    {
     "data": {
      "text/html": [
       "<div>\n",
       "<style>\n",
       "    .dataframe thead tr:only-child th {\n",
       "        text-align: right;\n",
       "    }\n",
       "\n",
       "    .dataframe thead th {\n",
       "        text-align: left;\n",
       "    }\n",
       "\n",
       "    .dataframe tbody tr th {\n",
       "        vertical-align: top;\n",
       "    }\n",
       "</style>\n",
       "<table border=\"1\" class=\"dataframe\">\n",
       "  <thead>\n",
       "    <tr style=\"text-align: right;\">\n",
       "      <th></th>\n",
       "      <th>Tumor_Sample_Barcode</th>\n",
       "      <th>freq</th>\n",
       "    </tr>\n",
       "    <tr>\n",
       "      <th>gene_name</th>\n",
       "      <th></th>\n",
       "      <th></th>\n",
       "    </tr>\n",
       "  </thead>\n",
       "  <tbody>\n",
       "    <tr>\n",
       "      <th>A1BG</th>\n",
       "      <td>1</td>\n",
       "      <td>0.005155</td>\n",
       "    </tr>\n",
       "    <tr>\n",
       "      <th>LOC401127</th>\n",
       "      <td>1</td>\n",
       "      <td>0.005155</td>\n",
       "    </tr>\n",
       "  </tbody>\n",
       "</table>\n",
       "</div>"
      ],
      "text/plain": [
       "           Tumor_Sample_Barcode      freq\n",
       "gene_name                                \n",
       "A1BG                          1  0.005155\n",
       "LOC401127                     1  0.005155"
      ]
     },
     "execution_count": 17,
     "metadata": {},
     "output_type": "execute_result"
    }
   ],
   "source": [
    "df2.sort_values('freq').head(2)"
   ]
  },
  {
   "cell_type": "code",
   "execution_count": 18,
   "metadata": {},
   "outputs": [
    {
     "data": {
      "text/plain": [
       "(15006, 2)"
      ]
     },
     "execution_count": 18,
     "metadata": {},
     "output_type": "execute_result"
    }
   ],
   "source": [
    "df2.shape"
   ]
  },
  {
   "cell_type": "code",
   "execution_count": 19,
   "metadata": {
    "collapsed": true
   },
   "outputs": [],
   "source": [
    "df_tcga = df2.copy()"
   ]
  },
  {
   "cell_type": "markdown",
   "metadata": {},
   "source": [
    "NCI mutations"
   ]
  },
  {
   "cell_type": "code",
   "execution_count": 89,
   "metadata": {},
   "outputs": [
    {
     "data": {
      "text/html": [
       "<div>\n",
       "<style>\n",
       "    .dataframe thead tr:only-child th {\n",
       "        text-align: right;\n",
       "    }\n",
       "\n",
       "    .dataframe thead th {\n",
       "        text-align: left;\n",
       "    }\n",
       "\n",
       "    .dataframe tbody tr th {\n",
       "        vertical-align: top;\n",
       "    }\n",
       "</style>\n",
       "<table border=\"1\" class=\"dataframe\">\n",
       "  <thead>\n",
       "    <tr style=\"text-align: right;\">\n",
       "      <th></th>\n",
       "      <th>gene</th>\n",
       "      <th>patient_ID</th>\n",
       "    </tr>\n",
       "  </thead>\n",
       "  <tbody>\n",
       "    <tr>\n",
       "      <th>0</th>\n",
       "      <td>SAMD11</td>\n",
       "      <td>HTMCP-03-06-02007_malignant</td>\n",
       "    </tr>\n",
       "    <tr>\n",
       "      <th>1</th>\n",
       "      <td>SAMD11</td>\n",
       "      <td>HTMCP-03-06-02214_malignant</td>\n",
       "    </tr>\n",
       "  </tbody>\n",
       "</table>\n",
       "</div>"
      ],
      "text/plain": [
       "     gene                   patient_ID\n",
       "0  SAMD11  HTMCP-03-06-02007_malignant\n",
       "1  SAMD11  HTMCP-03-06-02214_malignant"
      ]
     },
     "execution_count": 89,
     "metadata": {},
     "output_type": "execute_result"
    }
   ],
   "source": [
    "# snv summary file\n",
    "f = '/projects/trans_scratch/validations/workspace/szong/Cervical/variant_bwamem/124_patients_new/HIGH_MODERATE_SNV_summary_with_normal_with_AF_filtered_somatic.tsv'\n",
    "df1 = pd.read_csv(f, sep='\\t', usecols=['gene', 'patient_ID'])\n",
    "df1.head(2)"
   ]
  },
  {
   "cell_type": "code",
   "execution_count": 90,
   "metadata": {},
   "outputs": [
    {
     "data": {
      "text/html": [
       "<div>\n",
       "<style>\n",
       "    .dataframe thead tr:only-child th {\n",
       "        text-align: right;\n",
       "    }\n",
       "\n",
       "    .dataframe thead th {\n",
       "        text-align: left;\n",
       "    }\n",
       "\n",
       "    .dataframe tbody tr th {\n",
       "        vertical-align: top;\n",
       "    }\n",
       "</style>\n",
       "<table border=\"1\" class=\"dataframe\">\n",
       "  <thead>\n",
       "    <tr style=\"text-align: right;\">\n",
       "      <th></th>\n",
       "      <th>gene</th>\n",
       "      <th>patient_ID</th>\n",
       "    </tr>\n",
       "  </thead>\n",
       "  <tbody>\n",
       "    <tr>\n",
       "      <th>0</th>\n",
       "      <td>PCNT</td>\n",
       "      <td>HTMCP-03-06-02448_malignant</td>\n",
       "    </tr>\n",
       "    <tr>\n",
       "      <th>1</th>\n",
       "      <td>MLL3</td>\n",
       "      <td>HTMCP-03-06-02097_malignant</td>\n",
       "    </tr>\n",
       "  </tbody>\n",
       "</table>\n",
       "</div>"
      ],
      "text/plain": [
       "   gene                   patient_ID\n",
       "0  PCNT  HTMCP-03-06-02448_malignant\n",
       "1  MLL3  HTMCP-03-06-02097_malignant"
      ]
     },
     "execution_count": 90,
     "metadata": {},
     "output_type": "execute_result"
    }
   ],
   "source": [
    "# indel summary file\n",
    "f = '/projects/trans_scratch/validations/workspace/szong/Cervical/variant_bwamem/124_patients_new/HIGH_MODERATE_INDEL_summary_with_normal_strelka_indels_only.tsv'\n",
    "df2 = pd.read_csv(f, sep='\\t', usecols=['gene', 'patient_ID'])\n",
    "df2.head(2)"
   ]
  },
  {
   "cell_type": "code",
   "execution_count": 91,
   "metadata": {
    "collapsed": true
   },
   "outputs": [],
   "source": [
    "dfc = pd.concat([df1, df2])\n",
    "dfc['patient'] = dfc.patient_ID.str.replace('_malignant', '')\n",
    "dfc.drop('patient_ID', inplace=True, axis=1)"
   ]
  },
  {
   "cell_type": "code",
   "execution_count": 92,
   "metadata": {
    "collapsed": true
   },
   "outputs": [],
   "source": [
    "dfd = dfc[~dfc.patient.isin(['HTMCP-03-06-02061'])].drop_duplicates()"
   ]
  },
  {
   "cell_type": "code",
   "execution_count": 93,
   "metadata": {},
   "outputs": [
    {
     "data": {
      "text/plain": [
       "(34547, 2)"
      ]
     },
     "execution_count": 93,
     "metadata": {},
     "output_type": "execute_result"
    }
   ],
   "source": [
    "dfd.shape"
   ]
  },
  {
   "cell_type": "code",
   "execution_count": 94,
   "metadata": {},
   "outputs": [
    {
     "data": {
      "text/html": [
       "<div>\n",
       "<style>\n",
       "    .dataframe thead tr:only-child th {\n",
       "        text-align: right;\n",
       "    }\n",
       "\n",
       "    .dataframe thead th {\n",
       "        text-align: left;\n",
       "    }\n",
       "\n",
       "    .dataframe tbody tr th {\n",
       "        vertical-align: top;\n",
       "    }\n",
       "</style>\n",
       "<table border=\"1\" class=\"dataframe\">\n",
       "  <thead>\n",
       "    <tr style=\"text-align: right;\">\n",
       "      <th></th>\n",
       "      <th>gene</th>\n",
       "      <th>patient</th>\n",
       "    </tr>\n",
       "  </thead>\n",
       "  <tbody>\n",
       "    <tr>\n",
       "      <th>0</th>\n",
       "      <td>SAMD11</td>\n",
       "      <td>HTMCP-03-06-02007</td>\n",
       "    </tr>\n",
       "    <tr>\n",
       "      <th>1</th>\n",
       "      <td>SAMD11</td>\n",
       "      <td>HTMCP-03-06-02214</td>\n",
       "    </tr>\n",
       "    <tr>\n",
       "      <th>2</th>\n",
       "      <td>KLHL17</td>\n",
       "      <td>HTMCP-03-06-02120</td>\n",
       "    </tr>\n",
       "    <tr>\n",
       "      <th>3</th>\n",
       "      <td>PLEKHN1</td>\n",
       "      <td>HTMCP-03-06-02335</td>\n",
       "    </tr>\n",
       "    <tr>\n",
       "      <th>4</th>\n",
       "      <td>PLEKHN1</td>\n",
       "      <td>HTMCP-03-06-02020</td>\n",
       "    </tr>\n",
       "  </tbody>\n",
       "</table>\n",
       "</div>"
      ],
      "text/plain": [
       "      gene            patient\n",
       "0   SAMD11  HTMCP-03-06-02007\n",
       "1   SAMD11  HTMCP-03-06-02214\n",
       "2   KLHL17  HTMCP-03-06-02120\n",
       "3  PLEKHN1  HTMCP-03-06-02335\n",
       "4  PLEKHN1  HTMCP-03-06-02020"
      ]
     },
     "execution_count": 94,
     "metadata": {},
     "output_type": "execute_result"
    }
   ],
   "source": [
    "dfd.head()"
   ]
  },
  {
   "cell_type": "code",
   "execution_count": 110,
   "metadata": {},
   "outputs": [],
   "source": [
    "of = '/projects/trans_scratch/validations/workspace/szong/Cervical/variant_bwamem/124_patients_new/variant_summary_table.txt'\n",
    "dfe = dfd.reset_index().groupby(['gene', 'patient']).count().unstack().fillna(0)\n",
    "# dfe.to_csv(of)"
   ]
  },
  {
   "cell_type": "code",
   "execution_count": 117,
   "metadata": {},
   "outputs": [
    {
     "data": {
      "text/plain": [
       "       patient          \n",
       "index  HTMCP-03-06-02026    1.0\n",
       "       HTMCP-03-06-02058    1.0\n",
       "       HTMCP-03-06-02110    1.0\n",
       "       HTMCP-03-06-02139    1.0\n",
       "       HTMCP-03-06-02203    1.0\n",
       "       HTMCP-03-06-02396    1.0\n",
       "Name: ERBB2, dtype: float64"
      ]
     },
     "execution_count": 117,
     "metadata": {},
     "output_type": "execute_result"
    }
   ],
   "source": [
    "dfe[dfe >0].loc['ERBB2', :].dropna()"
   ]
  },
  {
   "cell_type": "code",
   "execution_count": 103,
   "metadata": {},
   "outputs": [
    {
     "data": {
      "text/html": [
       "<div>\n",
       "<style>\n",
       "    .dataframe thead tr:only-child th {\n",
       "        text-align: right;\n",
       "    }\n",
       "\n",
       "    .dataframe thead th {\n",
       "        text-align: left;\n",
       "    }\n",
       "\n",
       "    .dataframe tbody tr th {\n",
       "        vertical-align: top;\n",
       "    }\n",
       "</style>\n",
       "<table border=\"1\" class=\"dataframe\">\n",
       "  <thead>\n",
       "    <tr style=\"text-align: right;\">\n",
       "      <th></th>\n",
       "      <th></th>\n",
       "    </tr>\n",
       "    <tr>\n",
       "      <th>gene</th>\n",
       "      <th>patient</th>\n",
       "    </tr>\n",
       "  </thead>\n",
       "  <tbody>\n",
       "    <tr>\n",
       "      <th>A1BG</th>\n",
       "      <th>HTMCP-03-06-02179</th>\n",
       "    </tr>\n",
       "    <tr>\n",
       "      <th rowspan=\"2\" valign=\"top\">A1CF</th>\n",
       "      <th>HTMCP-03-06-02020</th>\n",
       "    </tr>\n",
       "    <tr>\n",
       "      <th>HTMCP-03-06-02147</th>\n",
       "    </tr>\n",
       "    <tr>\n",
       "      <th>A2LD1</th>\n",
       "      <th>HTMCP-03-06-02013</th>\n",
       "    </tr>\n",
       "    <tr>\n",
       "      <th rowspan=\"7\" valign=\"top\">A2M</th>\n",
       "      <th>HTMCP-03-06-02007</th>\n",
       "    </tr>\n",
       "    <tr>\n",
       "      <th>HTMCP-03-06-02042</th>\n",
       "    </tr>\n",
       "    <tr>\n",
       "      <th>HTMCP-03-06-02068</th>\n",
       "    </tr>\n",
       "    <tr>\n",
       "      <th>HTMCP-03-06-02074</th>\n",
       "    </tr>\n",
       "    <tr>\n",
       "      <th>HTMCP-03-06-02196</th>\n",
       "    </tr>\n",
       "    <tr>\n",
       "      <th>HTMCP-03-06-02396</th>\n",
       "    </tr>\n",
       "    <tr>\n",
       "      <th>HTMCP-03-06-02414</th>\n",
       "    </tr>\n",
       "    <tr>\n",
       "      <th rowspan=\"3\" valign=\"top\">A2ML1</th>\n",
       "      <th>HTMCP-03-06-02007</th>\n",
       "    </tr>\n",
       "    <tr>\n",
       "      <th>HTMCP-03-06-02058</th>\n",
       "    </tr>\n",
       "    <tr>\n",
       "      <th>HTMCP-03-06-02068</th>\n",
       "    </tr>\n",
       "    <tr>\n",
       "      <th rowspan=\"3\" valign=\"top\">A4GALT</th>\n",
       "      <th>HTMCP-03-06-02103</th>\n",
       "    </tr>\n",
       "    <tr>\n",
       "      <th>HTMCP-03-06-02197</th>\n",
       "    </tr>\n",
       "    <tr>\n",
       "      <th>HTMCP-03-06-02393</th>\n",
       "    </tr>\n",
       "    <tr>\n",
       "      <th>A4GNT</th>\n",
       "      <th>HTMCP-03-06-02209</th>\n",
       "    </tr>\n",
       "    <tr>\n",
       "      <th>AAAS</th>\n",
       "      <th>HTMCP-03-06-02007</th>\n",
       "    </tr>\n",
       "    <tr>\n",
       "      <th rowspan=\"2\" valign=\"top\">AACS</th>\n",
       "      <th>HTMCP-03-06-02007</th>\n",
       "    </tr>\n",
       "    <tr>\n",
       "      <th>HTMCP-03-06-02063</th>\n",
       "    </tr>\n",
       "    <tr>\n",
       "      <th>AADAC</th>\n",
       "      <th>HTMCP-03-06-02261</th>\n",
       "    </tr>\n",
       "    <tr>\n",
       "      <th rowspan=\"3\" valign=\"top\">AADACL2</th>\n",
       "      <th>HTMCP-03-06-02026</th>\n",
       "    </tr>\n",
       "    <tr>\n",
       "      <th>HTMCP-03-06-02068</th>\n",
       "    </tr>\n",
       "    <tr>\n",
       "      <th>HTMCP-03-06-02175</th>\n",
       "    </tr>\n",
       "    <tr>\n",
       "      <th rowspan=\"2\" valign=\"top\">AADACL3</th>\n",
       "      <th>HTMCP-03-06-02026</th>\n",
       "    </tr>\n",
       "    <tr>\n",
       "      <th>HTMCP-03-06-02068</th>\n",
       "    </tr>\n",
       "    <tr>\n",
       "      <th rowspan=\"2\" valign=\"top\">AADACL4</th>\n",
       "      <th>HTMCP-03-06-02074</th>\n",
       "    </tr>\n",
       "    <tr>\n",
       "      <th>HTMCP-03-06-02448</th>\n",
       "    </tr>\n",
       "    <tr>\n",
       "      <th>AADAT</th>\n",
       "      <th>HTMCP-03-06-02007</th>\n",
       "    </tr>\n",
       "    <tr>\n",
       "      <th>...</th>\n",
       "      <th>...</th>\n",
       "    </tr>\n",
       "    <tr>\n",
       "      <th rowspan=\"3\" valign=\"top\">ZXDA</th>\n",
       "      <th>HTMCP-03-06-02007</th>\n",
       "    </tr>\n",
       "    <tr>\n",
       "      <th>HTMCP-03-06-02108</th>\n",
       "    </tr>\n",
       "    <tr>\n",
       "      <th>HTMCP-03-06-02435</th>\n",
       "    </tr>\n",
       "    <tr>\n",
       "      <th rowspan=\"7\" valign=\"top\">ZXDB</th>\n",
       "      <th>HTMCP-03-06-02002</th>\n",
       "    </tr>\n",
       "    <tr>\n",
       "      <th>HTMCP-03-06-02007</th>\n",
       "    </tr>\n",
       "    <tr>\n",
       "      <th>HTMCP-03-06-02098</th>\n",
       "    </tr>\n",
       "    <tr>\n",
       "      <th>HTMCP-03-06-02113</th>\n",
       "    </tr>\n",
       "    <tr>\n",
       "      <th>HTMCP-03-06-02157</th>\n",
       "    </tr>\n",
       "    <tr>\n",
       "      <th>HTMCP-03-06-02217</th>\n",
       "    </tr>\n",
       "    <tr>\n",
       "      <th>HTMCP-03-06-02448</th>\n",
       "    </tr>\n",
       "    <tr>\n",
       "      <th>ZXDC</th>\n",
       "      <th>HTMCP-03-06-02007</th>\n",
       "    </tr>\n",
       "    <tr>\n",
       "      <th rowspan=\"3\" valign=\"top\">ZYG11A</th>\n",
       "      <th>HTMCP-03-06-02007</th>\n",
       "    </tr>\n",
       "    <tr>\n",
       "      <th>HTMCP-03-06-02026</th>\n",
       "    </tr>\n",
       "    <tr>\n",
       "      <th>HTMCP-03-06-02322</th>\n",
       "    </tr>\n",
       "    <tr>\n",
       "      <th rowspan=\"4\" valign=\"top\">ZYG11B</th>\n",
       "      <th>HTMCP-03-06-02007</th>\n",
       "    </tr>\n",
       "    <tr>\n",
       "      <th>HTMCP-03-06-02026</th>\n",
       "    </tr>\n",
       "    <tr>\n",
       "      <th>HTMCP-03-06-02063</th>\n",
       "    </tr>\n",
       "    <tr>\n",
       "      <th>HTMCP-03-06-02098</th>\n",
       "    </tr>\n",
       "    <tr>\n",
       "      <th rowspan=\"5\" valign=\"top\">ZZEF1</th>\n",
       "      <th>HTMCP-03-06-02007</th>\n",
       "    </tr>\n",
       "    <tr>\n",
       "      <th>HTMCP-03-06-02148</th>\n",
       "    </tr>\n",
       "    <tr>\n",
       "      <th>HTMCP-03-06-02238</th>\n",
       "    </tr>\n",
       "    <tr>\n",
       "      <th>HTMCP-03-06-02242</th>\n",
       "    </tr>\n",
       "    <tr>\n",
       "      <th>HTMCP-03-06-02441</th>\n",
       "    </tr>\n",
       "    <tr>\n",
       "      <th>ZZZ3</th>\n",
       "      <th>HTMCP-03-06-02007</th>\n",
       "    </tr>\n",
       "    <tr>\n",
       "      <th rowspan=\"2\" valign=\"top\">hsa-mir-3187</th>\n",
       "      <th>HTMCP-03-06-02063</th>\n",
       "    </tr>\n",
       "    <tr>\n",
       "      <th>HTMCP-03-06-02219</th>\n",
       "    </tr>\n",
       "    <tr>\n",
       "      <th rowspan=\"3\" valign=\"top\">hsa-mir-4763</th>\n",
       "      <th>HTMCP-03-06-02058</th>\n",
       "    </tr>\n",
       "    <tr>\n",
       "      <th>HTMCP-03-06-02156</th>\n",
       "    </tr>\n",
       "    <tr>\n",
       "      <th>HTMCP-03-06-02262</th>\n",
       "    </tr>\n",
       "    <tr>\n",
       "      <th>yR211F11.2</th>\n",
       "      <th>HTMCP-03-06-02242</th>\n",
       "    </tr>\n",
       "  </tbody>\n",
       "</table>\n",
       "<p>34547 rows × 0 columns</p>\n",
       "</div>"
      ],
      "text/plain": [
       "Empty DataFrame\n",
       "Columns: []\n",
       "Index: [(A1BG, HTMCP-03-06-02179), (A1CF, HTMCP-03-06-02020), (A1CF, HTMCP-03-06-02147), (A2LD1, HTMCP-03-06-02013), (A2M, HTMCP-03-06-02007), (A2M, HTMCP-03-06-02042), (A2M, HTMCP-03-06-02068), (A2M, HTMCP-03-06-02074), (A2M, HTMCP-03-06-02196), (A2M, HTMCP-03-06-02396), (A2M, HTMCP-03-06-02414), (A2ML1, HTMCP-03-06-02007), (A2ML1, HTMCP-03-06-02058), (A2ML1, HTMCP-03-06-02068), (A4GALT, HTMCP-03-06-02103), (A4GALT, HTMCP-03-06-02197), (A4GALT, HTMCP-03-06-02393), (A4GNT, HTMCP-03-06-02209), (AAAS, HTMCP-03-06-02007), (AACS, HTMCP-03-06-02007), (AACS, HTMCP-03-06-02063), (AADAC, HTMCP-03-06-02261), (AADACL2, HTMCP-03-06-02026), (AADACL2, HTMCP-03-06-02068), (AADACL2, HTMCP-03-06-02175), (AADACL3, HTMCP-03-06-02026), (AADACL3, HTMCP-03-06-02068), (AADACL4, HTMCP-03-06-02074), (AADACL4, HTMCP-03-06-02448), (AADAT, HTMCP-03-06-02007), (AAGAB, HTMCP-03-06-02063), (AAK1, HTMCP-03-06-02007), (AAK1, HTMCP-03-06-02008), (AAK1, HTMCP-03-06-02026), (AAK1, HTMCP-03-06-02417), (AAK1, HTMCP-03-06-02448), (AAMP, HTMCP-03-06-02428), (AANAT, HTMCP-03-06-02225), (AAR2, HTMCP-03-06-02157), (AARS, HTMCP-03-06-02205), (AARS, HTMCP-03-06-02330), (AARS2, HTMCP-03-06-02007), (AARS2, HTMCP-03-06-02320), (AARS2, HTMCP-03-06-02396), (AARSD1, HTMCP-03-06-02063), (AARSD1, HTMCP-03-06-02448), (AASDH, HTMCP-03-06-02007), (AASDHPPT, HTMCP-03-06-02007), (AASS, HTMCP-03-06-02007), (AASS, HTMCP-03-06-02026), (AASS, HTMCP-03-06-02063), (AASS, HTMCP-03-06-02149), (AATF, HTMCP-03-06-02007), (AATF, HTMCP-03-06-02026), (AATF, HTMCP-03-06-02103), (AATK, HTMCP-03-06-02058), (AATK, HTMCP-03-06-02260), (ABAT, HTMCP-03-06-02007), (ABAT, HTMCP-03-06-02151), (ABCA1, HTMCP-03-06-02007), (ABCA1, HTMCP-03-06-02026), (ABCA1, HTMCP-03-06-02103), (ABCA1, HTMCP-03-06-02139), (ABCA1, HTMCP-03-06-02213), (ABCA1, HTMCP-03-06-02225), (ABCA1, HTMCP-03-06-02259), (ABCA1, HTMCP-03-06-02448), (ABCA10, HTMCP-03-06-02007), (ABCA10, HTMCP-03-06-02026), (ABCA10, HTMCP-03-06-02170), (ABCA10, HTMCP-03-06-02210), (ABCA12, HTMCP-03-06-02007), (ABCA12, HTMCP-03-06-02013), (ABCA12, HTMCP-03-06-02026), (ABCA12, HTMCP-03-06-02109), (ABCA12, HTMCP-03-06-02428), (ABCA13, HTMCP-03-06-02006), (ABCA13, HTMCP-03-06-02007), (ABCA13, HTMCP-03-06-02012), (ABCA13, HTMCP-03-06-02026), (ABCA13, HTMCP-03-06-02063), (ABCA13, HTMCP-03-06-02155), (ABCA13, HTMCP-03-06-02175), (ABCA13, HTMCP-03-06-02230), (ABCA13, HTMCP-03-06-02414), (ABCA13, HTMCP-03-06-02434), (ABCA3, HTMCP-03-06-02007), (ABCA3, HTMCP-03-06-02058), (ABCA3, HTMCP-03-06-02335), (ABCA4, HTMCP-03-06-02007), (ABCA4, HTMCP-03-06-02008), (ABCA4, HTMCP-03-06-02026), (ABCA4, HTMCP-03-06-02346), (ABCA5, HTMCP-03-06-02007), (ABCA5, HTMCP-03-06-02026), (ABCA5, HTMCP-03-06-02058), (ABCA5, HTMCP-03-06-02089), (ABCA5, HTMCP-03-06-02170), (ABCA5, HTMCP-03-06-02219), (ABCA5, HTMCP-03-06-02260), ...]\n",
       "\n",
       "[34547 rows x 0 columns]"
      ]
     },
     "execution_count": 103,
     "metadata": {},
     "output_type": "execute_result"
    }
   ],
   "source": [
    "pd.pivot_table(dfd, index=['gene', 'patient'], aggfunc='count')"
   ]
  },
  {
   "cell_type": "code",
   "execution_count": null,
   "metadata": {
    "collapsed": true
   },
   "outputs": [],
   "source": []
  },
  {
   "cell_type": "code",
   "execution_count": 55,
   "metadata": {},
   "outputs": [
    {
     "data": {
      "text/html": [
       "<div>\n",
       "<style>\n",
       "    .dataframe thead tr:only-child th {\n",
       "        text-align: right;\n",
       "    }\n",
       "\n",
       "    .dataframe thead th {\n",
       "        text-align: left;\n",
       "    }\n",
       "\n",
       "    .dataframe tbody tr th {\n",
       "        vertical-align: top;\n",
       "    }\n",
       "</style>\n",
       "<table border=\"1\" class=\"dataframe\">\n",
       "  <thead>\n",
       "    <tr style=\"text-align: right;\">\n",
       "      <th></th>\n",
       "      <th>patient</th>\n",
       "    </tr>\n",
       "    <tr>\n",
       "      <th>gene</th>\n",
       "      <th></th>\n",
       "    </tr>\n",
       "  </thead>\n",
       "  <tbody>\n",
       "    <tr>\n",
       "      <th>A1BG</th>\n",
       "      <td>1</td>\n",
       "    </tr>\n",
       "    <tr>\n",
       "      <th>A1CF</th>\n",
       "      <td>2</td>\n",
       "    </tr>\n",
       "  </tbody>\n",
       "</table>\n",
       "</div>"
      ],
      "text/plain": [
       "      patient\n",
       "gene         \n",
       "A1BG        1\n",
       "A1CF        2"
      ]
     },
     "execution_count": 55,
     "metadata": {},
     "output_type": "execute_result"
    }
   ],
   "source": [
    "dfe = pd.DataFrame(dfd.groupby('gene').count())\n",
    "dfe.head(2)"
   ]
  },
  {
   "cell_type": "code",
   "execution_count": 56,
   "metadata": {
    "collapsed": true
   },
   "outputs": [],
   "source": [
    "dfe['freq'] = dfe/dfd.patient.nunique()"
   ]
  },
  {
   "cell_type": "code",
   "execution_count": 57,
   "metadata": {},
   "outputs": [
    {
     "data": {
      "text/html": [
       "<div>\n",
       "<style>\n",
       "    .dataframe thead tr:only-child th {\n",
       "        text-align: right;\n",
       "    }\n",
       "\n",
       "    .dataframe thead th {\n",
       "        text-align: left;\n",
       "    }\n",
       "\n",
       "    .dataframe tbody tr th {\n",
       "        vertical-align: top;\n",
       "    }\n",
       "</style>\n",
       "<table border=\"1\" class=\"dataframe\">\n",
       "  <thead>\n",
       "    <tr style=\"text-align: right;\">\n",
       "      <th></th>\n",
       "      <th>patient</th>\n",
       "      <th>freq</th>\n",
       "    </tr>\n",
       "    <tr>\n",
       "      <th>gene</th>\n",
       "      <th></th>\n",
       "      <th></th>\n",
       "    </tr>\n",
       "  </thead>\n",
       "  <tbody>\n",
       "    <tr>\n",
       "      <th>A1BG</th>\n",
       "      <td>1</td>\n",
       "      <td>0.008130</td>\n",
       "    </tr>\n",
       "    <tr>\n",
       "      <th>A1CF</th>\n",
       "      <td>2</td>\n",
       "      <td>0.016260</td>\n",
       "    </tr>\n",
       "    <tr>\n",
       "      <th>A2LD1</th>\n",
       "      <td>1</td>\n",
       "      <td>0.008130</td>\n",
       "    </tr>\n",
       "    <tr>\n",
       "      <th>A2M</th>\n",
       "      <td>7</td>\n",
       "      <td>0.056911</td>\n",
       "    </tr>\n",
       "    <tr>\n",
       "      <th>A2ML1</th>\n",
       "      <td>3</td>\n",
       "      <td>0.024390</td>\n",
       "    </tr>\n",
       "  </tbody>\n",
       "</table>\n",
       "</div>"
      ],
      "text/plain": [
       "       patient      freq\n",
       "gene                    \n",
       "A1BG         1  0.008130\n",
       "A1CF         2  0.016260\n",
       "A2LD1        1  0.008130\n",
       "A2M          7  0.056911\n",
       "A2ML1        3  0.024390"
      ]
     },
     "execution_count": 57,
     "metadata": {},
     "output_type": "execute_result"
    }
   ],
   "source": [
    "dfe.head()"
   ]
  },
  {
   "cell_type": "code",
   "execution_count": 58,
   "metadata": {},
   "outputs": [
    {
     "data": {
      "text/plain": [
       "(14585, 2)"
      ]
     },
     "execution_count": 58,
     "metadata": {},
     "output_type": "execute_result"
    }
   ],
   "source": [
    "dfe.shape"
   ]
  },
  {
   "cell_type": "code",
   "execution_count": 59,
   "metadata": {
    "collapsed": true
   },
   "outputs": [],
   "source": [
    "df_nci = dfe.copy()"
   ]
  },
  {
   "cell_type": "code",
   "execution_count": 60,
   "metadata": {},
   "outputs": [
    {
     "data": {
      "text/html": [
       "<div>\n",
       "<style>\n",
       "    .dataframe thead tr:only-child th {\n",
       "        text-align: right;\n",
       "    }\n",
       "\n",
       "    .dataframe thead th {\n",
       "        text-align: left;\n",
       "    }\n",
       "\n",
       "    .dataframe tbody tr th {\n",
       "        vertical-align: top;\n",
       "    }\n",
       "</style>\n",
       "<table border=\"1\" class=\"dataframe\">\n",
       "  <thead>\n",
       "    <tr style=\"text-align: right;\">\n",
       "      <th></th>\n",
       "      <th>Tumor_Sample_Barcode</th>\n",
       "      <th>freq</th>\n",
       "    </tr>\n",
       "    <tr>\n",
       "      <th>gene_name</th>\n",
       "      <th></th>\n",
       "      <th></th>\n",
       "    </tr>\n",
       "  </thead>\n",
       "  <tbody>\n",
       "    <tr>\n",
       "      <th>A1BG</th>\n",
       "      <td>1</td>\n",
       "      <td>0.005155</td>\n",
       "    </tr>\n",
       "    <tr>\n",
       "      <th>A1BG-AS1</th>\n",
       "      <td>1</td>\n",
       "      <td>0.005155</td>\n",
       "    </tr>\n",
       "  </tbody>\n",
       "</table>\n",
       "</div>"
      ],
      "text/plain": [
       "           Tumor_Sample_Barcode      freq\n",
       "gene_name                                \n",
       "A1BG                          1  0.005155\n",
       "A1BG-AS1                      1  0.005155"
      ]
     },
     "execution_count": 60,
     "metadata": {},
     "output_type": "execute_result"
    }
   ],
   "source": [
    "df_tcga.head(2)"
   ]
  },
  {
   "cell_type": "code",
   "execution_count": 61,
   "metadata": {},
   "outputs": [
    {
     "data": {
      "text/html": [
       "<div>\n",
       "<style>\n",
       "    .dataframe thead tr:only-child th {\n",
       "        text-align: right;\n",
       "    }\n",
       "\n",
       "    .dataframe thead th {\n",
       "        text-align: left;\n",
       "    }\n",
       "\n",
       "    .dataframe tbody tr th {\n",
       "        vertical-align: top;\n",
       "    }\n",
       "</style>\n",
       "<table border=\"1\" class=\"dataframe\">\n",
       "  <thead>\n",
       "    <tr style=\"text-align: right;\">\n",
       "      <th></th>\n",
       "      <th>patient</th>\n",
       "      <th>freq</th>\n",
       "    </tr>\n",
       "    <tr>\n",
       "      <th>gene</th>\n",
       "      <th></th>\n",
       "      <th></th>\n",
       "    </tr>\n",
       "  </thead>\n",
       "  <tbody>\n",
       "    <tr>\n",
       "      <th>A1BG</th>\n",
       "      <td>1</td>\n",
       "      <td>0.00813</td>\n",
       "    </tr>\n",
       "    <tr>\n",
       "      <th>A1CF</th>\n",
       "      <td>2</td>\n",
       "      <td>0.01626</td>\n",
       "    </tr>\n",
       "  </tbody>\n",
       "</table>\n",
       "</div>"
      ],
      "text/plain": [
       "      patient     freq\n",
       "gene                  \n",
       "A1BG        1  0.00813\n",
       "A1CF        2  0.01626"
      ]
     },
     "execution_count": 61,
     "metadata": {},
     "output_type": "execute_result"
    }
   ],
   "source": [
    "df_nci.head(2)"
   ]
  },
  {
   "cell_type": "code",
   "execution_count": 84,
   "metadata": {
    "collapsed": true
   },
   "outputs": [],
   "source": [
    "dfm = pd.merge(df_tcga, df_nci, left_index=True, right_index=True, how='outer')"
   ]
  },
  {
   "cell_type": "code",
   "execution_count": 85,
   "metadata": {
    "collapsed": true
   },
   "outputs": [],
   "source": [
    "dfm.columns = ['tcga_patient', 'tcga_freq', 'nci_patient', 'nci_freq']"
   ]
  },
  {
   "cell_type": "code",
   "execution_count": 86,
   "metadata": {},
   "outputs": [
    {
     "data": {
      "text/plain": [
       "(19453, 4)"
      ]
     },
     "execution_count": 86,
     "metadata": {},
     "output_type": "execute_result"
    }
   ],
   "source": [
    "dfm.shape"
   ]
  },
  {
   "cell_type": "code",
   "execution_count": 87,
   "metadata": {
    "collapsed": true
   },
   "outputs": [],
   "source": [
    "of = '/projects/trans_scratch/validations/workspace/szong/Cervical/variant_bwamem/124_patients_new/gene_mutate_freqency_tcga_vs_nci_cohort.csv'\n",
    "dfm.to_csv(of, sep='\\t')"
   ]
  },
  {
   "cell_type": "code",
   "execution_count": 65,
   "metadata": {},
   "outputs": [
    {
     "data": {
      "text/html": [
       "<div>\n",
       "<style>\n",
       "    .dataframe thead tr:only-child th {\n",
       "        text-align: right;\n",
       "    }\n",
       "\n",
       "    .dataframe thead th {\n",
       "        text-align: left;\n",
       "    }\n",
       "\n",
       "    .dataframe tbody tr th {\n",
       "        vertical-align: top;\n",
       "    }\n",
       "</style>\n",
       "<table border=\"1\" class=\"dataframe\">\n",
       "  <thead>\n",
       "    <tr style=\"text-align: right;\">\n",
       "      <th></th>\n",
       "      <th>tcga_patient</th>\n",
       "      <th>tcga_freq</th>\n",
       "      <th>nci_patient</th>\n",
       "      <th>nci_freq</th>\n",
       "    </tr>\n",
       "  </thead>\n",
       "  <tbody>\n",
       "    <tr>\n",
       "      <th>A1BG</th>\n",
       "      <td>1.0</td>\n",
       "      <td>0.005155</td>\n",
       "      <td>1.0</td>\n",
       "      <td>0.008130</td>\n",
       "    </tr>\n",
       "    <tr>\n",
       "      <th>A1BG-AS1</th>\n",
       "      <td>1.0</td>\n",
       "      <td>0.005155</td>\n",
       "      <td>NaN</td>\n",
       "      <td>NaN</td>\n",
       "    </tr>\n",
       "    <tr>\n",
       "      <th>A1CF</th>\n",
       "      <td>2.0</td>\n",
       "      <td>0.010309</td>\n",
       "      <td>2.0</td>\n",
       "      <td>0.016260</td>\n",
       "    </tr>\n",
       "    <tr>\n",
       "      <th>A2LD1</th>\n",
       "      <td>NaN</td>\n",
       "      <td>NaN</td>\n",
       "      <td>1.0</td>\n",
       "      <td>0.008130</td>\n",
       "    </tr>\n",
       "    <tr>\n",
       "      <th>A2M</th>\n",
       "      <td>2.0</td>\n",
       "      <td>0.010309</td>\n",
       "      <td>7.0</td>\n",
       "      <td>0.056911</td>\n",
       "    </tr>\n",
       "  </tbody>\n",
       "</table>\n",
       "</div>"
      ],
      "text/plain": [
       "          tcga_patient  tcga_freq  nci_patient  nci_freq\n",
       "A1BG               1.0   0.005155          1.0  0.008130\n",
       "A1BG-AS1           1.0   0.005155          NaN       NaN\n",
       "A1CF               2.0   0.010309          2.0  0.016260\n",
       "A2LD1              NaN        NaN          1.0  0.008130\n",
       "A2M                2.0   0.010309          7.0  0.056911"
      ]
     },
     "execution_count": 65,
     "metadata": {},
     "output_type": "execute_result"
    }
   ],
   "source": [
    "dfm.head()"
   ]
  },
  {
   "cell_type": "markdown",
   "metadata": {},
   "source": [
    "should i dropna? depending on if na means 0% or or the gene is not in the annotation list of genes\n",
    "dropna almost removed half of the genes, not good, this either means two cohorts are very different or variants were called/annotated very differently"
   ]
  },
  {
   "cell_type": "code",
   "execution_count": 66,
   "metadata": {},
   "outputs": [
    {
     "data": {
      "text/plain": [
       "3     PIK3CA\n",
       "12     TPRXL\n",
       "13      HRNR\n",
       "14    CRIPAK\n",
       "15      MLL3\n",
       "16     PRSS3\n",
       "17      FAT1\n",
       "18     HLA-B\n",
       "19      FMN2\n",
       "20     HLA-A\n",
       "Name: gene, dtype: object"
      ]
     },
     "execution_count": 66,
     "metadata": {},
     "output_type": "execute_result"
    }
   ],
   "source": [
    "validation_genes[:10]"
   ]
  },
  {
   "cell_type": "code",
   "execution_count": 67,
   "metadata": {},
   "outputs": [
    {
     "data": {
      "text/plain": [
       "2751"
      ]
     },
     "execution_count": 67,
     "metadata": {},
     "output_type": "execute_result"
    }
   ],
   "source": [
    "len(validation_genes)"
   ]
  },
  {
   "cell_type": "code",
   "execution_count": 68,
   "metadata": {},
   "outputs": [],
   "source": [
    "dfm = dfm[dfm.index.isin(validation_genes)]"
   ]
  },
  {
   "cell_type": "code",
   "execution_count": 69,
   "metadata": {
    "collapsed": true
   },
   "outputs": [],
   "source": [
    "# dfm = dfm.dropna()"
   ]
  },
  {
   "cell_type": "code",
   "execution_count": 70,
   "metadata": {},
   "outputs": [
    {
     "data": {
      "text/plain": [
       "(2751, 4)"
      ]
     },
     "execution_count": 70,
     "metadata": {},
     "output_type": "execute_result"
    }
   ],
   "source": [
    "dfm.shape"
   ]
  },
  {
   "cell_type": "code",
   "execution_count": 71,
   "metadata": {},
   "outputs": [
    {
     "data": {
      "text/html": [
       "<div>\n",
       "<style>\n",
       "    .dataframe thead tr:only-child th {\n",
       "        text-align: right;\n",
       "    }\n",
       "\n",
       "    .dataframe thead th {\n",
       "        text-align: left;\n",
       "    }\n",
       "\n",
       "    .dataframe tbody tr th {\n",
       "        vertical-align: top;\n",
       "    }\n",
       "</style>\n",
       "<table border=\"1\" class=\"dataframe\">\n",
       "  <thead>\n",
       "    <tr style=\"text-align: right;\">\n",
       "      <th></th>\n",
       "      <th>tcga_patient</th>\n",
       "      <th>tcga_freq</th>\n",
       "      <th>nci_patient</th>\n",
       "      <th>nci_freq</th>\n",
       "    </tr>\n",
       "  </thead>\n",
       "  <tbody>\n",
       "    <tr>\n",
       "      <th>A2M</th>\n",
       "      <td>2.0</td>\n",
       "      <td>0.010309</td>\n",
       "      <td>7.0</td>\n",
       "      <td>0.056911</td>\n",
       "    </tr>\n",
       "    <tr>\n",
       "      <th>A4GALT</th>\n",
       "      <td>NaN</td>\n",
       "      <td>NaN</td>\n",
       "      <td>3.0</td>\n",
       "      <td>0.024390</td>\n",
       "    </tr>\n",
       "    <tr>\n",
       "      <th>AAK1</th>\n",
       "      <td>4.0</td>\n",
       "      <td>0.020619</td>\n",
       "      <td>5.0</td>\n",
       "      <td>0.040650</td>\n",
       "    </tr>\n",
       "    <tr>\n",
       "      <th>ABCA1</th>\n",
       "      <td>6.0</td>\n",
       "      <td>0.030928</td>\n",
       "      <td>8.0</td>\n",
       "      <td>0.065041</td>\n",
       "    </tr>\n",
       "    <tr>\n",
       "      <th>ABCA12</th>\n",
       "      <td>17.0</td>\n",
       "      <td>0.087629</td>\n",
       "      <td>5.0</td>\n",
       "      <td>0.040650</td>\n",
       "    </tr>\n",
       "  </tbody>\n",
       "</table>\n",
       "</div>"
      ],
      "text/plain": [
       "        tcga_patient  tcga_freq  nci_patient  nci_freq\n",
       "A2M              2.0   0.010309          7.0  0.056911\n",
       "A4GALT           NaN        NaN          3.0  0.024390\n",
       "AAK1             4.0   0.020619          5.0  0.040650\n",
       "ABCA1            6.0   0.030928          8.0  0.065041\n",
       "ABCA12          17.0   0.087629          5.0  0.040650"
      ]
     },
     "execution_count": 71,
     "metadata": {},
     "output_type": "execute_result"
    }
   ],
   "source": [
    "dfm.head()"
   ]
  },
  {
   "cell_type": "code",
   "execution_count": 72,
   "metadata": {
    "collapsed": true
   },
   "outputs": [],
   "source": [
    "dfm = dfm.sort_values(['nci_freq', 'tcga_freq'], ascending=False)"
   ]
  },
  {
   "cell_type": "code",
   "execution_count": 73,
   "metadata": {},
   "outputs": [
    {
     "data": {
      "text/html": [
       "<div>\n",
       "<style>\n",
       "    .dataframe thead tr:only-child th {\n",
       "        text-align: right;\n",
       "    }\n",
       "\n",
       "    .dataframe thead th {\n",
       "        text-align: left;\n",
       "    }\n",
       "\n",
       "    .dataframe tbody tr th {\n",
       "        vertical-align: top;\n",
       "    }\n",
       "</style>\n",
       "<table border=\"1\" class=\"dataframe\">\n",
       "  <thead>\n",
       "    <tr style=\"text-align: right;\">\n",
       "      <th></th>\n",
       "      <th>tcga_patient</th>\n",
       "      <th>tcga_freq</th>\n",
       "      <th>nci_patient</th>\n",
       "      <th>nci_freq</th>\n",
       "    </tr>\n",
       "  </thead>\n",
       "  <tbody>\n",
       "    <tr>\n",
       "      <th>PIK3CA</th>\n",
       "      <td>59.0</td>\n",
       "      <td>0.304124</td>\n",
       "      <td>43.0</td>\n",
       "      <td>0.349593</td>\n",
       "    </tr>\n",
       "    <tr>\n",
       "      <th>MLL3</th>\n",
       "      <td>38.0</td>\n",
       "      <td>0.195876</td>\n",
       "      <td>22.0</td>\n",
       "      <td>0.178862</td>\n",
       "    </tr>\n",
       "    <tr>\n",
       "      <th>HRNR</th>\n",
       "      <td>11.0</td>\n",
       "      <td>0.056701</td>\n",
       "      <td>22.0</td>\n",
       "      <td>0.178862</td>\n",
       "    </tr>\n",
       "    <tr>\n",
       "      <th>TPRXL</th>\n",
       "      <td>NaN</td>\n",
       "      <td>NaN</td>\n",
       "      <td>22.0</td>\n",
       "      <td>0.178862</td>\n",
       "    </tr>\n",
       "    <tr>\n",
       "      <th>FAT1</th>\n",
       "      <td>13.0</td>\n",
       "      <td>0.067010</td>\n",
       "      <td>21.0</td>\n",
       "      <td>0.170732</td>\n",
       "    </tr>\n",
       "  </tbody>\n",
       "</table>\n",
       "</div>"
      ],
      "text/plain": [
       "        tcga_patient  tcga_freq  nci_patient  nci_freq\n",
       "PIK3CA          59.0   0.304124         43.0  0.349593\n",
       "MLL3            38.0   0.195876         22.0  0.178862\n",
       "HRNR            11.0   0.056701         22.0  0.178862\n",
       "TPRXL            NaN        NaN         22.0  0.178862\n",
       "FAT1            13.0   0.067010         21.0  0.170732"
      ]
     },
     "execution_count": 73,
     "metadata": {},
     "output_type": "execute_result"
    }
   ],
   "source": [
    "dfm.head()"
   ]
  },
  {
   "cell_type": "code",
   "execution_count": 74,
   "metadata": {
    "collapsed": true
   },
   "outputs": [],
   "source": [
    "labels = dfm.index.tolist()\n",
    "x = dfm.tcga_freq\n",
    "y = dfm.nci_freq"
   ]
  },
  {
   "cell_type": "code",
   "execution_count": 79,
   "metadata": {
    "collapsed": true
   },
   "outputs": [],
   "source": [
    "\n",
    "ax.scatter?"
   ]
  },
  {
   "cell_type": "code",
   "execution_count": 138,
   "metadata": {
    "scrolled": true
   },
   "outputs": [
    {
     "name": "stderr",
     "output_type": "stream",
     "text": [
      "/home/szong/anaconda3/lib/python3.6/site-packages/matplotlib/font_manager.py:1297: UserWarning: findfont: Font family ['sans-serif'] not found. Falling back to DejaVu Sans\n",
      "  (prop.get_family(), self.defaultFamily[fontext]))\n"
     ]
    },
    {
     "data": {
      "image/png": "[encoded data removed]",
      "text/plain": [
       "<matplotlib.figure.Figure at 0x7fc0150974a8>"
      ]
     },
     "metadata": {},
     "output_type": "display_data"
    }
   ],
   "source": [
    "\n",
    "with plt.style.context(\"seaborn-whitegrid\"):\n",
    "    plt.rcParams[\"axes.edgecolor\"] = \"0.15\"\n",
    "    plt.rcParams[\"axes.linewidth\"]  = 1.25\n",
    "    fig = plt.figure(facecolor='w', figsize=(10,10))\n",
    "    ax = fig.add_subplot(111)\n",
    "#     fig, ax = plt.subplots(figsize=(10,10))\n",
    "    ax.scatter(x, y, s=10)\n",
    "\n",
    "    ann = []\n",
    "    n = len(labels)\n",
    "    for i in range(n):\n",
    "        xy = [x[i], y[i]]\n",
    "        fc = x[i]/y[i]\n",
    "#         if max(xy) >= 0.12 or fc > 3 or fc < 1/3:\n",
    "        if max(xy) >= 0.12:\n",
    "            ann.append(ax.annotate(labels[i], xy = (x[i], y[i]), fontsize=14))\n",
    "    mask = np.zeros(fig.canvas.get_width_height(), bool)\n",
    "    plt.tight_layout()\n",
    "    fig.canvas.draw()\n",
    "\n",
    "    ax.plot([0,.35], [0,.35], linewidth=2, color='gray')\n",
    "    for a in ann:\n",
    "        bbox = a.get_window_extent()\n",
    "        x0 = int(bbox.x0)\n",
    "        x1 = int(math.ceil(bbox.x1))\n",
    "        y0 = int(bbox.y0)\n",
    "        y1 = int(math.ceil(bbox.y1))\n",
    "\n",
    "        s = np.s_[x0:x1+1, y0:y1+1]\n",
    "        if np.any(mask[s]):\n",
    "            a.set_visible(True)\n",
    "        else:\n",
    "            mask[s] = True\n",
    "\n",
    "    plt.xlabel('fraction of TCGA CESE patients', fontsize=18)\n",
    "    plt.ylabel('fraction of NCI cervical patients', fontsize=18)\n",
    "    plt.tight_layout()\n",
    "of = '/projects/trans_scratch/validations/workspace/szong/Cervical/variant_bwamem/124_patients_new/tcga_nci_percent_patient_mutated.png'\n",
    "plt.savefig(of, dpi=300)\n",
    "plt.show()"
   ]
  },
  {
   "cell_type": "code",
   "execution_count": 53,
   "metadata": {
    "scrolled": true
   },
   "outputs": [
    {
     "data": {
      "text/html": [
       "<div>\n",
       "<style>\n",
       "    .dataframe thead tr:only-child th {\n",
       "        text-align: right;\n",
       "    }\n",
       "\n",
       "    .dataframe thead th {\n",
       "        text-align: left;\n",
       "    }\n",
       "\n",
       "    .dataframe tbody tr th {\n",
       "        vertical-align: top;\n",
       "    }\n",
       "</style>\n",
       "<table border=\"1\" class=\"dataframe\">\n",
       "  <thead>\n",
       "    <tr style=\"text-align: right;\">\n",
       "      <th></th>\n",
       "      <th>gene_id</th>\n",
       "      <th>percent_mutated</th>\n",
       "    </tr>\n",
       "  </thead>\n",
       "  <tbody>\n",
       "    <tr>\n",
       "      <th>0</th>\n",
       "      <td>?|10431</td>\n",
       "      <td>0.515464</td>\n",
       "    </tr>\n",
       "    <tr>\n",
       "      <th>1</th>\n",
       "      <td>?|57714</td>\n",
       "      <td>2.061856</td>\n",
       "    </tr>\n",
       "  </tbody>\n",
       "</table>\n",
       "</div>"
      ],
      "text/plain": [
       "   gene_id  percent_mutated\n",
       "0  ?|10431         0.515464\n",
       "1  ?|57714         2.061856"
      ]
     },
     "execution_count": 53,
     "metadata": {},
     "output_type": "execute_result"
    }
   ],
   "source": [
    "f3 = '/projects/mwarren_prj/mwarren_prj_results/VDB-235/CESC.tsv'\n",
    "df3 = pd.read_csv(f3, sep='\\t')\n",
    "df3.head(2)"
   ]
  },
  {
   "cell_type": "code",
   "execution_count": 54,
   "metadata": {
    "collapsed": true
   },
   "outputs": [],
   "source": [
    "df3['gene'] = df3.gene_id.apply(lambda x: x.split('|')[0])"
   ]
  },
  {
   "cell_type": "code",
   "execution_count": 57,
   "metadata": {
    "collapsed": true
   },
   "outputs": [],
   "source": [
    "df3 = df3.drop('gene_id', axis=1)"
   ]
  },
  {
   "cell_type": "code",
   "execution_count": 58,
   "metadata": {},
   "outputs": [
    {
     "data": {
      "text/html": [
       "<div>\n",
       "<style>\n",
       "    .dataframe thead tr:only-child th {\n",
       "        text-align: right;\n",
       "    }\n",
       "\n",
       "    .dataframe thead th {\n",
       "        text-align: left;\n",
       "    }\n",
       "\n",
       "    .dataframe tbody tr th {\n",
       "        vertical-align: top;\n",
       "    }\n",
       "</style>\n",
       "<table border=\"1\" class=\"dataframe\">\n",
       "  <thead>\n",
       "    <tr style=\"text-align: right;\">\n",
       "      <th></th>\n",
       "      <th>percent_mutated</th>\n",
       "      <th>gene</th>\n",
       "    </tr>\n",
       "  </thead>\n",
       "  <tbody>\n",
       "    <tr>\n",
       "      <th>0</th>\n",
       "      <td>0.515464</td>\n",
       "      <td>?</td>\n",
       "    </tr>\n",
       "    <tr>\n",
       "      <th>1</th>\n",
       "      <td>2.061856</td>\n",
       "      <td>?</td>\n",
       "    </tr>\n",
       "  </tbody>\n",
       "</table>\n",
       "</div>"
      ],
      "text/plain": [
       "   percent_mutated gene\n",
       "0         0.515464    ?\n",
       "1         2.061856    ?"
      ]
     },
     "execution_count": 58,
     "metadata": {},
     "output_type": "execute_result"
    }
   ],
   "source": [
    "df3.head(2)"
   ]
  },
  {
   "cell_type": "code",
   "execution_count": 59,
   "metadata": {
    "collapsed": true
   },
   "outputs": [],
   "source": [
    "df3['tcga_freq'] = df3.percent_mutated/100"
   ]
  },
  {
   "cell_type": "code",
   "execution_count": 60,
   "metadata": {
    "collapsed": true
   },
   "outputs": [],
   "source": [
    "df3 = df3.drop('percent_mutated', axis=1)"
   ]
  },
  {
   "cell_type": "code",
   "execution_count": 61,
   "metadata": {},
   "outputs": [
    {
     "data": {
      "text/html": [
       "<div>\n",
       "<style>\n",
       "    .dataframe thead tr:only-child th {\n",
       "        text-align: right;\n",
       "    }\n",
       "\n",
       "    .dataframe thead th {\n",
       "        text-align: left;\n",
       "    }\n",
       "\n",
       "    .dataframe tbody tr th {\n",
       "        vertical-align: top;\n",
       "    }\n",
       "</style>\n",
       "<table border=\"1\" class=\"dataframe\">\n",
       "  <thead>\n",
       "    <tr style=\"text-align: right;\">\n",
       "      <th></th>\n",
       "      <th>gene</th>\n",
       "      <th>tcga_freq</th>\n",
       "    </tr>\n",
       "  </thead>\n",
       "  <tbody>\n",
       "    <tr>\n",
       "      <th>0</th>\n",
       "      <td>?</td>\n",
       "      <td>0.005155</td>\n",
       "    </tr>\n",
       "    <tr>\n",
       "      <th>1</th>\n",
       "      <td>?</td>\n",
       "      <td>0.020619</td>\n",
       "    </tr>\n",
       "  </tbody>\n",
       "</table>\n",
       "</div>"
      ],
      "text/plain": [
       "  gene  tcga_freq\n",
       "0    ?   0.005155\n",
       "1    ?   0.020619"
      ]
     },
     "execution_count": 61,
     "metadata": {},
     "output_type": "execute_result"
    }
   ],
   "source": [
    "df3.head(2)"
   ]
  },
  {
   "cell_type": "code",
   "execution_count": 63,
   "metadata": {},
   "outputs": [
    {
     "data": {
      "text/html": [
       "<div>\n",
       "<style>\n",
       "    .dataframe thead tr:only-child th {\n",
       "        text-align: right;\n",
       "    }\n",
       "\n",
       "    .dataframe thead th {\n",
       "        text-align: left;\n",
       "    }\n",
       "\n",
       "    .dataframe tbody tr th {\n",
       "        vertical-align: top;\n",
       "    }\n",
       "</style>\n",
       "<table border=\"1\" class=\"dataframe\">\n",
       "  <thead>\n",
       "    <tr style=\"text-align: right;\">\n",
       "      <th></th>\n",
       "      <th>gene</th>\n",
       "      <th>tcga_freq</th>\n",
       "      <th>patient</th>\n",
       "      <th>freq</th>\n",
       "    </tr>\n",
       "  </thead>\n",
       "  <tbody>\n",
       "    <tr>\n",
       "      <th>0</th>\n",
       "      <td>?</td>\n",
       "      <td>0.005155</td>\n",
       "      <td>NaN</td>\n",
       "      <td>NaN</td>\n",
       "    </tr>\n",
       "    <tr>\n",
       "      <th>1</th>\n",
       "      <td>?</td>\n",
       "      <td>0.020619</td>\n",
       "      <td>NaN</td>\n",
       "      <td>NaN</td>\n",
       "    </tr>\n",
       "    <tr>\n",
       "      <th>2</th>\n",
       "      <td>A1BG</td>\n",
       "      <td>0.005155</td>\n",
       "      <td>1.0</td>\n",
       "      <td>0.00813</td>\n",
       "    </tr>\n",
       "    <tr>\n",
       "      <th>3</th>\n",
       "      <td>A1CF</td>\n",
       "      <td>0.010309</td>\n",
       "      <td>2.0</td>\n",
       "      <td>0.01626</td>\n",
       "    </tr>\n",
       "    <tr>\n",
       "      <th>4</th>\n",
       "      <td>A2BP1</td>\n",
       "      <td>0.030928</td>\n",
       "      <td>NaN</td>\n",
       "      <td>NaN</td>\n",
       "    </tr>\n",
       "  </tbody>\n",
       "</table>\n",
       "</div>"
      ],
      "text/plain": [
       "    gene  tcga_freq  patient     freq\n",
       "0      ?   0.005155      NaN      NaN\n",
       "1      ?   0.020619      NaN      NaN\n",
       "2   A1BG   0.005155      1.0  0.00813\n",
       "3   A1CF   0.010309      2.0  0.01626\n",
       "4  A2BP1   0.030928      NaN      NaN"
      ]
     },
     "execution_count": 63,
     "metadata": {},
     "output_type": "execute_result"
    }
   ],
   "source": [
    "dfm2 = pd.merge(df3, df_nci, left_on='gene', right_index=True, how='outer')\n",
    "dfm2.head()"
   ]
  },
  {
   "cell_type": "code",
   "execution_count": 66,
   "metadata": {
    "collapsed": true
   },
   "outputs": [],
   "source": [
    "dfm2.set_index('gene', inplace=True)"
   ]
  },
  {
   "cell_type": "code",
   "execution_count": 67,
   "metadata": {
    "collapsed": true
   },
   "outputs": [],
   "source": [
    "dfm2.columns = ['tcga_freq', 'nci_patient', 'nci_freq']"
   ]
  },
  {
   "cell_type": "code",
   "execution_count": 68,
   "metadata": {},
   "outputs": [
    {
     "data": {
      "text/plain": [
       "(17139, 3)"
      ]
     },
     "execution_count": 68,
     "metadata": {},
     "output_type": "execute_result"
    }
   ],
   "source": [
    "dfm2.shape"
   ]
  },
  {
   "cell_type": "code",
   "execution_count": 73,
   "metadata": {
    "collapsed": true
   },
   "outputs": [],
   "source": [
    "dfm2 = dfm2.dropna().sort_values(['nci_freq', 'tcga_freq'], ascending=False)"
   ]
  },
  {
   "cell_type": "code",
   "execution_count": 74,
   "metadata": {},
   "outputs": [
    {
     "data": {
      "text/html": [
       "<div>\n",
       "<style>\n",
       "    .dataframe thead tr:only-child th {\n",
       "        text-align: right;\n",
       "    }\n",
       "\n",
       "    .dataframe thead th {\n",
       "        text-align: left;\n",
       "    }\n",
       "\n",
       "    .dataframe tbody tr th {\n",
       "        vertical-align: top;\n",
       "    }\n",
       "</style>\n",
       "<table border=\"1\" class=\"dataframe\">\n",
       "  <thead>\n",
       "    <tr style=\"text-align: right;\">\n",
       "      <th></th>\n",
       "      <th>tcga_freq</th>\n",
       "      <th>nci_patient</th>\n",
       "      <th>nci_freq</th>\n",
       "    </tr>\n",
       "    <tr>\n",
       "      <th>gene</th>\n",
       "      <th></th>\n",
       "      <th></th>\n",
       "      <th></th>\n",
       "    </tr>\n",
       "  </thead>\n",
       "  <tbody>\n",
       "    <tr>\n",
       "      <th>MUC4</th>\n",
       "      <td>0.015464</td>\n",
       "      <td>88.0</td>\n",
       "      <td>0.715447</td>\n",
       "    </tr>\n",
       "    <tr>\n",
       "      <th>TTN</th>\n",
       "      <td>0.350515</td>\n",
       "      <td>51.0</td>\n",
       "      <td>0.414634</td>\n",
       "    </tr>\n",
       "    <tr>\n",
       "      <th>AHNAK2</th>\n",
       "      <td>0.061856</td>\n",
       "      <td>45.0</td>\n",
       "      <td>0.365854</td>\n",
       "    </tr>\n",
       "    <tr>\n",
       "      <th>PIK3CA</th>\n",
       "      <td>0.273196</td>\n",
       "      <td>43.0</td>\n",
       "      <td>0.349593</td>\n",
       "    </tr>\n",
       "    <tr>\n",
       "      <th>MUC16</th>\n",
       "      <td>0.144330</td>\n",
       "      <td>35.0</td>\n",
       "      <td>0.284553</td>\n",
       "    </tr>\n",
       "  </tbody>\n",
       "</table>\n",
       "</div>"
      ],
      "text/plain": [
       "        tcga_freq  nci_patient  nci_freq\n",
       "gene                                    \n",
       "MUC4     0.015464         88.0  0.715447\n",
       "TTN      0.350515         51.0  0.414634\n",
       "AHNAK2   0.061856         45.0  0.365854\n",
       "PIK3CA   0.273196         43.0  0.349593\n",
       "MUC16    0.144330         35.0  0.284553"
      ]
     },
     "execution_count": 74,
     "metadata": {},
     "output_type": "execute_result"
    }
   ],
   "source": [
    "dfm2.head()"
   ]
  },
  {
   "cell_type": "code",
   "execution_count": 88,
   "metadata": {
    "collapsed": true
   },
   "outputs": [],
   "source": [
    "labels = dfm2.index.tolist()\n",
    "x = dfm2.tcga_freq\n",
    "y = dfm2.nci_freq"
   ]
  },
  {
   "cell_type": "code",
   "execution_count": 89,
   "metadata": {
    "scrolled": true
   },
   "outputs": [
    {
     "name": "stderr",
     "output_type": "stream",
     "text": [
      "/home/szong/anaconda3/lib/python3.6/site-packages/matplotlib/font_manager.py:1297: UserWarning: findfont: Font family ['sans-serif'] not found. Falling back to DejaVu Sans\n",
      "  (prop.get_family(), self.defaultFamily[fontext]))\n"
     ]
    },
    {
     "data": {
      "image/png": "[encoded data removed]",
      "text/plain": [
       "<matplotlib.figure.Figure at 0x7fd072a0e8d0>"
      ]
     },
     "metadata": {},
     "output_type": "display_data"
    }
   ],
   "source": [
    "with plt.style.context(\"seaborn-whitegrid\"):\n",
    "    plt.rcParams[\"axes.edgecolor\"] = \"0.15\"\n",
    "    plt.rcParams[\"axes.linewidth\"]  = 1.25\n",
    "    fig = plt.figure(facecolor='w', figsize=(15,15))\n",
    "    ax = fig.add_subplot(111)\n",
    "#     fig, ax = plt.subplots(figsize=(10,10))\n",
    "    ax.scatter(x, y)\n",
    "\n",
    "    ann = []\n",
    "    n = len(labels)\n",
    "    for i in range(n):\n",
    "        xy = [x[i], y[i]]\n",
    "        fc = x[i]/y[i]\n",
    "        if max(xy) > 0.1 or fc > 2 or fc < 0.5:\n",
    "            ann.append(ax.annotate(labels[i], xy = (x[i], y[i])))\n",
    "    mask = np.zeros(fig.canvas.get_width_height(), bool)\n",
    "    plt.tight_layout()\n",
    "    fig.canvas.draw()\n",
    "\n",
    "    for a in ann:\n",
    "        bbox = a.get_window_extent()\n",
    "        x0 = int(bbox.x0)\n",
    "        x1 = int(math.ceil(bbox.x1))\n",
    "        y0 = int(bbox.y0)\n",
    "        y1 = int(math.ceil(bbox.y1))\n",
    "\n",
    "        s = np.s_[x0:x1+1, y0:y1+1]\n",
    "        if np.any(mask[s]):\n",
    "            a.set_visible(False)\n",
    "        else:\n",
    "            mask[s] = True\n",
    "\n",
    "    plt.xlabel('fraction of tcga CESE patients')\n",
    "    plt.ylabel('fraction of NCI cervical patients')\n",
    "    plt.tight_layout()\n",
    "of = '/projects/trans_scratch/validations/workspace/szong/Cervical/variant_bwamem/124_patients_new/tcga_nci_percent_patient_mutated_Mya.png'\n",
    "plt.savefig(of, dpi=300)\n",
    "plt.show()"
   ]
  },
  {
   "cell_type": "code",
   "execution_count": null,
   "metadata": {
    "collapsed": true
   },
   "outputs": [],
   "source": []
  },
  {
   "cell_type": "code",
   "execution_count": null,
   "metadata": {
    "collapsed": true
   },
   "outputs": [],
   "source": []
  },
  {
   "cell_type": "code",
   "execution_count": null,
   "metadata": {
    "collapsed": true
   },
   "outputs": [],
   "source": []
  }
 ],
 "metadata": {
  "kernelspec": {
   "display_name": "Python 3",
   "language": "python",
   "name": "python3"
  },
  "language_info": {
   "codemirror_mode": {
    "name": "ipython",
    "version": 3
   },
   "file_extension": ".py",
   "mimetype": "text/x-python",
   "name": "python",
   "nbconvert_exporter": "python",
   "pygments_lexer": "ipython3",
   "version": "3.6.1"
  }
 },
 "nbformat": 4,
 "nbformat_minor": 2
}
