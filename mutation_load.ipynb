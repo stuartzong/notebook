{
 "cells": [
  {
   "cell_type": "code",
   "execution_count": 2,
   "metadata": {},
   "outputs": [],
   "source": [
    "import re\n",
    "import matplotlib\n",
    "import numpy as np\n",
    "import pandas as pd\n",
    "import seaborn as sns\n",
    "import scipy.stats as ss\n",
    "import matplotlib.pyplot as plt\n",
    "from matplotlib import style, colors\n",
    "from matplotlib import gridspec\n",
    "import random\n",
    "import string\n",
    "import math\n",
    "\n",
    "matplotlib.style.use('ggplot')\n",
    "%matplotlib inline\n",
    "matplotlib.rcParams['figure.figsize'] = (12, 6)"
   ]
  },
  {
   "cell_type": "markdown",
   "metadata": {},
   "source": [
    "use all calls from strelka: this is prefered since this takes into consideration of all soamtic calls:snvs and indels, high/moderate/low/modifier impacts.\n",
    "\n",
    "in most papers, they only report mutation in coding regions including splicing site, excluding non-coding regions, i will get these numbers as well. synonymous/non-synonymous mutation are only in coding regions."
   ]
  },
  {
   "cell_type": "code",
   "execution_count": 117,
   "metadata": {},
   "outputs": [
    {
     "data": {
      "text/html": [
       "<div>\n",
       "<style scoped>\n",
       "    .dataframe tbody tr th:only-of-type {\n",
       "        vertical-align: middle;\n",
       "    }\n",
       "\n",
       "    .dataframe tbody tr th {\n",
       "        vertical-align: top;\n",
       "    }\n",
       "\n",
       "    .dataframe thead th {\n",
       "        text-align: right;\n",
       "    }\n",
       "</style>\n",
       "<table border=\"1\" class=\"dataframe\">\n",
       "  <thead>\n",
       "    <tr style=\"text-align: right;\">\n",
       "      <th></th>\n",
       "      <th>chr</th>\n",
       "      <th>Effective_size</th>\n",
       "    </tr>\n",
       "  </thead>\n",
       "  <tbody>\n",
       "    <tr>\n",
       "      <th>0</th>\n",
       "      <td>1</td>\n",
       "      <td>225280621</td>\n",
       "    </tr>\n",
       "    <tr>\n",
       "      <th>1</th>\n",
       "      <td>2</td>\n",
       "      <td>238204518</td>\n",
       "    </tr>\n",
       "  </tbody>\n",
       "</table>\n",
       "</div>"
      ],
      "text/plain": [
       "  chr  Effective_size\n",
       "0   1       225280621\n",
       "1   2       238204518"
      ]
     },
     "execution_count": 117,
     "metadata": {},
     "output_type": "execute_result"
    }
   ],
   "source": [
    "f1 = '/home/szong/projects/resource/hg19a_chromosome_effective_sizes.txt'\n",
    "df1 = pd.read_csv(f1, sep='\\t')\n",
    "df1.head(2)"
   ]
  },
  {
   "cell_type": "code",
   "execution_count": 118,
   "metadata": {},
   "outputs": [
    {
     "data": {
      "text/plain": [
       "28647851.59"
      ]
     },
     "execution_count": 118,
     "metadata": {},
     "output_type": "execute_result"
    }
   ],
   "source": [
    "# approximate size of coding regions 1% of effective genome size\n",
    "len_coding = df1.Effective_size.sum()*0.01\n",
    "len_coding"
   ]
  },
  {
   "cell_type": "code",
   "execution_count": null,
   "metadata": {},
   "outputs": [],
   "source": []
  },
  {
   "cell_type": "code",
   "execution_count": 119,
   "metadata": {},
   "outputs": [
    {
     "data": {
      "text/html": [
       "<div>\n",
       "<style scoped>\n",
       "    .dataframe tbody tr th:only-of-type {\n",
       "        vertical-align: middle;\n",
       "    }\n",
       "\n",
       "    .dataframe tbody tr th {\n",
       "        vertical-align: top;\n",
       "    }\n",
       "\n",
       "    .dataframe thead th {\n",
       "        text-align: right;\n",
       "    }\n",
       "</style>\n",
       "<table border=\"1\" class=\"dataframe\">\n",
       "  <thead>\n",
       "    <tr style=\"text-align: right;\">\n",
       "      <th></th>\n",
       "      <th>patient</th>\n",
       "      <th>snv_counts</th>\n",
       "      <th>indel_counts</th>\n",
       "      <th>snv_sns_counts</th>\n",
       "      <th>indel_sns_counts</th>\n",
       "      <th>snv_syno_counts</th>\n",
       "      <th>indel_syno_counts</th>\n",
       "      <th>strelka_mutations</th>\n",
       "      <th>strelka_coding_mutations</th>\n",
       "      <th>strelka_syno_mutations</th>\n",
       "      <th>...</th>\n",
       "      <th>live_birth_pregnancy_count</th>\n",
       "      <th>menopause_status</th>\n",
       "      <th>nadir_cd4_counts</th>\n",
       "      <th>patient_id</th>\n",
       "      <th>pregnancies_count_induced_abortion</th>\n",
       "      <th>pregnancies_count_miscarriage</th>\n",
       "      <th>tobacco_smoking_history_indicator</th>\n",
       "      <th>total_pregnancy_count</th>\n",
       "      <th>tumor_grade</th>\n",
       "      <th>weight_kg_at_diagnosis</th>\n",
       "    </tr>\n",
       "  </thead>\n",
       "  <tbody>\n",
       "    <tr>\n",
       "      <th>0</th>\n",
       "      <td>HTMCP-03-06-02001</td>\n",
       "      <td>25732</td>\n",
       "      <td>1242</td>\n",
       "      <td>329</td>\n",
       "      <td>11</td>\n",
       "      <td>102</td>\n",
       "      <td>0</td>\n",
       "      <td>26974</td>\n",
       "      <td>340</td>\n",
       "      <td>102</td>\n",
       "      <td>...</td>\n",
       "      <td>5.0</td>\n",
       "      <td>Post (prior bilateral ovariectomy OR &gt;12 mo si...</td>\n",
       "      <td>NaN</td>\n",
       "      <td>2001.0</td>\n",
       "      <td>NaN</td>\n",
       "      <td>1.0</td>\n",
       "      <td>1.0</td>\n",
       "      <td>6.0</td>\n",
       "      <td>G2</td>\n",
       "      <td>44.5</td>\n",
       "    </tr>\n",
       "    <tr>\n",
       "      <th>1</th>\n",
       "      <td>HTMCP-03-06-02002</td>\n",
       "      <td>15964</td>\n",
       "      <td>697</td>\n",
       "      <td>225</td>\n",
       "      <td>2</td>\n",
       "      <td>72</td>\n",
       "      <td>0</td>\n",
       "      <td>16661</td>\n",
       "      <td>227</td>\n",
       "      <td>72</td>\n",
       "      <td>...</td>\n",
       "      <td>8.0</td>\n",
       "      <td>Post (prior bilateral ovariectomy OR &gt;12 mo si...</td>\n",
       "      <td>NaN</td>\n",
       "      <td>2002.0</td>\n",
       "      <td>3.0</td>\n",
       "      <td>NaN</td>\n",
       "      <td>1.0</td>\n",
       "      <td>11.0</td>\n",
       "      <td>G3</td>\n",
       "      <td>70.2</td>\n",
       "    </tr>\n",
       "  </tbody>\n",
       "</table>\n",
       "<p>2 rows × 45 columns</p>\n",
       "</div>"
      ],
      "text/plain": [
       "             patient  snv_counts  indel_counts  snv_sns_counts  \\\n",
       "0  HTMCP-03-06-02001       25732          1242             329   \n",
       "1  HTMCP-03-06-02002       15964           697             225   \n",
       "\n",
       "   indel_sns_counts  snv_syno_counts  indel_syno_counts  strelka_mutations  \\\n",
       "0                11              102                  0              26974   \n",
       "1                 2               72                  0              16661   \n",
       "\n",
       "   strelka_coding_mutations  strelka_syno_mutations          ...            \\\n",
       "0                       340                     102          ...             \n",
       "1                       227                      72          ...             \n",
       "\n",
       "   live_birth_pregnancy_count  \\\n",
       "0                         5.0   \n",
       "1                         8.0   \n",
       "\n",
       "                                    menopause_status  nadir_cd4_counts  \\\n",
       "0  Post (prior bilateral ovariectomy OR >12 mo si...               NaN   \n",
       "1  Post (prior bilateral ovariectomy OR >12 mo si...               NaN   \n",
       "\n",
       "  patient_id pregnancies_count_induced_abortion pregnancies_count_miscarriage  \\\n",
       "0     2001.0                                NaN                           1.0   \n",
       "1     2002.0                                3.0                           NaN   \n",
       "\n",
       "  tobacco_smoking_history_indicator total_pregnancy_count  tumor_grade  \\\n",
       "0                               1.0                   6.0           G2   \n",
       "1                               1.0                  11.0           G3   \n",
       "\n",
       "  weight_kg_at_diagnosis  \n",
       "0                   44.5  \n",
       "1                   70.2  \n",
       "\n",
       "[2 rows x 45 columns]"
      ]
     },
     "execution_count": 119,
     "metadata": {},
     "output_type": "execute_result"
    }
   ],
   "source": [
    "of2 = '/projects/trans_scratch/validations/workspace/szong/Cervical/variant_bwamem/124_patients/mutation_load_clinic.txt'\n",
    "df2 = pd.read_csv(of2, sep='\\t')\n",
    "df2.head(2)"
   ]
  },
  {
   "cell_type": "code",
   "execution_count": 120,
   "metadata": {},
   "outputs": [
    {
     "data": {
      "text/plain": [
       "63260"
      ]
     },
     "execution_count": 120,
     "metadata": {},
     "output_type": "execute_result"
    }
   ],
   "source": [
    "df2.strelka_coding_mutations.sum()"
   ]
  },
  {
   "cell_type": "code",
   "execution_count": 124,
   "metadata": {},
   "outputs": [],
   "source": [
    "df2['syno_mut_rate'] = df2.strelka_syno_mutations/len_coding * 1e6\n",
    "df2['nsyno_mut_rate'] = df2.strelka_nsyno_mutations/len_coding * 1e6"
   ]
  },
  {
   "cell_type": "code",
   "execution_count": 127,
   "metadata": {},
   "outputs": [],
   "source": [
    "df2['total'] = df2['syno_mut_rate'] + df2['nsyno_mut_rate']"
   ]
  },
  {
   "cell_type": "code",
   "execution_count": 130,
   "metadata": {},
   "outputs": [
    {
     "data": {
      "text/plain": [
       "17.95279277657801"
      ]
     },
     "execution_count": 130,
     "metadata": {},
     "output_type": "execute_result"
    }
   ],
   "source": [
    "df2.total.sum()/123"
   ]
  },
  {
   "cell_type": "code",
   "execution_count": 131,
   "metadata": {},
   "outputs": [
    {
     "data": {
      "text/html": [
       "<div>\n",
       "<style scoped>\n",
       "    .dataframe tbody tr th:only-of-type {\n",
       "        vertical-align: middle;\n",
       "    }\n",
       "\n",
       "    .dataframe tbody tr th {\n",
       "        vertical-align: top;\n",
       "    }\n",
       "\n",
       "    .dataframe thead th {\n",
       "        text-align: right;\n",
       "    }\n",
       "</style>\n",
       "<table border=\"1\" class=\"dataframe\">\n",
       "  <thead>\n",
       "    <tr style=\"text-align: right;\">\n",
       "      <th></th>\n",
       "      <th>patient</th>\n",
       "      <th>snv_counts</th>\n",
       "      <th>indel_counts</th>\n",
       "      <th>snv_sns_counts</th>\n",
       "      <th>indel_sns_counts</th>\n",
       "      <th>snv_syno_counts</th>\n",
       "      <th>indel_syno_counts</th>\n",
       "      <th>strelka_mutations</th>\n",
       "      <th>strelka_coding_mutations</th>\n",
       "      <th>strelka_syno_mutations</th>\n",
       "      <th>...</th>\n",
       "      <th>patient_id</th>\n",
       "      <th>pregnancies_count_induced_abortion</th>\n",
       "      <th>pregnancies_count_miscarriage</th>\n",
       "      <th>tobacco_smoking_history_indicator</th>\n",
       "      <th>total_pregnancy_count</th>\n",
       "      <th>tumor_grade</th>\n",
       "      <th>weight_kg_at_diagnosis</th>\n",
       "      <th>syno_mut_rate</th>\n",
       "      <th>nsyno_mut_rate</th>\n",
       "      <th>total</th>\n",
       "    </tr>\n",
       "  </thead>\n",
       "  <tbody>\n",
       "    <tr>\n",
       "      <th>0</th>\n",
       "      <td>HTMCP-03-06-02001</td>\n",
       "      <td>25732</td>\n",
       "      <td>1242</td>\n",
       "      <td>329</td>\n",
       "      <td>11</td>\n",
       "      <td>102</td>\n",
       "      <td>0</td>\n",
       "      <td>26974</td>\n",
       "      <td>340</td>\n",
       "      <td>102</td>\n",
       "      <td>...</td>\n",
       "      <td>2001.0</td>\n",
       "      <td>NaN</td>\n",
       "      <td>1.0</td>\n",
       "      <td>1.0</td>\n",
       "      <td>6.0</td>\n",
       "      <td>G2</td>\n",
       "      <td>44.5</td>\n",
       "      <td>3.560476</td>\n",
       "      <td>8.307778</td>\n",
       "      <td>11.868255</td>\n",
       "    </tr>\n",
       "    <tr>\n",
       "      <th>1</th>\n",
       "      <td>HTMCP-03-06-02002</td>\n",
       "      <td>15964</td>\n",
       "      <td>697</td>\n",
       "      <td>225</td>\n",
       "      <td>2</td>\n",
       "      <td>72</td>\n",
       "      <td>0</td>\n",
       "      <td>16661</td>\n",
       "      <td>227</td>\n",
       "      <td>72</td>\n",
       "      <td>...</td>\n",
       "      <td>2002.0</td>\n",
       "      <td>3.0</td>\n",
       "      <td>NaN</td>\n",
       "      <td>1.0</td>\n",
       "      <td>11.0</td>\n",
       "      <td>G3</td>\n",
       "      <td>70.2</td>\n",
       "      <td>2.513277</td>\n",
       "      <td>5.410528</td>\n",
       "      <td>7.923805</td>\n",
       "    </tr>\n",
       "  </tbody>\n",
       "</table>\n",
       "<p>2 rows × 48 columns</p>\n",
       "</div>"
      ],
      "text/plain": [
       "             patient  snv_counts  indel_counts  snv_sns_counts  \\\n",
       "0  HTMCP-03-06-02001       25732          1242             329   \n",
       "1  HTMCP-03-06-02002       15964           697             225   \n",
       "\n",
       "   indel_sns_counts  snv_syno_counts  indel_syno_counts  strelka_mutations  \\\n",
       "0                11              102                  0              26974   \n",
       "1                 2               72                  0              16661   \n",
       "\n",
       "   strelka_coding_mutations  strelka_syno_mutations    ...      patient_id  \\\n",
       "0                       340                     102    ...          2001.0   \n",
       "1                       227                      72    ...          2002.0   \n",
       "\n",
       "   pregnancies_count_induced_abortion  pregnancies_count_miscarriage  \\\n",
       "0                                 NaN                            1.0   \n",
       "1                                 3.0                            NaN   \n",
       "\n",
       "  tobacco_smoking_history_indicator total_pregnancy_count tumor_grade  \\\n",
       "0                               1.0                   6.0          G2   \n",
       "1                               1.0                  11.0          G3   \n",
       "\n",
       "  weight_kg_at_diagnosis syno_mut_rate  nsyno_mut_rate      total  \n",
       "0                   44.5      3.560476        8.307778  11.868255  \n",
       "1                   70.2      2.513277        5.410528   7.923805  \n",
       "\n",
       "[2 rows x 48 columns]"
      ]
     },
     "execution_count": 131,
     "metadata": {},
     "output_type": "execute_result"
    }
   ],
   "source": [
    "df2.head(2)"
   ]
  },
  {
   "cell_type": "code",
   "execution_count": 132,
   "metadata": {},
   "outputs": [],
   "source": [
    "of = '/projects/trans_scratch/validations/workspace/szong/Cervical/variant_bwamem/coding_mutation_rate.txt'\n",
    "df2.to_csv(of, sep='\\t', index=False)"
   ]
  },
  {
   "cell_type": "code",
   "execution_count": 126,
   "metadata": {
    "scrolled": true
   },
   "outputs": [
    {
     "data": {
      "image/png": "[encoded data removed]",
      "text/plain": [
       "<matplotlib.figure.Figure at 0x7f94ca8b4a20>"
      ]
     },
     "metadata": {},
     "output_type": "display_data"
    }
   ],
   "source": [
    "fig = plt.figure(facecolor='white',  figsize=(12,2))\n",
    "ax = fig.add_subplot(111, facecolor='white')\n",
    "df2[['nsyno_mut_rate', 'syno_mut_rate']].plot.bar(stacked=True, ax=ax)\n",
    "ax.set_ylim(0,100)\n",
    "_ = ax.set_xticklabels(df2.patient, fontsize=5)\n",
    "_ = ax.legend(labels=['non syn', 'syno'])"
   ]
  },
  {
   "cell_type": "code",
   "execution_count": null,
   "metadata": {},
   "outputs": [],
   "source": []
  },
  {
   "cell_type": "code",
   "execution_count": null,
   "metadata": {},
   "outputs": [],
   "source": []
  },
  {
   "cell_type": "code",
   "execution_count": null,
   "metadata": {},
   "outputs": [],
   "source": []
  },
  {
   "cell_type": "code",
   "execution_count": null,
   "metadata": {},
   "outputs": [],
   "source": []
  },
  {
   "cell_type": "code",
   "execution_count": 90,
   "metadata": {},
   "outputs": [],
   "source": [
    "def file_len(fname):\n",
    "    i = 0\n",
    "    with open(fname) as f:\n",
    "        for line in f:\n",
    "            if not re.match(\"^##\", line):\n",
    "                i+=1\n",
    "    return i - 1 # header only have one # sign"
   ]
  },
  {
   "cell_type": "markdown",
   "metadata": {},
   "source": [
    "a good post about match\n",
    "https://stackoverflow.com/questions/24958358/use-regular-expression-in-python-to-find-two-strings-in-line"
   ]
  },
  {
   "cell_type": "code",
   "execution_count": 91,
   "metadata": {},
   "outputs": [],
   "source": [
    "def count_coding_mutations(fname):\n",
    "    \n",
    "    i = 0\n",
    "    with open(fname) as f:\n",
    "        for line in f:\n",
    "            if not re.match(\"^##\", line):\n",
    "                if ('HIGH' in line) or ('MODERATE' in line) or ('LOW'in line):\n",
    "                    i+=1\n",
    "    return i"
   ]
  },
  {
   "cell_type": "code",
   "execution_count": 92,
   "metadata": {},
   "outputs": [],
   "source": [
    "def count_synonymous_mutations(fname):\n",
    "    \n",
    "    i = 0\n",
    "    with open(fname) as f:\n",
    "        for line in f:\n",
    "            if not re.match(\"^##\", line):\n",
    "                if ('HIGH' not in line) and ('MODERATE' not in line) and ('LOW'in line):\n",
    "                    i+=1\n",
    "    return i"
   ]
  },
  {
   "cell_type": "code",
   "execution_count": 112,
   "metadata": {},
   "outputs": [],
   "source": [
    "def get_mutations(fname):\n",
    "    with open(fname) as f:\n",
    "        for line in f:\n",
    "            if not re.match(\"^##\", line):\n",
    "                if ('HIGH' in line) or ('MODERATE' in line) or ('LOW'in line):\n",
    "                    print(line)\n",
    "    return 0"
   ]
  },
  {
   "cell_type": "code",
   "execution_count": 116,
   "metadata": {},
   "outputs": [
    {
     "data": {
      "text/plain": [
       "0.05754450822064403"
      ]
     },
     "execution_count": 116,
     "metadata": {},
     "output_type": "execute_result"
    }
   ],
   "source": [
    "# get_mutations(ft)\n",
    "1183/20558\n"
   ]
  },
  {
   "cell_type": "code",
   "execution_count": 113,
   "metadata": {},
   "outputs": [
    {
     "ename": "NameError",
     "evalue": "name 'count_coding_mutations' is not defined",
     "output_type": "error",
     "traceback": [
      "\u001b[0;31m---------------------------------------------------------------------------\u001b[0m",
      "\u001b[0;31mNameError\u001b[0m                                 Traceback (most recent call last)",
      "\u001b[0;32m<ipython-input-113-f5cbaa7db451>\u001b[0m in \u001b[0;36m<module>\u001b[0;34m()\u001b[0m\n\u001b[1;32m      1\u001b[0m \u001b[0mft\u001b[0m \u001b[0;34m=\u001b[0m \u001b[0;34m'/projects/somatic/NCI_SAIC_HIV_Cervical/HTMCP-03-06-02020/hg19a/GSH/A37247_A56468/strelka/23223/bwa/results/passed.somatic.snvs.eff.dbSNP_v137.cosmic_v64.annotations.vcf'\u001b[0m\u001b[0;34m\u001b[0m\u001b[0m\n\u001b[0;32m----> 2\u001b[0;31m \u001b[0;32massert\u001b[0m \u001b[0mcount_coding_mutations\u001b[0m\u001b[0;34m(\u001b[0m\u001b[0mft\u001b[0m\u001b[0;34m)\u001b[0m \u001b[0;34m==\u001b[0m \u001b[0;36m266\u001b[0m\u001b[0;34m\u001b[0m\u001b[0m\n\u001b[0m",
      "\u001b[0;31mNameError\u001b[0m: name 'count_coding_mutations' is not defined"
     ]
    }
   ],
   "source": [
    "ft = '/projects/somatic/NCI_SAIC_HIV_Cervical/HTMCP-03-06-02020/hg19a/GSH/A37247_A56468/strelka/23223/bwa/results/passed.somatic.snvs.eff.dbSNP_v137.cosmic_v64.annotations.vcf'\n",
    "assert count_coding_mutations(ft) == 266"
   ]
  },
  {
   "cell_type": "code",
   "execution_count": 110,
   "metadata": {},
   "outputs": [
    {
     "data": {
      "text/html": [
       "<div>\n",
       "<style scoped>\n",
       "    .dataframe tbody tr th:only-of-type {\n",
       "        vertical-align: middle;\n",
       "    }\n",
       "\n",
       "    .dataframe tbody tr th {\n",
       "        vertical-align: top;\n",
       "    }\n",
       "\n",
       "    .dataframe thead th {\n",
       "        text-align: right;\n",
       "    }\n",
       "</style>\n",
       "<table border=\"1\" class=\"dataframe\">\n",
       "  <thead>\n",
       "    <tr style=\"text-align: right;\">\n",
       "      <th></th>\n",
       "      <th>HIV_status</th>\n",
       "      <th>DNA_lib</th>\n",
       "      <th>source</th>\n",
       "      <th>status</th>\n",
       "      <th>RNA_lib</th>\n",
       "      <th>ribodepleted_lib</th>\n",
       "      <th>DNA_bam</th>\n",
       "      <th>RNA_bam</th>\n",
       "      <th>DNA_single_vcf</th>\n",
       "      <th>paired_mpileup_vcf</th>\n",
       "      <th>...</th>\n",
       "      <th>other_vcf</th>\n",
       "      <th>DNA_tc</th>\n",
       "      <th>RNA_tc</th>\n",
       "      <th>cnv</th>\n",
       "      <th>bbt_transcriptome</th>\n",
       "      <th>bbt_genome</th>\n",
       "      <th>bbt_transcriptome_other_bacterial</th>\n",
       "      <th>bbt_genome_other_bacterial</th>\n",
       "      <th>bbt_transcriptome_other_viral</th>\n",
       "      <th>bbt_genome_other_viral</th>\n",
       "    </tr>\n",
       "    <tr>\n",
       "      <th>patient</th>\n",
       "      <th></th>\n",
       "      <th></th>\n",
       "      <th></th>\n",
       "      <th></th>\n",
       "      <th></th>\n",
       "      <th></th>\n",
       "      <th></th>\n",
       "      <th></th>\n",
       "      <th></th>\n",
       "      <th></th>\n",
       "      <th></th>\n",
       "      <th></th>\n",
       "      <th></th>\n",
       "      <th></th>\n",
       "      <th></th>\n",
       "      <th></th>\n",
       "      <th></th>\n",
       "      <th></th>\n",
       "      <th></th>\n",
       "      <th></th>\n",
       "      <th></th>\n",
       "    </tr>\n",
       "  </thead>\n",
       "  <tbody>\n",
       "    <tr>\n",
       "      <th>HTMCP-03-06-02001</th>\n",
       "      <td>Positive</td>\n",
       "      <td>A37234</td>\n",
       "      <td>HTMCP_124</td>\n",
       "      <td>Malignant</td>\n",
       "      <td>A37700</td>\n",
       "      <td>A56295</td>\n",
       "      <td>/projects/analysis/analysis22/A37234/merge_bwa...</td>\n",
       "      <td>/projects/analysis/analysis22/IX3433/C67GDANXX...</td>\n",
       "      <td>/projects/analysis/analysis22/A37234/merge_bwa...</td>\n",
       "      <td>NaN</td>\n",
       "      <td>...</td>\n",
       "      <td>NaN</td>\n",
       "      <td>55.0</td>\n",
       "      <td>55.0</td>\n",
       "      <td>/projects/somatic/NCI_SAIC_HIV_Cervical/HTMCP-...</td>\n",
       "      <td>/projects/NCI_validation2_assembly/NCI_SAIC_HI...</td>\n",
       "      <td>/projects/NCI_validation2_assembly/NCI_SAIC_HI...</td>\n",
       "      <td>/projects/NCI_validation2_assembly/NCI_SAIC_HI...</td>\n",
       "      <td>/projects/NCI_validation2_assembly/NCI_SAIC_HI...</td>\n",
       "      <td>/projects/NCI_validation2_assembly/NCI_SAIC_HI...</td>\n",
       "      <td>/projects/NCI_validation2_assembly/NCI_SAIC_HI...</td>\n",
       "    </tr>\n",
       "    <tr>\n",
       "      <th>HTMCP-03-06-02002</th>\n",
       "      <td>Negative</td>\n",
       "      <td>A37235</td>\n",
       "      <td>HTMCP_125</td>\n",
       "      <td>Malignant</td>\n",
       "      <td>A37701</td>\n",
       "      <td>A56296</td>\n",
       "      <td>/projects/analysis/analysis22/A37235/merge_bwa...</td>\n",
       "      <td>/projects/analysis/analysis22/IX3432/C67GDANXX...</td>\n",
       "      <td>/projects/analysis/analysis22/A37235/merge_bwa...</td>\n",
       "      <td>NaN</td>\n",
       "      <td>...</td>\n",
       "      <td>NaN</td>\n",
       "      <td>70.0</td>\n",
       "      <td>70.0</td>\n",
       "      <td>/projects/somatic/NCI_SAIC_HIV_Cervical/HTMCP-...</td>\n",
       "      <td>/projects/NCI_validation2_assembly/NCI_SAIC_HI...</td>\n",
       "      <td>/projects/NCI_validation2_assembly/NCI_SAIC_HI...</td>\n",
       "      <td>/projects/NCI_validation2_assembly/NCI_SAIC_HI...</td>\n",
       "      <td>/projects/NCI_validation2_assembly/NCI_SAIC_HI...</td>\n",
       "      <td>/projects/NCI_validation2_assembly/NCI_SAIC_HI...</td>\n",
       "      <td>/projects/NCI_validation2_assembly/NCI_SAIC_HI...</td>\n",
       "    </tr>\n",
       "  </tbody>\n",
       "</table>\n",
       "<p>2 rows × 24 columns</p>\n",
       "</div>"
      ],
      "text/plain": [
       "                  HIV_status DNA_lib     source     status RNA_lib  \\\n",
       "patient                                                              \n",
       "HTMCP-03-06-02001   Positive  A37234  HTMCP_124  Malignant  A37700   \n",
       "HTMCP-03-06-02002   Negative  A37235  HTMCP_125  Malignant  A37701   \n",
       "\n",
       "                  ribodepleted_lib  \\\n",
       "patient                              \n",
       "HTMCP-03-06-02001           A56295   \n",
       "HTMCP-03-06-02002           A56296   \n",
       "\n",
       "                                                             DNA_bam  \\\n",
       "patient                                                                \n",
       "HTMCP-03-06-02001  /projects/analysis/analysis22/A37234/merge_bwa...   \n",
       "HTMCP-03-06-02002  /projects/analysis/analysis22/A37235/merge_bwa...   \n",
       "\n",
       "                                                             RNA_bam  \\\n",
       "patient                                                                \n",
       "HTMCP-03-06-02001  /projects/analysis/analysis22/IX3433/C67GDANXX...   \n",
       "HTMCP-03-06-02002  /projects/analysis/analysis22/IX3432/C67GDANXX...   \n",
       "\n",
       "                                                      DNA_single_vcf  \\\n",
       "patient                                                                \n",
       "HTMCP-03-06-02001  /projects/analysis/analysis22/A37234/merge_bwa...   \n",
       "HTMCP-03-06-02002  /projects/analysis/analysis22/A37235/merge_bwa...   \n",
       "\n",
       "                   paired_mpileup_vcf  \\\n",
       "patient                                 \n",
       "HTMCP-03-06-02001                 NaN   \n",
       "HTMCP-03-06-02002                 NaN   \n",
       "\n",
       "                                         ...                          \\\n",
       "patient                                  ...                           \n",
       "HTMCP-03-06-02001                        ...                           \n",
       "HTMCP-03-06-02002                        ...                           \n",
       "\n",
       "                  other_vcf DNA_tc RNA_tc  \\\n",
       "patient                                     \n",
       "HTMCP-03-06-02001       NaN   55.0   55.0   \n",
       "HTMCP-03-06-02002       NaN   70.0   70.0   \n",
       "\n",
       "                                                                 cnv  \\\n",
       "patient                                                                \n",
       "HTMCP-03-06-02001  /projects/somatic/NCI_SAIC_HIV_Cervical/HTMCP-...   \n",
       "HTMCP-03-06-02002  /projects/somatic/NCI_SAIC_HIV_Cervical/HTMCP-...   \n",
       "\n",
       "                                                   bbt_transcriptome  \\\n",
       "patient                                                                \n",
       "HTMCP-03-06-02001  /projects/NCI_validation2_assembly/NCI_SAIC_HI...   \n",
       "HTMCP-03-06-02002  /projects/NCI_validation2_assembly/NCI_SAIC_HI...   \n",
       "\n",
       "                                                          bbt_genome  \\\n",
       "patient                                                                \n",
       "HTMCP-03-06-02001  /projects/NCI_validation2_assembly/NCI_SAIC_HI...   \n",
       "HTMCP-03-06-02002  /projects/NCI_validation2_assembly/NCI_SAIC_HI...   \n",
       "\n",
       "                                   bbt_transcriptome_other_bacterial  \\\n",
       "patient                                                                \n",
       "HTMCP-03-06-02001  /projects/NCI_validation2_assembly/NCI_SAIC_HI...   \n",
       "HTMCP-03-06-02002  /projects/NCI_validation2_assembly/NCI_SAIC_HI...   \n",
       "\n",
       "                                          bbt_genome_other_bacterial  \\\n",
       "patient                                                                \n",
       "HTMCP-03-06-02001  /projects/NCI_validation2_assembly/NCI_SAIC_HI...   \n",
       "HTMCP-03-06-02002  /projects/NCI_validation2_assembly/NCI_SAIC_HI...   \n",
       "\n",
       "                                       bbt_transcriptome_other_viral  \\\n",
       "patient                                                                \n",
       "HTMCP-03-06-02001  /projects/NCI_validation2_assembly/NCI_SAIC_HI...   \n",
       "HTMCP-03-06-02002  /projects/NCI_validation2_assembly/NCI_SAIC_HI...   \n",
       "\n",
       "                                              bbt_genome_other_viral  \n",
       "patient                                                               \n",
       "HTMCP-03-06-02001  /projects/NCI_validation2_assembly/NCI_SAIC_HI...  \n",
       "HTMCP-03-06-02002  /projects/NCI_validation2_assembly/NCI_SAIC_HI...  \n",
       "\n",
       "[2 rows x 24 columns]"
      ]
     },
     "execution_count": 110,
     "metadata": {},
     "output_type": "execute_result"
    }
   ],
   "source": [
    "f1 = '/projects/trans_scratch/validations/workspace/szong/Cervical/variant_bwamem/124_patients/124_patients_bam_vcf.txt'\n",
    "df = pd.read_csv(f1, sep='\\t', index_col='patient')\n",
    "df.head(2)"
   ]
  },
  {
   "cell_type": "code",
   "execution_count": 111,
   "metadata": {},
   "outputs": [
    {
     "data": {
      "text/html": [
       "<div>\n",
       "<style scoped>\n",
       "    .dataframe tbody tr th:only-of-type {\n",
       "        vertical-align: middle;\n",
       "    }\n",
       "\n",
       "    .dataframe tbody tr th {\n",
       "        vertical-align: top;\n",
       "    }\n",
       "\n",
       "    .dataframe thead th {\n",
       "        text-align: right;\n",
       "    }\n",
       "</style>\n",
       "<table border=\"1\" class=\"dataframe\">\n",
       "  <thead>\n",
       "    <tr style=\"text-align: right;\">\n",
       "      <th></th>\n",
       "      <th>strelka_snv_vcf</th>\n",
       "      <th>strelka_indel_vcf</th>\n",
       "    </tr>\n",
       "    <tr>\n",
       "      <th>patient</th>\n",
       "      <th></th>\n",
       "      <th></th>\n",
       "    </tr>\n",
       "  </thead>\n",
       "  <tbody>\n",
       "    <tr>\n",
       "      <th>HTMCP-03-06-02001</th>\n",
       "      <td>/projects/somatic/NCI_SAIC_HIV_Cervical/HTMCP-...</td>\n",
       "      <td>/projects/somatic/NCI_SAIC_HIV_Cervical/HTMCP-...</td>\n",
       "    </tr>\n",
       "    <tr>\n",
       "      <th>HTMCP-03-06-02002</th>\n",
       "      <td>/projects/somatic/NCI_SAIC_HIV_Cervical/HTMCP-...</td>\n",
       "      <td>/projects/somatic/NCI_SAIC_HIV_Cervical/HTMCP-...</td>\n",
       "    </tr>\n",
       "  </tbody>\n",
       "</table>\n",
       "</div>"
      ],
      "text/plain": [
       "                                                     strelka_snv_vcf  \\\n",
       "patient                                                                \n",
       "HTMCP-03-06-02001  /projects/somatic/NCI_SAIC_HIV_Cervical/HTMCP-...   \n",
       "HTMCP-03-06-02002  /projects/somatic/NCI_SAIC_HIV_Cervical/HTMCP-...   \n",
       "\n",
       "                                                   strelka_indel_vcf  \n",
       "patient                                                               \n",
       "HTMCP-03-06-02001  /projects/somatic/NCI_SAIC_HIV_Cervical/HTMCP-...  \n",
       "HTMCP-03-06-02002  /projects/somatic/NCI_SAIC_HIV_Cervical/HTMCP-...  "
      ]
     },
     "execution_count": 111,
     "metadata": {},
     "output_type": "execute_result"
    }
   ],
   "source": [
    "ndf = df[['strelka_snv_vcf', 'strelka_indel_vcf']].dropna()\n",
    "ndf.head(2)"
   ]
  },
  {
   "cell_type": "code",
   "execution_count": 96,
   "metadata": {},
   "outputs": [
    {
     "data": {
      "text/plain": [
       "(124, 2)"
      ]
     },
     "execution_count": 96,
     "metadata": {},
     "output_type": "execute_result"
    }
   ],
   "source": [
    "ndf.shape"
   ]
  },
  {
   "cell_type": "code",
   "execution_count": 97,
   "metadata": {},
   "outputs": [],
   "source": [
    "ndf['snv_counts'] = ndf['strelka_snv_vcf'].apply(lambda x: file_len(x))\n",
    "ndf['indel_counts'] = ndf['strelka_indel_vcf'].apply(lambda x: file_len(x))\n",
    "ndf['snv_sns_counts'] = ndf['strelka_snv_vcf'].apply(lambda x: count_coding_mutations(x))\n",
    "ndf['indel_sns_counts'] = ndf['strelka_indel_vcf'].apply(lambda x: count_coding_mutations(x))\n",
    "ndf['snv_syno_counts'] = ndf['strelka_snv_vcf'].apply(lambda x: count_synonymous_mutations(x))\n",
    "ndf['indel_syno_counts'] = ndf['strelka_indel_vcf'].apply(lambda x: count_synonymous_mutations(x))"
   ]
  },
  {
   "cell_type": "code",
   "execution_count": 101,
   "metadata": {},
   "outputs": [
    {
     "data": {
      "text/html": [
       "<div>\n",
       "<style scoped>\n",
       "    .dataframe tbody tr th:only-of-type {\n",
       "        vertical-align: middle;\n",
       "    }\n",
       "\n",
       "    .dataframe tbody tr th {\n",
       "        vertical-align: top;\n",
       "    }\n",
       "\n",
       "    .dataframe thead th {\n",
       "        text-align: right;\n",
       "    }\n",
       "</style>\n",
       "<table border=\"1\" class=\"dataframe\">\n",
       "  <thead>\n",
       "    <tr style=\"text-align: right;\">\n",
       "      <th></th>\n",
       "      <th>snv_counts</th>\n",
       "      <th>indel_counts</th>\n",
       "      <th>snv_sns_counts</th>\n",
       "      <th>indel_sns_counts</th>\n",
       "      <th>snv_syno_counts</th>\n",
       "      <th>indel_syno_counts</th>\n",
       "      <th>strelka_mutations</th>\n",
       "      <th>strelka_coding_mutations</th>\n",
       "      <th>strelka_syno_mutations</th>\n",
       "      <th>strelka_nsyno_mutations</th>\n",
       "    </tr>\n",
       "    <tr>\n",
       "      <th>patient</th>\n",
       "      <th></th>\n",
       "      <th></th>\n",
       "      <th></th>\n",
       "      <th></th>\n",
       "      <th></th>\n",
       "      <th></th>\n",
       "      <th></th>\n",
       "      <th></th>\n",
       "      <th></th>\n",
       "      <th></th>\n",
       "    </tr>\n",
       "  </thead>\n",
       "  <tbody>\n",
       "    <tr>\n",
       "      <th>HTMCP-03-06-02001</th>\n",
       "      <td>25732</td>\n",
       "      <td>1242</td>\n",
       "      <td>329</td>\n",
       "      <td>11</td>\n",
       "      <td>102</td>\n",
       "      <td>0</td>\n",
       "      <td>26974</td>\n",
       "      <td>340</td>\n",
       "      <td>102</td>\n",
       "      <td>238</td>\n",
       "    </tr>\n",
       "    <tr>\n",
       "      <th>HTMCP-03-06-02002</th>\n",
       "      <td>15964</td>\n",
       "      <td>697</td>\n",
       "      <td>225</td>\n",
       "      <td>2</td>\n",
       "      <td>72</td>\n",
       "      <td>0</td>\n",
       "      <td>16661</td>\n",
       "      <td>227</td>\n",
       "      <td>72</td>\n",
       "      <td>155</td>\n",
       "    </tr>\n",
       "  </tbody>\n",
       "</table>\n",
       "</div>"
      ],
      "text/plain": [
       "                   snv_counts  indel_counts  snv_sns_counts  indel_sns_counts  \\\n",
       "patient                                                                         \n",
       "HTMCP-03-06-02001       25732          1242             329                11   \n",
       "HTMCP-03-06-02002       15964           697             225                 2   \n",
       "\n",
       "                   snv_syno_counts  indel_syno_counts  strelka_mutations  \\\n",
       "patient                                                                    \n",
       "HTMCP-03-06-02001              102                  0              26974   \n",
       "HTMCP-03-06-02002               72                  0              16661   \n",
       "\n",
       "                   strelka_coding_mutations  strelka_syno_mutations  \\\n",
       "patient                                                               \n",
       "HTMCP-03-06-02001                       340                     102   \n",
       "HTMCP-03-06-02002                       227                      72   \n",
       "\n",
       "                   strelka_nsyno_mutations  \n",
       "patient                                     \n",
       "HTMCP-03-06-02001                      238  \n",
       "HTMCP-03-06-02002                      155  "
      ]
     },
     "execution_count": 101,
     "metadata": {},
     "output_type": "execute_result"
    }
   ],
   "source": [
    "ndf['strelka_mutations'] = ndf.snv_counts + ndf.indel_counts\n",
    "ndf['strelka_coding_mutations'] = ndf.snv_sns_counts + ndf.indel_sns_counts\n",
    "ndf['strelka_syno_mutations'] = ndf.snv_syno_counts + ndf.indel_syno_counts\n",
    "ndf['strelka_nsyno_mutations'] = ndf['strelka_coding_mutations'] - ndf['strelka_syno_mutations']\n",
    "# ndf.drop(['strelka_snv_vcf', 'strelka_indel_vcf'], axis=1, inplace=True)\n",
    "\n",
    "ndf.head(2)"
   ]
  },
  {
   "cell_type": "code",
   "execution_count": 102,
   "metadata": {},
   "outputs": [],
   "source": [
    "of = '/projects/trans_scratch/validations/workspace/szong/Cervical/variant_bwamem/124_patients/124_patients_strelka_snvs_indels_counts.txt'\n",
    "ndf.to_csv(of)"
   ]
  },
  {
   "cell_type": "code",
   "execution_count": null,
   "metadata": {
    "collapsed": true
   },
   "outputs": [],
   "source": []
  },
  {
   "cell_type": "code",
   "execution_count": null,
   "metadata": {
    "collapsed": true
   },
   "outputs": [],
   "source": []
  },
  {
   "cell_type": "code",
   "execution_count": 106,
   "metadata": {},
   "outputs": [
    {
     "data": {
      "text/html": [
       "<div>\n",
       "<style scoped>\n",
       "    .dataframe tbody tr th:only-of-type {\n",
       "        vertical-align: middle;\n",
       "    }\n",
       "\n",
       "    .dataframe tbody tr th {\n",
       "        vertical-align: top;\n",
       "    }\n",
       "\n",
       "    .dataframe thead th {\n",
       "        text-align: right;\n",
       "    }\n",
       "</style>\n",
       "<table border=\"1\" class=\"dataframe\">\n",
       "  <thead>\n",
       "    <tr style=\"text-align: right;\">\n",
       "      <th></th>\n",
       "      <th>snv_counts</th>\n",
       "      <th>indel_counts</th>\n",
       "      <th>snv_sns_counts</th>\n",
       "      <th>indel_sns_counts</th>\n",
       "      <th>snv_syno_counts</th>\n",
       "      <th>indel_syno_counts</th>\n",
       "      <th>strelka_mutations</th>\n",
       "      <th>strelka_coding_mutations</th>\n",
       "      <th>strelka_syno_mutations</th>\n",
       "      <th>strelka_nsyno_mutations</th>\n",
       "    </tr>\n",
       "    <tr>\n",
       "      <th>patient</th>\n",
       "      <th></th>\n",
       "      <th></th>\n",
       "      <th></th>\n",
       "      <th></th>\n",
       "      <th></th>\n",
       "      <th></th>\n",
       "      <th></th>\n",
       "      <th></th>\n",
       "      <th></th>\n",
       "      <th></th>\n",
       "    </tr>\n",
       "  </thead>\n",
       "  <tbody>\n",
       "    <tr>\n",
       "      <th>HTMCP-03-06-02001</th>\n",
       "      <td>25732</td>\n",
       "      <td>1242</td>\n",
       "      <td>329</td>\n",
       "      <td>11</td>\n",
       "      <td>102</td>\n",
       "      <td>0</td>\n",
       "      <td>26974</td>\n",
       "      <td>340</td>\n",
       "      <td>102</td>\n",
       "      <td>238</td>\n",
       "    </tr>\n",
       "    <tr>\n",
       "      <th>HTMCP-03-06-02002</th>\n",
       "      <td>15964</td>\n",
       "      <td>697</td>\n",
       "      <td>225</td>\n",
       "      <td>2</td>\n",
       "      <td>72</td>\n",
       "      <td>0</td>\n",
       "      <td>16661</td>\n",
       "      <td>227</td>\n",
       "      <td>72</td>\n",
       "      <td>155</td>\n",
       "    </tr>\n",
       "  </tbody>\n",
       "</table>\n",
       "</div>"
      ],
      "text/plain": [
       "                   snv_counts  indel_counts  snv_sns_counts  indel_sns_counts  \\\n",
       "patient                                                                         \n",
       "HTMCP-03-06-02001       25732          1242             329                11   \n",
       "HTMCP-03-06-02002       15964           697             225                 2   \n",
       "\n",
       "                   snv_syno_counts  indel_syno_counts  strelka_mutations  \\\n",
       "patient                                                                    \n",
       "HTMCP-03-06-02001              102                  0              26974   \n",
       "HTMCP-03-06-02002               72                  0              16661   \n",
       "\n",
       "                   strelka_coding_mutations  strelka_syno_mutations  \\\n",
       "patient                                                               \n",
       "HTMCP-03-06-02001                       340                     102   \n",
       "HTMCP-03-06-02002                       227                      72   \n",
       "\n",
       "                   strelka_nsyno_mutations  \n",
       "patient                                     \n",
       "HTMCP-03-06-02001                      238  \n",
       "HTMCP-03-06-02002                      155  "
      ]
     },
     "execution_count": 106,
     "metadata": {},
     "output_type": "execute_result"
    }
   ],
   "source": [
    "of = '/projects/trans_scratch/validations/workspace/szong/Cervical/variant_bwamem/124_patients/124_patients_strelka_snvs_indels_counts.txt'\n",
    "df_strelka = pd.read_csv(of, index_col='patient')\n",
    "df_strelka.head(2)"
   ]
  },
  {
   "cell_type": "code",
   "execution_count": 107,
   "metadata": {},
   "outputs": [
    {
     "data": {
      "text/plain": [
       "snv_counts                  3002\n",
       "indel_counts                   1\n",
       "snv_sns_counts                30\n",
       "indel_sns_counts               0\n",
       "snv_syno_counts               10\n",
       "indel_syno_counts              0\n",
       "strelka_mutations           3033\n",
       "strelka_coding_mutations      30\n",
       "strelka_syno_mutations        10\n",
       "strelka_nsyno_mutations       20\n",
       "dtype: int64"
      ]
     },
     "execution_count": 107,
     "metadata": {},
     "output_type": "execute_result"
    }
   ],
   "source": [
    "df_strelka.min()"
   ]
  },
  {
   "cell_type": "code",
   "execution_count": 108,
   "metadata": {},
   "outputs": [],
   "source": [
    "# df_strelka['log10_snv'] = np.log10(df_strelka.snv +1)\n",
    "df_strelka['log10_all_mutations'] = np.log10(df_strelka['strelka_mutations'])\n",
    "df_strelka['log10_coding_mutations'] = np.log10(df_strelka['strelka_coding_mutations'])"
   ]
  },
  {
   "cell_type": "code",
   "execution_count": 109,
   "metadata": {},
   "outputs": [],
   "source": [
    "df_strelka = df_strelka.query('patient != \"HTMCP-03-06-02061\"')\n",
    "assert ('HTMCP-03-06-02061' in df_strelka.index) == False"
   ]
  },
  {
   "cell_type": "code",
   "execution_count": 110,
   "metadata": {},
   "outputs": [
    {
     "data": {
      "text/html": [
       "<div>\n",
       "<style scoped>\n",
       "    .dataframe tbody tr th:only-of-type {\n",
       "        vertical-align: middle;\n",
       "    }\n",
       "\n",
       "    .dataframe tbody tr th {\n",
       "        vertical-align: top;\n",
       "    }\n",
       "\n",
       "    .dataframe thead th {\n",
       "        text-align: right;\n",
       "    }\n",
       "</style>\n",
       "<table border=\"1\" class=\"dataframe\">\n",
       "  <thead>\n",
       "    <tr style=\"text-align: right;\">\n",
       "      <th></th>\n",
       "      <th>snv_counts</th>\n",
       "      <th>indel_counts</th>\n",
       "      <th>snv_sns_counts</th>\n",
       "      <th>indel_sns_counts</th>\n",
       "      <th>snv_syno_counts</th>\n",
       "      <th>indel_syno_counts</th>\n",
       "      <th>strelka_mutations</th>\n",
       "      <th>strelka_coding_mutations</th>\n",
       "      <th>strelka_syno_mutations</th>\n",
       "      <th>strelka_nsyno_mutations</th>\n",
       "      <th>log10_all_mutations</th>\n",
       "      <th>log10_coding_mutations</th>\n",
       "    </tr>\n",
       "    <tr>\n",
       "      <th>patient</th>\n",
       "      <th></th>\n",
       "      <th></th>\n",
       "      <th></th>\n",
       "      <th></th>\n",
       "      <th></th>\n",
       "      <th></th>\n",
       "      <th></th>\n",
       "      <th></th>\n",
       "      <th></th>\n",
       "      <th></th>\n",
       "      <th></th>\n",
       "      <th></th>\n",
       "    </tr>\n",
       "  </thead>\n",
       "  <tbody>\n",
       "    <tr>\n",
       "      <th>HTMCP-03-06-02001</th>\n",
       "      <td>25732</td>\n",
       "      <td>1242</td>\n",
       "      <td>329</td>\n",
       "      <td>11</td>\n",
       "      <td>102</td>\n",
       "      <td>0</td>\n",
       "      <td>26974</td>\n",
       "      <td>340</td>\n",
       "      <td>102</td>\n",
       "      <td>238</td>\n",
       "      <td>4.430945</td>\n",
       "      <td>2.531479</td>\n",
       "    </tr>\n",
       "    <tr>\n",
       "      <th>HTMCP-03-06-02002</th>\n",
       "      <td>15964</td>\n",
       "      <td>697</td>\n",
       "      <td>225</td>\n",
       "      <td>2</td>\n",
       "      <td>72</td>\n",
       "      <td>0</td>\n",
       "      <td>16661</td>\n",
       "      <td>227</td>\n",
       "      <td>72</td>\n",
       "      <td>155</td>\n",
       "      <td>4.221701</td>\n",
       "      <td>2.356026</td>\n",
       "    </tr>\n",
       "  </tbody>\n",
       "</table>\n",
       "</div>"
      ],
      "text/plain": [
       "                   snv_counts  indel_counts  snv_sns_counts  indel_sns_counts  \\\n",
       "patient                                                                         \n",
       "HTMCP-03-06-02001       25732          1242             329                11   \n",
       "HTMCP-03-06-02002       15964           697             225                 2   \n",
       "\n",
       "                   snv_syno_counts  indel_syno_counts  strelka_mutations  \\\n",
       "patient                                                                    \n",
       "HTMCP-03-06-02001              102                  0              26974   \n",
       "HTMCP-03-06-02002               72                  0              16661   \n",
       "\n",
       "                   strelka_coding_mutations  strelka_syno_mutations  \\\n",
       "patient                                                               \n",
       "HTMCP-03-06-02001                       340                     102   \n",
       "HTMCP-03-06-02002                       227                      72   \n",
       "\n",
       "                   strelka_nsyno_mutations  log10_all_mutations  \\\n",
       "patient                                                           \n",
       "HTMCP-03-06-02001                      238             4.430945   \n",
       "HTMCP-03-06-02002                      155             4.221701   \n",
       "\n",
       "                   log10_coding_mutations  \n",
       "patient                                    \n",
       "HTMCP-03-06-02001                2.531479  \n",
       "HTMCP-03-06-02002                2.356026  "
      ]
     },
     "execution_count": 110,
     "metadata": {},
     "output_type": "execute_result"
    }
   ],
   "source": [
    "df_strelka.head(2)"
   ]
  },
  {
   "cell_type": "code",
   "execution_count": 111,
   "metadata": {},
   "outputs": [
    {
     "data": {
      "text/html": [
       "<div>\n",
       "<style scoped>\n",
       "    .dataframe tbody tr th:only-of-type {\n",
       "        vertical-align: middle;\n",
       "    }\n",
       "\n",
       "    .dataframe tbody tr th {\n",
       "        vertical-align: top;\n",
       "    }\n",
       "\n",
       "    .dataframe thead th {\n",
       "        text-align: right;\n",
       "    }\n",
       "</style>\n",
       "<table border=\"1\" class=\"dataframe\">\n",
       "  <thead>\n",
       "    <tr style=\"text-align: right;\">\n",
       "      <th></th>\n",
       "      <th>reanne_HIV_status</th>\n",
       "      <th>HPV_status</th>\n",
       "      <th>Clinical_histology</th>\n",
       "      <th>reanne_Putative_histology</th>\n",
       "      <th>comments</th>\n",
       "    </tr>\n",
       "    <tr>\n",
       "      <th>patient</th>\n",
       "      <th></th>\n",
       "      <th></th>\n",
       "      <th></th>\n",
       "      <th></th>\n",
       "      <th></th>\n",
       "    </tr>\n",
       "  </thead>\n",
       "  <tbody>\n",
       "    <tr>\n",
       "      <th>HTMCP-03-06-02001</th>\n",
       "      <td>Positive</td>\n",
       "      <td>Positive</td>\n",
       "      <td>Squamous Non-Keratinizing</td>\n",
       "      <td>Squamous</td>\n",
       "      <td>NaN</td>\n",
       "    </tr>\n",
       "    <tr>\n",
       "      <th>HTMCP-03-06-02002</th>\n",
       "      <td>Negative</td>\n",
       "      <td>Positive</td>\n",
       "      <td>Squamous Non-Keratinizing</td>\n",
       "      <td>Squamous</td>\n",
       "      <td>NaN</td>\n",
       "    </tr>\n",
       "  </tbody>\n",
       "</table>\n",
       "</div>"
      ],
      "text/plain": [
       "                  reanne_HIV_status HPV_status         Clinical_histology  \\\n",
       "patient                                                                     \n",
       "HTMCP-03-06-02001          Positive   Positive  Squamous Non-Keratinizing   \n",
       "HTMCP-03-06-02002          Negative   Positive  Squamous Non-Keratinizing   \n",
       "\n",
       "                  reanne_Putative_histology comments  \n",
       "patient                                               \n",
       "HTMCP-03-06-02001                  Squamous      NaN  \n",
       "HTMCP-03-06-02002                  Squamous      NaN  "
      ]
     },
     "execution_count": 111,
     "metadata": {},
     "output_type": "execute_result"
    }
   ],
   "source": [
    "# fixed histology\n",
    "f2 = '/projects/trans_scratch/validations/workspace/szong/Cervical/HIV_cervical_analysis_master_tables_20171206.xls'\n",
    "df2 = pd.read_excel(f2, shee_tname='meta', index_col='patient')\n",
    "df2.head(2)"
   ]
  },
  {
   "cell_type": "code",
   "execution_count": 112,
   "metadata": {},
   "outputs": [
    {
     "data": {
      "text/html": [
       "<div>\n",
       "<style scoped>\n",
       "    .dataframe tbody tr th:only-of-type {\n",
       "        vertical-align: middle;\n",
       "    }\n",
       "\n",
       "    .dataframe tbody tr th {\n",
       "        vertical-align: top;\n",
       "    }\n",
       "\n",
       "    .dataframe thead th {\n",
       "        text-align: right;\n",
       "    }\n",
       "</style>\n",
       "<table border=\"1\" class=\"dataframe\">\n",
       "  <thead>\n",
       "    <tr style=\"text-align: right;\">\n",
       "      <th></th>\n",
       "      <th>age_at_diagnosis</th>\n",
       "      <th>tumor_grade</th>\n",
       "      <th>ajcc_tumor_clinical_ct</th>\n",
       "      <th>clinical_stage</th>\n",
       "      <th>cd4_counts_at_diagnosis</th>\n",
       "      <th>hiv_rna_load_at_diagnosis</th>\n",
       "      <th>birth_days_to</th>\n",
       "      <th>menopause_status</th>\n",
       "      <th>height_cm_at_diagnosis</th>\n",
       "      <th>weight_kg_at_diagnosis</th>\n",
       "      <th>...</th>\n",
       "      <th>ecog_score</th>\n",
       "      <th>nadir_cd4_counts</th>\n",
       "      <th>cd4_counts_at_diagnosis.1</th>\n",
       "      <th>hiv_rna_load_at_diagnosis.1</th>\n",
       "      <th>histologic_diagnosis</th>\n",
       "      <th>haart_therapy_prior_to_dx</th>\n",
       "      <th>haart_therapy_at_dx</th>\n",
       "      <th>keratinization_squamous_cell</th>\n",
       "      <th>days_to_hiv_diagnosis</th>\n",
       "      <th>patient_id</th>\n",
       "    </tr>\n",
       "    <tr>\n",
       "      <th>bcr_patient_barcode</th>\n",
       "      <th></th>\n",
       "      <th></th>\n",
       "      <th></th>\n",
       "      <th></th>\n",
       "      <th></th>\n",
       "      <th></th>\n",
       "      <th></th>\n",
       "      <th></th>\n",
       "      <th></th>\n",
       "      <th></th>\n",
       "      <th></th>\n",
       "      <th></th>\n",
       "      <th></th>\n",
       "      <th></th>\n",
       "      <th></th>\n",
       "      <th></th>\n",
       "      <th></th>\n",
       "      <th></th>\n",
       "      <th></th>\n",
       "      <th></th>\n",
       "      <th></th>\n",
       "    </tr>\n",
       "  </thead>\n",
       "  <tbody>\n",
       "    <tr>\n",
       "      <th>HTMCP-03-06-02001</th>\n",
       "      <td>56.0</td>\n",
       "      <td>G2</td>\n",
       "      <td>T2b</td>\n",
       "      <td>Stage IIB</td>\n",
       "      <td>337.0</td>\n",
       "      <td>34.0</td>\n",
       "      <td>NaN</td>\n",
       "      <td>Post (prior bilateral ovariectomy OR &gt;12 mo si...</td>\n",
       "      <td>158.0</td>\n",
       "      <td>44.5</td>\n",
       "      <td>...</td>\n",
       "      <td>1</td>\n",
       "      <td>NaN</td>\n",
       "      <td>337.0</td>\n",
       "      <td>34.0</td>\n",
       "      <td>Squamous Cell Carcinoma; Non-Keratinizing</td>\n",
       "      <td>YES</td>\n",
       "      <td>YES</td>\n",
       "      <td>Non-keratinizing squamous cell carcinoma</td>\n",
       "      <td>NaN</td>\n",
       "      <td>2001</td>\n",
       "    </tr>\n",
       "    <tr>\n",
       "      <th>HTMCP-03-06-02002</th>\n",
       "      <td>62.0</td>\n",
       "      <td>G3</td>\n",
       "      <td>T1b1</td>\n",
       "      <td>Stage IB1</td>\n",
       "      <td>NaN</td>\n",
       "      <td>NaN</td>\n",
       "      <td>-22934.0</td>\n",
       "      <td>Post (prior bilateral ovariectomy OR &gt;12 mo si...</td>\n",
       "      <td>159.0</td>\n",
       "      <td>70.2</td>\n",
       "      <td>...</td>\n",
       "      <td>0</td>\n",
       "      <td>NaN</td>\n",
       "      <td>NaN</td>\n",
       "      <td>NaN</td>\n",
       "      <td>Squamous Cell Carcinoma; Non-Keratinizing</td>\n",
       "      <td>NaN</td>\n",
       "      <td>NaN</td>\n",
       "      <td>Non-keratinizing squamous cell carcinoma</td>\n",
       "      <td>NaN</td>\n",
       "      <td>2002</td>\n",
       "    </tr>\n",
       "  </tbody>\n",
       "</table>\n",
       "<p>2 rows × 27 columns</p>\n",
       "</div>"
      ],
      "text/plain": [
       "                     age_at_diagnosis tumor_grade ajcc_tumor_clinical_ct  \\\n",
       "bcr_patient_barcode                                                        \n",
       "HTMCP-03-06-02001                56.0          G2                    T2b   \n",
       "HTMCP-03-06-02002                62.0          G3                   T1b1   \n",
       "\n",
       "                    clinical_stage  cd4_counts_at_diagnosis  \\\n",
       "bcr_patient_barcode                                           \n",
       "HTMCP-03-06-02001        Stage IIB                    337.0   \n",
       "HTMCP-03-06-02002        Stage IB1                      NaN   \n",
       "\n",
       "                     hiv_rna_load_at_diagnosis  birth_days_to  \\\n",
       "bcr_patient_barcode                                             \n",
       "HTMCP-03-06-02001                         34.0            NaN   \n",
       "HTMCP-03-06-02002                          NaN       -22934.0   \n",
       "\n",
       "                                                      menopause_status  \\\n",
       "bcr_patient_barcode                                                      \n",
       "HTMCP-03-06-02001    Post (prior bilateral ovariectomy OR >12 mo si...   \n",
       "HTMCP-03-06-02002    Post (prior bilateral ovariectomy OR >12 mo si...   \n",
       "\n",
       "                     height_cm_at_diagnosis  weight_kg_at_diagnosis  \\\n",
       "bcr_patient_barcode                                                   \n",
       "HTMCP-03-06-02001                     158.0                    44.5   \n",
       "HTMCP-03-06-02002                     159.0                    70.2   \n",
       "\n",
       "                        ...     ecog_score  nadir_cd4_counts  \\\n",
       "bcr_patient_barcode     ...                                    \n",
       "HTMCP-03-06-02001       ...              1               NaN   \n",
       "HTMCP-03-06-02002       ...              0               NaN   \n",
       "\n",
       "                     cd4_counts_at_diagnosis.1  hiv_rna_load_at_diagnosis.1  \\\n",
       "bcr_patient_barcode                                                           \n",
       "HTMCP-03-06-02001                        337.0                         34.0   \n",
       "HTMCP-03-06-02002                          NaN                          NaN   \n",
       "\n",
       "                                          histologic_diagnosis  \\\n",
       "bcr_patient_barcode                                              \n",
       "HTMCP-03-06-02001    Squamous Cell Carcinoma; Non-Keratinizing   \n",
       "HTMCP-03-06-02002    Squamous Cell Carcinoma; Non-Keratinizing   \n",
       "\n",
       "                     haart_therapy_prior_to_dx  haart_therapy_at_dx  \\\n",
       "bcr_patient_barcode                                                   \n",
       "HTMCP-03-06-02001                          YES                  YES   \n",
       "HTMCP-03-06-02002                          NaN                  NaN   \n",
       "\n",
       "                                 keratinization_squamous_cell  \\\n",
       "bcr_patient_barcode                                             \n",
       "HTMCP-03-06-02001    Non-keratinizing squamous cell carcinoma   \n",
       "HTMCP-03-06-02002    Non-keratinizing squamous cell carcinoma   \n",
       "\n",
       "                     days_to_hiv_diagnosis  patient_id  \n",
       "bcr_patient_barcode                                     \n",
       "HTMCP-03-06-02001                      NaN        2001  \n",
       "HTMCP-03-06-02002                      NaN        2002  \n",
       "\n",
       "[2 rows x 27 columns]"
      ]
     },
     "execution_count": 112,
     "metadata": {},
     "output_type": "execute_result"
    }
   ],
   "source": [
    "f3 = '/projects/trans_scratch/validations/workspace/szong/Cervical/variant_bwamem/124_patients/clinic_data_extracted.txt'\n",
    "df3 = pd.read_csv(f3, sep='\\t', index_col='bcr_patient_barcode')\n",
    "df3.head(2)"
   ]
  },
  {
   "cell_type": "markdown",
   "metadata": {},
   "source": [
    "merge mutation and clinical data"
   ]
  },
  {
   "cell_type": "code",
   "execution_count": 113,
   "metadata": {},
   "outputs": [
    {
     "data": {
      "text/html": [
       "<div>\n",
       "<style scoped>\n",
       "    .dataframe tbody tr th:only-of-type {\n",
       "        vertical-align: middle;\n",
       "    }\n",
       "\n",
       "    .dataframe tbody tr th {\n",
       "        vertical-align: top;\n",
       "    }\n",
       "\n",
       "    .dataframe thead th {\n",
       "        text-align: right;\n",
       "    }\n",
       "</style>\n",
       "<table border=\"1\" class=\"dataframe\">\n",
       "  <thead>\n",
       "    <tr style=\"text-align: right;\">\n",
       "      <th></th>\n",
       "      <th>snv_counts</th>\n",
       "      <th>indel_counts</th>\n",
       "      <th>snv_sns_counts</th>\n",
       "      <th>indel_sns_counts</th>\n",
       "      <th>snv_syno_counts</th>\n",
       "      <th>indel_syno_counts</th>\n",
       "      <th>strelka_mutations</th>\n",
       "      <th>strelka_coding_mutations</th>\n",
       "      <th>strelka_syno_mutations</th>\n",
       "      <th>strelka_nsyno_mutations</th>\n",
       "      <th>log10_all_mutations</th>\n",
       "      <th>log10_coding_mutations</th>\n",
       "      <th>reanne_HIV_status</th>\n",
       "      <th>HPV_status</th>\n",
       "      <th>Clinical_histology</th>\n",
       "      <th>reanne_Putative_histology</th>\n",
       "      <th>comments</th>\n",
       "    </tr>\n",
       "    <tr>\n",
       "      <th>patient</th>\n",
       "      <th></th>\n",
       "      <th></th>\n",
       "      <th></th>\n",
       "      <th></th>\n",
       "      <th></th>\n",
       "      <th></th>\n",
       "      <th></th>\n",
       "      <th></th>\n",
       "      <th></th>\n",
       "      <th></th>\n",
       "      <th></th>\n",
       "      <th></th>\n",
       "      <th></th>\n",
       "      <th></th>\n",
       "      <th></th>\n",
       "      <th></th>\n",
       "      <th></th>\n",
       "    </tr>\n",
       "  </thead>\n",
       "  <tbody>\n",
       "    <tr>\n",
       "      <th>HTMCP-03-06-02001</th>\n",
       "      <td>25732</td>\n",
       "      <td>1242</td>\n",
       "      <td>329</td>\n",
       "      <td>11</td>\n",
       "      <td>102</td>\n",
       "      <td>0</td>\n",
       "      <td>26974</td>\n",
       "      <td>340</td>\n",
       "      <td>102</td>\n",
       "      <td>238</td>\n",
       "      <td>4.430945</td>\n",
       "      <td>2.531479</td>\n",
       "      <td>Positive</td>\n",
       "      <td>Positive</td>\n",
       "      <td>Squamous Non-Keratinizing</td>\n",
       "      <td>Squamous</td>\n",
       "      <td>NaN</td>\n",
       "    </tr>\n",
       "    <tr>\n",
       "      <th>HTMCP-03-06-02002</th>\n",
       "      <td>15964</td>\n",
       "      <td>697</td>\n",
       "      <td>225</td>\n",
       "      <td>2</td>\n",
       "      <td>72</td>\n",
       "      <td>0</td>\n",
       "      <td>16661</td>\n",
       "      <td>227</td>\n",
       "      <td>72</td>\n",
       "      <td>155</td>\n",
       "      <td>4.221701</td>\n",
       "      <td>2.356026</td>\n",
       "      <td>Negative</td>\n",
       "      <td>Positive</td>\n",
       "      <td>Squamous Non-Keratinizing</td>\n",
       "      <td>Squamous</td>\n",
       "      <td>NaN</td>\n",
       "    </tr>\n",
       "  </tbody>\n",
       "</table>\n",
       "</div>"
      ],
      "text/plain": [
       "                   snv_counts  indel_counts  snv_sns_counts  indel_sns_counts  \\\n",
       "patient                                                                         \n",
       "HTMCP-03-06-02001       25732          1242             329                11   \n",
       "HTMCP-03-06-02002       15964           697             225                 2   \n",
       "\n",
       "                   snv_syno_counts  indel_syno_counts  strelka_mutations  \\\n",
       "patient                                                                    \n",
       "HTMCP-03-06-02001              102                  0              26974   \n",
       "HTMCP-03-06-02002               72                  0              16661   \n",
       "\n",
       "                   strelka_coding_mutations  strelka_syno_mutations  \\\n",
       "patient                                                               \n",
       "HTMCP-03-06-02001                       340                     102   \n",
       "HTMCP-03-06-02002                       227                      72   \n",
       "\n",
       "                   strelka_nsyno_mutations  log10_all_mutations  \\\n",
       "patient                                                           \n",
       "HTMCP-03-06-02001                      238             4.430945   \n",
       "HTMCP-03-06-02002                      155             4.221701   \n",
       "\n",
       "                   log10_coding_mutations reanne_HIV_status HPV_status  \\\n",
       "patient                                                                  \n",
       "HTMCP-03-06-02001                2.531479          Positive   Positive   \n",
       "HTMCP-03-06-02002                2.356026          Negative   Positive   \n",
       "\n",
       "                          Clinical_histology reanne_Putative_histology  \\\n",
       "patient                                                                  \n",
       "HTMCP-03-06-02001  Squamous Non-Keratinizing                  Squamous   \n",
       "HTMCP-03-06-02002  Squamous Non-Keratinizing                  Squamous   \n",
       "\n",
       "                  comments  \n",
       "patient                     \n",
       "HTMCP-03-06-02001      NaN  \n",
       "HTMCP-03-06-02002      NaN  "
      ]
     },
     "execution_count": 113,
     "metadata": {},
     "output_type": "execute_result"
    }
   ],
   "source": [
    "dfm = pd.merge(df_strelka, df2, left_index=True, right_index=True)\n",
    "dfm.head(2)"
   ]
  },
  {
   "cell_type": "code",
   "execution_count": 114,
   "metadata": {},
   "outputs": [],
   "source": [
    "non_dup_cols = df3.columns.difference(dfm.columns)"
   ]
  },
  {
   "cell_type": "code",
   "execution_count": 115,
   "metadata": {},
   "outputs": [
    {
     "data": {
      "text/plain": [
       "Index(['age_at_diagnosis', 'ajcc_tumor_clinical_ct', 'birth_days_to',\n",
       "       'cd4_counts_at_diagnosis', 'cd4_counts_at_diagnosis.1',\n",
       "       'clinical_stage', 'days_to_hiv_diagnosis', 'ecog_score',\n",
       "       'haart_therapy_at_dx', 'haart_therapy_prior_to_dx',\n",
       "       'height_cm_at_diagnosis', 'histologic_diagnosis',\n",
       "       'history_hormonal_contraceptives_use', 'hiv_rna_load_at_diagnosis',\n",
       "       'hiv_rna_load_at_diagnosis.1', 'karnofsky_score',\n",
       "       'keratinization_squamous_cell', 'live_birth_pregnancy_count',\n",
       "       'menopause_status', 'nadir_cd4_counts', 'patient_id',\n",
       "       'pregnancies_count_induced_abortion', 'pregnancies_count_miscarriage',\n",
       "       'tobacco_smoking_history_indicator', 'total_pregnancy_count',\n",
       "       'tumor_grade', 'weight_kg_at_diagnosis'],\n",
       "      dtype='object')"
      ]
     },
     "execution_count": 115,
     "metadata": {},
     "output_type": "execute_result"
    }
   ],
   "source": [
    "non_dup_cols"
   ]
  },
  {
   "cell_type": "code",
   "execution_count": 116,
   "metadata": {},
   "outputs": [],
   "source": [
    "dfm = pd.merge(dfm, df3[non_dup_cols], left_index=True, right_index=True, how='left')"
   ]
  },
  {
   "cell_type": "code",
   "execution_count": 117,
   "metadata": {},
   "outputs": [
    {
     "data": {
      "text/plain": [
       "(123, 44)"
      ]
     },
     "execution_count": 117,
     "metadata": {},
     "output_type": "execute_result"
    }
   ],
   "source": [
    "dfm.shape"
   ]
  },
  {
   "cell_type": "code",
   "execution_count": 118,
   "metadata": {},
   "outputs": [
    {
     "data": {
      "text/html": [
       "<div>\n",
       "<style scoped>\n",
       "    .dataframe tbody tr th:only-of-type {\n",
       "        vertical-align: middle;\n",
       "    }\n",
       "\n",
       "    .dataframe tbody tr th {\n",
       "        vertical-align: top;\n",
       "    }\n",
       "\n",
       "    .dataframe thead th {\n",
       "        text-align: right;\n",
       "    }\n",
       "</style>\n",
       "<table border=\"1\" class=\"dataframe\">\n",
       "  <thead>\n",
       "    <tr style=\"text-align: right;\">\n",
       "      <th></th>\n",
       "      <th>snv_counts</th>\n",
       "      <th>indel_counts</th>\n",
       "      <th>snv_sns_counts</th>\n",
       "      <th>indel_sns_counts</th>\n",
       "      <th>snv_syno_counts</th>\n",
       "      <th>indel_syno_counts</th>\n",
       "      <th>strelka_mutations</th>\n",
       "      <th>strelka_coding_mutations</th>\n",
       "      <th>strelka_syno_mutations</th>\n",
       "      <th>strelka_nsyno_mutations</th>\n",
       "      <th>...</th>\n",
       "      <th>live_birth_pregnancy_count</th>\n",
       "      <th>menopause_status</th>\n",
       "      <th>nadir_cd4_counts</th>\n",
       "      <th>patient_id</th>\n",
       "      <th>pregnancies_count_induced_abortion</th>\n",
       "      <th>pregnancies_count_miscarriage</th>\n",
       "      <th>tobacco_smoking_history_indicator</th>\n",
       "      <th>total_pregnancy_count</th>\n",
       "      <th>tumor_grade</th>\n",
       "      <th>weight_kg_at_diagnosis</th>\n",
       "    </tr>\n",
       "    <tr>\n",
       "      <th>patient</th>\n",
       "      <th></th>\n",
       "      <th></th>\n",
       "      <th></th>\n",
       "      <th></th>\n",
       "      <th></th>\n",
       "      <th></th>\n",
       "      <th></th>\n",
       "      <th></th>\n",
       "      <th></th>\n",
       "      <th></th>\n",
       "      <th></th>\n",
       "      <th></th>\n",
       "      <th></th>\n",
       "      <th></th>\n",
       "      <th></th>\n",
       "      <th></th>\n",
       "      <th></th>\n",
       "      <th></th>\n",
       "      <th></th>\n",
       "      <th></th>\n",
       "      <th></th>\n",
       "    </tr>\n",
       "  </thead>\n",
       "  <tbody>\n",
       "    <tr>\n",
       "      <th>HTMCP-03-06-02001</th>\n",
       "      <td>25732</td>\n",
       "      <td>1242</td>\n",
       "      <td>329</td>\n",
       "      <td>11</td>\n",
       "      <td>102</td>\n",
       "      <td>0</td>\n",
       "      <td>26974</td>\n",
       "      <td>340</td>\n",
       "      <td>102</td>\n",
       "      <td>238</td>\n",
       "      <td>...</td>\n",
       "      <td>5.0</td>\n",
       "      <td>Post (prior bilateral ovariectomy OR &gt;12 mo si...</td>\n",
       "      <td>NaN</td>\n",
       "      <td>2001.0</td>\n",
       "      <td>NaN</td>\n",
       "      <td>1.0</td>\n",
       "      <td>1.0</td>\n",
       "      <td>6.0</td>\n",
       "      <td>G2</td>\n",
       "      <td>44.5</td>\n",
       "    </tr>\n",
       "    <tr>\n",
       "      <th>HTMCP-03-06-02002</th>\n",
       "      <td>15964</td>\n",
       "      <td>697</td>\n",
       "      <td>225</td>\n",
       "      <td>2</td>\n",
       "      <td>72</td>\n",
       "      <td>0</td>\n",
       "      <td>16661</td>\n",
       "      <td>227</td>\n",
       "      <td>72</td>\n",
       "      <td>155</td>\n",
       "      <td>...</td>\n",
       "      <td>8.0</td>\n",
       "      <td>Post (prior bilateral ovariectomy OR &gt;12 mo si...</td>\n",
       "      <td>NaN</td>\n",
       "      <td>2002.0</td>\n",
       "      <td>3.0</td>\n",
       "      <td>NaN</td>\n",
       "      <td>1.0</td>\n",
       "      <td>11.0</td>\n",
       "      <td>G3</td>\n",
       "      <td>70.2</td>\n",
       "    </tr>\n",
       "    <tr>\n",
       "      <th>HTMCP-03-06-02003</th>\n",
       "      <td>7914</td>\n",
       "      <td>483</td>\n",
       "      <td>89</td>\n",
       "      <td>3</td>\n",
       "      <td>29</td>\n",
       "      <td>0</td>\n",
       "      <td>8397</td>\n",
       "      <td>92</td>\n",
       "      <td>29</td>\n",
       "      <td>63</td>\n",
       "      <td>...</td>\n",
       "      <td>4.0</td>\n",
       "      <td>Pre (&lt;6 months since LMP AND no prior bilatera...</td>\n",
       "      <td>NaN</td>\n",
       "      <td>2003.0</td>\n",
       "      <td>NaN</td>\n",
       "      <td>NaN</td>\n",
       "      <td>1.0</td>\n",
       "      <td>5.0</td>\n",
       "      <td>G2</td>\n",
       "      <td>56.2</td>\n",
       "    </tr>\n",
       "  </tbody>\n",
       "</table>\n",
       "<p>3 rows × 44 columns</p>\n",
       "</div>"
      ],
      "text/plain": [
       "                   snv_counts  indel_counts  snv_sns_counts  indel_sns_counts  \\\n",
       "patient                                                                         \n",
       "HTMCP-03-06-02001       25732          1242             329                11   \n",
       "HTMCP-03-06-02002       15964           697             225                 2   \n",
       "HTMCP-03-06-02003        7914           483              89                 3   \n",
       "\n",
       "                   snv_syno_counts  indel_syno_counts  strelka_mutations  \\\n",
       "patient                                                                    \n",
       "HTMCP-03-06-02001              102                  0              26974   \n",
       "HTMCP-03-06-02002               72                  0              16661   \n",
       "HTMCP-03-06-02003               29                  0               8397   \n",
       "\n",
       "                   strelka_coding_mutations  strelka_syno_mutations  \\\n",
       "patient                                                               \n",
       "HTMCP-03-06-02001                       340                     102   \n",
       "HTMCP-03-06-02002                       227                      72   \n",
       "HTMCP-03-06-02003                        92                      29   \n",
       "\n",
       "                   strelka_nsyno_mutations           ...            \\\n",
       "patient                                              ...             \n",
       "HTMCP-03-06-02001                      238           ...             \n",
       "HTMCP-03-06-02002                      155           ...             \n",
       "HTMCP-03-06-02003                       63           ...             \n",
       "\n",
       "                   live_birth_pregnancy_count  \\\n",
       "patient                                         \n",
       "HTMCP-03-06-02001                         5.0   \n",
       "HTMCP-03-06-02002                         8.0   \n",
       "HTMCP-03-06-02003                         4.0   \n",
       "\n",
       "                                                    menopause_status  \\\n",
       "patient                                                                \n",
       "HTMCP-03-06-02001  Post (prior bilateral ovariectomy OR >12 mo si...   \n",
       "HTMCP-03-06-02002  Post (prior bilateral ovariectomy OR >12 mo si...   \n",
       "HTMCP-03-06-02003  Pre (<6 months since LMP AND no prior bilatera...   \n",
       "\n",
       "                  nadir_cd4_counts patient_id  \\\n",
       "patient                                         \n",
       "HTMCP-03-06-02001              NaN     2001.0   \n",
       "HTMCP-03-06-02002              NaN     2002.0   \n",
       "HTMCP-03-06-02003              NaN     2003.0   \n",
       "\n",
       "                  pregnancies_count_induced_abortion  \\\n",
       "patient                                                \n",
       "HTMCP-03-06-02001                                NaN   \n",
       "HTMCP-03-06-02002                                3.0   \n",
       "HTMCP-03-06-02003                                NaN   \n",
       "\n",
       "                  pregnancies_count_miscarriage  \\\n",
       "patient                                           \n",
       "HTMCP-03-06-02001                           1.0   \n",
       "HTMCP-03-06-02002                           NaN   \n",
       "HTMCP-03-06-02003                           NaN   \n",
       "\n",
       "                  tobacco_smoking_history_indicator  total_pregnancy_count  \\\n",
       "patient                                                                      \n",
       "HTMCP-03-06-02001                               1.0                    6.0   \n",
       "HTMCP-03-06-02002                               1.0                   11.0   \n",
       "HTMCP-03-06-02003                               1.0                    5.0   \n",
       "\n",
       "                  tumor_grade  weight_kg_at_diagnosis  \n",
       "patient                                                \n",
       "HTMCP-03-06-02001          G2                    44.5  \n",
       "HTMCP-03-06-02002          G3                    70.2  \n",
       "HTMCP-03-06-02003          G2                    56.2  \n",
       "\n",
       "[3 rows x 44 columns]"
      ]
     },
     "execution_count": 118,
     "metadata": {},
     "output_type": "execute_result"
    }
   ],
   "source": [
    "dfm.head(3)"
   ]
  },
  {
   "cell_type": "code",
   "execution_count": 119,
   "metadata": {},
   "outputs": [
    {
     "data": {
      "text/plain": [
       "(30, 44)"
      ]
     },
     "execution_count": 119,
     "metadata": {},
     "output_type": "execute_result"
    }
   ],
   "source": [
    "dfm[dfm.age_at_diagnosis.isnull()].shape"
   ]
  },
  {
   "cell_type": "code",
   "execution_count": 120,
   "metadata": {
    "scrolled": true
   },
   "outputs": [
    {
     "data": {
      "text/plain": [
       "Positive    74\n",
       "Negative    49\n",
       "Name: reanne_HIV_status, dtype: int64"
      ]
     },
     "execution_count": 120,
     "metadata": {},
     "output_type": "execute_result"
    }
   ],
   "source": [
    "dfm['reanne_HIV_status'].value_counts()"
   ]
  },
  {
   "cell_type": "code",
   "execution_count": null,
   "metadata": {},
   "outputs": [],
   "source": []
  },
  {
   "cell_type": "code",
   "execution_count": 121,
   "metadata": {},
   "outputs": [
    {
     "data": {
      "text/plain": [
       "Squamous    102\n",
       "Adeno        21\n",
       "Name: reanne_Putative_histology, dtype: int64"
      ]
     },
     "execution_count": 121,
     "metadata": {},
     "output_type": "execute_result"
    }
   ],
   "source": [
    "dfm['reanne_Putative_histology'].value_counts()"
   ]
  },
  {
   "cell_type": "code",
   "execution_count": 122,
   "metadata": {},
   "outputs": [],
   "source": [
    "# colors = ['red' if i==\"Positive\" else 'blue' for i in dfm['HIV_status']]\n",
    "# dfm.plot('log10_snv', 'log10_indel', kind='scatter', c=colors)"
   ]
  },
  {
   "cell_type": "code",
   "execution_count": 123,
   "metadata": {},
   "outputs": [
    {
     "data": {
      "text/html": [
       "<div>\n",
       "<style scoped>\n",
       "    .dataframe tbody tr th:only-of-type {\n",
       "        vertical-align: middle;\n",
       "    }\n",
       "\n",
       "    .dataframe tbody tr th {\n",
       "        vertical-align: top;\n",
       "    }\n",
       "\n",
       "    .dataframe thead th {\n",
       "        text-align: right;\n",
       "    }\n",
       "</style>\n",
       "<table border=\"1\" class=\"dataframe\">\n",
       "  <thead>\n",
       "    <tr style=\"text-align: right;\">\n",
       "      <th></th>\n",
       "      <th>snv_counts</th>\n",
       "      <th>indel_counts</th>\n",
       "      <th>snv_sns_counts</th>\n",
       "      <th>indel_sns_counts</th>\n",
       "      <th>snv_syno_counts</th>\n",
       "      <th>indel_syno_counts</th>\n",
       "      <th>strelka_mutations</th>\n",
       "      <th>strelka_coding_mutations</th>\n",
       "      <th>strelka_syno_mutations</th>\n",
       "      <th>strelka_nsyno_mutations</th>\n",
       "      <th>...</th>\n",
       "      <th>live_birth_pregnancy_count</th>\n",
       "      <th>menopause_status</th>\n",
       "      <th>nadir_cd4_counts</th>\n",
       "      <th>patient_id</th>\n",
       "      <th>pregnancies_count_induced_abortion</th>\n",
       "      <th>pregnancies_count_miscarriage</th>\n",
       "      <th>tobacco_smoking_history_indicator</th>\n",
       "      <th>total_pregnancy_count</th>\n",
       "      <th>tumor_grade</th>\n",
       "      <th>weight_kg_at_diagnosis</th>\n",
       "    </tr>\n",
       "    <tr>\n",
       "      <th>patient</th>\n",
       "      <th></th>\n",
       "      <th></th>\n",
       "      <th></th>\n",
       "      <th></th>\n",
       "      <th></th>\n",
       "      <th></th>\n",
       "      <th></th>\n",
       "      <th></th>\n",
       "      <th></th>\n",
       "      <th></th>\n",
       "      <th></th>\n",
       "      <th></th>\n",
       "      <th></th>\n",
       "      <th></th>\n",
       "      <th></th>\n",
       "      <th></th>\n",
       "      <th></th>\n",
       "      <th></th>\n",
       "      <th></th>\n",
       "      <th></th>\n",
       "      <th></th>\n",
       "    </tr>\n",
       "  </thead>\n",
       "  <tbody>\n",
       "    <tr>\n",
       "      <th>HTMCP-03-06-02001</th>\n",
       "      <td>25732</td>\n",
       "      <td>1242</td>\n",
       "      <td>329</td>\n",
       "      <td>11</td>\n",
       "      <td>102</td>\n",
       "      <td>0</td>\n",
       "      <td>26974</td>\n",
       "      <td>340</td>\n",
       "      <td>102</td>\n",
       "      <td>238</td>\n",
       "      <td>...</td>\n",
       "      <td>5.0</td>\n",
       "      <td>Post (prior bilateral ovariectomy OR &gt;12 mo si...</td>\n",
       "      <td>NaN</td>\n",
       "      <td>2001.0</td>\n",
       "      <td>NaN</td>\n",
       "      <td>1.0</td>\n",
       "      <td>1.0</td>\n",
       "      <td>6.0</td>\n",
       "      <td>G2</td>\n",
       "      <td>44.5</td>\n",
       "    </tr>\n",
       "    <tr>\n",
       "      <th>HTMCP-03-06-02002</th>\n",
       "      <td>15964</td>\n",
       "      <td>697</td>\n",
       "      <td>225</td>\n",
       "      <td>2</td>\n",
       "      <td>72</td>\n",
       "      <td>0</td>\n",
       "      <td>16661</td>\n",
       "      <td>227</td>\n",
       "      <td>72</td>\n",
       "      <td>155</td>\n",
       "      <td>...</td>\n",
       "      <td>8.0</td>\n",
       "      <td>Post (prior bilateral ovariectomy OR &gt;12 mo si...</td>\n",
       "      <td>NaN</td>\n",
       "      <td>2002.0</td>\n",
       "      <td>3.0</td>\n",
       "      <td>NaN</td>\n",
       "      <td>1.0</td>\n",
       "      <td>11.0</td>\n",
       "      <td>G3</td>\n",
       "      <td>70.2</td>\n",
       "    </tr>\n",
       "  </tbody>\n",
       "</table>\n",
       "<p>2 rows × 44 columns</p>\n",
       "</div>"
      ],
      "text/plain": [
       "                   snv_counts  indel_counts  snv_sns_counts  indel_sns_counts  \\\n",
       "patient                                                                         \n",
       "HTMCP-03-06-02001       25732          1242             329                11   \n",
       "HTMCP-03-06-02002       15964           697             225                 2   \n",
       "\n",
       "                   snv_syno_counts  indel_syno_counts  strelka_mutations  \\\n",
       "patient                                                                    \n",
       "HTMCP-03-06-02001              102                  0              26974   \n",
       "HTMCP-03-06-02002               72                  0              16661   \n",
       "\n",
       "                   strelka_coding_mutations  strelka_syno_mutations  \\\n",
       "patient                                                               \n",
       "HTMCP-03-06-02001                       340                     102   \n",
       "HTMCP-03-06-02002                       227                      72   \n",
       "\n",
       "                   strelka_nsyno_mutations           ...            \\\n",
       "patient                                              ...             \n",
       "HTMCP-03-06-02001                      238           ...             \n",
       "HTMCP-03-06-02002                      155           ...             \n",
       "\n",
       "                   live_birth_pregnancy_count  \\\n",
       "patient                                         \n",
       "HTMCP-03-06-02001                         5.0   \n",
       "HTMCP-03-06-02002                         8.0   \n",
       "\n",
       "                                                    menopause_status  \\\n",
       "patient                                                                \n",
       "HTMCP-03-06-02001  Post (prior bilateral ovariectomy OR >12 mo si...   \n",
       "HTMCP-03-06-02002  Post (prior bilateral ovariectomy OR >12 mo si...   \n",
       "\n",
       "                  nadir_cd4_counts patient_id  \\\n",
       "patient                                         \n",
       "HTMCP-03-06-02001              NaN     2001.0   \n",
       "HTMCP-03-06-02002              NaN     2002.0   \n",
       "\n",
       "                  pregnancies_count_induced_abortion  \\\n",
       "patient                                                \n",
       "HTMCP-03-06-02001                                NaN   \n",
       "HTMCP-03-06-02002                                3.0   \n",
       "\n",
       "                  pregnancies_count_miscarriage  \\\n",
       "patient                                           \n",
       "HTMCP-03-06-02001                           1.0   \n",
       "HTMCP-03-06-02002                           NaN   \n",
       "\n",
       "                  tobacco_smoking_history_indicator  total_pregnancy_count  \\\n",
       "patient                                                                      \n",
       "HTMCP-03-06-02001                               1.0                    6.0   \n",
       "HTMCP-03-06-02002                               1.0                   11.0   \n",
       "\n",
       "                  tumor_grade  weight_kg_at_diagnosis  \n",
       "patient                                                \n",
       "HTMCP-03-06-02001          G2                    44.5  \n",
       "HTMCP-03-06-02002          G3                    70.2  \n",
       "\n",
       "[2 rows x 44 columns]"
      ]
     },
     "execution_count": 123,
     "metadata": {},
     "output_type": "execute_result"
    }
   ],
   "source": [
    "dfm.head(2)"
   ]
  },
  {
   "cell_type": "code",
   "execution_count": 124,
   "metadata": {},
   "outputs": [],
   "source": [
    "of2 = '/projects/trans_scratch/validations/workspace/szong/Cervical/variant_bwamem/124_patients/mutation_load_clinic.txt'\n",
    "dfm.to_csv(of2, sep='\\t')"
   ]
  },
  {
   "cell_type": "code",
   "execution_count": 27,
   "metadata": {
    "collapsed": true
   },
   "outputs": [],
   "source": [
    "\n",
    "dfm = dfm[dfm.age_at_diagnosis.notnull()]"
   ]
  },
  {
   "cell_type": "code",
   "execution_count": 28,
   "metadata": {},
   "outputs": [
    {
     "data": {
      "text/html": [
       "<div>\n",
       "<style>\n",
       "    .dataframe thead tr:only-child th {\n",
       "        text-align: right;\n",
       "    }\n",
       "\n",
       "    .dataframe thead th {\n",
       "        text-align: left;\n",
       "    }\n",
       "\n",
       "    .dataframe tbody tr th {\n",
       "        vertical-align: top;\n",
       "    }\n",
       "</style>\n",
       "<table border=\"1\" class=\"dataframe\">\n",
       "  <thead>\n",
       "    <tr style=\"text-align: right;\">\n",
       "      <th></th>\n",
       "      <th>snv_counts</th>\n",
       "      <th>indel_counts</th>\n",
       "      <th>strelka_mutations</th>\n",
       "      <th>log10_sum</th>\n",
       "      <th>reanne_HIV_status</th>\n",
       "      <th>HPV_status</th>\n",
       "      <th>Clinical_histology</th>\n",
       "      <th>reanne_Putative_histology</th>\n",
       "      <th>comments</th>\n",
       "      <th>age_at_diagnosis</th>\n",
       "      <th>...</th>\n",
       "      <th>live_birth_pregnancy_count</th>\n",
       "      <th>menopause_status</th>\n",
       "      <th>nadir_cd4_counts</th>\n",
       "      <th>patient_id</th>\n",
       "      <th>pregnancies_count_induced_abortion</th>\n",
       "      <th>pregnancies_count_miscarriage</th>\n",
       "      <th>tobacco_smoking_history_indicator</th>\n",
       "      <th>total_pregnancy_count</th>\n",
       "      <th>tumor_grade</th>\n",
       "      <th>weight_kg_at_diagnosis</th>\n",
       "    </tr>\n",
       "    <tr>\n",
       "      <th>patient</th>\n",
       "      <th></th>\n",
       "      <th></th>\n",
       "      <th></th>\n",
       "      <th></th>\n",
       "      <th></th>\n",
       "      <th></th>\n",
       "      <th></th>\n",
       "      <th></th>\n",
       "      <th></th>\n",
       "      <th></th>\n",
       "      <th></th>\n",
       "      <th></th>\n",
       "      <th></th>\n",
       "      <th></th>\n",
       "      <th></th>\n",
       "      <th></th>\n",
       "      <th></th>\n",
       "      <th></th>\n",
       "      <th></th>\n",
       "      <th></th>\n",
       "      <th></th>\n",
       "    </tr>\n",
       "  </thead>\n",
       "  <tbody>\n",
       "  </tbody>\n",
       "</table>\n",
       "<p>0 rows × 36 columns</p>\n",
       "</div>"
      ],
      "text/plain": [
       "Empty DataFrame\n",
       "Columns: [snv_counts, indel_counts, strelka_mutations, log10_sum, reanne_HIV_status, HPV_status, Clinical_histology, reanne_Putative_histology, comments, age_at_diagnosis, ajcc_tumor_clinical_ct, birth_days_to, cd4_counts_at_diagnosis, cd4_counts_at_diagnosis.1, clinical_stage, days_to_hiv_diagnosis, ecog_score, haart_therapy_at_dx, haart_therapy_prior_to_dx, height_cm_at_diagnosis, histologic_diagnosis, history_hormonal_contraceptives_use, hiv_rna_load_at_diagnosis, hiv_rna_load_at_diagnosis.1, karnofsky_score, keratinization_squamous_cell, live_birth_pregnancy_count, menopause_status, nadir_cd4_counts, patient_id, pregnancies_count_induced_abortion, pregnancies_count_miscarriage, tobacco_smoking_history_indicator, total_pregnancy_count, tumor_grade, weight_kg_at_diagnosis]\n",
       "Index: []\n",
       "\n",
       "[0 rows x 36 columns]"
      ]
     },
     "execution_count": 28,
     "metadata": {},
     "output_type": "execute_result"
    }
   ],
   "source": [
    "dfm[dfm.age_at_diagnosis.isnull()]"
   ]
  },
  {
   "cell_type": "code",
   "execution_count": 29,
   "metadata": {
    "collapsed": true
   },
   "outputs": [],
   "source": [
    "# drop outliers to see if this results in better box plot and /or mann whiteney u test results (nonparametric test, should not matter)\n",
    "# result still significant p=0.030, intead of p= 0.007\n",
    "# dfm.drop(['HTMCP-03-06-02026', 'HTMCP-03-06-02007', 'HTMCP-03-06-02261', 'HTMCP-03-06-02262'], inplace=True)"
   ]
  },
  {
   "cell_type": "markdown",
   "metadata": {},
   "source": [
    "different mutation burden in HIV + and - patients"
   ]
  },
  {
   "cell_type": "code",
   "execution_count": 9,
   "metadata": {},
   "outputs": [
    {
     "data": {
      "text/plain": [
       "False"
      ]
     },
     "execution_count": 9,
     "metadata": {},
     "output_type": "execute_result"
    }
   ],
   "source": [
    "f =  '/projects/trans_scratch/validations/workspace/szong/Cervical/variant_bwamem/124_patients/mutation_load_clinic.txt'\n",
    "df = pd.read_csv(f, index_col='patient', sep='\\t')\n",
    "df.head(2)\n",
    "\n",
    "df.tmp = df.reanne_HIV_status.apply(lambda x: '+' if x == 'Positive' else '-')\n",
    "\n",
    "assert (df.tmp.value_counts() == pd.Series({'+':74, '-':49})).all()\n",
    "\n",
    "df['combo'] = df.reanne_Putative_histology + df.tmp\n",
    "\n",
    "'tmp' in df.columns"
   ]
  },
  {
   "cell_type": "code",
   "execution_count": 11,
   "metadata": {},
   "outputs": [
    {
     "data": {
      "text/html": [
       "<div>\n",
       "<style>\n",
       "    .dataframe thead tr:only-child th {\n",
       "        text-align: right;\n",
       "    }\n",
       "\n",
       "    .dataframe thead th {\n",
       "        text-align: left;\n",
       "    }\n",
       "\n",
       "    .dataframe tbody tr th {\n",
       "        vertical-align: top;\n",
       "    }\n",
       "</style>\n",
       "<table border=\"1\" class=\"dataframe\">\n",
       "  <thead>\n",
       "    <tr style=\"text-align: right;\">\n",
       "      <th></th>\n",
       "      <th>snv_counts</th>\n",
       "      <th>indel_counts</th>\n",
       "      <th>strelka_mutations</th>\n",
       "      <th>log10_sum</th>\n",
       "      <th>reanne_HIV_status</th>\n",
       "      <th>HPV_status</th>\n",
       "      <th>Clinical_histology</th>\n",
       "      <th>reanne_Putative_histology</th>\n",
       "      <th>comments</th>\n",
       "      <th>age_at_diagnosis</th>\n",
       "      <th>...</th>\n",
       "      <th>menopause_status</th>\n",
       "      <th>nadir_cd4_counts</th>\n",
       "      <th>patient_id</th>\n",
       "      <th>pregnancies_count_induced_abortion</th>\n",
       "      <th>pregnancies_count_miscarriage</th>\n",
       "      <th>tobacco_smoking_history_indicator</th>\n",
       "      <th>total_pregnancy_count</th>\n",
       "      <th>tumor_grade</th>\n",
       "      <th>weight_kg_at_diagnosis</th>\n",
       "      <th>combo</th>\n",
       "    </tr>\n",
       "    <tr>\n",
       "      <th>patient</th>\n",
       "      <th></th>\n",
       "      <th></th>\n",
       "      <th></th>\n",
       "      <th></th>\n",
       "      <th></th>\n",
       "      <th></th>\n",
       "      <th></th>\n",
       "      <th></th>\n",
       "      <th></th>\n",
       "      <th></th>\n",
       "      <th></th>\n",
       "      <th></th>\n",
       "      <th></th>\n",
       "      <th></th>\n",
       "      <th></th>\n",
       "      <th></th>\n",
       "      <th></th>\n",
       "      <th></th>\n",
       "      <th></th>\n",
       "      <th></th>\n",
       "      <th></th>\n",
       "    </tr>\n",
       "  </thead>\n",
       "  <tbody>\n",
       "    <tr>\n",
       "      <th>HTMCP-03-06-02001</th>\n",
       "      <td>25732</td>\n",
       "      <td>1242</td>\n",
       "      <td>26974</td>\n",
       "      <td>4.430945</td>\n",
       "      <td>Positive</td>\n",
       "      <td>Positive</td>\n",
       "      <td>Squamous Non-Keratinizing</td>\n",
       "      <td>Squamous</td>\n",
       "      <td>NaN</td>\n",
       "      <td>56</td>\n",
       "      <td>...</td>\n",
       "      <td>Post (prior bilateral ovariectomy OR &gt;12 mo si...</td>\n",
       "      <td>[Not Available]</td>\n",
       "      <td>2001.0</td>\n",
       "      <td>[Not Available]</td>\n",
       "      <td>1</td>\n",
       "      <td>1</td>\n",
       "      <td>6.0</td>\n",
       "      <td>G2</td>\n",
       "      <td>44.5</td>\n",
       "      <td>Squamous+</td>\n",
       "    </tr>\n",
       "    <tr>\n",
       "      <th>HTMCP-03-06-02002</th>\n",
       "      <td>15964</td>\n",
       "      <td>697</td>\n",
       "      <td>16661</td>\n",
       "      <td>4.221701</td>\n",
       "      <td>Negative</td>\n",
       "      <td>Positive</td>\n",
       "      <td>Squamous Non-Keratinizing</td>\n",
       "      <td>Squamous</td>\n",
       "      <td>NaN</td>\n",
       "      <td>62</td>\n",
       "      <td>...</td>\n",
       "      <td>Post (prior bilateral ovariectomy OR &gt;12 mo si...</td>\n",
       "      <td>[Not Available]</td>\n",
       "      <td>2002.0</td>\n",
       "      <td>3</td>\n",
       "      <td>[Not Available]</td>\n",
       "      <td>1</td>\n",
       "      <td>11.0</td>\n",
       "      <td>G3</td>\n",
       "      <td>70.2</td>\n",
       "      <td>Squamous-</td>\n",
       "    </tr>\n",
       "  </tbody>\n",
       "</table>\n",
       "<p>2 rows × 37 columns</p>\n",
       "</div>"
      ],
      "text/plain": [
       "                   snv_counts  indel_counts  strelka_mutations  log10_sum  \\\n",
       "patient                                                                     \n",
       "HTMCP-03-06-02001       25732          1242              26974   4.430945   \n",
       "HTMCP-03-06-02002       15964           697              16661   4.221701   \n",
       "\n",
       "                  reanne_HIV_status HPV_status         Clinical_histology  \\\n",
       "patient                                                                     \n",
       "HTMCP-03-06-02001          Positive   Positive  Squamous Non-Keratinizing   \n",
       "HTMCP-03-06-02002          Negative   Positive  Squamous Non-Keratinizing   \n",
       "\n",
       "                  reanne_Putative_histology comments age_at_diagnosis  \\\n",
       "patient                                                                 \n",
       "HTMCP-03-06-02001                  Squamous      NaN               56   \n",
       "HTMCP-03-06-02002                  Squamous      NaN               62   \n",
       "\n",
       "                     ...      \\\n",
       "patient              ...       \n",
       "HTMCP-03-06-02001    ...       \n",
       "HTMCP-03-06-02002    ...       \n",
       "\n",
       "                                                    menopause_status  \\\n",
       "patient                                                                \n",
       "HTMCP-03-06-02001  Post (prior bilateral ovariectomy OR >12 mo si...   \n",
       "HTMCP-03-06-02002  Post (prior bilateral ovariectomy OR >12 mo si...   \n",
       "\n",
       "                  nadir_cd4_counts patient_id  \\\n",
       "patient                                         \n",
       "HTMCP-03-06-02001  [Not Available]     2001.0   \n",
       "HTMCP-03-06-02002  [Not Available]     2002.0   \n",
       "\n",
       "                  pregnancies_count_induced_abortion  \\\n",
       "patient                                                \n",
       "HTMCP-03-06-02001                    [Not Available]   \n",
       "HTMCP-03-06-02002                                  3   \n",
       "\n",
       "                  pregnancies_count_miscarriage  \\\n",
       "patient                                           \n",
       "HTMCP-03-06-02001                             1   \n",
       "HTMCP-03-06-02002               [Not Available]   \n",
       "\n",
       "                  tobacco_smoking_history_indicator total_pregnancy_count  \\\n",
       "patient                                                                     \n",
       "HTMCP-03-06-02001                                 1                   6.0   \n",
       "HTMCP-03-06-02002                                 1                  11.0   \n",
       "\n",
       "                  tumor_grade weight_kg_at_diagnosis      combo  \n",
       "patient                                                          \n",
       "HTMCP-03-06-02001          G2                   44.5  Squamous+  \n",
       "HTMCP-03-06-02002          G3                   70.2  Squamous-  \n",
       "\n",
       "[2 rows x 37 columns]"
      ]
     },
     "execution_count": 11,
     "metadata": {},
     "output_type": "execute_result"
    }
   ],
   "source": [
    "df.head(2)"
   ]
  },
  {
   "cell_type": "code",
   "execution_count": 10,
   "metadata": {},
   "outputs": [
    {
     "data": {
      "text/plain": [
       "Index(['snv_counts', 'indel_counts', 'strelka_mutations', 'log10_sum',\n",
       "       'reanne_HIV_status', 'HPV_status', 'Clinical_histology',\n",
       "       'reanne_Putative_histology', 'comments', 'age_at_diagnosis',\n",
       "       'ajcc_tumor_clinical_ct', 'birth_days_to', 'cd4_counts_at_diagnosis',\n",
       "       'cd4_counts_at_diagnosis.1', 'clinical_stage', 'days_to_hiv_diagnosis',\n",
       "       'ecog_score', 'haart_therapy_at_dx', 'haart_therapy_prior_to_dx',\n",
       "       'height_cm_at_diagnosis', 'histologic_diagnosis',\n",
       "       'history_hormonal_contraceptives_use', 'hiv_rna_load_at_diagnosis',\n",
       "       'hiv_rna_load_at_diagnosis.1', 'karnofsky_score',\n",
       "       'keratinization_squamous_cell', 'live_birth_pregnancy_count',\n",
       "       'menopause_status', 'nadir_cd4_counts', 'patient_id',\n",
       "       'pregnancies_count_induced_abortion', 'pregnancies_count_miscarriage',\n",
       "       'tobacco_smoking_history_indicator', 'total_pregnancy_count',\n",
       "       'tumor_grade', 'weight_kg_at_diagnosis', 'combo'],\n",
       "      dtype='object')"
      ]
     },
     "execution_count": 10,
     "metadata": {},
     "output_type": "execute_result"
    }
   ],
   "source": [
    "df.columns"
   ]
  },
  {
   "cell_type": "code",
   "execution_count": 34,
   "metadata": {
    "collapsed": true
   },
   "outputs": [],
   "source": [
    "group_cols = ['reanne_HIV_status', 'reanne_Putative_histology', 'combo']\n",
    "value_col = 'strelka_mutations'\n",
    "titles = ['HIV status', 'putative histology', 'histology + HIV status']"
   ]
  },
  {
   "cell_type": "code",
   "execution_count": 49,
   "metadata": {},
   "outputs": [
    {
     "name": "stderr",
     "output_type": "stream",
     "text": [
      "/home/szong/anaconda3/lib/python3.6/site-packages/matplotlib/font_manager.py:1297: UserWarning: findfont: Font family ['sans-serif'] not found. Falling back to DejaVu Sans\n",
      "  (prop.get_family(), self.defaultFamily[fontext]))\n"
     ]
    },
    {
     "data": {
      "image/png": "[encoded data removed]",
      "text/plain": [
       "<matplotlib.figure.Figure at 0x7f37f1393898>"
      ]
     },
     "metadata": {},
     "output_type": "display_data"
    }
   ],
   "source": [
    "\n",
    "# gene = 'SF3B1'\n",
    "# boxplot overlaps individual data point\n",
    "with plt.style.context(\"seaborn-whitegrid\"):\n",
    "    plt.rcParams[\"axes.edgecolor\"] = \"0.15\"\n",
    "    plt.rcParams[\"axes.linewidth\"]  = 1.25\n",
    "    fig = plt.figure(facecolor='w', figsize=(15,9))\n",
    "\n",
    "    gs = gridspec.GridSpec(int(len(group_cols)/3.0)+1, 3)\n",
    "    p_values = {}\n",
    "    for k, col in enumerate(group_cols):\n",
    "#         titles = group_cols[k]\n",
    "        group_col = col\n",
    "        categories = sorted(df[group_col].unique().tolist(), reverse=True) \n",
    "#         print(k, col)\n",
    "        ax = fig.add_subplot(gs[k])\n",
    "        _ = ax.set_yscale(\"log\")\n",
    "       \n",
    "        _ = sns.swarmplot(x=group_col, y=value_col, data=df, edgecolor=\"black\", linewidth=.9)\n",
    "        _ = sns.boxplot(x=group_col, y=value_col, data=df, saturation=1, ax=ax)\n",
    "\n",
    "        grps = {}\n",
    "        # overlay actuall data point\n",
    "        for i, cat in enumerate(categories):\n",
    "            grps[i] = df.query('{0} == \"{1}\"'.format(group_col, cat))[value_col]\n",
    "\n",
    "        if len(categories) == 2:\n",
    "            # statistical test for 1st grp\n",
    "            sts, p = ss.mannwhitneyu(grps[0], grps[1], use_continuity=True, alternative=None)\n",
    "            p = round(p, 4)\n",
    "            _ = ax.text(0.4 , 0.90,'p={}'.format(p), ha='center', va='center', transform=ax.transAxes, size=14)\n",
    "        elif len(categories) == 4:\n",
    "            # statistical test for 1st grp\n",
    "            for i in [0, 2]:\n",
    "                sts, p = ss.mannwhitneyu(grps[i], grps[i+1], use_continuity=True, alternative=None)\n",
    "                p = round(p, 4)\n",
    "                _ = ax.text(0.3 + i*.2 , 0.90,'p={}'.format(p), ha='center', va='center', transform=ax.transAxes, size=14)\n",
    "            \n",
    "#         ax.tick_params(axis='x', labelsize=18) #specify x tick label size\n",
    "#         _ = ax.set_xticks(range(position+1))\n",
    "#         _ = ax.set_xticklabels(categories, rotation=0)\n",
    "        _ = ax.set_title('{}'.format(titles[k]), fontsize=12)\n",
    "#         _ = ax.set_xlim(xmin=-0.5)\n",
    "#         _= ax.set_ylabel('spicing events', fontsize=12)\n",
    "        ax.set_xlabel('')\n",
    "        ax.set_ylabel('log(strelka mutations)')\n",
    "        ax.grid(True)\n",
    "\n",
    "#     plt.suptitle('', fontsize=14)       \n",
    "    of = '/projects/trans_scratch/validations/workspace/szong/Cervical/variant_bwamem/124_patients/mutation_load.png'\n",
    "    plt.savefig(of, dpi=200, box_inches='tight')\n",
    "plt.show()\n",
    "plt.close()"
   ]
  },
  {
   "cell_type": "code",
   "execution_count": 44,
   "metadata": {},
   "outputs": [
    {
     "data": {
      "text/plain": [
       "range(2, 1)"
      ]
     },
     "execution_count": 44,
     "metadata": {},
     "output_type": "execute_result"
    }
   ],
   "source": []
  },
  {
   "cell_type": "code",
   "execution_count": 12,
   "metadata": {
    "scrolled": true
   },
   "outputs": [
    {
     "data": {
      "image/png": "[encoded data removed]",
      "text/plain": [
       "<matplotlib.figure.Figure at 0x7f37f7c16780>"
      ]
     },
     "metadata": {},
     "output_type": "display_data"
    }
   ],
   "source": [
    "# boxplot\n",
    "with plt.style.context(\"seaborn-whitegrid\"):\n",
    "    plt.rcParams[\"axes.edgecolor\"] = \"0.15\"\n",
    "    plt.rcParams[\"axes.linewidth\"]  = 1.25\n",
    "    fig = plt.figure(facecolor='w', figsize=(16,6))\n",
    "    \n",
    "    x1 = 'reanne_HIV_status'\n",
    "    x2 = 'combo'\n",
    "    x3 = 'reanne_Putative_histology'\n",
    "    y = 'log10_sum'\n",
    "    ax1 = plt.subplot(131)\n",
    "    ax1.set_yscale(\"log\")\n",
    "    sns.swarmplot(x1, y, data=df)\n",
    "    sns.boxplot(x1, y, data=df)\n",
    "    ax1.set_title(\"somatic mutations (Strelka calls)\")\n",
    "    ax1.set(xlabel='HIV_status')\n",
    "    \n",
    "    ax2 = plt.subplot(132)\n",
    "    ax2.set_yscale(\"log\")\n",
    "    sns.swarmplot(x2, y, data=df)\n",
    "    sns.boxplot(x2, y, data=df)\n",
    "    plt.xticks(rotation=60)\n",
    "    ax2.set(xlabel='HIV_status')\n",
    "    ax2.set_title(\"somatic mutations (Strelka calls)\")\n",
    "    \n",
    "    ax3 = plt.subplot(133)\n",
    "    ax3.set_yscale(\"log\")\n",
    "    sns.swarmplot(x3, y, data=df)\n",
    "    sns.boxplot(x3, y, data=df)\n",
    "    ax3.set(xlabel='HIV_status')\n",
    "    ax3.set_title(\"somatic mutations (Strelka calls)\")\n",
    "    ax3.grid(True)\n",
    "    of = '/projects/trans_scratch/validations/workspace/szong/Cervical/variant_bwamem/124_patients/mutations_load_HIV_plots.png'    \n",
    "    plt.savefig(of)\n",
    "    plt.show()\n",
    "    plt.close()"
   ]
  },
  {
   "cell_type": "code",
   "execution_count": null,
   "metadata": {
    "collapsed": true
   },
   "outputs": [],
   "source": []
  },
  {
   "cell_type": "code",
   "execution_count": null,
   "metadata": {
    "collapsed": true
   },
   "outputs": [],
   "source": []
  },
  {
   "cell_type": "code",
   "execution_count": null,
   "metadata": {
    "collapsed": true
   },
   "outputs": [],
   "source": []
  },
  {
   "cell_type": "code",
   "execution_count": null,
   "metadata": {
    "collapsed": true
   },
   "outputs": [],
   "source": []
  },
  {
   "cell_type": "markdown",
   "metadata": {},
   "source": [
    "# below are outdated"
   ]
  },
  {
   "cell_type": "code",
   "execution_count": 37,
   "metadata": {},
   "outputs": [
    {
     "name": "stdout",
     "output_type": "stream",
     "text": [
      "0 0 is 0.1039964486558819\n",
      "0 1 is 0.248274809376615\n"
     ]
    },
    {
     "name": "stderr",
     "output_type": "stream",
     "text": [
      "/home/szong/anaconda3/lib/python3.6/site-packages/matplotlib/font_manager.py:1297: UserWarning: findfont: Font family ['sans-serif'] not found. Falling back to DejaVu Sans\n",
      "  (prop.get_family(), self.defaultFamily[fontext]))\n"
     ]
    },
    {
     "data": {
      "image/png": "[encoded data removed]",
      "text/plain": [
       "<matplotlib.figure.Figure at 0x7f22a9e6bdd8>"
      ]
     },
     "metadata": {},
     "output_type": "display_data"
    },
    {
     "data": {
      "image/png": "[encoded data removed]",
      "text/plain": [
       "<matplotlib.figure.Figure at 0x7f22a9e75588>"
      ]
     },
     "metadata": {},
     "output_type": "display_data"
    }
   ],
   "source": [
    "with plt.style.context(\"seaborn-whitegrid\"):\n",
    "    plt.rcParams[\"axes.edgecolor\"] = \"0.15\"\n",
    "    plt.rcParams[\"axes.linewidth\"]  = 1.25\n",
    "    fig = plt.figure(facecolor='w')\n",
    "    sns.boxplot('reanne_HIV_status', 'log10_sum', data=df)\n",
    "\n",
    "    value_cols = ['log10_sum']\n",
    "    titles = ['somatic mutations (Strelka calls)']\n",
    "    # boxplot overlaps individual data point\n",
    "    fig, axes = plt.subplots(1, 1, figsize=(8, 8))\n",
    "\n",
    "    # axes = axes.ravel()\n",
    "    # group_col = 'combo'\n",
    "    group_col = 'reanne_HIV_status'\n",
    "    tissue_col = 'reanne_Putative_histology'\n",
    "    categories = sorted(df[group_col].unique().tolist(), reverse=True) \n",
    "    tissues = sorted(df[tissue_col].unique().tolist(), reverse=True)\n",
    "    p_values = {}\n",
    "    for k, col in enumerate(value_cols):\n",
    "    #     ax = axes[k]\n",
    "        ax=axes\n",
    "        value_col = col\n",
    "        for position, cat in enumerate(categories):\n",
    "            _ = ax.boxplot(df.query('{0} == \"{1}\"'.format(group_col, cat))[col], \n",
    "                       positions=[position], widths=(0.6), showfliers=False\n",
    "                      )\n",
    "\n",
    "        np.random.seed(0)\n",
    "        grps = {}\n",
    "        # overlay actuall data point based on tissue types\n",
    "        for i, cat in enumerate(categories):\n",
    "            # add jitter and specify maker facecolor and edgecolor               \n",
    "            for j, tissue in enumerate(tissues):\n",
    "                y = (df.query('{0}==\"{1}\" & {2}==\"{3}\"'.format(group_col, cat, tissue_col, tissue))[value_col])\n",
    "                x = np.random.normal(i, 0.1, size=len(y))\n",
    "        #         ax.scatter(x, y, s=30)\n",
    "                lb = '' if i == 0 else tissue\n",
    "                _ = ax.plot(x, y, mfc = [\"orange\",\"blue\",\"yellow\", \"black\"][j], \n",
    "                               mec='k', ms=7, marker=\"o\", linestyle=\"None\", label=lb)\n",
    "                grps[i] = df.query('{0} == \"{1}\"'.format(group_col, cat))[col]\n",
    "    #         show the unequal variance of each group, not equal\n",
    "            print('{0} {1} is {2}'.format(k, i, np.var(grps[i])))\n",
    "        # statistical test for 1st grp\n",
    "        stats, p_U = ss.mannwhitneyu(grps[0], grps[1], use_continuity=True, alternative=None)\n",
    "    #     statsT, p_T = ss.ttest_ind(grps[0], grps[1])\n",
    "        p_U = round(p_U, 4)\n",
    "    #     p_T = round(p_T, 4)\n",
    "        _ = ax.text(0.5, 0.95,'p={}'.format(p_U), ha='center', va='center', transform=ax.transAxes, size=14) \n",
    "    #     _ = ax.text(0.3, 0.90,'p_Ttest={}'.format(p_T), ha='center', va='center', transform=ax.transAxes, size=14)     \n",
    "\n",
    "        _ = ax.set_facecolor('whitesmoke') #specify plot backgroup color\n",
    "        _ = ax.tick_params(axis='x', labelsize=14) #specify x tick label size\n",
    "        _ = ax.set_xticks(range(position+1))\n",
    "        _ = ax.set_xticklabels(categories, rotation=0, fontsize=14)\n",
    "    #     ax.set_title(col)\n",
    "        _ = ax.set_title('{}'.format(titles[k]), fontsize=18)\n",
    "        _ = ax.set_xlim(xmin=-0.5)\n",
    "        _= ax.set_ylabel('number of mutations(log10)', fontsize=14)\n",
    "        ax.grid(True)\n",
    "        _ = ax.legend(scatterpoints=1,\n",
    "                  loc='upper left',\n",
    "                  ncol=1,\n",
    "                  fontsize=12)\n",
    "    plt.suptitle('', fontsize=14)  \n",
    "    of1 = '/projects/trans_scratch/validations/workspace/szong/Cervical/variant_bwamem/107_patients/mutations_load_HIV_plots_1.png'\n",
    "    # plt.savefig(of1, dpi=200)"
   ]
  },
  {
   "cell_type": "code",
   "execution_count": 38,
   "metadata": {},
   "outputs": [
    {
     "name": "stderr",
     "output_type": "stream",
     "text": [
      "/home/szong/anaconda3/lib/python3.6/site-packages/matplotlib/font_manager.py:1297: UserWarning: findfont: Font family ['sans-serif'] not found. Falling back to DejaVu Sans\n",
      "  (prop.get_family(), self.defaultFamily[fontext]))\n"
     ]
    },
    {
     "data": {
      "image/png": "[encoded data removed]",
      "text/plain": [
       "<matplotlib.figure.Figure at 0x7f22a9c9dc18>"
      ]
     },
     "metadata": {},
     "output_type": "display_data"
    }
   ],
   "source": [
    "\n",
    "# separate into squamous and adeno, test HIV status difference.\n",
    "value_cols = ['log10_sum']\n",
    "titles = ['All somatic mutations (Strelka calls)']\n",
    "# boxplot overlaps individual data point\n",
    "fig, axes = plt.subplots(1,1, figsize=(8, 8))\n",
    "# axes = axes.ravel()\n",
    "group_col = 'combo'\n",
    "# group_col = 'HIV_status'\n",
    "categories = sorted(df[group_col].unique().tolist(), reverse=True) \n",
    "p_values = {}\n",
    "for k, col in enumerate(value_cols):\n",
    "    ax = axes\n",
    "    value_col = col\n",
    "    for position, cat in enumerate(categories):\n",
    "        _ = ax.boxplot(df.query('{0} == \"{1}\"'.format(group_col, cat))[col], \n",
    "                   positions=[position], widths=(0.6), showfliers=False\n",
    "                  );\n",
    "\n",
    "    np.random.seed(0)\n",
    "    \n",
    "    grps = {}\n",
    "    # overlay actuall data point\n",
    "    for i, cat in enumerate(categories):\n",
    "        # add jitter and specify maker facecolor and edgecolor\n",
    "        y = df[value_col][df[group_col]==cat]\n",
    "        x = np.random.normal(i, 0.1, size=len(y))\n",
    "#         ax.scatter(x, y, s=30)\n",
    "        _ = ax.plot(x, y, mfc = [\"orange\",\"blue\",\"yellow\", \"black\"][i], mec='k', ms=7, marker=\"o\", linestyle=\"None\")\n",
    "        grps[i] = df.query('{0} == \"{1}\"'.format(group_col, cat))[col]\n",
    "\n",
    "    # statistical test for 1st grp\n",
    "    stats, p = ss.mannwhitneyu(grps[0], grps[1], use_continuity=True, alternative=None)\n",
    "    p = round(p, 4)\n",
    "    _ = ax.text(0.3, 0.9,'p={}'.format(p), ha='center', va='center', transform=ax.transAxes, size=14) \n",
    "    \n",
    "    # statistical test fro 2nd grp\n",
    "    stats, p = ss.mannwhitneyu(grps[2], grps[3], use_continuity=True, alternative=None)\n",
    "    p = round(p, 4)\n",
    "    _ = ax.text(0.8, 0.9,'p={}'.format(p), ha='center', va='center', transform=ax.transAxes, size=14)    \n",
    "    \n",
    "    ax.set_facecolor('whitesmoke') #specify plot backgroup color\n",
    "    ax.tick_params(axis='x', labelsize=18) #specify x tick label size\n",
    "    _ = ax.set_xticks(range(position+1))\n",
    "    _ = ax.set_xticklabels(categories, rotation=22, fontsize=14)\n",
    "#     ax.set_title(col)\n",
    "    _ = ax.set_title('{}'.format(titles[k]), fontsize=18)\n",
    "    _ = ax.set_xlim(xmin=-0.5)\n",
    "    _= ax.set_ylabel('number of mutations(log10)', fontsize=14)\n",
    "    ax.grid(True)\n",
    "\n",
    "plt.suptitle('', fontsize=14)       \n",
    "\n",
    "of1 = '/projects/trans_scratch/validations/workspace/szong/Cervical/variant_bwamem/107_patients/mutations_load_HIV_plots_2.png'\n",
    "# plt.savefig(of1, dpi=200)"
   ]
  },
  {
   "cell_type": "code",
   "execution_count": null,
   "metadata": {
    "collapsed": true
   },
   "outputs": [],
   "source": []
  },
  {
   "cell_type": "markdown",
   "metadata": {
    "collapsed": true
   },
   "source": [
    "look at immune related mutations"
   ]
  },
  {
   "cell_type": "code",
   "execution_count": 29,
   "metadata": {},
   "outputs": [
    {
     "data": {
      "text/html": [
       "<div>\n",
       "<style>\n",
       "    .dataframe thead tr:only-child th {\n",
       "        text-align: right;\n",
       "    }\n",
       "\n",
       "    .dataframe thead th {\n",
       "        text-align: left;\n",
       "    }\n",
       "\n",
       "    .dataframe tbody tr th {\n",
       "        vertical-align: top;\n",
       "    }\n",
       "</style>\n",
       "<table border=\"1\" class=\"dataframe\">\n",
       "  <thead>\n",
       "    <tr style=\"text-align: right;\">\n",
       "      <th></th>\n",
       "      <th>gene</th>\n",
       "      <th>patient</th>\n",
       "    </tr>\n",
       "  </thead>\n",
       "  <tbody>\n",
       "    <tr>\n",
       "      <th>0</th>\n",
       "      <td>A2M</td>\n",
       "      <td>HTMCP-03-06-02396</td>\n",
       "    </tr>\n",
       "    <tr>\n",
       "      <th>1</th>\n",
       "      <td>A2M</td>\n",
       "      <td>HTMCP-03-06-02042</td>\n",
       "    </tr>\n",
       "  </tbody>\n",
       "</table>\n",
       "</div>"
      ],
      "text/plain": [
       "  gene            patient\n",
       "0  A2M  HTMCP-03-06-02396\n",
       "1  A2M  HTMCP-03-06-02042"
      ]
     },
     "execution_count": 29,
     "metadata": {},
     "output_type": "execute_result"
    }
   ],
   "source": [
    "f = '/projects/trans_scratch/validations/workspace/szong/Cervical/variant_bwamem/124_patients_new/immune_related_mutations.txt'\n",
    "df = pd.read_csv(f, header=None, sep='\\t')\n",
    "df = df[[0,5]]\n",
    "df['patient'] = df[5].apply(lambda x: x.replace('_malignant', ''))\n",
    "df = df.drop(5, axis=1)\n",
    "df.columns = ['gene', 'patient']\n",
    "df.head(2)"
   ]
  },
  {
   "cell_type": "code",
   "execution_count": 30,
   "metadata": {
    "collapsed": true
   },
   "outputs": [],
   "source": [
    "df = pd.DataFrame(df.groupby('patient').count()).drop(['HTMCP-03-06-02007', 'HTMCP-03-06-02026']).reset_index()"
   ]
  },
  {
   "cell_type": "code",
   "execution_count": null,
   "metadata": {
    "collapsed": true
   },
   "outputs": [],
   "source": []
  },
  {
   "cell_type": "code",
   "execution_count": null,
   "metadata": {
    "collapsed": true
   },
   "outputs": [],
   "source": []
  },
  {
   "cell_type": "code",
   "execution_count": 31,
   "metadata": {},
   "outputs": [
    {
     "data": {
      "text/html": [
       "<div>\n",
       "<style>\n",
       "    .dataframe thead tr:only-child th {\n",
       "        text-align: right;\n",
       "    }\n",
       "\n",
       "    .dataframe thead th {\n",
       "        text-align: left;\n",
       "    }\n",
       "\n",
       "    .dataframe tbody tr th {\n",
       "        vertical-align: top;\n",
       "    }\n",
       "</style>\n",
       "<table border=\"1\" class=\"dataframe\">\n",
       "  <thead>\n",
       "    <tr style=\"text-align: right;\">\n",
       "      <th></th>\n",
       "      <th>HIV status</th>\n",
       "      <th>patient</th>\n",
       "    </tr>\n",
       "  </thead>\n",
       "  <tbody>\n",
       "    <tr>\n",
       "      <th>0</th>\n",
       "      <td>negative</td>\n",
       "      <td>HTMCP-03-06-02007</td>\n",
       "    </tr>\n",
       "    <tr>\n",
       "      <th>1</th>\n",
       "      <td>negative</td>\n",
       "      <td>HTMCP-03-06-02026</td>\n",
       "    </tr>\n",
       "  </tbody>\n",
       "</table>\n",
       "</div>"
      ],
      "text/plain": [
       "  HIV status            patient\n",
       "0   negative  HTMCP-03-06-02007\n",
       "1   negative  HTMCP-03-06-02026"
      ]
     },
     "execution_count": 31,
     "metadata": {},
     "output_type": "execute_result"
    }
   ],
   "source": [
    "f = '/home/szong/projects/META_2018/Master_Sample_table_14X292_Feb27_2018_sz.xls'\n",
    "meta = pd.read_excel(f, sheetname='HTMCP CaCx epi')\n",
    "meta = meta[['Biospecimen ID', 'HIV status']]\n",
    "meta['patient'] = meta['Biospecimen ID'].apply(lambda x: '-'.join(['HTMCP-03-06', x.split('-')[3]]))\n",
    "meta = meta.drop('Biospecimen ID', axis=1)\n",
    "meta.head(2)"
   ]
  },
  {
   "cell_type": "code",
   "execution_count": 32,
   "metadata": {},
   "outputs": [
    {
     "data": {
      "text/html": [
       "<div>\n",
       "<style>\n",
       "    .dataframe thead tr:only-child th {\n",
       "        text-align: right;\n",
       "    }\n",
       "\n",
       "    .dataframe thead th {\n",
       "        text-align: left;\n",
       "    }\n",
       "\n",
       "    .dataframe tbody tr th {\n",
       "        vertical-align: top;\n",
       "    }\n",
       "</style>\n",
       "<table border=\"1\" class=\"dataframe\">\n",
       "  <thead>\n",
       "    <tr style=\"text-align: right;\">\n",
       "      <th></th>\n",
       "      <th>patient</th>\n",
       "      <th>gene</th>\n",
       "      <th>HIV status</th>\n",
       "    </tr>\n",
       "  </thead>\n",
       "  <tbody>\n",
       "    <tr>\n",
       "      <th>0</th>\n",
       "      <td>HTMCP-03-06-02001</td>\n",
       "      <td>9</td>\n",
       "      <td>positive</td>\n",
       "    </tr>\n",
       "    <tr>\n",
       "      <th>1</th>\n",
       "      <td>HTMCP-03-06-02002</td>\n",
       "      <td>6</td>\n",
       "      <td>negative</td>\n",
       "    </tr>\n",
       "    <tr>\n",
       "      <th>2</th>\n",
       "      <td>HTMCP-03-06-02006</td>\n",
       "      <td>6</td>\n",
       "      <td>negative</td>\n",
       "    </tr>\n",
       "    <tr>\n",
       "      <th>3</th>\n",
       "      <td>HTMCP-03-06-02012</td>\n",
       "      <td>18</td>\n",
       "      <td>negative</td>\n",
       "    </tr>\n",
       "    <tr>\n",
       "      <th>4</th>\n",
       "      <td>HTMCP-03-06-02020</td>\n",
       "      <td>1</td>\n",
       "      <td>positive</td>\n",
       "    </tr>\n",
       "  </tbody>\n",
       "</table>\n",
       "</div>"
      ],
      "text/plain": [
       "             patient  gene HIV status\n",
       "0  HTMCP-03-06-02001     9   positive\n",
       "1  HTMCP-03-06-02002     6   negative\n",
       "2  HTMCP-03-06-02006     6   negative\n",
       "3  HTMCP-03-06-02012    18   negative\n",
       "4  HTMCP-03-06-02020     1   positive"
      ]
     },
     "execution_count": 32,
     "metadata": {},
     "output_type": "execute_result"
    }
   ],
   "source": [
    "dfm = pd.merge(df, meta, left_on='patient', right_on='patient')\n",
    "dfm.head()"
   ]
  },
  {
   "cell_type": "code",
   "execution_count": 38,
   "metadata": {},
   "outputs": [
    {
     "name": "stderr",
     "output_type": "stream",
     "text": [
      "/home/szong/anaconda3/lib/python3.6/site-packages/matplotlib/font_manager.py:1297: UserWarning: findfont: Font family ['sans-serif'] not found. Falling back to DejaVu Sans\n",
      "  (prop.get_family(), self.defaultFamily[fontext]))\n"
     ]
    },
    {
     "data": {
      "image/png": "[encoded data removed]",
      "text/plain": [
       "<matplotlib.figure.Figure at 0x7f1d1fbc8b00>"
      ]
     },
     "metadata": {},
     "output_type": "display_data"
    }
   ],
   "source": [
    "group_col = 'HIV status'\n",
    "value_col = 'gene'\n",
    "fig = plt.figure(facecolor='w', figsize=(15,9))\n",
    "ax = fig.add_subplot(111)\n",
    "_ = sns.swarmplot(x=group_col, y=value_col, data=dfm, edgecolor=\"black\", linewidth=.9)\n",
    "_ = sns.boxplot(x=group_col, y=value_col, data=dfm, saturation=1, ax=ax)\n"
   ]
  },
  {
   "cell_type": "code",
   "execution_count": 33,
   "metadata": {},
   "outputs": [
    {
     "data": {
      "text/html": [
       "<div>\n",
       "<style>\n",
       "    .dataframe thead tr:only-child th {\n",
       "        text-align: right;\n",
       "    }\n",
       "\n",
       "    .dataframe thead th {\n",
       "        text-align: left;\n",
       "    }\n",
       "\n",
       "    .dataframe tbody tr th {\n",
       "        vertical-align: top;\n",
       "    }\n",
       "</style>\n",
       "<table border=\"1\" class=\"dataframe\">\n",
       "  <thead>\n",
       "    <tr style=\"text-align: right;\">\n",
       "      <th></th>\n",
       "      <th>gene</th>\n",
       "    </tr>\n",
       "    <tr>\n",
       "      <th>HIV status</th>\n",
       "      <th></th>\n",
       "    </tr>\n",
       "  </thead>\n",
       "  <tbody>\n",
       "    <tr>\n",
       "      <th>negative</th>\n",
       "      <td>237</td>\n",
       "    </tr>\n",
       "    <tr>\n",
       "      <th>positive</th>\n",
       "      <td>209</td>\n",
       "    </tr>\n",
       "  </tbody>\n",
       "</table>\n",
       "</div>"
      ],
      "text/plain": [
       "            gene\n",
       "HIV status      \n",
       "negative     237\n",
       "positive     209"
      ]
     },
     "execution_count": 33,
     "metadata": {},
     "output_type": "execute_result"
    }
   ],
   "source": [
    "dfm.groupby('HIV status')[['gene']].sum()"
   ]
  },
  {
   "cell_type": "code",
   "execution_count": null,
   "metadata": {
    "collapsed": true
   },
   "outputs": [],
   "source": []
  },
  {
   "cell_type": "code",
   "execution_count": null,
   "metadata": {
    "collapsed": true
   },
   "outputs": [],
   "source": []
  },
  {
   "cell_type": "markdown",
   "metadata": {},
   "source": [
    "# make a plot comparing gene mutation frequency between TCGA and NCI, percentage of patients carry mutations for each gene"
   ]
  },
  {
   "cell_type": "code",
   "execution_count": 2,
   "metadata": {},
   "outputs": [
    {
     "data": {
      "text/html": [
       "<div>\n",
       "<style>\n",
       "    .dataframe thead tr:only-child th {\n",
       "        text-align: right;\n",
       "    }\n",
       "\n",
       "    .dataframe thead th {\n",
       "        text-align: left;\n",
       "    }\n",
       "\n",
       "    .dataframe tbody tr th {\n",
       "        vertical-align: top;\n",
       "    }\n",
       "</style>\n",
       "<table border=\"1\" class=\"dataframe\">\n",
       "  <thead>\n",
       "    <tr style=\"text-align: right;\">\n",
       "      <th></th>\n",
       "      <th>gene</th>\n",
       "      <th>number_HTMCP_patients_with_mutation</th>\n",
       "      <th>reason_picked_for_capture</th>\n",
       "      <th>suggest_exclude</th>\n",
       "      <th>average_RPKM</th>\n",
       "    </tr>\n",
       "  </thead>\n",
       "  <tbody>\n",
       "    <tr>\n",
       "      <th>0</th>\n",
       "      <td>MUC4</td>\n",
       "      <td>87</td>\n",
       "      <td>mutated_in_3_or_more_HTMCP_patient</td>\n",
       "      <td>YES</td>\n",
       "      <td>19.873095</td>\n",
       "    </tr>\n",
       "    <tr>\n",
       "      <th>1</th>\n",
       "      <td>TTN</td>\n",
       "      <td>49</td>\n",
       "      <td>mutated_in_3_or_more_HTMCP_patient</td>\n",
       "      <td>YES</td>\n",
       "      <td>0.010591</td>\n",
       "    </tr>\n",
       "    <tr>\n",
       "      <th>2</th>\n",
       "      <td>AHNAK2</td>\n",
       "      <td>43</td>\n",
       "      <td>mutated_in_3_or_more_HTMCP_patient</td>\n",
       "      <td>YES</td>\n",
       "      <td>20.152050</td>\n",
       "    </tr>\n",
       "    <tr>\n",
       "      <th>3</th>\n",
       "      <td>PIK3CA</td>\n",
       "      <td>41</td>\n",
       "      <td>tcga_and_landscape_significantly_mutated</td>\n",
       "      <td>NaN</td>\n",
       "      <td>4.438437</td>\n",
       "    </tr>\n",
       "    <tr>\n",
       "      <th>4</th>\n",
       "      <td>AC007731.1</td>\n",
       "      <td>33</td>\n",
       "      <td>mutated_in_3_or_more_HTMCP_patient</td>\n",
       "      <td>YES</td>\n",
       "      <td>0.000377</td>\n",
       "    </tr>\n",
       "  </tbody>\n",
       "</table>\n",
       "</div>"
      ],
      "text/plain": [
       "         gene  number_HTMCP_patients_with_mutation  \\\n",
       "0        MUC4                                   87   \n",
       "1         TTN                                   49   \n",
       "2      AHNAK2                                   43   \n",
       "3      PIK3CA                                   41   \n",
       "4  AC007731.1                                   33   \n",
       "\n",
       "                  reason_picked_for_capture suggest_exclude  average_RPKM  \n",
       "0        mutated_in_3_or_more_HTMCP_patient             YES     19.873095  \n",
       "1        mutated_in_3_or_more_HTMCP_patient             YES      0.010591  \n",
       "2        mutated_in_3_or_more_HTMCP_patient             YES     20.152050  \n",
       "3  tcga_and_landscape_significantly_mutated             NaN      4.438437  \n",
       "4        mutated_in_3_or_more_HTMCP_patient             YES      0.000377  "
      ]
     },
     "execution_count": 2,
     "metadata": {},
     "output_type": "execute_result"
    }
   ],
   "source": [
    "f0 = '/projects/trans_scratch/validations/workspace/szong/Cervical/HIV_cervical_validation_target_candidates_20190309_added.xls'\n",
    "df0 = pd.read_excel(f0, sheetname='proposed_genes')\n",
    "df0.head()"
   ]
  },
  {
   "cell_type": "code",
   "execution_count": 3,
   "metadata": {},
   "outputs": [
    {
     "data": {
      "text/html": [
       "<div>\n",
       "<style>\n",
       "    .dataframe thead tr:only-child th {\n",
       "        text-align: right;\n",
       "    }\n",
       "\n",
       "    .dataframe thead th {\n",
       "        text-align: left;\n",
       "    }\n",
       "\n",
       "    .dataframe tbody tr th {\n",
       "        vertical-align: top;\n",
       "    }\n",
       "</style>\n",
       "<table border=\"1\" class=\"dataframe\">\n",
       "  <thead>\n",
       "    <tr style=\"text-align: right;\">\n",
       "      <th></th>\n",
       "      <th>gene</th>\n",
       "      <th>number_HTMCP_patients_with_mutation</th>\n",
       "      <th>reason_picked_for_capture</th>\n",
       "      <th>suggest_exclude</th>\n",
       "      <th>average_RPKM</th>\n",
       "    </tr>\n",
       "  </thead>\n",
       "  <tbody>\n",
       "    <tr>\n",
       "      <th>3</th>\n",
       "      <td>PIK3CA</td>\n",
       "      <td>41</td>\n",
       "      <td>tcga_and_landscape_significantly_mutated</td>\n",
       "      <td>NaN</td>\n",
       "      <td>4.438437</td>\n",
       "    </tr>\n",
       "    <tr>\n",
       "      <th>12</th>\n",
       "      <td>TPRXL</td>\n",
       "      <td>22</td>\n",
       "      <td>mutated_in_3_or_more_HTMCP_patient</td>\n",
       "      <td>NaN</td>\n",
       "      <td>2.755383</td>\n",
       "    </tr>\n",
       "    <tr>\n",
       "      <th>13</th>\n",
       "      <td>HRNR</td>\n",
       "      <td>21</td>\n",
       "      <td>mutated_in_3_or_more_HTMCP_patient</td>\n",
       "      <td>NaN</td>\n",
       "      <td>0.135752</td>\n",
       "    </tr>\n",
       "    <tr>\n",
       "      <th>14</th>\n",
       "      <td>CRIPAK</td>\n",
       "      <td>20</td>\n",
       "      <td>mutated_in_3_or_more_HTMCP_patient</td>\n",
       "      <td>NaN</td>\n",
       "      <td>2.946960</td>\n",
       "    </tr>\n",
       "    <tr>\n",
       "      <th>15</th>\n",
       "      <td>MLL3</td>\n",
       "      <td>20</td>\n",
       "      <td>mutated_in_3_or_more_HTMCP_patient</td>\n",
       "      <td>NaN</td>\n",
       "      <td>3.677492</td>\n",
       "    </tr>\n",
       "  </tbody>\n",
       "</table>\n",
       "</div>"
      ],
      "text/plain": [
       "      gene  number_HTMCP_patients_with_mutation  \\\n",
       "3   PIK3CA                                   41   \n",
       "12   TPRXL                                   22   \n",
       "13    HRNR                                   21   \n",
       "14  CRIPAK                                   20   \n",
       "15    MLL3                                   20   \n",
       "\n",
       "                   reason_picked_for_capture suggest_exclude  average_RPKM  \n",
       "3   tcga_and_landscape_significantly_mutated             NaN      4.438437  \n",
       "12        mutated_in_3_or_more_HTMCP_patient             NaN      2.755383  \n",
       "13        mutated_in_3_or_more_HTMCP_patient             NaN      0.135752  \n",
       "14        mutated_in_3_or_more_HTMCP_patient             NaN      2.946960  \n",
       "15        mutated_in_3_or_more_HTMCP_patient             NaN      3.677492  "
      ]
     },
     "execution_count": 3,
     "metadata": {},
     "output_type": "execute_result"
    }
   ],
   "source": [
    "df0 = df0.query('suggest_exclude != \"YES\"')\n",
    "df0.head()"
   ]
  },
  {
   "cell_type": "code",
   "execution_count": 4,
   "metadata": {},
   "outputs": [
    {
     "data": {
      "text/plain": [
       "(2751, 5)"
      ]
     },
     "execution_count": 4,
     "metadata": {},
     "output_type": "execute_result"
    }
   ],
   "source": [
    "df0.shape\n"
   ]
  },
  {
   "cell_type": "code",
   "execution_count": 5,
   "metadata": {
    "collapsed": true
   },
   "outputs": [],
   "source": [
    "validation_genes = df0.gene\n",
    "# validation_genes"
   ]
  },
  {
   "cell_type": "code",
   "execution_count": 34,
   "metadata": {},
   "outputs": [
    {
     "data": {
      "text/html": [
       "<div>\n",
       "<style>\n",
       "    .dataframe thead tr:only-child th {\n",
       "        text-align: right;\n",
       "    }\n",
       "\n",
       "    .dataframe thead th {\n",
       "        text-align: left;\n",
       "    }\n",
       "\n",
       "    .dataframe tbody tr th {\n",
       "        vertical-align: top;\n",
       "    }\n",
       "</style>\n",
       "<table border=\"1\" class=\"dataframe\">\n",
       "  <thead>\n",
       "    <tr style=\"text-align: right;\">\n",
       "      <th></th>\n",
       "      <th>Hugo_Symbol</th>\n",
       "      <th>Entrez_Gene_Id</th>\n",
       "      <th>Center</th>\n",
       "      <th>NCBI_Build</th>\n",
       "      <th>Chromosome</th>\n",
       "      <th>Start_Position</th>\n",
       "      <th>End_Position</th>\n",
       "      <th>Strand</th>\n",
       "      <th>Variant_Classification</th>\n",
       "      <th>Variant_Type</th>\n",
       "      <th>...</th>\n",
       "      <th>gene_name_source</th>\n",
       "      <th>gene_name_source.1</th>\n",
       "      <th>tumor_ref_reads</th>\n",
       "      <th>tumor_var_reads</th>\n",
       "      <th>tumor_vaf</th>\n",
       "      <th>normal_ref_reads</th>\n",
       "      <th>normal_var_reads</th>\n",
       "      <th>normal_vaf</th>\n",
       "      <th>dbSNP_rsID</th>\n",
       "      <th>GMAF</th>\n",
       "    </tr>\n",
       "  </thead>\n",
       "  <tbody>\n",
       "    <tr>\n",
       "      <th>0</th>\n",
       "      <td>A1BG</td>\n",
       "      <td>1</td>\n",
       "      <td>genome.wustl.edu</td>\n",
       "      <td>37</td>\n",
       "      <td>19</td>\n",
       "      <td>58864353</td>\n",
       "      <td>58864353</td>\n",
       "      <td>+</td>\n",
       "      <td>Missense_Mutation</td>\n",
       "      <td>SNP</td>\n",
       "      <td>...</td>\n",
       "      <td>HGNC</td>\n",
       "      <td>ENSG00000121410</td>\n",
       "      <td>93</td>\n",
       "      <td>80</td>\n",
       "      <td>46.24</td>\n",
       "      <td>170</td>\n",
       "      <td>0</td>\n",
       "      <td>0.0</td>\n",
       "      <td>NaN</td>\n",
       "      <td>NaN</td>\n",
       "    </tr>\n",
       "    <tr>\n",
       "      <th>1</th>\n",
       "      <td>A1BG-AS1</td>\n",
       "      <td>503538</td>\n",
       "      <td>genome.wustl.edu</td>\n",
       "      <td>37</td>\n",
       "      <td>19</td>\n",
       "      <td>58864179</td>\n",
       "      <td>58864179</td>\n",
       "      <td>+</td>\n",
       "      <td>RNA</td>\n",
       "      <td>SNP</td>\n",
       "      <td>...</td>\n",
       "      <td>HGNC</td>\n",
       "      <td>ENSG00000268895</td>\n",
       "      <td>81</td>\n",
       "      <td>12</td>\n",
       "      <td>12.90</td>\n",
       "      <td>30</td>\n",
       "      <td>0</td>\n",
       "      <td>0.0</td>\n",
       "      <td>NaN</td>\n",
       "      <td>NaN</td>\n",
       "    </tr>\n",
       "    <tr>\n",
       "      <th>2</th>\n",
       "      <td>A1CF</td>\n",
       "      <td>29974</td>\n",
       "      <td>genome.wustl.edu</td>\n",
       "      <td>37</td>\n",
       "      <td>10</td>\n",
       "      <td>52587925</td>\n",
       "      <td>52587925</td>\n",
       "      <td>+</td>\n",
       "      <td>Missense_Mutation</td>\n",
       "      <td>SNP</td>\n",
       "      <td>...</td>\n",
       "      <td>HGNC</td>\n",
       "      <td>ENSG00000148584</td>\n",
       "      <td>19</td>\n",
       "      <td>10</td>\n",
       "      <td>34.48</td>\n",
       "      <td>34</td>\n",
       "      <td>0</td>\n",
       "      <td>0.0</td>\n",
       "      <td>NaN</td>\n",
       "      <td>NaN</td>\n",
       "    </tr>\n",
       "    <tr>\n",
       "      <th>3</th>\n",
       "      <td>A1CF</td>\n",
       "      <td>29974</td>\n",
       "      <td>genome.wustl.edu</td>\n",
       "      <td>37</td>\n",
       "      <td>10</td>\n",
       "      <td>52601652</td>\n",
       "      <td>52601652</td>\n",
       "      <td>+</td>\n",
       "      <td>Missense_Mutation</td>\n",
       "      <td>SNP</td>\n",
       "      <td>...</td>\n",
       "      <td>HGNC</td>\n",
       "      <td>ENSG00000148584</td>\n",
       "      <td>29</td>\n",
       "      <td>29</td>\n",
       "      <td>50.00</td>\n",
       "      <td>36</td>\n",
       "      <td>0</td>\n",
       "      <td>0.0</td>\n",
       "      <td>NaN</td>\n",
       "      <td>NaN</td>\n",
       "    </tr>\n",
       "    <tr>\n",
       "      <th>4</th>\n",
       "      <td>A2M</td>\n",
       "      <td>2</td>\n",
       "      <td>genome.wustl.edu</td>\n",
       "      <td>37</td>\n",
       "      <td>12</td>\n",
       "      <td>9262517</td>\n",
       "      <td>9262517</td>\n",
       "      <td>+</td>\n",
       "      <td>Missense_Mutation</td>\n",
       "      <td>SNP</td>\n",
       "      <td>...</td>\n",
       "      <td>HGNC</td>\n",
       "      <td>ENSG00000175899</td>\n",
       "      <td>113</td>\n",
       "      <td>55</td>\n",
       "      <td>32.74</td>\n",
       "      <td>95</td>\n",
       "      <td>0</td>\n",
       "      <td>0.0</td>\n",
       "      <td>NaN</td>\n",
       "      <td>NaN</td>\n",
       "    </tr>\n",
       "  </tbody>\n",
       "</table>\n",
       "<p>5 rows × 66 columns</p>\n",
       "</div>"
      ],
      "text/plain": [
       "  Hugo_Symbol  Entrez_Gene_Id            Center  NCBI_Build Chromosome  \\\n",
       "0        A1BG               1  genome.wustl.edu          37         19   \n",
       "1    A1BG-AS1          503538  genome.wustl.edu          37         19   \n",
       "2        A1CF           29974  genome.wustl.edu          37         10   \n",
       "3        A1CF           29974  genome.wustl.edu          37         10   \n",
       "4         A2M               2  genome.wustl.edu          37         12   \n",
       "\n",
       "   Start_Position  End_Position Strand Variant_Classification Variant_Type  \\\n",
       "0        58864353      58864353      +      Missense_Mutation          SNP   \n",
       "1        58864179      58864179      +                    RNA          SNP   \n",
       "2        52587925      52587925      +      Missense_Mutation          SNP   \n",
       "3        52601652      52601652      +      Missense_Mutation          SNP   \n",
       "4         9262517       9262517      +      Missense_Mutation          SNP   \n",
       "\n",
       "   ...  gene_name_source gene_name_source.1 tumor_ref_reads  tumor_var_reads  \\\n",
       "0  ...              HGNC    ENSG00000121410              93               80   \n",
       "1  ...              HGNC    ENSG00000268895              81               12   \n",
       "2  ...              HGNC    ENSG00000148584              19               10   \n",
       "3  ...              HGNC    ENSG00000148584              29               29   \n",
       "4  ...              HGNC    ENSG00000175899             113               55   \n",
       "\n",
       "   tumor_vaf normal_ref_reads normal_var_reads normal_vaf dbSNP_rsID  GMAF  \n",
       "0      46.24              170                0        0.0        NaN   NaN  \n",
       "1      12.90               30                0        0.0        NaN   NaN  \n",
       "2      34.48               34                0        0.0        NaN   NaN  \n",
       "3      50.00               36                0        0.0        NaN   NaN  \n",
       "4      32.74               95                0        0.0        NaN   NaN  \n",
       "\n",
       "[5 rows x 66 columns]"
      ]
     },
     "execution_count": 34,
     "metadata": {},
     "output_type": "execute_result"
    }
   ],
   "source": [
    "f1 = '/projects/trans_scratch/validations/workspace/szong/Cervical/tcga_variants/tcga.genome.wustl.edu_CESC.IlluminaGA_DNASeq_curated.Level_2.1.0.0.somatic.maf'\n",
    "df1 = pd.read_csv(f1, sep='\\t')\n",
    "df1.head()"
   ]
  },
  {
   "cell_type": "code",
   "execution_count": 35,
   "metadata": {},
   "outputs": [
    {
     "data": {
      "text/plain": [
       "16453"
      ]
     },
     "execution_count": 35,
     "metadata": {},
     "output_type": "execute_result"
    }
   ],
   "source": [
    "df1.gene_name.nunique()"
   ]
  },
  {
   "cell_type": "code",
   "execution_count": 36,
   "metadata": {},
   "outputs": [
    {
     "data": {
      "text/plain": [
       "array(['Missense_Mutation', 'RNA', 'Silent', 'Nonsense_Mutation',\n",
       "       'Splice_Site', 'In_Frame_Del', 'Frame_Shift_Del', 'Frame_Shift_Ins',\n",
       "       'Nonstop_Mutation', 'In_Frame_Ins'], dtype=object)"
      ]
     },
     "execution_count": 36,
     "metadata": {},
     "output_type": "execute_result"
    }
   ],
   "source": [
    "df1.Variant_Classification.unique()"
   ]
  },
  {
   "cell_type": "code",
   "execution_count": 37,
   "metadata": {},
   "outputs": [
    {
     "data": {
      "text/plain": [
       "(46547, 66)"
      ]
     },
     "execution_count": 37,
     "metadata": {},
     "output_type": "execute_result"
    }
   ],
   "source": [
    "df1.shape"
   ]
  },
  {
   "cell_type": "code",
   "execution_count": 38,
   "metadata": {
    "collapsed": true
   },
   "outputs": [],
   "source": [
    "df1 = df1.query('Variant_Classification!=\"Silent\"')"
   ]
  },
  {
   "cell_type": "code",
   "execution_count": 39,
   "metadata": {},
   "outputs": [
    {
     "data": {
      "text/plain": [
       "(36782, 66)"
      ]
     },
     "execution_count": 39,
     "metadata": {},
     "output_type": "execute_result"
    }
   ],
   "source": [
    "df1.shape"
   ]
  },
  {
   "cell_type": "code",
   "execution_count": 40,
   "metadata": {},
   "outputs": [
    {
     "data": {
      "text/plain": [
       "15006"
      ]
     },
     "execution_count": 40,
     "metadata": {},
     "output_type": "execute_result"
    }
   ],
   "source": [
    "df1.gene_name.nunique()"
   ]
  },
  {
   "cell_type": "code",
   "execution_count": 41,
   "metadata": {},
   "outputs": [],
   "source": [
    "# first 3 are patient id.\n",
    "df1['patient'] = df1['Tumor_Sample_Barcode'].apply(lambda x: '_'.join(x.split('-')[:3]))"
   ]
  },
  {
   "cell_type": "code",
   "execution_count": 44,
   "metadata": {
    "collapsed": true
   },
   "outputs": [],
   "source": [
    "df2 = pd.DataFrame(df1[['gene_name', 'patient']].groupby('gene_name')['patient'].nunique())"
   ]
  },
  {
   "cell_type": "code",
   "execution_count": 45,
   "metadata": {},
   "outputs": [
    {
     "data": {
      "text/html": [
       "<div>\n",
       "<style>\n",
       "    .dataframe thead tr:only-child th {\n",
       "        text-align: right;\n",
       "    }\n",
       "\n",
       "    .dataframe thead th {\n",
       "        text-align: left;\n",
       "    }\n",
       "\n",
       "    .dataframe tbody tr th {\n",
       "        vertical-align: top;\n",
       "    }\n",
       "</style>\n",
       "<table border=\"1\" class=\"dataframe\">\n",
       "  <thead>\n",
       "    <tr style=\"text-align: right;\">\n",
       "      <th></th>\n",
       "      <th>patient</th>\n",
       "    </tr>\n",
       "    <tr>\n",
       "      <th>gene_name</th>\n",
       "      <th></th>\n",
       "    </tr>\n",
       "  </thead>\n",
       "  <tbody>\n",
       "    <tr>\n",
       "      <th>A1BG</th>\n",
       "      <td>1</td>\n",
       "    </tr>\n",
       "    <tr>\n",
       "      <th>A1BG-AS1</th>\n",
       "      <td>1</td>\n",
       "    </tr>\n",
       "    <tr>\n",
       "      <th>A1CF</th>\n",
       "      <td>2</td>\n",
       "    </tr>\n",
       "    <tr>\n",
       "      <th>A2M</th>\n",
       "      <td>2</td>\n",
       "    </tr>\n",
       "    <tr>\n",
       "      <th>A2ML1</th>\n",
       "      <td>1</td>\n",
       "    </tr>\n",
       "  </tbody>\n",
       "</table>\n",
       "</div>"
      ],
      "text/plain": [
       "           patient\n",
       "gene_name         \n",
       "A1BG             1\n",
       "A1BG-AS1         1\n",
       "A1CF             2\n",
       "A2M              2\n",
       "A2ML1            1"
      ]
     },
     "execution_count": 45,
     "metadata": {},
     "output_type": "execute_result"
    }
   ],
   "source": [
    "df2.head()"
   ]
  },
  {
   "cell_type": "code",
   "execution_count": 46,
   "metadata": {},
   "outputs": [],
   "source": [
    "df2['freq'] = df2/df1.patient.nunique()"
   ]
  },
  {
   "cell_type": "code",
   "execution_count": 47,
   "metadata": {},
   "outputs": [
    {
     "data": {
      "text/html": [
       "<div>\n",
       "<style>\n",
       "    .dataframe thead tr:only-child th {\n",
       "        text-align: right;\n",
       "    }\n",
       "\n",
       "    .dataframe thead th {\n",
       "        text-align: left;\n",
       "    }\n",
       "\n",
       "    .dataframe tbody tr th {\n",
       "        vertical-align: top;\n",
       "    }\n",
       "</style>\n",
       "<table border=\"1\" class=\"dataframe\">\n",
       "  <thead>\n",
       "    <tr style=\"text-align: right;\">\n",
       "      <th></th>\n",
       "      <th>patient</th>\n",
       "      <th>freq</th>\n",
       "    </tr>\n",
       "    <tr>\n",
       "      <th>gene_name</th>\n",
       "      <th></th>\n",
       "      <th></th>\n",
       "    </tr>\n",
       "  </thead>\n",
       "  <tbody>\n",
       "    <tr>\n",
       "      <th>A1BG</th>\n",
       "      <td>1</td>\n",
       "      <td>0.005155</td>\n",
       "    </tr>\n",
       "    <tr>\n",
       "      <th>LYNX1</th>\n",
       "      <td>1</td>\n",
       "      <td>0.005155</td>\n",
       "    </tr>\n",
       "  </tbody>\n",
       "</table>\n",
       "</div>"
      ],
      "text/plain": [
       "           patient      freq\n",
       "gene_name                   \n",
       "A1BG             1  0.005155\n",
       "LYNX1            1  0.005155"
      ]
     },
     "execution_count": 47,
     "metadata": {},
     "output_type": "execute_result"
    }
   ],
   "source": [
    "df2.sort_values('freq').head(2)"
   ]
  },
  {
   "cell_type": "code",
   "execution_count": 48,
   "metadata": {},
   "outputs": [
    {
     "data": {
      "text/plain": [
       "(15006, 2)"
      ]
     },
     "execution_count": 48,
     "metadata": {},
     "output_type": "execute_result"
    }
   ],
   "source": [
    "df2.shape"
   ]
  },
  {
   "cell_type": "code",
   "execution_count": 49,
   "metadata": {
    "collapsed": true
   },
   "outputs": [],
   "source": [
    "df_tcga = df2.copy()"
   ]
  },
  {
   "cell_type": "code",
   "execution_count": 50,
   "metadata": {},
   "outputs": [
    {
     "data": {
      "text/plain": [
       "patient    53.000000\n",
       "freq        0.273196\n",
       "Name: PIK3CA, dtype: float64"
      ]
     },
     "execution_count": 50,
     "metadata": {},
     "output_type": "execute_result"
    }
   ],
   "source": [
    "df_tcga.loc['PIK3CA',]"
   ]
  },
  {
   "cell_type": "markdown",
   "metadata": {},
   "source": [
    "NCI mutations"
   ]
  },
  {
   "cell_type": "code",
   "execution_count": 51,
   "metadata": {},
   "outputs": [
    {
     "data": {
      "text/html": [
       "<div>\n",
       "<style>\n",
       "    .dataframe thead tr:only-child th {\n",
       "        text-align: right;\n",
       "    }\n",
       "\n",
       "    .dataframe thead th {\n",
       "        text-align: left;\n",
       "    }\n",
       "\n",
       "    .dataframe tbody tr th {\n",
       "        vertical-align: top;\n",
       "    }\n",
       "</style>\n",
       "<table border=\"1\" class=\"dataframe\">\n",
       "  <thead>\n",
       "    <tr style=\"text-align: right;\">\n",
       "      <th></th>\n",
       "      <th>gene</th>\n",
       "      <th>patient_ID</th>\n",
       "    </tr>\n",
       "  </thead>\n",
       "  <tbody>\n",
       "    <tr>\n",
       "      <th>0</th>\n",
       "      <td>SAMD11</td>\n",
       "      <td>HTMCP-03-06-02007</td>\n",
       "    </tr>\n",
       "    <tr>\n",
       "      <th>1</th>\n",
       "      <td>SAMD11</td>\n",
       "      <td>HTMCP-03-06-02214</td>\n",
       "    </tr>\n",
       "  </tbody>\n",
       "</table>\n",
       "</div>"
      ],
      "text/plain": [
       "     gene         patient_ID\n",
       "0  SAMD11  HTMCP-03-06-02007\n",
       "1  SAMD11  HTMCP-03-06-02214"
      ]
     },
     "execution_count": 51,
     "metadata": {},
     "output_type": "execute_result"
    }
   ],
   "source": [
    "# snv summary file\n",
    "f = '/projects/trans_scratch/validations/workspace/szong/Cervical/variant_bwamem/124_patients_new/HIGH_MODERATE_SNV_summary_with_normal_with_AF_filtered_somatic.tsv'\n",
    "df1 = pd.read_csv(f, sep='\\t', usecols=['gene', 'patient_ID'])\n",
    "df1.head(2)"
   ]
  },
  {
   "cell_type": "code",
   "execution_count": 52,
   "metadata": {},
   "outputs": [
    {
     "data": {
      "text/html": [
       "<div>\n",
       "<style>\n",
       "    .dataframe thead tr:only-child th {\n",
       "        text-align: right;\n",
       "    }\n",
       "\n",
       "    .dataframe thead th {\n",
       "        text-align: left;\n",
       "    }\n",
       "\n",
       "    .dataframe tbody tr th {\n",
       "        vertical-align: top;\n",
       "    }\n",
       "</style>\n",
       "<table border=\"1\" class=\"dataframe\">\n",
       "  <thead>\n",
       "    <tr style=\"text-align: right;\">\n",
       "      <th></th>\n",
       "      <th>gene</th>\n",
       "      <th>patient_ID</th>\n",
       "    </tr>\n",
       "  </thead>\n",
       "  <tbody>\n",
       "    <tr>\n",
       "      <th>0</th>\n",
       "      <td>PCNT</td>\n",
       "      <td>HTMCP-03-06-02448</td>\n",
       "    </tr>\n",
       "    <tr>\n",
       "      <th>1</th>\n",
       "      <td>MLL3</td>\n",
       "      <td>HTMCP-03-06-02097</td>\n",
       "    </tr>\n",
       "  </tbody>\n",
       "</table>\n",
       "</div>"
      ],
      "text/plain": [
       "   gene         patient_ID\n",
       "0  PCNT  HTMCP-03-06-02448\n",
       "1  MLL3  HTMCP-03-06-02097"
      ]
     },
     "execution_count": 52,
     "metadata": {},
     "output_type": "execute_result"
    }
   ],
   "source": [
    "# indel summary file\n",
    "f = '/projects/trans_scratch/validations/workspace/szong/Cervical/variant_bwamem/124_patients_new/HIGH_MODERATE_INDEL_summary_with_normal_strelka_indels_only.tsv'\n",
    "df2 = pd.read_csv(f, sep='\\t', usecols=['gene', 'patient_ID'])\n",
    "df2.head(2)"
   ]
  },
  {
   "cell_type": "code",
   "execution_count": 53,
   "metadata": {
    "collapsed": true
   },
   "outputs": [],
   "source": [
    "dfc = pd.concat([df1, df2])\n",
    "dfc['patient'] = dfc.patient_ID.str.replace('_malignant', '')\n",
    "dfc.drop('patient_ID', inplace=True, axis=1)"
   ]
  },
  {
   "cell_type": "code",
   "execution_count": 54,
   "metadata": {
    "collapsed": true
   },
   "outputs": [],
   "source": [
    "dfd = dfc[~dfc.patient.isin(['HTMCP-03-06-02061'])].drop_duplicates()"
   ]
  },
  {
   "cell_type": "code",
   "execution_count": 55,
   "metadata": {},
   "outputs": [
    {
     "data": {
      "text/plain": [
       "(34547, 2)"
      ]
     },
     "execution_count": 55,
     "metadata": {},
     "output_type": "execute_result"
    }
   ],
   "source": [
    "dfd.shape"
   ]
  },
  {
   "cell_type": "code",
   "execution_count": 56,
   "metadata": {},
   "outputs": [
    {
     "data": {
      "text/html": [
       "<div>\n",
       "<style>\n",
       "    .dataframe thead tr:only-child th {\n",
       "        text-align: right;\n",
       "    }\n",
       "\n",
       "    .dataframe thead th {\n",
       "        text-align: left;\n",
       "    }\n",
       "\n",
       "    .dataframe tbody tr th {\n",
       "        vertical-align: top;\n",
       "    }\n",
       "</style>\n",
       "<table border=\"1\" class=\"dataframe\">\n",
       "  <thead>\n",
       "    <tr style=\"text-align: right;\">\n",
       "      <th></th>\n",
       "      <th>gene</th>\n",
       "      <th>patient</th>\n",
       "    </tr>\n",
       "  </thead>\n",
       "  <tbody>\n",
       "    <tr>\n",
       "      <th>0</th>\n",
       "      <td>SAMD11</td>\n",
       "      <td>HTMCP-03-06-02007</td>\n",
       "    </tr>\n",
       "    <tr>\n",
       "      <th>1</th>\n",
       "      <td>SAMD11</td>\n",
       "      <td>HTMCP-03-06-02214</td>\n",
       "    </tr>\n",
       "    <tr>\n",
       "      <th>2</th>\n",
       "      <td>KLHL17</td>\n",
       "      <td>HTMCP-03-06-02120</td>\n",
       "    </tr>\n",
       "    <tr>\n",
       "      <th>3</th>\n",
       "      <td>PLEKHN1</td>\n",
       "      <td>HTMCP-03-06-02335</td>\n",
       "    </tr>\n",
       "    <tr>\n",
       "      <th>4</th>\n",
       "      <td>PLEKHN1</td>\n",
       "      <td>HTMCP-03-06-02020</td>\n",
       "    </tr>\n",
       "  </tbody>\n",
       "</table>\n",
       "</div>"
      ],
      "text/plain": [
       "      gene            patient\n",
       "0   SAMD11  HTMCP-03-06-02007\n",
       "1   SAMD11  HTMCP-03-06-02214\n",
       "2   KLHL17  HTMCP-03-06-02120\n",
       "3  PLEKHN1  HTMCP-03-06-02335\n",
       "4  PLEKHN1  HTMCP-03-06-02020"
      ]
     },
     "execution_count": 56,
     "metadata": {},
     "output_type": "execute_result"
    }
   ],
   "source": [
    "dfd.head()"
   ]
  },
  {
   "cell_type": "code",
   "execution_count": 57,
   "metadata": {
    "collapsed": true
   },
   "outputs": [],
   "source": [
    "of = '/projects/trans_scratch/validations/workspace/szong/Cervical/variant_bwamem/124_patients_new/variant_summary_table.txt'\n",
    "dfe = dfd.reset_index().groupby(['gene', 'patient']).count().unstack().fillna(0)\n",
    "# dfe.to_csv(of)"
   ]
  },
  {
   "cell_type": "code",
   "execution_count": 58,
   "metadata": {},
   "outputs": [
    {
     "data": {
      "text/plain": [
       "       patient          \n",
       "index  HTMCP-03-06-02026    1.0\n",
       "       HTMCP-03-06-02058    1.0\n",
       "       HTMCP-03-06-02110    1.0\n",
       "       HTMCP-03-06-02139    1.0\n",
       "       HTMCP-03-06-02203    1.0\n",
       "       HTMCP-03-06-02396    1.0\n",
       "Name: ERBB2, dtype: float64"
      ]
     },
     "execution_count": 58,
     "metadata": {},
     "output_type": "execute_result"
    }
   ],
   "source": [
    "dfe[dfe >0].loc['ERBB2', :].dropna()"
   ]
  },
  {
   "cell_type": "code",
   "execution_count": 60,
   "metadata": {},
   "outputs": [],
   "source": [
    "# pd.pivot_table(dfd, index=['gene'], aggfunc='count')"
   ]
  },
  {
   "cell_type": "code",
   "execution_count": null,
   "metadata": {
    "collapsed": true
   },
   "outputs": [],
   "source": []
  },
  {
   "cell_type": "code",
   "execution_count": 62,
   "metadata": {},
   "outputs": [
    {
     "data": {
      "text/html": [
       "<div>\n",
       "<style>\n",
       "    .dataframe thead tr:only-child th {\n",
       "        text-align: right;\n",
       "    }\n",
       "\n",
       "    .dataframe thead th {\n",
       "        text-align: left;\n",
       "    }\n",
       "\n",
       "    .dataframe tbody tr th {\n",
       "        vertical-align: top;\n",
       "    }\n",
       "</style>\n",
       "<table border=\"1\" class=\"dataframe\">\n",
       "  <thead>\n",
       "    <tr style=\"text-align: right;\">\n",
       "      <th></th>\n",
       "      <th>patient</th>\n",
       "    </tr>\n",
       "    <tr>\n",
       "      <th>gene</th>\n",
       "      <th></th>\n",
       "    </tr>\n",
       "  </thead>\n",
       "  <tbody>\n",
       "    <tr>\n",
       "      <th>A1BG</th>\n",
       "      <td>1</td>\n",
       "    </tr>\n",
       "    <tr>\n",
       "      <th>A1CF</th>\n",
       "      <td>2</td>\n",
       "    </tr>\n",
       "  </tbody>\n",
       "</table>\n",
       "</div>"
      ],
      "text/plain": [
       "      patient\n",
       "gene         \n",
       "A1BG        1\n",
       "A1CF        2"
      ]
     },
     "execution_count": 62,
     "metadata": {},
     "output_type": "execute_result"
    }
   ],
   "source": [
    "dfe = pd.DataFrame(dfd.groupby('gene')['patient'].nunique())\n",
    "dfe.head(2)"
   ]
  },
  {
   "cell_type": "code",
   "execution_count": 63,
   "metadata": {
    "collapsed": true
   },
   "outputs": [],
   "source": [
    "dfe['freq'] = dfe/dfd.patient.nunique()"
   ]
  },
  {
   "cell_type": "code",
   "execution_count": 64,
   "metadata": {},
   "outputs": [
    {
     "data": {
      "text/html": [
       "<div>\n",
       "<style>\n",
       "    .dataframe thead tr:only-child th {\n",
       "        text-align: right;\n",
       "    }\n",
       "\n",
       "    .dataframe thead th {\n",
       "        text-align: left;\n",
       "    }\n",
       "\n",
       "    .dataframe tbody tr th {\n",
       "        vertical-align: top;\n",
       "    }\n",
       "</style>\n",
       "<table border=\"1\" class=\"dataframe\">\n",
       "  <thead>\n",
       "    <tr style=\"text-align: right;\">\n",
       "      <th></th>\n",
       "      <th>patient</th>\n",
       "      <th>freq</th>\n",
       "    </tr>\n",
       "    <tr>\n",
       "      <th>gene</th>\n",
       "      <th></th>\n",
       "      <th></th>\n",
       "    </tr>\n",
       "  </thead>\n",
       "  <tbody>\n",
       "    <tr>\n",
       "      <th>A1BG</th>\n",
       "      <td>1</td>\n",
       "      <td>0.008130</td>\n",
       "    </tr>\n",
       "    <tr>\n",
       "      <th>A1CF</th>\n",
       "      <td>2</td>\n",
       "      <td>0.016260</td>\n",
       "    </tr>\n",
       "    <tr>\n",
       "      <th>A2LD1</th>\n",
       "      <td>1</td>\n",
       "      <td>0.008130</td>\n",
       "    </tr>\n",
       "    <tr>\n",
       "      <th>A2M</th>\n",
       "      <td>7</td>\n",
       "      <td>0.056911</td>\n",
       "    </tr>\n",
       "    <tr>\n",
       "      <th>A2ML1</th>\n",
       "      <td>3</td>\n",
       "      <td>0.024390</td>\n",
       "    </tr>\n",
       "  </tbody>\n",
       "</table>\n",
       "</div>"
      ],
      "text/plain": [
       "       patient      freq\n",
       "gene                    \n",
       "A1BG         1  0.008130\n",
       "A1CF         2  0.016260\n",
       "A2LD1        1  0.008130\n",
       "A2M          7  0.056911\n",
       "A2ML1        3  0.024390"
      ]
     },
     "execution_count": 64,
     "metadata": {},
     "output_type": "execute_result"
    }
   ],
   "source": [
    "dfe.head()"
   ]
  },
  {
   "cell_type": "code",
   "execution_count": 65,
   "metadata": {},
   "outputs": [
    {
     "data": {
      "text/plain": [
       "(14585, 2)"
      ]
     },
     "execution_count": 65,
     "metadata": {},
     "output_type": "execute_result"
    }
   ],
   "source": [
    "dfe.shape"
   ]
  },
  {
   "cell_type": "code",
   "execution_count": 66,
   "metadata": {
    "collapsed": true
   },
   "outputs": [],
   "source": [
    "df_nci = dfe.copy()"
   ]
  },
  {
   "cell_type": "code",
   "execution_count": 67,
   "metadata": {},
   "outputs": [
    {
     "data": {
      "text/html": [
       "<div>\n",
       "<style>\n",
       "    .dataframe thead tr:only-child th {\n",
       "        text-align: right;\n",
       "    }\n",
       "\n",
       "    .dataframe thead th {\n",
       "        text-align: left;\n",
       "    }\n",
       "\n",
       "    .dataframe tbody tr th {\n",
       "        vertical-align: top;\n",
       "    }\n",
       "</style>\n",
       "<table border=\"1\" class=\"dataframe\">\n",
       "  <thead>\n",
       "    <tr style=\"text-align: right;\">\n",
       "      <th></th>\n",
       "      <th>patient</th>\n",
       "      <th>freq</th>\n",
       "    </tr>\n",
       "    <tr>\n",
       "      <th>gene_name</th>\n",
       "      <th></th>\n",
       "      <th></th>\n",
       "    </tr>\n",
       "  </thead>\n",
       "  <tbody>\n",
       "    <tr>\n",
       "      <th>A1BG</th>\n",
       "      <td>1</td>\n",
       "      <td>0.005155</td>\n",
       "    </tr>\n",
       "    <tr>\n",
       "      <th>A1BG-AS1</th>\n",
       "      <td>1</td>\n",
       "      <td>0.005155</td>\n",
       "    </tr>\n",
       "  </tbody>\n",
       "</table>\n",
       "</div>"
      ],
      "text/plain": [
       "           patient      freq\n",
       "gene_name                   \n",
       "A1BG             1  0.005155\n",
       "A1BG-AS1         1  0.005155"
      ]
     },
     "execution_count": 67,
     "metadata": {},
     "output_type": "execute_result"
    }
   ],
   "source": [
    "df_tcga.head(2)"
   ]
  },
  {
   "cell_type": "code",
   "execution_count": 69,
   "metadata": {},
   "outputs": [
    {
     "data": {
      "text/plain": [
       "(15006, 2)"
      ]
     },
     "execution_count": 69,
     "metadata": {},
     "output_type": "execute_result"
    }
   ],
   "source": [
    "df_tcga.shape"
   ]
  },
  {
   "cell_type": "code",
   "execution_count": 68,
   "metadata": {},
   "outputs": [
    {
     "data": {
      "text/html": [
       "<div>\n",
       "<style>\n",
       "    .dataframe thead tr:only-child th {\n",
       "        text-align: right;\n",
       "    }\n",
       "\n",
       "    .dataframe thead th {\n",
       "        text-align: left;\n",
       "    }\n",
       "\n",
       "    .dataframe tbody tr th {\n",
       "        vertical-align: top;\n",
       "    }\n",
       "</style>\n",
       "<table border=\"1\" class=\"dataframe\">\n",
       "  <thead>\n",
       "    <tr style=\"text-align: right;\">\n",
       "      <th></th>\n",
       "      <th>patient</th>\n",
       "      <th>freq</th>\n",
       "    </tr>\n",
       "    <tr>\n",
       "      <th>gene</th>\n",
       "      <th></th>\n",
       "      <th></th>\n",
       "    </tr>\n",
       "  </thead>\n",
       "  <tbody>\n",
       "    <tr>\n",
       "      <th>A1BG</th>\n",
       "      <td>1</td>\n",
       "      <td>0.00813</td>\n",
       "    </tr>\n",
       "    <tr>\n",
       "      <th>A1CF</th>\n",
       "      <td>2</td>\n",
       "      <td>0.01626</td>\n",
       "    </tr>\n",
       "  </tbody>\n",
       "</table>\n",
       "</div>"
      ],
      "text/plain": [
       "      patient     freq\n",
       "gene                  \n",
       "A1BG        1  0.00813\n",
       "A1CF        2  0.01626"
      ]
     },
     "execution_count": 68,
     "metadata": {},
     "output_type": "execute_result"
    }
   ],
   "source": [
    "df_nci.head(2)"
   ]
  },
  {
   "cell_type": "code",
   "execution_count": 70,
   "metadata": {
    "collapsed": true
   },
   "outputs": [],
   "source": [
    "dfm = pd.merge(df_tcga, df_nci, left_index=True, right_index=True, how='outer')"
   ]
  },
  {
   "cell_type": "code",
   "execution_count": 71,
   "metadata": {
    "collapsed": true
   },
   "outputs": [],
   "source": [
    "dfm.columns = ['tcga_patient', 'tcga_freq', 'nci_patient', 'nci_freq']"
   ]
  },
  {
   "cell_type": "code",
   "execution_count": 72,
   "metadata": {},
   "outputs": [
    {
     "data": {
      "text/plain": [
       "(19453, 4)"
      ]
     },
     "execution_count": 72,
     "metadata": {},
     "output_type": "execute_result"
    }
   ],
   "source": [
    "dfm.shape"
   ]
  },
  {
   "cell_type": "code",
   "execution_count": 73,
   "metadata": {
    "collapsed": true
   },
   "outputs": [],
   "source": [
    "of = '/projects/trans_scratch/validations/workspace/szong/Cervical/variant_bwamem/124_patients_new/gene_mutate_freqency_tcga_vs_nci_cohort.csv'\n",
    "dfm.to_csv(of, sep='\\t')"
   ]
  },
  {
   "cell_type": "code",
   "execution_count": 74,
   "metadata": {},
   "outputs": [
    {
     "data": {
      "text/html": [
       "<div>\n",
       "<style>\n",
       "    .dataframe thead tr:only-child th {\n",
       "        text-align: right;\n",
       "    }\n",
       "\n",
       "    .dataframe thead th {\n",
       "        text-align: left;\n",
       "    }\n",
       "\n",
       "    .dataframe tbody tr th {\n",
       "        vertical-align: top;\n",
       "    }\n",
       "</style>\n",
       "<table border=\"1\" class=\"dataframe\">\n",
       "  <thead>\n",
       "    <tr style=\"text-align: right;\">\n",
       "      <th></th>\n",
       "      <th>tcga_patient</th>\n",
       "      <th>tcga_freq</th>\n",
       "      <th>nci_patient</th>\n",
       "      <th>nci_freq</th>\n",
       "    </tr>\n",
       "  </thead>\n",
       "  <tbody>\n",
       "    <tr>\n",
       "      <th>A1BG</th>\n",
       "      <td>1.0</td>\n",
       "      <td>0.005155</td>\n",
       "      <td>1.0</td>\n",
       "      <td>0.008130</td>\n",
       "    </tr>\n",
       "    <tr>\n",
       "      <th>A1BG-AS1</th>\n",
       "      <td>1.0</td>\n",
       "      <td>0.005155</td>\n",
       "      <td>NaN</td>\n",
       "      <td>NaN</td>\n",
       "    </tr>\n",
       "    <tr>\n",
       "      <th>A1CF</th>\n",
       "      <td>2.0</td>\n",
       "      <td>0.010309</td>\n",
       "      <td>2.0</td>\n",
       "      <td>0.016260</td>\n",
       "    </tr>\n",
       "    <tr>\n",
       "      <th>A2LD1</th>\n",
       "      <td>NaN</td>\n",
       "      <td>NaN</td>\n",
       "      <td>1.0</td>\n",
       "      <td>0.008130</td>\n",
       "    </tr>\n",
       "    <tr>\n",
       "      <th>A2M</th>\n",
       "      <td>2.0</td>\n",
       "      <td>0.010309</td>\n",
       "      <td>7.0</td>\n",
       "      <td>0.056911</td>\n",
       "    </tr>\n",
       "  </tbody>\n",
       "</table>\n",
       "</div>"
      ],
      "text/plain": [
       "          tcga_patient  tcga_freq  nci_patient  nci_freq\n",
       "A1BG               1.0   0.005155          1.0  0.008130\n",
       "A1BG-AS1           1.0   0.005155          NaN       NaN\n",
       "A1CF               2.0   0.010309          2.0  0.016260\n",
       "A2LD1              NaN        NaN          1.0  0.008130\n",
       "A2M                2.0   0.010309          7.0  0.056911"
      ]
     },
     "execution_count": 74,
     "metadata": {},
     "output_type": "execute_result"
    }
   ],
   "source": [
    "dfm.head()"
   ]
  },
  {
   "cell_type": "code",
   "execution_count": 75,
   "metadata": {},
   "outputs": [
    {
     "data": {
      "text/plain": [
       "(10138, 4)"
      ]
     },
     "execution_count": 75,
     "metadata": {},
     "output_type": "execute_result"
    }
   ],
   "source": [
    "dfm.dropna().shape"
   ]
  },
  {
   "cell_type": "markdown",
   "metadata": {},
   "source": [
    "should i dropna? depending on if na means 0% or or the gene is not in the annotation list of genes\n",
    "dropna almost removed half of the genes, not good, this either means two cohorts are very different or variants were called/annotated very differently"
   ]
  },
  {
   "cell_type": "code",
   "execution_count": 66,
   "metadata": {},
   "outputs": [
    {
     "data": {
      "text/plain": [
       "3     PIK3CA\n",
       "12     TPRXL\n",
       "13      HRNR\n",
       "14    CRIPAK\n",
       "15      MLL3\n",
       "16     PRSS3\n",
       "17      FAT1\n",
       "18     HLA-B\n",
       "19      FMN2\n",
       "20     HLA-A\n",
       "Name: gene, dtype: object"
      ]
     },
     "execution_count": 66,
     "metadata": {},
     "output_type": "execute_result"
    }
   ],
   "source": [
    "validation_genes[:10]"
   ]
  },
  {
   "cell_type": "code",
   "execution_count": 67,
   "metadata": {},
   "outputs": [
    {
     "data": {
      "text/plain": [
       "2751"
      ]
     },
     "execution_count": 67,
     "metadata": {},
     "output_type": "execute_result"
    }
   ],
   "source": [
    "len(validation_genes)"
   ]
  },
  {
   "cell_type": "code",
   "execution_count": 76,
   "metadata": {
    "collapsed": true
   },
   "outputs": [],
   "source": [
    "dfm = dfm[dfm.index.isin(validation_genes)]"
   ]
  },
  {
   "cell_type": "code",
   "execution_count": 69,
   "metadata": {
    "collapsed": true
   },
   "outputs": [],
   "source": [
    "# dfm = dfm.dropna()"
   ]
  },
  {
   "cell_type": "code",
   "execution_count": 77,
   "metadata": {},
   "outputs": [
    {
     "data": {
      "text/plain": [
       "(2751, 4)"
      ]
     },
     "execution_count": 77,
     "metadata": {},
     "output_type": "execute_result"
    }
   ],
   "source": [
    "dfm.shape"
   ]
  },
  {
   "cell_type": "code",
   "execution_count": 78,
   "metadata": {},
   "outputs": [
    {
     "data": {
      "text/html": [
       "<div>\n",
       "<style>\n",
       "    .dataframe thead tr:only-child th {\n",
       "        text-align: right;\n",
       "    }\n",
       "\n",
       "    .dataframe thead th {\n",
       "        text-align: left;\n",
       "    }\n",
       "\n",
       "    .dataframe tbody tr th {\n",
       "        vertical-align: top;\n",
       "    }\n",
       "</style>\n",
       "<table border=\"1\" class=\"dataframe\">\n",
       "  <thead>\n",
       "    <tr style=\"text-align: right;\">\n",
       "      <th></th>\n",
       "      <th>tcga_patient</th>\n",
       "      <th>tcga_freq</th>\n",
       "      <th>nci_patient</th>\n",
       "      <th>nci_freq</th>\n",
       "    </tr>\n",
       "  </thead>\n",
       "  <tbody>\n",
       "    <tr>\n",
       "      <th>A2M</th>\n",
       "      <td>2.0</td>\n",
       "      <td>0.010309</td>\n",
       "      <td>7.0</td>\n",
       "      <td>0.056911</td>\n",
       "    </tr>\n",
       "    <tr>\n",
       "      <th>A4GALT</th>\n",
       "      <td>NaN</td>\n",
       "      <td>NaN</td>\n",
       "      <td>3.0</td>\n",
       "      <td>0.024390</td>\n",
       "    </tr>\n",
       "    <tr>\n",
       "      <th>AAK1</th>\n",
       "      <td>4.0</td>\n",
       "      <td>0.020619</td>\n",
       "      <td>5.0</td>\n",
       "      <td>0.040650</td>\n",
       "    </tr>\n",
       "    <tr>\n",
       "      <th>ABCA1</th>\n",
       "      <td>5.0</td>\n",
       "      <td>0.025773</td>\n",
       "      <td>8.0</td>\n",
       "      <td>0.065041</td>\n",
       "    </tr>\n",
       "    <tr>\n",
       "      <th>ABCA12</th>\n",
       "      <td>15.0</td>\n",
       "      <td>0.077320</td>\n",
       "      <td>5.0</td>\n",
       "      <td>0.040650</td>\n",
       "    </tr>\n",
       "  </tbody>\n",
       "</table>\n",
       "</div>"
      ],
      "text/plain": [
       "        tcga_patient  tcga_freq  nci_patient  nci_freq\n",
       "A2M              2.0   0.010309          7.0  0.056911\n",
       "A4GALT           NaN        NaN          3.0  0.024390\n",
       "AAK1             4.0   0.020619          5.0  0.040650\n",
       "ABCA1            5.0   0.025773          8.0  0.065041\n",
       "ABCA12          15.0   0.077320          5.0  0.040650"
      ]
     },
     "execution_count": 78,
     "metadata": {},
     "output_type": "execute_result"
    }
   ],
   "source": [
    "dfm.head()"
   ]
  },
  {
   "cell_type": "code",
   "execution_count": 79,
   "metadata": {},
   "outputs": [
    {
     "data": {
      "text/plain": [
       "(2384, 4)"
      ]
     },
     "execution_count": 79,
     "metadata": {},
     "output_type": "execute_result"
    }
   ],
   "source": [
    "dfm.dropna().shape"
   ]
  },
  {
   "cell_type": "code",
   "execution_count": 80,
   "metadata": {
    "collapsed": true
   },
   "outputs": [],
   "source": [
    "dfm = dfm.sort_values(['nci_freq', 'tcga_freq'], ascending=False)"
   ]
  },
  {
   "cell_type": "code",
   "execution_count": 81,
   "metadata": {},
   "outputs": [
    {
     "data": {
      "text/html": [
       "<div>\n",
       "<style>\n",
       "    .dataframe thead tr:only-child th {\n",
       "        text-align: right;\n",
       "    }\n",
       "\n",
       "    .dataframe thead th {\n",
       "        text-align: left;\n",
       "    }\n",
       "\n",
       "    .dataframe tbody tr th {\n",
       "        vertical-align: top;\n",
       "    }\n",
       "</style>\n",
       "<table border=\"1\" class=\"dataframe\">\n",
       "  <thead>\n",
       "    <tr style=\"text-align: right;\">\n",
       "      <th></th>\n",
       "      <th>tcga_patient</th>\n",
       "      <th>tcga_freq</th>\n",
       "      <th>nci_patient</th>\n",
       "      <th>nci_freq</th>\n",
       "    </tr>\n",
       "  </thead>\n",
       "  <tbody>\n",
       "    <tr>\n",
       "      <th>PIK3CA</th>\n",
       "      <td>53.0</td>\n",
       "      <td>0.273196</td>\n",
       "      <td>43.0</td>\n",
       "      <td>0.349593</td>\n",
       "    </tr>\n",
       "    <tr>\n",
       "      <th>MLL3</th>\n",
       "      <td>29.0</td>\n",
       "      <td>0.149485</td>\n",
       "      <td>22.0</td>\n",
       "      <td>0.178862</td>\n",
       "    </tr>\n",
       "    <tr>\n",
       "      <th>HRNR</th>\n",
       "      <td>10.0</td>\n",
       "      <td>0.051546</td>\n",
       "      <td>22.0</td>\n",
       "      <td>0.178862</td>\n",
       "    </tr>\n",
       "    <tr>\n",
       "      <th>TPRXL</th>\n",
       "      <td>NaN</td>\n",
       "      <td>NaN</td>\n",
       "      <td>22.0</td>\n",
       "      <td>0.178862</td>\n",
       "    </tr>\n",
       "    <tr>\n",
       "      <th>HLA-B</th>\n",
       "      <td>11.0</td>\n",
       "      <td>0.056701</td>\n",
       "      <td>21.0</td>\n",
       "      <td>0.170732</td>\n",
       "    </tr>\n",
       "  </tbody>\n",
       "</table>\n",
       "</div>"
      ],
      "text/plain": [
       "        tcga_patient  tcga_freq  nci_patient  nci_freq\n",
       "PIK3CA          53.0   0.273196         43.0  0.349593\n",
       "MLL3            29.0   0.149485         22.0  0.178862\n",
       "HRNR            10.0   0.051546         22.0  0.178862\n",
       "TPRXL            NaN        NaN         22.0  0.178862\n",
       "HLA-B           11.0   0.056701         21.0  0.170732"
      ]
     },
     "execution_count": 81,
     "metadata": {},
     "output_type": "execute_result"
    }
   ],
   "source": [
    "dfm.head()"
   ]
  },
  {
   "cell_type": "code",
   "execution_count": 82,
   "metadata": {
    "collapsed": true
   },
   "outputs": [],
   "source": [
    "labels = dfm.index.tolist()\n",
    "x = dfm.tcga_freq\n",
    "y = dfm.nci_freq"
   ]
  },
  {
   "cell_type": "code",
   "execution_count": 83,
   "metadata": {
    "scrolled": true
   },
   "outputs": [
    {
     "name": "stderr",
     "output_type": "stream",
     "text": [
      "/home/szong/anaconda3/lib/python3.6/site-packages/matplotlib/font_manager.py:1297: UserWarning: findfont: Font family ['sans-serif'] not found. Falling back to DejaVu Sans\n",
      "  (prop.get_family(), self.defaultFamily[fontext]))\n"
     ]
    },
    {
     "data": {
      "image/png": "[encoded data removed]",
      "text/plain": [
       "<matplotlib.figure.Figure at 0x7f3d9ec1f908>"
      ]
     },
     "metadata": {},
     "output_type": "display_data"
    }
   ],
   "source": [
    "\n",
    "with plt.style.context(\"seaborn-whitegrid\"):\n",
    "    plt.rcParams[\"axes.edgecolor\"] = \"0.15\"\n",
    "    plt.rcParams[\"axes.linewidth\"]  = 1.25\n",
    "    fig = plt.figure(facecolor='w', figsize=(10,10))\n",
    "    ax = fig.add_subplot(111)\n",
    "#     fig, ax = plt.subplots(figsize=(10,10))\n",
    "    ax.scatter(x, y, s=10)\n",
    "\n",
    "    ann = []\n",
    "    n = len(labels)\n",
    "    for i in range(n):\n",
    "        xy = [x[i], y[i]]\n",
    "        fc = x[i]/y[i]\n",
    "#         if max(xy) >= 0.12 or fc > 3 or fc < 1/3:\n",
    "        if max(xy) >= 0.12:\n",
    "            ann.append(ax.annotate(labels[i], xy = (x[i], y[i]), fontsize=14))\n",
    "    mask = np.zeros(fig.canvas.get_width_height(), bool)\n",
    "    plt.tight_layout()\n",
    "    fig.canvas.draw()\n",
    "\n",
    "    ax.plot([0,.35], [0,.35], linewidth=2, color='gray')\n",
    "    for a in ann:\n",
    "        bbox = a.get_window_extent()\n",
    "        x0 = int(bbox.x0)\n",
    "        x1 = int(math.ceil(bbox.x1))\n",
    "        y0 = int(bbox.y0)\n",
    "        y1 = int(math.ceil(bbox.y1))\n",
    "\n",
    "        s = np.s_[x0:x1+1, y0:y1+1]\n",
    "        if np.any(mask[s]):\n",
    "            a.set_visible(True)\n",
    "        else:\n",
    "            mask[s] = True\n",
    "\n",
    "    plt.xlabel('fraction of TCGA CESE patients', fontsize=18)\n",
    "    plt.ylabel('fraction of NCI cervical patients', fontsize=18)\n",
    "    plt.tight_layout()\n",
    "of = '/projects/trans_scratch/validations/workspace/szong/Cervical/variant_bwamem/124_patients_new/tcga_nci_percent_patient_mutated.png'\n",
    "plt.savefig(of, dpi=300)\n",
    "plt.show()"
   ]
  },
  {
   "cell_type": "code",
   "execution_count": 88,
   "metadata": {},
   "outputs": [
    {
     "data": {
      "text/html": [
       "<div>\n",
       "<style>\n",
       "    .dataframe thead tr:only-child th {\n",
       "        text-align: right;\n",
       "    }\n",
       "\n",
       "    .dataframe thead th {\n",
       "        text-align: left;\n",
       "    }\n",
       "\n",
       "    .dataframe tbody tr th {\n",
       "        vertical-align: top;\n",
       "    }\n",
       "</style>\n",
       "<table border=\"1\" class=\"dataframe\">\n",
       "  <thead>\n",
       "    <tr style=\"text-align: right;\">\n",
       "      <th></th>\n",
       "      <th>HGNC ID</th>\n",
       "      <th>Approved Symbol</th>\n",
       "      <th>Approved Name</th>\n",
       "      <th>Status</th>\n",
       "      <th>Previous Symbols</th>\n",
       "      <th>Synonyms</th>\n",
       "      <th>Chromosome</th>\n",
       "      <th>Accession Numbers</th>\n",
       "      <th>RefSeq IDs</th>\n",
       "      <th>Gene Family Tag</th>\n",
       "      <th>Gene family description</th>\n",
       "      <th>Gene family ID</th>\n",
       "    </tr>\n",
       "  </thead>\n",
       "  <tbody>\n",
       "    <tr>\n",
       "      <th>0</th>\n",
       "      <td>17040</td>\n",
       "      <td>CASC3</td>\n",
       "      <td>cancer susceptibility 3</td>\n",
       "      <td>Approved</td>\n",
       "      <td>NaN</td>\n",
       "      <td>MLN51, BTZ</td>\n",
       "      <td>17q21.1</td>\n",
       "      <td>X80199</td>\n",
       "      <td>NM_007359</td>\n",
       "      <td>NaN</td>\n",
       "      <td>Exon junction complex</td>\n",
       "      <td>1238.0</td>\n",
       "    </tr>\n",
       "    <tr>\n",
       "      <th>1</th>\n",
       "      <td>18683</td>\n",
       "      <td>EIF4A3</td>\n",
       "      <td>eukaryotic translation initiation factor 4A3</td>\n",
       "      <td>Approved</td>\n",
       "      <td>DDX48</td>\n",
       "      <td>KIAA0111, EIF4AIII, Fal1</td>\n",
       "      <td>17q25.3</td>\n",
       "      <td>BC004386</td>\n",
       "      <td>NM_014740</td>\n",
       "      <td>NaN</td>\n",
       "      <td>Exon junction complex</td>\n",
       "      <td>1238.0</td>\n",
       "    </tr>\n",
       "  </tbody>\n",
       "</table>\n",
       "</div>"
      ],
      "text/plain": [
       "  HGNC ID Approved Symbol                                 Approved Name  \\\n",
       "0   17040           CASC3                       cancer susceptibility 3   \n",
       "1   18683          EIF4A3  eukaryotic translation initiation factor 4A3   \n",
       "\n",
       "     Status Previous Symbols                  Synonyms Chromosome  \\\n",
       "0  Approved              NaN                MLN51, BTZ    17q21.1   \n",
       "1  Approved            DDX48  KIAA0111, EIF4AIII, Fal1    17q25.3   \n",
       "\n",
       "  Accession Numbers RefSeq IDs Gene Family Tag Gene family description  \\\n",
       "0            X80199  NM_007359             NaN   Exon junction complex   \n",
       "1          BC004386  NM_014740             NaN   Exon junction complex   \n",
       "\n",
       "   Gene family ID  \n",
       "0          1238.0  \n",
       "1          1238.0  "
      ]
     },
     "execution_count": 88,
     "metadata": {},
     "output_type": "execute_result"
    }
   ],
   "source": [
    "# splicesome genes: 145 unique gene names\n",
    "f = '/projects/trans_scratch/validations/workspace/szong/Cervical/spliceosome/240_spliceosome_genes_with_duplicates.txt'\n",
    "df = pd.read_csv(f, sep='\\t')\n",
    "df.head(2)"
   ]
  },
  {
   "cell_type": "code",
   "execution_count": 106,
   "metadata": {},
   "outputs": [
    {
     "data": {
      "text/html": [
       "<div>\n",
       "<style>\n",
       "    .dataframe thead tr:only-child th {\n",
       "        text-align: right;\n",
       "    }\n",
       "\n",
       "    .dataframe thead th {\n",
       "        text-align: left;\n",
       "    }\n",
       "\n",
       "    .dataframe tbody tr th {\n",
       "        vertical-align: top;\n",
       "    }\n",
       "</style>\n",
       "<table border=\"1\" class=\"dataframe\">\n",
       "  <thead>\n",
       "    <tr style=\"text-align: right;\">\n",
       "      <th></th>\n",
       "      <th>HGNC ID</th>\n",
       "      <th>Approved Symbol</th>\n",
       "      <th>Approved Name</th>\n",
       "      <th>Status</th>\n",
       "      <th>Previous Symbols</th>\n",
       "      <th>Synonyms</th>\n",
       "      <th>Chromosome</th>\n",
       "      <th>Accession Numbers</th>\n",
       "      <th>RefSeq IDs</th>\n",
       "      <th>Gene Family Tag</th>\n",
       "      <th>Gene family description</th>\n",
       "      <th>Gene family ID</th>\n",
       "    </tr>\n",
       "  </thead>\n",
       "  <tbody>\n",
       "    <tr>\n",
       "      <th>154</th>\n",
       "      <td>16639</td>\n",
       "      <td>SRRM2</td>\n",
       "      <td>serine/arginine repetitive matrix 2</td>\n",
       "      <td>Approved</td>\n",
       "      <td>NaN</td>\n",
       "      <td>SRm300, SRL300, KIAA0324, Cwc21</td>\n",
       "      <td>16p13.3</td>\n",
       "      <td>AF201422</td>\n",
       "      <td>NaN</td>\n",
       "      <td>NaN</td>\n",
       "      <td>Spliceosomal C complex</td>\n",
       "      <td>1510.0</td>\n",
       "    </tr>\n",
       "    <tr>\n",
       "      <th>207</th>\n",
       "      <td>16639</td>\n",
       "      <td>SRRM2</td>\n",
       "      <td>serine/arginine repetitive matrix 2</td>\n",
       "      <td>Approved</td>\n",
       "      <td>NaN</td>\n",
       "      <td>SRm300, SRL300, KIAA0324, Cwc21</td>\n",
       "      <td>16p13.3</td>\n",
       "      <td>AF201422</td>\n",
       "      <td>NaN</td>\n",
       "      <td>NaN</td>\n",
       "      <td>Spliceosomal P complex</td>\n",
       "      <td>1516.0</td>\n",
       "    </tr>\n",
       "  </tbody>\n",
       "</table>\n",
       "</div>"
      ],
      "text/plain": [
       "    HGNC ID Approved Symbol                        Approved Name    Status  \\\n",
       "154   16639           SRRM2  serine/arginine repetitive matrix 2  Approved   \n",
       "207   16639           SRRM2  serine/arginine repetitive matrix 2  Approved   \n",
       "\n",
       "    Previous Symbols                         Synonyms Chromosome  \\\n",
       "154              NaN  SRm300, SRL300, KIAA0324, Cwc21    16p13.3   \n",
       "207              NaN  SRm300, SRL300, KIAA0324, Cwc21    16p13.3   \n",
       "\n",
       "    Accession Numbers RefSeq IDs Gene Family Tag Gene family description  \\\n",
       "154          AF201422        NaN             NaN  Spliceosomal C complex   \n",
       "207          AF201422        NaN             NaN  Spliceosomal P complex   \n",
       "\n",
       "     Gene family ID  \n",
       "154          1510.0  \n",
       "207          1516.0  "
      ]
     },
     "execution_count": 106,
     "metadata": {},
     "output_type": "execute_result"
    }
   ],
   "source": [
    "df[df['Approved Symbol'] == \"SRRM2\"]"
   ]
  },
  {
   "cell_type": "code",
   "execution_count": 89,
   "metadata": {},
   "outputs": [],
   "source": [
    "sp_genes = df['Approved Symbol'].unique()"
   ]
  },
  {
   "cell_type": "code",
   "execution_count": 90,
   "metadata": {},
   "outputs": [
    {
     "data": {
      "text/html": [
       "<div>\n",
       "<style>\n",
       "    .dataframe thead tr:only-child th {\n",
       "        text-align: right;\n",
       "    }\n",
       "\n",
       "    .dataframe thead th {\n",
       "        text-align: left;\n",
       "    }\n",
       "\n",
       "    .dataframe tbody tr th {\n",
       "        vertical-align: top;\n",
       "    }\n",
       "</style>\n",
       "<table border=\"1\" class=\"dataframe\">\n",
       "  <thead>\n",
       "    <tr style=\"text-align: right;\">\n",
       "      <th></th>\n",
       "      <th>tcga_patient</th>\n",
       "      <th>tcga_freq</th>\n",
       "      <th>nci_patient</th>\n",
       "      <th>nci_freq</th>\n",
       "    </tr>\n",
       "  </thead>\n",
       "  <tbody>\n",
       "    <tr>\n",
       "      <th>PIK3CA</th>\n",
       "      <td>53.0</td>\n",
       "      <td>0.273196</td>\n",
       "      <td>43.0</td>\n",
       "      <td>0.349593</td>\n",
       "    </tr>\n",
       "    <tr>\n",
       "      <th>MLL3</th>\n",
       "      <td>29.0</td>\n",
       "      <td>0.149485</td>\n",
       "      <td>22.0</td>\n",
       "      <td>0.178862</td>\n",
       "    </tr>\n",
       "  </tbody>\n",
       "</table>\n",
       "</div>"
      ],
      "text/plain": [
       "        tcga_patient  tcga_freq  nci_patient  nci_freq\n",
       "PIK3CA          53.0   0.273196         43.0  0.349593\n",
       "MLL3            29.0   0.149485         22.0  0.178862"
      ]
     },
     "execution_count": 90,
     "metadata": {},
     "output_type": "execute_result"
    }
   ],
   "source": [
    "dfm.head(2)"
   ]
  },
  {
   "cell_type": "code",
   "execution_count": 101,
   "metadata": {},
   "outputs": [
    {
     "data": {
      "text/html": [
       "<div>\n",
       "<style>\n",
       "    .dataframe thead tr:only-child th {\n",
       "        text-align: right;\n",
       "    }\n",
       "\n",
       "    .dataframe thead th {\n",
       "        text-align: left;\n",
       "    }\n",
       "\n",
       "    .dataframe tbody tr th {\n",
       "        vertical-align: top;\n",
       "    }\n",
       "</style>\n",
       "<table border=\"1\" class=\"dataframe\">\n",
       "  <thead>\n",
       "    <tr style=\"text-align: right;\">\n",
       "      <th></th>\n",
       "      <th>tcga_patient</th>\n",
       "      <th>tcga_freq</th>\n",
       "      <th>nci_patient</th>\n",
       "      <th>nci_freq</th>\n",
       "    </tr>\n",
       "  </thead>\n",
       "  <tbody>\n",
       "    <tr>\n",
       "      <th>SRRM2</th>\n",
       "      <td>7.0</td>\n",
       "      <td>0.036082</td>\n",
       "      <td>9.0</td>\n",
       "      <td>0.073171</td>\n",
       "    </tr>\n",
       "    <tr>\n",
       "      <th>HNRNPC</th>\n",
       "      <td>1.0</td>\n",
       "      <td>0.005155</td>\n",
       "      <td>6.0</td>\n",
       "      <td>0.048780</td>\n",
       "    </tr>\n",
       "    <tr>\n",
       "      <th>CWC22</th>\n",
       "      <td>1.0</td>\n",
       "      <td>0.005155</td>\n",
       "      <td>5.0</td>\n",
       "      <td>0.040650</td>\n",
       "    </tr>\n",
       "    <tr>\n",
       "      <th>PPIG</th>\n",
       "      <td>1.0</td>\n",
       "      <td>0.005155</td>\n",
       "      <td>5.0</td>\n",
       "      <td>0.040650</td>\n",
       "    </tr>\n",
       "    <tr>\n",
       "      <th>SF3B1</th>\n",
       "      <td>1.0</td>\n",
       "      <td>0.005155</td>\n",
       "      <td>5.0</td>\n",
       "      <td>0.040650</td>\n",
       "    </tr>\n",
       "  </tbody>\n",
       "</table>\n",
       "</div>"
      ],
      "text/plain": [
       "        tcga_patient  tcga_freq  nci_patient  nci_freq\n",
       "SRRM2            7.0   0.036082          9.0  0.073171\n",
       "HNRNPC           1.0   0.005155          6.0  0.048780\n",
       "CWC22            1.0   0.005155          5.0  0.040650\n",
       "PPIG             1.0   0.005155          5.0  0.040650\n",
       "SF3B1            1.0   0.005155          5.0  0.040650"
      ]
     },
     "execution_count": 101,
     "metadata": {},
     "output_type": "execute_result"
    }
   ],
   "source": [
    "dfm[dfm.index.isin(sp_genes)].sort_values('nci_freq', ascending=False).head()"
   ]
  },
  {
   "cell_type": "code",
   "execution_count": 93,
   "metadata": {},
   "outputs": [
    {
     "data": {
      "text/html": [
       "<div>\n",
       "<style>\n",
       "    .dataframe thead tr:only-child th {\n",
       "        text-align: right;\n",
       "    }\n",
       "\n",
       "    .dataframe thead th {\n",
       "        text-align: left;\n",
       "    }\n",
       "\n",
       "    .dataframe tbody tr th {\n",
       "        vertical-align: top;\n",
       "    }\n",
       "</style>\n",
       "<table border=\"1\" class=\"dataframe\">\n",
       "  <thead>\n",
       "    <tr style=\"text-align: right;\">\n",
       "      <th></th>\n",
       "      <th>gene</th>\n",
       "      <th>number_HTMCP_patients_with_mutation</th>\n",
       "      <th>reason_picked_for_capture</th>\n",
       "      <th>suggest_exclude</th>\n",
       "      <th>average_RPKM</th>\n",
       "    </tr>\n",
       "  </thead>\n",
       "  <tbody>\n",
       "    <tr>\n",
       "      <th>3</th>\n",
       "      <td>PIK3CA</td>\n",
       "      <td>41</td>\n",
       "      <td>tcga_and_landscape_significantly_mutated</td>\n",
       "      <td>NaN</td>\n",
       "      <td>4.438437</td>\n",
       "    </tr>\n",
       "    <tr>\n",
       "      <th>12</th>\n",
       "      <td>TPRXL</td>\n",
       "      <td>22</td>\n",
       "      <td>mutated_in_3_or_more_HTMCP_patient</td>\n",
       "      <td>NaN</td>\n",
       "      <td>2.755383</td>\n",
       "    </tr>\n",
       "  </tbody>\n",
       "</table>\n",
       "</div>"
      ],
      "text/plain": [
       "      gene  number_HTMCP_patients_with_mutation  \\\n",
       "3   PIK3CA                                   41   \n",
       "12   TPRXL                                   22   \n",
       "\n",
       "                   reason_picked_for_capture suggest_exclude  average_RPKM  \n",
       "3   tcga_and_landscape_significantly_mutated             NaN      4.438437  \n",
       "12        mutated_in_3_or_more_HTMCP_patient             NaN      2.755383  "
      ]
     },
     "execution_count": 93,
     "metadata": {},
     "output_type": "execute_result"
    }
   ],
   "source": [
    "# validation genes\n",
    "df0.head(2)"
   ]
  },
  {
   "cell_type": "code",
   "execution_count": 94,
   "metadata": {},
   "outputs": [
    {
     "data": {
      "text/plain": [
       "(75, 5)"
      ]
     },
     "execution_count": 94,
     "metadata": {},
     "output_type": "execute_result"
    }
   ],
   "source": [
    "df0[df0.gene.isin(sp_genes)].shape"
   ]
  },
  {
   "cell_type": "code",
   "execution_count": 17,
   "metadata": {},
   "outputs": [],
   "source": [
    "# df_nci[df_nci.index.isin(sp_genes)].sort_values('freq', ascending=False)"
   ]
  },
  {
   "cell_type": "code",
   "execution_count": 53,
   "metadata": {
    "scrolled": true
   },
   "outputs": [
    {
     "data": {
      "text/html": [
       "<div>\n",
       "<style>\n",
       "    .dataframe thead tr:only-child th {\n",
       "        text-align: right;\n",
       "    }\n",
       "\n",
       "    .dataframe thead th {\n",
       "        text-align: left;\n",
       "    }\n",
       "\n",
       "    .dataframe tbody tr th {\n",
       "        vertical-align: top;\n",
       "    }\n",
       "</style>\n",
       "<table border=\"1\" class=\"dataframe\">\n",
       "  <thead>\n",
       "    <tr style=\"text-align: right;\">\n",
       "      <th></th>\n",
       "      <th>gene_id</th>\n",
       "      <th>percent_mutated</th>\n",
       "    </tr>\n",
       "  </thead>\n",
       "  <tbody>\n",
       "    <tr>\n",
       "      <th>0</th>\n",
       "      <td>?|10431</td>\n",
       "      <td>0.515464</td>\n",
       "    </tr>\n",
       "    <tr>\n",
       "      <th>1</th>\n",
       "      <td>?|57714</td>\n",
       "      <td>2.061856</td>\n",
       "    </tr>\n",
       "  </tbody>\n",
       "</table>\n",
       "</div>"
      ],
      "text/plain": [
       "   gene_id  percent_mutated\n",
       "0  ?|10431         0.515464\n",
       "1  ?|57714         2.061856"
      ]
     },
     "execution_count": 53,
     "metadata": {},
     "output_type": "execute_result"
    }
   ],
   "source": [
    "f3 = '/projects/mwarren_prj/mwarren_prj_results/VDB-235/CESC.tsv'\n",
    "df3 = pd.read_csv(f3, sep='\\t')\n",
    "df3.head(2)"
   ]
  },
  {
   "cell_type": "code",
   "execution_count": 54,
   "metadata": {
    "collapsed": true
   },
   "outputs": [],
   "source": [
    "df3['gene'] = df3.gene_id.apply(lambda x: x.split('|')[0])"
   ]
  },
  {
   "cell_type": "code",
   "execution_count": 57,
   "metadata": {
    "collapsed": true
   },
   "outputs": [],
   "source": [
    "df3 = df3.drop('gene_id', axis=1)"
   ]
  },
  {
   "cell_type": "code",
   "execution_count": 58,
   "metadata": {},
   "outputs": [
    {
     "data": {
      "text/html": [
       "<div>\n",
       "<style>\n",
       "    .dataframe thead tr:only-child th {\n",
       "        text-align: right;\n",
       "    }\n",
       "\n",
       "    .dataframe thead th {\n",
       "        text-align: left;\n",
       "    }\n",
       "\n",
       "    .dataframe tbody tr th {\n",
       "        vertical-align: top;\n",
       "    }\n",
       "</style>\n",
       "<table border=\"1\" class=\"dataframe\">\n",
       "  <thead>\n",
       "    <tr style=\"text-align: right;\">\n",
       "      <th></th>\n",
       "      <th>percent_mutated</th>\n",
       "      <th>gene</th>\n",
       "    </tr>\n",
       "  </thead>\n",
       "  <tbody>\n",
       "    <tr>\n",
       "      <th>0</th>\n",
       "      <td>0.515464</td>\n",
       "      <td>?</td>\n",
       "    </tr>\n",
       "    <tr>\n",
       "      <th>1</th>\n",
       "      <td>2.061856</td>\n",
       "      <td>?</td>\n",
       "    </tr>\n",
       "  </tbody>\n",
       "</table>\n",
       "</div>"
      ],
      "text/plain": [
       "   percent_mutated gene\n",
       "0         0.515464    ?\n",
       "1         2.061856    ?"
      ]
     },
     "execution_count": 58,
     "metadata": {},
     "output_type": "execute_result"
    }
   ],
   "source": [
    "df3.head(2)"
   ]
  },
  {
   "cell_type": "code",
   "execution_count": 59,
   "metadata": {
    "collapsed": true
   },
   "outputs": [],
   "source": [
    "df3['tcga_freq'] = df3.percent_mutated/100"
   ]
  },
  {
   "cell_type": "code",
   "execution_count": 60,
   "metadata": {
    "collapsed": true
   },
   "outputs": [],
   "source": [
    "df3 = df3.drop('percent_mutated', axis=1)"
   ]
  },
  {
   "cell_type": "code",
   "execution_count": 61,
   "metadata": {},
   "outputs": [
    {
     "data": {
      "text/html": [
       "<div>\n",
       "<style>\n",
       "    .dataframe thead tr:only-child th {\n",
       "        text-align: right;\n",
       "    }\n",
       "\n",
       "    .dataframe thead th {\n",
       "        text-align: left;\n",
       "    }\n",
       "\n",
       "    .dataframe tbody tr th {\n",
       "        vertical-align: top;\n",
       "    }\n",
       "</style>\n",
       "<table border=\"1\" class=\"dataframe\">\n",
       "  <thead>\n",
       "    <tr style=\"text-align: right;\">\n",
       "      <th></th>\n",
       "      <th>gene</th>\n",
       "      <th>tcga_freq</th>\n",
       "    </tr>\n",
       "  </thead>\n",
       "  <tbody>\n",
       "    <tr>\n",
       "      <th>0</th>\n",
       "      <td>?</td>\n",
       "      <td>0.005155</td>\n",
       "    </tr>\n",
       "    <tr>\n",
       "      <th>1</th>\n",
       "      <td>?</td>\n",
       "      <td>0.020619</td>\n",
       "    </tr>\n",
       "  </tbody>\n",
       "</table>\n",
       "</div>"
      ],
      "text/plain": [
       "  gene  tcga_freq\n",
       "0    ?   0.005155\n",
       "1    ?   0.020619"
      ]
     },
     "execution_count": 61,
     "metadata": {},
     "output_type": "execute_result"
    }
   ],
   "source": [
    "df3.head(2)"
   ]
  },
  {
   "cell_type": "code",
   "execution_count": 63,
   "metadata": {},
   "outputs": [
    {
     "data": {
      "text/html": [
       "<div>\n",
       "<style>\n",
       "    .dataframe thead tr:only-child th {\n",
       "        text-align: right;\n",
       "    }\n",
       "\n",
       "    .dataframe thead th {\n",
       "        text-align: left;\n",
       "    }\n",
       "\n",
       "    .dataframe tbody tr th {\n",
       "        vertical-align: top;\n",
       "    }\n",
       "</style>\n",
       "<table border=\"1\" class=\"dataframe\">\n",
       "  <thead>\n",
       "    <tr style=\"text-align: right;\">\n",
       "      <th></th>\n",
       "      <th>gene</th>\n",
       "      <th>tcga_freq</th>\n",
       "      <th>patient</th>\n",
       "      <th>freq</th>\n",
       "    </tr>\n",
       "  </thead>\n",
       "  <tbody>\n",
       "    <tr>\n",
       "      <th>0</th>\n",
       "      <td>?</td>\n",
       "      <td>0.005155</td>\n",
       "      <td>NaN</td>\n",
       "      <td>NaN</td>\n",
       "    </tr>\n",
       "    <tr>\n",
       "      <th>1</th>\n",
       "      <td>?</td>\n",
       "      <td>0.020619</td>\n",
       "      <td>NaN</td>\n",
       "      <td>NaN</td>\n",
       "    </tr>\n",
       "    <tr>\n",
       "      <th>2</th>\n",
       "      <td>A1BG</td>\n",
       "      <td>0.005155</td>\n",
       "      <td>1.0</td>\n",
       "      <td>0.00813</td>\n",
       "    </tr>\n",
       "    <tr>\n",
       "      <th>3</th>\n",
       "      <td>A1CF</td>\n",
       "      <td>0.010309</td>\n",
       "      <td>2.0</td>\n",
       "      <td>0.01626</td>\n",
       "    </tr>\n",
       "    <tr>\n",
       "      <th>4</th>\n",
       "      <td>A2BP1</td>\n",
       "      <td>0.030928</td>\n",
       "      <td>NaN</td>\n",
       "      <td>NaN</td>\n",
       "    </tr>\n",
       "  </tbody>\n",
       "</table>\n",
       "</div>"
      ],
      "text/plain": [
       "    gene  tcga_freq  patient     freq\n",
       "0      ?   0.005155      NaN      NaN\n",
       "1      ?   0.020619      NaN      NaN\n",
       "2   A1BG   0.005155      1.0  0.00813\n",
       "3   A1CF   0.010309      2.0  0.01626\n",
       "4  A2BP1   0.030928      NaN      NaN"
      ]
     },
     "execution_count": 63,
     "metadata": {},
     "output_type": "execute_result"
    }
   ],
   "source": [
    "dfm2 = pd.merge(df3, df_nci, left_on='gene', right_index=True, how='outer')\n",
    "dfm2.head()"
   ]
  },
  {
   "cell_type": "code",
   "execution_count": 66,
   "metadata": {
    "collapsed": true
   },
   "outputs": [],
   "source": [
    "dfm2.set_index('gene', inplace=True)"
   ]
  },
  {
   "cell_type": "code",
   "execution_count": 67,
   "metadata": {
    "collapsed": true
   },
   "outputs": [],
   "source": [
    "dfm2.columns = ['tcga_freq', 'nci_patient', 'nci_freq']"
   ]
  },
  {
   "cell_type": "code",
   "execution_count": 68,
   "metadata": {},
   "outputs": [
    {
     "data": {
      "text/plain": [
       "(17139, 3)"
      ]
     },
     "execution_count": 68,
     "metadata": {},
     "output_type": "execute_result"
    }
   ],
   "source": [
    "dfm2.shape"
   ]
  },
  {
   "cell_type": "code",
   "execution_count": 73,
   "metadata": {
    "collapsed": true
   },
   "outputs": [],
   "source": [
    "dfm2 = dfm2.dropna().sort_values(['nci_freq', 'tcga_freq'], ascending=False)"
   ]
  },
  {
   "cell_type": "code",
   "execution_count": 74,
   "metadata": {},
   "outputs": [
    {
     "data": {
      "text/html": [
       "<div>\n",
       "<style>\n",
       "    .dataframe thead tr:only-child th {\n",
       "        text-align: right;\n",
       "    }\n",
       "\n",
       "    .dataframe thead th {\n",
       "        text-align: left;\n",
       "    }\n",
       "\n",
       "    .dataframe tbody tr th {\n",
       "        vertical-align: top;\n",
       "    }\n",
       "</style>\n",
       "<table border=\"1\" class=\"dataframe\">\n",
       "  <thead>\n",
       "    <tr style=\"text-align: right;\">\n",
       "      <th></th>\n",
       "      <th>tcga_freq</th>\n",
       "      <th>nci_patient</th>\n",
       "      <th>nci_freq</th>\n",
       "    </tr>\n",
       "    <tr>\n",
       "      <th>gene</th>\n",
       "      <th></th>\n",
       "      <th></th>\n",
       "      <th></th>\n",
       "    </tr>\n",
       "  </thead>\n",
       "  <tbody>\n",
       "    <tr>\n",
       "      <th>MUC4</th>\n",
       "      <td>0.015464</td>\n",
       "      <td>88.0</td>\n",
       "      <td>0.715447</td>\n",
       "    </tr>\n",
       "    <tr>\n",
       "      <th>TTN</th>\n",
       "      <td>0.350515</td>\n",
       "      <td>51.0</td>\n",
       "      <td>0.414634</td>\n",
       "    </tr>\n",
       "    <tr>\n",
       "      <th>AHNAK2</th>\n",
       "      <td>0.061856</td>\n",
       "      <td>45.0</td>\n",
       "      <td>0.365854</td>\n",
       "    </tr>\n",
       "    <tr>\n",
       "      <th>PIK3CA</th>\n",
       "      <td>0.273196</td>\n",
       "      <td>43.0</td>\n",
       "      <td>0.349593</td>\n",
       "    </tr>\n",
       "    <tr>\n",
       "      <th>MUC16</th>\n",
       "      <td>0.144330</td>\n",
       "      <td>35.0</td>\n",
       "      <td>0.284553</td>\n",
       "    </tr>\n",
       "  </tbody>\n",
       "</table>\n",
       "</div>"
      ],
      "text/plain": [
       "        tcga_freq  nci_patient  nci_freq\n",
       "gene                                    \n",
       "MUC4     0.015464         88.0  0.715447\n",
       "TTN      0.350515         51.0  0.414634\n",
       "AHNAK2   0.061856         45.0  0.365854\n",
       "PIK3CA   0.273196         43.0  0.349593\n",
       "MUC16    0.144330         35.0  0.284553"
      ]
     },
     "execution_count": 74,
     "metadata": {},
     "output_type": "execute_result"
    }
   ],
   "source": [
    "dfm2.head()"
   ]
  },
  {
   "cell_type": "code",
   "execution_count": 88,
   "metadata": {
    "collapsed": true
   },
   "outputs": [],
   "source": [
    "labels = dfm2.index.tolist()\n",
    "x = dfm2.tcga_freq\n",
    "y = dfm2.nci_freq"
   ]
  },
  {
   "cell_type": "code",
   "execution_count": 89,
   "metadata": {
    "scrolled": true
   },
   "outputs": [
    {
     "name": "stderr",
     "output_type": "stream",
     "text": [
      "/home/szong/anaconda3/lib/python3.6/site-packages/matplotlib/font_manager.py:1297: UserWarning: findfont: Font family ['sans-serif'] not found. Falling back to DejaVu Sans\n",
      "  (prop.get_family(), self.defaultFamily[fontext]))\n"
     ]
    },
    {
     "data": {
      "image/png": "[encoded data removed]",
      "text/plain": [
       "<matplotlib.figure.Figure at 0x7fd072a0e8d0>"
      ]
     },
     "metadata": {},
     "output_type": "display_data"
    }
   ],
   "source": [
    "with plt.style.context(\"seaborn-whitegrid\"):\n",
    "    plt.rcParams[\"axes.edgecolor\"] = \"0.15\"\n",
    "    plt.rcParams[\"axes.linewidth\"]  = 1.25\n",
    "    fig = plt.figure(facecolor='w', figsize=(15,15))\n",
    "    ax = fig.add_subplot(111)\n",
    "#     fig, ax = plt.subplots(figsize=(10,10))\n",
    "    ax.scatter(x, y)\n",
    "\n",
    "    ann = []\n",
    "    n = len(labels)\n",
    "    for i in range(n):\n",
    "        xy = [x[i], y[i]]\n",
    "        fc = x[i]/y[i]\n",
    "        if max(xy) > 0.1 or fc > 2 or fc < 0.5:\n",
    "            ann.append(ax.annotate(labels[i], xy = (x[i], y[i])))\n",
    "    mask = np.zeros(fig.canvas.get_width_height(), bool)\n",
    "    plt.tight_layout()\n",
    "    fig.canvas.draw()\n",
    "\n",
    "    for a in ann:\n",
    "        bbox = a.get_window_extent()\n",
    "        x0 = int(bbox.x0)\n",
    "        x1 = int(math.ceil(bbox.x1))\n",
    "        y0 = int(bbox.y0)\n",
    "        y1 = int(math.ceil(bbox.y1))\n",
    "\n",
    "        s = np.s_[x0:x1+1, y0:y1+1]\n",
    "        if np.any(mask[s]):\n",
    "            a.set_visible(False)\n",
    "        else:\n",
    "            mask[s] = True\n",
    "\n",
    "    plt.xlabel('fraction of tcga CESE patients')\n",
    "    plt.ylabel('fraction of NCI cervical patients')\n",
    "    plt.tight_layout()\n",
    "of = '/projects/trans_scratch/validations/workspace/szong/Cervical/variant_bwamem/124_patients_new/tcga_nci_percent_patient_mutated_Mya.png'\n",
    "plt.savefig(of, dpi=300)\n",
    "plt.show()"
   ]
  },
  {
   "cell_type": "code",
   "execution_count": null,
   "metadata": {
    "collapsed": true
   },
   "outputs": [],
   "source": []
  },
  {
   "cell_type": "markdown",
   "metadata": {
    "collapsed": true
   },
   "source": [
    "# look at number of genes with splicing mutations"
   ]
  },
  {
   "cell_type": "code",
   "execution_count": 3,
   "metadata": {},
   "outputs": [
    {
     "data": {
      "text/html": [
       "<div>\n",
       "<style scoped>\n",
       "    .dataframe tbody tr th:only-of-type {\n",
       "        vertical-align: middle;\n",
       "    }\n",
       "\n",
       "    .dataframe tbody tr th {\n",
       "        vertical-align: top;\n",
       "    }\n",
       "\n",
       "    .dataframe thead th {\n",
       "        text-align: right;\n",
       "    }\n",
       "</style>\n",
       "<table border=\"1\" class=\"dataframe\">\n",
       "  <thead>\n",
       "    <tr style=\"text-align: right;\">\n",
       "      <th></th>\n",
       "      <th>Hugo_Symbol</th>\n",
       "      <th>Entrez_Gene_Id</th>\n",
       "      <th>Center</th>\n",
       "      <th>NCBI_Build</th>\n",
       "      <th>Chromosome</th>\n",
       "      <th>Start_Position</th>\n",
       "      <th>End_Position</th>\n",
       "      <th>Strand</th>\n",
       "      <th>Variant_Classification</th>\n",
       "      <th>Variant_Type</th>\n",
       "      <th>...</th>\n",
       "      <th>gene_name_source</th>\n",
       "      <th>gene_name_source.1</th>\n",
       "      <th>tumor_ref_reads</th>\n",
       "      <th>tumor_var_reads</th>\n",
       "      <th>tumor_vaf</th>\n",
       "      <th>normal_ref_reads</th>\n",
       "      <th>normal_var_reads</th>\n",
       "      <th>normal_vaf</th>\n",
       "      <th>dbSNP_rsID</th>\n",
       "      <th>GMAF</th>\n",
       "    </tr>\n",
       "  </thead>\n",
       "  <tbody>\n",
       "    <tr>\n",
       "      <th>0</th>\n",
       "      <td>A1BG</td>\n",
       "      <td>1</td>\n",
       "      <td>genome.wustl.edu</td>\n",
       "      <td>37</td>\n",
       "      <td>19</td>\n",
       "      <td>58864353</td>\n",
       "      <td>58864353</td>\n",
       "      <td>+</td>\n",
       "      <td>Missense_Mutation</td>\n",
       "      <td>SNP</td>\n",
       "      <td>...</td>\n",
       "      <td>HGNC</td>\n",
       "      <td>ENSG00000121410</td>\n",
       "      <td>93</td>\n",
       "      <td>80</td>\n",
       "      <td>46.24</td>\n",
       "      <td>170</td>\n",
       "      <td>0</td>\n",
       "      <td>0.0</td>\n",
       "      <td>NaN</td>\n",
       "      <td>NaN</td>\n",
       "    </tr>\n",
       "    <tr>\n",
       "      <th>1</th>\n",
       "      <td>A1BG-AS1</td>\n",
       "      <td>503538</td>\n",
       "      <td>genome.wustl.edu</td>\n",
       "      <td>37</td>\n",
       "      <td>19</td>\n",
       "      <td>58864179</td>\n",
       "      <td>58864179</td>\n",
       "      <td>+</td>\n",
       "      <td>RNA</td>\n",
       "      <td>SNP</td>\n",
       "      <td>...</td>\n",
       "      <td>HGNC</td>\n",
       "      <td>ENSG00000268895</td>\n",
       "      <td>81</td>\n",
       "      <td>12</td>\n",
       "      <td>12.90</td>\n",
       "      <td>30</td>\n",
       "      <td>0</td>\n",
       "      <td>0.0</td>\n",
       "      <td>NaN</td>\n",
       "      <td>NaN</td>\n",
       "    </tr>\n",
       "  </tbody>\n",
       "</table>\n",
       "<p>2 rows × 66 columns</p>\n",
       "</div>"
      ],
      "text/plain": [
       "  Hugo_Symbol  Entrez_Gene_Id            Center  NCBI_Build Chromosome  \\\n",
       "0        A1BG               1  genome.wustl.edu          37         19   \n",
       "1    A1BG-AS1          503538  genome.wustl.edu          37         19   \n",
       "\n",
       "   Start_Position  End_Position Strand Variant_Classification Variant_Type  \\\n",
       "0        58864353      58864353      +      Missense_Mutation          SNP   \n",
       "1        58864179      58864179      +                    RNA          SNP   \n",
       "\n",
       "   ...  gene_name_source gene_name_source.1 tumor_ref_reads  tumor_var_reads  \\\n",
       "0  ...              HGNC    ENSG00000121410              93               80   \n",
       "1  ...              HGNC    ENSG00000268895              81               12   \n",
       "\n",
       "   tumor_vaf normal_ref_reads normal_var_reads normal_vaf dbSNP_rsID  GMAF  \n",
       "0      46.24              170                0        0.0        NaN   NaN  \n",
       "1      12.90               30                0        0.0        NaN   NaN  \n",
       "\n",
       "[2 rows x 66 columns]"
      ]
     },
     "execution_count": 3,
     "metadata": {},
     "output_type": "execute_result"
    }
   ],
   "source": [
    "f = '/projects/trans_scratch/validations/workspace/szong/Cervical/tcga_variants/tcga.genome.wustl.edu_CESC.IlluminaGA_DNASeq_curated.Level_2.1.0.0.somatic.maf'\n",
    "df = pd.read_csv(f, sep='\\t')\n",
    "df.head(2)"
   ]
  },
  {
   "cell_type": "code",
   "execution_count": 4,
   "metadata": {},
   "outputs": [
    {
     "data": {
      "text/plain": [
       "array(['Missense_Mutation', 'RNA', 'Silent', 'Nonsense_Mutation',\n",
       "       'Splice_Site', 'In_Frame_Del', 'Frame_Shift_Del',\n",
       "       'Frame_Shift_Ins', 'Nonstop_Mutation', 'In_Frame_Ins'],\n",
       "      dtype=object)"
      ]
     },
     "execution_count": 4,
     "metadata": {},
     "output_type": "execute_result"
    }
   ],
   "source": [
    "df.Variant_Classification.unique()"
   ]
  },
  {
   "cell_type": "code",
   "execution_count": 6,
   "metadata": {},
   "outputs": [
    {
     "data": {
      "text/plain": [
       "(574, 66)"
      ]
     },
     "execution_count": 6,
     "metadata": {},
     "output_type": "execute_result"
    }
   ],
   "source": [
    "df1 = df.query('Variant_Classification == \"{}\"'.format('Splice_Site'))\n",
    "df1.shape"
   ]
  },
  {
   "cell_type": "code",
   "execution_count": 11,
   "metadata": {},
   "outputs": [],
   "source": [
    "genes_with_splicing_site_muts = df1.Hugo_Symbol.unique()"
   ]
  },
  {
   "cell_type": "code",
   "execution_count": 12,
   "metadata": {},
   "outputs": [],
   "source": [
    "all_genes = df.Hugo_Symbol.unique()"
   ]
  },
  {
   "cell_type": "code",
   "execution_count": 15,
   "metadata": {},
   "outputs": [
    {
     "data": {
      "text/plain": [
       "536"
      ]
     },
     "execution_count": 15,
     "metadata": {},
     "output_type": "execute_result"
    }
   ],
   "source": [
    "len(genes_with_splicing_site_muts)\n"
   ]
  },
  {
   "cell_type": "code",
   "execution_count": 16,
   "metadata": {},
   "outputs": [
    {
     "data": {
      "text/plain": [
       "16453"
      ]
     },
     "execution_count": 16,
     "metadata": {},
     "output_type": "execute_result"
    }
   ],
   "source": [
    "len(all_genes)"
   ]
  },
  {
   "cell_type": "code",
   "execution_count": null,
   "metadata": {},
   "outputs": [],
   "source": [
    "len(genes_with_splicing_site_muts)/len(all_genes)"
   ]
  },
  {
   "cell_type": "code",
   "execution_count": 90,
   "metadata": {},
   "outputs": [
    {
     "data": {
      "text/html": [
       "<div>\n",
       "<style scoped>\n",
       "    .dataframe tbody tr th:only-of-type {\n",
       "        vertical-align: middle;\n",
       "    }\n",
       "\n",
       "    .dataframe tbody tr th {\n",
       "        vertical-align: top;\n",
       "    }\n",
       "\n",
       "    .dataframe thead th {\n",
       "        text-align: right;\n",
       "    }\n",
       "</style>\n",
       "<table border=\"1\" class=\"dataframe\">\n",
       "  <thead>\n",
       "    <tr style=\"text-align: right;\">\n",
       "      <th></th>\n",
       "      <th>gene</th>\n",
       "      <th>patient_ID</th>\n",
       "      <th>snpeff_details</th>\n",
       "    </tr>\n",
       "  </thead>\n",
       "  <tbody>\n",
       "    <tr>\n",
       "      <th>0</th>\n",
       "      <td>SAMD11</td>\n",
       "      <td>HTMCP-03-06-02007</td>\n",
       "      <td>NON_SYNONYMOUS_CODING(MODERATE|MISSENSE|ttC/tt...</td>\n",
       "    </tr>\n",
       "    <tr>\n",
       "      <th>1</th>\n",
       "      <td>SAMD11</td>\n",
       "      <td>HTMCP-03-06-02214</td>\n",
       "      <td>NON_SYNONYMOUS_CODING(MODERATE|MISSENSE|Ccc/Tc...</td>\n",
       "    </tr>\n",
       "  </tbody>\n",
       "</table>\n",
       "</div>"
      ],
      "text/plain": [
       "     gene         patient_ID  \\\n",
       "0  SAMD11  HTMCP-03-06-02007   \n",
       "1  SAMD11  HTMCP-03-06-02214   \n",
       "\n",
       "                                      snpeff_details  \n",
       "0  NON_SYNONYMOUS_CODING(MODERATE|MISSENSE|ttC/tt...  \n",
       "1  NON_SYNONYMOUS_CODING(MODERATE|MISSENSE|Ccc/Tc...  "
      ]
     },
     "execution_count": 90,
     "metadata": {},
     "output_type": "execute_result"
    }
   ],
   "source": [
    "#  snv summary file\n",
    "f = '/projects/trans_scratch/validations/workspace/szong/Cervical/variant_bwamem/124_patients_new/HIGH_MODERATE_SNV_summary_with_normal_with_AF_filtered_somatic.tsv'\n",
    "df1 = pd.read_csv(f, sep='\\t', usecols=['gene', 'patient_ID', 'snpeff_details'])\n",
    "\n",
    "df1.head(2)"
   ]
  },
  {
   "cell_type": "code",
   "execution_count": 91,
   "metadata": {},
   "outputs": [],
   "source": [
    "df1['yyy'] = df1.snpeff_details.str.split('(', 1, expand=True)[0]"
   ]
  },
  {
   "cell_type": "code",
   "execution_count": 92,
   "metadata": {},
   "outputs": [],
   "source": [
    "# remember to escape the special characters like + -\n",
    "df1['xxx'] = df1.yyy\\\n",
    ".str.replace('splice_donor_variant\\+splice_region_variant\\+splice_region_variant\\+intron_variant\\+non_coding_exon_variant', 'splicing_site')\\\n",
    ".str.replace('frameshift_variant\\+splice_donor_variant\\+splice_region_variant\\+splice_region_variant\\+intron_variant', 'splicing_site')\\\n",
    ".str.replace('splice_donor_variant\\+disruptive_inframe_deletion\\+splice_region_variant\\+intron_variant' ,'splicing_site')\\\n",
    ".str.replace('missense_variant\\+splice_region_variant', 'splicing_site')\\\n",
    ".str.replace('splice_acceptor_variant\\+intron_variant', 'splicing_site')\\\n",
    ".str.replace('splice_donor_variant\\+intron_variant', 'splicing_site')\\\n",
    ".str.replace('SPLICE_SITE_ACCEPTOR', 'splicing_site')\\\n",
    ".str.replace('SPLICE_SITE_DONOR', 'splicing_site')"
   ]
  },
  {
   "cell_type": "code",
   "execution_count": 93,
   "metadata": {},
   "outputs": [
    {
     "data": {
      "text/plain": [
       "array(['NON_SYNONYMOUS_CODING', 'STOP_GAINED', 'missense_variant',\n",
       "       'STOP_LOST', 'splicing_site', 'stop_gained', 'START_LOST',\n",
       "       'start_lost', 'stop_lost'], dtype=object)"
      ]
     },
     "execution_count": 93,
     "metadata": {},
     "output_type": "execute_result"
    }
   ],
   "source": [
    "df1.xxx.str.split('(', 1, expand=True)[0].unique()"
   ]
  },
  {
   "cell_type": "code",
   "execution_count": 98,
   "metadata": {},
   "outputs": [],
   "source": [
    "df1_genes = df1.query('xxx == \"{}\"'.format('splicing_site'))['gene'].unique()"
   ]
  },
  {
   "cell_type": "code",
   "execution_count": 99,
   "metadata": {},
   "outputs": [
    {
     "data": {
      "text/html": [
       "<div>\n",
       "<style scoped>\n",
       "    .dataframe tbody tr th:only-of-type {\n",
       "        vertical-align: middle;\n",
       "    }\n",
       "\n",
       "    .dataframe tbody tr th {\n",
       "        vertical-align: top;\n",
       "    }\n",
       "\n",
       "    .dataframe thead th {\n",
       "        text-align: right;\n",
       "    }\n",
       "</style>\n",
       "<table border=\"1\" class=\"dataframe\">\n",
       "  <thead>\n",
       "    <tr style=\"text-align: right;\">\n",
       "      <th></th>\n",
       "      <th>gene</th>\n",
       "      <th>patient_ID</th>\n",
       "      <th>snpeff_details</th>\n",
       "    </tr>\n",
       "  </thead>\n",
       "  <tbody>\n",
       "    <tr>\n",
       "      <th>0</th>\n",
       "      <td>PCNT</td>\n",
       "      <td>HTMCP-03-06-02448</td>\n",
       "      <td>CODON_DELETION(MODERATE||caggag/cag|QE2573Q|33...</td>\n",
       "    </tr>\n",
       "    <tr>\n",
       "      <th>1</th>\n",
       "      <td>MLL3</td>\n",
       "      <td>HTMCP-03-06-02097</td>\n",
       "      <td>FRAME_SHIFT(HIGH||-|-1823|4911|MLL3|protein_co...</td>\n",
       "    </tr>\n",
       "  </tbody>\n",
       "</table>\n",
       "</div>"
      ],
      "text/plain": [
       "   gene         patient_ID                                     snpeff_details\n",
       "0  PCNT  HTMCP-03-06-02448  CODON_DELETION(MODERATE||caggag/cag|QE2573Q|33...\n",
       "1  MLL3  HTMCP-03-06-02097  FRAME_SHIFT(HIGH||-|-1823|4911|MLL3|protein_co..."
      ]
     },
     "execution_count": 99,
     "metadata": {},
     "output_type": "execute_result"
    }
   ],
   "source": [
    "# indel summary file\n",
    "f = '/projects/trans_scratch/validations/workspace/szong/Cervical/variant_bwamem/124_patients_new/HIGH_MODERATE_INDEL_summary_with_normal_strelka_indels_only.tsv'\n",
    "df2 = pd.read_csv(f, sep='\\t', usecols=['gene', 'patient_ID',  'snpeff_details'])\n",
    "df2.head(2)"
   ]
  },
  {
   "cell_type": "code",
   "execution_count": 100,
   "metadata": {},
   "outputs": [],
   "source": [
    "df2['yyy'] = df2.snpeff_details.str.split('(', 1, expand=True)[0]\n"
   ]
  },
  {
   "cell_type": "code",
   "execution_count": 101,
   "metadata": {},
   "outputs": [],
   "source": [
    "# remember to escape the special characters like + -\n",
    "df2['xxx'] = df2.yyy\\\n",
    ".str.replace('splice_donor_variant\\+splice_region_variant\\+splice_region_variant\\+intron_variant\\+non_coding_exon_variant', 'splicing_site')\\\n",
    ".str.replace('frameshift_variant\\+splice_donor_variant\\+splice_region_variant\\+splice_region_variant\\+intron_variant', 'splicing_site')\\\n",
    ".str.replace('splice_donor_variant\\+disruptive_inframe_deletion\\+splice_region_variant\\+intron_variant' ,'splicing_site')\\\n",
    ".str.replace('missense_variant\\+splice_region_variant', 'splicing_site')\\\n",
    ".str.replace('splice_acceptor_variant\\+intron_variant', 'splicing_site')\\\n",
    ".str.replace('splice_donor_variant\\+intron_variant', 'splicing_site')\\\n",
    ".str.replace('SPLICE_SITE_ACCEPTOR', 'splicing_site')\\\n",
    ".str.replace('SPLICE_SITE_DONOR', 'splicing_site')"
   ]
  },
  {
   "cell_type": "code",
   "execution_count": 102,
   "metadata": {},
   "outputs": [
    {
     "data": {
      "text/plain": [
       "array(['CODON_DELETION', 'FRAME_SHIFT', 'splicing_site',\n",
       "       'CODON_CHANGE_PLUS_CODON_DELETION',\n",
       "       'CODON_CHANGE_PLUS_CODON_INSERTION', 'frameshift_variant',\n",
       "       'disruptive_inframe_deletion', 'inframe_deletion',\n",
       "       'CODON_INSERTION', 'STOP_GAINED', 'frameshift_variant+stop_gained'],\n",
       "      dtype=object)"
      ]
     },
     "execution_count": 102,
     "metadata": {},
     "output_type": "execute_result"
    }
   ],
   "source": [
    "df2.xxx.str.split('(', 1, expand=True)[0].unique()"
   ]
  },
  {
   "cell_type": "code",
   "execution_count": 104,
   "metadata": {},
   "outputs": [],
   "source": [
    "df2_genes = df2.query('xxx == \"{}\"'.format('splicing_site'))['gene'].unique()"
   ]
  },
  {
   "cell_type": "code",
   "execution_count": 109,
   "metadata": {},
   "outputs": [
    {
     "data": {
      "text/plain": [
       "1183"
      ]
     },
     "execution_count": 109,
     "metadata": {},
     "output_type": "execute_result"
    }
   ],
   "source": [
    "pd.Series(df1_genes.tolist() + df2_genes.tolist()).nunique()"
   ]
  },
  {
   "cell_type": "code",
   "execution_count": 1,
   "metadata": {},
   "outputs": [
    {
     "data": {
      "text/plain": [
       "0.020676572873853938"
      ]
     },
     "execution_count": 1,
     "metadata": {},
     "output_type": "execute_result"
    }
   ],
   "source": [
    "1308/63260"
   ]
  },
  {
   "cell_type": "code",
   "execution_count": 2,
   "metadata": {},
   "outputs": [
    {
     "data": {
      "text/plain": [
       "0.012331356878920684"
      ]
     },
     "execution_count": 2,
     "metadata": {},
     "output_type": "execute_result"
    }
   ],
   "source": [
    "574/46548"
   ]
  }
 ],
 "metadata": {
  "kernelspec": {
   "display_name": "Python 3",
   "language": "python",
   "name": "python3"
  },
  "language_info": {
   "codemirror_mode": {
    "name": "ipython",
    "version": 3
   },
   "file_extension": ".py",
   "mimetype": "text/x-python",
   "name": "python",
   "nbconvert_exporter": "python",
   "pygments_lexer": "ipython3",
   "version": "3.6.4"
  }
 },
 "nbformat": 4,
 "nbformat_minor": 2
}
