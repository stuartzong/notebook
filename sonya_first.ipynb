{
 "cells": [
  {
   "cell_type": "code",
   "execution_count": 13,
   "metadata": {
    "scrolled": true
   },
   "outputs": [
    {
     "ename": "SyntaxError",
     "evalue": "invalid syntax (<ipython-input-13-bce82a6b6472>, line 4)",
     "output_type": "error",
     "traceback": [
      "\u001b[0;36m  File \u001b[0;32m\"<ipython-input-13-bce82a6b6472>\"\u001b[0;36m, line \u001b[0;32m4\u001b[0m\n\u001b[0;31m    number on dice= (1,2,3,4,5,6)\u001b[0m\n\u001b[0m            ^\u001b[0m\n\u001b[0;31mSyntaxError\u001b[0m\u001b[0;31m:\u001b[0m invalid syntax\n"
     ]
    }
   ],
   "source": [
    "# for a in range(10):\n",
    "#     print(a)\n"
   ]
  },
  {
   "cell_type": "code",
   "execution_count": 42,
   "metadata": {},
   "outputs": [
    {
     "name": "stdout",
     "output_type": "stream",
     "text": [
      "P1 THROW DICE\n",
      "py1 is 6\n",
      "P2 THROW DICE\n",
      "py2 is 3\n",
      "player 1 is the winner.\n",
      "P1 THROW DICE\n",
      "py1 is 1\n",
      "P2 THROW DICE\n",
      "py2 is 2\n",
      "player 2 is the winner\n",
      "P1 THROW DICE\n",
      "py1 is 5\n",
      "P2 THROW DICE\n",
      "py2 is 5\n",
      "it is a tie. roll again!\n",
      "P1 THROW DICE\n",
      "py1 is 4\n",
      "P2 THROW DICE\n",
      "py2 is 6\n",
      "player 2 is the winner\n",
      "P1 THROW DICE\n",
      "py1 is 5\n",
      "P2 THROW DICE\n",
      "py2 is 5\n",
      "it is a tie. roll again!\n",
      "P1 THROW DICE\n",
      "py1 is 2\n",
      "P2 THROW DICE\n",
      "py2 is 6\n",
      "player 2 is the winner\n",
      "P1 THROW DICE\n",
      "py1 is 5\n",
      "P2 THROW DICE\n",
      "py2 is 5\n",
      "it is a tie. roll again!\n",
      "P1 THROW DICE\n",
      "py1 is 6\n",
      "P2 THROW DICE\n",
      "py2 is 2\n",
      "player 1 is the winner.\n",
      "P1 THROW DICE\n",
      "py1 is 3\n",
      "P2 THROW DICE\n",
      "py2 is 2\n",
      "player 1 is the winner.\n",
      "P1 THROW DICE\n",
      "py1 is 2\n",
      "P2 THROW DICE\n",
      "py2 is 1\n",
      "player 1 is the winner.\n",
      "game board results: play1:play2=4:3\n",
      "GAME OVER\n"
     ]
    }
   ],
   "source": [
    "from random import randint\n",
    "py1_wins = 0\n",
    "py2_wins = 0\n",
    "# while True:\n",
    "for i in range(10):\n",
    "    input('P1 THROW DICE')\n",
    "    py1 = randint(1, 6)\n",
    "    print('py1 is {}'.format(py1))\n",
    "    input('P2 THROW DICE')\n",
    "    py2 = randint(1, 6)\n",
    "    print('py2 is {}'.format(py2))\n",
    "#     decide the winner\n",
    "    if py1 > py2:\n",
    "        print('player 1 is the winner.')\n",
    "        py1_wins = py1_wins + 1\n",
    "    elif py1 < py2:\n",
    "        print('player 2 is the winner')\n",
    "        py2_wins = py2_wins + 1\n",
    "    else:\n",
    "\n",
    "\n",
    "        print('it is a tie. roll again!')\n",
    "        \n",
    "print('game board results: play1:play2={0}:{1}'.format(py1_wins, py2_wins))\n",
    "print('GAME OVER')"
   ]
  },
  {
   "cell_type": "code",
   "execution_count": 24,
   "metadata": {},
   "outputs": [
    {
     "name": "stdout",
     "output_type": "stream",
     "text": [
      "Do you want to roll again?:yes\n"
     ]
    },
    {
     "data": {
      "text/plain": [
       "'yes'"
      ]
     },
     "execution_count": 24,
     "metadata": {},
     "output_type": "execute_result"
    }
   ],
   "source": [
    "input('Do you want to roll again?:')"
   ]
  },
  {
   "cell_type": "code",
   "execution_count": 51,
   "metadata": {
    "collapsed": true
   },
   "outputs": [],
   "source": [
    "var1 = 'Amy is a smart girl. %%% tata, tutu?'"
   ]
  },
  {
   "cell_type": "code",
   "execution_count": 48,
   "metadata": {},
   "outputs": [
    {
     "data": {
      "text/plain": [
       "'a smart girl'"
      ]
     },
     "execution_count": 48,
     "metadata": {},
     "output_type": "execute_result"
    }
   ],
   "source": [
    "var[7:19]"
   ]
  },
  {
   "cell_type": "code",
   "execution_count": 49,
   "metadata": {
    "collapsed": true
   },
   "outputs": [],
   "source": [
    "var2 = \"she went out with her friend today.\""
   ]
  },
  {
   "cell_type": "code",
   "execution_count": 53,
   "metadata": {},
   "outputs": [],
   "source": [
    "var3 = var1 + var2"
   ]
  },
  {
   "cell_type": "code",
   "execution_count": 55,
   "metadata": {},
   "outputs": [
    {
     "data": {
      "text/plain": [
       "'.'"
      ]
     },
     "execution_count": 55,
     "metadata": {},
     "output_type": "execute_result"
    }
   ],
   "source": [
    "var3[-1]"
   ]
  },
  {
   "cell_type": "code",
   "execution_count": 56,
   "metadata": {},
   "outputs": [
    {
     "name": "stdout",
     "output_type": "stream",
     "text": [
      "today is sunday\n"
     ]
    }
   ],
   "source": [
    "print(\"today is %s\" % ('sunday')) # python 2"
   ]
  },
  {
   "cell_type": "code",
   "execution_count": 57,
   "metadata": {},
   "outputs": [
    {
     "name": "stdout",
     "output_type": "stream",
     "text": [
      "today is saturday\n"
     ]
    }
   ],
   "source": [
    "print(\"today is {}\".format('saturday')) #python 3"
   ]
  },
  {
   "cell_type": "code",
   "execution_count": 58,
   "metadata": {
    "collapsed": true
   },
   "outputs": [],
   "source": [
    "\n",
    "var1 = 8"
   ]
  },
  {
   "cell_type": "code",
   "execution_count": 59,
   "metadata": {},
   "outputs": [
    {
     "data": {
      "text/plain": [
       "int"
      ]
     },
     "execution_count": 59,
     "metadata": {},
     "output_type": "execute_result"
    }
   ],
   "source": [
    "type(var1)"
   ]
  },
  {
   "cell_type": "code",
   "execution_count": 60,
   "metadata": {},
   "outputs": [
    {
     "data": {
      "text/plain": [
       "8.0"
      ]
     },
     "execution_count": 60,
     "metadata": {},
     "output_type": "execute_result"
    }
   ],
   "source": [
    "float(var1)"
   ]
  },
  {
   "cell_type": "code",
   "execution_count": 63,
   "metadata": {},
   "outputs": [],
   "source": [
    "var2 = int(str(var1))"
   ]
  },
  {
   "cell_type": "code",
   "execution_count": 64,
   "metadata": {
    "collapsed": true
   },
   "outputs": [],
   "source": [
    "var3 = 9"
   ]
  },
  {
   "cell_type": "code",
   "execution_count": 65,
   "metadata": {},
   "outputs": [
    {
     "data": {
      "text/plain": [
       "17"
      ]
     },
     "execution_count": 65,
     "metadata": {},
     "output_type": "execute_result"
    }
   ],
   "source": [
    "var2 + var3"
   ]
  },
  {
   "cell_type": "code",
   "execution_count": 68,
   "metadata": {
    "collapsed": true
   },
   "outputs": [],
   "source": [
    "import numpy as np"
   ]
  },
  {
   "cell_type": "code",
   "execution_count": 72,
   "metadata": {},
   "outputs": [],
   "source": [
    "a = np.array([var2, var3])"
   ]
  },
  {
   "cell_type": "code",
   "execution_count": 73,
   "metadata": {},
   "outputs": [
    {
     "data": {
      "text/plain": [
       "17"
      ]
     },
     "execution_count": 73,
     "metadata": {},
     "output_type": "execute_result"
    }
   ],
   "source": [
    "sum(a)"
   ]
  },
  {
   "cell_type": "code",
   "execution_count": 78,
   "metadata": {},
   "outputs": [],
   "source": [
    "st1 = 'i am happy.'"
   ]
  },
  {
   "cell_type": "code",
   "execution_count": 79,
   "metadata": {},
   "outputs": [
    {
     "name": "stdout",
     "output_type": "stream",
     "text": [
      "i\n",
      " \n",
      "a\n",
      "m\n",
      " \n",
      "h\n",
      "a\n",
      "p\n",
      "p\n",
      "y\n",
      ".\n"
     ]
    }
   ],
   "source": [
    "for i in st1:\n",
    "    print(i)"
   ]
  },
  {
   "cell_type": "code",
   "execution_count": 77,
   "metadata": {},
   "outputs": [
    {
     "name": "stdout",
     "output_type": "stream",
     "text": [
      "3\n",
      "4\n",
      "5\n",
      "6\n",
      "7\n",
      "8\n",
      "9\n",
      "10\n",
      "11\n",
      "12\n"
     ]
    }
   ],
   "source": [
    "for xxx in range(10):\n",
    "    print(xxx+3)"
   ]
  },
  {
   "cell_type": "code",
   "execution_count": 92,
   "metadata": {},
   "outputs": [],
   "source": [
    "import matplotlib.pyplot as plt\n",
    "import math"
   ]
  },
  {
   "cell_type": "code",
   "execution_count": 98,
   "metadata": {},
   "outputs": [
    {
     "data": {
      "image/png": "[encoded data removed]",
      "text/plain": [
       "<matplotlib.figure.Figure at 0x117afe668>"
      ]
     },
     "metadata": {},
     "output_type": "display_data"
    }
   ],
   "source": [
    "# (x1, x2, x3, x4), (y1, y2, y3, y4)\n",
    "# plt.plot((0,0,10, 10,0,0,10), (9,10,10, 9,9,10,9))\n",
    "x = [i for i in range(-100,100)]\n",
    "y = [math.sin(j) for j in x]\n",
    "plt.plot(x,y, c='red')\n",
    "\n",
    "plt.show()"
   ]
  },
  {
   "cell_type": "code",
   "execution_count": 100,
   "metadata": {
    "collapsed": true
   },
   "outputs": [],
   "source": [
    "import pandas as pd"
   ]
  },
  {
   "cell_type": "code",
   "execution_count": 142,
   "metadata": {},
   "outputs": [
    {
     "data": {
      "text/html": [
       "<div>\n",
       "<table border=\"1\" class=\"dataframe\">\n",
       "  <thead>\n",
       "    <tr style=\"text-align: right;\">\n",
       "      <th></th>\n",
       "      <th>pclass</th>\n",
       "      <th>survived</th>\n",
       "      <th>name</th>\n",
       "      <th>sex</th>\n",
       "      <th>age</th>\n",
       "      <th>sibsp</th>\n",
       "      <th>parch</th>\n",
       "      <th>ticket</th>\n",
       "      <th>fare</th>\n",
       "      <th>cabin</th>\n",
       "      <th>embarked</th>\n",
       "      <th>boat</th>\n",
       "      <th>body</th>\n",
       "      <th>home.dest</th>\n",
       "    </tr>\n",
       "  </thead>\n",
       "  <tbody>\n",
       "    <tr>\n",
       "      <th>0</th>\n",
       "      <td>1</td>\n",
       "      <td>1</td>\n",
       "      <td>Allen, Miss. Elisabeth Walton</td>\n",
       "      <td>female</td>\n",
       "      <td>29.0000</td>\n",
       "      <td>0</td>\n",
       "      <td>0</td>\n",
       "      <td>24160</td>\n",
       "      <td>211.3375</td>\n",
       "      <td>B5</td>\n",
       "      <td>S</td>\n",
       "      <td>2</td>\n",
       "      <td>NaN</td>\n",
       "      <td>St Louis, MO</td>\n",
       "    </tr>\n",
       "    <tr>\n",
       "      <th>1</th>\n",
       "      <td>1</td>\n",
       "      <td>1</td>\n",
       "      <td>Allison, Master. Hudson Trevor</td>\n",
       "      <td>male</td>\n",
       "      <td>0.9167</td>\n",
       "      <td>1</td>\n",
       "      <td>2</td>\n",
       "      <td>113781</td>\n",
       "      <td>151.5500</td>\n",
       "      <td>C22 C26</td>\n",
       "      <td>S</td>\n",
       "      <td>11</td>\n",
       "      <td>NaN</td>\n",
       "      <td>Montreal, PQ / Chesterville, ON</td>\n",
       "    </tr>\n",
       "  </tbody>\n",
       "</table>\n",
       "</div>"
      ],
      "text/plain": [
       "   pclass  survived                            name     sex      age  sibsp  \\\n",
       "0       1         1   Allen, Miss. Elisabeth Walton  female  29.0000      0   \n",
       "1       1         1  Allison, Master. Hudson Trevor    male   0.9167      1   \n",
       "\n",
       "   parch  ticket      fare    cabin embarked boat  body  \\\n",
       "0      0   24160  211.3375       B5        S    2   NaN   \n",
       "1      2  113781  151.5500  C22 C26        S   11   NaN   \n",
       "\n",
       "                         home.dest  \n",
       "0                     St Louis, MO  \n",
       "1  Montreal, PQ / Chesterville, ON  "
      ]
     },
     "execution_count": 142,
     "metadata": {},
     "output_type": "execute_result"
    }
   ],
   "source": [
    "f = '/Users/stuartzong/Downloads/titanic3.xls'\n",
    "df = pd.read_excel(f)\n",
    "df.head(2)"
   ]
  },
  {
   "cell_type": "code",
   "execution_count": 161,
   "metadata": {},
   "outputs": [
    {
     "data": {
      "text/plain": [
       "1    32\n",
       "0    21\n",
       "Name: survived, dtype: int64"
      ]
     },
     "execution_count": 161,
     "metadata": {},
     "output_type": "execute_result"
    }
   ],
   "source": [
    "df[(df.age>=18)&(df['home.dest']==\"New York, NY\")]['survived'].value_counts()"
   ]
  },
  {
   "cell_type": "code",
   "execution_count": 143,
   "metadata": {},
   "outputs": [
    {
     "data": {
      "text/plain": [
       "(1309, 14)"
      ]
     },
     "execution_count": 143,
     "metadata": {},
     "output_type": "execute_result"
    }
   ],
   "source": [
    "df.shape\n"
   ]
  },
  {
   "cell_type": "code",
   "execution_count": 148,
   "metadata": {},
   "outputs": [
    {
     "data": {
      "text/plain": [
       "male      843\n",
       "female    466\n",
       "Name: sex, dtype: int64"
      ]
     },
     "execution_count": 148,
     "metadata": {},
     "output_type": "execute_result"
    }
   ],
   "source": [
    "df.sex.value_counts()"
   ]
  },
  {
   "cell_type": "code",
   "execution_count": 150,
   "metadata": {},
   "outputs": [
    {
     "data": {
      "text/plain": [
       "0    809\n",
       "1    500\n",
       "Name: survived, dtype: int64"
      ]
     },
     "execution_count": 150,
     "metadata": {},
     "output_type": "execute_result"
    }
   ],
   "source": [
    "df.survived.value_counts()"
   ]
  },
  {
   "cell_type": "code",
   "execution_count": 167,
   "metadata": {},
   "outputs": [
    {
     "data": {
      "image/png": "[encoded data removed]",
      "text/plain": [
       "<matplotlib.figure.Figure at 0x11a267f60>"
      ]
     },
     "metadata": {},
     "output_type": "display_data"
    }
   ],
   "source": [
    "df.age.hist()\n",
    "plt.show()"
   ]
  },
  {
   "cell_type": "code",
   "execution_count": 173,
   "metadata": {},
   "outputs": [
    {
     "data": {
      "image/png": "[encoded data removed]",
      "text/plain": [
       "<matplotlib.figure.Figure at 0x11a2ba3c8>"
      ]
     },
     "metadata": {},
     "output_type": "display_data"
    }
   ],
   "source": [
    "plt.scatter(df.age, df.fare)\n",
    "plt.show()"
   ]
  },
  {
   "cell_type": "code",
   "execution_count": 174,
   "metadata": {},
   "outputs": [
    {
     "data": {
      "text/html": [
       "<div>\n",
       "<table border=\"1\" class=\"dataframe\">\n",
       "  <thead>\n",
       "    <tr style=\"text-align: right;\">\n",
       "      <th></th>\n",
       "      <th>pclass</th>\n",
       "      <th>survived</th>\n",
       "      <th>name</th>\n",
       "      <th>sex</th>\n",
       "      <th>age</th>\n",
       "      <th>sibsp</th>\n",
       "      <th>parch</th>\n",
       "      <th>ticket</th>\n",
       "      <th>fare</th>\n",
       "      <th>cabin</th>\n",
       "      <th>embarked</th>\n",
       "      <th>boat</th>\n",
       "      <th>body</th>\n",
       "      <th>home.dest</th>\n",
       "    </tr>\n",
       "  </thead>\n",
       "  <tbody>\n",
       "    <tr>\n",
       "      <th>49</th>\n",
       "      <td>1</td>\n",
       "      <td>1</td>\n",
       "      <td>Cardeza, Mr. Thomas Drake Martinez</td>\n",
       "      <td>male</td>\n",
       "      <td>36.0</td>\n",
       "      <td>0</td>\n",
       "      <td>1</td>\n",
       "      <td>PC 17755</td>\n",
       "      <td>512.3292</td>\n",
       "      <td>B51 B53 B55</td>\n",
       "      <td>C</td>\n",
       "      <td>3</td>\n",
       "      <td>NaN</td>\n",
       "      <td>Austria-Hungary / Germantown, Philadelphia, PA</td>\n",
       "    </tr>\n",
       "    <tr>\n",
       "      <th>50</th>\n",
       "      <td>1</td>\n",
       "      <td>1</td>\n",
       "      <td>Cardeza, Mrs. James Warburton Martinez (Charlo...</td>\n",
       "      <td>female</td>\n",
       "      <td>58.0</td>\n",
       "      <td>0</td>\n",
       "      <td>1</td>\n",
       "      <td>PC 17755</td>\n",
       "      <td>512.3292</td>\n",
       "      <td>B51 B53 B55</td>\n",
       "      <td>C</td>\n",
       "      <td>3</td>\n",
       "      <td>NaN</td>\n",
       "      <td>Germantown, Philadelphia, PA</td>\n",
       "    </tr>\n",
       "    <tr>\n",
       "      <th>183</th>\n",
       "      <td>1</td>\n",
       "      <td>1</td>\n",
       "      <td>Lesurer, Mr. Gustave J</td>\n",
       "      <td>male</td>\n",
       "      <td>35.0</td>\n",
       "      <td>0</td>\n",
       "      <td>0</td>\n",
       "      <td>PC 17755</td>\n",
       "      <td>512.3292</td>\n",
       "      <td>B101</td>\n",
       "      <td>C</td>\n",
       "      <td>3</td>\n",
       "      <td>NaN</td>\n",
       "      <td>NaN</td>\n",
       "    </tr>\n",
       "    <tr>\n",
       "      <th>302</th>\n",
       "      <td>1</td>\n",
       "      <td>1</td>\n",
       "      <td>Ward, Miss. Anna</td>\n",
       "      <td>female</td>\n",
       "      <td>35.0</td>\n",
       "      <td>0</td>\n",
       "      <td>0</td>\n",
       "      <td>PC 17755</td>\n",
       "      <td>512.3292</td>\n",
       "      <td>NaN</td>\n",
       "      <td>C</td>\n",
       "      <td>3</td>\n",
       "      <td>NaN</td>\n",
       "      <td>NaN</td>\n",
       "    </tr>\n",
       "  </tbody>\n",
       "</table>\n",
       "</div>"
      ],
      "text/plain": [
       "     pclass  survived                                               name  \\\n",
       "49        1         1                 Cardeza, Mr. Thomas Drake Martinez   \n",
       "50        1         1  Cardeza, Mrs. James Warburton Martinez (Charlo...   \n",
       "183       1         1                             Lesurer, Mr. Gustave J   \n",
       "302       1         1                                   Ward, Miss. Anna   \n",
       "\n",
       "        sex   age  sibsp  parch    ticket      fare        cabin embarked  \\\n",
       "49     male  36.0      0      1  PC 17755  512.3292  B51 B53 B55        C   \n",
       "50   female  58.0      0      1  PC 17755  512.3292  B51 B53 B55        C   \n",
       "183    male  35.0      0      0  PC 17755  512.3292         B101        C   \n",
       "302  female  35.0      0      0  PC 17755  512.3292          NaN        C   \n",
       "\n",
       "    boat  body                                       home.dest  \n",
       "49     3   NaN  Austria-Hungary / Germantown, Philadelphia, PA  \n",
       "50     3   NaN                    Germantown, Philadelphia, PA  \n",
       "183    3   NaN                                             NaN  \n",
       "302    3   NaN                                             NaN  "
      ]
     },
     "execution_count": 174,
     "metadata": {},
     "output_type": "execute_result"
    }
   ],
   "source": [
    "df[df.fare>480]"
   ]
  },
  {
   "cell_type": "code",
   "execution_count": null,
   "metadata": {
    "collapsed": true
   },
   "outputs": [],
   "source": []
  },
  {
   "cell_type": "code",
   "execution_count": 107,
   "metadata": {},
   "outputs": [
    {
     "data": {
      "text/plain": [
       "0    809\n",
       "1    500\n",
       "Name: survived, dtype: int64"
      ]
     },
     "execution_count": 107,
     "metadata": {},
     "output_type": "execute_result"
    }
   ],
   "source": [
    "df.survived.value_counts()"
   ]
  },
  {
   "cell_type": "code",
   "execution_count": 108,
   "metadata": {},
   "outputs": [
    {
     "data": {
      "text/plain": [
       "male      843\n",
       "female    466\n",
       "Name: sex, dtype: int64"
      ]
     },
     "execution_count": 108,
     "metadata": {},
     "output_type": "execute_result"
    }
   ],
   "source": [
    "df.sex.value_counts()"
   ]
  },
  {
   "cell_type": "code",
   "execution_count": 135,
   "metadata": {},
   "outputs": [
    {
     "data": {
      "text/plain": [
       "(339, 14)"
      ]
     },
     "execution_count": 135,
     "metadata": {},
     "output_type": "execute_result"
    }
   ],
   "source": [
    "df[(df.survived==1)&(df.sex=='female')].shape"
   ]
  },
  {
   "cell_type": "code",
   "execution_count": 113,
   "metadata": {},
   "outputs": [
    {
     "data": {
      "text/plain": [
       "(161, 14)"
      ]
     },
     "execution_count": 113,
     "metadata": {},
     "output_type": "execute_result"
    }
   ],
   "source": [
    "df[(df.survived==1)&(df.sex=='male')].shape"
   ]
  },
  {
   "cell_type": "code",
   "execution_count": 114,
   "metadata": {},
   "outputs": [
    {
     "data": {
      "text/plain": [
       "0.19098457888493475"
      ]
     },
     "execution_count": 114,
     "metadata": {},
     "output_type": "execute_result"
    }
   ],
   "source": [
    "161/843\n"
   ]
  },
  {
   "cell_type": "code",
   "execution_count": 111,
   "metadata": {},
   "outputs": [
    {
     "data": {
      "text/plain": [
       "0.7274678111587983"
      ]
     },
     "execution_count": 111,
     "metadata": {},
     "output_type": "execute_result"
    }
   ],
   "source": [
    "339/466"
   ]
  },
  {
   "cell_type": "code",
   "execution_count": 116,
   "metadata": {},
   "outputs": [
    {
     "data": {
      "image/png": "[encoded data removed]",
      "text/plain": [
       "<matplotlib.figure.Figure at 0x119e94828>"
      ]
     },
     "metadata": {},
     "output_type": "display_data"
    }
   ],
   "source": [
    "df.fare.hist()\n",
    "plt.show()"
   ]
  },
  {
   "cell_type": "code",
   "execution_count": 127,
   "metadata": {},
   "outputs": [
    {
     "data": {
      "text/plain": [
       "(1066, 14)"
      ]
     },
     "execution_count": 127,
     "metadata": {},
     "output_type": "execute_result"
    }
   ],
   "source": [
    "df[(df.fare<50)].shape"
   ]
  },
  {
   "cell_type": "code",
   "execution_count": 128,
   "metadata": {},
   "outputs": [
    {
     "data": {
      "text/plain": [
       "(342, 14)"
      ]
     },
     "execution_count": 128,
     "metadata": {},
     "output_type": "execute_result"
    }
   ],
   "source": [
    "df[(df.fare<50)&(df.survived==1)].shape"
   ]
  },
  {
   "cell_type": "code",
   "execution_count": 129,
   "metadata": {},
   "outputs": [
    {
     "data": {
      "text/plain": [
       "0.32082551594746717"
      ]
     },
     "execution_count": 129,
     "metadata": {},
     "output_type": "execute_result"
    }
   ],
   "source": [
    "342/1066"
   ]
  },
  {
   "cell_type": "code",
   "execution_count": 125,
   "metadata": {},
   "outputs": [
    {
     "data": {
      "text/plain": [
       "0.6583333333333333"
      ]
     },
     "execution_count": 125,
     "metadata": {},
     "output_type": "execute_result"
    }
   ],
   "source": [
    "158/240"
   ]
  },
  {
   "cell_type": "code",
   "execution_count": 121,
   "metadata": {},
   "outputs": [
    {
     "data": {
      "text/plain": [
       "0.7142857142857143"
      ]
     },
     "execution_count": 121,
     "metadata": {},
     "output_type": "execute_result"
    }
   ],
   "source": [
    "60/84"
   ]
  },
  {
   "cell_type": "code",
   "execution_count": 131,
   "metadata": {},
   "outputs": [
    {
     "data": {
      "text/plain": [
       "(94, 14)"
      ]
     },
     "execution_count": 131,
     "metadata": {},
     "output_type": "execute_result"
    }
   ],
   "source": [
    "df[df.age<13].shape"
   ]
  },
  {
   "cell_type": "code",
   "execution_count": 140,
   "metadata": {},
   "outputs": [
    {
     "data": {
      "text/plain": [
       "(56, 14)"
      ]
     },
     "execution_count": 140,
     "metadata": {},
     "output_type": "execute_result"
    }
   ],
   "source": [
    "df[df.age<6].shape"
   ]
  },
  {
   "cell_type": "code",
   "execution_count": 132,
   "metadata": {},
   "outputs": [
    {
     "data": {
      "text/plain": [
       "(54, 14)"
      ]
     },
     "execution_count": 132,
     "metadata": {},
     "output_type": "execute_result"
    }
   ],
   "source": [
    "df[(df.age<13)&(df.survived==1)].shape"
   ]
  },
  {
   "cell_type": "code",
   "execution_count": 133,
   "metadata": {},
   "outputs": [
    {
     "data": {
      "text/plain": [
       "0.574468085106383"
      ]
     },
     "execution_count": 133,
     "metadata": {},
     "output_type": "execute_result"
    }
   ],
   "source": [
    "54/94"
   ]
  },
  {
   "cell_type": "code",
   "execution_count": 104,
   "metadata": {},
   "outputs": [
    {
     "name": "stdout",
     "output_type": "stream",
     "text": [
      "pclass\n",
      "survived\n",
      "name\n",
      "sex\n",
      "age\n",
      "sibsp\n",
      "parch\n",
      "ticket\n",
      "fare\n",
      "cabin\n",
      "embarked\n",
      "boat\n",
      "body\n",
      "home.dest\n"
     ]
    }
   ],
   "source": [
    "for c in df.columns:\n",
    "    print(c)"
   ]
  },
  {
   "cell_type": "code",
   "execution_count": 9,
   "metadata": {
    "collapsed": true
   },
   "outputs": [],
   "source": [
    "ax.annotate?"
   ]
  },
  {
   "cell_type": "code",
   "execution_count": 252,
   "metadata": {
    "scrolled": true
   },
   "outputs": [
    {
     "data": {
      "image/png": "[encoded data removed]",
      "text/plain": [
       "<matplotlib.figure.Figure at 0x11b7f1550>"
      ]
     },
     "metadata": {},
     "output_type": "display_data"
    }
   ],
   "source": [
    "import numpy as np\n",
    "import matplotlib.pyplot as plt\n",
    "# from matplotlib.offsetbox import (TextArea, DrawingArea, OffsetImage,\n",
    "#                                   AnnotationBbox)\n",
    "\n",
    "fig = plt.figure()\n",
    "ax = fig.add_subplot(111)\n",
    "\n",
    "t = np.arange(0.0, 7.0, 0.01)\n",
    "s = [1]*len(t)\n",
    "line, = ax.plot(t, s, lw=2)\n",
    "xy = (2, 1)\n",
    "xytext = (20, -15)\n",
    "for a, i in enumerate([5, 5.2, 13, 25, 28, 35, 50]):\n",
    "    ax.annotate('text{}'.format(i),\n",
    "                xy=(2+i/10,1), \n",
    "                xytext=(2+a/1.3,-1.5),\n",
    "                ha='center', va='bottom', color='red',\n",
    "                textcoords='data', xycoords=\"data\", \n",
    "                bbox=dict(boxstyle='round', \n",
    "                          fc='white', \n",
    "                          alpha=0.5),\n",
    "                arrowprops=dict(arrowstyle='-', \n",
    "                                color='red',\n",
    "                                shrinkB=0, \n",
    "                                connectionstyle='arc3,rad=0.0' \n",
    "                              ))\n",
    "\n",
    "    \n",
    "    ax.annotate('text{}'.format(i),\n",
    "            xy=(1+i/10,1), \n",
    "            xytext=(1+a/1.3,-1.0),\n",
    "            ha='center', va='bottom', color='blue',\n",
    "            textcoords='data', xycoords=\"data\", \n",
    "            bbox=dict(boxstyle='round', \n",
    "                      fc='white', \n",
    "                      alpha=0.5),\n",
    "            arrowprops=dict(arrowstyle='-', \n",
    "                            color='blue',\n",
    "                            shrinkB=0, \n",
    "                            connectionstyle='arc3,rad=0.0' \n",
    "                          ))\n",
    "ax.set_ylim(-2,2)\n",
    "ax.set_xlim(0,8)\n",
    "plt.show()"
   ]
  },
  {
   "cell_type": "code",
   "execution_count": 82,
   "metadata": {},
   "outputs": [
    {
     "data": {
      "image/png": "[encoded data removed]",
      "text/plain": [
       "<matplotlib.figure.Figure at 0x11d994668>"
      ]
     },
     "metadata": {},
     "output_type": "display_data"
    }
   ],
   "source": [
    "import matplotlib.pyplot as plt\n",
    "import numpy as np\n",
    "\n",
    "x = np.arange(0.0, 2, 0.01)\n",
    "y1 = np.sin(2*np.pi*x)\n",
    "y2 = 1.2*np.sin(4*np.pi*x)\n",
    "\n",
    "# fig, ax3 = plt.add_subplot(111)\n",
    "\n",
    "\n",
    "\n",
    "# show how to use transforms to create axes spans where a certain condition is satisfied\n",
    "fig, ax = plt.subplots()\n",
    "# y = np.sin(4*np.pi*x)\n",
    "# ax.plot(x, y, color='black')\n",
    "\n",
    "# use the data coordinates for the x-axis and the axes coordinates for the y-axis\n",
    "import matplotlib.transforms as mtransforms\n",
    "trans = mtransforms.blended_transform_factory(ax.transData, ax.transAxes)\n",
    "theta = 0.9\n",
    "ax.axhline(theta, color='green', lw=2, alpha=0.5)\n",
    "# ax.axhline(-theta, color='red', lw=2, alpha=0.5)\n",
    "ax.fill_between(x, 0, 1, where=y > theta, facecolor='green', alpha=0.5, transform=trans)\n",
    "# ax.fill_between(x, 0, 1, where=y < -theta, facecolor='red', alpha=0.5, transform=trans)\n",
    "\n",
    "\n",
    "plt.show()"
   ]
  },
  {
   "cell_type": "code",
   "execution_count": 102,
   "metadata": {},
   "outputs": [
    {
     "data": {
      "image/png": "[encoded data removed]",
      "text/plain": [
       "<matplotlib.figure.Figure at 0x11bcf65c0>"
      ]
     },
     "metadata": {},
     "output_type": "display_data"
    }
   ],
   "source": [
    "from pylab import *\n",
    "\n",
    "x = arange(10)\n",
    "y = x\n",
    "chr_length = [10, 7, 6, 4, 3, 2]\n",
    "fig = plt.figure()\n",
    "ax = fig.add_subplot(111)\n",
    "# Plot junk and then a filled region\n",
    "# plot(x, y)b\n",
    "start = 0\n",
    "end = 0\n",
    "for ch, length in enumerate(chr_length):\n",
    "    ch+=1\n",
    "    end+=length\n",
    "    midpoint = (start + end)/2\n",
    "    ax.text(midpoint, 9, ch)\n",
    "    if ch %2 == 1:\n",
    "        fill([start, end,end,start], [0,0,10,10], 'b', alpha=0.1, edgecolor='b')\n",
    "    start+=length\n",
    "ax.set_xlim(0,sum(chr_length))\n",
    "ax.set_ylim(0,10)\n",
    "\n",
    "plt.show()"
   ]
  },
  {
   "cell_type": "code",
   "execution_count": 105,
   "metadata": {},
   "outputs": [
    {
     "ename": "SyntaxError",
     "evalue": "invalid syntax (<ipython-input-105-5c398bee4fb4>, line 1)",
     "output_type": "error",
     "traceback": [
      "\u001b[0;36m  File \u001b[0;32m\"<ipython-input-105-5c398bee4fb4>\"\u001b[0;36m, line \u001b[0;32m1\u001b[0m\n\u001b[0;31m    ax.hline()?\u001b[0m\n\u001b[0m              ^\u001b[0m\n\u001b[0;31mSyntaxError\u001b[0m\u001b[0;31m:\u001b[0m invalid syntax\n"
     ]
    }
   ],
   "source": [
    "ax.hline()?"
   ]
  },
  {
   "cell_type": "code",
   "execution_count": null,
   "metadata": {
    "collapsed": true
   },
   "outputs": [],
   "source": []
  },
  {
   "cell_type": "code",
   "execution_count": 26,
   "metadata": {
    "scrolled": true
   },
   "outputs": [
    {
     "name": "stdout",
     "output_type": "stream",
     "text": [
      "5 {7: [], 6.5: [], 6: [], 5.5: [], 5: [], 4.5: [], 4: [], 3.5: [], 3: [], 2.5: [], 2: [], 1.5: [], 1: []}\n",
      "yyyyy 0 5 7\n",
      "5.2 {7: [5], 6.5: [], 6: [], 5.5: [], 5: [], 4.5: [], 4: [], 3.5: [], 3: [], 2.5: [], 2: [], 1.5: [], 1: []}\n",
      "too close to other lables\n",
      "5.2 {7: [5], 6.5: [], 6: [], 5.5: [], 5: [], 4.5: [], 4: [], 3.5: [], 3: [], 2.5: [], 2: [], 1.5: [], 1: []}\n",
      "yyyyy 1 5.2 6.5\n",
      "5.3 {7: [5], 6.5: [5.2], 6: [], 5.5: [], 5: [], 4.5: [], 4: [], 3.5: [], 3: [], 2.5: [], 2: [], 1.5: [], 1: []}\n",
      "too close to other lables\n",
      "5.3 {7: [5], 6.5: [5.2], 6: [], 5.5: [], 5: [], 4.5: [], 4: [], 3.5: [], 3: [], 2.5: [], 2: [], 1.5: [], 1: []}\n",
      "too close to other lables\n",
      "5.3 {7: [5], 6.5: [5.2], 6: [], 5.5: [], 5: [], 4.5: [], 4: [], 3.5: [], 3: [], 2.5: [], 2: [], 1.5: [], 1: []}\n",
      "yyyyy 2 5.3 6\n",
      "5.33 {7: [5], 6.5: [5.2], 6: [5.3], 5.5: [], 5: [], 4.5: [], 4: [], 3.5: [], 3: [], 2.5: [], 2: [], 1.5: [], 1: []}\n",
      "too close to other lables\n",
      "5.33 {7: [5], 6.5: [5.2], 6: [5.3], 5.5: [], 5: [], 4.5: [], 4: [], 3.5: [], 3: [], 2.5: [], 2: [], 1.5: [], 1: []}\n",
      "too close to other lables\n",
      "5.33 {7: [5], 6.5: [5.2], 6: [5.3], 5.5: [], 5: [], 4.5: [], 4: [], 3.5: [], 3: [], 2.5: [], 2: [], 1.5: [], 1: []}\n",
      "too close to other lables\n",
      "5.33 {7: [5], 6.5: [5.2], 6: [5.3], 5.5: [], 5: [], 4.5: [], 4: [], 3.5: [], 3: [], 2.5: [], 2: [], 1.5: [], 1: []}\n",
      "yyyyy 3 5.33 5.5\n",
      "5.34 {7: [5], 6.5: [5.2], 6: [5.3], 5.5: [5.33], 5: [], 4.5: [], 4: [], 3.5: [], 3: [], 2.5: [], 2: [], 1.5: [], 1: []}\n",
      "too close to other lables\n",
      "5.34 {7: [5], 6.5: [5.2], 6: [5.3], 5.5: [5.33], 5: [], 4.5: [], 4: [], 3.5: [], 3: [], 2.5: [], 2: [], 1.5: [], 1: []}\n",
      "too close to other lables\n",
      "5.34 {7: [5], 6.5: [5.2], 6: [5.3], 5.5: [5.33], 5: [], 4.5: [], 4: [], 3.5: [], 3: [], 2.5: [], 2: [], 1.5: [], 1: []}\n",
      "too close to other lables\n",
      "5.34 {7: [5], 6.5: [5.2], 6: [5.3], 5.5: [5.33], 5: [], 4.5: [], 4: [], 3.5: [], 3: [], 2.5: [], 2: [], 1.5: [], 1: []}\n",
      "too close to other lables\n",
      "5.34 {7: [5], 6.5: [5.2], 6: [5.3], 5.5: [5.33], 5: [], 4.5: [], 4: [], 3.5: [], 3: [], 2.5: [], 2: [], 1.5: [], 1: []}\n",
      "yyyyy 4 5.34 5\n",
      "5.35 {7: [5], 6.5: [5.2], 6: [5.3], 5.5: [5.33], 5: [5.34], 4.5: [], 4: [], 3.5: [], 3: [], 2.5: [], 2: [], 1.5: [], 1: []}\n",
      "too close to other lables\n",
      "5.35 {7: [5], 6.5: [5.2], 6: [5.3], 5.5: [5.33], 5: [5.34], 4.5: [], 4: [], 3.5: [], 3: [], 2.5: [], 2: [], 1.5: [], 1: []}\n",
      "too close to other lables\n",
      "5.35 {7: [5], 6.5: [5.2], 6: [5.3], 5.5: [5.33], 5: [5.34], 4.5: [], 4: [], 3.5: [], 3: [], 2.5: [], 2: [], 1.5: [], 1: []}\n",
      "too close to other lables\n",
      "5.35 {7: [5], 6.5: [5.2], 6: [5.3], 5.5: [5.33], 5: [5.34], 4.5: [], 4: [], 3.5: [], 3: [], 2.5: [], 2: [], 1.5: [], 1: []}\n",
      "too close to other lables\n",
      "5.35 {7: [5], 6.5: [5.2], 6: [5.3], 5.5: [5.33], 5: [5.34], 4.5: [], 4: [], 3.5: [], 3: [], 2.5: [], 2: [], 1.5: [], 1: []}\n",
      "too close to other lables\n",
      "5.35 {7: [5], 6.5: [5.2], 6: [5.3], 5.5: [5.33], 5: [5.34], 4.5: [], 4: [], 3.5: [], 3: [], 2.5: [], 2: [], 1.5: [], 1: []}\n",
      "yyyyy 5 5.35 4.5\n",
      "5.36 {7: [5], 6.5: [5.2], 6: [5.3], 5.5: [5.33], 5: [5.34], 4.5: [5.35], 4: [], 3.5: [], 3: [], 2.5: [], 2: [], 1.5: [], 1: []}\n",
      "too close to other lables\n",
      "5.36 {7: [5], 6.5: [5.2], 6: [5.3], 5.5: [5.33], 5: [5.34], 4.5: [5.35], 4: [], 3.5: [], 3: [], 2.5: [], 2: [], 1.5: [], 1: []}\n",
      "too close to other lables\n",
      "5.36 {7: [5], 6.5: [5.2], 6: [5.3], 5.5: [5.33], 5: [5.34], 4.5: [5.35], 4: [], 3.5: [], 3: [], 2.5: [], 2: [], 1.5: [], 1: []}\n",
      "too close to other lables\n",
      "5.36 {7: [5], 6.5: [5.2], 6: [5.3], 5.5: [5.33], 5: [5.34], 4.5: [5.35], 4: [], 3.5: [], 3: [], 2.5: [], 2: [], 1.5: [], 1: []}\n",
      "too close to other lables\n",
      "5.36 {7: [5], 6.5: [5.2], 6: [5.3], 5.5: [5.33], 5: [5.34], 4.5: [5.35], 4: [], 3.5: [], 3: [], 2.5: [], 2: [], 1.5: [], 1: []}\n",
      "too close to other lables\n",
      "5.36 {7: [5], 6.5: [5.2], 6: [5.3], 5.5: [5.33], 5: [5.34], 4.5: [5.35], 4: [], 3.5: [], 3: [], 2.5: [], 2: [], 1.5: [], 1: []}\n",
      "too close to other lables\n",
      "5.36 {7: [5], 6.5: [5.2], 6: [5.3], 5.5: [5.33], 5: [5.34], 4.5: [5.35], 4: [], 3.5: [], 3: [], 2.5: [], 2: [], 1.5: [], 1: []}\n",
      "yyyyy 6 5.36 4\n",
      "6 {7: [5], 6.5: [5.2], 6: [5.3], 5.5: [5.33], 5: [5.34], 4.5: [5.35], 4: [5.36], 3.5: [], 3: [], 2.5: [], 2: [], 1.5: [], 1: []}\n",
      "too close to other lables\n",
      "6 {7: [5], 6.5: [5.2], 6: [5.3], 5.5: [5.33], 5: [5.34], 4.5: [5.35], 4: [5.36], 3.5: [], 3: [], 2.5: [], 2: [], 1.5: [], 1: []}\n",
      "too close to other lables\n",
      "6 {7: [5], 6.5: [5.2], 6: [5.3], 5.5: [5.33], 5: [5.34], 4.5: [5.35], 4: [5.36], 3.5: [], 3: [], 2.5: [], 2: [], 1.5: [], 1: []}\n",
      "too close to other lables\n",
      "6 {7: [5], 6.5: [5.2], 6: [5.3], 5.5: [5.33], 5: [5.34], 4.5: [5.35], 4: [5.36], 3.5: [], 3: [], 2.5: [], 2: [], 1.5: [], 1: []}\n",
      "too close to other lables\n",
      "6 {7: [5], 6.5: [5.2], 6: [5.3], 5.5: [5.33], 5: [5.34], 4.5: [5.35], 4: [5.36], 3.5: [], 3: [], 2.5: [], 2: [], 1.5: [], 1: []}\n",
      "too close to other lables\n",
      "6 {7: [5], 6.5: [5.2], 6: [5.3], 5.5: [5.33], 5: [5.34], 4.5: [5.35], 4: [5.36], 3.5: [], 3: [], 2.5: [], 2: [], 1.5: [], 1: []}\n",
      "too close to other lables\n",
      "6 {7: [5], 6.5: [5.2], 6: [5.3], 5.5: [5.33], 5: [5.34], 4.5: [5.35], 4: [5.36], 3.5: [], 3: [], 2.5: [], 2: [], 1.5: [], 1: []}\n",
      "too close to other lables\n",
      "6 {7: [5], 6.5: [5.2], 6: [5.3], 5.5: [5.33], 5: [5.34], 4.5: [5.35], 4: [5.36], 3.5: [], 3: [], 2.5: [], 2: [], 1.5: [], 1: []}\n",
      "yyyyy 7 6 3.5\n",
      "7 {7: [5], 6.5: [5.2], 6: [5.3], 5.5: [5.33], 5: [5.34], 4.5: [5.35], 4: [5.36], 3.5: [6], 3: [], 2.5: [], 2: [], 1.5: [], 1: []}\n",
      "too close to other lables\n",
      "7 {7: [5], 6.5: [5.2], 6: [5.3], 5.5: [5.33], 5: [5.34], 4.5: [5.35], 4: [5.36], 3.5: [6], 3: [], 2.5: [], 2: [], 1.5: [], 1: []}\n",
      "too close to other lables\n",
      "7 {7: [5], 6.5: [5.2], 6: [5.3], 5.5: [5.33], 5: [5.34], 4.5: [5.35], 4: [5.36], 3.5: [6], 3: [], 2.5: [], 2: [], 1.5: [], 1: []}\n",
      "too close to other lables\n",
      "7 {7: [5], 6.5: [5.2], 6: [5.3], 5.5: [5.33], 5: [5.34], 4.5: [5.35], 4: [5.36], 3.5: [6], 3: [], 2.5: [], 2: [], 1.5: [], 1: []}\n",
      "too close to other lables\n",
      "7 {7: [5], 6.5: [5.2], 6: [5.3], 5.5: [5.33], 5: [5.34], 4.5: [5.35], 4: [5.36], 3.5: [6], 3: [], 2.5: [], 2: [], 1.5: [], 1: []}\n",
      "too close to other lables\n",
      "7 {7: [5], 6.5: [5.2], 6: [5.3], 5.5: [5.33], 5: [5.34], 4.5: [5.35], 4: [5.36], 3.5: [6], 3: [], 2.5: [], 2: [], 1.5: [], 1: []}\n",
      "too close to other lables\n",
      "7 {7: [5], 6.5: [5.2], 6: [5.3], 5.5: [5.33], 5: [5.34], 4.5: [5.35], 4: [5.36], 3.5: [6], 3: [], 2.5: [], 2: [], 1.5: [], 1: []}\n",
      "too close to other lables\n",
      "7 {7: [5], 6.5: [5.2], 6: [5.3], 5.5: [5.33], 5: [5.34], 4.5: [5.35], 4: [5.36], 3.5: [6], 3: [], 2.5: [], 2: [], 1.5: [], 1: []}\n",
      "too close to other lables\n",
      "7 {7: [5], 6.5: [5.2], 6: [5.3], 5.5: [5.33], 5: [5.34], 4.5: [5.35], 4: [5.36], 3.5: [6], 3: [], 2.5: [], 2: [], 1.5: [], 1: []}\n",
      "yyyyy 8 7 3\n",
      "8 {7: [5], 6.5: [5.2], 6: [5.3], 5.5: [5.33], 5: [5.34], 4.5: [5.35], 4: [5.36], 3.5: [6], 3: [7], 2.5: [], 2: [], 1.5: [], 1: []}\n",
      "yyyyy 9 8 7\n",
      "9 {7: [5, 8], 6.5: [5.2], 6: [5.3], 5.5: [5.33], 5: [5.34], 4.5: [5.35], 4: [5.36], 3.5: [6], 3: [7], 2.5: [], 2: [], 1.5: [], 1: []}\n",
      "too close to other lables\n",
      "9 {7: [5, 8], 6.5: [5.2], 6: [5.3], 5.5: [5.33], 5: [5.34], 4.5: [5.35], 4: [5.36], 3.5: [6], 3: [7], 2.5: [], 2: [], 1.5: [], 1: []}\n",
      "yyyyy 10 9 6.5\n",
      "10 {7: [5, 8], 6.5: [5.2, 9], 6: [5.3], 5.5: [5.33], 5: [5.34], 4.5: [5.35], 4: [5.36], 3.5: [6], 3: [7], 2.5: [], 2: [], 1.5: [], 1: []}\n",
      "too close to other lables\n",
      "10 {7: [5, 8], 6.5: [5.2, 9], 6: [5.3], 5.5: [5.33], 5: [5.34], 4.5: [5.35], 4: [5.36], 3.5: [6], 3: [7], 2.5: [], 2: [], 1.5: [], 1: []}\n",
      "too close to other lables\n",
      "10 {7: [5, 8], 6.5: [5.2, 9], 6: [5.3], 5.5: [5.33], 5: [5.34], 4.5: [5.35], 4: [5.36], 3.5: [6], 3: [7], 2.5: [], 2: [], 1.5: [], 1: []}\n",
      "yyyyy 11 10 6\n",
      "11 {7: [5, 8], 6.5: [5.2, 9], 6: [5.3, 10], 5.5: [5.33], 5: [5.34], 4.5: [5.35], 4: [5.36], 3.5: [6], 3: [7], 2.5: [], 2: [], 1.5: [], 1: []}\n",
      "yyyyy 12 11 7\n",
      "12 {7: [5, 8, 11], 6.5: [5.2, 9], 6: [5.3, 10], 5.5: [5.33], 5: [5.34], 4.5: [5.35], 4: [5.36], 3.5: [6], 3: [7], 2.5: [], 2: [], 1.5: [], 1: []}\n",
      "too close to other lables\n",
      "12 {7: [5, 8, 11], 6.5: [5.2, 9], 6: [5.3, 10], 5.5: [5.33], 5: [5.34], 4.5: [5.35], 4: [5.36], 3.5: [6], 3: [7], 2.5: [], 2: [], 1.5: [], 1: []}\n",
      "yyyyy 13 12 6.5\n",
      "13 {7: [5, 8, 11], 6.5: [5.2, 9, 12], 6: [5.3, 10], 5.5: [5.33], 5: [5.34], 4.5: [5.35], 4: [5.36], 3.5: [6], 3: [7], 2.5: [], 2: [], 1.5: [], 1: []}\n",
      "too close to other lables\n",
      "13 {7: [5, 8, 11], 6.5: [5.2, 9, 12], 6: [5.3, 10], 5.5: [5.33], 5: [5.34], 4.5: [5.35], 4: [5.36], 3.5: [6], 3: [7], 2.5: [], 2: [], 1.5: [], 1: []}\n",
      "too close to other lables\n",
      "13 {7: [5, 8, 11], 6.5: [5.2, 9, 12], 6: [5.3, 10], 5.5: [5.33], 5: [5.34], 4.5: [5.35], 4: [5.36], 3.5: [6], 3: [7], 2.5: [], 2: [], 1.5: [], 1: []}\n",
      "yyyyy 14 13 6\n",
      "25 {7: [5, 8, 11], 6.5: [5.2, 9, 12], 6: [5.3, 10, 13], 5.5: [5.33], 5: [5.34], 4.5: [5.35], 4: [5.36], 3.5: [6], 3: [7], 2.5: [], 2: [], 1.5: [], 1: []}\n",
      "yyyyy 15 25 7\n",
      "28 {7: [5, 8, 11, 25], 6.5: [5.2, 9, 12], 6: [5.3, 10, 13], 5.5: [5.33], 5: [5.34], 4.5: [5.35], 4: [5.36], 3.5: [6], 3: [7], 2.5: [], 2: [], 1.5: [], 1: []}\n",
      "yyyyy 16 28 7\n",
      "30 {7: [5, 8, 11, 25, 28], 6.5: [5.2, 9, 12], 6: [5.3, 10, 13], 5.5: [5.33], 5: [5.34], 4.5: [5.35], 4: [5.36], 3.5: [6], 3: [7], 2.5: [], 2: [], 1.5: [], 1: []}\n",
      "too close to other lables\n",
      "30 {7: [5, 8, 11, 25, 28], 6.5: [5.2, 9, 12], 6: [5.3, 10, 13], 5.5: [5.33], 5: [5.34], 4.5: [5.35], 4: [5.36], 3.5: [6], 3: [7], 2.5: [], 2: [], 1.5: [], 1: []}\n",
      "yyyyy 17 30 6.5\n",
      "5 {7: [5, 8, 11, 25, 28], 6.5: [5.2, 9, 12, 30], 6: [5.3, 10, 13], 5.5: [5.33], 5: [5.34], 4.5: [5.35], 4: [5.36], 3.5: [6], 3: [7], 2.5: [], 2: [], 1.5: [], 1: []}\n",
      "too close to other lables\n",
      "5 {7: [5, 8, 11, 25, 28], 6.5: [5.2, 9, 12, 30], 6: [5.3, 10, 13], 5.5: [5.33], 5: [5.34], 4.5: [5.35], 4: [5.36], 3.5: [6], 3: [7], 2.5: [], 2: [], 1.5: [], 1: []}\n",
      "too close to other lables\n",
      "5 {7: [5, 8, 11, 25, 28], 6.5: [5.2, 9, 12, 30], 6: [5.3, 10, 13], 5.5: [5.33], 5: [5.34], 4.5: [5.35], 4: [5.36], 3.5: [6], 3: [7], 2.5: [], 2: [], 1.5: [], 1: []}\n",
      "too close to other lables\n",
      "5 {7: [5, 8, 11, 25, 28], 6.5: [5.2, 9, 12, 30], 6: [5.3, 10, 13], 5.5: [5.33], 5: [5.34], 4.5: [5.35], 4: [5.36], 3.5: [6], 3: [7], 2.5: [], 2: [], 1.5: [], 1: []}\n",
      "too close to other lables\n",
      "5 {7: [5, 8, 11, 25, 28], 6.5: [5.2, 9, 12, 30], 6: [5.3, 10, 13], 5.5: [5.33], 5: [5.34], 4.5: [5.35], 4: [5.36], 3.5: [6], 3: [7], 2.5: [], 2: [], 1.5: [], 1: []}\n",
      "too close to other lables\n",
      "5 {7: [5, 8, 11, 25, 28], 6.5: [5.2, 9, 12, 30], 6: [5.3, 10, 13], 5.5: [5.33], 5: [5.34], 4.5: [5.35], 4: [5.36], 3.5: [6], 3: [7], 2.5: [], 2: [], 1.5: [], 1: []}\n",
      "too close to other lables\n",
      "5 {7: [5, 8, 11, 25, 28], 6.5: [5.2, 9, 12, 30], 6: [5.3, 10, 13], 5.5: [5.33], 5: [5.34], 4.5: [5.35], 4: [5.36], 3.5: [6], 3: [7], 2.5: [], 2: [], 1.5: [], 1: []}\n",
      "too close to other lables\n",
      "5 {7: [5, 8, 11, 25, 28], 6.5: [5.2, 9, 12, 30], 6: [5.3, 10, 13], 5.5: [5.33], 5: [5.34], 4.5: [5.35], 4: [5.36], 3.5: [6], 3: [7], 2.5: [], 2: [], 1.5: [], 1: []}\n",
      "too close to other lables\n",
      "5 {7: [5, 8, 11, 25, 28], 6.5: [5.2, 9, 12, 30], 6: [5.3, 10, 13], 5.5: [5.33], 5: [5.34], 4.5: [5.35], 4: [5.36], 3.5: [6], 3: [7], 2.5: [], 2: [], 1.5: [], 1: []}\n",
      "too close to other lables\n",
      "5 {7: [5, 8, 11, 25, 28], 6.5: [5.2, 9, 12, 30], 6: [5.3, 10, 13], 5.5: [5.33], 5: [5.34], 4.5: [5.35], 4: [5.36], 3.5: [6], 3: [7], 2.5: [], 2: [], 1.5: [], 1: []}\n",
      "yyyyy 18 5 2.5\n",
      "5.2 {7: [5, 8, 11, 25, 28], 6.5: [5.2, 9, 12, 30], 6: [5.3, 10, 13], 5.5: [5.33], 5: [5.34], 4.5: [5.35], 4: [5.36], 3.5: [6], 3: [7], 2.5: [5], 2: [], 1.5: [], 1: []}\n",
      "too close to other lables\n",
      "5.2 {7: [5, 8, 11, 25, 28], 6.5: [5.2, 9, 12, 30], 6: [5.3, 10, 13], 5.5: [5.33], 5: [5.34], 4.5: [5.35], 4: [5.36], 3.5: [6], 3: [7], 2.5: [5], 2: [], 1.5: [], 1: []}\n",
      "too close to other lables\n",
      "5.2 {7: [5, 8, 11, 25, 28], 6.5: [5.2, 9, 12, 30], 6: [5.3, 10, 13], 5.5: [5.33], 5: [5.34], 4.5: [5.35], 4: [5.36], 3.5: [6], 3: [7], 2.5: [5], 2: [], 1.5: [], 1: []}\n",
      "too close to other lables\n",
      "5.2 {7: [5, 8, 11, 25, 28], 6.5: [5.2, 9, 12, 30], 6: [5.3, 10, 13], 5.5: [5.33], 5: [5.34], 4.5: [5.35], 4: [5.36], 3.5: [6], 3: [7], 2.5: [5], 2: [], 1.5: [], 1: []}\n",
      "too close to other lables\n",
      "5.2 {7: [5, 8, 11, 25, 28], 6.5: [5.2, 9, 12, 30], 6: [5.3, 10, 13], 5.5: [5.33], 5: [5.34], 4.5: [5.35], 4: [5.36], 3.5: [6], 3: [7], 2.5: [5], 2: [], 1.5: [], 1: []}\n",
      "too close to other lables\n",
      "5.2 {7: [5, 8, 11, 25, 28], 6.5: [5.2, 9, 12, 30], 6: [5.3, 10, 13], 5.5: [5.33], 5: [5.34], 4.5: [5.35], 4: [5.36], 3.5: [6], 3: [7], 2.5: [5], 2: [], 1.5: [], 1: []}\n",
      "too close to other lables\n",
      "5.2 {7: [5, 8, 11, 25, 28], 6.5: [5.2, 9, 12, 30], 6: [5.3, 10, 13], 5.5: [5.33], 5: [5.34], 4.5: [5.35], 4: [5.36], 3.5: [6], 3: [7], 2.5: [5], 2: [], 1.5: [], 1: []}\n",
      "too close to other lables\n",
      "5.2 {7: [5, 8, 11, 25, 28], 6.5: [5.2, 9, 12, 30], 6: [5.3, 10, 13], 5.5: [5.33], 5: [5.34], 4.5: [5.35], 4: [5.36], 3.5: [6], 3: [7], 2.5: [5], 2: [], 1.5: [], 1: []}\n",
      "too close to other lables\n",
      "5.2 {7: [5, 8, 11, 25, 28], 6.5: [5.2, 9, 12, 30], 6: [5.3, 10, 13], 5.5: [5.33], 5: [5.34], 4.5: [5.35], 4: [5.36], 3.5: [6], 3: [7], 2.5: [5], 2: [], 1.5: [], 1: []}\n",
      "too close to other lables\n",
      "5.2 {7: [5, 8, 11, 25, 28], 6.5: [5.2, 9, 12, 30], 6: [5.3, 10, 13], 5.5: [5.33], 5: [5.34], 4.5: [5.35], 4: [5.36], 3.5: [6], 3: [7], 2.5: [5], 2: [], 1.5: [], 1: []}\n",
      "too close to other lables\n",
      "5.2 {7: [5, 8, 11, 25, 28], 6.5: [5.2, 9, 12, 30], 6: [5.3, 10, 13], 5.5: [5.33], 5: [5.34], 4.5: [5.35], 4: [5.36], 3.5: [6], 3: [7], 2.5: [5], 2: [], 1.5: [], 1: []}\n",
      "yyyyy 19 5.2 2\n",
      "5.3 {7: [5, 8, 11, 25, 28], 6.5: [5.2, 9, 12, 30], 6: [5.3, 10, 13], 5.5: [5.33], 5: [5.34], 4.5: [5.35], 4: [5.36], 3.5: [6], 3: [7], 2.5: [5], 2: [5.2], 1.5: [], 1: []}\n",
      "too close to other lables\n",
      "5.3 {7: [5, 8, 11, 25, 28], 6.5: [5.2, 9, 12, 30], 6: [5.3, 10, 13], 5.5: [5.33], 5: [5.34], 4.5: [5.35], 4: [5.36], 3.5: [6], 3: [7], 2.5: [5], 2: [5.2], 1.5: [], 1: []}\n",
      "too close to other lables\n",
      "5.3 {7: [5, 8, 11, 25, 28], 6.5: [5.2, 9, 12, 30], 6: [5.3, 10, 13], 5.5: [5.33], 5: [5.34], 4.5: [5.35], 4: [5.36], 3.5: [6], 3: [7], 2.5: [5], 2: [5.2], 1.5: [], 1: []}\n",
      "too close to other lables\n",
      "5.3 {7: [5, 8, 11, 25, 28], 6.5: [5.2, 9, 12, 30], 6: [5.3, 10, 13], 5.5: [5.33], 5: [5.34], 4.5: [5.35], 4: [5.36], 3.5: [6], 3: [7], 2.5: [5], 2: [5.2], 1.5: [], 1: []}\n",
      "too close to other lables\n",
      "5.3 {7: [5, 8, 11, 25, 28], 6.5: [5.2, 9, 12, 30], 6: [5.3, 10, 13], 5.5: [5.33], 5: [5.34], 4.5: [5.35], 4: [5.36], 3.5: [6], 3: [7], 2.5: [5], 2: [5.2], 1.5: [], 1: []}\n",
      "too close to other lables\n",
      "5.3 {7: [5, 8, 11, 25, 28], 6.5: [5.2, 9, 12, 30], 6: [5.3, 10, 13], 5.5: [5.33], 5: [5.34], 4.5: [5.35], 4: [5.36], 3.5: [6], 3: [7], 2.5: [5], 2: [5.2], 1.5: [], 1: []}\n",
      "too close to other lables\n",
      "5.3 {7: [5, 8, 11, 25, 28], 6.5: [5.2, 9, 12, 30], 6: [5.3, 10, 13], 5.5: [5.33], 5: [5.34], 4.5: [5.35], 4: [5.36], 3.5: [6], 3: [7], 2.5: [5], 2: [5.2], 1.5: [], 1: []}\n",
      "too close to other lables\n",
      "5.3 {7: [5, 8, 11, 25, 28], 6.5: [5.2, 9, 12, 30], 6: [5.3, 10, 13], 5.5: [5.33], 5: [5.34], 4.5: [5.35], 4: [5.36], 3.5: [6], 3: [7], 2.5: [5], 2: [5.2], 1.5: [], 1: []}\n",
      "too close to other lables\n",
      "5.3 {7: [5, 8, 11, 25, 28], 6.5: [5.2, 9, 12, 30], 6: [5.3, 10, 13], 5.5: [5.33], 5: [5.34], 4.5: [5.35], 4: [5.36], 3.5: [6], 3: [7], 2.5: [5], 2: [5.2], 1.5: [], 1: []}\n",
      "too close to other lables\n",
      "5.3 {7: [5, 8, 11, 25, 28], 6.5: [5.2, 9, 12, 30], 6: [5.3, 10, 13], 5.5: [5.33], 5: [5.34], 4.5: [5.35], 4: [5.36], 3.5: [6], 3: [7], 2.5: [5], 2: [5.2], 1.5: [], 1: []}\n",
      "too close to other lables\n",
      "5.3 {7: [5, 8, 11, 25, 28], 6.5: [5.2, 9, 12, 30], 6: [5.3, 10, 13], 5.5: [5.33], 5: [5.34], 4.5: [5.35], 4: [5.36], 3.5: [6], 3: [7], 2.5: [5], 2: [5.2], 1.5: [], 1: []}\n",
      "too close to other lables\n",
      "5.3 {7: [5, 8, 11, 25, 28], 6.5: [5.2, 9, 12, 30], 6: [5.3, 10, 13], 5.5: [5.33], 5: [5.34], 4.5: [5.35], 4: [5.36], 3.5: [6], 3: [7], 2.5: [5], 2: [5.2], 1.5: [], 1: []}\n",
      "yyyyy 20 5.3 1.5\n",
      "5.33 {7: [5, 8, 11, 25, 28], 6.5: [5.2, 9, 12, 30], 6: [5.3, 10, 13], 5.5: [5.33], 5: [5.34], 4.5: [5.35], 4: [5.36], 3.5: [6], 3: [7], 2.5: [5], 2: [5.2], 1.5: [5.3], 1: []}\n",
      "too close to other lables\n",
      "5.33 {7: [5, 8, 11, 25, 28], 6.5: [5.2, 9, 12, 30], 6: [5.3, 10, 13], 5.5: [5.33], 5: [5.34], 4.5: [5.35], 4: [5.36], 3.5: [6], 3: [7], 2.5: [5], 2: [5.2], 1.5: [5.3], 1: []}\n",
      "too close to other lables\n",
      "5.33 {7: [5, 8, 11, 25, 28], 6.5: [5.2, 9, 12, 30], 6: [5.3, 10, 13], 5.5: [5.33], 5: [5.34], 4.5: [5.35], 4: [5.36], 3.5: [6], 3: [7], 2.5: [5], 2: [5.2], 1.5: [5.3], 1: []}\n",
      "too close to other lables\n",
      "5.33 {7: [5, 8, 11, 25, 28], 6.5: [5.2, 9, 12, 30], 6: [5.3, 10, 13], 5.5: [5.33], 5: [5.34], 4.5: [5.35], 4: [5.36], 3.5: [6], 3: [7], 2.5: [5], 2: [5.2], 1.5: [5.3], 1: []}\n",
      "too close to other lables\n",
      "5.33 {7: [5, 8, 11, 25, 28], 6.5: [5.2, 9, 12, 30], 6: [5.3, 10, 13], 5.5: [5.33], 5: [5.34], 4.5: [5.35], 4: [5.36], 3.5: [6], 3: [7], 2.5: [5], 2: [5.2], 1.5: [5.3], 1: []}\n",
      "too close to other lables\n",
      "5.33 {7: [5, 8, 11, 25, 28], 6.5: [5.2, 9, 12, 30], 6: [5.3, 10, 13], 5.5: [5.33], 5: [5.34], 4.5: [5.35], 4: [5.36], 3.5: [6], 3: [7], 2.5: [5], 2: [5.2], 1.5: [5.3], 1: []}\n",
      "too close to other lables\n",
      "5.33 {7: [5, 8, 11, 25, 28], 6.5: [5.2, 9, 12, 30], 6: [5.3, 10, 13], 5.5: [5.33], 5: [5.34], 4.5: [5.35], 4: [5.36], 3.5: [6], 3: [7], 2.5: [5], 2: [5.2], 1.5: [5.3], 1: []}\n",
      "too close to other lables\n",
      "5.33 {7: [5, 8, 11, 25, 28], 6.5: [5.2, 9, 12, 30], 6: [5.3, 10, 13], 5.5: [5.33], 5: [5.34], 4.5: [5.35], 4: [5.36], 3.5: [6], 3: [7], 2.5: [5], 2: [5.2], 1.5: [5.3], 1: []}\n",
      "too close to other lables\n",
      "5.33 {7: [5, 8, 11, 25, 28], 6.5: [5.2, 9, 12, 30], 6: [5.3, 10, 13], 5.5: [5.33], 5: [5.34], 4.5: [5.35], 4: [5.36], 3.5: [6], 3: [7], 2.5: [5], 2: [5.2], 1.5: [5.3], 1: []}\n",
      "too close to other lables\n",
      "5.33 {7: [5, 8, 11, 25, 28], 6.5: [5.2, 9, 12, 30], 6: [5.3, 10, 13], 5.5: [5.33], 5: [5.34], 4.5: [5.35], 4: [5.36], 3.5: [6], 3: [7], 2.5: [5], 2: [5.2], 1.5: [5.3], 1: []}\n",
      "too close to other lables\n",
      "5.33 {7: [5, 8, 11, 25, 28], 6.5: [5.2, 9, 12, 30], 6: [5.3, 10, 13], 5.5: [5.33], 5: [5.34], 4.5: [5.35], 4: [5.36], 3.5: [6], 3: [7], 2.5: [5], 2: [5.2], 1.5: [5.3], 1: []}\n",
      "too close to other lables\n",
      "5.33 {7: [5, 8, 11, 25, 28], 6.5: [5.2, 9, 12, 30], 6: [5.3, 10, 13], 5.5: [5.33], 5: [5.34], 4.5: [5.35], 4: [5.36], 3.5: [6], 3: [7], 2.5: [5], 2: [5.2], 1.5: [5.3], 1: []}\n",
      "too close to other lables\n",
      "5.33 {7: [5, 8, 11, 25, 28], 6.5: [5.2, 9, 12, 30], 6: [5.3, 10, 13], 5.5: [5.33], 5: [5.34], 4.5: [5.35], 4: [5.36], 3.5: [6], 3: [7], 2.5: [5], 2: [5.2], 1.5: [5.3], 1: []}\n",
      "yyyyy 21 5.33 1\n",
      "5.34 {7: [5, 8, 11, 25, 28], 6.5: [5.2, 9, 12, 30], 6: [5.3, 10, 13], 5.5: [5.33], 5: [5.34], 4.5: [5.35], 4: [5.36], 3.5: [6], 3: [7], 2.5: [5], 2: [5.2], 1.5: [5.3], 1: [5.33]}\n",
      "too close to other lables\n",
      "5.34 {7: [5, 8, 11, 25, 28], 6.5: [5.2, 9, 12, 30], 6: [5.3, 10, 13], 5.5: [5.33], 5: [5.34], 4.5: [5.35], 4: [5.36], 3.5: [6], 3: [7], 2.5: [5], 2: [5.2], 1.5: [5.3], 1: [5.33]}\n",
      "too close to other lables\n",
      "5.34 {7: [5, 8, 11, 25, 28], 6.5: [5.2, 9, 12, 30], 6: [5.3, 10, 13], 5.5: [5.33], 5: [5.34], 4.5: [5.35], 4: [5.36], 3.5: [6], 3: [7], 2.5: [5], 2: [5.2], 1.5: [5.3], 1: [5.33]}\n",
      "too close to other lables\n",
      "5.34 {7: [5, 8, 11, 25, 28], 6.5: [5.2, 9, 12, 30], 6: [5.3, 10, 13], 5.5: [5.33], 5: [5.34], 4.5: [5.35], 4: [5.36], 3.5: [6], 3: [7], 2.5: [5], 2: [5.2], 1.5: [5.3], 1: [5.33]}\n",
      "too close to other lables\n",
      "5.34 {7: [5, 8, 11, 25, 28], 6.5: [5.2, 9, 12, 30], 6: [5.3, 10, 13], 5.5: [5.33], 5: [5.34], 4.5: [5.35], 4: [5.36], 3.5: [6], 3: [7], 2.5: [5], 2: [5.2], 1.5: [5.3], 1: [5.33]}\n",
      "too close to other lables\n",
      "5.34 {7: [5, 8, 11, 25, 28], 6.5: [5.2, 9, 12, 30], 6: [5.3, 10, 13], 5.5: [5.33], 5: [5.34], 4.5: [5.35], 4: [5.36], 3.5: [6], 3: [7], 2.5: [5], 2: [5.2], 1.5: [5.3], 1: [5.33]}\n",
      "too close to other lables\n",
      "5.34 {7: [5, 8, 11, 25, 28], 6.5: [5.2, 9, 12, 30], 6: [5.3, 10, 13], 5.5: [5.33], 5: [5.34], 4.5: [5.35], 4: [5.36], 3.5: [6], 3: [7], 2.5: [5], 2: [5.2], 1.5: [5.3], 1: [5.33]}\n",
      "too close to other lables\n",
      "5.34 {7: [5, 8, 11, 25, 28], 6.5: [5.2, 9, 12, 30], 6: [5.3, 10, 13], 5.5: [5.33], 5: [5.34], 4.5: [5.35], 4: [5.36], 3.5: [6], 3: [7], 2.5: [5], 2: [5.2], 1.5: [5.3], 1: [5.33]}\n",
      "too close to other lables\n",
      "5.34 {7: [5, 8, 11, 25, 28], 6.5: [5.2, 9, 12, 30], 6: [5.3, 10, 13], 5.5: [5.33], 5: [5.34], 4.5: [5.35], 4: [5.36], 3.5: [6], 3: [7], 2.5: [5], 2: [5.2], 1.5: [5.3], 1: [5.33]}\n",
      "too close to other lables\n",
      "5.34 {7: [5, 8, 11, 25, 28], 6.5: [5.2, 9, 12, 30], 6: [5.3, 10, 13], 5.5: [5.33], 5: [5.34], 4.5: [5.35], 4: [5.36], 3.5: [6], 3: [7], 2.5: [5], 2: [5.2], 1.5: [5.3], 1: [5.33]}\n",
      "too close to other lables\n",
      "5.34 {7: [5, 8, 11, 25, 28], 6.5: [5.2, 9, 12, 30], 6: [5.3, 10, 13], 5.5: [5.33], 5: [5.34], 4.5: [5.35], 4: [5.36], 3.5: [6], 3: [7], 2.5: [5], 2: [5.2], 1.5: [5.3], 1: [5.33]}\n",
      "too close to other lables\n",
      "5.34 {7: [5, 8, 11, 25, 28], 6.5: [5.2, 9, 12, 30], 6: [5.3, 10, 13], 5.5: [5.33], 5: [5.34], 4.5: [5.35], 4: [5.36], 3.5: [6], 3: [7], 2.5: [5], 2: [5.2], 1.5: [5.3], 1: [5.33]}\n",
      "too close to other lables\n",
      "5.34 {7: [5, 8, 11, 25, 28], 6.5: [5.2, 9, 12, 30], 6: [5.3, 10, 13], 5.5: [5.33], 5: [5.34], 4.5: [5.35], 4: [5.36], 3.5: [6], 3: [7], 2.5: [5], 2: [5.2], 1.5: [5.3], 1: [5.33]}\n",
      "too close to other lables\n",
      "5.35 {7: [5, 8, 11, 25, 28], 6.5: [5.2, 9, 12, 30], 6: [5.3, 10, 13], 5.5: [5.33], 5: [5.34], 4.5: [5.35], 4: [5.36], 3.5: [6], 3: [7], 2.5: [5], 2: [5.2], 1.5: [5.3], 1: [5.33]}\n",
      "too close to other lables\n",
      "5.35 {7: [5, 8, 11, 25, 28], 6.5: [5.2, 9, 12, 30], 6: [5.3, 10, 13], 5.5: [5.33], 5: [5.34], 4.5: [5.35], 4: [5.36], 3.5: [6], 3: [7], 2.5: [5], 2: [5.2], 1.5: [5.3], 1: [5.33]}\n",
      "too close to other lables\n",
      "5.35 {7: [5, 8, 11, 25, 28], 6.5: [5.2, 9, 12, 30], 6: [5.3, 10, 13], 5.5: [5.33], 5: [5.34], 4.5: [5.35], 4: [5.36], 3.5: [6], 3: [7], 2.5: [5], 2: [5.2], 1.5: [5.3], 1: [5.33]}\n",
      "too close to other lables\n",
      "5.35 {7: [5, 8, 11, 25, 28], 6.5: [5.2, 9, 12, 30], 6: [5.3, 10, 13], 5.5: [5.33], 5: [5.34], 4.5: [5.35], 4: [5.36], 3.5: [6], 3: [7], 2.5: [5], 2: [5.2], 1.5: [5.3], 1: [5.33]}\n",
      "too close to other lables\n",
      "5.35 {7: [5, 8, 11, 25, 28], 6.5: [5.2, 9, 12, 30], 6: [5.3, 10, 13], 5.5: [5.33], 5: [5.34], 4.5: [5.35], 4: [5.36], 3.5: [6], 3: [7], 2.5: [5], 2: [5.2], 1.5: [5.3], 1: [5.33]}\n",
      "too close to other lables\n",
      "5.35 {7: [5, 8, 11, 25, 28], 6.5: [5.2, 9, 12, 30], 6: [5.3, 10, 13], 5.5: [5.33], 5: [5.34], 4.5: [5.35], 4: [5.36], 3.5: [6], 3: [7], 2.5: [5], 2: [5.2], 1.5: [5.3], 1: [5.33]}\n",
      "too close to other lables\n",
      "5.35 {7: [5, 8, 11, 25, 28], 6.5: [5.2, 9, 12, 30], 6: [5.3, 10, 13], 5.5: [5.33], 5: [5.34], 4.5: [5.35], 4: [5.36], 3.5: [6], 3: [7], 2.5: [5], 2: [5.2], 1.5: [5.3], 1: [5.33]}\n",
      "too close to other lables\n",
      "5.35 {7: [5, 8, 11, 25, 28], 6.5: [5.2, 9, 12, 30], 6: [5.3, 10, 13], 5.5: [5.33], 5: [5.34], 4.5: [5.35], 4: [5.36], 3.5: [6], 3: [7], 2.5: [5], 2: [5.2], 1.5: [5.3], 1: [5.33]}\n",
      "too close to other lables\n",
      "5.35 {7: [5, 8, 11, 25, 28], 6.5: [5.2, 9, 12, 30], 6: [5.3, 10, 13], 5.5: [5.33], 5: [5.34], 4.5: [5.35], 4: [5.36], 3.5: [6], 3: [7], 2.5: [5], 2: [5.2], 1.5: [5.3], 1: [5.33]}\n",
      "too close to other lables\n",
      "5.35 {7: [5, 8, 11, 25, 28], 6.5: [5.2, 9, 12, 30], 6: [5.3, 10, 13], 5.5: [5.33], 5: [5.34], 4.5: [5.35], 4: [5.36], 3.5: [6], 3: [7], 2.5: [5], 2: [5.2], 1.5: [5.3], 1: [5.33]}\n",
      "too close to other lables\n",
      "5.35 {7: [5, 8, 11, 25, 28], 6.5: [5.2, 9, 12, 30], 6: [5.3, 10, 13], 5.5: [5.33], 5: [5.34], 4.5: [5.35], 4: [5.36], 3.5: [6], 3: [7], 2.5: [5], 2: [5.2], 1.5: [5.3], 1: [5.33]}\n",
      "too close to other lables\n",
      "5.35 {7: [5, 8, 11, 25, 28], 6.5: [5.2, 9, 12, 30], 6: [5.3, 10, 13], 5.5: [5.33], 5: [5.34], 4.5: [5.35], 4: [5.36], 3.5: [6], 3: [7], 2.5: [5], 2: [5.2], 1.5: [5.3], 1: [5.33]}\n",
      "too close to other lables\n",
      "5.35 {7: [5, 8, 11, 25, 28], 6.5: [5.2, 9, 12, 30], 6: [5.3, 10, 13], 5.5: [5.33], 5: [5.34], 4.5: [5.35], 4: [5.36], 3.5: [6], 3: [7], 2.5: [5], 2: [5.2], 1.5: [5.3], 1: [5.33]}\n",
      "too close to other lables\n",
      "5.36 {7: [5, 8, 11, 25, 28], 6.5: [5.2, 9, 12, 30], 6: [5.3, 10, 13], 5.5: [5.33], 5: [5.34], 4.5: [5.35], 4: [5.36], 3.5: [6], 3: [7], 2.5: [5], 2: [5.2], 1.5: [5.3], 1: [5.33]}\n",
      "too close to other lables\n",
      "5.36 {7: [5, 8, 11, 25, 28], 6.5: [5.2, 9, 12, 30], 6: [5.3, 10, 13], 5.5: [5.33], 5: [5.34], 4.5: [5.35], 4: [5.36], 3.5: [6], 3: [7], 2.5: [5], 2: [5.2], 1.5: [5.3], 1: [5.33]}\n",
      "too close to other lables\n",
      "5.36 {7: [5, 8, 11, 25, 28], 6.5: [5.2, 9, 12, 30], 6: [5.3, 10, 13], 5.5: [5.33], 5: [5.34], 4.5: [5.35], 4: [5.36], 3.5: [6], 3: [7], 2.5: [5], 2: [5.2], 1.5: [5.3], 1: [5.33]}\n",
      "too close to other lables\n",
      "5.36 {7: [5, 8, 11, 25, 28], 6.5: [5.2, 9, 12, 30], 6: [5.3, 10, 13], 5.5: [5.33], 5: [5.34], 4.5: [5.35], 4: [5.36], 3.5: [6], 3: [7], 2.5: [5], 2: [5.2], 1.5: [5.3], 1: [5.33]}\n",
      "too close to other lables\n",
      "5.36 {7: [5, 8, 11, 25, 28], 6.5: [5.2, 9, 12, 30], 6: [5.3, 10, 13], 5.5: [5.33], 5: [5.34], 4.5: [5.35], 4: [5.36], 3.5: [6], 3: [7], 2.5: [5], 2: [5.2], 1.5: [5.3], 1: [5.33]}\n",
      "too close to other lables\n",
      "5.36 {7: [5, 8, 11, 25, 28], 6.5: [5.2, 9, 12, 30], 6: [5.3, 10, 13], 5.5: [5.33], 5: [5.34], 4.5: [5.35], 4: [5.36], 3.5: [6], 3: [7], 2.5: [5], 2: [5.2], 1.5: [5.3], 1: [5.33]}\n",
      "too close to other lables\n",
      "5.36 {7: [5, 8, 11, 25, 28], 6.5: [5.2, 9, 12, 30], 6: [5.3, 10, 13], 5.5: [5.33], 5: [5.34], 4.5: [5.35], 4: [5.36], 3.5: [6], 3: [7], 2.5: [5], 2: [5.2], 1.5: [5.3], 1: [5.33]}\n",
      "too close to other lables\n",
      "5.36 {7: [5, 8, 11, 25, 28], 6.5: [5.2, 9, 12, 30], 6: [5.3, 10, 13], 5.5: [5.33], 5: [5.34], 4.5: [5.35], 4: [5.36], 3.5: [6], 3: [7], 2.5: [5], 2: [5.2], 1.5: [5.3], 1: [5.33]}\n",
      "too close to other lables\n",
      "5.36 {7: [5, 8, 11, 25, 28], 6.5: [5.2, 9, 12, 30], 6: [5.3, 10, 13], 5.5: [5.33], 5: [5.34], 4.5: [5.35], 4: [5.36], 3.5: [6], 3: [7], 2.5: [5], 2: [5.2], 1.5: [5.3], 1: [5.33]}\n",
      "too close to other lables\n",
      "5.36 {7: [5, 8, 11, 25, 28], 6.5: [5.2, 9, 12, 30], 6: [5.3, 10, 13], 5.5: [5.33], 5: [5.34], 4.5: [5.35], 4: [5.36], 3.5: [6], 3: [7], 2.5: [5], 2: [5.2], 1.5: [5.3], 1: [5.33]}\n",
      "too close to other lables\n",
      "5.36 {7: [5, 8, 11, 25, 28], 6.5: [5.2, 9, 12, 30], 6: [5.3, 10, 13], 5.5: [5.33], 5: [5.34], 4.5: [5.35], 4: [5.36], 3.5: [6], 3: [7], 2.5: [5], 2: [5.2], 1.5: [5.3], 1: [5.33]}\n",
      "too close to other lables\n",
      "5.36 {7: [5, 8, 11, 25, 28], 6.5: [5.2, 9, 12, 30], 6: [5.3, 10, 13], 5.5: [5.33], 5: [5.34], 4.5: [5.35], 4: [5.36], 3.5: [6], 3: [7], 2.5: [5], 2: [5.2], 1.5: [5.3], 1: [5.33]}\n",
      "too close to other lables\n",
      "5.36 {7: [5, 8, 11, 25, 28], 6.5: [5.2, 9, 12, 30], 6: [5.3, 10, 13], 5.5: [5.33], 5: [5.34], 4.5: [5.35], 4: [5.36], 3.5: [6], 3: [7], 2.5: [5], 2: [5.2], 1.5: [5.3], 1: [5.33]}\n",
      "too close to other lables\n",
      "13 {7: [5, 8, 11, 25, 28], 6.5: [5.2, 9, 12, 30], 6: [5.3, 10, 13], 5.5: [5.33], 5: [5.34], 4.5: [5.35], 4: [5.36], 3.5: [6], 3: [7], 2.5: [5], 2: [5.2], 1.5: [5.3], 1: [5.33]}\n",
      "too close to other lables\n",
      "13 {7: [5, 8, 11, 25, 28], 6.5: [5.2, 9, 12, 30], 6: [5.3, 10, 13], 5.5: [5.33], 5: [5.34], 4.5: [5.35], 4: [5.36], 3.5: [6], 3: [7], 2.5: [5], 2: [5.2], 1.5: [5.3], 1: [5.33]}\n",
      "too close to other lables\n",
      "13 {7: [5, 8, 11, 25, 28], 6.5: [5.2, 9, 12, 30], 6: [5.3, 10, 13], 5.5: [5.33], 5: [5.34], 4.5: [5.35], 4: [5.36], 3.5: [6], 3: [7], 2.5: [5], 2: [5.2], 1.5: [5.3], 1: [5.33]}\n",
      "too close to other lables\n",
      "13 {7: [5, 8, 11, 25, 28], 6.5: [5.2, 9, 12, 30], 6: [5.3, 10, 13], 5.5: [5.33], 5: [5.34], 4.5: [5.35], 4: [5.36], 3.5: [6], 3: [7], 2.5: [5], 2: [5.2], 1.5: [5.3], 1: [5.33]}\n",
      "yyyyy 25 13 5.5\n",
      "25 {7: [5, 8, 11, 25, 28], 6.5: [5.2, 9, 12, 30], 6: [5.3, 10, 13], 5.5: [5.33, 13], 5: [5.34], 4.5: [5.35], 4: [5.36], 3.5: [6], 3: [7], 2.5: [5], 2: [5.2], 1.5: [5.3], 1: [5.33]}\n",
      "too close to other lables\n",
      "25 {7: [5, 8, 11, 25, 28], 6.5: [5.2, 9, 12, 30], 6: [5.3, 10, 13], 5.5: [5.33, 13], 5: [5.34], 4.5: [5.35], 4: [5.36], 3.5: [6], 3: [7], 2.5: [5], 2: [5.2], 1.5: [5.3], 1: [5.33]}\n",
      "yyyyy 26 25 6.5\n",
      "28 {7: [5, 8, 11, 25, 28], 6.5: [5.2, 9, 12, 30, 25], 6: [5.3, 10, 13], 5.5: [5.33, 13], 5: [5.34], 4.5: [5.35], 4: [5.36], 3.5: [6], 3: [7], 2.5: [5], 2: [5.2], 1.5: [5.3], 1: [5.33]}\n",
      "too close to other lables\n",
      "28 {7: [5, 8, 11, 25, 28], 6.5: [5.2, 9, 12, 30, 25], 6: [5.3, 10, 13], 5.5: [5.33, 13], 5: [5.34], 4.5: [5.35], 4: [5.36], 3.5: [6], 3: [7], 2.5: [5], 2: [5.2], 1.5: [5.3], 1: [5.33]}\n",
      "too close to other lables\n",
      "28 {7: [5, 8, 11, 25, 28], 6.5: [5.2, 9, 12, 30, 25], 6: [5.3, 10, 13], 5.5: [5.33, 13], 5: [5.34], 4.5: [5.35], 4: [5.36], 3.5: [6], 3: [7], 2.5: [5], 2: [5.2], 1.5: [5.3], 1: [5.33]}\n",
      "yyyyy 27 28 6\n",
      "30 {7: [5, 8, 11, 25, 28], 6.5: [5.2, 9, 12, 30, 25], 6: [5.3, 10, 13, 28], 5.5: [5.33, 13], 5: [5.34], 4.5: [5.35], 4: [5.36], 3.5: [6], 3: [7], 2.5: [5], 2: [5.2], 1.5: [5.3], 1: [5.33]}\n",
      "too close to other lables\n",
      "30 {7: [5, 8, 11, 25, 28], 6.5: [5.2, 9, 12, 30, 25], 6: [5.3, 10, 13, 28], 5.5: [5.33, 13], 5: [5.34], 4.5: [5.35], 4: [5.36], 3.5: [6], 3: [7], 2.5: [5], 2: [5.2], 1.5: [5.3], 1: [5.33]}\n",
      "too close to other lables\n",
      "30 {7: [5, 8, 11, 25, 28], 6.5: [5.2, 9, 12, 30, 25], 6: [5.3, 10, 13, 28], 5.5: [5.33, 13], 5: [5.34], 4.5: [5.35], 4: [5.36], 3.5: [6], 3: [7], 2.5: [5], 2: [5.2], 1.5: [5.3], 1: [5.33]}\n",
      "too close to other lables\n",
      "30 {7: [5, 8, 11, 25, 28], 6.5: [5.2, 9, 12, 30, 25], 6: [5.3, 10, 13, 28], 5.5: [5.33, 13], 5: [5.34], 4.5: [5.35], 4: [5.36], 3.5: [6], 3: [7], 2.5: [5], 2: [5.2], 1.5: [5.3], 1: [5.33]}\n",
      "yyyyy 28 30 5.5\n"
     ]
    },
    {
     "data": {
      "image/png": "[encoded data removed]",
      "text/plain": [
       "<Figure size 1008x576 with 1 Axes>"
      ]
     },
     "metadata": {},
     "output_type": "display_data"
    }
   ],
   "source": [
    "from pylab import *\n",
    "import pandas as pd\n",
    "\n",
    "x = arange(10)\n",
    "y = x\n",
    "chr_length = [10, 7, 6, 4, 3, 2]\n",
    "fig = plt.figure(figsize=(14,8))\n",
    "ax = fig.add_subplot(111)\n",
    "# Plot junk and then a filled region\n",
    "# plot(x, y)b\n",
    "start = 0\n",
    "end = 0\n",
    "for ch, length in enumerate(chr_length):\n",
    "    ch+=1\n",
    "    end+=length\n",
    "    midpoint = (start + end)/2\n",
    "    ax.text(midpoint, 9, ch)\n",
    "    if ch %2 == 1:\n",
    "        fill([start, end,end,start], [0,0,10,10], 'b', alpha=0.1, edgecolor='b')\n",
    "    start+=length\n",
    "axhline(8)\n",
    "\n",
    "# area plot example fill between 2 lines\n",
    "x=range(0,30)\n",
    "y1=np.random.random(30)+8\n",
    "y2 = [8]*30\n",
    "ax.fill_between( x, y1, y2, color=\"red\", alpha=0.4)\n",
    "\n",
    "x=range(0,30)\n",
    "y1=8-np.random.random(30)\n",
    "y2 = [8]*30\n",
    "ax.fill_between( x, y1, y2, color=\"blue\", alpha=0.4)\n",
    "\n",
    "\n",
    "gene_positions = [5, 5.2, 5.3, 5.33, 5.34,5.35, 5.36, 6, 7,8,9,10, 11, 12, 13, 25, 28, 30, 5, 5.2, 5.3, 5.33, 5.34,5.35, 5.36, 13, 25, 28, 30]\n",
    "h = 7\n",
    "# pre_g = 0\n",
    "ycoords_dict = {7:[], 6.5:[], 6:[], 5.5:[],5:[],4.5:[],4:[],3.5:[],3:[],2.5:[],2:[],1.5:[],1:[]}\n",
    "gene_coords = []\n",
    "for i, g in enumerate(gene_positions):\n",
    "    dist = g - pre_g\n",
    "    for y_coord in [7, 6.5,6, 5.5, 5, 4.5,4, 3.5, 3, 2.5, 2, 1.5, 1]:\n",
    "        print(g, ycoords_dict)\n",
    "        if all([abs(i-g) >2 for i in ycoords_dict[y_coord]]):\n",
    "            print('yyyyy', i, g, y_coord)\n",
    "#             gene_labels.append(i)\n",
    "            gene_coords.append((i, g, y_coord))\n",
    "#             ax.annotate('xxxxtext{}'.format(i),\n",
    "#                         xy=(g,8), \n",
    "#         #                 xytext=(30/len(gene_positions)*i, 2),\n",
    "#                         xytext=(g, y_coord), \n",
    "#                         ha='center', va='bottom', color='red',\n",
    "#                         textcoords='data', xycoords=\"data\", \n",
    "#                         bbox=dict(boxstyle='round', \n",
    "#                                   fc='white', \n",
    "#                                   alpha=0.5, pad=.5),\n",
    "#                         arrowprops=dict(arrowstyle='-', \n",
    "#                                         color='red',\n",
    "#                                         shrinkB=0, \n",
    "#                                         connectionstyle='arc3,rad=0.0', alpha=0.5 \n",
    "#                                       ))\n",
    "            bb = ycoords_dict[y_coord]\n",
    "            bb.append(g)\n",
    "            ycoords_dict[y_coord] = bb\n",
    "            break\n",
    "        else:\n",
    "            print('too close to other lables')\n",
    "\n",
    "#     pre_g = g\n",
    "df = pd.DataFrame(gene_coords, columns=['gene', 'x', 'y'])\n",
    "df = df.sort_values(['y', 'x'], ascending=True)\n",
    "for ix, row in df.iterrows():  \n",
    "    gene = row.gene\n",
    "    x = row.x\n",
    "    y = row.y\n",
    "    ax.annotate(gene,\n",
    "                xy=(x,8), \n",
    "    #                 xytext=(30/len(gene_positions)*i, 2),\n",
    "                xytext=(x, y), \n",
    "                ha='center', va='bottom', color='red',\n",
    "                textcoords='data', xycoords=\"data\", \n",
    "                bbox=dict(boxstyle='round', \n",
    "                          fc='white', \n",
    "                          alpha=1, pad=.5),\n",
    "                arrowprops=dict(arrowstyle='-', \n",
    "                                color='red',\n",
    "                                shrinkB=0, \n",
    "                                connectionstyle='arc3,rad=0.0', alpha=0.5 \n",
    "                              ))\n",
    "\n",
    "    \n",
    "ax.set_xlim(0,sum(chr_length))\n",
    "ax.set_ylim(0,10)\n",
    "\n",
    "plt.show()"
   ]
  },
  {
   "cell_type": "code",
   "execution_count": 24,
   "metadata": {},
   "outputs": [
    {
     "data": {
      "text/html": [
       "<div>\n",
       "<style scoped>\n",
       "    .dataframe tbody tr th:only-of-type {\n",
       "        vertical-align: middle;\n",
       "    }\n",
       "\n",
       "    .dataframe tbody tr th {\n",
       "        vertical-align: top;\n",
       "    }\n",
       "\n",
       "    .dataframe thead th {\n",
       "        text-align: right;\n",
       "    }\n",
       "</style>\n",
       "<table border=\"1\" class=\"dataframe\">\n",
       "  <thead>\n",
       "    <tr style=\"text-align: right;\">\n",
       "      <th></th>\n",
       "      <th>gene</th>\n",
       "      <th>x</th>\n",
       "      <th>y</th>\n",
       "    </tr>\n",
       "  </thead>\n",
       "  <tbody>\n",
       "    <tr>\n",
       "      <th>21</th>\n",
       "      <td>21</td>\n",
       "      <td>5.33</td>\n",
       "      <td>1.0</td>\n",
       "    </tr>\n",
       "    <tr>\n",
       "      <th>20</th>\n",
       "      <td>20</td>\n",
       "      <td>5.30</td>\n",
       "      <td>1.5</td>\n",
       "    </tr>\n",
       "    <tr>\n",
       "      <th>19</th>\n",
       "      <td>19</td>\n",
       "      <td>5.20</td>\n",
       "      <td>2.0</td>\n",
       "    </tr>\n",
       "    <tr>\n",
       "      <th>18</th>\n",
       "      <td>18</td>\n",
       "      <td>5.00</td>\n",
       "      <td>2.5</td>\n",
       "    </tr>\n",
       "    <tr>\n",
       "      <th>8</th>\n",
       "      <td>8</td>\n",
       "      <td>7.00</td>\n",
       "      <td>3.0</td>\n",
       "    </tr>\n",
       "    <tr>\n",
       "      <th>7</th>\n",
       "      <td>7</td>\n",
       "      <td>6.00</td>\n",
       "      <td>3.5</td>\n",
       "    </tr>\n",
       "    <tr>\n",
       "      <th>6</th>\n",
       "      <td>6</td>\n",
       "      <td>5.36</td>\n",
       "      <td>4.0</td>\n",
       "    </tr>\n",
       "    <tr>\n",
       "      <th>5</th>\n",
       "      <td>5</td>\n",
       "      <td>5.35</td>\n",
       "      <td>4.5</td>\n",
       "    </tr>\n",
       "    <tr>\n",
       "      <th>4</th>\n",
       "      <td>4</td>\n",
       "      <td>5.34</td>\n",
       "      <td>5.0</td>\n",
       "    </tr>\n",
       "    <tr>\n",
       "      <th>3</th>\n",
       "      <td>3</td>\n",
       "      <td>5.33</td>\n",
       "      <td>5.5</td>\n",
       "    </tr>\n",
       "    <tr>\n",
       "      <th>22</th>\n",
       "      <td>25</td>\n",
       "      <td>13.00</td>\n",
       "      <td>5.5</td>\n",
       "    </tr>\n",
       "    <tr>\n",
       "      <th>25</th>\n",
       "      <td>28</td>\n",
       "      <td>30.00</td>\n",
       "      <td>5.5</td>\n",
       "    </tr>\n",
       "    <tr>\n",
       "      <th>2</th>\n",
       "      <td>2</td>\n",
       "      <td>5.30</td>\n",
       "      <td>6.0</td>\n",
       "    </tr>\n",
       "    <tr>\n",
       "      <th>11</th>\n",
       "      <td>11</td>\n",
       "      <td>10.00</td>\n",
       "      <td>6.0</td>\n",
       "    </tr>\n",
       "    <tr>\n",
       "      <th>14</th>\n",
       "      <td>14</td>\n",
       "      <td>13.00</td>\n",
       "      <td>6.0</td>\n",
       "    </tr>\n",
       "    <tr>\n",
       "      <th>24</th>\n",
       "      <td>27</td>\n",
       "      <td>28.00</td>\n",
       "      <td>6.0</td>\n",
       "    </tr>\n",
       "    <tr>\n",
       "      <th>1</th>\n",
       "      <td>1</td>\n",
       "      <td>5.20</td>\n",
       "      <td>6.5</td>\n",
       "    </tr>\n",
       "    <tr>\n",
       "      <th>10</th>\n",
       "      <td>10</td>\n",
       "      <td>9.00</td>\n",
       "      <td>6.5</td>\n",
       "    </tr>\n",
       "    <tr>\n",
       "      <th>13</th>\n",
       "      <td>13</td>\n",
       "      <td>12.00</td>\n",
       "      <td>6.5</td>\n",
       "    </tr>\n",
       "    <tr>\n",
       "      <th>23</th>\n",
       "      <td>26</td>\n",
       "      <td>25.00</td>\n",
       "      <td>6.5</td>\n",
       "    </tr>\n",
       "    <tr>\n",
       "      <th>17</th>\n",
       "      <td>17</td>\n",
       "      <td>30.00</td>\n",
       "      <td>6.5</td>\n",
       "    </tr>\n",
       "    <tr>\n",
       "      <th>0</th>\n",
       "      <td>0</td>\n",
       "      <td>5.00</td>\n",
       "      <td>7.0</td>\n",
       "    </tr>\n",
       "    <tr>\n",
       "      <th>9</th>\n",
       "      <td>9</td>\n",
       "      <td>8.00</td>\n",
       "      <td>7.0</td>\n",
       "    </tr>\n",
       "    <tr>\n",
       "      <th>12</th>\n",
       "      <td>12</td>\n",
       "      <td>11.00</td>\n",
       "      <td>7.0</td>\n",
       "    </tr>\n",
       "    <tr>\n",
       "      <th>15</th>\n",
       "      <td>15</td>\n",
       "      <td>25.00</td>\n",
       "      <td>7.0</td>\n",
       "    </tr>\n",
       "    <tr>\n",
       "      <th>16</th>\n",
       "      <td>16</td>\n",
       "      <td>28.00</td>\n",
       "      <td>7.0</td>\n",
       "    </tr>\n",
       "  </tbody>\n",
       "</table>\n",
       "</div>"
      ],
      "text/plain": [
       "    gene      x    y\n",
       "21    21   5.33  1.0\n",
       "20    20   5.30  1.5\n",
       "19    19   5.20  2.0\n",
       "18    18   5.00  2.5\n",
       "8      8   7.00  3.0\n",
       "7      7   6.00  3.5\n",
       "6      6   5.36  4.0\n",
       "5      5   5.35  4.5\n",
       "4      4   5.34  5.0\n",
       "3      3   5.33  5.5\n",
       "22    25  13.00  5.5\n",
       "25    28  30.00  5.5\n",
       "2      2   5.30  6.0\n",
       "11    11  10.00  6.0\n",
       "14    14  13.00  6.0\n",
       "24    27  28.00  6.0\n",
       "1      1   5.20  6.5\n",
       "10    10   9.00  6.5\n",
       "13    13  12.00  6.5\n",
       "23    26  25.00  6.5\n",
       "17    17  30.00  6.5\n",
       "0      0   5.00  7.0\n",
       "9      9   8.00  7.0\n",
       "12    12  11.00  7.0\n",
       "15    15  25.00  7.0\n",
       "16    16  28.00  7.0"
      ]
     },
     "execution_count": 24,
     "metadata": {},
     "output_type": "execute_result"
    }
   ],
   "source": [
    "df"
   ]
  },
  {
   "cell_type": "code",
   "execution_count": 270,
   "metadata": {},
   "outputs": [
    {
     "data": {
      "text/plain": [
       "[0, 3]"
      ]
     },
     "execution_count": 270,
     "metadata": {},
     "output_type": "execute_result"
    }
   ],
   "source": [
    "a"
   ]
  },
  {
   "cell_type": "code",
   "execution_count": 177,
   "metadata": {},
   "outputs": [
    {
     "name": "stdout",
     "output_type": "stream",
     "text": [
      "[[ -5.55111512e-17   1.13006560e-02]\n",
      " [  4.93703683e-01   7.00000000e-01]]\n"
     ]
    },
    {
     "data": {
      "image/png": "[encoded data removed]",
      "text/plain": [
       "<matplotlib.figure.Figure at 0x11decc860>"
      ]
     },
     "metadata": {},
     "output_type": "display_data"
    },
    {
     "name": "stdout",
     "output_type": "stream",
     "text": [
      "Bbox(x0=81.43636363636364, y0=175.208, x1=162.18636363636364, y1=191.208)\n",
      "[[ 0.1885101   0.60836111]\n",
      " [ 0.3754314   0.66391667]]\n"
     ]
    }
   ],
   "source": [
    "fig, ax = subplots()\n",
    "# ax.plot((-0.03244474,  0.01013671,  0.01013671,-0.03244474 ), (0.7-0.02299485,  0.7-0.02299485, 0.72299485, 0.72299485))\n",
    "# ax.plot((-0.03244474,0.49275949, 0.49275949, -0.03244474),  \n",
    "#         (0.01013671, 0.01013671,0.72299485, 0.72299485))\n",
    "      \n",
    "x = ax.annotate('textcccccccccc', xy=(0.5, 0), \n",
    "                xytext=(0.0,0.7),\n",
    "                ha='left', va='top',\n",
    "                bbox=dict(boxstyle='square', fc='gray', alpha=0.5),\n",
    "                arrowprops=dict(arrowstyle='->', color='blue'))\n",
    "ax.set_xlim(-0.1, 1)\n",
    "ax.set_ylim(0,1)\n",
    "# plt.show()\n",
    "ax.figure.canvas.draw()\n",
    "bbox = x.get_window_extent()\n",
    "bbox_data = ax.transData.inverted().transform(bbox) \n",
    "bbox\n",
    "print(bbox_data)\n",
    "plt.show()\n",
    "fig.canvas.draw() \n",
    "patch = x.get_bbox_patch()\n",
    "box  = patch.get_extents()\n",
    "print(box)\n",
    "tcbox = fig.transFigure.inverted().transform(box)\n",
    "print(tcbox)"
   ]
  },
  {
   "cell_type": "code",
   "execution_count": 137,
   "metadata": {},
   "outputs": [
    {
     "data": {
      "text/plain": [
       "'data'"
      ]
     },
     "execution_count": 137,
     "metadata": {},
     "output_type": "execute_result"
    }
   ],
   "source": [
    "x.xycoords"
   ]
  },
  {
   "cell_type": "code",
   "execution_count": 240,
   "metadata": {
    "collapsed": true
   },
   "outputs": [],
   "source": [
    "# https://stackoverflow.com/questions/8850142/matplotlib-overlapping-annotations\n",
    "import numpy as np\n",
    "import matplotlib.pyplot as plt\n",
    "from numpy.random import *\n",
    "\n",
    "def get_text_positions(x_data, y_data, txt_width, txt_height):\n",
    "    a = list(zip(y_data, x_data))\n",
    "    text_positions = y_data.copy()\n",
    "    for index, (y, x) in enumerate(a):\n",
    "        local_text_positions = [i for i in a if i[0] > (y - txt_height) \n",
    "                            and (abs(i[1] - x) < txt_width * 2) and i != (y,x)]\n",
    "        if local_text_positions:\n",
    "            sorted_ltp = sorted(local_text_positions)\n",
    "            if abs(sorted_ltp[0][0] - y) < txt_height: #True == collision\n",
    "                differ = np.diff(sorted_ltp, axis=0)\n",
    "                a[index] = (sorted_ltp[-1][0] + txt_height, a[index][1])\n",
    "                text_positions[index] = sorted_ltp[-1][0] + txt_height\n",
    "                for k, (j, m) in enumerate(differ):\n",
    "                    #j is the vertical distance between words\n",
    "                    if j > txt_height * 2: #if True then room to fit a word in\n",
    "                        a[index] = (sorted_ltp[k][0] + txt_height, a[index][1])\n",
    "                        text_positions[index] = sorted_ltp[k][0] + txt_height\n",
    "                        break\n",
    "    return text_positions\n",
    "\n",
    "def text_plotter(x_data, y_data, text_positions, axis,txt_width,txt_height):\n",
    "    for x,y,t in zip(x_data, y_data, text_positions):\n",
    "        axis.text(x - txt_width, 1.01*t, 'xxxxxxx%d'%int(y),rotation=0, color='blue')\n",
    "        if y != t:\n",
    "        \n",
    "            axis.arrow(x, t,0,y-t, color='red',alpha=0.3, width=txt_width*0.1, \n",
    "                       head_width=0, head_length=0, \n",
    "                       zorder=0,length_includes_head=True)\n",
    "            \n",
    "#random test data:\n",
    "x_data = random_sample(100)\n",
    "y_data = randint(10,50,100)"
   ]
  },
  {
   "cell_type": "code",
   "execution_count": 245,
   "metadata": {},
   "outputs": [
    {
     "data": {
      "text/plain": [
       "<matplotlib.figure.Figure at 0x11ac5e668>"
      ]
     },
     "metadata": {},
     "output_type": "display_data"
    },
    {
     "data": {
      "image/png": "[encoded data removed]",
      "text/plain": [
       "<matplotlib.figure.Figure at 0x11cb70518>"
      ]
     },
     "metadata": {},
     "output_type": "display_data"
    }
   ],
   "source": [
    "#GOOD PLOT:\n",
    "fig2 = plt.figure(figsize=(14, 9))\n",
    "ax2 = fig2.add_subplot(111)\n",
    "ax2.bar(x_data, y_data,width=0.001)\n",
    "#set the bbox for the text. Increase txt_width for wider text.\n",
    "txt_height = 0.04*(plt.ylim()[1] - plt.ylim()[0])\n",
    "txt_width = 0.02*(plt.xlim()[1] - plt.xlim()[0])\n",
    "#Get the corrected text positions, then write the text.\n",
    "text_positions = get_text_positions(x_data, y_data, txt_width, txt_height)\n",
    "text_plotter(x_data, y_data, text_positions, ax2, txt_width, txt_height)\n",
    "\n",
    "plt.ylim(0,max(text_positions)+2*txt_height)\n",
    "plt.xlim(-0.1,1.1)\n",
    "\n",
    "# #BAD PLOT:\n",
    "# fig = plt.figure()\n",
    "# ax = fig.add_subplot(111)\n",
    "# ax.bar(x_data, y_data, width=0.001)\n",
    "# #write the text:\n",
    "# for x,y in zip(x_data, y_data):\n",
    "#     ax.text(x - txt_width, 1.01*y, '%d'%int(y),rotation=0)\n",
    "# plt.ylim(0,max(text_positions)+2*txt_height)\n",
    "# plt.xlim(-0.1,1.1)\n",
    "\n",
    "plt.show()"
   ]
  }
 ],
 "metadata": {
  "kernelspec": {
   "display_name": "Python 3",
   "language": "python",
   "name": "python3"
  },
  "language_info": {
   "codemirror_mode": {
    "name": "ipython",
    "version": 3
   },
   "file_extension": ".py",
   "mimetype": "text/x-python",
   "name": "python",
   "nbconvert_exporter": "python",
   "pygments_lexer": "ipython3",
   "version": "3.6.5"
  }
 },
 "nbformat": 4,
 "nbformat_minor": 2
}
