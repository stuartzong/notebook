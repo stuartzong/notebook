{
 "cells": [
  {
   "cell_type": "markdown",
   "metadata": {},
   "source": [
    "# HLA typing for RNAseq data, outdated now, use the optitype_setup.py instead"
   ]
  },
  {
   "cell_type": "code",
   "execution_count": 1,
   "metadata": {
    "collapsed": true
   },
   "outputs": [],
   "source": [
    "import os\n",
    "import pandas as pd\n",
    "from jinja2 import Environment, FileSystemLoader\n",
    "\n",
    "def populate_sh_template(template_dir, patient, library, sh_script, fq1, fq2):\n",
    "    jinja2_env = Environment(loader=FileSystemLoader([template_dir]),\n",
    "                             trim_blocks=True)\n",
    "    template = jinja2_env.get_template('optitype_template.sh')\n",
    "    with open(sh_script, 'w') as opf:\n",
    "        content = template.render(sh_script=sh_script,\n",
    "                                  patient=patient,\n",
    "                                  library=library,\n",
    "                                  fq1=fq1,\n",
    "                                  fq2=fq2)\n",
    "        opf.write(content)\n",
    "        print('templated {}'.format(sh_script))\n",
    "    return sh_script"
   ]
  },
  {
   "cell_type": "code",
   "execution_count": 3,
   "metadata": {},
   "outputs": [
    {
     "data": {
      "text/html": [
       "<div>\n",
       "<style>\n",
       "    .dataframe thead tr:only-child th {\n",
       "        text-align: right;\n",
       "    }\n",
       "\n",
       "    .dataframe thead th {\n",
       "        text-align: left;\n",
       "    }\n",
       "\n",
       "    .dataframe tbody tr th {\n",
       "        vertical-align: top;\n",
       "    }\n",
       "</style>\n",
       "<table border=\"1\" class=\"dataframe\">\n",
       "  <thead>\n",
       "    <tr style=\"text-align: right;\">\n",
       "      <th></th>\n",
       "      <th>patient</th>\n",
       "      <th>library</th>\n",
       "      <th>data_type</th>\n",
       "      <th>fastq1</th>\n",
       "      <th>fastq2</th>\n",
       "    </tr>\n",
       "  </thead>\n",
       "  <tbody>\n",
       "    <tr>\n",
       "      <th>0</th>\n",
       "      <td>POG894</td>\n",
       "      <td>P02366</td>\n",
       "      <td>DNA</td>\n",
       "      <td>/projects/trans_scratch/validations/BBT/hla_te...</td>\n",
       "      <td>/projects/trans_scratch/validations/BBT/hla_te...</td>\n",
       "    </tr>\n",
       "    <tr>\n",
       "      <th>1</th>\n",
       "      <td>POG894</td>\n",
       "      <td>P02370</td>\n",
       "      <td>DNA</td>\n",
       "      <td>/projects/trans_scratch/validations/BBT/hla_te...</td>\n",
       "      <td>/projects/trans_scratch/validations/BBT/hla_te...</td>\n",
       "    </tr>\n",
       "  </tbody>\n",
       "</table>\n",
       "</div>"
      ],
      "text/plain": [
       "  patient library data_type  \\\n",
       "0  POG894  P02366       DNA   \n",
       "1  POG894  P02370       DNA   \n",
       "\n",
       "                                              fastq1  \\\n",
       "0  /projects/trans_scratch/validations/BBT/hla_te...   \n",
       "1  /projects/trans_scratch/validations/BBT/hla_te...   \n",
       "\n",
       "                                              fastq2  \n",
       "0  /projects/trans_scratch/validations/BBT/hla_te...  \n",
       "1  /projects/trans_scratch/validations/BBT/hla_te...  "
      ]
     },
     "execution_count": 3,
     "metadata": {},
     "output_type": "execute_result"
    }
   ],
   "source": [
    "# f = '/projects/trans_scratch/validations/optitype/POGs/19_pog_rna_fastqs.csv'\n",
    "f = '/projects/trans_scratch/validations/optitype/rna_slurm/5_POGs_DNA_BBT.txt.csv'\n",
    "df_patient = pd.read_csv(f, sep='\\t')\n",
    "df_patient.head(2)"
   ]
  },
  {
   "cell_type": "code",
   "execution_count": 11,
   "metadata": {},
   "outputs": [
    {
     "name": "stdout",
     "output_type": "stream",
     "text": [
      "templated /projects/trans_scratch/validations/optitype/POGs/POG083.P00134.optipye.sh\n",
      "templated /projects/trans_scratch/validations/optitype/POGs/POG108.P00207.optipye.sh\n",
      "templated /projects/trans_scratch/validations/optitype/POGs/POG116.P00255.optipye.sh\n",
      "templated /projects/trans_scratch/validations/optitype/POGs/POG114.P00257.optipye.sh\n",
      "templated /projects/trans_scratch/validations/optitype/POGs/POG165.P00447.optipye.sh\n",
      "templated /projects/trans_scratch/validations/optitype/POGs/POG217.P00676.optipye.sh\n",
      "templated /projects/trans_scratch/validations/optitype/POGs/POG237.P00688.optipye.sh\n",
      "templated /projects/trans_scratch/validations/optitype/POGs/POG264.P00777.optipye.sh\n",
      "templated /projects/trans_scratch/validations/optitype/POGs/POG280.P00865.optipye.sh\n",
      "templated /projects/trans_scratch/validations/optitype/POGs/POG279.P00868.optipye.sh\n",
      "templated /projects/trans_scratch/validations/optitype/POGs/POG318.P00881.optipye.sh\n",
      "templated /projects/trans_scratch/validations/optitype/POGs/POG326.P00911.optipye.sh\n",
      "templated /projects/trans_scratch/validations/optitype/POGs/POG343.P00949.optipye.sh\n",
      "templated /projects/trans_scratch/validations/optitype/POGs/POG419.P01164.optipye.sh\n",
      "templated /projects/trans_scratch/validations/optitype/POGs/POG475.P01252.optipye.sh\n",
      "templated /projects/trans_scratch/validations/optitype/POGs/POG475.P01267.optipye.sh\n",
      "templated /projects/trans_scratch/validations/optitype/POGs/POG574.P01561.optipye.sh\n",
      "templated /projects/trans_scratch/validations/optitype/POGs/POG616.P01608.optipye.sh\n",
      "templated /projects/trans_scratch/validations/optitype/POGs/POG237.P01645.optipye.sh\n",
      "templated /projects/trans_scratch/validations/optitype/POGs/POG116.P01685.optipye.sh\n",
      "templated /projects/trans_scratch/validations/optitype/POGs/POG507.P01818.optipye.sh\n",
      "templated /projects/trans_scratch/validations/optitype/POGs/POG581.P01894.optipye.sh\n",
      "templated /projects/trans_scratch/validations/optitype/POGs/POG217.P01901.optipye.sh\n"
     ]
    }
   ],
   "source": [
    "template_dir = '/home/szong/projects/development/optitype'\n",
    "# fq_dir = '/projects/trans_scratch/validations/MiXCR/fastqs/'\n",
    "# wkdir = os.getcwd()\n",
    "# wkdir = '/projects/trans_scratch/validations/optitype/POGs/'\n",
    "wkdir = '/projects/trans_scratch/validations/optitype/rna_slurm/POG_BBT/DNA'\n",
    "for index, row in df_patient.iterrows():\n",
    "    patient = row.patient\n",
    "    library = row.rna_library\n",
    "    fq1 = row.fastq1\n",
    "    fq2 = row.fastq2\n",
    "    sh_script = '.'.join([patient, library, 'optipye', 'sh'])\n",
    "    sh_script = ''.join([wkdir, sh_script])\n",
    "    populate_sh_template(template_dir, patient, library, sh_script, fq1, fq2);"
   ]
  }
 ],
 "metadata": {
  "kernelspec": {
   "display_name": "Python 3",
   "language": "python",
   "name": "python3"
  },
  "language_info": {
   "codemirror_mode": {
    "name": "ipython",
    "version": 3
   },
   "file_extension": ".py",
   "mimetype": "text/x-python",
   "name": "python",
   "nbconvert_exporter": "python",
   "pygments_lexer": "ipython3",
   "version": "3.6.1"
  }
 },
 "nbformat": 4,
 "nbformat_minor": 2
}
