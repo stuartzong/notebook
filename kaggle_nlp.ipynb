{
 "cells": [
  {
   "cell_type": "code",
   "execution_count": 2,
   "metadata": {
    "_cell_guid": "ef08df1c-3c94-4f63-bbc7-6cc93f46fb52",
    "_uuid": "7b62b6d64cc54d675b18c29ee12eed7cd45a3154"
   },
   "outputs": [],
   "source": [
    "%matplotlib inline\n",
    "import pandas as pd\n",
    "import numpy as np\n",
    "\n",
    "from sklearn.model_selection import cross_val_predict\n",
    "from sklearn.model_selection import StratifiedKFold\n",
    "from sklearn.model_selection import train_test_split\n",
    "from sklearn.linear_model import LogisticRegression\n",
    "from sklearn.metrics import log_loss, accuracy_score\n",
    "from sklearn.feature_extraction.text import CountVectorizer\n",
    "from sklearn.feature_extraction.text import TfidfVectorizer\n",
    "from sklearn.svm import SVC\n",
    "from sklearn.decomposition import TruncatedSVD\n",
    "from sklearn.ensemble import RandomForestClassifier\n",
    "from sklearn.preprocessing import LabelEncoder\n",
    "\n",
    "import gensim\n",
    "\n",
    "import scikitplot.plotters as skplt\n",
    "\n",
    "import nltk\n",
    "\n",
    "from xgboost import XGBClassifier\n",
    "\n",
    "import os\n",
    "\n",
    "from keras.preprocessing.text import Tokenizer\n",
    "from keras.preprocessing.sequence import pad_sequences\n",
    "from keras.models import Sequential\n",
    "from keras.layers import Dense, Embedding, LSTM\n",
    "from keras.utils.np_utils import to_categorical\n",
    "from keras.callbacks import ModelCheckpoint\n",
    "from keras.models import load_model\n",
    "from keras.optimizers import Adam"
   ]
  },
  {
   "cell_type": "markdown",
   "metadata": {
    "_cell_guid": "0b39f26e-9c4c-46db-8fe5-86967734c0e5",
    "_uuid": "58b74d086e6f6f067f337470219be9fd43211c08"
   },
   "source": [
    "## Load training_text and training_variants"
   ]
  },
  {
   "cell_type": "code",
   "execution_count": 3,
   "metadata": {},
   "outputs": [
    {
     "name": "stderr",
     "output_type": "stream",
     "text": [
      "/home/szong/anaconda3/envs/szvenv/lib/python3.6/site-packages/ipykernel_launcher.py:4: ParserWarning: Falling back to the 'python' engine because the 'c' engine does not support regex separators (separators > 1 char and different from '\\s+' are interpreted as regex); you can avoid this warning by specifying engine='python'.\n",
      "  after removing the cwd from sys.path.\n",
      "/home/szong/anaconda3/envs/szvenv/lib/python3.6/site-packages/ipykernel_launcher.py:18: ParserWarning: Falling back to the 'python' engine because the 'c' engine does not support regex separators (separators > 1 char and different from '\\s+' are interpreted as regex); you can avoid this warning by specifying engine='python'.\n"
     ]
    },
    {
     "data": {
      "text/html": [
       "<div>\n",
       "<style>\n",
       "    .dataframe thead tr:only-child th {\n",
       "        text-align: right;\n",
       "    }\n",
       "\n",
       "    .dataframe thead th {\n",
       "        text-align: left;\n",
       "    }\n",
       "\n",
       "    .dataframe tbody tr th {\n",
       "        vertical-align: top;\n",
       "    }\n",
       "</style>\n",
       "<table border=\"1\" class=\"dataframe\">\n",
       "  <thead>\n",
       "    <tr style=\"text-align: right;\">\n",
       "      <th></th>\n",
       "      <th>ID</th>\n",
       "      <th>Gene</th>\n",
       "      <th>Variation</th>\n",
       "    </tr>\n",
       "  </thead>\n",
       "  <tbody>\n",
       "    <tr>\n",
       "      <th>0</th>\n",
       "      <td>0</td>\n",
       "      <td>ACSL4</td>\n",
       "      <td>R570S</td>\n",
       "    </tr>\n",
       "    <tr>\n",
       "      <th>1</th>\n",
       "      <td>1</td>\n",
       "      <td>NAGLU</td>\n",
       "      <td>P521L</td>\n",
       "    </tr>\n",
       "    <tr>\n",
       "      <th>2</th>\n",
       "      <td>2</td>\n",
       "      <td>PAH</td>\n",
       "      <td>L333F</td>\n",
       "    </tr>\n",
       "    <tr>\n",
       "      <th>3</th>\n",
       "      <td>3</td>\n",
       "      <td>ING1</td>\n",
       "      <td>A148D</td>\n",
       "    </tr>\n",
       "    <tr>\n",
       "      <th>4</th>\n",
       "      <td>4</td>\n",
       "      <td>TMEM216</td>\n",
       "      <td>G77A</td>\n",
       "    </tr>\n",
       "  </tbody>\n",
       "</table>\n",
       "</div>"
      ],
      "text/plain": [
       "   ID     Gene Variation\n",
       "0   0    ACSL4     R570S\n",
       "1   1    NAGLU     P521L\n",
       "2   2      PAH     L333F\n",
       "3   3     ING1     A148D\n",
       "4   4  TMEM216      G77A"
      ]
     },
     "execution_count": 3,
     "metadata": {},
     "output_type": "execute_result"
    }
   ],
   "source": [
    "wkdir = '/projects/trans_scratch/validations/workspace/szong/deep_learning/'\n",
    "\n",
    "f = '{}training_text'.format(wkdir)\n",
    "df_train_txt = pd.read_csv(f, sep='\\|\\|', header=None, skiprows=1, names=[\"ID\",\"Text\"])\n",
    "df_train_txt.head()\n",
    "\n",
    "df_train_txt.shape\n",
    "\n",
    "f2 = '{}training_variants'.format(wkdir)\n",
    "df_train_var = pd.read_csv(f2)\n",
    "df_train_var.head()\n",
    "\n",
    "df_train_var.Class.unique()\n",
    "\n",
    "df_train_var.shape\n",
    "\n",
    "f3 = '{}test_text'.format(wkdir)\n",
    "df_test_txt = pd.read_csv(f3, sep='\\|\\|', header=None, skiprows=1, names=[\"ID\",\"Text\"])\n",
    "df_test_txt.head()\n",
    "\n",
    "f4 = '{}test_variants'.format(wkdir)\n",
    "df_test_var = pd.read_csv(f4)\n",
    "df_test_var.head()"
   ]
  },
  {
   "cell_type": "markdown",
   "metadata": {
    "_cell_guid": "5707f8ac-85bc-40fd-9a8b-5e7912d5c8d1",
    "_uuid": "2e9d1f1157305e68bb06ae32a00f2bb4e31710c8"
   },
   "source": [
    "### Let's join them together"
   ]
  },
  {
   "cell_type": "code",
   "execution_count": 4,
   "metadata": {
    "_cell_guid": "13b2c874-ef56-45f5-9500-aae3c77fbfaa",
    "_uuid": "315a8b16269f0a2894c4d82642e82baa7826b30b"
   },
   "outputs": [
    {
     "data": {
      "text/html": [
       "<div>\n",
       "<style>\n",
       "    .dataframe thead tr:only-child th {\n",
       "        text-align: right;\n",
       "    }\n",
       "\n",
       "    .dataframe thead th {\n",
       "        text-align: left;\n",
       "    }\n",
       "\n",
       "    .dataframe tbody tr th {\n",
       "        vertical-align: top;\n",
       "    }\n",
       "</style>\n",
       "<table border=\"1\" class=\"dataframe\">\n",
       "  <thead>\n",
       "    <tr style=\"text-align: right;\">\n",
       "      <th></th>\n",
       "      <th>ID</th>\n",
       "      <th>Gene</th>\n",
       "      <th>Variation</th>\n",
       "      <th>Class</th>\n",
       "      <th>Text</th>\n",
       "    </tr>\n",
       "  </thead>\n",
       "  <tbody>\n",
       "    <tr>\n",
       "      <th>0</th>\n",
       "      <td>0</td>\n",
       "      <td>FAM58A</td>\n",
       "      <td>Truncating Mutations</td>\n",
       "      <td>1</td>\n",
       "      <td>Cyclin-dependent kinases (CDKs) regulate a var...</td>\n",
       "    </tr>\n",
       "    <tr>\n",
       "      <th>1</th>\n",
       "      <td>1</td>\n",
       "      <td>CBL</td>\n",
       "      <td>W802*</td>\n",
       "      <td>2</td>\n",
       "      <td>Abstract Background  Non-small cell lung canc...</td>\n",
       "    </tr>\n",
       "    <tr>\n",
       "      <th>2</th>\n",
       "      <td>2</td>\n",
       "      <td>CBL</td>\n",
       "      <td>Q249E</td>\n",
       "      <td>2</td>\n",
       "      <td>Abstract Background  Non-small cell lung canc...</td>\n",
       "    </tr>\n",
       "    <tr>\n",
       "      <th>3</th>\n",
       "      <td>3</td>\n",
       "      <td>CBL</td>\n",
       "      <td>N454D</td>\n",
       "      <td>3</td>\n",
       "      <td>Recent evidence has demonstrated that acquired...</td>\n",
       "    </tr>\n",
       "    <tr>\n",
       "      <th>4</th>\n",
       "      <td>4</td>\n",
       "      <td>CBL</td>\n",
       "      <td>L399V</td>\n",
       "      <td>4</td>\n",
       "      <td>Oncogenic mutations in the monomeric Casitas B...</td>\n",
       "    </tr>\n",
       "  </tbody>\n",
       "</table>\n",
       "</div>"
      ],
      "text/plain": [
       "   ID    Gene             Variation  Class  \\\n",
       "0   0  FAM58A  Truncating Mutations      1   \n",
       "1   1     CBL                 W802*      2   \n",
       "2   2     CBL                 Q249E      2   \n",
       "3   3     CBL                 N454D      3   \n",
       "4   4     CBL                 L399V      4   \n",
       "\n",
       "                                                Text  \n",
       "0  Cyclin-dependent kinases (CDKs) regulate a var...  \n",
       "1   Abstract Background  Non-small cell lung canc...  \n",
       "2   Abstract Background  Non-small cell lung canc...  \n",
       "3  Recent evidence has demonstrated that acquired...  \n",
       "4  Oncogenic mutations in the monomeric Casitas B...  "
      ]
     },
     "execution_count": 4,
     "metadata": {},
     "output_type": "execute_result"
    }
   ],
   "source": [
    "df_train = pd.merge(df_train_var, df_train_txt, how='left', on='ID')\n",
    "df_train.head()"
   ]
  },
  {
   "cell_type": "code",
   "execution_count": 5,
   "metadata": {
    "_cell_guid": "86a5146c-f1c2-4d41-8c5a-3fc620d16695",
    "_uuid": "7c2b09211ba02dba759bdbc4b2feea5c0928582a"
   },
   "outputs": [
    {
     "data": {
      "text/html": [
       "<div>\n",
       "<style>\n",
       "    .dataframe thead tr:only-child th {\n",
       "        text-align: right;\n",
       "    }\n",
       "\n",
       "    .dataframe thead th {\n",
       "        text-align: left;\n",
       "    }\n",
       "\n",
       "    .dataframe tbody tr th {\n",
       "        vertical-align: top;\n",
       "    }\n",
       "</style>\n",
       "<table border=\"1\" class=\"dataframe\">\n",
       "  <thead>\n",
       "    <tr style=\"text-align: right;\">\n",
       "      <th></th>\n",
       "      <th>ID</th>\n",
       "      <th>Gene</th>\n",
       "      <th>Variation</th>\n",
       "      <th>Text</th>\n",
       "    </tr>\n",
       "  </thead>\n",
       "  <tbody>\n",
       "    <tr>\n",
       "      <th>0</th>\n",
       "      <td>0</td>\n",
       "      <td>ACSL4</td>\n",
       "      <td>R570S</td>\n",
       "      <td>2. This mutation resulted in a myeloproliferat...</td>\n",
       "    </tr>\n",
       "    <tr>\n",
       "      <th>1</th>\n",
       "      <td>1</td>\n",
       "      <td>NAGLU</td>\n",
       "      <td>P521L</td>\n",
       "      <td>Abstract The Large Tumor Suppressor 1 (LATS1)...</td>\n",
       "    </tr>\n",
       "    <tr>\n",
       "      <th>2</th>\n",
       "      <td>2</td>\n",
       "      <td>PAH</td>\n",
       "      <td>L333F</td>\n",
       "      <td>Vascular endothelial growth factor receptor (V...</td>\n",
       "    </tr>\n",
       "    <tr>\n",
       "      <th>3</th>\n",
       "      <td>3</td>\n",
       "      <td>ING1</td>\n",
       "      <td>A148D</td>\n",
       "      <td>Inflammatory myofibroblastic tumor (IMT) is a ...</td>\n",
       "    </tr>\n",
       "    <tr>\n",
       "      <th>4</th>\n",
       "      <td>4</td>\n",
       "      <td>TMEM216</td>\n",
       "      <td>G77A</td>\n",
       "      <td>Abstract Retinoblastoma is a pediatric retina...</td>\n",
       "    </tr>\n",
       "  </tbody>\n",
       "</table>\n",
       "</div>"
      ],
      "text/plain": [
       "   ID     Gene Variation                                               Text\n",
       "0   0    ACSL4     R570S  2. This mutation resulted in a myeloproliferat...\n",
       "1   1    NAGLU     P521L   Abstract The Large Tumor Suppressor 1 (LATS1)...\n",
       "2   2      PAH     L333F  Vascular endothelial growth factor receptor (V...\n",
       "3   3     ING1     A148D  Inflammatory myofibroblastic tumor (IMT) is a ...\n",
       "4   4  TMEM216      G77A   Abstract Retinoblastoma is a pediatric retina..."
      ]
     },
     "execution_count": 5,
     "metadata": {},
     "output_type": "execute_result"
    }
   ],
   "source": [
    "df_test = pd.merge(df_test_var, df_test_txt, how='left', on='ID')\n",
    "df_test.head()"
   ]
  },
  {
   "cell_type": "markdown",
   "metadata": {
    "_cell_guid": "6902a7ac-d631-4ae3-b80b-b5fbacc7bf11",
    "_uuid": "90c26968d60d11ac38dfdb2f3ffdd3b04acc4ba6"
   },
   "source": [
    "## Run preliminary statistics on loaded data"
   ]
  },
  {
   "cell_type": "code",
   "execution_count": 6,
   "metadata": {
    "_cell_guid": "2045e414-408a-46d8-a351-1757bd9df5e9",
    "_uuid": "cc9d844d7110e9534dc40e019d885c5bcc31e904"
   },
   "outputs": [
    {
     "data": {
      "text/html": [
       "<div>\n",
       "<style>\n",
       "    .dataframe thead tr:only-child th {\n",
       "        text-align: right;\n",
       "    }\n",
       "\n",
       "    .dataframe thead th {\n",
       "        text-align: left;\n",
       "    }\n",
       "\n",
       "    .dataframe tbody tr th {\n",
       "        vertical-align: top;\n",
       "    }\n",
       "</style>\n",
       "<table border=\"1\" class=\"dataframe\">\n",
       "  <thead>\n",
       "    <tr style=\"text-align: right;\">\n",
       "      <th></th>\n",
       "      <th>ID</th>\n",
       "      <th>Gene</th>\n",
       "      <th>Variation</th>\n",
       "      <th>Class</th>\n",
       "      <th>Text</th>\n",
       "    </tr>\n",
       "  </thead>\n",
       "  <tbody>\n",
       "    <tr>\n",
       "      <th>count</th>\n",
       "      <td>3321.000000</td>\n",
       "      <td>3321</td>\n",
       "      <td>3321</td>\n",
       "      <td>3321.000000</td>\n",
       "      <td>3321</td>\n",
       "    </tr>\n",
       "    <tr>\n",
       "      <th>unique</th>\n",
       "      <td>NaN</td>\n",
       "      <td>264</td>\n",
       "      <td>2996</td>\n",
       "      <td>NaN</td>\n",
       "      <td>1921</td>\n",
       "    </tr>\n",
       "    <tr>\n",
       "      <th>top</th>\n",
       "      <td>NaN</td>\n",
       "      <td>BRCA1</td>\n",
       "      <td>Truncating Mutations</td>\n",
       "      <td>NaN</td>\n",
       "      <td>The PTEN (phosphatase and tensin homolog) phos...</td>\n",
       "    </tr>\n",
       "    <tr>\n",
       "      <th>freq</th>\n",
       "      <td>NaN</td>\n",
       "      <td>264</td>\n",
       "      <td>93</td>\n",
       "      <td>NaN</td>\n",
       "      <td>53</td>\n",
       "    </tr>\n",
       "    <tr>\n",
       "      <th>mean</th>\n",
       "      <td>1660.000000</td>\n",
       "      <td>NaN</td>\n",
       "      <td>NaN</td>\n",
       "      <td>4.365854</td>\n",
       "      <td>NaN</td>\n",
       "    </tr>\n",
       "    <tr>\n",
       "      <th>std</th>\n",
       "      <td>958.834449</td>\n",
       "      <td>NaN</td>\n",
       "      <td>NaN</td>\n",
       "      <td>2.309781</td>\n",
       "      <td>NaN</td>\n",
       "    </tr>\n",
       "    <tr>\n",
       "      <th>min</th>\n",
       "      <td>0.000000</td>\n",
       "      <td>NaN</td>\n",
       "      <td>NaN</td>\n",
       "      <td>1.000000</td>\n",
       "      <td>NaN</td>\n",
       "    </tr>\n",
       "    <tr>\n",
       "      <th>25%</th>\n",
       "      <td>830.000000</td>\n",
       "      <td>NaN</td>\n",
       "      <td>NaN</td>\n",
       "      <td>2.000000</td>\n",
       "      <td>NaN</td>\n",
       "    </tr>\n",
       "    <tr>\n",
       "      <th>50%</th>\n",
       "      <td>1660.000000</td>\n",
       "      <td>NaN</td>\n",
       "      <td>NaN</td>\n",
       "      <td>4.000000</td>\n",
       "      <td>NaN</td>\n",
       "    </tr>\n",
       "    <tr>\n",
       "      <th>75%</th>\n",
       "      <td>2490.000000</td>\n",
       "      <td>NaN</td>\n",
       "      <td>NaN</td>\n",
       "      <td>7.000000</td>\n",
       "      <td>NaN</td>\n",
       "    </tr>\n",
       "    <tr>\n",
       "      <th>max</th>\n",
       "      <td>3320.000000</td>\n",
       "      <td>NaN</td>\n",
       "      <td>NaN</td>\n",
       "      <td>9.000000</td>\n",
       "      <td>NaN</td>\n",
       "    </tr>\n",
       "  </tbody>\n",
       "</table>\n",
       "</div>"
      ],
      "text/plain": [
       "                 ID   Gene             Variation        Class  \\\n",
       "count   3321.000000   3321                  3321  3321.000000   \n",
       "unique          NaN    264                  2996          NaN   \n",
       "top             NaN  BRCA1  Truncating Mutations          NaN   \n",
       "freq            NaN    264                    93          NaN   \n",
       "mean    1660.000000    NaN                   NaN     4.365854   \n",
       "std      958.834449    NaN                   NaN     2.309781   \n",
       "min        0.000000    NaN                   NaN     1.000000   \n",
       "25%      830.000000    NaN                   NaN     2.000000   \n",
       "50%     1660.000000    NaN                   NaN     4.000000   \n",
       "75%     2490.000000    NaN                   NaN     7.000000   \n",
       "max     3320.000000    NaN                   NaN     9.000000   \n",
       "\n",
       "                                                     Text  \n",
       "count                                                3321  \n",
       "unique                                               1921  \n",
       "top     The PTEN (phosphatase and tensin homolog) phos...  \n",
       "freq                                                   53  \n",
       "mean                                                  NaN  \n",
       "std                                                   NaN  \n",
       "min                                                   NaN  \n",
       "25%                                                   NaN  \n",
       "50%                                                   NaN  \n",
       "75%                                                   NaN  \n",
       "max                                                   NaN  "
      ]
     },
     "execution_count": 6,
     "metadata": {},
     "output_type": "execute_result"
    }
   ],
   "source": [
    "df_train.describe(include='all')"
   ]
  },
  {
   "cell_type": "code",
   "execution_count": 7,
   "metadata": {
    "_cell_guid": "db691b33-6370-4ec4-8086-77ea6528b568",
    "_uuid": "360c0686091dbf914980ba1c398c6d5f1ad44bcd"
   },
   "outputs": [
    {
     "data": {
      "text/html": [
       "<div>\n",
       "<style>\n",
       "    .dataframe thead tr:only-child th {\n",
       "        text-align: right;\n",
       "    }\n",
       "\n",
       "    .dataframe thead th {\n",
       "        text-align: left;\n",
       "    }\n",
       "\n",
       "    .dataframe tbody tr th {\n",
       "        vertical-align: top;\n",
       "    }\n",
       "</style>\n",
       "<table border=\"1\" class=\"dataframe\">\n",
       "  <thead>\n",
       "    <tr style=\"text-align: right;\">\n",
       "      <th></th>\n",
       "      <th>ID</th>\n",
       "      <th>Gene</th>\n",
       "      <th>Variation</th>\n",
       "      <th>Text</th>\n",
       "    </tr>\n",
       "  </thead>\n",
       "  <tbody>\n",
       "    <tr>\n",
       "      <th>count</th>\n",
       "      <td>5668.000000</td>\n",
       "      <td>5668</td>\n",
       "      <td>5668</td>\n",
       "      <td>5668</td>\n",
       "    </tr>\n",
       "    <tr>\n",
       "      <th>unique</th>\n",
       "      <td>NaN</td>\n",
       "      <td>1397</td>\n",
       "      <td>5628</td>\n",
       "      <td>5611</td>\n",
       "    </tr>\n",
       "    <tr>\n",
       "      <th>top</th>\n",
       "      <td>NaN</td>\n",
       "      <td>F8</td>\n",
       "      <td>Truncating Mutations</td>\n",
       "      <td>Mutations in BRCA1 and BRCA2 account for the m...</td>\n",
       "    </tr>\n",
       "    <tr>\n",
       "      <th>freq</th>\n",
       "      <td>NaN</td>\n",
       "      <td>134</td>\n",
       "      <td>18</td>\n",
       "      <td>6</td>\n",
       "    </tr>\n",
       "    <tr>\n",
       "      <th>mean</th>\n",
       "      <td>2833.500000</td>\n",
       "      <td>NaN</td>\n",
       "      <td>NaN</td>\n",
       "      <td>NaN</td>\n",
       "    </tr>\n",
       "    <tr>\n",
       "      <th>std</th>\n",
       "      <td>1636.354994</td>\n",
       "      <td>NaN</td>\n",
       "      <td>NaN</td>\n",
       "      <td>NaN</td>\n",
       "    </tr>\n",
       "    <tr>\n",
       "      <th>min</th>\n",
       "      <td>0.000000</td>\n",
       "      <td>NaN</td>\n",
       "      <td>NaN</td>\n",
       "      <td>NaN</td>\n",
       "    </tr>\n",
       "    <tr>\n",
       "      <th>25%</th>\n",
       "      <td>1416.750000</td>\n",
       "      <td>NaN</td>\n",
       "      <td>NaN</td>\n",
       "      <td>NaN</td>\n",
       "    </tr>\n",
       "    <tr>\n",
       "      <th>50%</th>\n",
       "      <td>2833.500000</td>\n",
       "      <td>NaN</td>\n",
       "      <td>NaN</td>\n",
       "      <td>NaN</td>\n",
       "    </tr>\n",
       "    <tr>\n",
       "      <th>75%</th>\n",
       "      <td>4250.250000</td>\n",
       "      <td>NaN</td>\n",
       "      <td>NaN</td>\n",
       "      <td>NaN</td>\n",
       "    </tr>\n",
       "    <tr>\n",
       "      <th>max</th>\n",
       "      <td>5667.000000</td>\n",
       "      <td>NaN</td>\n",
       "      <td>NaN</td>\n",
       "      <td>NaN</td>\n",
       "    </tr>\n",
       "  </tbody>\n",
       "</table>\n",
       "</div>"
      ],
      "text/plain": [
       "                 ID  Gene             Variation  \\\n",
       "count   5668.000000  5668                  5668   \n",
       "unique          NaN  1397                  5628   \n",
       "top             NaN    F8  Truncating Mutations   \n",
       "freq            NaN   134                    18   \n",
       "mean    2833.500000   NaN                   NaN   \n",
       "std     1636.354994   NaN                   NaN   \n",
       "min        0.000000   NaN                   NaN   \n",
       "25%     1416.750000   NaN                   NaN   \n",
       "50%     2833.500000   NaN                   NaN   \n",
       "75%     4250.250000   NaN                   NaN   \n",
       "max     5667.000000   NaN                   NaN   \n",
       "\n",
       "                                                     Text  \n",
       "count                                                5668  \n",
       "unique                                               5611  \n",
       "top     Mutations in BRCA1 and BRCA2 account for the m...  \n",
       "freq                                                    6  \n",
       "mean                                                  NaN  \n",
       "std                                                   NaN  \n",
       "min                                                   NaN  \n",
       "25%                                                   NaN  \n",
       "50%                                                   NaN  \n",
       "75%                                                   NaN  \n",
       "max                                                   NaN  "
      ]
     },
     "execution_count": 7,
     "metadata": {},
     "output_type": "execute_result"
    }
   ],
   "source": [
    "df_test.describe(include='all')"
   ]
  },
  {
   "cell_type": "code",
   "execution_count": 8,
   "metadata": {
    "_cell_guid": "199c8014-d06f-4f14-b8fa-bf4ec2e35d21",
    "_uuid": "3e5fcd9f545b5a80b793905fe2e562668d751536"
   },
   "outputs": [
    {
     "data": {
      "text/plain": [
       "<matplotlib.axes._subplots.AxesSubplot at 0x7feadd9fad30>"
      ]
     },
     "execution_count": 8,
     "metadata": {},
     "output_type": "execute_result"
    },
    {
     "data": {
      "image/png": "[encoded data removed]",
      "text/plain": [
       "<matplotlib.figure.Figure at 0x7feade16c4a8>"
      ]
     },
     "metadata": {},
     "output_type": "display_data"
    }
   ],
   "source": [
    "df_train['Class'].value_counts().plot(kind=\"bar\", rot=0)"
   ]
  },
  {
   "cell_type": "markdown",
   "metadata": {
    "_cell_guid": "7f3c61af-91fe-4da4-9e58-cb5c050f45a7",
    "_uuid": "5d1cfc6d2e8aa7052f99bf256988df4d9c72e231"
   },
   "source": [
    "### Classes seem very imbalanced"
   ]
  },
  {
   "cell_type": "markdown",
   "metadata": {
    "_cell_guid": "f6abf33d-337d-4be8-8d50-34d2292a4c71",
    "_uuid": "525e0ac244f14d7dbc0edfe5783c1439a3a10d3d"
   },
   "source": [
    "# The main task here is to predict the class of the mutation given the text in the literature. Our approach will then be to apply some common NLP techniques to transform the free text into features for an ML classifier and see which ones work best.\n",
    "\n",
    "### Define a helper function to evaluate the effectiveness of transformed free text. We'll use a simple logistic regression with 3-fold stratified cross-validation for fast evaluation."
   ]
  },
  {
   "cell_type": "code",
   "execution_count": 9,
   "metadata": {
    "_cell_guid": "e687a44c-45f1-47c0-8c8f-3cced55cfba7",
    "_uuid": "74e93f2f49e6399758ccda8950741f2dc3070e70",
    "collapsed": true
   },
   "outputs": [],
   "source": [
    "def evaluate_features(X, y, clf=None):\n",
    "    \"\"\"General helper function for evaluating effectiveness of passed features in ML model\n",
    "    \n",
    "    Prints out Log loss, accuracy, and confusion matrix with 3-fold stratified cross-validation\n",
    "    \n",
    "    Args:\n",
    "        X (array-like): Features array. Shape (n_samples, n_features)\n",
    "        \n",
    "        y (array-like): Labels array. Shape (n_samples,)\n",
    "        \n",
    "        clf: Classifier to use. If None, default Log reg is use.\n",
    "    \"\"\"\n",
    "    if clf is None:\n",
    "        clf = LogisticRegression()\n",
    "    \n",
    "    probas = cross_val_predict(clf, X, y, cv=StratifiedKFold(random_state=8), \n",
    "                              n_jobs=-1, method='predict_proba', verbose=2)\n",
    "    pred_indices = np.argmax(probas, axis=1)\n",
    "    classes = np.unique(y)\n",
    "    preds = classes[pred_indices]\n",
    "    print('Log loss: {}'.format(log_loss(y, probas)))\n",
    "    print('Accuracy: {}'.format(accuracy_score(y, preds)))\n",
    "    skplt.plot_confusion_matrix(y, preds)\n"
   ]
  },
  {
   "cell_type": "code",
   "execution_count": null,
   "metadata": {},
   "outputs": [],
   "source": []
  },
  {
   "cell_type": "markdown",
   "metadata": {
    "_cell_guid": "f123aa3e-e4a2-4bbd-82a4-deb9f9416749",
    "_uuid": "05e65e23552a5c11fedaa9e9e65ac9156a9297e0"
   },
   "source": [
    "Let's do a quick test of evaluate_features"
   ]
  },
  {
   "cell_type": "code",
   "execution_count": 35,
   "metadata": {
    "_cell_guid": "96a33bf5-96a2-4099-8e09-a61db0c052e1",
    "_uuid": "1795526eb77ec9281a8a18f3f01d02cc4b643a9f"
   },
   "outputs": [
    {
     "name": "stderr",
     "output_type": "stream",
     "text": [
      "[Parallel(n_jobs=-1)]: Done   3 out of   3 | elapsed:    1.8s finished\n"
     ]
    },
    {
     "name": "stdout",
     "output_type": "stream",
     "text": [
      "Log loss: 0.3453069138000431\n",
      "Accuracy: 0.9466666666666667\n"
     ]
    },
    {
     "name": "stderr",
     "output_type": "stream",
     "text": [
      "/home/szong/anaconda3/envs/szvenv/lib/python3.6/site-packages/sklearn/utils/deprecation.py:75: DeprecationWarning: Function plot_confusion_matrix is deprecated; This will be removed in v0.4.0. Please use scikitplot.metrics.plot_confusion_matrix instead.\n",
      "  warnings.warn(msg, category=DeprecationWarning)\n"
     ]
    },
    {
     "data": {
      "image/png": "[encoded data removed]",
      "text/plain": [
       "<matplotlib.figure.Figure at 0x7fead4e90630>"
      ]
     },
     "metadata": {},
     "output_type": "display_data"
    }
   ],
   "source": [
    "# Quick test of evaluate_features\n",
    "from sklearn.datasets import load_iris\n",
    "evaluate_features(*load_iris(True))"
   ]
  },
  {
   "cell_type": "code",
   "execution_count": 40,
   "metadata": {},
   "outputs": [],
   "source": [
    "import pandas as pd\n",
    "from sklearn import datasets\n",
    "iris = pd.DataFrame(datasets.load_iris().data)"
   ]
  },
  {
   "cell_type": "code",
   "execution_count": null,
   "metadata": {},
   "outputs": [],
   "source": []
  },
  {
   "cell_type": "markdown",
   "metadata": {
    "_cell_guid": "98e9cd4a-f6f4-4c5b-a151-2edf4ac179f6",
    "_uuid": "22078fdc406c13d21d1588644371edc43a553b1a"
   },
   "source": [
    "## Start with a simple baseline. Bag of words"
   ]
  },
  {
   "cell_type": "code",
   "execution_count": 11,
   "metadata": {
    "_cell_guid": "d3207228-9664-472e-b025-7507f10fec7c",
    "_uuid": "5028611d6b4007f8f139b432c7909748781c3022",
    "collapsed": true
   },
   "outputs": [],
   "source": [
    "count_vectorizer = CountVectorizer(\n",
    "    analyzer=\"word\", tokenizer=nltk.word_tokenize,\n",
    "    preprocessor=None, stop_words='english', max_features=None)    \n"
   ]
  },
  {
   "cell_type": "code",
   "execution_count": 12,
   "metadata": {
    "_cell_guid": "5df3c9c0-4b0b-487f-bef4-6cceb8ce0290",
    "_uuid": "1153f8a8a0320483ce8c8f3044fe21cb860ad989",
    "collapsed": true
   },
   "outputs": [],
   "source": [
    "bag_of_words = count_vectorizer.fit_transform(df_train['Text'])"
   ]
  },
  {
   "cell_type": "code",
   "execution_count": 13,
   "metadata": {
    "_cell_guid": "c037498b-d5d5-4c50-93a4-d37c5c8f091e",
    "_uuid": "69e813164a0da79e98ec0895a4ce24759dbcdf79"
   },
   "outputs": [
    {
     "data": {
      "text/plain": [
       "281586"
      ]
     },
     "execution_count": 13,
     "metadata": {},
     "output_type": "execute_result"
    }
   ],
   "source": [
    "len(count_vectorizer.get_feature_names())"
   ]
  },
  {
   "cell_type": "code",
   "execution_count": 16,
   "metadata": {},
   "outputs": [
    {
     "data": {
      "text/plain": [
       "['\\x01',\n",
       " '\\x0112',\n",
       " '\\x013-gabactosidase',\n",
       " '\\x013-galactosidase',\n",
       " '\\x015',\n",
       " '\\x0150',\n",
       " '\\x01correspondence',\n",
       " '\\x04g',\n",
       " '!',\n",
       " '#']"
      ]
     },
     "execution_count": 16,
     "metadata": {},
     "output_type": "execute_result"
    }
   ],
   "source": [
    "count_vectorizer.get_feature_names()[:10]"
   ]
  },
  {
   "cell_type": "markdown",
   "metadata": {
    "_cell_guid": "31960f4d-efd5-4162-bf78-5780088f4d5d",
    "_uuid": "ea3d1136c7e969c8a03f6fb182885782396be325"
   },
   "source": [
    "#### 281586 unique words in corpus"
   ]
  },
  {
   "cell_type": "code",
   "execution_count": 17,
   "metadata": {
    "_cell_guid": "6a5ae966-e759-4c29-96de-7d4492e93888",
    "_uuid": "74d91589176aed1f15f991fe7e2115df4229c107",
    "collapsed": true
   },
   "outputs": [],
   "source": [
    "svd = TruncatedSVD(n_components=25, n_iter=25, random_state=12)\n",
    "truncated_bag_of_words = svd.fit_transform(bag_of_words)"
   ]
  },
  {
   "cell_type": "code",
   "execution_count": 18,
   "metadata": {
    "_cell_guid": "15b83eea-8ea0-4b4b-a055-d109f7ce814a",
    "_uuid": "9006201fdd9c50f26229fcbafa258b3dbef94b6b"
   },
   "outputs": [
    {
     "name": "stderr",
     "output_type": "stream",
     "text": [
      "[Parallel(n_jobs=-1)]: Done   3 out of   3 | elapsed:    6.5s finished\n"
     ]
    },
    {
     "name": "stdout",
     "output_type": "stream",
     "text": [
      "Log loss: 2.258711036442181\n",
      "Accuracy: 0.31466425775368867\n"
     ]
    },
    {
     "name": "stderr",
     "output_type": "stream",
     "text": [
      "/home/szong/anaconda3/envs/szvenv/lib/python3.6/site-packages/sklearn/utils/deprecation.py:75: DeprecationWarning: Function plot_confusion_matrix is deprecated; This will be removed in v0.4.0. Please use scikitplot.metrics.plot_confusion_matrix instead.\n",
      "  warnings.warn(msg, category=DeprecationWarning)\n"
     ]
    },
    {
     "data": {
      "image/png": "[encoded data removed]",
      "text/plain": [
       "<matplotlib.figure.Figure at 0x7fead6b1d550>"
      ]
     },
     "metadata": {},
     "output_type": "display_data"
    }
   ],
   "source": [
    "evaluate_features(truncated_bag_of_words, df_train['Class'].values.ravel())"
   ]
  },
  {
   "cell_type": "code",
   "execution_count": 19,
   "metadata": {
    "_cell_guid": "6abaa6b4-852b-4421-9f37-3bce113c357e",
    "_uuid": "d78b3a8c686dbf57aadd3faf8ca1fa66e70bfa00"
   },
   "outputs": [
    {
     "name": "stderr",
     "output_type": "stream",
     "text": [
      "[Parallel(n_jobs=1)]: Done 1000 out of 1000 | elapsed:    4.0s finished\n",
      "[Parallel(n_jobs=1)]: Done 1000 out of 1000 | elapsed:    4.0s finished\n",
      "[Parallel(n_jobs=1)]: Done 1000 out of 1000 | elapsed:    0.2s finished\n",
      "[Parallel(n_jobs=1)]: Done 1000 out of 1000 | elapsed:    0.2s finished\n",
      "[Parallel(n_jobs=1)]: Done 1000 out of 1000 | elapsed:    3.6s finished\n",
      "[Parallel(n_jobs=1)]: Done 1000 out of 1000 | elapsed:    0.2s finished\n",
      "[Parallel(n_jobs=-1)]: Done   3 out of   3 | elapsed:   11.1s finished\n"
     ]
    },
    {
     "name": "stdout",
     "output_type": "stream",
     "text": [
      "Log loss: 1.727585118942198\n",
      "Accuracy: 0.3369467028003613\n"
     ]
    },
    {
     "name": "stderr",
     "output_type": "stream",
     "text": [
      "/home/szong/anaconda3/envs/szvenv/lib/python3.6/site-packages/sklearn/utils/deprecation.py:75: DeprecationWarning: Function plot_confusion_matrix is deprecated; This will be removed in v0.4.0. Please use scikitplot.metrics.plot_confusion_matrix instead.\n",
      "  warnings.warn(msg, category=DeprecationWarning)\n"
     ]
    },
    {
     "data": {
      "image/png": "[encoded data removed]",
      "text/plain": [
       "<matplotlib.figure.Figure at 0x7fead66a8748>"
      ]
     },
     "metadata": {},
     "output_type": "display_data"
    }
   ],
   "source": [
    "evaluate_features(truncated_bag_of_words, df_train['Class'].values.ravel(), \n",
    "                  RandomForestClassifier(n_estimators=1000, max_depth=5, verbose=1))"
   ]
  },
  {
   "cell_type": "markdown",
   "metadata": {
    "_cell_guid": "27ef74f3-6be8-4f87-8a43-4974a8a776ba",
    "_uuid": "ea1c3dd8c62d52ed234d7ce20041e0df3334de46"
   },
   "source": [
    "### Bad results overall for the baseline\n",
    "\n",
    "## Let's try TFIDF"
   ]
  },
  {
   "cell_type": "code",
   "execution_count": 20,
   "metadata": {
    "_cell_guid": "80a12233-65b3-426c-8fab-8d15cc6c78ab",
    "_uuid": "b9c41a68f6682de79329d161eaaa565063a13f08"
   },
   "outputs": [
    {
     "data": {
      "text/plain": [
       "281586"
      ]
     },
     "execution_count": 20,
     "metadata": {},
     "output_type": "execute_result"
    }
   ],
   "source": [
    "count_vectorizer = TfidfVectorizer(\n",
    "    analyzer=\"word\", tokenizer=nltk.word_tokenize,\n",
    "    preprocessor=None, stop_words='english', max_features=None)    \n",
    "\n",
    "tfidf = count_vectorizer.fit_transform(df_train['Text'])\n",
    "\n",
    "len(count_vectorizer.get_feature_names())"
   ]
  },
  {
   "cell_type": "code",
   "execution_count": 21,
   "metadata": {
    "_cell_guid": "7befec83-dc74-48fb-97b0-c2d78b17decc",
    "_uuid": "ef48809922c0850626803b3323585d60ff78a32f",
    "collapsed": true
   },
   "outputs": [],
   "source": [
    "svd = TruncatedSVD(n_components=25, n_iter=25, random_state=12)\n",
    "truncated_tfidf = svd.fit_transform(tfidf)"
   ]
  },
  {
   "cell_type": "code",
   "execution_count": 22,
   "metadata": {
    "_cell_guid": "91e06bc0-6ce2-4466-a8b1-66a555a94d3b",
    "_uuid": "0bd566447e9f104b7b79bb56e8daff6cd372bebd"
   },
   "outputs": [
    {
     "name": "stderr",
     "output_type": "stream",
     "text": [
      "[Parallel(n_jobs=-1)]: Done   3 out of   3 | elapsed:    0.8s finished\n"
     ]
    },
    {
     "name": "stdout",
     "output_type": "stream",
     "text": [
      "Log loss: 1.6911721879682624\n",
      "Accuracy: 0.3748870822041554\n"
     ]
    },
    {
     "name": "stderr",
     "output_type": "stream",
     "text": [
      "/home/szong/anaconda3/envs/szvenv/lib/python3.6/site-packages/sklearn/utils/deprecation.py:75: DeprecationWarning: Function plot_confusion_matrix is deprecated; This will be removed in v0.4.0. Please use scikitplot.metrics.plot_confusion_matrix instead.\n",
      "  warnings.warn(msg, category=DeprecationWarning)\n"
     ]
    },
    {
     "data": {
      "image/png": "[encoded data removed]",
      "text/plain": [
       "<matplotlib.figure.Figure at 0x7fead6706c18>"
      ]
     },
     "metadata": {},
     "output_type": "display_data"
    }
   ],
   "source": [
    "evaluate_features(truncated_tfidf, df_train['Class'].values.ravel())"
   ]
  },
  {
   "cell_type": "code",
   "execution_count": 23,
   "metadata": {
    "_cell_guid": "775e52c8-d9e8-4db1-a46c-4f7416aa8a9a",
    "_uuid": "87c8f656c58e997062d4c82df7f6b319bfa49874"
   },
   "outputs": [
    {
     "name": "stderr",
     "output_type": "stream",
     "text": [
      "[Parallel(n_jobs=1)]: Done 1000 out of 1000 | elapsed:    3.3s finished\n",
      "[Parallel(n_jobs=1)]: Done 1000 out of 1000 | elapsed:    3.4s finished\n",
      "[Parallel(n_jobs=1)]: Done 1000 out of 1000 | elapsed:    3.4s finished\n",
      "[Parallel(n_jobs=1)]: Done 1000 out of 1000 | elapsed:    0.2s finished\n",
      "[Parallel(n_jobs=1)]: Done 1000 out of 1000 | elapsed:    0.2s finished\n",
      "[Parallel(n_jobs=1)]: Done 1000 out of 1000 | elapsed:    0.2s finished\n",
      "[Parallel(n_jobs=-1)]: Done   3 out of   3 | elapsed:    4.5s finished\n"
     ]
    },
    {
     "name": "stdout",
     "output_type": "stream",
     "text": [
      "Log loss: 1.7011111027647383\n",
      "Accuracy: 0.36193917494730504\n"
     ]
    },
    {
     "name": "stderr",
     "output_type": "stream",
     "text": [
      "/home/szong/anaconda3/envs/szvenv/lib/python3.6/site-packages/sklearn/utils/deprecation.py:75: DeprecationWarning: Function plot_confusion_matrix is deprecated; This will be removed in v0.4.0. Please use scikitplot.metrics.plot_confusion_matrix instead.\n",
      "  warnings.warn(msg, category=DeprecationWarning)\n"
     ]
    },
    {
     "data": {
      "image/png": "[encoded data removed]",
      "text/plain": [
       "<matplotlib.figure.Figure at 0x7fead6f8b978>"
      ]
     },
     "metadata": {},
     "output_type": "display_data"
    }
   ],
   "source": [
    "evaluate_features(truncated_tfidf, df_train['Class'].values.ravel(), \n",
    "                  RandomForestClassifier(n_estimators=1000, max_depth=5, verbose=1))"
   ]
  },
  {
   "cell_type": "code",
   "execution_count": 24,
   "metadata": {
    "_cell_guid": "8dc579fa-63ab-4919-ba78-087adcdb2043",
    "_uuid": "dc4479f8be6d3f524ce0a086b8019035d50027b1"
   },
   "outputs": [
    {
     "name": "stderr",
     "output_type": "stream",
     "text": [
      "[Parallel(n_jobs=-1)]: Done   3 out of   3 | elapsed:  7.0min finished\n"
     ]
    },
    {
     "name": "stdout",
     "output_type": "stream",
     "text": [
      "Log loss: 1.9212569589125785\n",
      "Accuracy: 0.3017163504968383\n"
     ]
    },
    {
     "name": "stderr",
     "output_type": "stream",
     "text": [
      "/home/szong/anaconda3/envs/szvenv/lib/python3.6/site-packages/sklearn/utils/deprecation.py:75: DeprecationWarning: Function plot_confusion_matrix is deprecated; This will be removed in v0.4.0. Please use scikitplot.metrics.plot_confusion_matrix instead.\n",
      "  warnings.warn(msg, category=DeprecationWarning)\n"
     ]
    },
    {
     "data": {
      "image/png": "[encoded data removed]",
      "text/plain": [
       "<matplotlib.figure.Figure at 0x7fead5e1f128>"
      ]
     },
     "metadata": {},
     "output_type": "display_data"
    }
   ],
   "source": [
    "evaluate_features(tfidf, df_train['Class'].values.ravel(), \n",
    "                  SVC(kernel='linear', probability=True))"
   ]
  },
  {
   "cell_type": "markdown",
   "metadata": {
    "_cell_guid": "67253f68-410f-4309-bf17-2144340558c3",
    "_uuid": "62cb5aa5763d6bf912fd56abc777998175806ca2"
   },
   "source": [
    "### A little better, but still bad. You can see from the confusion matrix that it's just classifying most samples into class 7.\n",
    "\n",
    "### Also tried a linear SVM for features straight from TFIDF (did not go through Truncated SVD). Worse log loss but confusion matrix seems to show better balance among predicted classes.\n",
    "\n",
    "_____\n",
    "\n",
    "## This time, let's try the popular word2vec to get features\n",
    "\n",
    "### Define helper function get_word2vec  and helper class MySentences for training word2vec on the corpus of texts. (or loading if already trained and saved to disk)"
   ]
  },
  {
   "cell_type": "code",
   "execution_count": 25,
   "metadata": {
    "_cell_guid": "609177df-1799-4f5e-b3e7-77c820561a7c",
    "_uuid": "d631c05ece2e126a82481fa5a262d12ec7577e38",
    "collapsed": true
   },
   "outputs": [],
   "source": [
    "class MySentences(object):\n",
    "    \"\"\"MySentences is a generator to produce a list of tokenized sentences \n",
    "    \n",
    "    Takes a list of numpy arrays containing documents.\n",
    "    \n",
    "    Args:\n",
    "        arrays: List of arrays, where each element in the array contains a document.\n",
    "    \"\"\"\n",
    "    def __init__(self, *arrays):\n",
    "        self.arrays = arrays\n",
    " \n",
    "    def __iter__(self):\n",
    "        for array in self.arrays:\n",
    "            for document in array:\n",
    "                for sent in nltk.sent_tokenize(document):\n",
    "                    yield nltk.word_tokenize(sent)\n",
    "\n",
    "def get_word2vec(sentences, location):\n",
    "    \"\"\"Returns trained word2vec\n",
    "    \n",
    "    Args:\n",
    "        sentences: iterator for sentences\n",
    "        \n",
    "        location (str): Path to save/load word2vec\n",
    "    \"\"\"\n",
    "    if os.path.exists(location):\n",
    "        print('Found {}'.format(location))\n",
    "        model = gensim.models.Word2Vec.load(location)\n",
    "        return model\n",
    "    \n",
    "    print('{} not found. training model'.format(location))\n",
    "    model = gensim.models.Word2Vec(sentences, size=100, window=5, min_count=5, workers=4)\n",
    "    print('Model done training. Saving to disk')\n",
    "    model.save(location)\n",
    "    return model"
   ]
  },
  {
   "cell_type": "markdown",
   "metadata": {
    "_cell_guid": "5782e63f-8fef-47c8-b83a-829836f1f096",
    "_uuid": "70f109950197b133cc46e2497b2248830d42a349"
   },
   "source": [
    "### Start training the word2vec model. Since word2vec training is unsupervised, you can use both training and test datasets.\n",
    "\n",
    "If training has already been done, the function will just load the word2vec to disk so you don't need to retrain if rerunning the notebook"
   ]
  },
  {
   "cell_type": "code",
   "execution_count": 26,
   "metadata": {
    "_cell_guid": "e62cf926-34d9-461a-bf92-21e38e9ff2d3",
    "_uuid": "80d89a6184209c1630976aa5bdb9a93b1290b363"
   },
   "outputs": [
    {
     "name": "stdout",
     "output_type": "stream",
     "text": [
      "w2vmodel not found. training model\n",
      "Model done training. Saving to disk\n"
     ]
    }
   ],
   "source": [
    "w2vec = get_word2vec(MySentences(df_train['Text'].values, df_test['Text'].values),\n",
    "                     'w2vmodel')"
   ]
  },
  {
   "cell_type": "markdown",
   "metadata": {
    "_cell_guid": "591cc8cb-49c2-41d0-be0a-ff8ee7d4f230",
    "_uuid": "b41f276a240b388d56fb5187a5b99ac0d3b76d59"
   },
   "source": [
    "### Now that we have our word2vec model, how do we use it to transform each documents into a feature vector? In order to convert a document of multiple words into a single vector using our trained word2vec, we take the word2vec of all words in the document, then take its mean.\n",
    "\n",
    "### We'll define a transformer (with sklearn interface) to convert a document into its corresponding vector"
   ]
  },
  {
   "cell_type": "code",
   "execution_count": 27,
   "metadata": {
    "_cell_guid": "8be99804-9357-4522-a80b-aa328f5ef973",
    "_uuid": "f188944da320461ad2e8f76a7a991454e2c0763c",
    "collapsed": true
   },
   "outputs": [],
   "source": [
    "class MyTokenizer:\n",
    "    def __init__(self):\n",
    "        pass\n",
    "    \n",
    "    def fit(self, X, y=None):\n",
    "        return self\n",
    "    \n",
    "    def transform(self, X):\n",
    "        transformed_X = []\n",
    "        for document in X:\n",
    "            tokenized_doc = []\n",
    "            for sent in nltk.sent_tokenize(document):\n",
    "                tokenized_doc += nltk.word_tokenize(sent)\n",
    "            transformed_X.append(np.array(tokenized_doc))\n",
    "        return np.array(transformed_X)\n",
    "    \n",
    "    def fit_transform(self, X, y=None):\n",
    "        return self.transform(X)\n",
    "\n",
    "class MeanEmbeddingVectorizer(object):\n",
    "    def __init__(self, word2vec):\n",
    "        self.word2vec = word2vec\n",
    "        # if a text is empty we should return a vector of zeros\n",
    "        # with the same dimensionality as all the other vectors\n",
    "        self.dim = len(word2vec.wv.syn0[0])\n",
    "\n",
    "    def fit(self, X, y=None):\n",
    "        return self\n",
    "\n",
    "    def transform(self, X):\n",
    "        X = MyTokenizer().fit_transform(X)\n",
    "        \n",
    "        return np.array([\n",
    "            np.mean([self.word2vec.wv[w] for w in words if w in self.word2vec.wv]\n",
    "                    or [np.zeros(self.dim)], axis=0)\n",
    "            for words in X\n",
    "        ])\n",
    "    \n",
    "    def fit_transform(self, X, y=None):\n",
    "        return self.transform(X)\n"
   ]
  },
  {
   "cell_type": "code",
   "execution_count": 28,
   "metadata": {
    "_cell_guid": "1a13f2ef-1fb7-462a-8e72-63608f158969",
    "_uuid": "22e86ded9c31b7039c65ba3e46a2e58ff2b08cee",
    "collapsed": true
   },
   "outputs": [],
   "source": [
    "mean_embedding_vectorizer = MeanEmbeddingVectorizer(w2vec)\n",
    "mean_embedded = mean_embedding_vectorizer.fit_transform(df_train['Text'])"
   ]
  },
  {
   "cell_type": "code",
   "execution_count": 29,
   "metadata": {
    "_cell_guid": "383b2dc5-5ba8-4a44-86cc-d6710bacc8a8",
    "_uuid": "2f30d63d72bc0dda91f1625a399fc1a98c8e25c8"
   },
   "outputs": [
    {
     "name": "stderr",
     "output_type": "stream",
     "text": [
      "[Parallel(n_jobs=-1)]: Done   3 out of   3 | elapsed:    4.7s finished\n"
     ]
    },
    {
     "name": "stdout",
     "output_type": "stream",
     "text": [
      "Log loss: 1.5567918618704375\n",
      "Accuracy: 0.43842216199939776\n"
     ]
    },
    {
     "name": "stderr",
     "output_type": "stream",
     "text": [
      "/home/szong/anaconda3/envs/szvenv/lib/python3.6/site-packages/sklearn/utils/deprecation.py:75: DeprecationWarning: Function plot_confusion_matrix is deprecated; This will be removed in v0.4.0. Please use scikitplot.metrics.plot_confusion_matrix instead.\n",
      "  warnings.warn(msg, category=DeprecationWarning)\n"
     ]
    },
    {
     "data": {
      "image/png": "[encoded data removed]",
      "text/plain": [
       "<matplotlib.figure.Figure at 0x7fead6922438>"
      ]
     },
     "metadata": {},
     "output_type": "display_data"
    }
   ],
   "source": [
    "evaluate_features(mean_embedded, df_train['Class'].values.ravel())"
   ]
  },
  {
   "cell_type": "code",
   "execution_count": 30,
   "metadata": {
    "_cell_guid": "33e16fc2-7172-4163-9d6e-8bab7a9e85b3",
    "_uuid": "c0fcd434367d7a1899deda82cdfe5726c85bb41e"
   },
   "outputs": [
    {
     "name": "stderr",
     "output_type": "stream",
     "text": [
      "[Parallel(n_jobs=1)]: Done 1000 out of 1000 | elapsed:   13.2s finished\n",
      "[Parallel(n_jobs=1)]: Done 1000 out of 1000 | elapsed:    0.3s finished\n",
      "[Parallel(n_jobs=1)]: Done 1000 out of 1000 | elapsed:   13.9s finished\n",
      "[Parallel(n_jobs=1)]: Done 1000 out of 1000 | elapsed:    0.3s finished\n",
      "[Parallel(n_jobs=1)]: Done 1000 out of 1000 | elapsed:   14.3s finished\n",
      "[Parallel(n_jobs=1)]: Done 1000 out of 1000 | elapsed:    0.3s finished\n",
      "[Parallel(n_jobs=-1)]: Done   3 out of   3 | elapsed:   15.6s finished\n"
     ]
    },
    {
     "name": "stdout",
     "output_type": "stream",
     "text": [
      "Log loss: 2.024746442181187\n",
      "Accuracy: 0.42848539596507074\n"
     ]
    },
    {
     "name": "stderr",
     "output_type": "stream",
     "text": [
      "/home/szong/anaconda3/envs/szvenv/lib/python3.6/site-packages/sklearn/utils/deprecation.py:75: DeprecationWarning: Function plot_confusion_matrix is deprecated; This will be removed in v0.4.0. Please use scikitplot.metrics.plot_confusion_matrix instead.\n",
      "  warnings.warn(msg, category=DeprecationWarning)\n"
     ]
    },
    {
     "data": {
      "image/png": "[encoded data removed]",
      "text/plain": [
       "<matplotlib.figure.Figure at 0x7fead6165128>"
      ]
     },
     "metadata": {},
     "output_type": "display_data"
    }
   ],
   "source": [
    "evaluate_features(mean_embedded, df_train['Class'].values.ravel(),\n",
    "                  RandomForestClassifier(n_estimators=1000, max_depth=15, verbose=1))"
   ]
  },
  {
   "cell_type": "code",
   "execution_count": 31,
   "metadata": {
    "_cell_guid": "ffa542a9-909c-4bd6-a59f-de71f3327d9e",
    "_uuid": "e18fab5b47d20ff4050b7b7d1c6e44f374772abb"
   },
   "outputs": [
    {
     "name": "stderr",
     "output_type": "stream",
     "text": [
      "[Parallel(n_jobs=-1)]: Done   3 out of   3 | elapsed:   14.6s finished\n"
     ]
    },
    {
     "name": "stdout",
     "output_type": "stream",
     "text": [
      "Log loss: 1.6448961543994678\n",
      "Accuracy: 0.41613971695272506\n"
     ]
    },
    {
     "name": "stderr",
     "output_type": "stream",
     "text": [
      "/home/szong/anaconda3/envs/szvenv/lib/python3.6/site-packages/sklearn/utils/deprecation.py:75: DeprecationWarning: Function plot_confusion_matrix is deprecated; This will be removed in v0.4.0. Please use scikitplot.metrics.plot_confusion_matrix instead.\n",
      "  warnings.warn(msg, category=DeprecationWarning)\n"
     ]
    },
    {
     "data": {
      "image/png": "[encoded data removed]",
      "text/plain": [
       "<matplotlib.figure.Figure at 0x7fead736d780>"
      ]
     },
     "metadata": {},
     "output_type": "display_data"
    }
   ],
   "source": [
    "evaluate_features(mean_embedded, \n",
    "                  df_train['Class'].values.ravel(),\n",
    "                  XGBClassifier(max_depth=4,\n",
    "                                objective='multi:softprob',\n",
    "                                learning_rate=0.03333,\n",
    "                                )\n",
    "                 )"
   ]
  },
  {
   "cell_type": "markdown",
   "metadata": {
    "_cell_guid": "d59000aa-abc6-4ea8-b3f8-683f54e95761",
    "_uuid": "6ea65a9b884a0af3c31a2ca61432fa6858f9a402"
   },
   "source": [
    "### As expected, we get better results than TF-IDF. \n",
    "\n",
    "The results are still not very good though. One way to explain this is that there is a lot of information loss from just getting the mean of all word vectors of the document. This is roughly analogous to taking the entire document, summarizing it into one word, and using that word to classify the entire text."
   ]
  },
  {
   "cell_type": "markdown",
   "metadata": {
    "_cell_guid": "7db18b6e-d23f-412a-9f16-429082572649",
    "_uuid": "934ddee5cd73ca17ee2bd73f647290697aca997c"
   },
   "source": [
    "## Let's try a quick and dirty LSTM in Keras to take into account the sequential nature of text\n",
    "\n",
    "* We won't do any hyperparameter search \n",
    "* We'll go with 15 epochs, and save the model with the best validation loss after an epoch\n",
    "* Max sequence length is cut down to a measly 2000 (longest text has 77000+ words), to shorten training time and prevent GPU OOM\n",
    "\n",
    "Note: This takes about an hour to run on GPU"
   ]
  },
  {
   "cell_type": "code",
   "execution_count": 43,
   "metadata": {
    "_cell_guid": "d1b0a192-ea18-419e-9ba4-bb52f12b9f78",
    "_uuid": "8d4ee34e1e95faa8be9d93ecced116c324b61465",
    "collapsed": true
   },
   "outputs": [],
   "source": [
    "# Use the Keras tokenizer\n",
    "num_words = 2000\n",
    "tokenizer = Tokenizer(num_words=num_words)\n",
    "tokenizer.fit_on_texts(df_train['Text'].values)"
   ]
  },
  {
   "cell_type": "code",
   "execution_count": 44,
   "metadata": {
    "_cell_guid": "0610df13-711b-4d28-810a-2f7361cea388",
    "_uuid": "2fba830b1fd73426d1b3b2f22bac503d91d0a923",
    "collapsed": true
   },
   "outputs": [],
   "source": [
    "# Pad the data \n",
    "X = tokenizer.texts_to_sequences(df_train['Text'].values)\n",
    "X = pad_sequences(X, maxlen=2000)"
   ]
  },
  {
   "cell_type": "code",
   "execution_count": 45,
   "metadata": {
    "_cell_guid": "af64e666-69b4-4fe7-a8ce-c098e640cbf9",
    "_uuid": "6aff6b56a17d5bc0650e1bb41e60fee7be6f52ac"
   },
   "outputs": [
    {
     "name": "stdout",
     "output_type": "stream",
     "text": [
      "_________________________________________________________________\n",
      "Layer (type)                 Output Shape              Param #   \n",
      "=================================================================\n",
      "embedding_1 (Embedding)      (None, 2000, 128)         256000    \n",
      "_________________________________________________________________\n",
      "lstm_1 (LSTM)                (None, 196)               254800    \n",
      "_________________________________________________________________\n",
      "dense_1 (Dense)              (None, 9)                 1773      \n",
      "=================================================================\n",
      "Total params: 512,573\n",
      "Trainable params: 512,573\n",
      "Non-trainable params: 0\n",
      "_________________________________________________________________\n",
      "None\n"
     ]
    }
   ],
   "source": [
    "# Build out our simple LSTM\n",
    "embed_dim = 128\n",
    "lstm_out = 196\n",
    "\n",
    "# Model saving callback\n",
    "ckpt_callback = ModelCheckpoint('keras_model', \n",
    "                                 monitor='val_loss', \n",
    "                                 verbose=1, \n",
    "                                 save_best_only=True, \n",
    "                                 mode='auto')\n",
    "\n",
    "model = Sequential()\n",
    "model.add(Embedding(num_words, embed_dim, input_length = X.shape[1]))\n",
    "model.add(LSTM(lstm_out, recurrent_dropout=0.2, dropout=0.2))\n",
    "model.add(Dense(9,activation='softmax'))\n",
    "model.compile(loss = 'categorical_crossentropy', optimizer='adam', metrics = ['categorical_crossentropy'])\n",
    "print(model.summary())"
   ]
  },
  {
   "cell_type": "code",
   "execution_count": null,
   "metadata": {
    "_cell_guid": "3a3d8330-3b5e-4cb6-87c7-0f7707b48a76",
    "_uuid": "f9a53d657ec8a6017648965ad8073627756a13bd"
   },
   "outputs": [
    {
     "name": "stdout",
     "output_type": "stream",
     "text": [
      "(2656, 2000) (2656, 9)\n",
      "(665, 2000) (665, 9)\n"
     ]
    }
   ],
   "source": [
    "Y = pd.get_dummies(df_train['Class']).values\n",
    "X_train, X_test, Y_train, Y_test = train_test_split(X, Y, test_size = 0.2, random_state = 42, stratify=Y)\n",
    "print(X_train.shape, Y_train.shape)\n",
    "print(X_test.shape, Y_test.shape)\n"
   ]
  },
  {
   "cell_type": "code",
   "execution_count": null,
   "metadata": {
    "_cell_guid": "d7eac40d-a8d6-47a7-9542-1a2b06f76ca8",
    "_uuid": "a0da0f4a43684380e3dd1b6f53d03cc45384fbf9",
    "scrolled": true
   },
   "outputs": [
    {
     "name": "stdout",
     "output_type": "stream",
     "text": [
      "Train on 2124 samples, validate on 532 samples\n",
      "Epoch 1/15\n",
      "2112/2124 [============================>.] - ETA: 9s - loss: 1.8819 - categorical_crossentropy: 1.8819 Epoch 00000: val_loss improved from inf to 1.78505, saving model to keras_model\n",
      "2124/2124 [==============================] - 1652s - loss: 1.8799 - categorical_crossentropy: 1.8799 - val_loss: 1.7851 - val_categorical_crossentropy: 1.7851\n",
      "Epoch 2/15\n",
      "2112/2124 [============================>.] - ETA: 1s - loss: 1.5555 - categorical_crossentropy: 1.5555Epoch 00001: val_loss improved from 1.78505 to 1.48248, saving model to keras_model\n",
      "2124/2124 [==============================] - 266s - loss: 1.5536 - categorical_crossentropy: 1.5536 - val_loss: 1.4825 - val_categorical_crossentropy: 1.4825\n",
      "Epoch 3/15\n",
      "2112/2124 [============================>.] - ETA: 2s - loss: 1.2525 - categorical_crossentropy: 1.2525Epoch 00002: val_loss improved from 1.48248 to 1.37838, saving model to keras_model\n",
      "2124/2124 [==============================] - 396s - loss: 1.2495 - categorical_crossentropy: 1.2495 - val_loss: 1.3784 - val_categorical_crossentropy: 1.3784\n",
      "Epoch 4/15\n",
      " 672/2124 [========>.....................] - ETA: 394s - loss: 0.9920 - categorical_crossentropy: 0.9920"
     ]
    }
   ],
   "source": [
    "batch_size = 32\n",
    "model.fit(X_train, Y_train, epochs=15, batch_size=batch_size, validation_split=0.2, callbacks=[ckpt_callback])"
   ]
  },
  {
   "cell_type": "code",
   "execution_count": null,
   "metadata": {
    "_cell_guid": "72101f81-dd5a-4b27-b985-e4fa03a7d7fd",
    "_uuid": "142200cc3855cd276bb3a9abf3526a61988fafee",
    "collapsed": true
   },
   "outputs": [],
   "source": [
    "model = load_model('keras_model')"
   ]
  },
  {
   "cell_type": "code",
   "execution_count": null,
   "metadata": {
    "_cell_guid": "63a95326-bbb5-4513-8a0c-329f87cc1fb9",
    "_uuid": "80eb60399aedb6f8fcb3b65e215b1340f2b679c2",
    "collapsed": true
   },
   "outputs": [],
   "source": [
    "probas = model.predict(X_test)"
   ]
  },
  {
   "cell_type": "code",
   "execution_count": null,
   "metadata": {
    "_cell_guid": "da8194c1-bce5-4d3d-93a7-fbb6b832113e",
    "_uuid": "fffe9f6d9907deabbf827f183c4cf33af917b131",
    "collapsed": true
   },
   "outputs": [],
   "source": [
    "pred_indices = np.argmax(probas, axis=1)\n",
    "classes = np.array(range(1, 10))\n",
    "preds = classes[pred_indices]\n",
    "print('Log loss: {}'.format(log_loss(classes[np.argmax(Y_test, axis=1)], probas)))\n",
    "print('Accuracy: {}'.format(accuracy_score(classes[np.argmax(Y_test, axis=1)], preds)))\n",
    "skplt.plot_confusion_matrix(classes[np.argmax(Y_test, axis=1)], preds)\n"
   ]
  },
  {
   "cell_type": "markdown",
   "metadata": {
    "_cell_guid": "e96c819f-eea0-4079-8309-0b5233fb4a1c",
    "_uuid": "0fda6b5af213a4250ba1589b7203ffde3aaead6f"
   },
   "source": [
    "### The results of the quick LSTM are promising. \n",
    "\n",
    "On the first try with no hyperparameter search, 6th epoch, max sequence length cut down to a measly 2000 (longest text has 77000+ words), we get the best log loss so far of around 1.4. You can still see a bit of bias towards class 7 but the confusion matrix looks more balanced than anything we've seen so far.\n",
    "\n",
    "### Further tuning of the LSTM will likely produce better results."
   ]
  },
  {
   "cell_type": "markdown",
   "metadata": {
    "_cell_guid": "db48f4cc-a354-4f8d-9e60-a9d4462876dd",
    "_uuid": "a3689c71d2b898f2109bef73b38247999535486d"
   },
   "source": [
    "## So far, we've only used the text field to perform classification. But there is still the \"Gene\" and \"Variation\" fields.\n",
    "\n",
    "Using only the Text field is a bit flawed. Looking closer at the statistics we calculated above, \"training_text\" actually has duplicates, and the duplicates have different classes. This is part of the challenge. A lot of papers are studies of 2 or more genes. It is our job to use the other fields to figure out which parts of the text are relevant for the particular Gene and Variation.\n",
    "\n",
    "### Let's use a LabelEncoder to encode Gene and Variation and combine it with TFIDF"
   ]
  },
  {
   "cell_type": "code",
   "execution_count": null,
   "metadata": {
    "_cell_guid": "704fce25-86e1-48b6-8674-9843559ace23",
    "_uuid": "80844cb882cf78f1e3e9705f14c3332a4778be48",
    "collapsed": true
   },
   "outputs": [],
   "source": [
    "gene_le = LabelEncoder()\n",
    "gene_encoded = gene_le.fit_transform(df_train['Gene'].values.ravel()).reshape(-1, 1)\n",
    "gene_encoded = gene_encoded / np.max(gene_encoded)"
   ]
  },
  {
   "cell_type": "code",
   "execution_count": null,
   "metadata": {
    "_cell_guid": "1ceed29c-6f13-41e7-9c85-47f39820e319",
    "_uuid": "bf24d496955e15ff12bc583b97ed034b57adfd89",
    "collapsed": true
   },
   "outputs": [],
   "source": [
    "variation_le = LabelEncoder()\n",
    "variation_encoded = variation_le.fit_transform(df_train['Variation'].values.ravel()).reshape(-1, 1)\n",
    "variation_encoded = variation_encoded / np.max(variation_encoded)"
   ]
  },
  {
   "cell_type": "code",
   "execution_count": null,
   "metadata": {
    "_cell_guid": "8dbafc18-a824-4eb5-b8b1-c104e4b14480",
    "_uuid": "8e98d909ca15dc9e1c756610df216f22c054d8d1",
    "collapsed": true
   },
   "outputs": [],
   "source": [
    "evaluate_features(np.hstack((gene_encoded, variation_encoded, truncated_tfidf)), df_train['Class'])"
   ]
  },
  {
   "cell_type": "code",
   "execution_count": null,
   "metadata": {
    "_cell_guid": "14b8a51e-ab20-4791-9fc0-9d1681263f21",
    "_uuid": "0d151795f1e0a4a5cbf42d740d3d97882c6d970d",
    "collapsed": true
   },
   "outputs": [],
   "source": [
    "evaluate_features(np.hstack((gene_encoded, variation_encoded, truncated_tfidf)), df_train['Class'],\n",
    "                  RandomForestClassifier(n_estimators=1000, max_depth=5, verbose=1))"
   ]
  },
  {
   "cell_type": "markdown",
   "metadata": {
    "_cell_guid": "772a5a7a-c978-4ce5-bfaf-0e50584b225a",
    "_uuid": "9fdfeaf538aaea6e557a95233a60d7c01def5814"
   },
   "source": [
    "### Barely any difference, let's try our  label encoded features with our word2vec features"
   ]
  },
  {
   "cell_type": "code",
   "execution_count": null,
   "metadata": {
    "_cell_guid": "58ef00cc-e255-4eac-9a56-7ac0406b8230",
    "_uuid": "e3813a8343a90bd7023055150cc7b9012885247c",
    "collapsed": true
   },
   "outputs": [],
   "source": [
    "evaluate_features(np.hstack((gene_encoded, variation_encoded, mean_embedded)), df_train['Class'])"
   ]
  },
  {
   "cell_type": "code",
   "execution_count": null,
   "metadata": {
    "_cell_guid": "43c00792-b741-45de-9709-4c3ad9a7eafc",
    "_uuid": "fbcc0adde6907f7beab0de93debe310815a1156b",
    "collapsed": true
   },
   "outputs": [],
   "source": [
    "evaluate_features(np.hstack((gene_encoded, variation_encoded, mean_embedded)), df_train['Class'],\n",
    "                  RandomForestClassifier(n_estimators=1000, max_depth=5, verbose=1))"
   ]
  },
  {
   "cell_type": "markdown",
   "metadata": {
    "_cell_guid": "c1780db6-c523-4a23-a5dd-84906fb0505a",
    "_uuid": "04b528db030e8e16cf0c581643bd02d95923522c"
   },
   "source": [
    "### Doesn't make a difference either. Let's try one-hot encoding + SVD the \"Gene\" and \"Variation\" features"
   ]
  },
  {
   "cell_type": "code",
   "execution_count": null,
   "metadata": {
    "_cell_guid": "83c49101-1cbb-492e-9680-ad5f5a4995d2",
    "_uuid": "343d08a18abfaa87e67064faf592ddbb2d92de2f",
    "collapsed": true
   },
   "outputs": [],
   "source": [
    "one_hot_gene = pd.get_dummies(df_train['Gene'])\n",
    "svd = TruncatedSVD(n_components=25, n_iter=25, random_state=12)\n",
    "truncated_one_hot_gene = svd.fit_transform(one_hot_gene.values)"
   ]
  },
  {
   "cell_type": "code",
   "execution_count": null,
   "metadata": {
    "_cell_guid": "0340ce68-271b-43da-92e0-a9d22528bb30",
    "_uuid": "ab2bb2dadc7ee52b5b4e382bad56ba314f93ec7a",
    "collapsed": true
   },
   "outputs": [],
   "source": [
    "one_hot_variation = pd.get_dummies(df_train['Variation'])\n",
    "svd = TruncatedSVD(n_components=25, n_iter=25, random_state=12)\n",
    "truncated_one_hot_variation = svd.fit_transform(one_hot_variation.values)"
   ]
  },
  {
   "cell_type": "markdown",
   "metadata": {
    "_cell_guid": "8cb7e817-d34f-4d46-ab04-b33c445bb72a",
    "_uuid": "c4e3b7ae95ead4d81a5bc329a4df5b1016f47b2b"
   },
   "source": [
    "### Truncated one hot encoding + TFIDF"
   ]
  },
  {
   "cell_type": "code",
   "execution_count": null,
   "metadata": {
    "_cell_guid": "3c6e9f63-b095-437a-adde-325f86bd58f2",
    "_uuid": "94704cd2cc00bd6f33a9a2228b01392430806d48",
    "collapsed": true
   },
   "outputs": [],
   "source": [
    "evaluate_features(np.hstack((truncated_one_hot_gene, truncated_one_hot_variation, truncated_tfidf)), df_train['Class'])"
   ]
  },
  {
   "cell_type": "code",
   "execution_count": null,
   "metadata": {
    "_cell_guid": "69ae841b-f616-468d-980a-bbca4eb40160",
    "_uuid": "0bc53506063033a3c991226344fc72538c8c6cc3",
    "collapsed": true
   },
   "outputs": [],
   "source": [
    "evaluate_features(np.hstack((truncated_one_hot_gene, truncated_one_hot_variation, truncated_tfidf)), df_train['Class'],\n",
    "                  RandomForestClassifier(n_estimators=1000, max_depth=5, verbose=1))\n"
   ]
  },
  {
   "cell_type": "markdown",
   "metadata": {
    "_cell_guid": "97164561-dca4-43fe-b37b-3a54d64dd99b",
    "_uuid": "d65b9d9324de3990985b1cc6e6b3b50bb6ad9ca2"
   },
   "source": [
    "### Truncated one hot encoding + word2vec"
   ]
  },
  {
   "cell_type": "code",
   "execution_count": null,
   "metadata": {
    "_cell_guid": "0e9710c6-8ad0-4462-ae86-71c09306c971",
    "_uuid": "d8dc844e566435a95016f7dde0087a76ccc94656",
    "collapsed": true
   },
   "outputs": [],
   "source": [
    "evaluate_features(np.hstack((truncated_one_hot_gene, truncated_one_hot_variation, mean_embedded)), df_train['Class'])"
   ]
  },
  {
   "cell_type": "code",
   "execution_count": null,
   "metadata": {
    "_cell_guid": "c5b4c744-3ff8-4d96-b80f-358a2a102155",
    "_uuid": "d684bc32a398a92a77f3b7617dade9340dafd92e",
    "collapsed": true
   },
   "outputs": [],
   "source": [
    "evaluate_features(np.hstack((truncated_one_hot_gene, truncated_one_hot_variation, mean_embedded)), df_train['Class'],\n",
    "                  RandomForestClassifier(n_estimators=1000, max_depth=5, verbose=1))"
   ]
  },
  {
   "cell_type": "markdown",
   "metadata": {
    "_cell_guid": "a69600f7-640f-4238-8484-c8c0ac40c54c",
    "_uuid": "c238870079622900d50629bcbf0f06914a1c7a87"
   },
   "source": [
    "### Interestingly, performance is actually a bit worse than simple label encoding"
   ]
  },
  {
   "cell_type": "markdown",
   "metadata": {
    "_cell_guid": "e70c3e0c-3722-4ed0-943f-3909c2078f38",
    "_uuid": "2eeb0f102a078b433d0c30b9d4e5fedebc58a236"
   },
   "source": [
    "## Before going into a summary of the insights we've discovered, let's generate some submissions from our best models and see how they fare in the public leaderboard\n",
    "\n",
    "### We'll start by generating a submission from our word2vec model"
   ]
  },
  {
   "cell_type": "code",
   "execution_count": null,
   "metadata": {
    "_cell_guid": "359545db-061c-428c-9863-77cc73edb2a5",
    "_uuid": "960016c34ae2a8cc76c9624ee721e712e3e3baf5",
    "collapsed": true
   },
   "outputs": [],
   "source": [
    "lr_w2vec = LogisticRegression()\n",
    "lr_w2vec.fit(mean_embedded, df_train['Class'])"
   ]
  },
  {
   "cell_type": "code",
   "execution_count": null,
   "metadata": {
    "_cell_guid": "b18da40c-43a0-4f3d-b2fd-65d4b5ffe13c",
    "_uuid": "15f8696fff30dc4377efae0ebca1f47c5470df29",
    "collapsed": true
   },
   "outputs": [],
   "source": [
    "mean_embedded_test = mean_embedding_vectorizer.transform(df_test['Text'])"
   ]
  },
  {
   "cell_type": "code",
   "execution_count": null,
   "metadata": {
    "_cell_guid": "29ef4844-4cc2-4b19-adfc-dfbdd5eb6821",
    "_uuid": "32c10bef6437d50261d22c3f5fd61fdab46a399f",
    "collapsed": true
   },
   "outputs": [],
   "source": [
    "probas = lr_w2vec.predict_proba(mean_embedded_test)"
   ]
  },
  {
   "cell_type": "code",
   "execution_count": null,
   "metadata": {
    "_cell_guid": "85f25966-0e5a-421a-a77c-5a8d75410917",
    "_uuid": "a106e10bd7e26e6284e583a1411a66c8f1f073e5",
    "collapsed": true
   },
   "outputs": [],
   "source": [
    "submission_df = pd.DataFrame(probas, columns=['class'+str(c+1) for c in range(9)])\n",
    "submission_df['ID'] = df_test['ID']\n",
    "submission_df.head()"
   ]
  },
  {
   "cell_type": "code",
   "execution_count": null,
   "metadata": {
    "_cell_guid": "9c0da856-df5c-44b6-a8ab-50ce90212974",
    "_uuid": "f5b95449759c0052a634b624d0c5d18177aa5329",
    "collapsed": true
   },
   "outputs": [],
   "source": [
    "submission_df.to_csv('submission.csv', index=False)"
   ]
  },
  {
   "cell_type": "markdown",
   "metadata": {
    "_cell_guid": "d30f0cd2-bd38-4913-941f-2de07416dce9",
    "_uuid": "2313e8a97d9801826e7499fafbcf73abe353df28"
   },
   "source": [
    "### Test out XGB and SVC"
   ]
  },
  {
   "cell_type": "code",
   "execution_count": null,
   "metadata": {
    "_cell_guid": "366147f8-7898-4c43-8e7d-3bb9092c0914",
    "_uuid": "936695ec044ae89260c3e191b9af9a1c84e21e67",
    "collapsed": true
   },
   "outputs": [],
   "source": [
    "xgb_w2vec = XGBClassifier(max_depth=4,\n",
    "                          objective='multi:softprob',\n",
    "                          learning_rate=0.03333)\n",
    "xgb_w2vec.fit(mean_embedded, df_train['Class'])\n",
    "probas = xgb_w2vec.predict_proba(mean_embedded_test)\n",
    "submission_df = pd.DataFrame(probas, columns=['class'+str(c+1) for c in range(9)])\n",
    "submission_df['ID'] = df_test['ID']\n",
    "submission_df.to_csv('submission.csv', index=False)"
   ]
  },
  {
   "cell_type": "code",
   "execution_count": null,
   "metadata": {
    "_cell_guid": "c313def8-9b81-4257-ae96-f826130c18aa",
    "_uuid": "4dffea7a53a0953e51fe6ab353dcc24c45ec7e4a",
    "collapsed": true
   },
   "outputs": [],
   "source": [
    "svc_w2vec = SVC(kernel='linear', probability=True)\n",
    "svc_w2vec.fit(mean_embedded, df_train['Class'])\n",
    "probas = svc_w2vec.predict_proba(mean_embedded_test)\n",
    "submission_df = pd.DataFrame(probas, columns=['class'+str(c+1) for c in range(9)])\n",
    "submission_df['ID'] = df_test['ID']\n",
    "submission_df.to_csv('submission.csv', index=False)"
   ]
  },
  {
   "cell_type": "markdown",
   "metadata": {
    "_cell_guid": "8cfef508-e869-4971-9b84-06d3e80ae6ea",
    "_uuid": "9c2e087dd457065520e8e8d1d195dc015571925b"
   },
   "source": [
    "#### Public LB Score Log Reg: 1.032000\n",
    "\n",
    "#### Public LB Score XGB: 0.96536\n",
    "\n",
    "#### Public LB Score SVC: 0.97059\n",
    "\n",
    "### Let's try our Keras model"
   ]
  },
  {
   "cell_type": "code",
   "execution_count": null,
   "metadata": {
    "_cell_guid": "56db5d32-cc80-445f-b33a-05071832dd69",
    "_uuid": "8d65e2e32ad9d552e5f38c3667f15bfdb9915208",
    "collapsed": true
   },
   "outputs": [],
   "source": [
    "Xtest = tokenizer.texts_to_sequences(df_test['Text'].values)\n",
    "Xtest = pad_sequences(Xtest, maxlen=2000)"
   ]
  },
  {
   "cell_type": "code",
   "execution_count": null,
   "metadata": {
    "_cell_guid": "4d608be7-741c-462c-8a2a-39b81612000d",
    "_uuid": "7b454ebc7996841cffcaba3a165d8b28b5c76466",
    "collapsed": true
   },
   "outputs": [],
   "source": [
    "probas = model.predict(Xtest)"
   ]
  },
  {
   "cell_type": "code",
   "execution_count": null,
   "metadata": {
    "_cell_guid": "dbcb71f9-1854-44c3-b9cf-d060494887d8",
    "_uuid": "81165d6e9870765c90fbb4624743ea49f9f6d1d8",
    "collapsed": true
   },
   "outputs": [],
   "source": [
    "submission_df = pd.DataFrame(probas, columns=['class'+str(c+1) for c in range(9)])\n",
    "submission_df['ID'] = df_test['ID']\n",
    "submission_df.head()"
   ]
  },
  {
   "cell_type": "code",
   "execution_count": null,
   "metadata": {
    "_cell_guid": "9ce11af2-21b8-47e0-a83b-55ee14c1c53c",
    "_uuid": "7264bb21f9c0028b6be3e637c8414d543266d113",
    "collapsed": true
   },
   "outputs": [],
   "source": [
    "submission_df.to_csv('submission.csv', index=False)"
   ]
  },
  {
   "cell_type": "markdown",
   "metadata": {
    "_cell_guid": "d1aa03cb-3faf-4dfe-97a7-97dbfff856ec",
    "_uuid": "1ac56c47c3e55b3a6fde88332fe1e045e59fef9b"
   },
   "source": [
    "#### Public LB Score: 1.00234"
   ]
  },
  {
   "cell_type": "markdown",
   "metadata": {
    "_cell_guid": "04e8cc4c-7bcd-4951-8e8f-859a6da7e0fe",
    "_uuid": "9070256ed93261c08d7ff3c7bf43f144463263b5"
   },
   "source": [
    "## Summary\n",
    "\n",
    "The aim of this notebook was to do some quick exploration of the dataset and apply some common ML techniques to the classification task. The metric to maximize is multiclass log loss.\n",
    "\n",
    "A big part of the problem is to teach an ML model how to \"read\" medical literature and classify the given Gene and Variation into 1 out of 9 classes.\n",
    "\n",
    "Thus, the first part of this notebook focused on applying common techniques to preprocess and vectorize free text and evaluate its effectiveness by running them through vanilla Logistic Regression and Random Forest.\n",
    "\n",
    "The techniques used, from least effective to most effective, were:\n",
    "\n",
    "* Bag of Words\n",
    "* TF-IDF\n",
    "* Word2Vec\n",
    "\n",
    "Because the above approaches did not take into account the temporal patterns in free text, a quick LSTM was tried as well. This approach scored higher than the above without any tuning.\n",
    "\n",
    "In the second part of the notebook, I added the \"Gene\" and \"Variation\" features next to the free text features. I tried both label encoding and one-hot encoding, however, the results did not show much improvement.\n",
    "\n",
    "In the third part of the notebook, I generated submissions for both Word2Vec (multiple classifiers) and Keras LSTM and recorded the public leaderboard scores of each submission. The scores were better (around 1) but did not show the same relationships with each other as my own CV (they were mostly close to each other). This is a common occurrence in Kaggle competitions since the public leaderboard is scored on a smaller subset of the test data. Most Kagglers' advice is to ignore the public leaderboard and trust your own CV.\n",
    "\n",
    "## Further things to try\n",
    "\n",
    "This notebook's aim was mostly figuring out which techniques are worth exploring and was not intended to generate very competitive submissions. The following is a list of suggestions to try for further improvement.\n",
    "\n",
    "* There are tons of other techniques for free text other than the ones I listed above. Make sure to explore other techniques such as Doc2Vec, DeepIR, and Word Mover's distance\n",
    "\n",
    "* Focus more on capturing the relationship between \"Gene\" and \"Variation\" with the free text features. Since \"Text\" is sometimes duplicated (with different classes!), taking into account \"Gene\" and \"Variation\" is very important.\n",
    "\n",
    "* Explore different deep learning architectures for the data. One idea for an architecture is to combine a simple Embedding + LSTM for the free text and concatenate the input with \"Gene\" and \"Variation\" Embeddings, leading into a final fully connected layer for the classes. Hopefully, this will capture the relationship between the text and the \"Gene\" + \"Variation\" columns.\n",
    "\n",
    "* Train Word2Vec on a bigger corpus of genetic and medical data. Since Word2Vec is unsupervised, we can get better embeddings with more data, and consequently, better predictions\n",
    "\n",
    "* Don't forget to do hyperparameter optimization when you're happy with a set of features. Stacked ensembling is also an almost guaranteed way to get a small boost to your score. We skipped this entirely in this notebook as this is usually the last step in the process. Try http://xcessiv.readthedocs.io/.\n",
    "\n"
   ]
  },
  {
   "cell_type": "code",
   "execution_count": null,
   "metadata": {
    "_cell_guid": "47a36edb-f857-4de7-a19d-99dbb68aab50",
    "_uuid": "609fdc82b3b3125e3f79ea88909dfab79484b829",
    "collapsed": true
   },
   "outputs": [],
   "source": []
  },
  {
   "cell_type": "code",
   "execution_count": null,
   "metadata": {
    "_cell_guid": "1e994ded-dbfe-4117-a034-4ea3b57be80f",
    "_uuid": "a8e5d0e66cf98fc72ec808b7f5e0e366d4a492b2",
    "collapsed": true
   },
   "outputs": [],
   "source": []
  },
  {
   "cell_type": "code",
   "execution_count": null,
   "metadata": {
    "_cell_guid": "1bcacfa6-87a4-489c-aa38-5a7f88424134",
    "_uuid": "7ee8525ea2ffedb4c8d76afeba30598f5589b2f4",
    "collapsed": true
   },
   "outputs": [],
   "source": []
  }
 ],
 "metadata": {
  "hide_input": false,
  "kernelspec": {
   "display_name": "Python 3",
   "language": "python",
   "name": "python3"
  },
  "language_info": {
   "codemirror_mode": {
    "name": "ipython",
    "version": 3
   },
   "file_extension": ".py",
   "mimetype": "text/x-python",
   "name": "python",
   "nbconvert_exporter": "python",
   "pygments_lexer": "ipython3",
   "version": "3.6.2"
  }
 },
 "nbformat": 4,
 "nbformat_minor": 1
}
