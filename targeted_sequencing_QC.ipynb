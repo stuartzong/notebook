{
 "cells": [
  {
   "cell_type": "code",
   "execution_count": 4,
   "metadata": {
    "collapsed": true
   },
   "outputs": [],
   "source": [
    "import pandas as pd\n",
    "import numpy as np\n",
    "import string as s\n",
    "import seaborn as sns\n",
    "import math\n",
    "import tables\n",
    "import matplotlib\n",
    "import matplotlib.pyplot as plt\n",
    "from itertools import groupby\n",
    "import scipy.stats as stats\n",
    "from scipy.ndimage.interpolation import shift\n",
    "# matplotlib.style.use('ggplot')\n",
    "# %matplotlib inline\n",
    "matplotlib.rcParams['figure.figsize'] = (12, 6)\n",
    "# matplotlib.rcParams['figure.facecolor'] = 'white'\n"
   ]
  },
  {
   "cell_type": "markdown",
   "metadata": {},
   "source": [
    "targeted sequencing QC"
   ]
  },
  {
   "cell_type": "code",
   "execution_count": 5,
   "metadata": {
    "collapsed": true
   },
   "outputs": [],
   "source": [
    "wkdir = '/home/szong/projects/QC/targeted_seq/BLGSP/'"
   ]
  },
  {
   "cell_type": "code",
   "execution_count": 10,
   "metadata": {
    "scrolled": true
   },
   "outputs": [
    {
     "data": {
      "text/html": [
       "<div>\n",
       "<style>\n",
       "    .dataframe thead tr:only-child th {\n",
       "        text-align: right;\n",
       "    }\n",
       "\n",
       "    .dataframe thead th {\n",
       "        text-align: left;\n",
       "    }\n",
       "\n",
       "    .dataframe tbody tr th {\n",
       "        vertical-align: top;\n",
       "    }\n",
       "</style>\n",
       "<table border=\"1\" class=\"dataframe\">\n",
       "  <thead>\n",
       "    <tr style=\"text-align: right;\">\n",
       "      <th></th>\n",
       "      <th>pool library</th>\n",
       "      <th>library</th>\n",
       "      <th>sample_id</th>\n",
       "      <th>index</th>\n",
       "      <th># of on-target reads</th>\n",
       "      <th># of off-target reads</th>\n",
       "      <th>% of reads on target (from total reads)</th>\n",
       "      <th>% of reads off target (from total reads)</th>\n",
       "      <th>fold coverage (incl. duplicate reads)</th>\n",
       "    </tr>\n",
       "  </thead>\n",
       "  <tbody>\n",
       "    <tr>\n",
       "      <th>0</th>\n",
       "      <td>IX6039.CC47LANXX_1.1stLane</td>\n",
       "      <td>A78672</td>\n",
       "      <td>BLGSP-71-19-00106</td>\n",
       "      <td>CCAGCA</td>\n",
       "      <td>5358375.0</td>\n",
       "      <td>3674778.0</td>\n",
       "      <td>0.593190</td>\n",
       "      <td>0.406810</td>\n",
       "      <td>138.0</td>\n",
       "    </tr>\n",
       "    <tr>\n",
       "      <th>1</th>\n",
       "      <td>IX6039.CC47LANXX_1.1stLane</td>\n",
       "      <td>A78675</td>\n",
       "      <td>BLGSP-71-19-00114</td>\n",
       "      <td>TACAAG</td>\n",
       "      <td>8695613.0</td>\n",
       "      <td>5051912.0</td>\n",
       "      <td>0.632522</td>\n",
       "      <td>0.367478</td>\n",
       "      <td>225.0</td>\n",
       "    </tr>\n",
       "  </tbody>\n",
       "</table>\n",
       "</div>"
      ],
      "text/plain": [
       "                 pool library library          sample_id   index  \\\n",
       "0  IX6039.CC47LANXX_1.1stLane  A78672  BLGSP-71-19-00106  CCAGCA   \n",
       "1  IX6039.CC47LANXX_1.1stLane  A78675  BLGSP-71-19-00114  TACAAG   \n",
       "\n",
       "   # of on-target reads  # of off-target reads  \\\n",
       "0             5358375.0              3674778.0   \n",
       "1             8695613.0              5051912.0   \n",
       "\n",
       "   % of reads on target (from total reads)  \\\n",
       "0                                 0.593190   \n",
       "1                                 0.632522   \n",
       "\n",
       "   % of reads off target (from total reads)  \\\n",
       "0                                  0.406810   \n",
       "1                                  0.367478   \n",
       "\n",
       "   fold coverage (incl. duplicate reads)  \n",
       "0                                  138.0  \n",
       "1                                  225.0  "
      ]
     },
     "execution_count": 10,
     "metadata": {},
     "output_type": "execute_result"
    }
   ],
   "source": [
    "f1 = '{0}{1}'.format(wkdir, 'NCI_capture_of_BLGSP_samples_level_2_QC_results_9_runs.xls')\n",
    "df1 = pd.read_excel(f1, sheetname='result').dropna()\n",
    "df1.head(2)"
   ]
  },
  {
   "cell_type": "code",
   "execution_count": 13,
   "metadata": {},
   "outputs": [
    {
     "data": {
      "text/plain": [
       "Index(['pool library', 'library', 'sample_id', 'index', '# of on-target reads',\n",
       "       '# of off-target reads', '% of reads on target (from total reads)',\n",
       "       '% of reads off target (from total reads)',\n",
       "       'fold coverage (incl. duplicate reads)'],\n",
       "      dtype='object')"
      ]
     },
     "execution_count": 13,
     "metadata": {},
     "output_type": "execute_result"
    }
   ],
   "source": [
    "df1.columns"
   ]
  },
  {
   "cell_type": "code",
   "execution_count": 17,
   "metadata": {
    "collapsed": true
   },
   "outputs": [],
   "source": [
    "df_cov = df1.groupby('library').agg({'fold coverage (incl. duplicate reads)':sum,\\\n",
    "                            '% of reads on target (from total reads)':'mean',\\\n",
    "                            '% of reads off target (from total reads)': 'mean'})"
   ]
  },
  {
   "cell_type": "code",
   "execution_count": 29,
   "metadata": {},
   "outputs": [
    {
     "data": {
      "text/html": [
       "<div>\n",
       "<style>\n",
       "    .dataframe thead tr:only-child th {\n",
       "        text-align: right;\n",
       "    }\n",
       "\n",
       "    .dataframe thead th {\n",
       "        text-align: left;\n",
       "    }\n",
       "\n",
       "    .dataframe tbody tr th {\n",
       "        vertical-align: top;\n",
       "    }\n",
       "</style>\n",
       "<table border=\"1\" class=\"dataframe\">\n",
       "  <thead>\n",
       "    <tr style=\"text-align: right;\">\n",
       "      <th></th>\n",
       "      <th>fold coverage (incl. duplicate reads)</th>\n",
       "      <th>% of reads on target (from total reads)</th>\n",
       "      <th>% of reads off target (from total reads)</th>\n",
       "    </tr>\n",
       "    <tr>\n",
       "      <th>library</th>\n",
       "      <th></th>\n",
       "      <th></th>\n",
       "      <th></th>\n",
       "    </tr>\n",
       "  </thead>\n",
       "  <tbody>\n",
       "    <tr>\n",
       "      <th>A78670</th>\n",
       "      <td>724.0</td>\n",
       "      <td>0.617571</td>\n",
       "      <td>0.382429</td>\n",
       "    </tr>\n",
       "    <tr>\n",
       "      <th>A78671</th>\n",
       "      <td>490.0</td>\n",
       "      <td>0.620799</td>\n",
       "      <td>0.379201</td>\n",
       "    </tr>\n",
       "  </tbody>\n",
       "</table>\n",
       "</div>"
      ],
      "text/plain": [
       "         fold coverage (incl. duplicate reads)  \\\n",
       "library                                          \n",
       "A78670                                   724.0   \n",
       "A78671                                   490.0   \n",
       "\n",
       "         % of reads on target (from total reads)  \\\n",
       "library                                            \n",
       "A78670                                  0.617571   \n",
       "A78671                                  0.620799   \n",
       "\n",
       "         % of reads off target (from total reads)  \n",
       "library                                            \n",
       "A78670                                   0.382429  \n",
       "A78671                                   0.379201  "
      ]
     },
     "execution_count": 29,
     "metadata": {},
     "output_type": "execute_result"
    }
   ],
   "source": [
    "df_cov.head(2)"
   ]
  },
  {
   "cell_type": "code",
   "execution_count": 18,
   "metadata": {},
   "outputs": [
    {
     "data": {
      "text/html": [
       "<div>\n",
       "<style>\n",
       "    .dataframe thead tr:only-child th {\n",
       "        text-align: right;\n",
       "    }\n",
       "\n",
       "    .dataframe thead th {\n",
       "        text-align: left;\n",
       "    }\n",
       "\n",
       "    .dataframe tbody tr th {\n",
       "        vertical-align: top;\n",
       "    }\n",
       "</style>\n",
       "<table border=\"1\" class=\"dataframe\">\n",
       "  <thead>\n",
       "    <tr style=\"text-align: right;\">\n",
       "      <th></th>\n",
       "      <th>Pool</th>\n",
       "      <th>Library</th>\n",
       "      <th>Run ID</th>\n",
       "      <th>Raw Reads</th>\n",
       "      <th>Aligned Reads</th>\n",
       "      <th>Raw Bases Sequenced</th>\n",
       "      <th>Number of bases Aligned</th>\n",
       "    </tr>\n",
       "  </thead>\n",
       "  <tbody>\n",
       "    <tr>\n",
       "      <th>0</th>\n",
       "      <td>IX6039</td>\n",
       "      <td>A78670</td>\n",
       "      <td>run220967</td>\n",
       "      <td>29139547</td>\n",
       "      <td>29117860</td>\n",
       "      <td>3642443375</td>\n",
       "      <td>3639732500</td>\n",
       "    </tr>\n",
       "    <tr>\n",
       "      <th>1</th>\n",
       "      <td>IX6039</td>\n",
       "      <td>A78670</td>\n",
       "      <td>run221274</td>\n",
       "      <td>29040603</td>\n",
       "      <td>29017215</td>\n",
       "      <td>3630075375</td>\n",
       "      <td>3627151875</td>\n",
       "    </tr>\n",
       "  </tbody>\n",
       "</table>\n",
       "</div>"
      ],
      "text/plain": [
       "     Pool Library     Run ID  Raw Reads  Aligned Reads  Raw Bases Sequenced  \\\n",
       "0  IX6039  A78670  run220967   29139547       29117860           3642443375   \n",
       "1  IX6039  A78670  run221274   29040603       29017215           3630075375   \n",
       "\n",
       "   Number of bases Aligned  \n",
       "0               3639732500  \n",
       "1               3627151875  "
      ]
     },
     "execution_count": 18,
     "metadata": {},
     "output_type": "execute_result"
    }
   ],
   "source": [
    "f2 = '{0}{1}'.format(wkdir, 'SeqVal121.RawAlignedBaseCount.20180306.xlsx')\n",
    "df2 = pd.read_excel(f2, sheetname='raw.out').dropna()\n",
    "df2.head(2)"
   ]
  },
  {
   "cell_type": "code",
   "execution_count": 20,
   "metadata": {},
   "outputs": [
    {
     "data": {
      "text/plain": [
       "Index(['Pool', 'Library', 'Run ID', 'Raw Reads', 'Aligned Reads',\n",
       "       'Raw Bases Sequenced', 'Number of bases Aligned'],\n",
       "      dtype='object')"
      ]
     },
     "execution_count": 20,
     "metadata": {},
     "output_type": "execute_result"
    }
   ],
   "source": [
    "df2.columns"
   ]
  },
  {
   "cell_type": "code",
   "execution_count": 26,
   "metadata": {},
   "outputs": [
    {
     "data": {
      "text/html": [
       "<div>\n",
       "<style>\n",
       "    .dataframe thead tr:only-child th {\n",
       "        text-align: right;\n",
       "    }\n",
       "\n",
       "    .dataframe thead th {\n",
       "        text-align: left;\n",
       "    }\n",
       "\n",
       "    .dataframe tbody tr th {\n",
       "        vertical-align: top;\n",
       "    }\n",
       "</style>\n",
       "<table border=\"1\" class=\"dataframe\">\n",
       "  <thead>\n",
       "    <tr style=\"text-align: right;\">\n",
       "      <th></th>\n",
       "      <th>Raw Bases Sequenced</th>\n",
       "      <th>Number of bases Aligned</th>\n",
       "    </tr>\n",
       "    <tr>\n",
       "      <th>Library</th>\n",
       "      <th></th>\n",
       "      <th></th>\n",
       "    </tr>\n",
       "  </thead>\n",
       "  <tbody>\n",
       "    <tr>\n",
       "      <th>A78670</th>\n",
       "      <td>10889102000</td>\n",
       "      <td>10880776000</td>\n",
       "    </tr>\n",
       "    <tr>\n",
       "      <th>A78671</th>\n",
       "      <td>7309201250</td>\n",
       "      <td>7304921375</td>\n",
       "    </tr>\n",
       "  </tbody>\n",
       "</table>\n",
       "</div>"
      ],
      "text/plain": [
       "         Raw Bases Sequenced  Number of bases Aligned\n",
       "Library                                              \n",
       "A78670           10889102000              10880776000\n",
       "A78671            7309201250               7304921375"
      ]
     },
     "execution_count": 26,
     "metadata": {},
     "output_type": "execute_result"
    }
   ],
   "source": [
    "df3 = df2.groupby('Library').agg({'Raw Bases Sequenced':sum, 'Number of bases Aligned':sum})\n",
    "df3.head(2)"
   ]
  },
  {
   "cell_type": "code",
   "execution_count": 28,
   "metadata": {
    "collapsed": true
   },
   "outputs": [],
   "source": [
    "df_bases = df3/1000000000"
   ]
  },
  {
   "cell_type": "code",
   "execution_count": 32,
   "metadata": {},
   "outputs": [
    {
     "data": {
      "text/html": [
       "<div>\n",
       "<style>\n",
       "    .dataframe thead tr:only-child th {\n",
       "        text-align: right;\n",
       "    }\n",
       "\n",
       "    .dataframe thead th {\n",
       "        text-align: left;\n",
       "    }\n",
       "\n",
       "    .dataframe tbody tr th {\n",
       "        vertical-align: top;\n",
       "    }\n",
       "</style>\n",
       "<table border=\"1\" class=\"dataframe\">\n",
       "  <thead>\n",
       "    <tr style=\"text-align: right;\">\n",
       "      <th></th>\n",
       "      <th>fold coverage (incl. duplicate reads)</th>\n",
       "      <th>% of reads on target (from total reads)</th>\n",
       "      <th>% of reads off target (from total reads)</th>\n",
       "      <th>Raw Bases Sequenced</th>\n",
       "      <th>Number of bases Aligned</th>\n",
       "    </tr>\n",
       "    <tr>\n",
       "      <th>library</th>\n",
       "      <th></th>\n",
       "      <th></th>\n",
       "      <th></th>\n",
       "      <th></th>\n",
       "      <th></th>\n",
       "    </tr>\n",
       "  </thead>\n",
       "  <tbody>\n",
       "    <tr>\n",
       "      <th>A78670</th>\n",
       "      <td>724.0</td>\n",
       "      <td>0.617571</td>\n",
       "      <td>0.382429</td>\n",
       "      <td>10.889102</td>\n",
       "      <td>10.880776</td>\n",
       "    </tr>\n",
       "    <tr>\n",
       "      <th>A78671</th>\n",
       "      <td>490.0</td>\n",
       "      <td>0.620799</td>\n",
       "      <td>0.379201</td>\n",
       "      <td>7.309201</td>\n",
       "      <td>7.304921</td>\n",
       "    </tr>\n",
       "  </tbody>\n",
       "</table>\n",
       "</div>"
      ],
      "text/plain": [
       "         fold coverage (incl. duplicate reads)  \\\n",
       "library                                          \n",
       "A78670                                   724.0   \n",
       "A78671                                   490.0   \n",
       "\n",
       "         % of reads on target (from total reads)  \\\n",
       "library                                            \n",
       "A78670                                  0.617571   \n",
       "A78671                                  0.620799   \n",
       "\n",
       "         % of reads off target (from total reads)  Raw Bases Sequenced  \\\n",
       "library                                                                  \n",
       "A78670                                   0.382429            10.889102   \n",
       "A78671                                   0.379201             7.309201   \n",
       "\n",
       "         Number of bases Aligned  \n",
       "library                           \n",
       "A78670                 10.880776  \n",
       "A78671                  7.304921  "
      ]
     },
     "execution_count": 32,
     "metadata": {},
     "output_type": "execute_result"
    }
   ],
   "source": [
    "dfm1 = pd.merge(df_cov, df_bases, left_index=True, right_index=True)\n",
    "dfm1.head(2)"
   ]
  },
  {
   "cell_type": "code",
   "execution_count": 34,
   "metadata": {},
   "outputs": [
    {
     "data": {
      "text/html": [
       "<div>\n",
       "<style>\n",
       "    .dataframe thead tr:only-child th {\n",
       "        text-align: right;\n",
       "    }\n",
       "\n",
       "    .dataframe thead th {\n",
       "        text-align: left;\n",
       "    }\n",
       "\n",
       "    .dataframe tbody tr th {\n",
       "        vertical-align: top;\n",
       "    }\n",
       "</style>\n",
       "<table border=\"1\" class=\"dataframe\">\n",
       "  <thead>\n",
       "    <tr style=\"text-align: right;\">\n",
       "      <th></th>\n",
       "      <th>file</th>\n",
       "    </tr>\n",
       "  </thead>\n",
       "  <tbody>\n",
       "    <tr>\n",
       "      <th>0</th>\n",
       "      <td>A78670.dOutput_parsed.tsv</td>\n",
       "    </tr>\n",
       "    <tr>\n",
       "      <th>1</th>\n",
       "      <td>A78671.dOutput_parsed.tsv</td>\n",
       "    </tr>\n",
       "  </tbody>\n",
       "</table>\n",
       "</div>"
      ],
      "text/plain": [
       "                        file\n",
       "0  A78670.dOutput_parsed.tsv\n",
       "1  A78671.dOutput_parsed.tsv"
      ]
     },
     "execution_count": 34,
     "metadata": {},
     "output_type": "execute_result"
    }
   ],
   "source": [
    "f4 = '{0}{1}'.format(wkdir, 'probe_cov_files.txt')\n",
    "df4 =  pd.read_csv(f4, header=None)\n",
    "df4.columns = ['file']\n",
    "df4.head(2)"
   ]
  },
  {
   "cell_type": "code",
   "execution_count": 44,
   "metadata": {
    "collapsed": true
   },
   "outputs": [],
   "source": [
    "def get_ocov_bases(df4):\n",
    "    lst = []\n",
    "    for idx, f in df4.iterrows():\n",
    "        file = f['file']\n",
    "        lib = file.split('.')[0]\n",
    "        df = pd.read_csv('{0}{1}'.format(wkdir, file), sep='\\t')\n",
    "        bases_w_ocov = df.loc[0,'Number of Bases With This Coverage (Or More) (Not Genomically Unique)']\n",
    "        lst.append([lib, bases_w_ocov])\n",
    "    dff = pd.DataFrame(lst)\n",
    "    dff.columns = ['library', 'bases_w_ocoverage']\n",
    "    dff = dff.set_index('library', drop=True)\n",
    "    return dff"
   ]
  },
  {
   "cell_type": "code",
   "execution_count": 45,
   "metadata": {
    "collapsed": true
   },
   "outputs": [],
   "source": [
    "dff = get_ocov_bases(df4)"
   ]
  },
  {
   "cell_type": "code",
   "execution_count": 47,
   "metadata": {},
   "outputs": [
    {
     "data": {
      "text/html": [
       "<div>\n",
       "<style>\n",
       "    .dataframe thead tr:only-child th {\n",
       "        text-align: right;\n",
       "    }\n",
       "\n",
       "    .dataframe thead th {\n",
       "        text-align: left;\n",
       "    }\n",
       "\n",
       "    .dataframe tbody tr th {\n",
       "        vertical-align: top;\n",
       "    }\n",
       "</style>\n",
       "<table border=\"1\" class=\"dataframe\">\n",
       "  <thead>\n",
       "    <tr style=\"text-align: right;\">\n",
       "      <th></th>\n",
       "      <th>bases_w_ocoverage</th>\n",
       "    </tr>\n",
       "    <tr>\n",
       "      <th>library</th>\n",
       "      <th></th>\n",
       "    </tr>\n",
       "  </thead>\n",
       "  <tbody>\n",
       "    <tr>\n",
       "      <th>A78670</th>\n",
       "      <td>13358</td>\n",
       "    </tr>\n",
       "    <tr>\n",
       "      <th>A78671</th>\n",
       "      <td>18635</td>\n",
       "    </tr>\n",
       "  </tbody>\n",
       "</table>\n",
       "</div>"
      ],
      "text/plain": [
       "         bases_w_ocoverage\n",
       "library                   \n",
       "A78670               13358\n",
       "A78671               18635"
      ]
     },
     "execution_count": 47,
     "metadata": {},
     "output_type": "execute_result"
    }
   ],
   "source": [
    "dff.head(2)"
   ]
  },
  {
   "cell_type": "code",
   "execution_count": 48,
   "metadata": {
    "collapsed": true
   },
   "outputs": [],
   "source": [
    "dfm2 = pd.merge(dfm1, dff, left_index=True, right_index=True)"
   ]
  },
  {
   "cell_type": "code",
   "execution_count": 51,
   "metadata": {
    "collapsed": true
   },
   "outputs": [],
   "source": [
    "dfm2 = dfm2.sort_index()"
   ]
  },
  {
   "cell_type": "code",
   "execution_count": 53,
   "metadata": {
    "collapsed": true
   },
   "outputs": [],
   "source": [
    "of = '{0}{1}'.format(wkdir, 'qc.txt')\n",
    "dfm2.to_csv(of, sep='\\t')"
   ]
  }
 ],
 "metadata": {
  "kernelspec": {
   "display_name": "Python 3",
   "language": "python",
   "name": "python3"
  },
  "language_info": {
   "codemirror_mode": {
    "name": "ipython",
    "version": 3
   },
   "file_extension": ".py",
   "mimetype": "text/x-python",
   "name": "python",
   "nbconvert_exporter": "python",
   "pygments_lexer": "ipython3",
   "version": "3.6.2"
  }
 },
 "nbformat": 4,
 "nbformat_minor": 2
}
