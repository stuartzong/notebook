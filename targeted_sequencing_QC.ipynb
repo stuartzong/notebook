{
 "cells": [
  {
   "cell_type": "code",
   "execution_count": 38,
   "metadata": {},
   "outputs": [],
   "source": [
    "import pandas as pd\n",
    "import numpy as np\n",
    "import string as s\n",
    "import seaborn as sns\n",
    "from shutil import copyfile\n",
    "import math\n",
    "# import tables\n",
    "import matplotlib\n",
    "import matplotlib.pyplot as plt\n",
    "from itertools import groupby\n",
    "import scipy.stats as stats\n",
    "from scipy.ndimage.interpolation import shift\n",
    "# matplotlib.style.use('ggplot')\n",
    "# %matplotlib inline\n",
    "matplotlib.rcParams['figure.figsize'] = (12, 6)\n",
    "# matplotlib.rcParams['figure.facecolor'] = 'white'\n"
   ]
  },
  {
   "cell_type": "markdown",
   "metadata": {},
   "source": [
    "targeted sequencing QC"
   ]
  },
  {
   "cell_type": "code",
   "execution_count": 2,
   "metadata": {},
   "outputs": [],
   "source": [
    "wkdir = '/home/szong/projects/QC/targeted_seq/BLGSP/'"
   ]
  },
  {
   "cell_type": "code",
   "execution_count": 4,
   "metadata": {
    "scrolled": true
   },
   "outputs": [
    {
     "data": {
      "text/html": [
       "<div>\n",
       "<style>\n",
       "    .dataframe thead tr:only-child th {\n",
       "        text-align: right;\n",
       "    }\n",
       "\n",
       "    .dataframe thead th {\n",
       "        text-align: left;\n",
       "    }\n",
       "\n",
       "    .dataframe tbody tr th {\n",
       "        vertical-align: top;\n",
       "    }\n",
       "</style>\n",
       "<table border=\"1\" class=\"dataframe\">\n",
       "  <thead>\n",
       "    <tr style=\"text-align: right;\">\n",
       "      <th></th>\n",
       "      <th>pool library</th>\n",
       "      <th>library</th>\n",
       "      <th>sample_id</th>\n",
       "      <th>index</th>\n",
       "      <th># of on-target reads</th>\n",
       "      <th># of off-target reads</th>\n",
       "      <th>% of reads on target (from total reads)</th>\n",
       "      <th>% of reads off target (from total reads)</th>\n",
       "      <th>fold coverage (incl. duplicate reads)</th>\n",
       "    </tr>\n",
       "  </thead>\n",
       "  <tbody>\n",
       "    <tr>\n",
       "      <th>0</th>\n",
       "      <td>IX6039.CC47LANXX_1.1stLane</td>\n",
       "      <td>A78672</td>\n",
       "      <td>BLGSP-71-19-00106</td>\n",
       "      <td>CCAGCA</td>\n",
       "      <td>5358375.0</td>\n",
       "      <td>3674778.0</td>\n",
       "      <td>0.593190</td>\n",
       "      <td>0.406810</td>\n",
       "      <td>138.0</td>\n",
       "    </tr>\n",
       "    <tr>\n",
       "      <th>1</th>\n",
       "      <td>IX6039.CC47LANXX_1.1stLane</td>\n",
       "      <td>A78675</td>\n",
       "      <td>BLGSP-71-19-00114</td>\n",
       "      <td>TACAAG</td>\n",
       "      <td>8695613.0</td>\n",
       "      <td>5051912.0</td>\n",
       "      <td>0.632522</td>\n",
       "      <td>0.367478</td>\n",
       "      <td>225.0</td>\n",
       "    </tr>\n",
       "  </tbody>\n",
       "</table>\n",
       "</div>"
      ],
      "text/plain": [
       "                 pool library library          sample_id   index  \\\n",
       "0  IX6039.CC47LANXX_1.1stLane  A78672  BLGSP-71-19-00106  CCAGCA   \n",
       "1  IX6039.CC47LANXX_1.1stLane  A78675  BLGSP-71-19-00114  TACAAG   \n",
       "\n",
       "   # of on-target reads  # of off-target reads  \\\n",
       "0             5358375.0              3674778.0   \n",
       "1             8695613.0              5051912.0   \n",
       "\n",
       "   % of reads on target (from total reads)  \\\n",
       "0                                 0.593190   \n",
       "1                                 0.632522   \n",
       "\n",
       "   % of reads off target (from total reads)  \\\n",
       "0                                  0.406810   \n",
       "1                                  0.367478   \n",
       "\n",
       "   fold coverage (incl. duplicate reads)  \n",
       "0                                  138.0  \n",
       "1                                  225.0  "
      ]
     },
     "execution_count": 4,
     "metadata": {},
     "output_type": "execute_result"
    }
   ],
   "source": [
    "# f1 = '{0}{1}'.format(wkdir, 'NCI_capture_of_BLGSP_samples_level_2_QC_results_9_runs.xls')\n",
    "f1 = '{0}{1}'.format(wkdir, 'NCI_capture_of_BLGSP_samples_level_2_QC_results_11_runs_2018_04_09.xls')\n",
    "df1 = pd.read_excel(f1, sheetname='result').dropna()\n",
    "df1.head(2)"
   ]
  },
  {
   "cell_type": "code",
   "execution_count": 5,
   "metadata": {},
   "outputs": [
    {
     "data": {
      "text/plain": [
       "Index(['pool library', 'library', 'sample_id', 'index', '# of on-target reads',\n",
       "       '# of off-target reads', '% of reads on target (from total reads)',\n",
       "       '% of reads off target (from total reads)',\n",
       "       'fold coverage (incl. duplicate reads)'],\n",
       "      dtype='object')"
      ]
     },
     "execution_count": 5,
     "metadata": {},
     "output_type": "execute_result"
    }
   ],
   "source": [
    "df1.columns"
   ]
  },
  {
   "cell_type": "code",
   "execution_count": 6,
   "metadata": {
    "collapsed": true
   },
   "outputs": [],
   "source": [
    "df_cov = df1.groupby('library').agg({'fold coverage (incl. duplicate reads)':sum,\\\n",
    "                            '% of reads on target (from total reads)':'mean',\\\n",
    "                            '% of reads off target (from total reads)': 'mean'})"
   ]
  },
  {
   "cell_type": "code",
   "execution_count": 7,
   "metadata": {},
   "outputs": [
    {
     "data": {
      "text/html": [
       "<div>\n",
       "<style>\n",
       "    .dataframe thead tr:only-child th {\n",
       "        text-align: right;\n",
       "    }\n",
       "\n",
       "    .dataframe thead th {\n",
       "        text-align: left;\n",
       "    }\n",
       "\n",
       "    .dataframe tbody tr th {\n",
       "        vertical-align: top;\n",
       "    }\n",
       "</style>\n",
       "<table border=\"1\" class=\"dataframe\">\n",
       "  <thead>\n",
       "    <tr style=\"text-align: right;\">\n",
       "      <th></th>\n",
       "      <th>fold coverage (incl. duplicate reads)</th>\n",
       "      <th>% of reads on target (from total reads)</th>\n",
       "      <th>% of reads off target (from total reads)</th>\n",
       "    </tr>\n",
       "    <tr>\n",
       "      <th>library</th>\n",
       "      <th></th>\n",
       "      <th></th>\n",
       "      <th></th>\n",
       "    </tr>\n",
       "  </thead>\n",
       "  <tbody>\n",
       "    <tr>\n",
       "      <th>A78670</th>\n",
       "      <td>724.0</td>\n",
       "      <td>0.617571</td>\n",
       "      <td>0.382429</td>\n",
       "    </tr>\n",
       "    <tr>\n",
       "      <th>A78671</th>\n",
       "      <td>490.0</td>\n",
       "      <td>0.620799</td>\n",
       "      <td>0.379201</td>\n",
       "    </tr>\n",
       "  </tbody>\n",
       "</table>\n",
       "</div>"
      ],
      "text/plain": [
       "         fold coverage (incl. duplicate reads)  \\\n",
       "library                                          \n",
       "A78670                                   724.0   \n",
       "A78671                                   490.0   \n",
       "\n",
       "         % of reads on target (from total reads)  \\\n",
       "library                                            \n",
       "A78670                                  0.617571   \n",
       "A78671                                  0.620799   \n",
       "\n",
       "         % of reads off target (from total reads)  \n",
       "library                                            \n",
       "A78670                                   0.382429  \n",
       "A78671                                   0.379201  "
      ]
     },
     "execution_count": 7,
     "metadata": {},
     "output_type": "execute_result"
    }
   ],
   "source": [
    "df_cov.head(2)"
   ]
  },
  {
   "cell_type": "code",
   "execution_count": 8,
   "metadata": {},
   "outputs": [
    {
     "data": {
      "text/plain": [
       "(76, 3)"
      ]
     },
     "execution_count": 8,
     "metadata": {},
     "output_type": "execute_result"
    }
   ],
   "source": [
    "df_cov.shape"
   ]
  },
  {
   "cell_type": "code",
   "execution_count": 9,
   "metadata": {
    "scrolled": false
   },
   "outputs": [
    {
     "data": {
      "text/plain": [
       "Index(['A78670', 'A78671', 'A78672', 'A78673', 'A78674', 'A78675', 'A78676',\n",
       "       'A78677', 'A78678', 'A78679', 'A78682', 'A78683', 'A78686', 'A78691',\n",
       "       'A82260', 'A82261', 'A82262', 'A82263', 'A82264', 'A82265', 'A82266',\n",
       "       'A82267', 'A82268', 'A82269', 'A82270', 'A82271', 'A82272', 'A82273',\n",
       "       'A82274', 'A82275', 'A82276', 'A82277', 'A82278', 'A82279', 'A82280',\n",
       "       'A82281', 'A82282', 'A82283', 'A82284', 'A82285', 'A82286', 'A82287',\n",
       "       'A82288', 'A82289', 'A85121', 'A85122', 'A85123', 'A85124', 'A85125',\n",
       "       'A85126', 'A85127', 'A85128', 'A85129', 'A85130', 'A85131', 'A85132',\n",
       "       'A85133', 'A85134', 'A85135', 'A85184', 'A85185', 'A87321', 'A87322',\n",
       "       'A87323', 'A87324', 'A87325', 'A87326', 'A87327', 'A87328', 'A87329',\n",
       "       'A87330', 'A88446', 'A88447', 'A88448', 'A88449', 'A88450'],\n",
       "      dtype='object', name='library')"
      ]
     },
     "execution_count": 9,
     "metadata": {},
     "output_type": "execute_result"
    }
   ],
   "source": [
    "df_cov.index"
   ]
  },
  {
   "cell_type": "code",
   "execution_count": 10,
   "metadata": {},
   "outputs": [
    {
     "data": {
      "text/html": [
       "<div>\n",
       "<style>\n",
       "    .dataframe thead tr:only-child th {\n",
       "        text-align: right;\n",
       "    }\n",
       "\n",
       "    .dataframe thead th {\n",
       "        text-align: left;\n",
       "    }\n",
       "\n",
       "    .dataframe tbody tr th {\n",
       "        vertical-align: top;\n",
       "    }\n",
       "</style>\n",
       "<table border=\"1\" class=\"dataframe\">\n",
       "  <thead>\n",
       "    <tr style=\"text-align: right;\">\n",
       "      <th></th>\n",
       "      <th>Pool</th>\n",
       "      <th>Library</th>\n",
       "      <th>Run ID</th>\n",
       "      <th>Raw Reads</th>\n",
       "      <th>Aligned Reads</th>\n",
       "      <th>Raw Bases Sequenced</th>\n",
       "      <th>Number of bases Aligned</th>\n",
       "    </tr>\n",
       "  </thead>\n",
       "  <tbody>\n",
       "    <tr>\n",
       "      <th>0</th>\n",
       "      <td>IX6191</td>\n",
       "      <td>A88446</td>\n",
       "      <td>run224097</td>\n",
       "      <td>43140955</td>\n",
       "      <td>43091101</td>\n",
       "      <td>5392619375</td>\n",
       "      <td>5386387625</td>\n",
       "    </tr>\n",
       "    <tr>\n",
       "      <th>1</th>\n",
       "      <td>IX6191</td>\n",
       "      <td>A88450</td>\n",
       "      <td>run224097</td>\n",
       "      <td>50147691</td>\n",
       "      <td>49891003</td>\n",
       "      <td>6268461375</td>\n",
       "      <td>6236375375</td>\n",
       "    </tr>\n",
       "  </tbody>\n",
       "</table>\n",
       "</div>"
      ],
      "text/plain": [
       "     Pool Library     Run ID  Raw Reads  Aligned Reads  Raw Bases Sequenced  \\\n",
       "0  IX6191  A88446  run224097   43140955       43091101           5392619375   \n",
       "1  IX6191  A88450  run224097   50147691       49891003           6268461375   \n",
       "\n",
       "   Number of bases Aligned  \n",
       "0               5386387625  \n",
       "1               6236375375  "
      ]
     },
     "execution_count": 10,
     "metadata": {},
     "output_type": "execute_result"
    }
   ],
   "source": [
    "# f2 = '{0}{1}'.format(wkdir, 'SeqVal121.RawAlignedBaseCount.20180306.xlsx')\n",
    "f2 = '{0}{1}'.format(wkdir, 'SeqVal121.RawAlignedBaseCount-IX6191.20180507.xlsx')\n",
    "df2 = pd.read_excel(f2, sheetname='raw.out.IX6191').dropna()\n",
    "df2.head(2)"
   ]
  },
  {
   "cell_type": "code",
   "execution_count": 11,
   "metadata": {},
   "outputs": [
    {
     "data": {
      "text/plain": [
       "Index(['Pool', 'Library', 'Run ID', 'Raw Reads', 'Aligned Reads',\n",
       "       'Raw Bases Sequenced', 'Number of bases Aligned'],\n",
       "      dtype='object')"
      ]
     },
     "execution_count": 11,
     "metadata": {},
     "output_type": "execute_result"
    }
   ],
   "source": [
    "df2.columns"
   ]
  },
  {
   "cell_type": "code",
   "execution_count": 12,
   "metadata": {},
   "outputs": [
    {
     "data": {
      "text/html": [
       "<div>\n",
       "<style>\n",
       "    .dataframe thead tr:only-child th {\n",
       "        text-align: right;\n",
       "    }\n",
       "\n",
       "    .dataframe thead th {\n",
       "        text-align: left;\n",
       "    }\n",
       "\n",
       "    .dataframe tbody tr th {\n",
       "        vertical-align: top;\n",
       "    }\n",
       "</style>\n",
       "<table border=\"1\" class=\"dataframe\">\n",
       "  <thead>\n",
       "    <tr style=\"text-align: right;\">\n",
       "      <th></th>\n",
       "      <th>Raw Bases Sequenced</th>\n",
       "      <th>Number of bases Aligned</th>\n",
       "    </tr>\n",
       "    <tr>\n",
       "      <th>Library</th>\n",
       "      <th></th>\n",
       "      <th></th>\n",
       "    </tr>\n",
       "  </thead>\n",
       "  <tbody>\n",
       "    <tr>\n",
       "      <th>A87321</th>\n",
       "      <td>10649838250</td>\n",
       "      <td>10636656625</td>\n",
       "    </tr>\n",
       "    <tr>\n",
       "      <th>A87322</th>\n",
       "      <td>9193753875</td>\n",
       "      <td>9122026625</td>\n",
       "    </tr>\n",
       "  </tbody>\n",
       "</table>\n",
       "</div>"
      ],
      "text/plain": [
       "         Raw Bases Sequenced  Number of bases Aligned\n",
       "Library                                              \n",
       "A87321           10649838250              10636656625\n",
       "A87322            9193753875               9122026625"
      ]
     },
     "execution_count": 12,
     "metadata": {},
     "output_type": "execute_result"
    }
   ],
   "source": [
    "df3 = df2.groupby('Library').agg({'Raw Bases Sequenced':sum, 'Number of bases Aligned':sum})\n",
    "df3.head(2)"
   ]
  },
  {
   "cell_type": "code",
   "execution_count": 13,
   "metadata": {
    "collapsed": true
   },
   "outputs": [],
   "source": [
    "df_bases = df3/1e9"
   ]
  },
  {
   "cell_type": "code",
   "execution_count": 14,
   "metadata": {},
   "outputs": [
    {
     "data": {
      "text/html": [
       "<div>\n",
       "<style>\n",
       "    .dataframe thead tr:only-child th {\n",
       "        text-align: right;\n",
       "    }\n",
       "\n",
       "    .dataframe thead th {\n",
       "        text-align: left;\n",
       "    }\n",
       "\n",
       "    .dataframe tbody tr th {\n",
       "        vertical-align: top;\n",
       "    }\n",
       "</style>\n",
       "<table border=\"1\" class=\"dataframe\">\n",
       "  <thead>\n",
       "    <tr style=\"text-align: right;\">\n",
       "      <th></th>\n",
       "      <th>fold coverage (incl. duplicate reads)</th>\n",
       "      <th>% of reads on target (from total reads)</th>\n",
       "      <th>% of reads off target (from total reads)</th>\n",
       "      <th>Raw Bases Sequenced</th>\n",
       "      <th>Number of bases Aligned</th>\n",
       "    </tr>\n",
       "  </thead>\n",
       "  <tbody>\n",
       "    <tr>\n",
       "      <th>A87321</th>\n",
       "      <td>590.0</td>\n",
       "      <td>0.505099</td>\n",
       "      <td>0.494901</td>\n",
       "      <td>10.649838</td>\n",
       "      <td>10.636657</td>\n",
       "    </tr>\n",
       "    <tr>\n",
       "      <th>A87322</th>\n",
       "      <td>549.0</td>\n",
       "      <td>0.550941</td>\n",
       "      <td>0.449059</td>\n",
       "      <td>9.193754</td>\n",
       "      <td>9.122027</td>\n",
       "    </tr>\n",
       "  </tbody>\n",
       "</table>\n",
       "</div>"
      ],
      "text/plain": [
       "        fold coverage (incl. duplicate reads)  \\\n",
       "A87321                                  590.0   \n",
       "A87322                                  549.0   \n",
       "\n",
       "        % of reads on target (from total reads)  \\\n",
       "A87321                                 0.505099   \n",
       "A87322                                 0.550941   \n",
       "\n",
       "        % of reads off target (from total reads)  Raw Bases Sequenced  \\\n",
       "A87321                                  0.494901            10.649838   \n",
       "A87322                                  0.449059             9.193754   \n",
       "\n",
       "        Number of bases Aligned  \n",
       "A87321                10.636657  \n",
       "A87322                 9.122027  "
      ]
     },
     "execution_count": 14,
     "metadata": {},
     "output_type": "execute_result"
    }
   ],
   "source": [
    "dfm1 = pd.merge(df_cov, df_bases, left_index=True, right_index=True)\n",
    "dfm1.head(2)"
   ]
  },
  {
   "cell_type": "code",
   "execution_count": 27,
   "metadata": {},
   "outputs": [
    {
     "data": {
      "text/html": [
       "<div>\n",
       "<style>\n",
       "    .dataframe thead tr:only-child th {\n",
       "        text-align: right;\n",
       "    }\n",
       "\n",
       "    .dataframe thead th {\n",
       "        text-align: left;\n",
       "    }\n",
       "\n",
       "    .dataframe tbody tr th {\n",
       "        vertical-align: top;\n",
       "    }\n",
       "</style>\n",
       "<table border=\"1\" class=\"dataframe\">\n",
       "  <thead>\n",
       "    <tr style=\"text-align: right;\">\n",
       "      <th></th>\n",
       "      <th>fold coverage (incl. duplicate reads)</th>\n",
       "      <th>% of reads on target (from total reads)</th>\n",
       "      <th>% of reads off target (from total reads)</th>\n",
       "      <th>Raw Bases Sequenced</th>\n",
       "      <th>Number of bases Aligned</th>\n",
       "    </tr>\n",
       "  </thead>\n",
       "  <tbody>\n",
       "    <tr>\n",
       "      <th>A87321</th>\n",
       "      <td>590.0</td>\n",
       "      <td>0.505099</td>\n",
       "      <td>0.494901</td>\n",
       "      <td>10.649838</td>\n",
       "      <td>10.636657</td>\n",
       "    </tr>\n",
       "    <tr>\n",
       "      <th>A87322</th>\n",
       "      <td>549.0</td>\n",
       "      <td>0.550941</td>\n",
       "      <td>0.449059</td>\n",
       "      <td>9.193754</td>\n",
       "      <td>9.122027</td>\n",
       "    </tr>\n",
       "    <tr>\n",
       "      <th>A87323</th>\n",
       "      <td>603.0</td>\n",
       "      <td>0.512159</td>\n",
       "      <td>0.487841</td>\n",
       "      <td>10.748379</td>\n",
       "      <td>10.735394</td>\n",
       "    </tr>\n",
       "    <tr>\n",
       "      <th>A87324</th>\n",
       "      <td>476.0</td>\n",
       "      <td>0.560508</td>\n",
       "      <td>0.439492</td>\n",
       "      <td>7.848406</td>\n",
       "      <td>7.796502</td>\n",
       "    </tr>\n",
       "    <tr>\n",
       "      <th>A87325</th>\n",
       "      <td>549.0</td>\n",
       "      <td>0.512200</td>\n",
       "      <td>0.487800</td>\n",
       "      <td>9.753617</td>\n",
       "      <td>9.741567</td>\n",
       "    </tr>\n",
       "    <tr>\n",
       "      <th>A87326</th>\n",
       "      <td>551.0</td>\n",
       "      <td>0.588321</td>\n",
       "      <td>0.411679</td>\n",
       "      <td>8.625918</td>\n",
       "      <td>8.617134</td>\n",
       "    </tr>\n",
       "    <tr>\n",
       "      <th>A87327</th>\n",
       "      <td>748.0</td>\n",
       "      <td>0.494742</td>\n",
       "      <td>0.505258</td>\n",
       "      <td>13.786407</td>\n",
       "      <td>13.769868</td>\n",
       "    </tr>\n",
       "    <tr>\n",
       "      <th>A87328</th>\n",
       "      <td>617.0</td>\n",
       "      <td>0.573535</td>\n",
       "      <td>0.426465</td>\n",
       "      <td>9.807973</td>\n",
       "      <td>9.796177</td>\n",
       "    </tr>\n",
       "    <tr>\n",
       "      <th>A87329</th>\n",
       "      <td>644.0</td>\n",
       "      <td>0.583527</td>\n",
       "      <td>0.416473</td>\n",
       "      <td>10.081224</td>\n",
       "      <td>10.069572</td>\n",
       "    </tr>\n",
       "    <tr>\n",
       "      <th>A87330</th>\n",
       "      <td>567.0</td>\n",
       "      <td>0.565608</td>\n",
       "      <td>0.434391</td>\n",
       "      <td>9.128201</td>\n",
       "      <td>9.117313</td>\n",
       "    </tr>\n",
       "    <tr>\n",
       "      <th>A88446</th>\n",
       "      <td>694.0</td>\n",
       "      <td>0.587763</td>\n",
       "      <td>0.412237</td>\n",
       "      <td>10.764322</td>\n",
       "      <td>10.751961</td>\n",
       "    </tr>\n",
       "    <tr>\n",
       "      <th>A88447</th>\n",
       "      <td>611.0</td>\n",
       "      <td>0.545629</td>\n",
       "      <td>0.454371</td>\n",
       "      <td>10.220318</td>\n",
       "      <td>10.208374</td>\n",
       "    </tr>\n",
       "    <tr>\n",
       "      <th>A88448</th>\n",
       "      <td>659.0</td>\n",
       "      <td>0.557315</td>\n",
       "      <td>0.442686</td>\n",
       "      <td>10.782771</td>\n",
       "      <td>10.770589</td>\n",
       "    </tr>\n",
       "    <tr>\n",
       "      <th>A88449</th>\n",
       "      <td>613.0</td>\n",
       "      <td>0.420345</td>\n",
       "      <td>0.579655</td>\n",
       "      <td>13.297104</td>\n",
       "      <td>13.271744</td>\n",
       "    </tr>\n",
       "    <tr>\n",
       "      <th>A88450</th>\n",
       "      <td>634.0</td>\n",
       "      <td>0.462468</td>\n",
       "      <td>0.537532</td>\n",
       "      <td>12.515835</td>\n",
       "      <td>12.451635</td>\n",
       "    </tr>\n",
       "  </tbody>\n",
       "</table>\n",
       "</div>"
      ],
      "text/plain": [
       "        fold coverage (incl. duplicate reads)  \\\n",
       "A87321                                  590.0   \n",
       "A87322                                  549.0   \n",
       "A87323                                  603.0   \n",
       "A87324                                  476.0   \n",
       "A87325                                  549.0   \n",
       "A87326                                  551.0   \n",
       "A87327                                  748.0   \n",
       "A87328                                  617.0   \n",
       "A87329                                  644.0   \n",
       "A87330                                  567.0   \n",
       "A88446                                  694.0   \n",
       "A88447                                  611.0   \n",
       "A88448                                  659.0   \n",
       "A88449                                  613.0   \n",
       "A88450                                  634.0   \n",
       "\n",
       "        % of reads on target (from total reads)  \\\n",
       "A87321                                 0.505099   \n",
       "A87322                                 0.550941   \n",
       "A87323                                 0.512159   \n",
       "A87324                                 0.560508   \n",
       "A87325                                 0.512200   \n",
       "A87326                                 0.588321   \n",
       "A87327                                 0.494742   \n",
       "A87328                                 0.573535   \n",
       "A87329                                 0.583527   \n",
       "A87330                                 0.565608   \n",
       "A88446                                 0.587763   \n",
       "A88447                                 0.545629   \n",
       "A88448                                 0.557315   \n",
       "A88449                                 0.420345   \n",
       "A88450                                 0.462468   \n",
       "\n",
       "        % of reads off target (from total reads)  Raw Bases Sequenced  \\\n",
       "A87321                                  0.494901            10.649838   \n",
       "A87322                                  0.449059             9.193754   \n",
       "A87323                                  0.487841            10.748379   \n",
       "A87324                                  0.439492             7.848406   \n",
       "A87325                                  0.487800             9.753617   \n",
       "A87326                                  0.411679             8.625918   \n",
       "A87327                                  0.505258            13.786407   \n",
       "A87328                                  0.426465             9.807973   \n",
       "A87329                                  0.416473            10.081224   \n",
       "A87330                                  0.434391             9.128201   \n",
       "A88446                                  0.412237            10.764322   \n",
       "A88447                                  0.454371            10.220318   \n",
       "A88448                                  0.442686            10.782771   \n",
       "A88449                                  0.579655            13.297104   \n",
       "A88450                                  0.537532            12.515835   \n",
       "\n",
       "        Number of bases Aligned  \n",
       "A87321                10.636657  \n",
       "A87322                 9.122027  \n",
       "A87323                10.735394  \n",
       "A87324                 7.796502  \n",
       "A87325                 9.741567  \n",
       "A87326                 8.617134  \n",
       "A87327                13.769868  \n",
       "A87328                 9.796177  \n",
       "A87329                10.069572  \n",
       "A87330                 9.117313  \n",
       "A88446                10.751961  \n",
       "A88447                10.208374  \n",
       "A88448                10.770589  \n",
       "A88449                13.271744  \n",
       "A88450                12.451635  "
      ]
     },
     "execution_count": 27,
     "metadata": {},
     "output_type": "execute_result"
    }
   ],
   "source": [
    "dfm1.to_csv()"
   ]
  },
  {
   "cell_type": "markdown",
   "metadata": {},
   "source": [
    "where to get the *dOutput_parsed.tsv file?, this is the file to find the bases with 0 coverage, Kane's team make these files"
   ]
  },
  {
   "cell_type": "code",
   "execution_count": 99,
   "metadata": {},
   "outputs": [
    {
     "data": {
      "text/html": [
       "<div>\n",
       "<style scoped>\n",
       "    .dataframe tbody tr th:only-of-type {\n",
       "        vertical-align: middle;\n",
       "    }\n",
       "\n",
       "    .dataframe tbody tr th {\n",
       "        vertical-align: top;\n",
       "    }\n",
       "\n",
       "    .dataframe thead th {\n",
       "        text-align: right;\n",
       "    }\n",
       "</style>\n",
       "<table border=\"1\" class=\"dataframe\">\n",
       "  <thead>\n",
       "    <tr style=\"text-align: right;\">\n",
       "      <th></th>\n",
       "      <th>file</th>\n",
       "    </tr>\n",
       "  </thead>\n",
       "  <tbody>\n",
       "    <tr>\n",
       "      <th>0</th>\n",
       "      <td>A87321_1.paired.dup.sorted_parsed.tsv</td>\n",
       "    </tr>\n",
       "    <tr>\n",
       "      <th>1</th>\n",
       "      <td>A87322_1.paired.dup.sorted_parsed.tsv</td>\n",
       "    </tr>\n",
       "  </tbody>\n",
       "</table>\n",
       "</div>"
      ],
      "text/plain": [
       "                                    file\n",
       "0  A87321_1.paired.dup.sorted_parsed.tsv\n",
       "1  A87322_1.paired.dup.sorted_parsed.tsv"
      ]
     },
     "execution_count": 99,
     "metadata": {},
     "output_type": "execute_result"
    }
   ],
   "source": [
    "# f4 = '{0}{1}'.format(wkdir, 'probe_cov_files.txt')\n",
    "f4 = '{0}{1}'.format(wkdir,'run1_files.txt')\n",
    "df4 =  pd.read_csv(f4, header=None)\n",
    "df4.columns = ['file']\n",
    "df4.head(2)"
   ]
  },
  {
   "cell_type": "code",
   "execution_count": 100,
   "metadata": {},
   "outputs": [],
   "source": [
    "def get_ocov_bases(df4):\n",
    "    lst = []\n",
    "    for idx, f in df4.iterrows():\n",
    "        file = f['file']\n",
    "        lib = file.split('.')[0]\n",
    "        df = pd.read_csv('{0}{1}'.format(wkdir, file), sep='\\t')\n",
    "        bases_w_ocov = df.loc[0,'Number of Bases With This Coverage (Or More) (Not Genomically Unique)']\n",
    "        lst.append([lib, bases_w_ocov])\n",
    "    dff = pd.DataFrame(lst)\n",
    "    dff.columns = ['library', 'bases_w_ocoverage']\n",
    "    dff = dff.set_index('library', drop=True)\n",
    "    return dff"
   ]
  },
  {
   "cell_type": "code",
   "execution_count": 101,
   "metadata": {},
   "outputs": [],
   "source": [
    "dff = get_ocov_bases(df4).reset_index()"
   ]
  },
  {
   "cell_type": "code",
   "execution_count": 102,
   "metadata": {},
   "outputs": [
    {
     "data": {
      "text/html": [
       "<div>\n",
       "<style scoped>\n",
       "    .dataframe tbody tr th:only-of-type {\n",
       "        vertical-align: middle;\n",
       "    }\n",
       "\n",
       "    .dataframe tbody tr th {\n",
       "        vertical-align: top;\n",
       "    }\n",
       "\n",
       "    .dataframe thead th {\n",
       "        text-align: right;\n",
       "    }\n",
       "</style>\n",
       "<table border=\"1\" class=\"dataframe\">\n",
       "  <thead>\n",
       "    <tr style=\"text-align: right;\">\n",
       "      <th></th>\n",
       "      <th>library</th>\n",
       "      <th>bases_w_ocoverage</th>\n",
       "    </tr>\n",
       "  </thead>\n",
       "  <tbody>\n",
       "    <tr>\n",
       "      <th>0</th>\n",
       "      <td>A87321_1</td>\n",
       "      <td>17507</td>\n",
       "    </tr>\n",
       "    <tr>\n",
       "      <th>1</th>\n",
       "      <td>A87322_1</td>\n",
       "      <td>44099</td>\n",
       "    </tr>\n",
       "  </tbody>\n",
       "</table>\n",
       "</div>"
      ],
      "text/plain": [
       "    library  bases_w_ocoverage\n",
       "0  A87321_1              17507\n",
       "1  A87322_1              44099"
      ]
     },
     "execution_count": 102,
     "metadata": {},
     "output_type": "execute_result"
    }
   ],
   "source": [
    "dff.head(2)"
   ]
  },
  {
   "cell_type": "code",
   "execution_count": 103,
   "metadata": {},
   "outputs": [],
   "source": [
    "dff['lib'] = dff.reset_index()['library'].str.replace('_1', '')\n",
    "dff.drop('library', axis=1, inplace=True)"
   ]
  },
  {
   "cell_type": "code",
   "execution_count": 104,
   "metadata": {},
   "outputs": [
    {
     "data": {
      "text/html": [
       "<div>\n",
       "<style scoped>\n",
       "    .dataframe tbody tr th:only-of-type {\n",
       "        vertical-align: middle;\n",
       "    }\n",
       "\n",
       "    .dataframe tbody tr th {\n",
       "        vertical-align: top;\n",
       "    }\n",
       "\n",
       "    .dataframe thead th {\n",
       "        text-align: right;\n",
       "    }\n",
       "</style>\n",
       "<table border=\"1\" class=\"dataframe\">\n",
       "  <thead>\n",
       "    <tr style=\"text-align: right;\">\n",
       "      <th></th>\n",
       "      <th>bases_w_ocoverage</th>\n",
       "      <th>lib</th>\n",
       "    </tr>\n",
       "  </thead>\n",
       "  <tbody>\n",
       "    <tr>\n",
       "      <th>0</th>\n",
       "      <td>17507</td>\n",
       "      <td>A87321</td>\n",
       "    </tr>\n",
       "    <tr>\n",
       "      <th>1</th>\n",
       "      <td>44099</td>\n",
       "      <td>A87322</td>\n",
       "    </tr>\n",
       "    <tr>\n",
       "      <th>2</th>\n",
       "      <td>18024</td>\n",
       "      <td>A87323</td>\n",
       "    </tr>\n",
       "    <tr>\n",
       "      <th>3</th>\n",
       "      <td>43850</td>\n",
       "      <td>A87324</td>\n",
       "    </tr>\n",
       "    <tr>\n",
       "      <th>4</th>\n",
       "      <td>17095</td>\n",
       "      <td>A87325</td>\n",
       "    </tr>\n",
       "    <tr>\n",
       "      <th>5</th>\n",
       "      <td>49697</td>\n",
       "      <td>A87326</td>\n",
       "    </tr>\n",
       "    <tr>\n",
       "      <th>6</th>\n",
       "      <td>16523</td>\n",
       "      <td>A87327</td>\n",
       "    </tr>\n",
       "    <tr>\n",
       "      <th>7</th>\n",
       "      <td>18328</td>\n",
       "      <td>A87328</td>\n",
       "    </tr>\n",
       "    <tr>\n",
       "      <th>8</th>\n",
       "      <td>15724</td>\n",
       "      <td>A87329</td>\n",
       "    </tr>\n",
       "    <tr>\n",
       "      <th>9</th>\n",
       "      <td>18515</td>\n",
       "      <td>A87330</td>\n",
       "    </tr>\n",
       "    <tr>\n",
       "      <th>10</th>\n",
       "      <td>15696</td>\n",
       "      <td>A88446</td>\n",
       "    </tr>\n",
       "    <tr>\n",
       "      <th>11</th>\n",
       "      <td>14684</td>\n",
       "      <td>A88447</td>\n",
       "    </tr>\n",
       "    <tr>\n",
       "      <th>12</th>\n",
       "      <td>15847</td>\n",
       "      <td>A88448</td>\n",
       "    </tr>\n",
       "    <tr>\n",
       "      <th>13</th>\n",
       "      <td>16579</td>\n",
       "      <td>A88449</td>\n",
       "    </tr>\n",
       "    <tr>\n",
       "      <th>14</th>\n",
       "      <td>12824</td>\n",
       "      <td>A88450</td>\n",
       "    </tr>\n",
       "  </tbody>\n",
       "</table>\n",
       "</div>"
      ],
      "text/plain": [
       "    bases_w_ocoverage     lib\n",
       "0               17507  A87321\n",
       "1               44099  A87322\n",
       "2               18024  A87323\n",
       "3               43850  A87324\n",
       "4               17095  A87325\n",
       "5               49697  A87326\n",
       "6               16523  A87327\n",
       "7               18328  A87328\n",
       "8               15724  A87329\n",
       "9               18515  A87330\n",
       "10              15696  A88446\n",
       "11              14684  A88447\n",
       "12              15847  A88448\n",
       "13              16579  A88449\n",
       "14              12824  A88450"
      ]
     },
     "execution_count": 104,
     "metadata": {},
     "output_type": "execute_result"
    }
   ],
   "source": [
    "dff"
   ]
  },
  {
   "cell_type": "code",
   "execution_count": 98,
   "metadata": {},
   "outputs": [],
   "source": [
    "dff2 = dff.copy()"
   ]
  },
  {
   "cell_type": "code",
   "execution_count": 106,
   "metadata": {},
   "outputs": [],
   "source": [
    "dff3 = pd.merge(dff, dff2, left_on='lib', right_on='lib')"
   ]
  },
  {
   "cell_type": "code",
   "execution_count": 110,
   "metadata": {},
   "outputs": [],
   "source": [
    "dff3['0cov'] = dff3.min(axis=1)"
   ]
  },
  {
   "cell_type": "code",
   "execution_count": 114,
   "metadata": {},
   "outputs": [],
   "source": [
    "dff3.to_csv('{}zero_coverage_base_batch2.txt'.format(wkdir), sep='\\t')"
   ]
  },
  {
   "cell_type": "code",
   "execution_count": 24,
   "metadata": {},
   "outputs": [
    {
     "data": {
      "text/html": [
       "<div>\n",
       "<style>\n",
       "    .dataframe thead tr:only-child th {\n",
       "        text-align: right;\n",
       "    }\n",
       "\n",
       "    .dataframe thead th {\n",
       "        text-align: left;\n",
       "    }\n",
       "\n",
       "    .dataframe tbody tr th {\n",
       "        vertical-align: top;\n",
       "    }\n",
       "</style>\n",
       "<table border=\"1\" class=\"dataframe\">\n",
       "  <thead>\n",
       "    <tr style=\"text-align: right;\">\n",
       "      <th></th>\n",
       "      <th>fold coverage (incl. duplicate reads)</th>\n",
       "      <th>% of reads on target (from total reads)</th>\n",
       "      <th>% of reads off target (from total reads)</th>\n",
       "      <th>Raw Bases Sequenced</th>\n",
       "      <th>Number of bases Aligned</th>\n",
       "    </tr>\n",
       "  </thead>\n",
       "  <tbody>\n",
       "    <tr>\n",
       "      <th>A87321</th>\n",
       "      <td>590.0</td>\n",
       "      <td>0.505099</td>\n",
       "      <td>0.494901</td>\n",
       "      <td>10.649838</td>\n",
       "      <td>10.636657</td>\n",
       "    </tr>\n",
       "    <tr>\n",
       "      <th>A87322</th>\n",
       "      <td>549.0</td>\n",
       "      <td>0.550941</td>\n",
       "      <td>0.449059</td>\n",
       "      <td>9.193754</td>\n",
       "      <td>9.122027</td>\n",
       "    </tr>\n",
       "    <tr>\n",
       "      <th>A87323</th>\n",
       "      <td>603.0</td>\n",
       "      <td>0.512159</td>\n",
       "      <td>0.487841</td>\n",
       "      <td>10.748379</td>\n",
       "      <td>10.735394</td>\n",
       "    </tr>\n",
       "    <tr>\n",
       "      <th>A87324</th>\n",
       "      <td>476.0</td>\n",
       "      <td>0.560508</td>\n",
       "      <td>0.439492</td>\n",
       "      <td>7.848406</td>\n",
       "      <td>7.796502</td>\n",
       "    </tr>\n",
       "    <tr>\n",
       "      <th>A87325</th>\n",
       "      <td>549.0</td>\n",
       "      <td>0.512200</td>\n",
       "      <td>0.487800</td>\n",
       "      <td>9.753617</td>\n",
       "      <td>9.741567</td>\n",
       "    </tr>\n",
       "    <tr>\n",
       "      <th>A87326</th>\n",
       "      <td>551.0</td>\n",
       "      <td>0.588321</td>\n",
       "      <td>0.411679</td>\n",
       "      <td>8.625918</td>\n",
       "      <td>8.617134</td>\n",
       "    </tr>\n",
       "    <tr>\n",
       "      <th>A87327</th>\n",
       "      <td>748.0</td>\n",
       "      <td>0.494742</td>\n",
       "      <td>0.505258</td>\n",
       "      <td>13.786407</td>\n",
       "      <td>13.769868</td>\n",
       "    </tr>\n",
       "    <tr>\n",
       "      <th>A87328</th>\n",
       "      <td>617.0</td>\n",
       "      <td>0.573535</td>\n",
       "      <td>0.426465</td>\n",
       "      <td>9.807973</td>\n",
       "      <td>9.796177</td>\n",
       "    </tr>\n",
       "    <tr>\n",
       "      <th>A87329</th>\n",
       "      <td>644.0</td>\n",
       "      <td>0.583527</td>\n",
       "      <td>0.416473</td>\n",
       "      <td>10.081224</td>\n",
       "      <td>10.069572</td>\n",
       "    </tr>\n",
       "    <tr>\n",
       "      <th>A87330</th>\n",
       "      <td>567.0</td>\n",
       "      <td>0.565608</td>\n",
       "      <td>0.434391</td>\n",
       "      <td>9.128201</td>\n",
       "      <td>9.117313</td>\n",
       "    </tr>\n",
       "    <tr>\n",
       "      <th>A88446</th>\n",
       "      <td>694.0</td>\n",
       "      <td>0.587763</td>\n",
       "      <td>0.412237</td>\n",
       "      <td>10.764322</td>\n",
       "      <td>10.751961</td>\n",
       "    </tr>\n",
       "    <tr>\n",
       "      <th>A88447</th>\n",
       "      <td>611.0</td>\n",
       "      <td>0.545629</td>\n",
       "      <td>0.454371</td>\n",
       "      <td>10.220318</td>\n",
       "      <td>10.208374</td>\n",
       "    </tr>\n",
       "    <tr>\n",
       "      <th>A88448</th>\n",
       "      <td>659.0</td>\n",
       "      <td>0.557315</td>\n",
       "      <td>0.442686</td>\n",
       "      <td>10.782771</td>\n",
       "      <td>10.770589</td>\n",
       "    </tr>\n",
       "    <tr>\n",
       "      <th>A88449</th>\n",
       "      <td>613.0</td>\n",
       "      <td>0.420345</td>\n",
       "      <td>0.579655</td>\n",
       "      <td>13.297104</td>\n",
       "      <td>13.271744</td>\n",
       "    </tr>\n",
       "    <tr>\n",
       "      <th>A88450</th>\n",
       "      <td>634.0</td>\n",
       "      <td>0.462468</td>\n",
       "      <td>0.537532</td>\n",
       "      <td>12.515835</td>\n",
       "      <td>12.451635</td>\n",
       "    </tr>\n",
       "  </tbody>\n",
       "</table>\n",
       "</div>"
      ],
      "text/plain": [
       "        fold coverage (incl. duplicate reads)  \\\n",
       "A87321                                  590.0   \n",
       "A87322                                  549.0   \n",
       "A87323                                  603.0   \n",
       "A87324                                  476.0   \n",
       "A87325                                  549.0   \n",
       "A87326                                  551.0   \n",
       "A87327                                  748.0   \n",
       "A87328                                  617.0   \n",
       "A87329                                  644.0   \n",
       "A87330                                  567.0   \n",
       "A88446                                  694.0   \n",
       "A88447                                  611.0   \n",
       "A88448                                  659.0   \n",
       "A88449                                  613.0   \n",
       "A88450                                  634.0   \n",
       "\n",
       "        % of reads on target (from total reads)  \\\n",
       "A87321                                 0.505099   \n",
       "A87322                                 0.550941   \n",
       "A87323                                 0.512159   \n",
       "A87324                                 0.560508   \n",
       "A87325                                 0.512200   \n",
       "A87326                                 0.588321   \n",
       "A87327                                 0.494742   \n",
       "A87328                                 0.573535   \n",
       "A87329                                 0.583527   \n",
       "A87330                                 0.565608   \n",
       "A88446                                 0.587763   \n",
       "A88447                                 0.545629   \n",
       "A88448                                 0.557315   \n",
       "A88449                                 0.420345   \n",
       "A88450                                 0.462468   \n",
       "\n",
       "        % of reads off target (from total reads)  Raw Bases Sequenced  \\\n",
       "A87321                                  0.494901            10.649838   \n",
       "A87322                                  0.449059             9.193754   \n",
       "A87323                                  0.487841            10.748379   \n",
       "A87324                                  0.439492             7.848406   \n",
       "A87325                                  0.487800             9.753617   \n",
       "A87326                                  0.411679             8.625918   \n",
       "A87327                                  0.505258            13.786407   \n",
       "A87328                                  0.426465             9.807973   \n",
       "A87329                                  0.416473            10.081224   \n",
       "A87330                                  0.434391             9.128201   \n",
       "A88446                                  0.412237            10.764322   \n",
       "A88447                                  0.454371            10.220318   \n",
       "A88448                                  0.442686            10.782771   \n",
       "A88449                                  0.579655            13.297104   \n",
       "A88450                                  0.537532            12.515835   \n",
       "\n",
       "        Number of bases Aligned  \n",
       "A87321                10.636657  \n",
       "A87322                 9.122027  \n",
       "A87323                10.735394  \n",
       "A87324                 7.796502  \n",
       "A87325                 9.741567  \n",
       "A87326                 8.617134  \n",
       "A87327                13.769868  \n",
       "A87328                 9.796177  \n",
       "A87329                10.069572  \n",
       "A87330                 9.117313  \n",
       "A88446                10.751961  \n",
       "A88447                10.208374  \n",
       "A88448                10.770589  \n",
       "A88449                13.271744  \n",
       "A88450                12.451635  "
      ]
     },
     "execution_count": 24,
     "metadata": {},
     "output_type": "execute_result"
    }
   ],
   "source": [
    "dfm1"
   ]
  },
  {
   "cell_type": "code",
   "execution_count": 26,
   "metadata": {},
   "outputs": [
    {
     "data": {
      "text/html": [
       "<div>\n",
       "<style>\n",
       "    .dataframe thead tr:only-child th {\n",
       "        text-align: right;\n",
       "    }\n",
       "\n",
       "    .dataframe thead th {\n",
       "        text-align: left;\n",
       "    }\n",
       "\n",
       "    .dataframe tbody tr th {\n",
       "        vertical-align: top;\n",
       "    }\n",
       "</style>\n",
       "<table border=\"1\" class=\"dataframe\">\n",
       "  <thead>\n",
       "    <tr style=\"text-align: right;\">\n",
       "      <th></th>\n",
       "      <th>bases_w_ocoverage</th>\n",
       "    </tr>\n",
       "    <tr>\n",
       "      <th>library</th>\n",
       "      <th></th>\n",
       "    </tr>\n",
       "  </thead>\n",
       "  <tbody>\n",
       "    <tr>\n",
       "      <th>A78670</th>\n",
       "      <td>13358</td>\n",
       "    </tr>\n",
       "    <tr>\n",
       "      <th>A78671</th>\n",
       "      <td>18635</td>\n",
       "    </tr>\n",
       "  </tbody>\n",
       "</table>\n",
       "</div>"
      ],
      "text/plain": [
       "         bases_w_ocoverage\n",
       "library                   \n",
       "A78670               13358\n",
       "A78671               18635"
      ]
     },
     "execution_count": 26,
     "metadata": {},
     "output_type": "execute_result"
    }
   ],
   "source": [
    "dff.head(2)"
   ]
  },
  {
   "cell_type": "code",
   "execution_count": 19,
   "metadata": {
    "collapsed": true
   },
   "outputs": [],
   "source": [
    "dfm2 = pd.merge(dfm1, dff, left_index=True, right_index=True)"
   ]
  },
  {
   "cell_type": "code",
   "execution_count": 20,
   "metadata": {
    "collapsed": true
   },
   "outputs": [],
   "source": [
    "dfm2 = dfm2.sort_index()"
   ]
  },
  {
   "cell_type": "code",
   "execution_count": 28,
   "metadata": {
    "collapsed": true
   },
   "outputs": [],
   "source": [
    "of = '{0}{1}'.format(wkdir, 'qc.txt')\n",
    "dfm1.to_csv(of, sep='\\t')"
   ]
  },
  {
   "cell_type": "code",
   "execution_count": 50,
   "metadata": {},
   "outputs": [
    {
     "data": {
      "text/plain": [
       "'6.0000'"
      ]
     },
     "execution_count": 50,
     "metadata": {},
     "output_type": "execute_result"
    }
   ],
   "source": [
    "\"{0:.4f}\".format(6, 9)"
   ]
  },
  {
   "cell_type": "code",
   "execution_count": 44,
   "metadata": {
    "collapsed": true
   },
   "outputs": [],
   "source": [
    "arr = np.array([4, 5,6,7, 44, 22, 11, 16])"
   ]
  },
  {
   "cell_type": "code",
   "execution_count": 41,
   "metadata": {},
   "outputs": [
    {
     "data": {
      "text/plain": [
       "0"
      ]
     },
     "execution_count": 41,
     "metadata": {},
     "output_type": "execute_result"
    }
   ],
   "source": [
    "((arr >= 15) & (arr <= 17)).sum()"
   ]
  },
  {
   "cell_type": "code",
   "execution_count": 45,
   "metadata": {},
   "outputs": [
    {
     "data": {
      "text/plain": [
       "array([False, False, False, False, False, False, False,  True], dtype=bool)"
      ]
     },
     "execution_count": 45,
     "metadata": {},
     "output_type": "execute_result"
    }
   ],
   "source": [
    "(arr >= 15) & (arr <= 17)"
   ]
  },
  {
   "cell_type": "markdown",
   "metadata": {},
   "source": [
    "# merge targeted sequencing stats, zerocoverage bases"
   ]
  },
  {
   "cell_type": "code",
   "execution_count": 22,
   "metadata": {},
   "outputs": [
    {
     "data": {
      "text/plain": [
       "'/home/szong/projects/QC/targeted_seq/BLGSP/IX6191.indexMappingInternalOnly-run224097.txt'"
      ]
     },
     "execution_count": 22,
     "metadata": {},
     "output_type": "execute_result"
    }
   ],
   "source": [
    "wkdir = '/home/szong/projects/QC/targeted_seq/BLGSP/'\n",
    "f = '{}IX6191.indexMappingInternalOnly-run224097.txt'.format(wkdir)\n",
    "f"
   ]
  },
  {
   "cell_type": "code",
   "execution_count": 23,
   "metadata": {
    "scrolled": true
   },
   "outputs": [
    {
     "data": {
      "text/html": [
       "<div>\n",
       "<style scoped>\n",
       "    .dataframe tbody tr th:only-of-type {\n",
       "        vertical-align: middle;\n",
       "    }\n",
       "\n",
       "    .dataframe tbody tr th {\n",
       "        vertical-align: top;\n",
       "    }\n",
       "\n",
       "    .dataframe thead th {\n",
       "        text-align: right;\n",
       "    }\n",
       "</style>\n",
       "<table border=\"1\" class=\"dataframe\">\n",
       "  <thead>\n",
       "    <tr style=\"text-align: right;\">\n",
       "      <th></th>\n",
       "      <th>Sub-Library</th>\n",
       "      <th>Index</th>\n",
       "    </tr>\n",
       "  </thead>\n",
       "  <tbody>\n",
       "    <tr>\n",
       "      <th>0</th>\n",
       "      <td>A87323</td>\n",
       "      <td>AAACCT</td>\n",
       "    </tr>\n",
       "    <tr>\n",
       "      <th>1</th>\n",
       "      <td>A88450</td>\n",
       "      <td>AAGCTA</td>\n",
       "    </tr>\n",
       "  </tbody>\n",
       "</table>\n",
       "</div>"
      ],
      "text/plain": [
       "  Sub-Library   Index\n",
       "0      A87323  AAACCT\n",
       "1      A88450  AAGCTA"
      ]
     },
     "execution_count": 23,
     "metadata": {},
     "output_type": "execute_result"
    }
   ],
   "source": [
    "df = pd.read_csv(f, sep='\\t')[['Sub-Library', 'Index']]\n",
    "df.head(2)"
   ]
  },
  {
   "cell_type": "code",
   "execution_count": 45,
   "metadata": {},
   "outputs": [],
   "source": [
    "run1_files = '{}run1_stats_files.txt'.format(wkdir)\n",
    "run2_files = '{}run2_stats_files.txt'.format(wkdir)\n",
    "# qc_path = '/home/sequence/Sequencing_Validation/SVA02/SeqVal121/Bioinformatic Analysis/bedtoolsStats/IX6191-run1/'\n",
    "qc_path = '/home/sequence/Sequencing_Validation/SVA02/SeqVal121/Bioinformatic Analysis/bedtoolsStats/IX6191-run2/'"
   ]
  },
  {
   "cell_type": "code",
   "execution_count": 46,
   "metadata": {},
   "outputs": [
    {
     "data": {
      "text/html": [
       "<div>\n",
       "<style scoped>\n",
       "    .dataframe tbody tr th:only-of-type {\n",
       "        vertical-align: middle;\n",
       "    }\n",
       "\n",
       "    .dataframe tbody tr th {\n",
       "        vertical-align: top;\n",
       "    }\n",
       "\n",
       "    .dataframe thead th {\n",
       "        text-align: right;\n",
       "    }\n",
       "</style>\n",
       "<table border=\"1\" class=\"dataframe\">\n",
       "  <thead>\n",
       "    <tr style=\"text-align: right;\">\n",
       "      <th></th>\n",
       "      <th>0</th>\n",
       "      <th>1</th>\n",
       "    </tr>\n",
       "  </thead>\n",
       "  <tbody>\n",
       "    <tr>\n",
       "      <th>0</th>\n",
       "      <td>AAACCT</td>\n",
       "      <td>/home/sequence/Sequencing_Validation/SVA02/Seq...</td>\n",
       "    </tr>\n",
       "    <tr>\n",
       "      <th>1</th>\n",
       "      <td>AAGCTA</td>\n",
       "      <td>/home/sequence/Sequencing_Validation/SVA02/Seq...</td>\n",
       "    </tr>\n",
       "  </tbody>\n",
       "</table>\n",
       "</div>"
      ],
      "text/plain": [
       "        0                                                  1\n",
       "0  AAACCT  /home/sequence/Sequencing_Validation/SVA02/Seq...\n",
       "1  AAGCTA  /home/sequence/Sequencing_Validation/SVA02/Seq..."
      ]
     },
     "execution_count": 46,
     "metadata": {},
     "output_type": "execute_result"
    }
   ],
   "source": [
    "lst = []\n",
    "with open(run2_files) as fp:  \n",
    "    for cnt, line in enumerate(fp):\n",
    "        idx = line.split('_')[2]\n",
    "        f = '{0}{1}'.format(qc_path, line)\n",
    "        lst.append([idx, f])\n",
    "df1 = pd.DataFrame(lst)\n",
    "df1.head(2)\n",
    "    \n"
   ]
  },
  {
   "cell_type": "code",
   "execution_count": 47,
   "metadata": {},
   "outputs": [
    {
     "data": {
      "text/html": [
       "<div>\n",
       "<style scoped>\n",
       "    .dataframe tbody tr th:only-of-type {\n",
       "        vertical-align: middle;\n",
       "    }\n",
       "\n",
       "    .dataframe tbody tr th {\n",
       "        vertical-align: top;\n",
       "    }\n",
       "\n",
       "    .dataframe thead th {\n",
       "        text-align: right;\n",
       "    }\n",
       "</style>\n",
       "<table border=\"1\" class=\"dataframe\">\n",
       "  <thead>\n",
       "    <tr style=\"text-align: right;\">\n",
       "      <th></th>\n",
       "      <th>Sub-Library</th>\n",
       "      <th>Index</th>\n",
       "      <th>0</th>\n",
       "      <th>1</th>\n",
       "    </tr>\n",
       "  </thead>\n",
       "  <tbody>\n",
       "    <tr>\n",
       "      <th>0</th>\n",
       "      <td>A87323</td>\n",
       "      <td>AAACCT</td>\n",
       "      <td>AAACCT</td>\n",
       "      <td>/home/sequence/Sequencing_Validation/SVA02/Seq...</td>\n",
       "    </tr>\n",
       "    <tr>\n",
       "      <th>1</th>\n",
       "      <td>A88450</td>\n",
       "      <td>AAGCTA</td>\n",
       "      <td>AAGCTA</td>\n",
       "      <td>/home/sequence/Sequencing_Validation/SVA02/Seq...</td>\n",
       "    </tr>\n",
       "  </tbody>\n",
       "</table>\n",
       "</div>"
      ],
      "text/plain": [
       "  Sub-Library   Index       0  \\\n",
       "0      A87323  AAACCT  AAACCT   \n",
       "1      A88450  AAGCTA  AAGCTA   \n",
       "\n",
       "                                                   1  \n",
       "0  /home/sequence/Sequencing_Validation/SVA02/Seq...  \n",
       "1  /home/sequence/Sequencing_Validation/SVA02/Seq...  "
      ]
     },
     "execution_count": 47,
     "metadata": {},
     "output_type": "execute_result"
    }
   ],
   "source": [
    "df3 = pd.merge(df, df1, left_on='Index', right_on=0)\n",
    "df3.head(2)"
   ]
  },
  {
   "cell_type": "code",
   "execution_count": 48,
   "metadata": {},
   "outputs": [
    {
     "name": "stdout",
     "output_type": "stream",
     "text": [
      "A87323 /home/sequence/Sequencing_Validation/SVA02/SeqVal121/Bioinformatic Analysis/bedtoolsStats/IX6191-run2/s_3_AAACCT_paired.dup.sorted_parsed.tsv /home/szong/projects/QC/targeted_seq/BLGSP/A87323_2.paired.dup.sorted_parsed.tsv\n",
      "A88450 /home/sequence/Sequencing_Validation/SVA02/SeqVal121/Bioinformatic Analysis/bedtoolsStats/IX6191-run2/s_3_AAGCTA_paired.dup.sorted.dOutput_parsed.tsv /home/szong/projects/QC/targeted_seq/BLGSP/A88450_2.paired.dup.sorted_parsed.tsv\n",
      "A87329 /home/sequence/Sequencing_Validation/SVA02/SeqVal121/Bioinformatic Analysis/bedtoolsStats/IX6191-run2/s_3_ATGGCA_paired.dup.sorted_parsed.tsv /home/szong/projects/QC/targeted_seq/BLGSP/A87329_2.paired.dup.sorted_parsed.tsv\n",
      "A88446 /home/sequence/Sequencing_Validation/SVA02/SeqVal121/Bioinformatic Analysis/bedtoolsStats/IX6191-run2/s_3_CCTATT_paired.dup.sorted_parsed.tsv /home/szong/projects/QC/targeted_seq/BLGSP/A88446_2.paired.dup.sorted_parsed.tsv\n",
      "A87325 /home/sequence/Sequencing_Validation/SVA02/SeqVal121/Bioinformatic Analysis/bedtoolsStats/IX6191-run2/s_3_CGGCCT_paired.dup.sorted.dOutput_parsed.tsv /home/szong/projects/QC/targeted_seq/BLGSP/A87325_2.paired.dup.sorted_parsed.tsv\n",
      "A88448 /home/sequence/Sequencing_Validation/SVA02/SeqVal121/Bioinformatic Analysis/bedtoolsStats/IX6191-run2/s_3_CGTGAT_paired.dup.sorted_parsed.tsv /home/szong/projects/QC/targeted_seq/BLGSP/A88448_2.paired.dup.sorted_parsed.tsv\n",
      "A87321 /home/sequence/Sequencing_Validation/SVA02/SeqVal121/Bioinformatic Analysis/bedtoolsStats/IX6191-run2/s_3_CTTTTG_paired.dup.sorted_parsed.tsv /home/szong/projects/QC/targeted_seq/BLGSP/A87321_2.paired.dup.sorted_parsed.tsv\n",
      "A87328 /home/sequence/Sequencing_Validation/SVA02/SeqVal121/Bioinformatic Analysis/bedtoolsStats/IX6191-run2/s_3_GCCATG_paired.dup.sorted_parsed.tsv /home/szong/projects/QC/targeted_seq/BLGSP/A87328_2.paired.dup.sorted_parsed.tsv\n",
      "A87322 /home/sequence/Sequencing_Validation/SVA02/SeqVal121/Bioinformatic Analysis/bedtoolsStats/IX6191-run2/s_3_GCGGAC_paired.dup.sorted_parsed.tsv /home/szong/projects/QC/targeted_seq/BLGSP/A87322_2.paired.dup.sorted_parsed.tsv\n",
      "A87324 /home/sequence/Sequencing_Validation/SVA02/SeqVal121/Bioinformatic Analysis/bedtoolsStats/IX6191-run2/s_3_GCTGTA_paired.dup.sorted_parsed.tsv /home/szong/projects/QC/targeted_seq/BLGSP/A87324_2.paired.dup.sorted_parsed.tsv\n",
      "A88447 /home/sequence/Sequencing_Validation/SVA02/SeqVal121/Bioinformatic Analysis/bedtoolsStats/IX6191-run2/s_3_GGACGG_paired.dup.sorted_parsed.tsv /home/szong/projects/QC/targeted_seq/BLGSP/A88447_2.paired.dup.sorted_parsed.tsv\n",
      "A87326 /home/sequence/Sequencing_Validation/SVA02/SeqVal121/Bioinformatic Analysis/bedtoolsStats/IX6191-run2/s_3_TACAAG_paired.dup.sorted_parsed.tsv /home/szong/projects/QC/targeted_seq/BLGSP/A87326_2.paired.dup.sorted_parsed.tsv\n",
      "A87327 /home/sequence/Sequencing_Validation/SVA02/SeqVal121/Bioinformatic Analysis/bedtoolsStats/IX6191-run2/s_3_TATCGT_paired.dup.sorted_parsed.tsv /home/szong/projects/QC/targeted_seq/BLGSP/A87327_2.paired.dup.sorted_parsed.tsv\n",
      "A87330 /home/sequence/Sequencing_Validation/SVA02/SeqVal121/Bioinformatic Analysis/bedtoolsStats/IX6191-run2/s_3_TCCGTC_paired.dup.sorted_parsed.tsv /home/szong/projects/QC/targeted_seq/BLGSP/A87330_2.paired.dup.sorted_parsed.tsv\n",
      "A88449 /home/sequence/Sequencing_Validation/SVA02/SeqVal121/Bioinformatic Analysis/bedtoolsStats/IX6191-run2/s_3_TTATTC_paired.dup.sorted_parsed.tsv /home/szong/projects/QC/targeted_seq/BLGSP/A88449_2.paired.dup.sorted_parsed.tsv\n"
     ]
    }
   ],
   "source": [
    "for ix, rc in df3.iterrows():\n",
    "    lib = rc['Sub-Library']\n",
    "    f = rc[1].strip('\\n')\n",
    "    map_f = '{0}{1}_2.paired.dup.sorted_parsed.tsv'.format(wkdir, lib)\n",
    "\n",
    "    print(lib, f, map_f)\n",
    "    copyfile(f, map_f)"
   ]
  },
  {
   "cell_type": "code",
   "execution_count": null,
   "metadata": {},
   "outputs": [],
   "source": []
  }
 ],
 "metadata": {
  "kernelspec": {
   "display_name": "Python 3",
   "language": "python",
   "name": "python3"
  },
  "language_info": {
   "codemirror_mode": {
    "name": "ipython",
    "version": 3
   },
   "file_extension": ".py",
   "mimetype": "text/x-python",
   "name": "python",
   "nbconvert_exporter": "python",
   "pygments_lexer": "ipython3",
   "version": "3.6.4"
  }
 },
 "nbformat": 4,
 "nbformat_minor": 2
}
