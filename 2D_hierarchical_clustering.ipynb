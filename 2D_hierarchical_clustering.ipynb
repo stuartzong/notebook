{
 "cells": [
  {
   "cell_type": "code",
   "execution_count": 59,
   "metadata": {},
   "outputs": [
    {
     "name": "stdout",
     "output_type": "stream",
     "text": [
      "The autoreload extension is already loaded. To reload it, use:\n",
      "  %reload_ext autoreload\n"
     ]
    }
   ],
   "source": [
    "import os\n",
    "import re\n",
    "import datetime\n",
    "import tempfile\n",
    "from collections import Counter\n",
    "import functools\n",
    "import itertools\n",
    "import sys\n",
    "\n",
    "import numpy as np\n",
    "import scipy.stats as stats\n",
    "from scipy.cluster.hierarchy import dendrogram, linkage, fcluster, fclusterdata, leaves_list\n",
    "from scipy.spatial.distance import pdist\n",
    "from scipy import interp\n",
    "import pandas as pd\n",
    "pd.set_option('display.max_columns', 250)\n",
    "# Don't cut off long string\n",
    "# http://stackoverflow.com/questions/26277757/pandas-to-html-truncates-string-contents\n",
    "pd.set_option('display.max_colwidth', -1)\n",
    "\n",
    "import matplotlib\n",
    "import matplotlib.pyplot as plt\n",
    "import matplotlib.cm as cm\n",
    "from matplotlib import gridspec\n",
    "from mpl_toolkits.mplot3d import Axes3D\n",
    "import matplotlib.path as mpath\n",
    "Path = mpath.Path\n",
    "import matplotlib.patches as mpatches\n",
    "from matplotlib.legend_handler import HandlerPatch\n",
    "# matplotlib.style.use('ggplot')\n",
    "matplotlib.style.use('classic')\n",
    "%matplotlib inline\n",
    "matplotlib.rcParams['figure.figsize'] = (16, 9)\n",
    "\n",
    "from IPython.display import display, Image, HTML\n",
    "\n",
    "from sklearn.preprocessing import LabelEncoder, OneHotEncoder, StandardScaler, MinMaxScaler\n",
    "from sklearn.decomposition import TruncatedSVD\n",
    "from sklearn.manifold import TSNE\n",
    "from sklearn.decomposition import PCA\n",
    "\n",
    "from sklearn.model_selection import StratifiedKFold, train_test_split, cross_val_score\n",
    "from sklearn.tree import DecisionTreeClassifier, export_graphviz\n",
    "from sklearn.ensemble import RandomForestClassifier\n",
    "from sklearn.ensemble import AdaBoostClassifier\n",
    "from sklearn.ensemble import GradientBoostingClassifier\n",
    "from sklearn.linear_model import LogisticRegression, LogisticRegressionCV\n",
    "from sklearn import metrics\n",
    "from sklearn import svm\n",
    "from sklearn.neighbors import KNeighborsClassifier\n",
    "kappa_scorer = metrics.make_scorer(metrics.cohen_kappa_score)\n",
    "\n",
    "\n",
    "# for auto-reloading external modules\n",
    "# see http://stackoverflow.com/questions/1907993/autoreload-of-modules-in-ipython\n",
    "%load_ext autoreload\n",
    "%autoreload 2"
   ]
  },
  {
   "cell_type": "code",
   "execution_count": 60,
   "metadata": {},
   "outputs": [],
   "source": [
    "TARGET_GENES = []\n",
    "with open('/projects/trans_scratch/validations/workspace/szong/python_study/2D_hierarchical_clustering/target_genes.txt') as inf:\n",
    "    for line in inf:\n",
    "        TARGET_GENES.append(line.strip())"
   ]
  },
  {
   "cell_type": "code",
   "execution_count": 61,
   "metadata": {},
   "outputs": [
    {
     "data": {
      "text/plain": [
       "['ABL1', 'AKT1', 'AKT2', 'ALK', 'AMER1']"
      ]
     },
     "execution_count": 61,
     "metadata": {},
     "output_type": "execute_result"
    }
   ],
   "source": [
    "TARGET_GENES[:5]"
   ]
  },
  {
   "cell_type": "code",
   "execution_count": 62,
   "metadata": {
    "collapsed": true
   },
   "outputs": [],
   "source": [
    "old2new_gene_names_dd = {\n",
    "#     'RTCD1': 'RTCA',  # so in the intogen case, they've used the newly RTCA\n",
    "                         'FAM123B': 'AMER1', 'MYCL1': 'MYCL', 'MLL': 'KMT2A'}"
   ]
  },
  {
   "cell_type": "code",
   "execution_count": 63,
   "metadata": {
    "collapsed": true
   },
   "outputs": [],
   "source": [
    "new2old_gene_names_dd = dict([(j, i) for (i, j) in old2new_gene_names_dd.items()])"
   ]
  },
  {
   "cell_type": "code",
   "execution_count": 64,
   "metadata": {},
   "outputs": [
    {
     "data": {
      "text/plain": [
       "{'AMER1': 'FAM123B', 'KMT2A': 'MLL', 'MYCL': 'MYCL1'}"
      ]
     },
     "execution_count": 64,
     "metadata": {},
     "output_type": "execute_result"
    }
   ],
   "source": [
    "new2old_gene_names_dd"
   ]
  },
  {
   "cell_type": "code",
   "execution_count": 65,
   "metadata": {
    "collapsed": true
   },
   "outputs": [],
   "source": [
    "TARGET_GENES = [new2old_gene_names_dd.get(_, _) for _ in TARGET_GENES]"
   ]
  },
  {
   "cell_type": "code",
   "execution_count": null,
   "metadata": {
    "collapsed": true
   },
   "outputs": [],
   "source": []
  },
  {
   "cell_type": "code",
   "execution_count": 66,
   "metadata": {
    "collapsed": true
   },
   "outputs": [],
   "source": [
    "df_jw = pd.read_csv('/projects/trans_scratch/validations/workspace/szong/python_study/2D_hierarchical_clustering/april_21_2017_gene_table_5_27pm.tsv', sep='\\t', keep_default_na=False)"
   ]
  },
  {
   "cell_type": "code",
   "execution_count": 67,
   "metadata": {},
   "outputs": [
    {
     "data": {
      "text/html": [
       "<div>\n",
       "<style>\n",
       "    .dataframe thead tr:only-child th {\n",
       "        text-align: right;\n",
       "    }\n",
       "\n",
       "    .dataframe thead th {\n",
       "        text-align: left;\n",
       "    }\n",
       "\n",
       "    .dataframe tbody tr th {\n",
       "        vertical-align: top;\n",
       "    }\n",
       "</style>\n",
       "<table border=\"1\" class=\"dataframe\">\n",
       "  <thead>\n",
       "    <tr style=\"text-align: right;\">\n",
       "      <th></th>\n",
       "      <th>Gene</th>\n",
       "      <th>ACC</th>\n",
       "      <th>BLCA</th>\n",
       "      <th>BRCA</th>\n",
       "      <th>CESC</th>\n",
       "      <th>CHOL</th>\n",
       "      <th>COAD</th>\n",
       "      <th>DLBC</th>\n",
       "      <th>ESCA</th>\n",
       "      <th>GBM</th>\n",
       "      <th>HNSC</th>\n",
       "      <th>KICH</th>\n",
       "      <th>KIRC</th>\n",
       "      <th>KIRP</th>\n",
       "      <th>LAML</th>\n",
       "      <th>LGG</th>\n",
       "      <th>LIHC</th>\n",
       "      <th>LUAD</th>\n",
       "      <th>LUSC</th>\n",
       "      <th>MESO</th>\n",
       "      <th>OV</th>\n",
       "      <th>PAAD</th>\n",
       "      <th>PCPG</th>\n",
       "      <th>PRAD</th>\n",
       "      <th>READ</th>\n",
       "      <th>SARC</th>\n",
       "      <th>SKCM</th>\n",
       "      <th>STAD</th>\n",
       "      <th>TGCT</th>\n",
       "      <th>THCA</th>\n",
       "      <th>THYM</th>\n",
       "      <th>UCEC</th>\n",
       "      <th>UCS</th>\n",
       "      <th>UVM</th>\n",
       "    </tr>\n",
       "  </thead>\n",
       "  <tbody>\n",
       "    <tr>\n",
       "      <th>ABL1</th>\n",
       "      <td>O</td>\n",
       "      <td></td>\n",
       "      <td>M</td>\n",
       "      <td>OU M</td>\n",
       "      <td>M</td>\n",
       "      <td>OU M</td>\n",
       "      <td>O</td>\n",
       "      <td>O  M</td>\n",
       "      <td>OU M</td>\n",
       "      <td>OU M</td>\n",
       "      <td>O</td>\n",
       "      <td>OU M</td>\n",
       "      <td>M</td>\n",
       "      <td>O FM</td>\n",
       "      <td></td>\n",
       "      <td>O  M</td>\n",
       "      <td>OU M</td>\n",
       "      <td>OU M</td>\n",
       "      <td></td>\n",
       "      <td></td>\n",
       "      <td></td>\n",
       "      <td></td>\n",
       "      <td>OU M</td>\n",
       "      <td>OU M</td>\n",
       "      <td>OU</td>\n",
       "      <td>O  M</td>\n",
       "      <td>O  M</td>\n",
       "      <td></td>\n",
       "      <td>OU M</td>\n",
       "      <td></td>\n",
       "      <td>OU M</td>\n",
       "      <td>OU</td>\n",
       "      <td></td>\n",
       "      <td></td>\n",
       "    </tr>\n",
       "    <tr>\n",
       "      <th>AKT1</th>\n",
       "      <td></td>\n",
       "      <td>M</td>\n",
       "      <td>M</td>\n",
       "      <td>M</td>\n",
       "      <td>M</td>\n",
       "      <td>M</td>\n",
       "      <td></td>\n",
       "      <td>M</td>\n",
       "      <td>OU M</td>\n",
       "      <td>M</td>\n",
       "      <td></td>\n",
       "      <td>M</td>\n",
       "      <td></td>\n",
       "      <td>O</td>\n",
       "      <td>M</td>\n",
       "      <td>M</td>\n",
       "      <td>M</td>\n",
       "      <td>M</td>\n",
       "      <td></td>\n",
       "      <td></td>\n",
       "      <td></td>\n",
       "      <td></td>\n",
       "      <td>M</td>\n",
       "      <td>M</td>\n",
       "      <td>M</td>\n",
       "      <td>M</td>\n",
       "      <td>M</td>\n",
       "      <td></td>\n",
       "      <td>M</td>\n",
       "      <td>M</td>\n",
       "      <td>M</td>\n",
       "      <td></td>\n",
       "      <td></td>\n",
       "      <td></td>\n",
       "    </tr>\n",
       "  </tbody>\n",
       "</table>\n",
       "</div>"
      ],
      "text/plain": [
       "      Gene   ACC  BLCA  BRCA  CESC  CHOL  COAD  DLBC  ESCA   GBM  HNSC  KICH  \\\n",
       "ABL1  O              M  OU M     M  OU M  O     O  M  OU M  OU M  O     OU M   \n",
       "AKT1           M     M     M     M     M           M  OU M     M           M   \n",
       "\n",
       "      KIRC  KIRP  LAML   LGG  LIHC  LUAD  LUSC  MESO    OV  PAAD  PCPG  PRAD  \\\n",
       "ABL1     M  O FM        O  M  OU M  OU M                          OU M  OU M   \n",
       "AKT1        O        M     M     M     M                             M     M   \n",
       "\n",
       "      READ  SARC  SKCM  STAD  TGCT  THCA  THYM  UCEC   UCS UVM  \n",
       "ABL1  OU    O  M  O  M        OU M        OU M  OU              \n",
       "AKT1     M     M     M           M     M     M                  "
      ]
     },
     "execution_count": 67,
     "metadata": {},
     "output_type": "execute_result"
    }
   ],
   "source": [
    "df_jw.head(2)"
   ]
  },
  {
   "cell_type": "code",
   "execution_count": 68,
   "metadata": {
    "collapsed": true
   },
   "outputs": [],
   "source": [
    "res = []\n",
    "with open('/projects/trans_scratch/validations/workspace/szong/python_study/2D_hierarchical_clustering/april_21_2017_gene_table_5_27pm.tsv', 'rt') as inf:\n",
    "    for k, line in enumerate(inf):\n",
    "        if k == 0:\n",
    "            cols = line.strip('\\n').split('\\t')\n",
    "        else:\n",
    "            res.append(line.strip('\\n').strip('\\t').split('\\t'))"
   ]
  },
  {
   "cell_type": "code",
   "execution_count": null,
   "metadata": {
    "collapsed": true
   },
   "outputs": [],
   "source": []
  },
  {
   "cell_type": "code",
   "execution_count": 69,
   "metadata": {
    "collapsed": true
   },
   "outputs": [],
   "source": [
    "df_jw = pd.DataFrame(res, columns=cols)"
   ]
  },
  {
   "cell_type": "code",
   "execution_count": 70,
   "metadata": {
    "collapsed": true
   },
   "outputs": [],
   "source": [
    "df_jw.set_index('Gene', drop=True, inplace=True)"
   ]
  },
  {
   "cell_type": "code",
   "execution_count": 71,
   "metadata": {},
   "outputs": [
    {
     "data": {
      "text/html": [
       "<div>\n",
       "<style>\n",
       "    .dataframe thead tr:only-child th {\n",
       "        text-align: right;\n",
       "    }\n",
       "\n",
       "    .dataframe thead th {\n",
       "        text-align: left;\n",
       "    }\n",
       "\n",
       "    .dataframe tbody tr th {\n",
       "        vertical-align: top;\n",
       "    }\n",
       "</style>\n",
       "<table border=\"1\" class=\"dataframe\">\n",
       "  <thead>\n",
       "    <tr style=\"text-align: right;\">\n",
       "      <th></th>\n",
       "      <th>ACC</th>\n",
       "      <th>BLCA</th>\n",
       "      <th>BRCA</th>\n",
       "      <th>CESC</th>\n",
       "      <th>CHOL</th>\n",
       "      <th>COAD</th>\n",
       "      <th>DLBC</th>\n",
       "      <th>ESCA</th>\n",
       "      <th>GBM</th>\n",
       "      <th>HNSC</th>\n",
       "      <th>KICH</th>\n",
       "      <th>KIRC</th>\n",
       "      <th>KIRP</th>\n",
       "      <th>LAML</th>\n",
       "      <th>LGG</th>\n",
       "      <th>LIHC</th>\n",
       "      <th>LUAD</th>\n",
       "      <th>LUSC</th>\n",
       "      <th>MESO</th>\n",
       "      <th>OV</th>\n",
       "      <th>PAAD</th>\n",
       "      <th>PCPG</th>\n",
       "      <th>PRAD</th>\n",
       "      <th>READ</th>\n",
       "      <th>SARC</th>\n",
       "      <th>SKCM</th>\n",
       "      <th>STAD</th>\n",
       "      <th>TGCT</th>\n",
       "      <th>THCA</th>\n",
       "      <th>THYM</th>\n",
       "      <th>UCEC</th>\n",
       "      <th>UCS</th>\n",
       "      <th>UVM</th>\n",
       "    </tr>\n",
       "    <tr>\n",
       "      <th>Gene</th>\n",
       "      <th></th>\n",
       "      <th></th>\n",
       "      <th></th>\n",
       "      <th></th>\n",
       "      <th></th>\n",
       "      <th></th>\n",
       "      <th></th>\n",
       "      <th></th>\n",
       "      <th></th>\n",
       "      <th></th>\n",
       "      <th></th>\n",
       "      <th></th>\n",
       "      <th></th>\n",
       "      <th></th>\n",
       "      <th></th>\n",
       "      <th></th>\n",
       "      <th></th>\n",
       "      <th></th>\n",
       "      <th></th>\n",
       "      <th></th>\n",
       "      <th></th>\n",
       "      <th></th>\n",
       "      <th></th>\n",
       "      <th></th>\n",
       "      <th></th>\n",
       "      <th></th>\n",
       "      <th></th>\n",
       "      <th></th>\n",
       "      <th></th>\n",
       "      <th></th>\n",
       "      <th></th>\n",
       "      <th></th>\n",
       "      <th></th>\n",
       "    </tr>\n",
       "  </thead>\n",
       "  <tbody>\n",
       "    <tr>\n",
       "      <th>ABL1</th>\n",
       "      <td>O</td>\n",
       "      <td></td>\n",
       "      <td>M</td>\n",
       "      <td>OU M</td>\n",
       "      <td>M</td>\n",
       "      <td>OU M</td>\n",
       "      <td>O</td>\n",
       "      <td>O  M</td>\n",
       "      <td>OU M</td>\n",
       "      <td>OU M</td>\n",
       "      <td>O</td>\n",
       "      <td>OU M</td>\n",
       "      <td>M</td>\n",
       "      <td>O FM</td>\n",
       "      <td></td>\n",
       "      <td>O  M</td>\n",
       "      <td>OU M</td>\n",
       "      <td>OU M</td>\n",
       "      <td></td>\n",
       "      <td></td>\n",
       "      <td></td>\n",
       "      <td></td>\n",
       "      <td>OU M</td>\n",
       "      <td>OU M</td>\n",
       "      <td>OU</td>\n",
       "      <td>O  M</td>\n",
       "      <td>O  M</td>\n",
       "      <td></td>\n",
       "      <td>OU M</td>\n",
       "      <td></td>\n",
       "      <td>OU M</td>\n",
       "      <td>OU</td>\n",
       "      <td></td>\n",
       "    </tr>\n",
       "    <tr>\n",
       "      <th>AKT1</th>\n",
       "      <td></td>\n",
       "      <td>M</td>\n",
       "      <td>M</td>\n",
       "      <td>M</td>\n",
       "      <td>M</td>\n",
       "      <td>M</td>\n",
       "      <td></td>\n",
       "      <td>M</td>\n",
       "      <td>OU M</td>\n",
       "      <td>M</td>\n",
       "      <td></td>\n",
       "      <td>M</td>\n",
       "      <td></td>\n",
       "      <td>O</td>\n",
       "      <td>M</td>\n",
       "      <td>M</td>\n",
       "      <td>M</td>\n",
       "      <td>M</td>\n",
       "      <td></td>\n",
       "      <td></td>\n",
       "      <td></td>\n",
       "      <td></td>\n",
       "      <td>M</td>\n",
       "      <td>M</td>\n",
       "      <td>M</td>\n",
       "      <td>M</td>\n",
       "      <td>M</td>\n",
       "      <td></td>\n",
       "      <td>M</td>\n",
       "      <td>M</td>\n",
       "      <td>M</td>\n",
       "      <td></td>\n",
       "      <td></td>\n",
       "    </tr>\n",
       "  </tbody>\n",
       "</table>\n",
       "</div>"
      ],
      "text/plain": [
       "       ACC  BLCA  BRCA  CESC  CHOL  COAD  DLBC  ESCA   GBM  HNSC  KICH  KIRC  \\\n",
       "Gene                                                                           \n",
       "ABL1  O              M  OU M     M  OU M  O     O  M  OU M  OU M  O     OU M   \n",
       "AKT1           M     M     M     M     M           M  OU M     M           M   \n",
       "\n",
       "      KIRP  LAML   LGG  LIHC  LUAD  LUSC  MESO    OV  PAAD  PCPG  PRAD  READ  \\\n",
       "Gene                                                                           \n",
       "ABL1     M  O FM        O  M  OU M  OU M                          OU M  OU M   \n",
       "AKT1        O        M     M     M     M                             M     M   \n",
       "\n",
       "      SARC  SKCM  STAD  TGCT  THCA  THYM  UCEC   UCS   UVM  \n",
       "Gene                                                        \n",
       "ABL1  OU    O  M  O  M        OU M        OU M  OU          \n",
       "AKT1     M     M     M           M     M     M              "
      ]
     },
     "execution_count": 71,
     "metadata": {},
     "output_type": "execute_result"
    }
   ],
   "source": [
    "df_jw.head(2)"
   ]
  },
  {
   "cell_type": "code",
   "execution_count": 72,
   "metadata": {},
   "outputs": [
    {
     "name": "stdout",
     "output_type": "stream",
     "text": [
      "['    ', '   M', '  F ', '  FM', ' U  ', ' U M', 'O   ', 'O  M', 'O FM', 'OU  ', 'OU M', 'OUFM']\n"
     ]
    }
   ],
   "source": [
    "print(np.unique(df_jw.astype(str).values.ravel()).tolist())"
   ]
  },
  {
   "cell_type": "code",
   "execution_count": 73,
   "metadata": {
    "collapsed": true
   },
   "outputs": [],
   "source": [
    "# char_code = 'MOUF'\n",
    "# char_code = 'FOUM'\n",
    "char_code = 'FMOU'"
   ]
  },
  {
   "cell_type": "code",
   "execution_count": 74,
   "metadata": {
    "collapsed": true
   },
   "outputs": [],
   "source": [
    "str_codes = [''.join(_) for _ in list(itertools.product(*['{0}-'.format(_) for _ in char_code]))]"
   ]
  },
  {
   "cell_type": "code",
   "execution_count": 75,
   "metadata": {},
   "outputs": [
    {
     "data": {
      "text/plain": [
       "['FMOU',\n",
       " 'FMO-',\n",
       " 'FM-U',\n",
       " 'FM--',\n",
       " 'F-OU',\n",
       " 'F-O-',\n",
       " 'F--U',\n",
       " 'F---',\n",
       " '-MOU',\n",
       " '-MO-',\n",
       " '-M-U',\n",
       " '-M--',\n",
       " '--OU',\n",
       " '--O-',\n",
       " '---U',\n",
       " '----']"
      ]
     },
     "execution_count": 75,
     "metadata": {},
     "output_type": "execute_result"
    }
   ],
   "source": [
    "str_codes"
   ]
  },
  {
   "cell_type": "code",
   "execution_count": 76,
   "metadata": {
    "collapsed": true
   },
   "outputs": [],
   "source": [
    "# http://stackoverflow.com/questions/8928240/convert-base-2-binary-number-string-to-int\n",
    "int_codes = [int(''.join(_), 2) for _ in list(itertools.product('10', '10', '10', '10'))]"
   ]
  },
  {
   "cell_type": "code",
   "execution_count": 77,
   "metadata": {},
   "outputs": [
    {
     "data": {
      "text/plain": [
       "[15, 14, 13, 12, 11, 10, 9, 8, 7, 6, 5, 4, 3, 2, 1, 0]"
      ]
     },
     "execution_count": 77,
     "metadata": {},
     "output_type": "execute_result"
    }
   ],
   "source": [
    "int_codes"
   ]
  },
  {
   "cell_type": "code",
   "execution_count": 78,
   "metadata": {
    "collapsed": true
   },
   "outputs": [],
   "source": [
    "str2int_dd = dict(zip(str_codes, int_codes))\n",
    "int2str_dd = dict(zip(str_codes, int_codes))"
   ]
  },
  {
   "cell_type": "code",
   "execution_count": 79,
   "metadata": {
    "collapsed": true
   },
   "outputs": [],
   "source": [
    "# str2int_dd"
   ]
  },
  {
   "cell_type": "code",
   "execution_count": 80,
   "metadata": {
    "collapsed": true
   },
   "outputs": [],
   "source": [
    "def convert2binvec(s):\n",
    "    \"\"\"convert to binary vector\"\"\"\n",
    "    res = []\n",
    "    for i in char_code:\n",
    "        res.append(1 if i in s else 0)\n",
    "    return res\n",
    "\n",
    "# assert convert2binvec('OU M') == [1, 1, 0, 1]"
   ]
  },
  {
   "cell_type": "code",
   "execution_count": 81,
   "metadata": {
    "collapsed": true
   },
   "outputs": [],
   "source": [
    "ndf = df_jw.applymap(convert2binvec)"
   ]
  },
  {
   "cell_type": "code",
   "execution_count": 82,
   "metadata": {},
   "outputs": [
    {
     "data": {
      "text/html": [
       "<div>\n",
       "<style>\n",
       "    .dataframe thead tr:only-child th {\n",
       "        text-align: right;\n",
       "    }\n",
       "\n",
       "    .dataframe thead th {\n",
       "        text-align: left;\n",
       "    }\n",
       "\n",
       "    .dataframe tbody tr th {\n",
       "        vertical-align: top;\n",
       "    }\n",
       "</style>\n",
       "<table border=\"1\" class=\"dataframe\">\n",
       "  <thead>\n",
       "    <tr style=\"text-align: right;\">\n",
       "      <th></th>\n",
       "      <th>ACC</th>\n",
       "      <th>BLCA</th>\n",
       "      <th>BRCA</th>\n",
       "      <th>CESC</th>\n",
       "      <th>CHOL</th>\n",
       "      <th>COAD</th>\n",
       "      <th>DLBC</th>\n",
       "      <th>ESCA</th>\n",
       "      <th>GBM</th>\n",
       "      <th>HNSC</th>\n",
       "      <th>KICH</th>\n",
       "      <th>KIRC</th>\n",
       "      <th>KIRP</th>\n",
       "      <th>LAML</th>\n",
       "      <th>LGG</th>\n",
       "      <th>LIHC</th>\n",
       "      <th>LUAD</th>\n",
       "      <th>LUSC</th>\n",
       "      <th>MESO</th>\n",
       "      <th>OV</th>\n",
       "      <th>PAAD</th>\n",
       "      <th>PCPG</th>\n",
       "      <th>PRAD</th>\n",
       "      <th>READ</th>\n",
       "      <th>SARC</th>\n",
       "      <th>SKCM</th>\n",
       "      <th>STAD</th>\n",
       "      <th>TGCT</th>\n",
       "      <th>THCA</th>\n",
       "      <th>THYM</th>\n",
       "      <th>UCEC</th>\n",
       "      <th>UCS</th>\n",
       "      <th>UVM</th>\n",
       "    </tr>\n",
       "    <tr>\n",
       "      <th>Gene</th>\n",
       "      <th></th>\n",
       "      <th></th>\n",
       "      <th></th>\n",
       "      <th></th>\n",
       "      <th></th>\n",
       "      <th></th>\n",
       "      <th></th>\n",
       "      <th></th>\n",
       "      <th></th>\n",
       "      <th></th>\n",
       "      <th></th>\n",
       "      <th></th>\n",
       "      <th></th>\n",
       "      <th></th>\n",
       "      <th></th>\n",
       "      <th></th>\n",
       "      <th></th>\n",
       "      <th></th>\n",
       "      <th></th>\n",
       "      <th></th>\n",
       "      <th></th>\n",
       "      <th></th>\n",
       "      <th></th>\n",
       "      <th></th>\n",
       "      <th></th>\n",
       "      <th></th>\n",
       "      <th></th>\n",
       "      <th></th>\n",
       "      <th></th>\n",
       "      <th></th>\n",
       "      <th></th>\n",
       "      <th></th>\n",
       "      <th></th>\n",
       "    </tr>\n",
       "  </thead>\n",
       "  <tbody>\n",
       "    <tr>\n",
       "      <th>ABL1</th>\n",
       "      <td>[0, 0, 1, 0]</td>\n",
       "      <td>[0, 0, 0, 0]</td>\n",
       "      <td>[0, 1, 0, 0]</td>\n",
       "      <td>[0, 1, 1, 1]</td>\n",
       "      <td>[0, 1, 0, 0]</td>\n",
       "      <td>[0, 1, 1, 1]</td>\n",
       "      <td>[0, 0, 1, 0]</td>\n",
       "      <td>[0, 1, 1, 0]</td>\n",
       "      <td>[0, 1, 1, 1]</td>\n",
       "      <td>[0, 1, 1, 1]</td>\n",
       "      <td>[0, 0, 1, 0]</td>\n",
       "      <td>[0, 1, 1, 1]</td>\n",
       "      <td>[0, 1, 0, 0]</td>\n",
       "      <td>[1, 1, 1, 0]</td>\n",
       "      <td>[0, 0, 0, 0]</td>\n",
       "      <td>[0, 1, 1, 0]</td>\n",
       "      <td>[0, 1, 1, 1]</td>\n",
       "      <td>[0, 1, 1, 1]</td>\n",
       "      <td>[0, 0, 0, 0]</td>\n",
       "      <td>[0, 0, 0, 0]</td>\n",
       "      <td>[0, 0, 0, 0]</td>\n",
       "      <td>[0, 0, 0, 0]</td>\n",
       "      <td>[0, 1, 1, 1]</td>\n",
       "      <td>[0, 1, 1, 1]</td>\n",
       "      <td>[0, 0, 1, 1]</td>\n",
       "      <td>[0, 1, 1, 0]</td>\n",
       "      <td>[0, 1, 1, 0]</td>\n",
       "      <td>[0, 0, 0, 0]</td>\n",
       "      <td>[0, 1, 1, 1]</td>\n",
       "      <td>[0, 0, 0, 0]</td>\n",
       "      <td>[0, 1, 1, 1]</td>\n",
       "      <td>[0, 0, 1, 1]</td>\n",
       "      <td>[0, 0, 0, 0]</td>\n",
       "    </tr>\n",
       "    <tr>\n",
       "      <th>AKT1</th>\n",
       "      <td>[0, 0, 0, 0]</td>\n",
       "      <td>[0, 1, 0, 0]</td>\n",
       "      <td>[0, 1, 0, 0]</td>\n",
       "      <td>[0, 1, 0, 0]</td>\n",
       "      <td>[0, 1, 0, 0]</td>\n",
       "      <td>[0, 1, 0, 0]</td>\n",
       "      <td>[0, 0, 0, 0]</td>\n",
       "      <td>[0, 1, 0, 0]</td>\n",
       "      <td>[0, 1, 1, 1]</td>\n",
       "      <td>[0, 1, 0, 0]</td>\n",
       "      <td>[0, 0, 0, 0]</td>\n",
       "      <td>[0, 1, 0, 0]</td>\n",
       "      <td>[0, 0, 0, 0]</td>\n",
       "      <td>[0, 0, 1, 0]</td>\n",
       "      <td>[0, 1, 0, 0]</td>\n",
       "      <td>[0, 1, 0, 0]</td>\n",
       "      <td>[0, 1, 0, 0]</td>\n",
       "      <td>[0, 1, 0, 0]</td>\n",
       "      <td>[0, 0, 0, 0]</td>\n",
       "      <td>[0, 0, 0, 0]</td>\n",
       "      <td>[0, 0, 0, 0]</td>\n",
       "      <td>[0, 0, 0, 0]</td>\n",
       "      <td>[0, 1, 0, 0]</td>\n",
       "      <td>[0, 1, 0, 0]</td>\n",
       "      <td>[0, 1, 0, 0]</td>\n",
       "      <td>[0, 1, 0, 0]</td>\n",
       "      <td>[0, 1, 0, 0]</td>\n",
       "      <td>[0, 0, 0, 0]</td>\n",
       "      <td>[0, 1, 0, 0]</td>\n",
       "      <td>[0, 1, 0, 0]</td>\n",
       "      <td>[0, 1, 0, 0]</td>\n",
       "      <td>[0, 0, 0, 0]</td>\n",
       "      <td>[0, 0, 0, 0]</td>\n",
       "    </tr>\n",
       "  </tbody>\n",
       "</table>\n",
       "</div>"
      ],
      "text/plain": [
       "               ACC          BLCA          BRCA          CESC          CHOL  \\\n",
       "Gene                                                                         \n",
       "ABL1  [0, 0, 1, 0]  [0, 0, 0, 0]  [0, 1, 0, 0]  [0, 1, 1, 1]  [0, 1, 0, 0]   \n",
       "AKT1  [0, 0, 0, 0]  [0, 1, 0, 0]  [0, 1, 0, 0]  [0, 1, 0, 0]  [0, 1, 0, 0]   \n",
       "\n",
       "              COAD          DLBC          ESCA           GBM          HNSC  \\\n",
       "Gene                                                                         \n",
       "ABL1  [0, 1, 1, 1]  [0, 0, 1, 0]  [0, 1, 1, 0]  [0, 1, 1, 1]  [0, 1, 1, 1]   \n",
       "AKT1  [0, 1, 0, 0]  [0, 0, 0, 0]  [0, 1, 0, 0]  [0, 1, 1, 1]  [0, 1, 0, 0]   \n",
       "\n",
       "              KICH          KIRC          KIRP          LAML           LGG  \\\n",
       "Gene                                                                         \n",
       "ABL1  [0, 0, 1, 0]  [0, 1, 1, 1]  [0, 1, 0, 0]  [1, 1, 1, 0]  [0, 0, 0, 0]   \n",
       "AKT1  [0, 0, 0, 0]  [0, 1, 0, 0]  [0, 0, 0, 0]  [0, 0, 1, 0]  [0, 1, 0, 0]   \n",
       "\n",
       "              LIHC          LUAD          LUSC          MESO            OV  \\\n",
       "Gene                                                                         \n",
       "ABL1  [0, 1, 1, 0]  [0, 1, 1, 1]  [0, 1, 1, 1]  [0, 0, 0, 0]  [0, 0, 0, 0]   \n",
       "AKT1  [0, 1, 0, 0]  [0, 1, 0, 0]  [0, 1, 0, 0]  [0, 0, 0, 0]  [0, 0, 0, 0]   \n",
       "\n",
       "              PAAD          PCPG          PRAD          READ          SARC  \\\n",
       "Gene                                                                         \n",
       "ABL1  [0, 0, 0, 0]  [0, 0, 0, 0]  [0, 1, 1, 1]  [0, 1, 1, 1]  [0, 0, 1, 1]   \n",
       "AKT1  [0, 0, 0, 0]  [0, 0, 0, 0]  [0, 1, 0, 0]  [0, 1, 0, 0]  [0, 1, 0, 0]   \n",
       "\n",
       "              SKCM          STAD          TGCT          THCA          THYM  \\\n",
       "Gene                                                                         \n",
       "ABL1  [0, 1, 1, 0]  [0, 1, 1, 0]  [0, 0, 0, 0]  [0, 1, 1, 1]  [0, 0, 0, 0]   \n",
       "AKT1  [0, 1, 0, 0]  [0, 1, 0, 0]  [0, 0, 0, 0]  [0, 1, 0, 0]  [0, 1, 0, 0]   \n",
       "\n",
       "              UCEC           UCS           UVM  \n",
       "Gene                                            \n",
       "ABL1  [0, 1, 1, 1]  [0, 0, 1, 1]  [0, 0, 0, 0]  \n",
       "AKT1  [0, 1, 0, 0]  [0, 0, 0, 0]  [0, 0, 0, 0]  "
      ]
     },
     "execution_count": 82,
     "metadata": {},
     "output_type": "execute_result"
    }
   ],
   "source": [
    "ndf.head(2)"
   ]
  },
  {
   "cell_type": "markdown",
   "metadata": {},
   "source": [
    "# cluster by genes"
   ]
  },
  {
   "cell_type": "code",
   "execution_count": 83,
   "metadata": {
    "collapsed": true
   },
   "outputs": [],
   "source": [
    "data_mat = ndf.apply(lambda row: np.concatenate(row.values).tolist(), axis=1).values"
   ]
  },
  {
   "cell_type": "code",
   "execution_count": 84,
   "metadata": {},
   "outputs": [
    {
     "data": {
      "text/plain": [
       "numpy.ndarray"
      ]
     },
     "execution_count": 84,
     "metadata": {},
     "output_type": "execute_result"
    }
   ],
   "source": [
    "type(data_mat)"
   ]
  },
  {
   "cell_type": "code",
   "execution_count": 85,
   "metadata": {},
   "outputs": [
    {
     "data": {
      "text/plain": [
       "array([ [0, 0, 1, 0, 0, 0, 0, 0, 0, 1, 0, 0, 0, 1, 1, 1, 0, 1, 0, 0, 0, 1, 1, 1, 0, 0, 1, 0, 0, 1, 1, 0, 0, 1, 1, 1, 0, 1, 1, 1, 0, 0, 1, 0, 0, 1, 1, 1, 0, 1, 0, 0, 1, 1, 1, 0, 0, 0, 0, 0, 0, 1, 1, 0, 0, 1, 1, 1, 0, 1, 1, 1, 0, 0, 0, 0, 0, 0, 0, 0, 0, 0, 0, 0, 0, 0, 0, 0, 0, 1, 1, 1, 0, 1, 1, 1, 0, 0, 1, 1, 0, 1, 1, 0, 0, 1, 1, 0, 0, 0, 0, 0, 0, 1, 1, 1, 0, 0, 0, 0, 0, 1, 1, 1, 0, 0, 1, 1, 0, 0, 0, 0],\n",
       "       [0, 0, 0, 0, 0, 1, 0, 0, 0, 1, 0, 0, 0, 1, 0, 0, 0, 1, 0, 0, 0, 1, 0, 0, 0, 0, 0, 0, 0, 1, 0, 0, 0, 1, 1, 1, 0, 1, 0, 0, 0, 0, 0, 0, 0, 1, 0, 0, 0, 0, 0, 0, 0, 0, 1, 0, 0, 1, 0, 0, 0, 1, 0, 0, 0, 1, 0, 0, 0, 1, 0, 0, 0, 0, 0, 0, 0, 0, 0, 0, 0, 0, 0, 0, 0, 0, 0, 0, 0, 1, 0, 0, 0, 1, 0, 0, 0, 1, 0, 0, 0, 1, 0, 0, 0, 1, 0, 0, 0, 0, 0, 0, 0, 1, 0, 0, 0, 1, 0, 0, 0, 1, 0, 0, 0, 0, 0, 0, 0, 0, 0, 0]], dtype=object)"
      ]
     },
     "execution_count": 85,
     "metadata": {},
     "output_type": "execute_result"
    }
   ],
   "source": [
    "data_mat[:2]"
   ]
  },
  {
   "cell_type": "code",
   "execution_count": 86,
   "metadata": {},
   "outputs": [
    {
     "data": {
      "text/plain": [
       "(114,)"
      ]
     },
     "execution_count": 86,
     "metadata": {},
     "output_type": "execute_result"
    }
   ],
   "source": [
    "data_mat.shape"
   ]
  },
  {
   "cell_type": "code",
   "execution_count": 87,
   "metadata": {
    "collapsed": true
   },
   "outputs": [],
   "source": [
    "# convert to 2D array\n",
    "data = np.array(data_mat.tolist())"
   ]
  },
  {
   "cell_type": "code",
   "execution_count": 88,
   "metadata": {},
   "outputs": [
    {
     "data": {
      "text/plain": [
       "numpy.ndarray"
      ]
     },
     "execution_count": 88,
     "metadata": {},
     "output_type": "execute_result"
    }
   ],
   "source": [
    "type(data)"
   ]
  },
  {
   "cell_type": "code",
   "execution_count": 89,
   "metadata": {},
   "outputs": [
    {
     "data": {
      "text/plain": [
       "dtype('int64')"
      ]
     },
     "execution_count": 89,
     "metadata": {},
     "output_type": "execute_result"
    }
   ],
   "source": [
    "data.dtype"
   ]
  },
  {
   "cell_type": "code",
   "execution_count": null,
   "metadata": {
    "collapsed": true
   },
   "outputs": [],
   "source": []
  },
  {
   "cell_type": "code",
   "execution_count": 90,
   "metadata": {
    "collapsed": true
   },
   "outputs": [],
   "source": [
    "assert 33 * 4 == 132"
   ]
  },
  {
   "cell_type": "code",
   "execution_count": 91,
   "metadata": {
    "collapsed": true
   },
   "outputs": [],
   "source": [
    "Z_by_gene = linkage(data, metric='hamming')"
   ]
  },
  {
   "cell_type": "code",
   "execution_count": 92,
   "metadata": {
    "collapsed": true
   },
   "outputs": [],
   "source": [
    "# _ = dendrogram(Z_by_gene, labels=ndf.index.values)"
   ]
  },
  {
   "cell_type": "code",
   "execution_count": 93,
   "metadata": {
    "collapsed": true
   },
   "outputs": [],
   "source": [
    "gene_idxes = leaves_list(Z_by_gene)\n"
   ]
  },
  {
   "cell_type": "markdown",
   "metadata": {},
   "source": [
    "# clustering by diseases"
   ]
  },
  {
   "cell_type": "code",
   "execution_count": 94,
   "metadata": {
    "collapsed": true
   },
   "outputs": [],
   "source": [
    "data_mat = ndf.apply(lambda row: np.concatenate(row.values).tolist()).values\n",
    "\n"
   ]
  },
  {
   "cell_type": "code",
   "execution_count": 95,
   "metadata": {
    "collapsed": true
   },
   "outputs": [],
   "source": [
    "# convert to 2D array\n",
    "data = np.array(data_mat.tolist())"
   ]
  },
  {
   "cell_type": "code",
   "execution_count": 96,
   "metadata": {
    "collapsed": true
   },
   "outputs": [],
   "source": [
    "assert 114 * 4 == 456"
   ]
  },
  {
   "cell_type": "code",
   "execution_count": 97,
   "metadata": {
    "collapsed": true
   },
   "outputs": [],
   "source": [
    "# Z_by_dise = linkage(data, metric='jaccard')\n",
    "Z_by_dise = linkage(data, metric='hamming')"
   ]
  },
  {
   "cell_type": "code",
   "execution_count": 98,
   "metadata": {
    "collapsed": true
   },
   "outputs": [],
   "source": [
    "dise_idxes = leaves_list(Z_by_dise)"
   ]
  },
  {
   "cell_type": "code",
   "execution_count": 99,
   "metadata": {},
   "outputs": [
    {
     "data": {
      "image/png": "[encoded data removed]",
      "text/plain": [
       "<matplotlib.figure.Figure at 0x7f0e71fff748>"
      ]
     },
     "metadata": {},
     "output_type": "display_data"
    }
   ],
   "source": [
    "_ = dendrogram(Z_by_dise, labels=ndf.columns.values)"
   ]
  },
  {
   "cell_type": "code",
   "execution_count": 104,
   "metadata": {},
   "outputs": [
    {
     "data": {
      "text/html": [
       "<div>\n",
       "<style>\n",
       "    .dataframe thead tr:only-child th {\n",
       "        text-align: right;\n",
       "    }\n",
       "\n",
       "    .dataframe thead th {\n",
       "        text-align: left;\n",
       "    }\n",
       "\n",
       "    .dataframe tbody tr th {\n",
       "        vertical-align: top;\n",
       "    }\n",
       "</style>\n",
       "<table border=\"1\" class=\"dataframe\">\n",
       "  <thead>\n",
       "    <tr style=\"text-align: right;\">\n",
       "      <th></th>\n",
       "      <th>Gene</th>\n",
       "      <th>ACC</th>\n",
       "      <th>BLCA</th>\n",
       "      <th>BRCA</th>\n",
       "      <th>CESC</th>\n",
       "      <th>CHOL</th>\n",
       "      <th>COAD</th>\n",
       "      <th>DLBC</th>\n",
       "      <th>ESCA</th>\n",
       "      <th>GBM</th>\n",
       "      <th>HNSC</th>\n",
       "      <th>KICH</th>\n",
       "      <th>KIRC</th>\n",
       "      <th>KIRP</th>\n",
       "      <th>LAML</th>\n",
       "      <th>LGG</th>\n",
       "      <th>LIHC</th>\n",
       "      <th>LUAD</th>\n",
       "      <th>LUSC</th>\n",
       "      <th>MESO</th>\n",
       "      <th>OV</th>\n",
       "      <th>PAAD</th>\n",
       "      <th>PCPG</th>\n",
       "      <th>PRAD</th>\n",
       "      <th>READ</th>\n",
       "      <th>SARC</th>\n",
       "      <th>SKCM</th>\n",
       "      <th>STAD</th>\n",
       "      <th>TGCT</th>\n",
       "      <th>THCA</th>\n",
       "      <th>THYM</th>\n",
       "      <th>UCEC</th>\n",
       "      <th>UCS</th>\n",
       "      <th>UVM</th>\n",
       "    </tr>\n",
       "  </thead>\n",
       "  <tbody>\n",
       "    <tr>\n",
       "      <th>0</th>\n",
       "      <td>ABL1</td>\n",
       "      <td>[0, 0, 1, 0]</td>\n",
       "      <td>[0, 0, 0, 0]</td>\n",
       "      <td>[0, 1, 0, 0]</td>\n",
       "      <td>[0, 1, 1, 1]</td>\n",
       "      <td>[0, 1, 0, 0]</td>\n",
       "      <td>[0, 1, 1, 1]</td>\n",
       "      <td>[0, 0, 1, 0]</td>\n",
       "      <td>[0, 1, 1, 0]</td>\n",
       "      <td>[0, 1, 1, 1]</td>\n",
       "      <td>[0, 1, 1, 1]</td>\n",
       "      <td>[0, 0, 1, 0]</td>\n",
       "      <td>[0, 1, 1, 1]</td>\n",
       "      <td>[0, 1, 0, 0]</td>\n",
       "      <td>[1, 1, 1, 0]</td>\n",
       "      <td>[0, 0, 0, 0]</td>\n",
       "      <td>[0, 1, 1, 0]</td>\n",
       "      <td>[0, 1, 1, 1]</td>\n",
       "      <td>[0, 1, 1, 1]</td>\n",
       "      <td>[0, 0, 0, 0]</td>\n",
       "      <td>[0, 0, 0, 0]</td>\n",
       "      <td>[0, 0, 0, 0]</td>\n",
       "      <td>[0, 0, 0, 0]</td>\n",
       "      <td>[0, 1, 1, 1]</td>\n",
       "      <td>[0, 1, 1, 1]</td>\n",
       "      <td>[0, 0, 1, 1]</td>\n",
       "      <td>[0, 1, 1, 0]</td>\n",
       "      <td>[0, 1, 1, 0]</td>\n",
       "      <td>[0, 0, 0, 0]</td>\n",
       "      <td>[0, 1, 1, 1]</td>\n",
       "      <td>[0, 0, 0, 0]</td>\n",
       "      <td>[0, 1, 1, 1]</td>\n",
       "      <td>[0, 0, 1, 1]</td>\n",
       "      <td>[0, 0, 0, 0]</td>\n",
       "    </tr>\n",
       "    <tr>\n",
       "      <th>1</th>\n",
       "      <td>AKT1</td>\n",
       "      <td>[0, 0, 0, 0]</td>\n",
       "      <td>[0, 1, 0, 0]</td>\n",
       "      <td>[0, 1, 0, 0]</td>\n",
       "      <td>[0, 1, 0, 0]</td>\n",
       "      <td>[0, 1, 0, 0]</td>\n",
       "      <td>[0, 1, 0, 0]</td>\n",
       "      <td>[0, 0, 0, 0]</td>\n",
       "      <td>[0, 1, 0, 0]</td>\n",
       "      <td>[0, 1, 1, 1]</td>\n",
       "      <td>[0, 1, 0, 0]</td>\n",
       "      <td>[0, 0, 0, 0]</td>\n",
       "      <td>[0, 1, 0, 0]</td>\n",
       "      <td>[0, 0, 0, 0]</td>\n",
       "      <td>[0, 0, 1, 0]</td>\n",
       "      <td>[0, 1, 0, 0]</td>\n",
       "      <td>[0, 1, 0, 0]</td>\n",
       "      <td>[0, 1, 0, 0]</td>\n",
       "      <td>[0, 1, 0, 0]</td>\n",
       "      <td>[0, 0, 0, 0]</td>\n",
       "      <td>[0, 0, 0, 0]</td>\n",
       "      <td>[0, 0, 0, 0]</td>\n",
       "      <td>[0, 0, 0, 0]</td>\n",
       "      <td>[0, 1, 0, 0]</td>\n",
       "      <td>[0, 1, 0, 0]</td>\n",
       "      <td>[0, 1, 0, 0]</td>\n",
       "      <td>[0, 1, 0, 0]</td>\n",
       "      <td>[0, 1, 0, 0]</td>\n",
       "      <td>[0, 0, 0, 0]</td>\n",
       "      <td>[0, 1, 0, 0]</td>\n",
       "      <td>[0, 1, 0, 0]</td>\n",
       "      <td>[0, 1, 0, 0]</td>\n",
       "      <td>[0, 0, 0, 0]</td>\n",
       "      <td>[0, 0, 0, 0]</td>\n",
       "    </tr>\n",
       "    <tr>\n",
       "      <th>2</th>\n",
       "      <td>AKT2</td>\n",
       "      <td>[0, 0, 0, 0]</td>\n",
       "      <td>[0, 0, 0, 0]</td>\n",
       "      <td>[0, 1, 0, 0]</td>\n",
       "      <td>[0, 1, 0, 0]</td>\n",
       "      <td>[0, 1, 0, 0]</td>\n",
       "      <td>[0, 1, 1, 1]</td>\n",
       "      <td>[0, 0, 0, 0]</td>\n",
       "      <td>[0, 1, 0, 0]</td>\n",
       "      <td>[0, 0, 1, 0]</td>\n",
       "      <td>[0, 1, 0, 0]</td>\n",
       "      <td>[0, 0, 0, 0]</td>\n",
       "      <td>[0, 1, 0, 0]</td>\n",
       "      <td>[0, 1, 0, 0]</td>\n",
       "      <td>[0, 0, 1, 0]</td>\n",
       "      <td>[0, 0, 0, 0]</td>\n",
       "      <td>[0, 1, 0, 0]</td>\n",
       "      <td>[0, 1, 0, 0]</td>\n",
       "      <td>[0, 1, 0, 0]</td>\n",
       "      <td>[0, 0, 0, 0]</td>\n",
       "      <td>[0, 0, 0, 0]</td>\n",
       "      <td>[0, 0, 0, 0]</td>\n",
       "      <td>[0, 0, 0, 0]</td>\n",
       "      <td>[0, 1, 0, 0]</td>\n",
       "      <td>[0, 1, 0, 0]</td>\n",
       "      <td>[0, 0, 0, 0]</td>\n",
       "      <td>[0, 1, 0, 0]</td>\n",
       "      <td>[0, 1, 0, 0]</td>\n",
       "      <td>[0, 0, 0, 0]</td>\n",
       "      <td>[0, 1, 0, 0]</td>\n",
       "      <td>[0, 0, 0, 0]</td>\n",
       "      <td>[0, 1, 0, 0]</td>\n",
       "      <td>[0, 0, 0, 0]</td>\n",
       "      <td>[0, 0, 0, 0]</td>\n",
       "    </tr>\n",
       "    <tr>\n",
       "      <th>3</th>\n",
       "      <td>ALK</td>\n",
       "      <td>[0, 1, 0, 0]</td>\n",
       "      <td>[0, 1, 0, 0]</td>\n",
       "      <td>[0, 1, 0, 0]</td>\n",
       "      <td>[0, 1, 0, 0]</td>\n",
       "      <td>[0, 1, 0, 0]</td>\n",
       "      <td>[0, 1, 1, 0]</td>\n",
       "      <td>[1, 0, 0, 0]</td>\n",
       "      <td>[0, 1, 0, 0]</td>\n",
       "      <td>[0, 1, 1, 0]</td>\n",
       "      <td>[0, 1, 0, 0]</td>\n",
       "      <td>[0, 1, 0, 0]</td>\n",
       "      <td>[0, 1, 0, 0]</td>\n",
       "      <td>[0, 1, 0, 0]</td>\n",
       "      <td>[1, 1, 1, 0]</td>\n",
       "      <td>[0, 0, 0, 0]</td>\n",
       "      <td>[0, 1, 0, 0]</td>\n",
       "      <td>[1, 1, 0, 0]</td>\n",
       "      <td>[1, 1, 0, 0]</td>\n",
       "      <td>[0, 0, 0, 0]</td>\n",
       "      <td>[0, 0, 0, 0]</td>\n",
       "      <td>[0, 0, 0, 0]</td>\n",
       "      <td>[0, 0, 0, 0]</td>\n",
       "      <td>[0, 1, 0, 0]</td>\n",
       "      <td>[0, 1, 0, 0]</td>\n",
       "      <td>[1, 1, 0, 0]</td>\n",
       "      <td>[0, 1, 0, 0]</td>\n",
       "      <td>[0, 1, 0, 0]</td>\n",
       "      <td>[0, 0, 0, 0]</td>\n",
       "      <td>[1, 1, 0, 0]</td>\n",
       "      <td>[0, 0, 0, 0]</td>\n",
       "      <td>[0, 1, 0, 0]</td>\n",
       "      <td>[0, 1, 0, 0]</td>\n",
       "      <td>[0, 0, 0, 0]</td>\n",
       "    </tr>\n",
       "    <tr>\n",
       "      <th>4</th>\n",
       "      <td>AMER1</td>\n",
       "      <td>[0, 0, 1, 0]</td>\n",
       "      <td>[0, 0, 0, 0]</td>\n",
       "      <td>[0, 1, 0, 0]</td>\n",
       "      <td>[0, 1, 1, 0]</td>\n",
       "      <td>[0, 0, 0, 0]</td>\n",
       "      <td>[0, 1, 1, 1]</td>\n",
       "      <td>[0, 1, 1, 0]</td>\n",
       "      <td>[0, 0, 1, 1]</td>\n",
       "      <td>[0, 0, 1, 0]</td>\n",
       "      <td>[0, 1, 1, 0]</td>\n",
       "      <td>[0, 0, 1, 0]</td>\n",
       "      <td>[0, 1, 1, 1]</td>\n",
       "      <td>[0, 0, 0, 0]</td>\n",
       "      <td>[0, 0, 1, 0]</td>\n",
       "      <td>[0, 0, 0, 0]</td>\n",
       "      <td>[0, 1, 1, 0]</td>\n",
       "      <td>[0, 1, 1, 1]</td>\n",
       "      <td>[0, 1, 1, 0]</td>\n",
       "      <td>[0, 0, 0, 0]</td>\n",
       "      <td>[0, 0, 0, 0]</td>\n",
       "      <td>[0, 0, 0, 0]</td>\n",
       "      <td>[0, 0, 0, 0]</td>\n",
       "      <td>[0, 1, 0, 0]</td>\n",
       "      <td>[0, 1, 1, 1]</td>\n",
       "      <td>[0, 0, 1, 1]</td>\n",
       "      <td>[0, 1, 1, 0]</td>\n",
       "      <td>[0, 1, 1, 1]</td>\n",
       "      <td>[0, 0, 0, 0]</td>\n",
       "      <td>[0, 0, 1, 1]</td>\n",
       "      <td>[0, 0, 0, 0]</td>\n",
       "      <td>[0, 1, 1, 0]</td>\n",
       "      <td>[0, 0, 1, 1]</td>\n",
       "      <td>[0, 0, 0, 0]</td>\n",
       "    </tr>\n",
       "  </tbody>\n",
       "</table>\n",
       "</div>"
      ],
      "text/plain": [
       "    Gene           ACC          BLCA          BRCA          CESC  \\\n",
       "0  ABL1   [0, 0, 1, 0]  [0, 0, 0, 0]  [0, 1, 0, 0]  [0, 1, 1, 1]   \n",
       "1  AKT1   [0, 0, 0, 0]  [0, 1, 0, 0]  [0, 1, 0, 0]  [0, 1, 0, 0]   \n",
       "2  AKT2   [0, 0, 0, 0]  [0, 0, 0, 0]  [0, 1, 0, 0]  [0, 1, 0, 0]   \n",
       "3  ALK    [0, 1, 0, 0]  [0, 1, 0, 0]  [0, 1, 0, 0]  [0, 1, 0, 0]   \n",
       "4  AMER1  [0, 0, 1, 0]  [0, 0, 0, 0]  [0, 1, 0, 0]  [0, 1, 1, 0]   \n",
       "\n",
       "           CHOL          COAD          DLBC          ESCA           GBM  \\\n",
       "0  [0, 1, 0, 0]  [0, 1, 1, 1]  [0, 0, 1, 0]  [0, 1, 1, 0]  [0, 1, 1, 1]   \n",
       "1  [0, 1, 0, 0]  [0, 1, 0, 0]  [0, 0, 0, 0]  [0, 1, 0, 0]  [0, 1, 1, 1]   \n",
       "2  [0, 1, 0, 0]  [0, 1, 1, 1]  [0, 0, 0, 0]  [0, 1, 0, 0]  [0, 0, 1, 0]   \n",
       "3  [0, 1, 0, 0]  [0, 1, 1, 0]  [1, 0, 0, 0]  [0, 1, 0, 0]  [0, 1, 1, 0]   \n",
       "4  [0, 0, 0, 0]  [0, 1, 1, 1]  [0, 1, 1, 0]  [0, 0, 1, 1]  [0, 0, 1, 0]   \n",
       "\n",
       "           HNSC          KICH          KIRC          KIRP          LAML  \\\n",
       "0  [0, 1, 1, 1]  [0, 0, 1, 0]  [0, 1, 1, 1]  [0, 1, 0, 0]  [1, 1, 1, 0]   \n",
       "1  [0, 1, 0, 0]  [0, 0, 0, 0]  [0, 1, 0, 0]  [0, 0, 0, 0]  [0, 0, 1, 0]   \n",
       "2  [0, 1, 0, 0]  [0, 0, 0, 0]  [0, 1, 0, 0]  [0, 1, 0, 0]  [0, 0, 1, 0]   \n",
       "3  [0, 1, 0, 0]  [0, 1, 0, 0]  [0, 1, 0, 0]  [0, 1, 0, 0]  [1, 1, 1, 0]   \n",
       "4  [0, 1, 1, 0]  [0, 0, 1, 0]  [0, 1, 1, 1]  [0, 0, 0, 0]  [0, 0, 1, 0]   \n",
       "\n",
       "            LGG          LIHC          LUAD          LUSC          MESO  \\\n",
       "0  [0, 0, 0, 0]  [0, 1, 1, 0]  [0, 1, 1, 1]  [0, 1, 1, 1]  [0, 0, 0, 0]   \n",
       "1  [0, 1, 0, 0]  [0, 1, 0, 0]  [0, 1, 0, 0]  [0, 1, 0, 0]  [0, 0, 0, 0]   \n",
       "2  [0, 0, 0, 0]  [0, 1, 0, 0]  [0, 1, 0, 0]  [0, 1, 0, 0]  [0, 0, 0, 0]   \n",
       "3  [0, 0, 0, 0]  [0, 1, 0, 0]  [1, 1, 0, 0]  [1, 1, 0, 0]  [0, 0, 0, 0]   \n",
       "4  [0, 0, 0, 0]  [0, 1, 1, 0]  [0, 1, 1, 1]  [0, 1, 1, 0]  [0, 0, 0, 0]   \n",
       "\n",
       "             OV          PAAD          PCPG          PRAD          READ  \\\n",
       "0  [0, 0, 0, 0]  [0, 0, 0, 0]  [0, 0, 0, 0]  [0, 1, 1, 1]  [0, 1, 1, 1]   \n",
       "1  [0, 0, 0, 0]  [0, 0, 0, 0]  [0, 0, 0, 0]  [0, 1, 0, 0]  [0, 1, 0, 0]   \n",
       "2  [0, 0, 0, 0]  [0, 0, 0, 0]  [0, 0, 0, 0]  [0, 1, 0, 0]  [0, 1, 0, 0]   \n",
       "3  [0, 0, 0, 0]  [0, 0, 0, 0]  [0, 0, 0, 0]  [0, 1, 0, 0]  [0, 1, 0, 0]   \n",
       "4  [0, 0, 0, 0]  [0, 0, 0, 0]  [0, 0, 0, 0]  [0, 1, 0, 0]  [0, 1, 1, 1]   \n",
       "\n",
       "           SARC          SKCM          STAD          TGCT          THCA  \\\n",
       "0  [0, 0, 1, 1]  [0, 1, 1, 0]  [0, 1, 1, 0]  [0, 0, 0, 0]  [0, 1, 1, 1]   \n",
       "1  [0, 1, 0, 0]  [0, 1, 0, 0]  [0, 1, 0, 0]  [0, 0, 0, 0]  [0, 1, 0, 0]   \n",
       "2  [0, 0, 0, 0]  [0, 1, 0, 0]  [0, 1, 0, 0]  [0, 0, 0, 0]  [0, 1, 0, 0]   \n",
       "3  [1, 1, 0, 0]  [0, 1, 0, 0]  [0, 1, 0, 0]  [0, 0, 0, 0]  [1, 1, 0, 0]   \n",
       "4  [0, 0, 1, 1]  [0, 1, 1, 0]  [0, 1, 1, 1]  [0, 0, 0, 0]  [0, 0, 1, 1]   \n",
       "\n",
       "           THYM          UCEC           UCS           UVM  \n",
       "0  [0, 0, 0, 0]  [0, 1, 1, 1]  [0, 0, 1, 1]  [0, 0, 0, 0]  \n",
       "1  [0, 1, 0, 0]  [0, 1, 0, 0]  [0, 0, 0, 0]  [0, 0, 0, 0]  \n",
       "2  [0, 0, 0, 0]  [0, 1, 0, 0]  [0, 0, 0, 0]  [0, 0, 0, 0]  \n",
       "3  [0, 0, 0, 0]  [0, 1, 0, 0]  [0, 1, 0, 0]  [0, 0, 0, 0]  \n",
       "4  [0, 0, 0, 0]  [0, 1, 1, 0]  [0, 0, 1, 1]  [0, 0, 0, 0]  "
      ]
     },
     "execution_count": 104,
     "metadata": {},
     "output_type": "execute_result"
    }
   ],
   "source": [
    "ndf.head()"
   ]
  },
  {
   "cell_type": "code",
   "execution_count": 102,
   "metadata": {},
   "outputs": [
    {
     "data": {
      "text/plain": [
       "array([  3,  90,  32,  17,  16,   2,  41,  33,   1,  18,  10, 112,  55,\n",
       "        53,  22,  85,  67,  40,  39,   4, 111,  82,  80,  70,  62,  51,\n",
       "       109, 106,  95,  77,  57,  72,  61,  60,  54,  52,  43,  24, 108,\n",
       "       107, 102,  25,  21,  91,  56,  42,  30,  20,   6, 104, 101,  65,\n",
       "        97,  88,  71,  34,  11,  31,  27,  12,  89,  75,  59,  36,  28,\n",
       "        15, 103,  87,  14,  46,  73,  44,  38,  64, 113, 105,  98,  83,\n",
       "        74,  79,  49,  96,  78,  66,  45,  35,  37, 110,  13,  48,  19,\n",
       "         9,  81,   5,  94,  76,  47,   0, 100,  69,  63,   7,  58,  50,\n",
       "        26,  99,  68,  93,  29,   8,  23,  84,  86,  92], dtype=int32)"
      ]
     },
     "execution_count": 102,
     "metadata": {},
     "output_type": "execute_result"
    }
   ],
   "source": [
    "# gene_idxes"
   ]
  },
  {
   "cell_type": "code",
   "execution_count": 105,
   "metadata": {},
   "outputs": [],
   "source": [
    "# odf = ndf.ix[gene_idxes][dise_idxes]\n",
    "ndf = ndf.reset_index()\n",
    "ndf.columns = [i for i in range(ndf.shape[1])]\n",
    "odf = ndf.loc[gene_idxes][dise_idxes]"
   ]
  },
  {
   "cell_type": "code",
   "execution_count": 108,
   "metadata": {},
   "outputs": [],
   "source": [
    "odf = odf.set_index(1)"
   ]
  },
  {
   "cell_type": "code",
   "execution_count": 109,
   "metadata": {},
   "outputs": [
    {
     "data": {
      "text/html": [
       "<div>\n",
       "<style>\n",
       "    .dataframe thead tr:only-child th {\n",
       "        text-align: right;\n",
       "    }\n",
       "\n",
       "    .dataframe thead th {\n",
       "        text-align: left;\n",
       "    }\n",
       "\n",
       "    .dataframe tbody tr th {\n",
       "        vertical-align: top;\n",
       "    }\n",
       "</style>\n",
       "<table border=\"1\" class=\"dataframe\">\n",
       "  <thead>\n",
       "    <tr style=\"text-align: right;\">\n",
       "      <th></th>\n",
       "      <th>2</th>\n",
       "      <th>4</th>\n",
       "      <th>12</th>\n",
       "      <th>14</th>\n",
       "      <th>21</th>\n",
       "      <th>18</th>\n",
       "      <th>32</th>\n",
       "      <th>29</th>\n",
       "      <th>27</th>\n",
       "      <th>19</th>\n",
       "      <th>20</th>\n",
       "      <th>13</th>\n",
       "      <th>28</th>\n",
       "      <th>8</th>\n",
       "      <th>23</th>\n",
       "      <th>24</th>\n",
       "      <th>22</th>\n",
       "      <th>3</th>\n",
       "      <th>11</th>\n",
       "      <th>7</th>\n",
       "      <th>5</th>\n",
       "      <th>26</th>\n",
       "      <th>30</th>\n",
       "      <th>25</th>\n",
       "      <th>15</th>\n",
       "      <th>16</th>\n",
       "      <th>9</th>\n",
       "      <th>17</th>\n",
       "      <th>6</th>\n",
       "      <th>31</th>\n",
       "      <th>0</th>\n",
       "      <th>10</th>\n",
       "    </tr>\n",
       "    <tr>\n",
       "      <th>1</th>\n",
       "      <th></th>\n",
       "      <th></th>\n",
       "      <th></th>\n",
       "      <th></th>\n",
       "      <th></th>\n",
       "      <th></th>\n",
       "      <th></th>\n",
       "      <th></th>\n",
       "      <th></th>\n",
       "      <th></th>\n",
       "      <th></th>\n",
       "      <th></th>\n",
       "      <th></th>\n",
       "      <th></th>\n",
       "      <th></th>\n",
       "      <th></th>\n",
       "      <th></th>\n",
       "      <th></th>\n",
       "      <th></th>\n",
       "      <th></th>\n",
       "      <th></th>\n",
       "      <th></th>\n",
       "      <th></th>\n",
       "      <th></th>\n",
       "      <th></th>\n",
       "      <th></th>\n",
       "      <th></th>\n",
       "      <th></th>\n",
       "      <th></th>\n",
       "      <th></th>\n",
       "      <th></th>\n",
       "      <th></th>\n",
       "    </tr>\n",
       "  </thead>\n",
       "  <tbody>\n",
       "    <tr>\n",
       "      <th>ALK</th>\n",
       "      <td>[0, 1, 0, 0]</td>\n",
       "      <td>[0, 1, 0, 0]</td>\n",
       "      <td>[0, 1, 0, 0]</td>\n",
       "      <td>[0, 1, 0, 0]</td>\n",
       "      <td>[0, 0, 0, 0]</td>\n",
       "      <td>[1, 1, 0, 0]</td>\n",
       "      <td>[0, 1, 0, 0]</td>\n",
       "      <td>[0, 0, 0, 0]</td>\n",
       "      <td>[0, 1, 0, 0]</td>\n",
       "      <td>[1, 1, 0, 0]</td>\n",
       "      <td>[0, 0, 0, 0]</td>\n",
       "      <td>[0, 1, 0, 0]</td>\n",
       "      <td>[0, 1, 0, 0]</td>\n",
       "      <td>[1, 0, 0, 0]</td>\n",
       "      <td>[0, 0, 0, 0]</td>\n",
       "      <td>[0, 1, 0, 0]</td>\n",
       "      <td>[0, 0, 0, 0]</td>\n",
       "      <td>[0, 1, 0, 0]</td>\n",
       "      <td>[0, 1, 0, 0]</td>\n",
       "      <td>[0, 1, 1, 0]</td>\n",
       "      <td>[0, 1, 0, 0]</td>\n",
       "      <td>[1, 1, 0, 0]</td>\n",
       "      <td>[1, 1, 0, 0]</td>\n",
       "      <td>[0, 1, 0, 0]</td>\n",
       "      <td>[1, 1, 1, 0]</td>\n",
       "      <td>[0, 0, 0, 0]</td>\n",
       "      <td>[0, 1, 0, 0]</td>\n",
       "      <td>[0, 1, 0, 0]</td>\n",
       "      <td>[0, 1, 0, 0]</td>\n",
       "      <td>[0, 0, 0, 0]</td>\n",
       "      <td>3</td>\n",
       "      <td>[0, 1, 1, 0]</td>\n",
       "    </tr>\n",
       "    <tr>\n",
       "      <th>RTCA</th>\n",
       "      <td>[0, 0, 0, 0]</td>\n",
       "      <td>[0, 0, 0, 0]</td>\n",
       "      <td>[0, 0, 0, 0]</td>\n",
       "      <td>[0, 0, 0, 0]</td>\n",
       "      <td>[0, 0, 0, 0]</td>\n",
       "      <td>[0, 0, 0, 0]</td>\n",
       "      <td>[0, 0, 0, 0]</td>\n",
       "      <td>[0, 0, 0, 0]</td>\n",
       "      <td>[0, 1, 0, 0]</td>\n",
       "      <td>[0, 0, 0, 0]</td>\n",
       "      <td>[0, 0, 0, 0]</td>\n",
       "      <td>[0, 1, 0, 0]</td>\n",
       "      <td>[0, 1, 0, 0]</td>\n",
       "      <td>[0, 0, 0, 0]</td>\n",
       "      <td>[0, 0, 0, 0]</td>\n",
       "      <td>[0, 0, 0, 0]</td>\n",
       "      <td>[0, 0, 0, 0]</td>\n",
       "      <td>[0, 0, 0, 0]</td>\n",
       "      <td>[0, 1, 0, 0]</td>\n",
       "      <td>[0, 1, 0, 0]</td>\n",
       "      <td>[0, 0, 0, 0]</td>\n",
       "      <td>[0, 0, 0, 0]</td>\n",
       "      <td>[0, 1, 0, 0]</td>\n",
       "      <td>[0, 0, 0, 0]</td>\n",
       "      <td>[0, 1, 0, 0]</td>\n",
       "      <td>[0, 0, 0, 0]</td>\n",
       "      <td>[0, 1, 0, 0]</td>\n",
       "      <td>[0, 1, 0, 0]</td>\n",
       "      <td>[0, 0, 0, 0]</td>\n",
       "      <td>[0, 1, 0, 0]</td>\n",
       "      <td>90</td>\n",
       "      <td>[0, 0, 0, 0]</td>\n",
       "    </tr>\n",
       "    <tr>\n",
       "      <th>FAS</th>\n",
       "      <td>[0, 0, 0, 0]</td>\n",
       "      <td>[0, 0, 0, 0]</td>\n",
       "      <td>[0, 0, 0, 0]</td>\n",
       "      <td>[0, 0, 0, 0]</td>\n",
       "      <td>[0, 0, 0, 0]</td>\n",
       "      <td>[0, 1, 0, 0]</td>\n",
       "      <td>[0, 1, 0, 0]</td>\n",
       "      <td>[0, 0, 0, 0]</td>\n",
       "      <td>[0, 1, 0, 0]</td>\n",
       "      <td>[0, 0, 0, 0]</td>\n",
       "      <td>[0, 0, 0, 0]</td>\n",
       "      <td>[0, 0, 0, 0]</td>\n",
       "      <td>[0, 1, 0, 0]</td>\n",
       "      <td>[0, 1, 0, 0]</td>\n",
       "      <td>[0, 0, 0, 0]</td>\n",
       "      <td>[0, 0, 0, 0]</td>\n",
       "      <td>[0, 0, 0, 0]</td>\n",
       "      <td>[0, 0, 0, 0]</td>\n",
       "      <td>[0, 0, 0, 0]</td>\n",
       "      <td>[0, 1, 0, 0]</td>\n",
       "      <td>[0, 0, 0, 0]</td>\n",
       "      <td>[0, 0, 0, 0]</td>\n",
       "      <td>[0, 0, 0, 0]</td>\n",
       "      <td>[0, 0, 0, 0]</td>\n",
       "      <td>[0, 0, 0, 0]</td>\n",
       "      <td>[0, 0, 0, 0]</td>\n",
       "      <td>[0, 0, 0, 0]</td>\n",
       "      <td>[0, 0, 0, 0]</td>\n",
       "      <td>[0, 0, 0, 0]</td>\n",
       "      <td>[0, 0, 0, 0]</td>\n",
       "      <td>32</td>\n",
       "      <td>[0, 0, 0, 0]</td>\n",
       "    </tr>\n",
       "    <tr>\n",
       "      <th>CD47</th>\n",
       "      <td>[0, 0, 0, 0]</td>\n",
       "      <td>[0, 0, 0, 0]</td>\n",
       "      <td>[0, 0, 0, 0]</td>\n",
       "      <td>[0, 0, 0, 0]</td>\n",
       "      <td>[0, 0, 0, 0]</td>\n",
       "      <td>[0, 1, 0, 0]</td>\n",
       "      <td>[0, 1, 0, 0]</td>\n",
       "      <td>[0, 0, 0, 0]</td>\n",
       "      <td>[0, 1, 0, 0]</td>\n",
       "      <td>[0, 1, 0, 0]</td>\n",
       "      <td>[0, 0, 0, 0]</td>\n",
       "      <td>[0, 0, 0, 0]</td>\n",
       "      <td>[0, 0, 0, 0]</td>\n",
       "      <td>[0, 0, 0, 0]</td>\n",
       "      <td>[0, 0, 0, 0]</td>\n",
       "      <td>[0, 0, 0, 0]</td>\n",
       "      <td>[0, 0, 0, 0]</td>\n",
       "      <td>[0, 1, 0, 0]</td>\n",
       "      <td>[0, 1, 0, 0]</td>\n",
       "      <td>[0, 1, 0, 0]</td>\n",
       "      <td>[0, 0, 0, 0]</td>\n",
       "      <td>[0, 0, 0, 0]</td>\n",
       "      <td>[0, 0, 0, 0]</td>\n",
       "      <td>[0, 0, 0, 0]</td>\n",
       "      <td>[0, 0, 1, 0]</td>\n",
       "      <td>[0, 0, 0, 0]</td>\n",
       "      <td>[0, 0, 0, 0]</td>\n",
       "      <td>[0, 1, 0, 0]</td>\n",
       "      <td>[0, 0, 0, 0]</td>\n",
       "      <td>[0, 0, 0, 0]</td>\n",
       "      <td>17</td>\n",
       "      <td>[0, 0, 1, 1]</td>\n",
       "    </tr>\n",
       "    <tr>\n",
       "      <th>CCNE1</th>\n",
       "      <td>[0, 0, 0, 0]</td>\n",
       "      <td>[0, 0, 0, 0]</td>\n",
       "      <td>[0, 0, 0, 0]</td>\n",
       "      <td>[0, 1, 0, 0]</td>\n",
       "      <td>[0, 0, 0, 0]</td>\n",
       "      <td>[0, 1, 0, 0]</td>\n",
       "      <td>[0, 1, 0, 0]</td>\n",
       "      <td>[0, 0, 0, 0]</td>\n",
       "      <td>[0, 1, 0, 0]</td>\n",
       "      <td>[0, 1, 0, 0]</td>\n",
       "      <td>[0, 0, 0, 0]</td>\n",
       "      <td>[0, 0, 0, 0]</td>\n",
       "      <td>[0, 1, 0, 0]</td>\n",
       "      <td>[0, 0, 0, 0]</td>\n",
       "      <td>[0, 0, 0, 0]</td>\n",
       "      <td>[0, 0, 0, 0]</td>\n",
       "      <td>[0, 0, 0, 0]</td>\n",
       "      <td>[0, 0, 0, 0]</td>\n",
       "      <td>[0, 1, 0, 0]</td>\n",
       "      <td>[0, 1, 0, 0]</td>\n",
       "      <td>[0, 1, 0, 0]</td>\n",
       "      <td>[0, 1, 0, 0]</td>\n",
       "      <td>[0, 0, 0, 0]</td>\n",
       "      <td>[0, 1, 0, 0]</td>\n",
       "      <td>[0, 0, 1, 0]</td>\n",
       "      <td>[0, 0, 0, 0]</td>\n",
       "      <td>[0, 1, 0, 0]</td>\n",
       "      <td>[0, 1, 0, 0]</td>\n",
       "      <td>[0, 0, 0, 0]</td>\n",
       "      <td>[0, 0, 0, 0]</td>\n",
       "      <td>16</td>\n",
       "      <td>[0, 1, 1, 0]</td>\n",
       "    </tr>\n",
       "  </tbody>\n",
       "</table>\n",
       "</div>"
      ],
      "text/plain": [
       "                  2             4            12            14            21  \\\n",
       "1                                                                             \n",
       "ALK    [0, 1, 0, 0]  [0, 1, 0, 0]  [0, 1, 0, 0]  [0, 1, 0, 0]  [0, 0, 0, 0]   \n",
       "RTCA   [0, 0, 0, 0]  [0, 0, 0, 0]  [0, 0, 0, 0]  [0, 0, 0, 0]  [0, 0, 0, 0]   \n",
       "FAS    [0, 0, 0, 0]  [0, 0, 0, 0]  [0, 0, 0, 0]  [0, 0, 0, 0]  [0, 0, 0, 0]   \n",
       "CD47   [0, 0, 0, 0]  [0, 0, 0, 0]  [0, 0, 0, 0]  [0, 0, 0, 0]  [0, 0, 0, 0]   \n",
       "CCNE1  [0, 0, 0, 0]  [0, 0, 0, 0]  [0, 0, 0, 0]  [0, 1, 0, 0]  [0, 0, 0, 0]   \n",
       "\n",
       "                 18            32            29            27            19  \\\n",
       "1                                                                             \n",
       "ALK    [1, 1, 0, 0]  [0, 1, 0, 0]  [0, 0, 0, 0]  [0, 1, 0, 0]  [1, 1, 0, 0]   \n",
       "RTCA   [0, 0, 0, 0]  [0, 0, 0, 0]  [0, 0, 0, 0]  [0, 1, 0, 0]  [0, 0, 0, 0]   \n",
       "FAS    [0, 1, 0, 0]  [0, 1, 0, 0]  [0, 0, 0, 0]  [0, 1, 0, 0]  [0, 0, 0, 0]   \n",
       "CD47   [0, 1, 0, 0]  [0, 1, 0, 0]  [0, 0, 0, 0]  [0, 1, 0, 0]  [0, 1, 0, 0]   \n",
       "CCNE1  [0, 1, 0, 0]  [0, 1, 0, 0]  [0, 0, 0, 0]  [0, 1, 0, 0]  [0, 1, 0, 0]   \n",
       "\n",
       "                 20            13            28             8            23  \\\n",
       "1                                                                             \n",
       "ALK    [0, 0, 0, 0]  [0, 1, 0, 0]  [0, 1, 0, 0]  [1, 0, 0, 0]  [0, 0, 0, 0]   \n",
       "RTCA   [0, 0, 0, 0]  [0, 1, 0, 0]  [0, 1, 0, 0]  [0, 0, 0, 0]  [0, 0, 0, 0]   \n",
       "FAS    [0, 0, 0, 0]  [0, 0, 0, 0]  [0, 1, 0, 0]  [0, 1, 0, 0]  [0, 0, 0, 0]   \n",
       "CD47   [0, 0, 0, 0]  [0, 0, 0, 0]  [0, 0, 0, 0]  [0, 0, 0, 0]  [0, 0, 0, 0]   \n",
       "CCNE1  [0, 0, 0, 0]  [0, 0, 0, 0]  [0, 1, 0, 0]  [0, 0, 0, 0]  [0, 0, 0, 0]   \n",
       "\n",
       "                 24            22             3            11             7  \\\n",
       "1                                                                             \n",
       "ALK    [0, 1, 0, 0]  [0, 0, 0, 0]  [0, 1, 0, 0]  [0, 1, 0, 0]  [0, 1, 1, 0]   \n",
       "RTCA   [0, 0, 0, 0]  [0, 0, 0, 0]  [0, 0, 0, 0]  [0, 1, 0, 0]  [0, 1, 0, 0]   \n",
       "FAS    [0, 0, 0, 0]  [0, 0, 0, 0]  [0, 0, 0, 0]  [0, 0, 0, 0]  [0, 1, 0, 0]   \n",
       "CD47   [0, 0, 0, 0]  [0, 0, 0, 0]  [0, 1, 0, 0]  [0, 1, 0, 0]  [0, 1, 0, 0]   \n",
       "CCNE1  [0, 0, 0, 0]  [0, 0, 0, 0]  [0, 0, 0, 0]  [0, 1, 0, 0]  [0, 1, 0, 0]   \n",
       "\n",
       "                  5            26            30            25            15  \\\n",
       "1                                                                             \n",
       "ALK    [0, 1, 0, 0]  [1, 1, 0, 0]  [1, 1, 0, 0]  [0, 1, 0, 0]  [1, 1, 1, 0]   \n",
       "RTCA   [0, 0, 0, 0]  [0, 0, 0, 0]  [0, 1, 0, 0]  [0, 0, 0, 0]  [0, 1, 0, 0]   \n",
       "FAS    [0, 0, 0, 0]  [0, 0, 0, 0]  [0, 0, 0, 0]  [0, 0, 0, 0]  [0, 0, 0, 0]   \n",
       "CD47   [0, 0, 0, 0]  [0, 0, 0, 0]  [0, 0, 0, 0]  [0, 0, 0, 0]  [0, 0, 1, 0]   \n",
       "CCNE1  [0, 1, 0, 0]  [0, 1, 0, 0]  [0, 0, 0, 0]  [0, 1, 0, 0]  [0, 0, 1, 0]   \n",
       "\n",
       "                 16             9            17             6            31  \\\n",
       "1                                                                             \n",
       "ALK    [0, 0, 0, 0]  [0, 1, 0, 0]  [0, 1, 0, 0]  [0, 1, 0, 0]  [0, 0, 0, 0]   \n",
       "RTCA   [0, 0, 0, 0]  [0, 1, 0, 0]  [0, 1, 0, 0]  [0, 0, 0, 0]  [0, 1, 0, 0]   \n",
       "FAS    [0, 0, 0, 0]  [0, 0, 0, 0]  [0, 0, 0, 0]  [0, 0, 0, 0]  [0, 0, 0, 0]   \n",
       "CD47   [0, 0, 0, 0]  [0, 0, 0, 0]  [0, 1, 0, 0]  [0, 0, 0, 0]  [0, 0, 0, 0]   \n",
       "CCNE1  [0, 0, 0, 0]  [0, 1, 0, 0]  [0, 1, 0, 0]  [0, 0, 0, 0]  [0, 0, 0, 0]   \n",
       "\n",
       "        0            10  \n",
       "1                        \n",
       "ALK    3   [0, 1, 1, 0]  \n",
       "RTCA   90  [0, 0, 0, 0]  \n",
       "FAS    32  [0, 0, 0, 0]  \n",
       "CD47   17  [0, 0, 1, 1]  \n",
       "CCNE1  16  [0, 1, 1, 0]  "
      ]
     },
     "execution_count": 109,
     "metadata": {},
     "output_type": "execute_result"
    }
   ],
   "source": [
    "odf.head()"
   ]
  },
  {
   "cell_type": "code",
   "execution_count": 111,
   "metadata": {},
   "outputs": [
    {
     "ename": "AttributeError",
     "evalue": "'_LocIndexer' object has no attribute 'tolist'",
     "output_type": "error",
     "traceback": [
      "\u001b[0;31m---------------------------------------------------------------------------\u001b[0m",
      "\u001b[0;31mAttributeError\u001b[0m                            Traceback (most recent call last)",
      "\u001b[0;32m<ipython-input-111-42f336bd873a>\u001b[0m in \u001b[0;36m<module>\u001b[0;34m()\u001b[0m\n\u001b[0;32m----> 1\u001b[0;31m \u001b[0modf\u001b[0m\u001b[0;34m.\u001b[0m\u001b[0mloc\u001b[0m\u001b[0;34m(\u001b[0m\u001b[0;34m'Gene'\u001b[0m\u001b[0;34m)\u001b[0m\u001b[0;34m.\u001b[0m\u001b[0mtolist\u001b[0m\u001b[0;34m(\u001b[0m\u001b[0;34m)\u001b[0m\u001b[0;34m\u001b[0m\u001b[0m\n\u001b[0m",
      "\u001b[0;31mAttributeError\u001b[0m: '_LocIndexer' object has no attribute 'tolist'"
     ]
    }
   ],
   "source": []
  },
  {
   "cell_type": "markdown",
   "metadata": {},
   "source": [
    "# Convert to int for plotting"
   ]
  },
  {
   "cell_type": "code",
   "execution_count": 112,
   "metadata": {},
   "outputs": [
    {
     "ename": "TypeError",
     "evalue": "(\"'int' object is not iterable\", 'occurred at index 0')",
     "output_type": "error",
     "traceback": [
      "\u001b[0;31m---------------------------------------------------------------------------\u001b[0m",
      "\u001b[0;31mTypeError\u001b[0m                                 Traceback (most recent call last)",
      "\u001b[0;32m<ipython-input-112-9b444390ec36>\u001b[0m in \u001b[0;36m<module>\u001b[0;34m()\u001b[0m\n\u001b[0;32m----> 1\u001b[0;31m \u001b[0mpdf\u001b[0m \u001b[0;34m=\u001b[0m \u001b[0modf\u001b[0m\u001b[0;34m.\u001b[0m\u001b[0mapplymap\u001b[0m\u001b[0;34m(\u001b[0m\u001b[0;32mlambda\u001b[0m \u001b[0mv\u001b[0m\u001b[0;34m:\u001b[0m \u001b[0mint\u001b[0m\u001b[0;34m(\u001b[0m\u001b[0;34m''\u001b[0m\u001b[0;34m.\u001b[0m\u001b[0mjoin\u001b[0m\u001b[0;34m(\u001b[0m\u001b[0mmap\u001b[0m\u001b[0;34m(\u001b[0m\u001b[0mstr\u001b[0m\u001b[0;34m,\u001b[0m \u001b[0mv\u001b[0m\u001b[0;34m)\u001b[0m\u001b[0;34m)\u001b[0m\u001b[0;34m,\u001b[0m \u001b[0;36m2\u001b[0m\u001b[0;34m)\u001b[0m\u001b[0;34m)\u001b[0m\u001b[0;34m\u001b[0m\u001b[0m\n\u001b[0m\u001b[1;32m      2\u001b[0m \u001b[0mpdf\u001b[0m\u001b[0;34m.\u001b[0m\u001b[0mhead\u001b[0m\u001b[0;34m(\u001b[0m\u001b[0;36m2\u001b[0m\u001b[0;34m)\u001b[0m\u001b[0;34m\u001b[0m\u001b[0m\n",
      "\u001b[0;32m/home/szong/anaconda3/lib/python3.6/site-packages/pandas/core/frame.py\u001b[0m in \u001b[0;36mapplymap\u001b[0;34m(self, func)\u001b[0m\n\u001b[1;32m   4549\u001b[0m             \u001b[0;32mreturn\u001b[0m \u001b[0mlib\u001b[0m\u001b[0;34m.\u001b[0m\u001b[0mmap_infer\u001b[0m\u001b[0;34m(\u001b[0m\u001b[0mx\u001b[0m\u001b[0;34m.\u001b[0m\u001b[0masobject\u001b[0m\u001b[0;34m,\u001b[0m \u001b[0mfunc\u001b[0m\u001b[0;34m)\u001b[0m\u001b[0;34m\u001b[0m\u001b[0m\n\u001b[1;32m   4550\u001b[0m \u001b[0;34m\u001b[0m\u001b[0m\n\u001b[0;32m-> 4551\u001b[0;31m         \u001b[0;32mreturn\u001b[0m \u001b[0mself\u001b[0m\u001b[0;34m.\u001b[0m\u001b[0mapply\u001b[0m\u001b[0;34m(\u001b[0m\u001b[0minfer\u001b[0m\u001b[0;34m)\u001b[0m\u001b[0;34m\u001b[0m\u001b[0m\n\u001b[0m\u001b[1;32m   4552\u001b[0m \u001b[0;34m\u001b[0m\u001b[0m\n\u001b[1;32m   4553\u001b[0m     \u001b[0;31m# ----------------------------------------------------------------------\u001b[0m\u001b[0;34m\u001b[0m\u001b[0;34m\u001b[0m\u001b[0m\n",
      "\u001b[0;32m/home/szong/anaconda3/lib/python3.6/site-packages/pandas/core/frame.py\u001b[0m in \u001b[0;36mapply\u001b[0;34m(self, func, axis, broadcast, raw, reduce, args, **kwds)\u001b[0m\n\u001b[1;32m   4358\u001b[0m                         \u001b[0mf\u001b[0m\u001b[0;34m,\u001b[0m \u001b[0maxis\u001b[0m\u001b[0;34m,\u001b[0m\u001b[0;34m\u001b[0m\u001b[0m\n\u001b[1;32m   4359\u001b[0m                         \u001b[0mreduce\u001b[0m\u001b[0;34m=\u001b[0m\u001b[0mreduce\u001b[0m\u001b[0;34m,\u001b[0m\u001b[0;34m\u001b[0m\u001b[0m\n\u001b[0;32m-> 4360\u001b[0;31m                         ignore_failures=ignore_failures)\n\u001b[0m\u001b[1;32m   4361\u001b[0m             \u001b[0;32melse\u001b[0m\u001b[0;34m:\u001b[0m\u001b[0;34m\u001b[0m\u001b[0m\n\u001b[1;32m   4362\u001b[0m                 \u001b[0;32mreturn\u001b[0m \u001b[0mself\u001b[0m\u001b[0;34m.\u001b[0m\u001b[0m_apply_broadcast\u001b[0m\u001b[0;34m(\u001b[0m\u001b[0mf\u001b[0m\u001b[0;34m,\u001b[0m \u001b[0maxis\u001b[0m\u001b[0;34m)\u001b[0m\u001b[0;34m\u001b[0m\u001b[0m\n",
      "\u001b[0;32m/home/szong/anaconda3/lib/python3.6/site-packages/pandas/core/frame.py\u001b[0m in \u001b[0;36m_apply_standard\u001b[0;34m(self, func, axis, ignore_failures, reduce)\u001b[0m\n\u001b[1;32m   4454\u001b[0m             \u001b[0;32mtry\u001b[0m\u001b[0;34m:\u001b[0m\u001b[0;34m\u001b[0m\u001b[0m\n\u001b[1;32m   4455\u001b[0m                 \u001b[0;32mfor\u001b[0m \u001b[0mi\u001b[0m\u001b[0;34m,\u001b[0m \u001b[0mv\u001b[0m \u001b[0;32min\u001b[0m \u001b[0menumerate\u001b[0m\u001b[0;34m(\u001b[0m\u001b[0mseries_gen\u001b[0m\u001b[0;34m)\u001b[0m\u001b[0;34m:\u001b[0m\u001b[0;34m\u001b[0m\u001b[0m\n\u001b[0;32m-> 4456\u001b[0;31m                     \u001b[0mresults\u001b[0m\u001b[0;34m[\u001b[0m\u001b[0mi\u001b[0m\u001b[0;34m]\u001b[0m \u001b[0;34m=\u001b[0m \u001b[0mfunc\u001b[0m\u001b[0;34m(\u001b[0m\u001b[0mv\u001b[0m\u001b[0;34m)\u001b[0m\u001b[0;34m\u001b[0m\u001b[0m\n\u001b[0m\u001b[1;32m   4457\u001b[0m                     \u001b[0mkeys\u001b[0m\u001b[0;34m.\u001b[0m\u001b[0mappend\u001b[0m\u001b[0;34m(\u001b[0m\u001b[0mv\u001b[0m\u001b[0;34m.\u001b[0m\u001b[0mname\u001b[0m\u001b[0;34m)\u001b[0m\u001b[0;34m\u001b[0m\u001b[0m\n\u001b[1;32m   4458\u001b[0m             \u001b[0;32mexcept\u001b[0m \u001b[0mException\u001b[0m \u001b[0;32mas\u001b[0m \u001b[0me\u001b[0m\u001b[0;34m:\u001b[0m\u001b[0;34m\u001b[0m\u001b[0m\n",
      "\u001b[0;32m/home/szong/anaconda3/lib/python3.6/site-packages/pandas/core/frame.py\u001b[0m in \u001b[0;36minfer\u001b[0;34m(x)\u001b[0m\n\u001b[1;32m   4547\u001b[0m             \u001b[0;32mif\u001b[0m \u001b[0mx\u001b[0m\u001b[0;34m.\u001b[0m\u001b[0mempty\u001b[0m\u001b[0;34m:\u001b[0m\u001b[0;34m\u001b[0m\u001b[0m\n\u001b[1;32m   4548\u001b[0m                 \u001b[0;32mreturn\u001b[0m \u001b[0mlib\u001b[0m\u001b[0;34m.\u001b[0m\u001b[0mmap_infer\u001b[0m\u001b[0;34m(\u001b[0m\u001b[0mx\u001b[0m\u001b[0;34m,\u001b[0m \u001b[0mfunc\u001b[0m\u001b[0;34m)\u001b[0m\u001b[0;34m\u001b[0m\u001b[0m\n\u001b[0;32m-> 4549\u001b[0;31m             \u001b[0;32mreturn\u001b[0m \u001b[0mlib\u001b[0m\u001b[0;34m.\u001b[0m\u001b[0mmap_infer\u001b[0m\u001b[0;34m(\u001b[0m\u001b[0mx\u001b[0m\u001b[0;34m.\u001b[0m\u001b[0masobject\u001b[0m\u001b[0;34m,\u001b[0m \u001b[0mfunc\u001b[0m\u001b[0;34m)\u001b[0m\u001b[0;34m\u001b[0m\u001b[0m\n\u001b[0m\u001b[1;32m   4550\u001b[0m \u001b[0;34m\u001b[0m\u001b[0m\n\u001b[1;32m   4551\u001b[0m         \u001b[0;32mreturn\u001b[0m \u001b[0mself\u001b[0m\u001b[0;34m.\u001b[0m\u001b[0mapply\u001b[0m\u001b[0;34m(\u001b[0m\u001b[0minfer\u001b[0m\u001b[0;34m)\u001b[0m\u001b[0;34m\u001b[0m\u001b[0m\n",
      "\u001b[0;32mpandas/_libs/src/inference.pyx\u001b[0m in \u001b[0;36mpandas._libs.lib.map_infer (pandas/_libs/lib.c:66440)\u001b[0;34m()\u001b[0m\n",
      "\u001b[0;32m<ipython-input-112-9b444390ec36>\u001b[0m in \u001b[0;36m<lambda>\u001b[0;34m(v)\u001b[0m\n\u001b[0;32m----> 1\u001b[0;31m \u001b[0mpdf\u001b[0m \u001b[0;34m=\u001b[0m \u001b[0modf\u001b[0m\u001b[0;34m.\u001b[0m\u001b[0mapplymap\u001b[0m\u001b[0;34m(\u001b[0m\u001b[0;32mlambda\u001b[0m \u001b[0mv\u001b[0m\u001b[0;34m:\u001b[0m \u001b[0mint\u001b[0m\u001b[0;34m(\u001b[0m\u001b[0;34m''\u001b[0m\u001b[0;34m.\u001b[0m\u001b[0mjoin\u001b[0m\u001b[0;34m(\u001b[0m\u001b[0mmap\u001b[0m\u001b[0;34m(\u001b[0m\u001b[0mstr\u001b[0m\u001b[0;34m,\u001b[0m \u001b[0mv\u001b[0m\u001b[0;34m)\u001b[0m\u001b[0;34m)\u001b[0m\u001b[0;34m,\u001b[0m \u001b[0;36m2\u001b[0m\u001b[0;34m)\u001b[0m\u001b[0;34m)\u001b[0m\u001b[0;34m\u001b[0m\u001b[0m\n\u001b[0m\u001b[1;32m      2\u001b[0m \u001b[0mpdf\u001b[0m\u001b[0;34m.\u001b[0m\u001b[0mhead\u001b[0m\u001b[0;34m(\u001b[0m\u001b[0;36m2\u001b[0m\u001b[0;34m)\u001b[0m\u001b[0;34m\u001b[0m\u001b[0m\n",
      "\u001b[0;31mTypeError\u001b[0m: (\"'int' object is not iterable\", 'occurred at index 0')"
     ]
    }
   ],
   "source": [
    "pdf = odf.applymap(lambda v: int(''.join(map(str, v)), 2))\n",
    "pdf.head(2)"
   ]
  },
  {
   "cell_type": "code",
   "execution_count": null,
   "metadata": {},
   "outputs": [],
   "source": [
    "uniq_vals = np.sort(np.unique(pdf.values))\n",
    "uniq_vals"
   ]
  },
  {
   "cell_type": "code",
   "execution_count": null,
   "metadata": {
    "collapsed": true
   },
   "outputs": [],
   "source": [
    "qdf = pdf.T"
   ]
  },
  {
   "cell_type": "code",
   "execution_count": null,
   "metadata": {},
   "outputs": [],
   "source": [
    "qdf.head()"
   ]
  },
  {
   "cell_type": "code",
   "execution_count": null,
   "metadata": {
    "collapsed": true
   },
   "outputs": [],
   "source": [
    "# assert qdf.values[0][0] == int('1000', 2)\n",
    "# assert qdf.values[0][0] == qdf['ALK'].loc['BRCA']"
   ]
  },
  {
   "cell_type": "code",
   "execution_count": null,
   "metadata": {
    "collapsed": true
   },
   "outputs": [],
   "source": [
    "# print(len(xtick_labels))\n",
    "# print(len(xticks))\n"
   ]
  },
  {
   "cell_type": "code",
   "execution_count": 3,
   "metadata": {},
   "outputs": [
    {
     "ename": "NameError",
     "evalue": "name 'ax_by_dise' is not defined",
     "output_type": "error",
     "traceback": [
      "\u001b[0;31m---------------------------------------------------------------------------\u001b[0m",
      "\u001b[0;31mNameError\u001b[0m                                 Traceback (most recent call last)",
      "\u001b[0;32m<ipython-input-3-d507474227e9>\u001b[0m in \u001b[0;36m<module>\u001b[0;34m()\u001b[0m\n\u001b[1;32m      1\u001b[0m \u001b[0;31m# ax_by_gene.get_xticks()\u001b[0m\u001b[0;34m\u001b[0m\u001b[0;34m\u001b[0m\u001b[0m\n\u001b[0;32m----> 2\u001b[0;31m \u001b[0max_by_dise\u001b[0m\u001b[0;34m.\u001b[0m\u001b[0mget_yticks\u001b[0m\u001b[0;34m(\u001b[0m\u001b[0;34m)\u001b[0m\u001b[0;34m\u001b[0m\u001b[0m\n\u001b[0m",
      "\u001b[0;31mNameError\u001b[0m: name 'ax_by_dise' is not defined"
     ]
    }
   ],
   "source": [
    "# ax_by_gene.get_xticks()\n",
    "ax_by_dise.get_yticks()"
   ]
  },
  {
   "cell_type": "code",
   "execution_count": 104,
   "metadata": {},
   "outputs": [
    {
     "data": {
      "image/png": "[encoded data removed]",
      "text/plain": [
       "<matplotlib.figure.Figure at 0x7fcd548d40f0>"
      ]
     },
     "metadata": {},
     "output_type": "display_data"
    }
   ],
   "source": [
    "# http://stackoverflow.com/questions/24190858/matplotlib-move-ticklabels-between-ticks\n",
    "fig = plt.figure(figsize=(22, 8), facecolor='white')\n",
    "\n",
    "gs = gridspec.GridSpec(2, 3, height_ratios=[1,4], width_ratios=[1, 20, 0.2], \n",
    "                       wspace=0.1, # horizontal space\n",
    "                       hspace=0.28  # vertical space\n",
    "                      )\n",
    "\n",
    "ax_by_gene = fig.add_subplot(gs[1])\n",
    "col_func = lambda x: 'black'\n",
    "_ = dendrogram(Z_by_gene, ax=ax_by_gene, labels=ndf.index.values, leaf_font_size=10, link_color_func=col_func)\n",
    "ax_by_gene.set_frame_on(False)\n",
    "ax_by_gene.axes.get_yaxis().set_visible(False)\n",
    "\n",
    "ax_by_dise = fig.add_subplot(gs[3])\n",
    "_ = dendrogram(Z_by_dise, ax=ax_by_dise, orientation='left', labels=ndf.columns.values,  link_color_func=col_func)\n",
    "ax_by_dise.set_frame_on(False)\n",
    "ax_by_dise.axes.get_xaxis().set_visible(False)\n",
    "\n",
    "ax_mut = fig.add_subplot(gs[4])\n",
    "ax_mut.xaxis.tick_top()\n",
    "im = ax_mut.imshow(qdf.values,\n",
    "                   origin='lower',\n",
    "                   interpolation='none',\n",
    "                   extent=list(ax_by_gene.get_xlim()) + list(ax_by_dise.get_ylim()),\n",
    "                   aspect='auto',\n",
    "                   cmap='gist_ncar_r', \n",
    "                   vmin=0, vmax=15)"
   ]
  },
  {
   "cell_type": "code",
   "execution_count": 103,
   "metadata": {
    "collapsed": true
   },
   "outputs": [],
   "source": [
    "# ticklabels follow major ticks\n",
    "_ = ax_mut.set_xticks(ax_by_gene.get_xticks(), minor=False)\n",
    "_ = ax_mut.set_yticks(ax_by_dise.get_yticks(), minor=False)\n",
    "# ax_mut.minorticks_off()"
   ]
  },
  {
   "cell_type": "code",
   "execution_count": 98,
   "metadata": {},
   "outputs": [
    {
     "data": {
      "image/png": "[encoded data removed]",
      "text/plain": [
       "<matplotlib.figure.Figure at 0x7fcd575a0940>"
      ]
     },
     "metadata": {},
     "output_type": "display_data"
    }
   ],
   "source": [
    "# http://stackoverflow.com/questions/14852821/aligning-rotated-xticklabels-with-their-respective-xticks\n",
    "xtick_labels = qdf.columns.values.tolist()\n",
    "ytick_labels = qdf.index.values.tolist()\n",
    "\n",
    "# make sure the text match\n",
    "assert xtick_labels == [_.get_text() for _ in ax_by_gene.get_xticklabels()]\n",
    "assert ytick_labels == [_.get_text() for _ in ax_by_dise.get_yticklabels()]\n",
    "\n",
    "ax_by_gene.set_xticklabels([])\n",
    "ax_by_dise.set_yticklabels([])\n",
    "\n",
    "_ = ax_mut.set_xticklabels(xtick_labels, rotation=90, ha='center')\n",
    "_ = ax_mut.set_yticklabels(ytick_labels, va='center')\n",
    "\n",
    "xticks = (ax_by_gene.get_xticks()[1:] + ax_by_gene.get_xticks()[:-1]) / 2\n",
    "yticks = (ax_by_dise.get_yticks()[1:] + ax_by_dise.get_yticks()[:-1]) / 2\n",
    "_ = ax_mut.set_xticks(xticks, minor=True)\n",
    "_ = ax_mut.set_yticks(yticks, minor=True)\n",
    "ax_mut.grid(color='green', which='minor')\n",
    "\n",
    "ax_leg = fig.add_subplot(gs[5])\n",
    "# ax_leg.set_frame_on(False)\n",
    "# ax_leg.set_axis_off()\n",
    "cb = fig.colorbar(im, cax=ax_leg)\n",
    "# _ = cb.ax.set_yticklabels(str_codes)\n",
    "_ = cb.set_ticks(int_codes)\n",
    "_ = cb.set_ticklabels(str_codes)\n",
    "\n",
    "\n",
    "for ax in [ax_by_gene, ax_by_dise, ax_mut, ax_leg]:\n",
    "    ax.patch.set_facecolor('white')\n",
    "    ax.patch.set_alpha(1)\n",
    "\n",
    "# plt.savefig('./candidate_genes_mutational_profile_{0}.jpg'.format(char_code), \n",
    "#             dpi=200, bbox_inches='tight')"
   ]
  },
  {
   "cell_type": "code",
   "execution_count": null,
   "metadata": {
    "collapsed": true
   },
   "outputs": [],
   "source": [
    "# Legend:\n",
    "# M=mutation\n",
    "# F=Fusion\n",
    "# O=over-expression\n",
    "# U=under-expression"
   ]
  },
  {
   "cell_type": "code",
   "execution_count": 41,
   "metadata": {
    "collapsed": true
   },
   "outputs": [],
   "source": [
    "# Disease \tCorresponding COSMIC criteria \tNotes\n",
    "# ACC \tadrenal_gland and adrenal_cortical_carcinoma \t \n",
    "# BLCA \turinary_tract and bladder and transitional_cell_carcinoma \t \n",
    "# BRCA \t(breast and ductal carcinoma without _in_situ) or (breast and lobular carcinoma without _in_situ) \tInvasive implies it has expanded beyond the cancer origination so I removed entries that have in_situ. Loubular and different variation of ductal cancer are different types of invasive carcinoma based on this http://ww5.komen.org/AboutBreastCancer/DiagnosingBreastCancer/UnderstandingaDiagnosis/TumorTypesSizesGrades.html\n",
    "# CESC \t(cervix and squamous_cell_carcinoma) or (cervix and endocervical_adenocarcinoma) or (cervix and mixed_adenosquamous_carcinoma) \t \n",
    "# CHOL \tbiliary_tract and bile_duct and carcinoma \t \n",
    "# COAD \tlarge_intestine and colon and adenocarcinoma \thave not included colorectal hits if there is no COAD hits\n",
    "# DLBC \tlymphoid_neoplasm and diffuse_large_B_cell_lymphoma \t \n",
    "# ESCA \tesophagus and carcinoma \t \n",
    "# GBM \tglioblastoma_multiforme \t \n",
    "# HNSC \tupper_aerodigestive_tract and head_neck and squamous_cell_carcinoma \t \n",
    "# KICH \tkidney and chromophobe \t \n",
    "# KIRC \tkidney and clear_cell_renal_cell_carcinoma \t \n",
    "# KIRP \tkidney and papillary_renal_cell_carcinoma \t \n",
    "# LAML \tacute_myeloid_leukaemia \t \n",
    "# LGG \t(brain and glioma and I) or (brain and glioma and II) \t \n",
    "# LIHC \tliver and hepatocellular_carcinoma \t \n",
    "# LUAD \tlung and adenocarcinoma \t \n",
    "# LUSC \tlung and squamous_cell_carcinoma \t \n",
    "# MESO \tmesothelioma \t \n",
    "# OV \t(ovary and serous_carcinoma) or (ovary and serous_adenoma) \tI cannot find terms in COSMIC entries that have cyst before adenoma or carcinoma\n",
    "# PAAD \tpancreas and adenocarcinoma \t \n",
    "# PCPG \tpheochromocytoma or paraganglioma \t \n",
    "# PRAD \tprostate and adenocarcinoma \t \n",
    "# READ \tlarge_intestine and rectum and adenocarcinoma \thave not included colorectal hits if there is no READ hits\n",
    "# SARC \tsarcoma \tcontains endometrium (uterus) sarcoma\n",
    "# SKCM \tskin and melanoma \t \n",
    "# STAD \tstomach and adenocarcinoma \t \n",
    "# TGCT \ttestis and germ_cell_tumour \t \n",
    "# THCA \tthyroid and carcinoma \t \n",
    "# THYM \tthymus thymoma \t \n",
    "# UCEC \tendometrium and endometrioid_carcinoma \tNo uterus entries in COSMIC's tissue category\n",
    "# UCS \t(endometrium and carcinoma) or (endometrium and sarcoma) \tcontains UCEC and contained within sarcoma\n",
    "# UVM \teye and uveal_tract and melanoma \t "
   ]
  },
  {
   "cell_type": "markdown",
   "metadata": {},
   "source": [
    "I have another suggestion, instead of trinary encoding. can you try binary encoding so as to distinguish all sorts of combinations, with hamming distance or Jaccard distance. Jaccard distance definition is very simple http://stats.stackexchange.com/questions/58706/distance-metrics-for-binary-vectors. But I actually prefer hamming, it's almost exactly for this kind of calculation. https://en.wikipedia.org/wiki/Hamming_distance, comparing two binary strings.\n",
    "\n",
    "FYI, there are other binary distance metrics too, http://www.ibm.com/support/knowledgecenter/en/SSLVMB_21.0.0/com.ibm.spss.statistics.help/cmd_proximities_sim_measure_binary.htm.\n",
    "\n",
    "As for distance between clusters, you could try a few, too, and see how they differ. I used this page to learn difference linkage measures. https://docs.scipy.org/doc/scipy/reference/generated/scipy.cluster.hierarchy.linkage.html"
   ]
  },
  {
   "cell_type": "code",
   "execution_count": null,
   "metadata": {
    "collapsed": true
   },
   "outputs": [],
   "source": []
  }
 ],
 "metadata": {
  "kernelspec": {
   "display_name": "Python 3",
   "language": "python",
   "name": "python3"
  },
  "language_info": {
   "codemirror_mode": {
    "name": "ipython",
    "version": 3
   },
   "file_extension": ".py",
   "mimetype": "text/x-python",
   "name": "python",
   "nbconvert_exporter": "python",
   "pygments_lexer": "ipython3",
   "version": "3.6.1"
  }
 },
 "nbformat": 4,
 "nbformat_minor": 2
}
