{
 "cells": [
  {
   "cell_type": "code",
   "execution_count": 1,
   "metadata": {
    "collapsed": true
   },
   "outputs": [],
   "source": [
    "import sys\n",
    "from Bio import Entrez\n",
    "# *Always* tell NCBI who you are\n",
    "Entrez.email = \"szong@bcgsc.ca\"\n",
    "import pandas as pd"
   ]
  },
  {
   "cell_type": "code",
   "execution_count": 2,
   "metadata": {
    "collapsed": true
   },
   "outputs": [],
   "source": [
    "def retrieve_annotation(id_list):\n",
    "\n",
    "    \"\"\"Annotates Entrez Gene IDs using Bio.Entrez, in particular epost (to\n",
    "    submit the data to NCBI) and esummary to retrieve the information.\n",
    "    Returns a list of dictionaries with the annotations.\"\"\"\n",
    "\n",
    "    request = Entrez.epost(\"gene\",id=\",\".join(id_list))\n",
    "    try:\n",
    "        result = Entrez.read(request)\n",
    "    except RuntimeError as e:\n",
    "        #FIXME: How generate NAs instead of causing an error with invalid IDs?\n",
    "        print(\"An error occurred while retrieving the annotations.\")\n",
    "        print(\"The error returned was %s\" % e)\n",
    "        sys.exit(-1)\n",
    "\n",
    "    webEnv = result[\"WebEnv\"]\n",
    "    queryKey = result[\"QueryKey\"]\n",
    "    data = Entrez.esummary(db=\"gene\", webenv=webEnv, query_key =\n",
    "            queryKey)\n",
    "    annotations = Entrez.read(data)\n",
    "\n",
    "    print(\"Retrieved %d annotations for %d genes\" % (len(annotations), len(id_list)))\n",
    "\n",
    "    return annotations"
   ]
  },
  {
   "cell_type": "code",
   "execution_count": 80,
   "metadata": {
    "collapsed": true
   },
   "outputs": [],
   "source": [
    "genes = ['2066', '83595', '64919', '51741', '196528', '100288687', '53353', '2272', '339967', '657', '64784', '8626', '3094', '54984', '27436', '2064', '6794', '4609', '7015', '3728', '3164']"
   ]
  },
  {
   "cell_type": "code",
   "execution_count": 3,
   "metadata": {
    "collapsed": true
   },
   "outputs": [],
   "source": [
    "genes = ['339967']"
   ]
  },
  {
   "cell_type": "code",
   "execution_count": 4,
   "metadata": {},
   "outputs": [
    {
     "name": "stdout",
     "output_type": "stream",
     "text": [
      "Retrieved 1 annotations for 1 genes\n",
      "339967 '', \n"
     ]
    }
   ],
   "source": [
    "# dict = retrieve_annotation(['2066', '83595', '64919', '51741', '196528', '100288687', '53353', '2272', '339967', '657', '64784', '8626', '3094', '54984', '27436', '2064', '6794', '4609', '7015', '3728', '3164'\n",
    "# ])\n",
    "for gene in genes:\n",
    "    dict = retrieve_annotation([gene])\n",
    "    txt = str(dict.get('DocumentSummarySet')).split('\\'Summary\\': ')[1].split('\\'ChrSort\\'')[0]\n",
    "    print(gene, txt)\n"
   ]
  },
  {
   "cell_type": "code",
   "execution_count": 65,
   "metadata": {},
   "outputs": [
    {
     "data": {
      "text/plain": [
       "Bio.Entrez.Parser.DictionaryElement"
      ]
     },
     "execution_count": 65,
     "metadata": {},
     "output_type": "execute_result"
    }
   ],
   "source": [
    "type(dict)`\n"
   ]
  },
  {
   "cell_type": "code",
   "execution_count": 79,
   "metadata": {},
   "outputs": [
    {
     "data": {
      "text/plain": [
       "\"'This gene is a member of the Tyr protein kinase family and the epidermal growth factor receptor subfamily. It encodes a single-pass type I membrane protein with multiple cysteine rich domains, a transmembrane domain, a tyrosine kinase domain, a phosphotidylinositol-3 kinase binding site and a PDZ domain binding motif. The protein binds to and is activated by neuregulins and other factors and induces a variety of cellular responses including mitogenesis and differentiation. Multiple proteolytic events allow for the release of a cytoplasmic fragment and an extracellular fragment. Mutations in this gene have been associated with cancer. Alternatively spliced variants which encode different protein isoforms have been described; however, not all variants have been fully characterized. [provided by RefSeq, Jul 2008]', \""
      ]
     },
     "execution_count": 79,
     "metadata": {},
     "output_type": "execute_result"
    }
   ],
   "source": [
    "str(dict.get('DocumentSummarySet')).split('\\'Summary\\': ')[1].split('\\'ChrSort\\'')[0]"
   ]
  },
  {
   "cell_type": "code",
   "execution_count": 73,
   "metadata": {},
   "outputs": [
    {
     "ename": "AttributeError",
     "evalue": "'DictionaryElement' object has no attribute 'read'",
     "output_type": "error",
     "traceback": [
      "\u001b[0;31m---------------------------------------------------------------------------\u001b[0m",
      "\u001b[0;31mAttributeError\u001b[0m                            Traceback (most recent call last)",
      "\u001b[0;32m<ipython-input-73-17ec5acd4e70>\u001b[0m in \u001b[0;36m<module>\u001b[0;34m()\u001b[0m\n\u001b[1;32m      1\u001b[0m \u001b[0;34m\u001b[0m\u001b[0m\n\u001b[0;32m----> 2\u001b[0;31m \u001b[0;32mfor\u001b[0m \u001b[0mi\u001b[0m \u001b[0;32min\u001b[0m \u001b[0mEntrez\u001b[0m\u001b[0;34m.\u001b[0m\u001b[0mparse\u001b[0m\u001b[0;34m(\u001b[0m\u001b[0mdict\u001b[0m\u001b[0;34m,\u001b[0m \u001b[0mvalidate\u001b[0m\u001b[0;34m=\u001b[0m\u001b[0;32mTrue\u001b[0m\u001b[0;34m)\u001b[0m\u001b[0;34m:\u001b[0m\u001b[0;34m\u001b[0m\u001b[0m\n\u001b[0m\u001b[1;32m      3\u001b[0m     \u001b[0mprint\u001b[0m\u001b[0;34m(\u001b[0m\u001b[0mi\u001b[0m\u001b[0;34m)\u001b[0m\u001b[0;34m\u001b[0m\u001b[0m\n",
      "\u001b[0;32m~/anaconda3/envs/szvenv/lib/python3.6/site-packages/Bio/Entrez/Parser.py\u001b[0m in \u001b[0;36mparse\u001b[0;34m(self, handle)\u001b[0m\n\u001b[1;32m    259\u001b[0m         \u001b[0;32mwhile\u001b[0m \u001b[0;32mTrue\u001b[0m\u001b[0;34m:\u001b[0m\u001b[0;34m\u001b[0m\u001b[0m\n\u001b[1;32m    260\u001b[0m             \u001b[0;31m# Read in another block of the file...\u001b[0m\u001b[0;34m\u001b[0m\u001b[0;34m\u001b[0m\u001b[0m\n\u001b[0;32m--> 261\u001b[0;31m             \u001b[0mtext\u001b[0m \u001b[0;34m=\u001b[0m \u001b[0mhandle\u001b[0m\u001b[0;34m.\u001b[0m\u001b[0mread\u001b[0m\u001b[0;34m(\u001b[0m\u001b[0mBLOCK\u001b[0m\u001b[0;34m)\u001b[0m\u001b[0;34m\u001b[0m\u001b[0m\n\u001b[0m\u001b[1;32m    262\u001b[0m             \u001b[0;32mif\u001b[0m \u001b[0;32mnot\u001b[0m \u001b[0mtext\u001b[0m\u001b[0;34m:\u001b[0m\u001b[0;34m\u001b[0m\u001b[0m\n\u001b[1;32m    263\u001b[0m                 \u001b[0;31m# We have reached the end of the XML file\u001b[0m\u001b[0;34m\u001b[0m\u001b[0;34m\u001b[0m\u001b[0m\n",
      "\u001b[0;31mAttributeError\u001b[0m: 'DictionaryElement' object has no attribute 'read'"
     ]
    }
   ],
   "source": [
    "\n",
    "for i in Entrez.parse(dict, validate=True):\n",
    "    print(i)"
   ]
  },
  {
   "cell_type": "code",
   "execution_count": 54,
   "metadata": {},
   "outputs": [
    {
     "data": {
      "text/html": [
       "<div>\n",
       "<style>\n",
       "    .dataframe thead tr:only-child th {\n",
       "        text-align: right;\n",
       "    }\n",
       "\n",
       "    .dataframe thead th {\n",
       "        text-align: left;\n",
       "    }\n",
       "\n",
       "    .dataframe tbody tr th {\n",
       "        vertical-align: top;\n",
       "    }\n",
       "</style>\n",
       "<table border=\"1\" class=\"dataframe\">\n",
       "  <thead>\n",
       "    <tr style=\"text-align: right;\">\n",
       "      <th></th>\n",
       "      <th>2</th>\n",
       "      <th>4</th>\n",
       "    </tr>\n",
       "  </thead>\n",
       "  <tbody>\n",
       "    <tr>\n",
       "      <th>0</th>\n",
       "      <td>SCYL3</td>\n",
       "      <td>SCY1-like_3_(S._cerevisiae)_[Source:HGNC_Symbo...</td>\n",
       "    </tr>\n",
       "    <tr>\n",
       "      <th>1</th>\n",
       "      <td>C1orf112</td>\n",
       "      <td>chromosome_1_open_reading_frame_112_[Source:HG...</td>\n",
       "    </tr>\n",
       "    <tr>\n",
       "      <th>2</th>\n",
       "      <td>FGR</td>\n",
       "      <td>Gardner-Rasheed_feline_sarcoma_viral_(v-fgr)_o...</td>\n",
       "    </tr>\n",
       "    <tr>\n",
       "      <th>3</th>\n",
       "      <td>CFH</td>\n",
       "      <td>complement_factor_H_[Source:HGNC_Symbol;Acc:4883]</td>\n",
       "    </tr>\n",
       "    <tr>\n",
       "      <th>4</th>\n",
       "      <td>STPG1</td>\n",
       "      <td>sperm-tail_PG-rich_repeat_containing_1_[Source...</td>\n",
       "    </tr>\n",
       "  </tbody>\n",
       "</table>\n",
       "</div>"
      ],
      "text/plain": [
       "          2                                                  4\n",
       "0     SCYL3  SCY1-like_3_(S._cerevisiae)_[Source:HGNC_Symbo...\n",
       "1  C1orf112  chromosome_1_open_reading_frame_112_[Source:HG...\n",
       "2       FGR  Gardner-Rasheed_feline_sarcoma_viral_(v-fgr)_o...\n",
       "3       CFH  complement_factor_H_[Source:HGNC_Symbol;Acc:4883]\n",
       "4     STPG1  sperm-tail_PG-rich_repeat_containing_1_[Source..."
      ]
     },
     "execution_count": 54,
     "metadata": {},
     "output_type": "execute_result"
    }
   ],
   "source": [
    "f = '/home/szong/projects/resource/ens69/gene_info_ens69_nina.txt'\n",
    "df = pd.read_csv(f, sep='\\t', header=None, usecols=[2,4])\n",
    "df.head()\n"
   ]
  },
  {
   "cell_type": "code",
   "execution_count": 55,
   "metadata": {
    "collapsed": true
   },
   "outputs": [],
   "source": [
    "lst = ['ERBB4', 'TERT', 'SOX7', 'BCL11B', 'WWOX', 'ARID2', 'DUX4', 'LRP1B', 'FHIT', 'JUP', 'TMPRSS11A', 'BMPR1A', 'CRTC3', 'TP63', 'ERBB2', 'STK11', 'HINT1', 'PINX1', 'EML4', 'MYC', 'NR4A1']"
   ]
  },
  {
   "cell_type": "code",
   "execution_count": 63,
   "metadata": {
    "collapsed": true
   },
   "outputs": [],
   "source": [
    "df2 = df[df[2].isin(lst)].drop_duplicates()"
   ]
  },
  {
   "cell_type": "code",
   "execution_count": 58,
   "metadata": {},
   "outputs": [
    {
     "data": {
      "text/plain": [
       "21"
      ]
     },
     "execution_count": 58,
     "metadata": {},
     "output_type": "execute_result"
    }
   ],
   "source": [
    "len(lst)"
   ]
  },
  {
   "cell_type": "code",
   "execution_count": 64,
   "metadata": {
    "collapsed": true
   },
   "outputs": [],
   "source": [
    "of = '/projects/trans_scratch/validations/workspace/szong/Cervical/integration/124_patients/oncogenes_annotation.txt'\n",
    "df2.to_csv(of, index=False)"
   ]
  },
  {
   "cell_type": "code",
   "execution_count": 49,
   "metadata": {
    "collapsed": true
   },
   "outputs": [],
   "source": [
    "def print_data(annotation):\n",
    "    for gene_data in annotation:\n",
    "        print('xxx', gene_data, type(gene_data))\n",
    "        gene_id = gene_data[\"Id\"]\n",
    "        gene_symbol = gene_data[\"NomenclatureSymbol\"]\n",
    "        gene_name = gene_data[\"Description\"]\n",
    "        print(\"ID: %s - Gene Symbol: %s - Gene Name: %s\" % (gene_id, gene_symbol, gene_name))"
   ]
  },
  {
   "cell_type": "code",
   "execution_count": 50,
   "metadata": {},
   "outputs": [
    {
     "name": "stdout",
     "output_type": "stream",
     "text": [
      "xxx DocumentSummarySet <class 'str'>\n"
     ]
    },
    {
     "ename": "TypeError",
     "evalue": "string indices must be integers",
     "output_type": "error",
     "traceback": [
      "\u001b[0;31m---------------------------------------------------------------------------\u001b[0m",
      "\u001b[0;31mTypeError\u001b[0m                                 Traceback (most recent call last)",
      "\u001b[0;32m<ipython-input-50-61416ccd35bb>\u001b[0m in \u001b[0;36m<module>\u001b[0;34m()\u001b[0m\n\u001b[0;32m----> 1\u001b[0;31m \u001b[0mprint_data\u001b[0m\u001b[0;34m(\u001b[0m\u001b[0mdict\u001b[0m\u001b[0;34m)\u001b[0m\u001b[0;34m\u001b[0m\u001b[0m\n\u001b[0m",
      "\u001b[0;32m<ipython-input-49-ae3357bba644>\u001b[0m in \u001b[0;36mprint_data\u001b[0;34m(annotation)\u001b[0m\n\u001b[1;32m      2\u001b[0m     \u001b[0;32mfor\u001b[0m \u001b[0mgene_data\u001b[0m \u001b[0;32min\u001b[0m \u001b[0mannotation\u001b[0m\u001b[0;34m:\u001b[0m\u001b[0;34m\u001b[0m\u001b[0m\n\u001b[1;32m      3\u001b[0m         \u001b[0mprint\u001b[0m\u001b[0;34m(\u001b[0m\u001b[0;34m'xxx'\u001b[0m\u001b[0;34m,\u001b[0m \u001b[0mgene_data\u001b[0m\u001b[0;34m,\u001b[0m \u001b[0mtype\u001b[0m\u001b[0;34m(\u001b[0m\u001b[0mgene_data\u001b[0m\u001b[0;34m)\u001b[0m\u001b[0;34m)\u001b[0m\u001b[0;34m\u001b[0m\u001b[0m\n\u001b[0;32m----> 4\u001b[0;31m         \u001b[0mgene_id\u001b[0m \u001b[0;34m=\u001b[0m \u001b[0mgene_data\u001b[0m\u001b[0;34m[\u001b[0m\u001b[0;34m\"Id\"\u001b[0m\u001b[0;34m]\u001b[0m\u001b[0;34m\u001b[0m\u001b[0m\n\u001b[0m\u001b[1;32m      5\u001b[0m         \u001b[0mgene_symbol\u001b[0m \u001b[0;34m=\u001b[0m \u001b[0mgene_data\u001b[0m\u001b[0;34m[\u001b[0m\u001b[0;34m\"NomenclatureSymbol\"\u001b[0m\u001b[0;34m]\u001b[0m\u001b[0;34m\u001b[0m\u001b[0m\n\u001b[1;32m      6\u001b[0m         \u001b[0mgene_name\u001b[0m \u001b[0;34m=\u001b[0m \u001b[0mgene_data\u001b[0m\u001b[0;34m[\u001b[0m\u001b[0;34m\"Description\"\u001b[0m\u001b[0;34m]\u001b[0m\u001b[0;34m\u001b[0m\u001b[0m\n",
      "\u001b[0;31mTypeError\u001b[0m: string indices must be integers"
     ]
    }
   ],
   "source": [
    "print_data(dict)"
   ]
  },
  {
   "cell_type": "code",
   "execution_count": 25,
   "metadata": {},
   "outputs": [
    {
     "data": {
      "text/html": [
       "<div>\n",
       "<style>\n",
       "    .dataframe thead tr:only-child th {\n",
       "        text-align: right;\n",
       "    }\n",
       "\n",
       "    .dataframe thead th {\n",
       "        text-align: left;\n",
       "    }\n",
       "\n",
       "    .dataframe tbody tr th {\n",
       "        vertical-align: top;\n",
       "    }\n",
       "</style>\n",
       "<table border=\"1\" class=\"dataframe\">\n",
       "  <thead>\n",
       "    <tr style=\"text-align: right;\">\n",
       "      <th></th>\n",
       "      <th>DocumentSummarySet</th>\n",
       "    </tr>\n",
       "  </thead>\n",
       "  <tbody>\n",
       "    <tr>\n",
       "      <th>DbBuild</th>\n",
       "      <td>Build180221-0050m.1</td>\n",
       "    </tr>\n",
       "    <tr>\n",
       "      <th>DocumentSummary</th>\n",
       "      <td>[{'Name': 'ERBB4', 'Description': 'erb-b2 rece...</td>\n",
       "    </tr>\n",
       "  </tbody>\n",
       "</table>\n",
       "</div>"
      ],
      "text/plain": [
       "                                                DocumentSummarySet\n",
       "DbBuild                                        Build180221-0050m.1\n",
       "DocumentSummary  [{'Name': 'ERBB4', 'Description': 'erb-b2 rece..."
      ]
     },
     "execution_count": 25,
     "metadata": {},
     "output_type": "execute_result"
    }
   ],
   "source": [
    "pd.DataFrame(dict)"
   ]
  },
  {
   "cell_type": "code",
   "execution_count": 31,
   "metadata": {},
   "outputs": [
    {
     "name": "stdout",
     "output_type": "stream",
     "text": [
      "Retrieved 1 annotations for 1 genes\n"
     ]
    }
   ],
   "source": [
    "annotation = retrieve_annotation(['2066'])"
   ]
  },
  {
   "cell_type": "code",
   "execution_count": 35,
   "metadata": {},
   "outputs": [
    {
     "data": {
      "text/plain": [
       "{'DocumentSummarySet': DictElement({'DocumentSummary': [DictElement({'Name': 'ERBB4', 'Description': 'erb-b2 receptor tyrosine kinase 4', 'Status': '0', 'CurrentID': '0', 'Chromosome': '2', 'GeneticSource': 'genomic', 'MapLocation': '2q34', 'OtherAliases': 'ALS19, HER4, p180erbB4', 'OtherDesignations': 'receptor tyrosine-protein kinase erbB-4|ERBB4 transcript variant I12DEL|ERBB4 transcript variant I20DEL|avian erythroblastic leukemia viral (v-erb-b2) oncogene homolog 4|human epidermal growth factor receptor 4|proto-oncogene-like protein c-ErbB-4|tyrosine kinase-type cell surface receptor HER4|v-erb-a erythroblastic leukemia viral oncogene homolog 4|v-erb-b2 avian erythroblastic leukemia viral oncogene homolog 4', 'NomenclatureSymbol': 'ERBB4', 'NomenclatureName': 'erb-b2 receptor tyrosine kinase 4', 'NomenclatureStatus': 'Official', 'Mim': ['600543'], 'GenomicInfo': [{'ChrLoc': '2', 'ChrAccVer': 'NC_000002.12', 'ChrStart': '212539146', 'ChrStop': '211375716', 'ExonCount': '31'}], 'GeneWeight': '31609', 'Summary': 'This gene is a member of the Tyr protein kinase family and the epidermal growth factor receptor subfamily. It encodes a single-pass type I membrane protein with multiple cysteine rich domains, a transmembrane domain, a tyrosine kinase domain, a phosphotidylinositol-3 kinase binding site and a PDZ domain binding motif. The protein binds to and is activated by neuregulins and other factors and induces a variety of cellular responses including mitogenesis and differentiation. Multiple proteolytic events allow for the release of a cytoplasmic fragment and an extracellular fragment. Mutations in this gene have been associated with cancer. Alternatively spliced variants which encode different protein isoforms have been described; however, not all variants have been fully characterized. [provided by RefSeq, Jul 2008]', 'ChrSort': '02', 'ChrStart': '211375716', 'Organism': {'ScientificName': 'Homo sapiens', 'CommonName': 'human', 'TaxID': '9606'}, 'LocationHist': [{'AnnotationRelease': '108', 'AssemblyAccVer': 'GCF_000001405.33', 'ChrAccVer': 'NC_000002.12', 'ChrStart': '212539146', 'ChrStop': '211375716'}, {'AnnotationRelease': '108', 'AssemblyAccVer': 'GCF_000306695.2', 'ChrAccVer': 'NC_018913.2', 'ChrStart': '213409601', 'ChrStop': '212246188'}, {'AnnotationRelease': '107', 'AssemblyAccVer': 'GCF_000001405.28', 'ChrAccVer': 'NC_000002.12', 'ChrStart': '212539154', 'ChrStop': '211375716'}, {'AnnotationRelease': '107', 'AssemblyAccVer': 'GCF_000306695.2', 'ChrAccVer': 'NC_018913.2', 'ChrStart': '213409601', 'ChrStop': '212246188'}, {'AnnotationRelease': '106', 'AssemblyAccVer': 'GCF_000001405.26', 'ChrAccVer': 'NC_000002.12', 'ChrStart': '212539154', 'ChrStop': '211375716'}, {'AnnotationRelease': '106', 'AssemblyAccVer': 'GCF_000002125.1', 'ChrAccVer': 'AC_000134.1', 'ChrStart': '205252851', 'ChrStop': '204087815'}, {'AnnotationRelease': '106', 'AssemblyAccVer': 'GCF_000306695.2', 'ChrAccVer': 'NC_018913.2', 'ChrStart': '213409601', 'ChrStop': '212246188'}, {'AnnotationRelease': '105', 'AssemblyAccVer': 'GCF_000001405.25', 'ChrAccVer': 'NC_000002.11', 'ChrStart': '213403878', 'ChrStop': '212240441'}, {'AnnotationRelease': '105', 'AssemblyAccVer': 'GCF_000002125.1', 'ChrAccVer': 'AC_000134.1', 'ChrStart': '205252851', 'ChrStop': '204087815'}, {'AnnotationRelease': '105', 'AssemblyAccVer': 'GCF_000306695.2', 'ChrAccVer': 'NC_018913.2', 'ChrStart': '213409601', 'ChrStop': '212246188'}, {'AnnotationRelease': '104', 'AssemblyAccVer': 'GCF_000001405.22', 'ChrAccVer': 'NC_000002.11', 'ChrStart': '213403351', 'ChrStop': '212240441'}, {'AnnotationRelease': '104', 'AssemblyAccVer': 'GCF_000002125.1', 'ChrAccVer': 'AC_000134.1', 'ChrStart': '205252851', 'ChrStop': '204087815'}, {'AnnotationRelease': '104', 'AssemblyAccVer': 'GCF_000306695.1', 'ChrAccVer': 'NC_018913.1', 'ChrStart': '212791668', 'ChrStop': '211628403'}, {'AnnotationRelease': '103', 'AssemblyAccVer': 'GCF_000001405.21', 'ChrAccVer': 'NC_000002.11', 'ChrStart': '213403351', 'ChrStop': '212240441'}, {'AnnotationRelease': '103', 'AssemblyAccVer': 'GCF_000002125.1', 'ChrAccVer': 'AC_000134.1', 'ChrStart': '205252851', 'ChrStop': '204087815'}, {'AnnotationRelease': '37.3', 'AssemblyAccVer': 'GCF_000001405.17', 'ChrAccVer': 'NC_000002.11', 'ChrStart': '213403351', 'ChrStop': '212240441'}, {'AnnotationRelease': '37.3', 'AssemblyAccVer': 'GCF_000002125.1', 'ChrAccVer': 'AC_000134.1', 'ChrStart': '205252851', 'ChrStop': '204087815'}, {'AnnotationRelease': '37.2', 'AssemblyAccVer': 'GCF_000001405.14', 'ChrAccVer': 'NC_000002.11', 'ChrStart': '213403351', 'ChrStop': '212240441'}, {'AnnotationRelease': '37.2', 'AssemblyAccVer': 'GCF_000002115.2', 'ChrAccVer': 'AC_000045.1', 'ChrStart': '207168129', 'ChrStop': '206008418'}, {'AnnotationRelease': '37.2', 'AssemblyAccVer': 'GCF_000002125.1', 'ChrAccVer': 'AC_000134.1', 'ChrStart': '205252851', 'ChrStop': '204087815'}, {'AnnotationRelease': '37.1', 'AssemblyAccVer': 'GCF_000001405.13', 'ChrAccVer': 'NC_000002.11', 'ChrStart': '213403351', 'ChrStop': '212240441'}, {'AnnotationRelease': '37.1', 'AssemblyAccVer': 'GCF_000002115.2', 'ChrAccVer': 'AC_000045.1', 'ChrStart': '207168129', 'ChrStop': '206008429'}, {'AnnotationRelease': '37.1', 'AssemblyAccVer': 'GCF_000002125.1', 'ChrAccVer': 'AC_000134.1', 'ChrStart': '205252851', 'ChrStop': '204087826'}, {'AnnotationRelease': '36.3', 'AssemblyAccVer': 'GCF_000001405.12', 'ChrAccVer': 'NC_000002.10', 'ChrStart': '213111596', 'ChrStop': '211948686'}, {'AnnotationRelease': '36.3', 'AssemblyAccVer': 'GCF_000002115.2', 'ChrAccVer': 'AC_000045.1', 'ChrStart': '207168129', 'ChrStop': '206008418'}, {'AnnotationRelease': '36.3', 'AssemblyAccVer': 'GCF_000002125.1', 'ChrAccVer': 'AC_000134.1', 'ChrStart': '205252851', 'ChrStop': '204087815'}]}, attributes={'uid': '2066'})], 'DbBuild': 'Build180221-0050m.1'}, attributes={'status': 'OK'})}"
      ]
     },
     "execution_count": 35,
     "metadata": {},
     "output_type": "execute_result"
    }
   ],
   "source": [
    "annotation"
   ]
  },
  {
   "cell_type": "code",
   "execution_count": 39,
   "metadata": {
    "collapsed": true
   },
   "outputs": [],
   "source": [
    "def parse_genes(genes):\n",
    "    \"\"\"Parse various gene information including:\n",
    "    1. Species name (taxonomy name)\n",
    "    2. Entrez gene ID\n",
    "    3. Official symbol\n",
    "    4. RefSeq IDs\n",
    "    5. Offical full name\n",
    "    Basically, just to go through the parsed xml data.... A big headache to figure it out...\n",
    "    Return a list of dictionary.\n",
    "    \"\"\"\n",
    "    gene_info_list = []\n",
    "    for gene_data in genes:\n",
    "        gene_info = {}\n",
    "        # get entrez ID\n",
    "        try:\n",
    "            print('xxxxx', gene_info)\n",
    "            gene_info[\"entrez_id\"] = gene_data[\"Entrezgene_track-info\"][\"Gene-track\"][\"Gene-track_geneid\"]\n",
    "        except KeyError:\n",
    "            gene_info[\"entrez_id\"] = \"\"\n",
    "            continue\n",
    "        gene_info[\"refseq_ids\"] = []\n",
    "        for comment in gene_data.get(\"Entrezgene_comments\",[]):\n",
    "            # look for refSeq annotation\n",
    "            if comment.get(\"Gene-commentary_heading\",None) == \"NCBI Reference Sequences (RefSeq)\":\n",
    "                # get sub-comments\n",
    "                for subcomment in comment.get(\"Gene-commentary_comment\",[]):\n",
    "                    for product in subcomment.get(\"Gene-commentary_products\",[]):\n",
    "                        if product.get(\"Gene-commentary_heading\",None) == \"mRNA Sequence\":\n",
    "                            gene_info[\"refseq_ids\"].append(product.get(\"Gene-commentary_accession\",\"\"))\n",
    "        # get properties\n",
    "        gene_info[\"official_symbol\"] = \"\" # optional\n",
    "        gene_info[\"official_full_name\"] = \"\" # optional\n",
    "        for gene_property in gene_data.get(\"Entrezgene_properties\",[]):\n",
    "            if gene_property.get(\"Gene-commentary_label\",None) == \"Nomenclature\":\n",
    "                for sub_property in gene_property[\"Gene-commentary_properties\"]:\n",
    "                    if sub_property.get(\"Gene-commentary_label\",None)  == \"Official Symbol\":\n",
    "                        gene_info[\"official_symbol\"] = sub_property.get(\"Gene-commentary_text\",\"\")\n",
    "                    if sub_property.get(\"Gene-commentary_label\",None)  == \"Official Full Name\":\n",
    "                        gene_info[\"official_full_name\"] = sub_property.get(\"Gene-commentary_text\",\"\")\n",
    "\n",
    "        # get taxname\n",
    "        try:\n",
    "            gene_info[\"taxname\"] = gene_data[\"Entrezgene_source\"][\"BioSource\"][\"BioSource_org\"][\"Org-ref\"][\"Org-ref_taxname\"]\n",
    "        except KeyError:\n",
    "            gene_info[\"taxname\"] = \"\"\n",
    "            continue\n",
    "        gene_info_list.append(gene_info)\n",
    "\n",
    "    return gene_info_list"
   ]
  },
  {
   "cell_type": "code",
   "execution_count": 40,
   "metadata": {},
   "outputs": [
    {
     "name": "stdout",
     "output_type": "stream",
     "text": [
      "xxxxx {}\n"
     ]
    },
    {
     "ename": "TypeError",
     "evalue": "string indices must be integers",
     "output_type": "error",
     "traceback": [
      "\u001b[0;31m---------------------------------------------------------------------------\u001b[0m",
      "\u001b[0;31mTypeError\u001b[0m                                 Traceback (most recent call last)",
      "\u001b[0;32m<ipython-input-40-c38c2f370383>\u001b[0m in \u001b[0;36m<module>\u001b[0;34m()\u001b[0m\n\u001b[0;32m----> 1\u001b[0;31m \u001b[0mparse_genes\u001b[0m\u001b[0;34m(\u001b[0m\u001b[0;34m'2066'\u001b[0m\u001b[0;34m)\u001b[0m\u001b[0;34m\u001b[0m\u001b[0m\n\u001b[0m",
      "\u001b[0;32m<ipython-input-39-df9538a6d129>\u001b[0m in \u001b[0;36mparse_genes\u001b[0;34m(genes)\u001b[0m\n\u001b[1;32m     15\u001b[0m         \u001b[0;32mtry\u001b[0m\u001b[0;34m:\u001b[0m\u001b[0;34m\u001b[0m\u001b[0m\n\u001b[1;32m     16\u001b[0m             \u001b[0mprint\u001b[0m\u001b[0;34m(\u001b[0m\u001b[0;34m'xxxxx'\u001b[0m\u001b[0;34m,\u001b[0m \u001b[0mgene_info\u001b[0m\u001b[0;34m)\u001b[0m\u001b[0;34m\u001b[0m\u001b[0m\n\u001b[0;32m---> 17\u001b[0;31m             \u001b[0mgene_info\u001b[0m\u001b[0;34m[\u001b[0m\u001b[0;34m\"entrez_id\"\u001b[0m\u001b[0;34m]\u001b[0m \u001b[0;34m=\u001b[0m \u001b[0mgene_data\u001b[0m\u001b[0;34m[\u001b[0m\u001b[0;34m\"Entrezgene_track-info\"\u001b[0m\u001b[0;34m]\u001b[0m\u001b[0;34m[\u001b[0m\u001b[0;34m\"Gene-track\"\u001b[0m\u001b[0;34m]\u001b[0m\u001b[0;34m[\u001b[0m\u001b[0;34m\"Gene-track_geneid\"\u001b[0m\u001b[0;34m]\u001b[0m\u001b[0;34m\u001b[0m\u001b[0m\n\u001b[0m\u001b[1;32m     18\u001b[0m         \u001b[0;32mexcept\u001b[0m \u001b[0mKeyError\u001b[0m\u001b[0;34m:\u001b[0m\u001b[0;34m\u001b[0m\u001b[0m\n\u001b[1;32m     19\u001b[0m             \u001b[0mgene_info\u001b[0m\u001b[0;34m[\u001b[0m\u001b[0;34m\"entrez_id\"\u001b[0m\u001b[0;34m]\u001b[0m \u001b[0;34m=\u001b[0m \u001b[0;34m\"\"\u001b[0m\u001b[0;34m\u001b[0m\u001b[0m\n",
      "\u001b[0;31mTypeError\u001b[0m: string indices must be integers"
     ]
    }
   ],
   "source": [
    "parse_genes('2066')"
   ]
  },
  {
   "cell_type": "code",
   "execution_count": 36,
   "metadata": {},
   "outputs": [
    {
     "data": {
      "text/plain": [
       "Bio.Entrez.Parser.StructureElement"
      ]
     },
     "execution_count": 36,
     "metadata": {},
     "output_type": "execute_result"
    }
   ],
   "source": [
    "type(annotation['DocumentSummarySet'])"
   ]
  },
  {
   "cell_type": "code",
   "execution_count": 10,
   "metadata": {},
   "outputs": [
    {
     "name": "stderr",
     "output_type": "stream",
     "text": [
      "Usage: ipykernel_launcher.py [options]\n",
      "\n",
      "ipykernel_launcher.py: error: no such option: -f\n"
     ]
    },
    {
     "ename": "SystemExit",
     "evalue": "2",
     "output_type": "error",
     "traceback": [
      "An exception has occurred, use %tb to see the full traceback.\n",
      "\u001b[0;31mSystemExit\u001b[0m\u001b[0;31m:\u001b[0m 2\n"
     ]
    },
    {
     "name": "stderr",
     "output_type": "stream",
     "text": [
      "/home/szong/anaconda3/envs/szvenv/lib/python3.6/site-packages/IPython/core/interactiveshell.py:2870: UserWarning: To exit: use 'exit', 'quit', or Ctrl-D.\n",
      "  warn(\"To exit: use 'exit', 'quit', or Ctrl-D.\", stacklevel=1)\n"
     ]
    }
   ],
   "source": [
    "#!/usr/bin/env python\n",
    "# Time-stamp: <2011-05-05 18:31:45 Tao Liu>\n",
    "\n",
    "\"\"\"Module Description\n",
    "Copyright (c) 2011 Tao Liu <taoliu@jimmy.harvard.edu>\n",
    "This code is free software; you can redistribute it and/or modify it\n",
    "under the terms of the BSD License (see the file COPYING included with\n",
    "the distribution).\n",
    "@status:  experimental\n",
    "@version: 0.1\n",
    "@author:  Tao Liu\n",
    "@contact: taoliu@jimmy.harvard.edu\n",
    "\"\"\"\n",
    "\n",
    "# ------------------------------------\n",
    "# python modules\n",
    "# ------------------------------------\n",
    "\n",
    "import sys\n",
    "from optparse import OptionParser\n",
    " \n",
    "from Bio import Entrez\n",
    " \n",
    "# ------------------------------------\n",
    "# constants\n",
    "# ------------------------------------\n",
    "# *Always* tell NCBI who you are\n",
    "Entrez.email = \"your email here\"\n",
    "\n",
    "# ------------------------------------\n",
    "# Misc functions\n",
    "# ------------------------------------\n",
    "def search_genes(id_list,search_field):\n",
    "    \"\"\"Use ESearch to convert RefSeq or Gene symbols to standard\n",
    "    Entrez IDs.\n",
    "    A request to esearch.cgi is like:\n",
    "    http://www.ncbi.nlm.nih.gov/entrez/eutils/esearch.fcgi?db=gene&term=ID_LIST[SEARCH_FIELD]\n",
    "    Return a list of Entrez IDs.\n",
    "    \"\"\"\n",
    "    term = \" OR \".join(map(lambda x:x+\"[\"+search_field+\"]\",id_list))\n",
    "    esearch_result = Entrez.esearch(db=\"gene\",term=term,retmod=\"xml\")\n",
    "    parsed_result = Entrez.read(esearch_result)\n",
    "    return parsed_result['IdList']\n",
    "\n",
    "def fetch_genes(id_list):\n",
    "    \"\"\"Fetch Entrez Gene records using Bio.Entrez, in particular epost\n",
    "    (to submit the data to NCBI) and efetch to retrieve the\n",
    "    information, then use Entrez.read to parse the data.\n",
    "    Returns a list of parsed gene records.\n",
    "    \"\"\"\n",
    " \n",
    "    request = Entrez.epost(\"gene\",id=\",\".join(id_list))\n",
    "    try:\n",
    "        result = Entrez.read(request)\n",
    "    except RuntimeError as e:\n",
    "        #FIXME: How generate NAs instead of causing an error with invalid IDs?\n",
    "        print(\"An error occurred while retrieving the annotations.\")\n",
    "        print(\"The error returned was %s\" % e)\n",
    "        sys.exit(-1)\n",
    " \n",
    "    webEnv = result[\"WebEnv\"]\n",
    "    queryKey = result[\"QueryKey\"]\n",
    "    efetch_result = Entrez.efetch(db=\"gene\", webenv=webEnv, query_key = queryKey, retmode=\"xml\")\n",
    "    genes = Entrez.read(efetch_result)\n",
    "    #print(\"Retrieved %d records for %d genes\" % (len(genes),len(id_list))\n",
    "    return genes\n",
    "\n",
    "def parse_genes(genes):\n",
    "    \"\"\"Parse various gene information including:\n",
    "    1. Species name (taxonomy name)\n",
    "    2. Entrez gene ID\n",
    "    3. Official symbol\n",
    "    4. RefSeq IDs\n",
    "    5. Offical full name\n",
    "    Basically, just to go through the parsed xml data.... A big headache to figure it out...\n",
    "    Return a list of dictionary.\n",
    "    \"\"\"\n",
    "    gene_info_list = []\n",
    "    for gene_data in genes:\n",
    "        gene_info = {}\n",
    "        # get entrez ID\n",
    "        try:\n",
    "            gene_info[\"entrez_id\"] = gene_data[\"Entrezgene_track-info\"][\"Gene-track\"][\"Gene-track_geneid\"]\n",
    "        except KeyError:\n",
    "            gene_info[\"entrez_id\"] = \"\"\n",
    "            continue\n",
    "        gene_info[\"refseq_ids\"] = []\n",
    "        for comment in gene_data.get(\"Entrezgene_comments\",[]):\n",
    "            # look for refSeq annotation\n",
    "            if comment.get(\"Gene-commentary_heading\",None) == \"NCBI Reference Sequences (RefSeq)\":\n",
    "                # get sub-comments\n",
    "                for subcomment in comment.get(\"Gene-commentary_comment\",[]):\n",
    "                    for product in subcomment.get(\"Gene-commentary_products\",[]):\n",
    "                        if product.get(\"Gene-commentary_heading\",None) == \"mRNA Sequence\":\n",
    "                            gene_info[\"refseq_ids\"].append(product.get(\"Gene-commentary_accession\",\"\"))\n",
    "        # get properties\n",
    "        gene_info[\"official_symbol\"] = \"\" # optional\n",
    "        gene_info[\"official_full_name\"] = \"\" # optional\n",
    "        for gene_property in gene_data.get(\"Entrezgene_properties\",[]):\n",
    "            if gene_property.get(\"Gene-commentary_label\",None) == \"Nomenclature\":\n",
    "                for sub_property in gene_property[\"Gene-commentary_properties\"]:\n",
    "                    if sub_property.get(\"Gene-commentary_label\",None)  == \"Official Symbol\":\n",
    "                        gene_info[\"official_symbol\"] = sub_property.get(\"Gene-commentary_text\",\"\")\n",
    "                    if sub_property.get(\"Gene-commentary_label\",None)  == \"Official Full Name\":\n",
    "                        gene_info[\"official_full_name\"] = sub_property.get(\"Gene-commentary_text\",\"\")\n",
    "\n",
    "        # get taxname\n",
    "        try:\n",
    "            gene_info[\"taxname\"] = gene_data[\"Entrezgene_source\"][\"BioSource\"][\"BioSource_org\"][\"Org-ref\"][\"Org-ref_taxname\"]\n",
    "        except KeyError:\n",
    "            gene_info[\"taxname\"] = \"\"\n",
    "            continue\n",
    "        gene_info_list.append(gene_info)\n",
    "\n",
    "    return gene_info_list\n",
    "\n",
    "def print_genes (gene_info_list):\n",
    "    \"\"\"print(out parsed entrez gene information in tab-delimited way.\n",
    "    \"\"\"\n",
    "    # header\n",
    "    print(\"%s\\t%s\\t%s\\t%s\\t%s\" % (\"TaxonomyName\",\"EntrezID\",\"OfficialSymbol\",\"RefSeqIDs\",\"OfficialFullName\"))\n",
    "    for g in gene_info_list:\n",
    "        print(\"%s\\t%s\\t%s\\t%s\\t%s\" % (g[\"taxname\"],g[\"entrez_id\"],g[\"official_symbol\"],\",\".join(g[\"refseq_ids\"]),g[\"official_full_name\"]))\n",
    "\n",
    "# ------------------------------------\n",
    "# Classes\n",
    "# ------------------------------------\n",
    "\n",
    "# ------------------------------------\n",
    "# Main function\n",
    "# ------------------------------------\n",
    "def main():\n",
    "    usage = \"usage: %prog [options]\"\n",
    "    description = \"Use NCBI web API to convert gene ids between different identifier types.\"\n",
    "    \n",
    "    optparser = OptionParser(version=\"%prog 0.1\",description=description,usage=usage,add_help_option=False)\n",
    "    optparser.add_option(\"-h\",\"--help\",action=\"help\",help=\"Show this help message and exit.\")\n",
    "    optparser.add_option(\"-i\",\"--id\",dest=\"ids\",type=\"string\",action=\"append\",\n",
    "                         help=\"Gene id, according to identifier setting of input, can be Entrez, RefSeq, or Gene symbol. Multiple ids are allowed.\")\n",
    "    optparser.add_option(\"-a\",\"--itype\",dest=\"itype\",default=\"entrez\",\n",
    "                         help=\"Identifier type of your input ids. Can be 'entrez', 'refseq', or 'symbol'. Default: 'entrez'.\")\n",
    "    (options,args) = optparser.parse_args()\n",
    "    if not options.ids:\n",
    "        optparser.print_help()\n",
    "        sys.exit(-1)\n",
    "    input_id_list = options.ids\n",
    "    if options.itype == \"refseq\":\n",
    "        entrez_id_list = search_genes(input_id_list,\"ACCN\")\n",
    "    elif options.itype == \"symbol\":\n",
    "        entrez_id_list = search_genes(input_id_list,\"GENE\")\n",
    "    elif options.itype == \"entrez\":\n",
    "        entrez_id_list = input_id_list\n",
    "    \n",
    "    entrez_id_genes = fetch_genes(entrez_id_list)\n",
    "    parsed_genes = parse_genes(entrez_id_genes)\n",
    "    print_genes(parsed_genes)\n",
    "\n",
    "if __name__ == '__main__':\n",
    "    try:\n",
    "        main()\n",
    "    except KeyboardInterrupt:\n",
    "        sys.stderr.write(\"User interrupt me! ;-) See you!\\n\")\n",
    "        sys.exit(0)"
   ]
  },
  {
   "cell_type": "code",
   "execution_count": null,
   "metadata": {
    "collapsed": true
   },
   "outputs": [],
   "source": []
  },
  {
   "cell_type": "code",
   "execution_count": 26,
   "metadata": {
    "collapsed": true
   },
   "outputs": [],
   "source": [
    "var =888"
   ]
  },
  {
   "cell_type": "code",
   "execution_count": 36,
   "metadata": {},
   "outputs": [
    {
     "name": "stdout",
     "output_type": "stream",
     "text": [
      "894\n"
     ]
    }
   ],
   "source": [
    "def test():\n",
    "    global var\n",
    "    var += 1\n",
    "    print(var)\n",
    "\n",
    "test()"
   ]
  },
  {
   "cell_type": "code",
   "execution_count": 17,
   "metadata": {},
   "outputs": [
    {
     "name": "stdout",
     "output_type": "stream",
     "text": [
      "1\n"
     ]
    }
   ],
   "source": [
    "globvar = 0\n",
    "\n",
    "def set_globvar_to_one():\n",
    "    global globvar    # Needed to modify global copy of globvar\n",
    "    globvar = 1\n",
    "\n",
    "def print_globvar():\n",
    "    print(globvar)     # No need for global declaration to read value of globvar\n",
    "\n",
    "set_globvar_to_one()\n",
    "print_globvar()       # Prints 1"
   ]
  },
  {
   "cell_type": "code",
   "execution_count": 14,
   "metadata": {},
   "outputs": [
    {
     "ename": "UnboundLocalError",
     "evalue": "local variable 'var' referenced before assignment",
     "output_type": "error",
     "traceback": [
      "\u001b[0;31m---------------------------------------------------------------------------\u001b[0m",
      "\u001b[0;31mUnboundLocalError\u001b[0m                         Traceback (most recent call last)",
      "\u001b[0;32m<ipython-input-14-ea594c21b25d>\u001b[0m in \u001b[0;36m<module>\u001b[0;34m()\u001b[0m\n\u001b[0;32m----> 1\u001b[0;31m \u001b[0mtest\u001b[0m\u001b[0;34m(\u001b[0m\u001b[0;34m)\u001b[0m\u001b[0;34m\u001b[0m\u001b[0m\n\u001b[0m",
      "\u001b[0;32m<ipython-input-13-8d657c6cdcef>\u001b[0m in \u001b[0;36mtest\u001b[0;34m()\u001b[0m\n\u001b[1;32m      1\u001b[0m \u001b[0;32mdef\u001b[0m \u001b[0mtest\u001b[0m\u001b[0;34m(\u001b[0m\u001b[0;34m)\u001b[0m\u001b[0;34m:\u001b[0m\u001b[0;34m\u001b[0m\u001b[0m\n\u001b[0;32m----> 2\u001b[0;31m     \u001b[0mprint\u001b[0m\u001b[0;34m(\u001b[0m\u001b[0;34m'xxxxxxx'\u001b[0m\u001b[0;34m,\u001b[0m \u001b[0mvar\u001b[0m\u001b[0;34m)\u001b[0m\u001b[0;34m\u001b[0m\u001b[0m\n\u001b[0m\u001b[1;32m      3\u001b[0m     \u001b[0mvar\u001b[0m \u001b[0;34m=\u001b[0m \u001b[0mvar\u001b[0m \u001b[0;34m+\u001b[0m \u001b[0;36m1\u001b[0m\u001b[0;34m\u001b[0m\u001b[0m\n",
      "\u001b[0;31mUnboundLocalError\u001b[0m: local variable 'var' referenced before assignment"
     ]
    }
   ],
   "source": []
  },
  {
   "cell_type": "code",
   "execution_count": null,
   "metadata": {
    "collapsed": true
   },
   "outputs": [],
   "source": []
  }
 ],
 "metadata": {
  "kernelspec": {
   "display_name": "Python 3",
   "language": "python",
   "name": "python3"
  },
  "language_info": {
   "codemirror_mode": {
    "name": "ipython",
    "version": 3
   },
   "file_extension": ".py",
   "mimetype": "text/x-python",
   "name": "python",
   "nbconvert_exporter": "python",
   "pygments_lexer": "ipython3",
   "version": "3.6.2"
  }
 },
 "nbformat": 4,
 "nbformat_minor": 2
}
