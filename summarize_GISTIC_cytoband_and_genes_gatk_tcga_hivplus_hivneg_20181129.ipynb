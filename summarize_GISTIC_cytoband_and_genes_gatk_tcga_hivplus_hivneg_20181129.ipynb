{
 "cells": [
  {
   "cell_type": "markdown",
   "metadata": {
    "collapsed": true
   },
   "source": [
    "analyze NCI cervical cnv results"
   ]
  },
  {
   "cell_type": "code",
   "execution_count": 73,
   "metadata": {},
   "outputs": [],
   "source": [
    "# import csv\n",
    "import matplotlib\n",
    "# import seaborn\n",
    "import seaborn as sns\n",
    "import numpy as np\n",
    "import pandas as pd\n",
    "import matplotlib.pyplot as plt\n",
    "# from scipy.stats import ttest_ind\n",
    "# import scipy.stats as stats\n",
    "# import scipy.stats as ss\n",
    "# from matplotlib import style\n",
    "# import matplotlib.gridspec as gridspec\n",
    "# import matplotlib.patches as patches\n",
    "matplotlib.style.use('ggplot')\n",
    "%matplotlib inline\n",
    "matplotlib.rcParams['figure.figsize'] = (6, 4)\n",
    "from adjustText import adjust_text\n",
    "import sys\n",
    "sys.path.append('/projects/trans_scratch/validations/workspace/szong/Cervical/notebook')\n",
    "import sz_toolbox as szt\n",
    "\n",
    "\n",
    "# from sklearn.decomposition import RandomizedPCA, PCA, TruncatedSVD\n",
    "# from sklearn.linear_model import LogisticRegression\n",
    "# from sklearn.manifold import TSNE\n",
    "# from sklearn.preprocessing import StandardScaler\n",
    "\n",
    "from IPython.core.interactiveshell import InteractiveShell\n",
    "InteractiveShell.ast_node_interactivity = \"all\""
   ]
  },
  {
   "cell_type": "markdown",
   "metadata": {},
   "source": [
    "copy number comparison:\n",
    "    \n",
    "hiv+ vs hiv-\n",
    "\n",
    "tcga vs hiv-"
   ]
  },
  {
   "cell_type": "markdown",
   "metadata": {
    "collapsed": true
   },
   "source": [
    "# 1. produce list of amplied and deleted regions with oncogenes"
   ]
  },
  {
   "cell_type": "code",
   "execution_count": 76,
   "metadata": {},
   "outputs": [],
   "source": [
    "root = '/projects/trans_scratch/validations/workspace/szong/Cervical/cnv/gatk_cnv/'\n",
    "outputdir = '/projects/trans_scratch/validations/workspace/szong/Cervical/cnv/gatk_cnv/shared_uniq_genes/'\n",
    "oncogenef = '/home/szong/projects/resource/oncogenes.and.tumor.suppressor.genes.txt'\n",
    "gistdir = '/home/szong/bin/GISTIC_2_0_22/gatk_118_HIV_pos/'"
   ]
  },
  {
   "cell_type": "code",
   "execution_count": 13,
   "metadata": {},
   "outputs": [
    {
     "data": {
      "text/plain": [
       "['ABI1', 'ABI2']"
      ]
     },
     "execution_count": 13,
     "metadata": {},
     "output_type": "execute_result"
    }
   ],
   "source": [
    "# get list of oncogenes and tumour suppressors\n",
    "tgs = pd.read_csv(oncogenef, header=None)[0].tolist()\n",
    "tgs[:2]"
   ]
  },
  {
   "cell_type": "code",
   "execution_count": 48,
   "metadata": {
    "scrolled": true
   },
   "outputs": [],
   "source": [
    "def summarize_genes(inf, tgs, wkdir):\n",
    "    df = pd.read_csv(inf, sep='\\t', header=None)#.replace('', 'None')\n",
    "    inf = inf.split('/')[-1]\n",
    "#     print(df)\n",
    "    df.loc['genes',:] = df.apply(lambda x:  ','.join([i.strip() for i in set(x[~x.isnull()][4:]) if ('[' not in i)]))\n",
    "    df.loc['tg_genes',:] = df.apply(lambda x:  ','.join([m.strip() for m in set(x[~x.isnull()][4:]) if m in tgs]))\n",
    "    df1 = df.loc[[0,1,2,3,'genes', 'tg_genes'],:].T\n",
    "    df1['xxx'] = df1.genes.apply(lambda x: x.split(','))\n",
    "#     '' in the list when there is a blank in the original files, must have a better way to deal with this\n",
    "    df1['num_genes'] = df1['xxx'].apply(lambda x: len(x) if '' not in x else len(x)-1)\n",
    "    df1 = df1.drop('xxx', axis=1)\n",
    "    df1 = df1.drop(0)\n",
    "    df1 = df1[:-1]\n",
    "    df1.columns = ['cytoband', 'q_value', 'residual_q_value', 'wide_peak_boundary', 'genes_in_wide_peak','oncogenes','num_genes']\n",
    "#     df1['cancer_genes'] = df1.apply(lambda x: '({0}){1}'.format(x[4], x[5]), axis=1)\n",
    "    of = f'{wkdir}{inf}.summary'\n",
    "    print('write summary to: ', of)\n",
    "    df1.to_csv(of, index=False, sep='\\t')\n",
    "    return df1"
   ]
  },
  {
   "cell_type": "code",
   "execution_count": 59,
   "metadata": {},
   "outputs": [],
   "source": [
    "def get_qvalue_cytoband(f):\n",
    "    df = pd.read_csv(f, sep='\\t')\n",
    "    df.columns = ['cytoband', 'q_value', 'residual_q_value', 'chrom', 'wide_peak_boundary', 'genes_in_wide_peak','oncogenes','num_genes']\n",
    "#     print(df.head(2), df.shape, df.columns)\n",
    "    df['gene'] = df['genes_in_wide_peak']#.apply(lambda x: x.split(',')[0])\n",
    "    df = df[['q_value','cytoband', 'gene']]\n",
    "    df = df[df.gene != '']\n",
    "    s = df[\"gene\"].str.split(',', expand=True).stack()\n",
    "    i = s.index.get_level_values(0)\n",
    "    df2 = df.loc[i].copy()\n",
    "    df2[\"gene\"] = s.values\n",
    "    return df2"
   ]
  },
  {
   "cell_type": "markdown",
   "metadata": {},
   "source": [
    "# 2. parse conf_99 files"
   ]
  },
  {
   "cell_type": "code",
   "execution_count": 87,
   "metadata": {},
   "outputs": [
    {
     "name": "stdout",
     "output_type": "stream",
     "text": [
      "write summary to:  /projects/trans_scratch/validations/workspace/szong/Cervical/cnv/gatk_118_HIV_pos/amp_genes.conf_99.txt.summary\n",
      "write summary to:  /projects/trans_scratch/validations/workspace/szong/Cervical/cnv/gatk_118_HIV_pos/del_genes.conf_99.txt.summary\n"
     ]
    }
   ],
   "source": [
    "# hiv +\n",
    "wkdir = '/projects/trans_scratch/validations/workspace/szong/Cervical/cnv/gatk_118_HIV_pos/'\n",
    "gistdir = '/home/szong/bin/GISTIC_2_0_22/gatk_118_HIV_pos/'\n",
    "files = [f'{gistdir}amp_genes.conf_99.txt', f'{gistdir}del_genes.conf_99.txt']\n",
    "for inf in files:\n",
    "    df1 = summarize_genes(inf, tgs, wkdir)"
   ]
  },
  {
   "cell_type": "code",
   "execution_count": 88,
   "metadata": {},
   "outputs": [],
   "source": [
    "%%bash -s $wkdir\n",
    "cd $1\n",
    "cat del_genes.conf_99.txt.summary |awk -F \":\" '{print $1\"\\t\"$2}'|sed 's/chr//g'|sort -k4n> del_genes.conf_99.txt.summary.sorted\n",
    "cat amp_genes.conf_99.txt.summary |awk -F \":\" '{print $1\"\\t\"$2}'|sed 's/chr//g'|sort -k4n> amp_genes.conf_99.txt.summary.sorted"
   ]
  },
  {
   "cell_type": "code",
   "execution_count": 89,
   "metadata": {},
   "outputs": [
    {
     "name": "stdout",
     "output_type": "stream",
     "text": [
      "/projects/trans_scratch/validations/workspace/szong/Cervical/cnv/gatk_118_HIV_pos//amp_genes.conf_99.txt.summary.sorted\n"
     ]
    },
    {
     "data": {
      "text/html": [
       "<div>\n",
       "<style scoped>\n",
       "    .dataframe tbody tr th:only-of-type {\n",
       "        vertical-align: middle;\n",
       "    }\n",
       "\n",
       "    .dataframe tbody tr th {\n",
       "        vertical-align: top;\n",
       "    }\n",
       "\n",
       "    .dataframe thead th {\n",
       "        text-align: right;\n",
       "    }\n",
       "</style>\n",
       "<table border=\"1\" class=\"dataframe\">\n",
       "  <thead>\n",
       "    <tr style=\"text-align: right;\">\n",
       "      <th></th>\n",
       "      <th>q_value</th>\n",
       "      <th>cytoband</th>\n",
       "      <th>gene</th>\n",
       "    </tr>\n",
       "  </thead>\n",
       "  <tbody>\n",
       "    <tr>\n",
       "      <th>0</th>\n",
       "      <td>0.015552</td>\n",
       "      <td>1p32.1</td>\n",
       "      <td>EFCAB7</td>\n",
       "    </tr>\n",
       "    <tr>\n",
       "      <th>0</th>\n",
       "      <td>0.015552</td>\n",
       "      <td>1p32.1</td>\n",
       "      <td>TM2D1</td>\n",
       "    </tr>\n",
       "  </tbody>\n",
       "</table>\n",
       "</div>"
      ],
      "text/plain": [
       "    q_value cytoband    gene\n",
       "0  0.015552   1p32.1  EFCAB7\n",
       "0  0.015552   1p32.1   TM2D1"
      ]
     },
     "execution_count": 89,
     "metadata": {},
     "output_type": "execute_result"
    }
   ],
   "source": [
    "# for amps\n",
    "pos_amp_file = f'{wkdir}/amp_genes.conf_99.txt.summary.sorted'\n",
    "print(pos_amp_file)\n",
    "pos_amps = get_qvalue_cytoband(pos_amp_file)\n",
    "pos_amps.head(2)"
   ]
  },
  {
   "cell_type": "code",
   "execution_count": 90,
   "metadata": {
    "scrolled": true
   },
   "outputs": [
    {
     "name": "stdout",
     "output_type": "stream",
     "text": [
      "/projects/trans_scratch/validations/workspace/szong/Cervical/cnv/gatk_118_HIV_pos//del_genes.conf_99.txt.summary.sorted\n"
     ]
    },
    {
     "data": {
      "text/html": [
       "<div>\n",
       "<style scoped>\n",
       "    .dataframe tbody tr th:only-of-type {\n",
       "        vertical-align: middle;\n",
       "    }\n",
       "\n",
       "    .dataframe tbody tr th {\n",
       "        vertical-align: top;\n",
       "    }\n",
       "\n",
       "    .dataframe thead th {\n",
       "        text-align: right;\n",
       "    }\n",
       "</style>\n",
       "<table border=\"1\" class=\"dataframe\">\n",
       "  <thead>\n",
       "    <tr style=\"text-align: right;\">\n",
       "      <th></th>\n",
       "      <th>q_value</th>\n",
       "      <th>cytoband</th>\n",
       "      <th>gene</th>\n",
       "    </tr>\n",
       "  </thead>\n",
       "  <tbody>\n",
       "    <tr>\n",
       "      <th>0</th>\n",
       "      <td>1.043200e-15</td>\n",
       "      <td>2q22.1</td>\n",
       "      <td>LRP1B</td>\n",
       "    </tr>\n",
       "    <tr>\n",
       "      <th>0</th>\n",
       "      <td>1.043200e-15</td>\n",
       "      <td>2q22.1</td>\n",
       "      <td>LOC647012</td>\n",
       "    </tr>\n",
       "  </tbody>\n",
       "</table>\n",
       "</div>"
      ],
      "text/plain": [
       "        q_value cytoband       gene\n",
       "0  1.043200e-15   2q22.1      LRP1B\n",
       "0  1.043200e-15   2q22.1  LOC647012"
      ]
     },
     "execution_count": 90,
     "metadata": {},
     "output_type": "execute_result"
    }
   ],
   "source": [
    "# for dels\n",
    "pos_del_file = f'{wkdir}/del_genes.conf_99.txt.summary.sorted'\n",
    "print(pos_del_file)\n",
    "pos_dels = get_qvalue_cytoband(pos_del_file)\n",
    "pos_dels.head(2)"
   ]
  },
  {
   "cell_type": "code",
   "execution_count": 91,
   "metadata": {},
   "outputs": [
    {
     "name": "stdout",
     "output_type": "stream",
     "text": [
      "write summary to:  /projects/trans_scratch/validations/workspace/szong/Cervical/cnv/gatk_118_HIV_neg/amp_genes.conf_99.txt.summary\n",
      "write summary to:  /projects/trans_scratch/validations/workspace/szong/Cervical/cnv/gatk_118_HIV_neg/del_genes.conf_99.txt.summary\n"
     ]
    }
   ],
   "source": [
    "#hiv -\n",
    "wkdir = '/projects/trans_scratch/validations/workspace/szong/Cervical/cnv/gatk_118_HIV_neg/'\n",
    "gistdir = '/home/szong/bin/GISTIC_2_0_22/gatk_118_HIV_neg/'\n",
    "files = [f'{gistdir}amp_genes.conf_99.txt', f'/{gistdir}/del_genes.conf_99.txt']\n",
    "for inf in files:\n",
    "    df1 = summarize_genes(inf, tgs, wkdir)"
   ]
  },
  {
   "cell_type": "code",
   "execution_count": 92,
   "metadata": {},
   "outputs": [],
   "source": [
    "%%bash -s $wkdir\n",
    "cd $1\n",
    "cat del_genes.conf_99.txt.summary |awk -F \":\" '{print $1\"\\t\"$2}'|sed 's/chr//g'|sort -k4n> del_genes.conf_99.txt.summary.sorted\n",
    "cat amp_genes.conf_99.txt.summary |awk -F \":\" '{print $1\"\\t\"$2}'|sed 's/chr//g'|sort -k4n> amp_genes.conf_99.txt.summary.sorted"
   ]
  },
  {
   "cell_type": "code",
   "execution_count": 93,
   "metadata": {},
   "outputs": [
    {
     "name": "stdout",
     "output_type": "stream",
     "text": [
      "/projects/trans_scratch/validations/workspace/szong/Cervical/cnv/gatk_118_HIV_neg//amp_genes.conf_99.txt.summary.sorted\n"
     ]
    },
    {
     "data": {
      "text/html": [
       "<div>\n",
       "<style scoped>\n",
       "    .dataframe tbody tr th:only-of-type {\n",
       "        vertical-align: middle;\n",
       "    }\n",
       "\n",
       "    .dataframe tbody tr th {\n",
       "        vertical-align: top;\n",
       "    }\n",
       "\n",
       "    .dataframe thead th {\n",
       "        text-align: right;\n",
       "    }\n",
       "</style>\n",
       "<table border=\"1\" class=\"dataframe\">\n",
       "  <thead>\n",
       "    <tr style=\"text-align: right;\">\n",
       "      <th></th>\n",
       "      <th>q_value</th>\n",
       "      <th>cytoband</th>\n",
       "      <th>gene</th>\n",
       "    </tr>\n",
       "  </thead>\n",
       "  <tbody>\n",
       "    <tr>\n",
       "      <th>0</th>\n",
       "      <td>0.008915</td>\n",
       "      <td>1q21.3</td>\n",
       "      <td>FCGR1A</td>\n",
       "    </tr>\n",
       "    <tr>\n",
       "      <th>0</th>\n",
       "      <td>0.008915</td>\n",
       "      <td>1q21.3</td>\n",
       "      <td>FLAD1</td>\n",
       "    </tr>\n",
       "  </tbody>\n",
       "</table>\n",
       "</div>"
      ],
      "text/plain": [
       "    q_value cytoband    gene\n",
       "0  0.008915   1q21.3  FCGR1A\n",
       "0  0.008915   1q21.3   FLAD1"
      ]
     },
     "execution_count": 93,
     "metadata": {},
     "output_type": "execute_result"
    }
   ],
   "source": [
    "neg_amp_file = f'{wkdir}/amp_genes.conf_99.txt.summary.sorted'\n",
    "print(neg_amp_file)\n",
    "neg_amps = get_qvalue_cytoband(neg_amp_file)\n",
    "neg_amps.head(2)"
   ]
  },
  {
   "cell_type": "code",
   "execution_count": 94,
   "metadata": {},
   "outputs": [
    {
     "name": "stdout",
     "output_type": "stream",
     "text": [
      "/projects/trans_scratch/validations/workspace/szong/Cervical/cnv/gatk_118_HIV_neg//del_genes.conf_99.txt.summary.sorted\n"
     ]
    },
    {
     "data": {
      "text/html": [
       "<div>\n",
       "<style scoped>\n",
       "    .dataframe tbody tr th:only-of-type {\n",
       "        vertical-align: middle;\n",
       "    }\n",
       "\n",
       "    .dataframe tbody tr th {\n",
       "        vertical-align: top;\n",
       "    }\n",
       "\n",
       "    .dataframe thead th {\n",
       "        text-align: right;\n",
       "    }\n",
       "</style>\n",
       "<table border=\"1\" class=\"dataframe\">\n",
       "  <thead>\n",
       "    <tr style=\"text-align: right;\">\n",
       "      <th></th>\n",
       "      <th>q_value</th>\n",
       "      <th>cytoband</th>\n",
       "      <th>gene</th>\n",
       "    </tr>\n",
       "  </thead>\n",
       "  <tbody>\n",
       "    <tr>\n",
       "      <th>0</th>\n",
       "      <td>0.036117</td>\n",
       "      <td>1p13.2</td>\n",
       "      <td>FCGR1A</td>\n",
       "    </tr>\n",
       "    <tr>\n",
       "      <th>0</th>\n",
       "      <td>0.036117</td>\n",
       "      <td>1p13.2</td>\n",
       "      <td>NBPF10</td>\n",
       "    </tr>\n",
       "  </tbody>\n",
       "</table>\n",
       "</div>"
      ],
      "text/plain": [
       "    q_value cytoband    gene\n",
       "0  0.036117   1p13.2  FCGR1A\n",
       "0  0.036117   1p13.2  NBPF10"
      ]
     },
     "execution_count": 94,
     "metadata": {},
     "output_type": "execute_result"
    }
   ],
   "source": [
    "neg_del_file = f'{wkdir}/del_genes.conf_99.txt.summary.sorted'\n",
    "print(neg_del_file)\n",
    "neg_dels = get_qvalue_cytoband(neg_del_file)\n",
    "neg_dels.head(2)"
   ]
  },
  {
   "cell_type": "code",
   "execution_count": 95,
   "metadata": {},
   "outputs": [
    {
     "name": "stdout",
     "output_type": "stream",
     "text": [
      "write summary to:  /projects/trans_scratch/validations/workspace/szong/Cervical/cnv/tcga/amp_genes.conf_99.txt.summary\n",
      "write summary to:  /projects/trans_scratch/validations/workspace/szong/Cervical/cnv/tcga/del_genes.conf_99.txt.summary\n"
     ]
    }
   ],
   "source": [
    "#tcga\n",
    "wkdir = '/projects/trans_scratch/validations/workspace/szong/Cervical/cnv/tcga/'\n",
    "gistdir = '/home/szong/bin/GISTIC_2_0_22/tcga/'\n",
    "files = [f'{gistdir}amp_genes.conf_99.txt', f'/{gistdir}/del_genes.conf_99.txt']\n",
    "for inf in files:\n",
    "    df1 = summarize_genes(inf, tgs, wkdir)"
   ]
  },
  {
   "cell_type": "code",
   "execution_count": 96,
   "metadata": {},
   "outputs": [],
   "source": [
    "%%bash -s $wkdir\n",
    "cd $1\n",
    "cat del_genes.conf_99.txt.summary |awk -F \":\" '{print $1\"\\t\"$2}'|sed 's/chr//g'|sort -k4n> del_genes.conf_99.txt.summary.sorted\n",
    "cat amp_genes.conf_99.txt.summary |awk -F \":\" '{print $1\"\\t\"$2}'|sed 's/chr//g'|sort -k4n> amp_genes.conf_99.txt.summary.sorted"
   ]
  },
  {
   "cell_type": "code",
   "execution_count": 97,
   "metadata": {
    "scrolled": true
   },
   "outputs": [
    {
     "name": "stdout",
     "output_type": "stream",
     "text": [
      "/projects/trans_scratch/validations/workspace/szong/Cervical/cnv/tcga//amp_genes.conf_99.txt.summary.sorted\n"
     ]
    },
    {
     "data": {
      "text/html": [
       "<div>\n",
       "<style scoped>\n",
       "    .dataframe tbody tr th:only-of-type {\n",
       "        vertical-align: middle;\n",
       "    }\n",
       "\n",
       "    .dataframe tbody tr th {\n",
       "        vertical-align: top;\n",
       "    }\n",
       "\n",
       "    .dataframe thead th {\n",
       "        text-align: right;\n",
       "    }\n",
       "</style>\n",
       "<table border=\"1\" class=\"dataframe\">\n",
       "  <thead>\n",
       "    <tr style=\"text-align: right;\">\n",
       "      <th></th>\n",
       "      <th>q_value</th>\n",
       "      <th>cytoband</th>\n",
       "      <th>gene</th>\n",
       "    </tr>\n",
       "  </thead>\n",
       "  <tbody>\n",
       "    <tr>\n",
       "      <th>0</th>\n",
       "      <td>9.721100e-11</td>\n",
       "      <td>3q26.31</td>\n",
       "      <td>PIK3CA</td>\n",
       "    </tr>\n",
       "    <tr>\n",
       "      <th>0</th>\n",
       "      <td>9.721100e-11</td>\n",
       "      <td>3q26.31</td>\n",
       "      <td>ACTL6A</td>\n",
       "    </tr>\n",
       "  </tbody>\n",
       "</table>\n",
       "</div>"
      ],
      "text/plain": [
       "        q_value cytoband    gene\n",
       "0  9.721100e-11  3q26.31  PIK3CA\n",
       "0  9.721100e-11  3q26.31  ACTL6A"
      ]
     },
     "execution_count": 97,
     "metadata": {},
     "output_type": "execute_result"
    },
    {
     "name": "stdout",
     "output_type": "stream",
     "text": [
      "/projects/trans_scratch/validations/workspace/szong/Cervical/cnv/tcga//del_genes.conf_99.txt.summary.sorted\n"
     ]
    },
    {
     "data": {
      "text/html": [
       "<div>\n",
       "<style scoped>\n",
       "    .dataframe tbody tr th:only-of-type {\n",
       "        vertical-align: middle;\n",
       "    }\n",
       "\n",
       "    .dataframe tbody tr th {\n",
       "        vertical-align: top;\n",
       "    }\n",
       "\n",
       "    .dataframe thead th {\n",
       "        text-align: right;\n",
       "    }\n",
       "</style>\n",
       "<table border=\"1\" class=\"dataframe\">\n",
       "  <thead>\n",
       "    <tr style=\"text-align: right;\">\n",
       "      <th></th>\n",
       "      <th>q_value</th>\n",
       "      <th>cytoband</th>\n",
       "      <th>gene</th>\n",
       "    </tr>\n",
       "  </thead>\n",
       "  <tbody>\n",
       "    <tr>\n",
       "      <th>0</th>\n",
       "      <td>0.001365</td>\n",
       "      <td>1p36.22</td>\n",
       "      <td>CLSTN1</td>\n",
       "    </tr>\n",
       "    <tr>\n",
       "      <th>0</th>\n",
       "      <td>0.001365</td>\n",
       "      <td>1p36.22</td>\n",
       "      <td>PRAMEF6</td>\n",
       "    </tr>\n",
       "  </tbody>\n",
       "</table>\n",
       "</div>"
      ],
      "text/plain": [
       "    q_value cytoband     gene\n",
       "0  0.001365  1p36.22   CLSTN1\n",
       "0  0.001365  1p36.22  PRAMEF6"
      ]
     },
     "execution_count": 97,
     "metadata": {},
     "output_type": "execute_result"
    }
   ],
   "source": [
    "tcga_amp_file = f'{wkdir}/amp_genes.conf_99.txt.summary.sorted'\n",
    "print(tcga_amp_file)\n",
    "tcga_amps = get_qvalue_cytoband(tcga_amp_file)\n",
    "tcga_amps.head(2)\n",
    "\n",
    "tcga_del_file = f'{wkdir}/del_genes.conf_99.txt.summary.sorted'\n",
    "print(tcga_del_file)\n",
    "tcga_dels = get_qvalue_cytoband(tcga_del_file)\n",
    "tcga_dels.head(2)"
   ]
  },
  {
   "cell_type": "markdown",
   "metadata": {},
   "source": [
    "# 3. shared unique genes"
   ]
  },
  {
   "cell_type": "code",
   "execution_count": 98,
   "metadata": {},
   "outputs": [
    {
     "data": {
      "text/plain": [
       "['EFCAB7', 'TM2D1']"
      ]
     },
     "execution_count": 98,
     "metadata": {},
     "output_type": "execute_result"
    },
    {
     "data": {
      "text/plain": [
       "['FCGR1A', 'FLAD1']"
      ]
     },
     "execution_count": 98,
     "metadata": {},
     "output_type": "execute_result"
    },
    {
     "data": {
      "text/plain": [
       "399"
      ]
     },
     "execution_count": 98,
     "metadata": {},
     "output_type": "execute_result"
    }
   ],
   "source": [
    "# hiv + and -\n",
    "pos_amps_genes = pos_amps['gene'].tolist()\n",
    "pos_amps_genes[:2]\n",
    "\n",
    "# hiv + and -\n",
    "neg_amps_genes = neg_amps['gene'].tolist()\n",
    "neg_amps_genes[:2]\n",
    "\n",
    "of = f'{outputdir}hiv_pos_uniq_amp_genes_pos_vs_neg.txt'\n",
    "pos_uniq_amp_genes = szt.unique2a(pos_amps_genes, neg_amps_genes)\n",
    "len(pos_uniq_amp_genes)\n",
    "szt.list2csv(pos_uniq_amp_genes, of)\n",
    "of = f'{outputdir}hiv_neg_uniq_amp_genes_pos_vs_neg.txt'\n",
    "neg_uniq_amp_genes = szt.unique2a(neg_amps_genes,pos_amps_genes)\n",
    "szt.list2csv(neg_uniq_amp_genes, of)"
   ]
  },
  {
   "cell_type": "code",
   "execution_count": 99,
   "metadata": {},
   "outputs": [
    {
     "data": {
      "text/plain": [
       "['LRP1B', 'LOC647012']"
      ]
     },
     "execution_count": 99,
     "metadata": {},
     "output_type": "execute_result"
    },
    {
     "data": {
      "text/plain": [
       "['FCGR1A', 'NBPF10']"
      ]
     },
     "execution_count": 99,
     "metadata": {},
     "output_type": "execute_result"
    },
    {
     "data": {
      "text/plain": [
       "3405"
      ]
     },
     "execution_count": 99,
     "metadata": {},
     "output_type": "execute_result"
    }
   ],
   "source": [
    "# hiv + and -\n",
    "pos_dels_genes = pos_dels['gene'].tolist()\n",
    "pos_dels_genes[:2]\n",
    "\n",
    "# hiv + and -\n",
    "neg_dels_genes = neg_dels['gene'].tolist()\n",
    "neg_dels_genes[:2]\n",
    "\n",
    "of = f'{outputdir}hiv_pos_uniq_del_genes_pos_vs_neg.txt'\n",
    "pos_uniq_del_genes = szt.unique2a(pos_dels_genes, neg_dels_genes)\n",
    "len(pos_uniq_del_genes)\n",
    "szt.list2csv(pos_uniq_del_genes, of)\n",
    "of = f'{outputdir}hiv_neg_uniq_del_genes_pos_vs_neg.txt'\n",
    "neg_uniq_del_genes = szt.unique2a(neg_dels_genes,pos_dels_genes)\n",
    "szt.list2csv(neg_uniq_del_genes, of)"
   ]
  },
  {
   "cell_type": "code",
   "execution_count": null,
   "metadata": {},
   "outputs": [],
   "source": []
  },
  {
   "cell_type": "code",
   "execution_count": 100,
   "metadata": {},
   "outputs": [
    {
     "data": {
      "text/plain": [
       "['PIK3CA', 'ACTL6A']"
      ]
     },
     "execution_count": 100,
     "metadata": {},
     "output_type": "execute_result"
    },
    {
     "data": {
      "text/plain": [
       "['FCGR1A', 'FLAD1']"
      ]
     },
     "execution_count": 100,
     "metadata": {},
     "output_type": "execute_result"
    },
    {
     "data": {
      "text/plain": [
       "287"
      ]
     },
     "execution_count": 100,
     "metadata": {},
     "output_type": "execute_result"
    }
   ],
   "source": [
    "# tcga + and hiv-\n",
    "tcga_amps_genes = tcga_amps['gene'].tolist()\n",
    "tcga_amps_genes[:2]\n",
    "\n",
    "neg_amps_genes = neg_amps['gene'].tolist()\n",
    "neg_amps_genes[:2]\n",
    "\n",
    "of = f'{outputdir}hiv_tcga_uniq_amp_genes_tcga_vs_neg.txt'\n",
    "tcga_uniq_amp_genes = szt.unique2a(tcga_amps_genes, neg_amps_genes)\n",
    "len(tcga_uniq_amp_genes)\n",
    "szt.list2csv(tcga_uniq_amp_genes, of)\n",
    "of = f'{outputdir}hiv_neg_uniq_amp_genes_tcga_vs_neg.txt'\n",
    "neg_uniq_amp_genes = szt.unique2a(neg_amps_genes,tcga_amps_genes)\n",
    "szt.list2csv(neg_uniq_amp_genes, of)"
   ]
  },
  {
   "cell_type": "code",
   "execution_count": 101,
   "metadata": {},
   "outputs": [
    {
     "data": {
      "text/plain": [
       "['CLSTN1', 'PRAMEF6']"
      ]
     },
     "execution_count": 101,
     "metadata": {},
     "output_type": "execute_result"
    },
    {
     "data": {
      "text/plain": [
       "['FCGR1A', 'NBPF10']"
      ]
     },
     "execution_count": 101,
     "metadata": {},
     "output_type": "execute_result"
    },
    {
     "data": {
      "text/plain": [
       "2239"
      ]
     },
     "execution_count": 101,
     "metadata": {},
     "output_type": "execute_result"
    }
   ],
   "source": [
    "# tcga + and hiv-\n",
    "tcga_dels_genes = tcga_dels['gene'].tolist()\n",
    "tcga_dels_genes[:2]\n",
    "\n",
    "neg_dels_genes = neg_dels['gene'].tolist()\n",
    "neg_dels_genes[:2]\n",
    "\n",
    "of = f'{outputdir}hiv_tcga_uniq_del_genes_tcga_vs_neg.txt'\n",
    "tcga_uniq_del_genes = szt.unique2a(tcga_dels_genes, neg_dels_genes)\n",
    "len(tcga_uniq_del_genes)\n",
    "szt.list2csv(tcga_uniq_del_genes, of)\n",
    "of = f'{outputdir}hiv_neg_uniq_del_genes_tcga_vs_neg.txt'\n",
    "neg_uniq_del_genes = szt.unique2a(neg_dels_genes,tcga_dels_genes)\n",
    "szt.list2csv(neg_uniq_del_genes, of)"
   ]
  },
  {
   "cell_type": "code",
   "execution_count": null,
   "metadata": {},
   "outputs": [],
   "source": []
  },
  {
   "cell_type": "markdown",
   "metadata": {},
   "source": [
    "# 3. summarize cytobands"
   ]
  },
  {
   "cell_type": "code",
   "execution_count": 145,
   "metadata": {},
   "outputs": [
    {
     "data": {
      "text/html": [
       "<div>\n",
       "<style scoped>\n",
       "    .dataframe tbody tr th:only-of-type {\n",
       "        vertical-align: middle;\n",
       "    }\n",
       "\n",
       "    .dataframe tbody tr th {\n",
       "        vertical-align: top;\n",
       "    }\n",
       "\n",
       "    .dataframe thead th {\n",
       "        text-align: right;\n",
       "    }\n",
       "</style>\n",
       "<table border=\"1\" class=\"dataframe\">\n",
       "  <thead>\n",
       "    <tr style=\"text-align: right;\">\n",
       "      <th></th>\n",
       "      <th>q_value_x</th>\n",
       "      <th>cytoband</th>\n",
       "      <th>gene_x</th>\n",
       "      <th>q_value_y</th>\n",
       "      <th>gene_y</th>\n",
       "    </tr>\n",
       "  </thead>\n",
       "  <tbody>\n",
       "    <tr>\n",
       "      <th>0</th>\n",
       "      <td>0.015552</td>\n",
       "      <td>1p32.1</td>\n",
       "      <td>TACSTD2</td>\n",
       "      <td>NaN</td>\n",
       "      <td>NaN</td>\n",
       "    </tr>\n",
       "    <tr>\n",
       "      <th>1</th>\n",
       "      <td>0.015552</td>\n",
       "      <td>1p32.1</td>\n",
       "      <td>L1TD1</td>\n",
       "      <td>NaN</td>\n",
       "      <td>NaN</td>\n",
       "    </tr>\n",
       "  </tbody>\n",
       "</table>\n",
       "</div>"
      ],
      "text/plain": [
       "   q_value_x cytoband   gene_x  q_value_y gene_y\n",
       "0   0.015552   1p32.1  TACSTD2        NaN    NaN\n",
       "1   0.015552   1p32.1    L1TD1        NaN    NaN"
      ]
     },
     "execution_count": 145,
     "metadata": {},
     "output_type": "execute_result"
    },
    {
     "data": {
      "text/html": [
       "<div>\n",
       "<style scoped>\n",
       "    .dataframe tbody tr th:only-of-type {\n",
       "        vertical-align: middle;\n",
       "    }\n",
       "\n",
       "    .dataframe tbody tr th {\n",
       "        vertical-align: top;\n",
       "    }\n",
       "\n",
       "    .dataframe thead th {\n",
       "        text-align: right;\n",
       "    }\n",
       "</style>\n",
       "<table border=\"1\" class=\"dataframe\">\n",
       "  <thead>\n",
       "    <tr style=\"text-align: right;\">\n",
       "      <th></th>\n",
       "      <th>q_value_hiv+</th>\n",
       "      <th>cytoband</th>\n",
       "      <th>gene_hiv+</th>\n",
       "      <th>q_value_hiv-</th>\n",
       "      <th>gene_hiv-</th>\n",
       "    </tr>\n",
       "  </thead>\n",
       "  <tbody>\n",
       "    <tr>\n",
       "      <th>28</th>\n",
       "      <td>0.015552</td>\n",
       "      <td>1p32.1</td>\n",
       "      <td>ATG4C</td>\n",
       "      <td>NaN</td>\n",
       "      <td>NaN</td>\n",
       "    </tr>\n",
       "    <tr>\n",
       "      <th>61</th>\n",
       "      <td>0.020664</td>\n",
       "      <td>2p11.2</td>\n",
       "      <td>C2orf89</td>\n",
       "      <td>NaN</td>\n",
       "      <td>NaN</td>\n",
       "    </tr>\n",
       "  </tbody>\n",
       "</table>\n",
       "</div>"
      ],
      "text/plain": [
       "    q_value_hiv+ cytoband gene_hiv+  q_value_hiv- gene_hiv-\n",
       "28      0.015552   1p32.1     ATG4C           NaN       NaN\n",
       "61      0.020664   2p11.2   C2orf89           NaN       NaN"
      ]
     },
     "execution_count": 145,
     "metadata": {},
     "output_type": "execute_result"
    },
    {
     "data": {
      "text/plain": [
       "(15, 5)"
      ]
     },
     "execution_count": 145,
     "metadata": {},
     "output_type": "execute_result"
    },
    {
     "data": {
      "text/plain": [
       "15"
      ]
     },
     "execution_count": 145,
     "metadata": {},
     "output_type": "execute_result"
    },
    {
     "data": {
      "text/html": [
       "<div>\n",
       "<style scoped>\n",
       "    .dataframe tbody tr th:only-of-type {\n",
       "        vertical-align: middle;\n",
       "    }\n",
       "\n",
       "    .dataframe tbody tr th {\n",
       "        vertical-align: top;\n",
       "    }\n",
       "\n",
       "    .dataframe thead th {\n",
       "        text-align: right;\n",
       "    }\n",
       "</style>\n",
       "<table border=\"1\" class=\"dataframe\">\n",
       "  <thead>\n",
       "    <tr style=\"text-align: right;\">\n",
       "      <th></th>\n",
       "      <th>q_value_hiv+</th>\n",
       "      <th>cytoband</th>\n",
       "      <th>gene_hiv+</th>\n",
       "      <th>q_value_hiv-</th>\n",
       "      <th>gene_hiv-</th>\n",
       "      <th>hiv+q(-log10)</th>\n",
       "      <th>hiv-q(-log10)</th>\n",
       "    </tr>\n",
       "  </thead>\n",
       "  <tbody>\n",
       "    <tr>\n",
       "      <th>28</th>\n",
       "      <td>0.015552</td>\n",
       "      <td>1p32.1</td>\n",
       "      <td>ATG4C</td>\n",
       "      <td>1.0</td>\n",
       "      <td>NaN</td>\n",
       "      <td>1.808214</td>\n",
       "      <td>-0.0</td>\n",
       "    </tr>\n",
       "    <tr>\n",
       "      <th>61</th>\n",
       "      <td>0.020664</td>\n",
       "      <td>2p11.2</td>\n",
       "      <td>C2orf89</td>\n",
       "      <td>1.0</td>\n",
       "      <td>NaN</td>\n",
       "      <td>1.684786</td>\n",
       "      <td>-0.0</td>\n",
       "    </tr>\n",
       "  </tbody>\n",
       "</table>\n",
       "</div>"
      ],
      "text/plain": [
       "    q_value_hiv+ cytoband gene_hiv+  q_value_hiv- gene_hiv-  hiv+q(-log10)  \\\n",
       "28      0.015552   1p32.1     ATG4C           1.0       NaN       1.808214   \n",
       "61      0.020664   2p11.2   C2orf89           1.0       NaN       1.684786   \n",
       "\n",
       "    hiv-q(-log10)  \n",
       "28           -0.0  \n",
       "61           -0.0  "
      ]
     },
     "execution_count": 145,
     "metadata": {},
     "output_type": "execute_result"
    }
   ],
   "source": [
    "ndf = pd.merge(pos_amps, neg_amps, left_on='cytoband', right_on='cytoband', how='outer')#.fillna(1)\n",
    "ndf.head(2)\n",
    "\n",
    "new_cols = pd.Series(ndf.columns.tolist()).str.replace('_x', '_hiv+').str.replace('_y', '_hiv-')\n",
    "\n",
    "ndf.columns = new_cols\n",
    "ndf = ndf.drop_duplicates(subset='cytoband', keep='last')\n",
    "\n",
    "ndf.head(2)\n",
    "ndf.shape\n",
    "ndf['cytoband'].nunique()\n",
    "ndf['q_value_hiv+'] = ndf['q_value_hiv+'].fillna(1)\n",
    "ndf['q_value_hiv-'] = ndf['q_value_hiv-'].fillna(1)\n",
    "ndf['hiv+q(-log10)'] = -np.log10(ndf['q_value_hiv+'])\n",
    "ndf['hiv-q(-log10)'] = -np.log10(ndf['q_value_hiv-'])\n",
    "# ndf['num_genes_hiv+'] = ndf['num_genes_hiv+'].fillna(0).astype(int)\n",
    "# ndf['num_genes_hiv-'] = ndf['num_genes_hiv-'].fillna(0).astype(int)\n",
    "# ndf['oncogenes_hiv+'] = ndf['oncogenes_hiv+'].fillna('None')\n",
    "# ndf['oncogenes_hiv-'] = ndf['oncogenes_hiv-'].fillna('None')\n",
    "ndf.head(2)"
   ]
  },
  {
   "cell_type": "code",
   "execution_count": 147,
   "metadata": {},
   "outputs": [
    {
     "data": {
      "text/plain": [
       "<matplotlib.axes._subplots.AxesSubplot at 0x7f79b3542048>"
      ]
     },
     "execution_count": 147,
     "metadata": {},
     "output_type": "execute_result"
    },
    {
     "data": {
      "text/plain": [
       "Text(0.5, 1.0, 'GISTIC amps cytobands')"
      ]
     },
     "execution_count": 147,
     "metadata": {},
     "output_type": "execute_result"
    },
    {
     "data": {
      "text/plain": [
       "Text(0.5, 0, 'HIV-(-log10)')"
      ]
     },
     "execution_count": 147,
     "metadata": {},
     "output_type": "execute_result"
    },
    {
     "data": {
      "text/plain": [
       "Text(0, 0.5, 'HIV+(-log10)')"
      ]
     },
     "execution_count": 147,
     "metadata": {},
     "output_type": "execute_result"
    },
    {
     "data": {
      "text/plain": [
       "(-1, 10)"
      ]
     },
     "execution_count": 147,
     "metadata": {},
     "output_type": "execute_result"
    },
    {
     "data": {
      "text/plain": [
       "(-1, 10)"
      ]
     },
     "execution_count": 147,
     "metadata": {},
     "output_type": "execute_result"
    },
    {
     "data": {
      "text/plain": [
       "65"
      ]
     },
     "execution_count": 147,
     "metadata": {},
     "output_type": "execute_result"
    },
    {
     "data": {
      "image/png": "[encoded data removed]",
      "text/plain": [
       "<Figure size 504x504 with 1 Axes>"
      ]
     },
     "metadata": {},
     "output_type": "display_data"
    }
   ],
   "source": [
    "# Set theme\n",
    "sns.set_style('whitegrid')\n",
    "f, ax = plt.subplots(figsize=(7, 7))\n",
    "sns.regplot(x='hiv-q(-log10)', y='hiv+q(-log10)', data=ndf, ax=ax, fit_reg=False,  scatter_kws={\"s\": 10})#x_jitter=1e-12, y_jitter=1e-10,\n",
    "\n",
    "ax.set_title('GISTIC amps cytobands')\n",
    "ax.set_xlabel('HIV-(-log10)', fontsize=16)\n",
    "ax.set_ylabel('HIV+(-log10)', fontsize=16)\n",
    "\n",
    "ax.set_xlim(-1, 10)\n",
    "ax.set_ylim(-1, 10)\n",
    "\n",
    "texts = [plt.text(a, b, c) for a, b, c in zip(ndf['hiv-q(-log10)'], ndf['hiv+q(-log10)'], ndf.cytoband)]\n",
    "adjust_text(texts)\n",
    "\n",
    "of = f'{root}amp_cytoband_qvalue_comparison_hiv_pos_vs_neg.png'\n",
    "plt.savefig(of, bbox_inches='tight', dpi=200)"
   ]
  },
  {
   "cell_type": "code",
   "execution_count": 148,
   "metadata": {},
   "outputs": [
    {
     "data": {
      "text/html": [
       "<div>\n",
       "<style scoped>\n",
       "    .dataframe tbody tr th:only-of-type {\n",
       "        vertical-align: middle;\n",
       "    }\n",
       "\n",
       "    .dataframe tbody tr th {\n",
       "        vertical-align: top;\n",
       "    }\n",
       "\n",
       "    .dataframe thead th {\n",
       "        text-align: right;\n",
       "    }\n",
       "</style>\n",
       "<table border=\"1\" class=\"dataframe\">\n",
       "  <thead>\n",
       "    <tr style=\"text-align: right;\">\n",
       "      <th></th>\n",
       "      <th>q_value_x</th>\n",
       "      <th>cytoband</th>\n",
       "      <th>gene_x</th>\n",
       "      <th>q_value_y</th>\n",
       "      <th>gene_y</th>\n",
       "    </tr>\n",
       "  </thead>\n",
       "  <tbody>\n",
       "    <tr>\n",
       "      <th>0</th>\n",
       "      <td>1.043200e-15</td>\n",
       "      <td>2q22.1</td>\n",
       "      <td>LOC647012</td>\n",
       "      <td>0.04368</td>\n",
       "      <td>NXPH2</td>\n",
       "    </tr>\n",
       "    <tr>\n",
       "      <th>1</th>\n",
       "      <td>1.043200e-15</td>\n",
       "      <td>2q22.1</td>\n",
       "      <td>LOC647012</td>\n",
       "      <td>0.04368</td>\n",
       "      <td>KYNU</td>\n",
       "    </tr>\n",
       "  </tbody>\n",
       "</table>\n",
       "</div>"
      ],
      "text/plain": [
       "      q_value_x cytoband     gene_x  q_value_y gene_y\n",
       "0  1.043200e-15   2q22.1  LOC647012    0.04368  NXPH2\n",
       "1  1.043200e-15   2q22.1  LOC647012    0.04368   KYNU"
      ]
     },
     "execution_count": 148,
     "metadata": {},
     "output_type": "execute_result"
    },
    {
     "data": {
      "text/html": [
       "<div>\n",
       "<style scoped>\n",
       "    .dataframe tbody tr th:only-of-type {\n",
       "        vertical-align: middle;\n",
       "    }\n",
       "\n",
       "    .dataframe tbody tr th {\n",
       "        vertical-align: top;\n",
       "    }\n",
       "\n",
       "    .dataframe thead th {\n",
       "        text-align: right;\n",
       "    }\n",
       "</style>\n",
       "<table border=\"1\" class=\"dataframe\">\n",
       "  <thead>\n",
       "    <tr style=\"text-align: right;\">\n",
       "      <th></th>\n",
       "      <th>q_value_hiv+</th>\n",
       "      <th>cytoband</th>\n",
       "      <th>gene_hiv+</th>\n",
       "      <th>q_value_hiv-</th>\n",
       "      <th>gene_hiv-</th>\n",
       "    </tr>\n",
       "  </thead>\n",
       "  <tbody>\n",
       "    <tr>\n",
       "      <th>153</th>\n",
       "      <td>1.043200e-15</td>\n",
       "      <td>2q22.1</td>\n",
       "      <td>LRP1B</td>\n",
       "      <td>0.04368</td>\n",
       "      <td>CXCR4</td>\n",
       "    </tr>\n",
       "    <tr>\n",
       "      <th>488</th>\n",
       "      <td>1.519500e-09</td>\n",
       "      <td>2q36.3</td>\n",
       "      <td>PDE6D</td>\n",
       "      <td>NaN</td>\n",
       "      <td>NaN</td>\n",
       "    </tr>\n",
       "  </tbody>\n",
       "</table>\n",
       "</div>"
      ],
      "text/plain": [
       "     q_value_hiv+ cytoband gene_hiv+  q_value_hiv- gene_hiv-\n",
       "153  1.043200e-15   2q22.1     LRP1B       0.04368     CXCR4\n",
       "488  1.519500e-09   2q36.3     PDE6D           NaN       NaN"
      ]
     },
     "execution_count": 148,
     "metadata": {},
     "output_type": "execute_result"
    },
    {
     "data": {
      "text/plain": [
       "(36, 5)"
      ]
     },
     "execution_count": 148,
     "metadata": {},
     "output_type": "execute_result"
    },
    {
     "data": {
      "text/plain": [
       "36"
      ]
     },
     "execution_count": 148,
     "metadata": {},
     "output_type": "execute_result"
    },
    {
     "data": {
      "text/html": [
       "<div>\n",
       "<style scoped>\n",
       "    .dataframe tbody tr th:only-of-type {\n",
       "        vertical-align: middle;\n",
       "    }\n",
       "\n",
       "    .dataframe tbody tr th {\n",
       "        vertical-align: top;\n",
       "    }\n",
       "\n",
       "    .dataframe thead th {\n",
       "        text-align: right;\n",
       "    }\n",
       "</style>\n",
       "<table border=\"1\" class=\"dataframe\">\n",
       "  <thead>\n",
       "    <tr style=\"text-align: right;\">\n",
       "      <th></th>\n",
       "      <th>q_value_hiv+</th>\n",
       "      <th>cytoband</th>\n",
       "      <th>gene_hiv+</th>\n",
       "      <th>q_value_hiv-</th>\n",
       "      <th>gene_hiv-</th>\n",
       "      <th>hiv+q(-log10)</th>\n",
       "      <th>hiv-q(-log10)</th>\n",
       "    </tr>\n",
       "  </thead>\n",
       "  <tbody>\n",
       "    <tr>\n",
       "      <th>153</th>\n",
       "      <td>1.043200e-15</td>\n",
       "      <td>2q22.1</td>\n",
       "      <td>LRP1B</td>\n",
       "      <td>0.04368</td>\n",
       "      <td>CXCR4</td>\n",
       "      <td>14.981632</td>\n",
       "      <td>1.359717</td>\n",
       "    </tr>\n",
       "    <tr>\n",
       "      <th>488</th>\n",
       "      <td>1.519500e-09</td>\n",
       "      <td>2q36.3</td>\n",
       "      <td>PDE6D</td>\n",
       "      <td>1.00000</td>\n",
       "      <td>NaN</td>\n",
       "      <td>8.818299</td>\n",
       "      <td>-0.000000</td>\n",
       "    </tr>\n",
       "  </tbody>\n",
       "</table>\n",
       "</div>"
      ],
      "text/plain": [
       "     q_value_hiv+ cytoband gene_hiv+  q_value_hiv- gene_hiv-  hiv+q(-log10)  \\\n",
       "153  1.043200e-15   2q22.1     LRP1B       0.04368     CXCR4      14.981632   \n",
       "488  1.519500e-09   2q36.3     PDE6D       1.00000       NaN       8.818299   \n",
       "\n",
       "     hiv-q(-log10)  \n",
       "153       1.359717  \n",
       "488      -0.000000  "
      ]
     },
     "execution_count": 148,
     "metadata": {},
     "output_type": "execute_result"
    }
   ],
   "source": [
    "ndf = pd.merge(pos_dels, neg_dels, left_on='cytoband', right_on='cytoband', how='outer')#.fillna(1)\n",
    "ndf.head(2)\n",
    "\n",
    "new_cols = pd.Series(ndf.columns.tolist()).str.replace('_x', '_hiv+').str.replace('_y', '_hiv-')\n",
    "\n",
    "ndf.columns = new_cols\n",
    "ndf = ndf.drop_duplicates(subset='cytoband', keep='last')\n",
    "\n",
    "ndf.head(2)\n",
    "ndf.shape\n",
    "ndf['cytoband'].nunique()\n",
    "ndf['q_value_hiv+'] = ndf['q_value_hiv+'].fillna(1)\n",
    "ndf['q_value_hiv-'] = ndf['q_value_hiv-'].fillna(1)\n",
    "ndf['hiv+q(-log10)'] = -np.log10(ndf['q_value_hiv+'])\n",
    "ndf['hiv-q(-log10)'] = -np.log10(ndf['q_value_hiv-'])\n",
    "# ndf['num_genes_hiv+'] = ndf['num_genes_hiv+'].fillna(0).astype(int)\n",
    "# ndf['num_genes_hiv-'] = ndf['num_genes_hiv-'].fillna(0).astype(int)\n",
    "# ndf['oncogenes_hiv+'] = ndf['oncogenes_hiv+'].fillna('None')\n",
    "# ndf['oncogenes_hiv-'] = ndf['oncogenes_hiv-'].fillna('None')\n",
    "ndf.head(2)"
   ]
  },
  {
   "cell_type": "code",
   "execution_count": 133,
   "metadata": {},
   "outputs": [
    {
     "data": {
      "text/plain": [
       "(19, 7)"
      ]
     },
     "execution_count": 133,
     "metadata": {},
     "output_type": "execute_result"
    }
   ],
   "source": [
    "ndf[(ndf['q_value_hiv+'] >0.25)&(ndf['q_value_hiv-']<0.25)].shape"
   ]
  },
  {
   "cell_type": "code",
   "execution_count": 150,
   "metadata": {
    "scrolled": true
   },
   "outputs": [
    {
     "data": {
      "text/plain": [
       "<matplotlib.axes._subplots.AxesSubplot at 0x7f79b352f518>"
      ]
     },
     "execution_count": 150,
     "metadata": {},
     "output_type": "execute_result"
    },
    {
     "data": {
      "text/plain": [
       "Text(0.5, 0, 'HIV-(-log10)')"
      ]
     },
     "execution_count": 150,
     "metadata": {},
     "output_type": "execute_result"
    },
    {
     "data": {
      "text/plain": [
       "Text(0, 0.5, 'HIV+(-log10)')"
      ]
     },
     "execution_count": 150,
     "metadata": {},
     "output_type": "execute_result"
    },
    {
     "data": {
      "text/plain": [
       "Text(0.5, 1.0, 'GISTIC dels cytobands')"
      ]
     },
     "execution_count": 150,
     "metadata": {},
     "output_type": "execute_result"
    },
    {
     "data": {
      "text/plain": [
       "(-1, 16)"
      ]
     },
     "execution_count": 150,
     "metadata": {},
     "output_type": "execute_result"
    },
    {
     "data": {
      "text/plain": [
       "(-1, 16)"
      ]
     },
     "execution_count": 150,
     "metadata": {},
     "output_type": "execute_result"
    },
    {
     "data": {
      "text/plain": [
       "290"
      ]
     },
     "execution_count": 150,
     "metadata": {},
     "output_type": "execute_result"
    },
    {
     "data": {
      "image/png": "[encoded data removed]",
      "text/plain": [
       "<Figure size 504x504 with 1 Axes>"
      ]
     },
     "metadata": {},
     "output_type": "display_data"
    }
   ],
   "source": [
    "# Set theme\n",
    "sns.set_style('whitegrid')\n",
    "f, ax = plt.subplots(figsize=(7, 7))\n",
    "sns.regplot(x='hiv-q(-log10)', y='hiv+q(-log10)', data=ndf, ax=ax, fit_reg=False,  scatter_kws={\"s\": 10})#x_jitter=1e-12, y_jitter=1e-10,\n",
    "ax.set_xlabel('HIV-(-log10)', fontsize=16)\n",
    "ax.set_ylabel('HIV+(-log10)', fontsize=16)\n",
    "ax.set_title('GISTIC dels cytobands')\n",
    "ax.set_xlim(-1, 16)\n",
    "ax.set_ylim(-1, 16)\n",
    "\n",
    "texts = [plt.text(a, b, c) for a, b, c in zip(ndf['hiv-q(-log10)'], ndf['hiv+q(-log10)'], ndf.cytoband)]\n",
    "adjust_text(texts)\n",
    "\n",
    "of = f'{root}del_cytoband_qvalue_comparison_hiv_pos_vs_neg.png'\n",
    "plt.savefig(of, bbox_inches='tight', dpi=200)"
   ]
  },
  {
   "cell_type": "markdown",
   "metadata": {},
   "source": [
    "# LOOK AT OVERALL COPY NUMBER CHANGES IN SMGS"
   ]
  },
  {
   "cell_type": "code",
   "execution_count": 151,
   "metadata": {},
   "outputs": [],
   "source": [
    "smgf = '/projects/trans_scratch/validations/workspace/szong/Cervical/mutsig2cv/118_patients/smgs.txt'\n",
    "smgs = pd.read_csv(smgf, header=None, comment='#')[0].tolist()\n",
    "smgs = smgs + ['BAGE']"
   ]
  },
  {
   "cell_type": "code",
   "execution_count": 193,
   "metadata": {},
   "outputs": [
    {
     "data": {
      "text/plain": [
       "['HTMCP-03-06-02001', 'HTMCP-03-06-02003']"
      ]
     },
     "execution_count": 193,
     "metadata": {},
     "output_type": "execute_result"
    },
    {
     "data": {
      "text/plain": [
       "72"
      ]
     },
     "execution_count": 193,
     "metadata": {},
     "output_type": "execute_result"
    },
    {
     "data": {
      "text/plain": [
       "['HTMCP-03-06-02002', 'HTMCP-03-06-02006']"
      ]
     },
     "execution_count": 193,
     "metadata": {},
     "output_type": "execute_result"
    },
    {
     "data": {
      "text/plain": [
       "44"
      ]
     },
     "execution_count": 193,
     "metadata": {},
     "output_type": "execute_result"
    }
   ],
   "source": [
    "posf = '/projects/trans_scratch/validations/workspace/szong/Cervical/73_hiv_positive_patients.txt'\n",
    "negf = '/projects/trans_scratch/validations/workspace/szong/Cervical/45_hiv_negative_patients.txt'\n",
    "pos = pd.read_csv(posf, header=None)[0].tolist()\n",
    "pos[:2]\n",
    "pos.remove('HTMCP-03-06-02344')\n",
    "len(pos)\n",
    "neg = pd.read_csv(negf, header=None)[0].tolist()\n",
    "neg[:2]\n",
    "neg.remove('HTMCP-03-06-02210')\n",
    "len(neg)"
   ]
  },
  {
   "cell_type": "code",
   "execution_count": 194,
   "metadata": {},
   "outputs": [
    {
     "data": {
      "text/html": [
       "<div>\n",
       "<style scoped>\n",
       "    .dataframe tbody tr th:only-of-type {\n",
       "        vertical-align: middle;\n",
       "    }\n",
       "\n",
       "    .dataframe tbody tr th {\n",
       "        vertical-align: top;\n",
       "    }\n",
       "\n",
       "    .dataframe thead th {\n",
       "        text-align: right;\n",
       "    }\n",
       "</style>\n",
       "<table border=\"1\" class=\"dataframe\">\n",
       "  <thead>\n",
       "    <tr style=\"text-align: right;\">\n",
       "      <th></th>\n",
       "      <th>Gene Symbol</th>\n",
       "      <th>Locus ID</th>\n",
       "      <th>Cytoband</th>\n",
       "      <th>HTMCP-03-06-02256</th>\n",
       "      <th>HTMCP-03-06-02332</th>\n",
       "      <th>HTMCP-03-06-02414</th>\n",
       "      <th>HTMCP-03-06-02435</th>\n",
       "      <th>HTMCP-03-06-02261</th>\n",
       "      <th>HTMCP-03-06-02175</th>\n",
       "      <th>HTMCP-03-06-02098</th>\n",
       "      <th>...</th>\n",
       "      <th>HTMCP-03-06-02148</th>\n",
       "      <th>HTMCP-03-06-02176</th>\n",
       "      <th>HTMCP-03-06-02174</th>\n",
       "      <th>HTMCP-03-06-02239</th>\n",
       "      <th>HTMCP-03-06-02354</th>\n",
       "      <th>HTMCP-03-06-02259</th>\n",
       "      <th>HTMCP-03-06-02180</th>\n",
       "      <th>HTMCP-03-06-02213</th>\n",
       "      <th>HTMCP-03-06-02179</th>\n",
       "      <th>HTMCP-03-06-02001</th>\n",
       "    </tr>\n",
       "  </thead>\n",
       "  <tbody>\n",
       "    <tr>\n",
       "      <th>0</th>\n",
       "      <td>ACAP3</td>\n",
       "      <td>116983</td>\n",
       "      <td>1p36.33</td>\n",
       "      <td>0.0</td>\n",
       "      <td>-0.121</td>\n",
       "      <td>0.0</td>\n",
       "      <td>0.0</td>\n",
       "      <td>0.0</td>\n",
       "      <td>-0.829</td>\n",
       "      <td>0.0</td>\n",
       "      <td>...</td>\n",
       "      <td>0.0</td>\n",
       "      <td>0.0</td>\n",
       "      <td>0.0</td>\n",
       "      <td>0.0</td>\n",
       "      <td>-0.251</td>\n",
       "      <td>0.0</td>\n",
       "      <td>-0.644</td>\n",
       "      <td>0.0</td>\n",
       "      <td>0.0</td>\n",
       "      <td>0.0</td>\n",
       "    </tr>\n",
       "    <tr>\n",
       "      <th>1</th>\n",
       "      <td>ACTRT2</td>\n",
       "      <td>140625</td>\n",
       "      <td>1p36.32</td>\n",
       "      <td>0.0</td>\n",
       "      <td>-0.121</td>\n",
       "      <td>0.0</td>\n",
       "      <td>0.0</td>\n",
       "      <td>0.0</td>\n",
       "      <td>-0.829</td>\n",
       "      <td>0.0</td>\n",
       "      <td>...</td>\n",
       "      <td>0.0</td>\n",
       "      <td>0.0</td>\n",
       "      <td>0.0</td>\n",
       "      <td>0.0</td>\n",
       "      <td>-0.251</td>\n",
       "      <td>0.0</td>\n",
       "      <td>-0.644</td>\n",
       "      <td>0.0</td>\n",
       "      <td>0.0</td>\n",
       "      <td>0.0</td>\n",
       "    </tr>\n",
       "  </tbody>\n",
       "</table>\n",
       "<p>2 rows × 119 columns</p>\n",
       "</div>"
      ],
      "text/plain": [
       "  Gene Symbol  Locus ID Cytoband  HTMCP-03-06-02256  HTMCP-03-06-02332  \\\n",
       "0       ACAP3    116983  1p36.33                0.0             -0.121   \n",
       "1      ACTRT2    140625  1p36.32                0.0             -0.121   \n",
       "\n",
       "   HTMCP-03-06-02414  HTMCP-03-06-02435  HTMCP-03-06-02261  HTMCP-03-06-02175  \\\n",
       "0                0.0                0.0                0.0             -0.829   \n",
       "1                0.0                0.0                0.0             -0.829   \n",
       "\n",
       "   HTMCP-03-06-02098        ...          HTMCP-03-06-02148  HTMCP-03-06-02176  \\\n",
       "0                0.0        ...                        0.0                0.0   \n",
       "1                0.0        ...                        0.0                0.0   \n",
       "\n",
       "   HTMCP-03-06-02174  HTMCP-03-06-02239  HTMCP-03-06-02354  HTMCP-03-06-02259  \\\n",
       "0                0.0                0.0             -0.251                0.0   \n",
       "1                0.0                0.0             -0.251                0.0   \n",
       "\n",
       "   HTMCP-03-06-02180  HTMCP-03-06-02213  HTMCP-03-06-02179  HTMCP-03-06-02001  \n",
       "0             -0.644                0.0                0.0                0.0  \n",
       "1             -0.644                0.0                0.0                0.0  \n",
       "\n",
       "[2 rows x 119 columns]"
      ]
     },
     "execution_count": 194,
     "metadata": {},
     "output_type": "execute_result"
    },
    {
     "data": {
      "text/plain": [
       "(23109, 119)"
      ]
     },
     "execution_count": 194,
     "metadata": {},
     "output_type": "execute_result"
    }
   ],
   "source": [
    "f = '/home/szong/bin/GISTIC_2_0_22/gatk_118_patients/focal_data_by_genes.txt'\n",
    "df = pd.read_csv(f, sep='\\t', low_memory=False)\n",
    "df.head(2)\n",
    "df.shape\n",
    "#why two patients missing"
   ]
  },
  {
   "cell_type": "code",
   "execution_count": 186,
   "metadata": {},
   "outputs": [
    {
     "data": {
      "text/html": [
       "<div>\n",
       "<style scoped>\n",
       "    .dataframe tbody tr th:only-of-type {\n",
       "        vertical-align: middle;\n",
       "    }\n",
       "\n",
       "    .dataframe tbody tr th {\n",
       "        vertical-align: top;\n",
       "    }\n",
       "\n",
       "    .dataframe thead th {\n",
       "        text-align: right;\n",
       "    }\n",
       "</style>\n",
       "<table border=\"1\" class=\"dataframe\">\n",
       "  <thead>\n",
       "    <tr style=\"text-align: right;\">\n",
       "      <th></th>\n",
       "      <th>Gene Symbol</th>\n",
       "      <th>Locus ID</th>\n",
       "      <th>Cytoband</th>\n",
       "      <th>HTMCP-03-06-02256</th>\n",
       "      <th>HTMCP-03-06-02332</th>\n",
       "      <th>HTMCP-03-06-02414</th>\n",
       "      <th>HTMCP-03-06-02435</th>\n",
       "      <th>HTMCP-03-06-02261</th>\n",
       "      <th>HTMCP-03-06-02175</th>\n",
       "      <th>HTMCP-03-06-02098</th>\n",
       "      <th>...</th>\n",
       "      <th>HTMCP-03-06-02148</th>\n",
       "      <th>HTMCP-03-06-02176</th>\n",
       "      <th>HTMCP-03-06-02174</th>\n",
       "      <th>HTMCP-03-06-02239</th>\n",
       "      <th>HTMCP-03-06-02354</th>\n",
       "      <th>HTMCP-03-06-02259</th>\n",
       "      <th>HTMCP-03-06-02180</th>\n",
       "      <th>HTMCP-03-06-02213</th>\n",
       "      <th>HTMCP-03-06-02179</th>\n",
       "      <th>HTMCP-03-06-02001</th>\n",
       "    </tr>\n",
       "  </thead>\n",
       "  <tbody>\n",
       "    <tr>\n",
       "      <th>0</th>\n",
       "      <td>ACAP3</td>\n",
       "      <td>116983</td>\n",
       "      <td>1p36.33</td>\n",
       "      <td>0.0</td>\n",
       "      <td>-0.121</td>\n",
       "      <td>0.0</td>\n",
       "      <td>0.0</td>\n",
       "      <td>0.0</td>\n",
       "      <td>-0.829</td>\n",
       "      <td>0.0</td>\n",
       "      <td>...</td>\n",
       "      <td>0.0</td>\n",
       "      <td>0.0</td>\n",
       "      <td>0.0</td>\n",
       "      <td>0.0</td>\n",
       "      <td>-0.251</td>\n",
       "      <td>0.0</td>\n",
       "      <td>-0.644</td>\n",
       "      <td>0.0</td>\n",
       "      <td>0.0</td>\n",
       "      <td>0.0</td>\n",
       "    </tr>\n",
       "    <tr>\n",
       "      <th>1</th>\n",
       "      <td>ACTRT2</td>\n",
       "      <td>140625</td>\n",
       "      <td>1p36.32</td>\n",
       "      <td>0.0</td>\n",
       "      <td>-0.121</td>\n",
       "      <td>0.0</td>\n",
       "      <td>0.0</td>\n",
       "      <td>0.0</td>\n",
       "      <td>-0.829</td>\n",
       "      <td>0.0</td>\n",
       "      <td>...</td>\n",
       "      <td>0.0</td>\n",
       "      <td>0.0</td>\n",
       "      <td>0.0</td>\n",
       "      <td>0.0</td>\n",
       "      <td>-0.251</td>\n",
       "      <td>0.0</td>\n",
       "      <td>-0.644</td>\n",
       "      <td>0.0</td>\n",
       "      <td>0.0</td>\n",
       "      <td>0.0</td>\n",
       "    </tr>\n",
       "    <tr>\n",
       "      <th>2</th>\n",
       "      <td>AGRN</td>\n",
       "      <td>375790</td>\n",
       "      <td>1p36.33</td>\n",
       "      <td>0.0</td>\n",
       "      <td>-0.121</td>\n",
       "      <td>0.0</td>\n",
       "      <td>0.0</td>\n",
       "      <td>0.0</td>\n",
       "      <td>-0.829</td>\n",
       "      <td>0.0</td>\n",
       "      <td>...</td>\n",
       "      <td>0.0</td>\n",
       "      <td>0.0</td>\n",
       "      <td>0.0</td>\n",
       "      <td>0.0</td>\n",
       "      <td>-0.251</td>\n",
       "      <td>0.0</td>\n",
       "      <td>-0.644</td>\n",
       "      <td>0.0</td>\n",
       "      <td>0.0</td>\n",
       "      <td>0.0</td>\n",
       "    </tr>\n",
       "    <tr>\n",
       "      <th>3</th>\n",
       "      <td>ANKRD65</td>\n",
       "      <td>441869</td>\n",
       "      <td>1p36.33</td>\n",
       "      <td>0.0</td>\n",
       "      <td>-0.121</td>\n",
       "      <td>0.0</td>\n",
       "      <td>0.0</td>\n",
       "      <td>0.0</td>\n",
       "      <td>-0.829</td>\n",
       "      <td>0.0</td>\n",
       "      <td>...</td>\n",
       "      <td>0.0</td>\n",
       "      <td>0.0</td>\n",
       "      <td>0.0</td>\n",
       "      <td>0.0</td>\n",
       "      <td>-0.251</td>\n",
       "      <td>0.0</td>\n",
       "      <td>-0.644</td>\n",
       "      <td>0.0</td>\n",
       "      <td>0.0</td>\n",
       "      <td>0.0</td>\n",
       "    </tr>\n",
       "    <tr>\n",
       "      <th>4</th>\n",
       "      <td>ARHGEF16</td>\n",
       "      <td>27237</td>\n",
       "      <td>1p36.32</td>\n",
       "      <td>0.0</td>\n",
       "      <td>-0.121</td>\n",
       "      <td>0.0</td>\n",
       "      <td>0.0</td>\n",
       "      <td>0.0</td>\n",
       "      <td>-0.829</td>\n",
       "      <td>0.0</td>\n",
       "      <td>...</td>\n",
       "      <td>0.0</td>\n",
       "      <td>0.0</td>\n",
       "      <td>0.0</td>\n",
       "      <td>0.0</td>\n",
       "      <td>-0.251</td>\n",
       "      <td>0.0</td>\n",
       "      <td>-0.644</td>\n",
       "      <td>0.0</td>\n",
       "      <td>0.0</td>\n",
       "      <td>0.0</td>\n",
       "    </tr>\n",
       "  </tbody>\n",
       "</table>\n",
       "<p>5 rows × 119 columns</p>\n",
       "</div>"
      ],
      "text/plain": [
       "  Gene Symbol  Locus ID Cytoband  HTMCP-03-06-02256  HTMCP-03-06-02332  \\\n",
       "0       ACAP3    116983  1p36.33                0.0             -0.121   \n",
       "1      ACTRT2    140625  1p36.32                0.0             -0.121   \n",
       "2        AGRN    375790  1p36.33                0.0             -0.121   \n",
       "3     ANKRD65    441869  1p36.33                0.0             -0.121   \n",
       "4    ARHGEF16     27237  1p36.32                0.0             -0.121   \n",
       "\n",
       "   HTMCP-03-06-02414  HTMCP-03-06-02435  HTMCP-03-06-02261  HTMCP-03-06-02175  \\\n",
       "0                0.0                0.0                0.0             -0.829   \n",
       "1                0.0                0.0                0.0             -0.829   \n",
       "2                0.0                0.0                0.0             -0.829   \n",
       "3                0.0                0.0                0.0             -0.829   \n",
       "4                0.0                0.0                0.0             -0.829   \n",
       "\n",
       "   HTMCP-03-06-02098        ...          HTMCP-03-06-02148  HTMCP-03-06-02176  \\\n",
       "0                0.0        ...                        0.0                0.0   \n",
       "1                0.0        ...                        0.0                0.0   \n",
       "2                0.0        ...                        0.0                0.0   \n",
       "3                0.0        ...                        0.0                0.0   \n",
       "4                0.0        ...                        0.0                0.0   \n",
       "\n",
       "   HTMCP-03-06-02174  HTMCP-03-06-02239  HTMCP-03-06-02354  HTMCP-03-06-02259  \\\n",
       "0                0.0                0.0             -0.251                0.0   \n",
       "1                0.0                0.0             -0.251                0.0   \n",
       "2                0.0                0.0             -0.251                0.0   \n",
       "3                0.0                0.0             -0.251                0.0   \n",
       "4                0.0                0.0             -0.251                0.0   \n",
       "\n",
       "   HTMCP-03-06-02180  HTMCP-03-06-02213  HTMCP-03-06-02179  HTMCP-03-06-02001  \n",
       "0             -0.644                0.0                0.0                0.0  \n",
       "1             -0.644                0.0                0.0                0.0  \n",
       "2             -0.644                0.0                0.0                0.0  \n",
       "3             -0.644                0.0                0.0                0.0  \n",
       "4             -0.644                0.0                0.0                0.0  \n",
       "\n",
       "[5 rows x 119 columns]"
      ]
     },
     "execution_count": 186,
     "metadata": {},
     "output_type": "execute_result"
    }
   ],
   "source": [
    "df.head()"
   ]
  },
  {
   "cell_type": "code",
   "execution_count": 195,
   "metadata": {},
   "outputs": [
    {
     "data": {
      "text/plain": [
       "(13, 44)"
      ]
     },
     "execution_count": 195,
     "metadata": {},
     "output_type": "execute_result"
    }
   ],
   "source": [
    "\n",
    "df = df[df['Gene Symbol'].isin(smgs)].drop(['Locus ID', 'Cytoband'], axis=1).set_index('Gene Symbol').astype(float)\n",
    "smgdf = df[neg]\n",
    "smgdf.shape"
   ]
  },
  {
   "cell_type": "code",
   "execution_count": 196,
   "metadata": {},
   "outputs": [
    {
     "data": {
      "text/html": [
       "<div>\n",
       "<style scoped>\n",
       "    .dataframe tbody tr th:only-of-type {\n",
       "        vertical-align: middle;\n",
       "    }\n",
       "\n",
       "    .dataframe tbody tr th {\n",
       "        vertical-align: top;\n",
       "    }\n",
       "\n",
       "    .dataframe thead th {\n",
       "        text-align: right;\n",
       "    }\n",
       "</style>\n",
       "<table border=\"1\" class=\"dataframe\">\n",
       "  <thead>\n",
       "    <tr style=\"text-align: right;\">\n",
       "      <th></th>\n",
       "      <th>HTMCP-03-06-02002</th>\n",
       "      <th>HTMCP-03-06-02006</th>\n",
       "      <th>HTMCP-03-06-02008</th>\n",
       "      <th>HTMCP-03-06-02012</th>\n",
       "      <th>HTMCP-03-06-02013</th>\n",
       "      <th>HTMCP-03-06-02036</th>\n",
       "      <th>HTMCP-03-06-02037</th>\n",
       "      <th>HTMCP-03-06-02040</th>\n",
       "      <th>HTMCP-03-06-02042</th>\n",
       "      <th>HTMCP-03-06-02046</th>\n",
       "      <th>...</th>\n",
       "      <th>HTMCP-03-06-02215</th>\n",
       "      <th>HTMCP-03-06-02222</th>\n",
       "      <th>HTMCP-03-06-02256</th>\n",
       "      <th>HTMCP-03-06-02264</th>\n",
       "      <th>HTMCP-03-06-02266</th>\n",
       "      <th>HTMCP-03-06-02322</th>\n",
       "      <th>HTMCP-03-06-02326</th>\n",
       "      <th>HTMCP-03-06-02328</th>\n",
       "      <th>HTMCP-03-06-02332</th>\n",
       "      <th>HTMCP-03-06-02333</th>\n",
       "    </tr>\n",
       "    <tr>\n",
       "      <th>Gene Symbol</th>\n",
       "      <th></th>\n",
       "      <th></th>\n",
       "      <th></th>\n",
       "      <th></th>\n",
       "      <th></th>\n",
       "      <th></th>\n",
       "      <th></th>\n",
       "      <th></th>\n",
       "      <th></th>\n",
       "      <th></th>\n",
       "      <th></th>\n",
       "      <th></th>\n",
       "      <th></th>\n",
       "      <th></th>\n",
       "      <th></th>\n",
       "      <th></th>\n",
       "      <th></th>\n",
       "      <th></th>\n",
       "      <th></th>\n",
       "      <th></th>\n",
       "      <th></th>\n",
       "    </tr>\n",
       "  </thead>\n",
       "  <tbody>\n",
       "    <tr>\n",
       "      <th>ZC3H6</th>\n",
       "      <td>0.0</td>\n",
       "      <td>0.0</td>\n",
       "      <td>0.0</td>\n",
       "      <td>0.0</td>\n",
       "      <td>0.0</td>\n",
       "      <td>0.00</td>\n",
       "      <td>0.0</td>\n",
       "      <td>0.0</td>\n",
       "      <td>0.0</td>\n",
       "      <td>0.0</td>\n",
       "      <td>...</td>\n",
       "      <td>0.0</td>\n",
       "      <td>0.0</td>\n",
       "      <td>0.0</td>\n",
       "      <td>0.0</td>\n",
       "      <td>0.0</td>\n",
       "      <td>0.0</td>\n",
       "      <td>0.0</td>\n",
       "      <td>0.000</td>\n",
       "      <td>0.0</td>\n",
       "      <td>0.0</td>\n",
       "    </tr>\n",
       "    <tr>\n",
       "      <th>CASP8</th>\n",
       "      <td>0.0</td>\n",
       "      <td>0.0</td>\n",
       "      <td>0.0</td>\n",
       "      <td>0.0</td>\n",
       "      <td>0.0</td>\n",
       "      <td>-0.73</td>\n",
       "      <td>0.0</td>\n",
       "      <td>0.0</td>\n",
       "      <td>0.0</td>\n",
       "      <td>0.0</td>\n",
       "      <td>...</td>\n",
       "      <td>0.0</td>\n",
       "      <td>0.0</td>\n",
       "      <td>0.0</td>\n",
       "      <td>0.0</td>\n",
       "      <td>0.0</td>\n",
       "      <td>0.0</td>\n",
       "      <td>0.0</td>\n",
       "      <td>-0.756</td>\n",
       "      <td>0.0</td>\n",
       "      <td>0.0</td>\n",
       "    </tr>\n",
       "  </tbody>\n",
       "</table>\n",
       "<p>2 rows × 44 columns</p>\n",
       "</div>"
      ],
      "text/plain": [
       "             HTMCP-03-06-02002  HTMCP-03-06-02006  HTMCP-03-06-02008  \\\n",
       "Gene Symbol                                                            \n",
       "ZC3H6                      0.0                0.0                0.0   \n",
       "CASP8                      0.0                0.0                0.0   \n",
       "\n",
       "             HTMCP-03-06-02012  HTMCP-03-06-02013  HTMCP-03-06-02036  \\\n",
       "Gene Symbol                                                            \n",
       "ZC3H6                      0.0                0.0               0.00   \n",
       "CASP8                      0.0                0.0              -0.73   \n",
       "\n",
       "             HTMCP-03-06-02037  HTMCP-03-06-02040  HTMCP-03-06-02042  \\\n",
       "Gene Symbol                                                            \n",
       "ZC3H6                      0.0                0.0                0.0   \n",
       "CASP8                      0.0                0.0                0.0   \n",
       "\n",
       "             HTMCP-03-06-02046        ...          HTMCP-03-06-02215  \\\n",
       "Gene Symbol                           ...                              \n",
       "ZC3H6                      0.0        ...                        0.0   \n",
       "CASP8                      0.0        ...                        0.0   \n",
       "\n",
       "             HTMCP-03-06-02222  HTMCP-03-06-02256  HTMCP-03-06-02264  \\\n",
       "Gene Symbol                                                            \n",
       "ZC3H6                      0.0                0.0                0.0   \n",
       "CASP8                      0.0                0.0                0.0   \n",
       "\n",
       "             HTMCP-03-06-02266  HTMCP-03-06-02322  HTMCP-03-06-02326  \\\n",
       "Gene Symbol                                                            \n",
       "ZC3H6                      0.0                0.0                0.0   \n",
       "CASP8                      0.0                0.0                0.0   \n",
       "\n",
       "             HTMCP-03-06-02328  HTMCP-03-06-02332  HTMCP-03-06-02333  \n",
       "Gene Symbol                                                           \n",
       "ZC3H6                    0.000                0.0                0.0  \n",
       "CASP8                   -0.756                0.0                0.0  \n",
       "\n",
       "[2 rows x 44 columns]"
      ]
     },
     "execution_count": 196,
     "metadata": {},
     "output_type": "execute_result"
    }
   ],
   "source": [
    "smgdf[:2]"
   ]
  },
  {
   "cell_type": "code",
   "execution_count": 197,
   "metadata": {},
   "outputs": [],
   "source": [
    "s1 = (smgdf >0.1).sum(axis=1).to_frame()\n",
    "s1.columns = ['amp']\n",
    "s2 = (smgdf <-0.1).sum(axis=1).to_frame()\n",
    "s2.columns = ['del']\n",
    "smg_copies = pd.merge(s1, s2, left_index=True, right_index=True)\n",
    "smg_copies.to_csv(f'{root}cnvs_of_smgs.txt', sep='\\t')"
   ]
  },
  {
   "cell_type": "code",
   "execution_count": 198,
   "metadata": {},
   "outputs": [
    {
     "data": {
      "text/html": [
       "<div>\n",
       "<style scoped>\n",
       "    .dataframe tbody tr th:only-of-type {\n",
       "        vertical-align: middle;\n",
       "    }\n",
       "\n",
       "    .dataframe tbody tr th {\n",
       "        vertical-align: top;\n",
       "    }\n",
       "\n",
       "    .dataframe thead th {\n",
       "        text-align: right;\n",
       "    }\n",
       "</style>\n",
       "<table border=\"1\" class=\"dataframe\">\n",
       "  <thead>\n",
       "    <tr style=\"text-align: right;\">\n",
       "      <th></th>\n",
       "      <th>amp</th>\n",
       "      <th>del</th>\n",
       "    </tr>\n",
       "    <tr>\n",
       "      <th>Gene Symbol</th>\n",
       "      <th></th>\n",
       "      <th></th>\n",
       "    </tr>\n",
       "  </thead>\n",
       "  <tbody>\n",
       "    <tr>\n",
       "      <th>ZC3H6</th>\n",
       "      <td>0</td>\n",
       "      <td>1</td>\n",
       "    </tr>\n",
       "    <tr>\n",
       "      <th>CASP8</th>\n",
       "      <td>0</td>\n",
       "      <td>2</td>\n",
       "    </tr>\n",
       "    <tr>\n",
       "      <th>PIK3CA</th>\n",
       "      <td>9</td>\n",
       "      <td>0</td>\n",
       "    </tr>\n",
       "    <tr>\n",
       "      <th>FBXW7</th>\n",
       "      <td>1</td>\n",
       "      <td>1</td>\n",
       "    </tr>\n",
       "    <tr>\n",
       "      <th>FAT1</th>\n",
       "      <td>0</td>\n",
       "      <td>2</td>\n",
       "    </tr>\n",
       "    <tr>\n",
       "      <th>PCDHA9</th>\n",
       "      <td>1</td>\n",
       "      <td>0</td>\n",
       "    </tr>\n",
       "    <tr>\n",
       "      <th>PCDHGA12</th>\n",
       "      <td>1</td>\n",
       "      <td>0</td>\n",
       "    </tr>\n",
       "    <tr>\n",
       "      <th>SLC35G5</th>\n",
       "      <td>3</td>\n",
       "      <td>0</td>\n",
       "    </tr>\n",
       "    <tr>\n",
       "      <th>MLL2</th>\n",
       "      <td>5</td>\n",
       "      <td>2</td>\n",
       "    </tr>\n",
       "    <tr>\n",
       "      <th>PSPC1</th>\n",
       "      <td>4</td>\n",
       "      <td>7</td>\n",
       "    </tr>\n",
       "    <tr>\n",
       "      <th>ZNF750</th>\n",
       "      <td>2</td>\n",
       "      <td>4</td>\n",
       "    </tr>\n",
       "    <tr>\n",
       "      <th>BAGE</th>\n",
       "      <td>4</td>\n",
       "      <td>7</td>\n",
       "    </tr>\n",
       "    <tr>\n",
       "      <th>MAPK1</th>\n",
       "      <td>1</td>\n",
       "      <td>1</td>\n",
       "    </tr>\n",
       "  </tbody>\n",
       "</table>\n",
       "</div>"
      ],
      "text/plain": [
       "             amp  del\n",
       "Gene Symbol          \n",
       "ZC3H6          0    1\n",
       "CASP8          0    2\n",
       "PIK3CA         9    0\n",
       "FBXW7          1    1\n",
       "FAT1           0    2\n",
       "PCDHA9         1    0\n",
       "PCDHGA12       1    0\n",
       "SLC35G5        3    0\n",
       "MLL2           5    2\n",
       "PSPC1          4    7\n",
       "ZNF750         2    4\n",
       "BAGE           4    7\n",
       "MAPK1          1    1"
      ]
     },
     "execution_count": 198,
     "metadata": {},
     "output_type": "execute_result"
    }
   ],
   "source": [
    "smg_copies"
   ]
  },
  {
   "cell_type": "markdown",
   "metadata": {},
   "source": [
    "# detour to see if intergration sites clustered in the arms or cytobands with copy number significantly altered"
   ]
  },
  {
   "cell_type": "code",
   "execution_count": 75,
   "metadata": {},
   "outputs": [
    {
     "data": {
      "text/html": [
       "<div>\n",
       "<style scoped>\n",
       "    .dataframe tbody tr th:only-of-type {\n",
       "        vertical-align: middle;\n",
       "    }\n",
       "\n",
       "    .dataframe tbody tr th {\n",
       "        vertical-align: top;\n",
       "    }\n",
       "\n",
       "    .dataframe thead th {\n",
       "        text-align: right;\n",
       "    }\n",
       "</style>\n",
       "<table border=\"1\" class=\"dataframe\">\n",
       "  <thead>\n",
       "    <tr style=\"text-align: right;\">\n",
       "      <th></th>\n",
       "      <th>library</th>\n",
       "      <th>virus</th>\n",
       "      <th>Integration</th>\n",
       "      <th>human-breakpoint</th>\n",
       "      <th>human-gene(s)</th>\n",
       "    </tr>\n",
       "  </thead>\n",
       "  <tbody>\n",
       "    <tr>\n",
       "      <th>0</th>\n",
       "      <td>HTMCP_719</td>\n",
       "      <td>No-Hits</td>\n",
       "      <td>NO</td>\n",
       "      <td>-</td>\n",
       "      <td>-</td>\n",
       "    </tr>\n",
       "    <tr>\n",
       "      <th>1</th>\n",
       "      <td>HTMCP_716</td>\n",
       "      <td>Human papillomavirus type 18</td>\n",
       "      <td>YES</td>\n",
       "      <td>X_97127953</td>\n",
       "      <td>intergenic</td>\n",
       "    </tr>\n",
       "  </tbody>\n",
       "</table>\n",
       "</div>"
      ],
      "text/plain": [
       "     library                         virus Integration human-breakpoint  \\\n",
       "0  HTMCP_719                       No-Hits          NO                -   \n",
       "1  HTMCP_716  Human papillomavirus type 18         YES       X_97127953   \n",
       "\n",
       "  human-gene(s)  \n",
       "0             -  \n",
       "1    intergenic  "
      ]
     },
     "execution_count": 75,
     "metadata": {},
     "output_type": "execute_result"
    },
    {
     "data": {
      "text/plain": [
       "(424, 5)"
      ]
     },
     "execution_count": 75,
     "metadata": {},
     "output_type": "execute_result"
    }
   ],
   "source": [
    "f = '/projects/trans_scratch/validations/workspace/szong/Cervical/integration/124_patients/DNA_integration_results.txt'\n",
    "df = pd.read_csv(f, sep='\\t')\n",
    "df.head(2)\n",
    "df.shape"
   ]
  },
  {
   "cell_type": "code",
   "execution_count": 103,
   "metadata": {},
   "outputs": [
    {
     "data": {
      "text/plain": [
       "(332, 5)"
      ]
     },
     "execution_count": 103,
     "metadata": {},
     "output_type": "execute_result"
    }
   ],
   "source": [
    "dfintg = df[df.Integration==\"YES\"]\n",
    "dfintg.shape"
   ]
  },
  {
   "cell_type": "code",
   "execution_count": 104,
   "metadata": {},
   "outputs": [
    {
     "data": {
      "text/plain": [
       "['HTMCP_124', 'HTMCP_126']"
      ]
     },
     "execution_count": 104,
     "metadata": {},
     "output_type": "execute_result"
    }
   ],
   "source": [
    "# find hiv+ patients\n",
    "f1 = '/projects/trans_scratch/validations/workspace/szong/Cervical/variant_bwamem/118_patients/73_hiv_pos_pats.txt'\n",
    "pos_pats = pd.read_csv(f1, sep='\\t', header=None)[2].tolist()\n",
    "pos_pats[:2]"
   ]
  },
  {
   "cell_type": "code",
   "execution_count": 105,
   "metadata": {},
   "outputs": [
    {
     "data": {
      "text/html": [
       "<div>\n",
       "<style scoped>\n",
       "    .dataframe tbody tr th:only-of-type {\n",
       "        vertical-align: middle;\n",
       "    }\n",
       "\n",
       "    .dataframe tbody tr th {\n",
       "        vertical-align: top;\n",
       "    }\n",
       "\n",
       "    .dataframe thead th {\n",
       "        text-align: right;\n",
       "    }\n",
       "</style>\n",
       "<table border=\"1\" class=\"dataframe\">\n",
       "  <thead>\n",
       "    <tr style=\"text-align: right;\">\n",
       "      <th></th>\n",
       "      <th>library</th>\n",
       "      <th>virus</th>\n",
       "      <th>Integration</th>\n",
       "      <th>human-breakpoint</th>\n",
       "      <th>human-gene(s)</th>\n",
       "    </tr>\n",
       "  </thead>\n",
       "  <tbody>\n",
       "    <tr>\n",
       "      <th>1</th>\n",
       "      <td>HTMCP_716</td>\n",
       "      <td>Human papillomavirus type 18</td>\n",
       "      <td>YES</td>\n",
       "      <td>X_97127953</td>\n",
       "      <td>intergenic</td>\n",
       "    </tr>\n",
       "    <tr>\n",
       "      <th>2</th>\n",
       "      <td>HTMCP_716</td>\n",
       "      <td>Human papillomavirus type 18</td>\n",
       "      <td>YES</td>\n",
       "      <td>13_74004235</td>\n",
       "      <td>intergenic</td>\n",
       "    </tr>\n",
       "  </tbody>\n",
       "</table>\n",
       "</div>"
      ],
      "text/plain": [
       "     library                         virus Integration human-breakpoint  \\\n",
       "1  HTMCP_716  Human papillomavirus type 18         YES       X_97127953   \n",
       "2  HTMCP_716  Human papillomavirus type 18         YES      13_74004235   \n",
       "\n",
       "  human-gene(s)  \n",
       "1    intergenic  \n",
       "2    intergenic  "
      ]
     },
     "execution_count": 105,
     "metadata": {},
     "output_type": "execute_result"
    }
   ],
   "source": [
    "dfintg_pos = dfintg[dfintg.library.isin(pos_pats)]\n",
    "dfintg_pos[:2]"
   ]
  },
  {
   "cell_type": "code",
   "execution_count": 106,
   "metadata": {},
   "outputs": [
    {
     "data": {
      "text/html": [
       "<div>\n",
       "<style scoped>\n",
       "    .dataframe tbody tr th:only-of-type {\n",
       "        vertical-align: middle;\n",
       "    }\n",
       "\n",
       "    .dataframe tbody tr th {\n",
       "        vertical-align: top;\n",
       "    }\n",
       "\n",
       "    .dataframe thead th {\n",
       "        text-align: right;\n",
       "    }\n",
       "</style>\n",
       "<table border=\"1\" class=\"dataframe\">\n",
       "  <thead>\n",
       "    <tr style=\"text-align: right;\">\n",
       "      <th></th>\n",
       "      <th>chr</th>\n",
       "      <th>start</th>\n",
       "    </tr>\n",
       "  </thead>\n",
       "  <tbody>\n",
       "    <tr>\n",
       "      <th>0</th>\n",
       "      <td>X</td>\n",
       "      <td>97127953</td>\n",
       "    </tr>\n",
       "    <tr>\n",
       "      <th>1</th>\n",
       "      <td>13</td>\n",
       "      <td>74004235</td>\n",
       "    </tr>\n",
       "  </tbody>\n",
       "</table>\n",
       "</div>"
      ],
      "text/plain": [
       "  chr     start\n",
       "0   X  97127953\n",
       "1  13  74004235"
      ]
     },
     "execution_count": 106,
     "metadata": {},
     "output_type": "execute_result"
    }
   ],
   "source": [
    "dftmp = pd.DataFrame(dfintg_pos['human-breakpoint'].str.split('_', 1).tolist(), columns=['chr', 'start'])\n",
    "dftmp.head(2)"
   ]
  },
  {
   "cell_type": "code",
   "execution_count": 110,
   "metadata": {},
   "outputs": [],
   "source": [
    "dff = pd.merge(dfintg_pos.reset_index(), dftmp, left_index=True, right_index=True)[['chr', 'start', 'library']]"
   ]
  },
  {
   "cell_type": "code",
   "execution_count": 113,
   "metadata": {},
   "outputs": [],
   "source": [
    "dff['end'] = dff['start'].astype(int) +1"
   ]
  },
  {
   "cell_type": "code",
   "execution_count": 116,
   "metadata": {},
   "outputs": [],
   "source": [
    "dff = dff[['chr', 'start', 'end', 'library']]"
   ]
  },
  {
   "cell_type": "code",
   "execution_count": 117,
   "metadata": {},
   "outputs": [],
   "source": [
    "dff.to_csv('/projects/trans_scratch/validations/workspace/szong/Cervical/cnv/hiv_pos_integrations.txt', sep='\\t', index=False)"
   ]
  },
  {
   "cell_type": "code",
   "execution_count": null,
   "metadata": {},
   "outputs": [],
   "source": []
  },
  {
   "cell_type": "markdown",
   "metadata": {},
   "source": [
    "# below are for genes"
   ]
  },
  {
   "cell_type": "code",
   "execution_count": 44,
   "metadata": {},
   "outputs": [
    {
     "data": {
      "text/html": [
       "<div>\n",
       "<style scoped>\n",
       "    .dataframe tbody tr th:only-of-type {\n",
       "        vertical-align: middle;\n",
       "    }\n",
       "\n",
       "    .dataframe tbody tr th {\n",
       "        vertical-align: top;\n",
       "    }\n",
       "\n",
       "    .dataframe thead th {\n",
       "        text-align: right;\n",
       "    }\n",
       "</style>\n",
       "<table border=\"1\" class=\"dataframe\">\n",
       "  <thead>\n",
       "    <tr style=\"text-align: right;\">\n",
       "      <th></th>\n",
       "      <th>hiv+q</th>\n",
       "      <th>gene</th>\n",
       "      <th>hiv-q</th>\n",
       "      <th>cytoband</th>\n",
       "    </tr>\n",
       "  </thead>\n",
       "  <tbody>\n",
       "    <tr>\n",
       "      <th>0</th>\n",
       "      <td>0.008915</td>\n",
       "      <td>NOTCH2</td>\n",
       "      <td>NaN</td>\n",
       "      <td>1q21.3</td>\n",
       "    </tr>\n",
       "    <tr>\n",
       "      <th>1</th>\n",
       "      <td>0.008915</td>\n",
       "      <td>CLK2</td>\n",
       "      <td>NaN</td>\n",
       "      <td>1q21.3</td>\n",
       "    </tr>\n",
       "  </tbody>\n",
       "</table>\n",
       "</div>"
      ],
      "text/plain": [
       "      hiv+q    gene  hiv-q cytoband\n",
       "0  0.008915  NOTCH2    NaN   1q21.3\n",
       "1  0.008915    CLK2    NaN   1q21.3"
      ]
     },
     "execution_count": 44,
     "metadata": {},
     "output_type": "execute_result"
    }
   ],
   "source": [
    "ndf = pd.merge(pos_amps, neg_amps, left_on='gene', right_on='gene', how='outer')#.fillna(1)\n",
    "ndf.columns = ['hiv+q', 'cytoband_pos','gene', 'hiv-q', 'cytoband_neg']\n",
    "ndf['cytoband'] = ndf.astype(str).apply(lambda x: map_two_columns(x1=x['cytoband_pos'], x2=x['cytoband_neg']), axis=1)\n",
    "\n",
    "ndf = ndf.drop(['cytoband_pos', 'cytoband_neg'], axis=1)\n",
    "ndf.head(2)\n",
    "\n",
    "of = f'{root}amp_gene_qvalue_comparison_hiv_pos_vs_neg.txt'\n",
    "ndf.to_csv(of, sep='\\t', index=False)"
   ]
  },
  {
   "cell_type": "code",
   "execution_count": 314,
   "metadata": {},
   "outputs": [
    {
     "data": {
      "text/html": [
       "<div>\n",
       "<style scoped>\n",
       "    .dataframe tbody tr th:only-of-type {\n",
       "        vertical-align: middle;\n",
       "    }\n",
       "\n",
       "    .dataframe tbody tr th {\n",
       "        vertical-align: top;\n",
       "    }\n",
       "\n",
       "    .dataframe thead th {\n",
       "        text-align: right;\n",
       "    }\n",
       "</style>\n",
       "<table border=\"1\" class=\"dataframe\">\n",
       "  <thead>\n",
       "    <tr style=\"text-align: right;\">\n",
       "      <th></th>\n",
       "      <th>q value</th>\n",
       "      <th>cytoband</th>\n",
       "      <th>gene</th>\n",
       "    </tr>\n",
       "  </thead>\n",
       "  <tbody>\n",
       "    <tr>\n",
       "      <th>0</th>\n",
       "      <td>0.055942</td>\n",
       "      <td>1p36.21</td>\n",
       "      <td>MDS2</td>\n",
       "    </tr>\n",
       "    <tr>\n",
       "      <th>0</th>\n",
       "      <td>0.055942</td>\n",
       "      <td>1p36.21</td>\n",
       "      <td>PARK7</td>\n",
       "    </tr>\n",
       "  </tbody>\n",
       "</table>\n",
       "</div>"
      ],
      "text/plain": [
       "    q value cytoband   gene\n",
       "0  0.055942  1p36.21   MDS2\n",
       "0  0.055942  1p36.21  PARK7"
      ]
     },
     "execution_count": 314,
     "metadata": {},
     "output_type": "execute_result"
    },
    {
     "data": {
      "text/html": [
       "<div>\n",
       "<style scoped>\n",
       "    .dataframe tbody tr th:only-of-type {\n",
       "        vertical-align: middle;\n",
       "    }\n",
       "\n",
       "    .dataframe tbody tr th {\n",
       "        vertical-align: top;\n",
       "    }\n",
       "\n",
       "    .dataframe thead th {\n",
       "        text-align: right;\n",
       "    }\n",
       "</style>\n",
       "<table border=\"1\" class=\"dataframe\">\n",
       "  <thead>\n",
       "    <tr style=\"text-align: right;\">\n",
       "      <th></th>\n",
       "      <th>q value</th>\n",
       "      <th>cytoband</th>\n",
       "      <th>gene</th>\n",
       "    </tr>\n",
       "  </thead>\n",
       "  <tbody>\n",
       "    <tr>\n",
       "      <th>0</th>\n",
       "      <td>0.039246</td>\n",
       "      <td>1p13.2</td>\n",
       "      <td>GSTM1</td>\n",
       "    </tr>\n",
       "    <tr>\n",
       "      <th>0</th>\n",
       "      <td>0.039246</td>\n",
       "      <td>1p13.2</td>\n",
       "      <td>RAP1A</td>\n",
       "    </tr>\n",
       "  </tbody>\n",
       "</table>\n",
       "</div>"
      ],
      "text/plain": [
       "    q value cytoband   gene\n",
       "0  0.039246   1p13.2  GSTM1\n",
       "0  0.039246   1p13.2  RAP1A"
      ]
     },
     "execution_count": 314,
     "metadata": {},
     "output_type": "execute_result"
    },
    {
     "data": {
      "text/html": [
       "<div>\n",
       "<style scoped>\n",
       "    .dataframe tbody tr th:only-of-type {\n",
       "        vertical-align: middle;\n",
       "    }\n",
       "\n",
       "    .dataframe tbody tr th {\n",
       "        vertical-align: top;\n",
       "    }\n",
       "\n",
       "    .dataframe thead th {\n",
       "        text-align: right;\n",
       "    }\n",
       "</style>\n",
       "<table border=\"1\" class=\"dataframe\">\n",
       "  <thead>\n",
       "    <tr style=\"text-align: right;\">\n",
       "      <th></th>\n",
       "      <th>hiv+q</th>\n",
       "      <th>gene</th>\n",
       "      <th>hiv-q</th>\n",
       "      <th>cytoband</th>\n",
       "    </tr>\n",
       "  </thead>\n",
       "  <tbody>\n",
       "    <tr>\n",
       "      <th>0</th>\n",
       "      <td>0.055942</td>\n",
       "      <td>MDS2</td>\n",
       "      <td>NaN</td>\n",
       "      <td>1p36.21</td>\n",
       "    </tr>\n",
       "    <tr>\n",
       "      <th>1</th>\n",
       "      <td>0.055942</td>\n",
       "      <td>PARK7</td>\n",
       "      <td>NaN</td>\n",
       "      <td>1p36.21</td>\n",
       "    </tr>\n",
       "  </tbody>\n",
       "</table>\n",
       "</div>"
      ],
      "text/plain": [
       "      hiv+q   gene  hiv-q cytoband\n",
       "0  0.055942   MDS2    NaN  1p36.21\n",
       "1  0.055942  PARK7    NaN  1p36.21"
      ]
     },
     "execution_count": 314,
     "metadata": {},
     "output_type": "execute_result"
    }
   ],
   "source": [
    "# for dels\n",
    "pos_del_file = '/projects/trans_scratch/validations/workspace/szong/Cervical/cnv/124_patient_adj_hiv_pos/del_genes.conf_99.txt.summary.sorted'\n",
    "pos_dels = get_qvalue_cytoband(pos_del_file)\n",
    "pos_dels.head(2)\n",
    "\n",
    "neg_del_file = '//projects/trans_scratch/validations/workspace/szong/Cervical/cnv/124_patient_adj_hiv_neg/del_genes.conf_99.txt.summary.sorted'\n",
    "neg_dels = get_qvalue_cytoband(neg_del_file)\n",
    "neg_dels.head(2)\n",
    "\n",
    "ndf = pd.merge(pos_dels, neg_dels, left_on='gene', right_on='gene', how='outer')#.fillna(1)\n",
    "ndf.columns = ['hiv+q', 'cytoband_pos','gene', 'hiv-q', 'cytoband_neg']\n",
    "ndf['cytoband'] = ndf.astype(str).apply(lambda x: map_two_columns(x1=x['cytoband_pos'], x2=x['cytoband_neg']), axis=1)\n",
    "\n",
    "ndf = ndf.drop(['cytoband_pos', 'cytoband_neg'], axis=1)\n",
    "ndf.head(2)"
   ]
  },
  {
   "cell_type": "code",
   "execution_count": 92,
   "metadata": {},
   "outputs": [
    {
     "data": {
      "text/plain": [
       "(431, 3)"
      ]
     },
     "execution_count": 92,
     "metadata": {},
     "output_type": "execute_result"
    },
    {
     "data": {
      "text/plain": [
       "414"
      ]
     },
     "execution_count": 92,
     "metadata": {},
     "output_type": "execute_result"
    }
   ],
   "source": [
    "ndf.shape\n",
    "ndf['gene'].nunique()"
   ]
  },
  {
   "cell_type": "code",
   "execution_count": 93,
   "metadata": {},
   "outputs": [
    {
     "data": {
      "text/html": [
       "<div>\n",
       "<style scoped>\n",
       "    .dataframe tbody tr th:only-of-type {\n",
       "        vertical-align: middle;\n",
       "    }\n",
       "\n",
       "    .dataframe tbody tr th {\n",
       "        vertical-align: top;\n",
       "    }\n",
       "\n",
       "    .dataframe thead th {\n",
       "        text-align: right;\n",
       "    }\n",
       "</style>\n",
       "<table border=\"1\" class=\"dataframe\">\n",
       "  <thead>\n",
       "    <tr style=\"text-align: right;\">\n",
       "      <th></th>\n",
       "      <th>hiv+q</th>\n",
       "      <th>gene</th>\n",
       "      <th>hiv-q</th>\n",
       "    </tr>\n",
       "  </thead>\n",
       "  <tbody>\n",
       "    <tr>\n",
       "      <th>20</th>\n",
       "      <td>1.795800e-19</td>\n",
       "      <td>ACSL3</td>\n",
       "      <td>1.0</td>\n",
       "    </tr>\n",
       "    <tr>\n",
       "      <th>21</th>\n",
       "      <td>1.855100e-18</td>\n",
       "      <td>ACSL3</td>\n",
       "      <td>1.0</td>\n",
       "    </tr>\n",
       "  </tbody>\n",
       "</table>\n",
       "</div>"
      ],
      "text/plain": [
       "           hiv+q   gene  hiv-q\n",
       "20  1.795800e-19  ACSL3    1.0\n",
       "21  1.855100e-18  ACSL3    1.0"
      ]
     },
     "execution_count": 93,
     "metadata": {},
     "output_type": "execute_result"
    }
   ],
   "source": [
    "# look at duplicated on column gene\n",
    "pd.concat(g for _, g in ndf.groupby(\"gene\") if len(g) > 1).head(2)"
   ]
  },
  {
   "cell_type": "code",
   "execution_count": 315,
   "metadata": {},
   "outputs": [],
   "source": [
    "ndf = ndf.drop_duplicates(subset='gene', keep='last')"
   ]
  },
  {
   "cell_type": "code",
   "execution_count": 283,
   "metadata": {},
   "outputs": [],
   "source": [
    "def label_point(x, y, val, ax):\n",
    "    a = pd.concat({'x': x, 'y': y, 'val': val}, axis=1)\n",
    "    k = 0\n",
    "    j = 0 \n",
    "    for i, point in a.iterrows():\n",
    "        _ = ax.text(point['x']+j, point['y']+k, str(point['val']))\n",
    "        k+=1\n",
    "#         j+=.5\n",
    "    return a"
   ]
  },
  {
   "cell_type": "code",
   "execution_count": 36,
   "metadata": {},
   "outputs": [],
   "source": [
    "def plot_genes(ax, df):\n",
    "    df = df.sort_values(['y', 'x'], ascending=True)\n",
    "    for ix, row in df.iterrows():  \n",
    "        gene = row.gene\n",
    "        x = row['hiv+q']\n",
    "        y = row['hiv-q']\n",
    "        textx = row.x\n",
    "        texty = row.y\n",
    "#         anno_color = row.anno_color\n",
    "#         anno_ecolor = row.anno_ecolor\n",
    "#         arrow_color = row.arrow_color\n",
    "#         fill_color = row.fill_color\n",
    "        anno_color = 'blue'\n",
    "        arrow_color = 'blue'\n",
    "        ax.annotate('{}'.format(gene),\n",
    "                    xy=(x,y), \n",
    "                    xytext=(textx, texty), fontsize=10,\n",
    "                    ha='center', va='bottom', color=anno_color,\n",
    "                    textcoords='data', xycoords=\"data\", \n",
    "                    bbox=dict(boxstyle='round', \n",
    "#                               fc=fill_color, \n",
    "#                               edgecolor=anno_ecolor,\n",
    "                              alpha=1, pad=.4),\n",
    "                    arrowprops=dict(arrowstyle='-', \n",
    "                                    color=anno_color,\n",
    "                                    shrinkB=0, \n",
    "                                    connectionstyle='arc3,rad=0.0' \n",
    "                                  ))"
   ]
  },
  {
   "cell_type": "code",
   "execution_count": 10,
   "metadata": {},
   "outputs": [],
   "source": [
    "ndf = ndf.sort_values('hiv-q')"
   ]
  },
  {
   "cell_type": "code",
   "execution_count": 318,
   "metadata": {},
   "outputs": [
    {
     "data": {
      "text/html": [
       "<div>\n",
       "<style scoped>\n",
       "    .dataframe tbody tr th:only-of-type {\n",
       "        vertical-align: middle;\n",
       "    }\n",
       "\n",
       "    .dataframe tbody tr th {\n",
       "        vertical-align: top;\n",
       "    }\n",
       "\n",
       "    .dataframe thead th {\n",
       "        text-align: right;\n",
       "    }\n",
       "</style>\n",
       "<table border=\"1\" class=\"dataframe\">\n",
       "  <thead>\n",
       "    <tr style=\"text-align: right;\">\n",
       "      <th></th>\n",
       "      <th>hiv+q</th>\n",
       "      <th>gene</th>\n",
       "      <th>hiv-q</th>\n",
       "      <th>cytoband</th>\n",
       "    </tr>\n",
       "  </thead>\n",
       "  <tbody>\n",
       "    <tr>\n",
       "      <th>0</th>\n",
       "      <td>0.055942</td>\n",
       "      <td>MDS2</td>\n",
       "      <td>1.0</td>\n",
       "      <td>1p36.21</td>\n",
       "    </tr>\n",
       "    <tr>\n",
       "      <th>1</th>\n",
       "      <td>0.055942</td>\n",
       "      <td>PARK7</td>\n",
       "      <td>1.0</td>\n",
       "      <td>1p36.21</td>\n",
       "    </tr>\n",
       "  </tbody>\n",
       "</table>\n",
       "</div>"
      ],
      "text/plain": [
       "      hiv+q   gene  hiv-q cytoband\n",
       "0  0.055942   MDS2    1.0  1p36.21\n",
       "1  0.055942  PARK7    1.0  1p36.21"
      ]
     },
     "execution_count": 318,
     "metadata": {},
     "output_type": "execute_result"
    }
   ],
   "source": [
    "of = '/projects/trans_scratch/validations/workspace/szong/Cervical/cnv/del_gene_qvalue_comparison_hiv_pos_vs_neg.txt'\n",
    "ndf = pd.read_csv(of, sep='\\t').fillna(1)\n",
    "ndf.head(2)"
   ]
  },
  {
   "cell_type": "code",
   "execution_count": 319,
   "metadata": {},
   "outputs": [],
   "source": [
    "ndf['hiv+q(-log10)'] = -np.log10(ndf['hiv+q'])\n",
    "ndf['hiv-q(-log10)'] = -np.log10(ndf['hiv-q'])"
   ]
  },
  {
   "cell_type": "code",
   "execution_count": 320,
   "metadata": {},
   "outputs": [
    {
     "data": {
      "text/html": [
       "<div>\n",
       "<style scoped>\n",
       "    .dataframe tbody tr th:only-of-type {\n",
       "        vertical-align: middle;\n",
       "    }\n",
       "\n",
       "    .dataframe tbody tr th {\n",
       "        vertical-align: top;\n",
       "    }\n",
       "\n",
       "    .dataframe thead th {\n",
       "        text-align: right;\n",
       "    }\n",
       "</style>\n",
       "<table border=\"1\" class=\"dataframe\">\n",
       "  <thead>\n",
       "    <tr style=\"text-align: right;\">\n",
       "      <th></th>\n",
       "      <th>hiv+q</th>\n",
       "      <th>gene</th>\n",
       "      <th>hiv-q</th>\n",
       "      <th>cytoband</th>\n",
       "      <th>hiv+q(-log10)</th>\n",
       "      <th>hiv-q(-log10)</th>\n",
       "    </tr>\n",
       "  </thead>\n",
       "  <tbody>\n",
       "    <tr>\n",
       "      <th>0</th>\n",
       "      <td>0.055942</td>\n",
       "      <td>MDS2</td>\n",
       "      <td>1.0</td>\n",
       "      <td>1p36.21</td>\n",
       "      <td>1.252262</td>\n",
       "      <td>-0.0</td>\n",
       "    </tr>\n",
       "    <tr>\n",
       "      <th>1</th>\n",
       "      <td>0.055942</td>\n",
       "      <td>PARK7</td>\n",
       "      <td>1.0</td>\n",
       "      <td>1p36.21</td>\n",
       "      <td>1.252262</td>\n",
       "      <td>-0.0</td>\n",
       "    </tr>\n",
       "    <tr>\n",
       "      <th>2</th>\n",
       "      <td>0.055942</td>\n",
       "      <td>RAP1GAP</td>\n",
       "      <td>1.0</td>\n",
       "      <td>1p36.21</td>\n",
       "      <td>1.252262</td>\n",
       "      <td>-0.0</td>\n",
       "    </tr>\n",
       "    <tr>\n",
       "      <th>3</th>\n",
       "      <td>0.055942</td>\n",
       "      <td>KIF1B</td>\n",
       "      <td>1.0</td>\n",
       "      <td>1p36.21</td>\n",
       "      <td>1.252262</td>\n",
       "      <td>-0.0</td>\n",
       "    </tr>\n",
       "    <tr>\n",
       "      <th>4</th>\n",
       "      <td>0.055942</td>\n",
       "      <td>SDHB</td>\n",
       "      <td>1.0</td>\n",
       "      <td>1p36.21</td>\n",
       "      <td>1.252262</td>\n",
       "      <td>-0.0</td>\n",
       "    </tr>\n",
       "  </tbody>\n",
       "</table>\n",
       "</div>"
      ],
      "text/plain": [
       "      hiv+q     gene  hiv-q cytoband  hiv+q(-log10)  hiv-q(-log10)\n",
       "0  0.055942     MDS2    1.0  1p36.21       1.252262           -0.0\n",
       "1  0.055942    PARK7    1.0  1p36.21       1.252262           -0.0\n",
       "2  0.055942  RAP1GAP    1.0  1p36.21       1.252262           -0.0\n",
       "3  0.055942    KIF1B    1.0  1p36.21       1.252262           -0.0\n",
       "4  0.055942     SDHB    1.0  1p36.21       1.252262           -0.0"
      ]
     },
     "execution_count": 320,
     "metadata": {},
     "output_type": "execute_result"
    },
    {
     "data": {
      "text/plain": [
       "(414, 6)"
      ]
     },
     "execution_count": 320,
     "metadata": {},
     "output_type": "execute_result"
    }
   ],
   "source": [
    "ndf.head()\n",
    "ndf.shape"
   ]
  },
  {
   "cell_type": "code",
   "execution_count": 321,
   "metadata": {},
   "outputs": [
    {
     "data": {
      "text/plain": [
       "<matplotlib.axes._subplots.AxesSubplot at 0x7fac07598630>"
      ]
     },
     "execution_count": 321,
     "metadata": {},
     "output_type": "execute_result"
    },
    {
     "data": {
      "text/plain": [
       "Text(0.5,1,'GISTIC dels oncogenes')"
      ]
     },
     "execution_count": 321,
     "metadata": {},
     "output_type": "execute_result"
    },
    {
     "data": {
      "text/plain": [
       "(-1, 23)"
      ]
     },
     "execution_count": 321,
     "metadata": {},
     "output_type": "execute_result"
    },
    {
     "data": {
      "text/plain": [
       "(-1, 23)"
      ]
     },
     "execution_count": 321,
     "metadata": {},
     "output_type": "execute_result"
    },
    {
     "data": {
      "image/png": "[encoded data removed]",
      "text/plain": [
       "<Figure size 504x504 with 1 Axes>"
      ]
     },
     "metadata": {},
     "output_type": "display_data"
    }
   ],
   "source": [
    "# Set theme\n",
    "sns.set_style('whitegrid')\n",
    "\n",
    "\n",
    "# Scatterplot arguments\n",
    "# grid = sns.lmplot(x='hiv+q', y='hiv-q', data=ndf.fillna(.1),\n",
    "#            fit_reg=False) # No regression line\n",
    "#            #hue='Stage')   # Color by evolution stage\n",
    "# # Tweak using Matplotlib\n",
    "# # plt.ylim(0, .2)\n",
    "# # plt.xlim(0, .2)\n",
    "# grid.set(xscale=\"log\", yscale=\"log\")\n",
    "\n",
    "f, ax = plt.subplots(figsize=(7, 7))\n",
    "\n",
    "\n",
    "# ax.set(xscale=\"log\", yscale=\"log\")\n",
    "sns.regplot(x='hiv+q(-log10)', y='hiv-q(-log10)', data=ndf, ax=ax, fit_reg=False, x_jitter=1e-12, y_jitter=1e-10, scatter_kws={\"s\": 10})\n",
    "\n",
    "\n",
    "\n",
    "\n",
    "ax.set_title('GISTIC dels oncogenes')\n",
    "ax.set_xlim(-1, 23)\n",
    "ax.set_ylim(-1, 23)\n",
    "\n",
    "\n",
    "\n",
    "    \n",
    "ndf = ndf[(ndf['hiv+q(-log10)']>15)]#|(ndf['hiv-q(-log10)']>5)]\n",
    "_ = label_point(ndf['hiv+q(-log10)'], ndf['hiv-q(-log10)'], ndf['gene']+'_'+ndf['cytoband'], plt.gca())  \n",
    "of = '/projects/trans_scratch/validations/workspace/szong/Cervical/cnv/del_gene_qvalue_comparison_hiv_pos_vs_neg.png'\n",
    "plt.savefig(of, bbox_inches='tight', dpi=200)"
   ]
  },
  {
   "cell_type": "code",
   "execution_count": 126,
   "metadata": {},
   "outputs": [],
   "source": [
    "plt.close()"
   ]
  },
  {
   "cell_type": "code",
   "execution_count": 18,
   "metadata": {},
   "outputs": [
    {
     "data": {
      "text/html": [
       "<div>\n",
       "<style scoped>\n",
       "    .dataframe tbody tr th:only-of-type {\n",
       "        vertical-align: middle;\n",
       "    }\n",
       "\n",
       "    .dataframe tbody tr th {\n",
       "        vertical-align: top;\n",
       "    }\n",
       "\n",
       "    .dataframe thead th {\n",
       "        text-align: right;\n",
       "    }\n",
       "</style>\n",
       "<table border=\"1\" class=\"dataframe\">\n",
       "  <thead>\n",
       "    <tr style=\"text-align: right;\">\n",
       "      <th></th>\n",
       "      <th>hiv+q</th>\n",
       "      <th>gene</th>\n",
       "      <th>hiv-q</th>\n",
       "    </tr>\n",
       "  </thead>\n",
       "  <tbody>\n",
       "    <tr>\n",
       "      <th>23</th>\n",
       "      <td>1.0</td>\n",
       "      <td>TP63</td>\n",
       "      <td>1.264200e-10</td>\n",
       "    </tr>\n",
       "    <tr>\n",
       "      <th>25</th>\n",
       "      <td>1.0</td>\n",
       "      <td>MYC</td>\n",
       "      <td>5.258800e-03</td>\n",
       "    </tr>\n",
       "  </tbody>\n",
       "</table>\n",
       "</div>"
      ],
      "text/plain": [
       "    hiv+q  gene         hiv-q\n",
       "23    1.0  TP63  1.264200e-10\n",
       "25    1.0   MYC  5.258800e-03"
      ]
     },
     "execution_count": 18,
     "metadata": {},
     "output_type": "execute_result"
    }
   ],
   "source": [
    "ndf.head(2)"
   ]
  },
  {
   "cell_type": "code",
   "execution_count": 316,
   "metadata": {},
   "outputs": [],
   "source": [
    "of = '/projects/trans_scratch/validations/workspace/szong/Cervical/cnv/del_gene_qvalue_comparison_hiv_pos_vs_neg.txt'\n",
    "ndf.to_csv(of, sep='\\t', index=False)"
   ]
  },
  {
   "cell_type": "code",
   "execution_count": 9,
   "metadata": {},
   "outputs": [],
   "source": [
    "%%bash\n",
    "cd /home/szong/bin/GISTIC_2_0_22/124_patient_adj_hiv_neg\n",
    "cat del_genes.conf_99.txt.summary |awk -F \":\" '{print $1\"\\t\"$2}'|sed 's/chr//g'|sort -k4n> del_genes.conf_99.txt.summary.sorted\n",
    "cat amp_genes.conf_99.txt.summary |awk -F \":\" '{print $1\"\\t\"$2}'|sed 's/chr//g'|sort -k4n> amp_genes.conf_99.txt.summary.sorted"
   ]
  },
  {
   "cell_type": "markdown",
   "metadata": {},
   "source": [
    "# look at correlation between copy number and expression"
   ]
  },
  {
   "cell_type": "code",
   "execution_count": 49,
   "metadata": {
    "scrolled": true
   },
   "outputs": [
    {
     "data": {
      "text/html": [
       "<div>\n",
       "<style scoped>\n",
       "    .dataframe tbody tr th:only-of-type {\n",
       "        vertical-align: middle;\n",
       "    }\n",
       "\n",
       "    .dataframe tbody tr th {\n",
       "        vertical-align: top;\n",
       "    }\n",
       "\n",
       "    .dataframe thead th {\n",
       "        text-align: right;\n",
       "    }\n",
       "</style>\n",
       "<table border=\"1\" class=\"dataframe\">\n",
       "  <thead>\n",
       "    <tr style=\"text-align: right;\">\n",
       "      <th></th>\n",
       "      <th>q value</th>\n",
       "      <th>gene</th>\n",
       "      <th>new_gene</th>\n",
       "    </tr>\n",
       "  </thead>\n",
       "  <tbody>\n",
       "    <tr>\n",
       "      <th>7</th>\n",
       "      <td>3.377000e-03</td>\n",
       "      <td>NFE2L2,HOXD11,HOXD13</td>\n",
       "      <td>NFE2L2</td>\n",
       "    </tr>\n",
       "    <tr>\n",
       "      <th>7</th>\n",
       "      <td>3.377000e-03</td>\n",
       "      <td>NFE2L2,HOXD11,HOXD13</td>\n",
       "      <td>HOXD11</td>\n",
       "    </tr>\n",
       "    <tr>\n",
       "      <th>7</th>\n",
       "      <td>3.377000e-03</td>\n",
       "      <td>NFE2L2,HOXD11,HOXD13</td>\n",
       "      <td>HOXD13</td>\n",
       "    </tr>\n",
       "    <tr>\n",
       "      <th>9</th>\n",
       "      <td>8.332900e-13</td>\n",
       "      <td>DLG1</td>\n",
       "      <td>DLG1</td>\n",
       "    </tr>\n",
       "    <tr>\n",
       "      <th>16</th>\n",
       "      <td>5.524600e-02</td>\n",
       "      <td>RAC1</td>\n",
       "      <td>RAC1</td>\n",
       "    </tr>\n",
       "    <tr>\n",
       "      <th>20</th>\n",
       "      <td>6.399600e-05</td>\n",
       "      <td>ESRP1</td>\n",
       "      <td>ESRP1</td>\n",
       "    </tr>\n",
       "    <tr>\n",
       "      <th>22</th>\n",
       "      <td>8.899700e-02</td>\n",
       "      <td>UHRF2</td>\n",
       "      <td>UHRF2</td>\n",
       "    </tr>\n",
       "    <tr>\n",
       "      <th>26</th>\n",
       "      <td>1.518200e-01</td>\n",
       "      <td>LMO2,EHF</td>\n",
       "      <td>LMO2</td>\n",
       "    </tr>\n",
       "    <tr>\n",
       "      <th>26</th>\n",
       "      <td>1.518200e-01</td>\n",
       "      <td>LMO2,EHF</td>\n",
       "      <td>EHF</td>\n",
       "    </tr>\n",
       "    <tr>\n",
       "      <th>28</th>\n",
       "      <td>5.902500e-07</td>\n",
       "      <td>YAP1,BIRC3</td>\n",
       "      <td>YAP1</td>\n",
       "    </tr>\n",
       "    <tr>\n",
       "      <th>28</th>\n",
       "      <td>5.902500e-07</td>\n",
       "      <td>YAP1,BIRC3</td>\n",
       "      <td>BIRC3</td>\n",
       "    </tr>\n",
       "    <tr>\n",
       "      <th>30</th>\n",
       "      <td>1.518200e-01</td>\n",
       "      <td>GPRC5A</td>\n",
       "      <td>GPRC5A</td>\n",
       "    </tr>\n",
       "    <tr>\n",
       "      <th>41</th>\n",
       "      <td>8.899700e-02</td>\n",
       "      <td>CDH1</td>\n",
       "      <td>CDH1</td>\n",
       "    </tr>\n",
       "    <tr>\n",
       "      <th>42</th>\n",
       "      <td>5.013900e-02</td>\n",
       "      <td>RAD51C</td>\n",
       "      <td>RAD51C</td>\n",
       "    </tr>\n",
       "    <tr>\n",
       "      <th>48</th>\n",
       "      <td>1.634100e-03</td>\n",
       "      <td>BCL3,CBLC</td>\n",
       "      <td>BCL3</td>\n",
       "    </tr>\n",
       "    <tr>\n",
       "      <th>48</th>\n",
       "      <td>1.634100e-03</td>\n",
       "      <td>BCL3,CBLC</td>\n",
       "      <td>CBLC</td>\n",
       "    </tr>\n",
       "  </tbody>\n",
       "</table>\n",
       "</div>"
      ],
      "text/plain": [
       "         q value                  gene new_gene\n",
       "7   3.377000e-03  NFE2L2,HOXD11,HOXD13   NFE2L2\n",
       "7   3.377000e-03  NFE2L2,HOXD11,HOXD13   HOXD11\n",
       "7   3.377000e-03  NFE2L2,HOXD11,HOXD13   HOXD13\n",
       "9   8.332900e-13                  DLG1     DLG1\n",
       "16  5.524600e-02                  RAC1     RAC1\n",
       "20  6.399600e-05                 ESRP1    ESRP1\n",
       "22  8.899700e-02                 UHRF2    UHRF2\n",
       "26  1.518200e-01              LMO2,EHF     LMO2\n",
       "26  1.518200e-01              LMO2,EHF      EHF\n",
       "28  5.902500e-07            YAP1,BIRC3     YAP1\n",
       "28  5.902500e-07            YAP1,BIRC3    BIRC3\n",
       "30  1.518200e-01                GPRC5A   GPRC5A\n",
       "41  8.899700e-02                  CDH1     CDH1\n",
       "42  5.013900e-02                RAD51C   RAD51C\n",
       "48  1.634100e-03             BCL3,CBLC     BCL3\n",
       "48  1.634100e-03             BCL3,CBLC     CBLC"
      ]
     },
     "execution_count": 49,
     "metadata": {},
     "output_type": "execute_result"
    }
   ],
   "source": [
    "df2"
   ]
  },
  {
   "cell_type": "code",
   "execution_count": null,
   "metadata": {},
   "outputs": [],
   "source": [
    "f = '/home/szong/bin/GISTIC_2_0_22/124_patient_adj_3k_0.1_1Mb/all_thresholded.by_genes.txt'\n",
    "df = pd.read_csv(f, sep='\\t')\n",
    "df.head(2)"
   ]
  },
  {
   "cell_type": "code",
   "execution_count": null,
   "metadata": {},
   "outputs": [],
   "source": [
    "f1 = '/projects/trans_scratch/validations/workspace/szong/Cervical/expression/NCI_ensembl69_stranded_RPKM_matrix.txt'\n",
    "df1 = pd.read_csv(f1, sep='\\t')\n",
    "df1.head(2)"
   ]
  },
  {
   "cell_type": "code",
   "execution_count": null,
   "metadata": {},
   "outputs": [],
   "source": [
    "genes = ['ECT2', 'YAP1', 'DLG1',  'DNAH5',  'SP100', 'STK11']"
   ]
  },
  {
   "cell_type": "code",
   "execution_count": null,
   "metadata": {},
   "outputs": [],
   "source": [
    "def categorize_cnv(i):\n",
    "#     for i in s:\n",
    "    if i < 0:\n",
    "        cat = 'cnv_loss'\n",
    "    elif i > 0:\n",
    "        cat = 'cnv_gain'\n",
    "    else: cat = 'cnv_neutral'\n",
    "#         ns.append(cat)\n",
    "    return cat"
   ]
  },
  {
   "cell_type": "code",
   "execution_count": null,
   "metadata": {},
   "outputs": [],
   "source": [
    "with plt.style.context(\"seaborn-whitegrid\"):\n",
    "    plt.rcParams[\"axes.edgecolor\"] = \"0.15\"\n",
    "    plt.rcParams[\"axes.linewidth\"]  = 1.25\n",
    "    fig = plt.figure(facecolor='w', figsize=(12,12))\n",
    "    axes = (fig.subplots(int(len(genes)/3), 3)).ravel()\n",
    "#     print(axes[1])\n",
    "    for i, gene in enumerate(genes):\n",
    "        dfgene = df[df['Gene Symbol'] == gene]\n",
    "        df1gene = df1[df1.genes.str.contains('_{}$'.format(gene))]\n",
    "        dff = pd.concat([dfgene, df1gene]).drop(['Cytoband', 'Gene Symbol', 'Locus ID', 'genes'], axis=1).T\n",
    "        dff.columns = ['cnv', 'rpkm']\n",
    "#         dff['groups'] = ['cnv_loss' if i< 0 'cnv_gain' elif i>0 else 'cnv_neutral' for i in dff.cnv ]\n",
    "        dff['groups'] = dff.cnv.apply(categorize_cnv)\n",
    "#         print(dff['groups'].unique())\n",
    "        # boxplot overlaps individual data point\n",
    "\n",
    "        ax = axes[i]\n",
    "        _ = sns.boxplot('groups', 'rpkm', data=dff, ax=ax, order=['cnv_loss', 'cnv_neutral', 'cnv_gain'])\n",
    "        _ = sns.swarmplot('groups', 'rpkm', data=dff, ax=ax, order=['cnv_loss', 'cnv_neutral', 'cnv_gain'])\n",
    "        _ = ax.set_title(gene)\n",
    "        _ = ax.set_xlabel('')\n",
    "        grps = {}\n",
    "        # overlay actuall data point\n",
    "        categories = ['cnv_loss','cnv_neutral', 'cnv_gain']\n",
    "        group_col = 'groups'\n",
    "        value_col = 'rpkm'\n",
    "        for i, cat in enumerate(categories):\n",
    "#             print(i, cat)\n",
    "            grps[i] = dff.query('{0} == \"{1}\"'.format(group_col, cat))[value_col]\n",
    "\n",
    "        if len(categories) == 2:\n",
    "            # statistical test for 1st grp\n",
    "#             sts, p = ss.mannwhitneyu(grps[0], grps[1], use_continuity=True, alternative=None)\n",
    "            sts, p1 = ttest_ind(grps[0], grps[1])\n",
    "#             print(p)\n",
    "            p = round(p, 8)\n",
    "            _ = ax.text(0.4 , 0.90,'p={}'.format(p), ha='center', va='center', transform=ax.transAxes, size=14)\n",
    "        elif len(categories) == 3:\n",
    "            # statistical test for 1st grp\n",
    "#             sts, p1 = ss.mannwhitneyu(grps[0], grps[1], use_continuity=True, alternative=None)\n",
    "            sts, p1 = ttest_ind(grps[0], grps[1])\n",
    "#             print(p1)\n",
    "            p1 = round(p1, 5)\n",
    "            _ = ax.text(0.2 , 0.90,'p={}'.format(p1), ha='center', va='center', transform=ax.transAxes, size=14)\n",
    "#             sts, p2 = ss.mannwhitneyu(grps[2], grps[1], use_continuity=True, alternative=None)\n",
    "            sts, p2 = ttest_ind(grps[2], grps[1])\n",
    "#             print(p2)\n",
    "            p2 = round(p2, 5)\n",
    "            _ = ax.text(0.7 , 0.90,'p={}'.format(p2), ha='center', va='center', transform=ax.transAxes, size=14)\n",
    "    of = '/projects/trans_scratch/validations/workspace/szong/Cervical/cnv/cnv_expression.png'\n",
    "    plt.savefig(of, dpi=200)"
   ]
  }
 ],
 "metadata": {
  "kernelspec": {
   "display_name": "Python 3",
   "language": "python",
   "name": "python3"
  },
  "language_info": {
   "codemirror_mode": {
    "name": "ipython",
    "version": 3
   },
   "file_extension": ".py",
   "mimetype": "text/x-python",
   "name": "python",
   "nbconvert_exporter": "python",
   "pygments_lexer": "ipython3",
   "version": "3.6.7"
  }
 },
 "nbformat": 4,
 "nbformat_minor": 2
}
