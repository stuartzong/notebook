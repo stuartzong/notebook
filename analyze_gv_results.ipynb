{
 "cells": [
  {
   "cell_type": "code",
   "execution_count": 2,
   "metadata": {},
   "outputs": [],
   "source": [
    "import csv\n",
    "import matplotlib\n",
    "# import seaborn\n",
    "import seaborn as sns\n",
    "import numpy as np\n",
    "import matplotlib.pyplot as plt\n",
    "from scipy.stats import ttest_ind\n",
    "import scipy.stats as stats\n",
    "import scipy.stats as ss\n",
    "from matplotlib import style\n",
    "import matplotlib.gridspec as gridspec\n",
    "import matplotlib.patches as patches\n",
    "matplotlib.style.use('ggplot')\n",
    "%matplotlib inline\n",
    "matplotlib.rcParams['figure.figsize'] = (6, 4)\n",
    "import pandas as pd\n",
    "\n",
    "from sklearn.decomposition import RandomizedPCA, PCA, TruncatedSVD\n",
    "from sklearn.linear_model import LogisticRegression\n",
    "from sklearn.manifold import TSNE\n",
    "from sklearn.preprocessing import StandardScaler\n",
    "import seaborn\n",
    "\n",
    "with plt.style.context(\"seaborn-whitegrid\"):\n",
    "    plt.rcParams[\"axes.edgecolor\"] = \"0.15\"\n",
    "    plt.rcParams[\"axes.linewidth\"]  = 1.25\n"
   ]
  },
  {
   "cell_type": "markdown",
   "metadata": {
    "collapsed": true
   },
   "source": [
    "# look at gv reults"
   ]
  },
  {
   "cell_type": "code",
   "execution_count": 60,
   "metadata": {},
   "outputs": [
    {
     "data": {
      "text/html": [
       "<div>\n",
       "<style>\n",
       "    .dataframe thead tr:only-child th {\n",
       "        text-align: right;\n",
       "    }\n",
       "\n",
       "    .dataframe thead th {\n",
       "        text-align: left;\n",
       "    }\n",
       "\n",
       "    .dataframe tbody tr th {\n",
       "        vertical-align: top;\n",
       "    }\n",
       "</style>\n",
       "<table border=\"1\" class=\"dataframe\">\n",
       "  <thead>\n",
       "    <tr style=\"text-align: right;\">\n",
       "      <th></th>\n",
       "      <th>fusion_file</th>\n",
       "      <th>pat</th>\n",
       "    </tr>\n",
       "  </thead>\n",
       "  <tbody>\n",
       "    <tr>\n",
       "      <th>0</th>\n",
       "      <td>/projects/NCI_validation2_assembly/NCI_SAIC_HI...</td>\n",
       "      <td>HTMCP-03-06-02001</td>\n",
       "    </tr>\n",
       "    <tr>\n",
       "      <th>1</th>\n",
       "      <td>/projects/NCI_validation2_assembly/NCI_SAIC_HI...</td>\n",
       "      <td>HTMCP-03-06-02216</td>\n",
       "    </tr>\n",
       "  </tbody>\n",
       "</table>\n",
       "</div>"
      ],
      "text/plain": [
       "                                         fusion_file                pat\n",
       "0  /projects/NCI_validation2_assembly/NCI_SAIC_HI...  HTMCP-03-06-02001\n",
       "1  /projects/NCI_validation2_assembly/NCI_SAIC_HI...  HTMCP-03-06-02216"
      ]
     },
     "execution_count": 60,
     "metadata": {},
     "output_type": "execute_result"
    }
   ],
   "source": [
    "f1 = '/projects/trans_scratch/validations/workspace/szong/Cervical/fusion/124_patients/transcriptome_fusion_files.txt'\n",
    "df1 = pd.read_csv(f1, header=None)\n",
    "df1.head(2)\n",
    "\n",
    "df1[1] = df1[0].apply(lambda x:x.split('/')[5])\n",
    "df1.columns = ['fusion_file', 'pat']\n",
    "df1.head(2)"
   ]
  },
  {
   "cell_type": "code",
   "execution_count": 61,
   "metadata": {},
   "outputs": [
    {
     "data": {
      "text/html": [
       "<div>\n",
       "<style>\n",
       "    .dataframe thead tr:only-child th {\n",
       "        text-align: right;\n",
       "    }\n",
       "\n",
       "    .dataframe thead th {\n",
       "        text-align: left;\n",
       "    }\n",
       "\n",
       "    .dataframe tbody tr th {\n",
       "        vertical-align: top;\n",
       "    }\n",
       "</style>\n",
       "<table border=\"1\" class=\"dataframe\">\n",
       "  <thead>\n",
       "    <tr style=\"text-align: right;\">\n",
       "      <th></th>\n",
       "      <th>indel_file</th>\n",
       "      <th>pat</th>\n",
       "    </tr>\n",
       "  </thead>\n",
       "  <tbody>\n",
       "    <tr>\n",
       "      <th>0</th>\n",
       "      <td>/projects/NCI_validation2_assembly/NCI_SAIC_HI...</td>\n",
       "      <td>HTMCP-03-06-02001</td>\n",
       "    </tr>\n",
       "    <tr>\n",
       "      <th>1</th>\n",
       "      <td>/projects/NCI_validation2_assembly/NCI_SAIC_HI...</td>\n",
       "      <td>HTMCP-03-06-02216</td>\n",
       "    </tr>\n",
       "  </tbody>\n",
       "</table>\n",
       "</div>"
      ],
      "text/plain": [
       "                                          indel_file                pat\n",
       "0  /projects/NCI_validation2_assembly/NCI_SAIC_HI...  HTMCP-03-06-02001\n",
       "1  /projects/NCI_validation2_assembly/NCI_SAIC_HI...  HTMCP-03-06-02216"
      ]
     },
     "execution_count": 61,
     "metadata": {},
     "output_type": "execute_result"
    }
   ],
   "source": [
    "f2= '/projects/trans_scratch/validations/workspace/szong/Cervical/fusion/124_patients/transcriptome_indel_files.txt'\n",
    "df2= pd.read_csv(f2, header=None)\n",
    "df2.head(2)\n",
    "\n",
    "df2[1] = df2[0].apply(lambda x:x.split('/')[5])\n",
    "df2.columns = ['indel_file', 'pat']\n",
    "df2.head(2)"
   ]
  },
  {
   "cell_type": "code",
   "execution_count": 62,
   "metadata": {
    "collapsed": true
   },
   "outputs": [],
   "source": [
    "dfm = pd.merge(df1, df2, left_on='pat', right_on='pat', how='outer').set_index('pat')"
   ]
  },
  {
   "cell_type": "code",
   "execution_count": 63,
   "metadata": {},
   "outputs": [
    {
     "data": {
      "text/html": [
       "<div>\n",
       "<style>\n",
       "    .dataframe thead tr:only-child th {\n",
       "        text-align: right;\n",
       "    }\n",
       "\n",
       "    .dataframe thead th {\n",
       "        text-align: left;\n",
       "    }\n",
       "\n",
       "    .dataframe tbody tr th {\n",
       "        vertical-align: top;\n",
       "    }\n",
       "</style>\n",
       "<table border=\"1\" class=\"dataframe\">\n",
       "  <thead>\n",
       "    <tr style=\"text-align: right;\">\n",
       "      <th></th>\n",
       "      <th>fusion_file</th>\n",
       "      <th>indel_file</th>\n",
       "    </tr>\n",
       "    <tr>\n",
       "      <th>pat</th>\n",
       "      <th></th>\n",
       "      <th></th>\n",
       "    </tr>\n",
       "  </thead>\n",
       "  <tbody>\n",
       "    <tr>\n",
       "      <th>HTMCP-03-06-02001</th>\n",
       "      <td>/projects/NCI_validation2_assembly/NCI_SAIC_HI...</td>\n",
       "      <td>/projects/NCI_validation2_assembly/NCI_SAIC_HI...</td>\n",
       "    </tr>\n",
       "    <tr>\n",
       "      <th>HTMCP-03-06-02216</th>\n",
       "      <td>/projects/NCI_validation2_assembly/NCI_SAIC_HI...</td>\n",
       "      <td>/projects/NCI_validation2_assembly/NCI_SAIC_HI...</td>\n",
       "    </tr>\n",
       "  </tbody>\n",
       "</table>\n",
       "</div>"
      ],
      "text/plain": [
       "                                                         fusion_file  \\\n",
       "pat                                                                    \n",
       "HTMCP-03-06-02001  /projects/NCI_validation2_assembly/NCI_SAIC_HI...   \n",
       "HTMCP-03-06-02216  /projects/NCI_validation2_assembly/NCI_SAIC_HI...   \n",
       "\n",
       "                                                          indel_file  \n",
       "pat                                                                   \n",
       "HTMCP-03-06-02001  /projects/NCI_validation2_assembly/NCI_SAIC_HI...  \n",
       "HTMCP-03-06-02216  /projects/NCI_validation2_assembly/NCI_SAIC_HI...  "
      ]
     },
     "execution_count": 63,
     "metadata": {},
     "output_type": "execute_result"
    }
   ],
   "source": [
    "dfm.head(2)"
   ]
  },
  {
   "cell_type": "code",
   "execution_count": 64,
   "metadata": {
    "collapsed": true
   },
   "outputs": [],
   "source": [
    "dfm = dfm.fillna('/projects/trans_scratch/validations/workspace/szong/Cervical/fusion/124_patients/fake.txt')"
   ]
  },
  {
   "cell_type": "code",
   "execution_count": 65,
   "metadata": {
    "collapsed": true
   },
   "outputs": [],
   "source": [
    "def file_len(fname):\n",
    "    with open(fname) as f:\n",
    "        for i, l in enumerate(f):\n",
    "            pass\n",
    "    return i + 1"
   ]
  },
  {
   "cell_type": "code",
   "execution_count": 66,
   "metadata": {
    "collapsed": true
   },
   "outputs": [],
   "source": [
    "count = len(open(f2).readlines(  ))"
   ]
  },
  {
   "cell_type": "code",
   "execution_count": 67,
   "metadata": {
    "collapsed": true
   },
   "outputs": [],
   "source": [
    "def count_events(df):\n",
    "    lst = []\n",
    "    for idx, row in dfm.iterrows():\n",
    "        fusion_file = row['fusion_file']\n",
    "        indel_file = row['indel_file']\n",
    "    #     print(fusion_file, indel_file)\n",
    "        fusion_count = len(open(fusion_file).readlines()) -1 # exclude header\n",
    "        indel_count = len(open(indel_file).readlines()) -1\n",
    "        lst.append([idx, fusion_count, indel_count])\n",
    "    df = pd.DataFrame(lst)\n",
    "    df.columns = ['patient', 'fusion_count', 'indel_count']\n",
    "    return df"
   ]
  },
  {
   "cell_type": "code",
   "execution_count": 68,
   "metadata": {
    "collapsed": true
   },
   "outputs": [],
   "source": [
    "df_count = count_events(dfm)"
   ]
  },
  {
   "cell_type": "code",
   "execution_count": 69,
   "metadata": {},
   "outputs": [
    {
     "data": {
      "text/html": [
       "<div>\n",
       "<style>\n",
       "    .dataframe thead tr:only-child th {\n",
       "        text-align: right;\n",
       "    }\n",
       "\n",
       "    .dataframe thead th {\n",
       "        text-align: left;\n",
       "    }\n",
       "\n",
       "    .dataframe tbody tr th {\n",
       "        vertical-align: top;\n",
       "    }\n",
       "</style>\n",
       "<table border=\"1\" class=\"dataframe\">\n",
       "  <thead>\n",
       "    <tr style=\"text-align: right;\">\n",
       "      <th></th>\n",
       "      <th>patient</th>\n",
       "      <th>fusion_count</th>\n",
       "      <th>indel_count</th>\n",
       "    </tr>\n",
       "  </thead>\n",
       "  <tbody>\n",
       "    <tr>\n",
       "      <th>0</th>\n",
       "      <td>HTMCP-03-06-02001</td>\n",
       "      <td>3</td>\n",
       "      <td>31</td>\n",
       "    </tr>\n",
       "    <tr>\n",
       "      <th>1</th>\n",
       "      <td>HTMCP-03-06-02216</td>\n",
       "      <td>1</td>\n",
       "      <td>59</td>\n",
       "    </tr>\n",
       "  </tbody>\n",
       "</table>\n",
       "</div>"
      ],
      "text/plain": [
       "             patient  fusion_count  indel_count\n",
       "0  HTMCP-03-06-02001             3           31\n",
       "1  HTMCP-03-06-02216             1           59"
      ]
     },
     "execution_count": 69,
     "metadata": {},
     "output_type": "execute_result"
    }
   ],
   "source": [
    "df_count.head(2)"
   ]
  },
  {
   "cell_type": "code",
   "execution_count": 70,
   "metadata": {},
   "outputs": [
    {
     "data": {
      "text/html": [
       "<div>\n",
       "<style>\n",
       "    .dataframe thead tr:only-child th {\n",
       "        text-align: right;\n",
       "    }\n",
       "\n",
       "    .dataframe thead th {\n",
       "        text-align: left;\n",
       "    }\n",
       "\n",
       "    .dataframe tbody tr th {\n",
       "        vertical-align: top;\n",
       "    }\n",
       "</style>\n",
       "<table border=\"1\" class=\"dataframe\">\n",
       "  <thead>\n",
       "    <tr style=\"text-align: right;\">\n",
       "      <th></th>\n",
       "      <th>HIV_status</th>\n",
       "      <th>Putative_histology</th>\n",
       "    </tr>\n",
       "    <tr>\n",
       "      <th>patient</th>\n",
       "      <th></th>\n",
       "      <th></th>\n",
       "    </tr>\n",
       "  </thead>\n",
       "  <tbody>\n",
       "    <tr>\n",
       "      <th>HTMCP-03-06-02001</th>\n",
       "      <td>Positive</td>\n",
       "      <td>Squamous</td>\n",
       "    </tr>\n",
       "    <tr>\n",
       "      <th>HTMCP-03-06-02002</th>\n",
       "      <td>Negative</td>\n",
       "      <td>Squamous</td>\n",
       "    </tr>\n",
       "  </tbody>\n",
       "</table>\n",
       "</div>"
      ],
      "text/plain": [
       "                  HIV_status Putative_histology\n",
       "patient                                        \n",
       "HTMCP-03-06-02001   Positive           Squamous\n",
       "HTMCP-03-06-02002   Negative           Squamous"
      ]
     },
     "execution_count": 70,
     "metadata": {},
     "output_type": "execute_result"
    }
   ],
   "source": [
    "f =  '/projects/trans_scratch/validations/workspace/szong/Cervical/variant_bwamem/124_patients/mutation_load_clinic.txt'\n",
    "df3 = pd.read_csv(f, index_col='patient', usecols=['patient', 'HIV_status', 'Putative_histology'], sep='\\t')\n",
    "df3.head(2)"
   ]
  },
  {
   "cell_type": "code",
   "execution_count": 71,
   "metadata": {},
   "outputs": [
    {
     "data": {
      "text/plain": [
       "(123, 2)"
      ]
     },
     "execution_count": 71,
     "metadata": {},
     "output_type": "execute_result"
    }
   ],
   "source": [
    "df3.shape"
   ]
  },
  {
   "cell_type": "code",
   "execution_count": 74,
   "metadata": {
    "collapsed": true
   },
   "outputs": [],
   "source": [
    "ndf = pd.merge(df_count, df3, left_on='patient', right_index=True)"
   ]
  },
  {
   "cell_type": "code",
   "execution_count": 75,
   "metadata": {
    "collapsed": true
   },
   "outputs": [],
   "source": [
    "ndf['sv_counts'] = ndf.fusion_count + ndf.indel_count"
   ]
  },
  {
   "cell_type": "code",
   "execution_count": 81,
   "metadata": {},
   "outputs": [
    {
     "data": {
      "text/html": [
       "<div>\n",
       "<style>\n",
       "    .dataframe thead tr:only-child th {\n",
       "        text-align: right;\n",
       "    }\n",
       "\n",
       "    .dataframe thead th {\n",
       "        text-align: left;\n",
       "    }\n",
       "\n",
       "    .dataframe tbody tr th {\n",
       "        vertical-align: top;\n",
       "    }\n",
       "</style>\n",
       "<table border=\"1\" class=\"dataframe\">\n",
       "  <thead>\n",
       "    <tr style=\"text-align: right;\">\n",
       "      <th></th>\n",
       "      <th>patient</th>\n",
       "      <th>fusion_count</th>\n",
       "      <th>indel_count</th>\n",
       "      <th>HIV_status</th>\n",
       "      <th>Putative_histology</th>\n",
       "      <th>sv_counts</th>\n",
       "    </tr>\n",
       "  </thead>\n",
       "  <tbody>\n",
       "    <tr>\n",
       "      <th>0</th>\n",
       "      <td>HTMCP-03-06-02001</td>\n",
       "      <td>3</td>\n",
       "      <td>31</td>\n",
       "      <td>Positive</td>\n",
       "      <td>Squamous</td>\n",
       "      <td>34</td>\n",
       "    </tr>\n",
       "    <tr>\n",
       "      <th>1</th>\n",
       "      <td>HTMCP-03-06-02216</td>\n",
       "      <td>1</td>\n",
       "      <td>59</td>\n",
       "      <td>Positive</td>\n",
       "      <td>Squamous</td>\n",
       "      <td>60</td>\n",
       "    </tr>\n",
       "  </tbody>\n",
       "</table>\n",
       "</div>"
      ],
      "text/plain": [
       "             patient  fusion_count  indel_count HIV_status Putative_histology  \\\n",
       "0  HTMCP-03-06-02001             3           31   Positive           Squamous   \n",
       "1  HTMCP-03-06-02216             1           59   Positive           Squamous   \n",
       "\n",
       "   sv_counts  \n",
       "0         34  \n",
       "1         60  "
      ]
     },
     "execution_count": 81,
     "metadata": {},
     "output_type": "execute_result"
    }
   ],
   "source": [
    "ndf.head(2)"
   ]
  },
  {
   "cell_type": "code",
   "execution_count": 93,
   "metadata": {},
   "outputs": [
    {
     "data": {
      "text/plain": [
       "(11, 6)"
      ]
     },
     "execution_count": 93,
     "metadata": {},
     "output_type": "execute_result"
    }
   ],
   "source": [
    "ndf.query('HIV_status == \"Negative\"').shape"
   ]
  },
  {
   "cell_type": "code",
   "execution_count": 94,
   "metadata": {},
   "outputs": [
    {
     "data": {
      "image/png": "[encoded data removed]",
      "text/plain": [
       "<matplotlib.figure.Figure at 0x7f810d365eb8>"
      ]
     },
     "metadata": {},
     "output_type": "display_data"
    }
   ],
   "source": [
    "group_col = 'HIV_status'\n",
    "value_cols = ['sv_counts']\n",
    "titles = value_cols\n",
    "df = ndf.copy()\n",
    "# gene = 'SF3B1'\n",
    "# boxplot overlaps individual data point\n",
    "with plt.style.context(\"seaborn-whitegrid\"):\n",
    "    plt.rcParams[\"axes.edgecolor\"] = \"0.15\"\n",
    "    plt.rcParams[\"axes.linewidth\"]  = 1.25\n",
    "    fig = plt.figure(facecolor='w', figsize=(10,4))\n",
    "\n",
    "    gs = gridspec.GridSpec(int(len(value_cols)/3.0)+1, 2)\n",
    "    group_col = 'HIV_status'\n",
    "    categories = sorted(df[group_col].unique().tolist(), reverse=True) \n",
    "    p_values = {}\n",
    "    for k, col in enumerate(value_cols):\n",
    "#         print(k, col)\n",
    "        ax = fig.add_subplot(gs[k])\n",
    "#         _ = ax.set_yscale(\"log\")\n",
    "        value_col = col\n",
    "        _ = sns.swarmplot(x=group_col, y=col, data=df, edgecolor=\"black\", linewidth=.9)\n",
    "        _ = sns.boxplot(x=group_col, y=col, data=df, saturation=1, ax=ax)\n",
    "\n",
    "        grps = {}\n",
    "        # overlay actuall data point\n",
    "        for i, cat in enumerate(categories):\n",
    "            grps[i] = df.query('{0} == \"{1}\"'.format(group_col, cat))[col]\n",
    "\n",
    "        \n",
    "        # statistical test for 1st grp\n",
    "        sts, p = ss.mannwhitneyu(grps[0], grps[1], use_continuity=True, alternative=None)\n",
    "        p = round(p, 4)\n",
    "        _ = ax.text(0.6, 0.80,'p={}'.format(p), ha='center', va='center', transform=ax.transAxes, size=14) \n",
    "#         ax.tick_params(axis='x', labelsize=18) #specify x tick label size\n",
    "#         _ = ax.set_xticks(range(position+1))\n",
    "#         _ = ax.set_xticklabels(categories, rotation=0)\n",
    "        _ = ax.set_title('{}'.format(titles[k]), fontsize=12)\n",
    "#         _ = ax.set_xlim(xmin=-0.5)\n",
    "#         _= ax.set_ylabel('spicing events', fontsize=12)\n",
    "        ax.set_xlabel('')\n",
    "        ax.set_ylabel('number_SVs')\n",
    "        ax.grid(True)\n",
    "\n",
    "    plt.suptitle('', fontsize=14)       \n",
    "    of = '/projects/trans_scratch/validations/workspace/szong/Cervical/fusion/124_patients/sv_difference.png'\n",
    "    plt.savefig(of, dpi=200, box_inches='tight')\n",
    "plt.show()\n",
    "plt.close()"
   ]
  }
 ],
 "metadata": {
  "kernelspec": {
   "display_name": "Python 3",
   "language": "python",
   "name": "python3"
  },
  "language_info": {
   "codemirror_mode": {
    "name": "ipython",
    "version": 3
   },
   "file_extension": ".py",
   "mimetype": "text/x-python",
   "name": "python",
   "nbconvert_exporter": "python",
   "pygments_lexer": "ipython3",
   "version": "3.6.4"
  }
 },
 "nbformat": 4,
 "nbformat_minor": 2
}
